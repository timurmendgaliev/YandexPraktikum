{
 "cells": [
  {
   "cell_type": "markdown",
   "metadata": {
    "id": "E0vqbgi9ay0H"
   },
   "source": [
    "# Яндекс.Музыка"
   ]
  },
  {
   "cell_type": "markdown",
   "metadata": {
    "id": "VUC88oWjTJw2"
   },
   "source": [
    "Сравнение Москвы и Петербурга окружено мифами. Например:\n",
    " * Москва — мегаполис, подчинённый жёсткому ритму рабочей недели;\n",
    " * Петербург — культурная столица, со своими вкусами.\n",
    "\n",
    "На данных Яндекс.Музыки сравним поведение пользователей двух столиц.\n",
    "\n",
    "**Цель исследования** — проверка трех гипотез:\n",
    "1. Активность пользователей зависит от дня недели. Причём в Москве и Петербурге это проявляется по-разному.\n",
    "2. В понедельник утром в Москве преобладают одни жанры, а в Петербурге — другие. Так же и вечером пятницы преобладают разные жанры — в зависимости от города. \n",
    "3. Москва и Петербург предпочитают разные жанры музыки. В Москве чаще слушают поп-музыку, в Петербурге — русский рэп.\n",
    "\n",
    "**Ход исследования**\n",
    "\n",
    "Данные о поведении пользователей получим из файла `yandex_music_project.csv`. О качестве данных ничего не известно. Поэтому перед проверкой гипотез понадобится обзор данных. \n",
    "\n",
    "Проверим данные на ошибки и оцените их влияние на исследование. Затем, на этапе предобработки изучим возможность исправить самые критичные ошибки данных.\n",
    " \n",
    "Таким образом, исследование пройдёт в три этапа:\n",
    " 1. Обзор данных.\n",
    " 2. Предобработка данных.\n",
    " 3. Проверка гипотез.\n",
    "\n"
   ]
  },
  {
   "cell_type": "markdown",
   "metadata": {
    "toc": true
   },
   "source": [
    "<h1>Оглавление<span class=\"tocSkip\"></span></h1>\n",
    "<div class=\"toc\"><ul class=\"toc-item\"><li><span><a href=\"#Обзор-данных\" data-toc-modified-id=\"Обзор-данных-1\"><span class=\"toc-item-num\">1&nbsp;&nbsp;</span>Обзор данных</a></span></li><li><span><a href=\"#Предобработка-данных\" data-toc-modified-id=\"Предобработка-данных-2\"><span class=\"toc-item-num\">2&nbsp;&nbsp;</span>Предобработка данных</a></span><ul class=\"toc-item\"><li><span><a href=\"#Стиль-заголовков\" data-toc-modified-id=\"Стиль-заголовков-2.1\"><span class=\"toc-item-num\">2.1&nbsp;&nbsp;</span>Стиль заголовков</a></span></li><li><span><a href=\"#Пропуски-значений\" data-toc-modified-id=\"Пропуски-значений-2.2\"><span class=\"toc-item-num\">2.2&nbsp;&nbsp;</span>Пропуски значений</a></span></li><li><span><a href=\"#Дубликаты\" data-toc-modified-id=\"Дубликаты-2.3\"><span class=\"toc-item-num\">2.3&nbsp;&nbsp;</span>Дубликаты</a></span></li></ul></li><li><span><a href=\"#Проверка-гипотез\" data-toc-modified-id=\"Проверка-гипотез-3\"><span class=\"toc-item-num\">3&nbsp;&nbsp;</span>Проверка гипотез</a></span><ul class=\"toc-item\"><li><span><a href=\"#Сравнение-поведения-пользователей-двух-столиц\" data-toc-modified-id=\"Сравнение-поведения-пользователей-двух-столиц-3.1\"><span class=\"toc-item-num\">3.1&nbsp;&nbsp;</span>Сравнение поведения пользователей двух столиц</a></span></li><li><span><a href=\"#Музыка-в-начале-и-в-конце-недели\" data-toc-modified-id=\"Музыка-в-начале-и-в-конце-недели-3.2\"><span class=\"toc-item-num\">3.2&nbsp;&nbsp;</span>Музыка в начале и в конце недели</a></span></li><li><span><a href=\"#Жанровые-предпочтения-в-Москве-и-Петербурге\" data-toc-modified-id=\"Жанровые-предпочтения-в-Москве-и-Петербурге-3.3\"><span class=\"toc-item-num\">3.3&nbsp;&nbsp;</span>Жанровые предпочтения в Москве и Петербурге</a></span></li></ul></li><li><span><a href=\"#Итоги-исследования\" data-toc-modified-id=\"Итоги-исследования-4\"><span class=\"toc-item-num\">4&nbsp;&nbsp;</span>Итоги исследования</a></span></li></ul></div>"
   ]
  },
  {
   "cell_type": "markdown",
   "metadata": {
    "id": "Ml1hmfXC_Zcs"
   },
   "source": [
    "## Обзор данных\n",
    "\n",
    "Составим первое представление о данных Яндекс.Музыки.\n",
    "\n",
    "\n"
   ]
  },
  {
   "cell_type": "code",
   "execution_count": 1,
   "metadata": {
    "id": "AXN7PHPN_Zcs"
   },
   "outputs": [],
   "source": [
    "import pandas as pd"
   ]
  },
  {
   "cell_type": "code",
   "execution_count": 2,
   "metadata": {
    "id": "fFVu7vqh_Zct"
   },
   "outputs": [],
   "source": [
    "df = pd.read_csv('/datasets/yandex_music_project.csv')"
   ]
  },
  {
   "cell_type": "markdown",
   "metadata": {
    "id": "rDoOMd3uTqnZ"
   },
   "source": [
    "Выведем на экран первые десять строк таблицы:"
   ]
  },
  {
   "cell_type": "code",
   "execution_count": 3,
   "metadata": {
    "id": "oWTVX3gW_Zct"
   },
   "outputs": [
    {
     "data": {
      "text/html": [
       "<div>\n",
       "<style scoped>\n",
       "    .dataframe tbody tr th:only-of-type {\n",
       "        vertical-align: middle;\n",
       "    }\n",
       "\n",
       "    .dataframe tbody tr th {\n",
       "        vertical-align: top;\n",
       "    }\n",
       "\n",
       "    .dataframe thead th {\n",
       "        text-align: right;\n",
       "    }\n",
       "</style>\n",
       "<table border=\"1\" class=\"dataframe\">\n",
       "  <thead>\n",
       "    <tr style=\"text-align: right;\">\n",
       "      <th></th>\n",
       "      <th>userID</th>\n",
       "      <th>Track</th>\n",
       "      <th>artist</th>\n",
       "      <th>genre</th>\n",
       "      <th>City</th>\n",
       "      <th>time</th>\n",
       "      <th>Day</th>\n",
       "    </tr>\n",
       "  </thead>\n",
       "  <tbody>\n",
       "    <tr>\n",
       "      <td>0</td>\n",
       "      <td>FFB692EC</td>\n",
       "      <td>Kamigata To Boots</td>\n",
       "      <td>The Mass Missile</td>\n",
       "      <td>rock</td>\n",
       "      <td>Saint-Petersburg</td>\n",
       "      <td>20:28:33</td>\n",
       "      <td>Wednesday</td>\n",
       "    </tr>\n",
       "    <tr>\n",
       "      <td>1</td>\n",
       "      <td>55204538</td>\n",
       "      <td>Delayed Because of Accident</td>\n",
       "      <td>Andreas Rönnberg</td>\n",
       "      <td>rock</td>\n",
       "      <td>Moscow</td>\n",
       "      <td>14:07:09</td>\n",
       "      <td>Friday</td>\n",
       "    </tr>\n",
       "    <tr>\n",
       "      <td>2</td>\n",
       "      <td>20EC38</td>\n",
       "      <td>Funiculì funiculà</td>\n",
       "      <td>Mario Lanza</td>\n",
       "      <td>pop</td>\n",
       "      <td>Saint-Petersburg</td>\n",
       "      <td>20:58:07</td>\n",
       "      <td>Wednesday</td>\n",
       "    </tr>\n",
       "    <tr>\n",
       "      <td>3</td>\n",
       "      <td>A3DD03C9</td>\n",
       "      <td>Dragons in the Sunset</td>\n",
       "      <td>Fire + Ice</td>\n",
       "      <td>folk</td>\n",
       "      <td>Saint-Petersburg</td>\n",
       "      <td>08:37:09</td>\n",
       "      <td>Monday</td>\n",
       "    </tr>\n",
       "    <tr>\n",
       "      <td>4</td>\n",
       "      <td>E2DC1FAE</td>\n",
       "      <td>Soul People</td>\n",
       "      <td>Space Echo</td>\n",
       "      <td>dance</td>\n",
       "      <td>Moscow</td>\n",
       "      <td>08:34:34</td>\n",
       "      <td>Monday</td>\n",
       "    </tr>\n",
       "    <tr>\n",
       "      <td>5</td>\n",
       "      <td>842029A1</td>\n",
       "      <td>Преданная</td>\n",
       "      <td>IMPERVTOR</td>\n",
       "      <td>rusrap</td>\n",
       "      <td>Saint-Petersburg</td>\n",
       "      <td>13:09:41</td>\n",
       "      <td>Friday</td>\n",
       "    </tr>\n",
       "    <tr>\n",
       "      <td>6</td>\n",
       "      <td>4CB90AA5</td>\n",
       "      <td>True</td>\n",
       "      <td>Roman Messer</td>\n",
       "      <td>dance</td>\n",
       "      <td>Moscow</td>\n",
       "      <td>13:00:07</td>\n",
       "      <td>Wednesday</td>\n",
       "    </tr>\n",
       "    <tr>\n",
       "      <td>7</td>\n",
       "      <td>F03E1C1F</td>\n",
       "      <td>Feeling This Way</td>\n",
       "      <td>Polina Griffith</td>\n",
       "      <td>dance</td>\n",
       "      <td>Moscow</td>\n",
       "      <td>20:47:49</td>\n",
       "      <td>Wednesday</td>\n",
       "    </tr>\n",
       "    <tr>\n",
       "      <td>8</td>\n",
       "      <td>8FA1D3BE</td>\n",
       "      <td>И вновь продолжается бой</td>\n",
       "      <td>NaN</td>\n",
       "      <td>ruspop</td>\n",
       "      <td>Moscow</td>\n",
       "      <td>09:17:40</td>\n",
       "      <td>Friday</td>\n",
       "    </tr>\n",
       "    <tr>\n",
       "      <td>9</td>\n",
       "      <td>E772D5C0</td>\n",
       "      <td>Pessimist</td>\n",
       "      <td>NaN</td>\n",
       "      <td>dance</td>\n",
       "      <td>Saint-Petersburg</td>\n",
       "      <td>21:20:49</td>\n",
       "      <td>Wednesday</td>\n",
       "    </tr>\n",
       "  </tbody>\n",
       "</table>\n",
       "</div>"
      ],
      "text/plain": [
       "     userID                        Track            artist   genre  \\\n",
       "0  FFB692EC            Kamigata To Boots  The Mass Missile    rock   \n",
       "1  55204538  Delayed Because of Accident  Andreas Rönnberg    rock   \n",
       "2    20EC38            Funiculì funiculà       Mario Lanza     pop   \n",
       "3  A3DD03C9        Dragons in the Sunset        Fire + Ice    folk   \n",
       "4  E2DC1FAE                  Soul People        Space Echo   dance   \n",
       "5  842029A1                    Преданная         IMPERVTOR  rusrap   \n",
       "6  4CB90AA5                         True      Roman Messer   dance   \n",
       "7  F03E1C1F             Feeling This Way   Polina Griffith   dance   \n",
       "8  8FA1D3BE     И вновь продолжается бой               NaN  ruspop   \n",
       "9  E772D5C0                    Pessimist               NaN   dance   \n",
       "\n",
       "             City        time        Day  \n",
       "0  Saint-Petersburg  20:28:33  Wednesday  \n",
       "1            Moscow  14:07:09     Friday  \n",
       "2  Saint-Petersburg  20:58:07  Wednesday  \n",
       "3  Saint-Petersburg  08:37:09     Monday  \n",
       "4            Moscow  08:34:34     Monday  \n",
       "5  Saint-Petersburg  13:09:41     Friday  \n",
       "6            Moscow  13:00:07  Wednesday  \n",
       "7            Moscow  20:47:49  Wednesday  \n",
       "8            Moscow  09:17:40     Friday  \n",
       "9  Saint-Petersburg  21:20:49  Wednesday  "
      ]
     },
     "execution_count": 3,
     "metadata": {},
     "output_type": "execute_result"
    }
   ],
   "source": [
    "df.head(10)"
   ]
  },
  {
   "cell_type": "markdown",
   "metadata": {
    "id": "EO73Kwic_Zct"
   },
   "source": [
    "Получим общую информацию о таблице:"
   ]
  },
  {
   "cell_type": "code",
   "execution_count": 4,
   "metadata": {
    "id": "DSf2kIb-_Zct"
   },
   "outputs": [
    {
     "name": "stdout",
     "output_type": "stream",
     "text": [
      "<class 'pandas.core.frame.DataFrame'>\n",
      "RangeIndex: 65079 entries, 0 to 65078\n",
      "Data columns (total 7 columns):\n",
      "  userID    65079 non-null object\n",
      "Track       63848 non-null object\n",
      "artist      57876 non-null object\n",
      "genre       63881 non-null object\n",
      "  City      65079 non-null object\n",
      "time        65079 non-null object\n",
      "Day         65079 non-null object\n",
      "dtypes: object(7)\n",
      "memory usage: 3.5+ MB\n"
     ]
    }
   ],
   "source": [
    "df.info()"
   ]
  },
  {
   "cell_type": "markdown",
   "metadata": {
    "id": "TaQ2Iwbr_Zct"
   },
   "source": [
    "Итак, в таблице семь столбцов. Тип данных во всех столбцах — `object`.\n",
    "\n",
    "Согласно документации к данным:\n",
    "* `userID` — идентификатор пользователя;\n",
    "* `Track` — название трека;  \n",
    "* `artist` — имя исполнителя;\n",
    "* `genre` — название жанра;\n",
    "* `City` — город пользователя;\n",
    "* `time` — время начала прослушивания;\n",
    "* `Day` — день недели.\n",
    "\n",
    "В названиях колонок видны три нарушения стиля:\n",
    "1. Строчные буквы сочетаются с прописными.\n",
    "2. Встречаются пробелы.\n",
    "3. Отсутствие 'змеиного регистра' в названии столбца `userID`\n",
    "\n",
    "\n",
    "\n",
    "Количество значений в столбцах различается. Значит, в данных есть пропущенные значения.\n"
   ]
  },
  {
   "cell_type": "markdown",
   "metadata": {
    "id": "MCB6-dXG_Zct"
   },
   "source": [
    "**Выводы**\n",
    "\n",
    "В каждой строке таблицы — данные о прослушанном треке. Часть колонок описывает саму композицию: название, исполнителя и жанр. Остальные данные рассказывают о пользователе: из какого он города, когда он слушал музыку. \n",
    "\n",
    "Предварительно можно утверждать, что, данных достаточно для проверки гипотез. Но встречаются пропуски в данных, а в названиях колонок — расхождения с хорошим стилем.\n",
    "\n",
    "Чтобы двигаться дальше, нужно устранить проблемы в данных."
   ]
  },
  {
   "cell_type": "markdown",
   "metadata": {
    "id": "SjYF6Ub9_Zct"
   },
   "source": [
    "## Предобработка данных\n",
    "Исправим стиль в заголовках столбцов, исключим пропуски. Затем проверим данные на дубликаты."
   ]
  },
  {
   "cell_type": "markdown",
   "metadata": {
    "id": "dIaKXr29_Zct"
   },
   "source": [
    "### Стиль заголовков\n",
    "Выведем на экран названия столбцов:"
   ]
  },
  {
   "cell_type": "code",
   "execution_count": 5,
   "metadata": {
    "id": "oKOTdF_Q_Zct"
   },
   "outputs": [
    {
     "data": {
      "text/plain": [
       "Index(['  userID', 'Track', 'artist', 'genre', '  City  ', 'time', 'Day'], dtype='object')"
      ]
     },
     "execution_count": 5,
     "metadata": {},
     "output_type": "execute_result"
    }
   ],
   "source": [
    "df.columns"
   ]
  },
  {
   "cell_type": "markdown",
   "metadata": {
    "id": "zj5534cv_Zct"
   },
   "source": [
    "Приведите названия в соответствие с хорошим стилем:"
   ]
  },
  {
   "cell_type": "code",
   "execution_count": 6,
   "metadata": {
    "id": "ISlFqs5y_Zct"
   },
   "outputs": [],
   "source": [
    "df = df.rename(columns={'  userID': 'user_id',\n",
    "                        'Track': 'track',\n",
    "                        '  City  ': 'city',\n",
    "                        'Day': 'day'})"
   ]
  },
  {
   "cell_type": "markdown",
   "metadata": {
    "id": "1dqbh00J_Zct"
   },
   "source": [
    "Проверим результат:"
   ]
  },
  {
   "cell_type": "code",
   "execution_count": 7,
   "metadata": {
    "id": "d4NOAmTW_Zct"
   },
   "outputs": [
    {
     "data": {
      "text/plain": [
       "Index(['user_id', 'track', 'artist', 'genre', 'city', 'time', 'day'], dtype='object')"
      ]
     },
     "execution_count": 7,
     "metadata": {},
     "output_type": "execute_result"
    }
   ],
   "source": [
    "df.columns"
   ]
  },
  {
   "cell_type": "markdown",
   "metadata": {
    "id": "5ISfbcfY_Zct"
   },
   "source": [
    "### Пропуски значений\n",
    "Пропущенные значения:"
   ]
  },
  {
   "cell_type": "code",
   "execution_count": 8,
   "metadata": {
    "id": "RskX29qr_Zct"
   },
   "outputs": [
    {
     "data": {
      "text/html": [
       "<div>\n",
       "<style scoped>\n",
       "    .dataframe tbody tr th:only-of-type {\n",
       "        vertical-align: middle;\n",
       "    }\n",
       "\n",
       "    .dataframe tbody tr th {\n",
       "        vertical-align: top;\n",
       "    }\n",
       "\n",
       "    .dataframe thead th {\n",
       "        text-align: right;\n",
       "    }\n",
       "</style>\n",
       "<table border=\"1\" class=\"dataframe\">\n",
       "  <thead>\n",
       "    <tr style=\"text-align: right;\">\n",
       "      <th></th>\n",
       "      <th>missed_values</th>\n",
       "    </tr>\n",
       "  </thead>\n",
       "  <tbody>\n",
       "    <tr>\n",
       "      <td>user_id</td>\n",
       "      <td>0</td>\n",
       "    </tr>\n",
       "    <tr>\n",
       "      <td>track</td>\n",
       "      <td>1231</td>\n",
       "    </tr>\n",
       "    <tr>\n",
       "      <td>artist</td>\n",
       "      <td>7203</td>\n",
       "    </tr>\n",
       "    <tr>\n",
       "      <td>genre</td>\n",
       "      <td>1198</td>\n",
       "    </tr>\n",
       "    <tr>\n",
       "      <td>city</td>\n",
       "      <td>0</td>\n",
       "    </tr>\n",
       "    <tr>\n",
       "      <td>time</td>\n",
       "      <td>0</td>\n",
       "    </tr>\n",
       "    <tr>\n",
       "      <td>day</td>\n",
       "      <td>0</td>\n",
       "    </tr>\n",
       "  </tbody>\n",
       "</table>\n",
       "</div>"
      ],
      "text/plain": [
       "         missed_values\n",
       "user_id              0\n",
       "track             1231\n",
       "artist            7203\n",
       "genre             1198\n",
       "city                 0\n",
       "time                 0\n",
       "day                  0"
      ]
     },
     "execution_count": 8,
     "metadata": {},
     "output_type": "execute_result"
    }
   ],
   "source": [
    "df.isna().sum().to_frame(name='missed_values')"
   ]
  },
  {
   "cell_type": "markdown",
   "metadata": {
    "id": "qubhgnlO_Zct"
   },
   "source": [
    "Не все пропущенные значения влияют на исследование. Так в `track` и `artist` пропуски не важны для работы. Достаточно заменить их явными обозначениями.\n",
    "\n",
    "Но пропуски в `genre` могут помешать сравнению музыкальных вкусов в Москве и Санкт-Петербурге.\n",
    "\n",
    "Выполним следующие действия:\n",
    "* заполним и эти пропуски явными обозначениями,\n",
    "* оценим, насколько они повредят расчётам. "
   ]
  },
  {
   "cell_type": "markdown",
   "metadata": {
    "id": "fSv2laPA_Zct"
   },
   "source": [
    "Заменим пропущенные значения в столбцах `track`, `artist` и `genre` на строку `'unknown'`."
   ]
  },
  {
   "cell_type": "code",
   "execution_count": 9,
   "metadata": {
    "id": "KplB5qWs_Zct"
   },
   "outputs": [],
   "source": [
    "columns_to_replace = ['track', 'artist', 'genre']\n",
    "for col in columns_to_replace:\n",
    "    df[col] = df[col].fillna('unknown') "
   ]
  },
  {
   "cell_type": "markdown",
   "metadata": {
    "id": "Ilsm-MZo_Zct"
   },
   "source": [
    "Убедимся в отсутствии пропущенных значений:"
   ]
  },
  {
   "cell_type": "code",
   "execution_count": 10,
   "metadata": {
    "id": "Tq4nYRX4_Zct"
   },
   "outputs": [
    {
     "data": {
      "text/html": [
       "<div>\n",
       "<style scoped>\n",
       "    .dataframe tbody tr th:only-of-type {\n",
       "        vertical-align: middle;\n",
       "    }\n",
       "\n",
       "    .dataframe tbody tr th {\n",
       "        vertical-align: top;\n",
       "    }\n",
       "\n",
       "    .dataframe thead th {\n",
       "        text-align: right;\n",
       "    }\n",
       "</style>\n",
       "<table border=\"1\" class=\"dataframe\">\n",
       "  <thead>\n",
       "    <tr style=\"text-align: right;\">\n",
       "      <th></th>\n",
       "      <th>missed_values</th>\n",
       "    </tr>\n",
       "  </thead>\n",
       "  <tbody>\n",
       "    <tr>\n",
       "      <td>user_id</td>\n",
       "      <td>0</td>\n",
       "    </tr>\n",
       "    <tr>\n",
       "      <td>track</td>\n",
       "      <td>0</td>\n",
       "    </tr>\n",
       "    <tr>\n",
       "      <td>artist</td>\n",
       "      <td>0</td>\n",
       "    </tr>\n",
       "    <tr>\n",
       "      <td>genre</td>\n",
       "      <td>0</td>\n",
       "    </tr>\n",
       "    <tr>\n",
       "      <td>city</td>\n",
       "      <td>0</td>\n",
       "    </tr>\n",
       "    <tr>\n",
       "      <td>time</td>\n",
       "      <td>0</td>\n",
       "    </tr>\n",
       "    <tr>\n",
       "      <td>day</td>\n",
       "      <td>0</td>\n",
       "    </tr>\n",
       "  </tbody>\n",
       "</table>\n",
       "</div>"
      ],
      "text/plain": [
       "         missed_values\n",
       "user_id              0\n",
       "track                0\n",
       "artist               0\n",
       "genre                0\n",
       "city                 0\n",
       "time                 0\n",
       "day                  0"
      ]
     },
     "execution_count": 10,
     "metadata": {},
     "output_type": "execute_result"
    }
   ],
   "source": [
    "df.isna().sum().to_frame(name='missed_values')"
   ]
  },
  {
   "cell_type": "markdown",
   "metadata": {
    "id": "BWKRtBJ3_Zct"
   },
   "source": [
    "### Дубликаты\n",
    "Рассчитаем явные дубликаты:"
   ]
  },
  {
   "cell_type": "code",
   "execution_count": 11,
   "metadata": {
    "id": "36eES_S0_Zct"
   },
   "outputs": [
    {
     "data": {
      "text/html": [
       "<div>\n",
       "<style scoped>\n",
       "    .dataframe tbody tr th:only-of-type {\n",
       "        vertical-align: middle;\n",
       "    }\n",
       "\n",
       "    .dataframe tbody tr th {\n",
       "        vertical-align: top;\n",
       "    }\n",
       "\n",
       "    .dataframe thead th {\n",
       "        text-align: right;\n",
       "    }\n",
       "</style>\n",
       "<table border=\"1\" class=\"dataframe\">\n",
       "  <thead>\n",
       "    <tr style=\"text-align: right;\">\n",
       "      <th></th>\n",
       "      <th>user_id</th>\n",
       "      <th>track</th>\n",
       "      <th>artist</th>\n",
       "      <th>genre</th>\n",
       "      <th>city</th>\n",
       "      <th>time</th>\n",
       "      <th>day</th>\n",
       "    </tr>\n",
       "  </thead>\n",
       "  <tbody>\n",
       "    <tr>\n",
       "      <td>575</td>\n",
       "      <td>E7F07B46</td>\n",
       "      <td>Crazy</td>\n",
       "      <td>The Manhattans</td>\n",
       "      <td>rnb</td>\n",
       "      <td>Moscow</td>\n",
       "      <td>13:39:46</td>\n",
       "      <td>Monday</td>\n",
       "    </tr>\n",
       "    <tr>\n",
       "      <td>832</td>\n",
       "      <td>7671A47A</td>\n",
       "      <td>Миражи</td>\n",
       "      <td>Восток</td>\n",
       "      <td>ruspop</td>\n",
       "      <td>Moscow</td>\n",
       "      <td>21:59:33</td>\n",
       "      <td>Wednesday</td>\n",
       "    </tr>\n",
       "    <tr>\n",
       "      <td>1216</td>\n",
       "      <td>69467B01</td>\n",
       "      <td>Change It All</td>\n",
       "      <td>Harrison Storm</td>\n",
       "      <td>singer</td>\n",
       "      <td>Moscow</td>\n",
       "      <td>20:53:06</td>\n",
       "      <td>Wednesday</td>\n",
       "    </tr>\n",
       "    <tr>\n",
       "      <td>1754</td>\n",
       "      <td>13B1A573</td>\n",
       "      <td>Te Adoramos Jesús</td>\n",
       "      <td>Athenas</td>\n",
       "      <td>spiritual</td>\n",
       "      <td>Moscow</td>\n",
       "      <td>13:19:37</td>\n",
       "      <td>Monday</td>\n",
       "    </tr>\n",
       "    <tr>\n",
       "      <td>1964</td>\n",
       "      <td>B24668A0</td>\n",
       "      <td>Mad over You Mashup</td>\n",
       "      <td>Nana Fofie</td>\n",
       "      <td>singer</td>\n",
       "      <td>Moscow</td>\n",
       "      <td>20:36:51</td>\n",
       "      <td>Monday</td>\n",
       "    </tr>\n",
       "    <tr>\n",
       "      <td>...</td>\n",
       "      <td>...</td>\n",
       "      <td>...</td>\n",
       "      <td>...</td>\n",
       "      <td>...</td>\n",
       "      <td>...</td>\n",
       "      <td>...</td>\n",
       "      <td>...</td>\n",
       "    </tr>\n",
       "    <tr>\n",
       "      <td>65042</td>\n",
       "      <td>83E9C8C4</td>\n",
       "      <td>Buddhist Beat</td>\n",
       "      <td>Asian Zen Spa Music Meditation</td>\n",
       "      <td>ambient</td>\n",
       "      <td>Moscow</td>\n",
       "      <td>13:25:29</td>\n",
       "      <td>Monday</td>\n",
       "    </tr>\n",
       "    <tr>\n",
       "      <td>65056</td>\n",
       "      <td>2E25BCD2</td>\n",
       "      <td>Psychobitch</td>\n",
       "      <td>Easter</td>\n",
       "      <td>pop</td>\n",
       "      <td>Moscow</td>\n",
       "      <td>14:53:07</td>\n",
       "      <td>Friday</td>\n",
       "    </tr>\n",
       "    <tr>\n",
       "      <td>65059</td>\n",
       "      <td>F231C47E</td>\n",
       "      <td>All Summer in a Day</td>\n",
       "      <td>VHS Or BETA</td>\n",
       "      <td>electronic</td>\n",
       "      <td>Moscow</td>\n",
       "      <td>20:31:23</td>\n",
       "      <td>Friday</td>\n",
       "    </tr>\n",
       "    <tr>\n",
       "      <td>65067</td>\n",
       "      <td>F1B93F29</td>\n",
       "      <td>Poison Kiss</td>\n",
       "      <td>Centerstone</td>\n",
       "      <td>rock</td>\n",
       "      <td>Saint-Petersburg</td>\n",
       "      <td>22:00:29</td>\n",
       "      <td>Monday</td>\n",
       "    </tr>\n",
       "    <tr>\n",
       "      <td>65069</td>\n",
       "      <td>BE1AAD74</td>\n",
       "      <td>Waterwalk</td>\n",
       "      <td>Eduardo Gonzales</td>\n",
       "      <td>electronic</td>\n",
       "      <td>Moscow</td>\n",
       "      <td>20:38:59</td>\n",
       "      <td>Monday</td>\n",
       "    </tr>\n",
       "  </tbody>\n",
       "</table>\n",
       "<p>3826 rows × 7 columns</p>\n",
       "</div>"
      ],
      "text/plain": [
       "        user_id                track                          artist  \\\n",
       "575    E7F07B46                Crazy                  The Manhattans   \n",
       "832    7671A47A               Миражи                          Восток   \n",
       "1216   69467B01        Change It All                  Harrison Storm   \n",
       "1754   13B1A573    Te Adoramos Jesús                         Athenas   \n",
       "1964   B24668A0  Mad over You Mashup                      Nana Fofie   \n",
       "...         ...                  ...                             ...   \n",
       "65042  83E9C8C4        Buddhist Beat  Asian Zen Spa Music Meditation   \n",
       "65056  2E25BCD2          Psychobitch                          Easter   \n",
       "65059  F231C47E  All Summer in a Day                     VHS Or BETA   \n",
       "65067  F1B93F29          Poison Kiss                     Centerstone   \n",
       "65069  BE1AAD74            Waterwalk                Eduardo Gonzales   \n",
       "\n",
       "            genre              city      time        day  \n",
       "575           rnb            Moscow  13:39:46     Monday  \n",
       "832        ruspop            Moscow  21:59:33  Wednesday  \n",
       "1216       singer            Moscow  20:53:06  Wednesday  \n",
       "1754    spiritual            Moscow  13:19:37     Monday  \n",
       "1964       singer            Moscow  20:36:51     Monday  \n",
       "...           ...               ...       ...        ...  \n",
       "65042     ambient            Moscow  13:25:29     Monday  \n",
       "65056         pop            Moscow  14:53:07     Friday  \n",
       "65059  electronic            Moscow  20:31:23     Friday  \n",
       "65067        rock  Saint-Petersburg  22:00:29     Monday  \n",
       "65069  electronic            Moscow  20:38:59     Monday  \n",
       "\n",
       "[3826 rows x 7 columns]"
      ]
     },
     "execution_count": 11,
     "metadata": {},
     "output_type": "execute_result"
    }
   ],
   "source": [
    "df.duplicated().sum()"
   ]
  },
  {
   "cell_type": "markdown",
   "metadata": {
    "id": "Ot25h6XR_Zct"
   },
   "source": [
    "Удалим явные дубликаты:"
   ]
  },
  {
   "cell_type": "code",
   "execution_count": 12,
   "metadata": {
    "id": "exFHq6tt_Zct"
   },
   "outputs": [],
   "source": [
    "df = df.drop_duplicates().reset_index(drop=True)"
   ]
  },
  {
   "cell_type": "markdown",
   "metadata": {
    "id": "Im2YwBEG_Zct"
   },
   "source": [
    "Убедимся в отсутствии дубликатов:"
   ]
  },
  {
   "cell_type": "code",
   "execution_count": 13,
   "metadata": {
    "id": "-8PuNWQ0_Zct",
    "scrolled": true
   },
   "outputs": [
    {
     "data": {
      "text/plain": [
       "0"
      ]
     },
     "execution_count": 13,
     "metadata": {},
     "output_type": "execute_result"
    }
   ],
   "source": [
    "df.duplicated().sum()"
   ]
  },
  {
   "cell_type": "markdown",
   "metadata": {
    "id": "QlFBsxAr_Zct"
   },
   "source": [
    "Теперь избавимся от неявных дубликатов в колонке `genre`. Например, название одного и того же жанра может быть записано немного по-разному. Такие ошибки тоже повлияют на результат исследования."
   ]
  },
  {
   "cell_type": "markdown",
   "metadata": {
    "id": "eSjWwsOh_Zct"
   },
   "source": [
    "Выведем на экран список уникальных названий жанров, отсортированный в алфавитном порядке"
   ]
  },
  {
   "cell_type": "code",
   "execution_count": 14,
   "metadata": {
    "id": "JIUcqzZN_Zct"
   },
   "outputs": [
    {
     "data": {
      "text/plain": [
       "array(['acid', 'acoustic', 'action', 'adult', 'africa', 'afrikaans',\n",
       "       'alternative', 'alternativepunk', 'ambient', 'americana',\n",
       "       'animated', 'anime', 'arabesk', 'arabic', 'arena',\n",
       "       'argentinetango', 'art', 'audiobook', 'author', 'avantgarde',\n",
       "       'axé', 'baile', 'balkan', 'beats', 'bigroom', 'black', 'bluegrass',\n",
       "       'blues', 'bollywood', 'bossa', 'brazilian', 'breakbeat', 'breaks',\n",
       "       'broadway', 'cantautori', 'cantopop', 'canzone', 'caribbean',\n",
       "       'caucasian', 'celtic', 'chamber', 'chanson', 'children', 'chill',\n",
       "       'chinese', 'choral', 'christian', 'christmas', 'classical',\n",
       "       'classicmetal', 'club', 'colombian', 'comedy', 'conjazz',\n",
       "       'contemporary', 'country', 'cuban', 'dance', 'dancehall',\n",
       "       'dancepop', 'dark', 'death', 'deep', 'deutschrock', 'deutschspr',\n",
       "       'dirty', 'disco', 'dnb', 'documentary', 'downbeat', 'downtempo',\n",
       "       'drum', 'dub', 'dubstep', 'eastern', 'easy', 'electronic',\n",
       "       'electropop', 'emo', 'entehno', 'epicmetal', 'estrada', 'ethnic',\n",
       "       'eurofolk', 'european', 'experimental', 'extrememetal', 'fado',\n",
       "       'fairytail', 'film', 'fitness', 'flamenco', 'folk', 'folklore',\n",
       "       'folkmetal', 'folkrock', 'folktronica', 'forró', 'frankreich',\n",
       "       'französisch', 'french', 'funk', 'future', 'gangsta', 'garage',\n",
       "       'german', 'ghazal', 'gitarre', 'glitch', 'gospel', 'gothic',\n",
       "       'grime', 'grunge', 'gypsy', 'handsup', \"hard'n'heavy\", 'hardcore',\n",
       "       'hardstyle', 'hardtechno', 'hip', 'hip-hop', 'hiphop',\n",
       "       'historisch', 'holiday', 'hop', 'horror', 'house', 'hymn', 'idm',\n",
       "       'independent', 'indian', 'indie', 'indipop', 'industrial',\n",
       "       'inspirational', 'instrumental', 'international', 'irish', 'jam',\n",
       "       'japanese', 'jazz', 'jewish', 'jpop', 'jungle', 'k-pop',\n",
       "       'karadeniz', 'karaoke', 'kayokyoku', 'korean', 'laiko', 'latin',\n",
       "       'latino', 'leftfield', 'local', 'lounge', 'loungeelectronic',\n",
       "       'lovers', 'malaysian', 'mandopop', 'marschmusik', 'meditative',\n",
       "       'mediterranean', 'melodic', 'metal', 'metalcore', 'mexican',\n",
       "       'middle', 'minimal', 'miscellaneous', 'modern', 'mood', 'mpb',\n",
       "       'muslim', 'native', 'neoklassik', 'neue', 'new', 'newage',\n",
       "       'newwave', 'nu', 'nujazz', 'numetal', 'oceania', 'old', 'opera',\n",
       "       'orchestral', 'other', 'piano', 'podcasts', 'pop', 'popdance',\n",
       "       'popelectronic', 'popeurodance', 'poprussian', 'post',\n",
       "       'posthardcore', 'postrock', 'power', 'progmetal', 'progressive',\n",
       "       'psychedelic', 'punjabi', 'punk', 'quebecois', 'ragga', 'ram',\n",
       "       'rancheras', 'rap', 'rave', 'reggae', 'reggaeton', 'regional',\n",
       "       'relax', 'religious', 'retro', 'rhythm', 'rnb', 'rnr', 'rock',\n",
       "       'rockabilly', 'rockalternative', 'rockindie', 'rockother',\n",
       "       'romance', 'roots', 'ruspop', 'rusrap', 'rusrock', 'russian',\n",
       "       'salsa', 'samba', 'scenic', 'schlager', 'self', 'sertanejo',\n",
       "       'shanson', 'shoegazing', 'showtunes', 'singer', 'ska', 'skarock',\n",
       "       'slow', 'smooth', 'soft', 'soul', 'soulful', 'sound', 'soundtrack',\n",
       "       'southern', 'specialty', 'speech', 'spiritual', 'sport',\n",
       "       'stonerrock', 'surf', 'swing', 'synthpop', 'synthrock',\n",
       "       'sängerportrait', 'tango', 'tanzorchester', 'taraftar', 'tatar',\n",
       "       'tech', 'techno', 'teen', 'thrash', 'top', 'traditional',\n",
       "       'tradjazz', 'trance', 'tribal', 'trip', 'triphop', 'tropical',\n",
       "       'türk', 'türkçe', 'ukrrock', 'unknown', 'urban', 'uzbek',\n",
       "       'variété', 'vi', 'videogame', 'vocal', 'western', 'world',\n",
       "       'worldbeat', 'ïîï', 'электроника'], dtype=object)"
      ]
     },
     "execution_count": 14,
     "metadata": {},
     "output_type": "execute_result"
    }
   ],
   "source": [
    "df['genre'].sort_values().unique()"
   ]
  },
  {
   "cell_type": "markdown",
   "metadata": {
    "id": "qej-Qmuo_Zct"
   },
   "source": [
    "Заметим следующие неявные дубликаты:\n",
    "* *hip*,\n",
    "* *hop*,\n",
    "* *hip-hop*.\n",
    "\n",
    "Чтобы очистить от них таблицу, напишем функцию `replace_wrong_genres()` с двумя параметрами: \n",
    "* `wrong_genres` — список дубликатов,\n",
    "* `correct_genre` — строка с правильным значением.\n",
    "\n",
    "Функция исправит колонку `genre` в таблице `df`: заменит каждое значение из списка `wrong_genres` на значение из `correct_genre`."
   ]
  },
  {
   "cell_type": "code",
   "execution_count": 15,
   "metadata": {
    "id": "ErNDkmns_Zct"
   },
   "outputs": [],
   "source": [
    "def replace_wrong_genres(wrong_genres, correct_genre):\n",
    "    for wrong_genre in wrong_genres:\n",
    "        df['genre'] = df['genre'].replace(wrong_genre, correct_genre)"
   ]
  },
  {
   "cell_type": "markdown",
   "metadata": {},
   "source": [
    "Вызовем функцию:"
   ]
  },
  {
   "cell_type": "code",
   "execution_count": 16,
   "metadata": {
    "id": "YN5i2hpmSo09"
   },
   "outputs": [],
   "source": [
    "replace_wrong_genres(wrong_genres=['hip', 'hop', 'hip-hop'], correct_genre='hiphop')\n",
    "replace_wrong_genres(wrong_genres=['электроника'], correct_genre='electronic')"
   ]
  },
  {
   "cell_type": "markdown",
   "metadata": {
    "id": "zQKF16_RG15m"
   },
   "source": [
    "Проверим, что заменили неправильные названия:\n",
    "\n",
    "*   hip\n",
    "*   hop\n",
    "*   hip-hop\n",
    "*   электроника\n",
    "\n",
    "Выведем отсортированный список уникальных значений столбца `genre`:"
   ]
  },
  {
   "cell_type": "code",
   "execution_count": 17,
   "metadata": {
    "id": "wvixALnFG15m"
   },
   "outputs": [
    {
     "data": {
      "text/plain": [
       "array(['acid', 'acoustic', 'action', 'adult', 'africa', 'afrikaans',\n",
       "       'alternative', 'alternativepunk', 'ambient', 'americana',\n",
       "       'animated', 'anime', 'arabesk', 'arabic', 'arena',\n",
       "       'argentinetango', 'art', 'audiobook', 'author', 'avantgarde',\n",
       "       'axé', 'baile', 'balkan', 'beats', 'bigroom', 'black', 'bluegrass',\n",
       "       'blues', 'bollywood', 'bossa', 'brazilian', 'breakbeat', 'breaks',\n",
       "       'broadway', 'cantautori', 'cantopop', 'canzone', 'caribbean',\n",
       "       'caucasian', 'celtic', 'chamber', 'chanson', 'children', 'chill',\n",
       "       'chinese', 'choral', 'christian', 'christmas', 'classical',\n",
       "       'classicmetal', 'club', 'colombian', 'comedy', 'conjazz',\n",
       "       'contemporary', 'country', 'cuban', 'dance', 'dancehall',\n",
       "       'dancepop', 'dark', 'death', 'deep', 'deutschrock', 'deutschspr',\n",
       "       'dirty', 'disco', 'dnb', 'documentary', 'downbeat', 'downtempo',\n",
       "       'drum', 'dub', 'dubstep', 'eastern', 'easy', 'electronic',\n",
       "       'electropop', 'emo', 'entehno', 'epicmetal', 'estrada', 'ethnic',\n",
       "       'eurofolk', 'european', 'experimental', 'extrememetal', 'fado',\n",
       "       'fairytail', 'film', 'fitness', 'flamenco', 'folk', 'folklore',\n",
       "       'folkmetal', 'folkrock', 'folktronica', 'forró', 'frankreich',\n",
       "       'französisch', 'french', 'funk', 'future', 'gangsta', 'garage',\n",
       "       'german', 'ghazal', 'gitarre', 'glitch', 'gospel', 'gothic',\n",
       "       'grime', 'grunge', 'gypsy', 'handsup', \"hard'n'heavy\", 'hardcore',\n",
       "       'hardstyle', 'hardtechno', 'hiphop', 'historisch', 'holiday',\n",
       "       'horror', 'house', 'hymn', 'idm', 'independent', 'indian', 'indie',\n",
       "       'indipop', 'industrial', 'inspirational', 'instrumental',\n",
       "       'international', 'irish', 'jam', 'japanese', 'jazz', 'jewish',\n",
       "       'jpop', 'jungle', 'k-pop', 'karadeniz', 'karaoke', 'kayokyoku',\n",
       "       'korean', 'laiko', 'latin', 'latino', 'leftfield', 'local',\n",
       "       'lounge', 'loungeelectronic', 'lovers', 'malaysian', 'mandopop',\n",
       "       'marschmusik', 'meditative', 'mediterranean', 'melodic', 'metal',\n",
       "       'metalcore', 'mexican', 'middle', 'minimal', 'miscellaneous',\n",
       "       'modern', 'mood', 'mpb', 'muslim', 'native', 'neoklassik', 'neue',\n",
       "       'new', 'newage', 'newwave', 'nu', 'nujazz', 'numetal', 'oceania',\n",
       "       'old', 'opera', 'orchestral', 'other', 'piano', 'podcasts', 'pop',\n",
       "       'popdance', 'popelectronic', 'popeurodance', 'poprussian', 'post',\n",
       "       'posthardcore', 'postrock', 'power', 'progmetal', 'progressive',\n",
       "       'psychedelic', 'punjabi', 'punk', 'quebecois', 'ragga', 'ram',\n",
       "       'rancheras', 'rap', 'rave', 'reggae', 'reggaeton', 'regional',\n",
       "       'relax', 'religious', 'retro', 'rhythm', 'rnb', 'rnr', 'rock',\n",
       "       'rockabilly', 'rockalternative', 'rockindie', 'rockother',\n",
       "       'romance', 'roots', 'ruspop', 'rusrap', 'rusrock', 'russian',\n",
       "       'salsa', 'samba', 'scenic', 'schlager', 'self', 'sertanejo',\n",
       "       'shanson', 'shoegazing', 'showtunes', 'singer', 'ska', 'skarock',\n",
       "       'slow', 'smooth', 'soft', 'soul', 'soulful', 'sound', 'soundtrack',\n",
       "       'southern', 'specialty', 'speech', 'spiritual', 'sport',\n",
       "       'stonerrock', 'surf', 'swing', 'synthpop', 'synthrock',\n",
       "       'sängerportrait', 'tango', 'tanzorchester', 'taraftar', 'tatar',\n",
       "       'tech', 'techno', 'teen', 'thrash', 'top', 'traditional',\n",
       "       'tradjazz', 'trance', 'tribal', 'trip', 'triphop', 'tropical',\n",
       "       'türk', 'türkçe', 'ukrrock', 'unknown', 'urban', 'uzbek',\n",
       "       'variété', 'vi', 'videogame', 'vocal', 'western', 'world',\n",
       "       'worldbeat', 'ïîï'], dtype=object)"
      ]
     },
     "execution_count": 17,
     "metadata": {},
     "output_type": "execute_result"
    }
   ],
   "source": [
    "df['genre'].sort_values().unique()"
   ]
  },
  {
   "cell_type": "markdown",
   "metadata": {
    "id": "jz6a9-7HQUDd"
   },
   "source": [
    "**Выводы**\n",
    "\n",
    "Предобработка обнаружила три проблемы в данных:\n",
    "\n",
    "- нарушения в стиле заголовков,\n",
    "- пропущенные значения,\n",
    "- дубликаты — явные и неявные.\n",
    "\n",
    "Каждая из проблема решена.\n",
    "\n",
    "Теперь можно перейти к проверке гипотез. "
   ]
  },
  {
   "cell_type": "markdown",
   "metadata": {
    "id": "WttZHXH0SqKk"
   },
   "source": [
    "## Проверка гипотез"
   ]
  },
  {
   "cell_type": "markdown",
   "metadata": {
    "id": "Im936VVi_Zcu"
   },
   "source": [
    "### Сравнение поведения пользователей двух столиц"
   ]
  },
  {
   "cell_type": "markdown",
   "metadata": {
    "id": "nwt_MuaL_Zcu"
   },
   "source": [
    "Первая гипотеза утверждает, что пользователи по-разному слушают музыку в Москве и Санкт-Петербурге. Проверим это предположение по данным о трёх днях недели — понедельнике, среде и пятнице. Для этого:\n",
    "\n",
    "* Разделим пользователей Москвы и Санкт-Петербурга\n",
    "* Сравним, сколько треков послушала каждая группа пользователей в понедельник, среду и пятницу.\n"
   ]
  },
  {
   "cell_type": "markdown",
   "metadata": {
    "id": "8Dw_YMmT_Zcu"
   },
   "source": [
    "Оценим активность пользователей в каждом городе. Сгруппируем данные по городу и посчитаем прослушивания в каждой группе.\n"
   ]
  },
  {
   "cell_type": "code",
   "execution_count": 18,
   "metadata": {
    "id": "0_Qs96oh_Zcu"
   },
   "outputs": [
    {
     "data": {
      "text/html": [
       "<div>\n",
       "<style scoped>\n",
       "    .dataframe tbody tr th:only-of-type {\n",
       "        vertical-align: middle;\n",
       "    }\n",
       "\n",
       "    .dataframe tbody tr th {\n",
       "        vertical-align: top;\n",
       "    }\n",
       "\n",
       "    .dataframe thead th {\n",
       "        text-align: right;\n",
       "    }\n",
       "</style>\n",
       "<table border=\"1\" class=\"dataframe\">\n",
       "  <thead>\n",
       "    <tr style=\"text-align: right;\">\n",
       "      <th></th>\n",
       "      <th>user_id</th>\n",
       "    </tr>\n",
       "    <tr>\n",
       "      <th>city</th>\n",
       "      <th></th>\n",
       "    </tr>\n",
       "  </thead>\n",
       "  <tbody>\n",
       "    <tr>\n",
       "      <td>Moscow</td>\n",
       "      <td>42741</td>\n",
       "    </tr>\n",
       "    <tr>\n",
       "      <td>Saint-Petersburg</td>\n",
       "      <td>18512</td>\n",
       "    </tr>\n",
       "  </tbody>\n",
       "</table>\n",
       "</div>"
      ],
      "text/plain": [
       "                  user_id\n",
       "city                     \n",
       "Moscow              42741\n",
       "Saint-Petersburg    18512"
      ]
     },
     "execution_count": 18,
     "metadata": {},
     "output_type": "execute_result"
    }
   ],
   "source": [
    "df.groupby('city')['user_id'].count().to_frame()"
   ]
  },
  {
   "cell_type": "markdown",
   "metadata": {
    "id": "dzli3w8o_Zcu"
   },
   "source": [
    "В Москве прослушиваний больше, чем в Петербурге. Из этого не следует, что московские пользователи чаще слушают музыку. Просто самих пользователей в Москве больше.\n",
    "\n",
    "Теперь сгруппируем данные по дню недели и подсчитаем прослушивания в понедельник, среду и пятницу.\n"
   ]
  },
  {
   "cell_type": "code",
   "execution_count": 19,
   "metadata": {
    "id": "uZMKjiJz_Zcu"
   },
   "outputs": [
    {
     "data": {
      "text/html": [
       "<div>\n",
       "<style scoped>\n",
       "    .dataframe tbody tr th:only-of-type {\n",
       "        vertical-align: middle;\n",
       "    }\n",
       "\n",
       "    .dataframe tbody tr th {\n",
       "        vertical-align: top;\n",
       "    }\n",
       "\n",
       "    .dataframe thead th {\n",
       "        text-align: right;\n",
       "    }\n",
       "</style>\n",
       "<table border=\"1\" class=\"dataframe\">\n",
       "  <thead>\n",
       "    <tr style=\"text-align: right;\">\n",
       "      <th></th>\n",
       "      <th>user_id</th>\n",
       "    </tr>\n",
       "    <tr>\n",
       "      <th>day</th>\n",
       "      <th></th>\n",
       "    </tr>\n",
       "  </thead>\n",
       "  <tbody>\n",
       "    <tr>\n",
       "      <td>Friday</td>\n",
       "      <td>21840</td>\n",
       "    </tr>\n",
       "    <tr>\n",
       "      <td>Monday</td>\n",
       "      <td>21354</td>\n",
       "    </tr>\n",
       "    <tr>\n",
       "      <td>Wednesday</td>\n",
       "      <td>18059</td>\n",
       "    </tr>\n",
       "  </tbody>\n",
       "</table>\n",
       "</div>"
      ],
      "text/plain": [
       "           user_id\n",
       "day               \n",
       "Friday       21840\n",
       "Monday       21354\n",
       "Wednesday    18059"
      ]
     },
     "execution_count": 19,
     "metadata": {},
     "output_type": "execute_result"
    }
   ],
   "source": [
    "df.groupby('day')['user_id'].count().to_frame()"
   ]
  },
  {
   "cell_type": "markdown",
   "metadata": {
    "id": "cC2tNrlL_Zcu"
   },
   "source": [
    "В среднем пользователи из двух городов менее активны по средам. Но картина может измениться, если рассмотреть каждый город в отдельности."
   ]
  },
  {
   "cell_type": "markdown",
   "metadata": {
    "id": "POzs8bGa_Zcu"
   },
   "source": [
    "Создадим функцию `number_tracks()`, которая посчитает прослушивания для заданного дня и города. Ей понадобятся два параметра:\n",
    "* день недели,\n",
    "* название города.\n",
    "\n",
    "В функции сохраним в переменную строки исходной таблицы, у которых значение:\n",
    "  * в колонке `day` равно параметру `day`,\n",
    "  * в колонке `city` равно параметру `city`.\n",
    "\n",
    "Для этого применим последовательную фильтрацию с логической индексацией.\n",
    "\n",
    "Затем посчитаем значения в столбце `user_id` получившейся таблицы. Результат сохраним в новую переменную, которую возвращает функция."
   ]
  },
  {
   "cell_type": "code",
   "execution_count": 21,
   "metadata": {},
   "outputs": [],
   "source": [
    "def number_tracks(day, city):\n",
    "    track_list = df[df['day'] == day]\n",
    "    track_list = track_list[track_list['city'] == city]\n",
    "    track_list_count = track_list['user_id'].count()\n",
    "    return track_list_count"
   ]
  },
  {
   "cell_type": "code",
   "execution_count": 22,
   "metadata": {
    "id": "rJcRATNQ_Zcu"
   },
   "outputs": [
    {
     "data": {
      "text/plain": [
       "15740"
      ]
     },
     "execution_count": 22,
     "metadata": {},
     "output_type": "execute_result"
    }
   ],
   "source": [
    "# количество прослушиваний в Москве по понедельникам\n",
    "number_tracks('Monday', 'Moscow')"
   ]
  },
  {
   "cell_type": "code",
   "execution_count": 23,
   "metadata": {
    "id": "hq_ncZ5T_Zcu"
   },
   "outputs": [
    {
     "data": {
      "text/plain": [
       "5614"
      ]
     },
     "execution_count": 23,
     "metadata": {},
     "output_type": "execute_result"
    }
   ],
   "source": [
    "# количество прослушиваний в Санкт-Петербурге по понедельникам\n",
    "number_tracks('Monday', 'Saint-Petersburg')"
   ]
  },
  {
   "cell_type": "code",
   "execution_count": 24,
   "metadata": {
    "id": "_NTy2VPU_Zcu"
   },
   "outputs": [
    {
     "data": {
      "text/plain": [
       "11056"
      ]
     },
     "execution_count": 24,
     "metadata": {},
     "output_type": "execute_result"
    }
   ],
   "source": [
    "# количество прослушиваний в Москве по средам\n",
    "number_tracks('Wednesday', 'Moscow')"
   ]
  },
  {
   "cell_type": "code",
   "execution_count": 25,
   "metadata": {
    "id": "j2y3TAwo_Zcu"
   },
   "outputs": [
    {
     "data": {
      "text/plain": [
       "7003"
      ]
     },
     "execution_count": 25,
     "metadata": {},
     "output_type": "execute_result"
    }
   ],
   "source": [
    "# количество прослушиваний в Санкт-Петербурге по средам\n",
    "number_tracks('Wednesday', 'Saint-Petersburg')"
   ]
  },
  {
   "cell_type": "code",
   "execution_count": 26,
   "metadata": {
    "id": "vYDw5u_K_Zcu"
   },
   "outputs": [
    {
     "data": {
      "text/plain": [
       "15945"
      ]
     },
     "execution_count": 26,
     "metadata": {},
     "output_type": "execute_result"
    }
   ],
   "source": [
    "# количество прослушиваний в Москве по пятницам\n",
    "number_tracks('Friday', 'Moscow')"
   ]
  },
  {
   "cell_type": "code",
   "execution_count": 27,
   "metadata": {
    "id": "8_yzFtW3_Zcu"
   },
   "outputs": [
    {
     "data": {
      "text/plain": [
       "5895"
      ]
     },
     "execution_count": 27,
     "metadata": {},
     "output_type": "execute_result"
    }
   ],
   "source": [
    "# количество прослушиваний в Санкт-Петербурге по пятницам\n",
    "number_tracks('Friday', 'Saint-Petersburg')"
   ]
  },
  {
   "cell_type": "markdown",
   "metadata": {
    "id": "7QXffbO-_Zcu"
   },
   "source": [
    "Создадим c помощью конструктора `pd.DataFrame` таблицу, где\n",
    "* названия колонок — `['city', 'monday', 'wednesday', 'friday']`;\n",
    "* данные — результаты, полученные с помощью `number_tracks`."
   ]
  },
  {
   "cell_type": "code",
   "execution_count": 28,
   "metadata": {
    "id": "APAcLpOr_Zcu"
   },
   "outputs": [],
   "source": [
    "data = [['Moscow', 15740, 11056, 15945],\n",
    "       ['Saint-Petersubrg', 5614, 7003, 5895]]\n",
    "columns = ['city', 'monday', 'wednesday', 'friday']\n",
    "\n",
    "table = pd.DataFrame(data=data, columns=columns)"
   ]
  },
  {
   "cell_type": "code",
   "execution_count": 29,
   "metadata": {},
   "outputs": [
    {
     "data": {
      "text/html": [
       "<div>\n",
       "<style scoped>\n",
       "    .dataframe tbody tr th:only-of-type {\n",
       "        vertical-align: middle;\n",
       "    }\n",
       "\n",
       "    .dataframe tbody tr th {\n",
       "        vertical-align: top;\n",
       "    }\n",
       "\n",
       "    .dataframe thead th {\n",
       "        text-align: right;\n",
       "    }\n",
       "</style>\n",
       "<table border=\"1\" class=\"dataframe\">\n",
       "  <thead>\n",
       "    <tr style=\"text-align: right;\">\n",
       "      <th></th>\n",
       "      <th>city</th>\n",
       "      <th>monday</th>\n",
       "      <th>wednesday</th>\n",
       "      <th>friday</th>\n",
       "    </tr>\n",
       "  </thead>\n",
       "  <tbody>\n",
       "    <tr>\n",
       "      <td>0</td>\n",
       "      <td>Moscow</td>\n",
       "      <td>15740</td>\n",
       "      <td>11056</td>\n",
       "      <td>15945</td>\n",
       "    </tr>\n",
       "    <tr>\n",
       "      <td>1</td>\n",
       "      <td>Saint-Petersubrg</td>\n",
       "      <td>5614</td>\n",
       "      <td>7003</td>\n",
       "      <td>5895</td>\n",
       "    </tr>\n",
       "  </tbody>\n",
       "</table>\n",
       "</div>"
      ],
      "text/plain": [
       "               city  monday  wednesday  friday\n",
       "0            Moscow   15740      11056   15945\n",
       "1  Saint-Petersubrg    5614       7003    5895"
      ]
     },
     "execution_count": 29,
     "metadata": {},
     "output_type": "execute_result"
    }
   ],
   "source": [
    "table"
   ]
  },
  {
   "cell_type": "markdown",
   "metadata": {
    "id": "-EgPIHYu_Zcu"
   },
   "source": [
    "**Выводы**\n",
    "\n",
    "Данные показывают разницу поведения пользователей:\n",
    "\n",
    "- В Москве пик прослушиваний приходится на понедельник и пятницу, а в среду заметен спад.\n",
    "- В Петербурге, наоборот, больше слушают музыку по средам. Активность в понедельник и пятницу здесь почти в равной мере уступает среде.\n",
    "\n",
    "Значит, данные говорят в пользу первой гипотезы."
   ]
  },
  {
   "cell_type": "markdown",
   "metadata": {
    "id": "atZAxtq4_Zcu"
   },
   "source": [
    "### Музыка в начале и в конце недели"
   ]
  },
  {
   "cell_type": "markdown",
   "metadata": {
    "id": "eXrQqXFH_Zcu"
   },
   "source": [
    "Согласно второй гипотезе, утром в понедельник в Москве преобладают одни жанры, а в Петербурге — другие. Так же и вечером пятницы преобладают разные жанры — в зависимости от города."
   ]
  },
  {
   "cell_type": "markdown",
   "metadata": {
    "id": "S8UcW6Hw_Zcu"
   },
   "source": [
    "Сохраним таблицы с данными в две переменные:\n",
    "* по Москве — в `moscow_general`;\n",
    "* по Санкт-Петербургу — в `spb_general`."
   ]
  },
  {
   "cell_type": "code",
   "execution_count": 30,
   "metadata": {
    "id": "qeaFfM_P_Zcu"
   },
   "outputs": [],
   "source": [
    "# получение таблицы moscow_general из тех строк таблицы df, \n",
    "# для которых значение в столбце 'city' равно 'Moscow'\n",
    "\n",
    "moscow_general = df[df['city'] == 'Moscow']"
   ]
  },
  {
   "cell_type": "code",
   "execution_count": 31,
   "metadata": {},
   "outputs": [
    {
     "data": {
      "text/html": [
       "<div>\n",
       "<style scoped>\n",
       "    .dataframe tbody tr th:only-of-type {\n",
       "        vertical-align: middle;\n",
       "    }\n",
       "\n",
       "    .dataframe tbody tr th {\n",
       "        vertical-align: top;\n",
       "    }\n",
       "\n",
       "    .dataframe thead th {\n",
       "        text-align: right;\n",
       "    }\n",
       "</style>\n",
       "<table border=\"1\" class=\"dataframe\">\n",
       "  <thead>\n",
       "    <tr style=\"text-align: right;\">\n",
       "      <th></th>\n",
       "      <th>user_id</th>\n",
       "      <th>track</th>\n",
       "      <th>artist</th>\n",
       "      <th>genre</th>\n",
       "      <th>city</th>\n",
       "      <th>time</th>\n",
       "      <th>day</th>\n",
       "    </tr>\n",
       "  </thead>\n",
       "  <tbody>\n",
       "    <tr>\n",
       "      <td>1</td>\n",
       "      <td>55204538</td>\n",
       "      <td>Delayed Because of Accident</td>\n",
       "      <td>Andreas Rönnberg</td>\n",
       "      <td>rock</td>\n",
       "      <td>Moscow</td>\n",
       "      <td>14:07:09</td>\n",
       "      <td>Friday</td>\n",
       "    </tr>\n",
       "    <tr>\n",
       "      <td>4</td>\n",
       "      <td>E2DC1FAE</td>\n",
       "      <td>Soul People</td>\n",
       "      <td>Space Echo</td>\n",
       "      <td>dance</td>\n",
       "      <td>Moscow</td>\n",
       "      <td>08:34:34</td>\n",
       "      <td>Monday</td>\n",
       "    </tr>\n",
       "    <tr>\n",
       "      <td>6</td>\n",
       "      <td>4CB90AA5</td>\n",
       "      <td>True</td>\n",
       "      <td>Roman Messer</td>\n",
       "      <td>dance</td>\n",
       "      <td>Moscow</td>\n",
       "      <td>13:00:07</td>\n",
       "      <td>Wednesday</td>\n",
       "    </tr>\n",
       "    <tr>\n",
       "      <td>7</td>\n",
       "      <td>F03E1C1F</td>\n",
       "      <td>Feeling This Way</td>\n",
       "      <td>Polina Griffith</td>\n",
       "      <td>dance</td>\n",
       "      <td>Moscow</td>\n",
       "      <td>20:47:49</td>\n",
       "      <td>Wednesday</td>\n",
       "    </tr>\n",
       "    <tr>\n",
       "      <td>8</td>\n",
       "      <td>8FA1D3BE</td>\n",
       "      <td>И вновь продолжается бой</td>\n",
       "      <td>unknown</td>\n",
       "      <td>ruspop</td>\n",
       "      <td>Moscow</td>\n",
       "      <td>09:17:40</td>\n",
       "      <td>Friday</td>\n",
       "    </tr>\n",
       "    <tr>\n",
       "      <td>...</td>\n",
       "      <td>...</td>\n",
       "      <td>...</td>\n",
       "      <td>...</td>\n",
       "      <td>...</td>\n",
       "      <td>...</td>\n",
       "      <td>...</td>\n",
       "      <td>...</td>\n",
       "    </tr>\n",
       "    <tr>\n",
       "      <td>61247</td>\n",
       "      <td>83A474E7</td>\n",
       "      <td>I Worship Only What You Bleed</td>\n",
       "      <td>The Black Dahlia Murder</td>\n",
       "      <td>extrememetal</td>\n",
       "      <td>Moscow</td>\n",
       "      <td>21:07:12</td>\n",
       "      <td>Monday</td>\n",
       "    </tr>\n",
       "    <tr>\n",
       "      <td>61248</td>\n",
       "      <td>729CBB09</td>\n",
       "      <td>My Name</td>\n",
       "      <td>McLean</td>\n",
       "      <td>rnb</td>\n",
       "      <td>Moscow</td>\n",
       "      <td>13:32:28</td>\n",
       "      <td>Wednesday</td>\n",
       "    </tr>\n",
       "    <tr>\n",
       "      <td>61250</td>\n",
       "      <td>C5E3A0D5</td>\n",
       "      <td>Jalopiina</td>\n",
       "      <td>unknown</td>\n",
       "      <td>industrial</td>\n",
       "      <td>Moscow</td>\n",
       "      <td>20:09:26</td>\n",
       "      <td>Friday</td>\n",
       "    </tr>\n",
       "    <tr>\n",
       "      <td>61251</td>\n",
       "      <td>321D0506</td>\n",
       "      <td>Freight Train</td>\n",
       "      <td>Chas McDevitt</td>\n",
       "      <td>rock</td>\n",
       "      <td>Moscow</td>\n",
       "      <td>21:43:59</td>\n",
       "      <td>Friday</td>\n",
       "    </tr>\n",
       "    <tr>\n",
       "      <td>61252</td>\n",
       "      <td>3A64EF84</td>\n",
       "      <td>Tell Me Sweet Little Lies</td>\n",
       "      <td>Monica Lopez</td>\n",
       "      <td>country</td>\n",
       "      <td>Moscow</td>\n",
       "      <td>21:59:46</td>\n",
       "      <td>Friday</td>\n",
       "    </tr>\n",
       "  </tbody>\n",
       "</table>\n",
       "<p>42741 rows × 7 columns</p>\n",
       "</div>"
      ],
      "text/plain": [
       "        user_id                          track                   artist  \\\n",
       "1      55204538    Delayed Because of Accident         Andreas Rönnberg   \n",
       "4      E2DC1FAE                    Soul People               Space Echo   \n",
       "6      4CB90AA5                           True             Roman Messer   \n",
       "7      F03E1C1F               Feeling This Way          Polina Griffith   \n",
       "8      8FA1D3BE       И вновь продолжается бой                  unknown   \n",
       "...         ...                            ...                      ...   \n",
       "61247  83A474E7  I Worship Only What You Bleed  The Black Dahlia Murder   \n",
       "61248  729CBB09                        My Name                   McLean   \n",
       "61250  C5E3A0D5                      Jalopiina                  unknown   \n",
       "61251  321D0506                  Freight Train            Chas McDevitt   \n",
       "61252  3A64EF84      Tell Me Sweet Little Lies             Monica Lopez   \n",
       "\n",
       "              genre    city      time        day  \n",
       "1              rock  Moscow  14:07:09     Friday  \n",
       "4             dance  Moscow  08:34:34     Monday  \n",
       "6             dance  Moscow  13:00:07  Wednesday  \n",
       "7             dance  Moscow  20:47:49  Wednesday  \n",
       "8            ruspop  Moscow  09:17:40     Friday  \n",
       "...             ...     ...       ...        ...  \n",
       "61247  extrememetal  Moscow  21:07:12     Monday  \n",
       "61248           rnb  Moscow  13:32:28  Wednesday  \n",
       "61250    industrial  Moscow  20:09:26     Friday  \n",
       "61251          rock  Moscow  21:43:59     Friday  \n",
       "61252       country  Moscow  21:59:46     Friday  \n",
       "\n",
       "[42741 rows x 7 columns]"
      ]
     },
     "execution_count": 31,
     "metadata": {},
     "output_type": "execute_result"
    }
   ],
   "source": [
    "moscow_general"
   ]
  },
  {
   "cell_type": "code",
   "execution_count": 32,
   "metadata": {
    "id": "ORaVRKto_Zcu"
   },
   "outputs": [],
   "source": [
    "# получение таблицы spb_general из тех строк таблицы df,\n",
    "# для которых значение в столбце 'city' равно 'Saint-Petersburg'\n",
    "\n",
    "spb_general = df[df['city'] == 'Saint-Petersburg']"
   ]
  },
  {
   "cell_type": "code",
   "execution_count": 33,
   "metadata": {},
   "outputs": [
    {
     "data": {
      "text/html": [
       "<div>\n",
       "<style scoped>\n",
       "    .dataframe tbody tr th:only-of-type {\n",
       "        vertical-align: middle;\n",
       "    }\n",
       "\n",
       "    .dataframe tbody tr th {\n",
       "        vertical-align: top;\n",
       "    }\n",
       "\n",
       "    .dataframe thead th {\n",
       "        text-align: right;\n",
       "    }\n",
       "</style>\n",
       "<table border=\"1\" class=\"dataframe\">\n",
       "  <thead>\n",
       "    <tr style=\"text-align: right;\">\n",
       "      <th></th>\n",
       "      <th>user_id</th>\n",
       "      <th>track</th>\n",
       "      <th>artist</th>\n",
       "      <th>genre</th>\n",
       "      <th>city</th>\n",
       "      <th>time</th>\n",
       "      <th>day</th>\n",
       "    </tr>\n",
       "  </thead>\n",
       "  <tbody>\n",
       "    <tr>\n",
       "      <td>0</td>\n",
       "      <td>FFB692EC</td>\n",
       "      <td>Kamigata To Boots</td>\n",
       "      <td>The Mass Missile</td>\n",
       "      <td>rock</td>\n",
       "      <td>Saint-Petersburg</td>\n",
       "      <td>20:28:33</td>\n",
       "      <td>Wednesday</td>\n",
       "    </tr>\n",
       "    <tr>\n",
       "      <td>2</td>\n",
       "      <td>20EC38</td>\n",
       "      <td>Funiculì funiculà</td>\n",
       "      <td>Mario Lanza</td>\n",
       "      <td>pop</td>\n",
       "      <td>Saint-Petersburg</td>\n",
       "      <td>20:58:07</td>\n",
       "      <td>Wednesday</td>\n",
       "    </tr>\n",
       "    <tr>\n",
       "      <td>3</td>\n",
       "      <td>A3DD03C9</td>\n",
       "      <td>Dragons in the Sunset</td>\n",
       "      <td>Fire + Ice</td>\n",
       "      <td>folk</td>\n",
       "      <td>Saint-Petersburg</td>\n",
       "      <td>08:37:09</td>\n",
       "      <td>Monday</td>\n",
       "    </tr>\n",
       "    <tr>\n",
       "      <td>5</td>\n",
       "      <td>842029A1</td>\n",
       "      <td>Преданная</td>\n",
       "      <td>IMPERVTOR</td>\n",
       "      <td>rusrap</td>\n",
       "      <td>Saint-Petersburg</td>\n",
       "      <td>13:09:41</td>\n",
       "      <td>Friday</td>\n",
       "    </tr>\n",
       "    <tr>\n",
       "      <td>9</td>\n",
       "      <td>E772D5C0</td>\n",
       "      <td>Pessimist</td>\n",
       "      <td>unknown</td>\n",
       "      <td>dance</td>\n",
       "      <td>Saint-Petersburg</td>\n",
       "      <td>21:20:49</td>\n",
       "      <td>Wednesday</td>\n",
       "    </tr>\n",
       "    <tr>\n",
       "      <td>...</td>\n",
       "      <td>...</td>\n",
       "      <td>...</td>\n",
       "      <td>...</td>\n",
       "      <td>...</td>\n",
       "      <td>...</td>\n",
       "      <td>...</td>\n",
       "      <td>...</td>\n",
       "    </tr>\n",
       "    <tr>\n",
       "      <td>61239</td>\n",
       "      <td>D94F810B</td>\n",
       "      <td>Theme from the Walking Dead</td>\n",
       "      <td>Proyecto Halloween</td>\n",
       "      <td>film</td>\n",
       "      <td>Saint-Petersburg</td>\n",
       "      <td>21:14:40</td>\n",
       "      <td>Monday</td>\n",
       "    </tr>\n",
       "    <tr>\n",
       "      <td>61240</td>\n",
       "      <td>BC8EC5CF</td>\n",
       "      <td>Red Lips: Gta (Rover Rework)</td>\n",
       "      <td>Rover</td>\n",
       "      <td>electronic</td>\n",
       "      <td>Saint-Petersburg</td>\n",
       "      <td>21:06:50</td>\n",
       "      <td>Monday</td>\n",
       "    </tr>\n",
       "    <tr>\n",
       "      <td>61241</td>\n",
       "      <td>29E04611</td>\n",
       "      <td>Bre Petrunko</td>\n",
       "      <td>Perunika Trio</td>\n",
       "      <td>world</td>\n",
       "      <td>Saint-Petersburg</td>\n",
       "      <td>13:56:00</td>\n",
       "      <td>Monday</td>\n",
       "    </tr>\n",
       "    <tr>\n",
       "      <td>61242</td>\n",
       "      <td>1B91C621</td>\n",
       "      <td>(Hello) Cloud Mountain</td>\n",
       "      <td>sleepmakeswaves</td>\n",
       "      <td>postrock</td>\n",
       "      <td>Saint-Petersburg</td>\n",
       "      <td>09:22:13</td>\n",
       "      <td>Monday</td>\n",
       "    </tr>\n",
       "    <tr>\n",
       "      <td>61249</td>\n",
       "      <td>D08D4A55</td>\n",
       "      <td>Maybe One Day (feat. Black Spade)</td>\n",
       "      <td>Blu &amp; Exile</td>\n",
       "      <td>hiphop</td>\n",
       "      <td>Saint-Petersburg</td>\n",
       "      <td>10:00:00</td>\n",
       "      <td>Monday</td>\n",
       "    </tr>\n",
       "  </tbody>\n",
       "</table>\n",
       "<p>18512 rows × 7 columns</p>\n",
       "</div>"
      ],
      "text/plain": [
       "        user_id                              track              artist  \\\n",
       "0      FFB692EC                  Kamigata To Boots    The Mass Missile   \n",
       "2        20EC38                  Funiculì funiculà         Mario Lanza   \n",
       "3      A3DD03C9              Dragons in the Sunset          Fire + Ice   \n",
       "5      842029A1                          Преданная           IMPERVTOR   \n",
       "9      E772D5C0                          Pessimist             unknown   \n",
       "...         ...                                ...                 ...   \n",
       "61239  D94F810B        Theme from the Walking Dead  Proyecto Halloween   \n",
       "61240  BC8EC5CF       Red Lips: Gta (Rover Rework)               Rover   \n",
       "61241  29E04611                       Bre Petrunko       Perunika Trio   \n",
       "61242  1B91C621             (Hello) Cloud Mountain     sleepmakeswaves   \n",
       "61249  D08D4A55  Maybe One Day (feat. Black Spade)         Blu & Exile   \n",
       "\n",
       "            genre              city      time        day  \n",
       "0            rock  Saint-Petersburg  20:28:33  Wednesday  \n",
       "2             pop  Saint-Petersburg  20:58:07  Wednesday  \n",
       "3            folk  Saint-Petersburg  08:37:09     Monday  \n",
       "5          rusrap  Saint-Petersburg  13:09:41     Friday  \n",
       "9           dance  Saint-Petersburg  21:20:49  Wednesday  \n",
       "...           ...               ...       ...        ...  \n",
       "61239        film  Saint-Petersburg  21:14:40     Monday  \n",
       "61240  electronic  Saint-Petersburg  21:06:50     Monday  \n",
       "61241       world  Saint-Petersburg  13:56:00     Monday  \n",
       "61242    postrock  Saint-Petersburg  09:22:13     Monday  \n",
       "61249      hiphop  Saint-Petersburg  10:00:00     Monday  \n",
       "\n",
       "[18512 rows x 7 columns]"
      ]
     },
     "execution_count": 33,
     "metadata": {},
     "output_type": "execute_result"
    }
   ],
   "source": [
    "spb_general"
   ]
  },
  {
   "cell_type": "markdown",
   "metadata": {
    "id": "MEJV-CX2_Zcu"
   },
   "source": [
    "Создадим функцию `genre_weekday()` с четырьмя параметрами:\n",
    "* таблица (датафрейм) с данными,\n",
    "* день недели,\n",
    "* начальная временная метка в формате 'hh:mm', \n",
    "* последняя временная метка в формате 'hh:mm'.\n",
    "\n",
    "Функция должна вернуть информацию о топ-10 жанров тех треков, которые прослушивали в указанный день, в промежутке между двумя отметками времени."
   ]
  },
  {
   "cell_type": "code",
   "execution_count": 35,
   "metadata": {},
   "outputs": [],
   "source": [
    "def genre_weekday(table, day, time1, time2):\n",
    "    genre_df = table[table['day'] == day]\n",
    "    genre_df = genre_df[genre_df['time'] > time1]\n",
    "    genre_df = genre_df[genre_df['time'] < time2]\n",
    "    \n",
    "    genre_df_count = genre_df.groupby('genre')['user_id'].count()\n",
    "    genre_df_sorted = genre_df_count.sort_values(ascending=False)\n",
    "    return genre_df_sorted.head(10)"
   ]
  },
  {
   "cell_type": "markdown",
   "metadata": {
    "id": "la2s2_PF_Zcu"
   },
   "source": [
    "Cравним результаты функции `genre_weekday()` для Москвы и Санкт-Петербурга в понедельник утром (с 7:00 до 11:00) и в пятницу вечером (с 17:00 до 23:00):"
   ]
  },
  {
   "cell_type": "code",
   "execution_count": 36,
   "metadata": {
    "id": "yz7itPUQ_Zcu"
   },
   "outputs": [
    {
     "data": {
      "text/html": [
       "<div>\n",
       "<style scoped>\n",
       "    .dataframe tbody tr th:only-of-type {\n",
       "        vertical-align: middle;\n",
       "    }\n",
       "\n",
       "    .dataframe tbody tr th {\n",
       "        vertical-align: top;\n",
       "    }\n",
       "\n",
       "    .dataframe thead th {\n",
       "        text-align: right;\n",
       "    }\n",
       "</style>\n",
       "<table border=\"1\" class=\"dataframe\">\n",
       "  <thead>\n",
       "    <tr style=\"text-align: right;\">\n",
       "      <th></th>\n",
       "      <th>user_id</th>\n",
       "    </tr>\n",
       "    <tr>\n",
       "      <th>genre</th>\n",
       "      <th></th>\n",
       "    </tr>\n",
       "  </thead>\n",
       "  <tbody>\n",
       "    <tr>\n",
       "      <td>pop</td>\n",
       "      <td>781</td>\n",
       "    </tr>\n",
       "    <tr>\n",
       "      <td>dance</td>\n",
       "      <td>549</td>\n",
       "    </tr>\n",
       "    <tr>\n",
       "      <td>electronic</td>\n",
       "      <td>480</td>\n",
       "    </tr>\n",
       "    <tr>\n",
       "      <td>rock</td>\n",
       "      <td>474</td>\n",
       "    </tr>\n",
       "    <tr>\n",
       "      <td>hiphop</td>\n",
       "      <td>286</td>\n",
       "    </tr>\n",
       "    <tr>\n",
       "      <td>ruspop</td>\n",
       "      <td>186</td>\n",
       "    </tr>\n",
       "    <tr>\n",
       "      <td>world</td>\n",
       "      <td>181</td>\n",
       "    </tr>\n",
       "    <tr>\n",
       "      <td>rusrap</td>\n",
       "      <td>175</td>\n",
       "    </tr>\n",
       "    <tr>\n",
       "      <td>alternative</td>\n",
       "      <td>164</td>\n",
       "    </tr>\n",
       "    <tr>\n",
       "      <td>unknown</td>\n",
       "      <td>161</td>\n",
       "    </tr>\n",
       "  </tbody>\n",
       "</table>\n",
       "</div>"
      ],
      "text/plain": [
       "             user_id\n",
       "genre               \n",
       "pop              781\n",
       "dance            549\n",
       "electronic       480\n",
       "rock             474\n",
       "hiphop           286\n",
       "ruspop           186\n",
       "world            181\n",
       "rusrap           175\n",
       "alternative      164\n",
       "unknown          161"
      ]
     },
     "execution_count": 36,
     "metadata": {},
     "output_type": "execute_result"
    }
   ],
   "source": [
    "# вызов функции для утра понедельника в Москве\n",
    "genre_weekday(moscow_general, 'Monday', '07:00', '11:00').to_frame()"
   ]
  },
  {
   "cell_type": "code",
   "execution_count": 37,
   "metadata": {
    "id": "kwUcHPdy_Zcu"
   },
   "outputs": [
    {
     "data": {
      "text/html": [
       "<div>\n",
       "<style scoped>\n",
       "    .dataframe tbody tr th:only-of-type {\n",
       "        vertical-align: middle;\n",
       "    }\n",
       "\n",
       "    .dataframe tbody tr th {\n",
       "        vertical-align: top;\n",
       "    }\n",
       "\n",
       "    .dataframe thead th {\n",
       "        text-align: right;\n",
       "    }\n",
       "</style>\n",
       "<table border=\"1\" class=\"dataframe\">\n",
       "  <thead>\n",
       "    <tr style=\"text-align: right;\">\n",
       "      <th></th>\n",
       "      <th>user_id</th>\n",
       "    </tr>\n",
       "    <tr>\n",
       "      <th>genre</th>\n",
       "      <th></th>\n",
       "    </tr>\n",
       "  </thead>\n",
       "  <tbody>\n",
       "    <tr>\n",
       "      <td>pop</td>\n",
       "      <td>218</td>\n",
       "    </tr>\n",
       "    <tr>\n",
       "      <td>dance</td>\n",
       "      <td>182</td>\n",
       "    </tr>\n",
       "    <tr>\n",
       "      <td>rock</td>\n",
       "      <td>162</td>\n",
       "    </tr>\n",
       "    <tr>\n",
       "      <td>electronic</td>\n",
       "      <td>147</td>\n",
       "    </tr>\n",
       "    <tr>\n",
       "      <td>hiphop</td>\n",
       "      <td>80</td>\n",
       "    </tr>\n",
       "    <tr>\n",
       "      <td>ruspop</td>\n",
       "      <td>64</td>\n",
       "    </tr>\n",
       "    <tr>\n",
       "      <td>alternative</td>\n",
       "      <td>58</td>\n",
       "    </tr>\n",
       "    <tr>\n",
       "      <td>rusrap</td>\n",
       "      <td>55</td>\n",
       "    </tr>\n",
       "    <tr>\n",
       "      <td>jazz</td>\n",
       "      <td>44</td>\n",
       "    </tr>\n",
       "    <tr>\n",
       "      <td>classical</td>\n",
       "      <td>40</td>\n",
       "    </tr>\n",
       "  </tbody>\n",
       "</table>\n",
       "</div>"
      ],
      "text/plain": [
       "             user_id\n",
       "genre               \n",
       "pop              218\n",
       "dance            182\n",
       "rock             162\n",
       "electronic       147\n",
       "hiphop            80\n",
       "ruspop            64\n",
       "alternative       58\n",
       "rusrap            55\n",
       "jazz              44\n",
       "classical         40"
      ]
     },
     "execution_count": 37,
     "metadata": {},
     "output_type": "execute_result"
    }
   ],
   "source": [
    "# вызов функции для утра понедельника в Петербурге\n",
    "genre_weekday(spb_general, 'Monday', '07:00', '11:00').to_frame()"
   ]
  },
  {
   "cell_type": "code",
   "execution_count": 38,
   "metadata": {
    "id": "EzXVRE1o_Zcu"
   },
   "outputs": [
    {
     "data": {
      "text/html": [
       "<div>\n",
       "<style scoped>\n",
       "    .dataframe tbody tr th:only-of-type {\n",
       "        vertical-align: middle;\n",
       "    }\n",
       "\n",
       "    .dataframe tbody tr th {\n",
       "        vertical-align: top;\n",
       "    }\n",
       "\n",
       "    .dataframe thead th {\n",
       "        text-align: right;\n",
       "    }\n",
       "</style>\n",
       "<table border=\"1\" class=\"dataframe\">\n",
       "  <thead>\n",
       "    <tr style=\"text-align: right;\">\n",
       "      <th></th>\n",
       "      <th>user_id</th>\n",
       "    </tr>\n",
       "    <tr>\n",
       "      <th>genre</th>\n",
       "      <th></th>\n",
       "    </tr>\n",
       "  </thead>\n",
       "  <tbody>\n",
       "    <tr>\n",
       "      <td>pop</td>\n",
       "      <td>713</td>\n",
       "    </tr>\n",
       "    <tr>\n",
       "      <td>rock</td>\n",
       "      <td>517</td>\n",
       "    </tr>\n",
       "    <tr>\n",
       "      <td>dance</td>\n",
       "      <td>495</td>\n",
       "    </tr>\n",
       "    <tr>\n",
       "      <td>electronic</td>\n",
       "      <td>482</td>\n",
       "    </tr>\n",
       "    <tr>\n",
       "      <td>hiphop</td>\n",
       "      <td>273</td>\n",
       "    </tr>\n",
       "    <tr>\n",
       "      <td>world</td>\n",
       "      <td>208</td>\n",
       "    </tr>\n",
       "    <tr>\n",
       "      <td>ruspop</td>\n",
       "      <td>170</td>\n",
       "    </tr>\n",
       "    <tr>\n",
       "      <td>alternative</td>\n",
       "      <td>163</td>\n",
       "    </tr>\n",
       "    <tr>\n",
       "      <td>classical</td>\n",
       "      <td>163</td>\n",
       "    </tr>\n",
       "    <tr>\n",
       "      <td>rusrap</td>\n",
       "      <td>142</td>\n",
       "    </tr>\n",
       "  </tbody>\n",
       "</table>\n",
       "</div>"
      ],
      "text/plain": [
       "             user_id\n",
       "genre               \n",
       "pop              713\n",
       "rock             517\n",
       "dance            495\n",
       "electronic       482\n",
       "hiphop           273\n",
       "world            208\n",
       "ruspop           170\n",
       "alternative      163\n",
       "classical        163\n",
       "rusrap           142"
      ]
     },
     "execution_count": 38,
     "metadata": {},
     "output_type": "execute_result"
    }
   ],
   "source": [
    "# вызов функции для вечера пятницы в Москве\n",
    "genre_weekday(moscow_general, 'Friday', '17:00', '23:00').to_frame()"
   ]
  },
  {
   "cell_type": "code",
   "execution_count": 39,
   "metadata": {
    "id": "JZaEKu5v_Zcu"
   },
   "outputs": [
    {
     "data": {
      "text/html": [
       "<div>\n",
       "<style scoped>\n",
       "    .dataframe tbody tr th:only-of-type {\n",
       "        vertical-align: middle;\n",
       "    }\n",
       "\n",
       "    .dataframe tbody tr th {\n",
       "        vertical-align: top;\n",
       "    }\n",
       "\n",
       "    .dataframe thead th {\n",
       "        text-align: right;\n",
       "    }\n",
       "</style>\n",
       "<table border=\"1\" class=\"dataframe\">\n",
       "  <thead>\n",
       "    <tr style=\"text-align: right;\">\n",
       "      <th></th>\n",
       "      <th>user_id</th>\n",
       "    </tr>\n",
       "    <tr>\n",
       "      <th>genre</th>\n",
       "      <th></th>\n",
       "    </tr>\n",
       "  </thead>\n",
       "  <tbody>\n",
       "    <tr>\n",
       "      <td>pop</td>\n",
       "      <td>256</td>\n",
       "    </tr>\n",
       "    <tr>\n",
       "      <td>rock</td>\n",
       "      <td>216</td>\n",
       "    </tr>\n",
       "    <tr>\n",
       "      <td>electronic</td>\n",
       "      <td>216</td>\n",
       "    </tr>\n",
       "    <tr>\n",
       "      <td>dance</td>\n",
       "      <td>210</td>\n",
       "    </tr>\n",
       "    <tr>\n",
       "      <td>hiphop</td>\n",
       "      <td>97</td>\n",
       "    </tr>\n",
       "    <tr>\n",
       "      <td>alternative</td>\n",
       "      <td>63</td>\n",
       "    </tr>\n",
       "    <tr>\n",
       "      <td>jazz</td>\n",
       "      <td>61</td>\n",
       "    </tr>\n",
       "    <tr>\n",
       "      <td>classical</td>\n",
       "      <td>60</td>\n",
       "    </tr>\n",
       "    <tr>\n",
       "      <td>rusrap</td>\n",
       "      <td>59</td>\n",
       "    </tr>\n",
       "    <tr>\n",
       "      <td>world</td>\n",
       "      <td>54</td>\n",
       "    </tr>\n",
       "  </tbody>\n",
       "</table>\n",
       "</div>"
      ],
      "text/plain": [
       "             user_id\n",
       "genre               \n",
       "pop              256\n",
       "rock             216\n",
       "electronic       216\n",
       "dance            210\n",
       "hiphop            97\n",
       "alternative       63\n",
       "jazz              61\n",
       "classical         60\n",
       "rusrap            59\n",
       "world             54"
      ]
     },
     "execution_count": 39,
     "metadata": {},
     "output_type": "execute_result"
    }
   ],
   "source": [
    "# вызов функции для вечера пятницы в Петербурге\n",
    "genre_weekday(spb_general, 'Friday', '17:00', '23:00').to_frame()"
   ]
  },
  {
   "cell_type": "markdown",
   "metadata": {
    "id": "wrCe4MNX_Zcu"
   },
   "source": [
    "**Выводы**\n",
    "\n",
    "Если сравнить топ-10 жанров в понедельник утром, можно сделать такие выводы:\n",
    "\n",
    "1. В Москве и Петербурге слушают похожую музыку. Единственное отличие — в московский рейтинг вошёл жанр “world”, а в петербургский — джаз и классика.\n",
    "\n",
    "2. В Москве пропущенных значений оказалось так много, что значение `'unknown'` заняло десятое место среди самых популярных жанров. Значит, пропущенные значения занимают существенную долю в данных и угрожают достоверности исследования.\n",
    "\n",
    "Вечер пятницы не меняет эту картину. Некоторые жанры поднимаются немного выше, другие спускаются, но в целом топ-10 остаётся тем же самым.\n",
    "\n",
    "Таким образом, вторая гипотеза подтвердилась лишь частично:\n",
    "* Пользователи слушают похожую музыку в начале недели и в конце.\n",
    "* Разница между Москвой и Петербургом не слишком выражена. В Москве чаще слушают русскую популярную музыку, в Петербурге — джаз.\n",
    "\n",
    "Однако пропуски в данных ставят под сомнение этот результат. В Москве их так много, что рейтинг топ-10 мог бы выглядеть иначе, если бы не утерянные  данные о жанрах."
   ]
  },
  {
   "cell_type": "markdown",
   "metadata": {
    "id": "JolODAqr_Zcu"
   },
   "source": [
    "### Жанровые предпочтения в Москве и Петербурге\n",
    "\n",
    "Гипотеза: Петербург — столица рэпа, музыку этого жанра там слушают чаще, чем в Москве.  А Москва — город контрастов, в котором, тем не менее, преобладает поп-музыка."
   ]
  },
  {
   "cell_type": "markdown",
   "metadata": {
    "id": "DlegSvaT_Zcu"
   },
   "source": [
    "Сгруппируем таблицу `moscow_general` по жанру и посчитаем прослушивания треков каждого жанра методом `count()`. Затем отсортируем результат в порядке убывания и сохраним его в таблице `moscow_genres`."
   ]
  },
  {
   "cell_type": "code",
   "execution_count": 40,
   "metadata": {
    "id": "r19lIPke_Zcu"
   },
   "outputs": [],
   "source": [
    "moscow_genres = moscow_general.groupby('genre')['user_id'].count().sort_values(ascending=False)"
   ]
  },
  {
   "cell_type": "markdown",
   "metadata": {
    "id": "6kMuomxTiIr8"
   },
   "source": [
    "Выведем на экран первые десять строк `moscow_genres`:"
   ]
  },
  {
   "cell_type": "code",
   "execution_count": 41,
   "metadata": {
    "id": "WhCSooF8_Zcv"
   },
   "outputs": [
    {
     "data": {
      "text/html": [
       "<div>\n",
       "<style scoped>\n",
       "    .dataframe tbody tr th:only-of-type {\n",
       "        vertical-align: middle;\n",
       "    }\n",
       "\n",
       "    .dataframe tbody tr th {\n",
       "        vertical-align: top;\n",
       "    }\n",
       "\n",
       "    .dataframe thead th {\n",
       "        text-align: right;\n",
       "    }\n",
       "</style>\n",
       "<table border=\"1\" class=\"dataframe\">\n",
       "  <thead>\n",
       "    <tr style=\"text-align: right;\">\n",
       "      <th></th>\n",
       "      <th>user_id</th>\n",
       "    </tr>\n",
       "    <tr>\n",
       "      <th>genre</th>\n",
       "      <th></th>\n",
       "    </tr>\n",
       "  </thead>\n",
       "  <tbody>\n",
       "    <tr>\n",
       "      <td>pop</td>\n",
       "      <td>5892</td>\n",
       "    </tr>\n",
       "    <tr>\n",
       "      <td>dance</td>\n",
       "      <td>4435</td>\n",
       "    </tr>\n",
       "    <tr>\n",
       "      <td>rock</td>\n",
       "      <td>3965</td>\n",
       "    </tr>\n",
       "    <tr>\n",
       "      <td>electronic</td>\n",
       "      <td>3786</td>\n",
       "    </tr>\n",
       "    <tr>\n",
       "      <td>hiphop</td>\n",
       "      <td>2096</td>\n",
       "    </tr>\n",
       "    <tr>\n",
       "      <td>classical</td>\n",
       "      <td>1616</td>\n",
       "    </tr>\n",
       "    <tr>\n",
       "      <td>world</td>\n",
       "      <td>1432</td>\n",
       "    </tr>\n",
       "    <tr>\n",
       "      <td>alternative</td>\n",
       "      <td>1379</td>\n",
       "    </tr>\n",
       "    <tr>\n",
       "      <td>ruspop</td>\n",
       "      <td>1372</td>\n",
       "    </tr>\n",
       "    <tr>\n",
       "      <td>rusrap</td>\n",
       "      <td>1161</td>\n",
       "    </tr>\n",
       "  </tbody>\n",
       "</table>\n",
       "</div>"
      ],
      "text/plain": [
       "             user_id\n",
       "genre               \n",
       "pop             5892\n",
       "dance           4435\n",
       "rock            3965\n",
       "electronic      3786\n",
       "hiphop          2096\n",
       "classical       1616\n",
       "world           1432\n",
       "alternative     1379\n",
       "ruspop          1372\n",
       "rusrap          1161"
      ]
     },
     "execution_count": 41,
     "metadata": {},
     "output_type": "execute_result"
    }
   ],
   "source": [
    "moscow_genres.to_frame().head(10)"
   ]
  },
  {
   "cell_type": "markdown",
   "metadata": {
    "id": "cnPG2vnN_Zcv"
   },
   "source": [
    "Теперь повторим то же и для Петербурга.\n"
   ]
  },
  {
   "cell_type": "code",
   "execution_count": 42,
   "metadata": {
    "id": "gluLIpE7_Zcv"
   },
   "outputs": [],
   "source": [
    "spb_genres = spb_general.groupby('genre')['user_id'].count().sort_values(ascending=False)"
   ]
  },
  {
   "cell_type": "markdown",
   "metadata": {
    "id": "5Doha_ODgyQ8"
   },
   "source": [
    "Выведем на экран первые десять строк `spb_genres`:"
   ]
  },
  {
   "cell_type": "code",
   "execution_count": 43,
   "metadata": {
    "id": "uaGJHjVU_Zcv"
   },
   "outputs": [
    {
     "data": {
      "text/html": [
       "<div>\n",
       "<style scoped>\n",
       "    .dataframe tbody tr th:only-of-type {\n",
       "        vertical-align: middle;\n",
       "    }\n",
       "\n",
       "    .dataframe tbody tr th {\n",
       "        vertical-align: top;\n",
       "    }\n",
       "\n",
       "    .dataframe thead th {\n",
       "        text-align: right;\n",
       "    }\n",
       "</style>\n",
       "<table border=\"1\" class=\"dataframe\">\n",
       "  <thead>\n",
       "    <tr style=\"text-align: right;\">\n",
       "      <th></th>\n",
       "      <th>user_id</th>\n",
       "    </tr>\n",
       "    <tr>\n",
       "      <th>genre</th>\n",
       "      <th></th>\n",
       "    </tr>\n",
       "  </thead>\n",
       "  <tbody>\n",
       "    <tr>\n",
       "      <td>pop</td>\n",
       "      <td>2431</td>\n",
       "    </tr>\n",
       "    <tr>\n",
       "      <td>dance</td>\n",
       "      <td>1932</td>\n",
       "    </tr>\n",
       "    <tr>\n",
       "      <td>rock</td>\n",
       "      <td>1879</td>\n",
       "    </tr>\n",
       "    <tr>\n",
       "      <td>electronic</td>\n",
       "      <td>1737</td>\n",
       "    </tr>\n",
       "    <tr>\n",
       "      <td>hiphop</td>\n",
       "      <td>960</td>\n",
       "    </tr>\n",
       "    <tr>\n",
       "      <td>alternative</td>\n",
       "      <td>649</td>\n",
       "    </tr>\n",
       "    <tr>\n",
       "      <td>classical</td>\n",
       "      <td>646</td>\n",
       "    </tr>\n",
       "    <tr>\n",
       "      <td>rusrap</td>\n",
       "      <td>564</td>\n",
       "    </tr>\n",
       "    <tr>\n",
       "      <td>ruspop</td>\n",
       "      <td>538</td>\n",
       "    </tr>\n",
       "    <tr>\n",
       "      <td>world</td>\n",
       "      <td>515</td>\n",
       "    </tr>\n",
       "  </tbody>\n",
       "</table>\n",
       "</div>"
      ],
      "text/plain": [
       "             user_id\n",
       "genre               \n",
       "pop             2431\n",
       "dance           1932\n",
       "rock            1879\n",
       "electronic      1737\n",
       "hiphop           960\n",
       "alternative      649\n",
       "classical        646\n",
       "rusrap           564\n",
       "ruspop           538\n",
       "world            515"
      ]
     },
     "execution_count": 43,
     "metadata": {},
     "output_type": "execute_result"
    }
   ],
   "source": [
    "spb_genres.to_frame().head(10)"
   ]
  },
  {
   "cell_type": "markdown",
   "metadata": {
    "id": "RY51YJYu_Zcv"
   },
   "source": [
    "**Выводы**"
   ]
  },
  {
   "cell_type": "markdown",
   "metadata": {
    "id": "nVhnJEm__Zcv"
   },
   "source": [
    "Гипотеза частично подтвердилась:\n",
    "* Поп-музыка — самый популярный жанр в Москве, как и предполагала гипотеза. Более того, в топ-10 жанров встречается близкий жанр — русская популярная музыка.\n",
    "* Вопреки ожиданиям, рэп одинаково популярен в Москве и Петербурге. \n"
   ]
  },
  {
   "cell_type": "markdown",
   "metadata": {
    "id": "ykKQ0N65_Zcv"
   },
   "source": [
    "## Итоги исследования"
   ]
  },
  {
   "cell_type": "markdown",
   "metadata": {
    "id": "tjUwbHb3_Zcv"
   },
   "source": [
    "Проверены три гипотезы:\n",
    "\n",
    "1. День недели по-разному влияет на активность пользователей в Москве и Петербурге. \n",
    "\n",
    "Первая гипотеза полностью подтвердилась.\n",
    "\n",
    "2. Музыкальные предпочтения не сильно меняются в течение недели — будь то Москва или Петербург. Небольшие различия заметны в начале недели, по понедельникам:\n",
    "* в Москве слушают музыку жанра “world”,\n",
    "* в Петербурге — джаз и классику.\n",
    "\n",
    "Таким образом, вторая гипотеза подтвердилась лишь отчасти. Этот результат мог оказаться иным, если бы не пропуски в данных.\n",
    "\n",
    "3. Во вкусах пользователей Москвы и Петербурга больше общего чем различий. Вопреки ожиданиям, предпочтения жанров в Петербурге напоминают московские.\n",
    "\n",
    "Третья гипотеза не подтвердилась. Если различия в предпочтениях и существуют, на основной массе пользователей они незаметны."
   ]
  }
 ],
 "metadata": {
  "ExecuteTimeLog": [
   {
    "duration": 4,
    "start_time": "2021-10-15T05:25:41.902Z"
   },
   {
    "duration": 450,
    "start_time": "2021-10-15T05:26:09.293Z"
   },
   {
    "duration": 196,
    "start_time": "2021-10-15T05:26:14.122Z"
   },
   {
    "duration": 15,
    "start_time": "2021-10-15T05:26:20.692Z"
   },
   {
    "duration": 30,
    "start_time": "2021-10-15T05:26:27.205Z"
   },
   {
    "duration": 25,
    "start_time": "2021-10-15T05:30:25.921Z"
   },
   {
    "duration": 50,
    "start_time": "2021-10-15T05:30:32.875Z"
   },
   {
    "duration": 42,
    "start_time": "2021-10-15T05:30:41.473Z"
   },
   {
    "duration": 43,
    "start_time": "2021-10-15T05:30:58.924Z"
   },
   {
    "duration": 42,
    "start_time": "2021-10-15T05:31:28.951Z"
   },
   {
    "duration": 31,
    "start_time": "2021-10-15T05:32:03.955Z"
   },
   {
    "duration": 28,
    "start_time": "2021-10-15T05:32:40.687Z"
   },
   {
    "duration": 34,
    "start_time": "2021-10-15T05:32:45.065Z"
   },
   {
    "duration": 34,
    "start_time": "2021-10-15T05:32:48.546Z"
   },
   {
    "duration": 42,
    "start_time": "2021-10-15T05:32:59.970Z"
   },
   {
    "duration": 38,
    "start_time": "2021-10-15T05:33:12.388Z"
   },
   {
    "duration": 5,
    "start_time": "2021-10-15T05:33:20.598Z"
   },
   {
    "duration": 179,
    "start_time": "2021-10-15T05:33:21.413Z"
   },
   {
    "duration": 16,
    "start_time": "2021-10-15T05:33:22.861Z"
   },
   {
    "duration": 4,
    "start_time": "2021-10-15T05:33:39.783Z"
   },
   {
    "duration": 184,
    "start_time": "2021-10-15T05:33:40.488Z"
   },
   {
    "duration": 16,
    "start_time": "2021-10-15T05:33:41.656Z"
   },
   {
    "duration": 36,
    "start_time": "2021-10-15T05:33:45.770Z"
   },
   {
    "duration": 36,
    "start_time": "2021-10-15T05:35:13.412Z"
   },
   {
    "duration": 24,
    "start_time": "2021-10-15T05:35:20.583Z"
   },
   {
    "duration": 23,
    "start_time": "2021-10-15T05:35:43.057Z"
   },
   {
    "duration": 31,
    "start_time": "2021-10-15T05:37:22.062Z"
   },
   {
    "duration": 31,
    "start_time": "2021-10-15T05:37:43.520Z"
   },
   {
    "duration": 101,
    "start_time": "2021-10-15T05:38:49.690Z"
   },
   {
    "duration": 76,
    "start_time": "2021-10-15T05:38:57.853Z"
   },
   {
    "duration": 72,
    "start_time": "2021-10-15T05:39:11.901Z"
   },
   {
    "duration": 54,
    "start_time": "2021-10-15T05:39:28.903Z"
   },
   {
    "duration": 79,
    "start_time": "2021-10-15T05:39:50.137Z"
   },
   {
    "duration": 150,
    "start_time": "2021-10-15T05:40:49.570Z"
   },
   {
    "duration": 88,
    "start_time": "2021-10-15T05:41:37.719Z"
   },
   {
    "duration": 148,
    "start_time": "2021-10-15T05:41:42.570Z"
   },
   {
    "duration": 150,
    "start_time": "2021-10-15T05:42:13.741Z"
   },
   {
    "duration": 98,
    "start_time": "2021-10-15T05:42:16.078Z"
   },
   {
    "duration": 107,
    "start_time": "2021-10-15T05:42:26.577Z"
   },
   {
    "duration": 327,
    "start_time": "2021-10-15T15:47:43.304Z"
   },
   {
    "duration": 792,
    "start_time": "2021-10-15T15:47:51.829Z"
   },
   {
    "duration": 190,
    "start_time": "2021-10-15T15:47:53.135Z"
   },
   {
    "duration": 26,
    "start_time": "2021-10-15T15:47:53.997Z"
   },
   {
    "duration": 32,
    "start_time": "2021-10-15T15:47:57.902Z"
   },
   {
    "duration": 3,
    "start_time": "2021-10-15T15:48:04.341Z"
   },
   {
    "duration": 3,
    "start_time": "2021-10-15T15:48:08.967Z"
   },
   {
    "duration": 4,
    "start_time": "2021-10-15T15:48:09.447Z"
   },
   {
    "duration": 6,
    "start_time": "2021-10-15T15:48:11.285Z"
   },
   {
    "duration": 5,
    "start_time": "2021-10-15T15:48:35.603Z"
   },
   {
    "duration": 5,
    "start_time": "2021-10-15T15:48:41.083Z"
   },
   {
    "duration": 27,
    "start_time": "2021-10-15T15:48:51.237Z"
   },
   {
    "duration": 5,
    "start_time": "2021-10-15T15:48:59.262Z"
   },
   {
    "duration": 85,
    "start_time": "2021-10-15T15:49:24.849Z"
   },
   {
    "duration": 307,
    "start_time": "2021-10-15T15:54:17.120Z"
   },
   {
    "duration": 286,
    "start_time": "2021-10-15T15:54:58.741Z"
   },
   {
    "duration": 22,
    "start_time": "2021-10-15T15:56:07.504Z"
   },
   {
    "duration": 22,
    "start_time": "2021-10-15T15:56:11.768Z"
   },
   {
    "duration": 110,
    "start_time": "2021-10-15T15:56:22.641Z"
   },
   {
    "duration": 22,
    "start_time": "2021-10-15T15:56:25.369Z"
   },
   {
    "duration": 77,
    "start_time": "2021-10-15T15:56:26.121Z"
   },
   {
    "duration": 3,
    "start_time": "2021-10-15T15:56:39.163Z"
   },
   {
    "duration": 192,
    "start_time": "2021-10-15T15:56:39.523Z"
   },
   {
    "duration": 16,
    "start_time": "2021-10-15T15:56:39.978Z"
   },
   {
    "duration": 31,
    "start_time": "2021-10-15T15:56:41.291Z"
   },
   {
    "duration": 3,
    "start_time": "2021-10-15T15:56:44.602Z"
   },
   {
    "duration": 3,
    "start_time": "2021-10-15T15:56:44.940Z"
   },
   {
    "duration": 3,
    "start_time": "2021-10-15T15:56:45.221Z"
   },
   {
    "duration": 6,
    "start_time": "2021-10-15T15:56:55.285Z"
   },
   {
    "duration": 27,
    "start_time": "2021-10-15T15:56:57.437Z"
   },
   {
    "duration": 6,
    "start_time": "2021-10-15T15:56:58.814Z"
   },
   {
    "duration": 87,
    "start_time": "2021-10-15T15:57:00.254Z"
   },
   {
    "duration": 23,
    "start_time": "2021-10-15T15:57:03.711Z"
   },
   {
    "duration": 77,
    "start_time": "2021-10-15T15:57:04.479Z"
   },
   {
    "duration": 33,
    "start_time": "2021-10-15T15:57:41.607Z"
   },
   {
    "duration": 31,
    "start_time": "2021-10-15T15:58:00.902Z"
   },
   {
    "duration": 22,
    "start_time": "2021-10-15T15:59:24.983Z"
   },
   {
    "duration": 258,
    "start_time": "2021-10-15T16:01:36.819Z"
   },
   {
    "duration": 77,
    "start_time": "2021-10-15T16:01:41.157Z"
   },
   {
    "duration": 113,
    "start_time": "2021-10-15T16:02:03.118Z"
   },
   {
    "duration": 95,
    "start_time": "2021-10-15T16:02:19.713Z"
   },
   {
    "duration": 76,
    "start_time": "2021-10-15T16:02:29.731Z"
   },
   {
    "duration": 7,
    "start_time": "2021-10-15T16:03:23.746Z"
   },
   {
    "duration": 56,
    "start_time": "2021-10-15T16:03:31.331Z"
   },
   {
    "duration": 57,
    "start_time": "2021-10-15T16:03:43.678Z"
   },
   {
    "duration": 4,
    "start_time": "2021-10-15T16:09:56.760Z"
   },
   {
    "duration": 96,
    "start_time": "2021-10-15T16:10:55.759Z"
   },
   {
    "duration": 84,
    "start_time": "2021-10-15T16:11:14.106Z"
   },
   {
    "duration": 111,
    "start_time": "2021-10-15T16:11:29.131Z"
   },
   {
    "duration": 14,
    "start_time": "2021-10-15T16:11:34.054Z"
   },
   {
    "duration": 59,
    "start_time": "2021-10-15T16:11:46.078Z"
   },
   {
    "duration": 6,
    "start_time": "2021-10-15T17:53:49.008Z"
   },
   {
    "duration": 5,
    "start_time": "2021-10-15T17:54:16.795Z"
   },
   {
    "duration": 4,
    "start_time": "2021-10-15T17:55:49.015Z"
   },
   {
    "duration": 15,
    "start_time": "2021-10-15T17:55:54.536Z"
   },
   {
    "duration": 17,
    "start_time": "2021-10-15T17:56:02.337Z"
   },
   {
    "duration": 6,
    "start_time": "2021-10-15T17:56:13.785Z"
   },
   {
    "duration": 6,
    "start_time": "2021-10-15T17:57:33.749Z"
   },
   {
    "duration": 6,
    "start_time": "2021-10-15T17:57:59.137Z"
   },
   {
    "duration": 6,
    "start_time": "2021-10-15T17:58:11.154Z"
   },
   {
    "duration": 270,
    "start_time": "2021-10-15T17:58:17.900Z"
   },
   {
    "duration": 17,
    "start_time": "2021-10-15T18:02:03.594Z"
   },
   {
    "duration": 3,
    "start_time": "2021-10-15T18:02:47.761Z"
   },
   {
    "duration": 192,
    "start_time": "2021-10-15T18:02:48.441Z"
   },
   {
    "duration": 15,
    "start_time": "2021-10-15T18:02:49.025Z"
   },
   {
    "duration": 31,
    "start_time": "2021-10-15T18:02:49.528Z"
   },
   {
    "duration": 3,
    "start_time": "2021-10-15T18:02:51.384Z"
   },
   {
    "duration": 3,
    "start_time": "2021-10-15T18:02:51.640Z"
   },
   {
    "duration": 3,
    "start_time": "2021-10-15T18:02:52.026Z"
   },
   {
    "duration": 5,
    "start_time": "2021-10-15T18:02:53.084Z"
   },
   {
    "duration": 27,
    "start_time": "2021-10-15T18:02:54.403Z"
   },
   {
    "duration": 5,
    "start_time": "2021-10-15T18:02:55.009Z"
   },
   {
    "duration": 83,
    "start_time": "2021-10-15T18:02:55.817Z"
   },
   {
    "duration": 21,
    "start_time": "2021-10-15T18:02:57.073Z"
   },
   {
    "duration": 48,
    "start_time": "2021-10-15T18:02:58.113Z"
   },
   {
    "duration": 111,
    "start_time": "2021-10-15T18:02:59.713Z"
   },
   {
    "duration": 128,
    "start_time": "2021-10-15T18:03:00.194Z"
   },
   {
    "duration": 82,
    "start_time": "2021-10-15T18:03:00.754Z"
   },
   {
    "duration": 60,
    "start_time": "2021-10-15T18:03:02.569Z"
   },
   {
    "duration": 4,
    "start_time": "2021-10-15T18:03:03.593Z"
   },
   {
    "duration": 13,
    "start_time": "2021-10-15T18:03:04.394Z"
   },
   {
    "duration": 80,
    "start_time": "2021-10-15T18:03:05.442Z"
   },
   {
    "duration": 6,
    "start_time": "2021-10-15T18:03:43.808Z"
   },
   {
    "duration": 7,
    "start_time": "2021-10-15T18:03:53.633Z"
   },
   {
    "duration": 260,
    "start_time": "2021-10-15T18:04:03.907Z"
   },
   {
    "duration": 19,
    "start_time": "2021-10-15T18:04:06.427Z"
   },
   {
    "duration": 6,
    "start_time": "2021-10-15T18:04:27.398Z"
   },
   {
    "duration": 47,
    "start_time": "2021-10-15T18:04:45.648Z"
   },
   {
    "duration": 243,
    "start_time": "2021-10-15T18:05:39.056Z"
   },
   {
    "duration": 44,
    "start_time": "2021-10-15T18:05:46.744Z"
   },
   {
    "duration": 13,
    "start_time": "2021-10-15T18:06:20.549Z"
   },
   {
    "duration": 13,
    "start_time": "2021-10-15T18:06:31.095Z"
   },
   {
    "duration": 42,
    "start_time": "2021-10-15T18:06:36.783Z"
   },
   {
    "duration": 11,
    "start_time": "2021-10-15T18:07:57.099Z"
   },
   {
    "duration": 15,
    "start_time": "2021-10-15T18:08:02.988Z"
   },
   {
    "duration": 44,
    "start_time": "2021-10-15T18:08:31.543Z"
   },
   {
    "duration": 27,
    "start_time": "2021-10-15T18:31:36.780Z"
   },
   {
    "duration": 37,
    "start_time": "2021-10-15T18:32:27.937Z"
   },
   {
    "duration": 40,
    "start_time": "2021-10-15T18:32:32.395Z"
   },
   {
    "duration": 43,
    "start_time": "2021-10-15T18:33:13.825Z"
   },
   {
    "duration": 33,
    "start_time": "2021-10-15T18:33:23.163Z"
   },
   {
    "duration": 19,
    "start_time": "2021-10-15T18:35:49.510Z"
   },
   {
    "duration": 20,
    "start_time": "2021-10-15T18:35:51.445Z"
   },
   {
    "duration": 34,
    "start_time": "2021-10-15T18:36:05.137Z"
   },
   {
    "duration": 34,
    "start_time": "2021-10-15T18:36:15.986Z"
   },
   {
    "duration": 4,
    "start_time": "2021-10-15T18:36:25.251Z"
   },
   {
    "duration": 5,
    "start_time": "2021-10-15T18:36:46.205Z"
   },
   {
    "duration": 17,
    "start_time": "2021-10-15T18:37:09.608Z"
   },
   {
    "duration": 26,
    "start_time": "2021-10-15T18:37:50.694Z"
   },
   {
    "duration": 24,
    "start_time": "2021-10-15T18:38:08.073Z"
   },
   {
    "duration": 26,
    "start_time": "2021-10-15T18:39:52.256Z"
   },
   {
    "duration": 26,
    "start_time": "2021-10-15T18:39:58.721Z"
   },
   {
    "duration": 4,
    "start_time": "2021-10-15T18:41:30.357Z"
   },
   {
    "duration": 20,
    "start_time": "2021-10-15T18:41:31.573Z"
   },
   {
    "duration": 21,
    "start_time": "2021-10-15T18:43:02.722Z"
   },
   {
    "duration": 19,
    "start_time": "2021-10-15T18:43:05.578Z"
   },
   {
    "duration": 11,
    "start_time": "2021-10-15T18:43:06.433Z"
   },
   {
    "duration": 23,
    "start_time": "2021-10-15T18:43:07.010Z"
   },
   {
    "duration": 21,
    "start_time": "2021-10-15T18:43:08.434Z"
   },
   {
    "duration": 20,
    "start_time": "2021-10-15T18:43:49.784Z"
   },
   {
    "duration": 9,
    "start_time": "2021-10-15T18:46:32.286Z"
   },
   {
    "duration": 13,
    "start_time": "2021-10-15T18:46:46.840Z"
   },
   {
    "duration": 12,
    "start_time": "2021-10-15T18:47:07.627Z"
   },
   {
    "duration": 511,
    "start_time": "2021-10-15T18:47:27.494Z"
   },
   {
    "duration": 284,
    "start_time": "2021-10-15T18:47:41.129Z"
   },
   {
    "duration": 291,
    "start_time": "2021-10-15T18:48:09.691Z"
   },
   {
    "duration": 12,
    "start_time": "2021-10-15T18:48:22.237Z"
   },
   {
    "duration": 12,
    "start_time": "2021-10-15T18:51:56.570Z"
   },
   {
    "duration": 309,
    "start_time": "2021-10-16T12:13:16.306Z"
   },
   {
    "duration": 738,
    "start_time": "2021-10-16T12:13:22.726Z"
   },
   {
    "duration": 189,
    "start_time": "2021-10-16T12:13:23.468Z"
   },
   {
    "duration": 26,
    "start_time": "2021-10-16T12:13:23.798Z"
   },
   {
    "duration": 34,
    "start_time": "2021-10-16T12:13:25.133Z"
   },
   {
    "duration": 3,
    "start_time": "2021-10-16T12:13:28.446Z"
   },
   {
    "duration": 3,
    "start_time": "2021-10-16T12:13:28.798Z"
   },
   {
    "duration": 3,
    "start_time": "2021-10-16T12:13:29.134Z"
   },
   {
    "duration": 5,
    "start_time": "2021-10-16T12:13:30.743Z"
   },
   {
    "duration": 28,
    "start_time": "2021-10-16T12:13:32.990Z"
   },
   {
    "duration": 8,
    "start_time": "2021-10-16T12:13:33.776Z"
   },
   {
    "duration": 99,
    "start_time": "2021-10-16T12:13:34.863Z"
   },
   {
    "duration": 23,
    "start_time": "2021-10-16T12:13:36.231Z"
   },
   {
    "duration": 33,
    "start_time": "2021-10-16T12:13:36.742Z"
   },
   {
    "duration": 95,
    "start_time": "2021-10-16T12:13:37.551Z"
   },
   {
    "duration": 117,
    "start_time": "2021-10-16T12:13:38.415Z"
   },
   {
    "duration": 89,
    "start_time": "2021-10-16T12:13:39.743Z"
   },
   {
    "duration": 66,
    "start_time": "2021-10-16T12:13:41.768Z"
   },
   {
    "duration": 4,
    "start_time": "2021-10-16T12:13:43.192Z"
   },
   {
    "duration": 16,
    "start_time": "2021-10-16T12:13:44.073Z"
   },
   {
    "duration": 60,
    "start_time": "2021-10-16T12:13:44.992Z"
   },
   {
    "duration": 45,
    "start_time": "2021-10-16T12:13:47.825Z"
   },
   {
    "duration": 48,
    "start_time": "2021-10-16T12:13:49.058Z"
   },
   {
    "duration": 3,
    "start_time": "2021-10-16T12:13:52.786Z"
   },
   {
    "duration": 4,
    "start_time": "2021-10-16T12:13:53.194Z"
   },
   {
    "duration": 22,
    "start_time": "2021-10-16T12:13:54.410Z"
   },
   {
    "duration": 20,
    "start_time": "2021-10-16T12:13:55.026Z"
   },
   {
    "duration": 22,
    "start_time": "2021-10-16T12:13:55.747Z"
   },
   {
    "duration": 25,
    "start_time": "2021-10-16T12:13:56.153Z"
   },
   {
    "duration": 29,
    "start_time": "2021-10-16T12:13:56.763Z"
   },
   {
    "duration": 26,
    "start_time": "2021-10-16T12:13:57.164Z"
   },
   {
    "duration": 12,
    "start_time": "2021-10-16T12:13:58.227Z"
   },
   {
    "duration": 14,
    "start_time": "2021-10-16T12:14:01.036Z"
   },
   {
    "duration": 28,
    "start_time": "2021-10-16T12:14:01.724Z"
   },
   {
    "duration": 33,
    "start_time": "2021-10-16T12:14:29.487Z"
   },
   {
    "duration": 7,
    "start_time": "2021-10-16T12:28:39.017Z"
   },
   {
    "duration": 25,
    "start_time": "2021-10-16T12:29:24.240Z"
   },
   {
    "duration": 18,
    "start_time": "2021-10-16T12:30:59.366Z"
   },
   {
    "duration": 23,
    "start_time": "2021-10-16T12:31:20.319Z"
   },
   {
    "duration": 16,
    "start_time": "2021-10-16T12:31:36.050Z"
   },
   {
    "duration": 23,
    "start_time": "2021-10-16T12:31:47.778Z"
   },
   {
    "duration": 25,
    "start_time": "2021-10-16T12:31:51.882Z"
   },
   {
    "duration": 42,
    "start_time": "2021-10-16T12:33:18.512Z"
   },
   {
    "duration": 25,
    "start_time": "2021-10-16T12:33:25.416Z"
   },
   {
    "duration": 317,
    "start_time": "2021-10-16T12:37:18.752Z"
   },
   {
    "duration": 30,
    "start_time": "2021-10-16T12:37:27.673Z"
   },
   {
    "duration": 42,
    "start_time": "2021-10-16T12:37:43.629Z"
   },
   {
    "duration": 12,
    "start_time": "2021-10-16T12:38:22.768Z"
   },
   {
    "duration": 6,
    "start_time": "2021-10-16T12:38:35.410Z"
   },
   {
    "duration": 256,
    "start_time": "2021-10-16T12:39:21.545Z"
   },
   {
    "duration": 9,
    "start_time": "2021-10-16T12:39:24.545Z"
   },
   {
    "duration": 9,
    "start_time": "2021-10-16T12:39:26.025Z"
   },
   {
    "duration": 16,
    "start_time": "2021-10-16T12:40:18.495Z"
   },
   {
    "duration": 29,
    "start_time": "2021-10-16T12:40:25.049Z"
   },
   {
    "duration": 21,
    "start_time": "2021-10-16T12:41:38.163Z"
   },
   {
    "duration": 29,
    "start_time": "2021-10-16T12:41:40.315Z"
   },
   {
    "duration": 80,
    "start_time": "2021-10-16T12:41:44.110Z"
   },
   {
    "duration": 80,
    "start_time": "2021-10-16T12:41:47.893Z"
   },
   {
    "duration": 76,
    "start_time": "2021-10-16T12:41:55.838Z"
   },
   {
    "duration": 3,
    "start_time": "2021-10-16T12:42:00.871Z"
   },
   {
    "duration": 195,
    "start_time": "2021-10-16T12:42:01.727Z"
   },
   {
    "duration": 17,
    "start_time": "2021-10-16T12:42:02.649Z"
   },
   {
    "duration": 33,
    "start_time": "2021-10-16T12:42:06.814Z"
   },
   {
    "duration": 6,
    "start_time": "2021-10-16T12:42:09.727Z"
   },
   {
    "duration": 26,
    "start_time": "2021-10-16T12:42:10.983Z"
   },
   {
    "duration": 6,
    "start_time": "2021-10-16T12:42:11.991Z"
   },
   {
    "duration": 87,
    "start_time": "2021-10-16T12:42:13.583Z"
   },
   {
    "duration": 22,
    "start_time": "2021-10-16T12:42:14.944Z"
   },
   {
    "duration": 30,
    "start_time": "2021-10-16T12:42:16.512Z"
   },
   {
    "duration": 89,
    "start_time": "2021-10-16T12:42:18.144Z"
   },
   {
    "duration": 101,
    "start_time": "2021-10-16T12:42:20.824Z"
   },
   {
    "duration": 76,
    "start_time": "2021-10-16T12:42:21.930Z"
   },
   {
    "duration": 59,
    "start_time": "2021-10-16T12:42:24.545Z"
   },
   {
    "duration": 4,
    "start_time": "2021-10-16T12:42:38.115Z"
   },
   {
    "duration": 14,
    "start_time": "2021-10-16T12:42:39.459Z"
   },
   {
    "duration": 59,
    "start_time": "2021-10-16T12:42:41.772Z"
   },
   {
    "duration": 44,
    "start_time": "2021-10-16T12:42:49.637Z"
   },
   {
    "duration": 45,
    "start_time": "2021-10-16T12:42:52.997Z"
   },
   {
    "duration": 4,
    "start_time": "2021-10-16T12:43:01.615Z"
   },
   {
    "duration": 5,
    "start_time": "2021-10-16T12:43:02.006Z"
   },
   {
    "duration": 22,
    "start_time": "2021-10-16T12:43:02.894Z"
   },
   {
    "duration": 19,
    "start_time": "2021-10-16T12:43:03.295Z"
   },
   {
    "duration": 21,
    "start_time": "2021-10-16T12:43:03.702Z"
   },
   {
    "duration": 20,
    "start_time": "2021-10-16T12:43:04.231Z"
   },
   {
    "duration": 28,
    "start_time": "2021-10-16T12:43:05.160Z"
   },
   {
    "duration": 20,
    "start_time": "2021-10-16T12:43:05.854Z"
   },
   {
    "duration": 12,
    "start_time": "2021-10-16T12:43:08.904Z"
   },
   {
    "duration": 13,
    "start_time": "2021-10-16T12:43:18.161Z"
   },
   {
    "duration": 30,
    "start_time": "2021-10-16T12:43:28.540Z"
   },
   {
    "duration": 31,
    "start_time": "2021-10-16T12:43:51.943Z"
   },
   {
    "duration": 28,
    "start_time": "2021-10-16T12:44:02.016Z"
   },
   {
    "duration": 4,
    "start_time": "2021-10-16T12:44:06.184Z"
   },
   {
    "duration": 5,
    "start_time": "2021-10-16T12:44:06.871Z"
   },
   {
    "duration": 24,
    "start_time": "2021-10-16T12:44:15.296Z"
   },
   {
    "duration": 18,
    "start_time": "2021-10-16T12:44:15.608Z"
   },
   {
    "duration": 21,
    "start_time": "2021-10-16T12:44:16.249Z"
   },
   {
    "duration": 17,
    "start_time": "2021-10-16T12:44:18.169Z"
   },
   {
    "duration": 11,
    "start_time": "2021-10-16T12:44:25.890Z"
   },
   {
    "duration": 7,
    "start_time": "2021-10-16T12:44:26.922Z"
   },
   {
    "duration": 9,
    "start_time": "2021-10-16T12:44:28.154Z"
   },
   {
    "duration": 7,
    "start_time": "2021-10-16T12:44:30.995Z"
   },
   {
    "duration": 3,
    "start_time": "2021-10-16T12:45:41.784Z"
   },
   {
    "duration": 215,
    "start_time": "2021-10-16T12:45:41.790Z"
   },
   {
    "duration": 16,
    "start_time": "2021-10-16T12:45:42.008Z"
   },
   {
    "duration": 51,
    "start_time": "2021-10-16T12:45:42.026Z"
   },
   {
    "duration": 5,
    "start_time": "2021-10-16T12:45:42.079Z"
   },
   {
    "duration": 20,
    "start_time": "2021-10-16T12:45:42.087Z"
   },
   {
    "duration": 5,
    "start_time": "2021-10-16T12:45:42.111Z"
   },
   {
    "duration": 125,
    "start_time": "2021-10-16T12:45:42.119Z"
   },
   {
    "duration": 34,
    "start_time": "2021-10-16T12:45:42.246Z"
   },
   {
    "duration": 30,
    "start_time": "2021-10-16T12:45:42.283Z"
   },
   {
    "duration": 106,
    "start_time": "2021-10-16T12:45:42.316Z"
   },
   {
    "duration": 100,
    "start_time": "2021-10-16T12:45:42.424Z"
   },
   {
    "duration": 84,
    "start_time": "2021-10-16T12:45:42.527Z"
   },
   {
    "duration": 67,
    "start_time": "2021-10-16T12:45:42.614Z"
   },
   {
    "duration": 4,
    "start_time": "2021-10-16T12:45:42.683Z"
   },
   {
    "duration": 25,
    "start_time": "2021-10-16T12:45:42.689Z"
   },
   {
    "duration": 78,
    "start_time": "2021-10-16T12:45:42.716Z"
   },
   {
    "duration": 44,
    "start_time": "2021-10-16T12:45:42.796Z"
   },
   {
    "duration": 45,
    "start_time": "2021-10-16T12:45:42.868Z"
   },
   {
    "duration": 4,
    "start_time": "2021-10-16T12:45:42.917Z"
   },
   {
    "duration": 8,
    "start_time": "2021-10-16T12:45:42.924Z"
   },
   {
    "duration": 53,
    "start_time": "2021-10-16T12:45:42.934Z"
   },
   {
    "duration": 22,
    "start_time": "2021-10-16T12:45:42.989Z"
   },
   {
    "duration": 54,
    "start_time": "2021-10-16T12:45:43.014Z"
   },
   {
    "duration": 27,
    "start_time": "2021-10-16T12:45:43.071Z"
   },
   {
    "duration": 25,
    "start_time": "2021-10-16T12:45:43.101Z"
   },
   {
    "duration": 51,
    "start_time": "2021-10-16T12:45:43.129Z"
   },
   {
    "duration": 11,
    "start_time": "2021-10-16T12:45:43.183Z"
   },
   {
    "duration": 33,
    "start_time": "2021-10-16T12:45:43.197Z"
   },
   {
    "duration": 54,
    "start_time": "2021-10-16T12:45:43.233Z"
   },
   {
    "duration": 3,
    "start_time": "2021-10-16T12:45:43.289Z"
   },
   {
    "duration": 10,
    "start_time": "2021-10-16T12:45:43.295Z"
   },
   {
    "duration": 34,
    "start_time": "2021-10-16T12:45:43.307Z"
   },
   {
    "duration": 37,
    "start_time": "2021-10-16T12:45:43.343Z"
   },
   {
    "duration": 22,
    "start_time": "2021-10-16T12:45:43.382Z"
   },
   {
    "duration": 15,
    "start_time": "2021-10-16T12:45:43.407Z"
   },
   {
    "duration": 43,
    "start_time": "2021-10-16T12:45:43.424Z"
   },
   {
    "duration": 6,
    "start_time": "2021-10-16T12:45:43.470Z"
   },
   {
    "duration": 12,
    "start_time": "2021-10-16T12:45:43.478Z"
   },
   {
    "duration": 6,
    "start_time": "2021-10-16T12:45:43.493Z"
   },
   {
    "duration": 4,
    "start_time": "2021-10-16T12:46:00.068Z"
   },
   {
    "duration": 232,
    "start_time": "2021-10-16T12:46:00.074Z"
   },
   {
    "duration": 16,
    "start_time": "2021-10-16T12:46:00.308Z"
   },
   {
    "duration": 54,
    "start_time": "2021-10-16T12:46:00.326Z"
   },
   {
    "duration": 11,
    "start_time": "2021-10-16T12:46:00.382Z"
   },
   {
    "duration": 31,
    "start_time": "2021-10-16T12:46:00.395Z"
   },
   {
    "duration": 5,
    "start_time": "2021-10-16T12:46:00.429Z"
   },
   {
    "duration": 117,
    "start_time": "2021-10-16T12:46:00.437Z"
   },
   {
    "duration": 27,
    "start_time": "2021-10-16T12:46:00.557Z"
   },
   {
    "duration": 46,
    "start_time": "2021-10-16T12:46:00.587Z"
   },
   {
    "duration": 96,
    "start_time": "2021-10-16T12:46:00.636Z"
   },
   {
    "duration": 106,
    "start_time": "2021-10-16T12:46:00.735Z"
   },
   {
    "duration": 86,
    "start_time": "2021-10-16T12:46:00.844Z"
   },
   {
    "duration": 65,
    "start_time": "2021-10-16T12:46:00.932Z"
   },
   {
    "duration": 5,
    "start_time": "2021-10-16T12:46:01.000Z"
   },
   {
    "duration": 25,
    "start_time": "2021-10-16T12:46:01.007Z"
   },
   {
    "duration": 78,
    "start_time": "2021-10-16T12:46:01.034Z"
   },
   {
    "duration": 58,
    "start_time": "2021-10-16T12:46:01.115Z"
   },
   {
    "duration": 45,
    "start_time": "2021-10-16T12:46:01.176Z"
   },
   {
    "duration": 3,
    "start_time": "2021-10-16T12:46:01.224Z"
   },
   {
    "duration": 37,
    "start_time": "2021-10-16T12:46:01.230Z"
   },
   {
    "duration": 21,
    "start_time": "2021-10-16T12:46:01.270Z"
   },
   {
    "duration": 19,
    "start_time": "2021-10-16T12:46:01.296Z"
   },
   {
    "duration": 53,
    "start_time": "2021-10-16T12:46:01.319Z"
   },
   {
    "duration": 19,
    "start_time": "2021-10-16T12:46:01.374Z"
   },
   {
    "duration": 24,
    "start_time": "2021-10-16T12:46:01.396Z"
   },
   {
    "duration": 57,
    "start_time": "2021-10-16T12:46:01.423Z"
   },
   {
    "duration": 14,
    "start_time": "2021-10-16T12:46:01.483Z"
   },
   {
    "duration": 40,
    "start_time": "2021-10-16T12:46:01.500Z"
   },
   {
    "duration": 52,
    "start_time": "2021-10-16T12:46:01.543Z"
   },
   {
    "duration": 5,
    "start_time": "2021-10-16T12:46:01.598Z"
   },
   {
    "duration": 50,
    "start_time": "2021-10-16T12:46:01.605Z"
   },
   {
    "duration": 55,
    "start_time": "2021-10-16T12:46:01.658Z"
   },
   {
    "duration": 29,
    "start_time": "2021-10-16T12:46:01.715Z"
   },
   {
    "duration": 26,
    "start_time": "2021-10-16T12:46:01.747Z"
   },
   {
    "duration": 19,
    "start_time": "2021-10-16T12:46:01.776Z"
   },
   {
    "duration": 36,
    "start_time": "2021-10-16T12:46:01.798Z"
   },
   {
    "duration": 9,
    "start_time": "2021-10-16T12:46:01.837Z"
   },
   {
    "duration": 28,
    "start_time": "2021-10-16T12:46:01.848Z"
   },
   {
    "duration": 13,
    "start_time": "2021-10-16T12:46:01.878Z"
   },
   {
    "duration": 706,
    "start_time": "2021-10-16T12:48:48.502Z"
   },
   {
    "duration": 185,
    "start_time": "2021-10-16T12:48:49.494Z"
   },
   {
    "duration": 25,
    "start_time": "2021-10-16T12:48:57.263Z"
   },
   {
    "duration": 35,
    "start_time": "2021-10-16T12:49:01.392Z"
   },
   {
    "duration": 5,
    "start_time": "2021-10-16T12:49:08.768Z"
   },
   {
    "duration": 26,
    "start_time": "2021-10-16T12:49:11.544Z"
   },
   {
    "duration": 6,
    "start_time": "2021-10-16T12:49:14.235Z"
   },
   {
    "duration": 91,
    "start_time": "2021-10-16T12:49:15.914Z"
   },
   {
    "duration": 24,
    "start_time": "2021-10-16T12:49:18.001Z"
   },
   {
    "duration": 30,
    "start_time": "2021-10-16T12:49:21.450Z"
   },
   {
    "duration": 87,
    "start_time": "2021-10-16T12:49:23.627Z"
   },
   {
    "duration": 95,
    "start_time": "2021-10-16T12:49:25.050Z"
   },
   {
    "duration": 78,
    "start_time": "2021-10-16T12:49:34.907Z"
   },
   {
    "duration": 62,
    "start_time": "2021-10-16T12:49:40.812Z"
   },
   {
    "duration": 4,
    "start_time": "2021-10-16T12:49:44.365Z"
   },
   {
    "duration": 14,
    "start_time": "2021-10-16T12:49:46.054Z"
   },
   {
    "duration": 58,
    "start_time": "2021-10-16T12:49:49.350Z"
   },
   {
    "duration": 4,
    "start_time": "2021-10-16T12:51:14.832Z"
   },
   {
    "duration": 211,
    "start_time": "2021-10-16T12:51:14.838Z"
   },
   {
    "duration": 20,
    "start_time": "2021-10-16T12:51:15.052Z"
   },
   {
    "duration": 35,
    "start_time": "2021-10-16T12:51:15.075Z"
   },
   {
    "duration": 6,
    "start_time": "2021-10-16T12:51:15.112Z"
   },
   {
    "duration": 52,
    "start_time": "2021-10-16T12:51:15.122Z"
   },
   {
    "duration": 8,
    "start_time": "2021-10-16T12:51:15.177Z"
   },
   {
    "duration": 101,
    "start_time": "2021-10-16T12:51:15.188Z"
   },
   {
    "duration": 22,
    "start_time": "2021-10-16T12:51:15.292Z"
   },
   {
    "duration": 52,
    "start_time": "2021-10-16T12:51:15.316Z"
   },
   {
    "duration": 83,
    "start_time": "2021-10-16T12:51:15.371Z"
   },
   {
    "duration": 98,
    "start_time": "2021-10-16T12:51:15.456Z"
   },
   {
    "duration": 80,
    "start_time": "2021-10-16T12:51:15.568Z"
   },
   {
    "duration": 71,
    "start_time": "2021-10-16T12:51:15.650Z"
   },
   {
    "duration": 4,
    "start_time": "2021-10-16T12:51:15.723Z"
   },
   {
    "duration": 37,
    "start_time": "2021-10-16T12:51:15.730Z"
   },
   {
    "duration": 10,
    "start_time": "2021-10-16T12:51:15.770Z"
   },
   {
    "duration": 61,
    "start_time": "2021-10-16T12:51:15.783Z"
   },
   {
    "duration": 60,
    "start_time": "2021-10-16T12:51:15.849Z"
   },
   {
    "duration": 64,
    "start_time": "2021-10-16T12:51:15.912Z"
   },
   {
    "duration": 3,
    "start_time": "2021-10-16T12:51:15.979Z"
   },
   {
    "duration": 12,
    "start_time": "2021-10-16T12:51:15.984Z"
   },
   {
    "duration": 24,
    "start_time": "2021-10-16T12:51:15.999Z"
   },
   {
    "duration": 43,
    "start_time": "2021-10-16T12:51:16.025Z"
   },
   {
    "duration": 18,
    "start_time": "2021-10-16T12:51:16.071Z"
   },
   {
    "duration": 17,
    "start_time": "2021-10-16T12:51:16.091Z"
   },
   {
    "duration": 21,
    "start_time": "2021-10-16T12:51:16.111Z"
   },
   {
    "duration": 48,
    "start_time": "2021-10-16T12:51:16.134Z"
   },
   {
    "duration": 14,
    "start_time": "2021-10-16T12:51:16.184Z"
   },
   {
    "duration": 30,
    "start_time": "2021-10-16T12:51:16.201Z"
   },
   {
    "duration": 27,
    "start_time": "2021-10-16T12:51:16.267Z"
   },
   {
    "duration": 3,
    "start_time": "2021-10-16T12:51:16.297Z"
   },
   {
    "duration": 9,
    "start_time": "2021-10-16T12:51:16.303Z"
   },
   {
    "duration": 55,
    "start_time": "2021-10-16T12:51:16.315Z"
   },
   {
    "duration": 17,
    "start_time": "2021-10-16T12:51:16.372Z"
   },
   {
    "duration": 21,
    "start_time": "2021-10-16T12:51:16.392Z"
   },
   {
    "duration": 51,
    "start_time": "2021-10-16T12:51:16.416Z"
   },
   {
    "duration": 12,
    "start_time": "2021-10-16T12:51:16.469Z"
   },
   {
    "duration": 7,
    "start_time": "2021-10-16T12:51:16.483Z"
   },
   {
    "duration": 11,
    "start_time": "2021-10-16T12:51:16.492Z"
   },
   {
    "duration": 6,
    "start_time": "2021-10-16T12:51:16.505Z"
   },
   {
    "duration": 4,
    "start_time": "2021-10-16T12:51:56.676Z"
   },
   {
    "duration": 222,
    "start_time": "2021-10-16T12:51:56.683Z"
   },
   {
    "duration": 15,
    "start_time": "2021-10-16T12:51:56.908Z"
   },
   {
    "duration": 54,
    "start_time": "2021-10-16T12:51:56.926Z"
   },
   {
    "duration": 10,
    "start_time": "2021-10-16T12:51:56.982Z"
   },
   {
    "duration": 26,
    "start_time": "2021-10-16T12:51:56.994Z"
   },
   {
    "duration": 6,
    "start_time": "2021-10-16T12:51:57.022Z"
   },
   {
    "duration": 118,
    "start_time": "2021-10-16T12:51:57.031Z"
   },
   {
    "duration": 31,
    "start_time": "2021-10-16T12:51:57.152Z"
   },
   {
    "duration": 30,
    "start_time": "2021-10-16T12:51:57.185Z"
   },
   {
    "duration": 108,
    "start_time": "2021-10-16T12:51:57.217Z"
   },
   {
    "duration": 101,
    "start_time": "2021-10-16T12:51:57.327Z"
   },
   {
    "duration": 84,
    "start_time": "2021-10-16T12:51:57.430Z"
   },
   {
    "duration": 68,
    "start_time": "2021-10-16T12:51:57.516Z"
   },
   {
    "duration": 3,
    "start_time": "2021-10-16T12:51:57.587Z"
   },
   {
    "duration": 16,
    "start_time": "2021-10-16T12:51:57.593Z"
   },
   {
    "duration": 81,
    "start_time": "2021-10-16T12:51:57.611Z"
   },
   {
    "duration": 42,
    "start_time": "2021-10-16T12:51:57.694Z"
   },
   {
    "duration": 63,
    "start_time": "2021-10-16T12:51:57.739Z"
   },
   {
    "duration": 3,
    "start_time": "2021-10-16T12:51:57.805Z"
   },
   {
    "duration": 6,
    "start_time": "2021-10-16T12:51:57.810Z"
   },
   {
    "duration": 25,
    "start_time": "2021-10-16T12:51:57.819Z"
   },
   {
    "duration": 20,
    "start_time": "2021-10-16T12:51:57.870Z"
   },
   {
    "duration": 19,
    "start_time": "2021-10-16T12:51:57.893Z"
   },
   {
    "duration": 55,
    "start_time": "2021-10-16T12:51:57.914Z"
   },
   {
    "duration": 24,
    "start_time": "2021-10-16T12:51:57.971Z"
   },
   {
    "duration": 20,
    "start_time": "2021-10-16T12:51:57.997Z"
   },
   {
    "duration": 48,
    "start_time": "2021-10-16T12:51:58.019Z"
   },
   {
    "duration": 32,
    "start_time": "2021-10-16T12:51:58.069Z"
   },
   {
    "duration": 27,
    "start_time": "2021-10-16T12:51:58.104Z"
   },
   {
    "duration": 33,
    "start_time": "2021-10-16T12:51:58.134Z"
   },
   {
    "duration": 11,
    "start_time": "2021-10-16T12:51:58.169Z"
   },
   {
    "duration": 35,
    "start_time": "2021-10-16T12:51:58.182Z"
   },
   {
    "duration": 19,
    "start_time": "2021-10-16T12:51:58.219Z"
   },
   {
    "duration": 44,
    "start_time": "2021-10-16T12:51:58.241Z"
   },
   {
    "duration": 17,
    "start_time": "2021-10-16T12:51:58.287Z"
   },
   {
    "duration": 12,
    "start_time": "2021-10-16T12:51:58.306Z"
   },
   {
    "duration": 7,
    "start_time": "2021-10-16T12:51:58.321Z"
   },
   {
    "duration": 8,
    "start_time": "2021-10-16T12:51:58.368Z"
   },
   {
    "duration": 7,
    "start_time": "2021-10-16T12:51:58.379Z"
   },
   {
    "duration": 4,
    "start_time": "2021-10-16T12:53:18.313Z"
   },
   {
    "duration": 229,
    "start_time": "2021-10-16T12:53:18.321Z"
   },
   {
    "duration": 17,
    "start_time": "2021-10-16T12:53:18.552Z"
   },
   {
    "duration": 33,
    "start_time": "2021-10-16T12:53:18.572Z"
   },
   {
    "duration": 5,
    "start_time": "2021-10-16T12:53:18.607Z"
   },
   {
    "duration": 53,
    "start_time": "2021-10-16T12:53:18.614Z"
   },
   {
    "duration": 6,
    "start_time": "2021-10-16T12:53:18.669Z"
   },
   {
    "duration": 103,
    "start_time": "2021-10-16T12:53:18.678Z"
   },
   {
    "duration": 22,
    "start_time": "2021-10-16T12:53:18.784Z"
   },
   {
    "duration": 30,
    "start_time": "2021-10-16T12:53:18.808Z"
   },
   {
    "duration": 104,
    "start_time": "2021-10-16T12:53:18.841Z"
   },
   {
    "duration": 110,
    "start_time": "2021-10-16T12:53:18.947Z"
   },
   {
    "duration": 83,
    "start_time": "2021-10-16T12:53:19.059Z"
   },
   {
    "duration": 72,
    "start_time": "2021-10-16T12:53:19.144Z"
   },
   {
    "duration": 4,
    "start_time": "2021-10-16T12:53:19.218Z"
   },
   {
    "duration": 17,
    "start_time": "2021-10-16T12:53:19.224Z"
   },
   {
    "duration": 81,
    "start_time": "2021-10-16T12:53:19.243Z"
   },
   {
    "duration": 65,
    "start_time": "2021-10-16T12:53:19.326Z"
   },
   {
    "duration": 45,
    "start_time": "2021-10-16T12:53:19.394Z"
   },
   {
    "duration": 3,
    "start_time": "2021-10-16T12:53:19.441Z"
   },
   {
    "duration": 22,
    "start_time": "2021-10-16T12:53:19.447Z"
   },
   {
    "duration": 30,
    "start_time": "2021-10-16T12:53:19.472Z"
   },
   {
    "duration": 21,
    "start_time": "2021-10-16T12:53:19.507Z"
   },
   {
    "duration": 44,
    "start_time": "2021-10-16T12:53:19.531Z"
   },
   {
    "duration": 20,
    "start_time": "2021-10-16T12:53:19.577Z"
   },
   {
    "duration": 22,
    "start_time": "2021-10-16T12:53:19.599Z"
   },
   {
    "duration": 54,
    "start_time": "2021-10-16T12:53:19.624Z"
   },
   {
    "duration": 12,
    "start_time": "2021-10-16T12:53:19.681Z"
   },
   {
    "duration": 40,
    "start_time": "2021-10-16T12:53:19.695Z"
   },
   {
    "duration": 50,
    "start_time": "2021-10-16T12:53:19.737Z"
   },
   {
    "duration": 3,
    "start_time": "2021-10-16T12:53:19.790Z"
   },
   {
    "duration": 10,
    "start_time": "2021-10-16T12:53:19.795Z"
   },
   {
    "duration": 33,
    "start_time": "2021-10-16T12:53:19.807Z"
   },
   {
    "duration": 39,
    "start_time": "2021-10-16T12:53:19.842Z"
   },
   {
    "duration": 23,
    "start_time": "2021-10-16T12:53:19.883Z"
   },
   {
    "duration": 16,
    "start_time": "2021-10-16T12:53:19.908Z"
   },
   {
    "duration": 48,
    "start_time": "2021-10-16T12:53:19.927Z"
   },
   {
    "duration": 7,
    "start_time": "2021-10-16T12:53:19.977Z"
   },
   {
    "duration": 12,
    "start_time": "2021-10-16T12:53:19.986Z"
   },
   {
    "duration": 5,
    "start_time": "2021-10-16T12:53:20.001Z"
   },
   {
    "duration": 15,
    "start_time": "2021-10-16T12:54:14.706Z"
   },
   {
    "duration": 16,
    "start_time": "2021-10-16T12:54:33.621Z"
   },
   {
    "duration": 4,
    "start_time": "2021-10-16T12:55:26.204Z"
   },
   {
    "duration": 5,
    "start_time": "2021-10-16T12:55:36.693Z"
   },
   {
    "duration": 6,
    "start_time": "2021-10-16T12:55:50.463Z"
   },
   {
    "duration": 10,
    "start_time": "2021-10-16T12:55:57.839Z"
   },
   {
    "duration": 15,
    "start_time": "2021-10-16T12:56:08.778Z"
   },
   {
    "duration": 18,
    "start_time": "2021-10-16T12:56:13.777Z"
   },
   {
    "duration": 12,
    "start_time": "2021-10-16T12:56:19.675Z"
   },
   {
    "duration": 19,
    "start_time": "2021-10-16T12:56:24.028Z"
   },
   {
    "duration": 819,
    "start_time": "2021-10-16T12:57:43.830Z"
   },
   {
    "duration": 280,
    "start_time": "2021-10-16T12:57:44.652Z"
   },
   {
    "duration": 42,
    "start_time": "2021-10-16T12:57:44.936Z"
   },
   {
    "duration": 56,
    "start_time": "2021-10-16T12:57:44.982Z"
   },
   {
    "duration": 28,
    "start_time": "2021-10-16T12:57:45.041Z"
   },
   {
    "duration": 34,
    "start_time": "2021-10-16T12:57:45.072Z"
   },
   {
    "duration": 25,
    "start_time": "2021-10-16T12:57:45.109Z"
   },
   {
    "duration": 99,
    "start_time": "2021-10-16T12:57:45.138Z"
   },
   {
    "duration": 39,
    "start_time": "2021-10-16T12:57:45.240Z"
   },
   {
    "duration": 31,
    "start_time": "2021-10-16T12:57:45.282Z"
   },
   {
    "duration": 107,
    "start_time": "2021-10-16T12:57:45.316Z"
   },
   {
    "duration": 116,
    "start_time": "2021-10-16T12:57:45.425Z"
   },
   {
    "duration": 92,
    "start_time": "2021-10-16T12:57:45.544Z"
   },
   {
    "duration": 68,
    "start_time": "2021-10-16T12:57:45.638Z"
   },
   {
    "duration": 4,
    "start_time": "2021-10-16T12:57:45.708Z"
   },
   {
    "duration": 16,
    "start_time": "2021-10-16T12:57:45.714Z"
   },
   {
    "duration": 82,
    "start_time": "2021-10-16T12:57:45.732Z"
   },
   {
    "duration": 15,
    "start_time": "2021-10-16T12:57:45.816Z"
   },
   {
    "duration": 35,
    "start_time": "2021-10-16T12:57:45.833Z"
   },
   {
    "duration": 3,
    "start_time": "2021-10-16T12:57:45.871Z"
   },
   {
    "duration": 11,
    "start_time": "2021-10-16T12:57:45.876Z"
   },
   {
    "duration": 24,
    "start_time": "2021-10-16T12:57:45.889Z"
   },
   {
    "duration": 18,
    "start_time": "2021-10-16T12:57:45.918Z"
   },
   {
    "duration": 43,
    "start_time": "2021-10-16T12:57:45.939Z"
   },
   {
    "duration": 18,
    "start_time": "2021-10-16T12:57:45.984Z"
   },
   {
    "duration": 21,
    "start_time": "2021-10-16T12:57:46.004Z"
   },
   {
    "duration": 58,
    "start_time": "2021-10-16T12:57:46.027Z"
   },
   {
    "duration": 7,
    "start_time": "2021-10-16T12:57:46.088Z"
   },
   {
    "duration": 12,
    "start_time": "2021-10-16T12:57:46.098Z"
   },
   {
    "duration": 18,
    "start_time": "2021-10-16T12:57:46.113Z"
   },
   {
    "duration": 51,
    "start_time": "2021-10-16T12:57:46.133Z"
   },
   {
    "duration": 18,
    "start_time": "2021-10-16T12:57:46.188Z"
   },
   {
    "duration": 21,
    "start_time": "2021-10-16T12:57:46.208Z"
   },
   {
    "duration": 4,
    "start_time": "2021-10-16T12:57:46.267Z"
   },
   {
    "duration": 10,
    "start_time": "2021-10-16T12:57:46.273Z"
   },
   {
    "duration": 41,
    "start_time": "2021-10-16T12:57:46.285Z"
   },
   {
    "duration": 18,
    "start_time": "2021-10-16T12:57:46.328Z"
   },
   {
    "duration": 22,
    "start_time": "2021-10-16T12:57:46.368Z"
   },
   {
    "duration": 15,
    "start_time": "2021-10-16T12:57:46.393Z"
   },
   {
    "duration": 14,
    "start_time": "2021-10-16T12:57:46.410Z"
   },
   {
    "duration": 6,
    "start_time": "2021-10-16T12:57:46.427Z"
   },
   {
    "duration": 38,
    "start_time": "2021-10-16T12:57:46.435Z"
   },
   {
    "duration": 12,
    "start_time": "2021-10-16T12:57:46.475Z"
   },
   {
    "duration": 555,
    "start_time": "2021-10-17T09:32:31.702Z"
   },
   {
    "duration": 141,
    "start_time": "2021-10-17T09:32:32.259Z"
   },
   {
    "duration": 16,
    "start_time": "2021-10-17T09:32:32.402Z"
   },
   {
    "duration": 36,
    "start_time": "2021-10-17T09:32:32.420Z"
   },
   {
    "duration": 5,
    "start_time": "2021-10-17T09:32:32.458Z"
   },
   {
    "duration": 32,
    "start_time": "2021-10-17T09:32:32.464Z"
   },
   {
    "duration": 4,
    "start_time": "2021-10-17T09:32:32.498Z"
   },
   {
    "duration": 75,
    "start_time": "2021-10-17T09:32:32.505Z"
   },
   {
    "duration": 19,
    "start_time": "2021-10-17T09:32:32.583Z"
   },
   {
    "duration": 23,
    "start_time": "2021-10-17T09:32:32.603Z"
   },
   {
    "duration": 77,
    "start_time": "2021-10-17T09:32:32.628Z"
   },
   {
    "duration": 60,
    "start_time": "2021-10-17T09:32:32.707Z"
   },
   {
    "duration": 65,
    "start_time": "2021-10-17T09:32:32.769Z"
   },
   {
    "duration": 41,
    "start_time": "2021-10-17T09:32:32.836Z"
   },
   {
    "duration": 12,
    "start_time": "2021-10-17T09:32:32.879Z"
   },
   {
    "duration": 9,
    "start_time": "2021-10-17T09:32:32.892Z"
   },
   {
    "duration": 36,
    "start_time": "2021-10-17T09:32:32.903Z"
   },
   {
    "duration": 10,
    "start_time": "2021-10-17T09:32:32.940Z"
   },
   {
    "duration": 9,
    "start_time": "2021-10-17T09:32:32.951Z"
   },
   {
    "duration": 2,
    "start_time": "2021-10-17T09:32:32.962Z"
   },
   {
    "duration": 27,
    "start_time": "2021-10-17T09:32:32.965Z"
   },
   {
    "duration": 19,
    "start_time": "2021-10-17T09:32:32.995Z"
   },
   {
    "duration": 13,
    "start_time": "2021-10-17T09:32:33.018Z"
   },
   {
    "duration": 25,
    "start_time": "2021-10-17T09:32:33.033Z"
   },
   {
    "duration": 39,
    "start_time": "2021-10-17T09:32:33.059Z"
   },
   {
    "duration": 26,
    "start_time": "2021-10-17T09:32:33.099Z"
   },
   {
    "duration": 15,
    "start_time": "2021-10-17T09:32:33.126Z"
   },
   {
    "duration": 7,
    "start_time": "2021-10-17T09:32:33.143Z"
   },
   {
    "duration": 15,
    "start_time": "2021-10-17T09:32:33.152Z"
   },
   {
    "duration": 23,
    "start_time": "2021-10-17T09:32:33.169Z"
   },
   {
    "duration": 11,
    "start_time": "2021-10-17T09:32:33.194Z"
   },
   {
    "duration": 15,
    "start_time": "2021-10-17T09:32:33.206Z"
   },
   {
    "duration": 19,
    "start_time": "2021-10-17T09:32:33.222Z"
   },
   {
    "duration": 8,
    "start_time": "2021-10-17T09:32:33.243Z"
   },
   {
    "duration": 14,
    "start_time": "2021-10-17T09:32:33.252Z"
   },
   {
    "duration": 29,
    "start_time": "2021-10-17T09:32:33.267Z"
   },
   {
    "duration": 17,
    "start_time": "2021-10-17T09:32:33.299Z"
   },
   {
    "duration": 17,
    "start_time": "2021-10-17T09:32:33.318Z"
   },
   {
    "duration": 10,
    "start_time": "2021-10-17T09:32:33.336Z"
   },
   {
    "duration": 7,
    "start_time": "2021-10-17T09:32:33.347Z"
   },
   {
    "duration": 37,
    "start_time": "2021-10-17T09:32:33.355Z"
   },
   {
    "duration": 8,
    "start_time": "2021-10-17T09:32:33.393Z"
   },
   {
    "duration": 4,
    "start_time": "2021-10-17T09:32:33.403Z"
   },
   {
    "duration": 557,
    "start_time": "2021-10-17T10:45:48.111Z"
   },
   {
    "duration": 804,
    "start_time": "2021-10-17T10:45:53.168Z"
   },
   {
    "duration": 154,
    "start_time": "2021-10-17T10:45:53.974Z"
   },
   {
    "duration": 17,
    "start_time": "2021-10-17T10:45:54.130Z"
   },
   {
    "duration": 38,
    "start_time": "2021-10-17T10:45:54.149Z"
   },
   {
    "duration": 4,
    "start_time": "2021-10-17T10:45:54.189Z"
   },
   {
    "duration": 27,
    "start_time": "2021-10-17T10:45:54.195Z"
   },
   {
    "duration": 6,
    "start_time": "2021-10-17T10:45:54.224Z"
   },
   {
    "duration": 46,
    "start_time": "2021-10-17T10:45:54.232Z"
   },
   {
    "duration": 23,
    "start_time": "2021-10-17T10:45:54.280Z"
   },
   {
    "duration": 26,
    "start_time": "2021-10-17T10:45:54.305Z"
   },
   {
    "duration": 88,
    "start_time": "2021-10-17T10:45:54.333Z"
   },
   {
    "duration": 87,
    "start_time": "2021-10-17T10:45:54.423Z"
   },
   {
    "duration": 58,
    "start_time": "2021-10-17T10:45:54.512Z"
   },
   {
    "duration": 40,
    "start_time": "2021-10-17T10:45:54.572Z"
   },
   {
    "duration": 3,
    "start_time": "2021-10-17T10:45:54.614Z"
   },
   {
    "duration": 16,
    "start_time": "2021-10-17T10:45:54.619Z"
   },
   {
    "duration": 64,
    "start_time": "2021-10-17T10:45:54.637Z"
   },
   {
    "duration": 12,
    "start_time": "2021-10-17T10:45:54.703Z"
   },
   {
    "duration": 11,
    "start_time": "2021-10-17T10:45:54.717Z"
   },
   {
    "duration": 3,
    "start_time": "2021-10-17T10:45:54.730Z"
   },
   {
    "duration": 5,
    "start_time": "2021-10-17T10:45:54.764Z"
   },
   {
    "duration": 21,
    "start_time": "2021-10-17T10:45:54.770Z"
   },
   {
    "duration": 15,
    "start_time": "2021-10-17T10:45:54.795Z"
   },
   {
    "duration": 15,
    "start_time": "2021-10-17T10:45:54.812Z"
   },
   {
    "duration": 43,
    "start_time": "2021-10-17T10:45:54.829Z"
   },
   {
    "duration": 18,
    "start_time": "2021-10-17T10:45:54.874Z"
   },
   {
    "duration": 15,
    "start_time": "2021-10-17T10:45:54.894Z"
   },
   {
    "duration": 4,
    "start_time": "2021-10-17T10:45:54.911Z"
   },
   {
    "duration": 12,
    "start_time": "2021-10-17T10:45:54.916Z"
   },
   {
    "duration": 46,
    "start_time": "2021-10-17T10:45:54.930Z"
   },
   {
    "duration": 18,
    "start_time": "2021-10-17T10:45:54.978Z"
   },
   {
    "duration": 18,
    "start_time": "2021-10-17T10:45:54.998Z"
   },
   {
    "duration": 19,
    "start_time": "2021-10-17T10:45:55.018Z"
   },
   {
    "duration": 25,
    "start_time": "2021-10-17T10:45:55.039Z"
   },
   {
    "duration": 7,
    "start_time": "2021-10-17T10:45:55.066Z"
   },
   {
    "duration": 35,
    "start_time": "2021-10-17T10:45:55.075Z"
   },
   {
    "duration": 17,
    "start_time": "2021-10-17T10:45:55.112Z"
   },
   {
    "duration": 43,
    "start_time": "2021-10-17T10:45:55.131Z"
   },
   {
    "duration": 17,
    "start_time": "2021-10-17T10:45:55.177Z"
   },
   {
    "duration": 12,
    "start_time": "2021-10-17T10:45:55.196Z"
   },
   {
    "duration": 5,
    "start_time": "2021-10-17T10:45:55.210Z"
   },
   {
    "duration": 9,
    "start_time": "2021-10-17T10:45:55.217Z"
   },
   {
    "duration": 6,
    "start_time": "2021-10-17T10:45:55.227Z"
   },
   {
    "duration": 24,
    "start_time": "2021-10-17T10:47:05.842Z"
   },
   {
    "duration": 284,
    "start_time": "2021-10-17T10:47:13.793Z"
   },
   {
    "duration": 24,
    "start_time": "2021-10-17T10:47:20.682Z"
   },
   {
    "duration": 22,
    "start_time": "2021-10-17T10:47:30.203Z"
   },
   {
    "duration": 25,
    "start_time": "2021-10-17T10:47:53.182Z"
   },
   {
    "duration": 24,
    "start_time": "2021-10-17T10:48:10.145Z"
   },
   {
    "duration": 23,
    "start_time": "2021-10-17T10:48:19.003Z"
   },
   {
    "duration": 2,
    "start_time": "2021-10-17T10:48:32.989Z"
   },
   {
    "duration": 152,
    "start_time": "2021-10-17T10:48:32.994Z"
   },
   {
    "duration": 23,
    "start_time": "2021-10-17T10:48:33.148Z"
   },
   {
    "duration": 24,
    "start_time": "2021-10-17T10:48:33.173Z"
   },
   {
    "duration": 4,
    "start_time": "2021-10-17T10:48:33.199Z"
   },
   {
    "duration": 17,
    "start_time": "2021-10-17T10:48:33.205Z"
   },
   {
    "duration": 4,
    "start_time": "2021-10-17T10:48:33.225Z"
   },
   {
    "duration": 57,
    "start_time": "2021-10-17T10:48:33.231Z"
   },
   {
    "duration": 17,
    "start_time": "2021-10-17T10:48:33.290Z"
   },
   {
    "duration": 24,
    "start_time": "2021-10-17T10:48:33.310Z"
   },
   {
    "duration": 80,
    "start_time": "2021-10-17T10:48:33.335Z"
   },
   {
    "duration": 70,
    "start_time": "2021-10-17T10:48:33.417Z"
   },
   {
    "duration": 49,
    "start_time": "2021-10-17T10:48:33.489Z"
   },
   {
    "duration": 52,
    "start_time": "2021-10-17T10:48:33.539Z"
   },
   {
    "duration": 3,
    "start_time": "2021-10-17T10:48:33.592Z"
   },
   {
    "duration": 17,
    "start_time": "2021-10-17T10:48:33.597Z"
   },
   {
    "duration": 49,
    "start_time": "2021-10-17T10:48:33.615Z"
   },
   {
    "duration": 11,
    "start_time": "2021-10-17T10:48:33.666Z"
   },
   {
    "duration": 10,
    "start_time": "2021-10-17T10:48:33.680Z"
   },
   {
    "duration": 2,
    "start_time": "2021-10-17T10:48:33.692Z"
   },
   {
    "duration": 8,
    "start_time": "2021-10-17T10:48:33.696Z"
   },
   {
    "duration": 18,
    "start_time": "2021-10-17T10:48:33.706Z"
   },
   {
    "duration": 46,
    "start_time": "2021-10-17T10:48:33.726Z"
   },
   {
    "duration": 16,
    "start_time": "2021-10-17T10:48:33.774Z"
   },
   {
    "duration": 14,
    "start_time": "2021-10-17T10:48:33.792Z"
   },
   {
    "duration": 17,
    "start_time": "2021-10-17T10:48:33.808Z"
   },
   {
    "duration": 46,
    "start_time": "2021-10-17T10:48:33.827Z"
   },
   {
    "duration": 5,
    "start_time": "2021-10-17T10:48:33.875Z"
   },
   {
    "duration": 14,
    "start_time": "2021-10-17T10:48:33.882Z"
   },
   {
    "duration": 15,
    "start_time": "2021-10-17T10:48:33.898Z"
   },
   {
    "duration": 18,
    "start_time": "2021-10-17T10:48:33.915Z"
   },
   {
    "duration": 32,
    "start_time": "2021-10-17T10:48:33.935Z"
   },
   {
    "duration": 13,
    "start_time": "2021-10-17T10:48:33.968Z"
   },
   {
    "duration": 11,
    "start_time": "2021-10-17T10:48:33.984Z"
   },
   {
    "duration": 13,
    "start_time": "2021-10-17T10:48:33.997Z"
   },
   {
    "duration": 34,
    "start_time": "2021-10-17T10:48:34.012Z"
   },
   {
    "duration": 18,
    "start_time": "2021-10-17T10:48:34.049Z"
   },
   {
    "duration": 18,
    "start_time": "2021-10-17T10:48:34.069Z"
   },
   {
    "duration": 13,
    "start_time": "2021-10-17T10:48:34.089Z"
   },
   {
    "duration": 10,
    "start_time": "2021-10-17T10:48:34.104Z"
   },
   {
    "duration": 5,
    "start_time": "2021-10-17T10:48:34.116Z"
   },
   {
    "duration": 42,
    "start_time": "2021-10-17T10:48:34.123Z"
   },
   {
    "duration": 10,
    "start_time": "2021-10-17T10:48:34.167Z"
   },
   {
    "duration": 24,
    "start_time": "2021-10-17T10:49:42.085Z"
   },
   {
    "duration": 23,
    "start_time": "2021-10-17T10:50:05.137Z"
   },
   {
    "duration": 3,
    "start_time": "2021-10-17T10:50:08.711Z"
   },
   {
    "duration": 161,
    "start_time": "2021-10-17T10:50:08.715Z"
   },
   {
    "duration": 11,
    "start_time": "2021-10-17T10:50:08.878Z"
   },
   {
    "duration": 25,
    "start_time": "2021-10-17T10:50:08.891Z"
   },
   {
    "duration": 3,
    "start_time": "2021-10-17T10:50:08.918Z"
   },
   {
    "duration": 41,
    "start_time": "2021-10-17T10:50:08.923Z"
   },
   {
    "duration": 4,
    "start_time": "2021-10-17T10:50:08.967Z"
   },
   {
    "duration": 29,
    "start_time": "2021-10-17T10:50:08.972Z"
   },
   {
    "duration": 18,
    "start_time": "2021-10-17T10:50:09.003Z"
   },
   {
    "duration": 42,
    "start_time": "2021-10-17T10:50:09.023Z"
   },
   {
    "duration": 62,
    "start_time": "2021-10-17T10:50:09.066Z"
   },
   {
    "duration": 91,
    "start_time": "2021-10-17T10:50:09.129Z"
   },
   {
    "duration": 61,
    "start_time": "2021-10-17T10:50:09.222Z"
   },
   {
    "duration": 40,
    "start_time": "2021-10-17T10:50:09.284Z"
   },
   {
    "duration": 3,
    "start_time": "2021-10-17T10:50:09.325Z"
   },
   {
    "duration": 14,
    "start_time": "2021-10-17T10:50:09.330Z"
   },
   {
    "duration": 53,
    "start_time": "2021-10-17T10:50:09.346Z"
   },
   {
    "duration": 11,
    "start_time": "2021-10-17T10:50:09.401Z"
   },
   {
    "duration": 10,
    "start_time": "2021-10-17T10:50:09.415Z"
   },
   {
    "duration": 2,
    "start_time": "2021-10-17T10:50:09.427Z"
   },
   {
    "duration": 33,
    "start_time": "2021-10-17T10:50:09.431Z"
   },
   {
    "duration": 21,
    "start_time": "2021-10-17T10:50:09.466Z"
   },
   {
    "duration": 14,
    "start_time": "2021-10-17T10:50:09.489Z"
   },
   {
    "duration": 15,
    "start_time": "2021-10-17T10:50:09.505Z"
   },
   {
    "duration": 14,
    "start_time": "2021-10-17T10:50:09.522Z"
   },
   {
    "duration": 43,
    "start_time": "2021-10-17T10:50:09.537Z"
   },
   {
    "duration": 16,
    "start_time": "2021-10-17T10:50:09.582Z"
   },
   {
    "duration": 4,
    "start_time": "2021-10-17T10:50:09.600Z"
   },
   {
    "duration": 11,
    "start_time": "2021-10-17T10:50:09.606Z"
   },
   {
    "duration": 16,
    "start_time": "2021-10-17T10:50:09.618Z"
   },
   {
    "duration": 33,
    "start_time": "2021-10-17T10:50:09.636Z"
   },
   {
    "duration": 10,
    "start_time": "2021-10-17T10:50:09.671Z"
   },
   {
    "duration": 12,
    "start_time": "2021-10-17T10:50:09.683Z"
   },
   {
    "duration": 6,
    "start_time": "2021-10-17T10:50:09.697Z"
   },
   {
    "duration": 10,
    "start_time": "2021-10-17T10:50:09.704Z"
   },
   {
    "duration": 32,
    "start_time": "2021-10-17T10:50:09.716Z"
   },
   {
    "duration": 25,
    "start_time": "2021-10-17T10:50:09.750Z"
   },
   {
    "duration": 19,
    "start_time": "2021-10-17T10:50:09.776Z"
   },
   {
    "duration": 14,
    "start_time": "2021-10-17T10:50:09.796Z"
   },
   {
    "duration": 8,
    "start_time": "2021-10-17T10:50:09.811Z"
   },
   {
    "duration": 5,
    "start_time": "2021-10-17T10:50:09.821Z"
   },
   {
    "duration": 6,
    "start_time": "2021-10-17T10:50:09.864Z"
   },
   {
    "duration": 6,
    "start_time": "2021-10-17T10:50:09.872Z"
   },
   {
    "duration": 78,
    "start_time": "2021-10-17T10:50:53.287Z"
   },
   {
    "duration": 23,
    "start_time": "2021-10-17T10:55:04.081Z"
   },
   {
    "duration": 8,
    "start_time": "2021-10-17T11:18:41.468Z"
   },
   {
    "duration": 7,
    "start_time": "2021-10-17T11:19:00.686Z"
   },
   {
    "duration": 3,
    "start_time": "2021-10-17T11:19:09.364Z"
   },
   {
    "duration": 155,
    "start_time": "2021-10-17T11:19:09.369Z"
   },
   {
    "duration": 11,
    "start_time": "2021-10-17T11:19:09.527Z"
   },
   {
    "duration": 39,
    "start_time": "2021-10-17T11:19:09.540Z"
   },
   {
    "duration": 7,
    "start_time": "2021-10-17T11:19:09.581Z"
   },
   {
    "duration": 25,
    "start_time": "2021-10-17T11:19:09.589Z"
   },
   {
    "duration": 4,
    "start_time": "2021-10-17T11:19:09.617Z"
   },
   {
    "duration": 56,
    "start_time": "2021-10-17T11:19:09.623Z"
   },
   {
    "duration": 17,
    "start_time": "2021-10-17T11:19:09.681Z"
   },
   {
    "duration": 26,
    "start_time": "2021-10-17T11:19:09.700Z"
   },
   {
    "duration": 82,
    "start_time": "2021-10-17T11:19:09.728Z"
   },
   {
    "duration": 70,
    "start_time": "2021-10-17T11:19:09.812Z"
   },
   {
    "duration": 52,
    "start_time": "2021-10-17T11:19:09.884Z"
   },
   {
    "duration": 51,
    "start_time": "2021-10-17T11:19:09.937Z"
   },
   {
    "duration": 7,
    "start_time": "2021-10-17T11:19:09.990Z"
   },
   {
    "duration": 26,
    "start_time": "2021-10-17T11:19:09.998Z"
   },
   {
    "duration": 41,
    "start_time": "2021-10-17T11:19:10.026Z"
   },
   {
    "duration": 16,
    "start_time": "2021-10-17T11:19:10.069Z"
   },
   {
    "duration": 10,
    "start_time": "2021-10-17T11:19:10.089Z"
   },
   {
    "duration": 10,
    "start_time": "2021-10-17T11:19:10.101Z"
   },
   {
    "duration": 18,
    "start_time": "2021-10-17T11:19:10.113Z"
   },
   {
    "duration": 22,
    "start_time": "2021-10-17T11:19:10.133Z"
   },
   {
    "duration": 16,
    "start_time": "2021-10-17T11:19:10.157Z"
   },
   {
    "duration": 21,
    "start_time": "2021-10-17T11:19:10.175Z"
   },
   {
    "duration": 14,
    "start_time": "2021-10-17T11:19:10.198Z"
   },
   {
    "duration": 17,
    "start_time": "2021-10-17T11:19:10.214Z"
   },
   {
    "duration": 41,
    "start_time": "2021-10-17T11:19:10.233Z"
   },
   {
    "duration": 5,
    "start_time": "2021-10-17T11:19:10.277Z"
   },
   {
    "duration": 12,
    "start_time": "2021-10-17T11:19:10.284Z"
   },
   {
    "duration": 20,
    "start_time": "2021-10-17T11:19:10.298Z"
   },
   {
    "duration": 19,
    "start_time": "2021-10-17T11:19:10.320Z"
   },
   {
    "duration": 36,
    "start_time": "2021-10-17T11:19:10.365Z"
   },
   {
    "duration": 17,
    "start_time": "2021-10-17T11:19:10.403Z"
   },
   {
    "duration": 6,
    "start_time": "2021-10-17T11:19:10.422Z"
   },
   {
    "duration": 11,
    "start_time": "2021-10-17T11:19:10.429Z"
   },
   {
    "duration": 38,
    "start_time": "2021-10-17T11:19:10.442Z"
   },
   {
    "duration": 19,
    "start_time": "2021-10-17T11:19:10.482Z"
   },
   {
    "duration": 25,
    "start_time": "2021-10-17T11:19:10.504Z"
   },
   {
    "duration": 38,
    "start_time": "2021-10-17T11:19:10.532Z"
   },
   {
    "duration": 12,
    "start_time": "2021-10-17T11:19:10.572Z"
   },
   {
    "duration": 9,
    "start_time": "2021-10-17T11:19:10.586Z"
   },
   {
    "duration": 12,
    "start_time": "2021-10-17T11:19:10.597Z"
   },
   {
    "duration": 10,
    "start_time": "2021-10-17T11:19:10.611Z"
   },
   {
    "duration": 19,
    "start_time": "2021-10-17T11:20:53.526Z"
   },
   {
    "duration": 19,
    "start_time": "2021-10-17T11:21:04.023Z"
   },
   {
    "duration": 30,
    "start_time": "2021-10-17T11:22:28.211Z"
   },
   {
    "duration": 17,
    "start_time": "2021-10-17T11:22:47.308Z"
   },
   {
    "duration": 21,
    "start_time": "2021-10-17T11:22:49.844Z"
   },
   {
    "duration": 21,
    "start_time": "2021-10-17T11:22:51.765Z"
   },
   {
    "duration": 767,
    "start_time": "2021-10-17T11:24:28.072Z"
   },
   {
    "duration": 217,
    "start_time": "2021-10-17T11:24:28.842Z"
   },
   {
    "duration": 26,
    "start_time": "2021-10-17T11:24:29.062Z"
   },
   {
    "duration": 41,
    "start_time": "2021-10-17T11:24:29.091Z"
   },
   {
    "duration": 5,
    "start_time": "2021-10-17T11:24:29.134Z"
   },
   {
    "duration": 29,
    "start_time": "2021-10-17T11:24:29.164Z"
   },
   {
    "duration": 6,
    "start_time": "2021-10-17T11:24:29.196Z"
   },
   {
    "duration": 59,
    "start_time": "2021-10-17T11:24:29.205Z"
   },
   {
    "duration": 17,
    "start_time": "2021-10-17T11:24:29.267Z"
   },
   {
    "duration": 28,
    "start_time": "2021-10-17T11:24:29.287Z"
   },
   {
    "duration": 87,
    "start_time": "2021-10-17T11:24:29.317Z"
   },
   {
    "duration": 85,
    "start_time": "2021-10-17T11:24:29.406Z"
   },
   {
    "duration": 53,
    "start_time": "2021-10-17T11:24:29.493Z"
   },
   {
    "duration": 52,
    "start_time": "2021-10-17T11:24:29.548Z"
   },
   {
    "duration": 4,
    "start_time": "2021-10-17T11:24:29.602Z"
   },
   {
    "duration": 15,
    "start_time": "2021-10-17T11:24:29.607Z"
   },
   {
    "duration": 51,
    "start_time": "2021-10-17T11:24:29.624Z"
   },
   {
    "duration": 13,
    "start_time": "2021-10-17T11:24:29.677Z"
   },
   {
    "duration": 13,
    "start_time": "2021-10-17T11:24:29.691Z"
   },
   {
    "duration": 3,
    "start_time": "2021-10-17T11:24:29.705Z"
   },
   {
    "duration": 7,
    "start_time": "2021-10-17T11:24:29.709Z"
   },
   {
    "duration": 46,
    "start_time": "2021-10-17T11:24:29.718Z"
   },
   {
    "duration": 16,
    "start_time": "2021-10-17T11:24:29.768Z"
   },
   {
    "duration": 16,
    "start_time": "2021-10-17T11:24:29.787Z"
   },
   {
    "duration": 15,
    "start_time": "2021-10-17T11:24:29.805Z"
   },
   {
    "duration": 48,
    "start_time": "2021-10-17T11:24:29.822Z"
   },
   {
    "duration": 18,
    "start_time": "2021-10-17T11:24:29.872Z"
   },
   {
    "duration": 4,
    "start_time": "2021-10-17T11:24:29.892Z"
   },
   {
    "duration": 10,
    "start_time": "2021-10-17T11:24:29.897Z"
   },
   {
    "duration": 22,
    "start_time": "2021-10-17T11:24:29.908Z"
   },
   {
    "duration": 32,
    "start_time": "2021-10-17T11:24:29.933Z"
   },
   {
    "duration": 10,
    "start_time": "2021-10-17T11:24:29.967Z"
   },
   {
    "duration": 12,
    "start_time": "2021-10-17T11:24:29.979Z"
   },
   {
    "duration": 6,
    "start_time": "2021-10-17T11:24:29.992Z"
   },
   {
    "duration": 22,
    "start_time": "2021-10-17T11:24:30.000Z"
   },
   {
    "duration": 41,
    "start_time": "2021-10-17T11:24:30.024Z"
   },
   {
    "duration": 16,
    "start_time": "2021-10-17T11:24:30.067Z"
   },
   {
    "duration": 21,
    "start_time": "2021-10-17T11:24:30.085Z"
   },
   {
    "duration": 19,
    "start_time": "2021-10-17T11:24:30.108Z"
   },
   {
    "duration": 42,
    "start_time": "2021-10-17T11:24:30.128Z"
   },
   {
    "duration": 8,
    "start_time": "2021-10-17T11:24:30.171Z"
   },
   {
    "duration": 20,
    "start_time": "2021-10-17T11:24:30.181Z"
   },
   {
    "duration": 19,
    "start_time": "2021-10-17T11:24:30.203Z"
   },
   {
    "duration": 24,
    "start_time": "2021-10-17T11:28:11.090Z"
   },
   {
    "duration": 898,
    "start_time": "2021-10-17T11:29:45.456Z"
   },
   {
    "duration": 155,
    "start_time": "2021-10-17T11:29:46.356Z"
   },
   {
    "duration": 17,
    "start_time": "2021-10-17T11:29:46.514Z"
   },
   {
    "duration": 37,
    "start_time": "2021-10-17T11:29:46.534Z"
   },
   {
    "duration": 4,
    "start_time": "2021-10-17T11:29:46.573Z"
   },
   {
    "duration": 24,
    "start_time": "2021-10-17T11:29:46.579Z"
   },
   {
    "duration": 8,
    "start_time": "2021-10-17T11:29:46.605Z"
   },
   {
    "duration": 51,
    "start_time": "2021-10-17T11:29:46.615Z"
   },
   {
    "duration": 18,
    "start_time": "2021-10-17T11:29:46.668Z"
   },
   {
    "duration": 36,
    "start_time": "2021-10-17T11:29:46.688Z"
   },
   {
    "duration": 78,
    "start_time": "2021-10-17T11:29:46.726Z"
   },
   {
    "duration": 77,
    "start_time": "2021-10-17T11:29:46.806Z"
   },
   {
    "duration": 57,
    "start_time": "2021-10-17T11:29:46.885Z"
   },
   {
    "duration": 52,
    "start_time": "2021-10-17T11:29:46.944Z"
   },
   {
    "duration": 3,
    "start_time": "2021-10-17T11:29:46.998Z"
   },
   {
    "duration": 15,
    "start_time": "2021-10-17T11:29:47.002Z"
   },
   {
    "duration": 64,
    "start_time": "2021-10-17T11:29:47.019Z"
   },
   {
    "duration": 13,
    "start_time": "2021-10-17T11:29:47.084Z"
   },
   {
    "duration": 12,
    "start_time": "2021-10-17T11:29:47.099Z"
   },
   {
    "duration": 3,
    "start_time": "2021-10-17T11:29:47.113Z"
   },
   {
    "duration": 12,
    "start_time": "2021-10-17T11:29:47.117Z"
   },
   {
    "duration": 42,
    "start_time": "2021-10-17T11:29:47.131Z"
   },
   {
    "duration": 17,
    "start_time": "2021-10-17T11:29:47.177Z"
   },
   {
    "duration": 16,
    "start_time": "2021-10-17T11:29:47.197Z"
   },
   {
    "duration": 15,
    "start_time": "2021-10-17T11:29:47.215Z"
   },
   {
    "duration": 48,
    "start_time": "2021-10-17T11:29:47.232Z"
   },
   {
    "duration": 15,
    "start_time": "2021-10-17T11:29:47.282Z"
   },
   {
    "duration": 5,
    "start_time": "2021-10-17T11:29:47.299Z"
   },
   {
    "duration": 9,
    "start_time": "2021-10-17T11:29:47.306Z"
   },
   {
    "duration": 16,
    "start_time": "2021-10-17T11:29:47.318Z"
   },
   {
    "duration": 40,
    "start_time": "2021-10-17T11:29:47.335Z"
   },
   {
    "duration": 11,
    "start_time": "2021-10-17T11:29:47.377Z"
   },
   {
    "duration": 12,
    "start_time": "2021-10-17T11:29:47.390Z"
   },
   {
    "duration": 6,
    "start_time": "2021-10-17T11:29:47.404Z"
   },
   {
    "duration": 10,
    "start_time": "2021-10-17T11:29:47.412Z"
   },
   {
    "duration": 54,
    "start_time": "2021-10-17T11:29:47.424Z"
   },
   {
    "duration": 16,
    "start_time": "2021-10-17T11:29:47.480Z"
   },
   {
    "duration": 21,
    "start_time": "2021-10-17T11:29:47.498Z"
   },
   {
    "duration": 44,
    "start_time": "2021-10-17T11:29:47.521Z"
   },
   {
    "duration": 10,
    "start_time": "2021-10-17T11:29:47.567Z"
   },
   {
    "duration": 7,
    "start_time": "2021-10-17T11:29:47.579Z"
   },
   {
    "duration": 10,
    "start_time": "2021-10-17T11:29:47.588Z"
   },
   {
    "duration": 9,
    "start_time": "2021-10-17T11:29:47.600Z"
   },
   {
    "duration": 730,
    "start_time": "2021-10-18T10:19:25.903Z"
   },
   {
    "duration": 783,
    "start_time": "2021-10-18T10:19:29.685Z"
   },
   {
    "duration": 200,
    "start_time": "2021-10-18T10:19:30.470Z"
   },
   {
    "duration": 27,
    "start_time": "2021-10-18T10:19:30.673Z"
   },
   {
    "duration": 53,
    "start_time": "2021-10-18T10:19:30.703Z"
   },
   {
    "duration": 8,
    "start_time": "2021-10-18T10:19:30.759Z"
   },
   {
    "duration": 34,
    "start_time": "2021-10-18T10:19:30.769Z"
   },
   {
    "duration": 13,
    "start_time": "2021-10-18T10:19:30.806Z"
   },
   {
    "duration": 41,
    "start_time": "2021-10-18T10:19:30.822Z"
   },
   {
    "duration": 23,
    "start_time": "2021-10-18T10:19:30.882Z"
   },
   {
    "duration": 33,
    "start_time": "2021-10-18T10:19:30.908Z"
   },
   {
    "duration": 121,
    "start_time": "2021-10-18T10:19:30.944Z"
   },
   {
    "duration": 113,
    "start_time": "2021-10-18T10:19:31.069Z"
   },
   {
    "duration": 82,
    "start_time": "2021-10-18T10:19:31.185Z"
   },
   {
    "duration": 56,
    "start_time": "2021-10-18T10:19:31.281Z"
   },
   {
    "duration": 4,
    "start_time": "2021-10-18T10:19:31.339Z"
   },
   {
    "duration": 42,
    "start_time": "2021-10-18T10:19:31.346Z"
   },
   {
    "duration": 58,
    "start_time": "2021-10-18T10:19:31.391Z"
   },
   {
    "duration": 37,
    "start_time": "2021-10-18T10:19:31.452Z"
   },
   {
    "duration": 17,
    "start_time": "2021-10-18T10:19:31.492Z"
   },
   {
    "duration": 3,
    "start_time": "2021-10-18T10:19:31.512Z"
   },
   {
    "duration": 11,
    "start_time": "2021-10-18T10:19:31.517Z"
   },
   {
    "duration": 54,
    "start_time": "2021-10-18T10:19:31.530Z"
   },
   {
    "duration": 19,
    "start_time": "2021-10-18T10:19:31.589Z"
   },
   {
    "duration": 19,
    "start_time": "2021-10-18T10:19:31.611Z"
   },
   {
    "duration": 48,
    "start_time": "2021-10-18T10:19:31.633Z"
   },
   {
    "duration": 22,
    "start_time": "2021-10-18T10:19:31.684Z"
   },
   {
    "duration": 23,
    "start_time": "2021-10-18T10:19:31.708Z"
   },
   {
    "duration": 6,
    "start_time": "2021-10-18T10:19:31.734Z"
   },
   {
    "duration": 43,
    "start_time": "2021-10-18T10:19:31.742Z"
   },
   {
    "duration": 24,
    "start_time": "2021-10-18T10:19:31.787Z"
   },
   {
    "duration": 24,
    "start_time": "2021-10-18T10:19:31.813Z"
   },
   {
    "duration": 18,
    "start_time": "2021-10-18T10:19:31.841Z"
   },
   {
    "duration": 35,
    "start_time": "2021-10-18T10:19:31.861Z"
   },
   {
    "duration": 5,
    "start_time": "2021-10-18T10:19:31.899Z"
   },
   {
    "duration": 12,
    "start_time": "2021-10-18T10:19:31.906Z"
   },
   {
    "duration": 29,
    "start_time": "2021-10-18T10:19:31.921Z"
   },
   {
    "duration": 43,
    "start_time": "2021-10-18T10:19:31.952Z"
   },
   {
    "duration": 25,
    "start_time": "2021-10-18T10:19:31.997Z"
   },
   {
    "duration": 19,
    "start_time": "2021-10-18T10:19:32.024Z"
   },
   {
    "duration": 44,
    "start_time": "2021-10-18T10:19:32.045Z"
   },
   {
    "duration": 12,
    "start_time": "2021-10-18T10:19:32.091Z"
   },
   {
    "duration": 11,
    "start_time": "2021-10-18T10:19:32.106Z"
   },
   {
    "duration": 10,
    "start_time": "2021-10-18T10:19:32.119Z"
   },
   {
    "duration": 37,
    "start_time": "2021-10-18T10:19:43.600Z"
   },
   {
    "duration": 360,
    "start_time": "2021-10-30T09:49:57.806Z"
   },
   {
    "duration": 722,
    "start_time": "2021-10-30T09:50:04.459Z"
   },
   {
    "duration": 180,
    "start_time": "2021-10-30T09:50:05.184Z"
   },
   {
    "duration": 24,
    "start_time": "2021-10-30T09:50:05.367Z"
   },
   {
    "duration": 43,
    "start_time": "2021-10-30T09:50:05.394Z"
   },
   {
    "duration": 9,
    "start_time": "2021-10-30T09:50:05.439Z"
   },
   {
    "duration": 31,
    "start_time": "2021-10-30T09:50:05.450Z"
   },
   {
    "duration": 17,
    "start_time": "2021-10-30T09:50:05.483Z"
   },
   {
    "duration": 50,
    "start_time": "2021-10-30T09:50:05.504Z"
   },
   {
    "duration": 22,
    "start_time": "2021-10-30T09:50:05.557Z"
   },
   {
    "duration": 53,
    "start_time": "2021-10-30T09:50:05.582Z"
   },
   {
    "duration": 189,
    "start_time": "2021-10-30T09:50:05.637Z"
   },
   {
    "duration": 110,
    "start_time": "2021-10-30T09:50:05.828Z"
   },
   {
    "duration": 85,
    "start_time": "2021-10-30T09:50:05.940Z"
   },
   {
    "duration": 55,
    "start_time": "2021-10-30T09:50:06.028Z"
   },
   {
    "duration": 4,
    "start_time": "2021-10-30T09:50:06.085Z"
   },
   {
    "duration": 41,
    "start_time": "2021-10-30T09:50:06.092Z"
   },
   {
    "duration": 56,
    "start_time": "2021-10-30T09:50:06.135Z"
   },
   {
    "duration": 38,
    "start_time": "2021-10-30T09:50:06.194Z"
   },
   {
    "duration": 17,
    "start_time": "2021-10-30T09:50:06.234Z"
   },
   {
    "duration": 3,
    "start_time": "2021-10-30T09:50:06.253Z"
   },
   {
    "duration": 9,
    "start_time": "2021-10-30T09:50:06.259Z"
   },
   {
    "duration": 53,
    "start_time": "2021-10-30T09:50:06.270Z"
   },
   {
    "duration": 20,
    "start_time": "2021-10-30T09:50:06.328Z"
   },
   {
    "duration": 17,
    "start_time": "2021-10-30T09:50:06.351Z"
   },
   {
    "duration": 17,
    "start_time": "2021-10-30T09:50:06.371Z"
   },
   {
    "duration": 23,
    "start_time": "2021-10-30T09:50:06.422Z"
   },
   {
    "duration": 20,
    "start_time": "2021-10-30T09:50:06.447Z"
   },
   {
    "duration": 6,
    "start_time": "2021-10-30T09:50:06.469Z"
   },
   {
    "duration": 47,
    "start_time": "2021-10-30T09:50:06.477Z"
   },
   {
    "duration": 17,
    "start_time": "2021-10-30T09:50:06.526Z"
   },
   {
    "duration": 20,
    "start_time": "2021-10-30T09:50:06.546Z"
   },
   {
    "duration": 21,
    "start_time": "2021-10-30T09:50:06.569Z"
   },
   {
    "duration": 47,
    "start_time": "2021-10-30T09:50:06.592Z"
   },
   {
    "duration": 20,
    "start_time": "2021-10-30T09:50:06.641Z"
   },
   {
    "duration": 35,
    "start_time": "2021-10-30T09:50:06.663Z"
   },
   {
    "duration": 56,
    "start_time": "2021-10-30T09:50:06.700Z"
   },
   {
    "duration": 20,
    "start_time": "2021-10-30T09:50:06.758Z"
   },
   {
    "duration": 26,
    "start_time": "2021-10-30T09:50:06.780Z"
   },
   {
    "duration": 19,
    "start_time": "2021-10-30T09:50:06.821Z"
   },
   {
    "duration": 11,
    "start_time": "2021-10-30T09:50:06.842Z"
   },
   {
    "duration": 23,
    "start_time": "2021-10-30T09:50:06.856Z"
   },
   {
    "duration": 25,
    "start_time": "2021-10-30T09:50:06.882Z"
   },
   {
    "duration": 20,
    "start_time": "2021-10-30T09:50:06.909Z"
   },
   {
    "duration": 783,
    "start_time": "2022-02-22T22:47:39.794Z"
   },
   {
    "duration": 194,
    "start_time": "2022-02-22T22:47:40.624Z"
   },
   {
    "duration": 26,
    "start_time": "2022-02-22T22:47:41.275Z"
   }
  ],
  "colab": {
   "collapsed_sections": [
    "E0vqbgi9ay0H",
    "VUC88oWjTJw2"
   ],
   "name": "yandex_music_project_2021.2.ipynb",
   "provenance": []
  },
  "kernelspec": {
   "display_name": "Python 3 (ipykernel)",
   "language": "python",
   "name": "python3"
  },
  "language_info": {
   "codemirror_mode": {
    "name": "ipython",
    "version": 3
   },
   "file_extension": ".py",
   "mimetype": "text/x-python",
   "name": "python",
   "nbconvert_exporter": "python",
   "pygments_lexer": "ipython3",
   "version": "3.9.7"
  },
  "toc": {
   "base_numbering": 1,
   "nav_menu": {},
   "number_sections": true,
   "sideBar": true,
   "skip_h1_title": true,
   "title_cell": "Оглавление",
   "title_sidebar": "Contents",
   "toc_cell": true,
   "toc_position": {},
   "toc_section_display": true,
   "toc_window_display": false
  },
  "varInspector": {
   "cols": {
    "lenName": 16,
    "lenType": 16,
    "lenVar": 40
   },
   "kernels_config": {
    "python": {
     "delete_cmd_postfix": "",
     "delete_cmd_prefix": "del ",
     "library": "var_list.py",
     "varRefreshCmd": "print(var_dic_list())"
    },
    "r": {
     "delete_cmd_postfix": ") ",
     "delete_cmd_prefix": "rm(",
     "library": "var_list.r",
     "varRefreshCmd": "cat(var_dic_list()) "
    }
   },
   "types_to_exclude": [
    "module",
    "function",
    "builtin_function_or_method",
    "instance",
    "_Feature"
   ],
   "window_display": false
  }
 },
 "nbformat": 4,
 "nbformat_minor": 1
}
