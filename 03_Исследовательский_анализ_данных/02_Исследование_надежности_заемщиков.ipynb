{
 "cells": [
  {
   "cell_type": "markdown",
   "metadata": {
    "jp-MarkdownHeadingCollapsed": true,
    "tags": []
   },
   "source": [
    "# Исследование надёжности заёмщиков\n",
    "\n",
    "Заказчик — кредитный отдел банка. Необходимо разобраться, влияет ли семейное положение и количество детей клиента на факт погашения кредита в срок. Входные данные от банка — статистика о платёжеспособности клиентов.\n",
    "\n",
    "Результаты исследования будут учтены при построении модели **кредитного скоринга** — специальной системы, которая оценивает способность потенциального заёмщика вернуть кредит банку."
   ]
  },
  {
   "cell_type": "markdown",
   "metadata": {
    "toc": true
   },
   "source": [
    "<h1>Оглавление<span class=\"tocSkip\"></span></h1>\n",
    "<div class=\"toc\"><ul class=\"toc-item\"><li><span><a href=\"#Обзор-данных\" data-toc-modified-id=\"Обзор-данных-1\"><span class=\"toc-item-num\">1&nbsp;&nbsp;</span>Обзор данных</a></span></li><li><span><a href=\"#Предобработка-данных\" data-toc-modified-id=\"Предобработка-данных-2\"><span class=\"toc-item-num\">2&nbsp;&nbsp;</span>Предобработка данных</a></span><ul class=\"toc-item\"><li><span><a href=\"#Обработка-пропусков\" data-toc-modified-id=\"Обработка-пропусков-2.1\"><span class=\"toc-item-num\">2.1&nbsp;&nbsp;</span>Обработка пропусков</a></span></li><li><span><a href=\"#Замена-типа-данных\" data-toc-modified-id=\"Замена-типа-данных-2.2\"><span class=\"toc-item-num\">2.2&nbsp;&nbsp;</span>Замена типа данных</a></span></li><li><span><a href=\"#Обработка-дубликатов\" data-toc-modified-id=\"Обработка-дубликатов-2.3\"><span class=\"toc-item-num\">2.3&nbsp;&nbsp;</span>Обработка дубликатов</a></span></li><li><span><a href=\"#Лемматизация\" data-toc-modified-id=\"Лемматизация-2.4\"><span class=\"toc-item-num\">2.4&nbsp;&nbsp;</span>Лемматизация</a></span></li><li><span><a href=\"#Категоризация-данных\" data-toc-modified-id=\"Категоризация-данных-2.5\"><span class=\"toc-item-num\">2.5&nbsp;&nbsp;</span>Категоризация данных</a></span></li></ul></li><li><span><a href=\"#Проверка-гипотез\" data-toc-modified-id=\"Проверка-гипотез-3\"><span class=\"toc-item-num\">3&nbsp;&nbsp;</span>Проверка гипотез</a></span></li><li><span><a href=\"#Общий-вывод\" data-toc-modified-id=\"Общий-вывод-4\"><span class=\"toc-item-num\">4&nbsp;&nbsp;</span>Общий вывод</a></span></li><li><span><a href=\"#Чек-лист-готовности-проекта\" data-toc-modified-id=\"Чек-лист-готовности-проекта-5\"><span class=\"toc-item-num\">5&nbsp;&nbsp;</span>Чек-лист готовности проекта</a></span></li></ul></div>"
   ]
  },
  {
   "cell_type": "markdown",
   "metadata": {},
   "source": [
    "##  Обзор данных"
   ]
  },
  {
   "cell_type": "markdown",
   "metadata": {},
   "source": [
    "Составим первое представление о входных данных от банка."
   ]
  },
  {
   "cell_type": "code",
   "execution_count": 1,
   "metadata": {},
   "outputs": [],
   "source": [
    "import pandas as pd\n",
    "from pymystem3 import Mystem"
   ]
  },
  {
   "cell_type": "code",
   "execution_count": 2,
   "metadata": {},
   "outputs": [],
   "source": [
    "df = pd.read_csv('/datasets/data.csv')"
   ]
  },
  {
   "cell_type": "markdown",
   "metadata": {},
   "source": [
    "Выведем 10 первых строк таблицы:"
   ]
  },
  {
   "cell_type": "code",
   "execution_count": 3,
   "metadata": {},
   "outputs": [
    {
     "data": {
      "text/html": [
       "<div>\n",
       "<style scoped>\n",
       "    .dataframe tbody tr th:only-of-type {\n",
       "        vertical-align: middle;\n",
       "    }\n",
       "\n",
       "    .dataframe tbody tr th {\n",
       "        vertical-align: top;\n",
       "    }\n",
       "\n",
       "    .dataframe thead th {\n",
       "        text-align: right;\n",
       "    }\n",
       "</style>\n",
       "<table border=\"1\" class=\"dataframe\">\n",
       "  <thead>\n",
       "    <tr style=\"text-align: right;\">\n",
       "      <th></th>\n",
       "      <th>children</th>\n",
       "      <th>days_employed</th>\n",
       "      <th>dob_years</th>\n",
       "      <th>education</th>\n",
       "      <th>education_id</th>\n",
       "      <th>family_status</th>\n",
       "      <th>family_status_id</th>\n",
       "      <th>gender</th>\n",
       "      <th>income_type</th>\n",
       "      <th>debt</th>\n",
       "      <th>total_income</th>\n",
       "      <th>purpose</th>\n",
       "    </tr>\n",
       "  </thead>\n",
       "  <tbody>\n",
       "    <tr>\n",
       "      <td>0</td>\n",
       "      <td>1</td>\n",
       "      <td>-8437.673028</td>\n",
       "      <td>42</td>\n",
       "      <td>высшее</td>\n",
       "      <td>0</td>\n",
       "      <td>женат / замужем</td>\n",
       "      <td>0</td>\n",
       "      <td>F</td>\n",
       "      <td>сотрудник</td>\n",
       "      <td>0</td>\n",
       "      <td>253875.639453</td>\n",
       "      <td>покупка жилья</td>\n",
       "    </tr>\n",
       "    <tr>\n",
       "      <td>1</td>\n",
       "      <td>1</td>\n",
       "      <td>-4024.803754</td>\n",
       "      <td>36</td>\n",
       "      <td>среднее</td>\n",
       "      <td>1</td>\n",
       "      <td>женат / замужем</td>\n",
       "      <td>0</td>\n",
       "      <td>F</td>\n",
       "      <td>сотрудник</td>\n",
       "      <td>0</td>\n",
       "      <td>112080.014102</td>\n",
       "      <td>приобретение автомобиля</td>\n",
       "    </tr>\n",
       "    <tr>\n",
       "      <td>2</td>\n",
       "      <td>0</td>\n",
       "      <td>-5623.422610</td>\n",
       "      <td>33</td>\n",
       "      <td>Среднее</td>\n",
       "      <td>1</td>\n",
       "      <td>женат / замужем</td>\n",
       "      <td>0</td>\n",
       "      <td>M</td>\n",
       "      <td>сотрудник</td>\n",
       "      <td>0</td>\n",
       "      <td>145885.952297</td>\n",
       "      <td>покупка жилья</td>\n",
       "    </tr>\n",
       "    <tr>\n",
       "      <td>3</td>\n",
       "      <td>3</td>\n",
       "      <td>-4124.747207</td>\n",
       "      <td>32</td>\n",
       "      <td>среднее</td>\n",
       "      <td>1</td>\n",
       "      <td>женат / замужем</td>\n",
       "      <td>0</td>\n",
       "      <td>M</td>\n",
       "      <td>сотрудник</td>\n",
       "      <td>0</td>\n",
       "      <td>267628.550329</td>\n",
       "      <td>дополнительное образование</td>\n",
       "    </tr>\n",
       "    <tr>\n",
       "      <td>4</td>\n",
       "      <td>0</td>\n",
       "      <td>340266.072047</td>\n",
       "      <td>53</td>\n",
       "      <td>среднее</td>\n",
       "      <td>1</td>\n",
       "      <td>гражданский брак</td>\n",
       "      <td>1</td>\n",
       "      <td>F</td>\n",
       "      <td>пенсионер</td>\n",
       "      <td>0</td>\n",
       "      <td>158616.077870</td>\n",
       "      <td>сыграть свадьбу</td>\n",
       "    </tr>\n",
       "    <tr>\n",
       "      <td>5</td>\n",
       "      <td>0</td>\n",
       "      <td>-926.185831</td>\n",
       "      <td>27</td>\n",
       "      <td>высшее</td>\n",
       "      <td>0</td>\n",
       "      <td>гражданский брак</td>\n",
       "      <td>1</td>\n",
       "      <td>M</td>\n",
       "      <td>компаньон</td>\n",
       "      <td>0</td>\n",
       "      <td>255763.565419</td>\n",
       "      <td>покупка жилья</td>\n",
       "    </tr>\n",
       "    <tr>\n",
       "      <td>6</td>\n",
       "      <td>0</td>\n",
       "      <td>-2879.202052</td>\n",
       "      <td>43</td>\n",
       "      <td>высшее</td>\n",
       "      <td>0</td>\n",
       "      <td>женат / замужем</td>\n",
       "      <td>0</td>\n",
       "      <td>F</td>\n",
       "      <td>компаньон</td>\n",
       "      <td>0</td>\n",
       "      <td>240525.971920</td>\n",
       "      <td>операции с жильем</td>\n",
       "    </tr>\n",
       "    <tr>\n",
       "      <td>7</td>\n",
       "      <td>0</td>\n",
       "      <td>-152.779569</td>\n",
       "      <td>50</td>\n",
       "      <td>СРЕДНЕЕ</td>\n",
       "      <td>1</td>\n",
       "      <td>женат / замужем</td>\n",
       "      <td>0</td>\n",
       "      <td>M</td>\n",
       "      <td>сотрудник</td>\n",
       "      <td>0</td>\n",
       "      <td>135823.934197</td>\n",
       "      <td>образование</td>\n",
       "    </tr>\n",
       "    <tr>\n",
       "      <td>8</td>\n",
       "      <td>2</td>\n",
       "      <td>-6929.865299</td>\n",
       "      <td>35</td>\n",
       "      <td>ВЫСШЕЕ</td>\n",
       "      <td>0</td>\n",
       "      <td>гражданский брак</td>\n",
       "      <td>1</td>\n",
       "      <td>F</td>\n",
       "      <td>сотрудник</td>\n",
       "      <td>0</td>\n",
       "      <td>95856.832424</td>\n",
       "      <td>на проведение свадьбы</td>\n",
       "    </tr>\n",
       "    <tr>\n",
       "      <td>9</td>\n",
       "      <td>0</td>\n",
       "      <td>-2188.756445</td>\n",
       "      <td>41</td>\n",
       "      <td>среднее</td>\n",
       "      <td>1</td>\n",
       "      <td>женат / замужем</td>\n",
       "      <td>0</td>\n",
       "      <td>M</td>\n",
       "      <td>сотрудник</td>\n",
       "      <td>0</td>\n",
       "      <td>144425.938277</td>\n",
       "      <td>покупка жилья для семьи</td>\n",
       "    </tr>\n",
       "  </tbody>\n",
       "</table>\n",
       "</div>"
      ],
      "text/plain": [
       "   children  days_employed  dob_years education  education_id  \\\n",
       "0         1   -8437.673028         42    высшее             0   \n",
       "1         1   -4024.803754         36   среднее             1   \n",
       "2         0   -5623.422610         33   Среднее             1   \n",
       "3         3   -4124.747207         32   среднее             1   \n",
       "4         0  340266.072047         53   среднее             1   \n",
       "5         0    -926.185831         27    высшее             0   \n",
       "6         0   -2879.202052         43    высшее             0   \n",
       "7         0    -152.779569         50   СРЕДНЕЕ             1   \n",
       "8         2   -6929.865299         35    ВЫСШЕЕ             0   \n",
       "9         0   -2188.756445         41   среднее             1   \n",
       "\n",
       "      family_status  family_status_id gender income_type  debt   total_income  \\\n",
       "0   женат / замужем                 0      F   сотрудник     0  253875.639453   \n",
       "1   женат / замужем                 0      F   сотрудник     0  112080.014102   \n",
       "2   женат / замужем                 0      M   сотрудник     0  145885.952297   \n",
       "3   женат / замужем                 0      M   сотрудник     0  267628.550329   \n",
       "4  гражданский брак                 1      F   пенсионер     0  158616.077870   \n",
       "5  гражданский брак                 1      M   компаньон     0  255763.565419   \n",
       "6   женат / замужем                 0      F   компаньон     0  240525.971920   \n",
       "7   женат / замужем                 0      M   сотрудник     0  135823.934197   \n",
       "8  гражданский брак                 1      F   сотрудник     0   95856.832424   \n",
       "9   женат / замужем                 0      M   сотрудник     0  144425.938277   \n",
       "\n",
       "                      purpose  \n",
       "0               покупка жилья  \n",
       "1     приобретение автомобиля  \n",
       "2               покупка жилья  \n",
       "3  дополнительное образование  \n",
       "4             сыграть свадьбу  \n",
       "5               покупка жилья  \n",
       "6           операции с жильем  \n",
       "7                 образование  \n",
       "8       на проведение свадьбы  \n",
       "9     покупка жилья для семьи  "
      ]
     },
     "execution_count": 3,
     "metadata": {},
     "output_type": "execute_result"
    }
   ],
   "source": [
    "df.head(10)"
   ]
  },
  {
   "cell_type": "markdown",
   "metadata": {},
   "source": [
    "Выведем 10 последних строк таблицы:"
   ]
  },
  {
   "cell_type": "code",
   "execution_count": 4,
   "metadata": {},
   "outputs": [
    {
     "data": {
      "text/html": [
       "<div>\n",
       "<style scoped>\n",
       "    .dataframe tbody tr th:only-of-type {\n",
       "        vertical-align: middle;\n",
       "    }\n",
       "\n",
       "    .dataframe tbody tr th {\n",
       "        vertical-align: top;\n",
       "    }\n",
       "\n",
       "    .dataframe thead th {\n",
       "        text-align: right;\n",
       "    }\n",
       "</style>\n",
       "<table border=\"1\" class=\"dataframe\">\n",
       "  <thead>\n",
       "    <tr style=\"text-align: right;\">\n",
       "      <th></th>\n",
       "      <th>children</th>\n",
       "      <th>days_employed</th>\n",
       "      <th>dob_years</th>\n",
       "      <th>education</th>\n",
       "      <th>education_id</th>\n",
       "      <th>family_status</th>\n",
       "      <th>family_status_id</th>\n",
       "      <th>gender</th>\n",
       "      <th>income_type</th>\n",
       "      <th>debt</th>\n",
       "      <th>total_income</th>\n",
       "      <th>purpose</th>\n",
       "    </tr>\n",
       "  </thead>\n",
       "  <tbody>\n",
       "    <tr>\n",
       "      <td>21515</td>\n",
       "      <td>1</td>\n",
       "      <td>-467.685130</td>\n",
       "      <td>28</td>\n",
       "      <td>среднее</td>\n",
       "      <td>1</td>\n",
       "      <td>женат / замужем</td>\n",
       "      <td>0</td>\n",
       "      <td>F</td>\n",
       "      <td>сотрудник</td>\n",
       "      <td>1</td>\n",
       "      <td>109486.327999</td>\n",
       "      <td>заняться образованием</td>\n",
       "    </tr>\n",
       "    <tr>\n",
       "      <td>21516</td>\n",
       "      <td>0</td>\n",
       "      <td>-914.391429</td>\n",
       "      <td>42</td>\n",
       "      <td>высшее</td>\n",
       "      <td>0</td>\n",
       "      <td>женат / замужем</td>\n",
       "      <td>0</td>\n",
       "      <td>F</td>\n",
       "      <td>компаньон</td>\n",
       "      <td>0</td>\n",
       "      <td>322807.776603</td>\n",
       "      <td>покупка своего жилья</td>\n",
       "    </tr>\n",
       "    <tr>\n",
       "      <td>21517</td>\n",
       "      <td>0</td>\n",
       "      <td>-404.679034</td>\n",
       "      <td>42</td>\n",
       "      <td>высшее</td>\n",
       "      <td>0</td>\n",
       "      <td>гражданский брак</td>\n",
       "      <td>1</td>\n",
       "      <td>F</td>\n",
       "      <td>компаньон</td>\n",
       "      <td>0</td>\n",
       "      <td>178059.553491</td>\n",
       "      <td>на покупку своего автомобиля</td>\n",
       "    </tr>\n",
       "    <tr>\n",
       "      <td>21518</td>\n",
       "      <td>0</td>\n",
       "      <td>373995.710838</td>\n",
       "      <td>59</td>\n",
       "      <td>СРЕДНЕЕ</td>\n",
       "      <td>1</td>\n",
       "      <td>женат / замужем</td>\n",
       "      <td>0</td>\n",
       "      <td>F</td>\n",
       "      <td>пенсионер</td>\n",
       "      <td>0</td>\n",
       "      <td>153864.650328</td>\n",
       "      <td>сделка с автомобилем</td>\n",
       "    </tr>\n",
       "    <tr>\n",
       "      <td>21519</td>\n",
       "      <td>1</td>\n",
       "      <td>-2351.431934</td>\n",
       "      <td>37</td>\n",
       "      <td>ученая степень</td>\n",
       "      <td>4</td>\n",
       "      <td>в разводе</td>\n",
       "      <td>3</td>\n",
       "      <td>M</td>\n",
       "      <td>сотрудник</td>\n",
       "      <td>0</td>\n",
       "      <td>115949.039788</td>\n",
       "      <td>покупка коммерческой недвижимости</td>\n",
       "    </tr>\n",
       "    <tr>\n",
       "      <td>21520</td>\n",
       "      <td>1</td>\n",
       "      <td>-4529.316663</td>\n",
       "      <td>43</td>\n",
       "      <td>среднее</td>\n",
       "      <td>1</td>\n",
       "      <td>гражданский брак</td>\n",
       "      <td>1</td>\n",
       "      <td>F</td>\n",
       "      <td>компаньон</td>\n",
       "      <td>0</td>\n",
       "      <td>224791.862382</td>\n",
       "      <td>операции с жильем</td>\n",
       "    </tr>\n",
       "    <tr>\n",
       "      <td>21521</td>\n",
       "      <td>0</td>\n",
       "      <td>343937.404131</td>\n",
       "      <td>67</td>\n",
       "      <td>среднее</td>\n",
       "      <td>1</td>\n",
       "      <td>женат / замужем</td>\n",
       "      <td>0</td>\n",
       "      <td>F</td>\n",
       "      <td>пенсионер</td>\n",
       "      <td>0</td>\n",
       "      <td>155999.806512</td>\n",
       "      <td>сделка с автомобилем</td>\n",
       "    </tr>\n",
       "    <tr>\n",
       "      <td>21522</td>\n",
       "      <td>1</td>\n",
       "      <td>-2113.346888</td>\n",
       "      <td>38</td>\n",
       "      <td>среднее</td>\n",
       "      <td>1</td>\n",
       "      <td>гражданский брак</td>\n",
       "      <td>1</td>\n",
       "      <td>M</td>\n",
       "      <td>сотрудник</td>\n",
       "      <td>1</td>\n",
       "      <td>89672.561153</td>\n",
       "      <td>недвижимость</td>\n",
       "    </tr>\n",
       "    <tr>\n",
       "      <td>21523</td>\n",
       "      <td>3</td>\n",
       "      <td>-3112.481705</td>\n",
       "      <td>38</td>\n",
       "      <td>среднее</td>\n",
       "      <td>1</td>\n",
       "      <td>женат / замужем</td>\n",
       "      <td>0</td>\n",
       "      <td>M</td>\n",
       "      <td>сотрудник</td>\n",
       "      <td>1</td>\n",
       "      <td>244093.050500</td>\n",
       "      <td>на покупку своего автомобиля</td>\n",
       "    </tr>\n",
       "    <tr>\n",
       "      <td>21524</td>\n",
       "      <td>2</td>\n",
       "      <td>-1984.507589</td>\n",
       "      <td>40</td>\n",
       "      <td>среднее</td>\n",
       "      <td>1</td>\n",
       "      <td>женат / замужем</td>\n",
       "      <td>0</td>\n",
       "      <td>F</td>\n",
       "      <td>сотрудник</td>\n",
       "      <td>0</td>\n",
       "      <td>82047.418899</td>\n",
       "      <td>на покупку автомобиля</td>\n",
       "    </tr>\n",
       "  </tbody>\n",
       "</table>\n",
       "</div>"
      ],
      "text/plain": [
       "       children  days_employed  dob_years       education  education_id  \\\n",
       "21515         1    -467.685130         28         среднее             1   \n",
       "21516         0    -914.391429         42          высшее             0   \n",
       "21517         0    -404.679034         42          высшее             0   \n",
       "21518         0  373995.710838         59         СРЕДНЕЕ             1   \n",
       "21519         1   -2351.431934         37  ученая степень             4   \n",
       "21520         1   -4529.316663         43         среднее             1   \n",
       "21521         0  343937.404131         67         среднее             1   \n",
       "21522         1   -2113.346888         38         среднее             1   \n",
       "21523         3   -3112.481705         38         среднее             1   \n",
       "21524         2   -1984.507589         40         среднее             1   \n",
       "\n",
       "          family_status  family_status_id gender income_type  debt  \\\n",
       "21515   женат / замужем                 0      F   сотрудник     1   \n",
       "21516   женат / замужем                 0      F   компаньон     0   \n",
       "21517  гражданский брак                 1      F   компаньон     0   \n",
       "21518   женат / замужем                 0      F   пенсионер     0   \n",
       "21519         в разводе                 3      M   сотрудник     0   \n",
       "21520  гражданский брак                 1      F   компаньон     0   \n",
       "21521   женат / замужем                 0      F   пенсионер     0   \n",
       "21522  гражданский брак                 1      M   сотрудник     1   \n",
       "21523   женат / замужем                 0      M   сотрудник     1   \n",
       "21524   женат / замужем                 0      F   сотрудник     0   \n",
       "\n",
       "        total_income                            purpose  \n",
       "21515  109486.327999              заняться образованием  \n",
       "21516  322807.776603               покупка своего жилья  \n",
       "21517  178059.553491       на покупку своего автомобиля  \n",
       "21518  153864.650328               сделка с автомобилем  \n",
       "21519  115949.039788  покупка коммерческой недвижимости  \n",
       "21520  224791.862382                  операции с жильем  \n",
       "21521  155999.806512               сделка с автомобилем  \n",
       "21522   89672.561153                       недвижимость  \n",
       "21523  244093.050500       на покупку своего автомобиля  \n",
       "21524   82047.418899              на покупку автомобиля  "
      ]
     },
     "execution_count": 4,
     "metadata": {},
     "output_type": "execute_result"
    }
   ],
   "source": [
    "df.tail(10)"
   ]
  },
  {
   "cell_type": "markdown",
   "metadata": {},
   "source": [
    "Выведем 10 случайных строк таблицы:"
   ]
  },
  {
   "cell_type": "code",
   "execution_count": 5,
   "metadata": {},
   "outputs": [
    {
     "data": {
      "text/html": [
       "<div>\n",
       "<style scoped>\n",
       "    .dataframe tbody tr th:only-of-type {\n",
       "        vertical-align: middle;\n",
       "    }\n",
       "\n",
       "    .dataframe tbody tr th {\n",
       "        vertical-align: top;\n",
       "    }\n",
       "\n",
       "    .dataframe thead th {\n",
       "        text-align: right;\n",
       "    }\n",
       "</style>\n",
       "<table border=\"1\" class=\"dataframe\">\n",
       "  <thead>\n",
       "    <tr style=\"text-align: right;\">\n",
       "      <th></th>\n",
       "      <th>children</th>\n",
       "      <th>days_employed</th>\n",
       "      <th>dob_years</th>\n",
       "      <th>education</th>\n",
       "      <th>education_id</th>\n",
       "      <th>family_status</th>\n",
       "      <th>family_status_id</th>\n",
       "      <th>gender</th>\n",
       "      <th>income_type</th>\n",
       "      <th>debt</th>\n",
       "      <th>total_income</th>\n",
       "      <th>purpose</th>\n",
       "    </tr>\n",
       "  </thead>\n",
       "  <tbody>\n",
       "    <tr>\n",
       "      <td>1383</td>\n",
       "      <td>0</td>\n",
       "      <td>353802.811675</td>\n",
       "      <td>37</td>\n",
       "      <td>среднее</td>\n",
       "      <td>1</td>\n",
       "      <td>вдовец / вдова</td>\n",
       "      <td>2</td>\n",
       "      <td>F</td>\n",
       "      <td>пенсионер</td>\n",
       "      <td>0</td>\n",
       "      <td>216452.226085</td>\n",
       "      <td>строительство недвижимости</td>\n",
       "    </tr>\n",
       "    <tr>\n",
       "      <td>300</td>\n",
       "      <td>1</td>\n",
       "      <td>-359.193975</td>\n",
       "      <td>33</td>\n",
       "      <td>СРЕДНЕЕ</td>\n",
       "      <td>1</td>\n",
       "      <td>гражданский брак</td>\n",
       "      <td>1</td>\n",
       "      <td>M</td>\n",
       "      <td>сотрудник</td>\n",
       "      <td>0</td>\n",
       "      <td>223001.623994</td>\n",
       "      <td>на проведение свадьбы</td>\n",
       "    </tr>\n",
       "    <tr>\n",
       "      <td>6565</td>\n",
       "      <td>2</td>\n",
       "      <td>-1064.854333</td>\n",
       "      <td>35</td>\n",
       "      <td>среднее</td>\n",
       "      <td>1</td>\n",
       "      <td>гражданский брак</td>\n",
       "      <td>1</td>\n",
       "      <td>F</td>\n",
       "      <td>компаньон</td>\n",
       "      <td>0</td>\n",
       "      <td>163591.209323</td>\n",
       "      <td>свадьба</td>\n",
       "    </tr>\n",
       "    <tr>\n",
       "      <td>17027</td>\n",
       "      <td>0</td>\n",
       "      <td>NaN</td>\n",
       "      <td>48</td>\n",
       "      <td>высшее</td>\n",
       "      <td>0</td>\n",
       "      <td>гражданский брак</td>\n",
       "      <td>1</td>\n",
       "      <td>F</td>\n",
       "      <td>сотрудник</td>\n",
       "      <td>0</td>\n",
       "      <td>NaN</td>\n",
       "      <td>операции с жильем</td>\n",
       "    </tr>\n",
       "    <tr>\n",
       "      <td>4077</td>\n",
       "      <td>0</td>\n",
       "      <td>-7059.100220</td>\n",
       "      <td>45</td>\n",
       "      <td>высшее</td>\n",
       "      <td>0</td>\n",
       "      <td>гражданский брак</td>\n",
       "      <td>1</td>\n",
       "      <td>F</td>\n",
       "      <td>компаньон</td>\n",
       "      <td>1</td>\n",
       "      <td>194820.185757</td>\n",
       "      <td>сыграть свадьбу</td>\n",
       "    </tr>\n",
       "    <tr>\n",
       "      <td>10437</td>\n",
       "      <td>0</td>\n",
       "      <td>-2258.301455</td>\n",
       "      <td>50</td>\n",
       "      <td>среднее</td>\n",
       "      <td>1</td>\n",
       "      <td>женат / замужем</td>\n",
       "      <td>0</td>\n",
       "      <td>F</td>\n",
       "      <td>сотрудник</td>\n",
       "      <td>0</td>\n",
       "      <td>146768.250599</td>\n",
       "      <td>операции с коммерческой недвижимостью</td>\n",
       "    </tr>\n",
       "    <tr>\n",
       "      <td>9631</td>\n",
       "      <td>1</td>\n",
       "      <td>-1045.752744</td>\n",
       "      <td>23</td>\n",
       "      <td>среднее</td>\n",
       "      <td>1</td>\n",
       "      <td>женат / замужем</td>\n",
       "      <td>0</td>\n",
       "      <td>M</td>\n",
       "      <td>сотрудник</td>\n",
       "      <td>0</td>\n",
       "      <td>81734.568425</td>\n",
       "      <td>операции с коммерческой недвижимостью</td>\n",
       "    </tr>\n",
       "    <tr>\n",
       "      <td>19867</td>\n",
       "      <td>0</td>\n",
       "      <td>NaN</td>\n",
       "      <td>39</td>\n",
       "      <td>среднее</td>\n",
       "      <td>1</td>\n",
       "      <td>женат / замужем</td>\n",
       "      <td>0</td>\n",
       "      <td>M</td>\n",
       "      <td>сотрудник</td>\n",
       "      <td>0</td>\n",
       "      <td>NaN</td>\n",
       "      <td>дополнительное образование</td>\n",
       "    </tr>\n",
       "    <tr>\n",
       "      <td>9124</td>\n",
       "      <td>0</td>\n",
       "      <td>-282.186487</td>\n",
       "      <td>48</td>\n",
       "      <td>среднее</td>\n",
       "      <td>1</td>\n",
       "      <td>в разводе</td>\n",
       "      <td>3</td>\n",
       "      <td>F</td>\n",
       "      <td>компаньон</td>\n",
       "      <td>0</td>\n",
       "      <td>284275.683334</td>\n",
       "      <td>строительство жилой недвижимости</td>\n",
       "    </tr>\n",
       "    <tr>\n",
       "      <td>19634</td>\n",
       "      <td>0</td>\n",
       "      <td>-1320.103813</td>\n",
       "      <td>46</td>\n",
       "      <td>среднее</td>\n",
       "      <td>1</td>\n",
       "      <td>женат / замужем</td>\n",
       "      <td>0</td>\n",
       "      <td>F</td>\n",
       "      <td>компаньон</td>\n",
       "      <td>0</td>\n",
       "      <td>184569.030590</td>\n",
       "      <td>автомобили</td>\n",
       "    </tr>\n",
       "  </tbody>\n",
       "</table>\n",
       "</div>"
      ],
      "text/plain": [
       "       children  days_employed  dob_years education  education_id  \\\n",
       "1383          0  353802.811675         37   среднее             1   \n",
       "300           1    -359.193975         33   СРЕДНЕЕ             1   \n",
       "6565          2   -1064.854333         35   среднее             1   \n",
       "17027         0            NaN         48    высшее             0   \n",
       "4077          0   -7059.100220         45    высшее             0   \n",
       "10437         0   -2258.301455         50   среднее             1   \n",
       "9631          1   -1045.752744         23   среднее             1   \n",
       "19867         0            NaN         39   среднее             1   \n",
       "9124          0    -282.186487         48   среднее             1   \n",
       "19634         0   -1320.103813         46   среднее             1   \n",
       "\n",
       "          family_status  family_status_id gender income_type  debt  \\\n",
       "1383     вдовец / вдова                 2      F   пенсионер     0   \n",
       "300    гражданский брак                 1      M   сотрудник     0   \n",
       "6565   гражданский брак                 1      F   компаньон     0   \n",
       "17027  гражданский брак                 1      F   сотрудник     0   \n",
       "4077   гражданский брак                 1      F   компаньон     1   \n",
       "10437   женат / замужем                 0      F   сотрудник     0   \n",
       "9631    женат / замужем                 0      M   сотрудник     0   \n",
       "19867   женат / замужем                 0      M   сотрудник     0   \n",
       "9124          в разводе                 3      F   компаньон     0   \n",
       "19634   женат / замужем                 0      F   компаньон     0   \n",
       "\n",
       "        total_income                                purpose  \n",
       "1383   216452.226085             строительство недвижимости  \n",
       "300    223001.623994                  на проведение свадьбы  \n",
       "6565   163591.209323                                свадьба  \n",
       "17027            NaN                      операции с жильем  \n",
       "4077   194820.185757                        сыграть свадьбу  \n",
       "10437  146768.250599  операции с коммерческой недвижимостью  \n",
       "9631    81734.568425  операции с коммерческой недвижимостью  \n",
       "19867            NaN             дополнительное образование  \n",
       "9124   284275.683334       строительство жилой недвижимости  \n",
       "19634  184569.030590                             автомобили  "
      ]
     },
     "execution_count": 5,
     "metadata": {},
     "output_type": "execute_result"
    }
   ],
   "source": [
    "df.sample(10, random_state=1)"
   ]
  },
  {
   "cell_type": "markdown",
   "metadata": {},
   "source": [
    "Выведем описательные статистики для числовых данные таблицы:"
   ]
  },
  {
   "cell_type": "code",
   "execution_count": 6,
   "metadata": {},
   "outputs": [
    {
     "data": {
      "text/html": [
       "<div>\n",
       "<style scoped>\n",
       "    .dataframe tbody tr th:only-of-type {\n",
       "        vertical-align: middle;\n",
       "    }\n",
       "\n",
       "    .dataframe tbody tr th {\n",
       "        vertical-align: top;\n",
       "    }\n",
       "\n",
       "    .dataframe thead th {\n",
       "        text-align: right;\n",
       "    }\n",
       "</style>\n",
       "<table border=\"1\" class=\"dataframe\">\n",
       "  <thead>\n",
       "    <tr style=\"text-align: right;\">\n",
       "      <th></th>\n",
       "      <th>count</th>\n",
       "      <th>mean</th>\n",
       "      <th>std</th>\n",
       "      <th>min</th>\n",
       "      <th>25%</th>\n",
       "      <th>50%</th>\n",
       "      <th>75%</th>\n",
       "      <th>max</th>\n",
       "    </tr>\n",
       "  </thead>\n",
       "  <tbody>\n",
       "    <tr>\n",
       "      <td>children</td>\n",
       "      <td>21525.0</td>\n",
       "      <td>0.538908</td>\n",
       "      <td>1.381587</td>\n",
       "      <td>-1.000000</td>\n",
       "      <td>0.000000</td>\n",
       "      <td>0.000000</td>\n",
       "      <td>1.000000</td>\n",
       "      <td>2.000000e+01</td>\n",
       "    </tr>\n",
       "    <tr>\n",
       "      <td>days_employed</td>\n",
       "      <td>19351.0</td>\n",
       "      <td>63046.497661</td>\n",
       "      <td>140827.311974</td>\n",
       "      <td>-18388.949901</td>\n",
       "      <td>-2747.423625</td>\n",
       "      <td>-1203.369529</td>\n",
       "      <td>-291.095954</td>\n",
       "      <td>4.017554e+05</td>\n",
       "    </tr>\n",
       "    <tr>\n",
       "      <td>dob_years</td>\n",
       "      <td>21525.0</td>\n",
       "      <td>43.293380</td>\n",
       "      <td>12.574584</td>\n",
       "      <td>0.000000</td>\n",
       "      <td>33.000000</td>\n",
       "      <td>42.000000</td>\n",
       "      <td>53.000000</td>\n",
       "      <td>7.500000e+01</td>\n",
       "    </tr>\n",
       "    <tr>\n",
       "      <td>education_id</td>\n",
       "      <td>21525.0</td>\n",
       "      <td>0.817236</td>\n",
       "      <td>0.548138</td>\n",
       "      <td>0.000000</td>\n",
       "      <td>1.000000</td>\n",
       "      <td>1.000000</td>\n",
       "      <td>1.000000</td>\n",
       "      <td>4.000000e+00</td>\n",
       "    </tr>\n",
       "    <tr>\n",
       "      <td>family_status_id</td>\n",
       "      <td>21525.0</td>\n",
       "      <td>0.972544</td>\n",
       "      <td>1.420324</td>\n",
       "      <td>0.000000</td>\n",
       "      <td>0.000000</td>\n",
       "      <td>0.000000</td>\n",
       "      <td>1.000000</td>\n",
       "      <td>4.000000e+00</td>\n",
       "    </tr>\n",
       "    <tr>\n",
       "      <td>debt</td>\n",
       "      <td>21525.0</td>\n",
       "      <td>0.080883</td>\n",
       "      <td>0.272661</td>\n",
       "      <td>0.000000</td>\n",
       "      <td>0.000000</td>\n",
       "      <td>0.000000</td>\n",
       "      <td>0.000000</td>\n",
       "      <td>1.000000e+00</td>\n",
       "    </tr>\n",
       "    <tr>\n",
       "      <td>total_income</td>\n",
       "      <td>19351.0</td>\n",
       "      <td>167422.302208</td>\n",
       "      <td>102971.566448</td>\n",
       "      <td>20667.263793</td>\n",
       "      <td>103053.152913</td>\n",
       "      <td>145017.937533</td>\n",
       "      <td>203435.067663</td>\n",
       "      <td>2.265604e+06</td>\n",
       "    </tr>\n",
       "  </tbody>\n",
       "</table>\n",
       "</div>"
      ],
      "text/plain": [
       "                    count           mean            std           min  \\\n",
       "children          21525.0       0.538908       1.381587     -1.000000   \n",
       "days_employed     19351.0   63046.497661  140827.311974 -18388.949901   \n",
       "dob_years         21525.0      43.293380      12.574584      0.000000   \n",
       "education_id      21525.0       0.817236       0.548138      0.000000   \n",
       "family_status_id  21525.0       0.972544       1.420324      0.000000   \n",
       "debt              21525.0       0.080883       0.272661      0.000000   \n",
       "total_income      19351.0  167422.302208  102971.566448  20667.263793   \n",
       "\n",
       "                            25%            50%            75%           max  \n",
       "children               0.000000       0.000000       1.000000  2.000000e+01  \n",
       "days_employed      -2747.423625   -1203.369529    -291.095954  4.017554e+05  \n",
       "dob_years             33.000000      42.000000      53.000000  7.500000e+01  \n",
       "education_id           1.000000       1.000000       1.000000  4.000000e+00  \n",
       "family_status_id       0.000000       0.000000       1.000000  4.000000e+00  \n",
       "debt                   0.000000       0.000000       0.000000  1.000000e+00  \n",
       "total_income      103053.152913  145017.937533  203435.067663  2.265604e+06  "
      ]
     },
     "execution_count": 6,
     "metadata": {},
     "output_type": "execute_result"
    }
   ],
   "source": [
    "df.describe().T"
   ]
  },
  {
   "cell_type": "code",
   "execution_count": 7,
   "metadata": {
    "scrolled": true
   },
   "outputs": [
    {
     "name": "stdout",
     "output_type": "stream",
     "text": [
      "<class 'pandas.core.frame.DataFrame'>\n",
      "RangeIndex: 21525 entries, 0 to 21524\n",
      "Data columns (total 12 columns):\n",
      "children            21525 non-null int64\n",
      "days_employed       19351 non-null float64\n",
      "dob_years           21525 non-null int64\n",
      "education           21525 non-null object\n",
      "education_id        21525 non-null int64\n",
      "family_status       21525 non-null object\n",
      "family_status_id    21525 non-null int64\n",
      "gender              21525 non-null object\n",
      "income_type         21525 non-null object\n",
      "debt                21525 non-null int64\n",
      "total_income        19351 non-null float64\n",
      "purpose             21525 non-null object\n",
      "dtypes: float64(2), int64(5), object(5)\n",
      "memory usage: 11.3 MB\n"
     ]
    }
   ],
   "source": [
    "df.info(memory_usage='deep')"
   ]
  },
  {
   "cell_type": "markdown",
   "metadata": {},
   "source": [
    "Согласно документации к данным:\n",
    "* children — количество детей в семье\n",
    "* days_employed — общий трудовой стаж в днях\n",
    "* dob_years — возраст клиента в годах\n",
    "* education — уровень образования клиента\n",
    "* education_id — идентификатор уровня образования\n",
    "* family_status — семейное положение\n",
    "* family_status_id — идентификатор семейного положения\n",
    "* gender — пол клиента\n",
    "* income_type — тип занятости\n",
    "* debt — имел ли задолженность по возврату кредитов\n",
    "* total_income — ежемесячный доход\n",
    "* debt — имел ли задолженность по возврату кредитов\n",
    "* purpose — цель получения кредита"
   ]
  },
  {
   "cell_type": "markdown",
   "metadata": {},
   "source": [
    "**Вывод**\n",
    "\n",
    "Данная таблица содержит основную информацию о заёмщике. На первый взгляд можно выявить следующие ошибки в данных:\n",
    "1. Отрицательные значения в столбце, содержащий данные об общем трудовом стаже в днях. (`data['days_employed']`)\n",
    "2. Отсутствие единого стиля в столбце, содержащий данные об образовании. (`data['education']`)\n",
    "3. Встречаются пропуски в данных.\n",
    "4. Дробные значения в стоблце `data['days_employed']`\n",
    "\n",
    "Предварительно можно утверждать, что, данных достаточно для проверки гипотез.\n",
    "Для дальнейшего исследования необходимо исправить существующие ошибки, описать природу пропущенных значений и выбрать наиболее подходящий способ их заполнения, проверить данные на наличие дубликатов, а также изменить тип данных там, где это необходимо."
   ]
  },
  {
   "cell_type": "markdown",
   "metadata": {},
   "source": [
    "## Предобработка данных"
   ]
  },
  {
   "cell_type": "markdown",
   "metadata": {},
   "source": [
    "### Обработка пропусков"
   ]
  },
  {
   "cell_type": "markdown",
   "metadata": {},
   "source": [
    "Создадим функцию `missed_values`, которая возвращает количество пропусков в данных:"
   ]
  },
  {
   "cell_type": "code",
   "execution_count": 8,
   "metadata": {},
   "outputs": [],
   "source": [
    "def missed_values(data):\n",
    "    return data.isna().sum().to_frame('missed_values')"
   ]
  },
  {
   "cell_type": "markdown",
   "metadata": {},
   "source": [
    "Рассчитаем количество пропущенных значений в каждом столбце:"
   ]
  },
  {
   "cell_type": "code",
   "execution_count": 9,
   "metadata": {},
   "outputs": [
    {
     "data": {
      "text/html": [
       "<div>\n",
       "<style scoped>\n",
       "    .dataframe tbody tr th:only-of-type {\n",
       "        vertical-align: middle;\n",
       "    }\n",
       "\n",
       "    .dataframe tbody tr th {\n",
       "        vertical-align: top;\n",
       "    }\n",
       "\n",
       "    .dataframe thead th {\n",
       "        text-align: right;\n",
       "    }\n",
       "</style>\n",
       "<table border=\"1\" class=\"dataframe\">\n",
       "  <thead>\n",
       "    <tr style=\"text-align: right;\">\n",
       "      <th></th>\n",
       "      <th>missed_values</th>\n",
       "    </tr>\n",
       "  </thead>\n",
       "  <tbody>\n",
       "    <tr>\n",
       "      <td>children</td>\n",
       "      <td>0</td>\n",
       "    </tr>\n",
       "    <tr>\n",
       "      <td>days_employed</td>\n",
       "      <td>2174</td>\n",
       "    </tr>\n",
       "    <tr>\n",
       "      <td>dob_years</td>\n",
       "      <td>0</td>\n",
       "    </tr>\n",
       "    <tr>\n",
       "      <td>education</td>\n",
       "      <td>0</td>\n",
       "    </tr>\n",
       "    <tr>\n",
       "      <td>education_id</td>\n",
       "      <td>0</td>\n",
       "    </tr>\n",
       "    <tr>\n",
       "      <td>family_status</td>\n",
       "      <td>0</td>\n",
       "    </tr>\n",
       "    <tr>\n",
       "      <td>family_status_id</td>\n",
       "      <td>0</td>\n",
       "    </tr>\n",
       "    <tr>\n",
       "      <td>gender</td>\n",
       "      <td>0</td>\n",
       "    </tr>\n",
       "    <tr>\n",
       "      <td>income_type</td>\n",
       "      <td>0</td>\n",
       "    </tr>\n",
       "    <tr>\n",
       "      <td>debt</td>\n",
       "      <td>0</td>\n",
       "    </tr>\n",
       "    <tr>\n",
       "      <td>total_income</td>\n",
       "      <td>2174</td>\n",
       "    </tr>\n",
       "    <tr>\n",
       "      <td>purpose</td>\n",
       "      <td>0</td>\n",
       "    </tr>\n",
       "  </tbody>\n",
       "</table>\n",
       "</div>"
      ],
      "text/plain": [
       "                  missed_values\n",
       "children                      0\n",
       "days_employed              2174\n",
       "dob_years                     0\n",
       "education                     0\n",
       "education_id                  0\n",
       "family_status                 0\n",
       "family_status_id              0\n",
       "gender                        0\n",
       "income_type                   0\n",
       "debt                          0\n",
       "total_income               2174\n",
       "purpose                       0"
      ]
     },
     "execution_count": 9,
     "metadata": {},
     "output_type": "execute_result"
    }
   ],
   "source": [
    "missed_values(df)"
   ]
  },
  {
   "cell_type": "markdown",
   "metadata": {},
   "source": [
    "Рассмотрим первые 10 строк, в которых присутствуют пропущенные значения:"
   ]
  },
  {
   "cell_type": "code",
   "execution_count": 10,
   "metadata": {},
   "outputs": [
    {
     "data": {
      "text/html": [
       "<div>\n",
       "<style scoped>\n",
       "    .dataframe tbody tr th:only-of-type {\n",
       "        vertical-align: middle;\n",
       "    }\n",
       "\n",
       "    .dataframe tbody tr th {\n",
       "        vertical-align: top;\n",
       "    }\n",
       "\n",
       "    .dataframe thead th {\n",
       "        text-align: right;\n",
       "    }\n",
       "</style>\n",
       "<table border=\"1\" class=\"dataframe\">\n",
       "  <thead>\n",
       "    <tr style=\"text-align: right;\">\n",
       "      <th></th>\n",
       "      <th>children</th>\n",
       "      <th>days_employed</th>\n",
       "      <th>dob_years</th>\n",
       "      <th>education</th>\n",
       "      <th>education_id</th>\n",
       "      <th>family_status</th>\n",
       "      <th>family_status_id</th>\n",
       "      <th>gender</th>\n",
       "      <th>income_type</th>\n",
       "      <th>debt</th>\n",
       "      <th>total_income</th>\n",
       "      <th>purpose</th>\n",
       "    </tr>\n",
       "  </thead>\n",
       "  <tbody>\n",
       "    <tr>\n",
       "      <td>12</td>\n",
       "      <td>0</td>\n",
       "      <td>NaN</td>\n",
       "      <td>65</td>\n",
       "      <td>среднее</td>\n",
       "      <td>1</td>\n",
       "      <td>гражданский брак</td>\n",
       "      <td>1</td>\n",
       "      <td>M</td>\n",
       "      <td>пенсионер</td>\n",
       "      <td>0</td>\n",
       "      <td>NaN</td>\n",
       "      <td>сыграть свадьбу</td>\n",
       "    </tr>\n",
       "    <tr>\n",
       "      <td>26</td>\n",
       "      <td>0</td>\n",
       "      <td>NaN</td>\n",
       "      <td>41</td>\n",
       "      <td>среднее</td>\n",
       "      <td>1</td>\n",
       "      <td>женат / замужем</td>\n",
       "      <td>0</td>\n",
       "      <td>M</td>\n",
       "      <td>госслужащий</td>\n",
       "      <td>0</td>\n",
       "      <td>NaN</td>\n",
       "      <td>образование</td>\n",
       "    </tr>\n",
       "    <tr>\n",
       "      <td>29</td>\n",
       "      <td>0</td>\n",
       "      <td>NaN</td>\n",
       "      <td>63</td>\n",
       "      <td>среднее</td>\n",
       "      <td>1</td>\n",
       "      <td>Не женат / не замужем</td>\n",
       "      <td>4</td>\n",
       "      <td>F</td>\n",
       "      <td>пенсионер</td>\n",
       "      <td>0</td>\n",
       "      <td>NaN</td>\n",
       "      <td>строительство жилой недвижимости</td>\n",
       "    </tr>\n",
       "    <tr>\n",
       "      <td>41</td>\n",
       "      <td>0</td>\n",
       "      <td>NaN</td>\n",
       "      <td>50</td>\n",
       "      <td>среднее</td>\n",
       "      <td>1</td>\n",
       "      <td>женат / замужем</td>\n",
       "      <td>0</td>\n",
       "      <td>F</td>\n",
       "      <td>госслужащий</td>\n",
       "      <td>0</td>\n",
       "      <td>NaN</td>\n",
       "      <td>сделка с подержанным автомобилем</td>\n",
       "    </tr>\n",
       "    <tr>\n",
       "      <td>55</td>\n",
       "      <td>0</td>\n",
       "      <td>NaN</td>\n",
       "      <td>54</td>\n",
       "      <td>среднее</td>\n",
       "      <td>1</td>\n",
       "      <td>гражданский брак</td>\n",
       "      <td>1</td>\n",
       "      <td>F</td>\n",
       "      <td>пенсионер</td>\n",
       "      <td>1</td>\n",
       "      <td>NaN</td>\n",
       "      <td>сыграть свадьбу</td>\n",
       "    </tr>\n",
       "    <tr>\n",
       "      <td>65</td>\n",
       "      <td>0</td>\n",
       "      <td>NaN</td>\n",
       "      <td>21</td>\n",
       "      <td>среднее</td>\n",
       "      <td>1</td>\n",
       "      <td>Не женат / не замужем</td>\n",
       "      <td>4</td>\n",
       "      <td>M</td>\n",
       "      <td>компаньон</td>\n",
       "      <td>0</td>\n",
       "      <td>NaN</td>\n",
       "      <td>операции с коммерческой недвижимостью</td>\n",
       "    </tr>\n",
       "    <tr>\n",
       "      <td>67</td>\n",
       "      <td>0</td>\n",
       "      <td>NaN</td>\n",
       "      <td>52</td>\n",
       "      <td>высшее</td>\n",
       "      <td>0</td>\n",
       "      <td>женат / замужем</td>\n",
       "      <td>0</td>\n",
       "      <td>F</td>\n",
       "      <td>пенсионер</td>\n",
       "      <td>0</td>\n",
       "      <td>NaN</td>\n",
       "      <td>покупка жилья для семьи</td>\n",
       "    </tr>\n",
       "    <tr>\n",
       "      <td>72</td>\n",
       "      <td>1</td>\n",
       "      <td>NaN</td>\n",
       "      <td>32</td>\n",
       "      <td>высшее</td>\n",
       "      <td>0</td>\n",
       "      <td>женат / замужем</td>\n",
       "      <td>0</td>\n",
       "      <td>M</td>\n",
       "      <td>госслужащий</td>\n",
       "      <td>0</td>\n",
       "      <td>NaN</td>\n",
       "      <td>операции с коммерческой недвижимостью</td>\n",
       "    </tr>\n",
       "    <tr>\n",
       "      <td>82</td>\n",
       "      <td>2</td>\n",
       "      <td>NaN</td>\n",
       "      <td>50</td>\n",
       "      <td>высшее</td>\n",
       "      <td>0</td>\n",
       "      <td>женат / замужем</td>\n",
       "      <td>0</td>\n",
       "      <td>F</td>\n",
       "      <td>сотрудник</td>\n",
       "      <td>0</td>\n",
       "      <td>NaN</td>\n",
       "      <td>жилье</td>\n",
       "    </tr>\n",
       "    <tr>\n",
       "      <td>83</td>\n",
       "      <td>0</td>\n",
       "      <td>NaN</td>\n",
       "      <td>52</td>\n",
       "      <td>среднее</td>\n",
       "      <td>1</td>\n",
       "      <td>женат / замужем</td>\n",
       "      <td>0</td>\n",
       "      <td>M</td>\n",
       "      <td>сотрудник</td>\n",
       "      <td>0</td>\n",
       "      <td>NaN</td>\n",
       "      <td>жилье</td>\n",
       "    </tr>\n",
       "  </tbody>\n",
       "</table>\n",
       "</div>"
      ],
      "text/plain": [
       "    children  days_employed  dob_years education  education_id  \\\n",
       "12         0            NaN         65   среднее             1   \n",
       "26         0            NaN         41   среднее             1   \n",
       "29         0            NaN         63   среднее             1   \n",
       "41         0            NaN         50   среднее             1   \n",
       "55         0            NaN         54   среднее             1   \n",
       "65         0            NaN         21   среднее             1   \n",
       "67         0            NaN         52    высшее             0   \n",
       "72         1            NaN         32    высшее             0   \n",
       "82         2            NaN         50    высшее             0   \n",
       "83         0            NaN         52   среднее             1   \n",
       "\n",
       "            family_status  family_status_id gender  income_type  debt  \\\n",
       "12       гражданский брак                 1      M    пенсионер     0   \n",
       "26        женат / замужем                 0      M  госслужащий     0   \n",
       "29  Не женат / не замужем                 4      F    пенсионер     0   \n",
       "41        женат / замужем                 0      F  госслужащий     0   \n",
       "55       гражданский брак                 1      F    пенсионер     1   \n",
       "65  Не женат / не замужем                 4      M    компаньон     0   \n",
       "67        женат / замужем                 0      F    пенсионер     0   \n",
       "72        женат / замужем                 0      M  госслужащий     0   \n",
       "82        женат / замужем                 0      F    сотрудник     0   \n",
       "83        женат / замужем                 0      M    сотрудник     0   \n",
       "\n",
       "    total_income                                purpose  \n",
       "12           NaN                        сыграть свадьбу  \n",
       "26           NaN                            образование  \n",
       "29           NaN       строительство жилой недвижимости  \n",
       "41           NaN       сделка с подержанным автомобилем  \n",
       "55           NaN                        сыграть свадьбу  \n",
       "65           NaN  операции с коммерческой недвижимостью  \n",
       "67           NaN                покупка жилья для семьи  \n",
       "72           NaN  операции с коммерческой недвижимостью  \n",
       "82           NaN                                  жилье  \n",
       "83           NaN                                  жилье  "
      ]
     },
     "execution_count": 10,
     "metadata": {},
     "output_type": "execute_result"
    }
   ],
   "source": [
    "df[df['total_income'].isna()].head(10)"
   ]
  },
  {
   "cell_type": "markdown",
   "metadata": {},
   "source": [
    "Пропущенные значения попарно находятся в столбцах `days_employed` и `total_income`.\n",
    "\n"
   ]
  },
  {
   "cell_type": "markdown",
   "metadata": {},
   "source": [
    "Рассмотрим 10 случайных строк столбца `days_employed`:"
   ]
  },
  {
   "cell_type": "code",
   "execution_count": 11,
   "metadata": {},
   "outputs": [
    {
     "data": {
      "text/html": [
       "<div>\n",
       "<style scoped>\n",
       "    .dataframe tbody tr th:only-of-type {\n",
       "        vertical-align: middle;\n",
       "    }\n",
       "\n",
       "    .dataframe tbody tr th {\n",
       "        vertical-align: top;\n",
       "    }\n",
       "\n",
       "    .dataframe thead th {\n",
       "        text-align: right;\n",
       "    }\n",
       "</style>\n",
       "<table border=\"1\" class=\"dataframe\">\n",
       "  <thead>\n",
       "    <tr style=\"text-align: right;\">\n",
       "      <th></th>\n",
       "      <th>days_employed</th>\n",
       "    </tr>\n",
       "  </thead>\n",
       "  <tbody>\n",
       "    <tr>\n",
       "      <td>1383</td>\n",
       "      <td>353802.811675</td>\n",
       "    </tr>\n",
       "    <tr>\n",
       "      <td>300</td>\n",
       "      <td>-359.193975</td>\n",
       "    </tr>\n",
       "    <tr>\n",
       "      <td>6565</td>\n",
       "      <td>-1064.854333</td>\n",
       "    </tr>\n",
       "    <tr>\n",
       "      <td>17027</td>\n",
       "      <td>NaN</td>\n",
       "    </tr>\n",
       "    <tr>\n",
       "      <td>4077</td>\n",
       "      <td>-7059.100220</td>\n",
       "    </tr>\n",
       "    <tr>\n",
       "      <td>10437</td>\n",
       "      <td>-2258.301455</td>\n",
       "    </tr>\n",
       "    <tr>\n",
       "      <td>9631</td>\n",
       "      <td>-1045.752744</td>\n",
       "    </tr>\n",
       "    <tr>\n",
       "      <td>19867</td>\n",
       "      <td>NaN</td>\n",
       "    </tr>\n",
       "    <tr>\n",
       "      <td>9124</td>\n",
       "      <td>-282.186487</td>\n",
       "    </tr>\n",
       "    <tr>\n",
       "      <td>19634</td>\n",
       "      <td>-1320.103813</td>\n",
       "    </tr>\n",
       "  </tbody>\n",
       "</table>\n",
       "</div>"
      ],
      "text/plain": [
       "       days_employed\n",
       "1383   353802.811675\n",
       "300      -359.193975\n",
       "6565    -1064.854333\n",
       "17027            NaN\n",
       "4077    -7059.100220\n",
       "10437   -2258.301455\n",
       "9631    -1045.752744\n",
       "19867            NaN\n",
       "9124     -282.186487\n",
       "19634   -1320.103813"
      ]
     },
     "execution_count": 11,
     "metadata": {},
     "output_type": "execute_result"
    }
   ],
   "source": [
    "df['days_employed'].sample(10, random_state=1).to_frame()"
   ]
  },
  {
   "cell_type": "markdown",
   "metadata": {},
   "source": [
    "Заметим, что в данных, содержащий общее количество трудового стажа в днях присутствуют отрицательны значения. Однако количество дней не может быть отрицательной величиной.\n",
    "\n",
    "Всего таких строк в датафрейме:"
   ]
  },
  {
   "cell_type": "code",
   "execution_count": 12,
   "metadata": {},
   "outputs": [
    {
     "data": {
      "text/plain": [
       "15906"
      ]
     },
     "execution_count": 12,
     "metadata": {},
     "output_type": "execute_result"
    }
   ],
   "source": [
    "len(df[df['days_employed'] < 0])"
   ]
  },
  {
   "cell_type": "markdown",
   "metadata": {},
   "source": [
    "Исправим данную ошибку в данных:"
   ]
  },
  {
   "cell_type": "code",
   "execution_count": 13,
   "metadata": {},
   "outputs": [],
   "source": [
    "df['days_employed'] = df['days_employed'].apply(abs)"
   ]
  },
  {
   "cell_type": "markdown",
   "metadata": {},
   "source": [
    "Заменим пропущенные значения ежемесячного дохода и общего трудового стажа медианным значением."
   ]
  },
  {
   "cell_type": "code",
   "execution_count": 14,
   "metadata": {},
   "outputs": [
    {
     "name": "stdout",
     "output_type": "stream",
     "text": [
      "Медианное значение трудового стажа: 2194\n"
     ]
    }
   ],
   "source": [
    "median_days_employed = df['days_employed'].median()\n",
    "print(f'Медианное значение трудового стажа: {median_days_employed:.0f}')"
   ]
  },
  {
   "cell_type": "code",
   "execution_count": 15,
   "metadata": {},
   "outputs": [
    {
     "name": "stdout",
     "output_type": "stream",
     "text": [
      "Медианное значение ежемесячного дохода: 145017.94\n"
     ]
    }
   ],
   "source": [
    "median_income = df['total_income'].median()\n",
    "print(f'Медианное значение ежемесячного дохода: {median_income:.2f}')"
   ]
  },
  {
   "cell_type": "code",
   "execution_count": 16,
   "metadata": {},
   "outputs": [],
   "source": [
    "df['total_income'] = df['total_income'].fillna(median_income)\n",
    "df['days_employed'] = df['days_employed'].fillna(median_days_employed)"
   ]
  },
  {
   "cell_type": "markdown",
   "metadata": {},
   "source": [
    "Убедимся, что в таблице не осталось пропусков:"
   ]
  },
  {
   "cell_type": "code",
   "execution_count": 17,
   "metadata": {},
   "outputs": [
    {
     "data": {
      "text/html": [
       "<div>\n",
       "<style scoped>\n",
       "    .dataframe tbody tr th:only-of-type {\n",
       "        vertical-align: middle;\n",
       "    }\n",
       "\n",
       "    .dataframe tbody tr th {\n",
       "        vertical-align: top;\n",
       "    }\n",
       "\n",
       "    .dataframe thead th {\n",
       "        text-align: right;\n",
       "    }\n",
       "</style>\n",
       "<table border=\"1\" class=\"dataframe\">\n",
       "  <thead>\n",
       "    <tr style=\"text-align: right;\">\n",
       "      <th></th>\n",
       "      <th>missed_values</th>\n",
       "    </tr>\n",
       "  </thead>\n",
       "  <tbody>\n",
       "    <tr>\n",
       "      <td>children</td>\n",
       "      <td>0</td>\n",
       "    </tr>\n",
       "    <tr>\n",
       "      <td>days_employed</td>\n",
       "      <td>0</td>\n",
       "    </tr>\n",
       "    <tr>\n",
       "      <td>dob_years</td>\n",
       "      <td>0</td>\n",
       "    </tr>\n",
       "    <tr>\n",
       "      <td>education</td>\n",
       "      <td>0</td>\n",
       "    </tr>\n",
       "    <tr>\n",
       "      <td>education_id</td>\n",
       "      <td>0</td>\n",
       "    </tr>\n",
       "    <tr>\n",
       "      <td>family_status</td>\n",
       "      <td>0</td>\n",
       "    </tr>\n",
       "    <tr>\n",
       "      <td>family_status_id</td>\n",
       "      <td>0</td>\n",
       "    </tr>\n",
       "    <tr>\n",
       "      <td>gender</td>\n",
       "      <td>0</td>\n",
       "    </tr>\n",
       "    <tr>\n",
       "      <td>income_type</td>\n",
       "      <td>0</td>\n",
       "    </tr>\n",
       "    <tr>\n",
       "      <td>debt</td>\n",
       "      <td>0</td>\n",
       "    </tr>\n",
       "    <tr>\n",
       "      <td>total_income</td>\n",
       "      <td>0</td>\n",
       "    </tr>\n",
       "    <tr>\n",
       "      <td>purpose</td>\n",
       "      <td>0</td>\n",
       "    </tr>\n",
       "  </tbody>\n",
       "</table>\n",
       "</div>"
      ],
      "text/plain": [
       "                  missed_values\n",
       "children                      0\n",
       "days_employed                 0\n",
       "dob_years                     0\n",
       "education                     0\n",
       "education_id                  0\n",
       "family_status                 0\n",
       "family_status_id              0\n",
       "gender                        0\n",
       "income_type                   0\n",
       "debt                          0\n",
       "total_income                  0\n",
       "purpose                       0"
      ]
     },
     "execution_count": 17,
     "metadata": {},
     "output_type": "execute_result"
    }
   ],
   "source": [
    "missed_values(df)"
   ]
  },
  {
   "cell_type": "markdown",
   "metadata": {},
   "source": [
    "**Вывод**\n",
    "\n",
    "Все пропущенные значения попарно находились в стоблцах `days_employed` и `total_income`, описывающие общий трудовой стаж и ежемесячный доход. \n",
    "\n",
    "Предположительно, данные были пропущены из-за того, что данные пострадали при сборке.\n",
    "\n",
    "Отсутствующие данные были заполнены медианными значениями ежемесячного дохода и трудового стажа.\n",
    "\n",
    "Так как среднее значение может значительно исказить представление о данных (минимальные и максимальные значения могут быть как сильно больше среднего, так и сильно меньше), то для обработки пропусков были выбраны именно медианные значения."
   ]
  },
  {
   "cell_type": "markdown",
   "metadata": {},
   "source": [
    "### Замена типа данных"
   ]
  },
  {
   "cell_type": "markdown",
   "metadata": {},
   "source": [
    "Приведем значения в столбцах `days_employed` и `total_income` к целочисленному типу `int`.\n",
    "Для этого воспользуемся методом `astype('int')`"
   ]
  },
  {
   "cell_type": "markdown",
   "metadata": {},
   "source": [
    "Создадим функцию `mem_usage`, возвращающая количество памяти в МБ, которую занимает датафрейм:"
   ]
  },
  {
   "cell_type": "code",
   "execution_count": 18,
   "metadata": {},
   "outputs": [],
   "source": [
    "def mem_usage(pandas_obj):\n",
    "    if isinstance(pandas_obj, pd.DataFrame):\n",
    "        usage_b = pandas_obj.memory_usage(deep=True).sum()\n",
    "    else: # исходим из предположения о том, что если это не DataFrame, то это Series\n",
    "        usage_b = pandas_obj.memory_usage(deep=True)\n",
    "    usage_mb = usage_b / 1024 ** 2 # преобразуем байты в мегабайты\n",
    "    return \"{:03.2f}\".format(usage_mb)"
   ]
  },
  {
   "cell_type": "markdown",
   "metadata": {},
   "source": [
    "Определим переменную `mem_before`, показывающее, какое количество памяти занимает датафрейм до преобразования типов."
   ]
  },
  {
   "cell_type": "code",
   "execution_count": 19,
   "metadata": {},
   "outputs": [
    {
     "name": "stdout",
     "output_type": "stream",
     "text": [
      "11.28 МБ\n"
     ]
    }
   ],
   "source": [
    "mem_before = mem_usage(df)\n",
    "print(f'{mem_before} МБ')"
   ]
  },
  {
   "cell_type": "markdown",
   "metadata": {},
   "source": [
    "Заменим тип данных в столбцах `days_employed` и `total_income` из `float` в `uint32`:"
   ]
  },
  {
   "cell_type": "code",
   "execution_count": 20,
   "metadata": {},
   "outputs": [],
   "source": [
    "df[['days_employed', 'total_income']] = df[['days_employed', 'total_income']].astype('uint32')"
   ]
  },
  {
   "cell_type": "markdown",
   "metadata": {},
   "source": [
    "Заменим тип данных в столбцах `children`, `dob_years`, `education_id`, `family_status_id`, `debt` из `int` в `uint8`:"
   ]
  },
  {
   "cell_type": "code",
   "execution_count": 21,
   "metadata": {},
   "outputs": [],
   "source": [
    "df[['children', 'dob_years', 'education_id', 'family_status_id', 'debt']] = \\\n",
    "df[['children', 'dob_years', 'education_id', 'family_status_id', 'debt']].astype('uint8')"
   ]
  },
  {
   "cell_type": "markdown",
   "metadata": {},
   "source": [
    "Заменим тип данных в столбцах `education`, `family_status`, `income_type`, `purpose`, `gender` из `object` в `category`:"
   ]
  },
  {
   "cell_type": "code",
   "execution_count": 22,
   "metadata": {},
   "outputs": [],
   "source": [
    "df[['education', 'family_status', 'income_type', 'purpose', 'gender']] = \\\n",
    "df[['education', 'family_status', 'income_type', 'purpose', 'gender']].astype('category')"
   ]
  },
  {
   "cell_type": "markdown",
   "metadata": {},
   "source": [
    "Определим переменную `mem_before`, показывающее, какое количество памяти занимает датафрейм до преобразования типов."
   ]
  },
  {
   "cell_type": "code",
   "execution_count": 23,
   "metadata": {},
   "outputs": [
    {
     "name": "stdout",
     "output_type": "stream",
     "text": [
      "0.38 МБ\n"
     ]
    }
   ],
   "source": [
    "mem_after = mem_usage(df)\n",
    "print(f'{mem_after} МБ')"
   ]
  },
  {
   "cell_type": "code",
   "execution_count": 24,
   "metadata": {},
   "outputs": [
    {
     "name": "stdout",
     "output_type": "stream",
     "text": [
      "После замены типа данных удалось сэкономить 97% памяти.\n"
     ]
    }
   ],
   "source": [
    "saved_memory = float(mem_after) / float(mem_before)\n",
    "print(f'После замены типа данных удалось сэкономить {1 - saved_memory:.0%} памяти.')"
   ]
  },
  {
   "cell_type": "markdown",
   "metadata": {},
   "source": [
    "**Вывод**\n",
    "\n",
    "Для оптимизации используемой памяти, первоначальные типы данных в зависимости от того, что в них хранится, были заменены на другие. Были использованы типы `uint8`, `uint32`, `category`.\n",
    "\n",
    "В результате замены удалось сократить количество используемой памяти на 97%.\n",
    "\n",
    "Для замены типа данных в `pandas` существует несколько методов: `to_numeric()` и `astype()`.\n",
    "\n",
    "Метод `to_numeric()` возвращает тип `float`. "
   ]
  },
  {
   "cell_type": "markdown",
   "metadata": {},
   "source": [
    "### Обработка дубликатов"
   ]
  },
  {
   "cell_type": "markdown",
   "metadata": {},
   "source": [
    "В первую очередь приведем значения в столбце `education` к единому стилю. Это позволит выявить точное количество явных дубликатов. Для этого воспользуемся методом `str.lower()`:"
   ]
  },
  {
   "cell_type": "code",
   "execution_count": 25,
   "metadata": {},
   "outputs": [],
   "source": [
    "df['education'] = df['education'].str.lower()"
   ]
  },
  {
   "cell_type": "markdown",
   "metadata": {},
   "source": [
    "Создадим функцию, возвращающую количество дубликатов в данных:"
   ]
  },
  {
   "cell_type": "code",
   "execution_count": 26,
   "metadata": {},
   "outputs": [],
   "source": [
    "def duplicates(data):\n",
    "    return data.duplicated().sum()"
   ]
  },
  {
   "cell_type": "markdown",
   "metadata": {},
   "source": [
    "Рассчитаем количество дубликатов:"
   ]
  },
  {
   "cell_type": "code",
   "execution_count": 27,
   "metadata": {},
   "outputs": [
    {
     "data": {
      "text/plain": [
       "71"
      ]
     },
     "execution_count": 27,
     "metadata": {},
     "output_type": "execute_result"
    }
   ],
   "source": [
    "duplicates(df)"
   ]
  },
  {
   "cell_type": "markdown",
   "metadata": {},
   "source": [
    "Избавимся от явных дубликатов:"
   ]
  },
  {
   "cell_type": "code",
   "execution_count": 28,
   "metadata": {},
   "outputs": [],
   "source": [
    "df = df.drop_duplicates().reset_index(drop=True)"
   ]
  },
  {
   "cell_type": "markdown",
   "metadata": {},
   "source": [
    "Убедимся, что полностью избавились от явных дубликатов:"
   ]
  },
  {
   "cell_type": "code",
   "execution_count": 29,
   "metadata": {},
   "outputs": [
    {
     "data": {
      "text/plain": [
       "0"
      ]
     },
     "execution_count": 29,
     "metadata": {},
     "output_type": "execute_result"
    }
   ],
   "source": [
    "duplicates(df)"
   ]
  },
  {
   "cell_type": "markdown",
   "metadata": {},
   "source": [
    "**Вывод**\n",
    "\n",
    "Причиной появления дубликатов в данных может быть несколько:\n",
    "* Ошибка при вводе данных о заемщике.\n",
    "* Ошибка при отправке заявки на кредит от заемщика: одна и та же заявка могла быть отправлена несколько раз.\n",
    "\n",
    "Для обработки явных дубликатов, столбец `education` был приведен к одному стилю заполнения, что позволило обнаружить все дубликаты. Было рассчитано количество дубликатов, которые по итогу были удалены, при помощи метода `drop_duplicates()`."
   ]
  },
  {
   "cell_type": "markdown",
   "metadata": {},
   "source": [
    "### Лемматизация"
   ]
  },
  {
   "cell_type": "markdown",
   "metadata": {},
   "source": [
    "Для проведения леммантизации, воспользуемся библиотекой `pymystem3`:"
   ]
  },
  {
   "cell_type": "code",
   "execution_count": 30,
   "metadata": {},
   "outputs": [],
   "source": [
    "m = Mystem()"
   ]
  },
  {
   "cell_type": "markdown",
   "metadata": {},
   "source": [
    "Рассмотрим все уникальные значения столбца `purpose`:"
   ]
  },
  {
   "cell_type": "code",
   "execution_count": 31,
   "metadata": {},
   "outputs": [
    {
     "data": {
      "text/plain": [
       "['покупка жилья',\n",
       " 'приобретение автомобиля',\n",
       " 'дополнительное образование',\n",
       " 'сыграть свадьбу',\n",
       " 'операции с жильем',\n",
       " 'образование',\n",
       " 'на проведение свадьбы',\n",
       " 'покупка жилья для семьи',\n",
       " 'покупка недвижимости',\n",
       " 'покупка коммерческой недвижимости',\n",
       " 'покупка жилой недвижимости',\n",
       " 'строительство собственной недвижимости',\n",
       " 'недвижимость',\n",
       " 'строительство недвижимости',\n",
       " 'на покупку подержанного автомобиля',\n",
       " 'на покупку своего автомобиля',\n",
       " 'операции с коммерческой недвижимостью',\n",
       " 'строительство жилой недвижимости',\n",
       " 'жилье',\n",
       " 'операции со своей недвижимостью',\n",
       " 'автомобили',\n",
       " 'заняться образованием',\n",
       " 'сделка с подержанным автомобилем',\n",
       " 'получение образования',\n",
       " 'автомобиль',\n",
       " 'свадьба',\n",
       " 'получение дополнительного образования',\n",
       " 'покупка своего жилья',\n",
       " 'операции с недвижимостью',\n",
       " 'получение высшего образования',\n",
       " 'свой автомобиль',\n",
       " 'сделка с автомобилем',\n",
       " 'профильное образование',\n",
       " 'высшее образование',\n",
       " 'покупка жилья для сдачи',\n",
       " 'на покупку автомобиля',\n",
       " 'ремонт жилью',\n",
       " 'заняться высшим образованием']"
      ]
     },
     "execution_count": 31,
     "metadata": {},
     "output_type": "execute_result"
    }
   ],
   "source": [
    "purpose_unique = list(df['purpose'].unique())\n",
    "purpose_unique"
   ]
  },
  {
   "cell_type": "markdown",
   "metadata": {},
   "source": [
    "Получим список леммантизированных слов для списка, содержащий уникальные значения `purpose`:"
   ]
  },
  {
   "cell_type": "code",
   "execution_count": 32,
   "metadata": {},
   "outputs": [],
   "source": [
    "lemmas = [m.lemmatize(purpose) for purpose in purpose_unique]"
   ]
  },
  {
   "cell_type": "code",
   "execution_count": 33,
   "metadata": {},
   "outputs": [
    {
     "data": {
      "text/plain": [
       "[['покупка', ' ', 'жилье', '\\n'],\n",
       " ['приобретение', ' ', 'автомобиль', '\\n'],\n",
       " ['дополнительный', ' ', 'образование', '\\n'],\n",
       " ['сыграть', ' ', 'свадьба', '\\n'],\n",
       " ['операция', ' ', 'с', ' ', 'жилье', '\\n'],\n",
       " ['образование', '\\n'],\n",
       " ['на', ' ', 'проведение', ' ', 'свадьба', '\\n'],\n",
       " ['покупка', ' ', 'жилье', ' ', 'для', ' ', 'семья', '\\n'],\n",
       " ['покупка', ' ', 'недвижимость', '\\n'],\n",
       " ['покупка', ' ', 'коммерческий', ' ', 'недвижимость', '\\n'],\n",
       " ['покупка', ' ', 'жилой', ' ', 'недвижимость', '\\n'],\n",
       " ['строительство', ' ', 'собственный', ' ', 'недвижимость', '\\n'],\n",
       " ['недвижимость', '\\n'],\n",
       " ['строительство', ' ', 'недвижимость', '\\n'],\n",
       " ['на', ' ', 'покупка', ' ', 'подержать', ' ', 'автомобиль', '\\n'],\n",
       " ['на', ' ', 'покупка', ' ', 'свой', ' ', 'автомобиль', '\\n'],\n",
       " ['операция', ' ', 'с', ' ', 'коммерческий', ' ', 'недвижимость', '\\n'],\n",
       " ['строительство', ' ', 'жилой', ' ', 'недвижимость', '\\n'],\n",
       " ['жилье', '\\n'],\n",
       " ['операция', ' ', 'со', ' ', 'свой', ' ', 'недвижимость', '\\n'],\n",
       " ['автомобиль', '\\n'],\n",
       " ['заниматься', ' ', 'образование', '\\n'],\n",
       " ['сделка', ' ', 'с', ' ', 'подержанный', ' ', 'автомобиль', '\\n'],\n",
       " ['получение', ' ', 'образование', '\\n'],\n",
       " ['автомобиль', '\\n'],\n",
       " ['свадьба', '\\n'],\n",
       " ['получение', ' ', 'дополнительный', ' ', 'образование', '\\n'],\n",
       " ['покупка', ' ', 'свой', ' ', 'жилье', '\\n'],\n",
       " ['операция', ' ', 'с', ' ', 'недвижимость', '\\n'],\n",
       " ['получение', ' ', 'высокий', ' ', 'образование', '\\n'],\n",
       " ['свой', ' ', 'автомобиль', '\\n'],\n",
       " ['сделка', ' ', 'с', ' ', 'автомобиль', '\\n'],\n",
       " ['профильный', ' ', 'образование', '\\n'],\n",
       " ['высокий', ' ', 'образование', '\\n'],\n",
       " ['покупка', ' ', 'жилье', ' ', 'для', ' ', 'сдача', '\\n'],\n",
       " ['на', ' ', 'покупка', ' ', 'автомобиль', '\\n'],\n",
       " ['ремонт', ' ', 'жилье', '\\n'],\n",
       " ['заниматься', ' ', 'высокий', ' ', 'образование', '\\n']]"
      ]
     },
     "execution_count": 33,
     "metadata": {},
     "output_type": "execute_result"
    }
   ],
   "source": [
    "lemmas"
   ]
  },
  {
   "cell_type": "markdown",
   "metadata": {},
   "source": [
    "**Вывод**\n",
    "\n",
    "Были проведен анализ уникальных значений целей получения кредита. Для этого был использован метод леммантизации при помощи библиотеки `pymystem3`. Исходя из полученных результатов следует, что уникальные значения по итогу сводятся всего к 4-м категориям:\n",
    "1. Проведение свадьбы\n",
    "2. Покупка недвижимости\n",
    "3. Покупка автомобиля\n",
    "4. Получения образования"
   ]
  },
  {
   "cell_type": "markdown",
   "metadata": {},
   "source": [
    "### Категоризация данных"
   ]
  },
  {
   "cell_type": "markdown",
   "metadata": {},
   "source": [
    "Выясним, сколько раз встречается каждая цель получения кредита:"
   ]
  },
  {
   "cell_type": "code",
   "execution_count": 34,
   "metadata": {},
   "outputs": [
    {
     "data": {
      "text/plain": [
       "свадьба                                   791\n",
       "на проведение свадьбы                     768\n",
       "сыграть свадьбу                           765\n",
       "операции с недвижимостью                  675\n",
       "покупка коммерческой недвижимости         661\n",
       "операции с жильем                         652\n",
       "покупка жилья для сдачи                   651\n",
       "операции с коммерческой недвижимостью     650\n",
       "жилье                                     646\n",
       "покупка жилья                             646\n",
       "покупка жилья для семьи                   638\n",
       "строительство собственной недвижимости    635\n",
       "недвижимость                              633\n",
       "операции со своей недвижимостью           627\n",
       "строительство жилой недвижимости          624\n",
       "покупка недвижимости                      621\n",
       "покупка своего жилья                      620\n",
       "строительство недвижимости                619\n",
       "ремонт жилью                              607\n",
       "покупка жилой недвижимости                606\n",
       "на покупку своего автомобиля              505\n",
       "заняться высшим образованием              496\n",
       "автомобиль                                494\n",
       "сделка с подержанным автомобилем          486\n",
       "на покупку подержанного автомобиля        478\n",
       "автомобили                                478\n",
       "свой автомобиль                           478\n",
       "на покупку автомобиля                     471\n",
       "приобретение автомобиля                   461\n",
       "дополнительное образование                460\n",
       "сделка с автомобилем                      455\n",
       "высшее образование                        452\n",
       "образование                               447\n",
       "получение дополнительного образования     446\n",
       "получение образования                     442\n",
       "профильное образование                    436\n",
       "получение высшего образования             426\n",
       "заняться образованием                     408\n",
       "Name: purpose, dtype: int64"
      ]
     },
     "execution_count": 34,
     "metadata": {},
     "output_type": "execute_result"
    }
   ],
   "source": [
    "df['purpose'].value_counts()"
   ]
  },
  {
   "cell_type": "markdown",
   "metadata": {},
   "source": [
    "Для категоризации данных по целям получения кредита создадим функцию `categorized_purpose`:"
   ]
  },
  {
   "cell_type": "code",
   "execution_count": 35,
   "metadata": {},
   "outputs": [],
   "source": [
    "def categorized_purpose(purpose):\n",
    "    lemmas = m.lemmatize(purpose)\n",
    "    for lemma in lemmas:\n",
    "        if 'авто' in lemma:\n",
    "            return 'Покупка автомобиля'\n",
    "        if 'свад' in lemma:\n",
    "            return 'Проведение свадьбы'\n",
    "        if 'образ' in lemma:\n",
    "            return 'Получение образования'\n",
    "        if ('жил' in lemma) or ('недвиж' in lemma):\n",
    "            return 'Покупка недвижимости'\n"
   ]
  },
  {
   "cell_type": "markdown",
   "metadata": {},
   "source": [
    "Заменим исходные данные в столбце `purpose` на полученные категориальные. Для этого воспользуемся методом `apply`, которые применит функцию `categorized_purpose` к каждому значению в столбце `purpose`. "
   ]
  },
  {
   "cell_type": "code",
   "execution_count": 36,
   "metadata": {},
   "outputs": [],
   "source": [
    "df['purpose'] = df['purpose'].apply(categorized_purpose) "
   ]
  },
  {
   "cell_type": "markdown",
   "metadata": {},
   "source": [
    "Рассмотрим цели получения кредита, разбитые по категориям:"
   ]
  },
  {
   "cell_type": "code",
   "execution_count": 37,
   "metadata": {},
   "outputs": [
    {
     "data": {
      "text/plain": [
       "Покупка недвижимости     10811\n",
       "Покупка автомобиля        4306\n",
       "Получение образования     4013\n",
       "Проведение свадьбы        2324\n",
       "Name: purpose, dtype: int64"
      ]
     },
     "execution_count": 37,
     "metadata": {},
     "output_type": "execute_result"
    }
   ],
   "source": [
    "df['purpose'].value_counts()"
   ]
  },
  {
   "cell_type": "markdown",
   "metadata": {},
   "source": [
    "Так как данные были упорядочены по категориям, то в данных могут появиться новые дубликаты, которые прежде было невозможно выявить. Проверим данную гипотезу:"
   ]
  },
  {
   "cell_type": "code",
   "execution_count": 38,
   "metadata": {},
   "outputs": [
    {
     "data": {
      "text/plain": [
       "334"
      ]
     },
     "execution_count": 38,
     "metadata": {},
     "output_type": "execute_result"
    }
   ],
   "source": [
    "duplicates(df)"
   ]
  },
  {
   "cell_type": "markdown",
   "metadata": {},
   "source": [
    "В данных образовалось некоторое количество явных дубликатов. Обработаем их:"
   ]
  },
  {
   "cell_type": "code",
   "execution_count": 39,
   "metadata": {},
   "outputs": [],
   "source": [
    "df = df.drop_duplicates().reset_index(drop=True)"
   ]
  },
  {
   "cell_type": "markdown",
   "metadata": {},
   "source": [
    "Убедимся, что дубликатов больше нет:"
   ]
  },
  {
   "cell_type": "code",
   "execution_count": 40,
   "metadata": {},
   "outputs": [
    {
     "data": {
      "text/plain": [
       "0"
      ]
     },
     "execution_count": 40,
     "metadata": {},
     "output_type": "execute_result"
    }
   ],
   "source": [
    "duplicates(df)"
   ]
  },
  {
   "cell_type": "markdown",
   "metadata": {},
   "source": [
    "**Вывод**\n",
    "\n",
    "Таким образом цели получения кредита свелись всего к 4 - м категориям. Наибольшее количество людей хотят получить кредит с целью покупки жилья или недвижимости.\n",
    "\n",
    "Была создана функция `categorized_purpose`, которая заменяет исходные значения столбца `purpose` к категоризированным.\n",
    "\n",
    "Также были устранены дубликаты, наличие которых невозможно было обнаружить без категоризации."
   ]
  },
  {
   "cell_type": "markdown",
   "metadata": {},
   "source": [
    "## Проверка гипотез"
   ]
  },
  {
   "cell_type": "markdown",
   "metadata": {},
   "source": [
    "- Есть ли зависимость между наличием детей и возвратом кредита в срок?"
   ]
  },
  {
   "cell_type": "markdown",
   "metadata": {},
   "source": [
    "Для ответа на вопросы учитываем, что если значение debt = 1, то заемщик имел задолженность по кредиту ранее. Если debt = 0, то задолженность ранее отсутствовала."
   ]
  },
  {
   "cell_type": "markdown",
   "metadata": {},
   "source": [
    "Создадим функцию `children_id`, которая возвращает 1, если у заемщика есть хотя бы 1 ребенок и 0, если детей нет:"
   ]
  },
  {
   "cell_type": "code",
   "execution_count": 41,
   "metadata": {},
   "outputs": [],
   "source": [
    "def children_id(child):\n",
    "    if child != 0:\n",
    "        return 1\n",
    "    return 0"
   ]
  },
  {
   "cell_type": "markdown",
   "metadata": {},
   "source": [
    "Создадим столбец `children_id`:"
   ]
  },
  {
   "cell_type": "code",
   "execution_count": 42,
   "metadata": {},
   "outputs": [],
   "source": [
    "df['children_id'] = df['children'].apply(children_id)"
   ]
  },
  {
   "cell_type": "markdown",
   "metadata": {},
   "source": [
    "Построим сводную таблицу:"
   ]
  },
  {
   "cell_type": "code",
   "execution_count": 43,
   "metadata": {},
   "outputs": [
    {
     "data": {
      "text/html": [
       "<div>\n",
       "<style scoped>\n",
       "    .dataframe tbody tr th:only-of-type {\n",
       "        vertical-align: middle;\n",
       "    }\n",
       "\n",
       "    .dataframe tbody tr th {\n",
       "        vertical-align: top;\n",
       "    }\n",
       "\n",
       "    .dataframe thead th {\n",
       "        text-align: right;\n",
       "    }\n",
       "</style>\n",
       "<table border=\"1\" class=\"dataframe\">\n",
       "  <thead>\n",
       "    <tr style=\"text-align: right;\">\n",
       "      <th></th>\n",
       "      <th>debt</th>\n",
       "    </tr>\n",
       "    <tr>\n",
       "      <th>children_id</th>\n",
       "      <th></th>\n",
       "    </tr>\n",
       "  </thead>\n",
       "  <tbody>\n",
       "    <tr>\n",
       "      <td>1</td>\n",
       "      <td>0.092991</td>\n",
       "    </tr>\n",
       "    <tr>\n",
       "      <td>0</td>\n",
       "      <td>0.076723</td>\n",
       "    </tr>\n",
       "  </tbody>\n",
       "</table>\n",
       "</div>"
      ],
      "text/plain": [
       "                 debt\n",
       "children_id          \n",
       "1            0.092991\n",
       "0            0.076723"
      ]
     },
     "execution_count": 43,
     "metadata": {},
     "output_type": "execute_result"
    }
   ],
   "source": [
    "df.pivot_table(['debt'], 'children_id', aggfunc='mean').sort_values(by='debt', ascending=False)"
   ]
  },
  {
   "cell_type": "markdown",
   "metadata": {},
   "source": [
    "**Вывод**\n",
    "\n",
    "Была построена сводная таблица при помощи метода `pivot_table`, отражающая зависимость между наличием детей и возвратом кредита в срок. Из таблицы видно, что процент заемщиков, у которых отсутствуют дети, меньше, нежели чем процент заемщиков, у кого дети есть."
   ]
  },
  {
   "cell_type": "markdown",
   "metadata": {},
   "source": [
    "- Есть ли зависимость между семейным положением и возвратом кредита в срок?"
   ]
  },
  {
   "cell_type": "code",
   "execution_count": 44,
   "metadata": {},
   "outputs": [
    {
     "data": {
      "text/html": [
       "<div>\n",
       "<style scoped>\n",
       "    .dataframe tbody tr th:only-of-type {\n",
       "        vertical-align: middle;\n",
       "    }\n",
       "\n",
       "    .dataframe tbody tr th {\n",
       "        vertical-align: top;\n",
       "    }\n",
       "\n",
       "    .dataframe thead th {\n",
       "        text-align: right;\n",
       "    }\n",
       "</style>\n",
       "<table border=\"1\" class=\"dataframe\">\n",
       "  <thead>\n",
       "    <tr style=\"text-align: right;\">\n",
       "      <th></th>\n",
       "      <th>debt</th>\n",
       "    </tr>\n",
       "    <tr>\n",
       "      <th>family_status</th>\n",
       "      <th></th>\n",
       "    </tr>\n",
       "  </thead>\n",
       "  <tbody>\n",
       "    <tr>\n",
       "      <td>Не женат / не замужем</td>\n",
       "      <td>0.098420</td>\n",
       "    </tr>\n",
       "    <tr>\n",
       "      <td>гражданский брак</td>\n",
       "      <td>0.094083</td>\n",
       "    </tr>\n",
       "    <tr>\n",
       "      <td>женат / замужем</td>\n",
       "      <td>0.076929</td>\n",
       "    </tr>\n",
       "    <tr>\n",
       "      <td>в разводе</td>\n",
       "      <td>0.071249</td>\n",
       "    </tr>\n",
       "    <tr>\n",
       "      <td>вдовец / вдова</td>\n",
       "      <td>0.066808</td>\n",
       "    </tr>\n",
       "  </tbody>\n",
       "</table>\n",
       "</div>"
      ],
      "text/plain": [
       "                           debt\n",
       "family_status                  \n",
       "Не женат / не замужем  0.098420\n",
       "гражданский брак       0.094083\n",
       "женат / замужем        0.076929\n",
       "в разводе              0.071249\n",
       "вдовец / вдова         0.066808"
      ]
     },
     "execution_count": 44,
     "metadata": {},
     "output_type": "execute_result"
    }
   ],
   "source": [
    "df.pivot_table(['debt'], 'family_status', aggfunc='mean').sort_values(by='debt', ascending=False)"
   ]
  },
  {
   "cell_type": "markdown",
   "metadata": {},
   "source": [
    "**Вывод**\n",
    "\n",
    "Из таблицы видно: люди, не состоящие в официальных отношениях, чаще не возвращают в кредит в срок, в отличие от тех, кто состоит или ранее состоял в браке."
   ]
  },
  {
   "cell_type": "markdown",
   "metadata": {},
   "source": [
    "- Есть ли зависимость между уровнем дохода и возвратом кредита в срок?"
   ]
  },
  {
   "cell_type": "markdown",
   "metadata": {},
   "source": [
    "Разобьем ежемесячный доход на 5 интервалов при помощи метода `qcut`:"
   ]
  },
  {
   "cell_type": "code",
   "execution_count": 45,
   "metadata": {},
   "outputs": [],
   "source": [
    "df['total_income_group'] = pd.qcut(df['total_income'], 5)"
   ]
  },
  {
   "cell_type": "code",
   "execution_count": 46,
   "metadata": {},
   "outputs": [
    {
     "data": {
      "text/html": [
       "<div>\n",
       "<style scoped>\n",
       "    .dataframe tbody tr th:only-of-type {\n",
       "        vertical-align: middle;\n",
       "    }\n",
       "\n",
       "    .dataframe tbody tr th {\n",
       "        vertical-align: top;\n",
       "    }\n",
       "\n",
       "    .dataframe thead th {\n",
       "        text-align: right;\n",
       "    }\n",
       "</style>\n",
       "<table border=\"1\" class=\"dataframe\">\n",
       "  <thead>\n",
       "    <tr style=\"text-align: right;\">\n",
       "      <th></th>\n",
       "      <th>debt</th>\n",
       "    </tr>\n",
       "    <tr>\n",
       "      <th>total_income_group</th>\n",
       "      <th></th>\n",
       "    </tr>\n",
       "  </thead>\n",
       "  <tbody>\n",
       "    <tr>\n",
       "      <td>(215777.2, 2265604.0]</td>\n",
       "      <td>0.070312</td>\n",
       "    </tr>\n",
       "    <tr>\n",
       "      <td>(157730.2, 215777.2]</td>\n",
       "      <td>0.085464</td>\n",
       "    </tr>\n",
       "    <tr>\n",
       "      <td>(134253.6, 157730.2]</td>\n",
       "      <td>0.093513</td>\n",
       "    </tr>\n",
       "    <tr>\n",
       "      <td>(97949.4, 134253.6]</td>\n",
       "      <td>0.081913</td>\n",
       "    </tr>\n",
       "    <tr>\n",
       "      <td>(20666.999, 97949.4]</td>\n",
       "      <td>0.080492</td>\n",
       "    </tr>\n",
       "  </tbody>\n",
       "</table>\n",
       "</div>"
      ],
      "text/plain": [
       "                           debt\n",
       "total_income_group             \n",
       "(215777.2, 2265604.0]  0.070312\n",
       "(157730.2, 215777.2]   0.085464\n",
       "(134253.6, 157730.2]   0.093513\n",
       "(97949.4, 134253.6]    0.081913\n",
       "(20666.999, 97949.4]   0.080492"
      ]
     },
     "execution_count": 46,
     "metadata": {},
     "output_type": "execute_result"
    }
   ],
   "source": [
    "df.pivot_table(['debt'], 'total_income_group', aggfunc='mean').sort_values(by='total_income_group', ascending=False)"
   ]
  },
  {
   "cell_type": "markdown",
   "metadata": {},
   "source": [
    "**Вывод**\n",
    "\n",
    "Для построения сводной таблицы был использован метод `qcut`, позволяющий разбить доходы по некоторым интервалам.\n",
    "\n",
    "Из таблицы видно, что данные распределены неравномерно. Это не позволяет определить явную зависимость между уровнем дохода и возвратом кредита в срок."
   ]
  },
  {
   "cell_type": "markdown",
   "metadata": {},
   "source": [
    "- Как разные цели кредита влияют на его возврат в срок?"
   ]
  },
  {
   "cell_type": "code",
   "execution_count": 47,
   "metadata": {},
   "outputs": [
    {
     "data": {
      "text/html": [
       "<div>\n",
       "<style scoped>\n",
       "    .dataframe tbody tr th:only-of-type {\n",
       "        vertical-align: middle;\n",
       "    }\n",
       "\n",
       "    .dataframe tbody tr th {\n",
       "        vertical-align: top;\n",
       "    }\n",
       "\n",
       "    .dataframe thead th {\n",
       "        text-align: right;\n",
       "    }\n",
       "</style>\n",
       "<table border=\"1\" class=\"dataframe\">\n",
       "  <thead>\n",
       "    <tr style=\"text-align: right;\">\n",
       "      <th></th>\n",
       "      <th>debt</th>\n",
       "    </tr>\n",
       "    <tr>\n",
       "      <th>purpose</th>\n",
       "      <th></th>\n",
       "    </tr>\n",
       "  </thead>\n",
       "  <tbody>\n",
       "    <tr>\n",
       "      <td>Покупка автомобиля</td>\n",
       "      <td>0.094101</td>\n",
       "    </tr>\n",
       "    <tr>\n",
       "      <td>Получение образования</td>\n",
       "      <td>0.093340</td>\n",
       "    </tr>\n",
       "    <tr>\n",
       "      <td>Проведение свадьбы</td>\n",
       "      <td>0.080659</td>\n",
       "    </tr>\n",
       "    <tr>\n",
       "      <td>Покупка недвижимости</td>\n",
       "      <td>0.073832</td>\n",
       "    </tr>\n",
       "  </tbody>\n",
       "</table>\n",
       "</div>"
      ],
      "text/plain": [
       "                           debt\n",
       "purpose                        \n",
       "Покупка автомобиля     0.094101\n",
       "Получение образования  0.093340\n",
       "Проведение свадьбы     0.080659\n",
       "Покупка недвижимости   0.073832"
      ]
     },
     "execution_count": 47,
     "metadata": {},
     "output_type": "execute_result"
    }
   ],
   "source": [
    "df.pivot_table(['debt'], 'purpose', aggfunc='mean').sort_values(by='debt', ascending=False)"
   ]
  },
  {
   "cell_type": "markdown",
   "metadata": {},
   "source": [
    "**Вывод**\n",
    "\n",
    "Заемщики, которые берут кредит для покупки недвижимости реже всего имеют задолженность. В свою очередь, заемщики, взявшие кредит для покупки автомобиля, наиболее часто не отдают долг вовремя."
   ]
  },
  {
   "cell_type": "markdown",
   "metadata": {},
   "source": [
    "## Общий вывод"
   ]
  },
  {
   "cell_type": "markdown",
   "metadata": {},
   "source": [
    "В ходе исследования для проверки основных гипотез, данные в первую очередь были подвергнуты предобработке, которая состояла из:\n",
    "* обработки дубликатов;\n",
    "* обработки пропусков;\n",
    "* леммантизации;\n",
    "* категоризации данных.\n",
    "   \n",
    "Исследование показало, что около половины заемщиков берут кредит с целью покупки недвижимости. Также всего `7.4%` заемщиков с данной целью имели задолженность в прошлом. Вторая по популярности цель кредита - покупка автомобиля. Среди тех, кто покупает автомобиль в кредит также установлено максимально количество просрочек - `9.4%` заемщиков имели задолженность.\n",
    "\n",
    "Было выяснено, что наличие детей в худшую сторону влияет на платежеспособность заемщика. Среди заемщиков без детей `7.7%` имели долг по кредиту в прошлом. Но уже наличие одного ребенка в семье поднимает число должников до `9.3%`. Так как мы рассматриваем довольно большой объем данных, то повышение даже на `1.6%` является большим. Это неудивительно, так как ребенок требует немалых финансовых вложений.\n",
    "\n",
    "Процент заемщиков, находящихся или находившихся в браке, реже имеют просрочку по кредиту - значение варируется в пределах `6.7 - 7.7%`, в отличие от холостых или же не состоящих в официальных отношениях людей: процент должников более `9%`. Данное наблюдение может быть связано с тем, что обычно в браке работают оба партнера. Следовательно, погашать кредит проще. "
   ]
  }
 ],
 "metadata": {
  "ExecuteTimeLog": [
   {
    "duration": 765,
    "start_time": "2021-10-28T21:20:42.480Z"
   },
   {
    "duration": 66,
    "start_time": "2021-10-28T21:21:13.112Z"
   },
   {
    "duration": 17,
    "start_time": "2021-10-28T21:21:19.041Z"
   },
   {
    "duration": 13,
    "start_time": "2021-10-28T21:21:49.324Z"
   },
   {
    "duration": 21,
    "start_time": "2021-10-28T21:22:21.282Z"
   },
   {
    "duration": 6,
    "start_time": "2021-10-28T21:22:35.209Z"
   },
   {
    "duration": 15,
    "start_time": "2021-10-28T21:29:37.267Z"
   },
   {
    "duration": 7,
    "start_time": "2021-10-28T21:30:24.010Z"
   },
   {
    "duration": 8,
    "start_time": "2021-10-28T21:30:32.186Z"
   },
   {
    "duration": 15,
    "start_time": "2021-10-28T21:31:05.152Z"
   },
   {
    "duration": 13,
    "start_time": "2021-10-28T21:31:11.079Z"
   },
   {
    "duration": 12,
    "start_time": "2021-10-28T21:31:16.738Z"
   },
   {
    "duration": 9,
    "start_time": "2021-10-28T21:31:31.188Z"
   },
   {
    "duration": 10,
    "start_time": "2021-10-28T21:32:35.908Z"
   },
   {
    "duration": 16,
    "start_time": "2021-10-28T21:32:40.964Z"
   },
   {
    "duration": 62,
    "start_time": "2021-10-28T21:33:41.402Z"
   },
   {
    "duration": 36,
    "start_time": "2021-10-28T21:33:53.808Z"
   },
   {
    "duration": 36,
    "start_time": "2021-10-28T21:34:02.744Z"
   },
   {
    "duration": 20,
    "start_time": "2021-10-28T21:34:09.154Z"
   },
   {
    "duration": 6,
    "start_time": "2021-10-28T21:35:52.502Z"
   },
   {
    "duration": 7,
    "start_time": "2021-10-28T21:36:00.152Z"
   },
   {
    "duration": 4,
    "start_time": "2021-10-28T21:36:32.453Z"
   },
   {
    "duration": 3997,
    "start_time": "2021-10-28T21:36:34.380Z"
   },
   {
    "duration": 4318,
    "start_time": "2021-10-28T21:36:53.599Z"
   },
   {
    "duration": 3,
    "start_time": "2021-10-28T21:37:10.754Z"
   },
   {
    "duration": 73,
    "start_time": "2021-10-28T21:37:10.955Z"
   },
   {
    "duration": 15,
    "start_time": "2021-10-28T21:37:11.602Z"
   },
   {
    "duration": 7,
    "start_time": "2021-10-28T21:37:14.529Z"
   },
   {
    "duration": 4,
    "start_time": "2021-10-28T21:37:33.757Z"
   },
   {
    "duration": 6,
    "start_time": "2021-10-28T21:37:54.191Z"
   },
   {
    "duration": 12,
    "start_time": "2021-10-28T21:38:16.459Z"
   },
   {
    "duration": 35,
    "start_time": "2021-10-28T21:38:38.004Z"
   },
   {
    "duration": 95,
    "start_time": "2021-10-28T21:38:49.023Z"
   },
   {
    "duration": 13,
    "start_time": "2021-10-28T21:38:52.936Z"
   },
   {
    "duration": 15,
    "start_time": "2021-10-28T21:38:59.664Z"
   },
   {
    "duration": 12,
    "start_time": "2021-10-28T21:39:09.569Z"
   },
   {
    "duration": 274,
    "start_time": "2021-10-28T21:39:18.315Z"
   },
   {
    "duration": 12,
    "start_time": "2021-10-28T21:39:24.196Z"
   },
   {
    "duration": 16,
    "start_time": "2021-10-28T21:41:40.126Z"
   },
   {
    "duration": 36,
    "start_time": "2021-10-28T21:43:25.054Z"
   },
   {
    "duration": 91,
    "start_time": "2021-10-28T21:44:03.410Z"
   },
   {
    "duration": 19,
    "start_time": "2021-10-28T21:44:06.929Z"
   },
   {
    "duration": 17,
    "start_time": "2021-10-28T21:44:15.467Z"
   },
   {
    "duration": 28,
    "start_time": "2021-10-28T21:44:20.820Z"
   },
   {
    "duration": 7,
    "start_time": "2021-10-28T21:44:39.786Z"
   },
   {
    "duration": 7,
    "start_time": "2021-10-28T21:44:45.887Z"
   },
   {
    "duration": 5,
    "start_time": "2021-10-28T21:44:49.687Z"
   },
   {
    "duration": 5,
    "start_time": "2021-10-28T21:44:52.504Z"
   },
   {
    "duration": 457,
    "start_time": "2021-10-28T21:45:20.592Z"
   },
   {
    "duration": 6,
    "start_time": "2021-10-28T21:46:49.359Z"
   },
   {
    "duration": 6,
    "start_time": "2021-10-28T21:47:04.826Z"
   },
   {
    "duration": 8,
    "start_time": "2021-10-28T21:47:21.173Z"
   },
   {
    "duration": 11,
    "start_time": "2021-10-28T21:49:19.846Z"
   },
   {
    "duration": 10,
    "start_time": "2021-10-28T21:49:23.725Z"
   },
   {
    "duration": 42,
    "start_time": "2021-10-28T21:49:26.790Z"
   },
   {
    "duration": 455,
    "start_time": "2021-10-28T21:49:44.184Z"
   },
   {
    "duration": 11,
    "start_time": "2021-10-28T21:50:05.572Z"
   },
   {
    "duration": 810,
    "start_time": "2021-10-28T21:50:15.861Z"
   },
   {
    "duration": 66,
    "start_time": "2021-10-28T21:50:16.674Z"
   },
   {
    "duration": 16,
    "start_time": "2021-10-28T21:50:16.743Z"
   },
   {
    "duration": 14,
    "start_time": "2021-10-28T21:50:16.762Z"
   },
   {
    "duration": 45,
    "start_time": "2021-10-28T21:50:16.779Z"
   },
   {
    "duration": 24,
    "start_time": "2021-10-28T21:50:16.827Z"
   },
   {
    "duration": 11,
    "start_time": "2021-10-28T21:50:16.853Z"
   },
   {
    "duration": 6,
    "start_time": "2021-10-28T21:50:16.867Z"
   },
   {
    "duration": 8,
    "start_time": "2021-10-28T21:50:16.875Z"
   },
   {
    "duration": 13,
    "start_time": "2021-10-28T21:50:24.387Z"
   },
   {
    "duration": 377,
    "start_time": "2021-10-28T21:50:37.565Z"
   },
   {
    "duration": 14,
    "start_time": "2021-10-28T21:50:41.285Z"
   },
   {
    "duration": 6,
    "start_time": "2021-10-28T21:50:50.079Z"
   },
   {
    "duration": 6,
    "start_time": "2021-10-28T21:50:53.152Z"
   },
   {
    "duration": 13,
    "start_time": "2021-10-28T21:51:06.657Z"
   },
   {
    "duration": 7,
    "start_time": "2021-10-28T21:51:13.187Z"
   },
   {
    "duration": 10,
    "start_time": "2021-10-28T21:51:47.142Z"
   },
   {
    "duration": 12,
    "start_time": "2021-10-28T21:51:58.647Z"
   },
   {
    "duration": 6,
    "start_time": "2021-10-28T21:52:17.723Z"
   },
   {
    "duration": 7,
    "start_time": "2021-10-28T21:52:32.204Z"
   },
   {
    "duration": 7,
    "start_time": "2021-10-28T21:52:34.932Z"
   },
   {
    "duration": 7,
    "start_time": "2021-10-28T21:52:46.631Z"
   },
   {
    "duration": 7,
    "start_time": "2021-10-28T21:52:55.528Z"
   },
   {
    "duration": 6,
    "start_time": "2021-10-28T21:52:59.785Z"
   },
   {
    "duration": 10,
    "start_time": "2021-10-28T21:53:03.450Z"
   },
   {
    "duration": 758,
    "start_time": "2021-10-28T21:53:28.556Z"
   },
   {
    "duration": 7,
    "start_time": "2021-10-28T21:54:29.900Z"
   },
   {
    "duration": 15,
    "start_time": "2021-10-28T21:56:56.120Z"
   },
   {
    "duration": 306,
    "start_time": "2021-10-28T21:57:16.276Z"
   },
   {
    "duration": 12,
    "start_time": "2021-10-28T21:57:21.587Z"
   },
   {
    "duration": 14,
    "start_time": "2021-10-28T21:57:24.499Z"
   },
   {
    "duration": 11,
    "start_time": "2021-10-28T21:57:30.814Z"
   },
   {
    "duration": 11,
    "start_time": "2021-10-28T21:57:55.656Z"
   },
   {
    "duration": 24,
    "start_time": "2021-10-28T21:58:05.165Z"
   },
   {
    "duration": 12,
    "start_time": "2021-10-28T21:58:10.330Z"
   },
   {
    "duration": 13,
    "start_time": "2021-10-28T21:58:20.300Z"
   },
   {
    "duration": 15,
    "start_time": "2021-10-28T21:58:23.460Z"
   },
   {
    "duration": 11,
    "start_time": "2021-10-28T21:58:26.325Z"
   },
   {
    "duration": 13,
    "start_time": "2021-10-28T21:58:33.158Z"
   },
   {
    "duration": 11,
    "start_time": "2021-10-28T21:58:40.631Z"
   },
   {
    "duration": 11,
    "start_time": "2021-10-28T21:58:43.983Z"
   },
   {
    "duration": 127,
    "start_time": "2021-10-28T21:59:52.881Z"
   },
   {
    "duration": 527,
    "start_time": "2021-10-28T22:01:17.821Z"
   },
   {
    "duration": 605,
    "start_time": "2021-10-28T22:01:31.870Z"
   },
   {
    "duration": 408,
    "start_time": "2021-10-29T09:28:19.812Z"
   },
   {
    "duration": 832,
    "start_time": "2021-10-29T09:28:25.496Z"
   },
   {
    "duration": 64,
    "start_time": "2021-10-29T09:28:26.331Z"
   },
   {
    "duration": 17,
    "start_time": "2021-10-29T09:28:26.398Z"
   },
   {
    "duration": 10,
    "start_time": "2021-10-29T09:28:26.419Z"
   },
   {
    "duration": 53,
    "start_time": "2021-10-29T09:28:26.432Z"
   },
   {
    "duration": 23,
    "start_time": "2021-10-29T09:28:26.488Z"
   },
   {
    "duration": 64,
    "start_time": "2021-10-29T09:28:26.514Z"
   },
   {
    "duration": 5,
    "start_time": "2021-10-29T09:28:26.581Z"
   },
   {
    "duration": 7,
    "start_time": "2021-10-29T09:28:26.589Z"
   },
   {
    "duration": 14,
    "start_time": "2021-10-29T09:28:26.598Z"
   },
   {
    "duration": 43,
    "start_time": "2021-10-29T09:28:26.614Z"
   },
   {
    "duration": 6,
    "start_time": "2021-10-29T09:28:26.659Z"
   },
   {
    "duration": 297,
    "start_time": "2021-10-29T09:30:09.445Z"
   },
   {
    "duration": 17,
    "start_time": "2021-10-29T09:30:16.677Z"
   },
   {
    "duration": 11,
    "start_time": "2021-10-29T09:30:23.998Z"
   },
   {
    "duration": 17,
    "start_time": "2021-10-29T09:30:56.223Z"
   },
   {
    "duration": 16,
    "start_time": "2021-10-29T09:31:16.656Z"
   },
   {
    "duration": 831,
    "start_time": "2021-10-29T09:31:28.091Z"
   },
   {
    "duration": 64,
    "start_time": "2021-10-29T09:31:28.925Z"
   },
   {
    "duration": 16,
    "start_time": "2021-10-29T09:31:28.993Z"
   },
   {
    "duration": 8,
    "start_time": "2021-10-29T09:31:29.012Z"
   },
   {
    "duration": 53,
    "start_time": "2021-10-29T09:31:29.023Z"
   },
   {
    "duration": 21,
    "start_time": "2021-10-29T09:31:29.079Z"
   },
   {
    "duration": 58,
    "start_time": "2021-10-29T09:31:29.103Z"
   },
   {
    "duration": 6,
    "start_time": "2021-10-29T09:31:29.165Z"
   },
   {
    "duration": 9,
    "start_time": "2021-10-29T09:31:29.174Z"
   },
   {
    "duration": 13,
    "start_time": "2021-10-29T09:31:29.186Z"
   },
   {
    "duration": 6,
    "start_time": "2021-10-29T09:31:29.202Z"
   },
   {
    "duration": 57,
    "start_time": "2021-10-29T09:31:29.210Z"
   },
   {
    "duration": 9780,
    "start_time": "2021-10-29T09:34:52.068Z"
   },
   {
    "duration": 47,
    "start_time": "2021-10-29T09:35:16.919Z"
   },
   {
    "duration": 34,
    "start_time": "2021-10-29T09:37:15.550Z"
   },
   {
    "duration": 418,
    "start_time": "2021-10-29T09:37:38.146Z"
   },
   {
    "duration": 34,
    "start_time": "2021-10-29T09:37:58.157Z"
   },
   {
    "duration": 483,
    "start_time": "2021-10-29T09:38:20.516Z"
   },
   {
    "duration": 26,
    "start_time": "2021-10-29T09:38:22.904Z"
   },
   {
    "duration": 10,
    "start_time": "2021-10-29T09:52:56.324Z"
   },
   {
    "duration": 7,
    "start_time": "2021-10-29T09:52:56.830Z"
   },
   {
    "duration": 7,
    "start_time": "2021-10-29T09:52:57.902Z"
   },
   {
    "duration": 6,
    "start_time": "2021-10-29T09:53:39.212Z"
   },
   {
    "duration": 13,
    "start_time": "2021-10-29T09:53:50.893Z"
   },
   {
    "duration": 8,
    "start_time": "2021-10-29T09:54:15.209Z"
   },
   {
    "duration": 6,
    "start_time": "2021-10-29T09:54:20.849Z"
   },
   {
    "duration": 12,
    "start_time": "2021-10-29T09:55:07.561Z"
   },
   {
    "duration": 92,
    "start_time": "2021-10-29T19:07:25.338Z"
   },
   {
    "duration": 1379,
    "start_time": "2021-10-30T07:56:14.034Z"
   },
   {
    "duration": 869,
    "start_time": "2021-10-30T07:56:23.596Z"
   },
   {
    "duration": 63,
    "start_time": "2021-10-30T07:56:24.467Z"
   },
   {
    "duration": 29,
    "start_time": "2021-10-30T07:56:24.533Z"
   },
   {
    "duration": 14,
    "start_time": "2021-10-30T07:56:24.565Z"
   },
   {
    "duration": 44,
    "start_time": "2021-10-30T07:56:24.582Z"
   },
   {
    "duration": 35,
    "start_time": "2021-10-30T07:56:24.629Z"
   },
   {
    "duration": 62,
    "start_time": "2021-10-30T07:56:24.666Z"
   },
   {
    "duration": 25,
    "start_time": "2021-10-30T07:56:24.734Z"
   },
   {
    "duration": 12,
    "start_time": "2021-10-30T07:56:24.762Z"
   },
   {
    "duration": 7,
    "start_time": "2021-10-30T07:56:24.777Z"
   },
   {
    "duration": 8,
    "start_time": "2021-10-30T07:56:24.821Z"
   },
   {
    "duration": 8,
    "start_time": "2021-10-30T07:56:24.832Z"
   },
   {
    "duration": 14,
    "start_time": "2021-10-30T07:56:24.843Z"
   },
   {
    "duration": 34,
    "start_time": "2021-10-30T07:56:34.375Z"
   },
   {
    "duration": 37,
    "start_time": "2021-10-30T07:56:38.656Z"
   },
   {
    "duration": 36,
    "start_time": "2021-10-30T07:56:43.832Z"
   },
   {
    "duration": 47,
    "start_time": "2021-10-30T07:56:48.154Z"
   },
   {
    "duration": 18,
    "start_time": "2021-10-30T07:58:18.231Z"
   },
   {
    "duration": 754,
    "start_time": "2021-10-30T07:58:24.556Z"
   },
   {
    "duration": 69,
    "start_time": "2021-10-30T07:58:25.313Z"
   },
   {
    "duration": 40,
    "start_time": "2021-10-30T07:58:25.386Z"
   },
   {
    "duration": 15,
    "start_time": "2021-10-30T07:58:25.439Z"
   },
   {
    "duration": 15,
    "start_time": "2021-10-30T07:58:25.456Z"
   },
   {
    "duration": 55,
    "start_time": "2021-10-30T07:58:25.473Z"
   },
   {
    "duration": 11,
    "start_time": "2021-10-30T07:58:25.532Z"
   },
   {
    "duration": 7,
    "start_time": "2021-10-30T07:58:25.546Z"
   },
   {
    "duration": 7,
    "start_time": "2021-10-30T07:58:25.555Z"
   },
   {
    "duration": 6,
    "start_time": "2021-10-30T07:58:25.564Z"
   },
   {
    "duration": 61,
    "start_time": "2021-10-30T07:58:25.572Z"
   },
   {
    "duration": 7,
    "start_time": "2021-10-30T08:00:19.669Z"
   },
   {
    "duration": 19,
    "start_time": "2021-10-30T08:01:58.931Z"
   },
   {
    "duration": 18,
    "start_time": "2021-10-30T08:03:00.468Z"
   },
   {
    "duration": 19,
    "start_time": "2021-10-30T08:04:08.710Z"
   },
   {
    "duration": 101,
    "start_time": "2021-10-30T08:06:24.985Z"
   },
   {
    "duration": 375,
    "start_time": "2021-10-30T08:06:38.096Z"
   },
   {
    "duration": 12,
    "start_time": "2021-10-30T08:09:47.093Z"
   },
   {
    "duration": 12,
    "start_time": "2021-10-30T08:19:35.131Z"
   },
   {
    "duration": 719,
    "start_time": "2021-10-30T08:19:53.929Z"
   },
   {
    "duration": 63,
    "start_time": "2021-10-30T08:19:54.650Z"
   },
   {
    "duration": 29,
    "start_time": "2021-10-30T08:19:54.716Z"
   },
   {
    "duration": 18,
    "start_time": "2021-10-30T08:19:54.748Z"
   },
   {
    "duration": 15,
    "start_time": "2021-10-30T08:19:54.769Z"
   },
   {
    "duration": 54,
    "start_time": "2021-10-30T08:19:54.787Z"
   },
   {
    "duration": 11,
    "start_time": "2021-10-30T08:19:54.843Z"
   },
   {
    "duration": 6,
    "start_time": "2021-10-30T08:19:54.857Z"
   },
   {
    "duration": 6,
    "start_time": "2021-10-30T08:19:54.866Z"
   },
   {
    "duration": 5,
    "start_time": "2021-10-30T08:19:54.875Z"
   },
   {
    "duration": 53,
    "start_time": "2021-10-30T08:19:54.882Z"
   },
   {
    "duration": 612,
    "start_time": "2021-10-30T08:23:11.160Z"
   },
   {
    "duration": 23,
    "start_time": "2021-10-30T08:23:19.150Z"
   },
   {
    "duration": 290,
    "start_time": "2021-10-30T08:23:29.983Z"
   },
   {
    "duration": 6,
    "start_time": "2021-10-30T08:23:37.153Z"
   },
   {
    "duration": 10,
    "start_time": "2021-10-30T08:23:44.225Z"
   },
   {
    "duration": 9,
    "start_time": "2021-10-30T08:23:52.638Z"
   },
   {
    "duration": 4,
    "start_time": "2021-10-30T08:24:17.501Z"
   },
   {
    "duration": 6,
    "start_time": "2021-10-30T08:24:29.507Z"
   },
   {
    "duration": 6,
    "start_time": "2021-10-30T08:24:39.129Z"
   },
   {
    "duration": 411,
    "start_time": "2021-10-30T08:25:01.276Z"
   },
   {
    "duration": 285,
    "start_time": "2021-10-30T08:25:15.983Z"
   },
   {
    "duration": 296,
    "start_time": "2021-10-30T08:25:30.808Z"
   },
   {
    "duration": 22,
    "start_time": "2021-10-30T08:25:36.201Z"
   },
   {
    "duration": 23,
    "start_time": "2021-10-30T08:25:48.667Z"
   },
   {
    "duration": 6,
    "start_time": "2021-10-30T08:28:06.478Z"
   },
   {
    "duration": 7,
    "start_time": "2021-10-30T08:28:26.440Z"
   },
   {
    "duration": 6,
    "start_time": "2021-10-30T08:28:53.852Z"
   },
   {
    "duration": 7,
    "start_time": "2021-10-30T08:29:02.654Z"
   },
   {
    "duration": 6,
    "start_time": "2021-10-30T08:29:09.302Z"
   },
   {
    "duration": 7,
    "start_time": "2021-10-30T08:29:16.030Z"
   },
   {
    "duration": 25,
    "start_time": "2021-10-30T08:30:19.919Z"
   },
   {
    "duration": 12,
    "start_time": "2021-10-30T08:32:46.845Z"
   },
   {
    "duration": 770,
    "start_time": "2021-10-30T08:32:52.307Z"
   },
   {
    "duration": 63,
    "start_time": "2021-10-30T08:32:53.079Z"
   },
   {
    "duration": 28,
    "start_time": "2021-10-30T08:32:53.145Z"
   },
   {
    "duration": 16,
    "start_time": "2021-10-30T08:32:53.176Z"
   },
   {
    "duration": 32,
    "start_time": "2021-10-30T08:32:53.194Z"
   },
   {
    "duration": 23,
    "start_time": "2021-10-30T08:32:53.228Z"
   },
   {
    "duration": 9,
    "start_time": "2021-10-30T08:32:53.253Z"
   },
   {
    "duration": 8,
    "start_time": "2021-10-30T08:32:53.264Z"
   },
   {
    "duration": 46,
    "start_time": "2021-10-30T08:32:53.276Z"
   },
   {
    "duration": 6,
    "start_time": "2021-10-30T08:32:53.324Z"
   },
   {
    "duration": 16,
    "start_time": "2021-10-30T08:32:53.332Z"
   },
   {
    "duration": 388,
    "start_time": "2021-10-30T08:39:04.315Z"
   },
   {
    "duration": 136,
    "start_time": "2021-10-30T08:39:28.070Z"
   },
   {
    "duration": 289,
    "start_time": "2021-10-30T08:39:32.535Z"
   },
   {
    "duration": 9,
    "start_time": "2021-10-30T08:40:04.644Z"
   },
   {
    "duration": 7,
    "start_time": "2021-10-30T08:43:35.386Z"
   },
   {
    "duration": 38,
    "start_time": "2021-10-30T08:43:41.097Z"
   },
   {
    "duration": 13,
    "start_time": "2021-10-30T08:45:27.343Z"
   },
   {
    "duration": 10,
    "start_time": "2021-10-30T08:45:35.952Z"
   },
   {
    "duration": 11,
    "start_time": "2021-10-30T08:45:40.833Z"
   },
   {
    "duration": 10,
    "start_time": "2021-10-30T08:46:54.251Z"
   },
   {
    "duration": 11,
    "start_time": "2021-10-30T08:47:02.460Z"
   },
   {
    "duration": 10,
    "start_time": "2021-10-30T08:47:09.653Z"
   },
   {
    "duration": 11,
    "start_time": "2021-10-30T08:47:22.055Z"
   },
   {
    "duration": 291,
    "start_time": "2021-10-30T08:50:43.843Z"
   },
   {
    "duration": 467,
    "start_time": "2021-10-30T08:51:15.407Z"
   },
   {
    "duration": 6,
    "start_time": "2021-10-30T08:51:21.999Z"
   },
   {
    "duration": 7,
    "start_time": "2021-10-30T08:54:07.861Z"
   },
   {
    "duration": 7,
    "start_time": "2021-10-30T08:54:16.023Z"
   },
   {
    "duration": 6,
    "start_time": "2021-10-30T09:08:41.806Z"
   },
   {
    "duration": 5,
    "start_time": "2021-10-30T09:08:44.347Z"
   },
   {
    "duration": 20,
    "start_time": "2021-10-30T09:08:46.242Z"
   },
   {
    "duration": 715,
    "start_time": "2021-10-30T09:20:19.145Z"
   },
   {
    "duration": 65,
    "start_time": "2021-10-30T09:20:19.863Z"
   },
   {
    "duration": 28,
    "start_time": "2021-10-30T09:20:19.931Z"
   },
   {
    "duration": 22,
    "start_time": "2021-10-30T09:20:19.961Z"
   },
   {
    "duration": 24,
    "start_time": "2021-10-30T09:20:19.985Z"
   },
   {
    "duration": 32,
    "start_time": "2021-10-30T09:20:20.012Z"
   },
   {
    "duration": 11,
    "start_time": "2021-10-30T09:20:20.048Z"
   },
   {
    "duration": 22,
    "start_time": "2021-10-30T09:20:20.063Z"
   },
   {
    "duration": 16,
    "start_time": "2021-10-30T09:20:20.088Z"
   },
   {
    "duration": 21,
    "start_time": "2021-10-30T09:20:20.106Z"
   },
   {
    "duration": 30,
    "start_time": "2021-10-30T09:20:20.129Z"
   },
   {
    "duration": 7,
    "start_time": "2021-10-30T09:21:29.110Z"
   },
   {
    "duration": 15,
    "start_time": "2021-10-30T09:31:31.991Z"
   },
   {
    "duration": 14,
    "start_time": "2021-10-30T09:31:40.440Z"
   },
   {
    "duration": 8,
    "start_time": "2021-10-30T09:32:03.460Z"
   },
   {
    "duration": 25,
    "start_time": "2021-10-30T09:41:30.833Z"
   },
   {
    "duration": 23,
    "start_time": "2021-10-30T09:41:54.028Z"
   },
   {
    "duration": 50,
    "start_time": "2021-10-30T09:42:06.661Z"
   },
   {
    "duration": 49,
    "start_time": "2021-10-30T09:44:54.903Z"
   },
   {
    "duration": 104,
    "start_time": "2021-10-30T09:47:27.802Z"
   },
   {
    "duration": 16,
    "start_time": "2021-10-30T10:37:14.098Z"
   },
   {
    "duration": 26,
    "start_time": "2021-10-30T10:37:16.107Z"
   },
   {
    "duration": 16,
    "start_time": "2021-10-30T10:37:57.561Z"
   },
   {
    "duration": 24,
    "start_time": "2021-10-30T10:38:07.178Z"
   },
   {
    "duration": 6,
    "start_time": "2021-10-30T10:39:22.604Z"
   },
   {
    "duration": 34,
    "start_time": "2021-10-30T10:40:31.934Z"
   },
   {
    "duration": 23,
    "start_time": "2021-10-30T10:41:20.284Z"
   },
   {
    "duration": 10,
    "start_time": "2021-10-30T11:12:14.184Z"
   },
   {
    "duration": 4,
    "start_time": "2021-10-30T11:12:49.918Z"
   },
   {
    "duration": 371,
    "start_time": "2021-10-30T11:13:41.797Z"
   },
   {
    "duration": 284,
    "start_time": "2021-10-30T11:13:51.017Z"
   },
   {
    "duration": 930,
    "start_time": "2021-10-30T11:14:08.025Z"
   },
   {
    "duration": 6,
    "start_time": "2021-10-30T11:14:12.857Z"
   },
   {
    "duration": 10,
    "start_time": "2021-10-30T11:21:25.980Z"
   },
   {
    "duration": 281,
    "start_time": "2021-10-30T11:23:37.460Z"
   },
   {
    "duration": 33,
    "start_time": "2021-10-30T11:23:46.156Z"
   },
   {
    "duration": 10,
    "start_time": "2021-10-30T11:24:02.106Z"
   },
   {
    "duration": 9,
    "start_time": "2021-10-30T11:24:45.471Z"
   },
   {
    "duration": 14,
    "start_time": "2021-10-30T11:30:31.056Z"
   },
   {
    "duration": 14,
    "start_time": "2021-10-30T11:30:42.696Z"
   },
   {
    "duration": 10,
    "start_time": "2021-10-30T11:33:45.599Z"
   },
   {
    "duration": 11,
    "start_time": "2021-10-30T11:40:56.770Z"
   },
   {
    "duration": 10,
    "start_time": "2021-10-30T11:42:15.497Z"
   },
   {
    "duration": 4,
    "start_time": "2021-10-30T11:49:08.019Z"
   },
   {
    "duration": 7627,
    "start_time": "2021-10-30T11:49:31.662Z"
   },
   {
    "duration": 4,
    "start_time": "2021-10-30T11:50:04.197Z"
   },
   {
    "duration": 7405,
    "start_time": "2021-10-30T11:50:05.024Z"
   },
   {
    "duration": 1370,
    "start_time": "2021-10-30T11:50:22.714Z"
   },
   {
    "duration": 4,
    "start_time": "2021-10-30T11:50:31.354Z"
   },
   {
    "duration": 3468,
    "start_time": "2021-10-30T11:50:31.802Z"
   },
   {
    "duration": 30,
    "start_time": "2021-10-30T11:50:38.251Z"
   },
   {
    "duration": 8,
    "start_time": "2021-10-30T11:50:54.942Z"
   },
   {
    "duration": 5,
    "start_time": "2021-10-30T11:51:06.751Z"
   },
   {
    "duration": 2064,
    "start_time": "2021-10-30T11:51:07.175Z"
   },
   {
    "duration": 7,
    "start_time": "2021-10-30T11:51:09.241Z"
   },
   {
    "duration": 2052,
    "start_time": "2021-10-30T11:51:35.203Z"
   },
   {
    "duration": 4,
    "start_time": "2021-10-30T11:51:49.270Z"
   },
   {
    "duration": 2048,
    "start_time": "2021-10-30T11:51:49.692Z"
   },
   {
    "duration": 8,
    "start_time": "2021-10-30T11:51:51.813Z"
   },
   {
    "duration": 5,
    "start_time": "2021-10-30T11:52:16.040Z"
   },
   {
    "duration": 2052,
    "start_time": "2021-10-30T11:52:16.300Z"
   },
   {
    "duration": 31,
    "start_time": "2021-10-30T11:52:20.768Z"
   },
   {
    "duration": 715,
    "start_time": "2021-10-30T11:52:31.959Z"
   },
   {
    "duration": 67,
    "start_time": "2021-10-30T11:52:32.676Z"
   },
   {
    "duration": 29,
    "start_time": "2021-10-30T11:52:32.746Z"
   },
   {
    "duration": 21,
    "start_time": "2021-10-30T11:52:32.779Z"
   },
   {
    "duration": 21,
    "start_time": "2021-10-30T11:52:32.822Z"
   },
   {
    "duration": 32,
    "start_time": "2021-10-30T11:52:32.846Z"
   },
   {
    "duration": 46,
    "start_time": "2021-10-30T11:52:32.881Z"
   },
   {
    "duration": 8,
    "start_time": "2021-10-30T11:52:32.932Z"
   },
   {
    "duration": 9,
    "start_time": "2021-10-30T11:52:32.944Z"
   },
   {
    "duration": 7,
    "start_time": "2021-10-30T11:52:32.956Z"
   },
   {
    "duration": 20,
    "start_time": "2021-10-30T11:52:32.965Z"
   },
   {
    "duration": 41,
    "start_time": "2021-10-30T11:52:32.988Z"
   },
   {
    "duration": 18,
    "start_time": "2021-10-30T11:52:33.032Z"
   },
   {
    "duration": 31,
    "start_time": "2021-10-30T11:52:33.052Z"
   },
   {
    "duration": 63,
    "start_time": "2021-10-30T11:52:33.086Z"
   },
   {
    "duration": 27,
    "start_time": "2021-10-30T11:52:33.152Z"
   },
   {
    "duration": 10,
    "start_time": "2021-10-30T11:52:33.181Z"
   },
   {
    "duration": 3,
    "start_time": "2021-10-30T11:52:33.193Z"
   },
   {
    "duration": 8,
    "start_time": "2021-10-30T11:52:33.222Z"
   },
   {
    "duration": 933,
    "start_time": "2021-10-30T11:52:33.232Z"
   },
   {
    "duration": 10,
    "start_time": "2021-10-30T11:52:34.168Z"
   },
   {
    "duration": 13,
    "start_time": "2021-10-30T11:52:34.180Z"
   },
   {
    "duration": 26,
    "start_time": "2021-10-30T11:52:34.198Z"
   },
   {
    "duration": 3459,
    "start_time": "2021-10-30T11:52:34.227Z"
   },
   {
    "duration": 7,
    "start_time": "2021-10-30T11:52:37.688Z"
   },
   {
    "duration": 50,
    "start_time": "2021-10-30T11:52:37.698Z"
   },
   {
    "duration": 713,
    "start_time": "2021-10-30T11:53:36.674Z"
   },
   {
    "duration": 64,
    "start_time": "2021-10-30T11:53:37.390Z"
   },
   {
    "duration": 29,
    "start_time": "2021-10-30T11:53:37.457Z"
   },
   {
    "duration": 35,
    "start_time": "2021-10-30T11:53:37.489Z"
   },
   {
    "duration": 16,
    "start_time": "2021-10-30T11:53:37.526Z"
   },
   {
    "duration": 24,
    "start_time": "2021-10-30T11:53:37.544Z"
   },
   {
    "duration": 9,
    "start_time": "2021-10-30T11:53:37.570Z"
   },
   {
    "duration": 39,
    "start_time": "2021-10-30T11:53:37.583Z"
   },
   {
    "duration": 5,
    "start_time": "2021-10-30T11:53:37.626Z"
   },
   {
    "duration": 7,
    "start_time": "2021-10-30T11:53:37.634Z"
   },
   {
    "duration": 24,
    "start_time": "2021-10-30T11:53:37.644Z"
   },
   {
    "duration": 7,
    "start_time": "2021-10-30T11:53:37.671Z"
   },
   {
    "duration": 59,
    "start_time": "2021-10-30T11:53:37.680Z"
   },
   {
    "duration": 36,
    "start_time": "2021-10-30T11:53:37.741Z"
   },
   {
    "duration": 43,
    "start_time": "2021-10-30T11:53:37.779Z"
   },
   {
    "duration": 25,
    "start_time": "2021-10-30T11:53:37.825Z"
   },
   {
    "duration": 13,
    "start_time": "2021-10-30T11:53:37.852Z"
   },
   {
    "duration": 4,
    "start_time": "2021-10-30T11:53:37.867Z"
   },
   {
    "duration": 16,
    "start_time": "2021-10-30T11:53:37.873Z"
   },
   {
    "duration": 922,
    "start_time": "2021-10-30T11:53:37.892Z"
   },
   {
    "duration": 10,
    "start_time": "2021-10-30T11:53:38.817Z"
   },
   {
    "duration": 20,
    "start_time": "2021-10-30T11:53:38.829Z"
   },
   {
    "duration": 20,
    "start_time": "2021-10-30T11:53:38.853Z"
   },
   {
    "duration": 3533,
    "start_time": "2021-10-30T11:53:38.876Z"
   },
   {
    "duration": 15,
    "start_time": "2021-10-30T11:53:42.412Z"
   },
   {
    "duration": 31,
    "start_time": "2021-10-30T11:53:42.429Z"
   },
   {
    "duration": 5,
    "start_time": "2021-10-30T11:54:26.510Z"
   },
   {
    "duration": 3483,
    "start_time": "2021-10-30T11:54:27.653Z"
   },
   {
    "duration": 8,
    "start_time": "2021-10-30T11:54:31.759Z"
   },
   {
    "duration": 5,
    "start_time": "2021-10-30T11:55:33.341Z"
   },
   {
    "duration": 3513,
    "start_time": "2021-10-30T11:55:34.682Z"
   },
   {
    "duration": 9,
    "start_time": "2021-10-30T11:55:39.064Z"
   },
   {
    "duration": 4,
    "start_time": "2021-10-30T11:56:20.805Z"
   },
   {
    "duration": 500,
    "start_time": "2021-10-30T11:56:40.446Z"
   },
   {
    "duration": 3507,
    "start_time": "2021-10-30T11:56:45.015Z"
   },
   {
    "duration": 8,
    "start_time": "2021-10-30T11:56:48.524Z"
   },
   {
    "duration": 703,
    "start_time": "2021-10-30T11:57:12.847Z"
   },
   {
    "duration": 67,
    "start_time": "2021-10-30T11:57:13.553Z"
   },
   {
    "duration": 29,
    "start_time": "2021-10-30T11:57:13.623Z"
   },
   {
    "duration": 16,
    "start_time": "2021-10-30T11:57:13.655Z"
   },
   {
    "duration": 16,
    "start_time": "2021-10-30T11:57:13.673Z"
   },
   {
    "duration": 22,
    "start_time": "2021-10-30T11:57:13.723Z"
   },
   {
    "duration": 15,
    "start_time": "2021-10-30T11:57:13.747Z"
   },
   {
    "duration": 9,
    "start_time": "2021-10-30T11:57:13.766Z"
   },
   {
    "duration": 6,
    "start_time": "2021-10-30T11:57:13.778Z"
   },
   {
    "duration": 40,
    "start_time": "2021-10-30T11:57:13.786Z"
   },
   {
    "duration": 22,
    "start_time": "2021-10-30T11:57:13.828Z"
   },
   {
    "duration": 7,
    "start_time": "2021-10-30T11:57:13.852Z"
   },
   {
    "duration": 18,
    "start_time": "2021-10-30T11:57:13.861Z"
   },
   {
    "duration": 49,
    "start_time": "2021-10-30T11:57:13.882Z"
   },
   {
    "duration": 26,
    "start_time": "2021-10-30T11:57:13.934Z"
   },
   {
    "duration": 25,
    "start_time": "2021-10-30T11:57:13.962Z"
   },
   {
    "duration": 34,
    "start_time": "2021-10-30T11:57:13.989Z"
   },
   {
    "duration": 3,
    "start_time": "2021-10-30T11:57:14.025Z"
   },
   {
    "duration": 11,
    "start_time": "2021-10-30T11:57:14.031Z"
   },
   {
    "duration": 910,
    "start_time": "2021-10-30T11:57:14.045Z"
   },
   {
    "duration": 11,
    "start_time": "2021-10-30T11:57:14.958Z"
   },
   {
    "duration": 12,
    "start_time": "2021-10-30T11:57:14.971Z"
   },
   {
    "duration": 4,
    "start_time": "2021-10-30T12:00:01.788Z"
   },
   {
    "duration": 4,
    "start_time": "2021-10-30T12:01:12.327Z"
   },
   {
    "duration": 1518,
    "start_time": "2021-10-30T12:01:37.519Z"
   },
   {
    "duration": 4,
    "start_time": "2021-10-30T12:01:47.153Z"
   },
   {
    "duration": 2586,
    "start_time": "2021-10-30T12:01:47.889Z"
   },
   {
    "duration": 4,
    "start_time": "2021-10-30T12:01:57.762Z"
   },
   {
    "duration": 3432,
    "start_time": "2021-10-30T12:01:58.770Z"
   },
   {
    "duration": 1492,
    "start_time": "2021-10-30T12:02:03.696Z"
   },
   {
    "duration": 4,
    "start_time": "2021-10-30T12:02:12.973Z"
   },
   {
    "duration": 1596,
    "start_time": "2021-10-30T12:02:13.610Z"
   },
   {
    "duration": 1352,
    "start_time": "2021-10-30T12:02:36.168Z"
   },
   {
    "duration": 4,
    "start_time": "2021-10-30T12:02:56.290Z"
   },
   {
    "duration": 1423,
    "start_time": "2021-10-30T12:02:56.982Z"
   },
   {
    "duration": 4,
    "start_time": "2021-10-30T12:03:25.862Z"
   },
   {
    "duration": 1415,
    "start_time": "2021-10-30T12:03:27.463Z"
   },
   {
    "duration": 1404,
    "start_time": "2021-10-30T12:03:31.527Z"
   },
   {
    "duration": 1729,
    "start_time": "2021-10-30T12:05:02.235Z"
   },
   {
    "duration": 742,
    "start_time": "2021-10-30T12:05:13.928Z"
   },
   {
    "duration": 65,
    "start_time": "2021-10-30T12:05:14.673Z"
   },
   {
    "duration": 28,
    "start_time": "2021-10-30T12:05:14.741Z"
   },
   {
    "duration": 23,
    "start_time": "2021-10-30T12:05:14.771Z"
   },
   {
    "duration": 32,
    "start_time": "2021-10-30T12:05:14.796Z"
   },
   {
    "duration": 21,
    "start_time": "2021-10-30T12:05:14.830Z"
   },
   {
    "duration": 9,
    "start_time": "2021-10-30T12:05:14.854Z"
   },
   {
    "duration": 8,
    "start_time": "2021-10-30T12:05:14.867Z"
   },
   {
    "duration": 5,
    "start_time": "2021-10-30T12:05:14.878Z"
   },
   {
    "duration": 40,
    "start_time": "2021-10-30T12:05:14.886Z"
   },
   {
    "duration": 24,
    "start_time": "2021-10-30T12:05:14.928Z"
   },
   {
    "duration": 6,
    "start_time": "2021-10-30T12:05:14.955Z"
   },
   {
    "duration": 17,
    "start_time": "2021-10-30T12:05:14.963Z"
   },
   {
    "duration": 62,
    "start_time": "2021-10-30T12:05:14.982Z"
   },
   {
    "duration": 26,
    "start_time": "2021-10-30T12:05:15.047Z"
   },
   {
    "duration": 22,
    "start_time": "2021-10-30T12:05:15.075Z"
   },
   {
    "duration": 25,
    "start_time": "2021-10-30T12:05:15.099Z"
   },
   {
    "duration": 4,
    "start_time": "2021-10-30T12:05:15.126Z"
   },
   {
    "duration": 12,
    "start_time": "2021-10-30T12:05:15.133Z"
   },
   {
    "duration": 925,
    "start_time": "2021-10-30T12:05:15.147Z"
   },
   {
    "duration": 11,
    "start_time": "2021-10-30T12:05:16.075Z"
   },
   {
    "duration": 14,
    "start_time": "2021-10-30T12:05:16.088Z"
   },
   {
    "duration": 3900,
    "start_time": "2021-10-30T12:05:16.125Z"
   },
   {
    "duration": 4,
    "start_time": "2021-10-30T12:07:59.043Z"
   },
   {
    "duration": 372,
    "start_time": "2021-10-30T12:08:27.798Z"
   },
   {
    "duration": 1436,
    "start_time": "2021-10-30T12:08:32.279Z"
   },
   {
    "duration": 4,
    "start_time": "2021-10-30T12:09:58.195Z"
   },
   {
    "duration": 1418,
    "start_time": "2021-10-30T12:09:58.611Z"
   },
   {
    "duration": 3,
    "start_time": "2021-10-30T12:10:26.423Z"
   },
   {
    "duration": 3475,
    "start_time": "2021-10-30T12:10:26.815Z"
   },
   {
    "duration": 34,
    "start_time": "2021-10-30T12:10:32.607Z"
   },
   {
    "duration": 733,
    "start_time": "2021-10-30T12:10:51.469Z"
   },
   {
    "duration": 69,
    "start_time": "2021-10-30T12:10:52.205Z"
   },
   {
    "duration": 31,
    "start_time": "2021-10-30T12:10:52.277Z"
   },
   {
    "duration": 25,
    "start_time": "2021-10-30T12:10:52.311Z"
   },
   {
    "duration": 17,
    "start_time": "2021-10-30T12:10:52.339Z"
   },
   {
    "duration": 22,
    "start_time": "2021-10-30T12:10:52.359Z"
   },
   {
    "duration": 40,
    "start_time": "2021-10-30T12:10:52.384Z"
   },
   {
    "duration": 11,
    "start_time": "2021-10-30T12:10:52.427Z"
   },
   {
    "duration": 8,
    "start_time": "2021-10-30T12:10:52.441Z"
   },
   {
    "duration": 8,
    "start_time": "2021-10-30T12:10:52.452Z"
   },
   {
    "duration": 31,
    "start_time": "2021-10-30T12:10:52.463Z"
   },
   {
    "duration": 28,
    "start_time": "2021-10-30T12:10:52.496Z"
   },
   {
    "duration": 28,
    "start_time": "2021-10-30T12:10:52.526Z"
   },
   {
    "duration": 47,
    "start_time": "2021-10-30T12:10:52.556Z"
   },
   {
    "duration": 31,
    "start_time": "2021-10-30T12:10:52.606Z"
   },
   {
    "duration": 24,
    "start_time": "2021-10-30T12:10:52.639Z"
   },
   {
    "duration": 9,
    "start_time": "2021-10-30T12:10:52.666Z"
   },
   {
    "duration": 6,
    "start_time": "2021-10-30T12:10:52.678Z"
   },
   {
    "duration": 38,
    "start_time": "2021-10-30T12:10:52.686Z"
   },
   {
    "duration": 952,
    "start_time": "2021-10-30T12:10:52.727Z"
   },
   {
    "duration": 10,
    "start_time": "2021-10-30T12:10:53.681Z"
   },
   {
    "duration": 29,
    "start_time": "2021-10-30T12:10:53.694Z"
   },
   {
    "duration": 4,
    "start_time": "2021-10-30T12:10:53.728Z"
   },
   {
    "duration": 3757,
    "start_time": "2021-10-30T12:10:53.735Z"
   },
   {
    "duration": 42,
    "start_time": "2021-10-30T12:10:57.494Z"
   },
   {
    "duration": 4,
    "start_time": "2021-10-30T12:11:28.586Z"
   },
   {
    "duration": 3614,
    "start_time": "2021-10-30T12:11:29.387Z"
   },
   {
    "duration": 31,
    "start_time": "2021-10-30T12:11:34.653Z"
   },
   {
    "duration": 4,
    "start_time": "2021-10-30T12:11:54.039Z"
   },
   {
    "duration": 3593,
    "start_time": "2021-10-30T12:11:55.038Z"
   },
   {
    "duration": 30,
    "start_time": "2021-10-30T12:11:59.208Z"
   },
   {
    "duration": 5,
    "start_time": "2021-10-30T12:12:23.889Z"
   },
   {
    "duration": 3580,
    "start_time": "2021-10-30T12:12:24.507Z"
   },
   {
    "duration": 32,
    "start_time": "2021-10-30T12:12:28.667Z"
   },
   {
    "duration": 5,
    "start_time": "2021-10-30T12:12:41.556Z"
   },
   {
    "duration": 3855,
    "start_time": "2021-10-30T12:12:43.173Z"
   },
   {
    "duration": 30,
    "start_time": "2021-10-30T12:12:47.582Z"
   },
   {
    "duration": 5,
    "start_time": "2021-10-30T12:13:07.736Z"
   },
   {
    "duration": 3590,
    "start_time": "2021-10-30T12:13:08.576Z"
   },
   {
    "duration": 30,
    "start_time": "2021-10-30T12:13:14.337Z"
   },
   {
    "duration": 4,
    "start_time": "2021-10-30T12:13:40.822Z"
   },
   {
    "duration": 3522,
    "start_time": "2021-10-30T12:13:41.645Z"
   },
   {
    "duration": 32,
    "start_time": "2021-10-30T12:13:45.170Z"
   },
   {
    "duration": 4,
    "start_time": "2021-10-30T12:14:22.779Z"
   },
   {
    "duration": 3533,
    "start_time": "2021-10-30T12:14:23.235Z"
   },
   {
    "duration": 31,
    "start_time": "2021-10-30T12:14:27.267Z"
   },
   {
    "duration": 3665,
    "start_time": "2021-10-30T12:14:43.806Z"
   },
   {
    "duration": 33,
    "start_time": "2021-10-30T12:14:47.474Z"
   },
   {
    "duration": 5,
    "start_time": "2021-10-30T12:16:05.690Z"
   },
   {
    "duration": 1520,
    "start_time": "2021-10-30T12:16:06.529Z"
   },
   {
    "duration": 5,
    "start_time": "2021-10-30T12:16:14.314Z"
   },
   {
    "duration": 1732,
    "start_time": "2021-10-30T12:16:14.930Z"
   },
   {
    "duration": 30,
    "start_time": "2021-10-30T12:16:17.187Z"
   },
   {
    "duration": 10,
    "start_time": "2021-10-30T12:16:43.462Z"
   },
   {
    "duration": 5,
    "start_time": "2021-10-30T12:20:51.952Z"
   },
   {
    "duration": 15203,
    "start_time": "2021-10-30T12:20:52.751Z"
   },
   {
    "duration": 5,
    "start_time": "2021-10-30T12:22:54.542Z"
   },
   {
    "duration": 2251,
    "start_time": "2021-10-30T12:22:55.507Z"
   },
   {
    "duration": 10,
    "start_time": "2021-10-30T12:22:58.346Z"
   },
   {
    "duration": 5,
    "start_time": "2021-10-30T12:27:23.622Z"
   },
   {
    "duration": 10,
    "start_time": "2021-10-30T12:30:42.561Z"
   },
   {
    "duration": 285,
    "start_time": "2021-10-30T12:31:22.727Z"
   },
   {
    "duration": 28,
    "start_time": "2021-10-30T12:31:42.905Z"
   },
   {
    "duration": 25,
    "start_time": "2021-10-30T12:33:27.183Z"
   },
   {
    "duration": 30,
    "start_time": "2021-10-30T12:34:25.236Z"
   },
   {
    "duration": 94,
    "start_time": "2021-10-30T12:34:36.336Z"
   },
   {
    "duration": 25,
    "start_time": "2021-10-30T12:34:48.747Z"
   },
   {
    "duration": 783,
    "start_time": "2021-10-30T12:37:12.661Z"
   },
   {
    "duration": 94,
    "start_time": "2021-10-30T12:37:13.448Z"
   },
   {
    "duration": 45,
    "start_time": "2021-10-30T12:37:13.546Z"
   },
   {
    "duration": 37,
    "start_time": "2021-10-30T12:37:13.595Z"
   },
   {
    "duration": 24,
    "start_time": "2021-10-30T12:37:13.635Z"
   },
   {
    "duration": 20,
    "start_time": "2021-10-30T12:37:13.662Z"
   },
   {
    "duration": 41,
    "start_time": "2021-10-30T12:37:13.685Z"
   },
   {
    "duration": 8,
    "start_time": "2021-10-30T12:37:13.729Z"
   },
   {
    "duration": 5,
    "start_time": "2021-10-30T12:37:13.740Z"
   },
   {
    "duration": 6,
    "start_time": "2021-10-30T12:37:13.748Z"
   },
   {
    "duration": 18,
    "start_time": "2021-10-30T12:37:13.756Z"
   },
   {
    "duration": 48,
    "start_time": "2021-10-30T12:37:13.776Z"
   },
   {
    "duration": 18,
    "start_time": "2021-10-30T12:37:13.827Z"
   },
   {
    "duration": 30,
    "start_time": "2021-10-30T12:37:13.848Z"
   },
   {
    "duration": 55,
    "start_time": "2021-10-30T12:37:13.880Z"
   },
   {
    "duration": 22,
    "start_time": "2021-10-30T12:37:13.938Z"
   },
   {
    "duration": 10,
    "start_time": "2021-10-30T12:37:13.963Z"
   },
   {
    "duration": 3,
    "start_time": "2021-10-30T12:37:13.975Z"
   },
   {
    "duration": 12,
    "start_time": "2021-10-30T12:37:13.981Z"
   },
   {
    "duration": 917,
    "start_time": "2021-10-30T12:37:14.024Z"
   },
   {
    "duration": 11,
    "start_time": "2021-10-30T12:37:14.944Z"
   },
   {
    "duration": 14,
    "start_time": "2021-10-30T12:37:14.958Z"
   },
   {
    "duration": 5,
    "start_time": "2021-10-30T12:37:14.978Z"
   },
   {
    "duration": 3524,
    "start_time": "2021-10-30T12:37:14.985Z"
   },
   {
    "duration": 17,
    "start_time": "2021-10-30T12:37:18.511Z"
   },
   {
    "duration": 27,
    "start_time": "2021-10-30T12:37:18.531Z"
   },
   {
    "duration": 25,
    "start_time": "2021-10-30T12:37:18.560Z"
   },
   {
    "duration": 50,
    "start_time": "2021-10-30T12:37:18.587Z"
   },
   {
    "duration": 725,
    "start_time": "2021-10-30T18:39:57.553Z"
   },
   {
    "duration": 63,
    "start_time": "2021-10-30T18:39:58.281Z"
   },
   {
    "duration": 30,
    "start_time": "2021-10-30T18:39:58.346Z"
   },
   {
    "duration": 16,
    "start_time": "2021-10-30T18:39:58.378Z"
   },
   {
    "duration": 41,
    "start_time": "2021-10-30T18:39:58.396Z"
   },
   {
    "duration": 21,
    "start_time": "2021-10-30T18:39:58.439Z"
   },
   {
    "duration": 9,
    "start_time": "2021-10-30T18:39:58.463Z"
   },
   {
    "duration": 10,
    "start_time": "2021-10-30T18:39:58.475Z"
   },
   {
    "duration": 6,
    "start_time": "2021-10-30T18:39:58.488Z"
   },
   {
    "duration": 6,
    "start_time": "2021-10-30T18:39:58.530Z"
   },
   {
    "duration": 19,
    "start_time": "2021-10-30T18:39:58.538Z"
   },
   {
    "duration": 7,
    "start_time": "2021-10-30T18:39:58.559Z"
   },
   {
    "duration": 19,
    "start_time": "2021-10-30T18:39:58.568Z"
   },
   {
    "duration": 61,
    "start_time": "2021-10-30T18:39:58.590Z"
   },
   {
    "duration": 27,
    "start_time": "2021-10-30T18:39:58.653Z"
   },
   {
    "duration": 48,
    "start_time": "2021-10-30T18:39:58.682Z"
   },
   {
    "duration": 8,
    "start_time": "2021-10-30T18:39:58.732Z"
   },
   {
    "duration": 3,
    "start_time": "2021-10-30T18:39:58.742Z"
   },
   {
    "duration": 13,
    "start_time": "2021-10-30T18:39:58.747Z"
   },
   {
    "duration": 924,
    "start_time": "2021-10-30T18:39:58.763Z"
   },
   {
    "duration": 10,
    "start_time": "2021-10-30T18:39:59.689Z"
   },
   {
    "duration": 30,
    "start_time": "2021-10-30T18:39:59.702Z"
   },
   {
    "duration": 6,
    "start_time": "2021-10-30T18:39:59.738Z"
   },
   {
    "duration": 3605,
    "start_time": "2021-10-30T18:39:59.747Z"
   },
   {
    "duration": 9,
    "start_time": "2021-10-30T18:40:03.354Z"
   },
   {
    "duration": 33,
    "start_time": "2021-10-30T18:40:03.366Z"
   },
   {
    "duration": 41,
    "start_time": "2021-10-30T18:40:03.401Z"
   },
   {
    "duration": 23,
    "start_time": "2021-10-30T18:40:03.445Z"
   },
   {
    "duration": 25,
    "start_time": "2021-10-30T18:44:16.831Z"
   },
   {
    "duration": 43,
    "start_time": "2021-10-30T18:44:22.911Z"
   },
   {
    "duration": 746,
    "start_time": "2021-10-30T18:44:45.100Z"
   },
   {
    "duration": 64,
    "start_time": "2021-10-30T18:44:45.849Z"
   },
   {
    "duration": 28,
    "start_time": "2021-10-30T18:44:45.916Z"
   },
   {
    "duration": 17,
    "start_time": "2021-10-30T18:44:45.947Z"
   },
   {
    "duration": 16,
    "start_time": "2021-10-30T18:44:45.967Z"
   },
   {
    "duration": 54,
    "start_time": "2021-10-30T18:44:45.985Z"
   },
   {
    "duration": 13,
    "start_time": "2021-10-30T18:44:46.042Z"
   },
   {
    "duration": 5,
    "start_time": "2021-10-30T18:44:46.059Z"
   },
   {
    "duration": 6,
    "start_time": "2021-10-30T18:44:46.067Z"
   },
   {
    "duration": 7,
    "start_time": "2021-10-30T18:44:46.075Z"
   },
   {
    "duration": 53,
    "start_time": "2021-10-30T18:44:46.084Z"
   },
   {
    "duration": 7,
    "start_time": "2021-10-30T18:44:46.139Z"
   },
   {
    "duration": 16,
    "start_time": "2021-10-30T18:44:46.149Z"
   },
   {
    "duration": 27,
    "start_time": "2021-10-30T18:44:46.168Z"
   },
   {
    "duration": 55,
    "start_time": "2021-10-30T18:44:46.197Z"
   },
   {
    "duration": 22,
    "start_time": "2021-10-30T18:44:46.254Z"
   },
   {
    "duration": 8,
    "start_time": "2021-10-30T18:44:46.278Z"
   },
   {
    "duration": 6,
    "start_time": "2021-10-30T18:44:46.288Z"
   },
   {
    "duration": 34,
    "start_time": "2021-10-30T18:44:46.296Z"
   },
   {
    "duration": 910,
    "start_time": "2021-10-30T18:44:46.333Z"
   },
   {
    "duration": 10,
    "start_time": "2021-10-30T18:44:47.246Z"
   },
   {
    "duration": 14,
    "start_time": "2021-10-30T18:44:47.258Z"
   },
   {
    "duration": 5,
    "start_time": "2021-10-30T18:44:47.276Z"
   },
   {
    "duration": 3575,
    "start_time": "2021-10-30T18:44:47.284Z"
   },
   {
    "duration": 9,
    "start_time": "2021-10-30T18:44:50.861Z"
   },
   {
    "duration": 31,
    "start_time": "2021-10-30T18:44:50.873Z"
   },
   {
    "duration": 46,
    "start_time": "2021-10-30T18:44:50.907Z"
   },
   {
    "duration": 21,
    "start_time": "2021-10-30T18:44:50.956Z"
   },
   {
    "duration": 67,
    "start_time": "2021-10-30T18:44:50.979Z"
   },
   {
    "duration": 54,
    "start_time": "2021-10-30T18:45:13.092Z"
   },
   {
    "duration": 10,
    "start_time": "2021-10-30T18:45:52.577Z"
   },
   {
    "duration": 14,
    "start_time": "2021-10-30T18:46:35.166Z"
   },
   {
    "duration": 7,
    "start_time": "2021-10-30T18:46:59.131Z"
   },
   {
    "duration": 9,
    "start_time": "2021-10-30T18:47:06.546Z"
   },
   {
    "duration": 12,
    "start_time": "2021-10-30T18:48:56.634Z"
   },
   {
    "duration": 11,
    "start_time": "2021-10-30T18:49:15.252Z"
   },
   {
    "duration": 15,
    "start_time": "2021-10-30T18:49:41.095Z"
   },
   {
    "duration": 12,
    "start_time": "2021-10-30T18:49:51.369Z"
   },
   {
    "duration": 9,
    "start_time": "2021-10-30T18:50:01.259Z"
   },
   {
    "duration": 14,
    "start_time": "2021-10-30T18:50:09.454Z"
   },
   {
    "duration": 1182,
    "start_time": "2021-10-30T18:50:59.290Z"
   },
   {
    "duration": 13,
    "start_time": "2021-10-30T18:51:24.285Z"
   },
   {
    "duration": 220,
    "start_time": "2021-10-30T18:51:30.525Z"
   },
   {
    "duration": 17,
    "start_time": "2021-10-30T18:51:44.841Z"
   },
   {
    "duration": 16,
    "start_time": "2021-10-30T18:54:06.951Z"
   },
   {
    "duration": 27,
    "start_time": "2021-10-30T18:54:32.072Z"
   },
   {
    "duration": 15,
    "start_time": "2021-10-30T18:54:51.345Z"
   },
   {
    "duration": 20,
    "start_time": "2021-10-30T18:57:25.431Z"
   },
   {
    "duration": 20,
    "start_time": "2021-10-30T18:57:54.090Z"
   },
   {
    "duration": 249,
    "start_time": "2021-10-30T18:58:24.782Z"
   },
   {
    "duration": 21,
    "start_time": "2021-10-30T18:58:38.975Z"
   },
   {
    "duration": 21,
    "start_time": "2021-10-30T18:58:54.611Z"
   },
   {
    "duration": 242,
    "start_time": "2021-10-30T18:59:36.760Z"
   },
   {
    "duration": 20,
    "start_time": "2021-10-30T18:59:54.218Z"
   },
   {
    "duration": 21,
    "start_time": "2021-10-30T18:59:59.979Z"
   },
   {
    "duration": 87,
    "start_time": "2021-10-30T19:00:08.157Z"
   },
   {
    "duration": 19,
    "start_time": "2021-10-30T19:00:13.972Z"
   },
   {
    "duration": 227,
    "start_time": "2021-10-30T19:02:05.039Z"
   },
   {
    "duration": 8,
    "start_time": "2021-10-30T19:02:16.469Z"
   },
   {
    "duration": 203,
    "start_time": "2021-10-30T19:02:18.550Z"
   },
   {
    "duration": 235,
    "start_time": "2021-10-30T19:02:22.495Z"
   },
   {
    "duration": 5316,
    "start_time": "2021-10-30T19:02:25.206Z"
   },
   {
    "duration": 315,
    "start_time": "2021-10-30T19:02:33.623Z"
   },
   {
    "duration": 676,
    "start_time": "2021-10-30T19:02:39.566Z"
   },
   {
    "duration": 70,
    "start_time": "2021-10-30T19:02:40.245Z"
   },
   {
    "duration": 33,
    "start_time": "2021-10-30T19:02:40.321Z"
   },
   {
    "duration": 14,
    "start_time": "2021-10-30T19:02:40.357Z"
   },
   {
    "duration": 14,
    "start_time": "2021-10-30T19:02:40.373Z"
   },
   {
    "duration": 53,
    "start_time": "2021-10-30T19:02:40.390Z"
   },
   {
    "duration": 10,
    "start_time": "2021-10-30T19:02:40.447Z"
   },
   {
    "duration": 6,
    "start_time": "2021-10-30T19:02:40.460Z"
   },
   {
    "duration": 8,
    "start_time": "2021-10-30T19:02:40.468Z"
   },
   {
    "duration": 6,
    "start_time": "2021-10-30T19:02:40.479Z"
   },
   {
    "duration": 55,
    "start_time": "2021-10-30T19:02:40.487Z"
   },
   {
    "duration": 6,
    "start_time": "2021-10-30T19:02:40.544Z"
   },
   {
    "duration": 15,
    "start_time": "2021-10-30T19:02:40.553Z"
   },
   {
    "duration": 37,
    "start_time": "2021-10-30T19:02:40.570Z"
   },
   {
    "duration": 30,
    "start_time": "2021-10-30T19:02:40.630Z"
   },
   {
    "duration": 23,
    "start_time": "2021-10-30T19:02:40.662Z"
   },
   {
    "duration": 7,
    "start_time": "2021-10-30T19:02:40.688Z"
   },
   {
    "duration": 32,
    "start_time": "2021-10-30T19:02:40.697Z"
   },
   {
    "duration": 7,
    "start_time": "2021-10-30T19:02:40.732Z"
   },
   {
    "duration": 1017,
    "start_time": "2021-10-30T19:02:40.742Z"
   },
   {
    "duration": 10,
    "start_time": "2021-10-30T19:02:41.762Z"
   },
   {
    "duration": 11,
    "start_time": "2021-10-30T19:02:41.832Z"
   },
   {
    "duration": 6,
    "start_time": "2021-10-30T19:02:41.846Z"
   },
   {
    "duration": 3765,
    "start_time": "2021-10-30T19:02:41.854Z"
   },
   {
    "duration": 13,
    "start_time": "2021-10-30T19:02:45.621Z"
   },
   {
    "duration": 26,
    "start_time": "2021-10-30T19:02:45.636Z"
   },
   {
    "duration": 24,
    "start_time": "2021-10-30T19:02:45.665Z"
   },
   {
    "duration": 50,
    "start_time": "2021-10-30T19:02:45.691Z"
   },
   {
    "duration": 20,
    "start_time": "2021-10-30T19:02:45.744Z"
   },
   {
    "duration": 20,
    "start_time": "2021-10-30T19:02:45.767Z"
   },
   {
    "duration": 52,
    "start_time": "2021-10-30T19:02:45.789Z"
   },
   {
    "duration": 346,
    "start_time": "2021-10-30T19:03:22.800Z"
   },
   {
    "duration": 20,
    "start_time": "2021-10-30T19:03:35.496Z"
   },
   {
    "duration": 20,
    "start_time": "2021-10-30T19:04:08.077Z"
   },
   {
    "duration": 22,
    "start_time": "2021-10-30T19:04:18.461Z"
   },
   {
    "duration": 30,
    "start_time": "2021-10-30T19:04:58.412Z"
   },
   {
    "duration": 29,
    "start_time": "2021-10-30T19:05:14.853Z"
   },
   {
    "duration": 14,
    "start_time": "2021-10-30T19:06:51.194Z"
   },
   {
    "duration": 243,
    "start_time": "2021-10-30T19:06:58.020Z"
   },
   {
    "duration": 24,
    "start_time": "2021-10-30T19:07:07.533Z"
   },
   {
    "duration": 12,
    "start_time": "2021-10-30T19:07:24.566Z"
   },
   {
    "duration": 25,
    "start_time": "2021-10-30T19:07:25.607Z"
   },
   {
    "duration": 12,
    "start_time": "2021-10-30T19:07:38.144Z"
   },
   {
    "duration": 26,
    "start_time": "2021-10-30T19:07:39.809Z"
   },
   {
    "duration": 25,
    "start_time": "2021-10-30T19:07:55.963Z"
   },
   {
    "duration": 26,
    "start_time": "2021-10-30T19:08:15.375Z"
   },
   {
    "duration": 25,
    "start_time": "2021-10-30T19:13:03.259Z"
   },
   {
    "duration": 10,
    "start_time": "2021-10-30T19:13:27.912Z"
   },
   {
    "duration": 18,
    "start_time": "2021-10-30T19:13:33.962Z"
   },
   {
    "duration": 11,
    "start_time": "2021-10-30T19:13:39.458Z"
   },
   {
    "duration": 658,
    "start_time": "2021-10-30T19:13:49.347Z"
   },
   {
    "duration": 23,
    "start_time": "2021-10-30T19:13:52.812Z"
   },
   {
    "duration": 20,
    "start_time": "2021-10-30T19:14:09.772Z"
   },
   {
    "duration": 8,
    "start_time": "2021-10-30T19:17:37.635Z"
   },
   {
    "duration": 8,
    "start_time": "2021-10-30T19:17:40.829Z"
   },
   {
    "duration": 7,
    "start_time": "2021-10-30T19:17:52.380Z"
   },
   {
    "duration": 11,
    "start_time": "2021-10-30T19:18:01.045Z"
   },
   {
    "duration": 11,
    "start_time": "2021-10-30T19:18:03.758Z"
   },
   {
    "duration": 10,
    "start_time": "2021-10-30T19:18:06.214Z"
   },
   {
    "duration": 10,
    "start_time": "2021-10-30T19:18:09.510Z"
   },
   {
    "duration": 10,
    "start_time": "2021-10-30T19:18:11.678Z"
   },
   {
    "duration": 10,
    "start_time": "2021-10-30T19:18:14.639Z"
   },
   {
    "duration": 9,
    "start_time": "2021-10-30T19:18:18.192Z"
   },
   {
    "duration": 7,
    "start_time": "2021-10-30T19:18:30.706Z"
   },
   {
    "duration": 7,
    "start_time": "2021-10-30T19:18:36.342Z"
   },
   {
    "duration": 22,
    "start_time": "2021-10-30T19:23:10.151Z"
   },
   {
    "duration": 415,
    "start_time": "2021-10-30T19:24:47.590Z"
   },
   {
    "duration": 300,
    "start_time": "2021-10-30T19:24:56.615Z"
   },
   {
    "duration": 282,
    "start_time": "2021-10-30T19:25:17.322Z"
   },
   {
    "duration": 21,
    "start_time": "2021-10-30T19:26:38.900Z"
   },
   {
    "duration": 22,
    "start_time": "2021-10-30T19:31:57.385Z"
   },
   {
    "duration": 23,
    "start_time": "2021-10-30T19:42:44.045Z"
   },
   {
    "duration": 93,
    "start_time": "2021-10-30T19:43:30.334Z"
   },
   {
    "duration": 11,
    "start_time": "2021-10-30T19:43:36.934Z"
   },
   {
    "duration": 317,
    "start_time": "2021-10-30T19:46:28.821Z"
   },
   {
    "duration": 271,
    "start_time": "2021-10-30T19:46:43.679Z"
   },
   {
    "duration": 368,
    "start_time": "2021-10-30T19:46:59.241Z"
   },
   {
    "duration": 13,
    "start_time": "2021-10-30T19:47:21.754Z"
   },
   {
    "duration": 25,
    "start_time": "2021-10-30T19:49:43.352Z"
   },
   {
    "duration": 25,
    "start_time": "2021-10-30T19:58:43.208Z"
   },
   {
    "duration": 22,
    "start_time": "2021-10-30T19:59:26.702Z"
   },
   {
    "duration": 707,
    "start_time": "2021-10-30T20:10:19.753Z"
   },
   {
    "duration": 64,
    "start_time": "2021-10-30T20:10:20.463Z"
   },
   {
    "duration": 30,
    "start_time": "2021-10-30T20:10:20.530Z"
   },
   {
    "duration": 14,
    "start_time": "2021-10-30T20:10:20.563Z"
   },
   {
    "duration": 15,
    "start_time": "2021-10-30T20:10:20.579Z"
   },
   {
    "duration": 66,
    "start_time": "2021-10-30T20:10:20.597Z"
   },
   {
    "duration": 14,
    "start_time": "2021-10-30T20:10:20.665Z"
   },
   {
    "duration": 9,
    "start_time": "2021-10-30T20:10:20.682Z"
   },
   {
    "duration": 6,
    "start_time": "2021-10-30T20:10:20.695Z"
   },
   {
    "duration": 27,
    "start_time": "2021-10-30T20:10:20.704Z"
   },
   {
    "duration": 25,
    "start_time": "2021-10-30T20:10:20.734Z"
   },
   {
    "duration": 10,
    "start_time": "2021-10-30T20:10:20.761Z"
   },
   {
    "duration": 33,
    "start_time": "2021-10-30T20:10:20.774Z"
   },
   {
    "duration": 38,
    "start_time": "2021-10-30T20:10:20.809Z"
   },
   {
    "duration": 28,
    "start_time": "2021-10-30T20:10:20.850Z"
   },
   {
    "duration": 23,
    "start_time": "2021-10-30T20:10:20.880Z"
   },
   {
    "duration": 23,
    "start_time": "2021-10-30T20:10:20.906Z"
   },
   {
    "duration": 28,
    "start_time": "2021-10-30T20:10:20.932Z"
   },
   {
    "duration": 23,
    "start_time": "2021-10-30T20:10:20.963Z"
   },
   {
    "duration": 910,
    "start_time": "2021-10-30T20:10:20.989Z"
   },
   {
    "duration": 10,
    "start_time": "2021-10-30T20:10:21.902Z"
   },
   {
    "duration": 24,
    "start_time": "2021-10-30T20:10:21.914Z"
   },
   {
    "duration": 8,
    "start_time": "2021-10-30T20:10:21.941Z"
   },
   {
    "duration": 3594,
    "start_time": "2021-10-30T20:10:21.951Z"
   },
   {
    "duration": 10,
    "start_time": "2021-10-30T20:10:25.547Z"
   },
   {
    "duration": 29,
    "start_time": "2021-10-30T20:10:25.559Z"
   },
   {
    "duration": 44,
    "start_time": "2021-10-30T20:10:25.593Z"
   },
   {
    "duration": 22,
    "start_time": "2021-10-30T20:10:25.640Z"
   },
   {
    "duration": 20,
    "start_time": "2021-10-30T20:10:25.664Z"
   },
   {
    "duration": 6,
    "start_time": "2021-10-30T20:10:25.686Z"
   },
   {
    "duration": 36,
    "start_time": "2021-10-30T20:10:25.695Z"
   },
   {
    "duration": 22,
    "start_time": "2021-10-30T20:10:25.734Z"
   },
   {
    "duration": 13,
    "start_time": "2021-10-30T20:10:25.759Z"
   },
   {
    "duration": 59,
    "start_time": "2021-10-30T20:10:25.774Z"
   },
   {
    "duration": 21,
    "start_time": "2021-10-30T20:10:25.835Z"
   },
   {
    "duration": 750,
    "start_time": "2021-10-30T20:11:59.283Z"
   },
   {
    "duration": 68,
    "start_time": "2021-10-30T20:12:00.035Z"
   },
   {
    "duration": 35,
    "start_time": "2021-10-30T20:12:00.106Z"
   },
   {
    "duration": 21,
    "start_time": "2021-10-30T20:12:00.144Z"
   },
   {
    "duration": 15,
    "start_time": "2021-10-30T20:12:00.168Z"
   },
   {
    "duration": 54,
    "start_time": "2021-10-30T20:12:00.186Z"
   },
   {
    "duration": 11,
    "start_time": "2021-10-30T20:12:00.243Z"
   },
   {
    "duration": 17,
    "start_time": "2021-10-30T20:12:00.260Z"
   },
   {
    "duration": 21,
    "start_time": "2021-10-30T20:12:00.281Z"
   },
   {
    "duration": 33,
    "start_time": "2021-10-30T20:12:00.305Z"
   },
   {
    "duration": 45,
    "start_time": "2021-10-30T20:12:00.341Z"
   },
   {
    "duration": 21,
    "start_time": "2021-10-30T20:12:00.389Z"
   },
   {
    "duration": 32,
    "start_time": "2021-10-30T20:12:00.412Z"
   },
   {
    "duration": 37,
    "start_time": "2021-10-30T20:12:00.447Z"
   },
   {
    "duration": 44,
    "start_time": "2021-10-30T20:12:00.486Z"
   },
   {
    "duration": 26,
    "start_time": "2021-10-30T20:12:00.532Z"
   },
   {
    "duration": 8,
    "start_time": "2021-10-30T20:12:00.560Z"
   },
   {
    "duration": 21,
    "start_time": "2021-10-30T20:12:00.570Z"
   },
   {
    "duration": 24,
    "start_time": "2021-10-30T20:12:00.594Z"
   },
   {
    "duration": 941,
    "start_time": "2021-10-30T20:12:00.621Z"
   },
   {
    "duration": 13,
    "start_time": "2021-10-30T20:12:01.565Z"
   },
   {
    "duration": 15,
    "start_time": "2021-10-30T20:12:01.581Z"
   },
   {
    "duration": 6,
    "start_time": "2021-10-30T20:12:01.634Z"
   },
   {
    "duration": 3966,
    "start_time": "2021-10-30T20:12:01.643Z"
   },
   {
    "duration": 22,
    "start_time": "2021-10-30T20:12:05.611Z"
   },
   {
    "duration": 30,
    "start_time": "2021-10-30T20:12:05.635Z"
   },
   {
    "duration": 29,
    "start_time": "2021-10-30T20:12:05.667Z"
   },
   {
    "duration": 26,
    "start_time": "2021-10-30T20:12:05.730Z"
   },
   {
    "duration": 24,
    "start_time": "2021-10-30T20:12:05.759Z"
   },
   {
    "duration": 44,
    "start_time": "2021-10-30T20:12:05.786Z"
   },
   {
    "duration": 7,
    "start_time": "2021-10-30T20:12:05.833Z"
   },
   {
    "duration": 27,
    "start_time": "2021-10-30T20:12:05.843Z"
   },
   {
    "duration": 14,
    "start_time": "2021-10-30T20:12:05.873Z"
   },
   {
    "duration": 60,
    "start_time": "2021-10-30T20:12:05.890Z"
   },
   {
    "duration": 23,
    "start_time": "2021-10-30T20:12:05.953Z"
   },
   {
    "duration": 791,
    "start_time": "2021-10-30T20:17:30.921Z"
   },
   {
    "duration": 68,
    "start_time": "2021-10-30T20:17:31.715Z"
   },
   {
    "duration": 52,
    "start_time": "2021-10-30T20:17:31.786Z"
   },
   {
    "duration": 18,
    "start_time": "2021-10-30T20:17:31.842Z"
   },
   {
    "duration": 18,
    "start_time": "2021-10-30T20:17:31.864Z"
   },
   {
    "duration": 62,
    "start_time": "2021-10-30T20:17:31.885Z"
   },
   {
    "duration": 10,
    "start_time": "2021-10-30T20:17:31.949Z"
   },
   {
    "duration": 9,
    "start_time": "2021-10-30T20:17:31.963Z"
   },
   {
    "duration": 8,
    "start_time": "2021-10-30T20:17:31.975Z"
   },
   {
    "duration": 43,
    "start_time": "2021-10-30T20:17:31.986Z"
   },
   {
    "duration": 16,
    "start_time": "2021-10-30T20:17:32.032Z"
   },
   {
    "duration": 9,
    "start_time": "2021-10-30T20:17:32.050Z"
   },
   {
    "duration": 19,
    "start_time": "2021-10-30T20:17:32.061Z"
   },
   {
    "duration": 60,
    "start_time": "2021-10-30T20:17:32.082Z"
   },
   {
    "duration": 32,
    "start_time": "2021-10-30T20:17:32.145Z"
   },
   {
    "duration": 23,
    "start_time": "2021-10-30T20:17:32.180Z"
   },
   {
    "duration": 27,
    "start_time": "2021-10-30T20:17:32.206Z"
   },
   {
    "duration": 5,
    "start_time": "2021-10-30T20:17:32.236Z"
   },
   {
    "duration": 16,
    "start_time": "2021-10-30T20:17:32.243Z"
   },
   {
    "duration": 968,
    "start_time": "2021-10-30T20:17:32.261Z"
   },
   {
    "duration": 15,
    "start_time": "2021-10-30T20:17:33.232Z"
   },
   {
    "duration": 12,
    "start_time": "2021-10-30T20:17:33.250Z"
   },
   {
    "duration": 7,
    "start_time": "2021-10-30T20:17:33.267Z"
   },
   {
    "duration": 3804,
    "start_time": "2021-10-30T20:17:33.277Z"
   },
   {
    "duration": 11,
    "start_time": "2021-10-30T20:17:37.083Z"
   },
   {
    "duration": 50,
    "start_time": "2021-10-30T20:17:37.096Z"
   },
   {
    "duration": 27,
    "start_time": "2021-10-30T20:17:37.148Z"
   },
   {
    "duration": 23,
    "start_time": "2021-10-30T20:17:37.178Z"
   },
   {
    "duration": 42,
    "start_time": "2021-10-30T20:17:37.204Z"
   },
   {
    "duration": 9,
    "start_time": "2021-10-30T20:17:37.249Z"
   },
   {
    "duration": 12,
    "start_time": "2021-10-30T20:17:37.261Z"
   },
   {
    "duration": 60,
    "start_time": "2021-10-30T20:17:37.275Z"
   },
   {
    "duration": 14,
    "start_time": "2021-10-30T20:17:37.338Z"
   },
   {
    "duration": 26,
    "start_time": "2021-10-30T20:17:37.354Z"
   },
   {
    "duration": 54,
    "start_time": "2021-10-30T20:17:37.382Z"
   },
   {
    "duration": 464,
    "start_time": "2021-10-30T20:24:40.192Z"
   },
   {
    "duration": 16,
    "start_time": "2021-10-30T20:24:55.034Z"
   },
   {
    "duration": 16,
    "start_time": "2021-10-30T20:24:55.874Z"
   },
   {
    "duration": 13,
    "start_time": "2021-10-30T20:24:59.667Z"
   },
   {
    "duration": 12,
    "start_time": "2021-10-30T20:25:00.051Z"
   },
   {
    "duration": 788,
    "start_time": "2021-10-30T20:27:13.725Z"
   },
   {
    "duration": 69,
    "start_time": "2021-10-30T20:27:14.516Z"
   },
   {
    "duration": 46,
    "start_time": "2021-10-30T20:27:14.588Z"
   },
   {
    "duration": 21,
    "start_time": "2021-10-30T20:27:14.637Z"
   },
   {
    "duration": 18,
    "start_time": "2021-10-30T20:27:14.661Z"
   },
   {
    "duration": 61,
    "start_time": "2021-10-30T20:27:14.682Z"
   },
   {
    "duration": 11,
    "start_time": "2021-10-30T20:27:14.747Z"
   },
   {
    "duration": 18,
    "start_time": "2021-10-30T20:27:14.763Z"
   },
   {
    "duration": 7,
    "start_time": "2021-10-30T20:27:14.786Z"
   },
   {
    "duration": 38,
    "start_time": "2021-10-30T20:27:14.796Z"
   },
   {
    "duration": 30,
    "start_time": "2021-10-30T20:27:14.837Z"
   },
   {
    "duration": 8,
    "start_time": "2021-10-30T20:27:14.870Z"
   },
   {
    "duration": 48,
    "start_time": "2021-10-30T20:27:14.881Z"
   },
   {
    "duration": 28,
    "start_time": "2021-10-30T20:27:14.932Z"
   },
   {
    "duration": 31,
    "start_time": "2021-10-30T20:27:14.963Z"
   },
   {
    "duration": 54,
    "start_time": "2021-10-30T20:27:14.997Z"
   },
   {
    "duration": 8,
    "start_time": "2021-10-30T20:27:15.054Z"
   },
   {
    "duration": 15,
    "start_time": "2021-10-30T20:27:15.065Z"
   },
   {
    "duration": 17,
    "start_time": "2021-10-30T20:27:15.083Z"
   },
   {
    "duration": 956,
    "start_time": "2021-10-30T20:27:15.103Z"
   },
   {
    "duration": 11,
    "start_time": "2021-10-30T20:27:16.062Z"
   },
   {
    "duration": 18,
    "start_time": "2021-10-30T20:27:16.077Z"
   },
   {
    "duration": 28,
    "start_time": "2021-10-30T20:27:16.102Z"
   },
   {
    "duration": 3635,
    "start_time": "2021-10-30T20:27:16.134Z"
   },
   {
    "duration": 10,
    "start_time": "2021-10-30T20:27:19.771Z"
   },
   {
    "duration": 47,
    "start_time": "2021-10-30T20:27:19.783Z"
   },
   {
    "duration": 26,
    "start_time": "2021-10-30T20:27:19.832Z"
   },
   {
    "duration": 22,
    "start_time": "2021-10-30T20:27:19.861Z"
   },
   {
    "duration": 49,
    "start_time": "2021-10-30T20:27:19.886Z"
   },
   {
    "duration": 19,
    "start_time": "2021-10-30T20:27:19.938Z"
   },
   {
    "duration": 17,
    "start_time": "2021-10-30T20:27:19.959Z"
   },
   {
    "duration": 34,
    "start_time": "2021-10-30T20:27:19.979Z"
   },
   {
    "duration": 22,
    "start_time": "2021-10-30T20:27:20.016Z"
   },
   {
    "duration": 26,
    "start_time": "2021-10-30T20:27:20.041Z"
   },
   {
    "duration": 22,
    "start_time": "2021-10-30T20:27:20.070Z"
   },
   {
    "duration": 589,
    "start_time": "2021-10-31T13:06:07.802Z"
   },
   {
    "duration": 58,
    "start_time": "2021-10-31T13:06:08.394Z"
   },
   {
    "duration": 26,
    "start_time": "2021-10-31T13:06:08.454Z"
   },
   {
    "duration": 18,
    "start_time": "2021-10-31T13:06:08.482Z"
   },
   {
    "duration": 13,
    "start_time": "2021-10-31T13:06:08.503Z"
   },
   {
    "duration": 15,
    "start_time": "2021-10-31T13:06:08.517Z"
   },
   {
    "duration": 37,
    "start_time": "2021-10-31T13:06:08.533Z"
   },
   {
    "duration": 17,
    "start_time": "2021-10-31T13:06:08.573Z"
   },
   {
    "duration": 8,
    "start_time": "2021-10-31T13:06:08.593Z"
   },
   {
    "duration": 8,
    "start_time": "2021-10-31T13:06:08.603Z"
   },
   {
    "duration": 18,
    "start_time": "2021-10-31T13:06:08.613Z"
   },
   {
    "duration": 7,
    "start_time": "2021-10-31T13:06:08.632Z"
   },
   {
    "duration": 50,
    "start_time": "2021-10-31T13:06:08.640Z"
   },
   {
    "duration": 26,
    "start_time": "2021-10-31T13:06:08.692Z"
   },
   {
    "duration": 18,
    "start_time": "2021-10-31T13:06:08.720Z"
   },
   {
    "duration": 15,
    "start_time": "2021-10-31T13:06:08.740Z"
   },
   {
    "duration": 6,
    "start_time": "2021-10-31T13:06:08.768Z"
   },
   {
    "duration": 6,
    "start_time": "2021-10-31T13:06:08.777Z"
   },
   {
    "duration": 15,
    "start_time": "2021-10-31T13:06:08.784Z"
   },
   {
    "duration": 733,
    "start_time": "2021-10-31T13:06:08.801Z"
   },
   {
    "duration": 6,
    "start_time": "2021-10-31T13:06:09.536Z"
   },
   {
    "duration": 19,
    "start_time": "2021-10-31T13:06:09.544Z"
   },
   {
    "duration": 5,
    "start_time": "2021-10-31T13:06:09.567Z"
   },
   {
    "duration": 6,
    "start_time": "2021-10-31T13:06:40.566Z"
   },
   {
    "duration": 3236,
    "start_time": "2021-10-31T13:06:42.606Z"
   },
   {
    "duration": 7,
    "start_time": "2021-10-31T13:06:45.844Z"
   },
   {
    "duration": 2294,
    "start_time": "2021-10-31T13:34:11.621Z"
   },
   {
    "duration": 68,
    "start_time": "2021-10-31T13:34:13.917Z"
   },
   {
    "duration": 34,
    "start_time": "2021-10-31T13:34:13.988Z"
   },
   {
    "duration": 16,
    "start_time": "2021-10-31T13:34:14.025Z"
   },
   {
    "duration": 16,
    "start_time": "2021-10-31T13:34:14.044Z"
   },
   {
    "duration": 58,
    "start_time": "2021-10-31T13:34:14.062Z"
   },
   {
    "duration": 9,
    "start_time": "2021-10-31T13:34:14.122Z"
   },
   {
    "duration": 8,
    "start_time": "2021-10-31T13:34:14.137Z"
   },
   {
    "duration": 6,
    "start_time": "2021-10-31T13:34:14.149Z"
   },
   {
    "duration": 46,
    "start_time": "2021-10-31T13:34:14.157Z"
   },
   {
    "duration": 17,
    "start_time": "2021-10-31T13:34:14.206Z"
   },
   {
    "duration": 7,
    "start_time": "2021-10-31T13:34:14.226Z"
   },
   {
    "duration": 16,
    "start_time": "2021-10-31T13:34:14.235Z"
   },
   {
    "duration": 63,
    "start_time": "2021-10-31T13:34:14.254Z"
   },
   {
    "duration": 28,
    "start_time": "2021-10-31T13:34:14.319Z"
   },
   {
    "duration": 23,
    "start_time": "2021-10-31T13:34:14.350Z"
   },
   {
    "duration": 28,
    "start_time": "2021-10-31T13:34:14.375Z"
   },
   {
    "duration": 3,
    "start_time": "2021-10-31T13:34:14.406Z"
   },
   {
    "duration": 11,
    "start_time": "2021-10-31T13:34:14.412Z"
   },
   {
    "duration": 1018,
    "start_time": "2021-10-31T13:34:14.425Z"
   },
   {
    "duration": 11,
    "start_time": "2021-10-31T13:34:15.446Z"
   },
   {
    "duration": 16,
    "start_time": "2021-10-31T13:34:15.460Z"
   },
   {
    "duration": 25,
    "start_time": "2021-10-31T13:34:15.481Z"
   },
   {
    "duration": 7,
    "start_time": "2021-10-31T13:34:15.510Z"
   },
   {
    "duration": 3602,
    "start_time": "2021-10-31T13:34:15.519Z"
   },
   {
    "duration": 9,
    "start_time": "2021-10-31T13:34:19.124Z"
   },
   {
    "duration": 26,
    "start_time": "2021-10-31T13:34:19.135Z"
   },
   {
    "duration": 57,
    "start_time": "2021-10-31T13:34:19.164Z"
   },
   {
    "duration": 23,
    "start_time": "2021-10-31T13:34:19.224Z"
   },
   {
    "duration": 22,
    "start_time": "2021-10-31T13:34:19.249Z"
   },
   {
    "duration": 35,
    "start_time": "2021-10-31T13:34:19.273Z"
   },
   {
    "duration": 6,
    "start_time": "2021-10-31T13:34:19.311Z"
   },
   {
    "duration": 22,
    "start_time": "2021-10-31T13:34:19.320Z"
   },
   {
    "duration": 19,
    "start_time": "2021-10-31T13:34:19.345Z"
   },
   {
    "duration": 55,
    "start_time": "2021-10-31T13:34:19.367Z"
   },
   {
    "duration": 22,
    "start_time": "2021-10-31T13:34:19.424Z"
   },
   {
    "duration": 15,
    "start_time": "2021-10-31T13:34:33.538Z"
   },
   {
    "duration": 48,
    "start_time": "2021-10-31T13:34:46.284Z"
   },
   {
    "duration": 41,
    "start_time": "2021-10-31T14:07:46.480Z"
   },
   {
    "duration": 747,
    "start_time": "2021-10-31T14:09:22.535Z"
   },
   {
    "duration": 67,
    "start_time": "2021-10-31T14:09:23.391Z"
   },
   {
    "duration": 48,
    "start_time": "2021-10-31T14:09:27.609Z"
   },
   {
    "duration": 15,
    "start_time": "2021-10-31T14:09:31.448Z"
   },
   {
    "duration": 36,
    "start_time": "2021-10-31T14:09:34.345Z"
   },
   {
    "duration": 49,
    "start_time": "2021-10-31T14:09:37.224Z"
   },
   {
    "duration": 148,
    "start_time": "2021-10-31T15:35:03.569Z"
   },
   {
    "duration": 64,
    "start_time": "2021-10-31T15:35:04.410Z"
   },
   {
    "duration": 22,
    "start_time": "2021-10-31T15:35:05.376Z"
   },
   {
    "duration": 15,
    "start_time": "2021-10-31T15:35:11.834Z"
   },
   {
    "duration": 48,
    "start_time": "2021-10-31T15:35:20.730Z"
   },
   {
    "duration": 49,
    "start_time": "2021-10-31T15:35:25.596Z"
   },
   {
    "duration": 20,
    "start_time": "2021-10-31T15:40:45.189Z"
   },
   {
    "duration": 20,
    "start_time": "2021-10-31T15:40:48.566Z"
   },
   {
    "duration": 21,
    "start_time": "2021-10-31T15:41:06.905Z"
   },
   {
    "duration": 20,
    "start_time": "2021-10-31T15:41:19.294Z"
   },
   {
    "duration": 51,
    "start_time": "2021-10-31T15:41:49.183Z"
   },
   {
    "duration": 19,
    "start_time": "2021-10-31T15:41:53.638Z"
   },
   {
    "duration": 19,
    "start_time": "2021-10-31T15:46:06.002Z"
   },
   {
    "duration": 23,
    "start_time": "2021-10-31T15:46:10.306Z"
   },
   {
    "duration": 17,
    "start_time": "2021-10-31T15:46:15.802Z"
   },
   {
    "duration": 18,
    "start_time": "2021-10-31T15:46:23.076Z"
   },
   {
    "duration": 130,
    "start_time": "2021-10-31T15:46:26.484Z"
   },
   {
    "duration": 18,
    "start_time": "2021-10-31T15:48:05.578Z"
   },
   {
    "duration": 22,
    "start_time": "2021-10-31T15:49:23.100Z"
   },
   {
    "duration": 49,
    "start_time": "2021-10-31T15:49:23.955Z"
   },
   {
    "duration": 20,
    "start_time": "2021-10-31T15:49:25.477Z"
   },
   {
    "duration": 22,
    "start_time": "2021-10-31T15:49:26.988Z"
   },
   {
    "duration": 21,
    "start_time": "2021-10-31T15:49:28.221Z"
   },
   {
    "duration": 22,
    "start_time": "2021-10-31T15:49:40.671Z"
   },
   {
    "duration": 21,
    "start_time": "2021-10-31T15:49:41.942Z"
   },
   {
    "duration": 24,
    "start_time": "2021-10-31T15:49:43.295Z"
   },
   {
    "duration": 21,
    "start_time": "2021-10-31T15:49:44.520Z"
   },
   {
    "duration": 20,
    "start_time": "2021-10-31T15:50:14.988Z"
   },
   {
    "duration": 49,
    "start_time": "2021-10-31T15:52:38.255Z"
   },
   {
    "duration": 7,
    "start_time": "2021-10-31T15:54:20.645Z"
   },
   {
    "duration": 8,
    "start_time": "2021-10-31T15:54:25.500Z"
   },
   {
    "duration": 11,
    "start_time": "2021-10-31T15:54:33.607Z"
   },
   {
    "duration": 6,
    "start_time": "2021-10-31T15:56:19.269Z"
   },
   {
    "duration": 5,
    "start_time": "2021-10-31T15:56:26.254Z"
   },
   {
    "duration": 9,
    "start_time": "2021-10-31T15:56:49.985Z"
   },
   {
    "duration": 8,
    "start_time": "2021-10-31T15:56:54.073Z"
   },
   {
    "duration": 9,
    "start_time": "2021-10-31T15:56:59.241Z"
   },
   {
    "duration": 9,
    "start_time": "2021-10-31T15:57:34.208Z"
   },
   {
    "duration": 10,
    "start_time": "2021-10-31T16:02:42.552Z"
   },
   {
    "duration": 7,
    "start_time": "2021-10-31T16:04:18.725Z"
   },
   {
    "duration": 11,
    "start_time": "2021-10-31T16:04:35.415Z"
   },
   {
    "duration": 9,
    "start_time": "2021-10-31T16:04:48.737Z"
   },
   {
    "duration": 10,
    "start_time": "2021-10-31T16:04:53.693Z"
   },
   {
    "duration": 455,
    "start_time": "2021-10-31T16:05:46.890Z"
   },
   {
    "duration": 10,
    "start_time": "2021-10-31T16:05:54.138Z"
   },
   {
    "duration": 376,
    "start_time": "2021-10-31T16:07:26.135Z"
   },
   {
    "duration": 110,
    "start_time": "2021-10-31T16:07:43.202Z"
   },
   {
    "duration": 367,
    "start_time": "2021-10-31T16:07:47.882Z"
   },
   {
    "duration": 342,
    "start_time": "2021-10-31T16:08:36.865Z"
   },
   {
    "duration": 344,
    "start_time": "2021-10-31T16:08:46.737Z"
   },
   {
    "duration": 6,
    "start_time": "2021-10-31T16:10:26.312Z"
   },
   {
    "duration": 15,
    "start_time": "2021-10-31T16:10:43.450Z"
   },
   {
    "duration": 19,
    "start_time": "2021-10-31T16:11:25.239Z"
   },
   {
    "duration": 96,
    "start_time": "2021-10-31T16:17:31.321Z"
   },
   {
    "duration": 766,
    "start_time": "2021-11-01T14:23:25.595Z"
   },
   {
    "duration": 63,
    "start_time": "2021-11-01T14:23:27.492Z"
   },
   {
    "duration": 29,
    "start_time": "2021-11-01T14:23:28.621Z"
   },
   {
    "duration": 18,
    "start_time": "2021-11-01T14:23:30.412Z"
   },
   {
    "duration": 22,
    "start_time": "2021-11-01T14:23:31.645Z"
   },
   {
    "duration": 47,
    "start_time": "2021-11-01T14:23:33.637Z"
   },
   {
    "duration": 279,
    "start_time": "2021-11-01T17:24:24.356Z"
   },
   {
    "duration": 576,
    "start_time": "2021-11-01T17:24:29.093Z"
   },
   {
    "duration": 53,
    "start_time": "2021-11-01T17:24:29.950Z"
   },
   {
    "duration": 20,
    "start_time": "2021-11-01T17:24:30.849Z"
   },
   {
    "duration": 14,
    "start_time": "2021-11-01T17:24:31.782Z"
   },
   {
    "duration": 15,
    "start_time": "2021-11-01T17:24:32.614Z"
   },
   {
    "duration": 34,
    "start_time": "2021-11-01T17:24:33.782Z"
   },
   {
    "duration": 51,
    "start_time": "2021-11-01T17:24:37.568Z"
   },
   {
    "duration": 12,
    "start_time": "2021-11-01T17:24:45.990Z"
   },
   {
    "duration": 3,
    "start_time": "2021-11-01T17:33:23.073Z"
   },
   {
    "duration": 49,
    "start_time": "2021-11-01T17:33:24.187Z"
   },
   {
    "duration": 14,
    "start_time": "2021-11-01T17:33:25.019Z"
   },
   {
    "duration": 13,
    "start_time": "2021-11-01T17:33:27.491Z"
   },
   {
    "duration": 15,
    "start_time": "2021-11-01T17:33:28.987Z"
   },
   {
    "duration": 34,
    "start_time": "2021-11-01T17:33:30.919Z"
   },
   {
    "duration": 61,
    "start_time": "2021-11-01T17:33:37.043Z"
   },
   {
    "duration": 2,
    "start_time": "2021-11-01T17:34:25.626Z"
   },
   {
    "duration": 11,
    "start_time": "2021-11-01T17:34:38.911Z"
   },
   {
    "duration": 3,
    "start_time": "2021-11-01T17:34:47.661Z"
   },
   {
    "duration": 11,
    "start_time": "2021-11-01T17:34:49.002Z"
   },
   {
    "duration": 16,
    "start_time": "2021-11-01T17:35:03.007Z"
   },
   {
    "duration": 15,
    "start_time": "2021-11-01T17:35:08.915Z"
   },
   {
    "duration": 8,
    "start_time": "2021-11-01T17:35:14.748Z"
   },
   {
    "duration": 8,
    "start_time": "2021-11-01T17:35:25.185Z"
   },
   {
    "duration": 8,
    "start_time": "2021-11-01T17:35:29.249Z"
   },
   {
    "duration": 6,
    "start_time": "2021-11-01T17:38:37.222Z"
   },
   {
    "duration": 5,
    "start_time": "2021-11-01T17:38:38.000Z"
   },
   {
    "duration": 7,
    "start_time": "2021-11-01T17:38:41.256Z"
   },
   {
    "duration": 3,
    "start_time": "2021-11-01T17:38:48.535Z"
   },
   {
    "duration": 50,
    "start_time": "2021-11-01T17:38:49.483Z"
   },
   {
    "duration": 14,
    "start_time": "2021-11-01T17:38:49.973Z"
   },
   {
    "duration": 14,
    "start_time": "2021-11-01T17:38:50.331Z"
   },
   {
    "duration": 13,
    "start_time": "2021-11-01T17:38:51.212Z"
   },
   {
    "duration": 607,
    "start_time": "2021-11-01T17:39:02.283Z"
   },
   {
    "duration": 74,
    "start_time": "2021-11-01T17:39:04.176Z"
   },
   {
    "duration": 30,
    "start_time": "2021-11-01T17:39:05.264Z"
   },
   {
    "duration": 21,
    "start_time": "2021-11-01T17:39:06.784Z"
   },
   {
    "duration": 22,
    "start_time": "2021-11-01T17:39:07.946Z"
   },
   {
    "duration": 36,
    "start_time": "2021-11-01T17:39:09.014Z"
   },
   {
    "duration": 55,
    "start_time": "2021-11-01T17:39:10.845Z"
   },
   {
    "duration": 2,
    "start_time": "2021-11-01T17:39:16.645Z"
   },
   {
    "duration": 11,
    "start_time": "2021-11-01T17:39:18.302Z"
   },
   {
    "duration": 13,
    "start_time": "2021-11-01T17:39:20.624Z"
   },
   {
    "duration": 8,
    "start_time": "2021-11-01T17:39:25.151Z"
   },
   {
    "duration": 7,
    "start_time": "2021-11-01T17:39:28.828Z"
   },
   {
    "duration": 7,
    "start_time": "2021-11-01T17:39:30.303Z"
   },
   {
    "duration": 5,
    "start_time": "2021-11-01T17:39:33.342Z"
   },
   {
    "duration": 5,
    "start_time": "2021-11-01T17:39:34.631Z"
   },
   {
    "duration": 4,
    "start_time": "2021-11-01T17:39:36.292Z"
   },
   {
    "duration": 12,
    "start_time": "2021-11-01T17:39:53.456Z"
   },
   {
    "duration": 7,
    "start_time": "2021-11-01T17:40:09.382Z"
   },
   {
    "duration": 6,
    "start_time": "2021-11-01T17:40:31.484Z"
   },
   {
    "duration": 6,
    "start_time": "2021-11-01T17:40:47.366Z"
   },
   {
    "duration": 4,
    "start_time": "2021-11-01T17:40:56.359Z"
   },
   {
    "duration": 5,
    "start_time": "2021-11-01T17:44:00.023Z"
   },
   {
    "duration": 4,
    "start_time": "2021-11-01T17:44:09.785Z"
   },
   {
    "duration": 2915,
    "start_time": "2021-11-01T17:44:54.701Z"
   },
   {
    "duration": 296,
    "start_time": "2021-11-01T17:46:53.404Z"
   },
   {
    "duration": 3170,
    "start_time": "2021-11-01T17:46:58.032Z"
   },
   {
    "duration": 9,
    "start_time": "2021-11-01T17:47:46.804Z"
   },
   {
    "duration": 74,
    "start_time": "2021-11-01T17:51:16.726Z"
   },
   {
    "duration": 2544,
    "start_time": "2021-11-01T17:51:23.270Z"
   },
   {
    "duration": 6,
    "start_time": "2021-11-01T17:51:41.008Z"
   },
   {
    "duration": 6,
    "start_time": "2021-11-01T17:51:56.388Z"
   },
   {
    "duration": 12,
    "start_time": "2021-11-01T17:52:51.344Z"
   },
   {
    "duration": 64,
    "start_time": "2021-11-01T17:55:30.321Z"
   },
   {
    "duration": 4,
    "start_time": "2021-11-01T17:56:54.253Z"
   },
   {
    "duration": 13,
    "start_time": "2021-11-01T17:57:04.718Z"
   },
   {
    "duration": 54,
    "start_time": "2021-11-01T17:58:07.727Z"
   },
   {
    "duration": 6,
    "start_time": "2021-11-01T18:00:07.354Z"
   },
   {
    "duration": 51,
    "start_time": "2021-11-01T18:00:15.392Z"
   },
   {
    "duration": 80,
    "start_time": "2021-11-01T18:01:53.802Z"
   },
   {
    "duration": 8,
    "start_time": "2021-11-01T18:01:58.398Z"
   },
   {
    "duration": 6,
    "start_time": "2021-11-01T18:02:19.235Z"
   },
   {
    "duration": 84,
    "start_time": "2021-11-01T18:02:43.663Z"
   },
   {
    "duration": 81,
    "start_time": "2021-11-01T18:03:07.026Z"
   },
   {
    "duration": 6,
    "start_time": "2021-11-01T18:04:02.368Z"
   },
   {
    "duration": 7,
    "start_time": "2021-11-01T18:04:11.536Z"
   },
   {
    "duration": 52,
    "start_time": "2021-11-01T18:04:18.188Z"
   },
   {
    "duration": 18,
    "start_time": "2021-11-01T18:08:29.182Z"
   },
   {
    "duration": 7,
    "start_time": "2021-11-01T18:08:36.360Z"
   },
   {
    "duration": 23,
    "start_time": "2021-11-01T18:08:42.529Z"
   },
   {
    "duration": 656,
    "start_time": "2021-11-01T18:09:23.896Z"
   },
   {
    "duration": 55,
    "start_time": "2021-11-01T18:09:25.103Z"
   },
   {
    "duration": 20,
    "start_time": "2021-11-01T18:09:26.132Z"
   },
   {
    "duration": 13,
    "start_time": "2021-11-01T18:09:27.334Z"
   },
   {
    "duration": 15,
    "start_time": "2021-11-01T18:09:28.396Z"
   },
   {
    "duration": 55,
    "start_time": "2021-11-01T18:09:29.319Z"
   },
   {
    "duration": 58,
    "start_time": "2021-11-01T18:09:31.171Z"
   },
   {
    "duration": 3,
    "start_time": "2021-11-01T18:09:36.616Z"
   },
   {
    "duration": 17,
    "start_time": "2021-11-01T18:09:38.009Z"
   },
   {
    "duration": 15,
    "start_time": "2021-11-01T18:09:39.279Z"
   },
   {
    "duration": 9,
    "start_time": "2021-11-01T18:09:41.405Z"
   },
   {
    "duration": 7,
    "start_time": "2021-11-01T18:09:43.628Z"
   },
   {
    "duration": 7,
    "start_time": "2021-11-01T18:09:45.693Z"
   },
   {
    "duration": 5,
    "start_time": "2021-11-01T18:09:54.884Z"
   },
   {
    "duration": 5,
    "start_time": "2021-11-01T18:10:00.578Z"
   },
   {
    "duration": 5,
    "start_time": "2021-11-01T18:10:03.232Z"
   },
   {
    "duration": 14,
    "start_time": "2021-11-01T18:10:07.380Z"
   },
   {
    "duration": 63,
    "start_time": "2021-11-01T18:10:12.748Z"
   },
   {
    "duration": 3,
    "start_time": "2021-11-01T18:10:15.192Z"
   },
   {
    "duration": 12,
    "start_time": "2021-11-01T18:10:21.778Z"
   },
   {
    "duration": 55,
    "start_time": "2021-11-01T18:10:22.767Z"
   },
   {
    "duration": 6,
    "start_time": "2021-11-01T18:10:23.739Z"
   },
   {
    "duration": 7,
    "start_time": "2021-11-01T18:10:24.181Z"
   },
   {
    "duration": 54,
    "start_time": "2021-11-01T18:10:25.152Z"
   },
   {
    "duration": 614,
    "start_time": "2021-11-01T18:11:38.884Z"
   },
   {
    "duration": 606,
    "start_time": "2021-11-01T18:11:48.127Z"
   },
   {
    "duration": 17,
    "start_time": "2021-11-01T18:19:10.388Z"
   },
   {
    "duration": 14,
    "start_time": "2021-11-01T18:19:25.070Z"
   },
   {
    "duration": 16,
    "start_time": "2021-11-01T18:20:08.472Z"
   },
   {
    "duration": 9,
    "start_time": "2021-11-01T18:20:20.902Z"
   },
   {
    "duration": 9,
    "start_time": "2021-11-01T18:20:51.165Z"
   },
   {
    "duration": 8,
    "start_time": "2021-11-01T18:20:51.811Z"
   },
   {
    "duration": 6,
    "start_time": "2021-11-01T18:25:38.956Z"
   },
   {
    "duration": 588,
    "start_time": "2021-11-01T18:25:56.873Z"
   },
   {
    "duration": 53,
    "start_time": "2021-11-01T18:25:57.664Z"
   },
   {
    "duration": 26,
    "start_time": "2021-11-01T18:25:58.460Z"
   },
   {
    "duration": 13,
    "start_time": "2021-11-01T18:26:01.537Z"
   },
   {
    "duration": 15,
    "start_time": "2021-11-01T18:26:02.948Z"
   },
   {
    "duration": 33,
    "start_time": "2021-11-01T18:26:03.871Z"
   },
   {
    "duration": 55,
    "start_time": "2021-11-01T18:26:05.468Z"
   },
   {
    "duration": 3,
    "start_time": "2021-11-01T18:26:10.760Z"
   },
   {
    "duration": 12,
    "start_time": "2021-11-01T18:26:11.906Z"
   },
   {
    "duration": 15,
    "start_time": "2021-11-01T18:26:15.333Z"
   },
   {
    "duration": 9,
    "start_time": "2021-11-01T18:26:17.695Z"
   },
   {
    "duration": 8,
    "start_time": "2021-11-01T18:26:18.949Z"
   },
   {
    "duration": 7,
    "start_time": "2021-11-01T18:26:20.580Z"
   },
   {
    "duration": 5,
    "start_time": "2021-11-01T18:26:23.816Z"
   },
   {
    "duration": 5,
    "start_time": "2021-11-01T18:26:24.444Z"
   },
   {
    "duration": 6,
    "start_time": "2021-11-01T18:26:24.790Z"
   },
   {
    "duration": 11,
    "start_time": "2021-11-01T18:26:26.865Z"
   },
   {
    "duration": 4,
    "start_time": "2021-11-01T18:26:31.595Z"
   },
   {
    "duration": 52,
    "start_time": "2021-11-01T18:26:31.997Z"
   },
   {
    "duration": 17,
    "start_time": "2021-11-01T18:27:34.746Z"
   },
   {
    "duration": 8,
    "start_time": "2021-11-01T18:27:51.470Z"
   },
   {
    "duration": 52,
    "start_time": "2021-11-01T18:31:35.855Z"
   },
   {
    "duration": 6,
    "start_time": "2021-11-01T18:31:36.694Z"
   },
   {
    "duration": 8,
    "start_time": "2021-11-01T18:31:37.334Z"
   },
   {
    "duration": 19,
    "start_time": "2021-11-01T18:31:38.905Z"
   },
   {
    "duration": 6,
    "start_time": "2021-11-01T18:32:06.983Z"
   },
   {
    "duration": 678,
    "start_time": "2021-11-01T18:34:34.572Z"
   },
   {
    "duration": 52,
    "start_time": "2021-11-01T18:34:35.573Z"
   },
   {
    "duration": 19,
    "start_time": "2021-11-01T18:34:36.345Z"
   },
   {
    "duration": 12,
    "start_time": "2021-11-01T18:34:37.607Z"
   },
   {
    "duration": 14,
    "start_time": "2021-11-01T18:34:38.184Z"
   },
   {
    "duration": 32,
    "start_time": "2021-11-01T18:34:39.144Z"
   },
   {
    "duration": 58,
    "start_time": "2021-11-01T18:34:40.818Z"
   },
   {
    "duration": 3,
    "start_time": "2021-11-01T18:34:46.693Z"
   },
   {
    "duration": 12,
    "start_time": "2021-11-01T18:34:47.942Z"
   },
   {
    "duration": 14,
    "start_time": "2021-11-01T18:34:49.244Z"
   },
   {
    "duration": 9,
    "start_time": "2021-11-01T18:34:51.479Z"
   },
   {
    "duration": 8,
    "start_time": "2021-11-01T18:34:53.355Z"
   },
   {
    "duration": 9,
    "start_time": "2021-11-01T18:34:54.323Z"
   },
   {
    "duration": 6,
    "start_time": "2021-11-01T18:34:58.550Z"
   },
   {
    "duration": 6,
    "start_time": "2021-11-01T18:34:59.014Z"
   },
   {
    "duration": 6,
    "start_time": "2021-11-01T18:34:59.873Z"
   },
   {
    "duration": 13,
    "start_time": "2021-11-01T18:35:04.239Z"
   },
   {
    "duration": 11,
    "start_time": "2021-11-01T18:35:08.112Z"
   },
   {
    "duration": 49,
    "start_time": "2021-11-01T18:35:08.800Z"
   },
   {
    "duration": 76,
    "start_time": "2021-11-01T18:35:15.319Z"
   },
   {
    "duration": 8,
    "start_time": "2021-11-01T18:35:16.207Z"
   },
   {
    "duration": 10,
    "start_time": "2021-11-01T18:35:16.725Z"
   },
   {
    "duration": 26,
    "start_time": "2021-11-01T18:35:17.231Z"
   },
   {
    "duration": 8,
    "start_time": "2021-11-01T18:35:26.881Z"
   },
   {
    "duration": 5,
    "start_time": "2021-11-01T18:35:33.583Z"
   },
   {
    "duration": 317,
    "start_time": "2021-11-01T18:36:18.023Z"
   },
   {
    "duration": 6,
    "start_time": "2021-11-01T18:36:32.729Z"
   },
   {
    "duration": 4,
    "start_time": "2021-11-01T18:37:02.474Z"
   },
   {
    "duration": 6,
    "start_time": "2021-11-01T18:37:03.103Z"
   },
   {
    "duration": 587,
    "start_time": "2021-11-01T18:37:23.806Z"
   },
   {
    "duration": 51,
    "start_time": "2021-11-01T18:37:24.693Z"
   },
   {
    "duration": 20,
    "start_time": "2021-11-01T18:37:25.144Z"
   },
   {
    "duration": 12,
    "start_time": "2021-11-01T18:37:25.735Z"
   },
   {
    "duration": 14,
    "start_time": "2021-11-01T18:37:26.014Z"
   },
   {
    "duration": 47,
    "start_time": "2021-11-01T18:37:26.342Z"
   },
   {
    "duration": 84,
    "start_time": "2021-11-01T18:37:26.819Z"
   },
   {
    "duration": 3,
    "start_time": "2021-11-01T18:37:28.557Z"
   },
   {
    "duration": 12,
    "start_time": "2021-11-01T18:37:29.382Z"
   },
   {
    "duration": 15,
    "start_time": "2021-11-01T18:37:29.713Z"
   },
   {
    "duration": 9,
    "start_time": "2021-11-01T18:37:30.787Z"
   },
   {
    "duration": 8,
    "start_time": "2021-11-01T18:37:31.282Z"
   },
   {
    "duration": 7,
    "start_time": "2021-11-01T18:37:31.911Z"
   },
   {
    "duration": 5,
    "start_time": "2021-11-01T18:37:34.385Z"
   },
   {
    "duration": 5,
    "start_time": "2021-11-01T18:37:34.561Z"
   },
   {
    "duration": 4,
    "start_time": "2021-11-01T18:37:34.736Z"
   },
   {
    "duration": 12,
    "start_time": "2021-11-01T18:37:35.905Z"
   },
   {
    "duration": 307,
    "start_time": "2021-11-01T18:37:48.164Z"
   },
   {
    "duration": 4,
    "start_time": "2021-11-01T18:38:20.139Z"
   },
   {
    "duration": 52,
    "start_time": "2021-11-01T18:38:22.166Z"
   },
   {
    "duration": 6,
    "start_time": "2021-11-01T18:38:23.224Z"
   },
   {
    "duration": 7,
    "start_time": "2021-11-01T18:38:24.095Z"
   },
   {
    "duration": 17,
    "start_time": "2021-11-01T18:38:24.539Z"
   },
   {
    "duration": 6,
    "start_time": "2021-11-01T18:38:30.938Z"
   },
   {
    "duration": 241,
    "start_time": "2021-11-01T18:38:31.802Z"
   },
   {
    "duration": 239,
    "start_time": "2021-11-01T18:38:56.277Z"
   },
   {
    "duration": 245,
    "start_time": "2021-11-01T18:39:00.828Z"
   },
   {
    "duration": 3,
    "start_time": "2021-11-01T18:39:25.880Z"
   },
   {
    "duration": 237,
    "start_time": "2021-11-01T18:39:43.955Z"
   },
   {
    "duration": 5,
    "start_time": "2021-11-01T18:40:00.054Z"
   },
   {
    "duration": 257,
    "start_time": "2021-11-01T18:40:31.655Z"
   },
   {
    "duration": 3,
    "start_time": "2021-11-01T18:40:36.099Z"
   },
   {
    "duration": 3,
    "start_time": "2021-11-01T18:40:51.163Z"
   },
   {
    "duration": 3,
    "start_time": "2021-11-01T18:41:14.957Z"
   },
   {
    "duration": 4,
    "start_time": "2021-11-01T18:41:44.731Z"
   },
   {
    "duration": 3,
    "start_time": "2021-11-01T18:41:50.792Z"
   },
   {
    "duration": 3,
    "start_time": "2021-11-01T18:42:02.652Z"
   },
   {
    "duration": 26,
    "start_time": "2021-11-01T18:42:09.913Z"
   },
   {
    "duration": 5,
    "start_time": "2021-11-01T18:45:42.114Z"
   },
   {
    "duration": 5,
    "start_time": "2021-11-01T18:45:42.518Z"
   },
   {
    "duration": 5,
    "start_time": "2021-11-01T18:46:00.949Z"
   },
   {
    "duration": 7,
    "start_time": "2021-11-01T18:49:31.643Z"
   },
   {
    "duration": 5,
    "start_time": "2021-11-01T18:49:32.475Z"
   },
   {
    "duration": 5,
    "start_time": "2021-11-01T18:57:08.326Z"
   },
   {
    "duration": 13,
    "start_time": "2021-11-01T18:57:09.526Z"
   },
   {
    "duration": 14,
    "start_time": "2021-11-01T18:57:11.397Z"
   },
   {
    "duration": 3,
    "start_time": "2021-11-01T18:58:17.001Z"
   },
   {
    "duration": 14,
    "start_time": "2021-11-01T18:58:58.100Z"
   },
   {
    "duration": 14,
    "start_time": "2021-11-01T18:59:02.129Z"
   },
   {
    "duration": 14,
    "start_time": "2021-11-01T18:59:02.978Z"
   },
   {
    "duration": 594,
    "start_time": "2021-11-01T18:59:21.058Z"
   },
   {
    "duration": 50,
    "start_time": "2021-11-01T18:59:21.653Z"
   },
   {
    "duration": 19,
    "start_time": "2021-11-01T18:59:21.844Z"
   },
   {
    "duration": 12,
    "start_time": "2021-11-01T18:59:22.410Z"
   },
   {
    "duration": 13,
    "start_time": "2021-11-01T18:59:22.937Z"
   },
   {
    "duration": 30,
    "start_time": "2021-11-01T18:59:24.066Z"
   },
   {
    "duration": 54,
    "start_time": "2021-11-01T18:59:25.267Z"
   },
   {
    "duration": 2,
    "start_time": "2021-11-01T18:59:28.339Z"
   },
   {
    "duration": 12,
    "start_time": "2021-11-01T18:59:29.199Z"
   },
   {
    "duration": 15,
    "start_time": "2021-11-01T18:59:30.173Z"
   },
   {
    "duration": 9,
    "start_time": "2021-11-01T18:59:31.199Z"
   },
   {
    "duration": 7,
    "start_time": "2021-11-01T18:59:31.777Z"
   },
   {
    "duration": 8,
    "start_time": "2021-11-01T18:59:32.632Z"
   },
   {
    "duration": 5,
    "start_time": "2021-11-01T18:59:34.644Z"
   },
   {
    "duration": 4,
    "start_time": "2021-11-01T18:59:35.078Z"
   },
   {
    "duration": 5,
    "start_time": "2021-11-01T18:59:35.767Z"
   },
   {
    "duration": 13,
    "start_time": "2021-11-01T18:59:36.918Z"
   },
   {
    "duration": 4,
    "start_time": "2021-11-01T18:59:42.801Z"
   },
   {
    "duration": 53,
    "start_time": "2021-11-01T18:59:44.104Z"
   },
   {
    "duration": 6,
    "start_time": "2021-11-01T18:59:45.559Z"
   },
   {
    "duration": 8,
    "start_time": "2021-11-01T18:59:47.923Z"
   },
   {
    "duration": 18,
    "start_time": "2021-11-01T18:59:49.053Z"
   },
   {
    "duration": 6,
    "start_time": "2021-11-01T18:59:50.066Z"
   },
   {
    "duration": 4,
    "start_time": "2021-11-01T18:59:50.885Z"
   },
   {
    "duration": 4,
    "start_time": "2021-11-01T18:59:57.133Z"
   },
   {
    "duration": 3,
    "start_time": "2021-11-01T18:59:58.191Z"
   },
   {
    "duration": 13,
    "start_time": "2021-11-01T18:59:59.831Z"
   },
   {
    "duration": 14,
    "start_time": "2021-11-01T19:00:03.676Z"
   },
   {
    "duration": 13,
    "start_time": "2021-11-01T19:00:12.512Z"
   },
   {
    "duration": 3,
    "start_time": "2021-11-01T19:00:20.916Z"
   },
   {
    "duration": 6,
    "start_time": "2021-11-01T19:00:22.818Z"
   },
   {
    "duration": 632,
    "start_time": "2021-11-01T19:00:28.212Z"
   },
   {
    "duration": 8,
    "start_time": "2021-11-01T19:00:31.382Z"
   },
   {
    "duration": 4,
    "start_time": "2021-11-01T19:00:54.590Z"
   },
   {
    "duration": 14,
    "start_time": "2021-11-01T19:01:01.260Z"
   },
   {
    "duration": 8,
    "start_time": "2021-11-01T19:01:02.468Z"
   },
   {
    "duration": 15,
    "start_time": "2021-11-01T19:01:05.706Z"
   },
   {
    "duration": 17,
    "start_time": "2021-11-01T19:01:06.637Z"
   },
   {
    "duration": 14,
    "start_time": "2021-11-01T19:01:07.396Z"
   },
   {
    "duration": 14,
    "start_time": "2021-11-01T19:01:17.599Z"
   },
   {
    "duration": 3,
    "start_time": "2021-11-01T19:05:34.935Z"
   },
   {
    "duration": 2463,
    "start_time": "2021-11-01T19:05:40.247Z"
   },
   {
    "duration": 291,
    "start_time": "2021-11-01T19:06:37.113Z"
   },
   {
    "duration": 6194,
    "start_time": "2021-11-01T19:06:45.331Z"
   },
   {
    "duration": 6316,
    "start_time": "2021-11-01T19:06:58.652Z"
   },
   {
    "duration": 4,
    "start_time": "2021-11-01T19:08:11.571Z"
   },
   {
    "duration": 25,
    "start_time": "2021-11-01T19:08:16.328Z"
   },
   {
    "duration": 3,
    "start_time": "2021-11-01T19:08:29.314Z"
   },
   {
    "duration": 248,
    "start_time": "2021-11-01T19:08:30.292Z"
   },
   {
    "duration": 240,
    "start_time": "2021-11-01T19:08:32.162Z"
   },
   {
    "duration": 1292,
    "start_time": "2021-11-01T19:09:54.717Z"
   },
   {
    "duration": 549,
    "start_time": "2021-11-01T19:12:05.799Z"
   },
   {
    "duration": 53,
    "start_time": "2021-11-01T19:12:07.851Z"
   },
   {
    "duration": 578,
    "start_time": "2021-11-01T19:12:22.885Z"
   },
   {
    "duration": 55,
    "start_time": "2021-11-01T19:12:24.563Z"
   },
   {
    "duration": 18,
    "start_time": "2021-11-01T19:12:26.350Z"
   },
   {
    "duration": 13,
    "start_time": "2021-11-01T19:12:27.542Z"
   },
   {
    "duration": 15,
    "start_time": "2021-11-01T19:12:28.472Z"
   },
   {
    "duration": 31,
    "start_time": "2021-11-01T19:12:29.312Z"
   },
   {
    "duration": 53,
    "start_time": "2021-11-01T19:12:30.397Z"
   },
   {
    "duration": 3,
    "start_time": "2021-11-01T19:12:33.807Z"
   },
   {
    "duration": 13,
    "start_time": "2021-11-01T19:12:34.824Z"
   },
   {
    "duration": 15,
    "start_time": "2021-11-01T19:12:35.916Z"
   },
   {
    "duration": 9,
    "start_time": "2021-11-01T19:12:37.086Z"
   },
   {
    "duration": 8,
    "start_time": "2021-11-01T19:12:37.803Z"
   },
   {
    "duration": 9,
    "start_time": "2021-11-01T19:12:38.127Z"
   },
   {
    "duration": 4,
    "start_time": "2021-11-01T19:12:39.203Z"
   },
   {
    "duration": 5,
    "start_time": "2021-11-01T19:12:39.366Z"
   },
   {
    "duration": 5,
    "start_time": "2021-11-01T19:12:39.892Z"
   },
   {
    "duration": 12,
    "start_time": "2021-11-01T19:12:41.052Z"
   },
   {
    "duration": 3,
    "start_time": "2021-11-01T19:12:44.259Z"
   },
   {
    "duration": 51,
    "start_time": "2021-11-01T19:13:20.807Z"
   },
   {
    "duration": 6,
    "start_time": "2021-11-01T19:13:21.868Z"
   },
   {
    "duration": 6,
    "start_time": "2021-11-01T19:13:22.608Z"
   },
   {
    "duration": 18,
    "start_time": "2021-11-01T19:13:23.313Z"
   },
   {
    "duration": 5,
    "start_time": "2021-11-01T19:13:24.345Z"
   },
   {
    "duration": 4,
    "start_time": "2021-11-01T19:13:25.019Z"
   },
   {
    "duration": 5,
    "start_time": "2021-11-01T19:13:28.462Z"
   },
   {
    "duration": 3,
    "start_time": "2021-11-01T19:13:29.414Z"
   },
   {
    "duration": 13,
    "start_time": "2021-11-01T19:13:30.532Z"
   },
   {
    "duration": 14,
    "start_time": "2021-11-01T19:13:31.895Z"
   },
   {
    "duration": 13,
    "start_time": "2021-11-01T19:13:32.734Z"
   },
   {
    "duration": 3,
    "start_time": "2021-11-01T19:13:35.120Z"
   },
   {
    "duration": 6,
    "start_time": "2021-11-01T19:13:35.679Z"
   },
   {
    "duration": 5,
    "start_time": "2021-11-01T19:13:57.879Z"
   },
   {
    "duration": 623,
    "start_time": "2021-11-01T19:13:59.370Z"
   },
   {
    "duration": 10,
    "start_time": "2021-11-01T19:14:00.736Z"
   },
   {
    "duration": 12,
    "start_time": "2021-11-01T19:14:06.349Z"
   },
   {
    "duration": 3,
    "start_time": "2021-11-01T19:14:07.765Z"
   },
   {
    "duration": 13,
    "start_time": "2021-11-01T19:14:24.665Z"
   },
   {
    "duration": 8,
    "start_time": "2021-11-01T19:14:25.888Z"
   },
   {
    "duration": 14,
    "start_time": "2021-11-01T19:14:27.533Z"
   },
   {
    "duration": 16,
    "start_time": "2021-11-01T19:14:28.870Z"
   },
   {
    "duration": 14,
    "start_time": "2021-11-01T19:14:30.632Z"
   },
   {
    "duration": 13,
    "start_time": "2021-11-01T19:14:44.657Z"
   },
   {
    "duration": 15,
    "start_time": "2021-11-01T19:14:45.677Z"
   },
   {
    "duration": 14,
    "start_time": "2021-11-01T19:14:53.987Z"
   },
   {
    "duration": 15,
    "start_time": "2021-11-01T19:15:00.784Z"
   },
   {
    "duration": 6,
    "start_time": "2021-11-01T19:15:09.574Z"
   },
   {
    "duration": 5,
    "start_time": "2021-11-01T19:15:09.817Z"
   },
   {
    "duration": 15,
    "start_time": "2021-11-01T19:15:16.731Z"
   },
   {
    "duration": 11,
    "start_time": "2021-11-01T19:15:21.609Z"
   },
   {
    "duration": 16,
    "start_time": "2021-11-01T19:15:22.041Z"
   },
   {
    "duration": 16,
    "start_time": "2021-11-01T19:15:23.980Z"
   },
   {
    "duration": 605,
    "start_time": "2021-11-01T19:26:41.775Z"
   },
   {
    "duration": 53,
    "start_time": "2021-11-01T19:26:42.382Z"
   },
   {
    "duration": 20,
    "start_time": "2021-11-01T19:26:42.437Z"
   },
   {
    "duration": 14,
    "start_time": "2021-11-01T19:26:42.459Z"
   },
   {
    "duration": 21,
    "start_time": "2021-11-01T19:26:42.475Z"
   },
   {
    "duration": 39,
    "start_time": "2021-11-01T19:26:42.497Z"
   },
   {
    "duration": 68,
    "start_time": "2021-11-01T19:26:42.538Z"
   },
   {
    "duration": 3,
    "start_time": "2021-11-01T19:26:42.609Z"
   },
   {
    "duration": 13,
    "start_time": "2021-11-01T19:26:42.614Z"
   },
   {
    "duration": 15,
    "start_time": "2021-11-01T19:26:42.629Z"
   },
   {
    "duration": 25,
    "start_time": "2021-11-01T19:26:42.645Z"
   },
   {
    "duration": 12,
    "start_time": "2021-11-01T19:26:42.672Z"
   },
   {
    "duration": 6,
    "start_time": "2021-11-01T19:26:42.686Z"
   },
   {
    "duration": 6,
    "start_time": "2021-11-01T19:26:42.694Z"
   },
   {
    "duration": 5,
    "start_time": "2021-11-01T19:26:42.702Z"
   },
   {
    "duration": 7,
    "start_time": "2021-11-01T19:26:42.708Z"
   },
   {
    "duration": 19,
    "start_time": "2021-11-01T19:26:42.717Z"
   },
   {
    "duration": 7,
    "start_time": "2021-11-01T19:26:42.737Z"
   },
   {
    "duration": 54,
    "start_time": "2021-11-01T19:26:42.764Z"
   },
   {
    "duration": 6,
    "start_time": "2021-11-01T19:26:42.820Z"
   },
   {
    "duration": 8,
    "start_time": "2021-11-01T19:26:42.828Z"
   },
   {
    "duration": 41,
    "start_time": "2021-11-01T19:26:42.837Z"
   },
   {
    "duration": 5,
    "start_time": "2021-11-01T19:26:42.882Z"
   },
   {
    "duration": 7,
    "start_time": "2021-11-01T19:26:42.888Z"
   },
   {
    "duration": 9,
    "start_time": "2021-11-01T19:26:42.896Z"
   },
   {
    "duration": 9,
    "start_time": "2021-11-01T19:26:42.906Z"
   },
   {
    "duration": 21,
    "start_time": "2021-11-01T19:26:42.917Z"
   },
   {
    "duration": 29,
    "start_time": "2021-11-01T19:26:42.940Z"
   },
   {
    "duration": 12,
    "start_time": "2021-11-01T19:26:42.970Z"
   },
   {
    "duration": 2,
    "start_time": "2021-11-01T19:26:42.984Z"
   },
   {
    "duration": 11,
    "start_time": "2021-11-01T19:26:42.987Z"
   },
   {
    "duration": 652,
    "start_time": "2021-11-01T19:26:42.999Z"
   },
   {
    "duration": 11,
    "start_time": "2021-11-01T19:26:43.653Z"
   },
   {
    "duration": 11,
    "start_time": "2021-11-01T19:26:43.666Z"
   },
   {
    "duration": 8,
    "start_time": "2021-11-01T19:26:43.679Z"
   },
   {
    "duration": 28,
    "start_time": "2021-11-01T19:26:43.688Z"
   },
   {
    "duration": 18,
    "start_time": "2021-11-01T19:26:43.718Z"
   },
   {
    "duration": 19,
    "start_time": "2021-11-01T19:26:43.738Z"
   },
   {
    "duration": 21,
    "start_time": "2021-11-01T19:26:43.759Z"
   },
   {
    "duration": 14,
    "start_time": "2021-11-01T19:26:43.782Z"
   },
   {
    "duration": 14,
    "start_time": "2021-11-01T19:26:43.797Z"
   },
   {
    "duration": 15,
    "start_time": "2021-11-01T19:26:43.813Z"
   },
   {
    "duration": 9,
    "start_time": "2021-11-01T19:26:43.829Z"
   },
   {
    "duration": 25,
    "start_time": "2021-11-01T19:26:43.839Z"
   },
   {
    "duration": 9,
    "start_time": "2021-11-01T19:26:43.865Z"
   },
   {
    "duration": 17,
    "start_time": "2021-11-01T19:26:43.876Z"
   },
   {
    "duration": 23,
    "start_time": "2021-11-01T19:26:43.895Z"
   },
   {
    "duration": 83,
    "start_time": "2021-11-01T19:34:58.385Z"
   },
   {
    "duration": 4,
    "start_time": "2021-11-01T19:35:43.526Z"
   },
   {
    "duration": 7,
    "start_time": "2021-11-01T19:35:54.585Z"
   },
   {
    "duration": 2512,
    "start_time": "2021-11-01T19:36:29.860Z"
   },
   {
    "duration": 657,
    "start_time": "2021-11-01T19:38:04.478Z"
   },
   {
    "duration": 54,
    "start_time": "2021-11-01T19:38:05.137Z"
   },
   {
    "duration": 19,
    "start_time": "2021-11-01T19:38:05.193Z"
   },
   {
    "duration": 17,
    "start_time": "2021-11-01T19:38:05.214Z"
   },
   {
    "duration": 16,
    "start_time": "2021-11-01T19:38:05.233Z"
   },
   {
    "duration": 41,
    "start_time": "2021-11-01T19:38:05.251Z"
   },
   {
    "duration": 70,
    "start_time": "2021-11-01T19:38:05.294Z"
   },
   {
    "duration": 2,
    "start_time": "2021-11-01T19:38:05.367Z"
   },
   {
    "duration": 15,
    "start_time": "2021-11-01T19:38:05.371Z"
   },
   {
    "duration": 14,
    "start_time": "2021-11-01T19:38:05.388Z"
   },
   {
    "duration": 10,
    "start_time": "2021-11-01T19:38:05.403Z"
   },
   {
    "duration": 10,
    "start_time": "2021-11-01T19:38:05.414Z"
   },
   {
    "duration": 8,
    "start_time": "2021-11-01T19:38:05.426Z"
   },
   {
    "duration": 29,
    "start_time": "2021-11-01T19:38:05.435Z"
   },
   {
    "duration": 8,
    "start_time": "2021-11-01T19:38:05.466Z"
   },
   {
    "duration": 10,
    "start_time": "2021-11-01T19:38:05.475Z"
   },
   {
    "duration": 21,
    "start_time": "2021-11-01T19:38:05.487Z"
   },
   {
    "duration": 4,
    "start_time": "2021-11-01T19:38:05.510Z"
   },
   {
    "duration": 58,
    "start_time": "2021-11-01T19:38:05.515Z"
   },
   {
    "duration": 6,
    "start_time": "2021-11-01T19:38:05.574Z"
   },
   {
    "duration": 13,
    "start_time": "2021-11-01T19:38:05.581Z"
   },
   {
    "duration": 16,
    "start_time": "2021-11-01T19:38:05.595Z"
   },
   {
    "duration": 4,
    "start_time": "2021-11-01T19:38:05.614Z"
   },
   {
    "duration": 10,
    "start_time": "2021-11-01T19:38:05.620Z"
   },
   {
    "duration": 10,
    "start_time": "2021-11-01T19:38:05.632Z"
   },
   {
    "duration": 9,
    "start_time": "2021-11-01T19:38:05.644Z"
   },
   {
    "duration": 19,
    "start_time": "2021-11-01T19:38:05.664Z"
   },
   {
    "duration": 13,
    "start_time": "2021-11-01T19:38:05.685Z"
   },
   {
    "duration": 10,
    "start_time": "2021-11-01T19:38:05.700Z"
   },
   {
    "duration": 2,
    "start_time": "2021-11-01T19:38:05.712Z"
   },
   {
    "duration": 10,
    "start_time": "2021-11-01T19:38:05.716Z"
   },
   {
    "duration": 682,
    "start_time": "2021-11-01T19:38:05.728Z"
   },
   {
    "duration": 7,
    "start_time": "2021-11-01T19:38:06.412Z"
   },
   {
    "duration": 13,
    "start_time": "2021-11-01T19:38:06.420Z"
   },
   {
    "duration": 4,
    "start_time": "2021-11-01T19:38:06.434Z"
   },
   {
    "duration": 30,
    "start_time": "2021-11-01T19:38:06.440Z"
   },
   {
    "duration": 9,
    "start_time": "2021-11-01T19:38:06.472Z"
   },
   {
    "duration": 25,
    "start_time": "2021-11-01T19:38:06.482Z"
   },
   {
    "duration": 17,
    "start_time": "2021-11-01T19:38:06.509Z"
   },
   {
    "duration": 13,
    "start_time": "2021-11-01T19:38:06.528Z"
   },
   {
    "duration": 31,
    "start_time": "2021-11-01T19:38:06.543Z"
   },
   {
    "duration": 22,
    "start_time": "2021-11-01T19:38:06.576Z"
   },
   {
    "duration": 589,
    "start_time": "2021-11-01T19:39:57.281Z"
   },
   {
    "duration": 52,
    "start_time": "2021-11-01T19:39:57.872Z"
   },
   {
    "duration": 18,
    "start_time": "2021-11-01T19:39:57.926Z"
   },
   {
    "duration": 18,
    "start_time": "2021-11-01T19:39:57.946Z"
   },
   {
    "duration": 13,
    "start_time": "2021-11-01T19:39:57.965Z"
   },
   {
    "duration": 32,
    "start_time": "2021-11-01T19:39:57.980Z"
   },
   {
    "duration": 78,
    "start_time": "2021-11-01T19:39:58.013Z"
   },
   {
    "duration": 3,
    "start_time": "2021-11-01T19:39:58.095Z"
   },
   {
    "duration": 15,
    "start_time": "2021-11-01T19:39:58.100Z"
   },
   {
    "duration": 15,
    "start_time": "2021-11-01T19:39:58.117Z"
   },
   {
    "duration": 31,
    "start_time": "2021-11-01T19:39:58.134Z"
   },
   {
    "duration": 7,
    "start_time": "2021-11-01T19:39:58.167Z"
   },
   {
    "duration": 12,
    "start_time": "2021-11-01T19:39:58.176Z"
   },
   {
    "duration": 7,
    "start_time": "2021-11-01T19:39:58.190Z"
   },
   {
    "duration": 14,
    "start_time": "2021-11-01T19:39:58.198Z"
   },
   {
    "duration": 5,
    "start_time": "2021-11-01T19:39:58.214Z"
   },
   {
    "duration": 20,
    "start_time": "2021-11-01T19:39:58.220Z"
   },
   {
    "duration": 21,
    "start_time": "2021-11-01T19:39:58.242Z"
   },
   {
    "duration": 50,
    "start_time": "2021-11-01T19:39:58.265Z"
   },
   {
    "duration": 9,
    "start_time": "2021-11-01T19:39:58.317Z"
   },
   {
    "duration": 11,
    "start_time": "2021-11-01T19:39:58.328Z"
   },
   {
    "duration": 30,
    "start_time": "2021-11-01T19:39:58.340Z"
   },
   {
    "duration": 5,
    "start_time": "2021-11-01T19:39:58.373Z"
   },
   {
    "duration": 10,
    "start_time": "2021-11-01T19:39:58.380Z"
   },
   {
    "duration": 10,
    "start_time": "2021-11-01T19:39:58.392Z"
   },
   {
    "duration": 18,
    "start_time": "2021-11-01T19:39:58.404Z"
   },
   {
    "duration": 20,
    "start_time": "2021-11-01T19:39:58.424Z"
   },
   {
    "duration": 12,
    "start_time": "2021-11-01T19:39:58.446Z"
   },
   {
    "duration": 11,
    "start_time": "2021-11-01T19:39:58.460Z"
   },
   {
    "duration": 3,
    "start_time": "2021-11-01T19:39:58.473Z"
   },
   {
    "duration": 12,
    "start_time": "2021-11-01T19:39:58.477Z"
   },
   {
    "duration": 648,
    "start_time": "2021-11-01T19:39:58.491Z"
   },
   {
    "duration": 7,
    "start_time": "2021-11-01T19:39:59.141Z"
   },
   {
    "duration": 16,
    "start_time": "2021-11-01T19:39:59.150Z"
   },
   {
    "duration": 6,
    "start_time": "2021-11-01T19:39:59.167Z"
   },
   {
    "duration": 23,
    "start_time": "2021-11-01T19:39:59.175Z"
   },
   {
    "duration": 16,
    "start_time": "2021-11-01T19:39:59.199Z"
   },
   {
    "duration": 34,
    "start_time": "2021-11-01T19:39:59.216Z"
   },
   {
    "duration": 15,
    "start_time": "2021-11-01T19:39:59.251Z"
   },
   {
    "duration": 12,
    "start_time": "2021-11-01T19:39:59.267Z"
   },
   {
    "duration": 12,
    "start_time": "2021-11-01T19:39:59.281Z"
   },
   {
    "duration": 10,
    "start_time": "2021-11-01T19:39:59.295Z"
   },
   {
    "duration": 15,
    "start_time": "2021-11-01T19:39:59.307Z"
   },
   {
    "duration": 16,
    "start_time": "2021-11-01T19:39:59.323Z"
   },
   {
    "duration": 24,
    "start_time": "2021-11-01T19:39:59.340Z"
   },
   {
    "duration": 9,
    "start_time": "2021-11-01T19:39:59.366Z"
   },
   {
    "duration": 18,
    "start_time": "2021-11-01T19:39:59.377Z"
   },
   {
    "duration": 16,
    "start_time": "2021-11-01T19:39:59.397Z"
   },
   {
    "duration": 5,
    "start_time": "2021-11-01T19:40:34.938Z"
   },
   {
    "duration": 29,
    "start_time": "2021-11-01T19:40:43.867Z"
   },
   {
    "duration": 30,
    "start_time": "2021-11-01T19:41:01.201Z"
   },
   {
    "duration": 85,
    "start_time": "2021-11-01T19:41:17.062Z"
   },
   {
    "duration": 29,
    "start_time": "2021-11-01T19:41:22.404Z"
   },
   {
    "duration": 28,
    "start_time": "2021-11-01T19:41:30.127Z"
   },
   {
    "duration": 598,
    "start_time": "2021-11-01T19:42:45.260Z"
   },
   {
    "duration": 51,
    "start_time": "2021-11-01T19:42:45.860Z"
   },
   {
    "duration": 18,
    "start_time": "2021-11-01T19:42:45.913Z"
   },
   {
    "duration": 15,
    "start_time": "2021-11-01T19:42:45.932Z"
   },
   {
    "duration": 20,
    "start_time": "2021-11-01T19:42:45.948Z"
   },
   {
    "duration": 35,
    "start_time": "2021-11-01T19:42:45.969Z"
   },
   {
    "duration": 68,
    "start_time": "2021-11-01T19:42:46.005Z"
   },
   {
    "duration": 3,
    "start_time": "2021-11-01T19:42:46.076Z"
   },
   {
    "duration": 14,
    "start_time": "2021-11-01T19:42:46.081Z"
   },
   {
    "duration": 15,
    "start_time": "2021-11-01T19:42:46.097Z"
   },
   {
    "duration": 9,
    "start_time": "2021-11-01T19:42:46.114Z"
   },
   {
    "duration": 41,
    "start_time": "2021-11-01T19:42:46.125Z"
   },
   {
    "duration": 8,
    "start_time": "2021-11-01T19:42:46.168Z"
   },
   {
    "duration": 8,
    "start_time": "2021-11-01T19:42:46.178Z"
   },
   {
    "duration": 7,
    "start_time": "2021-11-01T19:42:46.188Z"
   },
   {
    "duration": 6,
    "start_time": "2021-11-01T19:42:46.197Z"
   },
   {
    "duration": 20,
    "start_time": "2021-11-01T19:42:46.204Z"
   },
   {
    "duration": 3,
    "start_time": "2021-11-01T19:42:46.226Z"
   },
   {
    "duration": 71,
    "start_time": "2021-11-01T19:42:46.230Z"
   },
   {
    "duration": 5,
    "start_time": "2021-11-01T19:42:46.303Z"
   },
   {
    "duration": 7,
    "start_time": "2021-11-01T19:42:46.310Z"
   },
   {
    "duration": 15,
    "start_time": "2021-11-01T19:42:46.319Z"
   },
   {
    "duration": 26,
    "start_time": "2021-11-01T19:42:46.338Z"
   },
   {
    "duration": 2,
    "start_time": "2021-11-01T19:42:46.367Z"
   },
   {
    "duration": 7,
    "start_time": "2021-11-01T19:42:46.371Z"
   },
   {
    "duration": 7,
    "start_time": "2021-11-01T19:42:46.380Z"
   },
   {
    "duration": 17,
    "start_time": "2021-11-01T19:42:46.389Z"
   },
   {
    "duration": 11,
    "start_time": "2021-11-01T19:42:46.408Z"
   },
   {
    "duration": 11,
    "start_time": "2021-11-01T19:42:46.421Z"
   },
   {
    "duration": 3,
    "start_time": "2021-11-01T19:42:46.433Z"
   },
   {
    "duration": 31,
    "start_time": "2021-11-01T19:42:46.437Z"
   },
   {
    "duration": 635,
    "start_time": "2021-11-01T19:42:46.470Z"
   },
   {
    "duration": 7,
    "start_time": "2021-11-01T19:42:47.107Z"
   },
   {
    "duration": 14,
    "start_time": "2021-11-01T19:42:47.116Z"
   },
   {
    "duration": 4,
    "start_time": "2021-11-01T19:42:47.131Z"
   },
   {
    "duration": 27,
    "start_time": "2021-11-01T19:42:47.136Z"
   },
   {
    "duration": 7,
    "start_time": "2021-11-01T19:42:47.165Z"
   },
   {
    "duration": 23,
    "start_time": "2021-11-01T19:42:47.174Z"
   },
   {
    "duration": 14,
    "start_time": "2021-11-01T19:42:47.198Z"
   },
   {
    "duration": 12,
    "start_time": "2021-11-01T19:42:47.214Z"
   },
   {
    "duration": 36,
    "start_time": "2021-11-01T19:42:47.228Z"
   },
   {
    "duration": 27,
    "start_time": "2021-11-01T19:42:47.266Z"
   },
   {
    "duration": 6,
    "start_time": "2021-11-01T19:42:47.295Z"
   },
   {
    "duration": 7,
    "start_time": "2021-11-01T19:42:47.303Z"
   },
   {
    "duration": 20,
    "start_time": "2021-11-01T19:42:47.311Z"
   },
   {
    "duration": 34,
    "start_time": "2021-11-01T19:42:47.333Z"
   },
   {
    "duration": 17,
    "start_time": "2021-11-01T19:42:47.368Z"
   },
   {
    "duration": 15,
    "start_time": "2021-11-01T19:42:47.387Z"
   },
   {
    "duration": 78,
    "start_time": "2021-11-01T19:44:02.993Z"
   },
   {
    "duration": 3,
    "start_time": "2021-11-01T19:44:08.380Z"
   },
   {
    "duration": 10,
    "start_time": "2021-11-01T19:44:32.606Z"
   },
   {
    "duration": 28,
    "start_time": "2021-11-01T19:44:37.687Z"
   },
   {
    "duration": 3,
    "start_time": "2021-11-01T19:46:04.077Z"
   },
   {
    "duration": 10,
    "start_time": "2021-11-01T19:46:28.732Z"
   },
   {
    "duration": 9,
    "start_time": "2021-11-01T19:46:30.555Z"
   },
   {
    "duration": 36,
    "start_time": "2021-11-01T19:46:34.420Z"
   },
   {
    "duration": 13,
    "start_time": "2021-11-01T19:46:53.070Z"
   },
   {
    "duration": 2,
    "start_time": "2021-11-01T19:48:14.555Z"
   },
   {
    "duration": 10,
    "start_time": "2021-11-01T19:48:50.885Z"
   },
   {
    "duration": 13,
    "start_time": "2021-11-01T19:48:53.525Z"
   },
   {
    "duration": 647,
    "start_time": "2021-11-01T19:51:09.780Z"
   },
   {
    "duration": 55,
    "start_time": "2021-11-01T19:51:10.429Z"
   },
   {
    "duration": 20,
    "start_time": "2021-11-01T19:51:10.485Z"
   },
   {
    "duration": 13,
    "start_time": "2021-11-01T19:51:10.506Z"
   },
   {
    "duration": 20,
    "start_time": "2021-11-01T19:51:10.520Z"
   },
   {
    "duration": 50,
    "start_time": "2021-11-01T19:51:10.541Z"
   },
   {
    "duration": 71,
    "start_time": "2021-11-01T19:51:10.592Z"
   },
   {
    "duration": 3,
    "start_time": "2021-11-01T19:51:10.666Z"
   },
   {
    "duration": 14,
    "start_time": "2021-11-01T19:51:10.671Z"
   },
   {
    "duration": 14,
    "start_time": "2021-11-01T19:51:10.687Z"
   },
   {
    "duration": 8,
    "start_time": "2021-11-01T19:51:10.704Z"
   },
   {
    "duration": 10,
    "start_time": "2021-11-01T19:51:10.714Z"
   },
   {
    "duration": 40,
    "start_time": "2021-11-01T19:51:10.725Z"
   },
   {
    "duration": 15,
    "start_time": "2021-11-01T19:51:10.767Z"
   },
   {
    "duration": 6,
    "start_time": "2021-11-01T19:51:10.783Z"
   },
   {
    "duration": 11,
    "start_time": "2021-11-01T19:51:10.791Z"
   },
   {
    "duration": 22,
    "start_time": "2021-11-01T19:51:10.804Z"
   },
   {
    "duration": 5,
    "start_time": "2021-11-01T19:51:10.828Z"
   },
   {
    "duration": 59,
    "start_time": "2021-11-01T19:51:10.835Z"
   },
   {
    "duration": 6,
    "start_time": "2021-11-01T19:51:10.896Z"
   },
   {
    "duration": 7,
    "start_time": "2021-11-01T19:51:10.904Z"
   },
   {
    "duration": 19,
    "start_time": "2021-11-01T19:51:10.912Z"
   },
   {
    "duration": 4,
    "start_time": "2021-11-01T19:51:10.935Z"
   },
   {
    "duration": 24,
    "start_time": "2021-11-01T19:51:10.941Z"
   },
   {
    "duration": 9,
    "start_time": "2021-11-01T19:51:10.967Z"
   },
   {
    "duration": 10,
    "start_time": "2021-11-01T19:51:10.977Z"
   },
   {
    "duration": 20,
    "start_time": "2021-11-01T19:51:10.988Z"
   },
   {
    "duration": 15,
    "start_time": "2021-11-01T19:51:11.009Z"
   },
   {
    "duration": 13,
    "start_time": "2021-11-01T19:51:11.025Z"
   },
   {
    "duration": 3,
    "start_time": "2021-11-01T19:51:11.039Z"
   },
   {
    "duration": 5,
    "start_time": "2021-11-01T19:51:11.064Z"
   },
   {
    "duration": 652,
    "start_time": "2021-11-01T19:51:11.071Z"
   },
   {
    "duration": 6,
    "start_time": "2021-11-01T19:51:11.725Z"
   },
   {
    "duration": 9,
    "start_time": "2021-11-01T19:51:11.733Z"
   },
   {
    "duration": 7,
    "start_time": "2021-11-01T19:51:11.744Z"
   },
   {
    "duration": 11,
    "start_time": "2021-11-01T19:51:11.764Z"
   },
   {
    "duration": 7,
    "start_time": "2021-11-01T19:51:11.777Z"
   },
   {
    "duration": 21,
    "start_time": "2021-11-01T19:51:11.786Z"
   },
   {
    "duration": 16,
    "start_time": "2021-11-01T19:51:11.808Z"
   },
   {
    "duration": 38,
    "start_time": "2021-11-01T19:51:11.826Z"
   },
   {
    "duration": 3,
    "start_time": "2021-11-01T19:51:11.866Z"
   },
   {
    "duration": 19,
    "start_time": "2021-11-01T19:51:11.870Z"
   },
   {
    "duration": 17,
    "start_time": "2021-11-01T19:51:11.891Z"
   },
   {
    "duration": 15,
    "start_time": "2021-11-01T19:51:11.910Z"
   },
   {
    "duration": 9,
    "start_time": "2021-11-01T19:51:11.927Z"
   },
   {
    "duration": 41,
    "start_time": "2021-11-01T19:51:11.938Z"
   },
   {
    "duration": 14,
    "start_time": "2021-11-01T19:51:11.981Z"
   },
   {
    "duration": 581,
    "start_time": "2021-11-01T19:55:22.416Z"
   },
   {
    "duration": 56,
    "start_time": "2021-11-01T19:55:22.999Z"
   },
   {
    "duration": 19,
    "start_time": "2021-11-01T19:55:23.057Z"
   },
   {
    "duration": 17,
    "start_time": "2021-11-01T19:55:23.078Z"
   },
   {
    "duration": 14,
    "start_time": "2021-11-01T19:55:23.097Z"
   },
   {
    "duration": 31,
    "start_time": "2021-11-01T19:55:23.113Z"
   },
   {
    "duration": 67,
    "start_time": "2021-11-01T19:55:23.146Z"
   },
   {
    "duration": 2,
    "start_time": "2021-11-01T19:55:23.216Z"
   },
   {
    "duration": 14,
    "start_time": "2021-11-01T19:55:23.220Z"
   },
   {
    "duration": 40,
    "start_time": "2021-11-01T19:55:23.235Z"
   },
   {
    "duration": 8,
    "start_time": "2021-11-01T19:55:23.277Z"
   },
   {
    "duration": 10,
    "start_time": "2021-11-01T19:55:23.287Z"
   },
   {
    "duration": 20,
    "start_time": "2021-11-01T19:55:23.299Z"
   },
   {
    "duration": 5,
    "start_time": "2021-11-01T19:55:23.320Z"
   },
   {
    "duration": 6,
    "start_time": "2021-11-01T19:55:23.327Z"
   },
   {
    "duration": 7,
    "start_time": "2021-11-01T19:55:23.335Z"
   },
   {
    "duration": 11,
    "start_time": "2021-11-01T19:55:23.364Z"
   },
   {
    "duration": 3,
    "start_time": "2021-11-01T19:55:23.377Z"
   },
   {
    "duration": 57,
    "start_time": "2021-11-01T19:55:23.382Z"
   },
   {
    "duration": 23,
    "start_time": "2021-11-01T19:55:23.441Z"
   },
   {
    "duration": 7,
    "start_time": "2021-11-01T19:55:23.466Z"
   },
   {
    "duration": 24,
    "start_time": "2021-11-01T19:55:23.475Z"
   },
   {
    "duration": 5,
    "start_time": "2021-11-01T19:55:23.502Z"
   },
   {
    "duration": 11,
    "start_time": "2021-11-01T19:55:23.509Z"
   },
   {
    "duration": 9,
    "start_time": "2021-11-01T19:55:23.522Z"
   },
   {
    "duration": 8,
    "start_time": "2021-11-01T19:55:23.532Z"
   },
   {
    "duration": 26,
    "start_time": "2021-11-01T19:55:23.542Z"
   },
   {
    "duration": 13,
    "start_time": "2021-11-01T19:55:23.570Z"
   },
   {
    "duration": 11,
    "start_time": "2021-11-01T19:55:23.585Z"
   },
   {
    "duration": 2,
    "start_time": "2021-11-01T19:55:23.598Z"
   },
   {
    "duration": 10,
    "start_time": "2021-11-01T19:55:23.601Z"
   },
   {
    "duration": 680,
    "start_time": "2021-11-01T19:55:23.613Z"
   },
   {
    "duration": 8,
    "start_time": "2021-11-01T19:55:24.295Z"
   },
   {
    "duration": 11,
    "start_time": "2021-11-01T19:55:24.304Z"
   },
   {
    "duration": 4,
    "start_time": "2021-11-01T19:55:24.317Z"
   },
   {
    "duration": 14,
    "start_time": "2021-11-01T19:55:24.322Z"
   },
   {
    "duration": 29,
    "start_time": "2021-11-01T19:55:24.338Z"
   },
   {
    "duration": 18,
    "start_time": "2021-11-01T19:55:24.369Z"
   },
   {
    "duration": 18,
    "start_time": "2021-11-01T19:55:24.389Z"
   },
   {
    "duration": 16,
    "start_time": "2021-11-01T19:55:24.409Z"
   },
   {
    "duration": 36,
    "start_time": "2021-11-01T19:55:24.427Z"
   },
   {
    "duration": 11,
    "start_time": "2021-11-01T19:55:24.465Z"
   },
   {
    "duration": 20,
    "start_time": "2021-11-01T19:55:24.478Z"
   },
   {
    "duration": 16,
    "start_time": "2021-11-01T19:55:24.500Z"
   },
   {
    "duration": 15,
    "start_time": "2021-11-01T19:55:24.518Z"
   },
   {
    "duration": 42,
    "start_time": "2021-11-01T19:55:24.535Z"
   },
   {
    "duration": 13,
    "start_time": "2021-11-01T19:55:24.579Z"
   }
  ],
  "kernelspec": {
   "display_name": "Python 3 (ipykernel)",
   "language": "python",
   "name": "python3"
  },
  "language_info": {
   "codemirror_mode": {
    "name": "ipython",
    "version": 3
   },
   "file_extension": ".py",
   "mimetype": "text/x-python",
   "name": "python",
   "nbconvert_exporter": "python",
   "pygments_lexer": "ipython3",
   "version": "3.9.7"
  },
  "toc": {
   "base_numbering": 1,
   "nav_menu": {},
   "number_sections": true,
   "sideBar": true,
   "skip_h1_title": true,
   "title_cell": "Оглавление",
   "title_sidebar": "Оглавление",
   "toc_cell": true,
   "toc_position": {
    "height": "calc(100% - 180px)",
    "left": "10px",
    "top": "150px",
    "width": "165px"
   },
   "toc_section_display": true,
   "toc_window_display": true
  }
 },
 "nbformat": 4,
 "nbformat_minor": 4
}
