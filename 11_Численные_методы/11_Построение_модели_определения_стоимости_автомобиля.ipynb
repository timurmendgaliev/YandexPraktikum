{
 "cells": [
  {
   "cell_type": "markdown",
   "metadata": {},
   "source": [
    "# Определение стоимости автомобилей"
   ]
  },
  {
   "cell_type": "markdown",
   "metadata": {},
   "source": [
    "Сервис по продаже автомобилей с пробегом «Не бит, не крашен» разрабатывает приложение для привлечения новых клиентов. В нём можно быстро узнать рыночную стоимость своего автомобиля. В нашем распоряжении исторические данные: технические характеристики, комплектации и цены автомобилей. Необходимо построить модель для определения стоимости. \n",
    "\n",
    "Основные факторы при выборе модели:\n",
    "\n",
    "- качество предсказания;\n",
    "- скорость предсказания;\n",
    "- время обучения."
   ]
  },
  {
   "cell_type": "markdown",
   "metadata": {
    "toc": true
   },
   "source": [
    "<h1>Содержание<span class=\"tocSkip\"></span></h1>\n",
    "<div class=\"toc\"><ul class=\"toc-item\"><li><span><a href=\"#Подготовка-данных\" data-toc-modified-id=\"Подготовка-данных-1\"><span class=\"toc-item-num\">1&nbsp;&nbsp;</span>Подготовка данных</a></span><ul class=\"toc-item\"><li><span><a href=\"#Вывод\" data-toc-modified-id=\"Вывод-1.1\"><span class=\"toc-item-num\">1.1&nbsp;&nbsp;</span>Вывод</a></span></li></ul></li><li><span><a href=\"#Анализ-моделей\" data-toc-modified-id=\"Анализ-моделей-2\"><span class=\"toc-item-num\">2&nbsp;&nbsp;</span>Анализ моделей</a></span><ul class=\"toc-item\"><li><span><a href=\"#Линейная-регрессия\" data-toc-modified-id=\"Линейная-регрессия-2.1\"><span class=\"toc-item-num\">2.1&nbsp;&nbsp;</span>Линейная регрессия</a></span></li><li><span><a href=\"#Решающее-дерево\" data-toc-modified-id=\"Решающее-дерево-2.2\"><span class=\"toc-item-num\">2.2&nbsp;&nbsp;</span>Решающее дерево</a></span></li><li><span><a href=\"#Случайный-лес\" data-toc-modified-id=\"Случайный-лес-2.3\"><span class=\"toc-item-num\">2.3&nbsp;&nbsp;</span>Случайный лес</a></span></li><li><span><a href=\"#LightGBM\" data-toc-modified-id=\"LightGBM-2.4\"><span class=\"toc-item-num\">2.4&nbsp;&nbsp;</span>LightGBM</a></span></li><li><span><a href=\"#CatBoost\" data-toc-modified-id=\"CatBoost-2.5\"><span class=\"toc-item-num\">2.5&nbsp;&nbsp;</span>CatBoost</a></span></li><li><span><a href=\"#Проверка-на-тестовых-данных\" data-toc-modified-id=\"Проверка-на-тестовых-данных-2.6\"><span class=\"toc-item-num\">2.6&nbsp;&nbsp;</span>Проверка на тестовых данных</a></span></li><li><span><a href=\"#Вывод\" data-toc-modified-id=\"Вывод-2.7\"><span class=\"toc-item-num\">2.7&nbsp;&nbsp;</span>Вывод</a></span></li></ul></li><li><span><a href=\"#Итоговый-вывод\" data-toc-modified-id=\"Итоговый-вывод-3\"><span class=\"toc-item-num\">3&nbsp;&nbsp;</span>Итоговый вывод</a></span></li></ul></div>"
   ]
  },
  {
   "cell_type": "markdown",
   "metadata": {},
   "source": [
    "## Подготовка данных"
   ]
  },
  {
   "cell_type": "code",
   "execution_count": 1,
   "metadata": {},
   "outputs": [],
   "source": [
    "import pandas as pd\n",
    "import numpy as np\n",
    "import matplotlib.pyplot as plt\n",
    "import seaborn as sns\n",
    "import warnings\n",
    "from sklearn.model_selection import train_test_split, cross_val_score, GridSearchCV\n",
    "from sklearn.tree import DecisionTreeRegressor\n",
    "from sklearn.ensemble import RandomForestRegressor\n",
    "from sklearn.metrics import mean_squared_error, make_scorer\n",
    "from sklearn.linear_model import LinearRegression\n",
    "from sklearn.dummy import DummyRegressor\n",
    "from catboost import CatBoostRegressor, Pool, cv\n",
    "from lightgbm import LGBMRegressor\n",
    "RS = 12345\n",
    "\n",
    "warnings.filterwarnings('ignore')\n",
    "sns.set_style()\n",
    "sns.set(color_codes=True)\n",
    "plt.rcParams['figure.figsize'] = 10.0, 6.0"
   ]
  },
  {
   "cell_type": "code",
   "execution_count": 2,
   "metadata": {},
   "outputs": [],
   "source": [
    "df = pd.read_csv('/datasets/autos.csv')"
   ]
  },
  {
   "cell_type": "markdown",
   "metadata": {},
   "source": [
    "Рассмотрим первые 5 строк в таблице:"
   ]
  },
  {
   "cell_type": "code",
   "execution_count": 3,
   "metadata": {},
   "outputs": [
    {
     "data": {
      "text/html": [
       "<div>\n",
       "<style scoped>\n",
       "    .dataframe tbody tr th:only-of-type {\n",
       "        vertical-align: middle;\n",
       "    }\n",
       "\n",
       "    .dataframe tbody tr th {\n",
       "        vertical-align: top;\n",
       "    }\n",
       "\n",
       "    .dataframe thead th {\n",
       "        text-align: right;\n",
       "    }\n",
       "</style>\n",
       "<table border=\"1\" class=\"dataframe\">\n",
       "  <thead>\n",
       "    <tr style=\"text-align: right;\">\n",
       "      <th></th>\n",
       "      <th>DateCrawled</th>\n",
       "      <th>Price</th>\n",
       "      <th>VehicleType</th>\n",
       "      <th>RegistrationYear</th>\n",
       "      <th>Gearbox</th>\n",
       "      <th>Power</th>\n",
       "      <th>Model</th>\n",
       "      <th>Kilometer</th>\n",
       "      <th>RegistrationMonth</th>\n",
       "      <th>FuelType</th>\n",
       "      <th>Brand</th>\n",
       "      <th>NotRepaired</th>\n",
       "      <th>DateCreated</th>\n",
       "      <th>NumberOfPictures</th>\n",
       "      <th>PostalCode</th>\n",
       "      <th>LastSeen</th>\n",
       "    </tr>\n",
       "  </thead>\n",
       "  <tbody>\n",
       "    <tr>\n",
       "      <th>0</th>\n",
       "      <td>2016-03-24 11:52:17</td>\n",
       "      <td>480</td>\n",
       "      <td>NaN</td>\n",
       "      <td>1993</td>\n",
       "      <td>manual</td>\n",
       "      <td>0</td>\n",
       "      <td>golf</td>\n",
       "      <td>150000</td>\n",
       "      <td>0</td>\n",
       "      <td>petrol</td>\n",
       "      <td>volkswagen</td>\n",
       "      <td>NaN</td>\n",
       "      <td>2016-03-24 00:00:00</td>\n",
       "      <td>0</td>\n",
       "      <td>70435</td>\n",
       "      <td>2016-04-07 03:16:57</td>\n",
       "    </tr>\n",
       "    <tr>\n",
       "      <th>1</th>\n",
       "      <td>2016-03-24 10:58:45</td>\n",
       "      <td>18300</td>\n",
       "      <td>coupe</td>\n",
       "      <td>2011</td>\n",
       "      <td>manual</td>\n",
       "      <td>190</td>\n",
       "      <td>NaN</td>\n",
       "      <td>125000</td>\n",
       "      <td>5</td>\n",
       "      <td>gasoline</td>\n",
       "      <td>audi</td>\n",
       "      <td>yes</td>\n",
       "      <td>2016-03-24 00:00:00</td>\n",
       "      <td>0</td>\n",
       "      <td>66954</td>\n",
       "      <td>2016-04-07 01:46:50</td>\n",
       "    </tr>\n",
       "    <tr>\n",
       "      <th>2</th>\n",
       "      <td>2016-03-14 12:52:21</td>\n",
       "      <td>9800</td>\n",
       "      <td>suv</td>\n",
       "      <td>2004</td>\n",
       "      <td>auto</td>\n",
       "      <td>163</td>\n",
       "      <td>grand</td>\n",
       "      <td>125000</td>\n",
       "      <td>8</td>\n",
       "      <td>gasoline</td>\n",
       "      <td>jeep</td>\n",
       "      <td>NaN</td>\n",
       "      <td>2016-03-14 00:00:00</td>\n",
       "      <td>0</td>\n",
       "      <td>90480</td>\n",
       "      <td>2016-04-05 12:47:46</td>\n",
       "    </tr>\n",
       "    <tr>\n",
       "      <th>3</th>\n",
       "      <td>2016-03-17 16:54:04</td>\n",
       "      <td>1500</td>\n",
       "      <td>small</td>\n",
       "      <td>2001</td>\n",
       "      <td>manual</td>\n",
       "      <td>75</td>\n",
       "      <td>golf</td>\n",
       "      <td>150000</td>\n",
       "      <td>6</td>\n",
       "      <td>petrol</td>\n",
       "      <td>volkswagen</td>\n",
       "      <td>no</td>\n",
       "      <td>2016-03-17 00:00:00</td>\n",
       "      <td>0</td>\n",
       "      <td>91074</td>\n",
       "      <td>2016-03-17 17:40:17</td>\n",
       "    </tr>\n",
       "    <tr>\n",
       "      <th>4</th>\n",
       "      <td>2016-03-31 17:25:20</td>\n",
       "      <td>3600</td>\n",
       "      <td>small</td>\n",
       "      <td>2008</td>\n",
       "      <td>manual</td>\n",
       "      <td>69</td>\n",
       "      <td>fabia</td>\n",
       "      <td>90000</td>\n",
       "      <td>7</td>\n",
       "      <td>gasoline</td>\n",
       "      <td>skoda</td>\n",
       "      <td>no</td>\n",
       "      <td>2016-03-31 00:00:00</td>\n",
       "      <td>0</td>\n",
       "      <td>60437</td>\n",
       "      <td>2016-04-06 10:17:21</td>\n",
       "    </tr>\n",
       "  </tbody>\n",
       "</table>\n",
       "</div>"
      ],
      "text/plain": [
       "           DateCrawled  Price VehicleType  RegistrationYear Gearbox  Power  \\\n",
       "0  2016-03-24 11:52:17    480         NaN              1993  manual      0   \n",
       "1  2016-03-24 10:58:45  18300       coupe              2011  manual    190   \n",
       "2  2016-03-14 12:52:21   9800         suv              2004    auto    163   \n",
       "3  2016-03-17 16:54:04   1500       small              2001  manual     75   \n",
       "4  2016-03-31 17:25:20   3600       small              2008  manual     69   \n",
       "\n",
       "   Model  Kilometer  RegistrationMonth  FuelType       Brand NotRepaired  \\\n",
       "0   golf     150000                  0    petrol  volkswagen         NaN   \n",
       "1    NaN     125000                  5  gasoline        audi         yes   \n",
       "2  grand     125000                  8  gasoline        jeep         NaN   \n",
       "3   golf     150000                  6    petrol  volkswagen          no   \n",
       "4  fabia      90000                  7  gasoline       skoda          no   \n",
       "\n",
       "           DateCreated  NumberOfPictures  PostalCode             LastSeen  \n",
       "0  2016-03-24 00:00:00                 0       70435  2016-04-07 03:16:57  \n",
       "1  2016-03-24 00:00:00                 0       66954  2016-04-07 01:46:50  \n",
       "2  2016-03-14 00:00:00                 0       90480  2016-04-05 12:47:46  \n",
       "3  2016-03-17 00:00:00                 0       91074  2016-03-17 17:40:17  \n",
       "4  2016-03-31 00:00:00                 0       60437  2016-04-06 10:17:21  "
      ]
     },
     "execution_count": 3,
     "metadata": {},
     "output_type": "execute_result"
    }
   ],
   "source": [
    "df.head()"
   ]
  },
  {
   "cell_type": "markdown",
   "metadata": {},
   "source": [
    "Рассмотрим основную информацию о таблице:"
   ]
  },
  {
   "cell_type": "code",
   "execution_count": 4,
   "metadata": {},
   "outputs": [
    {
     "name": "stdout",
     "output_type": "stream",
     "text": [
      "<class 'pandas.core.frame.DataFrame'>\n",
      "RangeIndex: 354369 entries, 0 to 354368\n",
      "Data columns (total 16 columns):\n",
      " #   Column             Non-Null Count   Dtype \n",
      "---  ------             --------------   ----- \n",
      " 0   DateCrawled        354369 non-null  object\n",
      " 1   Price              354369 non-null  int64 \n",
      " 2   VehicleType        316879 non-null  object\n",
      " 3   RegistrationYear   354369 non-null  int64 \n",
      " 4   Gearbox            334536 non-null  object\n",
      " 5   Power              354369 non-null  int64 \n",
      " 6   Model              334664 non-null  object\n",
      " 7   Kilometer          354369 non-null  int64 \n",
      " 8   RegistrationMonth  354369 non-null  int64 \n",
      " 9   FuelType           321474 non-null  object\n",
      " 10  Brand              354369 non-null  object\n",
      " 11  NotRepaired        283215 non-null  object\n",
      " 12  DateCreated        354369 non-null  object\n",
      " 13  NumberOfPictures   354369 non-null  int64 \n",
      " 14  PostalCode         354369 non-null  int64 \n",
      " 15  LastSeen           354369 non-null  object\n",
      "dtypes: int64(7), object(9)\n",
      "memory usage: 43.3+ MB\n"
     ]
    }
   ],
   "source": [
    "df.info()"
   ]
  },
  {
   "cell_type": "markdown",
   "metadata": {},
   "source": [
    "Согласно документации к данным:"
   ]
  },
  {
   "cell_type": "markdown",
   "metadata": {},
   "source": [
    "* DateCrawled — дата скачивания анкеты из базы\n",
    "* VehicleType — тип автомобильного кузова\n",
    "* RegistrationYear — год регистрации автомобиля\n",
    "* Gearbox — тип коробки передач\n",
    "* Power — мощность (л. с.)\n",
    "* Model — модель автомобиля\n",
    "* Kilometer — пробег (км)\n",
    "* RegistrationMonth — месяц регистрации автомобиля\n",
    "* FuelType — тип топлива\n",
    "* Brand — марка автомобиля\n",
    "* NotRepaired — была машина в ремонте или нет\n",
    "* DateCreated — дата создания анкеты\n",
    "* NumberOfPictures — количество фотографий автомобиля\n",
    "* PostalCode — почтовый индекс владельца анкеты (пользователя)\n",
    "* LastSeen — дата последней активности пользователя"
   ]
  },
  {
   "cell_type": "markdown",
   "metadata": {},
   "source": [
    "Избавимся от столбцов, которые не дают никакой полезной информации для построения модели:"
   ]
  },
  {
   "cell_type": "code",
   "execution_count": 5,
   "metadata": {},
   "outputs": [],
   "source": [
    "df = df.drop(['DateCrawled',\n",
    "              'RegistrationMonth',\n",
    "              'NumberOfPictures',\n",
    "              'PostalCode',\n",
    "              'LastSeen',\n",
    "              'DateCreated'], axis=1)"
   ]
  },
  {
   "cell_type": "code",
   "execution_count": 6,
   "metadata": {},
   "outputs": [
    {
     "data": {
      "text/html": [
       "<div>\n",
       "<style scoped>\n",
       "    .dataframe tbody tr th:only-of-type {\n",
       "        vertical-align: middle;\n",
       "    }\n",
       "\n",
       "    .dataframe tbody tr th {\n",
       "        vertical-align: top;\n",
       "    }\n",
       "\n",
       "    .dataframe thead th {\n",
       "        text-align: right;\n",
       "    }\n",
       "</style>\n",
       "<table border=\"1\" class=\"dataframe\">\n",
       "  <thead>\n",
       "    <tr style=\"text-align: right;\">\n",
       "      <th></th>\n",
       "      <th>Price</th>\n",
       "      <th>VehicleType</th>\n",
       "      <th>RegistrationYear</th>\n",
       "      <th>Gearbox</th>\n",
       "      <th>Power</th>\n",
       "      <th>Model</th>\n",
       "      <th>Kilometer</th>\n",
       "      <th>FuelType</th>\n",
       "      <th>Brand</th>\n",
       "      <th>NotRepaired</th>\n",
       "    </tr>\n",
       "  </thead>\n",
       "  <tbody>\n",
       "    <tr>\n",
       "      <th>0</th>\n",
       "      <td>480</td>\n",
       "      <td>NaN</td>\n",
       "      <td>1993</td>\n",
       "      <td>manual</td>\n",
       "      <td>0</td>\n",
       "      <td>golf</td>\n",
       "      <td>150000</td>\n",
       "      <td>petrol</td>\n",
       "      <td>volkswagen</td>\n",
       "      <td>NaN</td>\n",
       "    </tr>\n",
       "    <tr>\n",
       "      <th>1</th>\n",
       "      <td>18300</td>\n",
       "      <td>coupe</td>\n",
       "      <td>2011</td>\n",
       "      <td>manual</td>\n",
       "      <td>190</td>\n",
       "      <td>NaN</td>\n",
       "      <td>125000</td>\n",
       "      <td>gasoline</td>\n",
       "      <td>audi</td>\n",
       "      <td>yes</td>\n",
       "    </tr>\n",
       "    <tr>\n",
       "      <th>2</th>\n",
       "      <td>9800</td>\n",
       "      <td>suv</td>\n",
       "      <td>2004</td>\n",
       "      <td>auto</td>\n",
       "      <td>163</td>\n",
       "      <td>grand</td>\n",
       "      <td>125000</td>\n",
       "      <td>gasoline</td>\n",
       "      <td>jeep</td>\n",
       "      <td>NaN</td>\n",
       "    </tr>\n",
       "    <tr>\n",
       "      <th>3</th>\n",
       "      <td>1500</td>\n",
       "      <td>small</td>\n",
       "      <td>2001</td>\n",
       "      <td>manual</td>\n",
       "      <td>75</td>\n",
       "      <td>golf</td>\n",
       "      <td>150000</td>\n",
       "      <td>petrol</td>\n",
       "      <td>volkswagen</td>\n",
       "      <td>no</td>\n",
       "    </tr>\n",
       "    <tr>\n",
       "      <th>4</th>\n",
       "      <td>3600</td>\n",
       "      <td>small</td>\n",
       "      <td>2008</td>\n",
       "      <td>manual</td>\n",
       "      <td>69</td>\n",
       "      <td>fabia</td>\n",
       "      <td>90000</td>\n",
       "      <td>gasoline</td>\n",
       "      <td>skoda</td>\n",
       "      <td>no</td>\n",
       "    </tr>\n",
       "    <tr>\n",
       "      <th>...</th>\n",
       "      <td>...</td>\n",
       "      <td>...</td>\n",
       "      <td>...</td>\n",
       "      <td>...</td>\n",
       "      <td>...</td>\n",
       "      <td>...</td>\n",
       "      <td>...</td>\n",
       "      <td>...</td>\n",
       "      <td>...</td>\n",
       "      <td>...</td>\n",
       "    </tr>\n",
       "    <tr>\n",
       "      <th>354364</th>\n",
       "      <td>0</td>\n",
       "      <td>NaN</td>\n",
       "      <td>2005</td>\n",
       "      <td>manual</td>\n",
       "      <td>0</td>\n",
       "      <td>colt</td>\n",
       "      <td>150000</td>\n",
       "      <td>petrol</td>\n",
       "      <td>mitsubishi</td>\n",
       "      <td>yes</td>\n",
       "    </tr>\n",
       "    <tr>\n",
       "      <th>354365</th>\n",
       "      <td>2200</td>\n",
       "      <td>NaN</td>\n",
       "      <td>2005</td>\n",
       "      <td>NaN</td>\n",
       "      <td>0</td>\n",
       "      <td>NaN</td>\n",
       "      <td>20000</td>\n",
       "      <td>NaN</td>\n",
       "      <td>sonstige_autos</td>\n",
       "      <td>NaN</td>\n",
       "    </tr>\n",
       "    <tr>\n",
       "      <th>354366</th>\n",
       "      <td>1199</td>\n",
       "      <td>convertible</td>\n",
       "      <td>2000</td>\n",
       "      <td>auto</td>\n",
       "      <td>101</td>\n",
       "      <td>fortwo</td>\n",
       "      <td>125000</td>\n",
       "      <td>petrol</td>\n",
       "      <td>smart</td>\n",
       "      <td>no</td>\n",
       "    </tr>\n",
       "    <tr>\n",
       "      <th>354367</th>\n",
       "      <td>9200</td>\n",
       "      <td>bus</td>\n",
       "      <td>1996</td>\n",
       "      <td>manual</td>\n",
       "      <td>102</td>\n",
       "      <td>transporter</td>\n",
       "      <td>150000</td>\n",
       "      <td>gasoline</td>\n",
       "      <td>volkswagen</td>\n",
       "      <td>no</td>\n",
       "    </tr>\n",
       "    <tr>\n",
       "      <th>354368</th>\n",
       "      <td>3400</td>\n",
       "      <td>wagon</td>\n",
       "      <td>2002</td>\n",
       "      <td>manual</td>\n",
       "      <td>100</td>\n",
       "      <td>golf</td>\n",
       "      <td>150000</td>\n",
       "      <td>gasoline</td>\n",
       "      <td>volkswagen</td>\n",
       "      <td>NaN</td>\n",
       "    </tr>\n",
       "  </tbody>\n",
       "</table>\n",
       "<p>354369 rows × 10 columns</p>\n",
       "</div>"
      ],
      "text/plain": [
       "        Price  VehicleType  RegistrationYear Gearbox  Power        Model  \\\n",
       "0         480          NaN              1993  manual      0         golf   \n",
       "1       18300        coupe              2011  manual    190          NaN   \n",
       "2        9800          suv              2004    auto    163        grand   \n",
       "3        1500        small              2001  manual     75         golf   \n",
       "4        3600        small              2008  manual     69        fabia   \n",
       "...       ...          ...               ...     ...    ...          ...   \n",
       "354364      0          NaN              2005  manual      0         colt   \n",
       "354365   2200          NaN              2005     NaN      0          NaN   \n",
       "354366   1199  convertible              2000    auto    101       fortwo   \n",
       "354367   9200          bus              1996  manual    102  transporter   \n",
       "354368   3400        wagon              2002  manual    100         golf   \n",
       "\n",
       "        Kilometer  FuelType           Brand NotRepaired  \n",
       "0          150000    petrol      volkswagen         NaN  \n",
       "1          125000  gasoline            audi         yes  \n",
       "2          125000  gasoline            jeep         NaN  \n",
       "3          150000    petrol      volkswagen          no  \n",
       "4           90000  gasoline           skoda          no  \n",
       "...           ...       ...             ...         ...  \n",
       "354364     150000    petrol      mitsubishi         yes  \n",
       "354365      20000       NaN  sonstige_autos         NaN  \n",
       "354366     125000    petrol           smart          no  \n",
       "354367     150000  gasoline      volkswagen          no  \n",
       "354368     150000  gasoline      volkswagen         NaN  \n",
       "\n",
       "[354369 rows x 10 columns]"
      ]
     },
     "execution_count": 6,
     "metadata": {},
     "output_type": "execute_result"
    }
   ],
   "source": [
    "df"
   ]
  },
  {
   "cell_type": "markdown",
   "metadata": {},
   "source": [
    "Рассмотрим основные описательные статистики:"
   ]
  },
  {
   "cell_type": "code",
   "execution_count": 7,
   "metadata": {},
   "outputs": [
    {
     "data": {
      "text/html": [
       "<div>\n",
       "<style scoped>\n",
       "    .dataframe tbody tr th:only-of-type {\n",
       "        vertical-align: middle;\n",
       "    }\n",
       "\n",
       "    .dataframe tbody tr th {\n",
       "        vertical-align: top;\n",
       "    }\n",
       "\n",
       "    .dataframe thead th {\n",
       "        text-align: right;\n",
       "    }\n",
       "</style>\n",
       "<table border=\"1\" class=\"dataframe\">\n",
       "  <thead>\n",
       "    <tr style=\"text-align: right;\">\n",
       "      <th></th>\n",
       "      <th>count</th>\n",
       "      <th>mean</th>\n",
       "      <th>std</th>\n",
       "      <th>min</th>\n",
       "      <th>25%</th>\n",
       "      <th>50%</th>\n",
       "      <th>75%</th>\n",
       "      <th>max</th>\n",
       "    </tr>\n",
       "  </thead>\n",
       "  <tbody>\n",
       "    <tr>\n",
       "      <th>Price</th>\n",
       "      <td>354369.0</td>\n",
       "      <td>4416.656776</td>\n",
       "      <td>4514.158514</td>\n",
       "      <td>0.0</td>\n",
       "      <td>1050.0</td>\n",
       "      <td>2700.0</td>\n",
       "      <td>6400.0</td>\n",
       "      <td>20000.0</td>\n",
       "    </tr>\n",
       "    <tr>\n",
       "      <th>RegistrationYear</th>\n",
       "      <td>354369.0</td>\n",
       "      <td>2004.234448</td>\n",
       "      <td>90.227958</td>\n",
       "      <td>1000.0</td>\n",
       "      <td>1999.0</td>\n",
       "      <td>2003.0</td>\n",
       "      <td>2008.0</td>\n",
       "      <td>9999.0</td>\n",
       "    </tr>\n",
       "    <tr>\n",
       "      <th>Power</th>\n",
       "      <td>354369.0</td>\n",
       "      <td>110.094337</td>\n",
       "      <td>189.850405</td>\n",
       "      <td>0.0</td>\n",
       "      <td>69.0</td>\n",
       "      <td>105.0</td>\n",
       "      <td>143.0</td>\n",
       "      <td>20000.0</td>\n",
       "    </tr>\n",
       "    <tr>\n",
       "      <th>Kilometer</th>\n",
       "      <td>354369.0</td>\n",
       "      <td>128211.172535</td>\n",
       "      <td>37905.341530</td>\n",
       "      <td>5000.0</td>\n",
       "      <td>125000.0</td>\n",
       "      <td>150000.0</td>\n",
       "      <td>150000.0</td>\n",
       "      <td>150000.0</td>\n",
       "    </tr>\n",
       "  </tbody>\n",
       "</table>\n",
       "</div>"
      ],
      "text/plain": [
       "                     count           mean           std     min       25%  \\\n",
       "Price             354369.0    4416.656776   4514.158514     0.0    1050.0   \n",
       "RegistrationYear  354369.0    2004.234448     90.227958  1000.0    1999.0   \n",
       "Power             354369.0     110.094337    189.850405     0.0      69.0   \n",
       "Kilometer         354369.0  128211.172535  37905.341530  5000.0  125000.0   \n",
       "\n",
       "                       50%       75%       max  \n",
       "Price               2700.0    6400.0   20000.0  \n",
       "RegistrationYear    2003.0    2008.0    9999.0  \n",
       "Power                105.0     143.0   20000.0  \n",
       "Kilometer         150000.0  150000.0  150000.0  "
      ]
     },
     "execution_count": 7,
     "metadata": {},
     "output_type": "execute_result"
    }
   ],
   "source": [
    "df.describe().T"
   ]
  },
  {
   "cell_type": "markdown",
   "metadata": {},
   "source": [
    "Избавимся от дубликатов:"
   ]
  },
  {
   "cell_type": "code",
   "execution_count": 8,
   "metadata": {},
   "outputs": [],
   "source": [
    "df.drop_duplicates(inplace=True)"
   ]
  },
  {
   "cell_type": "markdown",
   "metadata": {},
   "source": [
    "Рассмотрим пропущенные значения:"
   ]
  },
  {
   "cell_type": "code",
   "execution_count": 9,
   "metadata": {},
   "outputs": [
    {
     "data": {
      "text/plain": [
       "Price                   0\n",
       "VehicleType         34559\n",
       "RegistrationYear        0\n",
       "Gearbox             17207\n",
       "Power                   0\n",
       "Model               18361\n",
       "Kilometer               0\n",
       "FuelType            30764\n",
       "Brand                   0\n",
       "NotRepaired         64558\n",
       "dtype: int64"
      ]
     },
     "execution_count": 9,
     "metadata": {},
     "output_type": "execute_result"
    }
   ],
   "source": [
    "df.isna().sum()"
   ]
  },
  {
   "cell_type": "markdown",
   "metadata": {},
   "source": [
    "Заметим, что пропуски содержатся только для столбцов с категориальными типами."
   ]
  },
  {
   "cell_type": "markdown",
   "metadata": {},
   "source": [
    "Создадим список со столбцами, содержащими категориальный тип данных. В дальнейшим он нам пригодится для использования библиотеки **CatBoost**."
   ]
  },
  {
   "cell_type": "code",
   "execution_count": 10,
   "metadata": {},
   "outputs": [],
   "source": [
    "cat = ['VehicleType', 'Gearbox', 'Model', 'FuelType', 'NotRepaired', 'Brand']"
   ]
  },
  {
   "cell_type": "code",
   "execution_count": 11,
   "metadata": {},
   "outputs": [
    {
     "name": "stdout",
     "output_type": "stream",
     "text": [
      "Распределение для столбца VehicleType\n"
     ]
    },
    {
     "data": {
      "text/plain": [
       "sedan          78206\n",
       "small          67548\n",
       "wagon          56367\n",
       "NaN            34559\n",
       "bus            25830\n",
       "convertible    18195\n",
       "coupe          14690\n",
       "suv            10776\n",
       "other           3158\n",
       "Name: VehicleType, dtype: int64"
      ]
     },
     "metadata": {},
     "output_type": "display_data"
    },
    {
     "name": "stdout",
     "output_type": "stream",
     "text": [
      "Распределение для столбца Gearbox\n"
     ]
    },
    {
     "data": {
      "text/plain": [
       "manual    232774\n",
       "auto       59348\n",
       "NaN        17207\n",
       "Name: Gearbox, dtype: int64"
      ]
     },
     "metadata": {},
     "output_type": "display_data"
    },
    {
     "name": "stdout",
     "output_type": "stream",
     "text": [
      "Распределение для столбца Model\n"
     ]
    },
    {
     "data": {
      "text/plain": [
       "golf                  23639\n",
       "other                 22934\n",
       "NaN                   18361\n",
       "3er                   16700\n",
       "polo                  10494\n",
       "                      ...  \n",
       "kalina                    7\n",
       "rangerover                4\n",
       "serie_3                   4\n",
       "serie_1                   2\n",
       "range_rover_evoque        1\n",
       "Name: Model, Length: 251, dtype: int64"
      ]
     },
     "metadata": {},
     "output_type": "display_data"
    },
    {
     "name": "stdout",
     "output_type": "stream",
     "text": [
      "Распределение для столбца FuelType\n"
     ]
    },
    {
     "data": {
      "text/plain": [
       "petrol      187848\n",
       "gasoline     84794\n",
       "NaN          30764\n",
       "lpg           4888\n",
       "cng            524\n",
       "hybrid         222\n",
       "other          200\n",
       "electric        89\n",
       "Name: FuelType, dtype: int64"
      ]
     },
     "metadata": {},
     "output_type": "display_data"
    },
    {
     "name": "stdout",
     "output_type": "stream",
     "text": [
      "Распределение для столбца NotRepaired\n"
     ]
    },
    {
     "data": {
      "text/plain": [
       "no     211328\n",
       "NaN     64558\n",
       "yes     33443\n",
       "Name: NotRepaired, dtype: int64"
      ]
     },
     "metadata": {},
     "output_type": "display_data"
    },
    {
     "name": "stdout",
     "output_type": "stream",
     "text": [
      "Распределение для столбца Brand\n"
     ]
    },
    {
     "data": {
      "text/plain": [
       "volkswagen        63907\n",
       "opel              33957\n",
       "bmw               31716\n",
       "mercedes_benz     28696\n",
       "audi              25470\n",
       "ford              22400\n",
       "renault           15798\n",
       "peugeot            9808\n",
       "fiat               8675\n",
       "seat               6188\n",
       "mazda              5113\n",
       "skoda              4967\n",
       "smart              4823\n",
       "citroen            4798\n",
       "nissan             4489\n",
       "toyota             4248\n",
       "hyundai            3295\n",
       "sonstige_autos     2931\n",
       "volvo              2907\n",
       "mini               2866\n",
       "mitsubishi         2812\n",
       "honda              2637\n",
       "kia                2247\n",
       "suzuki             2158\n",
       "alfa_romeo         2142\n",
       "chevrolet          1648\n",
       "chrysler           1352\n",
       "dacia               830\n",
       "daihatsu            752\n",
       "subaru              726\n",
       "porsche             699\n",
       "jeep                639\n",
       "trabant             555\n",
       "daewoo              508\n",
       "land_rover          507\n",
       "saab                484\n",
       "jaguar              479\n",
       "rover               449\n",
       "lancia              443\n",
       "lada                210\n",
       "Name: Brand, dtype: int64"
      ]
     },
     "metadata": {},
     "output_type": "display_data"
    }
   ],
   "source": [
    "for col in cat:\n",
    "    print(f'Распределение для столбца {col}')\n",
    "    display(df[col].value_counts(dropna=False))\n",
    "    df[col].fillna('no_info', inplace=True)"
   ]
  },
  {
   "cell_type": "markdown",
   "metadata": {},
   "source": [
    "Исследуем линейную взаимосвязь между ценой и остальными параметрами:"
   ]
  },
  {
   "cell_type": "code",
   "execution_count": 12,
   "metadata": {},
   "outputs": [
    {
     "data": {
      "text/html": [
       "<div>\n",
       "<style scoped>\n",
       "    .dataframe tbody tr th:only-of-type {\n",
       "        vertical-align: middle;\n",
       "    }\n",
       "\n",
       "    .dataframe tbody tr th {\n",
       "        vertical-align: top;\n",
       "    }\n",
       "\n",
       "    .dataframe thead th {\n",
       "        text-align: right;\n",
       "    }\n",
       "</style>\n",
       "<table border=\"1\" class=\"dataframe\">\n",
       "  <thead>\n",
       "    <tr style=\"text-align: right;\">\n",
       "      <th></th>\n",
       "      <th>Price</th>\n",
       "      <th>RegistrationYear</th>\n",
       "      <th>Power</th>\n",
       "      <th>Kilometer</th>\n",
       "    </tr>\n",
       "  </thead>\n",
       "  <tbody>\n",
       "    <tr>\n",
       "      <th>Price</th>\n",
       "      <td>1.000000</td>\n",
       "      <td>0.025714</td>\n",
       "      <td>0.147634</td>\n",
       "      <td>-0.325592</td>\n",
       "    </tr>\n",
       "    <tr>\n",
       "      <th>RegistrationYear</th>\n",
       "      <td>0.025714</td>\n",
       "      <td>1.000000</td>\n",
       "      <td>-0.000896</td>\n",
       "      <td>-0.052516</td>\n",
       "    </tr>\n",
       "    <tr>\n",
       "      <th>Power</th>\n",
       "      <td>0.147634</td>\n",
       "      <td>-0.000896</td>\n",
       "      <td>1.000000</td>\n",
       "      <td>0.026446</td>\n",
       "    </tr>\n",
       "    <tr>\n",
       "      <th>Kilometer</th>\n",
       "      <td>-0.325592</td>\n",
       "      <td>-0.052516</td>\n",
       "      <td>0.026446</td>\n",
       "      <td>1.000000</td>\n",
       "    </tr>\n",
       "  </tbody>\n",
       "</table>\n",
       "</div>"
      ],
      "text/plain": [
       "                     Price  RegistrationYear     Power  Kilometer\n",
       "Price             1.000000          0.025714  0.147634  -0.325592\n",
       "RegistrationYear  0.025714          1.000000 -0.000896  -0.052516\n",
       "Power             0.147634         -0.000896  1.000000   0.026446\n",
       "Kilometer        -0.325592         -0.052516  0.026446   1.000000"
      ]
     },
     "execution_count": 12,
     "metadata": {},
     "output_type": "execute_result"
    }
   ],
   "source": [
    "df.corr()"
   ]
  },
  {
   "cell_type": "markdown",
   "metadata": {},
   "source": [
    "Построим график распределения для столбцов с числовыми данными:"
   ]
  },
  {
   "cell_type": "code",
   "execution_count": 13,
   "metadata": {},
   "outputs": [
    {
     "data": {
      "image/png": "[encoded data removed]",
      "text/plain": [
       "<Figure size 720x432 with 1 Axes>"
      ]
     },
     "metadata": {},
     "output_type": "display_data"
    }
   ],
   "source": [
    "df.Price.hist(bins=20)\n",
    "plt.title('Распределение цены автомобиля')\n",
    "plt.xlabel('Цена')\n",
    "plt.ylabel('Количество')\n",
    "plt.show()"
   ]
  },
  {
   "cell_type": "code",
   "execution_count": 14,
   "metadata": {},
   "outputs": [
    {
     "data": {
      "image/png": "[encoded data removed]",
      "text/plain": [
       "<Figure size 720x432 with 1 Axes>"
      ]
     },
     "metadata": {},
     "output_type": "display_data"
    }
   ],
   "source": [
    "df.Kilometer.hist(bins=20)\n",
    "plt.title('Распределение пробега')\n",
    "plt.xlabel('Пробег')\n",
    "plt.ylabel('Количество')\n",
    "plt.show()"
   ]
  },
  {
   "cell_type": "code",
   "execution_count": 15,
   "metadata": {},
   "outputs": [
    {
     "data": {
      "image/png": "[encoded data removed]",
      "text/plain": [
       "<Figure size 720x432 with 1 Axes>"
      ]
     },
     "metadata": {},
     "output_type": "display_data"
    }
   ],
   "source": [
    "df.Power.hist(bins=500)\n",
    "plt.xlim(0, 500)\n",
    "plt.title('Распределение мощности')\n",
    "plt.xlabel('Мощность')\n",
    "plt.ylabel('Количество')\n",
    "plt.show()"
   ]
  },
  {
   "cell_type": "code",
   "execution_count": 16,
   "metadata": {},
   "outputs": [
    {
     "data": {
      "image/png": "[encoded data removed]",
      "text/plain": [
       "<Figure size 720x432 with 1 Axes>"
      ]
     },
     "metadata": {},
     "output_type": "display_data"
    }
   ],
   "source": [
    "df.RegistrationYear.hist(bins=500)\n",
    "plt.xlim(1900, 2050)\n",
    "plt.title('Распределение года выпуска')\n",
    "plt.xlabel('Год выпуска')\n",
    "plt.ylabel('Количество')\n",
    "plt.show()"
   ]
  },
  {
   "cell_type": "markdown",
   "metadata": {},
   "source": [
    "Заметим, что в графе с ценой и мощностью имеются нулевые значения - избавимся от них. Также установим адекватные минимальные границы по мощности и цене:"
   ]
  },
  {
   "cell_type": "code",
   "execution_count": 17,
   "metadata": {},
   "outputs": [],
   "source": [
    "df_filtered = df.query('Power > 50 & Price > 50')"
   ]
  },
  {
   "cell_type": "markdown",
   "metadata": {},
   "source": [
    "Рассмотрим какое процент данных от первоначального значения удалось сохранить:"
   ]
  },
  {
   "cell_type": "code",
   "execution_count": 18,
   "metadata": {},
   "outputs": [
    {
     "data": {
      "text/plain": [
       "0.8342897044893948"
      ]
     },
     "execution_count": 18,
     "metadata": {},
     "output_type": "execute_result"
    }
   ],
   "source": [
    "len(df_filtered) / len(df)"
   ]
  },
  {
   "cell_type": "markdown",
   "metadata": {},
   "source": [
    "Для взаимодействия с большинством библиотек, кроме **CatBoost** необходимо преобразовать категориальные данные в числовые методом **OHE**:"
   ]
  },
  {
   "cell_type": "code",
   "execution_count": 19,
   "metadata": {},
   "outputs": [],
   "source": [
    "df_models = pd.get_dummies(df_filtered, drop_first=True)"
   ]
  },
  {
   "cell_type": "markdown",
   "metadata": {},
   "source": [
    "### Вывод"
   ]
  },
  {
   "cell_type": "markdown",
   "metadata": {},
   "source": [
    "Первоначально можно утверждать, что данных достаточно для исследования. Проведена проверка на пропуски и дубликаты, которые затем были обработаны. Изучены распределения основных числовых параметров. Были отфильтрованы нулевые выбросы. Также к столбцам, содержащим категориальные переменные, была применена техника **OHE**, для того, чтобы модели смогли обработать эти данные."
   ]
  },
  {
   "cell_type": "markdown",
   "metadata": {},
   "source": [
    "## Анализ моделей"
   ]
  },
  {
   "cell_type": "markdown",
   "metadata": {},
   "source": [
    "В данном разделе рассмотрим поведение следующих моделей:\n",
    "\n",
    "* Линейная регрессия;\n",
    "* Решающее дерево;\n",
    "* Случайный лес;\n",
    "* CatBoost;\n",
    "* LightGMB.\n",
    "\n",
    "Так как исследование базовых моделей приведено лишь для сравнения с моделями градиентного бустига, то в них не будем подробно настраивать и оптимизировать гиперпараметры, а будем пользоваться базовыми моделями."
   ]
  },
  {
   "cell_type": "markdown",
   "metadata": {},
   "source": [
    "Разобьем данные на тренировочную и тестовую выборки:"
   ]
  },
  {
   "cell_type": "code",
   "execution_count": 57,
   "metadata": {},
   "outputs": [],
   "source": [
    "X = df_models.drop('Price', axis=1)\n",
    "y = df_models['Price']"
   ]
  },
  {
   "cell_type": "code",
   "execution_count": 58,
   "metadata": {},
   "outputs": [],
   "source": [
    "X_train, X_test, y_train, y_test = train_test_split(X, y, test_size=0.25, random_state=RS)"
   ]
  },
  {
   "cell_type": "markdown",
   "metadata": {},
   "source": [
    "Для начала рассмотрим то значение исследуемой метрики, которое выдаст случайная модель. Основываясь на полученном результате будем проверять на \"глупость\" исследуемые модели."
   ]
  },
  {
   "cell_type": "code",
   "execution_count": 59,
   "metadata": {},
   "outputs": [
    {
     "name": "stdout",
     "output_type": "stream",
     "text": [
      "4669.4938026094\n"
     ]
    }
   ],
   "source": [
    "dummy = DummyRegressor()\n",
    "dummy.fit(X_train, y_train)\n",
    "predictions = dummy.predict(X_test)\n",
    "print(np.sqrt(mean_squared_error(y_test, predictions)))"
   ]
  },
  {
   "cell_type": "markdown",
   "metadata": {},
   "source": [
    "### Линейная регрессия"
   ]
  },
  {
   "cell_type": "code",
   "execution_count": 60,
   "metadata": {},
   "outputs": [],
   "source": [
    "lr = LinearRegression()"
   ]
  },
  {
   "cell_type": "code",
   "execution_count": 61,
   "metadata": {},
   "outputs": [
    {
     "name": "stdout",
     "output_type": "stream",
     "text": [
      "CPU times: user 29.2 s, sys: 10.8 s, total: 40 s\n",
      "Wall time: 40 s\n"
     ]
    },
    {
     "data": {
      "text/plain": [
       "-3193.5898785471313"
      ]
     },
     "execution_count": 61,
     "metadata": {},
     "output_type": "execute_result"
    }
   ],
   "source": [
    "%%time\n",
    "\n",
    "cross_val_score(lr, X_train, y_train, scoring='neg_root_mean_squared_error', cv=3).mean()"
   ]
  },
  {
   "cell_type": "code",
   "execution_count": 72,
   "metadata": {},
   "outputs": [
    {
     "data": {
      "text/plain": [
       "LinearRegression()"
      ]
     },
     "execution_count": 72,
     "metadata": {},
     "output_type": "execute_result"
    }
   ],
   "source": [
    "lr.fit(X_train, y_train)"
   ]
  },
  {
   "cell_type": "markdown",
   "metadata": {},
   "source": [
    "### Решающее дерево"
   ]
  },
  {
   "cell_type": "code",
   "execution_count": 62,
   "metadata": {},
   "outputs": [],
   "source": [
    "tree = DecisionTreeRegressor(random_state=RS)"
   ]
  },
  {
   "cell_type": "code",
   "execution_count": 63,
   "metadata": {},
   "outputs": [
    {
     "name": "stdout",
     "output_type": "stream",
     "text": [
      "CPU times: user 11.8 s, sys: 459 ms, total: 12.3 s\n",
      "Wall time: 12.4 s\n"
     ]
    },
    {
     "data": {
      "text/plain": [
       "-2100.198507352991"
      ]
     },
     "execution_count": 63,
     "metadata": {},
     "output_type": "execute_result"
    }
   ],
   "source": [
    "%%time\n",
    "\n",
    "cross_val_score(tree, X_train, y_train, scoring='neg_root_mean_squared_error', cv=3).mean()"
   ]
  },
  {
   "cell_type": "code",
   "execution_count": 73,
   "metadata": {},
   "outputs": [
    {
     "data": {
      "text/plain": [
       "DecisionTreeRegressor(random_state=12345)"
      ]
     },
     "execution_count": 73,
     "metadata": {},
     "output_type": "execute_result"
    }
   ],
   "source": [
    "tree.fit(X_train, y_train)"
   ]
  },
  {
   "cell_type": "markdown",
   "metadata": {},
   "source": [
    "### Случайный лес"
   ]
  },
  {
   "cell_type": "code",
   "execution_count": 27,
   "metadata": {},
   "outputs": [],
   "source": [
    "forest = RandomForestRegressor(random_state=RS)"
   ]
  },
  {
   "cell_type": "code",
   "execution_count": 28,
   "metadata": {},
   "outputs": [
    {
     "name": "stdout",
     "output_type": "stream",
     "text": [
      "CPU times: user 11min 23s, sys: 1.79 s, total: 11min 25s\n",
      "Wall time: 11min 26s\n"
     ]
    },
    {
     "data": {
      "text/plain": [
       "-1716.1649997337306"
      ]
     },
     "execution_count": 28,
     "metadata": {},
     "output_type": "execute_result"
    }
   ],
   "source": [
    "%%time\n",
    "\n",
    "cross_val_score(forest, X_train, y_train, scoring='neg_root_mean_squared_error', cv=3).mean()"
   ]
  },
  {
   "cell_type": "code",
   "execution_count": 74,
   "metadata": {},
   "outputs": [
    {
     "data": {
      "text/plain": [
       "RandomForestRegressor(random_state=12345)"
      ]
     },
     "execution_count": 74,
     "metadata": {},
     "output_type": "execute_result"
    }
   ],
   "source": [
    "forest.fit(X_train, y_train)"
   ]
  },
  {
   "cell_type": "markdown",
   "metadata": {},
   "source": [
    "### LightGBM"
   ]
  },
  {
   "cell_type": "code",
   "execution_count": 55,
   "metadata": {},
   "outputs": [],
   "source": [
    "lgbm = LGBMRegressor(n_estimators=1000, max_depth=10, learning_rate=0.3)"
   ]
  },
  {
   "cell_type": "code",
   "execution_count": 65,
   "metadata": {},
   "outputs": [
    {
     "name": "stdout",
     "output_type": "stream",
     "text": [
      "CPU times: user 2min 59s, sys: 2.31 s, total: 3min 2s\n",
      "Wall time: 3min 4s\n"
     ]
    },
    {
     "data": {
      "text/plain": [
       "-1613.2601695541557"
      ]
     },
     "execution_count": 65,
     "metadata": {},
     "output_type": "execute_result"
    }
   ],
   "source": [
    "%%time\n",
    "cross_val_score(lgbm, X_train, y_train, scoring='neg_root_mean_squared_error', cv=5).mean()"
   ]
  },
  {
   "cell_type": "code",
   "execution_count": 67,
   "metadata": {},
   "outputs": [
    {
     "data": {
      "text/plain": [
       "LGBMRegressor(learning_rate=0.3, max_depth=10, n_estimators=1000)"
      ]
     },
     "execution_count": 67,
     "metadata": {},
     "output_type": "execute_result"
    }
   ],
   "source": [
    "lgbm.fit(X_train, y_train)"
   ]
  },
  {
   "cell_type": "markdown",
   "metadata": {},
   "source": [
    "### CatBoost"
   ]
  },
  {
   "cell_type": "markdown",
   "metadata": {},
   "source": [
    "Так как **CatBoost** имеет встроенный функционал для обработки категориальных значений, то признаки и целевую переменную возьмем из изначального датасета:"
   ]
  },
  {
   "cell_type": "code",
   "execution_count": 45,
   "metadata": {},
   "outputs": [],
   "source": [
    "X = df_filtered.drop('Price', axis=1)\n",
    "y = df_filtered['Price']"
   ]
  },
  {
   "cell_type": "code",
   "execution_count": 46,
   "metadata": {},
   "outputs": [],
   "source": [
    "X_train, X_test, y_train, y_test = train_test_split(X, y, test_size=0.25, random_state=RS)"
   ]
  },
  {
   "cell_type": "code",
   "execution_count": 33,
   "metadata": {},
   "outputs": [],
   "source": [
    "catboost = CatBoostRegressor()"
   ]
  },
  {
   "cell_type": "code",
   "execution_count": 34,
   "metadata": {},
   "outputs": [],
   "source": [
    "params = {'iterations': range(1000, 2000, 250),\n",
    "          'depth': range(5, 12, 2),\n",
    "          'learning_rate': np.arange(0.1, 0.5, 0.1),\n",
    "          'verbose': [100]\n",
    "         }"
   ]
  },
  {
   "cell_type": "code",
   "execution_count": 35,
   "metadata": {},
   "outputs": [],
   "source": [
    "grid = GridSearchCV(catboost, params, scoring='neg_root_mean_squared_error', cv=3)"
   ]
  },
  {
   "cell_type": "code",
   "execution_count": 37,
   "metadata": {},
   "outputs": [
    {
     "name": "stderr",
     "output_type": "stream",
     "text": [
      "Custom logger is already specified. Specify more than one logger at same time is not thread safe."
     ]
    },
    {
     "name": "stdout",
     "output_type": "stream",
     "text": [
      "0:\tlearn: 4379.8785391\ttotal: 17ms\tremaining: 17s\n",
      "100:\tlearn: 1891.7488518\ttotal: 1.66s\tremaining: 14.8s\n",
      "200:\tlearn: 1786.9381960\ttotal: 3.34s\tremaining: 13.3s\n",
      "300:\tlearn: 1734.5339495\ttotal: 4.95s\tremaining: 11.5s\n",
      "400:\tlearn: 1700.5719733\ttotal: 6.54s\tremaining: 9.76s\n",
      "500:\tlearn: 1676.5087406\ttotal: 8.1s\tremaining: 8.07s\n",
      "600:\tlearn: 1655.9539006\ttotal: 9.67s\tremaining: 6.42s\n",
      "700:\tlearn: 1639.2786240\ttotal: 11.4s\tremaining: 4.84s\n",
      "800:\tlearn: 1624.4844433\ttotal: 13s\tremaining: 3.23s\n",
      "900:\tlearn: 1612.0019033\ttotal: 14.6s\tremaining: 1.61s\n",
      "999:\tlearn: 1601.5017656\ttotal: 16.2s\tremaining: 0us\n",
      "0:\tlearn: 4364.2196061\ttotal: 15.3ms\tremaining: 15.3s\n",
      "100:\tlearn: 1878.6442655\ttotal: 1.91s\tremaining: 17s\n",
      "200:\tlearn: 1772.2518671\ttotal: 3.5s\tremaining: 13.9s\n",
      "300:\tlearn: 1723.5255248\ttotal: 5.18s\tremaining: 12s\n",
      "400:\tlearn: 1689.9623175\ttotal: 6.84s\tremaining: 10.2s\n",
      "500:\tlearn: 1665.5524244\ttotal: 8.43s\tremaining: 8.39s\n",
      "600:\tlearn: 1646.2187109\ttotal: 9.98s\tremaining: 6.63s\n",
      "700:\tlearn: 1630.3952993\ttotal: 11.6s\tremaining: 4.95s\n",
      "800:\tlearn: 1616.2409491\ttotal: 13.3s\tremaining: 3.31s\n",
      "900:\tlearn: 1603.5416245\ttotal: 14.9s\tremaining: 1.64s\n",
      "999:\tlearn: 1593.3145157\ttotal: 16.6s\tremaining: 0us\n",
      "0:\tlearn: 4366.1316343\ttotal: 16ms\tremaining: 16s\n",
      "100:\tlearn: 1888.6973661\ttotal: 1.72s\tremaining: 15.3s\n",
      "200:\tlearn: 1783.8933334\ttotal: 3.36s\tremaining: 13.4s\n",
      "300:\tlearn: 1729.8731066\ttotal: 5.01s\tremaining: 11.6s\n",
      "400:\tlearn: 1696.9011384\ttotal: 6.67s\tremaining: 9.96s\n",
      "500:\tlearn: 1671.6390929\ttotal: 8.4s\tremaining: 8.37s\n",
      "600:\tlearn: 1653.2451879\ttotal: 10.2s\tremaining: 6.74s\n",
      "700:\tlearn: 1637.6920905\ttotal: 11.7s\tremaining: 5.01s\n",
      "800:\tlearn: 1624.0111585\ttotal: 13.5s\tremaining: 3.35s\n",
      "900:\tlearn: 1612.1682725\ttotal: 15.1s\tremaining: 1.66s\n",
      "999:\tlearn: 1601.5887807\ttotal: 16.6s\tremaining: 0us\n",
      "0:\tlearn: 4119.4656184\ttotal: 18.8ms\tremaining: 18.8s\n",
      "100:\tlearn: 1787.9973491\ttotal: 1.86s\tremaining: 16.5s\n",
      "200:\tlearn: 1703.5763319\ttotal: 3.54s\tremaining: 14.1s\n",
      "300:\tlearn: 1659.6343009\ttotal: 5.12s\tremaining: 11.9s\n",
      "400:\tlearn: 1627.5921983\ttotal: 6.69s\tremaining: 9.99s\n",
      "500:\tlearn: 1603.1302044\ttotal: 8.26s\tremaining: 8.22s\n",
      "600:\tlearn: 1584.1952470\ttotal: 9.83s\tremaining: 6.53s\n",
      "700:\tlearn: 1567.6006526\ttotal: 11.5s\tremaining: 4.91s\n",
      "800:\tlearn: 1554.4723648\ttotal: 13.4s\tremaining: 3.33s\n",
      "900:\tlearn: 1542.5877273\ttotal: 15.1s\tremaining: 1.66s\n",
      "999:\tlearn: 1532.5586403\ttotal: 16.7s\tremaining: 0us\n",
      "0:\tlearn: 4103.4603734\ttotal: 16.2ms\tremaining: 16.2s\n",
      "100:\tlearn: 1773.0829327\ttotal: 1.65s\tremaining: 14.7s\n",
      "200:\tlearn: 1689.9735442\ttotal: 3.25s\tremaining: 12.9s\n",
      "300:\tlearn: 1646.1224357\ttotal: 4.91s\tremaining: 11.4s\n",
      "400:\tlearn: 1616.3550570\ttotal: 6.5s\tremaining: 9.71s\n",
      "500:\tlearn: 1592.2569516\ttotal: 8.08s\tremaining: 8.05s\n",
      "600:\tlearn: 1573.4375362\ttotal: 9.75s\tremaining: 6.47s\n",
      "700:\tlearn: 1557.0920160\ttotal: 11.3s\tremaining: 4.83s\n",
      "800:\tlearn: 1543.4645258\ttotal: 12.9s\tremaining: 3.21s\n",
      "900:\tlearn: 1532.0222885\ttotal: 14.5s\tremaining: 1.6s\n",
      "999:\tlearn: 1520.9124850\ttotal: 16.3s\tremaining: 0us\n",
      "0:\tlearn: 4104.2006664\ttotal: 16.5ms\tremaining: 16.5s\n",
      "100:\tlearn: 1785.5987330\ttotal: 1.63s\tremaining: 14.5s\n",
      "200:\tlearn: 1701.8963265\ttotal: 3.22s\tremaining: 12.8s\n",
      "300:\tlearn: 1656.9023893\ttotal: 4.93s\tremaining: 11.5s\n",
      "400:\tlearn: 1626.9172215\ttotal: 6.65s\tremaining: 9.94s\n",
      "500:\tlearn: 1603.0980166\ttotal: 8.29s\tremaining: 8.25s\n",
      "600:\tlearn: 1584.7703461\ttotal: 10s\tremaining: 6.66s\n",
      "700:\tlearn: 1568.6584181\ttotal: 11.6s\tremaining: 4.96s\n",
      "800:\tlearn: 1554.2927053\ttotal: 13.2s\tremaining: 3.29s\n",
      "900:\tlearn: 1541.4638457\ttotal: 14.9s\tremaining: 1.64s\n",
      "999:\tlearn: 1531.0398773\ttotal: 16.5s\tremaining: 0us\n",
      "0:\tlearn: 3875.1494624\ttotal: 17.1ms\tremaining: 17s\n",
      "100:\tlearn: 1739.9955252\ttotal: 1.7s\tremaining: 15.2s\n",
      "200:\tlearn: 1661.7161713\ttotal: 3.3s\tremaining: 13.1s\n",
      "300:\tlearn: 1617.3243735\ttotal: 4.89s\tremaining: 11.4s\n",
      "400:\tlearn: 1587.4915210\ttotal: 6.52s\tremaining: 9.73s\n",
      "500:\tlearn: 1563.8023003\ttotal: 8.06s\tremaining: 8.03s\n",
      "600:\tlearn: 1544.5671793\ttotal: 9.66s\tremaining: 6.41s\n",
      "700:\tlearn: 1528.3392275\ttotal: 11.2s\tremaining: 4.79s\n",
      "800:\tlearn: 1514.7226851\ttotal: 12.9s\tremaining: 3.22s\n",
      "900:\tlearn: 1501.2176042\ttotal: 14.6s\tremaining: 1.6s\n",
      "999:\tlearn: 1489.0749619\ttotal: 16.3s\tremaining: 0us\n",
      "0:\tlearn: 3858.7482329\ttotal: 18.5ms\tremaining: 18.5s\n",
      "100:\tlearn: 1733.1158252\ttotal: 1.75s\tremaining: 15.6s\n",
      "200:\tlearn: 1656.7167936\ttotal: 3.34s\tremaining: 13.3s\n",
      "300:\tlearn: 1610.4408457\ttotal: 4.96s\tremaining: 11.5s\n",
      "400:\tlearn: 1579.9378761\ttotal: 6.83s\tremaining: 10.2s\n",
      "500:\tlearn: 1556.4210903\ttotal: 8.68s\tremaining: 8.65s\n",
      "600:\tlearn: 1536.3636815\ttotal: 10.5s\tremaining: 6.98s\n",
      "700:\tlearn: 1518.9183288\ttotal: 12.1s\tremaining: 5.18s\n",
      "800:\tlearn: 1504.7011532\ttotal: 13.8s\tremaining: 3.42s\n",
      "900:\tlearn: 1491.5368611\ttotal: 15.4s\tremaining: 1.69s\n",
      "999:\tlearn: 1480.2252344\ttotal: 17s\tremaining: 0us\n",
      "0:\tlearn: 3858.3159400\ttotal: 19.8ms\tremaining: 19.7s\n",
      "100:\tlearn: 1737.9282359\ttotal: 1.67s\tremaining: 14.8s\n",
      "200:\tlearn: 1660.4880581\ttotal: 3.32s\tremaining: 13.2s\n",
      "300:\tlearn: 1619.1592439\ttotal: 4.91s\tremaining: 11.4s\n",
      "400:\tlearn: 1589.3527768\ttotal: 6.62s\tremaining: 9.89s\n",
      "500:\tlearn: 1563.1932490\ttotal: 8.35s\tremaining: 8.32s\n",
      "600:\tlearn: 1543.2146663\ttotal: 10s\tremaining: 6.66s\n",
      "700:\tlearn: 1527.2174583\ttotal: 11.9s\tremaining: 5.07s\n",
      "800:\tlearn: 1512.4630901\ttotal: 13.7s\tremaining: 3.4s\n",
      "900:\tlearn: 1499.1629533\ttotal: 15.3s\tremaining: 1.68s\n",
      "999:\tlearn: 1488.4786088\ttotal: 16.9s\tremaining: 0us\n",
      "0:\tlearn: 3650.1637704\ttotal: 16.7ms\tremaining: 16.7s\n",
      "100:\tlearn: 1712.7772056\ttotal: 1.74s\tremaining: 15.5s\n",
      "200:\tlearn: 1635.3551960\ttotal: 3.74s\tremaining: 14.9s\n",
      "300:\tlearn: 1590.4857879\ttotal: 5.33s\tremaining: 12.4s\n",
      "400:\tlearn: 1559.1464335\ttotal: 7.09s\tremaining: 10.6s\n",
      "500:\tlearn: 1534.8850393\ttotal: 8.68s\tremaining: 8.65s\n",
      "600:\tlearn: 1515.0860167\ttotal: 10.3s\tremaining: 6.81s\n",
      "700:\tlearn: 1497.5845152\ttotal: 11.9s\tremaining: 5.07s\n",
      "800:\tlearn: 1482.5073801\ttotal: 13.6s\tremaining: 3.38s\n",
      "900:\tlearn: 1467.9730137\ttotal: 15.2s\tremaining: 1.67s\n",
      "999:\tlearn: 1454.6020021\ttotal: 16.9s\tremaining: 0us\n",
      "0:\tlearn: 3633.3271036\ttotal: 16.6ms\tremaining: 16.6s\n",
      "100:\tlearn: 1713.5960667\ttotal: 1.64s\tremaining: 14.6s\n",
      "200:\tlearn: 1626.6875873\ttotal: 3.31s\tremaining: 13.2s\n",
      "300:\tlearn: 1583.0316563\ttotal: 4.94s\tremaining: 11.5s\n",
      "400:\tlearn: 1551.4237215\ttotal: 6.56s\tremaining: 9.81s\n",
      "500:\tlearn: 1525.0895808\ttotal: 8.38s\tremaining: 8.35s\n",
      "600:\tlearn: 1504.4536637\ttotal: 10s\tremaining: 6.66s\n",
      "700:\tlearn: 1485.3694715\ttotal: 11.7s\tremaining: 4.97s\n",
      "800:\tlearn: 1471.3354126\ttotal: 13.2s\tremaining: 3.28s\n",
      "900:\tlearn: 1456.8546008\ttotal: 14.8s\tremaining: 1.62s\n",
      "999:\tlearn: 1443.8376762\ttotal: 16.3s\tremaining: 0us\n",
      "0:\tlearn: 3631.7381795\ttotal: 16.6ms\tremaining: 16.6s\n",
      "100:\tlearn: 1718.9178302\ttotal: 1.8s\tremaining: 16.1s\n",
      "200:\tlearn: 1639.1869844\ttotal: 3.41s\tremaining: 13.6s\n",
      "300:\tlearn: 1595.0912410\ttotal: 5s\tremaining: 11.6s\n",
      "400:\tlearn: 1564.9377396\ttotal: 6.64s\tremaining: 9.92s\n",
      "500:\tlearn: 1540.4854554\ttotal: 8.3s\tremaining: 8.27s\n",
      "600:\tlearn: 1519.3572276\ttotal: 10s\tremaining: 6.64s\n",
      "700:\tlearn: 1501.6687195\ttotal: 11.7s\tremaining: 5s\n",
      "800:\tlearn: 1486.0304638\ttotal: 13.3s\tremaining: 3.31s\n",
      "900:\tlearn: 1473.2881712\ttotal: 14.9s\tremaining: 1.64s\n",
      "999:\tlearn: 1460.0998150\ttotal: 16.5s\tremaining: 0us\n",
      "0:\tlearn: 4379.8785391\ttotal: 26.7ms\tremaining: 33.4s\n",
      "100:\tlearn: 1891.7488518\ttotal: 2.17s\tremaining: 24.7s\n",
      "200:\tlearn: 1786.9381960\ttotal: 4.01s\tremaining: 20.9s\n",
      "300:\tlearn: 1734.5339495\ttotal: 5.62s\tremaining: 17.7s\n",
      "400:\tlearn: 1700.5719733\ttotal: 7.39s\tremaining: 15.6s\n",
      "500:\tlearn: 1676.5087406\ttotal: 9.28s\tremaining: 13.9s\n",
      "600:\tlearn: 1655.9539006\ttotal: 10.9s\tremaining: 11.7s\n",
      "700:\tlearn: 1639.2786240\ttotal: 12.5s\tremaining: 9.76s\n",
      "800:\tlearn: 1624.4844433\ttotal: 14s\tremaining: 7.87s\n",
      "900:\tlearn: 1612.0019033\ttotal: 15.6s\tremaining: 6.05s\n",
      "1000:\tlearn: 1601.4246917\ttotal: 17.3s\tremaining: 4.29s\n",
      "1100:\tlearn: 1591.8506530\ttotal: 19s\tremaining: 2.56s\n",
      "1200:\tlearn: 1583.0033849\ttotal: 20.6s\tremaining: 839ms\n",
      "1249:\tlearn: 1578.4228883\ttotal: 21.4s\tremaining: 0us\n",
      "0:\tlearn: 4364.2196061\ttotal: 17.5ms\tremaining: 21.9s\n",
      "100:\tlearn: 1878.6442655\ttotal: 1.66s\tremaining: 18.9s\n",
      "200:\tlearn: 1772.2518671\ttotal: 3.29s\tremaining: 17.1s\n",
      "300:\tlearn: 1723.5255248\ttotal: 4.88s\tremaining: 15.4s\n",
      "400:\tlearn: 1689.9623175\ttotal: 6.47s\tremaining: 13.7s\n",
      "500:\tlearn: 1665.5524244\ttotal: 8.22s\tremaining: 12.3s\n",
      "600:\tlearn: 1646.2187109\ttotal: 10.4s\tremaining: 11.3s\n",
      "700:\tlearn: 1630.3952993\ttotal: 12.1s\tremaining: 9.5s\n",
      "800:\tlearn: 1616.2409491\ttotal: 13.7s\tremaining: 7.68s\n",
      "900:\tlearn: 1603.5416245\ttotal: 15.4s\tremaining: 5.97s\n",
      "1000:\tlearn: 1593.2372391\ttotal: 17s\tremaining: 4.23s\n",
      "1100:\tlearn: 1583.4145222\ttotal: 18.9s\tremaining: 2.56s\n",
      "1200:\tlearn: 1574.6061895\ttotal: 20.5s\tremaining: 835ms\n",
      "1249:\tlearn: 1570.4383849\ttotal: 21.2s\tremaining: 0us\n",
      "0:\tlearn: 4366.1316343\ttotal: 17.5ms\tremaining: 21.8s\n",
      "100:\tlearn: 1888.6973661\ttotal: 1.71s\tremaining: 19.4s\n",
      "200:\tlearn: 1783.8933334\ttotal: 3.32s\tremaining: 17.3s\n",
      "300:\tlearn: 1729.8731066\ttotal: 4.93s\tremaining: 15.6s\n",
      "400:\tlearn: 1696.9011384\ttotal: 6.51s\tremaining: 13.8s\n",
      "500:\tlearn: 1671.6390929\ttotal: 8.08s\tremaining: 12.1s\n",
      "600:\tlearn: 1653.2451879\ttotal: 9.67s\tremaining: 10.4s\n",
      "700:\tlearn: 1637.6920905\ttotal: 11.4s\tremaining: 8.9s\n",
      "800:\tlearn: 1624.0111585\ttotal: 12.9s\tremaining: 7.25s\n",
      "900:\tlearn: 1612.1682725\ttotal: 14.5s\tremaining: 5.62s\n",
      "1000:\tlearn: 1601.5231616\ttotal: 16.1s\tremaining: 4s\n",
      "1100:\tlearn: 1591.8084030\ttotal: 17.6s\tremaining: 2.38s\n",
      "1200:\tlearn: 1582.8621470\ttotal: 19.2s\tremaining: 783ms\n",
      "1249:\tlearn: 1578.5441943\ttotal: 20s\tremaining: 0us\n",
      "0:\tlearn: 4119.4656184\ttotal: 16.7ms\tremaining: 20.8s\n",
      "100:\tlearn: 1787.9973491\ttotal: 1.6s\tremaining: 18.3s\n",
      "200:\tlearn: 1703.5763319\ttotal: 3.17s\tremaining: 16.5s\n",
      "300:\tlearn: 1659.6343009\ttotal: 4.7s\tremaining: 14.8s\n",
      "400:\tlearn: 1627.5921983\ttotal: 6.33s\tremaining: 13.4s\n",
      "500:\tlearn: 1603.1302044\ttotal: 7.92s\tremaining: 11.8s\n",
      "600:\tlearn: 1584.1952470\ttotal: 9.52s\tremaining: 10.3s\n",
      "700:\tlearn: 1567.6006526\ttotal: 11.1s\tremaining: 8.7s\n",
      "800:\tlearn: 1554.4723648\ttotal: 12.6s\tremaining: 7.08s\n",
      "900:\tlearn: 1542.5877273\ttotal: 14.2s\tremaining: 5.5s\n",
      "1000:\tlearn: 1532.4881013\ttotal: 15.8s\tremaining: 3.92s\n",
      "1100:\tlearn: 1521.9408695\ttotal: 17.3s\tremaining: 2.35s\n",
      "1200:\tlearn: 1512.0368864\ttotal: 18.9s\tremaining: 771ms\n",
      "1249:\tlearn: 1508.0391636\ttotal: 19.6s\tremaining: 0us\n",
      "0:\tlearn: 4103.4603734\ttotal: 17.3ms\tremaining: 21.6s\n",
      "100:\tlearn: 1773.0829327\ttotal: 1.62s\tremaining: 18.4s\n",
      "200:\tlearn: 1689.9735442\ttotal: 3.18s\tremaining: 16.6s\n",
      "300:\tlearn: 1646.1224357\ttotal: 4.71s\tremaining: 14.9s\n",
      "400:\tlearn: 1616.3550570\ttotal: 6.26s\tremaining: 13.3s\n",
      "500:\tlearn: 1592.2569516\ttotal: 7.89s\tremaining: 11.8s\n",
      "600:\tlearn: 1573.4375362\ttotal: 9.53s\tremaining: 10.3s\n",
      "700:\tlearn: 1557.0920160\ttotal: 11.1s\tremaining: 8.7s\n",
      "800:\tlearn: 1543.4645258\ttotal: 12.7s\tremaining: 7.11s\n",
      "900:\tlearn: 1532.0222885\ttotal: 14.4s\tremaining: 5.56s\n",
      "1000:\tlearn: 1520.7551717\ttotal: 16s\tremaining: 3.98s\n",
      "1100:\tlearn: 1510.3924693\ttotal: 17.6s\tremaining: 2.38s\n",
      "1200:\tlearn: 1500.7227861\ttotal: 19.2s\tremaining: 783ms\n",
      "1249:\tlearn: 1496.3626334\ttotal: 20s\tremaining: 0us\n",
      "0:\tlearn: 4104.2006664\ttotal: 16.1ms\tremaining: 20.1s\n",
      "100:\tlearn: 1785.5987330\ttotal: 1.65s\tremaining: 18.7s\n",
      "200:\tlearn: 1701.8963265\ttotal: 3.26s\tremaining: 17s\n",
      "300:\tlearn: 1656.9023893\ttotal: 4.86s\tremaining: 15.3s\n",
      "400:\tlearn: 1626.9172215\ttotal: 6.47s\tremaining: 13.7s\n",
      "500:\tlearn: 1603.0980166\ttotal: 8.02s\tremaining: 12s\n",
      "600:\tlearn: 1584.7703461\ttotal: 9.64s\tremaining: 10.4s\n",
      "700:\tlearn: 1568.6584181\ttotal: 11.2s\tremaining: 8.77s\n",
      "800:\tlearn: 1554.2927053\ttotal: 12.8s\tremaining: 7.16s\n",
      "900:\tlearn: 1541.4638457\ttotal: 14.3s\tremaining: 5.55s\n",
      "1000:\tlearn: 1530.9661154\ttotal: 15.9s\tremaining: 3.95s\n",
      "1100:\tlearn: 1520.4761620\ttotal: 17.4s\tremaining: 2.36s\n",
      "1200:\tlearn: 1510.9200839\ttotal: 19s\tremaining: 774ms\n",
      "1249:\tlearn: 1506.8106156\ttotal: 19.7s\tremaining: 0us\n",
      "0:\tlearn: 3875.1494624\ttotal: 18.4ms\tremaining: 23s\n",
      "100:\tlearn: 1739.9955252\ttotal: 1.63s\tremaining: 18.5s\n",
      "200:\tlearn: 1661.7161713\ttotal: 3.23s\tremaining: 16.8s\n",
      "300:\tlearn: 1617.3243735\ttotal: 4.86s\tremaining: 15.3s\n",
      "400:\tlearn: 1587.4915210\ttotal: 6.41s\tremaining: 13.6s\n",
      "500:\tlearn: 1563.8023003\ttotal: 7.97s\tremaining: 11.9s\n",
      "600:\tlearn: 1544.5671793\ttotal: 9.53s\tremaining: 10.3s\n",
      "700:\tlearn: 1528.3392275\ttotal: 11.1s\tremaining: 8.68s\n",
      "800:\tlearn: 1514.7226851\ttotal: 12.6s\tremaining: 7.08s\n",
      "900:\tlearn: 1501.2176042\ttotal: 14.3s\tremaining: 5.52s\n",
      "1000:\tlearn: 1488.9394928\ttotal: 16s\tremaining: 3.97s\n",
      "1100:\tlearn: 1476.9701759\ttotal: 17.5s\tremaining: 2.37s\n",
      "1200:\tlearn: 1466.9237075\ttotal: 19.1s\tremaining: 778ms\n",
      "1249:\tlearn: 1461.6018443\ttotal: 19.8s\tremaining: 0us\n",
      "0:\tlearn: 3858.7482329\ttotal: 17.6ms\tremaining: 22s\n",
      "100:\tlearn: 1733.1158252\ttotal: 1.61s\tremaining: 18.3s\n",
      "200:\tlearn: 1656.7167936\ttotal: 3.18s\tremaining: 16.6s\n",
      "300:\tlearn: 1610.4408457\ttotal: 4.75s\tremaining: 15s\n",
      "400:\tlearn: 1579.9378761\ttotal: 6.45s\tremaining: 13.6s\n",
      "500:\tlearn: 1556.4210903\ttotal: 8.23s\tremaining: 12.3s\n",
      "600:\tlearn: 1536.3636815\ttotal: 9.84s\tremaining: 10.6s\n",
      "700:\tlearn: 1518.9183288\ttotal: 11.4s\tremaining: 8.95s\n",
      "800:\tlearn: 1504.7011532\ttotal: 13s\tremaining: 7.29s\n",
      "900:\tlearn: 1491.5368611\ttotal: 14.6s\tremaining: 5.65s\n",
      "1000:\tlearn: 1479.9789066\ttotal: 16.2s\tremaining: 4.03s\n",
      "1100:\tlearn: 1468.4239300\ttotal: 17.7s\tremaining: 2.4s\n",
      "1200:\tlearn: 1457.7761758\ttotal: 19.3s\tremaining: 786ms\n",
      "1249:\tlearn: 1452.8691675\ttotal: 20.1s\tremaining: 0us\n",
      "0:\tlearn: 3858.3159400\ttotal: 17.3ms\tremaining: 21.6s\n",
      "100:\tlearn: 1737.9282359\ttotal: 1.62s\tremaining: 18.5s\n",
      "200:\tlearn: 1660.4880581\ttotal: 3.23s\tremaining: 16.9s\n",
      "300:\tlearn: 1619.1592439\ttotal: 4.79s\tremaining: 15.1s\n",
      "400:\tlearn: 1589.3527768\ttotal: 6.32s\tremaining: 13.4s\n",
      "500:\tlearn: 1563.1932490\ttotal: 7.87s\tremaining: 11.8s\n",
      "600:\tlearn: 1543.2146663\ttotal: 9.4s\tremaining: 10.1s\n",
      "700:\tlearn: 1527.2174583\ttotal: 10.9s\tremaining: 8.55s\n",
      "800:\tlearn: 1512.4630901\ttotal: 12.5s\tremaining: 7.01s\n",
      "900:\tlearn: 1499.1629533\ttotal: 14.2s\tremaining: 5.49s\n",
      "1000:\tlearn: 1488.3696508\ttotal: 15.8s\tremaining: 3.92s\n",
      "1100:\tlearn: 1478.2696554\ttotal: 17.6s\tremaining: 2.38s\n",
      "1200:\tlearn: 1467.5975677\ttotal: 19.2s\tremaining: 783ms\n",
      "1249:\tlearn: 1463.2202870\ttotal: 19.9s\tremaining: 0us\n",
      "0:\tlearn: 3650.1637704\ttotal: 16.6ms\tremaining: 20.8s\n",
      "100:\tlearn: 1712.7772056\ttotal: 1.63s\tremaining: 18.5s\n",
      "200:\tlearn: 1635.3551960\ttotal: 3.45s\tremaining: 18s\n",
      "300:\tlearn: 1590.4857879\ttotal: 5.16s\tremaining: 16.3s\n",
      "400:\tlearn: 1559.1464335\ttotal: 6.83s\tremaining: 14.5s\n",
      "500:\tlearn: 1534.8850393\ttotal: 8.39s\tremaining: 12.5s\n",
      "600:\tlearn: 1515.0860167\ttotal: 9.96s\tremaining: 10.8s\n",
      "700:\tlearn: 1497.5845152\ttotal: 11.6s\tremaining: 9.07s\n",
      "800:\tlearn: 1482.5073801\ttotal: 13.2s\tremaining: 7.37s\n",
      "900:\tlearn: 1467.9730137\ttotal: 14.7s\tremaining: 5.69s\n",
      "1000:\tlearn: 1454.5420442\ttotal: 16.3s\tremaining: 4.05s\n",
      "1100:\tlearn: 1443.0203179\ttotal: 17.8s\tremaining: 2.41s\n",
      "1200:\tlearn: 1432.8383009\ttotal: 19.4s\tremaining: 793ms\n",
      "1249:\tlearn: 1428.1697129\ttotal: 20.2s\tremaining: 0us\n",
      "0:\tlearn: 3633.3271036\ttotal: 18.2ms\tremaining: 22.7s\n",
      "100:\tlearn: 1713.5960667\ttotal: 1.62s\tremaining: 18.5s\n",
      "200:\tlearn: 1626.6875873\ttotal: 3.19s\tremaining: 16.7s\n",
      "300:\tlearn: 1583.0316563\ttotal: 4.94s\tremaining: 15.6s\n",
      "400:\tlearn: 1551.4237215\ttotal: 6.75s\tremaining: 14.3s\n",
      "500:\tlearn: 1525.0895808\ttotal: 8.33s\tremaining: 12.5s\n",
      "600:\tlearn: 1504.4536637\ttotal: 9.92s\tremaining: 10.7s\n",
      "700:\tlearn: 1485.3694715\ttotal: 11.6s\tremaining: 9.09s\n",
      "800:\tlearn: 1471.3354126\ttotal: 13.2s\tremaining: 7.38s\n",
      "900:\tlearn: 1456.8546008\ttotal: 14.7s\tremaining: 5.71s\n",
      "1000:\tlearn: 1443.7338784\ttotal: 16.3s\tremaining: 4.05s\n",
      "1100:\tlearn: 1433.2550366\ttotal: 17.9s\tremaining: 2.42s\n",
      "1200:\tlearn: 1421.1643666\ttotal: 19.5s\tremaining: 794ms\n",
      "1249:\tlearn: 1416.3359568\ttotal: 20.2s\tremaining: 0us\n",
      "0:\tlearn: 3631.7381795\ttotal: 15.5ms\tremaining: 19.4s\n",
      "100:\tlearn: 1718.9178302\ttotal: 1.59s\tremaining: 18.1s\n",
      "200:\tlearn: 1639.1869844\ttotal: 3.21s\tremaining: 16.8s\n",
      "300:\tlearn: 1595.0912410\ttotal: 4.8s\tremaining: 15.1s\n",
      "400:\tlearn: 1564.9377396\ttotal: 6.41s\tremaining: 13.6s\n",
      "500:\tlearn: 1540.4854554\ttotal: 8.01s\tremaining: 12s\n",
      "600:\tlearn: 1519.3572276\ttotal: 9.64s\tremaining: 10.4s\n",
      "700:\tlearn: 1501.6687195\ttotal: 11.2s\tremaining: 8.76s\n",
      "800:\tlearn: 1486.0304638\ttotal: 12.8s\tremaining: 7.16s\n",
      "900:\tlearn: 1473.2881712\ttotal: 14.3s\tremaining: 5.55s\n",
      "1000:\tlearn: 1459.9974733\ttotal: 15.9s\tremaining: 3.95s\n",
      "1100:\tlearn: 1448.2316712\ttotal: 17.5s\tremaining: 2.37s\n",
      "1200:\tlearn: 1437.0952422\ttotal: 19.1s\tremaining: 777ms\n",
      "1249:\tlearn: 1431.4645162\ttotal: 19.9s\tremaining: 0us\n",
      "0:\tlearn: 4379.8785391\ttotal: 17.4ms\tremaining: 26.1s\n",
      "100:\tlearn: 1891.7488518\ttotal: 1.65s\tremaining: 22.8s\n",
      "200:\tlearn: 1786.9381960\ttotal: 3.19s\tremaining: 20.6s\n",
      "300:\tlearn: 1734.5339495\ttotal: 4.75s\tremaining: 18.9s\n",
      "400:\tlearn: 1700.5719733\ttotal: 6.3s\tremaining: 17.3s\n",
      "500:\tlearn: 1676.5087406\ttotal: 7.82s\tremaining: 15.6s\n",
      "600:\tlearn: 1655.9539006\ttotal: 9.39s\tremaining: 14s\n",
      "700:\tlearn: 1639.2786240\ttotal: 11s\tremaining: 12.5s\n",
      "800:\tlearn: 1624.4844433\ttotal: 12.6s\tremaining: 11s\n",
      "900:\tlearn: 1612.0019033\ttotal: 14.1s\tremaining: 9.4s\n",
      "1000:\tlearn: 1601.4246917\ttotal: 15.7s\tremaining: 7.85s\n",
      "1100:\tlearn: 1591.8506530\ttotal: 17.3s\tremaining: 6.28s\n",
      "1200:\tlearn: 1583.0033849\ttotal: 19s\tremaining: 4.72s\n",
      "1300:\tlearn: 1574.2429148\ttotal: 20.5s\tremaining: 3.14s\n",
      "1400:\tlearn: 1566.4883443\ttotal: 22.1s\tremaining: 1.56s\n",
      "1499:\tlearn: 1559.6324218\ttotal: 23.7s\tremaining: 0us\n",
      "0:\tlearn: 4364.2196061\ttotal: 18.3ms\tremaining: 27.4s\n",
      "100:\tlearn: 1878.6442655\ttotal: 1.7s\tremaining: 23.6s\n",
      "200:\tlearn: 1772.2518671\ttotal: 3.26s\tremaining: 21.1s\n",
      "300:\tlearn: 1723.5255248\ttotal: 4.84s\tremaining: 19.3s\n",
      "400:\tlearn: 1689.9623175\ttotal: 6.39s\tremaining: 17.5s\n",
      "500:\tlearn: 1665.5524244\ttotal: 7.94s\tremaining: 15.8s\n",
      "600:\tlearn: 1646.2187109\ttotal: 9.47s\tremaining: 14.2s\n",
      "700:\tlearn: 1630.3952993\ttotal: 11s\tremaining: 12.5s\n",
      "800:\tlearn: 1616.2409491\ttotal: 12.6s\tremaining: 11s\n",
      "900:\tlearn: 1603.5416245\ttotal: 14.1s\tremaining: 9.38s\n",
      "1000:\tlearn: 1593.2372391\ttotal: 15.7s\tremaining: 7.83s\n",
      "1100:\tlearn: 1583.4145222\ttotal: 17.4s\tremaining: 6.3s\n",
      "1200:\tlearn: 1574.6061895\ttotal: 18.9s\tremaining: 4.72s\n",
      "1300:\tlearn: 1565.8583038\ttotal: 20.5s\tremaining: 3.13s\n",
      "1400:\tlearn: 1558.5555371\ttotal: 22s\tremaining: 1.56s\n",
      "1499:\tlearn: 1551.7350928\ttotal: 23.6s\tremaining: 0us\n",
      "0:\tlearn: 4366.1316343\ttotal: 16.8ms\tremaining: 25.1s\n",
      "100:\tlearn: 1888.6973661\ttotal: 1.67s\tremaining: 23.1s\n",
      "200:\tlearn: 1783.8933334\ttotal: 3.23s\tremaining: 20.9s\n",
      "300:\tlearn: 1729.8731066\ttotal: 4.85s\tremaining: 19.3s\n",
      "400:\tlearn: 1696.9011384\ttotal: 6.45s\tremaining: 17.7s\n",
      "500:\tlearn: 1671.6390929\ttotal: 8.11s\tremaining: 16.2s\n",
      "600:\tlearn: 1653.2451879\ttotal: 9.66s\tremaining: 14.5s\n",
      "700:\tlearn: 1637.6920905\ttotal: 11.2s\tremaining: 12.8s\n",
      "800:\tlearn: 1624.0111585\ttotal: 12.8s\tremaining: 11.1s\n",
      "900:\tlearn: 1612.1682725\ttotal: 14.3s\tremaining: 9.49s\n",
      "1000:\tlearn: 1601.5231616\ttotal: 15.9s\tremaining: 7.9s\n",
      "1100:\tlearn: 1591.8084030\ttotal: 17.4s\tremaining: 6.32s\n",
      "1200:\tlearn: 1582.8621470\ttotal: 19s\tremaining: 4.74s\n",
      "1300:\tlearn: 1574.3827598\ttotal: 20.6s\tremaining: 3.15s\n",
      "1400:\tlearn: 1567.0628395\ttotal: 22.2s\tremaining: 1.57s\n",
      "1499:\tlearn: 1559.9816908\ttotal: 23.7s\tremaining: 0us\n",
      "0:\tlearn: 4119.4656184\ttotal: 22ms\tremaining: 33s\n",
      "100:\tlearn: 1787.9973491\ttotal: 1.75s\tremaining: 24.2s\n",
      "200:\tlearn: 1703.5763319\ttotal: 3.32s\tremaining: 21.5s\n",
      "300:\tlearn: 1659.6343009\ttotal: 4.93s\tremaining: 19.7s\n",
      "400:\tlearn: 1627.5921983\ttotal: 6.51s\tremaining: 17.9s\n",
      "500:\tlearn: 1603.1302044\ttotal: 8.07s\tremaining: 16.1s\n",
      "600:\tlearn: 1584.1952470\ttotal: 9.61s\tremaining: 14.4s\n",
      "700:\tlearn: 1567.6006526\ttotal: 11.2s\tremaining: 12.7s\n",
      "800:\tlearn: 1554.4723648\ttotal: 12.7s\tremaining: 11.1s\n",
      "900:\tlearn: 1542.5877273\ttotal: 14.3s\tremaining: 9.51s\n",
      "1000:\tlearn: 1532.4881013\ttotal: 15.8s\tremaining: 7.89s\n",
      "1100:\tlearn: 1521.9408695\ttotal: 17.4s\tremaining: 6.29s\n",
      "1200:\tlearn: 1512.0368864\ttotal: 19s\tremaining: 4.72s\n",
      "1300:\tlearn: 1503.6149693\ttotal: 20.6s\tremaining: 3.15s\n",
      "1400:\tlearn: 1495.1519485\ttotal: 22.2s\tremaining: 1.57s\n",
      "1499:\tlearn: 1487.3013271\ttotal: 23.8s\tremaining: 0us\n",
      "0:\tlearn: 4103.4603734\ttotal: 17.3ms\tremaining: 26s\n",
      "100:\tlearn: 1773.0829327\ttotal: 1.6s\tremaining: 22.2s\n",
      "200:\tlearn: 1689.9735442\ttotal: 3.17s\tremaining: 20.5s\n",
      "300:\tlearn: 1646.1224357\ttotal: 4.72s\tremaining: 18.8s\n",
      "400:\tlearn: 1616.3550570\ttotal: 6.26s\tremaining: 17.2s\n",
      "500:\tlearn: 1592.2569516\ttotal: 7.84s\tremaining: 15.6s\n",
      "600:\tlearn: 1573.4375362\ttotal: 9.41s\tremaining: 14.1s\n",
      "700:\tlearn: 1557.0920160\ttotal: 10.9s\tremaining: 12.5s\n",
      "800:\tlearn: 1543.4645258\ttotal: 12.5s\tremaining: 10.9s\n",
      "900:\tlearn: 1532.0222885\ttotal: 14.1s\tremaining: 9.34s\n",
      "1000:\tlearn: 1520.7551717\ttotal: 15.6s\tremaining: 7.79s\n",
      "1100:\tlearn: 1510.3924693\ttotal: 17.1s\tremaining: 6.21s\n",
      "1200:\tlearn: 1500.7227861\ttotal: 18.7s\tremaining: 4.65s\n",
      "1300:\tlearn: 1492.2591609\ttotal: 20.2s\tremaining: 3.1s\n",
      "1400:\tlearn: 1484.6728506\ttotal: 21.8s\tremaining: 1.54s\n",
      "1499:\tlearn: 1476.9387997\ttotal: 23.4s\tremaining: 0us\n",
      "0:\tlearn: 4104.2006664\ttotal: 16.2ms\tremaining: 24.3s\n",
      "100:\tlearn: 1785.5987330\ttotal: 1.63s\tremaining: 22.6s\n",
      "200:\tlearn: 1701.8963265\ttotal: 3.2s\tremaining: 20.7s\n",
      "300:\tlearn: 1656.9023893\ttotal: 4.81s\tremaining: 19.2s\n",
      "400:\tlearn: 1626.9172215\ttotal: 6.43s\tremaining: 17.6s\n",
      "500:\tlearn: 1603.0980166\ttotal: 8.01s\tremaining: 16s\n",
      "600:\tlearn: 1584.7703461\ttotal: 9.59s\tremaining: 14.3s\n",
      "700:\tlearn: 1568.6584181\ttotal: 11.2s\tremaining: 12.8s\n",
      "800:\tlearn: 1554.2927053\ttotal: 12.8s\tremaining: 11.2s\n",
      "900:\tlearn: 1541.4638457\ttotal: 14.4s\tremaining: 9.56s\n",
      "1000:\tlearn: 1530.9661154\ttotal: 16s\tremaining: 7.96s\n",
      "1100:\tlearn: 1520.4761620\ttotal: 17.6s\tremaining: 6.36s\n",
      "1200:\tlearn: 1510.9200839\ttotal: 19.1s\tremaining: 4.76s\n",
      "1300:\tlearn: 1502.4907944\ttotal: 20.7s\tremaining: 3.16s\n",
      "1400:\tlearn: 1494.2946316\ttotal: 22.2s\tremaining: 1.57s\n",
      "1499:\tlearn: 1487.1548930\ttotal: 23.7s\tremaining: 0us\n",
      "0:\tlearn: 3875.1494624\ttotal: 17ms\tremaining: 25.5s\n",
      "100:\tlearn: 1739.9955252\ttotal: 1.71s\tremaining: 23.7s\n",
      "200:\tlearn: 1661.7161713\ttotal: 3.46s\tremaining: 22.4s\n",
      "300:\tlearn: 1617.3243735\ttotal: 5.03s\tremaining: 20s\n",
      "400:\tlearn: 1587.4915210\ttotal: 6.56s\tremaining: 18s\n",
      "500:\tlearn: 1563.8023003\ttotal: 8.11s\tremaining: 16.2s\n",
      "600:\tlearn: 1544.5671793\ttotal: 9.71s\tremaining: 14.5s\n",
      "700:\tlearn: 1528.3392275\ttotal: 11.3s\tremaining: 12.8s\n",
      "800:\tlearn: 1514.7226851\ttotal: 12.8s\tremaining: 11.2s\n",
      "900:\tlearn: 1501.2176042\ttotal: 14.4s\tremaining: 9.58s\n",
      "1000:\tlearn: 1488.9394928\ttotal: 16s\tremaining: 7.96s\n",
      "1100:\tlearn: 1476.9701759\ttotal: 17.5s\tremaining: 6.34s\n",
      "1200:\tlearn: 1466.9237075\ttotal: 19s\tremaining: 4.74s\n",
      "1300:\tlearn: 1456.4428983\ttotal: 20.6s\tremaining: 3.15s\n",
      "1400:\tlearn: 1447.1342452\ttotal: 22.2s\tremaining: 1.57s\n",
      "1499:\tlearn: 1439.3456921\ttotal: 23.7s\tremaining: 0us\n",
      "0:\tlearn: 3858.7482329\ttotal: 17ms\tremaining: 25.4s\n",
      "100:\tlearn: 1733.1158252\ttotal: 1.62s\tremaining: 22.5s\n",
      "200:\tlearn: 1656.7167936\ttotal: 3.29s\tremaining: 21.3s\n",
      "300:\tlearn: 1610.4408457\ttotal: 4.91s\tremaining: 19.6s\n",
      "400:\tlearn: 1579.9378761\ttotal: 6.5s\tremaining: 17.8s\n",
      "500:\tlearn: 1556.4210903\ttotal: 8.1s\tremaining: 16.2s\n",
      "600:\tlearn: 1536.3636815\ttotal: 9.64s\tremaining: 14.4s\n",
      "700:\tlearn: 1518.9183288\ttotal: 11.2s\tremaining: 12.8s\n",
      "800:\tlearn: 1504.7011532\ttotal: 12.8s\tremaining: 11.2s\n",
      "900:\tlearn: 1491.5368611\ttotal: 14.3s\tremaining: 9.54s\n",
      "1000:\tlearn: 1479.9789066\ttotal: 16s\tremaining: 7.98s\n",
      "1100:\tlearn: 1468.4239300\ttotal: 17.6s\tremaining: 6.37s\n",
      "1200:\tlearn: 1457.7761758\ttotal: 19.1s\tremaining: 4.77s\n",
      "1300:\tlearn: 1448.4304157\ttotal: 20.9s\tremaining: 3.19s\n",
      "1400:\tlearn: 1439.3379017\ttotal: 22.4s\tremaining: 1.58s\n",
      "1499:\tlearn: 1430.5528037\ttotal: 24s\tremaining: 0us\n",
      "0:\tlearn: 3858.3159400\ttotal: 15.9ms\tremaining: 23.8s\n",
      "100:\tlearn: 1737.9282359\ttotal: 1.58s\tremaining: 21.8s\n",
      "200:\tlearn: 1660.4880581\ttotal: 3.12s\tremaining: 20.2s\n",
      "300:\tlearn: 1619.1592439\ttotal: 4.67s\tremaining: 18.6s\n",
      "400:\tlearn: 1589.3527768\ttotal: 6.32s\tremaining: 17.3s\n",
      "500:\tlearn: 1563.1932490\ttotal: 7.92s\tremaining: 15.8s\n",
      "600:\tlearn: 1543.2146663\ttotal: 9.52s\tremaining: 14.2s\n",
      "700:\tlearn: 1527.2174583\ttotal: 11.2s\tremaining: 12.7s\n",
      "800:\tlearn: 1512.4630901\ttotal: 12.8s\tremaining: 11.2s\n",
      "900:\tlearn: 1499.1629533\ttotal: 14.8s\tremaining: 9.85s\n",
      "1000:\tlearn: 1488.3696508\ttotal: 16.4s\tremaining: 8.17s\n",
      "1100:\tlearn: 1478.2696554\ttotal: 17.9s\tremaining: 6.49s\n",
      "1200:\tlearn: 1467.5975677\ttotal: 19.5s\tremaining: 4.85s\n",
      "1300:\tlearn: 1458.2935609\ttotal: 21.2s\tremaining: 3.24s\n",
      "1400:\tlearn: 1450.4039931\ttotal: 22.8s\tremaining: 1.61s\n",
      "1499:\tlearn: 1442.3560232\ttotal: 24.3s\tremaining: 0us\n",
      "0:\tlearn: 3650.1637704\ttotal: 17.9ms\tremaining: 26.9s\n",
      "100:\tlearn: 1712.7772056\ttotal: 1.59s\tremaining: 22.1s\n",
      "200:\tlearn: 1635.3551960\ttotal: 3.13s\tremaining: 20.3s\n",
      "300:\tlearn: 1590.4857879\ttotal: 4.67s\tremaining: 18.6s\n",
      "400:\tlearn: 1559.1464335\ttotal: 6.24s\tremaining: 17.1s\n",
      "500:\tlearn: 1534.8850393\ttotal: 7.82s\tremaining: 15.6s\n",
      "600:\tlearn: 1515.0860167\ttotal: 9.43s\tremaining: 14.1s\n",
      "700:\tlearn: 1497.5845152\ttotal: 11s\tremaining: 12.6s\n",
      "800:\tlearn: 1482.5073801\ttotal: 12.6s\tremaining: 11s\n",
      "900:\tlearn: 1467.9730137\ttotal: 14.2s\tremaining: 9.43s\n",
      "1000:\tlearn: 1454.5420442\ttotal: 15.9s\tremaining: 7.91s\n",
      "1100:\tlearn: 1443.0203179\ttotal: 17.5s\tremaining: 6.33s\n",
      "1200:\tlearn: 1432.8383009\ttotal: 19.1s\tremaining: 4.75s\n",
      "1300:\tlearn: 1423.5612045\ttotal: 20.6s\tremaining: 3.15s\n",
      "1400:\tlearn: 1413.0883576\ttotal: 22.2s\tremaining: 1.57s\n",
      "1499:\tlearn: 1405.1195513\ttotal: 23.7s\tremaining: 0us\n",
      "0:\tlearn: 3633.3271036\ttotal: 17ms\tremaining: 25.5s\n",
      "100:\tlearn: 1713.5960667\ttotal: 1.66s\tremaining: 23s\n",
      "200:\tlearn: 1626.6875873\ttotal: 3.23s\tremaining: 20.8s\n",
      "300:\tlearn: 1583.0316563\ttotal: 4.76s\tremaining: 19s\n",
      "400:\tlearn: 1551.4237215\ttotal: 6.32s\tremaining: 17.3s\n",
      "500:\tlearn: 1525.0895808\ttotal: 7.89s\tremaining: 15.7s\n",
      "600:\tlearn: 1504.4536637\ttotal: 9.45s\tremaining: 14.1s\n",
      "700:\tlearn: 1485.3694715\ttotal: 11s\tremaining: 12.6s\n",
      "800:\tlearn: 1471.3354126\ttotal: 12.6s\tremaining: 11s\n",
      "900:\tlearn: 1456.8546008\ttotal: 14.2s\tremaining: 9.43s\n",
      "1000:\tlearn: 1443.7338784\ttotal: 15.8s\tremaining: 7.88s\n",
      "1100:\tlearn: 1433.2550366\ttotal: 17.4s\tremaining: 6.29s\n",
      "1200:\tlearn: 1421.1643666\ttotal: 18.9s\tremaining: 4.71s\n",
      "1300:\tlearn: 1412.2260209\ttotal: 20.5s\tremaining: 3.14s\n",
      "1400:\tlearn: 1403.7558236\ttotal: 22.1s\tremaining: 1.56s\n",
      "1499:\tlearn: 1395.6318147\ttotal: 23.6s\tremaining: 0us\n",
      "0:\tlearn: 3631.7381795\ttotal: 16.8ms\tremaining: 25.2s\n",
      "100:\tlearn: 1718.9178302\ttotal: 1.62s\tremaining: 22.4s\n",
      "200:\tlearn: 1639.1869844\ttotal: 3.19s\tremaining: 20.6s\n",
      "300:\tlearn: 1595.0912410\ttotal: 4.73s\tremaining: 18.9s\n",
      "400:\tlearn: 1564.9377396\ttotal: 6.3s\tremaining: 17.3s\n",
      "500:\tlearn: 1540.4854554\ttotal: 7.87s\tremaining: 15.7s\n",
      "600:\tlearn: 1519.3572276\ttotal: 9.4s\tremaining: 14.1s\n",
      "700:\tlearn: 1501.6687195\ttotal: 10.9s\tremaining: 12.5s\n",
      "800:\tlearn: 1486.0304638\ttotal: 12.5s\tremaining: 10.9s\n",
      "900:\tlearn: 1473.2881712\ttotal: 14.1s\tremaining: 9.36s\n",
      "1000:\tlearn: 1459.9974733\ttotal: 15.7s\tremaining: 7.82s\n",
      "1100:\tlearn: 1448.2316712\ttotal: 17.3s\tremaining: 6.27s\n",
      "1200:\tlearn: 1437.0952422\ttotal: 18.9s\tremaining: 4.7s\n",
      "1300:\tlearn: 1426.7524403\ttotal: 20.6s\tremaining: 3.14s\n",
      "1400:\tlearn: 1416.4567028\ttotal: 22.1s\tremaining: 1.56s\n",
      "1499:\tlearn: 1406.8832592\ttotal: 23.7s\tremaining: 0us\n",
      "0:\tlearn: 4379.8785391\ttotal: 16.4ms\tremaining: 28.8s\n",
      "100:\tlearn: 1891.7488518\ttotal: 1.64s\tremaining: 26.9s\n",
      "200:\tlearn: 1786.9381960\ttotal: 3.42s\tremaining: 26.3s\n",
      "300:\tlearn: 1734.5339495\ttotal: 4.99s\tremaining: 24s\n",
      "400:\tlearn: 1700.5719733\ttotal: 6.58s\tremaining: 22.1s\n",
      "500:\tlearn: 1676.5087406\ttotal: 8.14s\tremaining: 20.3s\n",
      "600:\tlearn: 1655.9539006\ttotal: 9.74s\tremaining: 18.6s\n",
      "700:\tlearn: 1639.2786240\ttotal: 11.3s\tremaining: 16.9s\n",
      "800:\tlearn: 1624.4844433\ttotal: 12.8s\tremaining: 15.2s\n",
      "900:\tlearn: 1612.0019033\ttotal: 14.4s\tremaining: 13.5s\n",
      "1000:\tlearn: 1601.4246917\ttotal: 15.9s\tremaining: 11.9s\n",
      "1100:\tlearn: 1591.8506530\ttotal: 17.5s\tremaining: 10.3s\n",
      "1200:\tlearn: 1583.0033849\ttotal: 19.1s\tremaining: 8.73s\n",
      "1300:\tlearn: 1574.2429148\ttotal: 20.7s\tremaining: 7.13s\n",
      "1400:\tlearn: 1566.4883443\ttotal: 22.2s\tremaining: 5.54s\n",
      "1500:\tlearn: 1559.4923949\ttotal: 23.9s\tremaining: 3.96s\n",
      "1600:\tlearn: 1553.4873929\ttotal: 25.4s\tremaining: 2.37s\n",
      "1700:\tlearn: 1546.5052870\ttotal: 27s\tremaining: 778ms\n",
      "1749:\tlearn: 1543.7420642\ttotal: 27.8s\tremaining: 0us\n",
      "0:\tlearn: 4364.2196061\ttotal: 16.1ms\tremaining: 28.2s\n",
      "100:\tlearn: 1878.6442655\ttotal: 1.61s\tremaining: 26.4s\n",
      "200:\tlearn: 1772.2518671\ttotal: 3.2s\tremaining: 24.7s\n",
      "300:\tlearn: 1723.5255248\ttotal: 4.75s\tremaining: 22.9s\n",
      "400:\tlearn: 1689.9623175\ttotal: 6.46s\tremaining: 21.8s\n",
      "500:\tlearn: 1665.5524244\ttotal: 8.04s\tremaining: 20s\n",
      "600:\tlearn: 1646.2187109\ttotal: 9.58s\tremaining: 18.3s\n",
      "700:\tlearn: 1630.3952993\ttotal: 11.1s\tremaining: 16.6s\n",
      "800:\tlearn: 1616.2409491\ttotal: 12.7s\tremaining: 15s\n",
      "900:\tlearn: 1603.5416245\ttotal: 14.2s\tremaining: 13.4s\n",
      "1000:\tlearn: 1593.2372391\ttotal: 15.9s\tremaining: 11.9s\n",
      "1100:\tlearn: 1583.4145222\ttotal: 17.6s\tremaining: 10.4s\n",
      "1200:\tlearn: 1574.6061895\ttotal: 19.2s\tremaining: 8.77s\n",
      "1300:\tlearn: 1565.8583038\ttotal: 20.9s\tremaining: 7.2s\n",
      "1400:\tlearn: 1558.5555371\ttotal: 22.5s\tremaining: 5.59s\n",
      "1500:\tlearn: 1551.6917211\ttotal: 24.2s\tremaining: 4.01s\n",
      "1600:\tlearn: 1544.8860781\ttotal: 25.9s\tremaining: 2.4s\n",
      "1700:\tlearn: 1538.1396930\ttotal: 27.5s\tremaining: 792ms\n",
      "1749:\tlearn: 1535.2433144\ttotal: 28.2s\tremaining: 0us\n",
      "0:\tlearn: 4366.1316343\ttotal: 24ms\tremaining: 42s\n",
      "100:\tlearn: 1888.6973661\ttotal: 1.68s\tremaining: 27.5s\n",
      "200:\tlearn: 1783.8933334\ttotal: 3.3s\tremaining: 25.5s\n",
      "300:\tlearn: 1729.8731066\ttotal: 4.94s\tremaining: 23.8s\n",
      "400:\tlearn: 1696.9011384\ttotal: 6.61s\tremaining: 22.3s\n",
      "500:\tlearn: 1671.6390929\ttotal: 8.22s\tremaining: 20.5s\n",
      "600:\tlearn: 1653.2451879\ttotal: 9.87s\tremaining: 18.9s\n",
      "700:\tlearn: 1637.6920905\ttotal: 11.5s\tremaining: 17.3s\n",
      "800:\tlearn: 1624.0111585\ttotal: 13.1s\tremaining: 15.6s\n",
      "900:\tlearn: 1612.1682725\ttotal: 14.8s\tremaining: 13.9s\n",
      "1000:\tlearn: 1601.5231616\ttotal: 16.6s\tremaining: 12.4s\n",
      "1100:\tlearn: 1591.8084030\ttotal: 18.4s\tremaining: 10.8s\n",
      "1200:\tlearn: 1582.8621470\ttotal: 20s\tremaining: 9.15s\n",
      "1300:\tlearn: 1574.3827598\ttotal: 21.8s\tremaining: 7.53s\n",
      "1400:\tlearn: 1567.0628395\ttotal: 23.5s\tremaining: 5.84s\n",
      "1500:\tlearn: 1559.8635931\ttotal: 25.1s\tremaining: 4.16s\n",
      "1600:\tlearn: 1552.4674262\ttotal: 26.7s\tremaining: 2.48s\n",
      "1700:\tlearn: 1546.4756654\ttotal: 28.6s\tremaining: 824ms\n",
      "1749:\tlearn: 1543.2846516\ttotal: 29.4s\tremaining: 0us\n",
      "0:\tlearn: 4119.4656184\ttotal: 18.2ms\tremaining: 31.9s\n",
      "100:\tlearn: 1787.9973491\ttotal: 1.64s\tremaining: 26.8s\n",
      "200:\tlearn: 1703.5763319\ttotal: 3.28s\tremaining: 25.3s\n",
      "300:\tlearn: 1659.6343009\ttotal: 5.06s\tremaining: 24.4s\n",
      "400:\tlearn: 1627.5921983\ttotal: 6.74s\tremaining: 22.7s\n",
      "500:\tlearn: 1603.1302044\ttotal: 8.34s\tremaining: 20.8s\n",
      "600:\tlearn: 1584.1952470\ttotal: 10s\tremaining: 19.2s\n",
      "700:\tlearn: 1567.6006526\ttotal: 11.7s\tremaining: 17.5s\n",
      "800:\tlearn: 1554.4723648\ttotal: 13.5s\tremaining: 16s\n",
      "900:\tlearn: 1542.5877273\ttotal: 15.2s\tremaining: 14.3s\n",
      "1000:\tlearn: 1532.4881013\ttotal: 16.7s\tremaining: 12.5s\n",
      "1100:\tlearn: 1521.9408695\ttotal: 18.6s\tremaining: 10.9s\n",
      "1200:\tlearn: 1512.0368864\ttotal: 20.1s\tremaining: 9.2s\n",
      "1300:\tlearn: 1503.6149693\ttotal: 21.7s\tremaining: 7.5s\n",
      "1400:\tlearn: 1495.1519485\ttotal: 23.4s\tremaining: 5.84s\n",
      "1500:\tlearn: 1487.2860546\ttotal: 25s\tremaining: 4.15s\n",
      "1600:\tlearn: 1480.1911709\ttotal: 26.7s\tremaining: 2.48s\n",
      "1700:\tlearn: 1473.1870896\ttotal: 28.3s\tremaining: 814ms\n",
      "1749:\tlearn: 1469.6988969\ttotal: 29s\tremaining: 0us\n",
      "0:\tlearn: 4103.4603734\ttotal: 16.3ms\tremaining: 28.5s\n",
      "100:\tlearn: 1773.0829327\ttotal: 1.66s\tremaining: 27.2s\n",
      "200:\tlearn: 1689.9735442\ttotal: 3.25s\tremaining: 25.1s\n",
      "300:\tlearn: 1646.1224357\ttotal: 4.86s\tremaining: 23.4s\n",
      "400:\tlearn: 1616.3550570\ttotal: 6.55s\tremaining: 22s\n",
      "500:\tlearn: 1592.2569516\ttotal: 8.13s\tremaining: 20.3s\n",
      "600:\tlearn: 1573.4375362\ttotal: 9.77s\tremaining: 18.7s\n",
      "700:\tlearn: 1557.0920160\ttotal: 11.5s\tremaining: 17.1s\n",
      "800:\tlearn: 1543.4645258\ttotal: 13s\tremaining: 15.5s\n",
      "900:\tlearn: 1532.0222885\ttotal: 14.6s\tremaining: 13.8s\n",
      "1000:\tlearn: 1520.7551717\ttotal: 16.3s\tremaining: 12.2s\n",
      "1100:\tlearn: 1510.3924693\ttotal: 17.9s\tremaining: 10.5s\n",
      "1200:\tlearn: 1500.7227861\ttotal: 19.5s\tremaining: 8.9s\n",
      "1300:\tlearn: 1492.2591609\ttotal: 21.2s\tremaining: 7.33s\n",
      "1400:\tlearn: 1484.6728506\ttotal: 23.3s\tremaining: 5.8s\n",
      "1500:\tlearn: 1476.8382672\ttotal: 25.1s\tremaining: 4.16s\n",
      "1600:\tlearn: 1469.6776598\ttotal: 26.7s\tremaining: 2.48s\n",
      "1700:\tlearn: 1463.1497032\ttotal: 28.4s\tremaining: 819ms\n",
      "1749:\tlearn: 1459.9011311\ttotal: 29.3s\tremaining: 0us\n",
      "0:\tlearn: 4104.2006664\ttotal: 17.4ms\tremaining: 30.4s\n",
      "100:\tlearn: 1785.5987330\ttotal: 1.71s\tremaining: 27.9s\n",
      "200:\tlearn: 1701.8963265\ttotal: 3.56s\tremaining: 27.4s\n",
      "300:\tlearn: 1656.9023893\ttotal: 5.2s\tremaining: 25s\n",
      "400:\tlearn: 1626.9172215\ttotal: 6.96s\tremaining: 23.4s\n",
      "500:\tlearn: 1603.0980166\ttotal: 8.71s\tremaining: 21.7s\n",
      "600:\tlearn: 1584.7703461\ttotal: 10.7s\tremaining: 20.4s\n",
      "700:\tlearn: 1568.6584181\ttotal: 12.5s\tremaining: 18.7s\n",
      "800:\tlearn: 1554.2927053\ttotal: 14.1s\tremaining: 16.7s\n",
      "900:\tlearn: 1541.4638457\ttotal: 15.8s\tremaining: 14.9s\n",
      "1000:\tlearn: 1530.9661154\ttotal: 17.6s\tremaining: 13.2s\n",
      "1100:\tlearn: 1520.4761620\ttotal: 19.3s\tremaining: 11.4s\n",
      "1200:\tlearn: 1510.9200839\ttotal: 21s\tremaining: 9.61s\n",
      "1300:\tlearn: 1502.4907944\ttotal: 22.6s\tremaining: 7.8s\n",
      "1400:\tlearn: 1494.2946316\ttotal: 24.2s\tremaining: 6.04s\n",
      "1500:\tlearn: 1487.1299497\ttotal: 25.8s\tremaining: 4.28s\n",
      "1600:\tlearn: 1479.9571408\ttotal: 27.4s\tremaining: 2.55s\n",
      "1700:\tlearn: 1473.2221635\ttotal: 29s\tremaining: 836ms\n",
      "1749:\tlearn: 1469.6442139\ttotal: 29.8s\tremaining: 0us\n",
      "0:\tlearn: 3875.1494624\ttotal: 16.5ms\tremaining: 28.8s\n",
      "100:\tlearn: 1739.9955252\ttotal: 1.62s\tremaining: 26.4s\n",
      "200:\tlearn: 1661.7161713\ttotal: 3.22s\tremaining: 24.8s\n",
      "300:\tlearn: 1617.3243735\ttotal: 4.85s\tremaining: 23.3s\n",
      "400:\tlearn: 1587.4915210\ttotal: 6.47s\tremaining: 21.8s\n",
      "500:\tlearn: 1563.8023003\ttotal: 8.08s\tremaining: 20.1s\n",
      "600:\tlearn: 1544.5671793\ttotal: 9.91s\tremaining: 18.9s\n",
      "700:\tlearn: 1528.3392275\ttotal: 11.6s\tremaining: 17.4s\n",
      "800:\tlearn: 1514.7226851\ttotal: 13.3s\tremaining: 15.8s\n",
      "900:\tlearn: 1501.2176042\ttotal: 15s\tremaining: 14.1s\n",
      "1000:\tlearn: 1488.9394928\ttotal: 16.6s\tremaining: 12.4s\n",
      "1100:\tlearn: 1476.9701759\ttotal: 18.1s\tremaining: 10.7s\n",
      "1200:\tlearn: 1466.9237075\ttotal: 19.7s\tremaining: 9.02s\n",
      "1300:\tlearn: 1456.4428983\ttotal: 21.3s\tremaining: 7.36s\n",
      "1400:\tlearn: 1447.1342452\ttotal: 22.9s\tremaining: 5.7s\n",
      "1500:\tlearn: 1439.3362590\ttotal: 24.5s\tremaining: 4.06s\n",
      "1600:\tlearn: 1432.3722810\ttotal: 26s\tremaining: 2.42s\n",
      "1700:\tlearn: 1425.4524619\ttotal: 27.6s\tremaining: 796ms\n",
      "1749:\tlearn: 1422.3867964\ttotal: 28.4s\tremaining: 0us\n",
      "0:\tlearn: 3858.7482329\ttotal: 17.2ms\tremaining: 30.2s\n",
      "100:\tlearn: 1733.1158252\ttotal: 1.6s\tremaining: 26.2s\n",
      "200:\tlearn: 1656.7167936\ttotal: 3.22s\tremaining: 24.8s\n",
      "300:\tlearn: 1610.4408457\ttotal: 4.88s\tremaining: 23.5s\n",
      "400:\tlearn: 1579.9378761\ttotal: 6.56s\tremaining: 22.1s\n",
      "500:\tlearn: 1556.4210903\ttotal: 8.17s\tremaining: 20.4s\n",
      "600:\tlearn: 1536.3636815\ttotal: 9.79s\tremaining: 18.7s\n",
      "700:\tlearn: 1518.9183288\ttotal: 11.4s\tremaining: 17s\n",
      "800:\tlearn: 1504.7011532\ttotal: 13s\tremaining: 15.4s\n",
      "900:\tlearn: 1491.5368611\ttotal: 14.5s\tremaining: 13.7s\n",
      "1000:\tlearn: 1479.9789066\ttotal: 16.2s\tremaining: 12.1s\n",
      "1100:\tlearn: 1468.4239300\ttotal: 17.9s\tremaining: 10.5s\n",
      "1200:\tlearn: 1457.7761758\ttotal: 19.5s\tremaining: 8.89s\n",
      "1300:\tlearn: 1448.4304157\ttotal: 21.1s\tremaining: 7.28s\n",
      "1400:\tlearn: 1439.3379017\ttotal: 22.9s\tremaining: 5.71s\n",
      "1500:\tlearn: 1430.3762748\ttotal: 24.7s\tremaining: 4.09s\n",
      "1600:\tlearn: 1422.3978824\ttotal: 26.2s\tremaining: 2.44s\n",
      "1700:\tlearn: 1415.7992841\ttotal: 27.8s\tremaining: 801ms\n",
      "1749:\tlearn: 1412.2103527\ttotal: 28.6s\tremaining: 0us\n",
      "0:\tlearn: 3858.3159400\ttotal: 26.3ms\tremaining: 45.9s\n",
      "100:\tlearn: 1737.9282359\ttotal: 1.77s\tremaining: 29s\n",
      "200:\tlearn: 1660.4880581\ttotal: 3.42s\tremaining: 26.4s\n",
      "300:\tlearn: 1619.1592439\ttotal: 5.05s\tremaining: 24.3s\n",
      "400:\tlearn: 1589.3527768\ttotal: 6.66s\tremaining: 22.4s\n",
      "500:\tlearn: 1563.1932490\ttotal: 8.25s\tremaining: 20.6s\n",
      "600:\tlearn: 1543.2146663\ttotal: 9.88s\tremaining: 18.9s\n",
      "700:\tlearn: 1527.2174583\ttotal: 11.5s\tremaining: 17.2s\n",
      "800:\tlearn: 1512.4630901\ttotal: 13.1s\tremaining: 15.5s\n",
      "900:\tlearn: 1499.1629533\ttotal: 14.8s\tremaining: 13.9s\n",
      "1000:\tlearn: 1488.3696508\ttotal: 16.5s\tremaining: 12.4s\n",
      "1100:\tlearn: 1478.2696554\ttotal: 18.1s\tremaining: 10.7s\n",
      "1200:\tlearn: 1467.5975677\ttotal: 19.8s\tremaining: 9.07s\n",
      "1300:\tlearn: 1458.2935609\ttotal: 21.8s\tremaining: 7.52s\n",
      "1400:\tlearn: 1450.4039931\ttotal: 23.7s\tremaining: 5.9s\n",
      "1500:\tlearn: 1442.3343075\ttotal: 25.4s\tremaining: 4.22s\n",
      "1600:\tlearn: 1434.7357119\ttotal: 27.1s\tremaining: 2.52s\n",
      "1700:\tlearn: 1427.2418050\ttotal: 29s\tremaining: 834ms\n",
      "1749:\tlearn: 1424.0611324\ttotal: 29.8s\tremaining: 0us\n",
      "0:\tlearn: 3650.1637704\ttotal: 18.1ms\tremaining: 31.7s\n",
      "100:\tlearn: 1712.7772056\ttotal: 1.68s\tremaining: 27.5s\n",
      "200:\tlearn: 1635.3551960\ttotal: 3.67s\tremaining: 28.3s\n",
      "300:\tlearn: 1590.4857879\ttotal: 5.63s\tremaining: 27.1s\n",
      "400:\tlearn: 1559.1464335\ttotal: 7.5s\tremaining: 25.2s\n",
      "500:\tlearn: 1534.8850393\ttotal: 9.28s\tremaining: 23.1s\n",
      "600:\tlearn: 1515.0860167\ttotal: 10.9s\tremaining: 20.9s\n",
      "700:\tlearn: 1497.5845152\ttotal: 12.8s\tremaining: 19.2s\n",
      "800:\tlearn: 1482.5073801\ttotal: 14.5s\tremaining: 17.2s\n",
      "900:\tlearn: 1467.9730137\ttotal: 16.2s\tremaining: 15.3s\n",
      "1000:\tlearn: 1454.5420442\ttotal: 17.9s\tremaining: 13.4s\n",
      "1100:\tlearn: 1443.0203179\ttotal: 19.6s\tremaining: 11.5s\n",
      "1200:\tlearn: 1432.8383009\ttotal: 21.2s\tremaining: 9.71s\n",
      "1300:\tlearn: 1423.5612045\ttotal: 22.8s\tremaining: 7.87s\n",
      "1400:\tlearn: 1413.0883576\ttotal: 24.4s\tremaining: 6.08s\n",
      "1500:\tlearn: 1405.0388343\ttotal: 26.1s\tremaining: 4.32s\n",
      "1600:\tlearn: 1397.3683805\ttotal: 27.8s\tremaining: 2.58s\n",
      "1700:\tlearn: 1389.4250011\ttotal: 29.5s\tremaining: 849ms\n",
      "1749:\tlearn: 1386.4791729\ttotal: 30.3s\tremaining: 0us\n",
      "0:\tlearn: 3633.3271036\ttotal: 16.3ms\tremaining: 28.5s\n",
      "100:\tlearn: 1713.5960667\ttotal: 1.76s\tremaining: 28.8s\n",
      "200:\tlearn: 1626.6875873\ttotal: 3.91s\tremaining: 30.1s\n",
      "300:\tlearn: 1583.0316563\ttotal: 5.61s\tremaining: 27s\n",
      "400:\tlearn: 1551.4237215\ttotal: 7.42s\tremaining: 25s\n",
      "500:\tlearn: 1525.0895808\ttotal: 9.31s\tremaining: 23.2s\n",
      "600:\tlearn: 1504.4536637\ttotal: 11.3s\tremaining: 21.7s\n",
      "700:\tlearn: 1485.3694715\ttotal: 13.4s\tremaining: 20.1s\n",
      "800:\tlearn: 1471.3354126\ttotal: 15.3s\tremaining: 18.1s\n",
      "900:\tlearn: 1456.8546008\ttotal: 16.8s\tremaining: 15.9s\n",
      "1000:\tlearn: 1443.7338784\ttotal: 18.4s\tremaining: 13.7s\n",
      "1100:\tlearn: 1433.2550366\ttotal: 19.9s\tremaining: 11.8s\n",
      "1200:\tlearn: 1421.1643666\ttotal: 21.5s\tremaining: 9.85s\n",
      "1300:\tlearn: 1412.2260209\ttotal: 23.3s\tremaining: 8.03s\n",
      "1400:\tlearn: 1403.7558236\ttotal: 25s\tremaining: 6.24s\n",
      "1500:\tlearn: 1395.5844725\ttotal: 26.6s\tremaining: 4.42s\n",
      "1600:\tlearn: 1387.7972468\ttotal: 28.2s\tremaining: 2.63s\n",
      "1700:\tlearn: 1380.3752080\ttotal: 29.8s\tremaining: 859ms\n",
      "1749:\tlearn: 1377.1611979\ttotal: 30.8s\tremaining: 0us\n",
      "0:\tlearn: 3631.7381795\ttotal: 17.2ms\tremaining: 30.2s\n",
      "100:\tlearn: 1718.9178302\ttotal: 1.98s\tremaining: 32.4s\n",
      "200:\tlearn: 1639.1869844\ttotal: 3.65s\tremaining: 28.2s\n",
      "300:\tlearn: 1595.0912410\ttotal: 5.24s\tremaining: 25.2s\n",
      "400:\tlearn: 1564.9377396\ttotal: 6.8s\tremaining: 22.9s\n",
      "500:\tlearn: 1540.4854554\ttotal: 8.54s\tremaining: 21.3s\n",
      "600:\tlearn: 1519.3572276\ttotal: 10.5s\tremaining: 20.1s\n",
      "700:\tlearn: 1501.6687195\ttotal: 12.3s\tremaining: 18.4s\n",
      "800:\tlearn: 1486.0304638\ttotal: 13.8s\tremaining: 16.4s\n",
      "900:\tlearn: 1473.2881712\ttotal: 15.5s\tremaining: 14.6s\n",
      "1000:\tlearn: 1459.9974733\ttotal: 17.1s\tremaining: 12.8s\n",
      "1100:\tlearn: 1448.2316712\ttotal: 18.8s\tremaining: 11.1s\n",
      "1200:\tlearn: 1437.0952422\ttotal: 20.4s\tremaining: 9.31s\n",
      "1300:\tlearn: 1426.7524403\ttotal: 22s\tremaining: 7.59s\n",
      "1400:\tlearn: 1416.4567028\ttotal: 23.7s\tremaining: 5.9s\n",
      "1500:\tlearn: 1406.7739233\ttotal: 25.3s\tremaining: 4.19s\n",
      "1600:\tlearn: 1399.0751936\ttotal: 27.2s\tremaining: 2.53s\n",
      "1700:\tlearn: 1391.5843833\ttotal: 29.1s\tremaining: 840ms\n",
      "1749:\tlearn: 1387.8923607\ttotal: 30s\tremaining: 0us\n",
      "0:\tlearn: 4350.4824558\ttotal: 22.9ms\tremaining: 22.9s\n",
      "100:\tlearn: 1805.7570916\ttotal: 2.02s\tremaining: 17.9s\n",
      "200:\tlearn: 1708.5762523\ttotal: 3.95s\tremaining: 15.7s\n",
      "300:\tlearn: 1658.6715506\ttotal: 6.04s\tremaining: 14s\n",
      "400:\tlearn: 1626.4231208\ttotal: 8.2s\tremaining: 12.2s\n",
      "500:\tlearn: 1601.6879379\ttotal: 10.1s\tremaining: 10s\n",
      "600:\tlearn: 1580.4816420\ttotal: 12s\tremaining: 7.96s\n",
      "700:\tlearn: 1562.7855694\ttotal: 13.9s\tremaining: 5.94s\n",
      "800:\tlearn: 1547.2497246\ttotal: 16.1s\tremaining: 4s\n",
      "900:\tlearn: 1533.8326595\ttotal: 18.2s\tremaining: 2s\n",
      "999:\tlearn: 1521.0277855\ttotal: 20.2s\tremaining: 0us\n",
      "0:\tlearn: 4332.8632714\ttotal: 21.3ms\tremaining: 21.3s\n",
      "100:\tlearn: 1792.1819010\ttotal: 2.1s\tremaining: 18.7s\n",
      "200:\tlearn: 1700.7260156\ttotal: 4.01s\tremaining: 15.9s\n",
      "300:\tlearn: 1651.9993944\ttotal: 6.01s\tremaining: 14s\n",
      "400:\tlearn: 1619.9695416\ttotal: 7.92s\tremaining: 11.8s\n",
      "500:\tlearn: 1594.8992509\ttotal: 9.82s\tremaining: 9.78s\n",
      "600:\tlearn: 1573.4914228\ttotal: 11.8s\tremaining: 7.84s\n",
      "700:\tlearn: 1554.9206328\ttotal: 13.7s\tremaining: 5.85s\n",
      "800:\tlearn: 1539.9884796\ttotal: 15.8s\tremaining: 3.93s\n",
      "900:\tlearn: 1525.5913147\ttotal: 17.8s\tremaining: 1.95s\n",
      "999:\tlearn: 1512.4421182\ttotal: 19.7s\tremaining: 0us\n",
      "0:\tlearn: 4335.5578683\ttotal: 21.3ms\tremaining: 21.3s\n",
      "100:\tlearn: 1804.1380570\ttotal: 2.27s\tremaining: 20.2s\n",
      "200:\tlearn: 1710.3015119\ttotal: 4.22s\tremaining: 16.8s\n",
      "300:\tlearn: 1659.7790718\ttotal: 6.14s\tremaining: 14.3s\n",
      "400:\tlearn: 1625.9456593\ttotal: 8.11s\tremaining: 12.1s\n",
      "500:\tlearn: 1600.6997318\ttotal: 10.4s\tremaining: 10.4s\n",
      "600:\tlearn: 1579.7976254\ttotal: 12.4s\tremaining: 8.21s\n",
      "700:\tlearn: 1562.6785920\ttotal: 14.4s\tremaining: 6.13s\n",
      "800:\tlearn: 1546.8630702\ttotal: 16.4s\tremaining: 4.08s\n",
      "900:\tlearn: 1533.8772692\ttotal: 18.5s\tremaining: 2.03s\n",
      "999:\tlearn: 1521.4331726\ttotal: 20.5s\tremaining: 0us\n",
      "0:\tlearn: 4059.9564227\ttotal: 34.7ms\tremaining: 34.7s\n",
      "100:\tlearn: 1710.7860275\ttotal: 1.98s\tremaining: 17.6s\n",
      "200:\tlearn: 1627.9554888\ttotal: 3.9s\tremaining: 15.5s\n",
      "300:\tlearn: 1580.0885981\ttotal: 5.92s\tremaining: 13.8s\n",
      "400:\tlearn: 1547.1563400\ttotal: 7.91s\tremaining: 11.8s\n",
      "500:\tlearn: 1520.3865943\ttotal: 10.3s\tremaining: 10.3s\n",
      "600:\tlearn: 1499.4761316\ttotal: 12.5s\tremaining: 8.3s\n",
      "700:\tlearn: 1481.4294675\ttotal: 15s\tremaining: 6.4s\n",
      "800:\tlearn: 1464.9838289\ttotal: 17s\tremaining: 4.22s\n",
      "900:\tlearn: 1449.5015311\ttotal: 18.9s\tremaining: 2.08s\n",
      "999:\tlearn: 1436.5184280\ttotal: 21.2s\tremaining: 0us\n",
      "0:\tlearn: 4039.9758127\ttotal: 21.4ms\tremaining: 21.4s\n",
      "100:\tlearn: 1702.7153763\ttotal: 1.99s\tremaining: 17.7s\n",
      "200:\tlearn: 1621.6346940\ttotal: 3.93s\tremaining: 15.6s\n",
      "300:\tlearn: 1577.0210860\ttotal: 5.86s\tremaining: 13.6s\n",
      "400:\tlearn: 1541.6510730\ttotal: 7.75s\tremaining: 11.6s\n",
      "500:\tlearn: 1514.6809095\ttotal: 9.66s\tremaining: 9.62s\n",
      "600:\tlearn: 1490.3554484\ttotal: 11.6s\tremaining: 7.7s\n",
      "700:\tlearn: 1472.1143273\ttotal: 13.5s\tremaining: 5.77s\n",
      "800:\tlearn: 1455.7359234\ttotal: 15.4s\tremaining: 3.83s\n",
      "900:\tlearn: 1439.1701750\ttotal: 17.4s\tremaining: 1.91s\n",
      "999:\tlearn: 1424.4356529\ttotal: 19.2s\tremaining: 0us\n",
      "0:\tlearn: 4042.2851106\ttotal: 20.5ms\tremaining: 20.5s\n",
      "100:\tlearn: 1710.5792983\ttotal: 1.95s\tremaining: 17.4s\n",
      "200:\tlearn: 1628.1373544\ttotal: 3.95s\tremaining: 15.7s\n",
      "300:\tlearn: 1581.5931042\ttotal: 5.85s\tremaining: 13.6s\n",
      "400:\tlearn: 1546.8416853\ttotal: 7.72s\tremaining: 11.5s\n",
      "500:\tlearn: 1520.3235903\ttotal: 9.64s\tremaining: 9.6s\n",
      "600:\tlearn: 1499.1051601\ttotal: 11.6s\tremaining: 7.71s\n",
      "700:\tlearn: 1479.8713846\ttotal: 13.6s\tremaining: 5.78s\n",
      "800:\tlearn: 1463.2986327\ttotal: 15.5s\tremaining: 3.85s\n",
      "900:\tlearn: 1448.2012865\ttotal: 17.4s\tremaining: 1.91s\n",
      "999:\tlearn: 1435.3528431\ttotal: 19.4s\tremaining: 0us\n",
      "0:\tlearn: 3785.0292097\ttotal: 21.2ms\tremaining: 21.2s\n",
      "100:\tlearn: 1668.5126216\ttotal: 1.99s\tremaining: 17.8s\n",
      "200:\tlearn: 1588.9933233\ttotal: 3.91s\tremaining: 15.5s\n",
      "300:\tlearn: 1539.3115950\ttotal: 5.9s\tremaining: 13.7s\n",
      "400:\tlearn: 1503.6712582\ttotal: 7.87s\tremaining: 11.8s\n",
      "500:\tlearn: 1477.2614474\ttotal: 9.8s\tremaining: 9.76s\n",
      "600:\tlearn: 1452.2217713\ttotal: 11.8s\tremaining: 7.8s\n",
      "700:\tlearn: 1432.6586181\ttotal: 13.7s\tremaining: 5.83s\n",
      "800:\tlearn: 1413.3161193\ttotal: 15.6s\tremaining: 3.88s\n",
      "900:\tlearn: 1397.1210299\ttotal: 17.5s\tremaining: 1.92s\n",
      "999:\tlearn: 1383.4738738\ttotal: 19.4s\tremaining: 0us\n",
      "0:\tlearn: 3762.5943747\ttotal: 23.7ms\tremaining: 23.6s\n",
      "100:\tlearn: 1657.0535489\ttotal: 1.92s\tremaining: 17.1s\n",
      "200:\tlearn: 1579.0453164\ttotal: 3.8s\tremaining: 15.1s\n",
      "300:\tlearn: 1533.0239632\ttotal: 5.82s\tremaining: 13.5s\n",
      "400:\tlearn: 1494.0644069\ttotal: 7.96s\tremaining: 11.9s\n",
      "500:\tlearn: 1466.1810563\ttotal: 9.95s\tremaining: 9.91s\n",
      "600:\tlearn: 1443.6955112\ttotal: 11.8s\tremaining: 7.86s\n",
      "700:\tlearn: 1421.0808442\ttotal: 13.8s\tremaining: 5.89s\n",
      "800:\tlearn: 1403.0229899\ttotal: 15.7s\tremaining: 3.91s\n",
      "900:\tlearn: 1386.5438756\ttotal: 17.6s\tremaining: 1.94s\n",
      "999:\tlearn: 1372.5607941\ttotal: 19.7s\tremaining: 0us\n",
      "0:\tlearn: 3764.5118607\ttotal: 19.8ms\tremaining: 19.8s\n",
      "100:\tlearn: 1665.0527164\ttotal: 2s\tremaining: 17.8s\n",
      "200:\tlearn: 1585.3005972\ttotal: 3.93s\tremaining: 15.6s\n",
      "300:\tlearn: 1537.0830197\ttotal: 5.9s\tremaining: 13.7s\n",
      "400:\tlearn: 1503.2095636\ttotal: 7.79s\tremaining: 11.6s\n",
      "500:\tlearn: 1473.6791200\ttotal: 9.83s\tremaining: 9.79s\n",
      "600:\tlearn: 1449.6597200\ttotal: 11.8s\tremaining: 7.84s\n",
      "700:\tlearn: 1429.2997625\ttotal: 14.2s\tremaining: 6.07s\n",
      "800:\tlearn: 1410.1267754\ttotal: 16.3s\tremaining: 4.04s\n",
      "900:\tlearn: 1393.7705386\ttotal: 19.1s\tremaining: 2.09s\n",
      "999:\tlearn: 1378.6849221\ttotal: 21.4s\tremaining: 0us\n",
      "0:\tlearn: 3529.3480900\ttotal: 22.5ms\tremaining: 22.5s\n",
      "100:\tlearn: 1639.1220445\ttotal: 2.02s\tremaining: 18s\n",
      "200:\tlearn: 1551.4379262\ttotal: 4.25s\tremaining: 16.9s\n",
      "300:\tlearn: 1503.4487984\ttotal: 6.16s\tremaining: 14.3s\n",
      "400:\tlearn: 1469.1523919\ttotal: 8.17s\tremaining: 12.2s\n",
      "500:\tlearn: 1440.5740662\ttotal: 10.1s\tremaining: 10.1s\n",
      "600:\tlearn: 1414.4117481\ttotal: 12.2s\tremaining: 8.08s\n",
      "700:\tlearn: 1391.7029827\ttotal: 14.1s\tremaining: 6.03s\n",
      "800:\tlearn: 1372.6700396\ttotal: 16.2s\tremaining: 4.03s\n",
      "900:\tlearn: 1355.5573445\ttotal: 18.4s\tremaining: 2.02s\n",
      "999:\tlearn: 1340.5997008\ttotal: 20.3s\tremaining: 0us\n",
      "0:\tlearn: 3504.4029684\ttotal: 23.7ms\tremaining: 23.7s\n",
      "100:\tlearn: 1635.4159077\ttotal: 2.11s\tremaining: 18.8s\n",
      "200:\tlearn: 1549.2720110\ttotal: 4.04s\tremaining: 16.1s\n",
      "300:\tlearn: 1498.8324395\ttotal: 6s\tremaining: 13.9s\n",
      "400:\tlearn: 1459.9187385\ttotal: 7.92s\tremaining: 11.8s\n",
      "500:\tlearn: 1429.9655907\ttotal: 9.96s\tremaining: 9.92s\n",
      "600:\tlearn: 1404.9137115\ttotal: 11.9s\tremaining: 7.91s\n",
      "700:\tlearn: 1383.6124395\ttotal: 14.4s\tremaining: 6.13s\n",
      "800:\tlearn: 1362.9769225\ttotal: 16.3s\tremaining: 4.05s\n",
      "900:\tlearn: 1346.0365452\ttotal: 18.2s\tremaining: 2s\n",
      "999:\tlearn: 1330.7754102\ttotal: 20.2s\tremaining: 0us\n",
      "0:\tlearn: 3505.9241838\ttotal: 21ms\tremaining: 21s\n",
      "100:\tlearn: 1642.5560326\ttotal: 2.11s\tremaining: 18.8s\n",
      "200:\tlearn: 1557.8938570\ttotal: 4.12s\tremaining: 16.4s\n",
      "300:\tlearn: 1505.0264595\ttotal: 6.08s\tremaining: 14.1s\n",
      "400:\tlearn: 1469.4106664\ttotal: 7.97s\tremaining: 11.9s\n",
      "500:\tlearn: 1441.2307506\ttotal: 9.87s\tremaining: 9.83s\n",
      "600:\tlearn: 1414.9845801\ttotal: 11.9s\tremaining: 7.89s\n",
      "700:\tlearn: 1392.3443602\ttotal: 13.8s\tremaining: 5.89s\n",
      "800:\tlearn: 1372.3754555\ttotal: 15.9s\tremaining: 3.94s\n",
      "900:\tlearn: 1354.5487106\ttotal: 17.8s\tremaining: 1.96s\n",
      "999:\tlearn: 1338.5210539\ttotal: 19.7s\tremaining: 0us\n",
      "0:\tlearn: 4350.4824558\ttotal: 22ms\tremaining: 27.5s\n",
      "100:\tlearn: 1805.7570916\ttotal: 2.22s\tremaining: 25.3s\n",
      "200:\tlearn: 1708.5762523\ttotal: 4.16s\tremaining: 21.7s\n",
      "300:\tlearn: 1658.6715506\ttotal: 6.09s\tremaining: 19.2s\n",
      "400:\tlearn: 1626.4231208\ttotal: 7.98s\tremaining: 16.9s\n",
      "500:\tlearn: 1601.6879379\ttotal: 10s\tremaining: 15s\n",
      "600:\tlearn: 1580.4816420\ttotal: 12.1s\tremaining: 13.1s\n",
      "700:\tlearn: 1562.7855694\ttotal: 14.1s\tremaining: 11.1s\n",
      "800:\tlearn: 1547.2497246\ttotal: 16.1s\tremaining: 9.03s\n",
      "900:\tlearn: 1533.8326595\ttotal: 18.4s\tremaining: 7.11s\n",
      "1000:\tlearn: 1520.8996730\ttotal: 20.4s\tremaining: 5.07s\n",
      "1100:\tlearn: 1508.8781250\ttotal: 22.3s\tremaining: 3.02s\n",
      "1200:\tlearn: 1497.9961926\ttotal: 24.7s\tremaining: 1.01s\n",
      "1249:\tlearn: 1493.9361467\ttotal: 25.7s\tremaining: 0us\n",
      "0:\tlearn: 4332.8632714\ttotal: 19.1ms\tremaining: 23.9s\n",
      "100:\tlearn: 1792.1819010\ttotal: 2.26s\tremaining: 25.7s\n",
      "200:\tlearn: 1700.7260156\ttotal: 4.42s\tremaining: 23.1s\n",
      "300:\tlearn: 1651.9993944\ttotal: 6.86s\tremaining: 21.6s\n",
      "400:\tlearn: 1619.9695416\ttotal: 8.83s\tremaining: 18.7s\n",
      "500:\tlearn: 1594.8992509\ttotal: 10.8s\tremaining: 16.2s\n",
      "600:\tlearn: 1573.4914228\ttotal: 12.8s\tremaining: 13.9s\n",
      "700:\tlearn: 1554.9206328\ttotal: 14.8s\tremaining: 11.6s\n",
      "800:\tlearn: 1539.9884796\ttotal: 16.7s\tremaining: 9.37s\n",
      "900:\tlearn: 1525.5913147\ttotal: 18.6s\tremaining: 7.21s\n",
      "1000:\tlearn: 1512.3583606\ttotal: 20.5s\tremaining: 5.1s\n",
      "1100:\tlearn: 1500.7737311\ttotal: 22.4s\tremaining: 3.04s\n",
      "1200:\tlearn: 1489.7492784\ttotal: 24.5s\tremaining: 998ms\n",
      "1249:\tlearn: 1485.2373697\ttotal: 25.4s\tremaining: 0us\n",
      "0:\tlearn: 4335.5578683\ttotal: 22.3ms\tremaining: 27.8s\n",
      "100:\tlearn: 1804.1380570\ttotal: 2.12s\tremaining: 24.1s\n",
      "200:\tlearn: 1710.3015119\ttotal: 4.12s\tremaining: 21.5s\n",
      "300:\tlearn: 1659.7790718\ttotal: 6.22s\tremaining: 19.6s\n",
      "400:\tlearn: 1625.9456593\ttotal: 8.19s\tremaining: 17.3s\n",
      "500:\tlearn: 1600.6997318\ttotal: 10.3s\tremaining: 15.4s\n",
      "600:\tlearn: 1579.7976254\ttotal: 12.3s\tremaining: 13.2s\n",
      "700:\tlearn: 1562.6785920\ttotal: 14.5s\tremaining: 11.4s\n",
      "800:\tlearn: 1546.8630702\ttotal: 16.6s\tremaining: 9.29s\n",
      "900:\tlearn: 1533.8772692\ttotal: 18.8s\tremaining: 7.27s\n",
      "1000:\tlearn: 1521.3301801\ttotal: 20.7s\tremaining: 5.16s\n",
      "1100:\tlearn: 1510.0558615\ttotal: 22.7s\tremaining: 3.07s\n",
      "1200:\tlearn: 1499.0592617\ttotal: 24.7s\tremaining: 1.01s\n",
      "1249:\tlearn: 1494.2121757\ttotal: 25.6s\tremaining: 0us\n",
      "0:\tlearn: 4059.9564227\ttotal: 22.6ms\tremaining: 28.2s\n",
      "100:\tlearn: 1710.7860275\ttotal: 1.95s\tremaining: 22.2s\n",
      "200:\tlearn: 1627.9554888\ttotal: 3.87s\tremaining: 20.2s\n",
      "300:\tlearn: 1580.0885981\ttotal: 5.84s\tremaining: 18.4s\n",
      "400:\tlearn: 1547.1563400\ttotal: 7.8s\tremaining: 16.5s\n",
      "500:\tlearn: 1520.3865943\ttotal: 9.73s\tremaining: 14.5s\n",
      "600:\tlearn: 1499.4761316\ttotal: 11.6s\tremaining: 12.6s\n",
      "700:\tlearn: 1481.4294675\ttotal: 13.6s\tremaining: 10.6s\n",
      "800:\tlearn: 1464.9838289\ttotal: 15.5s\tremaining: 8.71s\n",
      "900:\tlearn: 1449.5015311\ttotal: 17.5s\tremaining: 6.76s\n",
      "1000:\tlearn: 1436.4678691\ttotal: 19.5s\tremaining: 4.85s\n",
      "1100:\tlearn: 1423.0235884\ttotal: 21.6s\tremaining: 2.92s\n",
      "1200:\tlearn: 1411.5556966\ttotal: 23.7s\tremaining: 967ms\n",
      "1249:\tlearn: 1405.6348220\ttotal: 24.7s\tremaining: 0us\n",
      "0:\tlearn: 4039.9758127\ttotal: 22.2ms\tremaining: 27.8s\n",
      "100:\tlearn: 1702.7153763\ttotal: 1.97s\tremaining: 22.4s\n",
      "200:\tlearn: 1621.6346940\ttotal: 3.86s\tremaining: 20.2s\n",
      "300:\tlearn: 1577.0210860\ttotal: 5.74s\tremaining: 18.1s\n",
      "400:\tlearn: 1541.6510730\ttotal: 7.74s\tremaining: 16.4s\n",
      "500:\tlearn: 1514.6809095\ttotal: 9.63s\tremaining: 14.4s\n",
      "600:\tlearn: 1490.3554484\ttotal: 11.5s\tremaining: 12.4s\n",
      "700:\tlearn: 1472.1143273\ttotal: 13.5s\tremaining: 10.5s\n",
      "800:\tlearn: 1455.7359234\ttotal: 15.5s\tremaining: 8.66s\n",
      "900:\tlearn: 1439.1701750\ttotal: 17.6s\tremaining: 6.8s\n",
      "1000:\tlearn: 1424.3387725\ttotal: 19.5s\tremaining: 4.85s\n",
      "1100:\tlearn: 1411.4419855\ttotal: 21.4s\tremaining: 2.9s\n",
      "1200:\tlearn: 1399.1182843\ttotal: 23.3s\tremaining: 950ms\n",
      "1249:\tlearn: 1393.9154798\ttotal: 24.2s\tremaining: 0us\n",
      "0:\tlearn: 4042.2851106\ttotal: 20.7ms\tremaining: 25.9s\n",
      "100:\tlearn: 1710.5792983\ttotal: 1.95s\tremaining: 22.2s\n",
      "200:\tlearn: 1628.1373544\ttotal: 3.9s\tremaining: 20.4s\n",
      "300:\tlearn: 1581.5931042\ttotal: 5.81s\tremaining: 18.3s\n",
      "400:\tlearn: 1546.8416853\ttotal: 7.72s\tremaining: 16.4s\n",
      "500:\tlearn: 1520.3235903\ttotal: 9.66s\tremaining: 14.4s\n",
      "600:\tlearn: 1499.1051601\ttotal: 11.5s\tremaining: 12.5s\n",
      "700:\tlearn: 1479.8713846\ttotal: 13.5s\tremaining: 10.5s\n",
      "800:\tlearn: 1463.2986327\ttotal: 15.3s\tremaining: 8.6s\n",
      "900:\tlearn: 1448.2012865\ttotal: 17.2s\tremaining: 6.67s\n",
      "1000:\tlearn: 1435.1589781\ttotal: 19.2s\tremaining: 4.77s\n",
      "1100:\tlearn: 1423.1388976\ttotal: 21.1s\tremaining: 2.86s\n",
      "1200:\tlearn: 1411.8594647\ttotal: 23.1s\tremaining: 943ms\n",
      "1249:\tlearn: 1406.5613019\ttotal: 24s\tremaining: 0us\n",
      "0:\tlearn: 3785.0292097\ttotal: 22.7ms\tremaining: 28.3s\n",
      "100:\tlearn: 1668.5126216\ttotal: 2.02s\tremaining: 22.9s\n",
      "200:\tlearn: 1588.9933233\ttotal: 3.93s\tremaining: 20.5s\n",
      "300:\tlearn: 1539.3115950\ttotal: 5.92s\tremaining: 18.7s\n",
      "400:\tlearn: 1503.6712582\ttotal: 7.96s\tremaining: 16.9s\n",
      "500:\tlearn: 1477.2614474\ttotal: 9.88s\tremaining: 14.8s\n",
      "600:\tlearn: 1452.2217713\ttotal: 11.8s\tremaining: 12.7s\n",
      "700:\tlearn: 1432.6586181\ttotal: 13.7s\tremaining: 10.7s\n",
      "800:\tlearn: 1413.3161193\ttotal: 15.7s\tremaining: 8.79s\n",
      "900:\tlearn: 1397.1210299\ttotal: 17.6s\tremaining: 6.8s\n",
      "1000:\tlearn: 1383.2196992\ttotal: 19.4s\tremaining: 4.84s\n",
      "1100:\tlearn: 1368.5891842\ttotal: 21.4s\tremaining: 2.9s\n",
      "1200:\tlearn: 1355.7279087\ttotal: 23.4s\tremaining: 953ms\n",
      "1249:\tlearn: 1350.5150996\ttotal: 24.3s\tremaining: 0us\n",
      "0:\tlearn: 3762.5943747\ttotal: 25ms\tremaining: 31.2s\n",
      "100:\tlearn: 1657.0535489\ttotal: 1.9s\tremaining: 21.6s\n",
      "200:\tlearn: 1579.0453164\ttotal: 3.81s\tremaining: 19.9s\n",
      "300:\tlearn: 1533.0239632\ttotal: 5.81s\tremaining: 18.3s\n",
      "400:\tlearn: 1494.0644069\ttotal: 7.71s\tremaining: 16.3s\n",
      "500:\tlearn: 1466.1810563\ttotal: 9.7s\tremaining: 14.5s\n",
      "600:\tlearn: 1443.6955112\ttotal: 11.6s\tremaining: 12.6s\n",
      "700:\tlearn: 1421.0808442\ttotal: 13.5s\tremaining: 10.6s\n",
      "800:\tlearn: 1403.0229899\ttotal: 15.4s\tremaining: 8.66s\n",
      "900:\tlearn: 1386.5438756\ttotal: 17.4s\tremaining: 6.73s\n",
      "1000:\tlearn: 1372.4063806\ttotal: 19.3s\tremaining: 4.8s\n",
      "1100:\tlearn: 1358.6072121\ttotal: 21.2s\tremaining: 2.87s\n",
      "1200:\tlearn: 1345.0569739\ttotal: 23.2s\tremaining: 945ms\n",
      "1249:\tlearn: 1339.4136834\ttotal: 24.1s\tremaining: 0us\n",
      "0:\tlearn: 3764.5118607\ttotal: 31.6ms\tremaining: 39.5s\n",
      "100:\tlearn: 1665.0527164\ttotal: 2.36s\tremaining: 26.8s\n",
      "200:\tlearn: 1585.3005972\ttotal: 4.29s\tremaining: 22.4s\n",
      "300:\tlearn: 1537.0830197\ttotal: 6.26s\tremaining: 19.7s\n",
      "400:\tlearn: 1503.2095636\ttotal: 8.26s\tremaining: 17.5s\n",
      "500:\tlearn: 1473.6791200\ttotal: 10.2s\tremaining: 15.3s\n",
      "600:\tlearn: 1449.6597200\ttotal: 12.3s\tremaining: 13.2s\n",
      "700:\tlearn: 1429.2997625\ttotal: 14.2s\tremaining: 11.1s\n",
      "800:\tlearn: 1410.1267754\ttotal: 16.2s\tremaining: 9.09s\n",
      "900:\tlearn: 1393.7705386\ttotal: 18.2s\tremaining: 7.04s\n",
      "1000:\tlearn: 1378.6025515\ttotal: 20.1s\tremaining: 5s\n",
      "1100:\tlearn: 1365.0836516\ttotal: 22s\tremaining: 2.98s\n",
      "1200:\tlearn: 1352.5518678\ttotal: 23.9s\tremaining: 976ms\n",
      "1249:\tlearn: 1346.4649591\ttotal: 24.9s\tremaining: 0us\n",
      "0:\tlearn: 3529.3480900\ttotal: 22.9ms\tremaining: 28.6s\n",
      "100:\tlearn: 1639.1220445\ttotal: 2.04s\tremaining: 23.2s\n",
      "200:\tlearn: 1551.4379262\ttotal: 3.99s\tremaining: 20.8s\n",
      "300:\tlearn: 1503.4487984\ttotal: 5.91s\tremaining: 18.6s\n",
      "400:\tlearn: 1469.1523919\ttotal: 7.87s\tremaining: 16.7s\n",
      "500:\tlearn: 1440.5740662\ttotal: 9.79s\tremaining: 14.6s\n",
      "600:\tlearn: 1414.4117481\ttotal: 11.7s\tremaining: 12.6s\n",
      "700:\tlearn: 1391.7029827\ttotal: 13.6s\tremaining: 10.7s\n",
      "800:\tlearn: 1372.6700396\ttotal: 15.5s\tremaining: 8.71s\n",
      "900:\tlearn: 1355.5573445\ttotal: 17.4s\tremaining: 6.75s\n",
      "1000:\tlearn: 1340.4678279\ttotal: 19.3s\tremaining: 4.8s\n",
      "1100:\tlearn: 1326.3761723\ttotal: 21.2s\tremaining: 2.87s\n",
      "1200:\tlearn: 1312.5309294\ttotal: 23.1s\tremaining: 942ms\n",
      "1249:\tlearn: 1306.1023434\ttotal: 24s\tremaining: 0us\n",
      "0:\tlearn: 3504.4029684\ttotal: 21.8ms\tremaining: 27.2s\n",
      "100:\tlearn: 1635.4159077\ttotal: 2.07s\tremaining: 23.5s\n",
      "200:\tlearn: 1549.2720110\ttotal: 4.06s\tremaining: 21.2s\n",
      "300:\tlearn: 1498.8324395\ttotal: 6.29s\tremaining: 19.8s\n",
      "400:\tlearn: 1459.9187385\ttotal: 8.28s\tremaining: 17.5s\n",
      "500:\tlearn: 1429.9655907\ttotal: 10.3s\tremaining: 15.5s\n",
      "600:\tlearn: 1404.9137115\ttotal: 12.6s\tremaining: 13.6s\n",
      "700:\tlearn: 1383.6124395\ttotal: 14.7s\tremaining: 11.5s\n",
      "800:\tlearn: 1362.9769225\ttotal: 16.8s\tremaining: 9.42s\n",
      "900:\tlearn: 1346.0365452\ttotal: 18.8s\tremaining: 7.26s\n",
      "1000:\tlearn: 1330.6914286\ttotal: 20.8s\tremaining: 5.18s\n",
      "1100:\tlearn: 1316.8459773\ttotal: 22.7s\tremaining: 3.08s\n",
      "1200:\tlearn: 1303.0738778\ttotal: 24.8s\tremaining: 1.01s\n",
      "1249:\tlearn: 1297.3621110\ttotal: 25.8s\tremaining: 0us\n",
      "0:\tlearn: 3505.9241838\ttotal: 20.2ms\tremaining: 25.3s\n",
      "100:\tlearn: 1642.5560326\ttotal: 2.01s\tremaining: 22.9s\n",
      "200:\tlearn: 1557.8938570\ttotal: 4.2s\tremaining: 21.9s\n",
      "300:\tlearn: 1505.0264595\ttotal: 6.25s\tremaining: 19.7s\n",
      "400:\tlearn: 1469.4106664\ttotal: 8.29s\tremaining: 17.5s\n",
      "500:\tlearn: 1441.2307506\ttotal: 10.2s\tremaining: 15.2s\n",
      "600:\tlearn: 1414.9845801\ttotal: 12.1s\tremaining: 13.1s\n",
      "700:\tlearn: 1392.3443602\ttotal: 14s\tremaining: 11s\n",
      "800:\tlearn: 1372.3754555\ttotal: 16s\tremaining: 8.94s\n",
      "900:\tlearn: 1354.5487106\ttotal: 17.9s\tremaining: 6.94s\n",
      "1000:\tlearn: 1338.1979046\ttotal: 19.8s\tremaining: 4.93s\n",
      "1100:\tlearn: 1324.2381186\ttotal: 21.8s\tremaining: 2.95s\n",
      "1200:\tlearn: 1312.2174582\ttotal: 23.7s\tremaining: 967ms\n",
      "1249:\tlearn: 1306.3041999\ttotal: 24.6s\tremaining: 0us\n",
      "0:\tlearn: 4350.4824558\ttotal: 21ms\tremaining: 31.5s\n",
      "100:\tlearn: 1805.7570916\ttotal: 1.97s\tremaining: 27.3s\n",
      "200:\tlearn: 1708.5762523\ttotal: 3.9s\tremaining: 25.2s\n",
      "300:\tlearn: 1658.6715506\ttotal: 5.85s\tremaining: 23.3s\n",
      "400:\tlearn: 1626.4231208\ttotal: 7.77s\tremaining: 21.3s\n",
      "500:\tlearn: 1601.6879379\ttotal: 9.68s\tremaining: 19.3s\n",
      "600:\tlearn: 1580.4816420\ttotal: 11.8s\tremaining: 17.7s\n",
      "700:\tlearn: 1562.7855694\ttotal: 13.8s\tremaining: 15.7s\n",
      "800:\tlearn: 1547.2497246\ttotal: 15.7s\tremaining: 13.7s\n",
      "900:\tlearn: 1533.8326595\ttotal: 17.8s\tremaining: 11.8s\n",
      "1000:\tlearn: 1520.8996730\ttotal: 19.8s\tremaining: 9.87s\n",
      "1100:\tlearn: 1508.8781250\ttotal: 21.7s\tremaining: 7.87s\n",
      "1200:\tlearn: 1497.9961926\ttotal: 23.6s\tremaining: 5.88s\n",
      "1300:\tlearn: 1489.1155157\ttotal: 25.5s\tremaining: 3.9s\n",
      "1400:\tlearn: 1480.3962321\ttotal: 27.4s\tremaining: 1.94s\n",
      "1499:\tlearn: 1471.6457181\ttotal: 29.3s\tremaining: 0us\n",
      "0:\tlearn: 4332.8632714\ttotal: 20.9ms\tremaining: 31.3s\n",
      "100:\tlearn: 1792.1819010\ttotal: 2s\tremaining: 27.8s\n",
      "200:\tlearn: 1700.7260156\ttotal: 3.94s\tremaining: 25.5s\n",
      "300:\tlearn: 1651.9993944\ttotal: 5.9s\tremaining: 23.5s\n",
      "400:\tlearn: 1619.9695416\ttotal: 7.81s\tremaining: 21.4s\n",
      "500:\tlearn: 1594.8992509\ttotal: 9.69s\tremaining: 19.3s\n",
      "600:\tlearn: 1573.4914228\ttotal: 11.7s\tremaining: 17.5s\n",
      "700:\tlearn: 1554.9206328\ttotal: 13.6s\tremaining: 15.5s\n",
      "800:\tlearn: 1539.9884796\ttotal: 15.5s\tremaining: 13.5s\n",
      "900:\tlearn: 1525.5913147\ttotal: 17.5s\tremaining: 11.6s\n",
      "1000:\tlearn: 1512.3583606\ttotal: 19.4s\tremaining: 9.65s\n",
      "1100:\tlearn: 1500.7737311\ttotal: 21.3s\tremaining: 7.71s\n",
      "1200:\tlearn: 1489.7492784\ttotal: 23.2s\tremaining: 5.77s\n",
      "1300:\tlearn: 1480.0775786\ttotal: 25.5s\tremaining: 3.9s\n",
      "1400:\tlearn: 1470.4284580\ttotal: 27.4s\tremaining: 1.94s\n",
      "1499:\tlearn: 1461.7322721\ttotal: 29.3s\tremaining: 0us\n",
      "0:\tlearn: 4335.5578683\ttotal: 23.2ms\tremaining: 34.8s\n",
      "100:\tlearn: 1804.1380570\ttotal: 2.1s\tremaining: 29.1s\n",
      "200:\tlearn: 1710.3015119\ttotal: 4.1s\tremaining: 26.5s\n",
      "300:\tlearn: 1659.7790718\ttotal: 6.06s\tremaining: 24.1s\n",
      "400:\tlearn: 1625.9456593\ttotal: 7.99s\tremaining: 21.9s\n",
      "500:\tlearn: 1600.6997318\ttotal: 9.92s\tremaining: 19.8s\n",
      "600:\tlearn: 1579.7976254\ttotal: 11.9s\tremaining: 17.8s\n",
      "700:\tlearn: 1562.6785920\ttotal: 14s\tremaining: 15.9s\n",
      "800:\tlearn: 1546.8630702\ttotal: 15.9s\tremaining: 13.9s\n",
      "900:\tlearn: 1533.8772692\ttotal: 17.8s\tremaining: 11.9s\n",
      "1000:\tlearn: 1521.3301801\ttotal: 19.7s\tremaining: 9.84s\n",
      "1100:\tlearn: 1510.0558615\ttotal: 21.6s\tremaining: 7.83s\n",
      "1200:\tlearn: 1499.0592617\ttotal: 23.5s\tremaining: 5.85s\n",
      "1300:\tlearn: 1489.8161989\ttotal: 25.4s\tremaining: 3.88s\n",
      "1400:\tlearn: 1480.0763965\ttotal: 27.2s\tremaining: 1.93s\n",
      "1499:\tlearn: 1471.2716731\ttotal: 29.2s\tremaining: 0us\n",
      "0:\tlearn: 4059.9564227\ttotal: 22.5ms\tremaining: 33.7s\n",
      "100:\tlearn: 1710.7860275\ttotal: 2.03s\tremaining: 28.1s\n",
      "200:\tlearn: 1627.9554888\ttotal: 4.07s\tremaining: 26.3s\n",
      "300:\tlearn: 1580.0885981\ttotal: 5.97s\tremaining: 23.8s\n",
      "400:\tlearn: 1547.1563400\ttotal: 7.95s\tremaining: 21.8s\n",
      "500:\tlearn: 1520.3865943\ttotal: 9.86s\tremaining: 19.7s\n",
      "600:\tlearn: 1499.4761316\ttotal: 11.8s\tremaining: 17.6s\n",
      "700:\tlearn: 1481.4294675\ttotal: 13.7s\tremaining: 15.6s\n",
      "800:\tlearn: 1464.9838289\ttotal: 15.6s\tremaining: 13.6s\n",
      "900:\tlearn: 1449.5015311\ttotal: 17.4s\tremaining: 11.6s\n",
      "1000:\tlearn: 1436.4678691\ttotal: 19.3s\tremaining: 9.64s\n",
      "1100:\tlearn: 1423.0235884\ttotal: 21.2s\tremaining: 7.7s\n",
      "1200:\tlearn: 1411.5556966\ttotal: 23.1s\tremaining: 5.76s\n",
      "1300:\tlearn: 1399.8745836\ttotal: 25.1s\tremaining: 3.83s\n",
      "1400:\tlearn: 1389.1207780\ttotal: 27s\tremaining: 1.91s\n",
      "1499:\tlearn: 1379.6166141\ttotal: 29s\tremaining: 0us\n",
      "0:\tlearn: 4039.9758127\ttotal: 20.8ms\tremaining: 31.2s\n",
      "100:\tlearn: 1702.7153763\ttotal: 1.98s\tremaining: 27.4s\n",
      "200:\tlearn: 1621.6346940\ttotal: 3.95s\tremaining: 25.5s\n",
      "300:\tlearn: 1577.0210860\ttotal: 5.87s\tremaining: 23.4s\n",
      "400:\tlearn: 1541.6510730\ttotal: 7.76s\tremaining: 21.3s\n",
      "500:\tlearn: 1514.6809095\ttotal: 9.69s\tremaining: 19.3s\n",
      "600:\tlearn: 1490.3554484\ttotal: 11.7s\tremaining: 17.5s\n",
      "700:\tlearn: 1472.1143273\ttotal: 13.9s\tremaining: 15.9s\n",
      "800:\tlearn: 1455.7359234\ttotal: 15.9s\tremaining: 13.8s\n",
      "900:\tlearn: 1439.1701750\ttotal: 17.8s\tremaining: 11.8s\n",
      "1000:\tlearn: 1424.3387725\ttotal: 19.7s\tremaining: 9.82s\n",
      "1100:\tlearn: 1411.4419855\ttotal: 21.6s\tremaining: 7.84s\n",
      "1200:\tlearn: 1399.1182843\ttotal: 23.5s\tremaining: 5.86s\n",
      "1300:\tlearn: 1388.2049857\ttotal: 25.5s\tremaining: 3.89s\n",
      "1400:\tlearn: 1378.3912583\ttotal: 27.4s\tremaining: 1.93s\n",
      "1499:\tlearn: 1369.8402194\ttotal: 29.3s\tremaining: 0us\n",
      "0:\tlearn: 4042.2851106\ttotal: 19.5ms\tremaining: 29.3s\n",
      "100:\tlearn: 1710.5792983\ttotal: 1.97s\tremaining: 27.3s\n",
      "200:\tlearn: 1628.1373544\ttotal: 3.91s\tremaining: 25.3s\n",
      "300:\tlearn: 1581.5931042\ttotal: 5.81s\tremaining: 23.2s\n",
      "400:\tlearn: 1546.8416853\ttotal: 7.77s\tremaining: 21.3s\n",
      "500:\tlearn: 1520.3235903\ttotal: 9.69s\tremaining: 19.3s\n",
      "600:\tlearn: 1499.1051601\ttotal: 11.6s\tremaining: 17.4s\n",
      "700:\tlearn: 1479.8713846\ttotal: 13.6s\tremaining: 15.5s\n",
      "800:\tlearn: 1463.2986327\ttotal: 15.4s\tremaining: 13.5s\n",
      "900:\tlearn: 1448.2012865\ttotal: 17.3s\tremaining: 11.5s\n",
      "1000:\tlearn: 1435.1589781\ttotal: 19.2s\tremaining: 9.57s\n",
      "1100:\tlearn: 1423.1388976\ttotal: 21.1s\tremaining: 7.65s\n",
      "1200:\tlearn: 1411.8594647\ttotal: 23.1s\tremaining: 5.75s\n",
      "1300:\tlearn: 1400.3695479\ttotal: 25.1s\tremaining: 3.84s\n",
      "1400:\tlearn: 1389.8536186\ttotal: 27s\tremaining: 1.91s\n",
      "1499:\tlearn: 1379.8265125\ttotal: 28.9s\tremaining: 0us\n",
      "0:\tlearn: 3785.0292097\ttotal: 21.9ms\tremaining: 32.9s\n",
      "100:\tlearn: 1668.5126216\ttotal: 2s\tremaining: 27.7s\n",
      "200:\tlearn: 1588.9933233\ttotal: 3.9s\tremaining: 25.2s\n",
      "300:\tlearn: 1539.3115950\ttotal: 5.93s\tremaining: 23.6s\n",
      "400:\tlearn: 1503.6712582\ttotal: 7.85s\tremaining: 21.5s\n",
      "500:\tlearn: 1477.2614474\ttotal: 9.74s\tremaining: 19.4s\n",
      "600:\tlearn: 1452.2217713\ttotal: 11.7s\tremaining: 17.5s\n",
      "700:\tlearn: 1432.6586181\ttotal: 13.6s\tremaining: 15.5s\n",
      "800:\tlearn: 1413.3161193\ttotal: 15.6s\tremaining: 13.6s\n",
      "900:\tlearn: 1397.1210299\ttotal: 17.5s\tremaining: 11.6s\n",
      "1000:\tlearn: 1383.2196992\ttotal: 19.4s\tremaining: 9.69s\n",
      "1100:\tlearn: 1368.5891842\ttotal: 21.5s\tremaining: 7.79s\n",
      "1200:\tlearn: 1355.7279087\ttotal: 23.5s\tremaining: 5.85s\n",
      "1300:\tlearn: 1344.6358541\ttotal: 25.5s\tremaining: 3.9s\n",
      "1400:\tlearn: 1334.4835286\ttotal: 27.5s\tremaining: 1.94s\n",
      "1499:\tlearn: 1324.7438405\ttotal: 29.4s\tremaining: 0us\n",
      "0:\tlearn: 3762.5943747\ttotal: 21.4ms\tremaining: 32.1s\n",
      "100:\tlearn: 1657.0535489\ttotal: 2.03s\tremaining: 28.1s\n",
      "200:\tlearn: 1579.0453164\ttotal: 3.97s\tremaining: 25.7s\n",
      "300:\tlearn: 1533.0239632\ttotal: 5.84s\tremaining: 23.3s\n",
      "400:\tlearn: 1494.0644069\ttotal: 7.79s\tremaining: 21.4s\n",
      "500:\tlearn: 1466.1810563\ttotal: 9.7s\tremaining: 19.3s\n",
      "600:\tlearn: 1443.6955112\ttotal: 11.7s\tremaining: 17.5s\n",
      "700:\tlearn: 1421.0808442\ttotal: 13.7s\tremaining: 15.6s\n",
      "800:\tlearn: 1403.0229899\ttotal: 15.6s\tremaining: 13.6s\n",
      "900:\tlearn: 1386.5438756\ttotal: 17.7s\tremaining: 11.8s\n",
      "1000:\tlearn: 1372.4063806\ttotal: 19.7s\tremaining: 9.8s\n",
      "1100:\tlearn: 1358.6072121\ttotal: 21.7s\tremaining: 7.86s\n",
      "1200:\tlearn: 1345.0569739\ttotal: 23.6s\tremaining: 5.88s\n",
      "1300:\tlearn: 1333.1961236\ttotal: 25.6s\tremaining: 3.91s\n",
      "1400:\tlearn: 1322.3153630\ttotal: 27.6s\tremaining: 1.95s\n",
      "1499:\tlearn: 1312.2265378\ttotal: 29.5s\tremaining: 0us\n",
      "0:\tlearn: 3764.5118607\ttotal: 21.5ms\tremaining: 32.3s\n",
      "100:\tlearn: 1665.0527164\ttotal: 2.08s\tremaining: 28.8s\n",
      "200:\tlearn: 1585.3005972\ttotal: 3.98s\tremaining: 25.7s\n",
      "300:\tlearn: 1537.0830197\ttotal: 5.93s\tremaining: 23.6s\n",
      "400:\tlearn: 1503.2095636\ttotal: 7.81s\tremaining: 21.4s\n",
      "500:\tlearn: 1473.6791200\ttotal: 9.71s\tremaining: 19.4s\n",
      "600:\tlearn: 1449.6597200\ttotal: 11.6s\tremaining: 17.4s\n",
      "700:\tlearn: 1429.2997625\ttotal: 13.5s\tremaining: 15.4s\n",
      "800:\tlearn: 1410.1267754\ttotal: 15.5s\tremaining: 13.5s\n",
      "900:\tlearn: 1393.7705386\ttotal: 17.5s\tremaining: 11.6s\n",
      "1000:\tlearn: 1378.6025515\ttotal: 19.4s\tremaining: 9.69s\n",
      "1100:\tlearn: 1365.0836516\ttotal: 21.4s\tremaining: 7.75s\n",
      "1200:\tlearn: 1352.5518678\ttotal: 23.3s\tremaining: 5.8s\n",
      "1300:\tlearn: 1340.4148083\ttotal: 25.2s\tremaining: 3.86s\n",
      "1400:\tlearn: 1329.5441920\ttotal: 27.2s\tremaining: 1.92s\n",
      "1499:\tlearn: 1319.4281063\ttotal: 29s\tremaining: 0us\n",
      "0:\tlearn: 3529.3480900\ttotal: 22.5ms\tremaining: 33.7s\n",
      "100:\tlearn: 1639.1220445\ttotal: 1.93s\tremaining: 26.8s\n",
      "200:\tlearn: 1551.4379262\ttotal: 3.84s\tremaining: 24.8s\n",
      "300:\tlearn: 1503.4487984\ttotal: 5.76s\tremaining: 22.9s\n",
      "400:\tlearn: 1469.1523919\ttotal: 7.65s\tremaining: 21s\n",
      "500:\tlearn: 1440.5740662\ttotal: 9.56s\tremaining: 19.1s\n",
      "600:\tlearn: 1414.4117481\ttotal: 11.5s\tremaining: 17.2s\n",
      "700:\tlearn: 1391.7029827\ttotal: 13.5s\tremaining: 15.4s\n",
      "800:\tlearn: 1372.6700396\ttotal: 15.5s\tremaining: 13.5s\n",
      "900:\tlearn: 1355.5573445\ttotal: 17.5s\tremaining: 11.6s\n",
      "1000:\tlearn: 1340.4678279\ttotal: 19.4s\tremaining: 9.67s\n",
      "1100:\tlearn: 1326.3761723\ttotal: 21.3s\tremaining: 7.72s\n",
      "1200:\tlearn: 1312.5309294\ttotal: 23.4s\tremaining: 5.82s\n",
      "1300:\tlearn: 1298.6727779\ttotal: 25.3s\tremaining: 3.88s\n",
      "1400:\tlearn: 1287.1861964\ttotal: 27.3s\tremaining: 1.93s\n",
      "1499:\tlearn: 1276.3343210\ttotal: 29.2s\tremaining: 0us\n",
      "0:\tlearn: 3504.4029684\ttotal: 21.4ms\tremaining: 32.1s\n",
      "100:\tlearn: 1635.4159077\ttotal: 1.96s\tremaining: 27.2s\n",
      "200:\tlearn: 1549.2720110\ttotal: 3.87s\tremaining: 25s\n",
      "300:\tlearn: 1498.8324395\ttotal: 5.76s\tremaining: 22.9s\n",
      "400:\tlearn: 1459.9187385\ttotal: 7.68s\tremaining: 21s\n",
      "500:\tlearn: 1429.9655907\ttotal: 9.6s\tremaining: 19.1s\n",
      "600:\tlearn: 1404.9137115\ttotal: 11.5s\tremaining: 17.3s\n",
      "700:\tlearn: 1383.6124395\ttotal: 13.5s\tremaining: 15.4s\n",
      "800:\tlearn: 1362.9769225\ttotal: 15.5s\tremaining: 13.5s\n",
      "900:\tlearn: 1346.0365452\ttotal: 17.5s\tremaining: 11.7s\n",
      "1000:\tlearn: 1330.6914286\ttotal: 19.4s\tremaining: 9.69s\n",
      "1100:\tlearn: 1316.8459773\ttotal: 21.4s\tremaining: 7.76s\n",
      "1200:\tlearn: 1303.0738778\ttotal: 23.3s\tremaining: 5.81s\n",
      "1300:\tlearn: 1291.4179293\ttotal: 25.2s\tremaining: 3.86s\n",
      "1400:\tlearn: 1279.9916356\ttotal: 27.2s\tremaining: 1.92s\n",
      "1499:\tlearn: 1269.6654887\ttotal: 29.1s\tremaining: 0us\n",
      "0:\tlearn: 3505.9241838\ttotal: 19.6ms\tremaining: 29.4s\n",
      "100:\tlearn: 1642.5560326\ttotal: 1.96s\tremaining: 27.1s\n",
      "200:\tlearn: 1557.8938570\ttotal: 3.87s\tremaining: 25s\n",
      "300:\tlearn: 1505.0264595\ttotal: 5.78s\tremaining: 23s\n",
      "400:\tlearn: 1469.4106664\ttotal: 7.68s\tremaining: 21s\n",
      "500:\tlearn: 1441.2307506\ttotal: 9.7s\tremaining: 19.3s\n",
      "600:\tlearn: 1414.9845801\ttotal: 11.7s\tremaining: 17.5s\n",
      "700:\tlearn: 1392.3443602\ttotal: 13.7s\tremaining: 15.7s\n",
      "800:\tlearn: 1372.3754555\ttotal: 15.7s\tremaining: 13.7s\n",
      "900:\tlearn: 1354.5487106\ttotal: 17.7s\tremaining: 11.8s\n",
      "1000:\tlearn: 1338.1979046\ttotal: 19.7s\tremaining: 9.82s\n",
      "1100:\tlearn: 1324.2381186\ttotal: 21.6s\tremaining: 7.83s\n",
      "1200:\tlearn: 1312.2174582\ttotal: 23.5s\tremaining: 5.86s\n",
      "1300:\tlearn: 1300.2536346\ttotal: 25.4s\tremaining: 3.89s\n",
      "1400:\tlearn: 1288.6282966\ttotal: 27.4s\tremaining: 1.94s\n",
      "1499:\tlearn: 1278.6921792\ttotal: 29.3s\tremaining: 0us\n",
      "0:\tlearn: 4350.4824558\ttotal: 21.5ms\tremaining: 37.6s\n",
      "100:\tlearn: 1805.7570916\ttotal: 1.96s\tremaining: 32s\n",
      "200:\tlearn: 1708.5762523\ttotal: 3.89s\tremaining: 30s\n",
      "300:\tlearn: 1658.6715506\ttotal: 5.85s\tremaining: 28.1s\n",
      "400:\tlearn: 1626.4231208\ttotal: 7.86s\tremaining: 26.5s\n",
      "500:\tlearn: 1601.6879379\ttotal: 9.78s\tremaining: 24.4s\n",
      "600:\tlearn: 1580.4816420\ttotal: 11.8s\tremaining: 22.5s\n",
      "700:\tlearn: 1562.7855694\ttotal: 13.7s\tremaining: 20.5s\n",
      "800:\tlearn: 1547.2497246\ttotal: 16.1s\tremaining: 19.1s\n",
      "900:\tlearn: 1533.8326595\ttotal: 18.1s\tremaining: 17.1s\n",
      "1000:\tlearn: 1520.8996730\ttotal: 20.1s\tremaining: 15.1s\n",
      "1100:\tlearn: 1508.8781250\ttotal: 22.2s\tremaining: 13.1s\n",
      "1200:\tlearn: 1497.9961926\ttotal: 24.1s\tremaining: 11s\n",
      "1300:\tlearn: 1489.1155157\ttotal: 26.2s\tremaining: 9.03s\n",
      "1400:\tlearn: 1480.3962321\ttotal: 28.2s\tremaining: 7.02s\n",
      "1500:\tlearn: 1471.5068979\ttotal: 30.2s\tremaining: 5.01s\n",
      "1600:\tlearn: 1463.8499863\ttotal: 32.2s\tremaining: 2.99s\n",
      "1700:\tlearn: 1456.2034665\ttotal: 34.1s\tremaining: 983ms\n",
      "1749:\tlearn: 1452.4606301\ttotal: 35.2s\tremaining: 0us\n",
      "0:\tlearn: 4332.8632714\ttotal: 21.3ms\tremaining: 37.2s\n",
      "100:\tlearn: 1792.1819010\ttotal: 2.09s\tremaining: 34.2s\n",
      "200:\tlearn: 1700.7260156\ttotal: 4.07s\tremaining: 31.3s\n",
      "300:\tlearn: 1651.9993944\ttotal: 5.97s\tremaining: 28.7s\n",
      "400:\tlearn: 1619.9695416\ttotal: 7.92s\tremaining: 26.6s\n",
      "500:\tlearn: 1594.8992509\ttotal: 9.82s\tremaining: 24.5s\n",
      "600:\tlearn: 1573.4914228\ttotal: 11.9s\tremaining: 22.7s\n",
      "700:\tlearn: 1554.9206328\ttotal: 13.8s\tremaining: 20.7s\n",
      "800:\tlearn: 1539.9884796\ttotal: 15.8s\tremaining: 18.8s\n",
      "900:\tlearn: 1525.5913147\ttotal: 17.7s\tremaining: 16.7s\n",
      "1000:\tlearn: 1512.3583606\ttotal: 19.6s\tremaining: 14.7s\n",
      "1100:\tlearn: 1500.7737311\ttotal: 21.5s\tremaining: 12.7s\n",
      "1200:\tlearn: 1489.7492784\ttotal: 23.6s\tremaining: 10.8s\n",
      "1300:\tlearn: 1480.0775786\ttotal: 25.4s\tremaining: 8.78s\n",
      "1400:\tlearn: 1470.4284580\ttotal: 27.4s\tremaining: 6.83s\n",
      "1500:\tlearn: 1461.6348647\ttotal: 29.4s\tremaining: 4.88s\n",
      "1600:\tlearn: 1453.1282016\ttotal: 31.4s\tremaining: 2.92s\n",
      "1700:\tlearn: 1445.1531186\ttotal: 33.3s\tremaining: 959ms\n",
      "1749:\tlearn: 1441.8350226\ttotal: 34.2s\tremaining: 0us\n",
      "0:\tlearn: 4335.5578683\ttotal: 21.3ms\tremaining: 37.3s\n",
      "100:\tlearn: 1804.1380570\ttotal: 1.97s\tremaining: 32.1s\n",
      "200:\tlearn: 1710.3015119\ttotal: 3.85s\tremaining: 29.7s\n",
      "300:\tlearn: 1659.7790718\ttotal: 5.8s\tremaining: 27.9s\n",
      "400:\tlearn: 1625.9456593\ttotal: 7.74s\tremaining: 26s\n",
      "500:\tlearn: 1600.6997318\ttotal: 9.62s\tremaining: 24s\n",
      "600:\tlearn: 1579.7976254\ttotal: 11.6s\tremaining: 22.1s\n",
      "700:\tlearn: 1562.6785920\ttotal: 13.5s\tremaining: 20.2s\n",
      "800:\tlearn: 1546.8630702\ttotal: 15.4s\tremaining: 18.2s\n",
      "900:\tlearn: 1533.8772692\ttotal: 17.2s\tremaining: 16.2s\n",
      "1000:\tlearn: 1521.3301801\ttotal: 19.1s\tremaining: 14.3s\n",
      "1100:\tlearn: 1510.0558615\ttotal: 21.1s\tremaining: 12.4s\n",
      "1200:\tlearn: 1499.0592617\ttotal: 23s\tremaining: 10.5s\n",
      "1300:\tlearn: 1489.8161989\ttotal: 24.9s\tremaining: 8.6s\n",
      "1400:\tlearn: 1480.0763965\ttotal: 27s\tremaining: 6.71s\n",
      "1500:\tlearn: 1471.2137071\ttotal: 29.1s\tremaining: 4.82s\n",
      "1600:\tlearn: 1463.3659701\ttotal: 30.9s\tremaining: 2.88s\n",
      "1700:\tlearn: 1456.2965478\ttotal: 33s\tremaining: 951ms\n",
      "1749:\tlearn: 1452.6450143\ttotal: 33.9s\tremaining: 0us\n",
      "0:\tlearn: 4059.9564227\ttotal: 21.2ms\tremaining: 37.1s\n",
      "100:\tlearn: 1710.7860275\ttotal: 2.04s\tremaining: 33.3s\n",
      "200:\tlearn: 1627.9554888\ttotal: 4.12s\tremaining: 31.7s\n",
      "300:\tlearn: 1580.0885981\ttotal: 6.04s\tremaining: 29.1s\n",
      "400:\tlearn: 1547.1563400\ttotal: 7.92s\tremaining: 26.6s\n",
      "500:\tlearn: 1520.3865943\ttotal: 9.82s\tremaining: 24.5s\n",
      "600:\tlearn: 1499.4761316\ttotal: 11.8s\tremaining: 22.5s\n",
      "700:\tlearn: 1481.4294675\ttotal: 13.7s\tremaining: 20.4s\n",
      "800:\tlearn: 1464.9838289\ttotal: 15.6s\tremaining: 18.5s\n",
      "900:\tlearn: 1449.5015311\ttotal: 17.5s\tremaining: 16.5s\n",
      "1000:\tlearn: 1436.4678691\ttotal: 19.4s\tremaining: 14.5s\n",
      "1100:\tlearn: 1423.0235884\ttotal: 21.4s\tremaining: 12.6s\n",
      "1200:\tlearn: 1411.5556966\ttotal: 23.3s\tremaining: 10.6s\n",
      "1300:\tlearn: 1399.8745836\ttotal: 25.2s\tremaining: 8.69s\n",
      "1400:\tlearn: 1389.1207780\ttotal: 27.2s\tremaining: 6.77s\n",
      "1500:\tlearn: 1379.5571383\ttotal: 29.1s\tremaining: 4.83s\n",
      "1600:\tlearn: 1370.2136066\ttotal: 31s\tremaining: 2.89s\n",
      "1700:\tlearn: 1361.6500214\ttotal: 33s\tremaining: 949ms\n",
      "1749:\tlearn: 1357.8602915\ttotal: 33.9s\tremaining: 0us\n",
      "0:\tlearn: 4039.9758127\ttotal: 20.2ms\tremaining: 35.4s\n",
      "100:\tlearn: 1702.7153763\ttotal: 1.94s\tremaining: 31.6s\n",
      "200:\tlearn: 1621.6346940\ttotal: 3.81s\tremaining: 29.3s\n",
      "300:\tlearn: 1577.0210860\ttotal: 5.74s\tremaining: 27.6s\n",
      "400:\tlearn: 1541.6510730\ttotal: 7.71s\tremaining: 25.9s\n",
      "500:\tlearn: 1514.6809095\ttotal: 9.65s\tremaining: 24.1s\n",
      "600:\tlearn: 1490.3554484\ttotal: 11.6s\tremaining: 22.1s\n",
      "700:\tlearn: 1472.1143273\ttotal: 13.4s\tremaining: 20.1s\n",
      "800:\tlearn: 1455.7359234\ttotal: 15.4s\tremaining: 18.2s\n",
      "900:\tlearn: 1439.1701750\ttotal: 17.3s\tremaining: 16.3s\n",
      "1000:\tlearn: 1424.3387725\ttotal: 19.2s\tremaining: 14.4s\n",
      "1100:\tlearn: 1411.4419855\ttotal: 21.1s\tremaining: 12.4s\n",
      "1200:\tlearn: 1399.1182843\ttotal: 23.1s\tremaining: 10.6s\n",
      "1300:\tlearn: 1388.2049857\ttotal: 25s\tremaining: 8.61s\n",
      "1400:\tlearn: 1378.3912583\ttotal: 26.8s\tremaining: 6.69s\n",
      "1500:\tlearn: 1369.7719006\ttotal: 28.7s\tremaining: 4.77s\n",
      "1600:\tlearn: 1360.2070637\ttotal: 30.7s\tremaining: 2.86s\n",
      "1700:\tlearn: 1351.9601969\ttotal: 32.6s\tremaining: 940ms\n",
      "1749:\tlearn: 1348.3982005\ttotal: 33.6s\tremaining: 0us\n",
      "0:\tlearn: 4042.2851106\ttotal: 20.6ms\tremaining: 36s\n",
      "100:\tlearn: 1710.5792983\ttotal: 2.03s\tremaining: 33.1s\n",
      "200:\tlearn: 1628.1373544\ttotal: 4.08s\tremaining: 31.5s\n",
      "300:\tlearn: 1581.5931042\ttotal: 6.01s\tremaining: 28.9s\n",
      "400:\tlearn: 1546.8416853\ttotal: 7.94s\tremaining: 26.7s\n",
      "500:\tlearn: 1520.3235903\ttotal: 9.85s\tremaining: 24.5s\n",
      "600:\tlearn: 1499.1051601\ttotal: 11.7s\tremaining: 22.4s\n",
      "700:\tlearn: 1479.8713846\ttotal: 13.7s\tremaining: 20.5s\n",
      "800:\tlearn: 1463.2986327\ttotal: 15.6s\tremaining: 18.5s\n",
      "900:\tlearn: 1448.2012865\ttotal: 17.5s\tremaining: 16.5s\n",
      "1000:\tlearn: 1435.1589781\ttotal: 19.5s\tremaining: 14.6s\n",
      "1100:\tlearn: 1423.1388976\ttotal: 21.4s\tremaining: 12.6s\n",
      "1200:\tlearn: 1411.8594647\ttotal: 23.4s\tremaining: 10.7s\n",
      "1300:\tlearn: 1400.3695479\ttotal: 25.6s\tremaining: 8.83s\n",
      "1400:\tlearn: 1389.8536186\ttotal: 28s\tremaining: 6.99s\n",
      "1500:\tlearn: 1379.7717863\ttotal: 30.1s\tremaining: 4.99s\n",
      "1600:\tlearn: 1370.8196195\ttotal: 32.3s\tremaining: 3.01s\n",
      "1700:\tlearn: 1361.6035136\ttotal: 34.5s\tremaining: 995ms\n",
      "1749:\tlearn: 1357.5883832\ttotal: 35.5s\tremaining: 0us\n",
      "0:\tlearn: 3785.0292097\ttotal: 21.7ms\tremaining: 38s\n",
      "100:\tlearn: 1668.5126216\ttotal: 1.95s\tremaining: 31.8s\n",
      "200:\tlearn: 1588.9933233\ttotal: 3.84s\tremaining: 29.6s\n",
      "300:\tlearn: 1539.3115950\ttotal: 5.76s\tremaining: 27.7s\n",
      "400:\tlearn: 1503.6712582\ttotal: 8.25s\tremaining: 27.8s\n",
      "500:\tlearn: 1477.2614474\ttotal: 10.2s\tremaining: 25.3s\n",
      "600:\tlearn: 1452.2217713\ttotal: 12.1s\tremaining: 23.1s\n",
      "700:\tlearn: 1432.6586181\ttotal: 13.9s\tremaining: 20.8s\n",
      "800:\tlearn: 1413.3161193\ttotal: 15.8s\tremaining: 18.8s\n",
      "900:\tlearn: 1397.1210299\ttotal: 17.7s\tremaining: 16.7s\n",
      "1000:\tlearn: 1383.2196992\ttotal: 19.7s\tremaining: 14.8s\n",
      "1100:\tlearn: 1368.5891842\ttotal: 21.7s\tremaining: 12.8s\n",
      "1200:\tlearn: 1355.7279087\ttotal: 23.6s\tremaining: 10.8s\n",
      "1300:\tlearn: 1344.6358541\ttotal: 25.5s\tremaining: 8.79s\n",
      "1400:\tlearn: 1334.4835286\ttotal: 27.4s\tremaining: 6.84s\n",
      "1500:\tlearn: 1324.6693587\ttotal: 29.4s\tremaining: 4.87s\n",
      "1600:\tlearn: 1315.0572907\ttotal: 31.3s\tremaining: 2.91s\n",
      "1700:\tlearn: 1305.6521045\ttotal: 33.2s\tremaining: 956ms\n",
      "1749:\tlearn: 1301.6606671\ttotal: 34.1s\tremaining: 0us\n",
      "0:\tlearn: 3762.5943747\ttotal: 20.9ms\tremaining: 36.5s\n",
      "100:\tlearn: 1657.0535489\ttotal: 1.92s\tremaining: 31.3s\n",
      "200:\tlearn: 1579.0453164\ttotal: 3.81s\tremaining: 29.4s\n",
      "300:\tlearn: 1533.0239632\ttotal: 5.69s\tremaining: 27.4s\n",
      "400:\tlearn: 1494.0644069\ttotal: 7.66s\tremaining: 25.8s\n",
      "500:\tlearn: 1466.1810563\ttotal: 9.61s\tremaining: 23.9s\n",
      "600:\tlearn: 1443.6955112\ttotal: 11.5s\tremaining: 22s\n",
      "700:\tlearn: 1421.0808442\ttotal: 13.6s\tremaining: 20.3s\n",
      "800:\tlearn: 1403.0229899\ttotal: 15.5s\tremaining: 18.4s\n",
      "900:\tlearn: 1386.5438756\ttotal: 17.5s\tremaining: 16.5s\n",
      "1000:\tlearn: 1372.4063806\ttotal: 19.4s\tremaining: 14.5s\n",
      "1100:\tlearn: 1358.6072121\ttotal: 21.3s\tremaining: 12.6s\n",
      "1200:\tlearn: 1345.0569739\ttotal: 23.2s\tremaining: 10.6s\n",
      "1300:\tlearn: 1333.1961236\ttotal: 25.1s\tremaining: 8.65s\n",
      "1400:\tlearn: 1322.3153630\ttotal: 27.1s\tremaining: 6.74s\n",
      "1500:\tlearn: 1312.1795693\ttotal: 29s\tremaining: 4.8s\n",
      "1600:\tlearn: 1303.4694583\ttotal: 30.9s\tremaining: 2.88s\n",
      "1700:\tlearn: 1294.3051815\ttotal: 32.8s\tremaining: 946ms\n",
      "1749:\tlearn: 1289.9617679\ttotal: 33.8s\tremaining: 0us\n",
      "0:\tlearn: 3764.5118607\ttotal: 23.6ms\tremaining: 41.2s\n",
      "100:\tlearn: 1665.0527164\ttotal: 2.01s\tremaining: 32.9s\n",
      "200:\tlearn: 1585.3005972\ttotal: 3.9s\tremaining: 30s\n",
      "300:\tlearn: 1537.0830197\ttotal: 5.85s\tremaining: 28.2s\n",
      "400:\tlearn: 1503.2095636\ttotal: 7.81s\tremaining: 26.3s\n",
      "500:\tlearn: 1473.6791200\ttotal: 9.8s\tremaining: 24.4s\n",
      "600:\tlearn: 1449.6597200\ttotal: 11.8s\tremaining: 22.6s\n",
      "700:\tlearn: 1429.2997625\ttotal: 13.7s\tremaining: 20.5s\n",
      "800:\tlearn: 1410.1267754\ttotal: 15.6s\tremaining: 18.5s\n",
      "900:\tlearn: 1393.7705386\ttotal: 17.6s\tremaining: 16.5s\n",
      "1000:\tlearn: 1378.6025515\ttotal: 19.5s\tremaining: 14.6s\n",
      "1100:\tlearn: 1365.0836516\ttotal: 21.4s\tremaining: 12.6s\n",
      "1200:\tlearn: 1352.5518678\ttotal: 23.3s\tremaining: 10.7s\n",
      "1300:\tlearn: 1340.4148083\ttotal: 25.2s\tremaining: 8.71s\n",
      "1400:\tlearn: 1329.5441920\ttotal: 27.2s\tremaining: 6.76s\n",
      "1500:\tlearn: 1319.2945618\ttotal: 29.1s\tremaining: 4.82s\n",
      "1600:\tlearn: 1310.0626297\ttotal: 31s\tremaining: 2.88s\n",
      "1700:\tlearn: 1300.1857490\ttotal: 32.9s\tremaining: 948ms\n",
      "1749:\tlearn: 1295.0317738\ttotal: 33.9s\tremaining: 0us\n",
      "0:\tlearn: 3529.3480900\ttotal: 34.6ms\tremaining: 1m\n",
      "100:\tlearn: 1639.1220445\ttotal: 2.21s\tremaining: 36.2s\n",
      "200:\tlearn: 1551.4379262\ttotal: 4.12s\tremaining: 31.8s\n",
      "300:\tlearn: 1503.4487984\ttotal: 6.03s\tremaining: 29s\n",
      "400:\tlearn: 1469.1523919\ttotal: 7.93s\tremaining: 26.7s\n",
      "500:\tlearn: 1440.5740662\ttotal: 9.84s\tremaining: 24.5s\n",
      "600:\tlearn: 1414.4117481\ttotal: 11.8s\tremaining: 22.5s\n",
      "700:\tlearn: 1391.7029827\ttotal: 13.7s\tremaining: 20.5s\n",
      "800:\tlearn: 1372.6700396\ttotal: 15.6s\tremaining: 18.5s\n",
      "900:\tlearn: 1355.5573445\ttotal: 17.6s\tremaining: 16.5s\n",
      "1000:\tlearn: 1340.4678279\ttotal: 19.4s\tremaining: 14.5s\n",
      "1100:\tlearn: 1326.3761723\ttotal: 21.3s\tremaining: 12.6s\n",
      "1200:\tlearn: 1312.5309294\ttotal: 23.3s\tremaining: 10.6s\n",
      "1300:\tlearn: 1298.6727779\ttotal: 25.4s\tremaining: 8.75s\n",
      "1400:\tlearn: 1287.1861964\ttotal: 27.4s\tremaining: 6.83s\n",
      "1500:\tlearn: 1276.2207410\ttotal: 29.5s\tremaining: 4.89s\n",
      "1600:\tlearn: 1266.2522388\ttotal: 31.4s\tremaining: 2.92s\n",
      "1700:\tlearn: 1256.0435914\ttotal: 33.3s\tremaining: 960ms\n",
      "1749:\tlearn: 1252.3348729\ttotal: 34.3s\tremaining: 0us\n",
      "0:\tlearn: 3504.4029684\ttotal: 21.1ms\tremaining: 36.9s\n",
      "100:\tlearn: 1635.4159077\ttotal: 2s\tremaining: 32.7s\n",
      "200:\tlearn: 1549.2720110\ttotal: 3.9s\tremaining: 30.1s\n",
      "300:\tlearn: 1498.8324395\ttotal: 5.83s\tremaining: 28s\n",
      "400:\tlearn: 1459.9187385\ttotal: 7.69s\tremaining: 25.9s\n",
      "500:\tlearn: 1429.9655907\ttotal: 9.59s\tremaining: 23.9s\n",
      "600:\tlearn: 1404.9137115\ttotal: 11.5s\tremaining: 22s\n",
      "700:\tlearn: 1383.6124395\ttotal: 13.4s\tremaining: 20s\n",
      "800:\tlearn: 1362.9769225\ttotal: 15.3s\tremaining: 18.1s\n",
      "900:\tlearn: 1346.0365452\ttotal: 17.1s\tremaining: 16.2s\n",
      "1000:\tlearn: 1330.6914286\ttotal: 19s\tremaining: 14.2s\n",
      "1100:\tlearn: 1316.8459773\ttotal: 21s\tremaining: 12.4s\n",
      "1200:\tlearn: 1303.0738778\ttotal: 23s\tremaining: 10.5s\n",
      "1300:\tlearn: 1291.4179293\ttotal: 24.9s\tremaining: 8.6s\n",
      "1400:\tlearn: 1279.9916356\ttotal: 26.8s\tremaining: 6.68s\n",
      "1500:\tlearn: 1269.6371052\ttotal: 28.8s\tremaining: 4.77s\n",
      "1600:\tlearn: 1259.8923679\ttotal: 30.8s\tremaining: 2.86s\n",
      "1700:\tlearn: 1250.3774542\ttotal: 32.7s\tremaining: 941ms\n",
      "1749:\tlearn: 1245.3351157\ttotal: 33.6s\tremaining: 0us\n",
      "0:\tlearn: 3505.9241838\ttotal: 23.7ms\tremaining: 41.5s\n",
      "100:\tlearn: 1642.5560326\ttotal: 1.94s\tremaining: 31.6s\n",
      "200:\tlearn: 1557.8938570\ttotal: 3.96s\tremaining: 30.5s\n",
      "300:\tlearn: 1505.0264595\ttotal: 5.93s\tremaining: 28.6s\n",
      "400:\tlearn: 1469.4106664\ttotal: 7.84s\tremaining: 26.4s\n",
      "500:\tlearn: 1441.2307506\ttotal: 9.79s\tremaining: 24.4s\n",
      "600:\tlearn: 1414.9845801\ttotal: 11.8s\tremaining: 22.6s\n",
      "700:\tlearn: 1392.3443602\ttotal: 13.8s\tremaining: 20.7s\n",
      "800:\tlearn: 1372.3754555\ttotal: 15.8s\tremaining: 18.7s\n",
      "900:\tlearn: 1354.5487106\ttotal: 17.8s\tremaining: 16.8s\n",
      "1000:\tlearn: 1338.1979046\ttotal: 19.8s\tremaining: 14.8s\n",
      "1100:\tlearn: 1324.2381186\ttotal: 21.8s\tremaining: 12.8s\n",
      "1200:\tlearn: 1312.2174582\ttotal: 23.7s\tremaining: 10.8s\n",
      "1300:\tlearn: 1300.2536346\ttotal: 25.6s\tremaining: 8.84s\n",
      "1400:\tlearn: 1288.6282966\ttotal: 27.6s\tremaining: 6.88s\n",
      "1500:\tlearn: 1278.6403734\ttotal: 29.5s\tremaining: 4.9s\n",
      "1600:\tlearn: 1269.1927186\ttotal: 31.4s\tremaining: 2.92s\n",
      "1700:\tlearn: 1259.1984727\ttotal: 33.3s\tremaining: 960ms\n",
      "1749:\tlearn: 1254.8100672\ttotal: 34.3s\tremaining: 0us\n",
      "0:\tlearn: 4336.3267643\ttotal: 29.8ms\tremaining: 29.8s\n",
      "100:\tlearn: 1747.5105430\ttotal: 2.67s\tremaining: 23.8s\n",
      "200:\tlearn: 1652.0769133\ttotal: 5.32s\tremaining: 21.2s\n",
      "300:\tlearn: 1598.4443801\ttotal: 8.07s\tremaining: 18.8s\n",
      "400:\tlearn: 1563.4641464\ttotal: 10.7s\tremaining: 16s\n",
      "500:\tlearn: 1534.2935566\ttotal: 13.3s\tremaining: 13.2s\n",
      "600:\tlearn: 1510.2788676\ttotal: 16s\tremaining: 10.6s\n",
      "700:\tlearn: 1490.6071312\ttotal: 18.6s\tremaining: 7.94s\n",
      "800:\tlearn: 1472.1498927\ttotal: 21.2s\tremaining: 5.28s\n",
      "900:\tlearn: 1456.5558067\ttotal: 23.8s\tremaining: 2.62s\n",
      "999:\tlearn: 1442.0054334\ttotal: 26.5s\tremaining: 0us\n",
      "0:\tlearn: 4316.3380587\ttotal: 30.6ms\tremaining: 30.6s\n",
      "100:\tlearn: 1731.0758994\ttotal: 2.64s\tremaining: 23.5s\n",
      "200:\tlearn: 1643.6700834\ttotal: 5.2s\tremaining: 20.7s\n",
      "300:\tlearn: 1591.7217229\ttotal: 7.9s\tremaining: 18.3s\n",
      "400:\tlearn: 1557.0704769\ttotal: 10.5s\tremaining: 15.7s\n",
      "500:\tlearn: 1528.4163307\ttotal: 13.2s\tremaining: 13.1s\n",
      "600:\tlearn: 1504.7825811\ttotal: 15.8s\tremaining: 10.5s\n",
      "700:\tlearn: 1483.5599687\ttotal: 18.4s\tremaining: 7.87s\n",
      "800:\tlearn: 1465.2417762\ttotal: 21.1s\tremaining: 5.23s\n",
      "900:\tlearn: 1448.6775103\ttotal: 23.6s\tremaining: 2.59s\n",
      "999:\tlearn: 1434.3064078\ttotal: 26.1s\tremaining: 0us\n",
      "0:\tlearn: 4320.2498339\ttotal: 27.2ms\tremaining: 27.2s\n",
      "100:\tlearn: 1738.8778572\ttotal: 2.71s\tremaining: 24.2s\n",
      "200:\tlearn: 1649.9819770\ttotal: 5.37s\tremaining: 21.3s\n",
      "300:\tlearn: 1601.1934545\ttotal: 8.08s\tremaining: 18.8s\n",
      "400:\tlearn: 1564.0474303\ttotal: 11s\tremaining: 16.4s\n",
      "500:\tlearn: 1535.4676850\ttotal: 13.7s\tremaining: 13.7s\n",
      "600:\tlearn: 1512.1289350\ttotal: 16.5s\tremaining: 10.9s\n",
      "700:\tlearn: 1490.9994563\ttotal: 19.1s\tremaining: 8.14s\n",
      "800:\tlearn: 1473.3548946\ttotal: 21.8s\tremaining: 5.4s\n",
      "900:\tlearn: 1456.9111857\ttotal: 24.4s\tremaining: 2.68s\n",
      "999:\tlearn: 1441.5935863\ttotal: 26.9s\tremaining: 0us\n",
      "0:\tlearn: 4031.0688866\ttotal: 28.5ms\tremaining: 28.5s\n",
      "100:\tlearn: 1652.0584311\ttotal: 2.66s\tremaining: 23.7s\n",
      "200:\tlearn: 1564.3578418\ttotal: 5.3s\tremaining: 21.1s\n",
      "300:\tlearn: 1508.5402647\ttotal: 8.06s\tremaining: 18.7s\n",
      "400:\tlearn: 1471.1791311\ttotal: 11s\tremaining: 16.4s\n",
      "500:\tlearn: 1440.9425945\ttotal: 14.1s\tremaining: 14.1s\n",
      "600:\tlearn: 1416.1271260\ttotal: 17.2s\tremaining: 11.4s\n",
      "700:\tlearn: 1393.7178959\ttotal: 19.8s\tremaining: 8.43s\n",
      "800:\tlearn: 1374.0032739\ttotal: 22.4s\tremaining: 5.57s\n",
      "900:\tlearn: 1357.5103418\ttotal: 25s\tremaining: 2.75s\n",
      "999:\tlearn: 1341.2371356\ttotal: 27.6s\tremaining: 0us\n",
      "0:\tlearn: 4006.2842324\ttotal: 27.5ms\tremaining: 27.5s\n",
      "100:\tlearn: 1642.7981130\ttotal: 2.63s\tremaining: 23.4s\n",
      "200:\tlearn: 1554.4933001\ttotal: 5.21s\tremaining: 20.7s\n",
      "300:\tlearn: 1501.5506146\ttotal: 7.87s\tremaining: 18.3s\n",
      "400:\tlearn: 1464.4985910\ttotal: 10.5s\tremaining: 15.7s\n",
      "500:\tlearn: 1429.0575272\ttotal: 13.2s\tremaining: 13.1s\n",
      "600:\tlearn: 1404.8553332\ttotal: 15.8s\tremaining: 10.5s\n",
      "700:\tlearn: 1382.9700582\ttotal: 18.6s\tremaining: 7.94s\n",
      "800:\tlearn: 1363.2073346\ttotal: 21.5s\tremaining: 5.35s\n",
      "900:\tlearn: 1345.7570115\ttotal: 24.3s\tremaining: 2.67s\n",
      "999:\tlearn: 1328.9816098\ttotal: 27s\tremaining: 0us\n",
      "0:\tlearn: 4011.0673110\ttotal: 30.5ms\tremaining: 30.5s\n",
      "100:\tlearn: 1654.0172082\ttotal: 2.68s\tremaining: 23.8s\n",
      "200:\tlearn: 1566.0253638\ttotal: 5.31s\tremaining: 21.1s\n",
      "300:\tlearn: 1515.4519121\ttotal: 7.99s\tremaining: 18.6s\n",
      "400:\tlearn: 1475.4978408\ttotal: 10.6s\tremaining: 15.9s\n",
      "500:\tlearn: 1441.6455312\ttotal: 13.3s\tremaining: 13.2s\n",
      "600:\tlearn: 1414.7364253\ttotal: 15.9s\tremaining: 10.5s\n",
      "700:\tlearn: 1393.6333617\ttotal: 18.5s\tremaining: 7.88s\n",
      "800:\tlearn: 1373.2496351\ttotal: 21.1s\tremaining: 5.24s\n",
      "900:\tlearn: 1356.2199176\ttotal: 24.2s\tremaining: 2.66s\n",
      "999:\tlearn: 1338.4107809\ttotal: 26.7s\tremaining: 0us\n",
      "0:\tlearn: 3740.8769199\ttotal: 30.8ms\tremaining: 30.8s\n",
      "100:\tlearn: 1609.7787960\ttotal: 2.66s\tremaining: 23.6s\n",
      "200:\tlearn: 1521.6185346\ttotal: 5.32s\tremaining: 21.1s\n",
      "300:\tlearn: 1465.8584692\ttotal: 7.94s\tremaining: 18.4s\n",
      "400:\tlearn: 1423.0590640\ttotal: 10.6s\tremaining: 15.9s\n",
      "500:\tlearn: 1390.1040881\ttotal: 13.3s\tremaining: 13.3s\n",
      "600:\tlearn: 1360.2030512\ttotal: 15.9s\tremaining: 10.6s\n",
      "700:\tlearn: 1334.8093357\ttotal: 18.6s\tremaining: 7.93s\n",
      "800:\tlearn: 1313.3804435\ttotal: 21.2s\tremaining: 5.26s\n",
      "900:\tlearn: 1294.1904333\ttotal: 23.8s\tremaining: 2.61s\n",
      "999:\tlearn: 1277.9056628\ttotal: 26.3s\tremaining: 0us\n",
      "0:\tlearn: 3711.1497473\ttotal: 29ms\tremaining: 29s\n",
      "100:\tlearn: 1601.1281830\ttotal: 2.63s\tremaining: 23.4s\n",
      "200:\tlearn: 1512.7186441\ttotal: 5.14s\tremaining: 20.4s\n",
      "300:\tlearn: 1452.9314866\ttotal: 7.73s\tremaining: 17.9s\n",
      "400:\tlearn: 1411.0788636\ttotal: 10.4s\tremaining: 15.5s\n",
      "500:\tlearn: 1377.7280872\ttotal: 12.9s\tremaining: 12.9s\n",
      "600:\tlearn: 1348.9237217\ttotal: 15.6s\tremaining: 10.3s\n",
      "700:\tlearn: 1325.0597510\ttotal: 18.2s\tremaining: 7.75s\n",
      "800:\tlearn: 1303.0975158\ttotal: 20.7s\tremaining: 5.14s\n",
      "900:\tlearn: 1283.1161374\ttotal: 23.4s\tremaining: 2.56s\n",
      "999:\tlearn: 1267.4049831\ttotal: 25.9s\tremaining: 0us\n",
      "0:\tlearn: 3716.8314360\ttotal: 28.8ms\tremaining: 28.8s\n",
      "100:\tlearn: 1603.6538641\ttotal: 2.62s\tremaining: 23.4s\n",
      "200:\tlearn: 1513.1862319\ttotal: 5.21s\tremaining: 20.7s\n",
      "300:\tlearn: 1457.1994010\ttotal: 7.77s\tremaining: 18.1s\n",
      "400:\tlearn: 1415.5116000\ttotal: 10.5s\tremaining: 15.7s\n",
      "500:\tlearn: 1384.5818552\ttotal: 13.2s\tremaining: 13.1s\n",
      "600:\tlearn: 1355.6552301\ttotal: 15.8s\tremaining: 10.5s\n",
      "700:\tlearn: 1333.1409387\ttotal: 18.5s\tremaining: 7.88s\n",
      "800:\tlearn: 1310.3769597\ttotal: 21.1s\tremaining: 5.24s\n",
      "900:\tlearn: 1290.2958657\ttotal: 23.7s\tremaining: 2.61s\n",
      "999:\tlearn: 1273.0871823\ttotal: 26.5s\tremaining: 0us\n",
      "0:\tlearn: 3469.5333349\ttotal: 28.8ms\tremaining: 28.8s\n",
      "100:\tlearn: 1580.1373450\ttotal: 2.67s\tremaining: 23.8s\n",
      "200:\tlearn: 1482.5419518\ttotal: 5.26s\tremaining: 20.9s\n",
      "300:\tlearn: 1422.0713644\ttotal: 7.95s\tremaining: 18.5s\n",
      "400:\tlearn: 1379.9375106\ttotal: 10.7s\tremaining: 15.9s\n",
      "500:\tlearn: 1348.0101917\ttotal: 13.4s\tremaining: 13.4s\n",
      "600:\tlearn: 1318.4274320\ttotal: 16.1s\tremaining: 10.7s\n",
      "700:\tlearn: 1292.3657856\ttotal: 19.4s\tremaining: 8.29s\n",
      "800:\tlearn: 1270.0837689\ttotal: 22.1s\tremaining: 5.49s\n",
      "900:\tlearn: 1251.8633849\ttotal: 25.1s\tremaining: 2.75s\n",
      "999:\tlearn: 1231.6608590\ttotal: 27.8s\tremaining: 0us\n",
      "0:\tlearn: 3434.7826715\ttotal: 27.5ms\tremaining: 27.5s\n",
      "100:\tlearn: 1567.4880646\ttotal: 2.63s\tremaining: 23.4s\n",
      "200:\tlearn: 1475.6818990\ttotal: 5.23s\tremaining: 20.8s\n",
      "300:\tlearn: 1413.1381948\ttotal: 7.92s\tremaining: 18.4s\n",
      "400:\tlearn: 1368.7315710\ttotal: 11.1s\tremaining: 16.6s\n",
      "500:\tlearn: 1332.6488378\ttotal: 13.8s\tremaining: 13.7s\n",
      "600:\tlearn: 1302.3513696\ttotal: 16.4s\tremaining: 10.9s\n",
      "700:\tlearn: 1277.0531601\ttotal: 19.3s\tremaining: 8.24s\n",
      "800:\tlearn: 1253.4362698\ttotal: 22s\tremaining: 5.48s\n",
      "900:\tlearn: 1233.5122018\ttotal: 24.7s\tremaining: 2.72s\n",
      "999:\tlearn: 1216.7612849\ttotal: 27.3s\tremaining: 0us\n",
      "0:\tlearn: 3441.3782051\ttotal: 28.3ms\tremaining: 28.3s\n",
      "100:\tlearn: 1574.3948593\ttotal: 2.65s\tremaining: 23.6s\n",
      "200:\tlearn: 1479.5134971\ttotal: 5.24s\tremaining: 20.8s\n",
      "300:\tlearn: 1421.5170891\ttotal: 7.85s\tremaining: 18.2s\n",
      "400:\tlearn: 1377.3345656\ttotal: 10.5s\tremaining: 15.7s\n",
      "500:\tlearn: 1341.8427245\ttotal: 13.2s\tremaining: 13.1s\n",
      "600:\tlearn: 1312.6448780\ttotal: 16s\tremaining: 10.6s\n",
      "700:\tlearn: 1286.3792541\ttotal: 18.7s\tremaining: 7.97s\n",
      "800:\tlearn: 1262.0904049\ttotal: 21.3s\tremaining: 5.28s\n",
      "900:\tlearn: 1240.8564561\ttotal: 23.9s\tremaining: 2.63s\n",
      "999:\tlearn: 1222.8826508\ttotal: 26.5s\tremaining: 0us\n",
      "0:\tlearn: 4336.3267643\ttotal: 36.2ms\tremaining: 45.3s\n",
      "100:\tlearn: 1747.5105430\ttotal: 2.76s\tremaining: 31.4s\n",
      "200:\tlearn: 1652.0769133\ttotal: 5.42s\tremaining: 28.3s\n",
      "300:\tlearn: 1598.4443801\ttotal: 8s\tremaining: 25.2s\n",
      "400:\tlearn: 1563.4641464\ttotal: 10.7s\tremaining: 22.7s\n",
      "500:\tlearn: 1534.2935566\ttotal: 13.6s\tremaining: 20.4s\n",
      "600:\tlearn: 1510.2788676\ttotal: 16.2s\tremaining: 17.5s\n",
      "700:\tlearn: 1490.6071312\ttotal: 18.9s\tremaining: 14.8s\n",
      "800:\tlearn: 1472.1498927\ttotal: 21.7s\tremaining: 12.2s\n",
      "900:\tlearn: 1456.5558067\ttotal: 24.4s\tremaining: 9.46s\n",
      "1000:\tlearn: 1441.9908471\ttotal: 27s\tremaining: 6.72s\n",
      "1100:\tlearn: 1429.0831583\ttotal: 29.7s\tremaining: 4.01s\n",
      "1200:\tlearn: 1417.0654303\ttotal: 32.7s\tremaining: 1.33s\n",
      "1249:\tlearn: 1411.0794377\ttotal: 33.9s\tremaining: 0us\n",
      "0:\tlearn: 4316.3380587\ttotal: 29.6ms\tremaining: 37s\n",
      "100:\tlearn: 1731.0758994\ttotal: 2.73s\tremaining: 31.1s\n",
      "200:\tlearn: 1643.6700834\ttotal: 5.32s\tremaining: 27.8s\n",
      "300:\tlearn: 1591.7217229\ttotal: 7.99s\tremaining: 25.2s\n",
      "400:\tlearn: 1557.0704769\ttotal: 10.6s\tremaining: 22.4s\n",
      "500:\tlearn: 1528.4163307\ttotal: 13.5s\tremaining: 20.1s\n",
      "600:\tlearn: 1504.7825811\ttotal: 16.3s\tremaining: 17.6s\n",
      "700:\tlearn: 1483.5599687\ttotal: 19.2s\tremaining: 15s\n",
      "800:\tlearn: 1465.2417762\ttotal: 21.8s\tremaining: 12.2s\n",
      "900:\tlearn: 1448.6775103\ttotal: 24.4s\tremaining: 9.44s\n",
      "1000:\tlearn: 1434.2046133\ttotal: 26.9s\tremaining: 6.7s\n",
      "1100:\tlearn: 1420.0431651\ttotal: 29.5s\tremaining: 4s\n",
      "1200:\tlearn: 1407.5780407\ttotal: 32.3s\tremaining: 1.32s\n",
      "1249:\tlearn: 1400.7254013\ttotal: 33.7s\tremaining: 0us\n",
      "0:\tlearn: 4320.2498339\ttotal: 30.3ms\tremaining: 37.8s\n",
      "100:\tlearn: 1738.8778572\ttotal: 2.78s\tremaining: 31.6s\n",
      "200:\tlearn: 1649.9819770\ttotal: 5.49s\tremaining: 28.7s\n",
      "300:\tlearn: 1601.1934545\ttotal: 8.13s\tremaining: 25.6s\n",
      "400:\tlearn: 1564.0474303\ttotal: 10.7s\tremaining: 22.7s\n",
      "500:\tlearn: 1535.4676850\ttotal: 13.3s\tremaining: 19.9s\n",
      "600:\tlearn: 1512.1289350\ttotal: 16s\tremaining: 17.3s\n",
      "700:\tlearn: 1490.9994563\ttotal: 18.6s\tremaining: 14.6s\n",
      "800:\tlearn: 1473.3548946\ttotal: 21.2s\tremaining: 11.9s\n",
      "900:\tlearn: 1456.9111857\ttotal: 23.8s\tremaining: 9.22s\n",
      "1000:\tlearn: 1441.4192143\ttotal: 26.5s\tremaining: 6.59s\n",
      "1100:\tlearn: 1427.8815474\ttotal: 29.3s\tremaining: 3.96s\n",
      "1200:\tlearn: 1415.0445501\ttotal: 32s\tremaining: 1.31s\n",
      "1249:\tlearn: 1409.1664139\ttotal: 33.3s\tremaining: 0us\n",
      "0:\tlearn: 4031.0688866\ttotal: 30.5ms\tremaining: 38.1s\n",
      "100:\tlearn: 1652.0584311\ttotal: 2.62s\tremaining: 29.8s\n",
      "200:\tlearn: 1564.3578418\ttotal: 5.21s\tremaining: 27.2s\n",
      "300:\tlearn: 1508.5402647\ttotal: 7.81s\tremaining: 24.6s\n",
      "400:\tlearn: 1471.1791311\ttotal: 10.4s\tremaining: 22s\n",
      "500:\tlearn: 1440.9425945\ttotal: 13s\tremaining: 19.4s\n",
      "600:\tlearn: 1416.1271260\ttotal: 15.6s\tremaining: 16.9s\n",
      "700:\tlearn: 1393.7178959\ttotal: 18.3s\tremaining: 14.3s\n",
      "800:\tlearn: 1374.0032739\ttotal: 21.1s\tremaining: 11.8s\n",
      "900:\tlearn: 1357.5103418\ttotal: 23.7s\tremaining: 9.19s\n",
      "1000:\tlearn: 1341.0912238\ttotal: 26.4s\tremaining: 6.57s\n",
      "1100:\tlearn: 1327.1358211\ttotal: 29s\tremaining: 3.93s\n",
      "1200:\tlearn: 1312.4491747\ttotal: 32.2s\tremaining: 1.31s\n",
      "1249:\tlearn: 1305.1416335\ttotal: 33.5s\tremaining: 0us\n",
      "0:\tlearn: 4006.2842324\ttotal: 27.9ms\tremaining: 34.8s\n",
      "100:\tlearn: 1642.7981130\ttotal: 2.63s\tremaining: 30s\n",
      "200:\tlearn: 1554.4933001\ttotal: 5.17s\tremaining: 27s\n",
      "300:\tlearn: 1501.5506146\ttotal: 7.8s\tremaining: 24.6s\n",
      "400:\tlearn: 1464.4985910\ttotal: 10.5s\tremaining: 22.3s\n",
      "500:\tlearn: 1429.0575272\ttotal: 13.2s\tremaining: 19.7s\n",
      "600:\tlearn: 1404.8553332\ttotal: 15.8s\tremaining: 17s\n",
      "700:\tlearn: 1382.9700582\ttotal: 18.5s\tremaining: 14.5s\n",
      "800:\tlearn: 1363.2073346\ttotal: 21.1s\tremaining: 11.8s\n",
      "900:\tlearn: 1345.7570115\ttotal: 23.7s\tremaining: 9.19s\n",
      "1000:\tlearn: 1328.8017135\ttotal: 26.3s\tremaining: 6.55s\n",
      "1100:\tlearn: 1314.0922699\ttotal: 28.9s\tremaining: 3.91s\n",
      "1200:\tlearn: 1300.6028862\ttotal: 31.5s\tremaining: 1.28s\n",
      "1249:\tlearn: 1295.0159578\ttotal: 32.7s\tremaining: 0us\n",
      "0:\tlearn: 4011.0673110\ttotal: 28.4ms\tremaining: 35.5s\n",
      "100:\tlearn: 1654.0172082\ttotal: 2.63s\tremaining: 29.9s\n",
      "200:\tlearn: 1566.0253638\ttotal: 5.2s\tremaining: 27.1s\n",
      "300:\tlearn: 1515.4519121\ttotal: 7.9s\tremaining: 24.9s\n",
      "400:\tlearn: 1475.4978408\ttotal: 10.6s\tremaining: 22.4s\n",
      "500:\tlearn: 1441.6455312\ttotal: 13.2s\tremaining: 19.8s\n",
      "600:\tlearn: 1414.7364253\ttotal: 16s\tremaining: 17.2s\n",
      "700:\tlearn: 1393.6333617\ttotal: 18.6s\tremaining: 14.5s\n",
      "800:\tlearn: 1373.2496351\ttotal: 21.2s\tremaining: 11.9s\n",
      "900:\tlearn: 1356.2199176\ttotal: 23.8s\tremaining: 9.21s\n",
      "1000:\tlearn: 1338.2463602\ttotal: 26.4s\tremaining: 6.55s\n",
      "1100:\tlearn: 1324.4249507\ttotal: 28.9s\tremaining: 3.92s\n",
      "1200:\tlearn: 1310.5115620\ttotal: 31.5s\tremaining: 1.28s\n",
      "1249:\tlearn: 1303.4418773\ttotal: 32.8s\tremaining: 0us\n",
      "0:\tlearn: 3740.8769199\ttotal: 31.4ms\tremaining: 39.3s\n",
      "100:\tlearn: 1609.7787960\ttotal: 2.69s\tremaining: 30.6s\n",
      "200:\tlearn: 1521.6185346\ttotal: 5.34s\tremaining: 27.8s\n",
      "300:\tlearn: 1465.8584692\ttotal: 8.02s\tremaining: 25.3s\n",
      "400:\tlearn: 1423.0590640\ttotal: 10.7s\tremaining: 22.6s\n",
      "500:\tlearn: 1390.1040881\ttotal: 13.3s\tremaining: 20s\n",
      "600:\tlearn: 1360.2030512\ttotal: 16s\tremaining: 17.3s\n",
      "700:\tlearn: 1334.8093357\ttotal: 18.9s\tremaining: 14.8s\n",
      "800:\tlearn: 1313.3804435\ttotal: 21.5s\tremaining: 12s\n",
      "900:\tlearn: 1294.1904333\ttotal: 24.1s\tremaining: 9.32s\n",
      "1000:\tlearn: 1277.7980955\ttotal: 26.8s\tremaining: 6.66s\n",
      "1100:\tlearn: 1263.1535490\ttotal: 29.5s\tremaining: 3.99s\n",
      "1200:\tlearn: 1247.5771632\ttotal: 32.1s\tremaining: 1.31s\n",
      "1249:\tlearn: 1240.5021257\ttotal: 33.4s\tremaining: 0us\n",
      "0:\tlearn: 3711.1497473\ttotal: 34.4ms\tremaining: 42.9s\n",
      "100:\tlearn: 1601.1281830\ttotal: 2.74s\tremaining: 31.2s\n",
      "200:\tlearn: 1512.7186441\ttotal: 5.34s\tremaining: 27.9s\n",
      "300:\tlearn: 1452.9314866\ttotal: 7.99s\tremaining: 25.2s\n",
      "400:\tlearn: 1411.0788636\ttotal: 10.6s\tremaining: 22.3s\n",
      "500:\tlearn: 1377.7280872\ttotal: 13.2s\tremaining: 19.7s\n",
      "600:\tlearn: 1348.9237217\ttotal: 15.7s\tremaining: 17s\n",
      "700:\tlearn: 1325.0597510\ttotal: 18.3s\tremaining: 14.3s\n",
      "800:\tlearn: 1303.0975158\ttotal: 20.8s\tremaining: 11.7s\n",
      "900:\tlearn: 1283.1161374\ttotal: 23.4s\tremaining: 9.08s\n",
      "1000:\tlearn: 1267.1738128\ttotal: 26.1s\tremaining: 6.49s\n",
      "1100:\tlearn: 1252.0107310\ttotal: 28.7s\tremaining: 3.89s\n",
      "1200:\tlearn: 1237.1452889\ttotal: 31.4s\tremaining: 1.28s\n",
      "1249:\tlearn: 1231.0370839\ttotal: 32.7s\tremaining: 0us\n",
      "0:\tlearn: 3716.8314360\ttotal: 27.7ms\tremaining: 34.5s\n",
      "100:\tlearn: 1603.6538641\ttotal: 2.71s\tremaining: 30.8s\n",
      "200:\tlearn: 1513.1862319\ttotal: 5.33s\tremaining: 27.8s\n",
      "300:\tlearn: 1457.1994010\ttotal: 7.92s\tremaining: 25s\n",
      "400:\tlearn: 1415.5116000\ttotal: 10.5s\tremaining: 22.3s\n",
      "500:\tlearn: 1384.5818552\ttotal: 13.1s\tremaining: 19.6s\n",
      "600:\tlearn: 1355.6552301\ttotal: 15.7s\tremaining: 16.9s\n",
      "700:\tlearn: 1333.1409387\ttotal: 18.3s\tremaining: 14.4s\n",
      "800:\tlearn: 1310.3769597\ttotal: 21s\tremaining: 11.8s\n",
      "900:\tlearn: 1290.2958657\ttotal: 23.7s\tremaining: 9.19s\n",
      "1000:\tlearn: 1272.7418991\ttotal: 26.3s\tremaining: 6.55s\n",
      "1100:\tlearn: 1255.2543901\ttotal: 29s\tremaining: 3.92s\n",
      "1200:\tlearn: 1241.3749438\ttotal: 31.7s\tremaining: 1.29s\n",
      "1249:\tlearn: 1234.5490531\ttotal: 33s\tremaining: 0us\n",
      "0:\tlearn: 3469.5333349\ttotal: 28.6ms\tremaining: 35.7s\n",
      "100:\tlearn: 1580.1373450\ttotal: 2.63s\tremaining: 29.9s\n",
      "200:\tlearn: 1482.5419518\ttotal: 5.5s\tremaining: 28.7s\n",
      "300:\tlearn: 1422.0713644\ttotal: 8.04s\tremaining: 25.4s\n",
      "400:\tlearn: 1379.9375106\ttotal: 10.6s\tremaining: 22.5s\n",
      "500:\tlearn: 1348.0101917\ttotal: 13.3s\tremaining: 19.9s\n",
      "600:\tlearn: 1318.4274320\ttotal: 15.9s\tremaining: 17.2s\n",
      "700:\tlearn: 1292.3657856\ttotal: 18.6s\tremaining: 14.6s\n",
      "800:\tlearn: 1270.0837689\ttotal: 21.3s\tremaining: 11.9s\n",
      "900:\tlearn: 1251.8633849\ttotal: 23.8s\tremaining: 9.23s\n",
      "1000:\tlearn: 1231.5533045\ttotal: 26.5s\tremaining: 6.58s\n",
      "1100:\tlearn: 1215.8875494\ttotal: 29s\tremaining: 3.93s\n",
      "1200:\tlearn: 1201.1196048\ttotal: 31.7s\tremaining: 1.29s\n",
      "1249:\tlearn: 1195.0746897\ttotal: 33s\tremaining: 0us\n",
      "0:\tlearn: 3434.7826715\ttotal: 29.6ms\tremaining: 37s\n",
      "100:\tlearn: 1567.4880646\ttotal: 2.62s\tremaining: 29.8s\n",
      "200:\tlearn: 1475.6818990\ttotal: 5.28s\tremaining: 27.5s\n",
      "300:\tlearn: 1413.1381948\ttotal: 8s\tremaining: 25.2s\n",
      "400:\tlearn: 1368.7315710\ttotal: 10.7s\tremaining: 22.7s\n",
      "500:\tlearn: 1332.6488378\ttotal: 13.4s\tremaining: 20s\n",
      "600:\tlearn: 1302.3513696\ttotal: 16.1s\tremaining: 17.4s\n",
      "700:\tlearn: 1277.0531601\ttotal: 18.7s\tremaining: 14.6s\n",
      "800:\tlearn: 1253.4362698\ttotal: 21.4s\tremaining: 12s\n",
      "900:\tlearn: 1233.5122018\ttotal: 24s\tremaining: 9.28s\n",
      "1000:\tlearn: 1216.5023568\ttotal: 26.6s\tremaining: 6.61s\n",
      "1100:\tlearn: 1201.0006823\ttotal: 29.1s\tremaining: 3.94s\n",
      "1200:\tlearn: 1187.0963379\ttotal: 31.8s\tremaining: 1.29s\n",
      "1249:\tlearn: 1179.9727287\ttotal: 33s\tremaining: 0us\n",
      "0:\tlearn: 3441.3782051\ttotal: 31.3ms\tremaining: 39.1s\n",
      "100:\tlearn: 1574.3948593\ttotal: 2.65s\tremaining: 30.2s\n",
      "200:\tlearn: 1479.5134971\ttotal: 5.72s\tremaining: 29.9s\n",
      "300:\tlearn: 1421.5170891\ttotal: 8.36s\tremaining: 26.4s\n",
      "400:\tlearn: 1377.3345656\ttotal: 11s\tremaining: 23.2s\n",
      "500:\tlearn: 1341.8427245\ttotal: 13.6s\tremaining: 20.3s\n",
      "600:\tlearn: 1312.6448780\ttotal: 16.2s\tremaining: 17.5s\n",
      "700:\tlearn: 1286.3792541\ttotal: 18.8s\tremaining: 14.7s\n",
      "800:\tlearn: 1262.0904049\ttotal: 21.4s\tremaining: 12s\n",
      "900:\tlearn: 1240.8564561\ttotal: 24s\tremaining: 9.29s\n",
      "1000:\tlearn: 1222.5330505\ttotal: 26.6s\tremaining: 6.61s\n",
      "1100:\tlearn: 1206.2189853\ttotal: 29.3s\tremaining: 3.96s\n",
      "1200:\tlearn: 1191.6231325\ttotal: 32s\tremaining: 1.3s\n",
      "1249:\tlearn: 1185.5536466\ttotal: 33.3s\tremaining: 0us\n",
      "0:\tlearn: 4336.3267643\ttotal: 29.8ms\tremaining: 44.7s\n",
      "100:\tlearn: 1747.5105430\ttotal: 2.72s\tremaining: 37.7s\n",
      "200:\tlearn: 1652.0769133\ttotal: 5.31s\tremaining: 34.3s\n",
      "300:\tlearn: 1598.4443801\ttotal: 8.03s\tremaining: 32s\n",
      "400:\tlearn: 1563.4641464\ttotal: 10.6s\tremaining: 29s\n",
      "500:\tlearn: 1534.2935566\ttotal: 13.2s\tremaining: 26.3s\n",
      "600:\tlearn: 1510.2788676\ttotal: 15.7s\tremaining: 23.5s\n",
      "700:\tlearn: 1490.6071312\ttotal: 18.3s\tremaining: 20.9s\n",
      "800:\tlearn: 1472.1498927\ttotal: 20.9s\tremaining: 18.2s\n",
      "900:\tlearn: 1456.5558067\ttotal: 23.6s\tremaining: 15.7s\n",
      "1000:\tlearn: 1441.9908471\ttotal: 26.3s\tremaining: 13.1s\n",
      "1100:\tlearn: 1429.0831583\ttotal: 28.9s\tremaining: 10.5s\n",
      "1200:\tlearn: 1417.0654303\ttotal: 31.6s\tremaining: 7.86s\n",
      "1300:\tlearn: 1405.4553958\ttotal: 34.2s\tremaining: 5.23s\n",
      "1400:\tlearn: 1394.7336895\ttotal: 36.9s\tremaining: 2.61s\n",
      "1499:\tlearn: 1383.2588200\ttotal: 39.4s\tremaining: 0us\n",
      "0:\tlearn: 4316.3380587\ttotal: 29ms\tremaining: 43.5s\n",
      "100:\tlearn: 1731.0758994\ttotal: 2.71s\tremaining: 37.5s\n",
      "200:\tlearn: 1643.6700834\ttotal: 5.29s\tremaining: 34.2s\n",
      "300:\tlearn: 1591.7217229\ttotal: 7.93s\tremaining: 31.6s\n",
      "400:\tlearn: 1557.0704769\ttotal: 10.6s\tremaining: 29s\n",
      "500:\tlearn: 1528.4163307\ttotal: 13.3s\tremaining: 26.5s\n",
      "600:\tlearn: 1504.7825811\ttotal: 16s\tremaining: 23.9s\n",
      "700:\tlearn: 1483.5599687\ttotal: 18.6s\tremaining: 21.2s\n",
      "800:\tlearn: 1465.2417762\ttotal: 21.3s\tremaining: 18.6s\n",
      "900:\tlearn: 1448.6775103\ttotal: 24s\tremaining: 15.9s\n",
      "1000:\tlearn: 1434.2046133\ttotal: 26.6s\tremaining: 13.3s\n",
      "1100:\tlearn: 1420.0431651\ttotal: 29.3s\tremaining: 10.6s\n",
      "1200:\tlearn: 1407.5780407\ttotal: 31.9s\tremaining: 7.94s\n",
      "1300:\tlearn: 1394.9334454\ttotal: 34.5s\tremaining: 5.27s\n",
      "1400:\tlearn: 1384.0222424\ttotal: 37.1s\tremaining: 2.62s\n",
      "1499:\tlearn: 1373.7701021\ttotal: 39.7s\tremaining: 0us\n",
      "0:\tlearn: 4320.2498339\ttotal: 28.2ms\tremaining: 42.2s\n",
      "100:\tlearn: 1738.8778572\ttotal: 2.76s\tremaining: 38.2s\n",
      "200:\tlearn: 1649.9819770\ttotal: 5.35s\tremaining: 34.6s\n",
      "300:\tlearn: 1601.1934545\ttotal: 7.95s\tremaining: 31.7s\n",
      "400:\tlearn: 1564.0474303\ttotal: 10.6s\tremaining: 29.2s\n",
      "500:\tlearn: 1535.4676850\ttotal: 13.3s\tremaining: 26.5s\n",
      "600:\tlearn: 1512.1289350\ttotal: 15.9s\tremaining: 23.8s\n",
      "700:\tlearn: 1490.9994563\ttotal: 18.5s\tremaining: 21.1s\n",
      "800:\tlearn: 1473.3548946\ttotal: 21.1s\tremaining: 18.4s\n",
      "900:\tlearn: 1456.9111857\ttotal: 23.9s\tremaining: 15.9s\n",
      "1000:\tlearn: 1441.4192143\ttotal: 26.8s\tremaining: 13.4s\n",
      "1100:\tlearn: 1427.8815474\ttotal: 29.5s\tremaining: 10.7s\n",
      "1200:\tlearn: 1415.0445501\ttotal: 32.2s\tremaining: 8.02s\n",
      "1300:\tlearn: 1402.9236056\ttotal: 34.9s\tremaining: 5.33s\n",
      "1400:\tlearn: 1392.5653596\ttotal: 37.6s\tremaining: 2.65s\n",
      "1499:\tlearn: 1382.4746944\ttotal: 40.2s\tremaining: 0us\n",
      "0:\tlearn: 4031.0688866\ttotal: 30ms\tremaining: 44.9s\n",
      "100:\tlearn: 1652.0584311\ttotal: 2.63s\tremaining: 36.4s\n",
      "200:\tlearn: 1564.3578418\ttotal: 5.21s\tremaining: 33.7s\n",
      "300:\tlearn: 1508.5402647\ttotal: 7.81s\tremaining: 31.1s\n",
      "400:\tlearn: 1471.1791311\ttotal: 10.4s\tremaining: 28.4s\n",
      "500:\tlearn: 1440.9425945\ttotal: 13.1s\tremaining: 26.1s\n",
      "600:\tlearn: 1416.1271260\ttotal: 15.8s\tremaining: 23.6s\n",
      "700:\tlearn: 1393.7178959\ttotal: 18.4s\tremaining: 21s\n",
      "800:\tlearn: 1374.0032739\ttotal: 21s\tremaining: 18.3s\n",
      "900:\tlearn: 1357.5103418\ttotal: 23.6s\tremaining: 15.7s\n",
      "1000:\tlearn: 1341.0912238\ttotal: 26.2s\tremaining: 13.1s\n",
      "1100:\tlearn: 1327.1358211\ttotal: 28.8s\tremaining: 10.4s\n",
      "1200:\tlearn: 1312.4491747\ttotal: 31.4s\tremaining: 7.82s\n",
      "1300:\tlearn: 1298.1197116\ttotal: 34s\tremaining: 5.2s\n",
      "1400:\tlearn: 1286.3624025\ttotal: 36.6s\tremaining: 2.58s\n",
      "1499:\tlearn: 1275.7265869\ttotal: 39.2s\tremaining: 0us\n",
      "0:\tlearn: 4006.2842324\ttotal: 28.7ms\tremaining: 43s\n",
      "100:\tlearn: 1642.7981130\ttotal: 2.74s\tremaining: 37.9s\n",
      "200:\tlearn: 1554.4933001\ttotal: 5.36s\tremaining: 34.6s\n",
      "300:\tlearn: 1501.5506146\ttotal: 8.14s\tremaining: 32.4s\n",
      "400:\tlearn: 1464.4985910\ttotal: 10.7s\tremaining: 29.3s\n",
      "500:\tlearn: 1429.0575272\ttotal: 13.3s\tremaining: 26.5s\n",
      "600:\tlearn: 1404.8553332\ttotal: 16s\tremaining: 24s\n",
      "700:\tlearn: 1382.9700582\ttotal: 18.8s\tremaining: 21.4s\n",
      "800:\tlearn: 1363.2073346\ttotal: 21.4s\tremaining: 18.7s\n",
      "900:\tlearn: 1345.7570115\ttotal: 24s\tremaining: 15.9s\n",
      "1000:\tlearn: 1328.8017135\ttotal: 26.6s\tremaining: 13.2s\n",
      "1100:\tlearn: 1314.0922699\ttotal: 29.1s\tremaining: 10.6s\n",
      "1200:\tlearn: 1300.6028862\ttotal: 31.9s\tremaining: 7.94s\n",
      "1300:\tlearn: 1288.7378249\ttotal: 34.5s\tremaining: 5.28s\n",
      "1400:\tlearn: 1277.1098125\ttotal: 37.1s\tremaining: 2.62s\n",
      "1499:\tlearn: 1264.9759167\ttotal: 39.7s\tremaining: 0us\n",
      "0:\tlearn: 4011.0673110\ttotal: 29.7ms\tremaining: 44.5s\n",
      "100:\tlearn: 1654.0172082\ttotal: 2.7s\tremaining: 37.4s\n",
      "200:\tlearn: 1566.0253638\ttotal: 5.28s\tremaining: 34.1s\n",
      "300:\tlearn: 1515.4519121\ttotal: 7.89s\tremaining: 31.4s\n",
      "400:\tlearn: 1475.4978408\ttotal: 10.5s\tremaining: 28.9s\n",
      "500:\tlearn: 1441.6455312\ttotal: 13.2s\tremaining: 26.3s\n",
      "600:\tlearn: 1414.7364253\ttotal: 15.7s\tremaining: 23.6s\n",
      "700:\tlearn: 1393.6333617\ttotal: 18.5s\tremaining: 21s\n",
      "800:\tlearn: 1373.2496351\ttotal: 21.2s\tremaining: 18.5s\n",
      "900:\tlearn: 1356.2199176\ttotal: 23.8s\tremaining: 15.8s\n",
      "1000:\tlearn: 1338.2463602\ttotal: 26.5s\tremaining: 13.2s\n",
      "1100:\tlearn: 1324.4249507\ttotal: 29.2s\tremaining: 10.6s\n",
      "1200:\tlearn: 1310.5115620\ttotal: 31.9s\tremaining: 7.95s\n",
      "1300:\tlearn: 1296.8949734\ttotal: 34.5s\tremaining: 5.28s\n",
      "1400:\tlearn: 1284.3049056\ttotal: 37.2s\tremaining: 2.63s\n",
      "1499:\tlearn: 1271.8340424\ttotal: 39.8s\tremaining: 0us\n",
      "0:\tlearn: 3740.8769199\ttotal: 28.6ms\tremaining: 42.9s\n",
      "100:\tlearn: 1609.7787960\ttotal: 2.63s\tremaining: 36.5s\n",
      "200:\tlearn: 1521.6185346\ttotal: 5.31s\tremaining: 34.3s\n",
      "300:\tlearn: 1465.8584692\ttotal: 7.97s\tremaining: 31.8s\n",
      "400:\tlearn: 1423.0590640\ttotal: 10.6s\tremaining: 29.1s\n",
      "500:\tlearn: 1390.1040881\ttotal: 13.2s\tremaining: 26.4s\n",
      "600:\tlearn: 1360.2030512\ttotal: 15.9s\tremaining: 23.8s\n",
      "700:\tlearn: 1334.8093357\ttotal: 18.6s\tremaining: 21.1s\n",
      "800:\tlearn: 1313.3804435\ttotal: 21.1s\tremaining: 18.4s\n",
      "900:\tlearn: 1294.1904333\ttotal: 23.8s\tremaining: 15.8s\n",
      "1000:\tlearn: 1277.7980955\ttotal: 26.4s\tremaining: 13.1s\n",
      "1100:\tlearn: 1263.1535490\ttotal: 28.9s\tremaining: 10.5s\n",
      "1200:\tlearn: 1247.5771632\ttotal: 31.5s\tremaining: 7.84s\n",
      "1300:\tlearn: 1234.7942822\ttotal: 34.2s\tremaining: 5.22s\n",
      "1400:\tlearn: 1222.1209438\ttotal: 36.8s\tremaining: 2.6s\n",
      "1499:\tlearn: 1209.2508034\ttotal: 39.5s\tremaining: 0us\n",
      "0:\tlearn: 3711.1497473\ttotal: 29.5ms\tremaining: 44.2s\n",
      "100:\tlearn: 1601.1281830\ttotal: 2.68s\tremaining: 37.2s\n",
      "200:\tlearn: 1512.7186441\ttotal: 5.23s\tremaining: 33.8s\n",
      "300:\tlearn: 1452.9314866\ttotal: 8.14s\tremaining: 32.4s\n",
      "400:\tlearn: 1411.0788636\ttotal: 10.7s\tremaining: 29.4s\n",
      "500:\tlearn: 1377.7280872\ttotal: 13.3s\tremaining: 26.5s\n",
      "600:\tlearn: 1348.9237217\ttotal: 15.8s\tremaining: 23.7s\n",
      "700:\tlearn: 1325.0597510\ttotal: 18.5s\tremaining: 21.1s\n",
      "800:\tlearn: 1303.0975158\ttotal: 21.2s\tremaining: 18.5s\n",
      "900:\tlearn: 1283.1161374\ttotal: 24s\tremaining: 15.9s\n",
      "1000:\tlearn: 1267.1738128\ttotal: 26.7s\tremaining: 13.3s\n",
      "1100:\tlearn: 1252.0107310\ttotal: 29.2s\tremaining: 10.6s\n",
      "1200:\tlearn: 1237.1452889\ttotal: 31.9s\tremaining: 7.95s\n",
      "1300:\tlearn: 1224.2220920\ttotal: 34.5s\tremaining: 5.28s\n",
      "1400:\tlearn: 1211.5069056\ttotal: 37.2s\tremaining: 2.63s\n",
      "1499:\tlearn: 1200.1742737\ttotal: 39.7s\tremaining: 0us\n",
      "0:\tlearn: 3716.8314360\ttotal: 28.9ms\tremaining: 43.3s\n",
      "100:\tlearn: 1603.6538641\ttotal: 2.66s\tremaining: 36.8s\n",
      "200:\tlearn: 1513.1862319\ttotal: 5.31s\tremaining: 34.3s\n",
      "300:\tlearn: 1457.1994010\ttotal: 7.97s\tremaining: 31.8s\n",
      "400:\tlearn: 1415.5116000\ttotal: 10.7s\tremaining: 29.4s\n",
      "500:\tlearn: 1384.5818552\ttotal: 13.3s\tremaining: 26.6s\n",
      "600:\tlearn: 1355.6552301\ttotal: 16.1s\tremaining: 24.1s\n",
      "700:\tlearn: 1333.1409387\ttotal: 18.7s\tremaining: 21.3s\n",
      "800:\tlearn: 1310.3769597\ttotal: 21.3s\tremaining: 18.6s\n",
      "900:\tlearn: 1290.2958657\ttotal: 23.9s\tremaining: 15.9s\n",
      "1000:\tlearn: 1272.7418991\ttotal: 26.5s\tremaining: 13.2s\n",
      "1100:\tlearn: 1255.2543901\ttotal: 29.2s\tremaining: 10.6s\n",
      "1200:\tlearn: 1241.3749438\ttotal: 31.8s\tremaining: 7.92s\n",
      "1300:\tlearn: 1228.0596954\ttotal: 34.6s\tremaining: 5.29s\n",
      "1400:\tlearn: 1215.2749137\ttotal: 37.2s\tremaining: 2.63s\n",
      "1499:\tlearn: 1203.7315627\ttotal: 39.9s\tremaining: 0us\n",
      "0:\tlearn: 3469.5333349\ttotal: 28.2ms\tremaining: 42.2s\n",
      "100:\tlearn: 1580.1373450\ttotal: 2.7s\tremaining: 37.4s\n",
      "200:\tlearn: 1482.5419518\ttotal: 5.43s\tremaining: 35.1s\n",
      "300:\tlearn: 1422.0713644\ttotal: 8.02s\tremaining: 32s\n",
      "400:\tlearn: 1379.9375106\ttotal: 10.7s\tremaining: 29.2s\n",
      "500:\tlearn: 1348.0101917\ttotal: 13.3s\tremaining: 26.5s\n",
      "600:\tlearn: 1318.4274320\ttotal: 15.9s\tremaining: 23.7s\n",
      "700:\tlearn: 1292.3657856\ttotal: 18.5s\tremaining: 21.1s\n",
      "800:\tlearn: 1270.0837689\ttotal: 21.1s\tremaining: 18.4s\n",
      "900:\tlearn: 1251.8633849\ttotal: 23.7s\tremaining: 15.7s\n",
      "1000:\tlearn: 1231.5533045\ttotal: 26.5s\tremaining: 13.2s\n",
      "1100:\tlearn: 1215.8875494\ttotal: 29.2s\tremaining: 10.6s\n",
      "1200:\tlearn: 1201.1196048\ttotal: 31.9s\tremaining: 7.94s\n",
      "1300:\tlearn: 1186.4011318\ttotal: 34.6s\tremaining: 5.29s\n",
      "1400:\tlearn: 1173.6741819\ttotal: 37.2s\tremaining: 2.63s\n",
      "1499:\tlearn: 1161.7026760\ttotal: 40s\tremaining: 0us\n",
      "0:\tlearn: 3434.7826715\ttotal: 28ms\tremaining: 42s\n",
      "100:\tlearn: 1567.4880646\ttotal: 2.7s\tremaining: 37.5s\n",
      "200:\tlearn: 1475.6818990\ttotal: 5.37s\tremaining: 34.7s\n",
      "300:\tlearn: 1413.1381948\ttotal: 8.05s\tremaining: 32.1s\n",
      "400:\tlearn: 1368.7315710\ttotal: 10.7s\tremaining: 29.2s\n",
      "500:\tlearn: 1332.6488378\ttotal: 13.3s\tremaining: 26.6s\n",
      "600:\tlearn: 1302.3513696\ttotal: 16s\tremaining: 23.9s\n",
      "700:\tlearn: 1277.0531601\ttotal: 18.8s\tremaining: 21.5s\n",
      "800:\tlearn: 1253.4362698\ttotal: 21.6s\tremaining: 18.8s\n",
      "900:\tlearn: 1233.5122018\ttotal: 24.5s\tremaining: 16.3s\n",
      "1000:\tlearn: 1216.5023568\ttotal: 27.3s\tremaining: 13.6s\n",
      "1100:\tlearn: 1201.0006823\ttotal: 30.1s\tremaining: 10.9s\n",
      "1200:\tlearn: 1187.0963379\ttotal: 33.1s\tremaining: 8.24s\n",
      "1300:\tlearn: 1173.8762571\ttotal: 35.7s\tremaining: 5.47s\n",
      "1400:\tlearn: 1162.0490515\ttotal: 38.4s\tremaining: 2.71s\n",
      "1499:\tlearn: 1150.4029194\ttotal: 41.2s\tremaining: 0us\n",
      "0:\tlearn: 3441.3782051\ttotal: 30.1ms\tremaining: 45.2s\n",
      "100:\tlearn: 1574.3948593\ttotal: 2.79s\tremaining: 38.7s\n",
      "200:\tlearn: 1479.5134971\ttotal: 5.46s\tremaining: 35.3s\n",
      "300:\tlearn: 1421.5170891\ttotal: 8.17s\tremaining: 32.5s\n",
      "400:\tlearn: 1377.3345656\ttotal: 11.3s\tremaining: 30.9s\n",
      "500:\tlearn: 1341.8427245\ttotal: 14s\tremaining: 27.8s\n",
      "600:\tlearn: 1312.6448780\ttotal: 16.7s\tremaining: 25s\n",
      "700:\tlearn: 1286.3792541\ttotal: 19.7s\tremaining: 22.4s\n",
      "800:\tlearn: 1262.0904049\ttotal: 22.3s\tremaining: 19.5s\n",
      "900:\tlearn: 1240.8564561\ttotal: 25.1s\tremaining: 16.7s\n",
      "1000:\tlearn: 1222.5330505\ttotal: 28s\tremaining: 13.9s\n",
      "1100:\tlearn: 1206.2189853\ttotal: 30.7s\tremaining: 11.1s\n",
      "1200:\tlearn: 1191.6231325\ttotal: 33.3s\tremaining: 8.3s\n",
      "1300:\tlearn: 1177.4587032\ttotal: 36.1s\tremaining: 5.52s\n",
      "1400:\tlearn: 1164.2384885\ttotal: 39.1s\tremaining: 2.76s\n",
      "1499:\tlearn: 1153.3155823\ttotal: 41.7s\tremaining: 0us\n",
      "0:\tlearn: 4336.3267643\ttotal: 29.5ms\tremaining: 51.6s\n",
      "100:\tlearn: 1747.5105430\ttotal: 2.79s\tremaining: 45.5s\n",
      "200:\tlearn: 1652.0769133\ttotal: 5.38s\tremaining: 41.5s\n",
      "300:\tlearn: 1598.4443801\ttotal: 7.99s\tremaining: 38.4s\n",
      "400:\tlearn: 1563.4641464\ttotal: 10.6s\tremaining: 35.5s\n",
      "500:\tlearn: 1534.2935566\ttotal: 13.4s\tremaining: 33.3s\n",
      "600:\tlearn: 1510.2788676\ttotal: 16s\tremaining: 30.6s\n",
      "700:\tlearn: 1490.6071312\ttotal: 18.6s\tremaining: 27.8s\n",
      "800:\tlearn: 1472.1498927\ttotal: 21.2s\tremaining: 25.1s\n",
      "900:\tlearn: 1456.5558067\ttotal: 23.8s\tremaining: 22.4s\n",
      "1000:\tlearn: 1441.9908471\ttotal: 26.6s\tremaining: 19.9s\n",
      "1100:\tlearn: 1429.0831583\ttotal: 29.2s\tremaining: 17.2s\n",
      "1200:\tlearn: 1417.0654303\ttotal: 31.8s\tremaining: 14.6s\n",
      "1300:\tlearn: 1405.4553958\ttotal: 34.4s\tremaining: 11.9s\n",
      "1400:\tlearn: 1394.7336895\ttotal: 37.1s\tremaining: 9.24s\n",
      "1500:\tlearn: 1383.2074485\ttotal: 39.7s\tremaining: 6.59s\n",
      "1600:\tlearn: 1373.4479151\ttotal: 42.6s\tremaining: 3.96s\n",
      "1700:\tlearn: 1363.7780342\ttotal: 45.3s\tremaining: 1.3s\n",
      "1749:\tlearn: 1359.4215753\ttotal: 46.6s\tremaining: 0us\n",
      "0:\tlearn: 4316.3380587\ttotal: 30.9ms\tremaining: 54.1s\n",
      "100:\tlearn: 1731.0758994\ttotal: 2.8s\tremaining: 45.7s\n",
      "200:\tlearn: 1643.6700834\ttotal: 5.48s\tremaining: 42.2s\n",
      "300:\tlearn: 1591.7217229\ttotal: 8.25s\tremaining: 39.7s\n",
      "400:\tlearn: 1557.0704769\ttotal: 10.9s\tremaining: 36.7s\n",
      "500:\tlearn: 1528.4163307\ttotal: 13.6s\tremaining: 34s\n",
      "600:\tlearn: 1504.7825811\ttotal: 16.2s\tremaining: 31s\n",
      "700:\tlearn: 1483.5599687\ttotal: 18.8s\tremaining: 28.1s\n",
      "800:\tlearn: 1465.2417762\ttotal: 21.5s\tremaining: 25.5s\n",
      "900:\tlearn: 1448.6775103\ttotal: 24.3s\tremaining: 22.9s\n",
      "1000:\tlearn: 1434.2046133\ttotal: 26.9s\tremaining: 20.1s\n",
      "1100:\tlearn: 1420.0431651\ttotal: 29.5s\tremaining: 17.4s\n",
      "1200:\tlearn: 1407.5780407\ttotal: 32.2s\tremaining: 14.7s\n",
      "1300:\tlearn: 1394.9334454\ttotal: 35.2s\tremaining: 12.1s\n",
      "1400:\tlearn: 1384.0222424\ttotal: 37.8s\tremaining: 9.43s\n",
      "1500:\tlearn: 1373.6131121\ttotal: 40.4s\tremaining: 6.71s\n",
      "1600:\tlearn: 1363.3303846\ttotal: 43s\tremaining: 4s\n",
      "1700:\tlearn: 1353.7202197\ttotal: 45.6s\tremaining: 1.31s\n",
      "1749:\tlearn: 1349.4977572\ttotal: 46.9s\tremaining: 0us\n",
      "0:\tlearn: 4320.2498339\ttotal: 43.4ms\tremaining: 1m 15s\n",
      "100:\tlearn: 1738.8778572\ttotal: 2.81s\tremaining: 45.8s\n",
      "200:\tlearn: 1649.9819770\ttotal: 5.42s\tremaining: 41.8s\n",
      "300:\tlearn: 1601.1934545\ttotal: 7.97s\tremaining: 38.4s\n",
      "400:\tlearn: 1564.0474303\ttotal: 10.6s\tremaining: 35.7s\n",
      "500:\tlearn: 1535.4676850\ttotal: 13.2s\tremaining: 32.9s\n",
      "600:\tlearn: 1512.1289350\ttotal: 15.8s\tremaining: 30.2s\n",
      "700:\tlearn: 1490.9994563\ttotal: 18.4s\tremaining: 27.5s\n",
      "800:\tlearn: 1473.3548946\ttotal: 21s\tremaining: 24.8s\n",
      "900:\tlearn: 1456.9111857\ttotal: 23.6s\tremaining: 22.2s\n",
      "1000:\tlearn: 1441.4192143\ttotal: 26.1s\tremaining: 19.5s\n",
      "1100:\tlearn: 1427.8815474\ttotal: 28.7s\tremaining: 16.9s\n",
      "1200:\tlearn: 1415.0445501\ttotal: 31.4s\tremaining: 14.3s\n",
      "1300:\tlearn: 1402.9236056\ttotal: 34.1s\tremaining: 11.8s\n",
      "1400:\tlearn: 1392.5653596\ttotal: 36.7s\tremaining: 9.14s\n",
      "1500:\tlearn: 1382.3169860\ttotal: 39.3s\tremaining: 6.52s\n",
      "1600:\tlearn: 1372.6114083\ttotal: 42s\tremaining: 3.91s\n",
      "1700:\tlearn: 1362.7682736\ttotal: 44.7s\tremaining: 1.29s\n",
      "1749:\tlearn: 1358.1425790\ttotal: 46s\tremaining: 0us\n",
      "0:\tlearn: 4031.0688866\ttotal: 28.1ms\tremaining: 49.2s\n",
      "100:\tlearn: 1652.0584311\ttotal: 2.73s\tremaining: 44.6s\n",
      "200:\tlearn: 1564.3578418\ttotal: 5.3s\tremaining: 40.8s\n",
      "300:\tlearn: 1508.5402647\ttotal: 7.92s\tremaining: 38.1s\n",
      "400:\tlearn: 1471.1791311\ttotal: 10.5s\tremaining: 35.4s\n",
      "500:\tlearn: 1440.9425945\ttotal: 13.1s\tremaining: 32.8s\n",
      "600:\tlearn: 1416.1271260\ttotal: 15.7s\tremaining: 30.1s\n",
      "700:\tlearn: 1393.7178959\ttotal: 18.3s\tremaining: 27.4s\n",
      "800:\tlearn: 1374.0032739\ttotal: 21s\tremaining: 24.9s\n",
      "900:\tlearn: 1357.5103418\ttotal: 23.6s\tremaining: 22.2s\n",
      "1000:\tlearn: 1341.0912238\ttotal: 26.2s\tremaining: 19.6s\n",
      "1100:\tlearn: 1327.1358211\ttotal: 28.7s\tremaining: 16.9s\n",
      "1200:\tlearn: 1312.4491747\ttotal: 31.3s\tremaining: 14.3s\n",
      "1300:\tlearn: 1298.1197116\ttotal: 33.9s\tremaining: 11.7s\n",
      "1400:\tlearn: 1286.3624025\ttotal: 36.5s\tremaining: 9.1s\n",
      "1500:\tlearn: 1275.6549082\ttotal: 39.1s\tremaining: 6.48s\n",
      "1600:\tlearn: 1265.8823622\ttotal: 41.8s\tremaining: 3.89s\n",
      "1700:\tlearn: 1255.4745580\ttotal: 44.6s\tremaining: 1.28s\n",
      "1749:\tlearn: 1251.0913444\ttotal: 45.9s\tremaining: 0us\n",
      "0:\tlearn: 4006.2842324\ttotal: 28.6ms\tremaining: 50s\n",
      "100:\tlearn: 1642.7981130\ttotal: 2.7s\tremaining: 44.1s\n",
      "200:\tlearn: 1554.4933001\ttotal: 5.3s\tremaining: 40.9s\n",
      "300:\tlearn: 1501.5506146\ttotal: 7.89s\tremaining: 38s\n",
      "400:\tlearn: 1464.4985910\ttotal: 10.4s\tremaining: 35.1s\n",
      "500:\tlearn: 1429.0575272\ttotal: 13s\tremaining: 32.5s\n",
      "600:\tlearn: 1404.8553332\ttotal: 15.6s\tremaining: 29.8s\n",
      "700:\tlearn: 1382.9700582\ttotal: 18.2s\tremaining: 27.2s\n",
      "800:\tlearn: 1363.2073346\ttotal: 20.9s\tremaining: 24.7s\n",
      "900:\tlearn: 1345.7570115\ttotal: 23.5s\tremaining: 22.1s\n",
      "1000:\tlearn: 1328.8017135\ttotal: 26.2s\tremaining: 19.6s\n",
      "1100:\tlearn: 1314.0922699\ttotal: 28.7s\tremaining: 16.9s\n",
      "1200:\tlearn: 1300.6028862\ttotal: 31.4s\tremaining: 14.3s\n",
      "1300:\tlearn: 1288.7378249\ttotal: 33.9s\tremaining: 11.7s\n",
      "1400:\tlearn: 1277.1098125\ttotal: 36.6s\tremaining: 9.11s\n",
      "1500:\tlearn: 1264.8480591\ttotal: 39.2s\tremaining: 6.5s\n",
      "1600:\tlearn: 1254.8399723\ttotal: 41.8s\tremaining: 3.89s\n",
      "1700:\tlearn: 1245.4649565\ttotal: 44.9s\tremaining: 1.29s\n",
      "1749:\tlearn: 1241.0895639\ttotal: 46.2s\tremaining: 0us\n",
      "0:\tlearn: 4011.0673110\ttotal: 28.6ms\tremaining: 50.1s\n",
      "100:\tlearn: 1654.0172082\ttotal: 2.94s\tremaining: 48.1s\n",
      "200:\tlearn: 1566.0253638\ttotal: 5.71s\tremaining: 44s\n",
      "300:\tlearn: 1515.4519121\ttotal: 8.53s\tremaining: 41s\n",
      "400:\tlearn: 1475.4978408\ttotal: 11.7s\tremaining: 39.3s\n",
      "500:\tlearn: 1441.6455312\ttotal: 14.3s\tremaining: 35.7s\n",
      "600:\tlearn: 1414.7364253\ttotal: 17.3s\tremaining: 33s\n",
      "700:\tlearn: 1393.6333617\ttotal: 20.1s\tremaining: 30s\n",
      "800:\tlearn: 1373.2496351\ttotal: 23.8s\tremaining: 28.2s\n",
      "900:\tlearn: 1356.2199176\ttotal: 26.9s\tremaining: 25.3s\n",
      "1000:\tlearn: 1338.2463602\ttotal: 30.1s\tremaining: 22.5s\n",
      "1100:\tlearn: 1324.4249507\ttotal: 34.2s\tremaining: 20.1s\n",
      "1200:\tlearn: 1310.5115620\ttotal: 37.4s\tremaining: 17.1s\n",
      "1300:\tlearn: 1296.8949734\ttotal: 40.6s\tremaining: 14s\n",
      "1400:\tlearn: 1284.3049056\ttotal: 44.4s\tremaining: 11.1s\n",
      "1500:\tlearn: 1271.7558754\ttotal: 47.4s\tremaining: 7.86s\n",
      "1600:\tlearn: 1260.2414395\ttotal: 50.1s\tremaining: 4.66s\n",
      "1700:\tlearn: 1249.4785066\ttotal: 52.8s\tremaining: 1.52s\n",
      "1749:\tlearn: 1244.6743433\ttotal: 54.3s\tremaining: 0us\n",
      "0:\tlearn: 3740.8769199\ttotal: 32.4ms\tremaining: 56.7s\n",
      "100:\tlearn: 1609.7787960\ttotal: 3.71s\tremaining: 1m\n",
      "200:\tlearn: 1521.6185346\ttotal: 6.91s\tremaining: 53.2s\n",
      "300:\tlearn: 1465.8584692\ttotal: 9.57s\tremaining: 46.1s\n",
      "400:\tlearn: 1423.0590640\ttotal: 13s\tremaining: 43.9s\n",
      "500:\tlearn: 1390.1040881\ttotal: 15.8s\tremaining: 39.4s\n",
      "600:\tlearn: 1360.2030512\ttotal: 18.5s\tremaining: 35.3s\n",
      "700:\tlearn: 1334.8093357\ttotal: 22.2s\tremaining: 33.2s\n",
      "800:\tlearn: 1313.3804435\ttotal: 26.1s\tremaining: 31s\n",
      "900:\tlearn: 1294.1904333\ttotal: 30.1s\tremaining: 28.3s\n",
      "1000:\tlearn: 1277.7980955\ttotal: 34.1s\tremaining: 25.5s\n",
      "1100:\tlearn: 1263.1535490\ttotal: 37s\tremaining: 21.8s\n",
      "1200:\tlearn: 1247.5771632\ttotal: 39.8s\tremaining: 18.2s\n",
      "1300:\tlearn: 1234.7942822\ttotal: 42.5s\tremaining: 14.7s\n",
      "1400:\tlearn: 1222.1209438\ttotal: 45.2s\tremaining: 11.3s\n",
      "1500:\tlearn: 1209.1172830\ttotal: 48.1s\tremaining: 7.98s\n",
      "1600:\tlearn: 1198.2704066\ttotal: 51s\tremaining: 4.74s\n",
      "1700:\tlearn: 1189.0991099\ttotal: 54.1s\tremaining: 1.56s\n",
      "1749:\tlearn: 1183.5826487\ttotal: 55.5s\tremaining: 0us\n",
      "0:\tlearn: 3711.1497473\ttotal: 27.8ms\tremaining: 48.5s\n",
      "100:\tlearn: 1601.1281830\ttotal: 2.83s\tremaining: 46.2s\n",
      "200:\tlearn: 1512.7186441\ttotal: 5.68s\tremaining: 43.8s\n",
      "300:\tlearn: 1452.9314866\ttotal: 8.52s\tremaining: 41s\n",
      "400:\tlearn: 1411.0788636\ttotal: 11.6s\tremaining: 39s\n",
      "500:\tlearn: 1377.7280872\ttotal: 14.4s\tremaining: 35.8s\n",
      "600:\tlearn: 1348.9237217\ttotal: 17.1s\tremaining: 32.6s\n",
      "700:\tlearn: 1325.0597510\ttotal: 19.9s\tremaining: 29.7s\n",
      "800:\tlearn: 1303.0975158\ttotal: 22.6s\tremaining: 26.8s\n",
      "900:\tlearn: 1283.1161374\ttotal: 25.3s\tremaining: 23.9s\n",
      "1000:\tlearn: 1267.1738128\ttotal: 28.1s\tremaining: 21s\n",
      "1100:\tlearn: 1252.0107310\ttotal: 30.8s\tremaining: 18.2s\n",
      "1200:\tlearn: 1237.1452889\ttotal: 34.7s\tremaining: 15.9s\n",
      "1300:\tlearn: 1224.2220920\ttotal: 37.8s\tremaining: 13s\n",
      "1400:\tlearn: 1211.5069056\ttotal: 40.7s\tremaining: 10.1s\n",
      "1500:\tlearn: 1200.0537154\ttotal: 44.1s\tremaining: 7.31s\n",
      "1600:\tlearn: 1188.9409864\ttotal: 47.2s\tremaining: 4.4s\n",
      "1700:\tlearn: 1178.3518281\ttotal: 50s\tremaining: 1.44s\n",
      "1749:\tlearn: 1173.8867359\ttotal: 51.3s\tremaining: 0us\n",
      "0:\tlearn: 3716.8314360\ttotal: 30.5ms\tremaining: 53.4s\n",
      "100:\tlearn: 1603.6538641\ttotal: 3.26s\tremaining: 53.2s\n",
      "200:\tlearn: 1513.1862319\ttotal: 5.88s\tremaining: 45.3s\n",
      "300:\tlearn: 1457.1994010\ttotal: 9.41s\tremaining: 45.3s\n",
      "400:\tlearn: 1415.5116000\ttotal: 12.2s\tremaining: 41s\n",
      "500:\tlearn: 1384.5818552\ttotal: 14.8s\tremaining: 37s\n",
      "600:\tlearn: 1355.6552301\ttotal: 18.3s\tremaining: 35s\n",
      "700:\tlearn: 1333.1409387\ttotal: 21.2s\tremaining: 31.7s\n",
      "800:\tlearn: 1310.3769597\ttotal: 24s\tremaining: 28.5s\n",
      "900:\tlearn: 1290.2958657\ttotal: 27.5s\tremaining: 25.9s\n",
      "1000:\tlearn: 1272.7418991\ttotal: 30.2s\tremaining: 22.6s\n",
      "1100:\tlearn: 1255.2543901\ttotal: 32.9s\tremaining: 19.4s\n",
      "1200:\tlearn: 1241.3749438\ttotal: 35.5s\tremaining: 16.2s\n",
      "1300:\tlearn: 1228.0596954\ttotal: 38.2s\tremaining: 13.2s\n",
      "1400:\tlearn: 1215.2749137\ttotal: 40.9s\tremaining: 10.2s\n",
      "1500:\tlearn: 1203.6575686\ttotal: 43.8s\tremaining: 7.26s\n",
      "1600:\tlearn: 1191.9442889\ttotal: 46.4s\tremaining: 4.32s\n",
      "1700:\tlearn: 1181.3534332\ttotal: 49.1s\tremaining: 1.41s\n",
      "1749:\tlearn: 1176.2378658\ttotal: 50.4s\tremaining: 0us\n",
      "0:\tlearn: 3469.5333349\ttotal: 28.9ms\tremaining: 50.6s\n",
      "100:\tlearn: 1580.1373450\ttotal: 2.66s\tremaining: 43.5s\n",
      "200:\tlearn: 1482.5419518\ttotal: 5.31s\tremaining: 40.9s\n",
      "300:\tlearn: 1422.0713644\ttotal: 7.96s\tremaining: 38.3s\n",
      "400:\tlearn: 1379.9375106\ttotal: 11.4s\tremaining: 38.2s\n",
      "500:\tlearn: 1348.0101917\ttotal: 14.1s\tremaining: 35s\n",
      "600:\tlearn: 1318.4274320\ttotal: 17.2s\tremaining: 32.9s\n",
      "700:\tlearn: 1292.3657856\ttotal: 19.9s\tremaining: 29.8s\n",
      "800:\tlearn: 1270.0837689\ttotal: 23s\tremaining: 27.3s\n",
      "900:\tlearn: 1251.8633849\ttotal: 25.7s\tremaining: 24.2s\n",
      "1000:\tlearn: 1231.5533045\ttotal: 28.6s\tremaining: 21.4s\n",
      "1100:\tlearn: 1215.8875494\ttotal: 31.5s\tremaining: 18.6s\n",
      "1200:\tlearn: 1201.1196048\ttotal: 34.8s\tremaining: 15.9s\n",
      "1300:\tlearn: 1186.4011318\ttotal: 37.4s\tremaining: 12.9s\n",
      "1400:\tlearn: 1173.6741819\ttotal: 40.1s\tremaining: 9.99s\n",
      "1500:\tlearn: 1161.6559854\ttotal: 43.4s\tremaining: 7.19s\n",
      "1600:\tlearn: 1150.1371112\ttotal: 46.1s\tremaining: 4.29s\n",
      "1700:\tlearn: 1139.2991876\ttotal: 48.8s\tremaining: 1.41s\n",
      "1749:\tlearn: 1133.4427412\ttotal: 50.1s\tremaining: 0us\n",
      "0:\tlearn: 3434.7826715\ttotal: 29.7ms\tremaining: 52s\n",
      "100:\tlearn: 1567.4880646\ttotal: 2.69s\tremaining: 43.9s\n",
      "200:\tlearn: 1475.6818990\ttotal: 5.29s\tremaining: 40.8s\n",
      "300:\tlearn: 1413.1381948\ttotal: 7.95s\tremaining: 38.3s\n",
      "400:\tlearn: 1368.7315710\ttotal: 10.6s\tremaining: 35.5s\n",
      "500:\tlearn: 1332.6488378\ttotal: 13.3s\tremaining: 33.3s\n",
      "600:\tlearn: 1302.3513696\ttotal: 15.9s\tremaining: 30.4s\n",
      "700:\tlearn: 1277.0531601\ttotal: 18.5s\tremaining: 27.6s\n",
      "800:\tlearn: 1253.4362698\ttotal: 21.1s\tremaining: 25.1s\n",
      "900:\tlearn: 1233.5122018\ttotal: 23.9s\tremaining: 22.6s\n",
      "1000:\tlearn: 1216.5023568\ttotal: 26.6s\tremaining: 19.9s\n",
      "1100:\tlearn: 1201.0006823\ttotal: 29.4s\tremaining: 17.3s\n",
      "1200:\tlearn: 1187.0963379\ttotal: 32.1s\tremaining: 14.7s\n",
      "1300:\tlearn: 1173.8762571\ttotal: 34.7s\tremaining: 12s\n",
      "1400:\tlearn: 1162.0490515\ttotal: 37.3s\tremaining: 9.29s\n",
      "1500:\tlearn: 1150.2187151\ttotal: 39.9s\tremaining: 6.62s\n",
      "1600:\tlearn: 1138.9479658\ttotal: 42.6s\tremaining: 3.96s\n",
      "1700:\tlearn: 1128.9747402\ttotal: 45.3s\tremaining: 1.3s\n",
      "1749:\tlearn: 1123.8354215\ttotal: 46.6s\tremaining: 0us\n",
      "0:\tlearn: 3441.3782051\ttotal: 33.3ms\tremaining: 58.3s\n",
      "100:\tlearn: 1574.3948593\ttotal: 2.71s\tremaining: 44.2s\n",
      "200:\tlearn: 1479.5134971\ttotal: 5.34s\tremaining: 41.2s\n",
      "300:\tlearn: 1421.5170891\ttotal: 8.01s\tremaining: 38.6s\n",
      "400:\tlearn: 1377.3345656\ttotal: 10.6s\tremaining: 35.6s\n",
      "500:\tlearn: 1341.8427245\ttotal: 13.1s\tremaining: 32.8s\n",
      "600:\tlearn: 1312.6448780\ttotal: 15.7s\tremaining: 30.1s\n",
      "700:\tlearn: 1286.3792541\ttotal: 18.3s\tremaining: 27.4s\n",
      "800:\tlearn: 1262.0904049\ttotal: 20.9s\tremaining: 24.7s\n",
      "900:\tlearn: 1240.8564561\ttotal: 23.5s\tremaining: 22.1s\n",
      "1000:\tlearn: 1222.5330505\ttotal: 26.1s\tremaining: 19.5s\n",
      "1100:\tlearn: 1206.2189853\ttotal: 28.6s\tremaining: 16.9s\n",
      "1200:\tlearn: 1191.6231325\ttotal: 31.3s\tremaining: 14.3s\n",
      "1300:\tlearn: 1177.4587032\ttotal: 34.1s\tremaining: 11.8s\n",
      "1400:\tlearn: 1164.2384885\ttotal: 36.8s\tremaining: 9.17s\n",
      "1500:\tlearn: 1153.2722483\ttotal: 39.4s\tremaining: 6.53s\n",
      "1600:\tlearn: 1142.1032400\ttotal: 42.1s\tremaining: 3.91s\n",
      "1700:\tlearn: 1132.2885387\ttotal: 44.7s\tremaining: 1.29s\n",
      "1749:\tlearn: 1127.8004015\ttotal: 46s\tremaining: 0us\n",
      "0:\tlearn: 4328.6498941\ttotal: 56.1ms\tremaining: 56.1s\n",
      "100:\tlearn: 1690.3826472\ttotal: 5.53s\tremaining: 49.2s\n",
      "200:\tlearn: 1596.3844875\ttotal: 11s\tremaining: 43.7s\n",
      "300:\tlearn: 1543.4397032\ttotal: 16.5s\tremaining: 38.4s\n",
      "400:\tlearn: 1500.9569076\ttotal: 22s\tremaining: 32.9s\n",
      "500:\tlearn: 1467.9263610\ttotal: 27.5s\tremaining: 27.3s\n",
      "600:\tlearn: 1439.8943743\ttotal: 32.9s\tremaining: 21.8s\n",
      "700:\tlearn: 1416.9627871\ttotal: 38.3s\tremaining: 16.3s\n",
      "800:\tlearn: 1395.9612038\ttotal: 44.2s\tremaining: 11s\n",
      "900:\tlearn: 1376.7796592\ttotal: 50s\tremaining: 5.49s\n",
      "999:\tlearn: 1360.1346162\ttotal: 55.7s\tremaining: 0us\n",
      "0:\tlearn: 4308.0314528\ttotal: 51ms\tremaining: 50.9s\n",
      "100:\tlearn: 1679.8276535\ttotal: 5.68s\tremaining: 50.6s\n",
      "200:\tlearn: 1587.3537957\ttotal: 11.1s\tremaining: 44s\n",
      "300:\tlearn: 1532.3900388\ttotal: 16.6s\tremaining: 38.6s\n",
      "400:\tlearn: 1493.1314046\ttotal: 22.2s\tremaining: 33.2s\n",
      "500:\tlearn: 1460.5707695\ttotal: 27.9s\tremaining: 27.8s\n",
      "600:\tlearn: 1432.9078367\ttotal: 33.8s\tremaining: 22.4s\n",
      "700:\tlearn: 1408.2635061\ttotal: 39.2s\tremaining: 16.7s\n",
      "800:\tlearn: 1386.8506612\ttotal: 44.7s\tremaining: 11.1s\n",
      "900:\tlearn: 1366.6120580\ttotal: 51.7s\tremaining: 5.68s\n",
      "999:\tlearn: 1350.2470738\ttotal: 57.3s\tremaining: 0us\n",
      "0:\tlearn: 4312.2807488\ttotal: 52.8ms\tremaining: 52.7s\n",
      "100:\tlearn: 1692.0372380\ttotal: 5.51s\tremaining: 49.1s\n",
      "200:\tlearn: 1597.2963728\ttotal: 11.1s\tremaining: 44s\n",
      "300:\tlearn: 1543.2530630\ttotal: 16.8s\tremaining: 38.9s\n",
      "400:\tlearn: 1501.0771073\ttotal: 22.2s\tremaining: 33.1s\n",
      "500:\tlearn: 1469.1454513\ttotal: 27.6s\tremaining: 27.5s\n",
      "600:\tlearn: 1441.5814441\ttotal: 33.2s\tremaining: 22.1s\n",
      "700:\tlearn: 1416.8132728\ttotal: 38.6s\tremaining: 16.4s\n",
      "800:\tlearn: 1395.6162953\ttotal: 44.1s\tremaining: 11s\n",
      "900:\tlearn: 1375.8620463\ttotal: 49.7s\tremaining: 5.46s\n",
      "999:\tlearn: 1358.5800776\ttotal: 55.1s\tremaining: 0us\n",
      "0:\tlearn: 4015.2048920\ttotal: 54ms\tremaining: 53.9s\n",
      "100:\tlearn: 1600.6827718\ttotal: 5.45s\tremaining: 48.5s\n",
      "200:\tlearn: 1504.4473499\ttotal: 10.9s\tremaining: 43.3s\n",
      "300:\tlearn: 1442.0541008\ttotal: 16.4s\tremaining: 38s\n",
      "400:\tlearn: 1397.0228448\ttotal: 22s\tremaining: 32.9s\n",
      "500:\tlearn: 1359.0256583\ttotal: 27.5s\tremaining: 27.4s\n",
      "600:\tlearn: 1327.8394878\ttotal: 33.1s\tremaining: 22s\n",
      "700:\tlearn: 1302.6361092\ttotal: 38.5s\tremaining: 16.4s\n",
      "800:\tlearn: 1281.2474541\ttotal: 43.9s\tremaining: 10.9s\n",
      "900:\tlearn: 1261.3255052\ttotal: 49.6s\tremaining: 5.44s\n",
      "999:\tlearn: 1244.3716852\ttotal: 55s\tremaining: 0us\n",
      "0:\tlearn: 3989.1911877\ttotal: 52ms\tremaining: 52s\n",
      "100:\tlearn: 1590.7296540\ttotal: 5.49s\tremaining: 48.9s\n",
      "200:\tlearn: 1493.3851143\ttotal: 10.9s\tremaining: 43.3s\n",
      "300:\tlearn: 1429.5995701\ttotal: 16.3s\tremaining: 37.9s\n",
      "400:\tlearn: 1385.3128963\ttotal: 21.9s\tremaining: 32.7s\n",
      "500:\tlearn: 1349.4209029\ttotal: 27.3s\tremaining: 27.2s\n",
      "600:\tlearn: 1320.8469400\ttotal: 32.8s\tremaining: 21.8s\n",
      "700:\tlearn: 1294.6600427\ttotal: 38.2s\tremaining: 16.3s\n",
      "800:\tlearn: 1269.8567149\ttotal: 43.8s\tremaining: 10.9s\n",
      "900:\tlearn: 1248.4509934\ttotal: 50s\tremaining: 5.5s\n",
      "999:\tlearn: 1230.4947363\ttotal: 55.7s\tremaining: 0us\n",
      "0:\tlearn: 3994.6602147\ttotal: 54.9ms\tremaining: 54.9s\n",
      "100:\tlearn: 1599.7628466\ttotal: 5.73s\tremaining: 51s\n",
      "200:\tlearn: 1503.0685383\ttotal: 12.2s\tremaining: 48.6s\n",
      "300:\tlearn: 1440.0977615\ttotal: 18.3s\tremaining: 42.5s\n",
      "400:\tlearn: 1393.9834291\ttotal: 24.4s\tremaining: 36.4s\n",
      "500:\tlearn: 1355.6234124\ttotal: 30s\tremaining: 29.9s\n",
      "600:\tlearn: 1324.8537496\ttotal: 35.7s\tremaining: 23.7s\n",
      "700:\tlearn: 1298.4995278\ttotal: 41.2s\tremaining: 17.6s\n",
      "800:\tlearn: 1274.3986654\ttotal: 50.5s\tremaining: 12.5s\n",
      "900:\tlearn: 1254.5918519\ttotal: 57.5s\tremaining: 6.32s\n",
      "999:\tlearn: 1236.4165891\ttotal: 1m 3s\tremaining: 0us\n",
      "0:\tlearn: 3716.2860084\ttotal: 57.8ms\tremaining: 57.7s\n",
      "100:\tlearn: 1543.2239649\ttotal: 5.72s\tremaining: 50.9s\n",
      "200:\tlearn: 1444.9412101\ttotal: 11.3s\tremaining: 45.1s\n",
      "300:\tlearn: 1380.3285536\ttotal: 16.9s\tremaining: 39.3s\n",
      "400:\tlearn: 1332.8876840\ttotal: 22.5s\tremaining: 33.6s\n",
      "500:\tlearn: 1290.8534125\ttotal: 28s\tremaining: 27.9s\n",
      "600:\tlearn: 1259.4575851\ttotal: 33.6s\tremaining: 22.3s\n",
      "700:\tlearn: 1233.7113487\ttotal: 39.2s\tremaining: 16.7s\n",
      "800:\tlearn: 1209.1902000\ttotal: 44.9s\tremaining: 11.1s\n",
      "900:\tlearn: 1187.4084479\ttotal: 50.4s\tremaining: 5.54s\n",
      "999:\tlearn: 1169.1719658\ttotal: 55.8s\tremaining: 0us\n",
      "0:\tlearn: 3684.7725986\ttotal: 56.7ms\tremaining: 56.6s\n",
      "100:\tlearn: 1542.3417194\ttotal: 5.54s\tremaining: 49.3s\n",
      "200:\tlearn: 1439.3590683\ttotal: 11s\tremaining: 43.5s\n",
      "300:\tlearn: 1372.3125381\ttotal: 16.6s\tremaining: 38.6s\n",
      "400:\tlearn: 1324.2970753\ttotal: 22.3s\tremaining: 33.3s\n",
      "500:\tlearn: 1285.4615127\ttotal: 27.8s\tremaining: 27.6s\n",
      "600:\tlearn: 1254.3924081\ttotal: 33.1s\tremaining: 22s\n",
      "700:\tlearn: 1227.0631387\ttotal: 38.5s\tremaining: 16.4s\n",
      "800:\tlearn: 1202.2206295\ttotal: 44.3s\tremaining: 11s\n",
      "900:\tlearn: 1181.5882645\ttotal: 49.8s\tremaining: 5.47s\n",
      "999:\tlearn: 1162.2301654\ttotal: 55.3s\tremaining: 0us\n",
      "0:\tlearn: 3691.4988560\ttotal: 59.3ms\tremaining: 59.2s\n",
      "100:\tlearn: 1552.0866759\ttotal: 5.57s\tremaining: 49.5s\n",
      "200:\tlearn: 1451.3150324\ttotal: 11s\tremaining: 43.8s\n",
      "300:\tlearn: 1384.8426965\ttotal: 16.5s\tremaining: 38.3s\n",
      "400:\tlearn: 1334.2684382\ttotal: 22.1s\tremaining: 33s\n",
      "500:\tlearn: 1292.6837722\ttotal: 27.5s\tremaining: 27.4s\n",
      "600:\tlearn: 1261.4866250\ttotal: 33s\tremaining: 21.9s\n",
      "700:\tlearn: 1232.2823495\ttotal: 38.5s\tremaining: 16.4s\n",
      "800:\tlearn: 1207.8592846\ttotal: 44s\tremaining: 10.9s\n",
      "900:\tlearn: 1187.0958865\ttotal: 49.7s\tremaining: 5.46s\n",
      "999:\tlearn: 1167.7647254\ttotal: 55.3s\tremaining: 0us\n",
      "0:\tlearn: 3435.6869043\ttotal: 56.6ms\tremaining: 56.6s\n",
      "100:\tlearn: 1510.5725978\ttotal: 5.5s\tremaining: 48.9s\n",
      "200:\tlearn: 1401.9742474\ttotal: 11.3s\tremaining: 44.8s\n",
      "300:\tlearn: 1336.5709352\ttotal: 16.9s\tremaining: 39.3s\n",
      "400:\tlearn: 1280.9776956\ttotal: 22.8s\tremaining: 34.1s\n",
      "500:\tlearn: 1243.7274931\ttotal: 28.4s\tremaining: 28.3s\n",
      "600:\tlearn: 1213.4082609\ttotal: 33.9s\tremaining: 22.5s\n",
      "700:\tlearn: 1185.7999165\ttotal: 39.3s\tremaining: 16.8s\n",
      "800:\tlearn: 1160.6232717\ttotal: 44.8s\tremaining: 11.1s\n",
      "900:\tlearn: 1139.8711200\ttotal: 50.6s\tremaining: 5.56s\n",
      "999:\tlearn: 1122.1370793\ttotal: 56.1s\tremaining: 0us\n",
      "0:\tlearn: 3398.6532331\ttotal: 57.9ms\tremaining: 57.8s\n",
      "100:\tlearn: 1505.6392518\ttotal: 5.63s\tremaining: 50.1s\n",
      "200:\tlearn: 1394.4909163\ttotal: 11.1s\tremaining: 44.1s\n",
      "300:\tlearn: 1322.9875488\ttotal: 16.7s\tremaining: 38.7s\n",
      "400:\tlearn: 1274.7661272\ttotal: 22.3s\tremaining: 33.3s\n",
      "500:\tlearn: 1234.8661929\ttotal: 27.9s\tremaining: 27.8s\n",
      "600:\tlearn: 1200.7073693\ttotal: 33.4s\tremaining: 22.1s\n",
      "700:\tlearn: 1172.4238479\ttotal: 38.9s\tremaining: 16.6s\n",
      "800:\tlearn: 1149.5385365\ttotal: 44.3s\tremaining: 11s\n",
      "900:\tlearn: 1129.2510038\ttotal: 50s\tremaining: 5.5s\n",
      "999:\tlearn: 1110.8850789\ttotal: 55.8s\tremaining: 0us\n",
      "0:\tlearn: 3406.6591350\ttotal: 87.7ms\tremaining: 1m 27s\n",
      "100:\tlearn: 1511.7115407\ttotal: 5.93s\tremaining: 52.8s\n",
      "200:\tlearn: 1400.0670182\ttotal: 11.4s\tremaining: 45.1s\n",
      "300:\tlearn: 1332.2212150\ttotal: 16.8s\tremaining: 39.1s\n",
      "400:\tlearn: 1282.5321520\ttotal: 22.6s\tremaining: 33.8s\n",
      "500:\tlearn: 1245.1709326\ttotal: 28.1s\tremaining: 28s\n",
      "600:\tlearn: 1208.3912899\ttotal: 33.6s\tremaining: 22.3s\n",
      "700:\tlearn: 1182.8446411\ttotal: 39s\tremaining: 16.7s\n",
      "800:\tlearn: 1158.6135953\ttotal: 44.4s\tremaining: 11s\n",
      "900:\tlearn: 1134.5766391\ttotal: 50.1s\tremaining: 5.5s\n",
      "999:\tlearn: 1113.3797584\ttotal: 55.5s\tremaining: 0us\n",
      "0:\tlearn: 4328.6498941\ttotal: 55.8ms\tremaining: 1m 9s\n",
      "100:\tlearn: 1690.3826472\ttotal: 5.61s\tremaining: 1m 3s\n",
      "200:\tlearn: 1596.3844875\ttotal: 11.1s\tremaining: 57.7s\n",
      "300:\tlearn: 1543.4397032\ttotal: 16.4s\tremaining: 51.9s\n",
      "400:\tlearn: 1500.9569076\ttotal: 22.3s\tremaining: 47.1s\n",
      "500:\tlearn: 1467.9263610\ttotal: 27.7s\tremaining: 41.5s\n",
      "600:\tlearn: 1439.8943743\ttotal: 33.2s\tremaining: 35.9s\n",
      "700:\tlearn: 1416.9627871\ttotal: 38.7s\tremaining: 30.3s\n",
      "800:\tlearn: 1395.9612038\ttotal: 44.1s\tremaining: 24.7s\n",
      "900:\tlearn: 1376.7796592\ttotal: 49.8s\tremaining: 19.3s\n",
      "1000:\tlearn: 1360.0290873\ttotal: 55.4s\tremaining: 13.8s\n",
      "1100:\tlearn: 1344.6392799\ttotal: 1m\tremaining: 8.25s\n",
      "1200:\tlearn: 1329.8061461\ttotal: 1m 6s\tremaining: 2.71s\n",
      "1249:\tlearn: 1322.8419489\ttotal: 1m 9s\tremaining: 0us\n",
      "0:\tlearn: 4308.0314528\ttotal: 58.6ms\tremaining: 1m 13s\n",
      "100:\tlearn: 1679.8276535\ttotal: 5.59s\tremaining: 1m 3s\n",
      "200:\tlearn: 1587.3537957\ttotal: 11.3s\tremaining: 58.8s\n",
      "300:\tlearn: 1532.3900388\ttotal: 16.7s\tremaining: 52.7s\n",
      "400:\tlearn: 1493.1314046\ttotal: 22.2s\tremaining: 47s\n",
      "500:\tlearn: 1460.5707695\ttotal: 27.7s\tremaining: 41.4s\n",
      "600:\tlearn: 1432.9078367\ttotal: 33.2s\tremaining: 35.9s\n",
      "700:\tlearn: 1408.2635061\ttotal: 38.8s\tremaining: 30.4s\n",
      "800:\tlearn: 1386.8506612\ttotal: 44.5s\tremaining: 24.9s\n",
      "900:\tlearn: 1366.6120580\ttotal: 50.2s\tremaining: 19.5s\n",
      "1000:\tlearn: 1350.1009623\ttotal: 55.6s\tremaining: 13.8s\n",
      "1100:\tlearn: 1334.2075216\ttotal: 1m 1s\tremaining: 8.27s\n",
      "1200:\tlearn: 1320.4461388\ttotal: 1m 6s\tremaining: 2.72s\n",
      "1249:\tlearn: 1313.6993307\ttotal: 1m 9s\tremaining: 0us\n",
      "0:\tlearn: 4312.2807488\ttotal: 55.2ms\tremaining: 1m 8s\n",
      "100:\tlearn: 1692.0372380\ttotal: 5.56s\tremaining: 1m 3s\n",
      "200:\tlearn: 1597.2963728\ttotal: 11s\tremaining: 57.3s\n",
      "300:\tlearn: 1543.2530630\ttotal: 16.4s\tremaining: 51.7s\n",
      "400:\tlearn: 1501.0771073\ttotal: 21.9s\tremaining: 46.3s\n",
      "500:\tlearn: 1469.1454513\ttotal: 27.6s\tremaining: 41.3s\n",
      "600:\tlearn: 1441.5814441\ttotal: 33.2s\tremaining: 35.9s\n",
      "700:\tlearn: 1416.8132728\ttotal: 39.1s\tremaining: 30.6s\n",
      "800:\tlearn: 1395.6162953\ttotal: 44.6s\tremaining: 25s\n",
      "900:\tlearn: 1375.8620463\ttotal: 50s\tremaining: 19.4s\n",
      "1000:\tlearn: 1358.3689331\ttotal: 55.6s\tremaining: 13.8s\n",
      "1100:\tlearn: 1342.8288026\ttotal: 1m 1s\tremaining: 8.3s\n",
      "1200:\tlearn: 1328.5509471\ttotal: 1m 7s\tremaining: 2.74s\n",
      "1249:\tlearn: 1321.7725073\ttotal: 1m 10s\tremaining: 0us\n",
      "0:\tlearn: 4015.2048920\ttotal: 57.4ms\tremaining: 1m 11s\n",
      "100:\tlearn: 1600.6827718\ttotal: 5.63s\tremaining: 1m 4s\n",
      "200:\tlearn: 1504.4473499\ttotal: 11.2s\tremaining: 58.5s\n",
      "300:\tlearn: 1442.0541008\ttotal: 16.7s\tremaining: 52.5s\n",
      "400:\tlearn: 1397.0228448\ttotal: 22.2s\tremaining: 47s\n",
      "500:\tlearn: 1359.0256583\ttotal: 27.8s\tremaining: 41.6s\n",
      "600:\tlearn: 1327.8394878\ttotal: 33.3s\tremaining: 36s\n",
      "700:\tlearn: 1302.6361092\ttotal: 38.9s\tremaining: 30.5s\n",
      "800:\tlearn: 1281.2474541\ttotal: 44.5s\tremaining: 25s\n",
      "900:\tlearn: 1261.3255052\ttotal: 50.1s\tremaining: 19.4s\n",
      "1000:\tlearn: 1244.1317969\ttotal: 55.5s\tremaining: 13.8s\n",
      "1100:\tlearn: 1227.6127785\ttotal: 1m 1s\tremaining: 8.26s\n",
      "1200:\tlearn: 1213.6526382\ttotal: 1m 6s\tremaining: 2.71s\n",
      "1249:\tlearn: 1206.6223264\ttotal: 1m 9s\tremaining: 0us\n",
      "0:\tlearn: 3989.1911877\ttotal: 60.2ms\tremaining: 1m 15s\n",
      "100:\tlearn: 1590.7296540\ttotal: 5.7s\tremaining: 1m 4s\n",
      "200:\tlearn: 1493.3851143\ttotal: 11.3s\tremaining: 59s\n",
      "300:\tlearn: 1429.5995701\ttotal: 16.7s\tremaining: 52.6s\n",
      "400:\tlearn: 1385.3128963\ttotal: 22.1s\tremaining: 46.7s\n",
      "500:\tlearn: 1349.4209029\ttotal: 27.5s\tremaining: 41.1s\n",
      "600:\tlearn: 1320.8469400\ttotal: 33.4s\tremaining: 36.1s\n",
      "700:\tlearn: 1294.6600427\ttotal: 39s\tremaining: 30.6s\n",
      "800:\tlearn: 1269.8567149\ttotal: 44.8s\tremaining: 25.1s\n",
      "900:\tlearn: 1248.4509934\ttotal: 50.4s\tremaining: 19.5s\n",
      "1000:\tlearn: 1230.2276370\ttotal: 56s\tremaining: 13.9s\n",
      "1100:\tlearn: 1214.8650516\ttotal: 1m 1s\tremaining: 8.34s\n",
      "1200:\tlearn: 1199.3659116\ttotal: 1m 7s\tremaining: 2.74s\n",
      "1249:\tlearn: 1192.1087404\ttotal: 1m 9s\tremaining: 0us\n",
      "0:\tlearn: 3994.6602147\ttotal: 52.2ms\tremaining: 1m 5s\n",
      "100:\tlearn: 1599.7628466\ttotal: 5.48s\tremaining: 1m 2s\n",
      "200:\tlearn: 1503.0685383\ttotal: 11s\tremaining: 57.2s\n",
      "300:\tlearn: 1440.0977615\ttotal: 16.6s\tremaining: 52.3s\n",
      "400:\tlearn: 1393.9834291\ttotal: 22s\tremaining: 46.6s\n",
      "500:\tlearn: 1355.6234124\ttotal: 27.5s\tremaining: 41.1s\n",
      "600:\tlearn: 1324.8537496\ttotal: 32.9s\tremaining: 35.5s\n",
      "700:\tlearn: 1298.4995278\ttotal: 38.4s\tremaining: 30.1s\n",
      "800:\tlearn: 1274.3986654\ttotal: 43.9s\tremaining: 24.6s\n",
      "900:\tlearn: 1254.5918519\ttotal: 49.6s\tremaining: 19.2s\n",
      "1000:\tlearn: 1236.1158533\ttotal: 55.1s\tremaining: 13.7s\n",
      "1100:\tlearn: 1218.4125017\ttotal: 1m\tremaining: 8.2s\n",
      "1200:\tlearn: 1202.7192217\ttotal: 1m 6s\tremaining: 2.7s\n",
      "1249:\tlearn: 1195.7941631\ttotal: 1m 8s\tremaining: 0us\n",
      "0:\tlearn: 3716.2860084\ttotal: 66.3ms\tremaining: 1m 22s\n",
      "100:\tlearn: 1543.2239649\ttotal: 5.67s\tremaining: 1m 4s\n",
      "200:\tlearn: 1444.9412101\ttotal: 11.3s\tremaining: 59.1s\n",
      "300:\tlearn: 1380.3285536\ttotal: 16.8s\tremaining: 53.1s\n",
      "400:\tlearn: 1332.8876840\ttotal: 22.3s\tremaining: 47.2s\n",
      "500:\tlearn: 1290.8534125\ttotal: 27.8s\tremaining: 41.6s\n",
      "600:\tlearn: 1259.4575851\ttotal: 33.5s\tremaining: 36.2s\n",
      "700:\tlearn: 1233.7113487\ttotal: 39s\tremaining: 30.5s\n",
      "800:\tlearn: 1209.1902000\ttotal: 44.5s\tremaining: 24.9s\n",
      "900:\tlearn: 1187.4084479\ttotal: 50s\tremaining: 19.4s\n",
      "1000:\tlearn: 1169.0265466\ttotal: 55.7s\tremaining: 13.8s\n",
      "1100:\tlearn: 1152.2758010\ttotal: 1m 1s\tremaining: 8.29s\n",
      "1200:\tlearn: 1136.4673800\ttotal: 1m 7s\tremaining: 2.74s\n",
      "1249:\tlearn: 1129.4699357\ttotal: 1m 9s\tremaining: 0us\n",
      "0:\tlearn: 3684.7725986\ttotal: 56.7ms\tremaining: 1m 10s\n",
      "100:\tlearn: 1542.3417194\ttotal: 5.97s\tremaining: 1m 7s\n",
      "200:\tlearn: 1439.3590683\ttotal: 11.8s\tremaining: 1m 1s\n",
      "300:\tlearn: 1372.3125381\ttotal: 17.5s\tremaining: 55.2s\n",
      "400:\tlearn: 1324.2970753\ttotal: 23.3s\tremaining: 49.3s\n",
      "500:\tlearn: 1285.4615127\ttotal: 28.8s\tremaining: 43.1s\n",
      "600:\tlearn: 1254.3924081\ttotal: 34.3s\tremaining: 37s\n",
      "700:\tlearn: 1227.0631387\ttotal: 39.7s\tremaining: 31.1s\n",
      "800:\tlearn: 1202.2206295\ttotal: 45.1s\tremaining: 25.3s\n",
      "900:\tlearn: 1181.5882645\ttotal: 50.7s\tremaining: 19.7s\n",
      "1000:\tlearn: 1162.1796786\ttotal: 56.5s\tremaining: 14s\n",
      "1100:\tlearn: 1144.8515150\ttotal: 1m 1s\tremaining: 8.38s\n",
      "1200:\tlearn: 1129.5206438\ttotal: 1m 7s\tremaining: 2.75s\n",
      "1249:\tlearn: 1122.5842017\ttotal: 1m 10s\tremaining: 0us\n",
      "0:\tlearn: 3691.4988560\ttotal: 54.2ms\tremaining: 1m 7s\n",
      "100:\tlearn: 1552.0866759\ttotal: 5.72s\tremaining: 1m 5s\n",
      "200:\tlearn: 1451.3150324\ttotal: 11.3s\tremaining: 59s\n",
      "300:\tlearn: 1384.8426965\ttotal: 16.8s\tremaining: 52.8s\n",
      "400:\tlearn: 1334.2684382\ttotal: 22.3s\tremaining: 47.1s\n",
      "500:\tlearn: 1292.6837722\ttotal: 27.7s\tremaining: 41.4s\n",
      "600:\tlearn: 1261.4866250\ttotal: 33.1s\tremaining: 35.8s\n",
      "700:\tlearn: 1232.2823495\ttotal: 39.1s\tremaining: 30.6s\n",
      "800:\tlearn: 1207.8592846\ttotal: 44.5s\tremaining: 24.9s\n",
      "900:\tlearn: 1187.0958865\ttotal: 49.9s\tremaining: 19.3s\n",
      "1000:\tlearn: 1167.6518146\ttotal: 55.3s\tremaining: 13.8s\n",
      "1100:\tlearn: 1150.0168917\ttotal: 1m\tremaining: 8.23s\n",
      "1200:\tlearn: 1132.8220440\ttotal: 1m 6s\tremaining: 2.71s\n",
      "1249:\tlearn: 1125.6751818\ttotal: 1m 9s\tremaining: 0us\n",
      "0:\tlearn: 3435.6869043\ttotal: 55.2ms\tremaining: 1m 8s\n",
      "100:\tlearn: 1510.5725978\ttotal: 5.67s\tremaining: 1m 4s\n",
      "200:\tlearn: 1401.9742474\ttotal: 11.1s\tremaining: 58.1s\n",
      "300:\tlearn: 1336.5709352\ttotal: 16.8s\tremaining: 53s\n",
      "400:\tlearn: 1280.9776956\ttotal: 22.4s\tremaining: 47.5s\n",
      "500:\tlearn: 1243.7274931\ttotal: 28.1s\tremaining: 41.9s\n",
      "600:\tlearn: 1213.4082609\ttotal: 33.5s\tremaining: 36.2s\n",
      "700:\tlearn: 1185.7999165\ttotal: 39.3s\tremaining: 30.8s\n",
      "800:\tlearn: 1160.6232717\ttotal: 44.7s\tremaining: 25.1s\n",
      "900:\tlearn: 1139.8711200\ttotal: 50.2s\tremaining: 19.4s\n",
      "1000:\tlearn: 1121.8707479\ttotal: 55.8s\tremaining: 13.9s\n",
      "1100:\tlearn: 1104.1234436\ttotal: 1m 1s\tremaining: 8.3s\n",
      "1200:\tlearn: 1088.5399563\ttotal: 1m 6s\tremaining: 2.73s\n",
      "1249:\tlearn: 1079.7256562\ttotal: 1m 9s\tremaining: 0us\n",
      "0:\tlearn: 3398.6532331\ttotal: 53.1ms\tremaining: 1m 6s\n",
      "100:\tlearn: 1505.6392518\ttotal: 5.55s\tremaining: 1m 3s\n",
      "200:\tlearn: 1394.4909163\ttotal: 11.3s\tremaining: 59.2s\n",
      "300:\tlearn: 1322.9875488\ttotal: 16.8s\tremaining: 53.1s\n",
      "400:\tlearn: 1274.7661272\ttotal: 22.3s\tremaining: 47.2s\n",
      "500:\tlearn: 1234.8661929\ttotal: 27.7s\tremaining: 41.4s\n",
      "600:\tlearn: 1200.7073693\ttotal: 33.1s\tremaining: 35.7s\n",
      "700:\tlearn: 1172.4238479\ttotal: 38.6s\tremaining: 30.3s\n",
      "800:\tlearn: 1149.5385365\ttotal: 44.3s\tremaining: 24.8s\n",
      "900:\tlearn: 1129.2510038\ttotal: 49.7s\tremaining: 19.3s\n",
      "1000:\tlearn: 1110.6385491\ttotal: 55.3s\tremaining: 13.8s\n",
      "1100:\tlearn: 1093.4237904\ttotal: 1m\tremaining: 8.22s\n",
      "1200:\tlearn: 1078.0661282\ttotal: 1m 6s\tremaining: 2.7s\n",
      "1249:\tlearn: 1069.9792999\ttotal: 1m 8s\tremaining: 0us\n",
      "0:\tlearn: 3406.6591350\ttotal: 53.9ms\tremaining: 1m 7s\n",
      "100:\tlearn: 1511.7115407\ttotal: 5.66s\tremaining: 1m 4s\n",
      "200:\tlearn: 1400.0670182\ttotal: 11.2s\tremaining: 58.4s\n",
      "300:\tlearn: 1332.2212150\ttotal: 17s\tremaining: 53.5s\n",
      "400:\tlearn: 1282.5321520\ttotal: 22.4s\tremaining: 47.3s\n",
      "500:\tlearn: 1245.1709326\ttotal: 28.1s\tremaining: 42.1s\n",
      "600:\tlearn: 1208.3912899\ttotal: 33.8s\tremaining: 36.5s\n",
      "700:\tlearn: 1182.8446411\ttotal: 39.9s\tremaining: 31.2s\n",
      "800:\tlearn: 1158.6135953\ttotal: 46.1s\tremaining: 25.8s\n",
      "900:\tlearn: 1134.5766391\ttotal: 53.2s\tremaining: 20.6s\n",
      "1000:\tlearn: 1113.3169076\ttotal: 58.8s\tremaining: 14.6s\n",
      "1100:\tlearn: 1096.2793725\ttotal: 1m 4s\tremaining: 8.78s\n",
      "1200:\tlearn: 1079.4501114\ttotal: 1m 10s\tremaining: 2.87s\n",
      "1249:\tlearn: 1071.1001595\ttotal: 1m 13s\tremaining: 0us\n",
      "0:\tlearn: 4328.6498941\ttotal: 56.3ms\tremaining: 1m 24s\n",
      "100:\tlearn: 1690.3826472\ttotal: 5.47s\tremaining: 1m 15s\n",
      "200:\tlearn: 1596.3844875\ttotal: 11.1s\tremaining: 1m 11s\n",
      "300:\tlearn: 1543.4397032\ttotal: 16.6s\tremaining: 1m 6s\n",
      "400:\tlearn: 1500.9569076\ttotal: 22.2s\tremaining: 1m\n",
      "500:\tlearn: 1467.9263610\ttotal: 27.7s\tremaining: 55.3s\n",
      "600:\tlearn: 1439.8943743\ttotal: 33.3s\tremaining: 49.8s\n",
      "700:\tlearn: 1416.9627871\ttotal: 38.7s\tremaining: 44.2s\n",
      "800:\tlearn: 1395.9612038\ttotal: 44.4s\tremaining: 38.7s\n",
      "900:\tlearn: 1376.7796592\ttotal: 49.9s\tremaining: 33.2s\n",
      "1000:\tlearn: 1360.0290873\ttotal: 55.5s\tremaining: 27.7s\n",
      "1100:\tlearn: 1344.6392799\ttotal: 1m 1s\tremaining: 22.1s\n",
      "1200:\tlearn: 1329.8061461\ttotal: 1m 6s\tremaining: 16.5s\n",
      "1300:\tlearn: 1316.8597212\ttotal: 1m 12s\tremaining: 11s\n",
      "1400:\tlearn: 1305.3350074\ttotal: 1m 17s\tremaining: 5.49s\n",
      "1499:\tlearn: 1294.1255285\ttotal: 1m 23s\tremaining: 0us\n",
      "0:\tlearn: 4308.0314528\ttotal: 55.2ms\tremaining: 1m 22s\n",
      "100:\tlearn: 1679.8276535\ttotal: 5.57s\tremaining: 1m 17s\n",
      "200:\tlearn: 1587.3537957\ttotal: 11.1s\tremaining: 1m 11s\n",
      "300:\tlearn: 1532.3900388\ttotal: 16.6s\tremaining: 1m 6s\n",
      "400:\tlearn: 1493.1314046\ttotal: 22.1s\tremaining: 1m\n",
      "500:\tlearn: 1460.5707695\ttotal: 27.4s\tremaining: 54.7s\n",
      "600:\tlearn: 1432.9078367\ttotal: 33.1s\tremaining: 49.5s\n",
      "700:\tlearn: 1408.2635061\ttotal: 38.7s\tremaining: 44.1s\n",
      "800:\tlearn: 1386.8506612\ttotal: 44.3s\tremaining: 38.7s\n",
      "900:\tlearn: 1366.6120580\ttotal: 49.9s\tremaining: 33.2s\n",
      "1000:\tlearn: 1350.1009623\ttotal: 55.3s\tremaining: 27.6s\n",
      "1100:\tlearn: 1334.2075216\ttotal: 1m\tremaining: 22s\n",
      "1200:\tlearn: 1320.4461388\ttotal: 1m 6s\tremaining: 16.5s\n",
      "1300:\tlearn: 1306.9845037\ttotal: 1m 11s\tremaining: 11s\n",
      "1400:\tlearn: 1294.4609779\ttotal: 1m 17s\tremaining: 5.48s\n",
      "1499:\tlearn: 1283.1384624\ttotal: 1m 23s\tremaining: 0us\n",
      "0:\tlearn: 4312.2807488\ttotal: 52.7ms\tremaining: 1m 18s\n",
      "100:\tlearn: 1692.0372380\ttotal: 5.44s\tremaining: 1m 15s\n",
      "200:\tlearn: 1597.2963728\ttotal: 10.9s\tremaining: 1m 10s\n",
      "300:\tlearn: 1543.2530630\ttotal: 16.5s\tremaining: 1m 5s\n",
      "400:\tlearn: 1501.0771073\ttotal: 22.3s\tremaining: 1m\n",
      "500:\tlearn: 1469.1454513\ttotal: 27.9s\tremaining: 55.5s\n",
      "600:\tlearn: 1441.5814441\ttotal: 33.5s\tremaining: 50.1s\n",
      "700:\tlearn: 1416.8132728\ttotal: 38.9s\tremaining: 44.4s\n",
      "800:\tlearn: 1395.6162953\ttotal: 44.5s\tremaining: 38.8s\n",
      "900:\tlearn: 1375.8620463\ttotal: 50.5s\tremaining: 33.6s\n",
      "1000:\tlearn: 1358.3689331\ttotal: 56s\tremaining: 27.9s\n",
      "1100:\tlearn: 1342.8288026\ttotal: 1m 1s\tremaining: 22.3s\n",
      "1200:\tlearn: 1328.5509471\ttotal: 1m 7s\tremaining: 16.7s\n",
      "1300:\tlearn: 1315.4573248\ttotal: 1m 12s\tremaining: 11.1s\n",
      "1400:\tlearn: 1303.6736030\ttotal: 1m 18s\tremaining: 5.52s\n",
      "1499:\tlearn: 1291.6835809\ttotal: 1m 23s\tremaining: 0us\n",
      "0:\tlearn: 4015.2048920\ttotal: 54ms\tremaining: 1m 20s\n",
      "100:\tlearn: 1600.6827718\ttotal: 5.7s\tremaining: 1m 18s\n",
      "200:\tlearn: 1504.4473499\ttotal: 11.8s\tremaining: 1m 16s\n",
      "300:\tlearn: 1442.0541008\ttotal: 17.5s\tremaining: 1m 9s\n",
      "400:\tlearn: 1397.0228448\ttotal: 23.3s\tremaining: 1m 3s\n",
      "500:\tlearn: 1359.0256583\ttotal: 28.8s\tremaining: 57.5s\n",
      "600:\tlearn: 1327.8394878\ttotal: 34.3s\tremaining: 51.4s\n",
      "700:\tlearn: 1302.6361092\ttotal: 39.8s\tremaining: 45.3s\n",
      "800:\tlearn: 1281.2474541\ttotal: 45.1s\tremaining: 39.4s\n",
      "900:\tlearn: 1261.3255052\ttotal: 50.8s\tremaining: 33.8s\n",
      "1000:\tlearn: 1244.1317969\ttotal: 56.4s\tremaining: 28.1s\n",
      "1100:\tlearn: 1227.6127785\ttotal: 1m 1s\tremaining: 22.5s\n",
      "1200:\tlearn: 1213.6526382\ttotal: 1m 7s\tremaining: 16.8s\n",
      "1300:\tlearn: 1199.6183307\ttotal: 1m 13s\tremaining: 11.2s\n",
      "1400:\tlearn: 1186.6878845\ttotal: 1m 18s\tremaining: 5.56s\n",
      "1499:\tlearn: 1175.3752351\ttotal: 1m 24s\tremaining: 0us\n",
      "0:\tlearn: 3989.1911877\ttotal: 57.9ms\tremaining: 1m 26s\n",
      "100:\tlearn: 1590.7296540\ttotal: 5.54s\tremaining: 1m 16s\n",
      "200:\tlearn: 1493.3851143\ttotal: 11s\tremaining: 1m 10s\n",
      "300:\tlearn: 1429.5995701\ttotal: 16.4s\tremaining: 1m 5s\n",
      "400:\tlearn: 1385.3128963\ttotal: 22s\tremaining: 1m\n",
      "500:\tlearn: 1349.4209029\ttotal: 27.7s\tremaining: 55.3s\n",
      "600:\tlearn: 1320.8469400\ttotal: 33.2s\tremaining: 49.7s\n",
      "700:\tlearn: 1294.6600427\ttotal: 38.6s\tremaining: 44s\n",
      "800:\tlearn: 1269.8567149\ttotal: 44.1s\tremaining: 38.5s\n",
      "900:\tlearn: 1248.4509934\ttotal: 49.6s\tremaining: 33s\n",
      "1000:\tlearn: 1230.2276370\ttotal: 55.1s\tremaining: 27.5s\n",
      "1100:\tlearn: 1214.8650516\ttotal: 1m\tremaining: 22s\n",
      "1200:\tlearn: 1199.3659116\ttotal: 1m 6s\tremaining: 16.5s\n",
      "1300:\tlearn: 1185.6315990\ttotal: 1m 11s\tremaining: 11s\n",
      "1400:\tlearn: 1172.2910417\ttotal: 1m 17s\tremaining: 5.46s\n",
      "1499:\tlearn: 1161.3816372\ttotal: 1m 22s\tremaining: 0us\n",
      "0:\tlearn: 3994.6602147\ttotal: 54.5ms\tremaining: 1m 21s\n",
      "100:\tlearn: 1599.7628466\ttotal: 5.65s\tremaining: 1m 18s\n",
      "200:\tlearn: 1503.0685383\ttotal: 11.1s\tremaining: 1m 11s\n",
      "300:\tlearn: 1440.0977615\ttotal: 16.7s\tremaining: 1m 6s\n",
      "400:\tlearn: 1393.9834291\ttotal: 22.3s\tremaining: 1m 1s\n",
      "500:\tlearn: 1355.6234124\ttotal: 27.9s\tremaining: 55.6s\n",
      "600:\tlearn: 1324.8537496\ttotal: 33.4s\tremaining: 49.9s\n",
      "700:\tlearn: 1298.4995278\ttotal: 38.8s\tremaining: 44.3s\n",
      "800:\tlearn: 1274.3986654\ttotal: 44.2s\tremaining: 38.6s\n",
      "900:\tlearn: 1254.5918519\ttotal: 49.7s\tremaining: 33.1s\n",
      "1000:\tlearn: 1236.1158533\ttotal: 55.5s\tremaining: 27.6s\n",
      "1100:\tlearn: 1218.4125017\ttotal: 1m\tremaining: 22.1s\n",
      "1200:\tlearn: 1202.7192217\ttotal: 1m 6s\tremaining: 16.6s\n",
      "1300:\tlearn: 1188.0538929\ttotal: 1m 12s\tremaining: 11s\n",
      "1400:\tlearn: 1174.4498634\ttotal: 1m 17s\tremaining: 5.49s\n",
      "1499:\tlearn: 1162.0600345\ttotal: 1m 23s\tremaining: 0us\n",
      "0:\tlearn: 3716.2860084\ttotal: 92.4ms\tremaining: 2m 18s\n",
      "100:\tlearn: 1543.2239649\ttotal: 8.9s\tremaining: 2m 3s\n",
      "200:\tlearn: 1444.9412101\ttotal: 15.3s\tremaining: 1m 38s\n",
      "300:\tlearn: 1380.3285536\ttotal: 23.7s\tremaining: 1m 34s\n",
      "400:\tlearn: 1332.8876840\ttotal: 29.5s\tremaining: 1m 20s\n",
      "500:\tlearn: 1290.8534125\ttotal: 35s\tremaining: 1m 9s\n",
      "600:\tlearn: 1259.4575851\ttotal: 40.5s\tremaining: 1m\n",
      "700:\tlearn: 1233.7113487\ttotal: 46.1s\tremaining: 52.5s\n",
      "800:\tlearn: 1209.1902000\ttotal: 51.6s\tremaining: 45s\n",
      "900:\tlearn: 1187.4084479\ttotal: 57.1s\tremaining: 38s\n",
      "1000:\tlearn: 1169.0265466\ttotal: 1m 2s\tremaining: 31.3s\n",
      "1100:\tlearn: 1152.2758010\ttotal: 1m 8s\tremaining: 24.8s\n",
      "1200:\tlearn: 1136.4673800\ttotal: 1m 13s\tremaining: 18.4s\n",
      "1300:\tlearn: 1122.3836580\ttotal: 1m 19s\tremaining: 12.1s\n",
      "1400:\tlearn: 1108.5240025\ttotal: 1m 24s\tremaining: 6s\n",
      "1499:\tlearn: 1096.1283774\ttotal: 1m 30s\tremaining: 0us\n",
      "0:\tlearn: 3684.7725986\ttotal: 56.7ms\tremaining: 1m 24s\n",
      "100:\tlearn: 1542.3417194\ttotal: 6.16s\tremaining: 1m 25s\n",
      "200:\tlearn: 1439.3590683\ttotal: 11.8s\tremaining: 1m 16s\n",
      "300:\tlearn: 1372.3125381\ttotal: 17.3s\tremaining: 1m 8s\n",
      "400:\tlearn: 1324.2970753\ttotal: 23s\tremaining: 1m 2s\n",
      "500:\tlearn: 1285.4615127\ttotal: 28.7s\tremaining: 57.2s\n",
      "600:\tlearn: 1254.3924081\ttotal: 34.2s\tremaining: 51.2s\n",
      "700:\tlearn: 1227.0631387\ttotal: 39.8s\tremaining: 45.4s\n",
      "800:\tlearn: 1202.2206295\ttotal: 45.2s\tremaining: 39.4s\n",
      "900:\tlearn: 1181.5882645\ttotal: 50.7s\tremaining: 33.7s\n",
      "1000:\tlearn: 1162.1796786\ttotal: 56.5s\tremaining: 28.2s\n",
      "1100:\tlearn: 1144.8515150\ttotal: 1m 2s\tremaining: 22.5s\n",
      "1200:\tlearn: 1129.5206438\ttotal: 1m 7s\tremaining: 16.9s\n",
      "1300:\tlearn: 1115.9764658\ttotal: 1m 13s\tremaining: 11.2s\n",
      "1400:\tlearn: 1101.9633194\ttotal: 1m 18s\tremaining: 5.57s\n",
      "1499:\tlearn: 1090.2933132\ttotal: 1m 24s\tremaining: 0us\n",
      "0:\tlearn: 3691.4988560\ttotal: 55.1ms\tremaining: 1m 22s\n",
      "100:\tlearn: 1552.0866759\ttotal: 5.54s\tremaining: 1m 16s\n",
      "200:\tlearn: 1451.3150324\ttotal: 11s\tremaining: 1m 11s\n",
      "300:\tlearn: 1384.8426965\ttotal: 16.4s\tremaining: 1m 5s\n",
      "400:\tlearn: 1334.2684382\ttotal: 21.8s\tremaining: 59.9s\n",
      "500:\tlearn: 1292.6837722\ttotal: 27.5s\tremaining: 54.9s\n",
      "600:\tlearn: 1261.4866250\ttotal: 33.2s\tremaining: 49.6s\n",
      "700:\tlearn: 1232.2823495\ttotal: 38.6s\tremaining: 44s\n",
      "800:\tlearn: 1207.8592846\ttotal: 44s\tremaining: 38.4s\n",
      "900:\tlearn: 1187.0958865\ttotal: 49.6s\tremaining: 33s\n",
      "1000:\tlearn: 1167.6518146\ttotal: 55.2s\tremaining: 27.5s\n",
      "1100:\tlearn: 1150.0168917\ttotal: 1m\tremaining: 22s\n",
      "1200:\tlearn: 1132.8220440\ttotal: 1m 6s\tremaining: 16.5s\n",
      "1300:\tlearn: 1117.5708163\ttotal: 1m 11s\tremaining: 11s\n",
      "1400:\tlearn: 1103.8492172\ttotal: 1m 17s\tremaining: 5.46s\n",
      "1499:\tlearn: 1091.9382960\ttotal: 1m 22s\tremaining: 0us\n",
      "0:\tlearn: 3435.6869043\ttotal: 55.6ms\tremaining: 1m 23s\n",
      "100:\tlearn: 1510.5725978\ttotal: 5.57s\tremaining: 1m 17s\n",
      "200:\tlearn: 1401.9742474\ttotal: 11.4s\tremaining: 1m 13s\n",
      "300:\tlearn: 1336.5709352\ttotal: 16.8s\tremaining: 1m 7s\n",
      "400:\tlearn: 1280.9776956\ttotal: 22.3s\tremaining: 1m\n",
      "500:\tlearn: 1243.7274931\ttotal: 27.8s\tremaining: 55.5s\n",
      "600:\tlearn: 1213.4082609\ttotal: 33.3s\tremaining: 49.8s\n",
      "700:\tlearn: 1185.7999165\ttotal: 38.7s\tremaining: 44.2s\n",
      "800:\tlearn: 1160.6232717\ttotal: 44.2s\tremaining: 38.5s\n",
      "900:\tlearn: 1139.8711200\ttotal: 50s\tremaining: 33.2s\n",
      "1000:\tlearn: 1121.8707479\ttotal: 55.7s\tremaining: 27.7s\n",
      "1100:\tlearn: 1104.1234436\ttotal: 1m 1s\tremaining: 22.3s\n",
      "1200:\tlearn: 1088.5399563\ttotal: 1m 7s\tremaining: 16.7s\n",
      "1300:\tlearn: 1072.3992592\ttotal: 1m 12s\tremaining: 11.1s\n",
      "1400:\tlearn: 1058.2748433\ttotal: 1m 18s\tremaining: 5.54s\n",
      "1499:\tlearn: 1046.8977191\ttotal: 1m 23s\tremaining: 0us\n",
      "0:\tlearn: 3398.6532331\ttotal: 51.9ms\tremaining: 1m 17s\n",
      "100:\tlearn: 1505.6392518\ttotal: 5.63s\tremaining: 1m 18s\n",
      "200:\tlearn: 1394.4909163\ttotal: 11.1s\tremaining: 1m 11s\n",
      "300:\tlearn: 1322.9875488\ttotal: 16.6s\tremaining: 1m 6s\n",
      "400:\tlearn: 1274.7661272\ttotal: 22s\tremaining: 1m\n",
      "500:\tlearn: 1234.8661929\ttotal: 27.4s\tremaining: 54.6s\n",
      "600:\tlearn: 1200.7073693\ttotal: 33s\tremaining: 49.4s\n",
      "700:\tlearn: 1172.4238479\ttotal: 38.5s\tremaining: 43.9s\n",
      "800:\tlearn: 1149.5385365\ttotal: 44s\tremaining: 38.4s\n",
      "900:\tlearn: 1129.2510038\ttotal: 49.5s\tremaining: 32.9s\n",
      "1000:\tlearn: 1110.6385491\ttotal: 55s\tremaining: 27.4s\n",
      "1100:\tlearn: 1093.4237904\ttotal: 1m\tremaining: 22s\n",
      "1200:\tlearn: 1078.0661282\ttotal: 1m 7s\tremaining: 16.8s\n",
      "1300:\tlearn: 1063.8197309\ttotal: 1m 13s\tremaining: 11.2s\n",
      "1400:\tlearn: 1051.0871559\ttotal: 1m 18s\tremaining: 5.56s\n",
      "1499:\tlearn: 1038.7542728\ttotal: 1m 24s\tremaining: 0us\n",
      "0:\tlearn: 3406.6591350\ttotal: 55.7ms\tremaining: 1m 23s\n",
      "100:\tlearn: 1511.7115407\ttotal: 5.88s\tremaining: 1m 21s\n",
      "200:\tlearn: 1400.0670182\ttotal: 11.4s\tremaining: 1m 13s\n",
      "300:\tlearn: 1332.2212150\ttotal: 16.9s\tremaining: 1m 7s\n",
      "400:\tlearn: 1282.5321520\ttotal: 22.3s\tremaining: 1m 1s\n",
      "500:\tlearn: 1245.1709326\ttotal: 27.7s\tremaining: 55.3s\n",
      "600:\tlearn: 1208.3912899\ttotal: 33.3s\tremaining: 49.8s\n",
      "700:\tlearn: 1182.8446411\ttotal: 38.8s\tremaining: 44.3s\n",
      "800:\tlearn: 1158.6135953\ttotal: 44.3s\tremaining: 38.6s\n",
      "900:\tlearn: 1134.5766391\ttotal: 49.7s\tremaining: 33s\n",
      "1000:\tlearn: 1113.3169076\ttotal: 55.2s\tremaining: 27.5s\n",
      "1100:\tlearn: 1096.2793725\ttotal: 1m\tremaining: 22s\n",
      "1200:\tlearn: 1079.4501114\ttotal: 1m 6s\tremaining: 16.5s\n",
      "1300:\tlearn: 1063.5232617\ttotal: 1m 11s\tremaining: 11s\n",
      "1400:\tlearn: 1050.9910377\ttotal: 1m 17s\tremaining: 5.48s\n",
      "1499:\tlearn: 1039.1121322\ttotal: 1m 23s\tremaining: 0us\n",
      "0:\tlearn: 4328.6498941\ttotal: 58.3ms\tremaining: 1m 41s\n",
      "100:\tlearn: 1690.3826472\ttotal: 5.61s\tremaining: 1m 31s\n",
      "200:\tlearn: 1596.3844875\ttotal: 11.2s\tremaining: 1m 25s\n",
      "300:\tlearn: 1543.4397032\ttotal: 16.7s\tremaining: 1m 20s\n",
      "400:\tlearn: 1500.9569076\ttotal: 22.2s\tremaining: 1m 14s\n",
      "500:\tlearn: 1467.9263610\ttotal: 27.6s\tremaining: 1m 8s\n",
      "600:\tlearn: 1439.8943743\ttotal: 33s\tremaining: 1m 3s\n",
      "700:\tlearn: 1416.9627871\ttotal: 38.7s\tremaining: 57.9s\n",
      "800:\tlearn: 1395.9612038\ttotal: 44.3s\tremaining: 52.5s\n",
      "900:\tlearn: 1376.7796592\ttotal: 50s\tremaining: 47.1s\n",
      "1000:\tlearn: 1360.0290873\ttotal: 55.4s\tremaining: 41.5s\n",
      "1100:\tlearn: 1344.6392799\ttotal: 1m\tremaining: 35.9s\n",
      "1200:\tlearn: 1329.8061461\ttotal: 1m 6s\tremaining: 30.4s\n",
      "1300:\tlearn: 1316.8597212\ttotal: 1m 12s\tremaining: 25s\n",
      "1400:\tlearn: 1305.3350074\ttotal: 1m 17s\tremaining: 19.4s\n",
      "1500:\tlearn: 1293.9901332\ttotal: 1m 23s\tremaining: 13.9s\n",
      "1600:\tlearn: 1282.5096430\ttotal: 1m 29s\tremaining: 8.31s\n",
      "1700:\tlearn: 1272.3443223\ttotal: 1m 34s\tremaining: 2.73s\n",
      "1749:\tlearn: 1267.4967816\ttotal: 1m 37s\tremaining: 0us\n",
      "0:\tlearn: 4308.0314528\ttotal: 59.1ms\tremaining: 1m 43s\n",
      "100:\tlearn: 1679.8276535\ttotal: 5.56s\tremaining: 1m 30s\n",
      "200:\tlearn: 1587.3537957\ttotal: 11s\tremaining: 1m 24s\n",
      "300:\tlearn: 1532.3900388\ttotal: 16.4s\tremaining: 1m 19s\n",
      "400:\tlearn: 1493.1314046\ttotal: 21.9s\tremaining: 1m 13s\n",
      "500:\tlearn: 1460.5707695\ttotal: 27.6s\tremaining: 1m 8s\n",
      "600:\tlearn: 1432.9078367\ttotal: 33.6s\tremaining: 1m 4s\n",
      "700:\tlearn: 1408.2635061\ttotal: 39.1s\tremaining: 58.6s\n",
      "800:\tlearn: 1386.8506612\ttotal: 44.5s\tremaining: 52.8s\n",
      "900:\tlearn: 1366.6120580\ttotal: 50s\tremaining: 47.1s\n",
      "1000:\tlearn: 1350.1009623\ttotal: 55.7s\tremaining: 41.6s\n",
      "1100:\tlearn: 1334.2075216\ttotal: 1m 1s\tremaining: 36.1s\n",
      "1200:\tlearn: 1320.4461388\ttotal: 1m 6s\tremaining: 30.5s\n",
      "1300:\tlearn: 1306.9845037\ttotal: 1m 12s\tremaining: 24.9s\n",
      "1400:\tlearn: 1294.4609779\ttotal: 1m 17s\tremaining: 19.4s\n",
      "1500:\tlearn: 1283.0281697\ttotal: 1m 23s\tremaining: 13.8s\n",
      "1600:\tlearn: 1271.5719752\ttotal: 1m 28s\tremaining: 8.27s\n",
      "1700:\tlearn: 1260.4256143\ttotal: 1m 35s\tremaining: 2.74s\n",
      "1749:\tlearn: 1255.6538788\ttotal: 1m 37s\tremaining: 0us\n",
      "0:\tlearn: 4312.2807488\ttotal: 55.4ms\tremaining: 1m 36s\n",
      "100:\tlearn: 1692.0372380\ttotal: 5.51s\tremaining: 1m 29s\n",
      "200:\tlearn: 1597.2963728\ttotal: 11s\tremaining: 1m 24s\n",
      "300:\tlearn: 1543.2530630\ttotal: 16.6s\tremaining: 1m 19s\n",
      "400:\tlearn: 1501.0771073\ttotal: 22.2s\tremaining: 1m 14s\n",
      "500:\tlearn: 1469.1454513\ttotal: 28.6s\tremaining: 1m 11s\n",
      "600:\tlearn: 1441.5814441\ttotal: 34.6s\tremaining: 1m 6s\n",
      "700:\tlearn: 1416.8132728\ttotal: 40.7s\tremaining: 1m\n",
      "800:\tlearn: 1395.6162953\ttotal: 46.4s\tremaining: 54.9s\n",
      "900:\tlearn: 1375.8620463\ttotal: 52.5s\tremaining: 49.5s\n",
      "1000:\tlearn: 1358.3689331\ttotal: 58.9s\tremaining: 44.1s\n",
      "1100:\tlearn: 1342.8288026\ttotal: 1m 4s\tremaining: 38s\n",
      "1200:\tlearn: 1328.5509471\ttotal: 1m 10s\tremaining: 32s\n",
      "1300:\tlearn: 1315.4573248\ttotal: 1m 15s\tremaining: 26.2s\n",
      "1400:\tlearn: 1303.6736030\ttotal: 1m 21s\tremaining: 20.3s\n",
      "1500:\tlearn: 1291.5061765\ttotal: 1m 27s\tremaining: 14.5s\n",
      "1600:\tlearn: 1280.4435416\ttotal: 1m 33s\tremaining: 8.68s\n",
      "1700:\tlearn: 1269.3315047\ttotal: 1m 38s\tremaining: 2.85s\n",
      "1749:\tlearn: 1265.1058471\ttotal: 1m 41s\tremaining: 0us\n",
      "0:\tlearn: 4015.2048920\ttotal: 56.5ms\tremaining: 1m 38s\n",
      "100:\tlearn: 1600.6827718\ttotal: 5.61s\tremaining: 1m 31s\n",
      "200:\tlearn: 1504.4473499\ttotal: 11.6s\tremaining: 1m 29s\n",
      "300:\tlearn: 1442.0541008\ttotal: 17.1s\tremaining: 1m 22s\n",
      "400:\tlearn: 1397.0228448\ttotal: 22.8s\tremaining: 1m 16s\n",
      "500:\tlearn: 1359.0256583\ttotal: 28.7s\tremaining: 1m 11s\n",
      "600:\tlearn: 1327.8394878\ttotal: 34.3s\tremaining: 1m 5s\n",
      "700:\tlearn: 1302.6361092\ttotal: 40s\tremaining: 59.9s\n",
      "800:\tlearn: 1281.2474541\ttotal: 45.6s\tremaining: 54.1s\n",
      "900:\tlearn: 1261.3255052\ttotal: 51.6s\tremaining: 48.6s\n",
      "1000:\tlearn: 1244.1317969\ttotal: 57.5s\tremaining: 43s\n",
      "1100:\tlearn: 1227.6127785\ttotal: 1m 4s\tremaining: 38.2s\n",
      "1200:\tlearn: 1213.6526382\ttotal: 1m 11s\tremaining: 32.8s\n",
      "1300:\tlearn: 1199.6183307\ttotal: 1m 18s\tremaining: 27.1s\n",
      "1400:\tlearn: 1186.6878845\ttotal: 1m 24s\tremaining: 21.1s\n",
      "1500:\tlearn: 1175.3027910\ttotal: 1m 30s\tremaining: 15.1s\n",
      "1600:\tlearn: 1162.8918604\ttotal: 1m 36s\tremaining: 8.98s\n",
      "1700:\tlearn: 1151.6975569\ttotal: 1m 42s\tremaining: 2.95s\n",
      "1749:\tlearn: 1146.0312459\ttotal: 1m 45s\tremaining: 0us\n",
      "0:\tlearn: 3989.1911877\ttotal: 54.7ms\tremaining: 1m 35s\n",
      "100:\tlearn: 1590.7296540\ttotal: 5.68s\tremaining: 1m 32s\n",
      "200:\tlearn: 1493.3851143\ttotal: 11.4s\tremaining: 1m 28s\n",
      "300:\tlearn: 1429.5995701\ttotal: 17s\tremaining: 1m 21s\n",
      "400:\tlearn: 1385.3128963\ttotal: 24s\tremaining: 1m 20s\n",
      "500:\tlearn: 1349.4209029\ttotal: 30s\tremaining: 1m 14s\n",
      "600:\tlearn: 1320.8469400\ttotal: 35.8s\tremaining: 1m 8s\n",
      "700:\tlearn: 1294.6600427\ttotal: 41.7s\tremaining: 1m 2s\n",
      "800:\tlearn: 1269.8567149\ttotal: 47.2s\tremaining: 56s\n",
      "900:\tlearn: 1248.4509934\ttotal: 52.9s\tremaining: 49.9s\n",
      "1000:\tlearn: 1230.2276370\ttotal: 58.7s\tremaining: 43.9s\n",
      "1100:\tlearn: 1214.8650516\ttotal: 1m 4s\tremaining: 38s\n",
      "1200:\tlearn: 1199.3659116\ttotal: 1m 9s\tremaining: 32s\n",
      "1300:\tlearn: 1185.6315990\ttotal: 1m 15s\tremaining: 26s\n",
      "1400:\tlearn: 1172.2910417\ttotal: 1m 20s\tremaining: 20.2s\n",
      "1500:\tlearn: 1161.1894909\ttotal: 1m 26s\tremaining: 14.3s\n",
      "1600:\tlearn: 1148.6081842\ttotal: 1m 31s\tremaining: 8.55s\n",
      "1700:\tlearn: 1138.9843507\ttotal: 1m 37s\tremaining: 2.81s\n",
      "1749:\tlearn: 1134.6879820\ttotal: 1m 40s\tremaining: 0us\n",
      "0:\tlearn: 3994.6602147\ttotal: 55ms\tremaining: 1m 36s\n",
      "100:\tlearn: 1599.7628466\ttotal: 5.79s\tremaining: 1m 34s\n",
      "200:\tlearn: 1503.0685383\ttotal: 12.8s\tremaining: 1m 38s\n",
      "300:\tlearn: 1440.0977615\ttotal: 18.4s\tremaining: 1m 28s\n",
      "400:\tlearn: 1393.9834291\ttotal: 24.6s\tremaining: 1m 22s\n",
      "500:\tlearn: 1355.6234124\ttotal: 31.1s\tremaining: 1m 17s\n",
      "600:\tlearn: 1324.8537496\ttotal: 36.7s\tremaining: 1m 10s\n",
      "700:\tlearn: 1298.4995278\ttotal: 42.2s\tremaining: 1m 3s\n",
      "800:\tlearn: 1274.3986654\ttotal: 47.7s\tremaining: 56.5s\n",
      "900:\tlearn: 1254.5918519\ttotal: 53.3s\tremaining: 50.3s\n",
      "1000:\tlearn: 1236.1158533\ttotal: 59s\tremaining: 44.1s\n",
      "1100:\tlearn: 1218.4125017\ttotal: 1m 4s\tremaining: 38s\n",
      "1200:\tlearn: 1202.7192217\ttotal: 1m 10s\tremaining: 32.1s\n",
      "1300:\tlearn: 1188.0538929\ttotal: 1m 15s\tremaining: 26.2s\n",
      "1400:\tlearn: 1174.4498634\ttotal: 1m 21s\tremaining: 20.3s\n",
      "1500:\tlearn: 1161.9149937\ttotal: 1m 28s\tremaining: 14.6s\n",
      "1600:\tlearn: 1149.8751860\ttotal: 1m 33s\tremaining: 8.74s\n",
      "1700:\tlearn: 1138.4622759\ttotal: 1m 39s\tremaining: 2.86s\n",
      "1749:\tlearn: 1133.5182169\ttotal: 1m 42s\tremaining: 0us\n",
      "0:\tlearn: 3716.2860084\ttotal: 59.1ms\tremaining: 1m 43s\n",
      "100:\tlearn: 1543.2239649\ttotal: 5.61s\tremaining: 1m 31s\n",
      "200:\tlearn: 1444.9412101\ttotal: 11.2s\tremaining: 1m 26s\n",
      "300:\tlearn: 1380.3285536\ttotal: 16.8s\tremaining: 1m 20s\n",
      "400:\tlearn: 1332.8876840\ttotal: 22.4s\tremaining: 1m 15s\n",
      "500:\tlearn: 1290.8534125\ttotal: 27.9s\tremaining: 1m 9s\n",
      "600:\tlearn: 1259.4575851\ttotal: 34.3s\tremaining: 1m 5s\n",
      "700:\tlearn: 1233.7113487\ttotal: 40.6s\tremaining: 1m\n",
      "800:\tlearn: 1209.1902000\ttotal: 46.2s\tremaining: 54.7s\n",
      "900:\tlearn: 1187.4084479\ttotal: 51.8s\tremaining: 48.9s\n",
      "1000:\tlearn: 1169.0265466\ttotal: 57.9s\tremaining: 43.3s\n",
      "1100:\tlearn: 1152.2758010\ttotal: 1m 3s\tremaining: 37.4s\n",
      "1200:\tlearn: 1136.4673800\ttotal: 1m 9s\tremaining: 31.6s\n",
      "1300:\tlearn: 1122.3836580\ttotal: 1m 14s\tremaining: 25.7s\n",
      "1400:\tlearn: 1108.5240025\ttotal: 1m 20s\tremaining: 20s\n",
      "1500:\tlearn: 1096.0748123\ttotal: 1m 25s\tremaining: 14.2s\n",
      "1600:\tlearn: 1085.0230467\ttotal: 1m 31s\tremaining: 8.49s\n",
      "1700:\tlearn: 1074.8436948\ttotal: 1m 36s\tremaining: 2.79s\n",
      "1749:\tlearn: 1070.1789222\ttotal: 1m 39s\tremaining: 0us\n",
      "0:\tlearn: 3684.7725986\ttotal: 54.8ms\tremaining: 1m 35s\n",
      "100:\tlearn: 1542.3417194\ttotal: 5.51s\tremaining: 1m 30s\n",
      "200:\tlearn: 1439.3590683\ttotal: 11s\tremaining: 1m 24s\n",
      "300:\tlearn: 1372.3125381\ttotal: 16.4s\tremaining: 1m 18s\n",
      "400:\tlearn: 1324.2970753\ttotal: 21.8s\tremaining: 1m 13s\n",
      "500:\tlearn: 1285.4615127\ttotal: 27.3s\tremaining: 1m 7s\n",
      "600:\tlearn: 1254.3924081\ttotal: 32.7s\tremaining: 1m 2s\n",
      "700:\tlearn: 1227.0631387\ttotal: 38.2s\tremaining: 57.2s\n",
      "800:\tlearn: 1202.2206295\ttotal: 43.7s\tremaining: 51.8s\n",
      "900:\tlearn: 1181.5882645\ttotal: 49.1s\tremaining: 46.3s\n",
      "1000:\tlearn: 1162.1796786\ttotal: 54.7s\tremaining: 40.9s\n",
      "1100:\tlearn: 1144.8515150\ttotal: 1m\tremaining: 35.6s\n",
      "1200:\tlearn: 1129.5206438\ttotal: 1m 5s\tremaining: 30.2s\n",
      "1300:\tlearn: 1115.9764658\ttotal: 1m 11s\tremaining: 24.7s\n",
      "1400:\tlearn: 1101.9633194\ttotal: 1m 16s\tremaining: 19.2s\n",
      "1500:\tlearn: 1090.0989721\ttotal: 1m 22s\tremaining: 13.7s\n",
      "1600:\tlearn: 1078.5195503\ttotal: 1m 27s\tremaining: 8.19s\n",
      "1700:\tlearn: 1068.1268908\ttotal: 1m 33s\tremaining: 2.69s\n",
      "1749:\tlearn: 1062.7361229\ttotal: 1m 36s\tremaining: 0us\n",
      "0:\tlearn: 3691.4988560\ttotal: 56.5ms\tremaining: 1m 38s\n",
      "100:\tlearn: 1552.0866759\ttotal: 5.62s\tremaining: 1m 31s\n",
      "200:\tlearn: 1451.3150324\ttotal: 11.1s\tremaining: 1m 25s\n",
      "300:\tlearn: 1384.8426965\ttotal: 16.5s\tremaining: 1m 19s\n",
      "400:\tlearn: 1334.2684382\ttotal: 22s\tremaining: 1m 14s\n",
      "500:\tlearn: 1292.6837722\ttotal: 28s\tremaining: 1m 9s\n",
      "600:\tlearn: 1261.4866250\ttotal: 33.6s\tremaining: 1m 4s\n",
      "700:\tlearn: 1232.2823495\ttotal: 39.1s\tremaining: 58.5s\n",
      "800:\tlearn: 1207.8592846\ttotal: 44.9s\tremaining: 53.2s\n",
      "900:\tlearn: 1187.0958865\ttotal: 50.6s\tremaining: 47.7s\n",
      "1000:\tlearn: 1167.6518146\ttotal: 56.2s\tremaining: 42.1s\n",
      "1100:\tlearn: 1150.0168917\ttotal: 1m 2s\tremaining: 36.7s\n",
      "1200:\tlearn: 1132.8220440\ttotal: 1m 7s\tremaining: 31s\n",
      "1300:\tlearn: 1117.5708163\ttotal: 1m 13s\tremaining: 25.3s\n",
      "1400:\tlearn: 1103.8492172\ttotal: 1m 18s\tremaining: 19.7s\n",
      "1500:\tlearn: 1091.6910623\ttotal: 1m 24s\tremaining: 14s\n",
      "1600:\tlearn: 1080.9558880\ttotal: 1m 30s\tremaining: 8.38s\n",
      "1700:\tlearn: 1071.3831672\ttotal: 1m 35s\tremaining: 2.76s\n",
      "1749:\tlearn: 1065.5117982\ttotal: 1m 38s\tremaining: 0us\n",
      "0:\tlearn: 3435.6869043\ttotal: 63.3ms\tremaining: 1m 50s\n",
      "100:\tlearn: 1510.5725978\ttotal: 5.62s\tremaining: 1m 31s\n",
      "200:\tlearn: 1401.9742474\ttotal: 11.2s\tremaining: 1m 26s\n",
      "300:\tlearn: 1336.5709352\ttotal: 16.7s\tremaining: 1m 20s\n",
      "400:\tlearn: 1280.9776956\ttotal: 22.2s\tremaining: 1m 14s\n",
      "500:\tlearn: 1243.7274931\ttotal: 27.7s\tremaining: 1m 9s\n",
      "600:\tlearn: 1213.4082609\ttotal: 33.2s\tremaining: 1m 3s\n",
      "700:\tlearn: 1185.7999165\ttotal: 39.2s\tremaining: 58.7s\n",
      "800:\tlearn: 1160.6232717\ttotal: 44.9s\tremaining: 53.1s\n",
      "900:\tlearn: 1139.8711200\ttotal: 50.4s\tremaining: 47.5s\n",
      "1000:\tlearn: 1121.8707479\ttotal: 55.8s\tremaining: 41.7s\n",
      "1100:\tlearn: 1104.1234436\ttotal: 1m 1s\tremaining: 36.2s\n",
      "1200:\tlearn: 1088.5399563\ttotal: 1m 6s\tremaining: 30.6s\n",
      "1300:\tlearn: 1072.3992592\ttotal: 1m 12s\tremaining: 25s\n",
      "1400:\tlearn: 1058.2748433\ttotal: 1m 17s\tremaining: 19.4s\n",
      "1500:\tlearn: 1046.7430333\ttotal: 1m 23s\tremaining: 13.9s\n",
      "1600:\tlearn: 1034.0459184\ttotal: 1m 29s\tremaining: 8.3s\n",
      "1700:\tlearn: 1023.7006962\ttotal: 1m 34s\tremaining: 2.73s\n",
      "1749:\tlearn: 1019.5653415\ttotal: 1m 37s\tremaining: 0us\n",
      "0:\tlearn: 3398.6532331\ttotal: 53.5ms\tremaining: 1m 33s\n",
      "100:\tlearn: 1505.6392518\ttotal: 5.56s\tremaining: 1m 30s\n",
      "200:\tlearn: 1394.4909163\ttotal: 11.1s\tremaining: 1m 25s\n",
      "300:\tlearn: 1322.9875488\ttotal: 16.7s\tremaining: 1m 20s\n",
      "400:\tlearn: 1274.7661272\ttotal: 22.5s\tremaining: 1m 15s\n",
      "500:\tlearn: 1234.8661929\ttotal: 27.8s\tremaining: 1m 9s\n",
      "600:\tlearn: 1200.7073693\ttotal: 33.4s\tremaining: 1m 3s\n",
      "700:\tlearn: 1172.4238479\ttotal: 38.9s\tremaining: 58.2s\n",
      "800:\tlearn: 1149.5385365\ttotal: 44.3s\tremaining: 52.5s\n",
      "900:\tlearn: 1129.2510038\ttotal: 49.7s\tremaining: 46.9s\n",
      "1000:\tlearn: 1110.6385491\ttotal: 55.2s\tremaining: 41.3s\n",
      "1100:\tlearn: 1093.4237904\ttotal: 1m\tremaining: 35.7s\n",
      "1200:\tlearn: 1078.0661282\ttotal: 1m 6s\tremaining: 30.2s\n",
      "1300:\tlearn: 1063.8197309\ttotal: 1m 11s\tremaining: 24.6s\n",
      "1400:\tlearn: 1051.0871559\ttotal: 1m 16s\tremaining: 19.2s\n",
      "1500:\tlearn: 1038.5803278\ttotal: 1m 22s\tremaining: 13.7s\n",
      "1600:\tlearn: 1028.4336136\ttotal: 1m 28s\tremaining: 8.2s\n",
      "1700:\tlearn: 1018.1925739\ttotal: 1m 33s\tremaining: 2.69s\n",
      "1749:\tlearn: 1013.4361475\ttotal: 1m 36s\tremaining: 0us\n",
      "0:\tlearn: 3406.6591350\ttotal: 52.6ms\tremaining: 1m 31s\n",
      "100:\tlearn: 1511.7115407\ttotal: 5.47s\tremaining: 1m 29s\n",
      "200:\tlearn: 1400.0670182\ttotal: 11s\tremaining: 1m 24s\n",
      "300:\tlearn: 1332.2212150\ttotal: 16.8s\tremaining: 1m 20s\n",
      "400:\tlearn: 1282.5321520\ttotal: 23s\tremaining: 1m 17s\n",
      "500:\tlearn: 1245.1709326\ttotal: 28.4s\tremaining: 1m 10s\n",
      "600:\tlearn: 1208.3912899\ttotal: 34s\tremaining: 1m 4s\n",
      "700:\tlearn: 1182.8446411\ttotal: 40.2s\tremaining: 1m\n",
      "800:\tlearn: 1158.6135953\ttotal: 45.9s\tremaining: 54.4s\n",
      "900:\tlearn: 1134.5766391\ttotal: 51.5s\tremaining: 48.5s\n",
      "1000:\tlearn: 1113.3169076\ttotal: 57.1s\tremaining: 42.7s\n",
      "1100:\tlearn: 1096.2793725\ttotal: 1m 2s\tremaining: 36.9s\n",
      "1200:\tlearn: 1079.4501114\ttotal: 1m 8s\tremaining: 31.2s\n",
      "1300:\tlearn: 1063.5232617\ttotal: 1m 13s\tremaining: 25.5s\n",
      "1400:\tlearn: 1050.9910377\ttotal: 1m 19s\tremaining: 19.7s\n",
      "1500:\tlearn: 1039.0383336\ttotal: 1m 24s\tremaining: 14.1s\n",
      "1600:\tlearn: 1027.8878255\ttotal: 1m 30s\tremaining: 8.45s\n",
      "1700:\tlearn: 1017.2424492\ttotal: 1m 36s\tremaining: 2.79s\n",
      "1749:\tlearn: 1012.2882718\ttotal: 1m 39s\tremaining: 0us\n",
      "0:\tlearn: 4314.8842030\ttotal: 73.1ms\tremaining: 2m 7s\n",
      "100:\tlearn: 1691.8795669\ttotal: 7.19s\tremaining: 1m 57s\n",
      "200:\tlearn: 1605.9400515\ttotal: 14.4s\tremaining: 1m 50s\n",
      "300:\tlearn: 1554.9955659\ttotal: 21.5s\tremaining: 1m 43s\n",
      "400:\tlearn: 1518.4965067\ttotal: 29s\tremaining: 1m 37s\n",
      "500:\tlearn: 1489.3971880\ttotal: 36s\tremaining: 1m 29s\n",
      "600:\tlearn: 1465.6494438\ttotal: 43.3s\tremaining: 1m 22s\n",
      "700:\tlearn: 1444.4055539\ttotal: 50.3s\tremaining: 1m 15s\n",
      "800:\tlearn: 1425.5785780\ttotal: 57.6s\tremaining: 1m 8s\n",
      "900:\tlearn: 1407.5891035\ttotal: 1m 5s\tremaining: 1m 1s\n",
      "1000:\tlearn: 1392.5581723\ttotal: 1m 12s\tremaining: 54.1s\n",
      "1100:\tlearn: 1378.6602246\ttotal: 1m 19s\tremaining: 46.8s\n",
      "1200:\tlearn: 1366.3301875\ttotal: 1m 26s\tremaining: 39.5s\n",
      "1300:\tlearn: 1354.3484158\ttotal: 1m 33s\tremaining: 32.3s\n",
      "1400:\tlearn: 1343.1212964\ttotal: 1m 40s\tremaining: 25.1s\n",
      "1500:\tlearn: 1332.8384232\ttotal: 1m 47s\tremaining: 17.9s\n",
      "1600:\tlearn: 1324.2809248\ttotal: 1m 54s\tremaining: 10.7s\n",
      "1700:\tlearn: 1314.7134002\ttotal: 2m 2s\tremaining: 3.52s\n",
      "1749:\tlearn: 1310.4436950\ttotal: 2m 6s\tremaining: 0us\n"
     ]
    },
    {
     "data": {
      "text/plain": [
       "GridSearchCV(cv=3,\n",
       "             estimator=<catboost.core.CatBoostRegressor object at 0x7fba2ada1340>,\n",
       "             param_grid={'depth': range(5, 12, 2),\n",
       "                         'iterations': range(1000, 2000, 250),\n",
       "                         'learning_rate': array([0.1, 0.2, 0.3, 0.4]),\n",
       "                         'verbose': [100]},\n",
       "             scoring='neg_root_mean_squared_error')"
      ]
     },
     "execution_count": 37,
     "metadata": {},
     "output_type": "execute_result"
    }
   ],
   "source": [
    "grid.fit(X_train, y_train)"
   ]
  },
  {
   "cell_type": "code",
   "execution_count": 38,
   "metadata": {},
   "outputs": [
    {
     "data": {
      "text/plain": [
       "{'depth': 11, 'iterations': 1750, 'learning_rate': 0.1, 'verbose': 100}"
      ]
     },
     "execution_count": 38,
     "metadata": {},
     "output_type": "execute_result"
    }
   ],
   "source": [
    "grid.best_params_"
   ]
  },
  {
   "cell_type": "markdown",
   "metadata": {},
   "source": [
    "Обучим модель с наилучшими параметрами:"
   ]
  },
  {
   "cell_type": "code",
   "execution_count": 43,
   "metadata": {},
   "outputs": [],
   "source": [
    "catboost = CatBoostRegressor(iterations=1750,\n",
    "                             learning_rate=0.1,\n",
    "                             depth=11,\n",
    "                             verbose=100)"
   ]
  },
  {
   "cell_type": "code",
   "execution_count": 47,
   "metadata": {},
   "outputs": [
    {
     "name": "stdout",
     "output_type": "stream",
     "text": [
      "0:\tlearn: 4306.5689060\ttotal: 620ms\tremaining: 18m 3s\n",
      "1:\tlearn: 4007.8905123\ttotal: 1.17s\tremaining: 17m 4s\n",
      "2:\tlearn: 3742.0314302\ttotal: 1.63s\tremaining: 15m 48s\n",
      "3:\tlearn: 3510.3733557\ttotal: 2.07s\tremaining: 15m 3s\n",
      "4:\tlearn: 3300.5092685\ttotal: 2.48s\tremaining: 14m 25s\n",
      "5:\tlearn: 3113.4308692\ttotal: 3.02s\tremaining: 14m 36s\n",
      "6:\tlearn: 2949.9167095\ttotal: 3.55s\tremaining: 14m 43s\n",
      "7:\tlearn: 2809.7265786\ttotal: 4.01s\tremaining: 14m 34s\n",
      "8:\tlearn: 2684.0863405\ttotal: 4.5s\tremaining: 14m 29s\n",
      "9:\tlearn: 2574.2825618\ttotal: 5.04s\tremaining: 14m 37s\n",
      "10:\tlearn: 2476.6709277\ttotal: 5.51s\tremaining: 14m 31s\n",
      "11:\tlearn: 2393.4347671\ttotal: 6.05s\tremaining: 14m 36s\n",
      "12:\tlearn: 2318.9353000\ttotal: 6.62s\tremaining: 14m 44s\n",
      "13:\tlearn: 2255.2863316\ttotal: 7.12s\tremaining: 14m 42s\n",
      "14:\tlearn: 2200.6161408\ttotal: 7.58s\tremaining: 14m 37s\n",
      "15:\tlearn: 2148.9692530\ttotal: 8.03s\tremaining: 14m 29s\n",
      "16:\tlearn: 2104.7244110\ttotal: 8.52s\tremaining: 14m 28s\n",
      "17:\tlearn: 2065.3230156\ttotal: 8.96s\tremaining: 14m 22s\n",
      "18:\tlearn: 2030.7224149\ttotal: 9.39s\tremaining: 14m 15s\n",
      "19:\tlearn: 2002.8937374\ttotal: 9.87s\tremaining: 14m 13s\n",
      "20:\tlearn: 1979.9443913\ttotal: 10.3s\tremaining: 14m 7s\n",
      "21:\tlearn: 1954.3074615\ttotal: 10.9s\tremaining: 14m 14s\n",
      "22:\tlearn: 1932.6985978\ttotal: 11.3s\tremaining: 14m 10s\n",
      "23:\tlearn: 1914.3092246\ttotal: 11.9s\tremaining: 14m 13s\n",
      "24:\tlearn: 1897.6522439\ttotal: 12.3s\tremaining: 14m 9s\n",
      "25:\tlearn: 1884.2225390\ttotal: 12.8s\tremaining: 14m 9s\n",
      "26:\tlearn: 1872.0550505\ttotal: 13.3s\tremaining: 14m 10s\n",
      "27:\tlearn: 1858.6781712\ttotal: 13.9s\tremaining: 14m 14s\n",
      "28:\tlearn: 1845.2560432\ttotal: 14.4s\tremaining: 14m 13s\n",
      "29:\tlearn: 1835.1954106\ttotal: 14.9s\tremaining: 14m 15s\n",
      "30:\tlearn: 1827.3153686\ttotal: 15.4s\tremaining: 14m 16s\n",
      "31:\tlearn: 1819.4476246\ttotal: 15.9s\tremaining: 14m 14s\n",
      "32:\tlearn: 1811.8547424\ttotal: 16.4s\tremaining: 14m 13s\n",
      "33:\tlearn: 1804.3403224\ttotal: 16.9s\tremaining: 14m 12s\n",
      "34:\tlearn: 1798.0194255\ttotal: 17.5s\tremaining: 14m 15s\n",
      "35:\tlearn: 1792.1200365\ttotal: 18s\tremaining: 14m 17s\n",
      "36:\tlearn: 1787.2803111\ttotal: 18.5s\tremaining: 14m 16s\n",
      "37:\tlearn: 1782.2361160\ttotal: 19s\tremaining: 14m 14s\n",
      "38:\tlearn: 1778.0061418\ttotal: 19.4s\tremaining: 14m 12s\n",
      "39:\tlearn: 1770.5267759\ttotal: 19.9s\tremaining: 14m 8s\n",
      "40:\tlearn: 1765.2911532\ttotal: 20.3s\tremaining: 14m 6s\n",
      "41:\tlearn: 1761.1472021\ttotal: 20.8s\tremaining: 14m 4s\n",
      "42:\tlearn: 1754.8359559\ttotal: 21.2s\tremaining: 14m 1s\n",
      "43:\tlearn: 1747.5174396\ttotal: 21.6s\tremaining: 13m 56s\n",
      "44:\tlearn: 1743.6831281\ttotal: 22s\tremaining: 13m 53s\n",
      "45:\tlearn: 1740.5692670\ttotal: 22.5s\tremaining: 13m 53s\n",
      "46:\tlearn: 1737.2200207\ttotal: 23s\tremaining: 13m 54s\n",
      "47:\tlearn: 1733.2769029\ttotal: 23.5s\tremaining: 13m 52s\n",
      "48:\tlearn: 1730.4242248\ttotal: 24s\tremaining: 13m 52s\n",
      "49:\tlearn: 1728.0020810\ttotal: 24.5s\tremaining: 13m 51s\n",
      "50:\tlearn: 1722.2926731\ttotal: 24.9s\tremaining: 13m 50s\n",
      "51:\tlearn: 1719.9599025\ttotal: 25.4s\tremaining: 13m 48s\n",
      "52:\tlearn: 1715.9223718\ttotal: 25.8s\tremaining: 13m 45s\n",
      "53:\tlearn: 1710.1699810\ttotal: 26.2s\tremaining: 13m 42s\n",
      "54:\tlearn: 1707.7328845\ttotal: 26.6s\tremaining: 13m 40s\n",
      "55:\tlearn: 1703.4457639\ttotal: 27.2s\tremaining: 13m 42s\n",
      "56:\tlearn: 1701.4442803\ttotal: 27.7s\tremaining: 13m 43s\n",
      "57:\tlearn: 1698.5055589\ttotal: 28.5s\tremaining: 13m 52s\n",
      "58:\tlearn: 1695.6344956\ttotal: 29.1s\tremaining: 13m 52s\n",
      "59:\tlearn: 1693.3763351\ttotal: 29.5s\tremaining: 13m 50s\n",
      "60:\tlearn: 1690.7540117\ttotal: 30s\tremaining: 13m 49s\n",
      "61:\tlearn: 1687.9297003\ttotal: 30.8s\tremaining: 13m 57s\n",
      "62:\tlearn: 1686.4687416\ttotal: 31.5s\tremaining: 14m 2s\n",
      "63:\tlearn: 1683.3633056\ttotal: 31.9s\tremaining: 14m 1s\n",
      "64:\tlearn: 1682.1895769\ttotal: 32.5s\tremaining: 14m 3s\n",
      "65:\tlearn: 1680.4648360\ttotal: 33s\tremaining: 14m 2s\n",
      "66:\tlearn: 1677.8179406\ttotal: 33.5s\tremaining: 14m 1s\n",
      "67:\tlearn: 1674.3955447\ttotal: 34s\tremaining: 14m\n",
      "68:\tlearn: 1672.0406626\ttotal: 34.5s\tremaining: 14m\n",
      "69:\tlearn: 1670.2455519\ttotal: 35s\tremaining: 14m\n",
      "70:\tlearn: 1666.7740351\ttotal: 35.5s\tremaining: 14m\n",
      "71:\tlearn: 1665.2606349\ttotal: 36s\tremaining: 13m 59s\n",
      "72:\tlearn: 1663.0462230\ttotal: 36.5s\tremaining: 13m 58s\n",
      "73:\tlearn: 1661.7017035\ttotal: 37s\tremaining: 13m 57s\n",
      "74:\tlearn: 1659.8207790\ttotal: 37.4s\tremaining: 13m 55s\n",
      "75:\tlearn: 1657.3612703\ttotal: 37.9s\tremaining: 13m 53s\n",
      "76:\tlearn: 1655.7975574\ttotal: 38.3s\tremaining: 13m 52s\n",
      "77:\tlearn: 1654.2000876\ttotal: 38.8s\tremaining: 13m 52s\n",
      "78:\tlearn: 1652.0701936\ttotal: 39.4s\tremaining: 13m 52s\n",
      "79:\tlearn: 1649.8833672\ttotal: 39.8s\tremaining: 13m 50s\n",
      "80:\tlearn: 1648.0870707\ttotal: 40.2s\tremaining: 13m 48s\n",
      "81:\tlearn: 1646.0235203\ttotal: 40.7s\tremaining: 13m 47s\n",
      "82:\tlearn: 1644.4016075\ttotal: 41.2s\tremaining: 13m 47s\n",
      "83:\tlearn: 1642.6662731\ttotal: 41.7s\tremaining: 13m 47s\n",
      "84:\tlearn: 1641.2336801\ttotal: 42.3s\tremaining: 13m 48s\n",
      "85:\tlearn: 1640.2308785\ttotal: 42.7s\tremaining: 13m 46s\n",
      "86:\tlearn: 1639.1565937\ttotal: 43.2s\tremaining: 13m 45s\n",
      "87:\tlearn: 1637.2608252\ttotal: 43.6s\tremaining: 13m 43s\n",
      "88:\tlearn: 1635.1315422\ttotal: 44.1s\tremaining: 13m 43s\n",
      "89:\tlearn: 1634.0794329\ttotal: 44.7s\tremaining: 13m 44s\n",
      "90:\tlearn: 1631.8230455\ttotal: 45.2s\tremaining: 13m 44s\n",
      "91:\tlearn: 1630.5177110\ttotal: 45.8s\tremaining: 13m 44s\n",
      "92:\tlearn: 1629.3397462\ttotal: 46.3s\tremaining: 13m 45s\n",
      "93:\tlearn: 1626.9434393\ttotal: 46.8s\tremaining: 13m 44s\n",
      "94:\tlearn: 1625.6138425\ttotal: 47.3s\tremaining: 13m 44s\n",
      "95:\tlearn: 1624.1843112\ttotal: 47.8s\tremaining: 13m 42s\n",
      "96:\tlearn: 1622.8905880\ttotal: 48.2s\tremaining: 13m 42s\n",
      "97:\tlearn: 1621.8443298\ttotal: 48.7s\tremaining: 13m 40s\n",
      "98:\tlearn: 1619.9261232\ttotal: 49.3s\tremaining: 13m 41s\n",
      "99:\tlearn: 1618.5934733\ttotal: 49.7s\tremaining: 13m 40s\n",
      "100:\tlearn: 1617.9488863\ttotal: 50.3s\tremaining: 13m 41s\n",
      "101:\tlearn: 1616.1733033\ttotal: 50.8s\tremaining: 13m 41s\n",
      "102:\tlearn: 1615.2560798\ttotal: 51.3s\tremaining: 13m 40s\n",
      "103:\tlearn: 1613.9215221\ttotal: 51.7s\tremaining: 13m 38s\n",
      "104:\tlearn: 1613.1385889\ttotal: 52.2s\tremaining: 13m 38s\n",
      "105:\tlearn: 1612.3377353\ttotal: 52.7s\tremaining: 13m 37s\n",
      "106:\tlearn: 1611.2323593\ttotal: 53.2s\tremaining: 13m 36s\n",
      "107:\tlearn: 1610.0713779\ttotal: 53.7s\tremaining: 13m 36s\n",
      "108:\tlearn: 1608.3801996\ttotal: 54.2s\tremaining: 13m 35s\n",
      "109:\tlearn: 1607.4414096\ttotal: 54.6s\tremaining: 13m 34s\n",
      "110:\tlearn: 1606.2586173\ttotal: 55.1s\tremaining: 13m 34s\n",
      "111:\tlearn: 1604.8818887\ttotal: 55.6s\tremaining: 13m 33s\n",
      "112:\tlearn: 1602.6238211\ttotal: 56.1s\tremaining: 13m 33s\n",
      "113:\tlearn: 1601.6165236\ttotal: 56.6s\tremaining: 13m 32s\n",
      "114:\tlearn: 1600.9772760\ttotal: 57.2s\tremaining: 13m 33s\n",
      "115:\tlearn: 1599.8172142\ttotal: 57.7s\tremaining: 13m 32s\n",
      "116:\tlearn: 1599.1905396\ttotal: 58.3s\tremaining: 13m 33s\n",
      "117:\tlearn: 1598.3443629\ttotal: 58.8s\tremaining: 13m 33s\n",
      "118:\tlearn: 1597.4263367\ttotal: 59.3s\tremaining: 13m 32s\n",
      "119:\tlearn: 1596.3219875\ttotal: 59.8s\tremaining: 13m 32s\n",
      "120:\tlearn: 1594.5810324\ttotal: 1m\tremaining: 13m 31s\n",
      "121:\tlearn: 1593.6447480\ttotal: 1m\tremaining: 13m 30s\n",
      "122:\tlearn: 1592.4382597\ttotal: 1m 1s\tremaining: 13m 30s\n",
      "123:\tlearn: 1591.8202955\ttotal: 1m 1s\tremaining: 13m 30s\n",
      "124:\tlearn: 1591.7529940\ttotal: 1m 2s\tremaining: 13m 31s\n",
      "125:\tlearn: 1590.5233817\ttotal: 1m 2s\tremaining: 13m 30s\n",
      "126:\tlearn: 1590.0905221\ttotal: 1m 3s\tremaining: 13m 31s\n",
      "127:\tlearn: 1588.6989436\ttotal: 1m 4s\tremaining: 13m 32s\n",
      "128:\tlearn: 1586.5677318\ttotal: 1m 4s\tremaining: 13m 31s\n",
      "129:\tlearn: 1585.0311949\ttotal: 1m 5s\tremaining: 13m 30s\n",
      "130:\tlearn: 1585.0186736\ttotal: 1m 5s\tremaining: 13m 25s\n",
      "131:\tlearn: 1584.1903227\ttotal: 1m 5s\tremaining: 13m 25s\n",
      "132:\tlearn: 1583.5121449\ttotal: 1m 6s\tremaining: 13m 25s\n",
      "133:\tlearn: 1581.7826308\ttotal: 1m 6s\tremaining: 13m 24s\n",
      "134:\tlearn: 1580.9703241\ttotal: 1m 7s\tremaining: 13m 23s\n",
      "135:\tlearn: 1579.3643615\ttotal: 1m 7s\tremaining: 13m 23s\n",
      "136:\tlearn: 1578.6780607\ttotal: 1m 8s\tremaining: 13m 21s\n",
      "137:\tlearn: 1578.2167345\ttotal: 1m 8s\tremaining: 13m 20s\n",
      "138:\tlearn: 1578.1526616\ttotal: 1m 8s\tremaining: 13m 18s\n",
      "139:\tlearn: 1577.1395424\ttotal: 1m 9s\tremaining: 13m 17s\n",
      "140:\tlearn: 1575.8236918\ttotal: 1m 9s\tremaining: 13m 16s\n",
      "141:\tlearn: 1575.5258197\ttotal: 1m 10s\tremaining: 13m 15s\n",
      "142:\tlearn: 1574.5044937\ttotal: 1m 10s\tremaining: 13m 14s\n",
      "143:\tlearn: 1573.2763005\ttotal: 1m 11s\tremaining: 13m 13s\n",
      "144:\tlearn: 1572.9057538\ttotal: 1m 11s\tremaining: 13m 13s\n",
      "145:\tlearn: 1572.0464547\ttotal: 1m 12s\tremaining: 13m 13s\n",
      "146:\tlearn: 1571.8696207\ttotal: 1m 12s\tremaining: 13m 13s\n",
      "147:\tlearn: 1571.7696662\ttotal: 1m 13s\tremaining: 13m 13s\n",
      "148:\tlearn: 1571.3587147\ttotal: 1m 13s\tremaining: 13m 13s\n",
      "149:\tlearn: 1570.6763366\ttotal: 1m 14s\tremaining: 13m 14s\n",
      "150:\tlearn: 1570.0345485\ttotal: 1m 14s\tremaining: 13m 12s\n",
      "151:\tlearn: 1569.8228888\ttotal: 1m 15s\tremaining: 13m 12s\n",
      "152:\tlearn: 1569.7454133\ttotal: 1m 15s\tremaining: 13m 8s\n",
      "153:\tlearn: 1569.0850189\ttotal: 1m 16s\tremaining: 13m 9s\n",
      "154:\tlearn: 1568.7638233\ttotal: 1m 16s\tremaining: 13m 8s\n",
      "155:\tlearn: 1568.0147094\ttotal: 1m 17s\tremaining: 13m 7s\n",
      "156:\tlearn: 1567.3659852\ttotal: 1m 17s\tremaining: 13m 7s\n",
      "157:\tlearn: 1566.0524730\ttotal: 1m 18s\tremaining: 13m 6s\n",
      "158:\tlearn: 1564.5958678\ttotal: 1m 18s\tremaining: 13m 6s\n",
      "159:\tlearn: 1564.5091102\ttotal: 1m 19s\tremaining: 13m 5s\n",
      "160:\tlearn: 1563.1555034\ttotal: 1m 19s\tremaining: 13m 5s\n",
      "161:\tlearn: 1562.2015647\ttotal: 1m 19s\tremaining: 13m 4s\n",
      "162:\tlearn: 1561.1512441\ttotal: 1m 20s\tremaining: 13m 3s\n",
      "163:\tlearn: 1560.3767877\ttotal: 1m 20s\tremaining: 13m 3s\n",
      "164:\tlearn: 1558.4347702\ttotal: 1m 21s\tremaining: 13m 2s\n",
      "165:\tlearn: 1558.2754626\ttotal: 1m 21s\tremaining: 12m 59s\n",
      "166:\tlearn: 1558.2515341\ttotal: 1m 22s\tremaining: 12m 59s\n",
      "167:\tlearn: 1556.9924208\ttotal: 1m 22s\tremaining: 12m 59s\n",
      "168:\tlearn: 1556.5211773\ttotal: 1m 23s\tremaining: 12m 58s\n",
      "169:\tlearn: 1555.6949879\ttotal: 1m 23s\tremaining: 12m 58s\n",
      "170:\tlearn: 1554.1769615\ttotal: 1m 24s\tremaining: 12m 56s\n",
      "171:\tlearn: 1553.6098671\ttotal: 1m 24s\tremaining: 12m 56s\n",
      "172:\tlearn: 1553.4109740\ttotal: 1m 25s\tremaining: 12m 57s\n",
      "173:\tlearn: 1552.6387978\ttotal: 1m 25s\tremaining: 12m 57s\n",
      "174:\tlearn: 1551.9142930\ttotal: 1m 26s\tremaining: 12m 57s\n",
      "175:\tlearn: 1551.6063434\ttotal: 1m 26s\tremaining: 12m 57s\n",
      "176:\tlearn: 1551.1357544\ttotal: 1m 27s\tremaining: 12m 57s\n",
      "177:\tlearn: 1549.9464751\ttotal: 1m 27s\tremaining: 12m 57s\n",
      "178:\tlearn: 1549.3065521\ttotal: 1m 28s\tremaining: 12m 56s\n",
      "179:\tlearn: 1548.0195423\ttotal: 1m 28s\tremaining: 12m 56s\n",
      "180:\tlearn: 1547.3144180\ttotal: 1m 29s\tremaining: 12m 55s\n",
      "181:\tlearn: 1547.2765402\ttotal: 1m 30s\tremaining: 12m 55s\n",
      "182:\tlearn: 1547.2506376\ttotal: 1m 30s\tremaining: 12m 55s\n",
      "183:\tlearn: 1546.1586695\ttotal: 1m 31s\tremaining: 12m 54s\n",
      "184:\tlearn: 1544.9774087\ttotal: 1m 31s\tremaining: 12m 54s\n",
      "185:\tlearn: 1544.3025536\ttotal: 1m 32s\tremaining: 12m 55s\n",
      "186:\tlearn: 1543.1189772\ttotal: 1m 32s\tremaining: 12m 54s\n",
      "187:\tlearn: 1542.0725294\ttotal: 1m 33s\tremaining: 12m 54s\n",
      "188:\tlearn: 1541.8038180\ttotal: 1m 33s\tremaining: 12m 54s\n",
      "189:\tlearn: 1541.0355297\ttotal: 1m 34s\tremaining: 12m 53s\n",
      "190:\tlearn: 1540.8169433\ttotal: 1m 34s\tremaining: 12m 53s\n",
      "191:\tlearn: 1540.7539160\ttotal: 1m 35s\tremaining: 12m 53s\n",
      "192:\tlearn: 1540.2390388\ttotal: 1m 35s\tremaining: 12m 53s\n",
      "193:\tlearn: 1539.7761905\ttotal: 1m 36s\tremaining: 12m 53s\n",
      "194:\tlearn: 1539.7583628\ttotal: 1m 36s\tremaining: 12m 52s\n",
      "195:\tlearn: 1538.9842355\ttotal: 1m 37s\tremaining: 12m 52s\n",
      "196:\tlearn: 1538.3882561\ttotal: 1m 37s\tremaining: 12m 51s\n",
      "197:\tlearn: 1537.3567592\ttotal: 1m 38s\tremaining: 12m 51s\n",
      "198:\tlearn: 1536.8064875\ttotal: 1m 38s\tremaining: 12m 51s\n",
      "199:\tlearn: 1535.3617430\ttotal: 1m 39s\tremaining: 12m 51s\n",
      "200:\tlearn: 1535.3486692\ttotal: 1m 40s\tremaining: 12m 51s\n",
      "201:\tlearn: 1534.8042921\ttotal: 1m 40s\tremaining: 12m 50s\n",
      "202:\tlearn: 1533.9771599\ttotal: 1m 41s\tremaining: 12m 50s\n",
      "203:\tlearn: 1533.3060341\ttotal: 1m 41s\tremaining: 12m 49s\n",
      "204:\tlearn: 1532.4706103\ttotal: 1m 41s\tremaining: 12m 48s\n",
      "205:\tlearn: 1530.8533680\ttotal: 1m 42s\tremaining: 12m 47s\n",
      "206:\tlearn: 1530.1360543\ttotal: 1m 42s\tremaining: 12m 47s\n",
      "207:\tlearn: 1529.5162871\ttotal: 1m 43s\tremaining: 12m 47s\n",
      "208:\tlearn: 1528.9288938\ttotal: 1m 43s\tremaining: 12m 46s\n",
      "209:\tlearn: 1528.0848473\ttotal: 1m 44s\tremaining: 12m 46s\n",
      "210:\tlearn: 1527.3935269\ttotal: 1m 44s\tremaining: 12m 45s\n",
      "211:\tlearn: 1526.4747972\ttotal: 1m 45s\tremaining: 12m 45s\n",
      "212:\tlearn: 1525.8919462\ttotal: 1m 46s\tremaining: 12m 45s\n",
      "213:\tlearn: 1524.8098389\ttotal: 1m 46s\tremaining: 12m 45s\n",
      "214:\tlearn: 1524.0723287\ttotal: 1m 47s\tremaining: 12m 45s\n",
      "215:\tlearn: 1523.7417436\ttotal: 1m 47s\tremaining: 12m 44s\n",
      "216:\tlearn: 1523.3357696\ttotal: 1m 48s\tremaining: 12m 44s\n",
      "217:\tlearn: 1523.0078447\ttotal: 1m 48s\tremaining: 12m 44s\n",
      "218:\tlearn: 1522.7144499\ttotal: 1m 49s\tremaining: 12m 45s\n",
      "219:\tlearn: 1521.5293967\ttotal: 1m 50s\tremaining: 12m 46s\n",
      "220:\tlearn: 1521.0345846\ttotal: 1m 50s\tremaining: 12m 45s\n",
      "221:\tlearn: 1520.4837007\ttotal: 1m 51s\tremaining: 12m 45s\n",
      "222:\tlearn: 1519.5252475\ttotal: 1m 51s\tremaining: 12m 44s\n",
      "223:\tlearn: 1518.8653072\ttotal: 1m 52s\tremaining: 12m 43s\n",
      "224:\tlearn: 1518.4285287\ttotal: 1m 52s\tremaining: 12m 43s\n",
      "225:\tlearn: 1517.9922034\ttotal: 1m 53s\tremaining: 12m 42s\n",
      "226:\tlearn: 1517.1656695\ttotal: 1m 53s\tremaining: 12m 42s\n",
      "227:\tlearn: 1516.8212283\ttotal: 1m 54s\tremaining: 12m 42s\n",
      "228:\tlearn: 1516.3365923\ttotal: 1m 54s\tremaining: 12m 42s\n",
      "229:\tlearn: 1515.1612850\ttotal: 1m 55s\tremaining: 12m 41s\n",
      "230:\tlearn: 1514.3646774\ttotal: 1m 55s\tremaining: 12m 41s\n",
      "231:\tlearn: 1513.7207256\ttotal: 1m 56s\tremaining: 12m 40s\n",
      "232:\tlearn: 1513.2752226\ttotal: 1m 56s\tremaining: 12m 40s\n",
      "233:\tlearn: 1513.2514266\ttotal: 1m 57s\tremaining: 12m 40s\n",
      "234:\tlearn: 1512.5975703\ttotal: 1m 57s\tremaining: 12m 39s\n",
      "235:\tlearn: 1511.6244823\ttotal: 1m 58s\tremaining: 12m 39s\n",
      "236:\tlearn: 1510.6930136\ttotal: 1m 58s\tremaining: 12m 38s\n",
      "237:\tlearn: 1510.4640067\ttotal: 1m 59s\tremaining: 12m 38s\n",
      "238:\tlearn: 1509.9905982\ttotal: 1m 59s\tremaining: 12m 37s\n",
      "239:\tlearn: 1509.4543204\ttotal: 2m\tremaining: 12m 37s\n",
      "240:\tlearn: 1508.5355810\ttotal: 2m\tremaining: 12m 37s\n",
      "241:\tlearn: 1508.4081925\ttotal: 2m 1s\tremaining: 12m 37s\n",
      "242:\tlearn: 1508.2974374\ttotal: 2m 2s\tremaining: 12m 38s\n",
      "243:\tlearn: 1507.7737159\ttotal: 2m 2s\tremaining: 12m 37s\n",
      "244:\tlearn: 1507.4549722\ttotal: 2m 3s\tremaining: 12m 37s\n",
      "245:\tlearn: 1506.7483211\ttotal: 2m 3s\tremaining: 12m 37s\n",
      "246:\tlearn: 1506.2492313\ttotal: 2m 4s\tremaining: 12m 36s\n",
      "247:\tlearn: 1505.3145374\ttotal: 2m 4s\tremaining: 12m 36s\n",
      "248:\tlearn: 1504.4603927\ttotal: 2m 5s\tremaining: 12m 36s\n",
      "249:\tlearn: 1503.9870645\ttotal: 2m 6s\tremaining: 12m 36s\n",
      "250:\tlearn: 1503.0794862\ttotal: 2m 6s\tremaining: 12m 36s\n",
      "251:\tlearn: 1502.5235317\ttotal: 2m 7s\tremaining: 12m 35s\n",
      "252:\tlearn: 1501.7471454\ttotal: 2m 7s\tremaining: 12m 35s\n",
      "253:\tlearn: 1501.2827179\ttotal: 2m 8s\tremaining: 12m 35s\n",
      "254:\tlearn: 1500.8817905\ttotal: 2m 8s\tremaining: 12m 35s\n",
      "255:\tlearn: 1500.5310568\ttotal: 2m 9s\tremaining: 12m 35s\n",
      "256:\tlearn: 1499.8783677\ttotal: 2m 9s\tremaining: 12m 34s\n",
      "257:\tlearn: 1499.7726383\ttotal: 2m 10s\tremaining: 12m 34s\n",
      "258:\tlearn: 1498.9932057\ttotal: 2m 10s\tremaining: 12m 33s\n",
      "259:\tlearn: 1498.9233016\ttotal: 2m 11s\tremaining: 12m 33s\n",
      "260:\tlearn: 1498.0159520\ttotal: 2m 11s\tremaining: 12m 32s\n",
      "261:\tlearn: 1497.7051622\ttotal: 2m 12s\tremaining: 12m 32s\n",
      "262:\tlearn: 1497.3760952\ttotal: 2m 13s\tremaining: 12m 32s\n",
      "263:\tlearn: 1496.8785869\ttotal: 2m 13s\tremaining: 12m 32s\n",
      "264:\tlearn: 1496.7091932\ttotal: 2m 14s\tremaining: 12m 31s\n",
      "265:\tlearn: 1496.4064233\ttotal: 2m 14s\tremaining: 12m 31s\n",
      "266:\tlearn: 1495.9069119\ttotal: 2m 15s\tremaining: 12m 31s\n",
      "267:\tlearn: 1495.4880416\ttotal: 2m 15s\tremaining: 12m 31s\n",
      "268:\tlearn: 1495.4714115\ttotal: 2m 16s\tremaining: 12m 31s\n",
      "269:\tlearn: 1495.2183203\ttotal: 2m 16s\tremaining: 12m 30s\n",
      "270:\tlearn: 1494.8363465\ttotal: 2m 17s\tremaining: 12m 30s\n",
      "271:\tlearn: 1494.6459399\ttotal: 2m 18s\tremaining: 12m 29s\n",
      "272:\tlearn: 1493.3389269\ttotal: 2m 18s\tremaining: 12m 29s\n",
      "273:\tlearn: 1493.1917676\ttotal: 2m 19s\tremaining: 12m 30s\n",
      "274:\tlearn: 1492.9807378\ttotal: 2m 19s\tremaining: 12m 30s\n",
      "275:\tlearn: 1492.5310336\ttotal: 2m 20s\tremaining: 12m 30s\n",
      "276:\tlearn: 1491.9987268\ttotal: 2m 21s\tremaining: 12m 29s\n",
      "277:\tlearn: 1491.9813126\ttotal: 2m 21s\tremaining: 12m 29s\n",
      "278:\tlearn: 1491.3776934\ttotal: 2m 22s\tremaining: 12m 29s\n",
      "279:\tlearn: 1490.8644192\ttotal: 2m 22s\tremaining: 12m 29s\n",
      "280:\tlearn: 1490.4806217\ttotal: 2m 23s\tremaining: 12m 29s\n",
      "281:\tlearn: 1489.6748045\ttotal: 2m 23s\tremaining: 12m 29s\n",
      "282:\tlearn: 1488.9519089\ttotal: 2m 24s\tremaining: 12m 29s\n",
      "283:\tlearn: 1487.9381216\ttotal: 2m 25s\tremaining: 12m 28s\n",
      "284:\tlearn: 1487.3328570\ttotal: 2m 25s\tremaining: 12m 28s\n",
      "285:\tlearn: 1487.0047881\ttotal: 2m 26s\tremaining: 12m 28s\n",
      "286:\tlearn: 1486.6108385\ttotal: 2m 26s\tremaining: 12m 27s\n",
      "287:\tlearn: 1486.0465436\ttotal: 2m 27s\tremaining: 12m 27s\n",
      "288:\tlearn: 1485.6545591\ttotal: 2m 27s\tremaining: 12m 26s\n",
      "289:\tlearn: 1485.4365551\ttotal: 2m 28s\tremaining: 12m 27s\n",
      "290:\tlearn: 1484.9117950\ttotal: 2m 28s\tremaining: 12m 26s\n",
      "291:\tlearn: 1484.5676735\ttotal: 2m 29s\tremaining: 12m 26s\n",
      "292:\tlearn: 1484.2856309\ttotal: 2m 30s\tremaining: 12m 26s\n",
      "293:\tlearn: 1483.2472016\ttotal: 2m 30s\tremaining: 12m 25s\n",
      "294:\tlearn: 1482.8246262\ttotal: 2m 31s\tremaining: 12m 25s\n",
      "295:\tlearn: 1481.8181812\ttotal: 2m 31s\tremaining: 12m 25s\n",
      "296:\tlearn: 1481.1512561\ttotal: 2m 32s\tremaining: 12m 24s\n",
      "297:\tlearn: 1481.0674906\ttotal: 2m 32s\tremaining: 12m 24s\n",
      "298:\tlearn: 1480.4879867\ttotal: 2m 33s\tremaining: 12m 24s\n",
      "299:\tlearn: 1480.2988119\ttotal: 2m 33s\tremaining: 12m 23s\n",
      "300:\tlearn: 1479.3887256\ttotal: 2m 34s\tremaining: 12m 23s\n",
      "301:\tlearn: 1478.7393368\ttotal: 2m 34s\tremaining: 12m 22s\n",
      "302:\tlearn: 1478.5334992\ttotal: 2m 35s\tremaining: 12m 21s\n",
      "303:\tlearn: 1478.2108142\ttotal: 2m 35s\tremaining: 12m 21s\n",
      "304:\tlearn: 1477.8124807\ttotal: 2m 36s\tremaining: 12m 21s\n",
      "305:\tlearn: 1477.2946334\ttotal: 2m 36s\tremaining: 12m 20s\n",
      "306:\tlearn: 1476.9546322\ttotal: 2m 37s\tremaining: 12m 20s\n",
      "307:\tlearn: 1476.6129156\ttotal: 2m 38s\tremaining: 12m 20s\n",
      "308:\tlearn: 1476.3066670\ttotal: 2m 38s\tremaining: 12m 19s\n",
      "309:\tlearn: 1476.1496936\ttotal: 2m 39s\tremaining: 12m 19s\n",
      "310:\tlearn: 1475.6345328\ttotal: 2m 39s\tremaining: 12m 19s\n",
      "311:\tlearn: 1475.3303911\ttotal: 2m 40s\tremaining: 12m 18s\n",
      "312:\tlearn: 1475.0766901\ttotal: 2m 40s\tremaining: 12m 18s\n",
      "313:\tlearn: 1474.8078358\ttotal: 2m 41s\tremaining: 12m 17s\n",
      "314:\tlearn: 1474.1782891\ttotal: 2m 41s\tremaining: 12m 17s\n",
      "315:\tlearn: 1473.8985245\ttotal: 2m 42s\tremaining: 12m 17s\n",
      "316:\tlearn: 1473.3472558\ttotal: 2m 43s\tremaining: 12m 16s\n",
      "317:\tlearn: 1473.1544844\ttotal: 2m 43s\tremaining: 12m 17s\n",
      "318:\tlearn: 1472.9131076\ttotal: 2m 44s\tremaining: 12m 17s\n",
      "319:\tlearn: 1472.3677869\ttotal: 2m 45s\tremaining: 12m 17s\n",
      "320:\tlearn: 1471.9453236\ttotal: 2m 45s\tremaining: 12m 17s\n",
      "321:\tlearn: 1471.4480576\ttotal: 2m 46s\tremaining: 12m 17s\n",
      "322:\tlearn: 1471.2309346\ttotal: 2m 46s\tremaining: 12m 17s\n",
      "323:\tlearn: 1470.9432583\ttotal: 2m 47s\tremaining: 12m 16s\n",
      "324:\tlearn: 1470.4931052\ttotal: 2m 47s\tremaining: 12m 15s\n",
      "325:\tlearn: 1470.0717100\ttotal: 2m 48s\tremaining: 12m 15s\n",
      "326:\tlearn: 1469.3394180\ttotal: 2m 48s\tremaining: 12m 14s\n",
      "327:\tlearn: 1469.0059679\ttotal: 2m 49s\tremaining: 12m 14s\n",
      "328:\tlearn: 1468.6008309\ttotal: 2m 49s\tremaining: 12m 13s\n",
      "329:\tlearn: 1468.2212597\ttotal: 2m 50s\tremaining: 12m 12s\n",
      "330:\tlearn: 1467.8210028\ttotal: 2m 50s\tremaining: 12m 11s\n",
      "331:\tlearn: 1467.4834728\ttotal: 2m 51s\tremaining: 12m 11s\n",
      "332:\tlearn: 1467.2164610\ttotal: 2m 51s\tremaining: 12m 10s\n",
      "333:\tlearn: 1466.8072631\ttotal: 2m 52s\tremaining: 12m 10s\n",
      "334:\tlearn: 1466.4426946\ttotal: 2m 52s\tremaining: 12m 10s\n",
      "335:\tlearn: 1466.3470256\ttotal: 2m 53s\tremaining: 12m 9s\n",
      "336:\tlearn: 1465.8767182\ttotal: 2m 53s\tremaining: 12m 8s\n",
      "337:\tlearn: 1465.4827718\ttotal: 2m 54s\tremaining: 12m 8s\n",
      "338:\tlearn: 1465.2744103\ttotal: 2m 54s\tremaining: 12m 7s\n",
      "339:\tlearn: 1464.9224963\ttotal: 2m 55s\tremaining: 12m 7s\n",
      "340:\tlearn: 1464.4639167\ttotal: 2m 56s\tremaining: 12m 7s\n",
      "341:\tlearn: 1463.7991280\ttotal: 2m 56s\tremaining: 12m 6s\n",
      "342:\tlearn: 1463.3114839\ttotal: 2m 57s\tremaining: 12m 6s\n",
      "343:\tlearn: 1462.6016304\ttotal: 2m 57s\tremaining: 12m 6s\n",
      "344:\tlearn: 1462.3987768\ttotal: 2m 58s\tremaining: 12m 6s\n",
      "345:\tlearn: 1462.1423648\ttotal: 2m 58s\tremaining: 12m 6s\n",
      "346:\tlearn: 1461.7368132\ttotal: 2m 59s\tremaining: 12m 5s\n",
      "347:\tlearn: 1460.8961302\ttotal: 3m\tremaining: 12m 5s\n",
      "348:\tlearn: 1460.4322753\ttotal: 3m\tremaining: 12m 5s\n",
      "349:\tlearn: 1460.0457873\ttotal: 3m 1s\tremaining: 12m 5s\n",
      "350:\tlearn: 1459.8476887\ttotal: 3m 1s\tremaining: 12m 4s\n",
      "351:\tlearn: 1459.6178782\ttotal: 3m 2s\tremaining: 12m 4s\n",
      "352:\tlearn: 1458.9738931\ttotal: 3m 3s\tremaining: 12m 4s\n",
      "353:\tlearn: 1458.6917989\ttotal: 3m 3s\tremaining: 12m 4s\n",
      "354:\tlearn: 1458.2102649\ttotal: 3m 4s\tremaining: 12m 3s\n",
      "355:\tlearn: 1458.0664530\ttotal: 3m 4s\tremaining: 12m 3s\n",
      "356:\tlearn: 1457.9335703\ttotal: 3m 5s\tremaining: 12m 3s\n",
      "357:\tlearn: 1457.3500995\ttotal: 3m 5s\tremaining: 12m 2s\n",
      "358:\tlearn: 1456.7736223\ttotal: 3m 6s\tremaining: 12m 2s\n",
      "359:\tlearn: 1456.6011186\ttotal: 3m 7s\tremaining: 12m 2s\n",
      "360:\tlearn: 1456.0308659\ttotal: 3m 7s\tremaining: 12m 1s\n",
      "361:\tlearn: 1455.6300569\ttotal: 3m 8s\tremaining: 12m 1s\n",
      "362:\tlearn: 1455.4709786\ttotal: 3m 8s\tremaining: 12m 1s\n",
      "363:\tlearn: 1454.7099485\ttotal: 3m 9s\tremaining: 12m 1s\n",
      "364:\tlearn: 1454.5610055\ttotal: 3m 9s\tremaining: 12m\n",
      "365:\tlearn: 1454.3597465\ttotal: 3m 10s\tremaining: 12m\n",
      "366:\tlearn: 1454.0572015\ttotal: 3m 10s\tremaining: 11m 59s\n",
      "367:\tlearn: 1453.8912242\ttotal: 3m 11s\tremaining: 11m 58s\n",
      "368:\tlearn: 1453.6525968\ttotal: 3m 12s\tremaining: 11m 58s\n",
      "369:\tlearn: 1453.1345188\ttotal: 3m 12s\tremaining: 11m 58s\n",
      "370:\tlearn: 1452.8119890\ttotal: 3m 13s\tremaining: 11m 58s\n",
      "371:\tlearn: 1452.0294313\ttotal: 3m 13s\tremaining: 11m 58s\n",
      "372:\tlearn: 1451.8254038\ttotal: 3m 14s\tremaining: 11m 58s\n",
      "373:\tlearn: 1451.3862817\ttotal: 3m 15s\tremaining: 11m 58s\n",
      "374:\tlearn: 1450.9668680\ttotal: 3m 15s\tremaining: 11m 57s\n",
      "375:\tlearn: 1450.9064856\ttotal: 3m 16s\tremaining: 11m 57s\n",
      "376:\tlearn: 1450.5394685\ttotal: 3m 16s\tremaining: 11m 56s\n",
      "377:\tlearn: 1449.8683830\ttotal: 3m 17s\tremaining: 11m 56s\n",
      "378:\tlearn: 1449.5078120\ttotal: 3m 18s\tremaining: 11m 56s\n",
      "379:\tlearn: 1449.4288497\ttotal: 3m 18s\tremaining: 11m 55s\n",
      "380:\tlearn: 1448.8242767\ttotal: 3m 19s\tremaining: 11m 55s\n",
      "381:\tlearn: 1448.6657749\ttotal: 3m 19s\tremaining: 11m 54s\n",
      "382:\tlearn: 1448.4728811\ttotal: 3m 20s\tremaining: 11m 54s\n",
      "383:\tlearn: 1448.3132719\ttotal: 3m 20s\tremaining: 11m 54s\n",
      "384:\tlearn: 1448.1249541\ttotal: 3m 21s\tremaining: 11m 53s\n",
      "385:\tlearn: 1447.9372618\ttotal: 3m 21s\tremaining: 11m 53s\n",
      "386:\tlearn: 1447.6522881\ttotal: 3m 22s\tremaining: 11m 53s\n",
      "387:\tlearn: 1447.6134856\ttotal: 3m 23s\tremaining: 11m 52s\n",
      "388:\tlearn: 1447.3406437\ttotal: 3m 23s\tremaining: 11m 52s\n",
      "389:\tlearn: 1447.0287026\ttotal: 3m 24s\tremaining: 11m 52s\n",
      "390:\tlearn: 1446.8521506\ttotal: 3m 24s\tremaining: 11m 52s\n",
      "391:\tlearn: 1446.3651585\ttotal: 3m 25s\tremaining: 11m 51s\n",
      "392:\tlearn: 1445.7167444\ttotal: 3m 25s\tremaining: 11m 51s\n",
      "393:\tlearn: 1445.6062145\ttotal: 3m 26s\tremaining: 11m 50s\n",
      "394:\tlearn: 1444.8826574\ttotal: 3m 26s\tremaining: 11m 50s\n",
      "395:\tlearn: 1444.0168516\ttotal: 3m 27s\tremaining: 11m 49s\n",
      "396:\tlearn: 1443.7634622\ttotal: 3m 28s\tremaining: 11m 48s\n",
      "397:\tlearn: 1443.5337738\ttotal: 3m 28s\tremaining: 11m 48s\n",
      "398:\tlearn: 1443.1719035\ttotal: 3m 29s\tremaining: 11m 48s\n",
      "399:\tlearn: 1442.8905223\ttotal: 3m 29s\tremaining: 11m 47s\n",
      "400:\tlearn: 1442.6776535\ttotal: 3m 30s\tremaining: 11m 47s\n",
      "401:\tlearn: 1442.4103127\ttotal: 3m 30s\tremaining: 11m 46s\n",
      "402:\tlearn: 1442.2672599\ttotal: 3m 31s\tremaining: 11m 46s\n",
      "403:\tlearn: 1441.9946819\ttotal: 3m 31s\tremaining: 11m 45s\n",
      "404:\tlearn: 1441.4012855\ttotal: 3m 32s\tremaining: 11m 45s\n",
      "405:\tlearn: 1441.2631871\ttotal: 3m 32s\tremaining: 11m 44s\n",
      "406:\tlearn: 1441.1257918\ttotal: 3m 33s\tremaining: 11m 44s\n",
      "407:\tlearn: 1441.0475689\ttotal: 3m 33s\tremaining: 11m 43s\n",
      "408:\tlearn: 1440.8538986\ttotal: 3m 34s\tremaining: 11m 43s\n",
      "409:\tlearn: 1440.4940546\ttotal: 3m 35s\tremaining: 11m 42s\n",
      "410:\tlearn: 1439.8846695\ttotal: 3m 35s\tremaining: 11m 42s\n",
      "411:\tlearn: 1439.2462389\ttotal: 3m 36s\tremaining: 11m 41s\n",
      "412:\tlearn: 1438.7707882\ttotal: 3m 36s\tremaining: 11m 41s\n",
      "413:\tlearn: 1438.0449531\ttotal: 3m 37s\tremaining: 11m 40s\n",
      "414:\tlearn: 1437.5897321\ttotal: 3m 37s\tremaining: 11m 39s\n",
      "415:\tlearn: 1437.2104073\ttotal: 3m 38s\tremaining: 11m 39s\n",
      "416:\tlearn: 1437.0827979\ttotal: 3m 38s\tremaining: 11m 38s\n",
      "417:\tlearn: 1436.7457641\ttotal: 3m 39s\tremaining: 11m 38s\n",
      "418:\tlearn: 1436.1700738\ttotal: 3m 39s\tremaining: 11m 37s\n",
      "419:\tlearn: 1436.0574408\ttotal: 3m 40s\tremaining: 11m 37s\n",
      "420:\tlearn: 1435.8559319\ttotal: 3m 40s\tremaining: 11m 37s\n",
      "421:\tlearn: 1435.4000852\ttotal: 3m 41s\tremaining: 11m 36s\n",
      "422:\tlearn: 1434.9768699\ttotal: 3m 41s\tremaining: 11m 36s\n",
      "423:\tlearn: 1434.6519796\ttotal: 3m 42s\tremaining: 11m 35s\n",
      "424:\tlearn: 1434.1921021\ttotal: 3m 42s\tremaining: 11m 35s\n",
      "425:\tlearn: 1433.2258473\ttotal: 3m 43s\tremaining: 11m 34s\n",
      "426:\tlearn: 1433.1687930\ttotal: 3m 44s\tremaining: 11m 34s\n",
      "427:\tlearn: 1432.6537497\ttotal: 3m 44s\tremaining: 11m 33s\n",
      "428:\tlearn: 1432.5675361\ttotal: 3m 45s\tremaining: 11m 33s\n",
      "429:\tlearn: 1431.7667306\ttotal: 3m 45s\tremaining: 11m 33s\n",
      "430:\tlearn: 1431.3112988\ttotal: 3m 46s\tremaining: 11m 32s\n",
      "431:\tlearn: 1430.6973348\ttotal: 3m 46s\tremaining: 11m 32s\n",
      "432:\tlearn: 1430.6193969\ttotal: 3m 47s\tremaining: 11m 31s\n",
      "433:\tlearn: 1430.1724582\ttotal: 3m 47s\tremaining: 11m 31s\n",
      "434:\tlearn: 1429.9459716\ttotal: 3m 48s\tremaining: 11m 30s\n",
      "435:\tlearn: 1429.7435412\ttotal: 3m 49s\tremaining: 11m 30s\n",
      "436:\tlearn: 1429.2252934\ttotal: 3m 49s\tremaining: 11m 29s\n",
      "437:\tlearn: 1429.1756518\ttotal: 3m 50s\tremaining: 11m 29s\n",
      "438:\tlearn: 1428.8173474\ttotal: 3m 50s\tremaining: 11m 29s\n",
      "439:\tlearn: 1428.3405276\ttotal: 3m 51s\tremaining: 11m 28s\n",
      "440:\tlearn: 1428.1905601\ttotal: 3m 51s\tremaining: 11m 28s\n",
      "441:\tlearn: 1427.9400212\ttotal: 3m 52s\tremaining: 11m 27s\n",
      "442:\tlearn: 1427.7441858\ttotal: 3m 52s\tremaining: 11m 27s\n",
      "443:\tlearn: 1427.4860349\ttotal: 3m 53s\tremaining: 11m 26s\n",
      "444:\tlearn: 1427.2371274\ttotal: 3m 53s\tremaining: 11m 26s\n",
      "445:\tlearn: 1426.7044438\ttotal: 3m 54s\tremaining: 11m 25s\n",
      "446:\tlearn: 1426.5734458\ttotal: 3m 55s\tremaining: 11m 25s\n",
      "447:\tlearn: 1426.3271419\ttotal: 3m 55s\tremaining: 11m 24s\n",
      "448:\tlearn: 1426.1235808\ttotal: 3m 55s\tremaining: 11m 23s\n",
      "449:\tlearn: 1425.8105959\ttotal: 3m 56s\tremaining: 11m 23s\n",
      "450:\tlearn: 1425.6194605\ttotal: 3m 57s\tremaining: 11m 22s\n",
      "451:\tlearn: 1425.5220625\ttotal: 3m 57s\tremaining: 11m 22s\n",
      "452:\tlearn: 1425.2391416\ttotal: 3m 58s\tremaining: 11m 21s\n",
      "453:\tlearn: 1425.0249929\ttotal: 3m 58s\tremaining: 11m 21s\n",
      "454:\tlearn: 1424.8026636\ttotal: 3m 59s\tremaining: 11m 20s\n",
      "455:\tlearn: 1424.5312036\ttotal: 3m 59s\tremaining: 11m 20s\n",
      "456:\tlearn: 1423.9865291\ttotal: 4m\tremaining: 11m 19s\n",
      "457:\tlearn: 1423.3913570\ttotal: 4m\tremaining: 11m 19s\n",
      "458:\tlearn: 1422.9307011\ttotal: 4m 1s\tremaining: 11m 18s\n",
      "459:\tlearn: 1422.9228459\ttotal: 4m 1s\tremaining: 11m 17s\n",
      "460:\tlearn: 1422.7336004\ttotal: 4m 2s\tremaining: 11m 17s\n",
      "461:\tlearn: 1422.5850194\ttotal: 4m 2s\tremaining: 11m 16s\n",
      "462:\tlearn: 1421.6873219\ttotal: 4m 3s\tremaining: 11m 16s\n",
      "463:\tlearn: 1421.3174207\ttotal: 4m 3s\tremaining: 11m 15s\n",
      "464:\tlearn: 1420.8731048\ttotal: 4m 4s\tremaining: 11m 15s\n",
      "465:\tlearn: 1420.8617101\ttotal: 4m 4s\tremaining: 11m 14s\n",
      "466:\tlearn: 1420.3594087\ttotal: 4m 5s\tremaining: 11m 14s\n",
      "467:\tlearn: 1419.8444767\ttotal: 4m 5s\tremaining: 11m 13s\n",
      "468:\tlearn: 1419.4583958\ttotal: 4m 6s\tremaining: 11m 12s\n",
      "469:\tlearn: 1419.2653571\ttotal: 4m 6s\tremaining: 11m 12s\n",
      "470:\tlearn: 1419.0973966\ttotal: 4m 7s\tremaining: 11m 12s\n",
      "471:\tlearn: 1418.6268992\ttotal: 4m 7s\tremaining: 11m 11s\n",
      "472:\tlearn: 1418.1916845\ttotal: 4m 8s\tremaining: 11m 10s\n",
      "473:\tlearn: 1417.9496443\ttotal: 4m 8s\tremaining: 11m 10s\n",
      "474:\tlearn: 1417.4752961\ttotal: 4m 9s\tremaining: 11m 10s\n",
      "475:\tlearn: 1417.1192286\ttotal: 4m 10s\tremaining: 11m 9s\n",
      "476:\tlearn: 1416.9821880\ttotal: 4m 10s\tremaining: 11m 8s\n",
      "477:\tlearn: 1416.8409856\ttotal: 4m 11s\tremaining: 11m 8s\n",
      "478:\tlearn: 1416.6110386\ttotal: 4m 11s\tremaining: 11m 7s\n",
      "479:\tlearn: 1416.2461263\ttotal: 4m 12s\tremaining: 11m 7s\n",
      "480:\tlearn: 1415.9969307\ttotal: 4m 12s\tremaining: 11m 6s\n",
      "481:\tlearn: 1415.3450773\ttotal: 4m 13s\tremaining: 11m 6s\n",
      "482:\tlearn: 1414.7738593\ttotal: 4m 14s\tremaining: 11m 6s\n",
      "483:\tlearn: 1414.4206659\ttotal: 4m 14s\tremaining: 11m 6s\n",
      "484:\tlearn: 1414.1766507\ttotal: 4m 15s\tremaining: 11m 5s\n",
      "485:\tlearn: 1413.7385618\ttotal: 4m 15s\tremaining: 11m 5s\n",
      "486:\tlearn: 1413.5349431\ttotal: 4m 16s\tremaining: 11m 5s\n",
      "487:\tlearn: 1413.3147944\ttotal: 4m 16s\tremaining: 11m 4s\n",
      "488:\tlearn: 1413.1538824\ttotal: 4m 17s\tremaining: 11m 4s\n",
      "489:\tlearn: 1413.0404295\ttotal: 4m 18s\tremaining: 11m 3s\n",
      "490:\tlearn: 1412.8578755\ttotal: 4m 18s\tremaining: 11m 2s\n",
      "491:\tlearn: 1412.6705926\ttotal: 4m 19s\tremaining: 11m 2s\n",
      "492:\tlearn: 1412.3672974\ttotal: 4m 19s\tremaining: 11m 1s\n",
      "493:\tlearn: 1411.8689892\ttotal: 4m 20s\tremaining: 11m 1s\n",
      "494:\tlearn: 1411.7938884\ttotal: 4m 20s\tremaining: 11m\n",
      "495:\tlearn: 1411.4346311\ttotal: 4m 21s\tremaining: 11m\n",
      "496:\tlearn: 1411.0344223\ttotal: 4m 21s\tremaining: 10m 59s\n",
      "497:\tlearn: 1410.8518609\ttotal: 4m 22s\tremaining: 10m 59s\n",
      "498:\tlearn: 1410.6319551\ttotal: 4m 22s\tremaining: 10m 58s\n",
      "499:\tlearn: 1410.5593069\ttotal: 4m 23s\tremaining: 10m 58s\n",
      "500:\tlearn: 1410.2148592\ttotal: 4m 23s\tremaining: 10m 57s\n",
      "501:\tlearn: 1410.2051862\ttotal: 4m 24s\tremaining: 10m 57s\n",
      "502:\tlearn: 1410.0439549\ttotal: 4m 24s\tremaining: 10m 56s\n",
      "503:\tlearn: 1409.6022867\ttotal: 4m 25s\tremaining: 10m 56s\n",
      "504:\tlearn: 1409.0603693\ttotal: 4m 25s\tremaining: 10m 55s\n",
      "505:\tlearn: 1408.9583511\ttotal: 4m 26s\tremaining: 10m 55s\n",
      "506:\tlearn: 1408.7327639\ttotal: 4m 27s\tremaining: 10m 54s\n",
      "507:\tlearn: 1408.6002514\ttotal: 4m 27s\tremaining: 10m 53s\n",
      "508:\tlearn: 1408.4147074\ttotal: 4m 27s\tremaining: 10m 53s\n",
      "509:\tlearn: 1408.2894309\ttotal: 4m 28s\tremaining: 10m 53s\n",
      "510:\tlearn: 1408.1789776\ttotal: 4m 29s\tremaining: 10m 52s\n",
      "511:\tlearn: 1408.1119478\ttotal: 4m 29s\tremaining: 10m 52s\n",
      "512:\tlearn: 1407.8235586\ttotal: 4m 30s\tremaining: 10m 51s\n",
      "513:\tlearn: 1407.5158149\ttotal: 4m 30s\tremaining: 10m 51s\n",
      "514:\tlearn: 1407.2307099\ttotal: 4m 31s\tremaining: 10m 50s\n",
      "515:\tlearn: 1407.1154850\ttotal: 4m 31s\tremaining: 10m 50s\n",
      "516:\tlearn: 1406.3013734\ttotal: 4m 32s\tremaining: 10m 49s\n",
      "517:\tlearn: 1405.8917633\ttotal: 4m 32s\tremaining: 10m 49s\n",
      "518:\tlearn: 1405.8088281\ttotal: 4m 33s\tremaining: 10m 48s\n",
      "519:\tlearn: 1405.7148542\ttotal: 4m 34s\tremaining: 10m 48s\n",
      "520:\tlearn: 1405.5862288\ttotal: 4m 34s\tremaining: 10m 47s\n",
      "521:\tlearn: 1405.3817446\ttotal: 4m 35s\tremaining: 10m 47s\n",
      "522:\tlearn: 1405.2730071\ttotal: 4m 35s\tremaining: 10m 46s\n",
      "523:\tlearn: 1405.1370422\ttotal: 4m 36s\tremaining: 10m 46s\n",
      "524:\tlearn: 1405.0277544\ttotal: 4m 36s\tremaining: 10m 45s\n",
      "525:\tlearn: 1404.4998487\ttotal: 4m 37s\tremaining: 10m 45s\n",
      "526:\tlearn: 1404.2882949\ttotal: 4m 37s\tremaining: 10m 44s\n",
      "527:\tlearn: 1404.1919849\ttotal: 4m 38s\tremaining: 10m 43s\n",
      "528:\tlearn: 1403.9426453\ttotal: 4m 38s\tremaining: 10m 43s\n",
      "529:\tlearn: 1403.7002121\ttotal: 4m 39s\tremaining: 10m 43s\n",
      "530:\tlearn: 1403.3728475\ttotal: 4m 39s\tremaining: 10m 42s\n",
      "531:\tlearn: 1403.3199483\ttotal: 4m 40s\tremaining: 10m 42s\n",
      "532:\tlearn: 1403.0917281\ttotal: 4m 41s\tremaining: 10m 41s\n",
      "533:\tlearn: 1402.5854303\ttotal: 4m 41s\tremaining: 10m 41s\n",
      "534:\tlearn: 1402.2064676\ttotal: 4m 42s\tremaining: 10m 42s\n",
      "535:\tlearn: 1401.9554501\ttotal: 4m 43s\tremaining: 10m 42s\n",
      "536:\tlearn: 1401.7948827\ttotal: 4m 44s\tremaining: 10m 42s\n",
      "537:\tlearn: 1401.7489697\ttotal: 4m 45s\tremaining: 10m 43s\n",
      "538:\tlearn: 1401.4909681\ttotal: 4m 46s\tremaining: 10m 43s\n",
      "539:\tlearn: 1401.1730891\ttotal: 4m 46s\tremaining: 10m 42s\n",
      "540:\tlearn: 1401.0300383\ttotal: 4m 47s\tremaining: 10m 42s\n",
      "541:\tlearn: 1400.7629233\ttotal: 4m 48s\tremaining: 10m 42s\n",
      "542:\tlearn: 1400.4262212\ttotal: 4m 48s\tremaining: 10m 41s\n",
      "543:\tlearn: 1400.2252260\ttotal: 4m 49s\tremaining: 10m 41s\n",
      "544:\tlearn: 1400.0077276\ttotal: 4m 49s\tremaining: 10m 40s\n",
      "545:\tlearn: 1399.8599055\ttotal: 4m 50s\tremaining: 10m 40s\n",
      "546:\tlearn: 1399.6968751\ttotal: 4m 50s\tremaining: 10m 39s\n",
      "547:\tlearn: 1399.5691870\ttotal: 4m 51s\tremaining: 10m 38s\n",
      "548:\tlearn: 1399.5164222\ttotal: 4m 51s\tremaining: 10m 38s\n",
      "549:\tlearn: 1399.1704471\ttotal: 4m 52s\tremaining: 10m 37s\n",
      "550:\tlearn: 1398.9283475\ttotal: 4m 52s\tremaining: 10m 36s\n",
      "551:\tlearn: 1398.6656584\ttotal: 4m 53s\tremaining: 10m 36s\n",
      "552:\tlearn: 1398.3545012\ttotal: 4m 53s\tremaining: 10m 35s\n",
      "553:\tlearn: 1398.0838271\ttotal: 4m 54s\tremaining: 10m 35s\n",
      "554:\tlearn: 1397.7653189\ttotal: 4m 54s\tremaining: 10m 34s\n",
      "555:\tlearn: 1397.6293046\ttotal: 4m 55s\tremaining: 10m 34s\n",
      "556:\tlearn: 1397.3827092\ttotal: 4m 55s\tremaining: 10m 33s\n",
      "557:\tlearn: 1397.1591499\ttotal: 4m 56s\tremaining: 10m 33s\n",
      "558:\tlearn: 1396.7885004\ttotal: 4m 57s\tremaining: 10m 32s\n",
      "559:\tlearn: 1396.0240598\ttotal: 4m 57s\tremaining: 10m 32s\n",
      "560:\tlearn: 1395.8528563\ttotal: 4m 58s\tremaining: 10m 32s\n",
      "561:\tlearn: 1395.4152769\ttotal: 4m 58s\tremaining: 10m 31s\n",
      "562:\tlearn: 1395.1099714\ttotal: 4m 59s\tremaining: 10m 31s\n",
      "563:\tlearn: 1394.9779514\ttotal: 4m 59s\tremaining: 10m 30s\n",
      "564:\tlearn: 1394.8866568\ttotal: 5m\tremaining: 10m 30s\n",
      "565:\tlearn: 1394.6913368\ttotal: 5m 1s\tremaining: 10m 29s\n",
      "566:\tlearn: 1394.4870246\ttotal: 5m 1s\tremaining: 10m 29s\n",
      "567:\tlearn: 1394.3781463\ttotal: 5m 2s\tremaining: 10m 29s\n",
      "568:\tlearn: 1394.2223267\ttotal: 5m 2s\tremaining: 10m 28s\n",
      "569:\tlearn: 1393.7968574\ttotal: 5m 3s\tremaining: 10m 28s\n",
      "570:\tlearn: 1393.6382329\ttotal: 5m 4s\tremaining: 10m 27s\n",
      "571:\tlearn: 1393.5389816\ttotal: 5m 4s\tremaining: 10m 27s\n",
      "572:\tlearn: 1393.1773696\ttotal: 5m 5s\tremaining: 10m 26s\n",
      "573:\tlearn: 1392.9698717\ttotal: 5m 5s\tremaining: 10m 26s\n",
      "574:\tlearn: 1392.8404193\ttotal: 5m 6s\tremaining: 10m 26s\n",
      "575:\tlearn: 1392.3839466\ttotal: 5m 6s\tremaining: 10m 25s\n",
      "576:\tlearn: 1392.0620719\ttotal: 5m 7s\tremaining: 10m 25s\n",
      "577:\tlearn: 1391.9108468\ttotal: 5m 7s\tremaining: 10m 24s\n",
      "578:\tlearn: 1391.6985997\ttotal: 5m 8s\tremaining: 10m 24s\n",
      "579:\tlearn: 1391.4260885\ttotal: 5m 9s\tremaining: 10m 23s\n",
      "580:\tlearn: 1391.0414330\ttotal: 5m 9s\tremaining: 10m 22s\n",
      "581:\tlearn: 1390.8814819\ttotal: 5m 10s\tremaining: 10m 22s\n",
      "582:\tlearn: 1390.7284926\ttotal: 5m 10s\tremaining: 10m 21s\n",
      "583:\tlearn: 1390.4605197\ttotal: 5m 11s\tremaining: 10m 21s\n",
      "584:\tlearn: 1390.3792972\ttotal: 5m 11s\tremaining: 10m 20s\n",
      "585:\tlearn: 1389.9967299\ttotal: 5m 12s\tremaining: 10m 20s\n",
      "586:\tlearn: 1389.5353463\ttotal: 5m 12s\tremaining: 10m 19s\n",
      "587:\tlearn: 1389.3591894\ttotal: 5m 13s\tremaining: 10m 19s\n",
      "588:\tlearn: 1389.1961525\ttotal: 5m 14s\tremaining: 10m 19s\n",
      "589:\tlearn: 1389.0241824\ttotal: 5m 14s\tremaining: 10m 18s\n",
      "590:\tlearn: 1388.3836783\ttotal: 5m 15s\tremaining: 10m 18s\n",
      "591:\tlearn: 1388.2255443\ttotal: 5m 15s\tremaining: 10m 18s\n",
      "592:\tlearn: 1387.7501115\ttotal: 5m 16s\tremaining: 10m 17s\n",
      "593:\tlearn: 1387.4573993\ttotal: 5m 17s\tremaining: 10m 17s\n",
      "594:\tlearn: 1387.3901972\ttotal: 5m 17s\tremaining: 10m 16s\n",
      "595:\tlearn: 1387.2620444\ttotal: 5m 18s\tremaining: 10m 16s\n",
      "596:\tlearn: 1386.9317601\ttotal: 5m 18s\tremaining: 10m 15s\n",
      "597:\tlearn: 1386.8625882\ttotal: 5m 19s\tremaining: 10m 15s\n",
      "598:\tlearn: 1386.5141302\ttotal: 5m 19s\tremaining: 10m 14s\n",
      "599:\tlearn: 1386.3731492\ttotal: 5m 20s\tremaining: 10m 14s\n",
      "600:\tlearn: 1386.1995472\ttotal: 5m 21s\tremaining: 10m 14s\n",
      "601:\tlearn: 1385.5641542\ttotal: 5m 21s\tremaining: 10m 13s\n",
      "602:\tlearn: 1385.2319923\ttotal: 5m 22s\tremaining: 10m 13s\n",
      "603:\tlearn: 1385.1266996\ttotal: 5m 22s\tremaining: 10m 12s\n",
      "604:\tlearn: 1384.4302430\ttotal: 5m 23s\tremaining: 10m 12s\n",
      "605:\tlearn: 1384.2234335\ttotal: 5m 23s\tremaining: 10m 11s\n",
      "606:\tlearn: 1384.0536527\ttotal: 5m 24s\tremaining: 10m 11s\n",
      "607:\tlearn: 1383.7600896\ttotal: 5m 25s\tremaining: 10m 10s\n",
      "608:\tlearn: 1383.4551425\ttotal: 5m 25s\tremaining: 10m 9s\n",
      "609:\tlearn: 1383.2246055\ttotal: 5m 26s\tremaining: 10m 9s\n",
      "610:\tlearn: 1383.1713133\ttotal: 5m 26s\tremaining: 10m 8s\n",
      "611:\tlearn: 1382.7986089\ttotal: 5m 27s\tremaining: 10m 8s\n",
      "612:\tlearn: 1382.4852682\ttotal: 5m 27s\tremaining: 10m 7s\n",
      "613:\tlearn: 1382.3268541\ttotal: 5m 28s\tremaining: 10m 7s\n",
      "614:\tlearn: 1382.2419005\ttotal: 5m 28s\tremaining: 10m 7s\n",
      "615:\tlearn: 1382.0408680\ttotal: 5m 29s\tremaining: 10m 6s\n",
      "616:\tlearn: 1381.8878563\ttotal: 5m 30s\tremaining: 10m 5s\n",
      "617:\tlearn: 1381.7714059\ttotal: 5m 30s\tremaining: 10m 5s\n",
      "618:\tlearn: 1381.4265106\ttotal: 5m 30s\tremaining: 10m 4s\n",
      "619:\tlearn: 1381.2240427\ttotal: 5m 31s\tremaining: 10m 4s\n",
      "620:\tlearn: 1380.9722960\ttotal: 5m 31s\tremaining: 10m 3s\n",
      "621:\tlearn: 1380.7353629\ttotal: 5m 32s\tremaining: 10m 3s\n",
      "622:\tlearn: 1380.4226723\ttotal: 5m 33s\tremaining: 10m 2s\n",
      "623:\tlearn: 1379.9522262\ttotal: 5m 33s\tremaining: 10m 1s\n",
      "624:\tlearn: 1379.7800290\ttotal: 5m 34s\tremaining: 10m 1s\n",
      "625:\tlearn: 1379.6110651\ttotal: 5m 34s\tremaining: 10m 1s\n",
      "626:\tlearn: 1379.2561352\ttotal: 5m 35s\tremaining: 10m\n",
      "627:\tlearn: 1379.0874587\ttotal: 5m 36s\tremaining: 10m\n",
      "628:\tlearn: 1378.9319126\ttotal: 5m 36s\tremaining: 10m\n",
      "629:\tlearn: 1378.5811799\ttotal: 5m 37s\tremaining: 9m 59s\n",
      "630:\tlearn: 1378.4284950\ttotal: 5m 37s\tremaining: 9m 59s\n",
      "631:\tlearn: 1378.1267544\ttotal: 5m 38s\tremaining: 9m 58s\n",
      "632:\tlearn: 1378.1080038\ttotal: 5m 39s\tremaining: 9m 58s\n",
      "633:\tlearn: 1377.7755589\ttotal: 5m 39s\tremaining: 9m 58s\n",
      "634:\tlearn: 1377.6375324\ttotal: 5m 40s\tremaining: 9m 57s\n",
      "635:\tlearn: 1377.4135379\ttotal: 5m 40s\tremaining: 9m 57s\n",
      "636:\tlearn: 1377.1086997\ttotal: 5m 41s\tremaining: 9m 56s\n",
      "637:\tlearn: 1376.8091180\ttotal: 5m 42s\tremaining: 9m 56s\n",
      "638:\tlearn: 1376.4870625\ttotal: 5m 42s\tremaining: 9m 55s\n",
      "639:\tlearn: 1375.9695022\ttotal: 5m 43s\tremaining: 9m 55s\n",
      "640:\tlearn: 1375.6721485\ttotal: 5m 43s\tremaining: 9m 54s\n",
      "641:\tlearn: 1375.5419074\ttotal: 5m 44s\tremaining: 9m 54s\n",
      "642:\tlearn: 1375.4138907\ttotal: 5m 44s\tremaining: 9m 53s\n",
      "643:\tlearn: 1375.1000055\ttotal: 5m 45s\tremaining: 9m 53s\n",
      "644:\tlearn: 1374.9134152\ttotal: 5m 45s\tremaining: 9m 52s\n",
      "645:\tlearn: 1374.7948083\ttotal: 5m 46s\tremaining: 9m 52s\n",
      "646:\tlearn: 1374.5787869\ttotal: 5m 47s\tremaining: 9m 51s\n",
      "647:\tlearn: 1374.4218853\ttotal: 5m 47s\tremaining: 9m 51s\n",
      "648:\tlearn: 1374.3494046\ttotal: 5m 48s\tremaining: 9m 50s\n",
      "649:\tlearn: 1374.0688612\ttotal: 5m 48s\tremaining: 9m 50s\n",
      "650:\tlearn: 1374.0233428\ttotal: 5m 49s\tremaining: 9m 49s\n",
      "651:\tlearn: 1373.7559164\ttotal: 5m 49s\tremaining: 9m 49s\n",
      "652:\tlearn: 1373.5826670\ttotal: 5m 50s\tremaining: 9m 48s\n",
      "653:\tlearn: 1373.4481493\ttotal: 5m 51s\tremaining: 9m 48s\n",
      "654:\tlearn: 1373.3918405\ttotal: 5m 51s\tremaining: 9m 47s\n",
      "655:\tlearn: 1373.2706812\ttotal: 5m 52s\tremaining: 9m 47s\n",
      "656:\tlearn: 1373.2171520\ttotal: 5m 52s\tremaining: 9m 46s\n",
      "657:\tlearn: 1372.8928296\ttotal: 5m 53s\tremaining: 9m 46s\n",
      "658:\tlearn: 1372.7283600\ttotal: 5m 53s\tremaining: 9m 45s\n",
      "659:\tlearn: 1372.5562487\ttotal: 5m 54s\tremaining: 9m 45s\n",
      "660:\tlearn: 1372.4267667\ttotal: 5m 54s\tremaining: 9m 44s\n",
      "661:\tlearn: 1372.3076361\ttotal: 5m 55s\tremaining: 9m 44s\n",
      "662:\tlearn: 1372.1189118\ttotal: 5m 55s\tremaining: 9m 43s\n",
      "663:\tlearn: 1371.9941768\ttotal: 5m 56s\tremaining: 9m 43s\n",
      "664:\tlearn: 1371.9012750\ttotal: 5m 57s\tremaining: 9m 42s\n",
      "665:\tlearn: 1371.6446731\ttotal: 5m 57s\tremaining: 9m 42s\n",
      "666:\tlearn: 1371.4260922\ttotal: 5m 58s\tremaining: 9m 41s\n",
      "667:\tlearn: 1371.3299334\ttotal: 5m 58s\tremaining: 9m 41s\n",
      "668:\tlearn: 1370.5689674\ttotal: 5m 59s\tremaining: 9m 40s\n",
      "669:\tlearn: 1370.4016849\ttotal: 5m 59s\tremaining: 9m 39s\n",
      "670:\tlearn: 1370.2510352\ttotal: 6m\tremaining: 9m 39s\n",
      "671:\tlearn: 1369.9222044\ttotal: 6m 1s\tremaining: 9m 39s\n",
      "672:\tlearn: 1369.7797723\ttotal: 6m 1s\tremaining: 9m 38s\n",
      "673:\tlearn: 1369.5756061\ttotal: 6m 2s\tremaining: 9m 38s\n",
      "674:\tlearn: 1369.3899011\ttotal: 6m 2s\tremaining: 9m 37s\n",
      "675:\tlearn: 1369.3189038\ttotal: 6m 3s\tremaining: 9m 36s\n",
      "676:\tlearn: 1369.0658472\ttotal: 6m 3s\tremaining: 9m 36s\n",
      "677:\tlearn: 1368.8536604\ttotal: 6m 4s\tremaining: 9m 35s\n",
      "678:\tlearn: 1368.4525075\ttotal: 6m 4s\tremaining: 9m 35s\n",
      "679:\tlearn: 1368.4021756\ttotal: 6m 5s\tremaining: 9m 34s\n",
      "680:\tlearn: 1368.1307387\ttotal: 6m 5s\tremaining: 9m 34s\n",
      "681:\tlearn: 1367.9031440\ttotal: 6m 6s\tremaining: 9m 33s\n",
      "682:\tlearn: 1367.8167829\ttotal: 6m 7s\tremaining: 9m 33s\n",
      "683:\tlearn: 1367.7519261\ttotal: 6m 7s\tremaining: 9m 32s\n",
      "684:\tlearn: 1367.6584116\ttotal: 6m 8s\tremaining: 9m 32s\n",
      "685:\tlearn: 1367.5268274\ttotal: 6m 8s\tremaining: 9m 31s\n",
      "686:\tlearn: 1367.2540715\ttotal: 6m 9s\tremaining: 9m 31s\n",
      "687:\tlearn: 1366.9474039\ttotal: 6m 9s\tremaining: 9m 30s\n",
      "688:\tlearn: 1366.7582451\ttotal: 6m 10s\tremaining: 9m 30s\n",
      "689:\tlearn: 1366.4485661\ttotal: 6m 10s\tremaining: 9m 29s\n",
      "690:\tlearn: 1365.8736083\ttotal: 6m 11s\tremaining: 9m 28s\n",
      "691:\tlearn: 1365.5679380\ttotal: 6m 11s\tremaining: 9m 28s\n",
      "692:\tlearn: 1365.1744424\ttotal: 6m 12s\tremaining: 9m 27s\n",
      "693:\tlearn: 1364.8430673\ttotal: 6m 12s\tremaining: 9m 27s\n",
      "694:\tlearn: 1364.2797666\ttotal: 6m 13s\tremaining: 9m 26s\n",
      "695:\tlearn: 1364.1176416\ttotal: 6m 13s\tremaining: 9m 26s\n",
      "696:\tlearn: 1363.9251254\ttotal: 6m 14s\tremaining: 9m 25s\n",
      "697:\tlearn: 1363.5994104\ttotal: 6m 14s\tremaining: 9m 25s\n",
      "698:\tlearn: 1363.3999547\ttotal: 6m 15s\tremaining: 9m 24s\n",
      "699:\tlearn: 1363.2118284\ttotal: 6m 16s\tremaining: 9m 24s\n",
      "700:\tlearn: 1363.1009931\ttotal: 6m 16s\tremaining: 9m 23s\n",
      "701:\tlearn: 1362.7348398\ttotal: 6m 17s\tremaining: 9m 23s\n",
      "702:\tlearn: 1362.5372491\ttotal: 6m 17s\tremaining: 9m 22s\n",
      "703:\tlearn: 1362.2645466\ttotal: 6m 18s\tremaining: 9m 22s\n",
      "704:\tlearn: 1361.9753344\ttotal: 6m 19s\tremaining: 9m 22s\n",
      "705:\tlearn: 1361.6827210\ttotal: 6m 20s\tremaining: 9m 22s\n",
      "706:\tlearn: 1361.6578859\ttotal: 6m 20s\tremaining: 9m 21s\n",
      "707:\tlearn: 1361.5584649\ttotal: 6m 21s\tremaining: 9m 21s\n",
      "708:\tlearn: 1361.2814884\ttotal: 6m 21s\tremaining: 9m 20s\n",
      "709:\tlearn: 1361.0732285\ttotal: 6m 22s\tremaining: 9m 20s\n",
      "710:\tlearn: 1360.9113963\ttotal: 6m 22s\tremaining: 9m 19s\n",
      "711:\tlearn: 1360.6122327\ttotal: 6m 23s\tremaining: 9m 18s\n",
      "712:\tlearn: 1360.4045334\ttotal: 6m 23s\tremaining: 9m 18s\n",
      "713:\tlearn: 1360.0954646\ttotal: 6m 24s\tremaining: 9m 17s\n",
      "714:\tlearn: 1359.8853124\ttotal: 6m 25s\tremaining: 9m 17s\n",
      "715:\tlearn: 1359.6203160\ttotal: 6m 25s\tremaining: 9m 16s\n",
      "716:\tlearn: 1359.5248105\ttotal: 6m 26s\tremaining: 9m 16s\n",
      "717:\tlearn: 1359.2632967\ttotal: 6m 26s\tremaining: 9m 15s\n",
      "718:\tlearn: 1359.1185139\ttotal: 6m 27s\tremaining: 9m 15s\n",
      "719:\tlearn: 1359.0913761\ttotal: 6m 27s\tremaining: 9m 14s\n",
      "720:\tlearn: 1358.8957218\ttotal: 6m 28s\tremaining: 9m 14s\n",
      "721:\tlearn: 1358.2941206\ttotal: 6m 28s\tremaining: 9m 13s\n",
      "722:\tlearn: 1358.2726166\ttotal: 6m 29s\tremaining: 9m 12s\n",
      "723:\tlearn: 1357.9941524\ttotal: 6m 29s\tremaining: 9m 12s\n",
      "724:\tlearn: 1357.9653687\ttotal: 6m 30s\tremaining: 9m 11s\n",
      "725:\tlearn: 1357.7981461\ttotal: 6m 30s\tremaining: 9m 11s\n",
      "726:\tlearn: 1357.7548012\ttotal: 6m 31s\tremaining: 9m 10s\n",
      "727:\tlearn: 1357.5424976\ttotal: 6m 31s\tremaining: 9m 10s\n",
      "728:\tlearn: 1357.4064566\ttotal: 6m 32s\tremaining: 9m 9s\n",
      "729:\tlearn: 1357.2621872\ttotal: 6m 32s\tremaining: 9m 9s\n",
      "730:\tlearn: 1356.8822284\ttotal: 6m 33s\tremaining: 9m 8s\n",
      "731:\tlearn: 1356.8194717\ttotal: 6m 34s\tremaining: 9m 8s\n",
      "732:\tlearn: 1356.5830504\ttotal: 6m 34s\tremaining: 9m 7s\n",
      "733:\tlearn: 1356.5059949\ttotal: 6m 35s\tremaining: 9m 6s\n",
      "734:\tlearn: 1356.3829992\ttotal: 6m 35s\tremaining: 9m 6s\n",
      "735:\tlearn: 1356.1353863\ttotal: 6m 36s\tremaining: 9m 5s\n",
      "736:\tlearn: 1355.7573056\ttotal: 6m 36s\tremaining: 9m 5s\n",
      "737:\tlearn: 1355.5305036\ttotal: 6m 37s\tremaining: 9m 4s\n",
      "738:\tlearn: 1355.2577559\ttotal: 6m 37s\tremaining: 9m 4s\n",
      "739:\tlearn: 1355.0359046\ttotal: 6m 38s\tremaining: 9m 3s\n",
      "740:\tlearn: 1354.9311774\ttotal: 6m 38s\tremaining: 9m 2s\n",
      "741:\tlearn: 1354.7641623\ttotal: 6m 39s\tremaining: 9m 2s\n",
      "742:\tlearn: 1354.5504209\ttotal: 6m 39s\tremaining: 9m 1s\n",
      "743:\tlearn: 1354.2293865\ttotal: 6m 40s\tremaining: 9m 1s\n",
      "744:\tlearn: 1354.0926390\ttotal: 6m 40s\tremaining: 9m\n",
      "745:\tlearn: 1353.7591238\ttotal: 6m 41s\tremaining: 9m\n",
      "746:\tlearn: 1353.7335983\ttotal: 6m 42s\tremaining: 8m 59s\n",
      "747:\tlearn: 1353.4200681\ttotal: 6m 42s\tremaining: 8m 59s\n",
      "748:\tlearn: 1353.3596793\ttotal: 6m 43s\tremaining: 8m 58s\n",
      "749:\tlearn: 1352.8250686\ttotal: 6m 43s\tremaining: 8m 58s\n",
      "750:\tlearn: 1352.6177728\ttotal: 6m 44s\tremaining: 8m 58s\n",
      "751:\tlearn: 1352.1792953\ttotal: 6m 44s\tremaining: 8m 57s\n",
      "752:\tlearn: 1352.0465296\ttotal: 6m 45s\tremaining: 8m 56s\n",
      "753:\tlearn: 1351.8207239\ttotal: 6m 46s\tremaining: 8m 56s\n",
      "754:\tlearn: 1351.7444543\ttotal: 6m 46s\tremaining: 8m 55s\n",
      "755:\tlearn: 1351.4904515\ttotal: 6m 47s\tremaining: 8m 55s\n",
      "756:\tlearn: 1351.3652626\ttotal: 6m 47s\tremaining: 8m 54s\n",
      "757:\tlearn: 1351.2025168\ttotal: 6m 48s\tremaining: 8m 54s\n",
      "758:\tlearn: 1350.9834871\ttotal: 6m 48s\tremaining: 8m 53s\n",
      "759:\tlearn: 1350.8895035\ttotal: 6m 49s\tremaining: 8m 53s\n",
      "760:\tlearn: 1350.7841878\ttotal: 6m 50s\tremaining: 8m 52s\n",
      "761:\tlearn: 1350.6049212\ttotal: 6m 50s\tremaining: 8m 52s\n",
      "762:\tlearn: 1350.4522422\ttotal: 6m 51s\tremaining: 8m 51s\n",
      "763:\tlearn: 1350.3647605\ttotal: 6m 51s\tremaining: 8m 51s\n",
      "764:\tlearn: 1349.9178305\ttotal: 6m 52s\tremaining: 8m 50s\n",
      "765:\tlearn: 1349.7498260\ttotal: 6m 52s\tremaining: 8m 50s\n",
      "766:\tlearn: 1349.6695037\ttotal: 6m 53s\tremaining: 8m 49s\n",
      "767:\tlearn: 1349.4001070\ttotal: 6m 53s\tremaining: 8m 49s\n",
      "768:\tlearn: 1349.3761900\ttotal: 6m 54s\tremaining: 8m 48s\n",
      "769:\tlearn: 1349.3013451\ttotal: 6m 54s\tremaining: 8m 48s\n",
      "770:\tlearn: 1349.0835360\ttotal: 6m 55s\tremaining: 8m 47s\n",
      "771:\tlearn: 1348.9405132\ttotal: 6m 56s\tremaining: 8m 47s\n",
      "772:\tlearn: 1348.8077559\ttotal: 6m 56s\tremaining: 8m 46s\n",
      "773:\tlearn: 1348.6776791\ttotal: 6m 57s\tremaining: 8m 46s\n",
      "774:\tlearn: 1348.6429425\ttotal: 6m 57s\tremaining: 8m 45s\n",
      "775:\tlearn: 1348.4090981\ttotal: 6m 58s\tremaining: 8m 45s\n",
      "776:\tlearn: 1348.1783012\ttotal: 6m 59s\tremaining: 8m 44s\n",
      "777:\tlearn: 1347.9694534\ttotal: 6m 59s\tremaining: 8m 44s\n",
      "778:\tlearn: 1347.9114385\ttotal: 7m\tremaining: 8m 43s\n",
      "779:\tlearn: 1347.7064086\ttotal: 7m\tremaining: 8m 43s\n",
      "780:\tlearn: 1347.6121523\ttotal: 7m 1s\tremaining: 8m 42s\n",
      "781:\tlearn: 1347.4194896\ttotal: 7m 1s\tremaining: 8m 42s\n",
      "782:\tlearn: 1347.3179368\ttotal: 7m 2s\tremaining: 8m 41s\n",
      "783:\tlearn: 1347.1664230\ttotal: 7m 3s\tremaining: 8m 41s\n",
      "784:\tlearn: 1347.0629623\ttotal: 7m 3s\tremaining: 8m 40s\n",
      "785:\tlearn: 1346.9504550\ttotal: 7m 4s\tremaining: 8m 40s\n",
      "786:\tlearn: 1346.7053827\ttotal: 7m 4s\tremaining: 8m 39s\n",
      "787:\tlearn: 1346.5829348\ttotal: 7m 5s\tremaining: 8m 39s\n",
      "788:\tlearn: 1346.3580552\ttotal: 7m 5s\tremaining: 8m 38s\n",
      "789:\tlearn: 1346.2744684\ttotal: 7m 6s\tremaining: 8m 38s\n",
      "790:\tlearn: 1346.0938705\ttotal: 7m 7s\tremaining: 8m 37s\n",
      "791:\tlearn: 1345.9037181\ttotal: 7m 7s\tremaining: 8m 37s\n",
      "792:\tlearn: 1345.5427613\ttotal: 7m 8s\tremaining: 8m 37s\n",
      "793:\tlearn: 1345.4394808\ttotal: 7m 9s\tremaining: 8m 36s\n",
      "794:\tlearn: 1345.3508834\ttotal: 7m 9s\tremaining: 8m 36s\n",
      "795:\tlearn: 1345.0633169\ttotal: 7m 10s\tremaining: 8m 35s\n",
      "796:\tlearn: 1344.8438295\ttotal: 7m 10s\tremaining: 8m 35s\n",
      "797:\tlearn: 1344.6500686\ttotal: 7m 11s\tremaining: 8m 34s\n",
      "798:\tlearn: 1344.2992345\ttotal: 7m 11s\tremaining: 8m 34s\n",
      "799:\tlearn: 1344.1432288\ttotal: 7m 12s\tremaining: 8m 33s\n",
      "800:\tlearn: 1343.9993678\ttotal: 7m 13s\tremaining: 8m 33s\n",
      "801:\tlearn: 1343.6091238\ttotal: 7m 13s\tremaining: 8m 32s\n",
      "802:\tlearn: 1343.1526355\ttotal: 7m 14s\tremaining: 8m 32s\n",
      "803:\tlearn: 1343.0039272\ttotal: 7m 14s\tremaining: 8m 31s\n",
      "804:\tlearn: 1342.7936188\ttotal: 7m 15s\tremaining: 8m 31s\n",
      "805:\tlearn: 1342.5980228\ttotal: 7m 16s\tremaining: 8m 30s\n",
      "806:\tlearn: 1342.4397347\ttotal: 7m 16s\tremaining: 8m 30s\n",
      "807:\tlearn: 1342.1594271\ttotal: 7m 17s\tremaining: 8m 29s\n",
      "808:\tlearn: 1342.0687887\ttotal: 7m 17s\tremaining: 8m 29s\n",
      "809:\tlearn: 1341.3586913\ttotal: 7m 18s\tremaining: 8m 28s\n",
      "810:\tlearn: 1341.0388349\ttotal: 7m 18s\tremaining: 8m 28s\n",
      "811:\tlearn: 1340.9360149\ttotal: 7m 19s\tremaining: 8m 27s\n",
      "812:\tlearn: 1340.7288319\ttotal: 7m 20s\tremaining: 8m 27s\n",
      "813:\tlearn: 1340.3998929\ttotal: 7m 20s\tremaining: 8m 26s\n",
      "814:\tlearn: 1340.0817163\ttotal: 7m 21s\tremaining: 8m 26s\n",
      "815:\tlearn: 1339.8399011\ttotal: 7m 21s\tremaining: 8m 25s\n",
      "816:\tlearn: 1339.7359627\ttotal: 7m 22s\tremaining: 8m 25s\n",
      "817:\tlearn: 1339.4645162\ttotal: 7m 23s\tremaining: 8m 24s\n",
      "818:\tlearn: 1339.2271264\ttotal: 7m 23s\tremaining: 8m 24s\n",
      "819:\tlearn: 1339.0751230\ttotal: 7m 24s\tremaining: 8m 23s\n",
      "820:\tlearn: 1338.7559209\ttotal: 7m 24s\tremaining: 8m 23s\n",
      "821:\tlearn: 1338.5609131\ttotal: 7m 25s\tremaining: 8m 22s\n",
      "822:\tlearn: 1338.3725140\ttotal: 7m 25s\tremaining: 8m 22s\n",
      "823:\tlearn: 1338.2637098\ttotal: 7m 26s\tremaining: 8m 21s\n",
      "824:\tlearn: 1338.0522359\ttotal: 7m 26s\tremaining: 8m 21s\n",
      "825:\tlearn: 1337.9364057\ttotal: 7m 27s\tremaining: 8m 20s\n",
      "826:\tlearn: 1337.7912295\ttotal: 7m 28s\tremaining: 8m 20s\n",
      "827:\tlearn: 1337.6103380\ttotal: 7m 28s\tremaining: 8m 19s\n",
      "828:\tlearn: 1337.5254982\ttotal: 7m 29s\tremaining: 8m 19s\n",
      "829:\tlearn: 1337.3755714\ttotal: 7m 29s\tremaining: 8m 18s\n",
      "830:\tlearn: 1337.2143555\ttotal: 7m 30s\tremaining: 8m 18s\n",
      "831:\tlearn: 1336.9834263\ttotal: 7m 30s\tremaining: 8m 17s\n",
      "832:\tlearn: 1336.9196084\ttotal: 7m 31s\tremaining: 8m 17s\n",
      "833:\tlearn: 1336.7984039\ttotal: 7m 32s\tremaining: 8m 16s\n",
      "834:\tlearn: 1336.7625177\ttotal: 7m 32s\tremaining: 8m 15s\n",
      "835:\tlearn: 1336.6627834\ttotal: 7m 33s\tremaining: 8m 15s\n",
      "836:\tlearn: 1336.3411808\ttotal: 7m 33s\tremaining: 8m 14s\n",
      "837:\tlearn: 1336.1430227\ttotal: 7m 34s\tremaining: 8m 14s\n",
      "838:\tlearn: 1336.0359227\ttotal: 7m 34s\tremaining: 8m 13s\n",
      "839:\tlearn: 1335.8977371\ttotal: 7m 35s\tremaining: 8m 13s\n",
      "840:\tlearn: 1335.5684251\ttotal: 7m 35s\tremaining: 8m 12s\n",
      "841:\tlearn: 1335.4716889\ttotal: 7m 36s\tremaining: 8m 12s\n",
      "842:\tlearn: 1335.3295725\ttotal: 7m 36s\tremaining: 8m 11s\n",
      "843:\tlearn: 1335.1699176\ttotal: 7m 37s\tremaining: 8m 10s\n",
      "844:\tlearn: 1334.8819797\ttotal: 7m 37s\tremaining: 8m 10s\n",
      "845:\tlearn: 1334.7930101\ttotal: 7m 38s\tremaining: 8m 9s\n",
      "846:\tlearn: 1334.7590800\ttotal: 7m 38s\tremaining: 8m 9s\n",
      "847:\tlearn: 1334.6377513\ttotal: 7m 39s\tremaining: 8m 8s\n",
      "848:\tlearn: 1334.3745463\ttotal: 7m 39s\tremaining: 8m 8s\n",
      "849:\tlearn: 1334.2211246\ttotal: 7m 40s\tremaining: 8m 7s\n",
      "850:\tlearn: 1334.0914813\ttotal: 7m 40s\tremaining: 8m 6s\n",
      "851:\tlearn: 1333.8660585\ttotal: 7m 41s\tremaining: 8m 6s\n",
      "852:\tlearn: 1333.7306563\ttotal: 7m 42s\tremaining: 8m 5s\n",
      "853:\tlearn: 1333.7024233\ttotal: 7m 42s\tremaining: 8m 5s\n",
      "854:\tlearn: 1333.4431345\ttotal: 7m 43s\tremaining: 8m 4s\n",
      "855:\tlearn: 1333.2543285\ttotal: 7m 43s\tremaining: 8m 4s\n",
      "856:\tlearn: 1333.0726940\ttotal: 7m 44s\tremaining: 8m 3s\n",
      "857:\tlearn: 1332.9377772\ttotal: 7m 44s\tremaining: 8m 3s\n",
      "858:\tlearn: 1332.8468853\ttotal: 7m 45s\tremaining: 8m 2s\n",
      "859:\tlearn: 1332.7428193\ttotal: 7m 45s\tremaining: 8m 2s\n",
      "860:\tlearn: 1332.6742848\ttotal: 7m 46s\tremaining: 8m 1s\n",
      "861:\tlearn: 1332.5402153\ttotal: 7m 46s\tremaining: 8m 1s\n",
      "862:\tlearn: 1332.2718241\ttotal: 7m 47s\tremaining: 8m\n",
      "863:\tlearn: 1332.2176686\ttotal: 7m 48s\tremaining: 8m\n",
      "864:\tlearn: 1332.0709898\ttotal: 7m 48s\tremaining: 7m 59s\n",
      "865:\tlearn: 1331.9938031\ttotal: 7m 49s\tremaining: 7m 59s\n",
      "866:\tlearn: 1331.8962673\ttotal: 7m 49s\tremaining: 7m 58s\n",
      "867:\tlearn: 1331.8687372\ttotal: 7m 50s\tremaining: 7m 57s\n",
      "868:\tlearn: 1331.5305625\ttotal: 7m 50s\tremaining: 7m 57s\n",
      "869:\tlearn: 1331.2523304\ttotal: 7m 51s\tremaining: 7m 56s\n",
      "870:\tlearn: 1331.0485643\ttotal: 7m 51s\tremaining: 7m 56s\n",
      "871:\tlearn: 1330.8797153\ttotal: 7m 52s\tremaining: 7m 55s\n",
      "872:\tlearn: 1330.7841886\ttotal: 7m 53s\tremaining: 7m 55s\n",
      "873:\tlearn: 1330.7116751\ttotal: 7m 53s\tremaining: 7m 54s\n",
      "874:\tlearn: 1330.5479693\ttotal: 7m 54s\tremaining: 7m 54s\n",
      "875:\tlearn: 1330.2262458\ttotal: 7m 54s\tremaining: 7m 53s\n",
      "876:\tlearn: 1330.0097325\ttotal: 7m 55s\tremaining: 7m 52s\n",
      "877:\tlearn: 1329.9448628\ttotal: 7m 55s\tremaining: 7m 52s\n",
      "878:\tlearn: 1329.8260712\ttotal: 7m 56s\tremaining: 7m 51s\n",
      "879:\tlearn: 1329.5535274\ttotal: 7m 56s\tremaining: 7m 51s\n",
      "880:\tlearn: 1329.4459702\ttotal: 7m 57s\tremaining: 7m 50s\n",
      "881:\tlearn: 1329.2384514\ttotal: 7m 57s\tremaining: 7m 50s\n",
      "882:\tlearn: 1329.0697132\ttotal: 7m 58s\tremaining: 7m 49s\n",
      "883:\tlearn: 1328.8269526\ttotal: 7m 58s\tremaining: 7m 49s\n",
      "884:\tlearn: 1328.4218656\ttotal: 7m 59s\tremaining: 7m 48s\n",
      "885:\tlearn: 1328.2152627\ttotal: 7m 59s\tremaining: 7m 47s\n",
      "886:\tlearn: 1328.0382577\ttotal: 8m\tremaining: 7m 47s\n",
      "887:\tlearn: 1327.9417189\ttotal: 8m\tremaining: 7m 46s\n",
      "888:\tlearn: 1327.8110053\ttotal: 8m 1s\tremaining: 7m 46s\n",
      "889:\tlearn: 1327.4591836\ttotal: 8m 1s\tremaining: 7m 45s\n",
      "890:\tlearn: 1327.3494704\ttotal: 8m 2s\tremaining: 7m 45s\n",
      "891:\tlearn: 1327.1592777\ttotal: 8m 3s\tremaining: 7m 44s\n",
      "892:\tlearn: 1326.6496498\ttotal: 8m 3s\tremaining: 7m 44s\n",
      "893:\tlearn: 1326.3238817\ttotal: 8m 4s\tremaining: 7m 43s\n",
      "894:\tlearn: 1326.1448522\ttotal: 8m 4s\tremaining: 7m 42s\n",
      "895:\tlearn: 1325.7161397\ttotal: 8m 5s\tremaining: 7m 42s\n",
      "896:\tlearn: 1325.6187164\ttotal: 8m 5s\tremaining: 7m 41s\n",
      "897:\tlearn: 1325.3285741\ttotal: 8m 6s\tremaining: 7m 41s\n",
      "898:\tlearn: 1325.0940130\ttotal: 8m 6s\tremaining: 7m 40s\n",
      "899:\tlearn: 1324.9547775\ttotal: 8m 7s\tremaining: 7m 40s\n",
      "900:\tlearn: 1324.7699424\ttotal: 8m 7s\tremaining: 7m 39s\n",
      "901:\tlearn: 1324.5562079\ttotal: 8m 8s\tremaining: 7m 39s\n",
      "902:\tlearn: 1324.4786123\ttotal: 8m 9s\tremaining: 7m 38s\n",
      "903:\tlearn: 1324.1724048\ttotal: 8m 9s\tremaining: 7m 38s\n",
      "904:\tlearn: 1323.9669276\ttotal: 8m 10s\tremaining: 7m 37s\n",
      "905:\tlearn: 1323.8037067\ttotal: 8m 10s\tremaining: 7m 37s\n",
      "906:\tlearn: 1323.5307571\ttotal: 8m 11s\tremaining: 7m 36s\n",
      "907:\tlearn: 1323.3611206\ttotal: 8m 12s\tremaining: 7m 36s\n",
      "908:\tlearn: 1323.1221559\ttotal: 8m 12s\tremaining: 7m 35s\n",
      "909:\tlearn: 1322.8596677\ttotal: 8m 13s\tremaining: 7m 35s\n",
      "910:\tlearn: 1322.5395493\ttotal: 8m 13s\tremaining: 7m 34s\n",
      "911:\tlearn: 1322.1554509\ttotal: 8m 14s\tremaining: 7m 34s\n",
      "912:\tlearn: 1322.0326197\ttotal: 8m 14s\tremaining: 7m 33s\n",
      "913:\tlearn: 1321.8240518\ttotal: 8m 15s\tremaining: 7m 33s\n",
      "914:\tlearn: 1321.4241648\ttotal: 8m 15s\tremaining: 7m 32s\n",
      "915:\tlearn: 1321.1339586\ttotal: 8m 16s\tremaining: 7m 31s\n",
      "916:\tlearn: 1320.8794926\ttotal: 8m 16s\tremaining: 7m 31s\n",
      "917:\tlearn: 1320.7874436\ttotal: 8m 17s\tremaining: 7m 30s\n",
      "918:\tlearn: 1320.5050404\ttotal: 8m 18s\tremaining: 7m 30s\n",
      "919:\tlearn: 1320.4430243\ttotal: 8m 18s\tremaining: 7m 29s\n",
      "920:\tlearn: 1320.2054450\ttotal: 8m 19s\tremaining: 7m 29s\n",
      "921:\tlearn: 1320.1359945\ttotal: 8m 19s\tremaining: 7m 28s\n",
      "922:\tlearn: 1319.9914183\ttotal: 8m 20s\tremaining: 7m 28s\n",
      "923:\tlearn: 1319.7496172\ttotal: 8m 21s\tremaining: 7m 28s\n",
      "924:\tlearn: 1319.4448404\ttotal: 8m 21s\tremaining: 7m 27s\n",
      "925:\tlearn: 1319.3568647\ttotal: 8m 22s\tremaining: 7m 26s\n",
      "926:\tlearn: 1318.8821997\ttotal: 8m 22s\tremaining: 7m 26s\n",
      "927:\tlearn: 1318.7697357\ttotal: 8m 23s\tremaining: 7m 25s\n",
      "928:\tlearn: 1318.6921994\ttotal: 8m 23s\tremaining: 7m 25s\n",
      "929:\tlearn: 1318.6381431\ttotal: 8m 24s\tremaining: 7m 24s\n",
      "930:\tlearn: 1318.3722453\ttotal: 8m 24s\tremaining: 7m 24s\n",
      "931:\tlearn: 1318.1442489\ttotal: 8m 25s\tremaining: 7m 23s\n",
      "932:\tlearn: 1318.0402971\ttotal: 8m 26s\tremaining: 7m 23s\n",
      "933:\tlearn: 1317.8270070\ttotal: 8m 26s\tremaining: 7m 22s\n",
      "934:\tlearn: 1317.6427781\ttotal: 8m 27s\tremaining: 7m 22s\n",
      "935:\tlearn: 1317.4044625\ttotal: 8m 27s\tremaining: 7m 21s\n",
      "936:\tlearn: 1317.2497631\ttotal: 8m 28s\tremaining: 7m 21s\n",
      "937:\tlearn: 1316.8493313\ttotal: 8m 28s\tremaining: 7m 20s\n",
      "938:\tlearn: 1316.1175121\ttotal: 8m 29s\tremaining: 7m 20s\n",
      "939:\tlearn: 1315.9591098\ttotal: 8m 30s\tremaining: 7m 19s\n",
      "940:\tlearn: 1315.7732850\ttotal: 8m 30s\tremaining: 7m 19s\n",
      "941:\tlearn: 1315.5293263\ttotal: 8m 31s\tremaining: 7m 18s\n",
      "942:\tlearn: 1315.4606785\ttotal: 8m 32s\tremaining: 7m 18s\n",
      "943:\tlearn: 1315.4171775\ttotal: 8m 32s\tremaining: 7m 17s\n",
      "944:\tlearn: 1315.2675278\ttotal: 8m 33s\tremaining: 7m 17s\n",
      "945:\tlearn: 1315.0575504\ttotal: 8m 33s\tremaining: 7m 16s\n",
      "946:\tlearn: 1315.0218703\ttotal: 8m 34s\tremaining: 7m 16s\n",
      "947:\tlearn: 1314.8187600\ttotal: 8m 34s\tremaining: 7m 15s\n",
      "948:\tlearn: 1314.7567074\ttotal: 8m 35s\tremaining: 7m 15s\n",
      "949:\tlearn: 1314.6624595\ttotal: 8m 36s\tremaining: 7m 14s\n",
      "950:\tlearn: 1314.4792072\ttotal: 8m 36s\tremaining: 7m 13s\n",
      "951:\tlearn: 1314.3566516\ttotal: 8m 37s\tremaining: 7m 13s\n",
      "952:\tlearn: 1314.1780478\ttotal: 8m 37s\tremaining: 7m 12s\n",
      "953:\tlearn: 1314.0965629\ttotal: 8m 38s\tremaining: 7m 12s\n",
      "954:\tlearn: 1313.7974419\ttotal: 8m 38s\tremaining: 7m 11s\n",
      "955:\tlearn: 1313.7784145\ttotal: 8m 39s\tremaining: 7m 11s\n",
      "956:\tlearn: 1313.5655307\ttotal: 8m 39s\tremaining: 7m 10s\n",
      "957:\tlearn: 1313.4475907\ttotal: 8m 40s\tremaining: 7m 10s\n",
      "958:\tlearn: 1313.4219750\ttotal: 8m 40s\tremaining: 7m 9s\n",
      "959:\tlearn: 1313.1713523\ttotal: 8m 41s\tremaining: 7m 9s\n",
      "960:\tlearn: 1313.0712173\ttotal: 8m 42s\tremaining: 7m 8s\n",
      "961:\tlearn: 1312.8079832\ttotal: 8m 42s\tremaining: 7m 8s\n",
      "962:\tlearn: 1312.5577861\ttotal: 8m 43s\tremaining: 7m 7s\n",
      "963:\tlearn: 1312.3869202\ttotal: 8m 43s\tremaining: 7m 7s\n",
      "964:\tlearn: 1312.2202544\ttotal: 8m 44s\tremaining: 7m 6s\n",
      "965:\tlearn: 1312.0986197\ttotal: 8m 44s\tremaining: 7m 6s\n",
      "966:\tlearn: 1311.9641071\ttotal: 8m 45s\tremaining: 7m 5s\n",
      "967:\tlearn: 1311.7345870\ttotal: 8m 46s\tremaining: 7m 5s\n",
      "968:\tlearn: 1311.6391416\ttotal: 8m 46s\tremaining: 7m 4s\n",
      "969:\tlearn: 1311.5625040\ttotal: 8m 47s\tremaining: 7m 4s\n",
      "970:\tlearn: 1311.4191746\ttotal: 8m 47s\tremaining: 7m 3s\n",
      "971:\tlearn: 1311.3038908\ttotal: 8m 48s\tremaining: 7m 2s\n",
      "972:\tlearn: 1311.1716739\ttotal: 8m 48s\tremaining: 7m 2s\n",
      "973:\tlearn: 1311.0853001\ttotal: 8m 49s\tremaining: 7m 1s\n",
      "974:\tlearn: 1310.9669441\ttotal: 8m 50s\tremaining: 7m 1s\n",
      "975:\tlearn: 1310.9057877\ttotal: 8m 50s\tremaining: 7m\n",
      "976:\tlearn: 1310.7110519\ttotal: 8m 51s\tremaining: 7m\n",
      "977:\tlearn: 1310.5834046\ttotal: 8m 51s\tremaining: 6m 59s\n",
      "978:\tlearn: 1310.4163431\ttotal: 8m 52s\tremaining: 6m 59s\n",
      "979:\tlearn: 1310.2612720\ttotal: 8m 52s\tremaining: 6m 58s\n",
      "980:\tlearn: 1310.0875527\ttotal: 8m 53s\tremaining: 6m 58s\n",
      "981:\tlearn: 1309.8546569\ttotal: 8m 54s\tremaining: 6m 57s\n",
      "982:\tlearn: 1309.8021000\ttotal: 8m 54s\tremaining: 6m 57s\n",
      "983:\tlearn: 1309.7230186\ttotal: 8m 55s\tremaining: 6m 56s\n",
      "984:\tlearn: 1309.4021304\ttotal: 8m 55s\tremaining: 6m 56s\n",
      "985:\tlearn: 1309.0895949\ttotal: 8m 56s\tremaining: 6m 55s\n",
      "986:\tlearn: 1308.9287237\ttotal: 8m 56s\tremaining: 6m 54s\n",
      "987:\tlearn: 1308.8845166\ttotal: 8m 57s\tremaining: 6m 54s\n",
      "988:\tlearn: 1308.8134988\ttotal: 8m 57s\tremaining: 6m 53s\n",
      "989:\tlearn: 1308.7280823\ttotal: 8m 58s\tremaining: 6m 53s\n",
      "990:\tlearn: 1308.5334035\ttotal: 8m 59s\tremaining: 6m 52s\n",
      "991:\tlearn: 1308.4724668\ttotal: 8m 59s\tremaining: 6m 52s\n",
      "992:\tlearn: 1308.3386194\ttotal: 9m\tremaining: 6m 51s\n",
      "993:\tlearn: 1308.1327321\ttotal: 9m\tremaining: 6m 51s\n",
      "994:\tlearn: 1307.9762985\ttotal: 9m 1s\tremaining: 6m 50s\n",
      "995:\tlearn: 1307.5098962\ttotal: 9m 1s\tremaining: 6m 50s\n",
      "996:\tlearn: 1307.3334520\ttotal: 9m 2s\tremaining: 6m 49s\n",
      "997:\tlearn: 1307.2141353\ttotal: 9m 3s\tremaining: 6m 49s\n",
      "998:\tlearn: 1307.1098735\ttotal: 9m 3s\tremaining: 6m 48s\n",
      "999:\tlearn: 1307.0877279\ttotal: 9m 4s\tremaining: 6m 48s\n",
      "1000:\tlearn: 1306.9355251\ttotal: 9m 5s\tremaining: 6m 47s\n",
      "1001:\tlearn: 1306.6509182\ttotal: 9m 5s\tremaining: 6m 47s\n",
      "1002:\tlearn: 1306.4738332\ttotal: 9m 6s\tremaining: 6m 46s\n",
      "1003:\tlearn: 1306.3177095\ttotal: 9m 6s\tremaining: 6m 46s\n",
      "1004:\tlearn: 1306.1490526\ttotal: 9m 7s\tremaining: 6m 45s\n",
      "1005:\tlearn: 1305.9128407\ttotal: 9m 7s\tremaining: 6m 45s\n",
      "1006:\tlearn: 1305.7013786\ttotal: 9m 8s\tremaining: 6m 44s\n",
      "1007:\tlearn: 1305.4632659\ttotal: 9m 9s\tremaining: 6m 44s\n",
      "1008:\tlearn: 1305.2052755\ttotal: 9m 9s\tremaining: 6m 43s\n",
      "1009:\tlearn: 1305.0201477\ttotal: 9m 10s\tremaining: 6m 43s\n",
      "1010:\tlearn: 1304.9674103\ttotal: 9m 10s\tremaining: 6m 42s\n",
      "1011:\tlearn: 1304.9530619\ttotal: 9m 11s\tremaining: 6m 41s\n",
      "1012:\tlearn: 1304.8800033\ttotal: 9m 11s\tremaining: 6m 41s\n",
      "1013:\tlearn: 1304.8259069\ttotal: 9m 12s\tremaining: 6m 40s\n",
      "1014:\tlearn: 1304.7283902\ttotal: 9m 12s\tremaining: 6m 40s\n",
      "1015:\tlearn: 1304.4948131\ttotal: 9m 13s\tremaining: 6m 39s\n",
      "1016:\tlearn: 1304.3641186\ttotal: 9m 13s\tremaining: 6m 39s\n",
      "1017:\tlearn: 1304.2703400\ttotal: 9m 14s\tremaining: 6m 38s\n",
      "1018:\tlearn: 1304.1379410\ttotal: 9m 14s\tremaining: 6m 38s\n",
      "1019:\tlearn: 1304.0681252\ttotal: 9m 15s\tremaining: 6m 37s\n",
      "1020:\tlearn: 1303.9970887\ttotal: 9m 16s\tremaining: 6m 37s\n",
      "1021:\tlearn: 1303.8478301\ttotal: 9m 16s\tremaining: 6m 36s\n",
      "1022:\tlearn: 1303.7088976\ttotal: 9m 17s\tremaining: 6m 36s\n",
      "1023:\tlearn: 1303.5223148\ttotal: 9m 17s\tremaining: 6m 35s\n",
      "1024:\tlearn: 1303.3836088\ttotal: 9m 18s\tremaining: 6m 34s\n",
      "1025:\tlearn: 1303.3103952\ttotal: 9m 18s\tremaining: 6m 34s\n",
      "1026:\tlearn: 1303.2006588\ttotal: 9m 19s\tremaining: 6m 33s\n",
      "1027:\tlearn: 1302.9886917\ttotal: 9m 20s\tremaining: 6m 33s\n",
      "1028:\tlearn: 1302.7483125\ttotal: 9m 20s\tremaining: 6m 32s\n",
      "1029:\tlearn: 1302.6274233\ttotal: 9m 21s\tremaining: 6m 32s\n",
      "1030:\tlearn: 1302.5375274\ttotal: 9m 21s\tremaining: 6m 31s\n",
      "1031:\tlearn: 1302.4235983\ttotal: 9m 22s\tremaining: 6m 31s\n",
      "1032:\tlearn: 1302.2916611\ttotal: 9m 22s\tremaining: 6m 30s\n",
      "1033:\tlearn: 1302.2808701\ttotal: 9m 23s\tremaining: 6m 30s\n",
      "1034:\tlearn: 1302.1022866\ttotal: 9m 23s\tremaining: 6m 29s\n",
      "1035:\tlearn: 1302.0284831\ttotal: 9m 24s\tremaining: 6m 28s\n",
      "1036:\tlearn: 1301.6103723\ttotal: 9m 25s\tremaining: 6m 28s\n",
      "1037:\tlearn: 1301.4309823\ttotal: 9m 25s\tremaining: 6m 27s\n",
      "1038:\tlearn: 1301.2694769\ttotal: 9m 26s\tremaining: 6m 27s\n",
      "1039:\tlearn: 1301.1754993\ttotal: 9m 26s\tremaining: 6m 26s\n",
      "1040:\tlearn: 1301.0546166\ttotal: 9m 27s\tremaining: 6m 26s\n",
      "1041:\tlearn: 1300.8889608\ttotal: 9m 27s\tremaining: 6m 25s\n",
      "1042:\tlearn: 1300.6789283\ttotal: 9m 28s\tremaining: 6m 25s\n",
      "1043:\tlearn: 1300.5669419\ttotal: 9m 29s\tremaining: 6m 24s\n",
      "1044:\tlearn: 1300.3969290\ttotal: 9m 29s\tremaining: 6m 24s\n",
      "1045:\tlearn: 1299.9068667\ttotal: 9m 30s\tremaining: 6m 23s\n",
      "1046:\tlearn: 1299.8173542\ttotal: 9m 30s\tremaining: 6m 23s\n",
      "1047:\tlearn: 1299.7274545\ttotal: 9m 31s\tremaining: 6m 22s\n",
      "1048:\tlearn: 1299.4735287\ttotal: 9m 31s\tremaining: 6m 22s\n",
      "1049:\tlearn: 1299.3977180\ttotal: 9m 32s\tremaining: 6m 21s\n",
      "1050:\tlearn: 1299.3556836\ttotal: 9m 32s\tremaining: 6m 21s\n",
      "1051:\tlearn: 1298.9864923\ttotal: 9m 33s\tremaining: 6m 20s\n",
      "1052:\tlearn: 1298.8293701\ttotal: 9m 33s\tremaining: 6m 19s\n",
      "1053:\tlearn: 1298.7179277\ttotal: 9m 34s\tremaining: 6m 19s\n",
      "1054:\tlearn: 1298.3485069\ttotal: 9m 34s\tremaining: 6m 18s\n",
      "1055:\tlearn: 1298.2353504\ttotal: 9m 35s\tremaining: 6m 18s\n",
      "1056:\tlearn: 1298.0897639\ttotal: 9m 36s\tremaining: 6m 17s\n",
      "1057:\tlearn: 1297.9715984\ttotal: 9m 36s\tremaining: 6m 17s\n",
      "1058:\tlearn: 1297.8247407\ttotal: 9m 37s\tremaining: 6m 16s\n",
      "1059:\tlearn: 1297.7078711\ttotal: 9m 37s\tremaining: 6m 16s\n",
      "1060:\tlearn: 1297.6730798\ttotal: 9m 38s\tremaining: 6m 15s\n",
      "1061:\tlearn: 1297.5193572\ttotal: 9m 38s\tremaining: 6m 14s\n",
      "1062:\tlearn: 1297.4409623\ttotal: 9m 39s\tremaining: 6m 14s\n",
      "1063:\tlearn: 1297.3813224\ttotal: 9m 39s\tremaining: 6m 13s\n",
      "1064:\tlearn: 1297.3150918\ttotal: 9m 40s\tremaining: 6m 13s\n",
      "1065:\tlearn: 1297.0992960\ttotal: 9m 40s\tremaining: 6m 12s\n",
      "1066:\tlearn: 1296.9503194\ttotal: 9m 41s\tremaining: 6m 12s\n",
      "1067:\tlearn: 1296.8514711\ttotal: 9m 42s\tremaining: 6m 11s\n",
      "1068:\tlearn: 1296.8325880\ttotal: 9m 42s\tremaining: 6m 11s\n",
      "1069:\tlearn: 1296.7702209\ttotal: 9m 43s\tremaining: 6m 10s\n",
      "1070:\tlearn: 1296.3605641\ttotal: 9m 43s\tremaining: 6m 10s\n",
      "1071:\tlearn: 1296.0460700\ttotal: 9m 44s\tremaining: 6m 9s\n",
      "1072:\tlearn: 1295.9129489\ttotal: 9m 45s\tremaining: 6m 9s\n",
      "1073:\tlearn: 1295.5923759\ttotal: 9m 45s\tremaining: 6m 8s\n",
      "1074:\tlearn: 1295.2956098\ttotal: 9m 46s\tremaining: 6m 8s\n",
      "1075:\tlearn: 1295.1933198\ttotal: 9m 46s\tremaining: 6m 7s\n",
      "1076:\tlearn: 1295.1563383\ttotal: 9m 47s\tremaining: 6m 7s\n",
      "1077:\tlearn: 1295.0623165\ttotal: 9m 48s\tremaining: 6m 6s\n",
      "1078:\tlearn: 1295.0555638\ttotal: 9m 48s\tremaining: 6m 6s\n",
      "1079:\tlearn: 1295.0070449\ttotal: 9m 49s\tremaining: 6m 5s\n",
      "1080:\tlearn: 1294.9232424\ttotal: 9m 49s\tremaining: 6m 4s\n",
      "1081:\tlearn: 1294.8939323\ttotal: 9m 50s\tremaining: 6m 4s\n",
      "1082:\tlearn: 1294.7796246\ttotal: 9m 50s\tremaining: 6m 3s\n",
      "1083:\tlearn: 1294.4966043\ttotal: 9m 51s\tremaining: 6m 3s\n",
      "1084:\tlearn: 1294.4149257\ttotal: 9m 51s\tremaining: 6m 2s\n",
      "1085:\tlearn: 1294.3737639\ttotal: 9m 52s\tremaining: 6m 2s\n",
      "1086:\tlearn: 1294.2326622\ttotal: 9m 52s\tremaining: 6m 1s\n",
      "1087:\tlearn: 1294.1282228\ttotal: 9m 53s\tremaining: 6m 1s\n",
      "1088:\tlearn: 1294.0979888\ttotal: 9m 54s\tremaining: 6m\n",
      "1089:\tlearn: 1294.0038605\ttotal: 9m 54s\tremaining: 6m\n",
      "1090:\tlearn: 1293.9600757\ttotal: 9m 55s\tremaining: 5m 59s\n",
      "1091:\tlearn: 1293.7154451\ttotal: 9m 55s\tremaining: 5m 58s\n",
      "1092:\tlearn: 1293.5576507\ttotal: 9m 56s\tremaining: 5m 58s\n",
      "1093:\tlearn: 1293.4936843\ttotal: 9m 57s\tremaining: 5m 58s\n",
      "1094:\tlearn: 1293.3856254\ttotal: 9m 57s\tremaining: 5m 57s\n",
      "1095:\tlearn: 1293.2763484\ttotal: 9m 58s\tremaining: 5m 57s\n",
      "1096:\tlearn: 1293.1539161\ttotal: 9m 58s\tremaining: 5m 56s\n",
      "1097:\tlearn: 1293.0924130\ttotal: 9m 59s\tremaining: 5m 55s\n",
      "1098:\tlearn: 1292.8146052\ttotal: 9m 59s\tremaining: 5m 55s\n",
      "1099:\tlearn: 1292.7982971\ttotal: 10m\tremaining: 5m 54s\n",
      "1100:\tlearn: 1292.5615498\ttotal: 10m\tremaining: 5m 54s\n",
      "1101:\tlearn: 1292.3972792\ttotal: 10m 1s\tremaining: 5m 53s\n",
      "1102:\tlearn: 1292.2234972\ttotal: 10m 1s\tremaining: 5m 53s\n",
      "1103:\tlearn: 1292.1814220\ttotal: 10m 2s\tremaining: 5m 52s\n",
      "1104:\tlearn: 1291.9214117\ttotal: 10m 2s\tremaining: 5m 51s\n",
      "1105:\tlearn: 1291.7807369\ttotal: 10m 3s\tremaining: 5m 51s\n",
      "1106:\tlearn: 1291.6597734\ttotal: 10m 3s\tremaining: 5m 50s\n",
      "1107:\tlearn: 1291.4734435\ttotal: 10m 4s\tremaining: 5m 50s\n",
      "1108:\tlearn: 1291.3039624\ttotal: 10m 4s\tremaining: 5m 49s\n",
      "1109:\tlearn: 1291.1506419\ttotal: 10m 5s\tremaining: 5m 49s\n",
      "1110:\tlearn: 1291.0614247\ttotal: 10m 6s\tremaining: 5m 48s\n",
      "1111:\tlearn: 1290.9837612\ttotal: 10m 6s\tremaining: 5m 48s\n",
      "1112:\tlearn: 1290.8815804\ttotal: 10m 7s\tremaining: 5m 47s\n",
      "1113:\tlearn: 1290.5801711\ttotal: 10m 7s\tremaining: 5m 46s\n",
      "1114:\tlearn: 1290.5279444\ttotal: 10m 8s\tremaining: 5m 46s\n",
      "1115:\tlearn: 1290.4709941\ttotal: 10m 8s\tremaining: 5m 45s\n",
      "1116:\tlearn: 1290.4073193\ttotal: 10m 9s\tremaining: 5m 45s\n",
      "1117:\tlearn: 1290.2473393\ttotal: 10m 9s\tremaining: 5m 44s\n",
      "1118:\tlearn: 1290.0714971\ttotal: 10m 10s\tremaining: 5m 44s\n",
      "1119:\tlearn: 1289.8452379\ttotal: 10m 10s\tremaining: 5m 43s\n",
      "1120:\tlearn: 1289.6936397\ttotal: 10m 11s\tremaining: 5m 43s\n",
      "1121:\tlearn: 1289.6228702\ttotal: 10m 11s\tremaining: 5m 42s\n",
      "1122:\tlearn: 1289.4207413\ttotal: 10m 12s\tremaining: 5m 41s\n",
      "1123:\tlearn: 1289.2743483\ttotal: 10m 13s\tremaining: 5m 41s\n",
      "1124:\tlearn: 1288.9222682\ttotal: 10m 13s\tremaining: 5m 40s\n",
      "1125:\tlearn: 1288.4452267\ttotal: 10m 14s\tremaining: 5m 40s\n",
      "1126:\tlearn: 1288.2472472\ttotal: 10m 14s\tremaining: 5m 39s\n",
      "1127:\tlearn: 1288.2440888\ttotal: 10m 15s\tremaining: 5m 39s\n",
      "1128:\tlearn: 1288.0869815\ttotal: 10m 16s\tremaining: 5m 38s\n",
      "1129:\tlearn: 1287.9442408\ttotal: 10m 16s\tremaining: 5m 38s\n",
      "1130:\tlearn: 1287.7221426\ttotal: 10m 17s\tremaining: 5m 37s\n",
      "1131:\tlearn: 1287.5993887\ttotal: 10m 17s\tremaining: 5m 37s\n",
      "1132:\tlearn: 1287.5236181\ttotal: 10m 18s\tremaining: 5m 36s\n",
      "1133:\tlearn: 1287.1939269\ttotal: 10m 18s\tremaining: 5m 36s\n",
      "1134:\tlearn: 1286.8868924\ttotal: 10m 19s\tremaining: 5m 35s\n",
      "1135:\tlearn: 1286.7286729\ttotal: 10m 20s\tremaining: 5m 35s\n",
      "1136:\tlearn: 1286.7035004\ttotal: 10m 20s\tremaining: 5m 34s\n",
      "1137:\tlearn: 1286.4443976\ttotal: 10m 21s\tremaining: 5m 34s\n",
      "1138:\tlearn: 1286.4400691\ttotal: 10m 21s\tremaining: 5m 33s\n",
      "1139:\tlearn: 1286.3021620\ttotal: 10m 22s\tremaining: 5m 32s\n",
      "1140:\tlearn: 1286.1728646\ttotal: 10m 22s\tremaining: 5m 32s\n",
      "1141:\tlearn: 1285.8487729\ttotal: 10m 23s\tremaining: 5m 31s\n",
      "1142:\tlearn: 1285.6416753\ttotal: 10m 23s\tremaining: 5m 31s\n",
      "1143:\tlearn: 1285.3195073\ttotal: 10m 24s\tremaining: 5m 30s\n",
      "1144:\tlearn: 1285.2025055\ttotal: 10m 24s\tremaining: 5m 30s\n",
      "1145:\tlearn: 1284.9125822\ttotal: 10m 25s\tremaining: 5m 29s\n",
      "1146:\tlearn: 1284.8742866\ttotal: 10m 25s\tremaining: 5m 29s\n",
      "1147:\tlearn: 1284.5934288\ttotal: 10m 26s\tremaining: 5m 28s\n",
      "1148:\tlearn: 1284.4376798\ttotal: 10m 27s\tremaining: 5m 27s\n",
      "1149:\tlearn: 1284.2903552\ttotal: 10m 27s\tremaining: 5m 27s\n",
      "1150:\tlearn: 1284.1955923\ttotal: 10m 28s\tremaining: 5m 26s\n",
      "1151:\tlearn: 1284.0782681\ttotal: 10m 28s\tremaining: 5m 26s\n",
      "1152:\tlearn: 1283.9955396\ttotal: 10m 29s\tremaining: 5m 25s\n",
      "1153:\tlearn: 1283.7219978\ttotal: 10m 29s\tremaining: 5m 25s\n",
      "1154:\tlearn: 1283.5598023\ttotal: 10m 30s\tremaining: 5m 24s\n",
      "1155:\tlearn: 1283.3824812\ttotal: 10m 30s\tremaining: 5m 24s\n",
      "1156:\tlearn: 1283.2415211\ttotal: 10m 31s\tremaining: 5m 23s\n",
      "1157:\tlearn: 1283.0356048\ttotal: 10m 31s\tremaining: 5m 22s\n",
      "1158:\tlearn: 1282.9111354\ttotal: 10m 32s\tremaining: 5m 22s\n",
      "1159:\tlearn: 1282.8032473\ttotal: 10m 32s\tremaining: 5m 21s\n",
      "1160:\tlearn: 1282.6566283\ttotal: 10m 33s\tremaining: 5m 21s\n",
      "1161:\tlearn: 1282.4928349\ttotal: 10m 33s\tremaining: 5m 20s\n",
      "1162:\tlearn: 1282.3142622\ttotal: 10m 34s\tremaining: 5m 20s\n",
      "1163:\tlearn: 1282.0718003\ttotal: 10m 34s\tremaining: 5m 19s\n",
      "1164:\tlearn: 1281.9036592\ttotal: 10m 35s\tremaining: 5m 19s\n",
      "1165:\tlearn: 1281.7485826\ttotal: 10m 36s\tremaining: 5m 18s\n",
      "1166:\tlearn: 1281.3141103\ttotal: 10m 36s\tremaining: 5m 18s\n",
      "1167:\tlearn: 1281.2081380\ttotal: 10m 37s\tremaining: 5m 17s\n",
      "1168:\tlearn: 1281.0685103\ttotal: 10m 37s\tremaining: 5m 17s\n",
      "1169:\tlearn: 1280.7596225\ttotal: 10m 38s\tremaining: 5m 16s\n",
      "1170:\tlearn: 1280.4810456\ttotal: 10m 39s\tremaining: 5m 16s\n",
      "1171:\tlearn: 1280.3981802\ttotal: 10m 39s\tremaining: 5m 15s\n",
      "1172:\tlearn: 1280.2892157\ttotal: 10m 40s\tremaining: 5m 14s\n",
      "1173:\tlearn: 1280.2344052\ttotal: 10m 40s\tremaining: 5m 14s\n",
      "1174:\tlearn: 1280.0292101\ttotal: 10m 41s\tremaining: 5m 13s\n",
      "1175:\tlearn: 1279.8268396\ttotal: 10m 41s\tremaining: 5m 13s\n",
      "1176:\tlearn: 1279.7547571\ttotal: 10m 42s\tremaining: 5m 12s\n",
      "1177:\tlearn: 1279.6649153\ttotal: 10m 42s\tremaining: 5m 12s\n",
      "1178:\tlearn: 1279.5266736\ttotal: 10m 43s\tremaining: 5m 11s\n",
      "1179:\tlearn: 1279.4294243\ttotal: 10m 44s\tremaining: 5m 11s\n",
      "1180:\tlearn: 1279.2437573\ttotal: 10m 44s\tremaining: 5m 10s\n",
      "1181:\tlearn: 1279.1078068\ttotal: 10m 45s\tremaining: 5m 10s\n",
      "1182:\tlearn: 1278.5073867\ttotal: 10m 45s\tremaining: 5m 9s\n",
      "1183:\tlearn: 1278.3833883\ttotal: 10m 46s\tremaining: 5m 8s\n",
      "1184:\tlearn: 1278.2173264\ttotal: 10m 46s\tremaining: 5m 8s\n",
      "1185:\tlearn: 1277.9609949\ttotal: 10m 47s\tremaining: 5m 7s\n",
      "1186:\tlearn: 1277.8394051\ttotal: 10m 47s\tremaining: 5m 7s\n",
      "1187:\tlearn: 1277.7311269\ttotal: 10m 48s\tremaining: 5m 6s\n",
      "1188:\tlearn: 1277.6784375\ttotal: 10m 48s\tremaining: 5m 6s\n",
      "1189:\tlearn: 1277.5876226\ttotal: 10m 49s\tremaining: 5m 5s\n",
      "1190:\tlearn: 1277.5463517\ttotal: 10m 50s\tremaining: 5m 5s\n",
      "1191:\tlearn: 1277.4960088\ttotal: 10m 50s\tremaining: 5m 4s\n",
      "1192:\tlearn: 1277.4455501\ttotal: 10m 51s\tremaining: 5m 4s\n",
      "1193:\tlearn: 1277.2789215\ttotal: 10m 51s\tremaining: 5m 3s\n",
      "1194:\tlearn: 1276.9394099\ttotal: 10m 52s\tremaining: 5m 2s\n",
      "1195:\tlearn: 1276.8864500\ttotal: 10m 52s\tremaining: 5m 2s\n",
      "1196:\tlearn: 1276.6623510\ttotal: 10m 53s\tremaining: 5m 1s\n",
      "1197:\tlearn: 1276.5410242\ttotal: 10m 54s\tremaining: 5m 1s\n",
      "1198:\tlearn: 1276.4338980\ttotal: 10m 54s\tremaining: 5m\n",
      "1199:\tlearn: 1276.3525232\ttotal: 10m 55s\tremaining: 5m\n",
      "1200:\tlearn: 1276.3268681\ttotal: 10m 55s\tremaining: 4m 59s\n",
      "1201:\tlearn: 1276.1191048\ttotal: 10m 56s\tremaining: 4m 59s\n",
      "1202:\tlearn: 1276.0223879\ttotal: 10m 56s\tremaining: 4m 58s\n",
      "1203:\tlearn: 1275.9261348\ttotal: 10m 57s\tremaining: 4m 58s\n",
      "1204:\tlearn: 1275.7996522\ttotal: 10m 57s\tremaining: 4m 57s\n",
      "1205:\tlearn: 1275.7692498\ttotal: 10m 58s\tremaining: 4m 57s\n",
      "1206:\tlearn: 1275.6701916\ttotal: 10m 59s\tremaining: 4m 56s\n",
      "1207:\tlearn: 1275.5503147\ttotal: 10m 59s\tremaining: 4m 55s\n",
      "1208:\tlearn: 1275.4611059\ttotal: 11m\tremaining: 4m 55s\n",
      "1209:\tlearn: 1275.4151109\ttotal: 11m\tremaining: 4m 54s\n",
      "1210:\tlearn: 1275.2649967\ttotal: 11m 1s\tremaining: 4m 54s\n",
      "1211:\tlearn: 1275.1137260\ttotal: 11m 1s\tremaining: 4m 53s\n",
      "1212:\tlearn: 1274.8380760\ttotal: 11m 2s\tremaining: 4m 53s\n",
      "1213:\tlearn: 1274.6310074\ttotal: 11m 3s\tremaining: 4m 52s\n",
      "1214:\tlearn: 1274.5567735\ttotal: 11m 3s\tremaining: 4m 52s\n",
      "1215:\tlearn: 1274.4754090\ttotal: 11m 4s\tremaining: 4m 51s\n",
      "1216:\tlearn: 1274.2987317\ttotal: 11m 4s\tremaining: 4m 51s\n",
      "1217:\tlearn: 1274.2848987\ttotal: 11m 5s\tremaining: 4m 50s\n",
      "1218:\tlearn: 1274.0958393\ttotal: 11m 6s\tremaining: 4m 50s\n",
      "1219:\tlearn: 1274.0430486\ttotal: 11m 6s\tremaining: 4m 49s\n",
      "1220:\tlearn: 1273.9390164\ttotal: 11m 7s\tremaining: 4m 49s\n",
      "1221:\tlearn: 1273.7089539\ttotal: 11m 7s\tremaining: 4m 48s\n",
      "1222:\tlearn: 1273.6007363\ttotal: 11m 8s\tremaining: 4m 48s\n",
      "1223:\tlearn: 1273.4771120\ttotal: 11m 8s\tremaining: 4m 47s\n",
      "1224:\tlearn: 1273.4317341\ttotal: 11m 9s\tremaining: 4m 46s\n",
      "1225:\tlearn: 1273.3672357\ttotal: 11m 10s\tremaining: 4m 46s\n",
      "1226:\tlearn: 1273.2725263\ttotal: 11m 10s\tremaining: 4m 45s\n",
      "1227:\tlearn: 1273.1097289\ttotal: 11m 11s\tremaining: 4m 45s\n",
      "1228:\tlearn: 1272.9306480\ttotal: 11m 11s\tremaining: 4m 44s\n",
      "1229:\tlearn: 1272.7173808\ttotal: 11m 12s\tremaining: 4m 44s\n",
      "1230:\tlearn: 1272.5892889\ttotal: 11m 12s\tremaining: 4m 43s\n",
      "1231:\tlearn: 1272.4557836\ttotal: 11m 13s\tremaining: 4m 43s\n",
      "1232:\tlearn: 1272.3214331\ttotal: 11m 13s\tremaining: 4m 42s\n",
      "1233:\tlearn: 1272.0641160\ttotal: 11m 14s\tremaining: 4m 41s\n",
      "1234:\tlearn: 1271.8352123\ttotal: 11m 14s\tremaining: 4m 41s\n",
      "1235:\tlearn: 1271.7754144\ttotal: 11m 15s\tremaining: 4m 40s\n",
      "1236:\tlearn: 1271.7455127\ttotal: 11m 16s\tremaining: 4m 40s\n",
      "1237:\tlearn: 1271.5244679\ttotal: 11m 16s\tremaining: 4m 39s\n",
      "1238:\tlearn: 1271.3994709\ttotal: 11m 17s\tremaining: 4m 39s\n",
      "1239:\tlearn: 1271.1589935\ttotal: 11m 18s\tremaining: 4m 38s\n",
      "1240:\tlearn: 1271.1143125\ttotal: 11m 18s\tremaining: 4m 38s\n",
      "1241:\tlearn: 1270.7261044\ttotal: 11m 19s\tremaining: 4m 37s\n",
      "1242:\tlearn: 1270.6830368\ttotal: 11m 19s\tremaining: 4m 37s\n",
      "1243:\tlearn: 1270.5774199\ttotal: 11m 20s\tremaining: 4m 36s\n",
      "1244:\tlearn: 1270.3807822\ttotal: 11m 20s\tremaining: 4m 36s\n",
      "1245:\tlearn: 1270.2563234\ttotal: 11m 21s\tremaining: 4m 35s\n",
      "1246:\tlearn: 1270.1126828\ttotal: 11m 22s\tremaining: 4m 35s\n",
      "1247:\tlearn: 1270.0797962\ttotal: 11m 22s\tremaining: 4m 34s\n",
      "1248:\tlearn: 1269.8908844\ttotal: 11m 23s\tremaining: 4m 34s\n",
      "1249:\tlearn: 1269.4993122\ttotal: 11m 23s\tremaining: 4m 33s\n",
      "1250:\tlearn: 1269.3584241\ttotal: 11m 24s\tremaining: 4m 33s\n",
      "1251:\tlearn: 1269.2417091\ttotal: 11m 25s\tremaining: 4m 32s\n",
      "1252:\tlearn: 1268.9807247\ttotal: 11m 25s\tremaining: 4m 31s\n",
      "1253:\tlearn: 1268.8417576\ttotal: 11m 26s\tremaining: 4m 31s\n",
      "1254:\tlearn: 1268.7516328\ttotal: 11m 26s\tremaining: 4m 30s\n",
      "1255:\tlearn: 1268.2626174\ttotal: 11m 27s\tremaining: 4m 30s\n",
      "1256:\tlearn: 1268.1613933\ttotal: 11m 28s\tremaining: 4m 29s\n",
      "1257:\tlearn: 1268.1244907\ttotal: 11m 28s\tremaining: 4m 29s\n",
      "1258:\tlearn: 1268.0042276\ttotal: 11m 29s\tremaining: 4m 28s\n",
      "1259:\tlearn: 1267.8575743\ttotal: 11m 29s\tremaining: 4m 28s\n",
      "1260:\tlearn: 1267.7545929\ttotal: 11m 30s\tremaining: 4m 27s\n",
      "1261:\tlearn: 1267.4610519\ttotal: 11m 30s\tremaining: 4m 27s\n",
      "1262:\tlearn: 1267.2002180\ttotal: 11m 31s\tremaining: 4m 26s\n",
      "1263:\tlearn: 1267.0762277\ttotal: 11m 31s\tremaining: 4m 26s\n",
      "1264:\tlearn: 1266.9689070\ttotal: 11m 32s\tremaining: 4m 25s\n",
      "1265:\tlearn: 1266.7368655\ttotal: 11m 32s\tremaining: 4m 24s\n",
      "1266:\tlearn: 1266.3327480\ttotal: 11m 33s\tremaining: 4m 24s\n",
      "1267:\tlearn: 1266.1986963\ttotal: 11m 33s\tremaining: 4m 23s\n",
      "1268:\tlearn: 1266.0403201\ttotal: 11m 34s\tremaining: 4m 23s\n",
      "1269:\tlearn: 1265.9511403\ttotal: 11m 35s\tremaining: 4m 22s\n",
      "1270:\tlearn: 1265.8968457\ttotal: 11m 35s\tremaining: 4m 22s\n",
      "1271:\tlearn: 1265.8272907\ttotal: 11m 36s\tremaining: 4m 21s\n",
      "1272:\tlearn: 1265.7129879\ttotal: 11m 36s\tremaining: 4m 21s\n",
      "1273:\tlearn: 1265.5979995\ttotal: 11m 37s\tremaining: 4m 20s\n",
      "1274:\tlearn: 1265.5560758\ttotal: 11m 37s\tremaining: 4m 19s\n",
      "1275:\tlearn: 1265.2961866\ttotal: 11m 38s\tremaining: 4m 19s\n",
      "1276:\tlearn: 1265.1666554\ttotal: 11m 38s\tremaining: 4m 18s\n",
      "1277:\tlearn: 1265.1457371\ttotal: 11m 39s\tremaining: 4m 18s\n",
      "1278:\tlearn: 1264.9564388\ttotal: 11m 39s\tremaining: 4m 17s\n",
      "1279:\tlearn: 1264.8009459\ttotal: 11m 40s\tremaining: 4m 17s\n",
      "1280:\tlearn: 1264.6921237\ttotal: 11m 41s\tremaining: 4m 16s\n",
      "1281:\tlearn: 1264.5275791\ttotal: 11m 41s\tremaining: 4m 16s\n",
      "1282:\tlearn: 1264.3973227\ttotal: 11m 42s\tremaining: 4m 15s\n",
      "1283:\tlearn: 1264.1137514\ttotal: 11m 42s\tremaining: 4m 15s\n",
      "1284:\tlearn: 1263.9928907\ttotal: 11m 43s\tremaining: 4m 14s\n",
      "1285:\tlearn: 1263.8409207\ttotal: 11m 44s\tremaining: 4m 14s\n",
      "1286:\tlearn: 1263.7765387\ttotal: 11m 44s\tremaining: 4m 13s\n",
      "1287:\tlearn: 1263.6871821\ttotal: 11m 45s\tremaining: 4m 12s\n",
      "1288:\tlearn: 1263.4794751\ttotal: 11m 45s\tremaining: 4m 12s\n",
      "1289:\tlearn: 1263.3395320\ttotal: 11m 46s\tremaining: 4m 11s\n",
      "1290:\tlearn: 1263.2407192\ttotal: 11m 46s\tremaining: 4m 11s\n",
      "1291:\tlearn: 1263.0965737\ttotal: 11m 47s\tremaining: 4m 10s\n",
      "1292:\tlearn: 1263.0125311\ttotal: 11m 47s\tremaining: 4m 10s\n",
      "1293:\tlearn: 1262.9697365\ttotal: 11m 48s\tremaining: 4m 9s\n",
      "1294:\tlearn: 1262.7757249\ttotal: 11m 49s\tremaining: 4m 9s\n",
      "1295:\tlearn: 1262.5288534\ttotal: 11m 49s\tremaining: 4m 8s\n",
      "1296:\tlearn: 1262.3544500\ttotal: 11m 50s\tremaining: 4m 8s\n",
      "1297:\tlearn: 1262.1272440\ttotal: 11m 50s\tremaining: 4m 7s\n",
      "1298:\tlearn: 1262.0830778\ttotal: 11m 51s\tremaining: 4m 6s\n",
      "1299:\tlearn: 1262.0262692\ttotal: 11m 51s\tremaining: 4m 6s\n",
      "1300:\tlearn: 1261.8509270\ttotal: 11m 52s\tremaining: 4m 5s\n",
      "1301:\tlearn: 1261.6541042\ttotal: 11m 52s\tremaining: 4m 5s\n",
      "1302:\tlearn: 1261.4800172\ttotal: 11m 53s\tremaining: 4m 4s\n",
      "1303:\tlearn: 1261.2288199\ttotal: 11m 54s\tremaining: 4m 4s\n",
      "1304:\tlearn: 1261.1175892\ttotal: 11m 54s\tremaining: 4m 3s\n",
      "1305:\tlearn: 1261.0319424\ttotal: 11m 55s\tremaining: 4m 3s\n",
      "1306:\tlearn: 1260.8830031\ttotal: 11m 55s\tremaining: 4m 2s\n",
      "1307:\tlearn: 1260.8359848\ttotal: 11m 56s\tremaining: 4m 2s\n",
      "1308:\tlearn: 1260.7390567\ttotal: 11m 57s\tremaining: 4m 1s\n",
      "1309:\tlearn: 1260.7164518\ttotal: 11m 57s\tremaining: 4m 1s\n",
      "1310:\tlearn: 1260.6306658\ttotal: 11m 58s\tremaining: 4m\n",
      "1311:\tlearn: 1260.5359710\ttotal: 11m 58s\tremaining: 3m 59s\n",
      "1312:\tlearn: 1260.5274296\ttotal: 11m 59s\tremaining: 3m 59s\n",
      "1313:\tlearn: 1260.4675223\ttotal: 11m 59s\tremaining: 3m 58s\n",
      "1314:\tlearn: 1260.3393918\ttotal: 12m\tremaining: 3m 58s\n",
      "1315:\tlearn: 1260.2628776\ttotal: 12m\tremaining: 3m 57s\n",
      "1316:\tlearn: 1260.1466814\ttotal: 12m 1s\tremaining: 3m 57s\n",
      "1317:\tlearn: 1259.8742377\ttotal: 12m 1s\tremaining: 3m 56s\n",
      "1318:\tlearn: 1259.7454861\ttotal: 12m 2s\tremaining: 3m 56s\n",
      "1319:\tlearn: 1259.4380207\ttotal: 12m 3s\tremaining: 3m 55s\n",
      "1320:\tlearn: 1259.3811283\ttotal: 12m 3s\tremaining: 3m 54s\n",
      "1321:\tlearn: 1259.2501760\ttotal: 12m 3s\tremaining: 3m 54s\n",
      "1322:\tlearn: 1259.0745125\ttotal: 12m 4s\tremaining: 3m 53s\n",
      "1323:\tlearn: 1259.0290463\ttotal: 12m 5s\tremaining: 3m 53s\n",
      "1324:\tlearn: 1258.9982484\ttotal: 12m 5s\tremaining: 3m 52s\n",
      "1325:\tlearn: 1258.8831161\ttotal: 12m 6s\tremaining: 3m 52s\n",
      "1326:\tlearn: 1258.7612476\ttotal: 12m 6s\tremaining: 3m 51s\n",
      "1327:\tlearn: 1258.5930246\ttotal: 12m 7s\tremaining: 3m 51s\n",
      "1328:\tlearn: 1258.3611340\ttotal: 12m 7s\tremaining: 3m 50s\n",
      "1329:\tlearn: 1258.1393010\ttotal: 12m 8s\tremaining: 3m 50s\n",
      "1330:\tlearn: 1258.0712673\ttotal: 12m 8s\tremaining: 3m 49s\n",
      "1331:\tlearn: 1258.0429530\ttotal: 12m 9s\tremaining: 3m 48s\n",
      "1332:\tlearn: 1257.9884702\ttotal: 12m 10s\tremaining: 3m 48s\n",
      "1333:\tlearn: 1257.8542118\ttotal: 12m 10s\tremaining: 3m 47s\n",
      "1334:\tlearn: 1257.5861339\ttotal: 12m 11s\tremaining: 3m 47s\n",
      "1335:\tlearn: 1257.4411537\ttotal: 12m 11s\tremaining: 3m 46s\n",
      "1336:\tlearn: 1257.3930848\ttotal: 12m 12s\tremaining: 3m 46s\n",
      "1337:\tlearn: 1257.2748345\ttotal: 12m 12s\tremaining: 3m 45s\n",
      "1338:\tlearn: 1257.2161436\ttotal: 12m 13s\tremaining: 3m 45s\n",
      "1339:\tlearn: 1257.0477313\ttotal: 12m 13s\tremaining: 3m 44s\n",
      "1340:\tlearn: 1256.9249712\ttotal: 12m 14s\tremaining: 3m 44s\n",
      "1341:\tlearn: 1256.5747696\ttotal: 12m 15s\tremaining: 3m 43s\n",
      "1342:\tlearn: 1256.4923034\ttotal: 12m 15s\tremaining: 3m 42s\n",
      "1343:\tlearn: 1256.2594950\ttotal: 12m 16s\tremaining: 3m 42s\n",
      "1344:\tlearn: 1256.1808866\ttotal: 12m 16s\tremaining: 3m 41s\n",
      "1345:\tlearn: 1256.1275390\ttotal: 12m 17s\tremaining: 3m 41s\n",
      "1346:\tlearn: 1255.9737678\ttotal: 12m 17s\tremaining: 3m 40s\n",
      "1347:\tlearn: 1255.8630880\ttotal: 12m 18s\tremaining: 3m 40s\n",
      "1348:\tlearn: 1255.5711274\ttotal: 12m 18s\tremaining: 3m 39s\n",
      "1349:\tlearn: 1255.4519235\ttotal: 12m 19s\tremaining: 3m 39s\n",
      "1350:\tlearn: 1255.3572198\ttotal: 12m 19s\tremaining: 3m 38s\n",
      "1351:\tlearn: 1255.3198325\ttotal: 12m 20s\tremaining: 3m 37s\n",
      "1352:\tlearn: 1255.0530956\ttotal: 12m 20s\tremaining: 3m 37s\n",
      "1353:\tlearn: 1254.8957250\ttotal: 12m 21s\tremaining: 3m 36s\n",
      "1354:\tlearn: 1254.6227325\ttotal: 12m 21s\tremaining: 3m 36s\n",
      "1355:\tlearn: 1254.4030217\ttotal: 12m 22s\tremaining: 3m 35s\n",
      "1356:\tlearn: 1254.3105426\ttotal: 12m 22s\tremaining: 3m 35s\n",
      "1357:\tlearn: 1254.1996388\ttotal: 12m 23s\tremaining: 3m 34s\n",
      "1358:\tlearn: 1254.1745695\ttotal: 12m 23s\tremaining: 3m 34s\n",
      "1359:\tlearn: 1254.1356465\ttotal: 12m 24s\tremaining: 3m 33s\n",
      "1360:\tlearn: 1254.0955097\ttotal: 12m 24s\tremaining: 3m 32s\n",
      "1361:\tlearn: 1254.0420815\ttotal: 12m 25s\tremaining: 3m 32s\n",
      "1362:\tlearn: 1253.9281750\ttotal: 12m 26s\tremaining: 3m 31s\n",
      "1363:\tlearn: 1253.5566331\ttotal: 12m 26s\tremaining: 3m 31s\n",
      "1364:\tlearn: 1253.4750200\ttotal: 12m 27s\tremaining: 3m 30s\n",
      "1365:\tlearn: 1253.3519484\ttotal: 12m 27s\tremaining: 3m 30s\n",
      "1366:\tlearn: 1253.2894048\ttotal: 12m 28s\tremaining: 3m 29s\n",
      "1367:\tlearn: 1253.2444852\ttotal: 12m 28s\tremaining: 3m 29s\n",
      "1368:\tlearn: 1253.2026914\ttotal: 12m 29s\tremaining: 3m 28s\n",
      "1369:\tlearn: 1253.1462137\ttotal: 12m 29s\tremaining: 3m 27s\n",
      "1370:\tlearn: 1253.0035378\ttotal: 12m 30s\tremaining: 3m 27s\n",
      "1371:\tlearn: 1252.9056538\ttotal: 12m 30s\tremaining: 3m 26s\n",
      "1372:\tlearn: 1252.7956905\ttotal: 12m 31s\tremaining: 3m 26s\n",
      "1373:\tlearn: 1252.6866974\ttotal: 12m 31s\tremaining: 3m 25s\n",
      "1374:\tlearn: 1252.5637235\ttotal: 12m 32s\tremaining: 3m 25s\n",
      "1375:\tlearn: 1252.3847131\ttotal: 12m 32s\tremaining: 3m 24s\n",
      "1376:\tlearn: 1252.1208373\ttotal: 12m 33s\tremaining: 3m 24s\n",
      "1377:\tlearn: 1251.8654075\ttotal: 12m 33s\tremaining: 3m 23s\n",
      "1378:\tlearn: 1251.7549058\ttotal: 12m 34s\tremaining: 3m 22s\n",
      "1379:\tlearn: 1251.6472866\ttotal: 12m 34s\tremaining: 3m 22s\n",
      "1380:\tlearn: 1251.4631128\ttotal: 12m 35s\tremaining: 3m 21s\n",
      "1381:\tlearn: 1251.3652485\ttotal: 12m 35s\tremaining: 3m 21s\n",
      "1382:\tlearn: 1251.2647927\ttotal: 12m 36s\tremaining: 3m 20s\n",
      "1383:\tlearn: 1251.2270003\ttotal: 12m 36s\tremaining: 3m 20s\n",
      "1384:\tlearn: 1251.0668384\ttotal: 12m 37s\tremaining: 3m 19s\n",
      "1385:\tlearn: 1251.0262471\ttotal: 12m 37s\tremaining: 3m 19s\n",
      "1386:\tlearn: 1250.9691522\ttotal: 12m 38s\tremaining: 3m 18s\n",
      "1387:\tlearn: 1250.8001412\ttotal: 12m 39s\tremaining: 3m 17s\n",
      "1388:\tlearn: 1250.7298425\ttotal: 12m 39s\tremaining: 3m 17s\n",
      "1389:\tlearn: 1250.6893926\ttotal: 12m 40s\tremaining: 3m 16s\n",
      "1390:\tlearn: 1250.5823524\ttotal: 12m 40s\tremaining: 3m 16s\n",
      "1391:\tlearn: 1250.4760246\ttotal: 12m 41s\tremaining: 3m 15s\n",
      "1392:\tlearn: 1250.3593920\ttotal: 12m 41s\tremaining: 3m 15s\n",
      "1393:\tlearn: 1250.1568242\ttotal: 12m 42s\tremaining: 3m 14s\n",
      "1394:\tlearn: 1250.1041588\ttotal: 12m 42s\tremaining: 3m 14s\n",
      "1395:\tlearn: 1249.9828383\ttotal: 12m 43s\tremaining: 3m 13s\n",
      "1396:\tlearn: 1249.9259967\ttotal: 12m 44s\tremaining: 3m 13s\n",
      "1397:\tlearn: 1249.7982620\ttotal: 12m 44s\tremaining: 3m 12s\n",
      "1398:\tlearn: 1249.6890666\ttotal: 12m 45s\tremaining: 3m 11s\n",
      "1399:\tlearn: 1249.5057850\ttotal: 12m 45s\tremaining: 3m 11s\n",
      "1400:\tlearn: 1249.3920443\ttotal: 12m 46s\tremaining: 3m 10s\n",
      "1401:\tlearn: 1249.2578752\ttotal: 12m 46s\tremaining: 3m 10s\n",
      "1402:\tlearn: 1249.1358866\ttotal: 12m 47s\tremaining: 3m 9s\n",
      "1403:\tlearn: 1249.0113692\ttotal: 12m 47s\tremaining: 3m 9s\n",
      "1404:\tlearn: 1248.9082660\ttotal: 12m 48s\tremaining: 3m 8s\n",
      "1405:\tlearn: 1248.8580195\ttotal: 12m 49s\tremaining: 3m 8s\n",
      "1406:\tlearn: 1248.6652805\ttotal: 12m 49s\tremaining: 3m 7s\n",
      "1407:\tlearn: 1248.5426027\ttotal: 12m 50s\tremaining: 3m 7s\n",
      "1408:\tlearn: 1248.4521228\ttotal: 12m 50s\tremaining: 3m 6s\n",
      "1409:\tlearn: 1248.2516719\ttotal: 12m 51s\tremaining: 3m 5s\n",
      "1410:\tlearn: 1248.2354223\ttotal: 12m 51s\tremaining: 3m 5s\n",
      "1411:\tlearn: 1248.0364442\ttotal: 12m 52s\tremaining: 3m 4s\n",
      "1412:\tlearn: 1247.9517703\ttotal: 12m 52s\tremaining: 3m 4s\n",
      "1413:\tlearn: 1247.9213535\ttotal: 12m 53s\tremaining: 3m 3s\n",
      "1414:\tlearn: 1247.6330151\ttotal: 12m 53s\tremaining: 3m 3s\n",
      "1415:\tlearn: 1247.5766908\ttotal: 12m 54s\tremaining: 3m 2s\n",
      "1416:\tlearn: 1247.4322682\ttotal: 12m 55s\tremaining: 3m 2s\n",
      "1417:\tlearn: 1247.1813166\ttotal: 12m 55s\tremaining: 3m 1s\n",
      "1418:\tlearn: 1246.9444475\ttotal: 12m 56s\tremaining: 3m 1s\n",
      "1419:\tlearn: 1246.8361985\ttotal: 12m 56s\tremaining: 3m\n",
      "1420:\tlearn: 1246.6723335\ttotal: 12m 57s\tremaining: 2m 59s\n",
      "1421:\tlearn: 1246.5283352\ttotal: 12m 58s\tremaining: 2m 59s\n",
      "1422:\tlearn: 1246.4639434\ttotal: 12m 58s\tremaining: 2m 58s\n",
      "1423:\tlearn: 1246.3016739\ttotal: 12m 59s\tremaining: 2m 58s\n",
      "1424:\tlearn: 1246.0758244\ttotal: 12m 59s\tremaining: 2m 57s\n",
      "1425:\tlearn: 1246.0239003\ttotal: 13m\tremaining: 2m 57s\n",
      "1426:\tlearn: 1245.9559052\ttotal: 13m\tremaining: 2m 56s\n",
      "1427:\tlearn: 1245.7735762\ttotal: 13m 1s\tremaining: 2m 56s\n",
      "1428:\tlearn: 1245.7000750\ttotal: 13m 2s\tremaining: 2m 55s\n",
      "1429:\tlearn: 1245.5877246\ttotal: 13m 2s\tremaining: 2m 55s\n",
      "1430:\tlearn: 1245.4885021\ttotal: 13m 3s\tremaining: 2m 54s\n",
      "1431:\tlearn: 1245.3593214\ttotal: 13m 3s\tremaining: 2m 54s\n",
      "1432:\tlearn: 1245.3014875\ttotal: 13m 4s\tremaining: 2m 53s\n",
      "1433:\tlearn: 1245.1347965\ttotal: 13m 4s\tremaining: 2m 52s\n",
      "1434:\tlearn: 1245.0902269\ttotal: 13m 5s\tremaining: 2m 52s\n",
      "1435:\tlearn: 1245.0621918\ttotal: 13m 6s\tremaining: 2m 51s\n",
      "1436:\tlearn: 1244.9902037\ttotal: 13m 6s\tremaining: 2m 51s\n",
      "1437:\tlearn: 1244.7766830\ttotal: 13m 7s\tremaining: 2m 50s\n",
      "1438:\tlearn: 1244.6714858\ttotal: 13m 7s\tremaining: 2m 50s\n",
      "1439:\tlearn: 1244.5874222\ttotal: 13m 8s\tremaining: 2m 49s\n",
      "1440:\tlearn: 1244.4210577\ttotal: 13m 8s\tremaining: 2m 49s\n",
      "1441:\tlearn: 1244.2964088\ttotal: 13m 9s\tremaining: 2m 48s\n",
      "1442:\tlearn: 1244.2068863\ttotal: 13m 10s\tremaining: 2m 48s\n",
      "1443:\tlearn: 1244.1853648\ttotal: 13m 10s\tremaining: 2m 47s\n",
      "1444:\tlearn: 1244.0479505\ttotal: 13m 11s\tremaining: 2m 46s\n",
      "1445:\tlearn: 1243.9908415\ttotal: 13m 11s\tremaining: 2m 46s\n",
      "1446:\tlearn: 1243.7446342\ttotal: 13m 12s\tremaining: 2m 45s\n",
      "1447:\tlearn: 1243.6500981\ttotal: 13m 12s\tremaining: 2m 45s\n",
      "1448:\tlearn: 1243.6095245\ttotal: 13m 13s\tremaining: 2m 44s\n",
      "1449:\tlearn: 1243.4054138\ttotal: 13m 13s\tremaining: 2m 44s\n",
      "1450:\tlearn: 1243.3178212\ttotal: 13m 14s\tremaining: 2m 43s\n",
      "1451:\tlearn: 1243.2327141\ttotal: 13m 14s\tremaining: 2m 43s\n",
      "1452:\tlearn: 1243.0884648\ttotal: 13m 15s\tremaining: 2m 42s\n",
      "1453:\tlearn: 1242.9950845\ttotal: 13m 15s\tremaining: 2m 42s\n",
      "1454:\tlearn: 1242.7689697\ttotal: 13m 16s\tremaining: 2m 41s\n",
      "1455:\tlearn: 1242.6820246\ttotal: 13m 16s\tremaining: 2m 40s\n",
      "1456:\tlearn: 1242.5746380\ttotal: 13m 17s\tremaining: 2m 40s\n",
      "1457:\tlearn: 1242.3864159\ttotal: 13m 18s\tremaining: 2m 39s\n",
      "1458:\tlearn: 1242.2587324\ttotal: 13m 18s\tremaining: 2m 39s\n",
      "1459:\tlearn: 1242.2088543\ttotal: 13m 19s\tremaining: 2m 38s\n",
      "1460:\tlearn: 1242.0339796\ttotal: 13m 19s\tremaining: 2m 38s\n",
      "1461:\tlearn: 1241.8641140\ttotal: 13m 20s\tremaining: 2m 37s\n",
      "1462:\tlearn: 1241.5768503\ttotal: 13m 20s\tremaining: 2m 37s\n",
      "1463:\tlearn: 1241.3820573\ttotal: 13m 21s\tremaining: 2m 36s\n",
      "1464:\tlearn: 1241.0730525\ttotal: 13m 22s\tremaining: 2m 36s\n",
      "1465:\tlearn: 1241.0157888\ttotal: 13m 22s\tremaining: 2m 35s\n",
      "1466:\tlearn: 1240.8969774\ttotal: 13m 23s\tremaining: 2m 34s\n",
      "1467:\tlearn: 1240.8170372\ttotal: 13m 23s\tremaining: 2m 34s\n",
      "1468:\tlearn: 1240.6971920\ttotal: 13m 24s\tremaining: 2m 33s\n",
      "1469:\tlearn: 1240.6313303\ttotal: 13m 24s\tremaining: 2m 33s\n",
      "1470:\tlearn: 1240.6105381\ttotal: 13m 25s\tremaining: 2m 32s\n",
      "1471:\tlearn: 1240.5033921\ttotal: 13m 25s\tremaining: 2m 32s\n",
      "1472:\tlearn: 1240.3884340\ttotal: 13m 26s\tremaining: 2m 31s\n",
      "1473:\tlearn: 1240.3273741\ttotal: 13m 27s\tremaining: 2m 31s\n",
      "1474:\tlearn: 1240.2786853\ttotal: 13m 27s\tremaining: 2m 30s\n",
      "1475:\tlearn: 1240.0844463\ttotal: 13m 28s\tremaining: 2m 30s\n",
      "1476:\tlearn: 1239.9296324\ttotal: 13m 28s\tremaining: 2m 29s\n",
      "1477:\tlearn: 1239.6917393\ttotal: 13m 29s\tremaining: 2m 28s\n",
      "1478:\tlearn: 1239.6257211\ttotal: 13m 30s\tremaining: 2m 28s\n",
      "1479:\tlearn: 1239.4919446\ttotal: 13m 30s\tremaining: 2m 27s\n",
      "1480:\tlearn: 1239.4261707\ttotal: 13m 31s\tremaining: 2m 27s\n",
      "1481:\tlearn: 1239.1961098\ttotal: 13m 31s\tremaining: 2m 26s\n",
      "1482:\tlearn: 1238.9648019\ttotal: 13m 32s\tremaining: 2m 26s\n",
      "1483:\tlearn: 1238.9375521\ttotal: 13m 32s\tremaining: 2m 25s\n",
      "1484:\tlearn: 1238.8773221\ttotal: 13m 33s\tremaining: 2m 25s\n",
      "1485:\tlearn: 1238.7961529\ttotal: 13m 33s\tremaining: 2m 24s\n",
      "1486:\tlearn: 1238.6989888\ttotal: 13m 34s\tremaining: 2m 24s\n",
      "1487:\tlearn: 1238.5563157\ttotal: 13m 34s\tremaining: 2m 23s\n",
      "1488:\tlearn: 1238.5183533\ttotal: 13m 35s\tremaining: 2m 22s\n",
      "1489:\tlearn: 1238.4754789\ttotal: 13m 35s\tremaining: 2m 22s\n",
      "1490:\tlearn: 1238.4480274\ttotal: 13m 36s\tremaining: 2m 21s\n",
      "1491:\tlearn: 1238.3122727\ttotal: 13m 37s\tremaining: 2m 21s\n",
      "1492:\tlearn: 1238.2895946\ttotal: 13m 37s\tremaining: 2m 20s\n",
      "1493:\tlearn: 1238.1787346\ttotal: 13m 38s\tremaining: 2m 20s\n",
      "1494:\tlearn: 1238.1651502\ttotal: 13m 38s\tremaining: 2m 19s\n",
      "1495:\tlearn: 1238.0724355\ttotal: 13m 39s\tremaining: 2m 19s\n",
      "1496:\tlearn: 1238.0459790\ttotal: 13m 39s\tremaining: 2m 18s\n",
      "1497:\tlearn: 1237.9237947\ttotal: 13m 40s\tremaining: 2m 18s\n",
      "1498:\tlearn: 1237.8682691\ttotal: 13m 40s\tremaining: 2m 17s\n",
      "1499:\tlearn: 1237.8070619\ttotal: 13m 41s\tremaining: 2m 16s\n",
      "1500:\tlearn: 1237.7226714\ttotal: 13m 42s\tremaining: 2m 16s\n",
      "1501:\tlearn: 1237.6555245\ttotal: 13m 42s\tremaining: 2m 15s\n",
      "1502:\tlearn: 1237.5939575\ttotal: 13m 43s\tremaining: 2m 15s\n",
      "1503:\tlearn: 1237.4558524\ttotal: 13m 44s\tremaining: 2m 14s\n",
      "1504:\tlearn: 1237.3754986\ttotal: 13m 44s\tremaining: 2m 14s\n",
      "1505:\tlearn: 1237.0837314\ttotal: 13m 45s\tremaining: 2m 13s\n",
      "1506:\tlearn: 1237.0162445\ttotal: 13m 45s\tremaining: 2m 13s\n",
      "1507:\tlearn: 1236.7339304\ttotal: 13m 46s\tremaining: 2m 12s\n",
      "1508:\tlearn: 1236.6576812\ttotal: 13m 46s\tremaining: 2m 12s\n",
      "1509:\tlearn: 1236.5064593\ttotal: 13m 47s\tremaining: 2m 11s\n",
      "1510:\tlearn: 1236.3958485\ttotal: 13m 48s\tremaining: 2m 10s\n",
      "1511:\tlearn: 1236.1683662\ttotal: 13m 48s\tremaining: 2m 10s\n",
      "1512:\tlearn: 1236.0613420\ttotal: 13m 49s\tremaining: 2m 9s\n",
      "1513:\tlearn: 1235.9217046\ttotal: 13m 49s\tremaining: 2m 9s\n",
      "1514:\tlearn: 1235.8409067\ttotal: 13m 50s\tremaining: 2m 8s\n",
      "1515:\tlearn: 1235.7700035\ttotal: 13m 50s\tremaining: 2m 8s\n",
      "1516:\tlearn: 1235.5842197\ttotal: 13m 51s\tremaining: 2m 7s\n",
      "1517:\tlearn: 1235.4791620\ttotal: 13m 51s\tremaining: 2m 7s\n",
      "1518:\tlearn: 1235.3285876\ttotal: 13m 52s\tremaining: 2m 6s\n",
      "1519:\tlearn: 1235.1565522\ttotal: 13m 53s\tremaining: 2m 6s\n",
      "1520:\tlearn: 1234.9868084\ttotal: 13m 53s\tremaining: 2m 5s\n",
      "1521:\tlearn: 1234.8763781\ttotal: 13m 54s\tremaining: 2m 4s\n",
      "1522:\tlearn: 1234.7756257\ttotal: 13m 54s\tremaining: 2m 4s\n",
      "1523:\tlearn: 1234.6441324\ttotal: 13m 55s\tremaining: 2m 3s\n",
      "1524:\tlearn: 1234.5744323\ttotal: 13m 56s\tremaining: 2m 3s\n",
      "1525:\tlearn: 1234.4495820\ttotal: 13m 56s\tremaining: 2m 2s\n",
      "1526:\tlearn: 1234.3283495\ttotal: 13m 57s\tremaining: 2m 2s\n",
      "1527:\tlearn: 1234.1013514\ttotal: 13m 58s\tremaining: 2m 1s\n",
      "1528:\tlearn: 1234.0573542\ttotal: 13m 58s\tremaining: 2m 1s\n",
      "1529:\tlearn: 1233.9005673\ttotal: 13m 59s\tremaining: 2m\n",
      "1530:\tlearn: 1233.5783346\ttotal: 13m 59s\tremaining: 2m\n",
      "1531:\tlearn: 1233.5594067\ttotal: 14m\tremaining: 1m 59s\n",
      "1532:\tlearn: 1233.3197062\ttotal: 14m 1s\tremaining: 1m 59s\n",
      "1533:\tlearn: 1233.1211756\ttotal: 14m 1s\tremaining: 1m 58s\n",
      "1534:\tlearn: 1233.0760652\ttotal: 14m 2s\tremaining: 1m 57s\n",
      "1535:\tlearn: 1233.0169120\ttotal: 14m 2s\tremaining: 1m 57s\n",
      "1536:\tlearn: 1232.9896267\ttotal: 14m 3s\tremaining: 1m 56s\n",
      "1537:\tlearn: 1232.9547840\ttotal: 14m 3s\tremaining: 1m 56s\n",
      "1538:\tlearn: 1232.8933097\ttotal: 14m 4s\tremaining: 1m 55s\n",
      "1539:\tlearn: 1232.7768692\ttotal: 14m 5s\tremaining: 1m 55s\n",
      "1540:\tlearn: 1232.6876480\ttotal: 14m 5s\tremaining: 1m 54s\n",
      "1541:\tlearn: 1232.5585348\ttotal: 14m 6s\tremaining: 1m 54s\n",
      "1542:\tlearn: 1232.4771034\ttotal: 14m 6s\tremaining: 1m 53s\n",
      "1543:\tlearn: 1232.3607572\ttotal: 14m 7s\tremaining: 1m 53s\n",
      "1544:\tlearn: 1232.1812388\ttotal: 14m 8s\tremaining: 1m 52s\n",
      "1545:\tlearn: 1232.0973525\ttotal: 14m 8s\tremaining: 1m 51s\n",
      "1546:\tlearn: 1231.9919940\ttotal: 14m 9s\tremaining: 1m 51s\n",
      "1547:\tlearn: 1231.9375200\ttotal: 14m 9s\tremaining: 1m 50s\n",
      "1548:\tlearn: 1231.8293524\ttotal: 14m 10s\tremaining: 1m 50s\n",
      "1549:\tlearn: 1231.7431677\ttotal: 14m 11s\tremaining: 1m 49s\n",
      "1550:\tlearn: 1231.7329328\ttotal: 14m 11s\tremaining: 1m 49s\n",
      "1551:\tlearn: 1231.6606897\ttotal: 14m 12s\tremaining: 1m 48s\n",
      "1552:\tlearn: 1231.6110426\ttotal: 14m 12s\tremaining: 1m 48s\n",
      "1553:\tlearn: 1231.4513056\ttotal: 14m 13s\tremaining: 1m 47s\n",
      "1554:\tlearn: 1231.2015694\ttotal: 14m 13s\tremaining: 1m 47s\n",
      "1555:\tlearn: 1231.1679034\ttotal: 14m 14s\tremaining: 1m 46s\n",
      "1556:\tlearn: 1230.9149113\ttotal: 14m 15s\tremaining: 1m 46s\n",
      "1557:\tlearn: 1230.8596716\ttotal: 14m 15s\tremaining: 1m 45s\n",
      "1558:\tlearn: 1230.7291981\ttotal: 14m 16s\tremaining: 1m 44s\n",
      "1559:\tlearn: 1230.6735977\ttotal: 14m 16s\tremaining: 1m 44s\n",
      "1560:\tlearn: 1230.3514913\ttotal: 14m 17s\tremaining: 1m 43s\n",
      "1561:\tlearn: 1230.3046436\ttotal: 14m 18s\tremaining: 1m 43s\n",
      "1562:\tlearn: 1230.1228863\ttotal: 14m 18s\tremaining: 1m 42s\n",
      "1563:\tlearn: 1230.0493197\ttotal: 14m 19s\tremaining: 1m 42s\n",
      "1564:\tlearn: 1230.0060428\ttotal: 14m 19s\tremaining: 1m 41s\n",
      "1565:\tlearn: 1229.9326323\ttotal: 14m 20s\tremaining: 1m 41s\n",
      "1566:\tlearn: 1229.7591754\ttotal: 14m 20s\tremaining: 1m 40s\n",
      "1567:\tlearn: 1229.5526928\ttotal: 14m 21s\tremaining: 1m 40s\n",
      "1568:\tlearn: 1229.3683389\ttotal: 14m 22s\tremaining: 1m 39s\n",
      "1569:\tlearn: 1229.3329121\ttotal: 14m 22s\tremaining: 1m 38s\n",
      "1570:\tlearn: 1229.2855940\ttotal: 14m 23s\tremaining: 1m 38s\n",
      "1571:\tlearn: 1229.0214567\ttotal: 14m 24s\tremaining: 1m 37s\n",
      "1572:\tlearn: 1228.9699128\ttotal: 14m 24s\tremaining: 1m 37s\n",
      "1573:\tlearn: 1228.8678466\ttotal: 14m 25s\tremaining: 1m 36s\n",
      "1574:\tlearn: 1228.7630416\ttotal: 14m 25s\tremaining: 1m 36s\n",
      "1575:\tlearn: 1228.6581287\ttotal: 14m 26s\tremaining: 1m 35s\n",
      "1576:\tlearn: 1228.4259753\ttotal: 14m 26s\tremaining: 1m 35s\n",
      "1577:\tlearn: 1228.3586895\ttotal: 14m 27s\tremaining: 1m 34s\n",
      "1578:\tlearn: 1228.3077932\ttotal: 14m 27s\tremaining: 1m 33s\n",
      "1579:\tlearn: 1228.0871826\ttotal: 14m 28s\tremaining: 1m 33s\n",
      "1580:\tlearn: 1228.0304142\ttotal: 14m 28s\tremaining: 1m 32s\n",
      "1581:\tlearn: 1227.9172350\ttotal: 14m 29s\tremaining: 1m 32s\n",
      "1582:\tlearn: 1227.8371625\ttotal: 14m 30s\tremaining: 1m 31s\n",
      "1583:\tlearn: 1227.7727231\ttotal: 14m 30s\tremaining: 1m 31s\n",
      "1584:\tlearn: 1227.7030745\ttotal: 14m 31s\tremaining: 1m 30s\n",
      "1585:\tlearn: 1227.6472856\ttotal: 14m 31s\tremaining: 1m 30s\n",
      "1586:\tlearn: 1227.6348828\ttotal: 14m 32s\tremaining: 1m 29s\n",
      "1587:\tlearn: 1227.5226718\ttotal: 14m 33s\tremaining: 1m 29s\n",
      "1588:\tlearn: 1227.4520860\ttotal: 14m 33s\tremaining: 1m 28s\n",
      "1589:\tlearn: 1227.3937033\ttotal: 14m 34s\tremaining: 1m 27s\n",
      "1590:\tlearn: 1227.2456498\ttotal: 14m 34s\tremaining: 1m 27s\n",
      "1591:\tlearn: 1227.2008016\ttotal: 14m 35s\tremaining: 1m 26s\n",
      "1592:\tlearn: 1226.9588988\ttotal: 14m 35s\tremaining: 1m 26s\n",
      "1593:\tlearn: 1226.9111479\ttotal: 14m 36s\tremaining: 1m 25s\n",
      "1594:\tlearn: 1226.7458778\ttotal: 14m 36s\tremaining: 1m 25s\n",
      "1595:\tlearn: 1226.6066252\ttotal: 14m 37s\tremaining: 1m 24s\n",
      "1596:\tlearn: 1226.5019997\ttotal: 14m 37s\tremaining: 1m 24s\n",
      "1597:\tlearn: 1226.3565865\ttotal: 14m 38s\tremaining: 1m 23s\n",
      "1598:\tlearn: 1226.2585495\ttotal: 14m 38s\tremaining: 1m 22s\n",
      "1599:\tlearn: 1226.2106745\ttotal: 14m 39s\tremaining: 1m 22s\n",
      "1600:\tlearn: 1226.1465671\ttotal: 14m 39s\tremaining: 1m 21s\n",
      "1601:\tlearn: 1226.0867331\ttotal: 14m 40s\tremaining: 1m 21s\n",
      "1602:\tlearn: 1225.9769020\ttotal: 14m 41s\tremaining: 1m 20s\n",
      "1603:\tlearn: 1225.6340318\ttotal: 14m 41s\tremaining: 1m 20s\n",
      "1604:\tlearn: 1225.5155192\ttotal: 14m 42s\tremaining: 1m 19s\n",
      "1605:\tlearn: 1225.3941711\ttotal: 14m 42s\tremaining: 1m 19s\n",
      "1606:\tlearn: 1225.2344395\ttotal: 14m 43s\tremaining: 1m 18s\n",
      "1607:\tlearn: 1225.0908355\ttotal: 14m 43s\tremaining: 1m 18s\n",
      "1608:\tlearn: 1225.0276071\ttotal: 14m 44s\tremaining: 1m 17s\n",
      "1609:\tlearn: 1224.9674297\ttotal: 14m 44s\tremaining: 1m 16s\n",
      "1610:\tlearn: 1224.8839606\ttotal: 14m 45s\tremaining: 1m 16s\n",
      "1611:\tlearn: 1224.7513802\ttotal: 14m 46s\tremaining: 1m 15s\n",
      "1612:\tlearn: 1224.6459966\ttotal: 14m 46s\tremaining: 1m 15s\n",
      "1613:\tlearn: 1224.6229296\ttotal: 14m 47s\tremaining: 1m 14s\n",
      "1614:\tlearn: 1224.5927012\ttotal: 14m 47s\tremaining: 1m 14s\n",
      "1615:\tlearn: 1224.5245134\ttotal: 14m 48s\tremaining: 1m 13s\n",
      "1616:\tlearn: 1224.4013718\ttotal: 14m 48s\tremaining: 1m 13s\n",
      "1617:\tlearn: 1224.2559529\ttotal: 14m 49s\tremaining: 1m 12s\n",
      "1618:\tlearn: 1224.1570992\ttotal: 14m 49s\tremaining: 1m 11s\n",
      "1619:\tlearn: 1224.0366674\ttotal: 14m 50s\tremaining: 1m 11s\n",
      "1620:\tlearn: 1223.9083306\ttotal: 14m 50s\tremaining: 1m 10s\n",
      "1621:\tlearn: 1223.8657448\ttotal: 14m 51s\tremaining: 1m 10s\n",
      "1622:\tlearn: 1223.8209614\ttotal: 14m 52s\tremaining: 1m 9s\n",
      "1623:\tlearn: 1223.7405139\ttotal: 14m 52s\tremaining: 1m 9s\n",
      "1624:\tlearn: 1223.6492035\ttotal: 14m 53s\tremaining: 1m 8s\n",
      "1625:\tlearn: 1223.5071831\ttotal: 14m 53s\tremaining: 1m 8s\n",
      "1626:\tlearn: 1223.3805874\ttotal: 14m 54s\tremaining: 1m 7s\n",
      "1627:\tlearn: 1223.2500268\ttotal: 14m 54s\tremaining: 1m 7s\n",
      "1628:\tlearn: 1223.1448594\ttotal: 14m 55s\tremaining: 1m 6s\n",
      "1629:\tlearn: 1223.0565176\ttotal: 14m 56s\tremaining: 1m 5s\n",
      "1630:\tlearn: 1223.0435049\ttotal: 14m 56s\tremaining: 1m 5s\n",
      "1631:\tlearn: 1222.8026221\ttotal: 14m 57s\tremaining: 1m 4s\n",
      "1632:\tlearn: 1222.6418992\ttotal: 14m 57s\tremaining: 1m 4s\n",
      "1633:\tlearn: 1222.4489394\ttotal: 14m 58s\tremaining: 1m 3s\n",
      "1634:\tlearn: 1222.2714693\ttotal: 14m 59s\tremaining: 1m 3s\n",
      "1635:\tlearn: 1222.2047441\ttotal: 14m 59s\tremaining: 1m 2s\n",
      "1636:\tlearn: 1222.1263105\ttotal: 15m\tremaining: 1m 2s\n",
      "1637:\tlearn: 1221.8716513\ttotal: 15m 1s\tremaining: 1m 1s\n",
      "1638:\tlearn: 1221.7804309\ttotal: 15m 1s\tremaining: 1m 1s\n",
      "1639:\tlearn: 1221.6798229\ttotal: 15m 2s\tremaining: 1m\n",
      "1640:\tlearn: 1221.6482309\ttotal: 15m 2s\tremaining: 60s\n",
      "1641:\tlearn: 1221.3977447\ttotal: 15m 3s\tremaining: 59.4s\n",
      "1642:\tlearn: 1221.1641739\ttotal: 15m 3s\tremaining: 58.9s\n",
      "1643:\tlearn: 1221.1115276\ttotal: 15m 4s\tremaining: 58.3s\n",
      "1644:\tlearn: 1220.9684557\ttotal: 15m 5s\tremaining: 57.8s\n",
      "1645:\tlearn: 1220.9548598\ttotal: 15m 5s\tremaining: 57.2s\n",
      "1646:\tlearn: 1220.9237770\ttotal: 15m 6s\tremaining: 56.7s\n",
      "1647:\tlearn: 1220.5582163\ttotal: 15m 6s\tremaining: 56.1s\n",
      "1648:\tlearn: 1220.3898885\ttotal: 15m 7s\tremaining: 55.6s\n",
      "1649:\tlearn: 1220.3445738\ttotal: 15m 7s\tremaining: 55s\n",
      "1650:\tlearn: 1220.3180072\ttotal: 15m 8s\tremaining: 54.5s\n",
      "1651:\tlearn: 1220.1617664\ttotal: 15m 8s\tremaining: 53.9s\n",
      "1652:\tlearn: 1220.0150138\ttotal: 15m 9s\tremaining: 53.4s\n",
      "1653:\tlearn: 1220.0021185\ttotal: 15m 9s\tremaining: 52.8s\n",
      "1654:\tlearn: 1219.9751223\ttotal: 15m 10s\tremaining: 52.3s\n",
      "1655:\tlearn: 1219.9229811\ttotal: 15m 11s\tremaining: 51.7s\n",
      "1656:\tlearn: 1219.7850043\ttotal: 15m 11s\tremaining: 51.2s\n",
      "1657:\tlearn: 1219.7209724\ttotal: 15m 12s\tremaining: 50.6s\n",
      "1658:\tlearn: 1219.6304828\ttotal: 15m 12s\tremaining: 50.1s\n",
      "1659:\tlearn: 1219.4819514\ttotal: 15m 13s\tremaining: 49.5s\n",
      "1660:\tlearn: 1219.4298208\ttotal: 15m 13s\tremaining: 49s\n",
      "1661:\tlearn: 1219.3102137\ttotal: 15m 14s\tremaining: 48.4s\n",
      "1662:\tlearn: 1219.2664183\ttotal: 15m 15s\tremaining: 47.9s\n",
      "1663:\tlearn: 1218.9116352\ttotal: 15m 15s\tremaining: 47.3s\n",
      "1664:\tlearn: 1218.6821829\ttotal: 15m 16s\tremaining: 46.8s\n",
      "1665:\tlearn: 1218.6119044\ttotal: 15m 16s\tremaining: 46.2s\n",
      "1666:\tlearn: 1218.5632136\ttotal: 15m 17s\tremaining: 45.7s\n",
      "1667:\tlearn: 1218.3378549\ttotal: 15m 18s\tremaining: 45.1s\n",
      "1668:\tlearn: 1218.2799063\ttotal: 15m 18s\tremaining: 44.6s\n",
      "1669:\tlearn: 1218.2324326\ttotal: 15m 19s\tremaining: 44s\n",
      "1670:\tlearn: 1218.1199154\ttotal: 15m 19s\tremaining: 43.5s\n",
      "1671:\tlearn: 1218.0389534\ttotal: 15m 20s\tremaining: 42.9s\n",
      "1672:\tlearn: 1218.0301597\ttotal: 15m 20s\tremaining: 42.4s\n",
      "1673:\tlearn: 1217.9606494\ttotal: 15m 21s\tremaining: 41.8s\n",
      "1674:\tlearn: 1217.8792009\ttotal: 15m 21s\tremaining: 41.3s\n",
      "1675:\tlearn: 1217.7980343\ttotal: 15m 22s\tremaining: 40.7s\n",
      "1676:\tlearn: 1217.7103693\ttotal: 15m 23s\tremaining: 40.2s\n",
      "1677:\tlearn: 1217.6766287\ttotal: 15m 23s\tremaining: 39.6s\n",
      "1678:\tlearn: 1217.6063146\ttotal: 15m 24s\tremaining: 39.1s\n",
      "1679:\tlearn: 1217.4500554\ttotal: 15m 24s\tremaining: 38.5s\n",
      "1680:\tlearn: 1217.3547817\ttotal: 15m 25s\tremaining: 38s\n",
      "1681:\tlearn: 1217.1537172\ttotal: 15m 25s\tremaining: 37.4s\n",
      "1682:\tlearn: 1217.0390030\ttotal: 15m 26s\tremaining: 36.9s\n",
      "1683:\tlearn: 1216.8990474\ttotal: 15m 26s\tremaining: 36.3s\n",
      "1684:\tlearn: 1216.8074256\ttotal: 15m 27s\tremaining: 35.8s\n",
      "1685:\tlearn: 1216.7633309\ttotal: 15m 28s\tremaining: 35.2s\n",
      "1686:\tlearn: 1216.6915549\ttotal: 15m 28s\tremaining: 34.7s\n",
      "1687:\tlearn: 1216.6258492\ttotal: 15m 29s\tremaining: 34.1s\n",
      "1688:\tlearn: 1216.5859825\ttotal: 15m 29s\tremaining: 33.6s\n",
      "1689:\tlearn: 1216.4456045\ttotal: 15m 30s\tremaining: 33s\n",
      "1690:\tlearn: 1216.4270483\ttotal: 15m 30s\tremaining: 32.5s\n",
      "1691:\tlearn: 1216.2482991\ttotal: 15m 31s\tremaining: 31.9s\n",
      "1692:\tlearn: 1216.1609237\ttotal: 15m 32s\tremaining: 31.4s\n",
      "1693:\tlearn: 1216.1083699\ttotal: 15m 32s\tremaining: 30.8s\n",
      "1694:\tlearn: 1216.0158810\ttotal: 15m 33s\tremaining: 30.3s\n",
      "1695:\tlearn: 1215.9176363\ttotal: 15m 33s\tremaining: 29.7s\n",
      "1696:\tlearn: 1215.8230037\ttotal: 15m 34s\tremaining: 29.2s\n",
      "1697:\tlearn: 1215.7107895\ttotal: 15m 34s\tremaining: 28.6s\n",
      "1698:\tlearn: 1215.5669523\ttotal: 15m 35s\tremaining: 28.1s\n",
      "1699:\tlearn: 1215.5517293\ttotal: 15m 35s\tremaining: 27.5s\n",
      "1700:\tlearn: 1215.2760257\ttotal: 15m 36s\tremaining: 27s\n",
      "1701:\tlearn: 1215.1652009\ttotal: 15m 37s\tremaining: 26.4s\n",
      "1702:\tlearn: 1215.0061421\ttotal: 15m 37s\tremaining: 25.9s\n",
      "1703:\tlearn: 1214.9202959\ttotal: 15m 38s\tremaining: 25.3s\n",
      "1704:\tlearn: 1214.8658582\ttotal: 15m 38s\tremaining: 24.8s\n",
      "1705:\tlearn: 1214.6840942\ttotal: 15m 39s\tremaining: 24.2s\n",
      "1706:\tlearn: 1214.6166940\ttotal: 15m 39s\tremaining: 23.7s\n",
      "1707:\tlearn: 1214.5914345\ttotal: 15m 40s\tremaining: 23.1s\n",
      "1708:\tlearn: 1214.5173647\ttotal: 15m 41s\tremaining: 22.6s\n",
      "1709:\tlearn: 1214.2996469\ttotal: 15m 41s\tremaining: 22s\n",
      "1710:\tlearn: 1214.2636407\ttotal: 15m 42s\tremaining: 21.5s\n",
      "1711:\tlearn: 1214.1456165\ttotal: 15m 43s\tremaining: 20.9s\n",
      "1712:\tlearn: 1214.0573811\ttotal: 15m 44s\tremaining: 20.4s\n",
      "1713:\tlearn: 1213.9755930\ttotal: 15m 44s\tremaining: 19.8s\n",
      "1714:\tlearn: 1213.8624088\ttotal: 15m 45s\tremaining: 19.3s\n",
      "1715:\tlearn: 1213.7382895\ttotal: 15m 45s\tremaining: 18.7s\n",
      "1716:\tlearn: 1213.7218716\ttotal: 15m 46s\tremaining: 18.2s\n",
      "1717:\tlearn: 1213.6741966\ttotal: 15m 46s\tremaining: 17.6s\n",
      "1718:\tlearn: 1213.6462989\ttotal: 15m 47s\tremaining: 17.1s\n",
      "1719:\tlearn: 1213.5152539\ttotal: 15m 48s\tremaining: 16.5s\n",
      "1720:\tlearn: 1213.4392503\ttotal: 15m 48s\tremaining: 16s\n",
      "1721:\tlearn: 1213.3283720\ttotal: 15m 49s\tremaining: 15.4s\n",
      "1722:\tlearn: 1213.1592967\ttotal: 15m 49s\tremaining: 14.9s\n",
      "1723:\tlearn: 1213.1369863\ttotal: 15m 50s\tremaining: 14.3s\n",
      "1724:\tlearn: 1213.0434581\ttotal: 15m 50s\tremaining: 13.8s\n",
      "1725:\tlearn: 1212.7421596\ttotal: 15m 51s\tremaining: 13.2s\n",
      "1726:\tlearn: 1212.6500648\ttotal: 15m 51s\tremaining: 12.7s\n",
      "1727:\tlearn: 1212.6169900\ttotal: 15m 52s\tremaining: 12.1s\n",
      "1728:\tlearn: 1212.3583368\ttotal: 15m 52s\tremaining: 11.6s\n",
      "1729:\tlearn: 1212.2681363\ttotal: 15m 53s\tremaining: 11s\n",
      "1730:\tlearn: 1212.1169948\ttotal: 15m 54s\tremaining: 10.5s\n",
      "1731:\tlearn: 1212.0301143\ttotal: 15m 54s\tremaining: 9.92s\n",
      "1732:\tlearn: 1211.9724796\ttotal: 15m 55s\tremaining: 9.37s\n",
      "1733:\tlearn: 1211.8944458\ttotal: 15m 55s\tremaining: 8.82s\n",
      "1734:\tlearn: 1211.8810026\ttotal: 15m 56s\tremaining: 8.27s\n",
      "1735:\tlearn: 1211.8253465\ttotal: 15m 57s\tremaining: 7.72s\n",
      "1736:\tlearn: 1211.7937996\ttotal: 15m 57s\tremaining: 7.17s\n",
      "1737:\tlearn: 1211.7765353\ttotal: 15m 58s\tremaining: 6.62s\n",
      "1738:\tlearn: 1211.6655544\ttotal: 15m 58s\tremaining: 6.07s\n",
      "1739:\tlearn: 1211.5357029\ttotal: 15m 59s\tremaining: 5.51s\n",
      "1740:\tlearn: 1211.4705363\ttotal: 16m\tremaining: 4.96s\n",
      "1741:\tlearn: 1211.3732115\ttotal: 16m\tremaining: 4.41s\n",
      "1742:\tlearn: 1211.3128781\ttotal: 16m 1s\tremaining: 3.86s\n",
      "1743:\tlearn: 1211.2897396\ttotal: 16m 1s\tremaining: 3.31s\n",
      "1744:\tlearn: 1211.2419436\ttotal: 16m 2s\tremaining: 2.76s\n",
      "1745:\tlearn: 1211.0696944\ttotal: 16m 2s\tremaining: 2.21s\n",
      "1746:\tlearn: 1211.0093939\ttotal: 16m 3s\tremaining: 1.65s\n",
      "1747:\tlearn: 1210.9840166\ttotal: 16m 3s\tremaining: 1.1s\n",
      "1748:\tlearn: 1210.8430487\ttotal: 16m 4s\tremaining: 551ms\n",
      "1749:\tlearn: 1210.7814946\ttotal: 16m 4s\tremaining: 0us\n"
     ]
    },
    {
     "data": {
      "text/plain": [
       "<catboost.core.CatBoostRegressor at 0x7f0589affb50>"
      ]
     },
     "execution_count": 47,
     "metadata": {},
     "output_type": "execute_result"
    }
   ],
   "source": [
    "catboost.fit(X_train, y_train, cat_features=cat)"
   ]
  },
  {
   "cell_type": "markdown",
   "metadata": {},
   "source": [
    "### Проверка на тестовых данных"
   ]
  },
  {
   "cell_type": "markdown",
   "metadata": {},
   "source": [
    "Проверим время предсказаний:"
   ]
  },
  {
   "cell_type": "code",
   "execution_count": 50,
   "metadata": {},
   "outputs": [
    {
     "name": "stdout",
     "output_type": "stream",
     "text": [
      "CPU times: user 2.61 s, sys: 0 ns, total: 2.61 s\n",
      "Wall time: 2.61 s\n"
     ]
    }
   ],
   "source": [
    "%%time\n",
    "prediction = catboost.predict(X_test)"
   ]
  },
  {
   "cell_type": "code",
   "execution_count": 51,
   "metadata": {},
   "outputs": [
    {
     "name": "stdout",
     "output_type": "stream",
     "text": [
      "RMSE CatBoost Модели составил: 1593.7084305296974\n"
     ]
    }
   ],
   "source": [
    "print(f'RMSE CatBoost Модели составил: {(np.sqrt(mean_squared_error(y_test, prediction)))}')"
   ]
  },
  {
   "cell_type": "code",
   "execution_count": 70,
   "metadata": {},
   "outputs": [
    {
     "name": "stdout",
     "output_type": "stream",
     "text": [
      "CPU times: user 6.91 s, sys: 73.1 ms, total: 6.99 s\n",
      "Wall time: 6.98 s\n"
     ]
    }
   ],
   "source": [
    "%%time\n",
    "prediction = lgbm.predict(X_test)"
   ]
  },
  {
   "cell_type": "code",
   "execution_count": 71,
   "metadata": {},
   "outputs": [
    {
     "name": "stdout",
     "output_type": "stream",
     "text": [
      "RMSE LightGBM Модели составил: 1603.3829391151367\n"
     ]
    }
   ],
   "source": [
    "print(f'RMSE LightGBM Модели составил: {(np.sqrt(mean_squared_error(y_test, prediction)))}')"
   ]
  },
  {
   "cell_type": "code",
   "execution_count": 75,
   "metadata": {},
   "outputs": [
    {
     "name": "stdout",
     "output_type": "stream",
     "text": [
      "CPU times: user 130 ms, sys: 77.2 ms, total: 207 ms\n",
      "Wall time: 175 ms\n"
     ]
    }
   ],
   "source": [
    "%%time\n",
    "prediction = lr.predict(X_test)"
   ]
  },
  {
   "cell_type": "code",
   "execution_count": 76,
   "metadata": {},
   "outputs": [
    {
     "name": "stdout",
     "output_type": "stream",
     "text": [
      "RMSE LinearRegression Модели составил: 3181.570296498989\n"
     ]
    }
   ],
   "source": [
    "print(f'RMSE LinearRegression Модели составил: {(np.sqrt(mean_squared_error(y_test, prediction)))}')"
   ]
  },
  {
   "cell_type": "code",
   "execution_count": 77,
   "metadata": {},
   "outputs": [
    {
     "name": "stdout",
     "output_type": "stream",
     "text": [
      "CPU times: user 72.3 ms, sys: 60.8 ms, total: 133 ms\n",
      "Wall time: 131 ms\n"
     ]
    }
   ],
   "source": [
    "%%time\n",
    "prediction = tree.predict(X_test)"
   ]
  },
  {
   "cell_type": "code",
   "execution_count": 78,
   "metadata": {},
   "outputs": [
    {
     "name": "stdout",
     "output_type": "stream",
     "text": [
      "RMSE DecisionTree Модели составил: 2032.345525579448\n"
     ]
    }
   ],
   "source": [
    "print(f'RMSE DecisionTree Модели составил: {(np.sqrt(mean_squared_error(y_test, prediction)))}')"
   ]
  },
  {
   "cell_type": "code",
   "execution_count": 79,
   "metadata": {},
   "outputs": [
    {
     "name": "stdout",
     "output_type": "stream",
     "text": [
      "CPU times: user 3.2 s, sys: 48 ms, total: 3.25 s\n",
      "Wall time: 3.25 s\n"
     ]
    }
   ],
   "source": [
    "%%time\n",
    "prediction = forest.predict(X_test)"
   ]
  },
  {
   "cell_type": "code",
   "execution_count": 80,
   "metadata": {},
   "outputs": [
    {
     "name": "stdout",
     "output_type": "stream",
     "text": [
      "RMSE RandomForest Модели составил: 1680.4076840541823\n"
     ]
    }
   ],
   "source": [
    "print(f'RMSE RandomForest Модели составил: {(np.sqrt(mean_squared_error(y_test, prediction)))}')"
   ]
  },
  {
   "cell_type": "markdown",
   "metadata": {},
   "source": [
    "Можно было и в цикле это сделать, но нужно узнать время предсказаний"
   ]
  },
  {
   "cell_type": "code",
   "execution_count": 88,
   "metadata": {},
   "outputs": [],
   "source": [
    "output = pd.DataFrame({'Время обучения': ['34.7 s', '11.7 s', '11min 33s', '2min 35s', '6min 58s'],\n",
    "              'RMSE_train': [3193.59, 2100.20, 1716.16, 1613.26, 1210.78],\n",
    "              'Время предсказания': ['175 ms', '131 ms', '3.25 s', '6.98 s', '2.61 s'],\n",
    "              'RMSE_test': [3181.57, 2032.34, 1680.40, 1603.38, 1593.70]\n",
    "             }, \n",
    "             index=['LinearRegression',\n",
    "                    'DecisionTreeRegressor',\n",
    "                    'RandomForestRegressor',\n",
    "                    'LightGBM',\n",
    "                    'CatBoost'\n",
    "                   ]\n",
    "            )"
   ]
  },
  {
   "cell_type": "markdown",
   "metadata": {},
   "source": [
    "### Вывод"
   ]
  },
  {
   "cell_type": "markdown",
   "metadata": {},
   "source": [
    "Таким образом, наилучшее соотношение скорость/качество модели дала библиотека **Catboost** - за 2 мин. 35 сек. показатель метрики **RMSE** составил **1593.70**. Также все модели прошли проверку на адекватность. Показатель остальных моделей приведены в таблице:"
   ]
  },
  {
   "cell_type": "code",
   "execution_count": 89,
   "metadata": {},
   "outputs": [
    {
     "data": {
      "text/html": [
       "<div>\n",
       "<style scoped>\n",
       "    .dataframe tbody tr th:only-of-type {\n",
       "        vertical-align: middle;\n",
       "    }\n",
       "\n",
       "    .dataframe tbody tr th {\n",
       "        vertical-align: top;\n",
       "    }\n",
       "\n",
       "    .dataframe thead th {\n",
       "        text-align: right;\n",
       "    }\n",
       "</style>\n",
       "<table border=\"1\" class=\"dataframe\">\n",
       "  <thead>\n",
       "    <tr style=\"text-align: right;\">\n",
       "      <th></th>\n",
       "      <th>Время обучения</th>\n",
       "      <th>RMSE_train</th>\n",
       "      <th>Время предсказания</th>\n",
       "      <th>RMSE_test</th>\n",
       "    </tr>\n",
       "  </thead>\n",
       "  <tbody>\n",
       "    <tr>\n",
       "      <th>LinearRegression</th>\n",
       "      <td>34.7 s</td>\n",
       "      <td>3193.59</td>\n",
       "      <td>175 ms</td>\n",
       "      <td>3181.57</td>\n",
       "    </tr>\n",
       "    <tr>\n",
       "      <th>DecisionTreeRegressor</th>\n",
       "      <td>11.7 s</td>\n",
       "      <td>2100.20</td>\n",
       "      <td>131 ms</td>\n",
       "      <td>2032.34</td>\n",
       "    </tr>\n",
       "    <tr>\n",
       "      <th>RandomForestRegressor</th>\n",
       "      <td>11min 33s</td>\n",
       "      <td>1716.16</td>\n",
       "      <td>3.25 s</td>\n",
       "      <td>1680.40</td>\n",
       "    </tr>\n",
       "    <tr>\n",
       "      <th>LightGBM</th>\n",
       "      <td>2min 35s</td>\n",
       "      <td>1613.26</td>\n",
       "      <td>6.98 s</td>\n",
       "      <td>1603.38</td>\n",
       "    </tr>\n",
       "    <tr>\n",
       "      <th>CatBoost</th>\n",
       "      <td>6min 58s</td>\n",
       "      <td>1210.78</td>\n",
       "      <td>2.61 s</td>\n",
       "      <td>1593.70</td>\n",
       "    </tr>\n",
       "  </tbody>\n",
       "</table>\n",
       "</div>"
      ],
      "text/plain": [
       "                      Время обучения  RMSE_train Время предсказания  RMSE_test\n",
       "LinearRegression              34.7 s     3193.59             175 ms    3181.57\n",
       "DecisionTreeRegressor         11.7 s     2100.20             131 ms    2032.34\n",
       "RandomForestRegressor      11min 33s     1716.16             3.25 s    1680.40\n",
       "LightGBM                    2min 35s     1613.26             6.98 s    1603.38\n",
       "CatBoost                    6min 58s     1210.78             2.61 s    1593.70"
      ]
     },
     "execution_count": 89,
     "metadata": {},
     "output_type": "execute_result"
    }
   ],
   "source": [
    "output"
   ]
  },
  {
   "cell_type": "markdown",
   "metadata": {},
   "source": [
    "##  Итоговый вывод"
   ]
  },
  {
   "cell_type": "markdown",
   "metadata": {},
   "source": [
    "В данной работе были исследованы возможности моделей, основанных на методе градиентного бустинга, таких как **CatBoost** и **LightGBM**. Было проведено сравнение относительно некоторых базовых моделей. Выяснено, что модели градиентого бустинга позволяют получить намного более точное значение исследуемой метрики, что, очевидно, улучшает качество модели. При тонкой настройке гиперпараметров возможно получить крайне точную метрику."
   ]
  }
 ],
 "metadata": {
  "ExecuteTimeLog": [
   {
    "duration": 1665,
    "start_time": "2022-03-16T17:10:59.897Z"
   },
   {
    "duration": 5,
    "start_time": "2022-03-16T17:11:13.308Z"
   },
   {
    "duration": 207,
    "start_time": "2022-03-16T17:16:31.893Z"
   },
   {
    "duration": 1356,
    "start_time": "2022-03-16T17:16:48.388Z"
   },
   {
    "duration": 18,
    "start_time": "2022-03-16T17:16:54.644Z"
   },
   {
    "duration": 125,
    "start_time": "2022-03-16T17:17:03.741Z"
   },
   {
    "duration": 136,
    "start_time": "2022-03-16T17:18:20.509Z"
   },
   {
    "duration": 128,
    "start_time": "2022-03-16T17:19:10.997Z"
   },
   {
    "duration": 120,
    "start_time": "2022-03-16T17:19:17.700Z"
   },
   {
    "duration": 3,
    "start_time": "2022-03-16T17:20:49.493Z"
   },
   {
    "duration": 4,
    "start_time": "2022-03-16T17:21:15.909Z"
   },
   {
    "duration": 70,
    "start_time": "2022-03-16T17:22:46.581Z"
   },
   {
    "duration": 4,
    "start_time": "2022-03-16T17:25:21.700Z"
   },
   {
    "duration": 4,
    "start_time": "2022-03-16T17:25:28.589Z"
   },
   {
    "duration": 248,
    "start_time": "2022-03-16T17:25:58.629Z"
   },
   {
    "duration": 225,
    "start_time": "2022-03-16T17:26:09.990Z"
   },
   {
    "duration": 53,
    "start_time": "2022-03-16T17:26:23.189Z"
   },
   {
    "duration": 199,
    "start_time": "2022-03-16T17:26:37.765Z"
   },
   {
    "duration": 56,
    "start_time": "2022-03-16T17:26:41.020Z"
   },
   {
    "duration": 53,
    "start_time": "2022-03-16T17:27:52.126Z"
   },
   {
    "duration": 36,
    "start_time": "2022-03-16T17:32:26.789Z"
   },
   {
    "duration": 41,
    "start_time": "2022-03-16T17:33:03.620Z"
   },
   {
    "duration": 456,
    "start_time": "2022-03-16T17:33:36.308Z"
   },
   {
    "duration": 443,
    "start_time": "2022-03-16T17:33:41.381Z"
   },
   {
    "duration": 632,
    "start_time": "2022-03-16T17:33:45.116Z"
   },
   {
    "duration": 487,
    "start_time": "2022-03-16T17:33:51.877Z"
   },
   {
    "duration": 489,
    "start_time": "2022-03-16T17:33:59.213Z"
   },
   {
    "duration": 48,
    "start_time": "2022-03-16T17:34:39.773Z"
   },
   {
    "duration": 67,
    "start_time": "2022-03-16T17:35:10.125Z"
   },
   {
    "duration": 167,
    "start_time": "2022-03-16T17:35:21.005Z"
   },
   {
    "duration": 171,
    "start_time": "2022-03-16T17:35:27.158Z"
   },
   {
    "duration": 195,
    "start_time": "2022-03-16T17:35:37.549Z"
   },
   {
    "duration": 52,
    "start_time": "2022-03-16T17:35:41.917Z"
   },
   {
    "duration": 139,
    "start_time": "2022-03-16T17:36:10.269Z"
   },
   {
    "duration": 263,
    "start_time": "2022-03-16T17:36:18.309Z"
   },
   {
    "duration": 24,
    "start_time": "2022-03-16T17:36:23.438Z"
   },
   {
    "duration": 4224,
    "start_time": "2022-03-16T17:36:53.989Z"
   },
   {
    "duration": 94,
    "start_time": "2022-03-16T17:37:03.717Z"
   },
   {
    "duration": 37,
    "start_time": "2022-03-16T17:37:26.678Z"
   },
   {
    "duration": 37,
    "start_time": "2022-03-16T17:45:53.589Z"
   },
   {
    "duration": 92,
    "start_time": "2022-03-16T17:46:32.589Z"
   },
   {
    "duration": 92,
    "start_time": "2022-03-16T17:46:42.021Z"
   },
   {
    "duration": 168,
    "start_time": "2022-03-16T17:47:05.558Z"
   },
   {
    "duration": 5,
    "start_time": "2022-03-16T17:47:08.782Z"
   },
   {
    "duration": 26,
    "start_time": "2022-03-16T17:47:12.253Z"
   },
   {
    "duration": 45,
    "start_time": "2022-03-16T17:47:36.020Z"
   },
   {
    "duration": 208,
    "start_time": "2022-03-16T17:49:22.167Z"
   },
   {
    "duration": 174,
    "start_time": "2022-03-16T17:49:29.281Z"
   },
   {
    "duration": 20,
    "start_time": "2022-03-16T17:49:36.838Z"
   },
   {
    "duration": 31,
    "start_time": "2022-03-16T17:49:40.054Z"
   },
   {
    "duration": 192,
    "start_time": "2022-03-16T17:50:01.045Z"
   },
   {
    "duration": 185,
    "start_time": "2022-03-16T17:50:05.534Z"
   },
   {
    "duration": 32,
    "start_time": "2022-03-16T17:50:15.454Z"
   },
   {
    "duration": 34,
    "start_time": "2022-03-16T17:50:20.910Z"
   },
   {
    "duration": 33,
    "start_time": "2022-03-16T17:50:29.582Z"
   },
   {
    "duration": 36,
    "start_time": "2022-03-16T17:50:33.119Z"
   },
   {
    "duration": 42,
    "start_time": "2022-03-16T17:50:40.686Z"
   },
   {
    "duration": 32,
    "start_time": "2022-03-16T17:50:43.935Z"
   },
   {
    "duration": 23,
    "start_time": "2022-03-16T17:50:46.926Z"
   },
   {
    "duration": 21,
    "start_time": "2022-03-16T17:50:50.086Z"
   },
   {
    "duration": 18,
    "start_time": "2022-03-16T17:50:53.246Z"
   },
   {
    "duration": 27,
    "start_time": "2022-03-16T17:50:55.451Z"
   },
   {
    "duration": 23,
    "start_time": "2022-03-16T17:50:59.430Z"
   },
   {
    "duration": 185,
    "start_time": "2022-03-16T17:53:26.697Z"
   },
   {
    "duration": 72,
    "start_time": "2022-03-16T17:53:36.455Z"
   },
   {
    "duration": 84,
    "start_time": "2022-03-16T17:53:43.118Z"
   },
   {
    "duration": 81,
    "start_time": "2022-03-16T17:53:47.199Z"
   },
   {
    "duration": 209,
    "start_time": "2022-03-16T17:55:30.198Z"
   },
   {
    "duration": 2,
    "start_time": "2022-03-16T17:55:46.719Z"
   },
   {
    "duration": 335,
    "start_time": "2022-03-16T17:55:59.790Z"
   },
   {
    "duration": 159,
    "start_time": "2022-03-16T17:56:14.590Z"
   },
   {
    "duration": 374,
    "start_time": "2022-03-16T17:56:14.877Z"
   },
   {
    "duration": 153,
    "start_time": "2022-03-16T17:56:19.502Z"
   },
   {
    "duration": 326,
    "start_time": "2022-03-16T17:56:20.998Z"
   },
   {
    "duration": 348,
    "start_time": "2022-03-16T17:56:25.462Z"
   },
   {
    "duration": 490,
    "start_time": "2022-03-16T17:56:42.046Z"
   },
   {
    "duration": 4,
    "start_time": "2022-03-16T17:56:50.303Z"
   },
   {
    "duration": 303,
    "start_time": "2022-03-16T17:56:50.590Z"
   },
   {
    "duration": 194,
    "start_time": "2022-03-16T17:56:58.887Z"
   },
   {
    "duration": 230,
    "start_time": "2022-03-16T17:57:36.862Z"
   },
   {
    "duration": 221,
    "start_time": "2022-03-16T17:57:40.662Z"
   },
   {
    "duration": 9,
    "start_time": "2022-03-16T17:58:16.023Z"
   },
   {
    "duration": 558,
    "start_time": "2022-03-16T17:58:19.887Z"
   },
   {
    "duration": 899,
    "start_time": "2022-03-16T17:58:35.319Z"
   },
   {
    "duration": 1066,
    "start_time": "2022-03-16T17:58:44.503Z"
   },
   {
    "duration": 323,
    "start_time": "2022-03-16T17:59:00.382Z"
   },
   {
    "duration": 339,
    "start_time": "2022-03-16T17:59:06.566Z"
   },
   {
    "duration": 476,
    "start_time": "2022-03-16T17:59:10.295Z"
   },
   {
    "duration": 2193,
    "start_time": "2022-03-16T17:59:14.470Z"
   },
   {
    "duration": 406,
    "start_time": "2022-03-16T17:59:21.358Z"
   },
   {
    "duration": 6,
    "start_time": "2022-03-16T17:59:27.582Z"
   },
   {
    "duration": 39,
    "start_time": "2022-03-16T17:59:42.855Z"
   },
   {
    "duration": 26,
    "start_time": "2022-03-16T18:03:13.000Z"
   },
   {
    "duration": 21,
    "start_time": "2022-03-16T18:03:22.087Z"
   },
   {
    "duration": 23,
    "start_time": "2022-03-16T18:03:25.238Z"
   },
   {
    "duration": 34,
    "start_time": "2022-03-16T18:03:29.104Z"
   },
   {
    "duration": 24,
    "start_time": "2022-03-16T18:03:36.239Z"
   },
   {
    "duration": 359,
    "start_time": "2022-03-16T18:04:18.648Z"
   },
   {
    "duration": 921,
    "start_time": "2022-03-16T18:04:23.815Z"
   },
   {
    "duration": 350,
    "start_time": "2022-03-16T18:04:36.023Z"
   },
   {
    "duration": 327,
    "start_time": "2022-03-16T18:04:44.127Z"
   },
   {
    "duration": 394,
    "start_time": "2022-03-16T18:04:54.007Z"
   },
   {
    "duration": 367,
    "start_time": "2022-03-16T18:05:01.439Z"
   },
   {
    "duration": 1040,
    "start_time": "2022-03-16T18:05:22.679Z"
   },
   {
    "duration": 1074,
    "start_time": "2022-03-16T18:05:32.558Z"
   },
   {
    "duration": 5,
    "start_time": "2022-03-16T18:05:46.207Z"
   },
   {
    "duration": 312,
    "start_time": "2022-03-16T18:05:50.432Z"
   },
   {
    "duration": 334,
    "start_time": "2022-03-16T18:05:54.854Z"
   },
   {
    "duration": 356,
    "start_time": "2022-03-16T18:06:10.959Z"
   },
   {
    "duration": 323,
    "start_time": "2022-03-16T18:06:21.479Z"
   },
   {
    "duration": 620,
    "start_time": "2022-03-16T18:06:28.879Z"
   },
   {
    "duration": 519,
    "start_time": "2022-03-16T18:06:42.432Z"
   },
   {
    "duration": 646,
    "start_time": "2022-03-16T18:06:52.415Z"
   },
   {
    "duration": 640,
    "start_time": "2022-03-16T18:06:56.880Z"
   },
   {
    "duration": 60,
    "start_time": "2022-03-16T18:07:23.503Z"
   },
   {
    "duration": 38,
    "start_time": "2022-03-16T18:07:33.289Z"
   },
   {
    "duration": 38,
    "start_time": "2022-03-16T18:07:41.679Z"
   },
   {
    "duration": 5,
    "start_time": "2022-03-16T18:09:19.527Z"
   },
   {
    "duration": 13,
    "start_time": "2022-03-16T18:09:49.312Z"
   },
   {
    "duration": 489,
    "start_time": "2022-03-16T18:26:53.096Z"
   },
   {
    "duration": 358,
    "start_time": "2022-03-16T18:26:58.712Z"
   },
   {
    "duration": 429,
    "start_time": "2022-03-16T18:27:14.200Z"
   },
   {
    "duration": 580,
    "start_time": "2022-03-16T18:27:19.335Z"
   },
   {
    "duration": 334,
    "start_time": "2022-03-16T18:27:36.201Z"
   },
   {
    "duration": 445,
    "start_time": "2022-03-16T18:27:46.784Z"
   },
   {
    "duration": 910,
    "start_time": "2022-03-16T18:27:52.528Z"
   },
   {
    "duration": 955,
    "start_time": "2022-03-16T18:28:24.312Z"
   },
   {
    "duration": 749,
    "start_time": "2022-03-16T18:28:28.744Z"
   },
   {
    "duration": 1169,
    "start_time": "2022-03-16T18:28:35.632Z"
   },
   {
    "duration": 1916,
    "start_time": "2022-03-16T18:28:40.096Z"
   },
   {
    "duration": 30,
    "start_time": "2022-03-16T18:56:51.465Z"
   },
   {
    "duration": 6,
    "start_time": "2022-03-16T19:24:38.932Z"
   },
   {
    "duration": 3,
    "start_time": "2022-03-16T19:25:29.172Z"
   },
   {
    "duration": 233,
    "start_time": "2022-03-16T19:25:35.387Z"
   },
   {
    "duration": 107,
    "start_time": "2022-03-16T19:25:58.180Z"
   },
   {
    "duration": 4,
    "start_time": "2022-03-16T19:26:15.908Z"
   },
   {
    "duration": 136,
    "start_time": "2022-03-16T19:26:16.164Z"
   },
   {
    "duration": 6,
    "start_time": "2022-03-16T19:26:18.684Z"
   },
   {
    "duration": 137,
    "start_time": "2022-03-16T19:26:19.412Z"
   },
   {
    "duration": 5,
    "start_time": "2022-03-16T19:27:00.603Z"
   },
   {
    "duration": 122,
    "start_time": "2022-03-16T19:27:00.923Z"
   },
   {
    "duration": 7,
    "start_time": "2022-03-16T19:28:59.843Z"
   },
   {
    "duration": 5,
    "start_time": "2022-03-16T19:29:05.043Z"
   },
   {
    "duration": 24,
    "start_time": "2022-03-16T19:29:14.091Z"
   },
   {
    "duration": 34,
    "start_time": "2022-03-16T19:29:24.869Z"
   },
   {
    "duration": 49,
    "start_time": "2022-03-16T19:29:47.956Z"
   },
   {
    "duration": 29,
    "start_time": "2022-03-16T19:29:51.844Z"
   },
   {
    "duration": 47,
    "start_time": "2022-03-16T19:29:56.852Z"
   },
   {
    "duration": 30,
    "start_time": "2022-03-16T19:29:57.259Z"
   },
   {
    "duration": 30,
    "start_time": "2022-03-16T19:30:02.684Z"
   },
   {
    "duration": 50,
    "start_time": "2022-03-16T19:30:22.003Z"
   },
   {
    "duration": 29,
    "start_time": "2022-03-16T19:30:22.548Z"
   },
   {
    "duration": 21,
    "start_time": "2022-03-16T19:32:14.348Z"
   },
   {
    "duration": 85,
    "start_time": "2022-03-16T19:34:03.355Z"
   },
   {
    "duration": 17,
    "start_time": "2022-03-16T19:34:07.819Z"
   },
   {
    "duration": 24,
    "start_time": "2022-03-16T19:34:12.060Z"
   },
   {
    "duration": 6,
    "start_time": "2022-03-16T19:34:15.755Z"
   },
   {
    "duration": 6,
    "start_time": "2022-03-16T19:34:19.774Z"
   },
   {
    "duration": 3,
    "start_time": "2022-03-16T19:34:54.019Z"
   },
   {
    "duration": 24,
    "start_time": "2022-03-16T19:35:47.433Z"
   },
   {
    "duration": 24,
    "start_time": "2022-03-16T19:35:50.494Z"
   },
   {
    "duration": 267,
    "start_time": "2022-03-16T19:38:48.724Z"
   },
   {
    "duration": 864,
    "start_time": "2022-03-16T19:39:38.748Z"
   },
   {
    "duration": 841,
    "start_time": "2022-03-16T19:39:48.852Z"
   },
   {
    "duration": 177,
    "start_time": "2022-03-16T19:40:02.620Z"
   },
   {
    "duration": 660,
    "start_time": "2022-03-16T19:40:10.021Z"
   },
   {
    "duration": 3,
    "start_time": "2022-03-16T19:40:11.198Z"
   },
   {
    "duration": 18454,
    "start_time": "2022-03-16T19:40:11.837Z"
   },
   {
    "duration": 3,
    "start_time": "2022-03-16T19:40:57.236Z"
   },
   {
    "duration": 4,
    "start_time": "2022-03-16T19:41:56.652Z"
   },
   {
    "duration": 3,
    "start_time": "2022-03-16T19:42:17.917Z"
   },
   {
    "duration": 168,
    "start_time": "2022-03-16T19:42:23.364Z"
   },
   {
    "duration": 54871,
    "start_time": "2022-03-16T19:42:27.892Z"
   },
   {
    "duration": 3,
    "start_time": "2022-03-16T19:44:05.436Z"
   },
   {
    "duration": 9457,
    "start_time": "2022-03-16T19:44:12.516Z"
   },
   {
    "duration": 2,
    "start_time": "2022-03-16T19:45:15.533Z"
   },
   {
    "duration": 3,
    "start_time": "2022-03-16T19:46:44.244Z"
   },
   {
    "duration": 3,
    "start_time": "2022-03-16T19:47:14.238Z"
   },
   {
    "duration": 3,
    "start_time": "2022-03-16T19:47:26.168Z"
   },
   {
    "duration": 3,
    "start_time": "2022-03-16T19:47:46.309Z"
   },
   {
    "duration": 104041,
    "start_time": "2022-03-16T19:47:59.477Z"
   },
   {
    "duration": 4,
    "start_time": "2022-03-16T19:53:14.797Z"
   },
   {
    "duration": 4,
    "start_time": "2022-03-16T19:53:30.958Z"
   },
   {
    "duration": 73,
    "start_time": "2022-03-16T19:53:42.750Z"
   },
   {
    "duration": 4,
    "start_time": "2022-03-16T19:53:46.262Z"
   },
   {
    "duration": 89366,
    "start_time": "2022-03-16T19:53:47.886Z"
   },
   {
    "duration": 4,
    "start_time": "2022-03-16T19:55:19.680Z"
   },
   {
    "duration": 3,
    "start_time": "2022-03-16T19:55:37.750Z"
   },
   {
    "duration": 25468,
    "start_time": "2022-03-16T19:55:38.582Z"
   },
   {
    "duration": 17450,
    "start_time": "2022-03-16T19:58:00.486Z"
   },
   {
    "duration": 3,
    "start_time": "2022-03-16T19:58:29.582Z"
   },
   {
    "duration": 11680,
    "start_time": "2022-03-16T19:58:30.030Z"
   },
   {
    "duration": 204,
    "start_time": "2022-03-16T19:59:19.278Z"
   },
   {
    "duration": 46050,
    "start_time": "2022-03-16T19:59:30.142Z"
   },
   {
    "duration": 72,
    "start_time": "2022-03-16T20:01:42.526Z"
   },
   {
    "duration": 39936,
    "start_time": "2022-03-16T20:01:47.302Z"
   },
   {
    "duration": 1938,
    "start_time": "2022-03-18T14:57:25.366Z"
   },
   {
    "duration": 885,
    "start_time": "2022-03-18T14:57:27.306Z"
   },
   {
    "duration": 22,
    "start_time": "2022-03-18T14:57:28.193Z"
   },
   {
    "duration": 157,
    "start_time": "2022-03-18T14:57:28.217Z"
   },
   {
    "duration": 31,
    "start_time": "2022-03-18T14:57:28.376Z"
   },
   {
    "duration": 25,
    "start_time": "2022-03-18T14:57:28.409Z"
   },
   {
    "duration": 74,
    "start_time": "2022-03-18T14:57:28.436Z"
   },
   {
    "duration": 40,
    "start_time": "2022-03-18T14:57:28.512Z"
   },
   {
    "duration": 55,
    "start_time": "2022-03-18T14:57:28.554Z"
   },
   {
    "duration": 40,
    "start_time": "2022-03-18T14:57:28.611Z"
   },
   {
    "duration": 50,
    "start_time": "2022-03-18T14:57:28.653Z"
   },
   {
    "duration": 218,
    "start_time": "2022-03-18T14:57:28.705Z"
   },
   {
    "duration": 35,
    "start_time": "2022-03-18T14:57:28.925Z"
   },
   {
    "duration": 92,
    "start_time": "2022-03-18T14:57:28.962Z"
   },
   {
    "duration": 83,
    "start_time": "2022-03-18T14:57:31.742Z"
   },
   {
    "duration": 3,
    "start_time": "2022-03-18T14:57:31.918Z"
   },
   {
    "duration": 231,
    "start_time": "2022-03-18T14:57:32.134Z"
   },
   {
    "duration": 216,
    "start_time": "2022-03-18T14:57:32.367Z"
   },
   {
    "duration": 798,
    "start_time": "2022-03-18T14:57:32.870Z"
   },
   {
    "duration": 728,
    "start_time": "2022-03-18T14:57:34.606Z"
   },
   {
    "duration": 29,
    "start_time": "2022-03-18T14:57:35.934Z"
   },
   {
    "duration": 843,
    "start_time": "2022-03-18T14:57:52.688Z"
   },
   {
    "duration": 142,
    "start_time": "2022-03-18T14:57:54.024Z"
   },
   {
    "duration": 462,
    "start_time": "2022-03-18T14:57:54.912Z"
   },
   {
    "duration": 3,
    "start_time": "2022-03-18T14:57:59.497Z"
   },
   {
    "duration": 2,
    "start_time": "2022-03-18T14:58:00.170Z"
   },
   {
    "duration": 2,
    "start_time": "2022-03-18T14:58:00.667Z"
   },
   {
    "duration": 4,
    "start_time": "2022-03-18T14:58:02.273Z"
   },
   {
    "duration": 112,
    "start_time": "2022-03-18T14:58:02.730Z"
   },
   {
    "duration": 5,
    "start_time": "2022-03-18T14:58:24.149Z"
   },
   {
    "duration": 79847,
    "start_time": "2022-03-18T14:58:30.958Z"
   },
   {
    "duration": 956,
    "start_time": "2022-03-18T15:00:00.072Z"
   },
   {
    "duration": 9,
    "start_time": "2022-03-18T15:00:16.017Z"
   },
   {
    "duration": 167,
    "start_time": "2022-03-18T15:00:19.744Z"
   },
   {
    "duration": 588,
    "start_time": "2022-03-18T15:00:20.480Z"
   },
   {
    "duration": 3,
    "start_time": "2022-03-18T15:00:22.072Z"
   },
   {
    "duration": 3,
    "start_time": "2022-03-18T15:00:22.552Z"
   },
   {
    "duration": 3,
    "start_time": "2022-03-18T15:00:23.288Z"
   },
   {
    "duration": 2,
    "start_time": "2022-03-18T15:00:24.560Z"
   },
   {
    "duration": 94968,
    "start_time": "2022-03-18T15:00:25.136Z"
   },
   {
    "duration": 86,
    "start_time": "2022-03-18T15:02:22.816Z"
   },
   {
    "duration": 473,
    "start_time": "2022-03-18T15:02:23.552Z"
   },
   {
    "duration": 3,
    "start_time": "2022-03-18T15:02:24.282Z"
   },
   {
    "duration": 3,
    "start_time": "2022-03-18T15:02:25.176Z"
   },
   {
    "duration": 3,
    "start_time": "2022-03-18T15:02:27.440Z"
   },
   {
    "duration": 3,
    "start_time": "2022-03-18T15:02:27.879Z"
   },
   {
    "duration": 83998,
    "start_time": "2022-03-18T15:02:28.936Z"
   },
   {
    "duration": 6,
    "start_time": "2022-03-18T15:04:49.289Z"
   },
   {
    "duration": 3,
    "start_time": "2022-03-18T15:08:57.644Z"
   },
   {
    "duration": 3,
    "start_time": "2022-03-18T15:09:10.557Z"
   },
   {
    "duration": 14548,
    "start_time": "2022-03-18T15:09:11.061Z"
   },
   {
    "duration": 3,
    "start_time": "2022-03-18T15:10:07.993Z"
   },
   {
    "duration": 365644,
    "start_time": "2022-03-18T15:10:17.114Z"
   },
   {
    "duration": 3,
    "start_time": "2022-03-18T15:18:10.940Z"
   },
   {
    "duration": 27826,
    "start_time": "2022-03-18T15:18:11.451Z"
   },
   {
    "duration": 3,
    "start_time": "2022-03-18T15:18:39.279Z"
   },
   {
    "duration": 316628,
    "start_time": "2022-03-18T15:18:39.284Z"
   },
   {
    "duration": 3,
    "start_time": "2022-03-18T15:24:31.554Z"
   },
   {
    "duration": 2,
    "start_time": "2022-03-18T15:24:34.579Z"
   },
   {
    "duration": 2,
    "start_time": "2022-03-18T15:24:35.635Z"
   },
   {
    "duration": 12,
    "start_time": "2022-03-18T15:25:10.925Z"
   },
   {
    "duration": 10,
    "start_time": "2022-03-18T15:25:22.050Z"
   },
   {
    "duration": 12,
    "start_time": "2022-03-18T15:25:41.051Z"
   },
   {
    "duration": 11,
    "start_time": "2022-03-18T15:25:46.787Z"
   },
   {
    "duration": 10,
    "start_time": "2022-03-18T15:25:49.819Z"
   },
   {
    "duration": 6,
    "start_time": "2022-03-18T15:26:10.443Z"
   },
   {
    "duration": 3,
    "start_time": "2022-03-18T15:26:36.578Z"
   },
   {
    "duration": 16,
    "start_time": "2022-03-18T15:26:44.099Z"
   },
   {
    "duration": 6,
    "start_time": "2022-03-18T15:26:53.826Z"
   },
   {
    "duration": 19,
    "start_time": "2022-03-18T15:28:02.011Z"
   },
   {
    "duration": 19,
    "start_time": "2022-03-18T15:28:38.300Z"
   },
   {
    "duration": 3,
    "start_time": "2022-03-18T15:29:14.699Z"
   },
   {
    "duration": 37,
    "start_time": "2022-03-18T15:29:41.099Z"
   },
   {
    "duration": 4,
    "start_time": "2022-03-18T15:29:43.457Z"
   },
   {
    "duration": 5,
    "start_time": "2022-03-18T15:29:47.442Z"
   },
   {
    "duration": 5,
    "start_time": "2022-03-18T15:29:54.099Z"
   },
   {
    "duration": 4,
    "start_time": "2022-03-18T15:30:04.619Z"
   },
   {
    "duration": 3,
    "start_time": "2022-03-18T15:36:29.126Z"
   },
   {
    "duration": 3,
    "start_time": "2022-03-18T15:36:50.776Z"
   },
   {
    "duration": 27,
    "start_time": "2022-03-18T15:36:55.299Z"
   },
   {
    "duration": 13,
    "start_time": "2022-03-18T15:39:11.666Z"
   },
   {
    "duration": 9,
    "start_time": "2022-03-18T15:39:14.459Z"
   },
   {
    "duration": 73,
    "start_time": "2022-03-18T15:39:17.587Z"
   },
   {
    "duration": 18,
    "start_time": "2022-03-18T15:39:23.644Z"
   },
   {
    "duration": 4,
    "start_time": "2022-03-18T15:39:26.643Z"
   },
   {
    "duration": 4,
    "start_time": "2022-03-18T15:39:26.802Z"
   },
   {
    "duration": 19,
    "start_time": "2022-03-18T15:39:27.275Z"
   },
   {
    "duration": 26,
    "start_time": "2022-03-18T15:39:39.683Z"
   },
   {
    "duration": 15,
    "start_time": "2022-03-18T15:40:20.164Z"
   },
   {
    "duration": 4,
    "start_time": "2022-03-18T15:40:22.116Z"
   },
   {
    "duration": 3,
    "start_time": "2022-03-18T15:40:22.363Z"
   },
   {
    "duration": 20,
    "start_time": "2022-03-18T15:40:22.588Z"
   },
   {
    "duration": 63,
    "start_time": "2022-03-18T15:40:39.739Z"
   },
   {
    "duration": 4,
    "start_time": "2022-03-18T15:40:44.427Z"
   },
   {
    "duration": 4,
    "start_time": "2022-03-18T15:40:44.619Z"
   },
   {
    "duration": 90239,
    "start_time": "2022-03-18T15:40:44.812Z"
   },
   {
    "duration": 31405,
    "start_time": "2022-03-18T15:43:13.565Z"
   },
   {
    "duration": 35878,
    "start_time": "2022-03-18T15:44:03.926Z"
   },
   {
    "duration": 114,
    "start_time": "2022-03-18T15:45:27.293Z"
   },
   {
    "duration": 0,
    "start_time": "2022-03-18T15:47:03.664Z"
   },
   {
    "duration": 223048,
    "start_time": "2022-03-18T15:47:19.886Z"
   },
   {
    "duration": 41971,
    "start_time": "2022-03-18T15:53:24.591Z"
   },
   {
    "duration": 7531,
    "start_time": "2022-03-18T15:54:19.460Z"
   },
   {
    "duration": 215508,
    "start_time": "2022-03-18T15:54:28.389Z"
   },
   {
    "duration": 4,
    "start_time": "2022-03-18T15:58:14.475Z"
   },
   {
    "duration": 4,
    "start_time": "2022-03-18T15:58:21.357Z"
   },
   {
    "duration": 5,
    "start_time": "2022-03-18T15:58:37.811Z"
   },
   {
    "duration": 4,
    "start_time": "2022-03-18T15:58:46.355Z"
   },
   {
    "duration": 561,
    "start_time": "2022-03-18T15:59:00.036Z"
   },
   {
    "duration": 5,
    "start_time": "2022-03-18T15:59:07.147Z"
   },
   {
    "duration": 4532,
    "start_time": "2022-03-18T15:59:35.356Z"
   },
   {
    "duration": 5,
    "start_time": "2022-03-18T16:00:53.749Z"
   },
   {
    "duration": 580,
    "start_time": "2022-03-18T16:01:01.084Z"
   },
   {
    "duration": 6,
    "start_time": "2022-03-18T16:01:01.667Z"
   },
   {
    "duration": 7,
    "start_time": "2022-03-18T16:01:12.748Z"
   },
   {
    "duration": 1965,
    "start_time": "2022-03-18T16:04:49.889Z"
   },
   {
    "duration": 954,
    "start_time": "2022-03-18T16:04:53.898Z"
   },
   {
    "duration": 18,
    "start_time": "2022-03-18T16:04:54.854Z"
   },
   {
    "duration": 161,
    "start_time": "2022-03-18T16:04:55.001Z"
   },
   {
    "duration": 20,
    "start_time": "2022-03-18T16:04:55.731Z"
   },
   {
    "duration": 20,
    "start_time": "2022-03-18T16:04:55.977Z"
   },
   {
    "duration": 91,
    "start_time": "2022-03-18T16:04:56.146Z"
   },
   {
    "duration": 39,
    "start_time": "2022-03-18T16:04:56.321Z"
   },
   {
    "duration": 41,
    "start_time": "2022-03-18T16:04:56.490Z"
   },
   {
    "duration": 41,
    "start_time": "2022-03-18T16:04:56.633Z"
   },
   {
    "duration": 39,
    "start_time": "2022-03-18T16:04:56.777Z"
   },
   {
    "duration": 241,
    "start_time": "2022-03-18T16:04:56.936Z"
   },
   {
    "duration": 41,
    "start_time": "2022-03-18T16:04:57.179Z"
   },
   {
    "duration": 86,
    "start_time": "2022-03-18T16:04:57.227Z"
   },
   {
    "duration": 85,
    "start_time": "2022-03-18T16:04:57.364Z"
   },
   {
    "duration": 3,
    "start_time": "2022-03-18T16:04:57.505Z"
   },
   {
    "duration": 223,
    "start_time": "2022-03-18T16:04:57.652Z"
   },
   {
    "duration": 219,
    "start_time": "2022-03-18T16:04:57.877Z"
   },
   {
    "duration": 818,
    "start_time": "2022-03-18T16:04:58.101Z"
   },
   {
    "duration": 711,
    "start_time": "2022-03-18T16:04:58.921Z"
   },
   {
    "duration": 28,
    "start_time": "2022-03-18T16:04:59.635Z"
   },
   {
    "duration": 19,
    "start_time": "2022-03-18T16:04:59.666Z"
   },
   {
    "duration": 935,
    "start_time": "2022-03-18T16:05:00.395Z"
   },
   {
    "duration": 1098,
    "start_time": "2022-03-18T16:05:01.394Z"
   },
   {
    "duration": 15,
    "start_time": "2022-03-18T16:05:29.367Z"
   },
   {
    "duration": 69,
    "start_time": "2022-03-18T16:05:30.296Z"
   },
   {
    "duration": 4,
    "start_time": "2022-03-18T16:05:30.775Z"
   },
   {
    "duration": 3,
    "start_time": "2022-03-18T16:05:31.600Z"
   },
   {
    "duration": 4,
    "start_time": "2022-03-18T16:06:04.222Z"
   },
   {
    "duration": 114,
    "start_time": "2022-03-18T16:06:09.641Z"
   },
   {
    "duration": 3,
    "start_time": "2022-03-18T16:06:18.791Z"
   },
   {
    "duration": 5,
    "start_time": "2022-03-18T16:06:33.431Z"
   },
   {
    "duration": 5,
    "start_time": "2022-03-18T16:06:35.856Z"
   },
   {
    "duration": 3,
    "start_time": "2022-03-18T16:08:21.632Z"
   },
   {
    "duration": 5206,
    "start_time": "2022-03-18T16:08:40.288Z"
   },
   {
    "duration": 9632,
    "start_time": "2022-03-18T16:09:00.345Z"
   },
   {
    "duration": 4321,
    "start_time": "2022-03-18T16:09:15.201Z"
   },
   {
    "duration": 3,
    "start_time": "2022-03-18T16:09:21.348Z"
   },
   {
    "duration": 228622,
    "start_time": "2022-03-18T16:09:21.354Z"
   },
   {
    "duration": 3,
    "start_time": "2022-03-18T16:24:17.648Z"
   },
   {
    "duration": 320698,
    "start_time": "2022-03-18T16:24:18.319Z"
   },
   {
    "duration": 3,
    "start_time": "2022-03-18T16:29:55.338Z"
   },
   {
    "duration": 14,
    "start_time": "2022-03-18T16:29:55.936Z"
   },
   {
    "duration": 3,
    "start_time": "2022-03-18T16:30:53.112Z"
   },
   {
    "duration": 321389,
    "start_time": "2022-03-18T16:30:53.496Z"
   },
   {
    "duration": 3,
    "start_time": "2022-03-18T16:38:08.520Z"
   },
   {
    "duration": 669219,
    "start_time": "2022-03-18T16:38:08.872Z"
   },
   {
    "duration": 3,
    "start_time": "2022-03-18T16:56:31.744Z"
   },
   {
    "duration": 3475100,
    "start_time": "2022-03-18T16:56:32.096Z"
   },
   {
    "duration": 1669,
    "start_time": "2022-03-19T09:16:40.116Z"
   },
   {
    "duration": 10129,
    "start_time": "2022-03-19T09:16:41.787Z"
   },
   {
    "duration": 15,
    "start_time": "2022-03-19T09:16:51.918Z"
   },
   {
    "duration": 132,
    "start_time": "2022-03-19T09:16:51.935Z"
   },
   {
    "duration": 31,
    "start_time": "2022-03-19T09:16:52.068Z"
   },
   {
    "duration": 20,
    "start_time": "2022-03-19T09:16:52.100Z"
   },
   {
    "duration": 69,
    "start_time": "2022-03-19T09:16:52.122Z"
   },
   {
    "duration": 34,
    "start_time": "2022-03-19T09:16:52.192Z"
   },
   {
    "duration": 33,
    "start_time": "2022-03-19T09:16:52.227Z"
   },
   {
    "duration": 47,
    "start_time": "2022-03-19T09:16:52.263Z"
   },
   {
    "duration": 34,
    "start_time": "2022-03-19T09:16:52.312Z"
   },
   {
    "duration": 212,
    "start_time": "2022-03-19T09:16:52.347Z"
   },
   {
    "duration": 34,
    "start_time": "2022-03-19T09:16:52.561Z"
   },
   {
    "duration": 67,
    "start_time": "2022-03-19T09:16:52.597Z"
   },
   {
    "duration": 82,
    "start_time": "2022-03-19T09:16:52.666Z"
   },
   {
    "duration": 3,
    "start_time": "2022-03-19T09:16:52.749Z"
   },
   {
    "duration": 207,
    "start_time": "2022-03-19T09:16:52.754Z"
   },
   {
    "duration": 195,
    "start_time": "2022-03-19T09:16:52.963Z"
   },
   {
    "duration": 714,
    "start_time": "2022-03-19T09:16:53.160Z"
   },
   {
    "duration": 780,
    "start_time": "2022-03-19T09:16:53.875Z"
   },
   {
    "duration": 37,
    "start_time": "2022-03-19T09:16:54.657Z"
   },
   {
    "duration": 18,
    "start_time": "2022-03-19T09:16:54.695Z"
   },
   {
    "duration": 670,
    "start_time": "2022-03-19T09:16:54.715Z"
   },
   {
    "duration": 624,
    "start_time": "2022-03-19T09:16:55.386Z"
   },
   {
    "duration": 151,
    "start_time": "2022-03-19T09:16:56.012Z"
   },
   {
    "duration": 442,
    "start_time": "2022-03-19T09:16:56.165Z"
   },
   {
    "duration": 4,
    "start_time": "2022-03-19T09:16:56.608Z"
   },
   {
    "duration": 3,
    "start_time": "2022-03-19T09:16:56.615Z"
   },
   {
    "duration": 4,
    "start_time": "2022-03-19T09:16:56.619Z"
   },
   {
    "duration": 4,
    "start_time": "2022-03-19T09:16:56.625Z"
   },
   {
    "duration": 54501,
    "start_time": "2022-03-19T09:16:56.630Z"
   },
   {
    "duration": 0,
    "start_time": "2022-03-19T09:17:51.136Z"
   },
   {
    "duration": 15,
    "start_time": "2022-03-19T09:17:53.981Z"
   },
   {
    "duration": 58,
    "start_time": "2022-03-19T09:17:55.181Z"
   },
   {
    "duration": 2,
    "start_time": "2022-03-19T09:17:56.270Z"
   },
   {
    "duration": 8,
    "start_time": "2022-03-19T09:18:06.922Z"
   },
   {
    "duration": 3,
    "start_time": "2022-03-19T09:18:11.931Z"
   },
   {
    "duration": 16247,
    "start_time": "2022-03-19T09:18:12.282Z"
   },
   {
    "duration": 3,
    "start_time": "2022-03-19T09:24:06.018Z"
   },
   {
    "duration": 9,
    "start_time": "2022-03-19T09:26:23.458Z"
   },
   {
    "duration": 38244,
    "start_time": "2022-03-19T09:26:31.625Z"
   },
   {
    "duration": 3,
    "start_time": "2022-03-19T09:27:12.100Z"
   },
   {
    "duration": 4,
    "start_time": "2022-03-19T09:27:28.338Z"
   },
   {
    "duration": 3,
    "start_time": "2022-03-19T09:27:39.393Z"
   },
   {
    "duration": 4,
    "start_time": "2022-03-19T09:27:43.162Z"
   },
   {
    "duration": 26065,
    "start_time": "2022-03-19T09:27:48.078Z"
   },
   {
    "duration": 2,
    "start_time": "2022-03-19T09:28:26.229Z"
   },
   {
    "duration": 294274,
    "start_time": "2022-03-19T09:28:27.092Z"
   },
   {
    "duration": 11,
    "start_time": "2022-03-19T09:33:38.442Z"
   },
   {
    "duration": 6728,
    "start_time": "2022-03-19T09:33:49.411Z"
   },
   {
    "duration": 143,
    "start_time": "2022-03-19T09:34:06.987Z"
   },
   {
    "duration": 31,
    "start_time": "2022-03-19T09:34:14.378Z"
   },
   {
    "duration": 3,
    "start_time": "2022-03-19T09:35:58.171Z"
   },
   {
    "duration": 9,
    "start_time": "2022-03-19T09:36:22.850Z"
   },
   {
    "duration": 3,
    "start_time": "2022-03-19T09:36:51.674Z"
   },
   {
    "duration": 3,
    "start_time": "2022-03-19T09:36:54.162Z"
   },
   {
    "duration": 1108452,
    "start_time": "2022-03-19T09:37:11.090Z"
   },
   {
    "duration": 2,
    "start_time": "2022-03-19T10:03:04.857Z"
   },
   {
    "duration": 3,
    "start_time": "2022-03-19T10:05:57.152Z"
   },
   {
    "duration": 3,
    "start_time": "2022-03-19T10:05:57.752Z"
   },
   {
    "duration": 2405419,
    "start_time": "2022-03-19T10:05:58.256Z"
   },
   {
    "duration": 113,
    "start_time": "2022-03-19T11:54:55.918Z"
   },
   {
    "duration": 2,
    "start_time": "2022-03-19T11:55:08.926Z"
   },
   {
    "duration": 3,
    "start_time": "2022-03-19T11:59:00.182Z"
   },
   {
    "duration": 33,
    "start_time": "2022-03-19T11:59:26.479Z"
   },
   {
    "duration": 90,
    "start_time": "2022-03-19T11:59:45.983Z"
   },
   {
    "duration": 3,
    "start_time": "2022-03-19T11:59:46.589Z"
   },
   {
    "duration": 20,
    "start_time": "2022-03-19T11:59:47.167Z"
   },
   {
    "duration": 446,
    "start_time": "2022-03-19T12:00:08.391Z"
   },
   {
    "duration": 3,
    "start_time": "2022-03-19T12:00:08.839Z"
   },
   {
    "duration": 814252,
    "start_time": "2022-03-19T12:00:09.439Z"
   },
   {
    "duration": 6774,
    "start_time": "2022-03-19T12:24:25.754Z"
   },
   {
    "duration": 5,
    "start_time": "2022-03-19T12:24:57.082Z"
   },
   {
    "duration": 7766,
    "start_time": "2022-03-19T13:41:04.905Z"
   },
   {
    "duration": 174,
    "start_time": "2022-03-19T13:42:32.344Z"
   },
   {
    "duration": 154,
    "start_time": "2022-03-19T13:42:38.464Z"
   },
   {
    "duration": 181,
    "start_time": "2022-03-19T13:42:42.289Z"
   },
   {
    "duration": 186,
    "start_time": "2022-03-19T13:42:50.136Z"
   },
   {
    "duration": 9,
    "start_time": "2022-03-19T13:42:59.536Z"
   },
   {
    "duration": 2,
    "start_time": "2022-03-19T13:43:10.729Z"
   },
   {
    "duration": 4,
    "start_time": "2022-03-19T13:43:11.169Z"
   },
   {
    "duration": 1843574,
    "start_time": "2022-03-19T13:43:48.216Z"
   },
   {
    "duration": 26,
    "start_time": "2022-03-19T15:47:45.977Z"
   },
   {
    "duration": 3,
    "start_time": "2022-03-19T15:49:10.339Z"
   },
   {
    "duration": 261,
    "start_time": "2022-03-19T15:49:47.340Z"
   },
   {
    "duration": 282,
    "start_time": "2022-03-19T15:50:11.082Z"
   },
   {
    "duration": 67,
    "start_time": "2022-03-19T15:50:53.337Z"
   },
   {
    "duration": 228,
    "start_time": "2022-03-19T15:51:10.130Z"
   },
   {
    "duration": 119,
    "start_time": "2022-03-19T15:52:47.001Z"
   },
   {
    "duration": 31,
    "start_time": "2022-03-19T15:54:05.785Z"
   },
   {
    "duration": 3,
    "start_time": "2022-03-19T15:54:06.609Z"
   },
   {
    "duration": 203,
    "start_time": "2022-03-19T15:55:31.098Z"
   },
   {
    "duration": 198,
    "start_time": "2022-03-19T15:56:02.330Z"
   },
   {
    "duration": 189,
    "start_time": "2022-03-19T15:56:10.650Z"
   },
   {
    "duration": 186,
    "start_time": "2022-03-19T15:56:20.722Z"
   },
   {
    "duration": 194,
    "start_time": "2022-03-19T15:56:25.058Z"
   },
   {
    "duration": 744,
    "start_time": "2022-03-19T15:56:51.250Z"
   },
   {
    "duration": 181,
    "start_time": "2022-03-19T15:57:07.441Z"
   },
   {
    "duration": 188,
    "start_time": "2022-03-19T15:57:08.466Z"
   },
   {
    "duration": 742,
    "start_time": "2022-03-19T15:57:08.656Z"
   },
   {
    "duration": 630,
    "start_time": "2022-03-19T15:58:00.026Z"
   },
   {
    "duration": 22,
    "start_time": "2022-03-19T16:00:04.290Z"
   },
   {
    "duration": 10,
    "start_time": "2022-03-19T16:00:11.369Z"
   },
   {
    "duration": 4,
    "start_time": "2022-03-19T16:00:22.802Z"
   },
   {
    "duration": 4,
    "start_time": "2022-03-19T16:00:58.168Z"
   },
   {
    "duration": 433,
    "start_time": "2022-03-19T16:02:24.522Z"
   },
   {
    "duration": 84,
    "start_time": "2022-03-19T16:02:56.257Z"
   },
   {
    "duration": 423,
    "start_time": "2022-03-19T16:02:57.155Z"
   },
   {
    "duration": 2,
    "start_time": "2022-03-19T16:03:26.389Z"
   },
   {
    "duration": 10,
    "start_time": "2022-03-19T16:04:08.827Z"
   },
   {
    "duration": 35071,
    "start_time": "2022-03-19T16:04:15.811Z"
   },
   {
    "duration": 38933,
    "start_time": "2022-03-19T16:05:10.050Z"
   },
   {
    "duration": 3,
    "start_time": "2022-03-19T16:06:18.635Z"
   },
   {
    "duration": 184098,
    "start_time": "2022-03-19T16:06:24.092Z"
   },
   {
    "duration": 0,
    "start_time": "2022-03-19T16:09:28.192Z"
   },
   {
    "duration": 2,
    "start_time": "2022-03-19T16:09:39.287Z"
   },
   {
    "duration": 33714,
    "start_time": "2022-03-19T16:10:00.667Z"
   },
   {
    "duration": 3,
    "start_time": "2022-03-19T16:10:41.618Z"
   },
   {
    "duration": 11916,
    "start_time": "2022-03-19T16:10:42.411Z"
   },
   {
    "duration": 2,
    "start_time": "2022-03-19T16:11:01.971Z"
   },
   {
    "duration": 144255,
    "start_time": "2022-03-19T16:11:02.483Z"
   },
   {
    "duration": 202,
    "start_time": "2022-03-19T16:17:39.618Z"
   },
   {
    "duration": 1669,
    "start_time": "2022-03-19T16:17:45.195Z"
   },
   {
    "duration": 10475,
    "start_time": "2022-03-19T16:17:46.866Z"
   },
   {
    "duration": 17,
    "start_time": "2022-03-19T16:17:57.342Z"
   },
   {
    "duration": 146,
    "start_time": "2022-03-19T16:17:57.361Z"
   },
   {
    "duration": 26,
    "start_time": "2022-03-19T16:17:57.509Z"
   },
   {
    "duration": 19,
    "start_time": "2022-03-19T16:17:57.537Z"
   },
   {
    "duration": 71,
    "start_time": "2022-03-19T16:17:57.557Z"
   },
   {
    "duration": 205,
    "start_time": "2022-03-19T16:17:57.630Z"
   },
   {
    "duration": 75,
    "start_time": "2022-03-19T16:17:57.837Z"
   },
   {
    "duration": 2,
    "start_time": "2022-03-19T16:17:57.914Z"
   },
   {
    "duration": 229,
    "start_time": "2022-03-19T16:17:57.918Z"
   },
   {
    "duration": 46,
    "start_time": "2022-03-19T16:17:58.148Z"
   },
   {
    "duration": 228,
    "start_time": "2022-03-19T16:17:58.196Z"
   },
   {
    "duration": 194,
    "start_time": "2022-03-19T16:17:58.426Z"
   },
   {
    "duration": 766,
    "start_time": "2022-03-19T16:17:58.621Z"
   },
   {
    "duration": 666,
    "start_time": "2022-03-19T16:17:59.389Z"
   },
   {
    "duration": 31,
    "start_time": "2022-03-19T16:18:00.057Z"
   },
   {
    "duration": 4,
    "start_time": "2022-03-19T16:18:00.090Z"
   },
   {
    "duration": 575,
    "start_time": "2022-03-19T16:18:00.095Z"
   },
   {
    "duration": 71,
    "start_time": "2022-03-19T16:18:00.672Z"
   },
   {
    "duration": 0,
    "start_time": "2022-03-19T16:18:00.745Z"
   },
   {
    "duration": 3,
    "start_time": "2022-03-19T16:18:04.740Z"
   },
   {
    "duration": 165,
    "start_time": "2022-03-19T16:18:05.204Z"
   },
   {
    "duration": 137,
    "start_time": "2022-03-19T16:18:18.292Z"
   },
   {
    "duration": 419,
    "start_time": "2022-03-19T16:18:20.472Z"
   },
   {
    "duration": 3,
    "start_time": "2022-03-19T16:18:23.927Z"
   },
   {
    "duration": 684284,
    "start_time": "2022-03-19T16:18:25.375Z"
   },
   {
    "duration": 97,
    "start_time": "2022-03-19T16:30:56.717Z"
   },
   {
    "duration": 164,
    "start_time": "2022-03-19T16:32:48.132Z"
   },
   {
    "duration": 19,
    "start_time": "2022-03-19T16:34:48.488Z"
   },
   {
    "duration": 60,
    "start_time": "2022-03-19T16:34:48.509Z"
   },
   {
    "duration": 3,
    "start_time": "2022-03-19T16:34:55.108Z"
   },
   {
    "duration": 3,
    "start_time": "2022-03-19T16:34:57.788Z"
   },
   {
    "duration": 4,
    "start_time": "2022-03-19T16:35:02.564Z"
   },
   {
    "duration": 3,
    "start_time": "2022-03-19T16:35:12.605Z"
   },
   {
    "duration": 9502,
    "start_time": "2022-03-19T16:35:54.358Z"
   },
   {
    "duration": 2,
    "start_time": "2022-03-19T16:36:38.573Z"
   },
   {
    "duration": 18926,
    "start_time": "2022-03-19T16:36:47.125Z"
   },
   {
    "duration": 2,
    "start_time": "2022-03-19T16:37:23.174Z"
   },
   {
    "duration": 10,
    "start_time": "2022-03-19T16:39:12.366Z"
   },
   {
    "duration": 196,
    "start_time": "2022-03-19T16:39:36.805Z"
   },
   {
    "duration": 5,
    "start_time": "2022-03-19T16:39:40.437Z"
   },
   {
    "duration": 84,
    "start_time": "2022-03-19T16:39:45.605Z"
   },
   {
    "duration": 459,
    "start_time": "2022-03-19T16:39:45.948Z"
   },
   {
    "duration": 5,
    "start_time": "2022-03-19T16:39:46.556Z"
   },
   {
    "duration": 1706,
    "start_time": "2022-03-19T16:43:28.218Z"
   },
   {
    "duration": 877,
    "start_time": "2022-03-19T16:43:29.926Z"
   },
   {
    "duration": 16,
    "start_time": "2022-03-19T16:43:30.805Z"
   },
   {
    "duration": 145,
    "start_time": "2022-03-19T16:43:30.823Z"
   },
   {
    "duration": 30,
    "start_time": "2022-03-19T16:43:30.969Z"
   },
   {
    "duration": 40,
    "start_time": "2022-03-19T16:43:31.001Z"
   },
   {
    "duration": 68,
    "start_time": "2022-03-19T16:43:31.043Z"
   },
   {
    "duration": 274,
    "start_time": "2022-03-19T16:43:31.113Z"
   },
   {
    "duration": 69,
    "start_time": "2022-03-19T16:43:31.389Z"
   },
   {
    "duration": 3,
    "start_time": "2022-03-19T16:43:31.460Z"
   },
   {
    "duration": 270,
    "start_time": "2022-03-19T16:43:31.464Z"
   },
   {
    "duration": 50,
    "start_time": "2022-03-19T16:43:31.736Z"
   },
   {
    "duration": 208,
    "start_time": "2022-03-19T16:43:31.788Z"
   },
   {
    "duration": 199,
    "start_time": "2022-03-19T16:43:31.998Z"
   },
   {
    "duration": 793,
    "start_time": "2022-03-19T16:43:32.199Z"
   },
   {
    "duration": 749,
    "start_time": "2022-03-19T16:43:32.994Z"
   },
   {
    "duration": 36,
    "start_time": "2022-03-19T16:43:33.745Z"
   },
   {
    "duration": 4,
    "start_time": "2022-03-19T16:43:33.782Z"
   },
   {
    "duration": 577,
    "start_time": "2022-03-19T16:43:33.788Z"
   },
   {
    "duration": 146,
    "start_time": "2022-03-19T16:43:34.367Z"
   },
   {
    "duration": 518,
    "start_time": "2022-03-19T16:43:34.515Z"
   },
   {
    "duration": 4,
    "start_time": "2022-03-19T16:43:35.035Z"
   },
   {
    "duration": 7,
    "start_time": "2022-03-19T16:43:35.041Z"
   },
   {
    "duration": 34834,
    "start_time": "2022-03-19T16:43:35.049Z"
   },
   {
    "duration": 3,
    "start_time": "2022-03-19T16:44:09.885Z"
   },
   {
    "duration": 11707,
    "start_time": "2022-03-19T16:44:09.980Z"
   },
   {
    "duration": 3,
    "start_time": "2022-03-19T16:44:21.688Z"
   },
   {
    "duration": 693523,
    "start_time": "2022-03-19T16:44:21.694Z"
   },
   {
    "duration": 3,
    "start_time": "2022-03-19T16:55:55.218Z"
   },
   {
    "duration": 155166,
    "start_time": "2022-03-19T16:55:55.222Z"
   },
   {
    "duration": 14,
    "start_time": "2022-03-19T16:58:30.390Z"
   },
   {
    "duration": 82,
    "start_time": "2022-03-19T16:58:30.405Z"
   },
   {
    "duration": 3,
    "start_time": "2022-03-19T16:58:30.488Z"
   },
   {
    "duration": 418246,
    "start_time": "2022-03-19T16:58:30.493Z"
   },
   {
    "duration": 168,
    "start_time": "2022-03-19T17:24:08.052Z"
   },
   {
    "duration": 5,
    "start_time": "2022-03-19T17:25:34.734Z"
   },
   {
    "duration": 168,
    "start_time": "2022-03-19T17:26:35.038Z"
   },
   {
    "duration": 159,
    "start_time": "2022-03-19T17:26:42.172Z"
   },
   {
    "duration": 169,
    "start_time": "2022-03-19T17:27:08.557Z"
   },
   {
    "duration": 7,
    "start_time": "2022-03-19T17:27:24.109Z"
   },
   {
    "duration": 9,
    "start_time": "2022-03-19T17:30:17.558Z"
   },
   {
    "duration": 4,
    "start_time": "2022-03-19T17:30:48.113Z"
   },
   {
    "duration": 3,
    "start_time": "2022-03-19T17:30:58.590Z"
   },
   {
    "duration": 7,
    "start_time": "2022-03-19T17:31:03.247Z"
   },
   {
    "duration": 2406,
    "start_time": "2022-03-20T14:19:19.046Z"
   },
   {
    "duration": 1257,
    "start_time": "2022-03-20T14:19:24.031Z"
   },
   {
    "duration": 25,
    "start_time": "2022-03-20T14:19:26.424Z"
   },
   {
    "duration": 184,
    "start_time": "2022-03-20T14:19:27.448Z"
   },
   {
    "duration": 31,
    "start_time": "2022-03-20T14:19:30.183Z"
   },
   {
    "duration": 20,
    "start_time": "2022-03-20T14:19:30.695Z"
   },
   {
    "duration": 68,
    "start_time": "2022-03-20T14:19:31.750Z"
   },
   {
    "duration": 226,
    "start_time": "2022-03-20T14:19:32.544Z"
   },
   {
    "duration": 143,
    "start_time": "2022-03-20T14:19:33.087Z"
   },
   {
    "duration": 5,
    "start_time": "2022-03-20T14:19:34.519Z"
   },
   {
    "duration": 310,
    "start_time": "2022-03-20T14:19:35.447Z"
   },
   {
    "duration": 41,
    "start_time": "2022-03-20T14:19:37.199Z"
   },
   {
    "duration": 237,
    "start_time": "2022-03-20T14:19:38.108Z"
   },
   {
    "duration": 237,
    "start_time": "2022-03-20T14:19:38.887Z"
   },
   {
    "duration": 866,
    "start_time": "2022-03-20T14:19:39.816Z"
   },
   {
    "duration": 788,
    "start_time": "2022-03-20T14:19:40.685Z"
   },
   {
    "duration": 29,
    "start_time": "2022-03-20T14:19:42.013Z"
   },
   {
    "duration": 4,
    "start_time": "2022-03-20T14:19:44.631Z"
   },
   {
    "duration": 931,
    "start_time": "2022-03-20T14:19:45.711Z"
   },
   {
    "duration": 146,
    "start_time": "2022-03-20T14:19:49.221Z"
   },
   {
    "duration": 766,
    "start_time": "2022-03-20T14:19:50.431Z"
   },
   {
    "duration": 5,
    "start_time": "2022-03-20T14:19:56.239Z"
   },
   {
    "duration": 2,
    "start_time": "2022-03-20T14:19:57.575Z"
   },
   {
    "duration": 3,
    "start_time": "2022-03-20T14:23:18.752Z"
   },
   {
    "duration": 118,
    "start_time": "2022-03-20T14:23:47.239Z"
   },
   {
    "duration": 3,
    "start_time": "2022-03-20T14:23:50.776Z"
   },
   {
    "duration": 4,
    "start_time": "2022-03-20T14:25:46.720Z"
   },
   {
    "duration": 58675,
    "start_time": "2022-03-20T14:26:13.952Z"
   },
   {
    "duration": 3,
    "start_time": "2022-03-20T14:27:26.729Z"
   },
   {
    "duration": 3,
    "start_time": "2022-03-20T14:27:27.273Z"
   },
   {
    "duration": 24061,
    "start_time": "2022-03-20T14:27:27.881Z"
   },
   {
    "duration": 4,
    "start_time": "2022-03-20T14:28:02.252Z"
   },
   {
    "duration": 14,
    "start_time": "2022-03-20T14:28:02.548Z"
   },
   {
    "duration": 10394,
    "start_time": "2022-03-20T14:28:02.822Z"
   },
   {
    "duration": 4,
    "start_time": "2022-03-20T14:28:16.432Z"
   },
   {
    "duration": 3,
    "start_time": "2022-03-20T14:28:17.010Z"
   },
   {
    "duration": 8638223,
    "start_time": "2022-03-20T14:28:17.834Z"
   },
   {
    "duration": 5,
    "start_time": "2022-03-20T16:57:06.460Z"
   },
   {
    "duration": 4,
    "start_time": "2022-03-20T16:58:27.219Z"
   },
   {
    "duration": 80506,
    "start_time": "2022-03-20T16:58:43.259Z"
   },
   {
    "duration": 129701,
    "start_time": "2022-03-20T17:21:11.184Z"
   },
   {
    "duration": 1899,
    "start_time": "2022-03-22T07:38:52.748Z"
   },
   {
    "duration": 760,
    "start_time": "2022-03-22T07:38:55.563Z"
   },
   {
    "duration": 15,
    "start_time": "2022-03-22T07:38:56.852Z"
   },
   {
    "duration": 124,
    "start_time": "2022-03-22T07:38:57.812Z"
   },
   {
    "duration": 24,
    "start_time": "2022-03-22T07:39:00.036Z"
   },
   {
    "duration": 17,
    "start_time": "2022-03-22T07:39:00.710Z"
   },
   {
    "duration": 56,
    "start_time": "2022-03-22T07:39:02.884Z"
   },
   {
    "duration": 180,
    "start_time": "2022-03-22T07:39:03.804Z"
   },
   {
    "duration": 72,
    "start_time": "2022-03-22T07:39:04.764Z"
   },
   {
    "duration": 2,
    "start_time": "2022-03-22T07:39:06.333Z"
   },
   {
    "duration": 257,
    "start_time": "2022-03-22T07:39:06.693Z"
   },
   {
    "duration": 29,
    "start_time": "2022-03-22T07:39:09.604Z"
   },
   {
    "duration": 202,
    "start_time": "2022-03-22T07:39:10.837Z"
   },
   {
    "duration": 193,
    "start_time": "2022-03-22T07:39:11.677Z"
   },
   {
    "duration": 730,
    "start_time": "2022-03-22T07:39:12.317Z"
   },
   {
    "duration": 714,
    "start_time": "2022-03-22T07:39:13.094Z"
   },
   {
    "duration": 24,
    "start_time": "2022-03-22T07:39:14.470Z"
   },
   {
    "duration": 4,
    "start_time": "2022-03-22T07:39:16.773Z"
   },
   {
    "duration": 449,
    "start_time": "2022-03-22T07:39:22.183Z"
   },
   {
    "duration": 141,
    "start_time": "2022-03-22T07:39:24.990Z"
   },
   {
    "duration": 421,
    "start_time": "2022-03-22T07:39:25.670Z"
   },
   {
    "duration": 6,
    "start_time": "2022-03-22T07:39:26.902Z"
   },
   {
    "duration": 2,
    "start_time": "2022-03-22T07:43:15.358Z"
   },
   {
    "duration": 32698,
    "start_time": "2022-03-22T07:43:15.887Z"
   },
   {
    "duration": 3,
    "start_time": "2022-03-22T07:43:52.543Z"
   },
   {
    "duration": 11734,
    "start_time": "2022-03-22T07:43:52.959Z"
   },
   {
    "duration": 2,
    "start_time": "2022-03-22T07:44:10.897Z"
   },
   {
    "duration": 686592,
    "start_time": "2022-03-22T07:44:11.441Z"
   },
   {
    "duration": 3,
    "start_time": "2022-03-22T08:12:05.551Z"
   },
   {
    "duration": 162316,
    "start_time": "2022-03-22T08:12:06.184Z"
   },
   {
    "duration": 15,
    "start_time": "2022-03-22T08:15:41.581Z"
   },
   {
    "duration": 65,
    "start_time": "2022-03-22T08:15:42.965Z"
   },
   {
    "duration": 2,
    "start_time": "2022-03-22T08:15:44.789Z"
   },
   {
    "duration": 3,
    "start_time": "2022-03-22T08:15:45.941Z"
   },
   {
    "duration": 2,
    "start_time": "2022-03-22T08:15:46.469Z"
   },
   {
    "duration": 15,
    "start_time": "2022-03-22T08:16:45.926Z"
   },
   {
    "duration": 11,
    "start_time": "2022-03-22T08:16:51.287Z"
   },
   {
    "duration": 21,
    "start_time": "2022-03-22T08:16:53.832Z"
   },
   {
    "duration": 6,
    "start_time": "2022-03-22T08:17:08.409Z"
   },
   {
    "duration": 2,
    "start_time": "2022-03-22T08:18:35.136Z"
   },
   {
    "duration": 3,
    "start_time": "2022-03-22T08:19:32.310Z"
   },
   {
    "duration": 34731,
    "start_time": "2022-03-22T08:20:01.543Z"
   },
   {
    "duration": 3,
    "start_time": "2022-03-22T08:20:40.255Z"
   },
   {
    "duration": 17711,
    "start_time": "2022-03-22T08:20:40.640Z"
   },
   {
    "duration": 13,
    "start_time": "2022-03-22T08:21:15.171Z"
   },
   {
    "duration": 58,
    "start_time": "2022-03-22T08:21:15.498Z"
   },
   {
    "duration": 973646,
    "start_time": "2022-03-22T08:21:44.448Z"
   },
   {
    "duration": 2554,
    "start_time": "2022-03-22T08:44:07.474Z"
   },
   {
    "duration": 2543,
    "start_time": "2022-03-22T08:44:23.410Z"
   },
   {
    "duration": 2611,
    "start_time": "2022-03-22T08:45:00.139Z"
   },
   {
    "duration": 5,
    "start_time": "2022-03-22T08:46:14.619Z"
   },
   {
    "duration": 14,
    "start_time": "2022-03-22T08:47:07.675Z"
   },
   {
    "duration": 2,
    "start_time": "2022-03-22T08:47:23.562Z"
   },
   {
    "duration": 180,
    "start_time": "2022-03-22T08:47:24.266Z"
   },
   {
    "duration": 3,
    "start_time": "2022-03-22T08:47:33.620Z"
   },
   {
    "duration": 110,
    "start_time": "2022-03-22T08:47:33.996Z"
   },
   {
    "duration": 80,
    "start_time": "2022-03-22T08:47:53.157Z"
   },
   {
    "duration": 419,
    "start_time": "2022-03-22T08:47:53.239Z"
   },
   {
    "duration": 5,
    "start_time": "2022-03-22T08:47:56.094Z"
   },
   {
    "duration": 2,
    "start_time": "2022-03-22T08:48:02.321Z"
   },
   {
    "duration": 40062,
    "start_time": "2022-03-22T08:48:02.325Z"
   },
   {
    "duration": 91,
    "start_time": "2022-03-22T08:48:42.390Z"
   },
   {
    "duration": 12430,
    "start_time": "2022-03-22T08:48:42.483Z"
   },
   {
    "duration": 9,
    "start_time": "2022-03-22T08:55:04.121Z"
   },
   {
    "duration": 184761,
    "start_time": "2022-03-22T08:55:12.857Z"
   },
   {
    "duration": 9,
    "start_time": "2022-03-22T09:00:58.370Z"
   },
   {
    "duration": 32430,
    "start_time": "2022-03-22T09:02:05.071Z"
   },
   {
    "duration": 6836,
    "start_time": "2022-03-22T09:03:43.679Z"
   },
   {
    "duration": 5,
    "start_time": "2022-03-22T09:04:01.600Z"
   },
   {
    "duration": 6984,
    "start_time": "2022-03-22T09:04:12.310Z"
   },
   {
    "duration": 3,
    "start_time": "2022-03-22T09:04:19.296Z"
   },
   {
    "duration": 21130,
    "start_time": "2022-03-22T09:12:23.953Z"
   },
   {
    "duration": 6342,
    "start_time": "2022-03-22T09:12:45.085Z"
   },
   {
    "duration": 385196,
    "start_time": "2022-03-22T09:12:51.429Z"
   },
   {
    "duration": 179,
    "start_time": "2022-03-22T09:21:56.506Z"
   },
   {
    "duration": 4,
    "start_time": "2022-03-22T09:22:08.809Z"
   },
   {
    "duration": 135,
    "start_time": "2022-03-22T09:22:20.194Z"
   },
   {
    "duration": 4,
    "start_time": "2022-03-22T09:22:30.438Z"
   },
   {
    "duration": 3252,
    "start_time": "2022-03-22T09:22:39.749Z"
   },
   {
    "duration": 4,
    "start_time": "2022-03-22T09:22:54.283Z"
   },
   {
    "duration": 200,
    "start_time": "2022-03-22T09:25:52.597Z"
   },
   {
    "duration": 193,
    "start_time": "2022-03-22T09:26:31.243Z"
   },
   {
    "duration": 4,
    "start_time": "2022-03-22T09:26:38.123Z"
   },
   {
    "duration": 9,
    "start_time": "2022-03-22T09:26:39.858Z"
   },
   {
    "duration": 4,
    "start_time": "2022-03-22T09:27:14.795Z"
   },
   {
    "duration": 5,
    "start_time": "2022-03-22T09:29:50.747Z"
   },
   {
    "duration": 9,
    "start_time": "2022-03-22T09:29:52.948Z"
   },
   {
    "duration": 4,
    "start_time": "2022-03-22T09:30:45.044Z"
   },
   {
    "duration": 9,
    "start_time": "2022-03-22T09:30:48.689Z"
   }
  ],
  "kernelspec": {
   "display_name": "Python 3 (ipykernel)",
   "language": "python",
   "name": "python3"
  },
  "language_info": {
   "codemirror_mode": {
    "name": "ipython",
    "version": 3
   },
   "file_extension": ".py",
   "mimetype": "text/x-python",
   "name": "python",
   "nbconvert_exporter": "python",
   "pygments_lexer": "ipython3",
   "version": "3.9.7"
  },
  "toc": {
   "base_numbering": 1,
   "nav_menu": {},
   "number_sections": true,
   "sideBar": true,
   "skip_h1_title": true,
   "title_cell": "Содержание",
   "title_sidebar": "Contents",
   "toc_cell": true,
   "toc_position": {
    "height": "calc(100% - 180px)",
    "left": "10px",
    "top": "150px",
    "width": "366.391px"
   },
   "toc_section_display": true,
   "toc_window_display": false
  },
  "varInspector": {
   "cols": {
    "lenName": 16,
    "lenType": 16,
    "lenVar": 40
   },
   "kernels_config": {
    "python": {
     "delete_cmd_postfix": "",
     "delete_cmd_prefix": "del ",
     "library": "var_list.py",
     "varRefreshCmd": "print(var_dic_list())"
    },
    "r": {
     "delete_cmd_postfix": ") ",
     "delete_cmd_prefix": "rm(",
     "library": "var_list.r",
     "varRefreshCmd": "cat(var_dic_list()) "
    }
   },
   "types_to_exclude": [
    "module",
    "function",
    "builtin_function_or_method",
    "instance",
    "_Feature"
   ],
   "window_display": false
  }
 },
 "nbformat": 4,
 "nbformat_minor": 2
}
