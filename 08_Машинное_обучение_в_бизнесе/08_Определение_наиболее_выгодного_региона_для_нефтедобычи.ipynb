{
 "cells": [
  {
   "cell_type": "markdown",
   "metadata": {},
   "source": [
    "# Выбор локации для скважины"
   ]
  },
  {
   "cell_type": "markdown",
   "metadata": {},
   "source": [
    "Предоставлены пробы нефти в трёх регионах: в каждом 10 000 месторождений, где измерили качество нефти и объём её запасов. По\n",
    "Необходимо построить модель машинного обучения, которая поможет определить регион, где добыча принесёт наибольшую прибыль. Проанализируем возможную прибыль и риски техникой *Bootstrap.*\n",
    "\n",
    "Шаги для выбора локации:\n",
    "\n",
    "- В избранном регионе ищут месторождения, для каждого определяют значения признаков;\n",
    "- Строят модель и оценивают объём запасов;\n",
    "- Выбирают месторождения с самым высокими оценками значений. Количество месторождений зависит от бюджета компании и стоимости разработки одной скважины;\n",
    "- Прибыль равна суммарной прибыли отобранных месторождений."
   ]
  },
  {
   "cell_type": "markdown",
   "metadata": {
    "toc": true
   },
   "source": [
    "<h1>Содержание<span class=\"tocSkip\"></span></h1>\n",
    "<div class=\"toc\"><ul class=\"toc-item\"><li><span><a href=\"#Загрузка-и-подготовка-данных\" data-toc-modified-id=\"Загрузка-и-подготовка-данных-1\"><span class=\"toc-item-num\">1&nbsp;&nbsp;</span>Загрузка и подготовка данных</a></span><ul class=\"toc-item\"><li><span><a href=\"#Вывод\" data-toc-modified-id=\"Вывод-1.1\"><span class=\"toc-item-num\">1.1&nbsp;&nbsp;</span>Вывод</a></span></li></ul></li><li><span><a href=\"#Обучение-и-проверка-модели\" data-toc-modified-id=\"Обучение-и-проверка-модели-2\"><span class=\"toc-item-num\">2&nbsp;&nbsp;</span>Обучение и проверка модели</a></span><ul class=\"toc-item\"><li><span><a href=\"#Вывод\" data-toc-modified-id=\"Вывод-2.1\"><span class=\"toc-item-num\">2.1&nbsp;&nbsp;</span>Вывод</a></span></li></ul></li><li><span><a href=\"#Подготовка-к-расчёту-прибыли\" data-toc-modified-id=\"Подготовка-к-расчёту-прибыли-3\"><span class=\"toc-item-num\">3&nbsp;&nbsp;</span>Подготовка к расчёту прибыли</a></span><ul class=\"toc-item\"><li><span><a href=\"#Вывод\" data-toc-modified-id=\"Вывод-3.1\"><span class=\"toc-item-num\">3.1&nbsp;&nbsp;</span>Вывод</a></span></li></ul></li><li><span><a href=\"#Расчёт-прибыли-и-рисков\" data-toc-modified-id=\"Расчёт-прибыли-и-рисков-4\"><span class=\"toc-item-num\">4&nbsp;&nbsp;</span>Расчёт прибыли и рисков</a></span><ul class=\"toc-item\"><li><span><a href=\"#Вывод\" data-toc-modified-id=\"Вывод-4.1\"><span class=\"toc-item-num\">4.1&nbsp;&nbsp;</span>Вывод</a></span></li></ul></li><li><span><a href=\"#Общий-вывод\" data-toc-modified-id=\"Общий-вывод-5\"><span class=\"toc-item-num\">5&nbsp;&nbsp;</span>Общий вывод</a></span></li></ul></div>"
   ]
  },
  {
   "cell_type": "markdown",
   "metadata": {},
   "source": [
    "## Загрузка и подготовка данных"
   ]
  },
  {
   "cell_type": "code",
   "execution_count": 1,
   "metadata": {},
   "outputs": [],
   "source": [
    "import pandas as pd\n",
    "import numpy as np\n",
    "from sklearn.linear_model import LinearRegression\n",
    "from sklearn.model_selection import train_test_split\n",
    "from sklearn.metrics import mean_squared_error\n",
    "from numpy.random import RandomState\n",
    "from scipy import stats as st\n",
    "import warnings\n",
    "warnings.filterwarnings('ignore')\n",
    "\n",
    "RS = 12345"
   ]
  },
  {
   "cell_type": "code",
   "execution_count": 2,
   "metadata": {},
   "outputs": [],
   "source": [
    "df_0 = pd.read_csv('/datasets/geo_data_0.csv')\n",
    "df_1 = pd.read_csv('/datasets/geo_data_1.csv')\n",
    "df_2 = pd.read_csv('/datasets/geo_data_2.csv')"
   ]
  },
  {
   "cell_type": "markdown",
   "metadata": {},
   "source": [
    "Для удобства в дальнейшей работе создадим список, включающий в себя исходные данные:"
   ]
  },
  {
   "cell_type": "code",
   "execution_count": 3,
   "metadata": {},
   "outputs": [],
   "source": [
    "dfs = [df_0, df_1, df_2]"
   ]
  },
  {
   "cell_type": "markdown",
   "metadata": {},
   "source": [
    "Создадим функцию `data_info`, выводящую на экран информацию о таблице:"
   ]
  },
  {
   "cell_type": "code",
   "execution_count": 4,
   "metadata": {},
   "outputs": [],
   "source": [
    "def data_info(data):\n",
    "    print(f'Выведем первые 5 строк таблицы:')\n",
    "    display(data.head())\n",
    "    print(f'Выведем последние 5 строк таблицы:')\n",
    "    display(data.tail())\n",
    "    print(f'Выведем случайные 5 строк таблицы:')\n",
    "    display(data.sample(5, random_state=RS))\n",
    "    print(f'Выведем основную информацию о таблице:')\n",
    "    data.info()\n",
    "    print()\n",
    "    print(f'Выведем описательные статистики таблицы:')\n",
    "    display(data.describe().T)\n",
    "    print(f'Проверим таблицу на пропуски: ')\n",
    "    display(data.isna().sum())\n",
    "    print(f'Проверим таблицу на дубликаты: ')\n",
    "    display(data.duplicated().sum())"
   ]
  },
  {
   "cell_type": "markdown",
   "metadata": {},
   "source": [
    "Рассмотрим основную информацию о таблицах:"
   ]
  },
  {
   "cell_type": "code",
   "execution_count": 5,
   "metadata": {},
   "outputs": [
    {
     "name": "stdout",
     "output_type": "stream",
     "text": [
      "Информация о таблице с данными для 1-го региона: \n",
      " \n",
      "Выведем первые 5 строк таблицы:\n"
     ]
    },
    {
     "data": {
      "text/html": [
       "<div>\n",
       "<style scoped>\n",
       "    .dataframe tbody tr th:only-of-type {\n",
       "        vertical-align: middle;\n",
       "    }\n",
       "\n",
       "    .dataframe tbody tr th {\n",
       "        vertical-align: top;\n",
       "    }\n",
       "\n",
       "    .dataframe thead th {\n",
       "        text-align: right;\n",
       "    }\n",
       "</style>\n",
       "<table border=\"1\" class=\"dataframe\">\n",
       "  <thead>\n",
       "    <tr style=\"text-align: right;\">\n",
       "      <th></th>\n",
       "      <th>id</th>\n",
       "      <th>f0</th>\n",
       "      <th>f1</th>\n",
       "      <th>f2</th>\n",
       "      <th>product</th>\n",
       "    </tr>\n",
       "  </thead>\n",
       "  <tbody>\n",
       "    <tr>\n",
       "      <td>0</td>\n",
       "      <td>txEyH</td>\n",
       "      <td>0.705745</td>\n",
       "      <td>-0.497823</td>\n",
       "      <td>1.221170</td>\n",
       "      <td>105.280062</td>\n",
       "    </tr>\n",
       "    <tr>\n",
       "      <td>1</td>\n",
       "      <td>2acmU</td>\n",
       "      <td>1.334711</td>\n",
       "      <td>-0.340164</td>\n",
       "      <td>4.365080</td>\n",
       "      <td>73.037750</td>\n",
       "    </tr>\n",
       "    <tr>\n",
       "      <td>2</td>\n",
       "      <td>409Wp</td>\n",
       "      <td>1.022732</td>\n",
       "      <td>0.151990</td>\n",
       "      <td>1.419926</td>\n",
       "      <td>85.265647</td>\n",
       "    </tr>\n",
       "    <tr>\n",
       "      <td>3</td>\n",
       "      <td>iJLyR</td>\n",
       "      <td>-0.032172</td>\n",
       "      <td>0.139033</td>\n",
       "      <td>2.978566</td>\n",
       "      <td>168.620776</td>\n",
       "    </tr>\n",
       "    <tr>\n",
       "      <td>4</td>\n",
       "      <td>Xdl7t</td>\n",
       "      <td>1.988431</td>\n",
       "      <td>0.155413</td>\n",
       "      <td>4.751769</td>\n",
       "      <td>154.036647</td>\n",
       "    </tr>\n",
       "  </tbody>\n",
       "</table>\n",
       "</div>"
      ],
      "text/plain": [
       "      id        f0        f1        f2     product\n",
       "0  txEyH  0.705745 -0.497823  1.221170  105.280062\n",
       "1  2acmU  1.334711 -0.340164  4.365080   73.037750\n",
       "2  409Wp  1.022732  0.151990  1.419926   85.265647\n",
       "3  iJLyR -0.032172  0.139033  2.978566  168.620776\n",
       "4  Xdl7t  1.988431  0.155413  4.751769  154.036647"
      ]
     },
     "metadata": {},
     "output_type": "display_data"
    },
    {
     "name": "stdout",
     "output_type": "stream",
     "text": [
      "Выведем последние 5 строк таблицы:\n"
     ]
    },
    {
     "data": {
      "text/html": [
       "<div>\n",
       "<style scoped>\n",
       "    .dataframe tbody tr th:only-of-type {\n",
       "        vertical-align: middle;\n",
       "    }\n",
       "\n",
       "    .dataframe tbody tr th {\n",
       "        vertical-align: top;\n",
       "    }\n",
       "\n",
       "    .dataframe thead th {\n",
       "        text-align: right;\n",
       "    }\n",
       "</style>\n",
       "<table border=\"1\" class=\"dataframe\">\n",
       "  <thead>\n",
       "    <tr style=\"text-align: right;\">\n",
       "      <th></th>\n",
       "      <th>id</th>\n",
       "      <th>f0</th>\n",
       "      <th>f1</th>\n",
       "      <th>f2</th>\n",
       "      <th>product</th>\n",
       "    </tr>\n",
       "  </thead>\n",
       "  <tbody>\n",
       "    <tr>\n",
       "      <td>99995</td>\n",
       "      <td>DLsed</td>\n",
       "      <td>0.971957</td>\n",
       "      <td>0.370953</td>\n",
       "      <td>6.075346</td>\n",
       "      <td>110.744026</td>\n",
       "    </tr>\n",
       "    <tr>\n",
       "      <td>99996</td>\n",
       "      <td>QKivN</td>\n",
       "      <td>1.392429</td>\n",
       "      <td>-0.382606</td>\n",
       "      <td>1.273912</td>\n",
       "      <td>122.346843</td>\n",
       "    </tr>\n",
       "    <tr>\n",
       "      <td>99997</td>\n",
       "      <td>3rnvd</td>\n",
       "      <td>1.029585</td>\n",
       "      <td>0.018787</td>\n",
       "      <td>-1.348308</td>\n",
       "      <td>64.375443</td>\n",
       "    </tr>\n",
       "    <tr>\n",
       "      <td>99998</td>\n",
       "      <td>7kl59</td>\n",
       "      <td>0.998163</td>\n",
       "      <td>-0.528582</td>\n",
       "      <td>1.583869</td>\n",
       "      <td>74.040764</td>\n",
       "    </tr>\n",
       "    <tr>\n",
       "      <td>99999</td>\n",
       "      <td>1CWhH</td>\n",
       "      <td>1.764754</td>\n",
       "      <td>-0.266417</td>\n",
       "      <td>5.722849</td>\n",
       "      <td>149.633246</td>\n",
       "    </tr>\n",
       "  </tbody>\n",
       "</table>\n",
       "</div>"
      ],
      "text/plain": [
       "          id        f0        f1        f2     product\n",
       "99995  DLsed  0.971957  0.370953  6.075346  110.744026\n",
       "99996  QKivN  1.392429 -0.382606  1.273912  122.346843\n",
       "99997  3rnvd  1.029585  0.018787 -1.348308   64.375443\n",
       "99998  7kl59  0.998163 -0.528582  1.583869   74.040764\n",
       "99999  1CWhH  1.764754 -0.266417  5.722849  149.633246"
      ]
     },
     "metadata": {},
     "output_type": "display_data"
    },
    {
     "name": "stdout",
     "output_type": "stream",
     "text": [
      "Выведем случайные 5 строк таблицы:\n"
     ]
    },
    {
     "data": {
      "text/html": [
       "<div>\n",
       "<style scoped>\n",
       "    .dataframe tbody tr th:only-of-type {\n",
       "        vertical-align: middle;\n",
       "    }\n",
       "\n",
       "    .dataframe tbody tr th {\n",
       "        vertical-align: top;\n",
       "    }\n",
       "\n",
       "    .dataframe thead th {\n",
       "        text-align: right;\n",
       "    }\n",
       "</style>\n",
       "<table border=\"1\" class=\"dataframe\">\n",
       "  <thead>\n",
       "    <tr style=\"text-align: right;\">\n",
       "      <th></th>\n",
       "      <th>id</th>\n",
       "      <th>f0</th>\n",
       "      <th>f1</th>\n",
       "      <th>f2</th>\n",
       "      <th>product</th>\n",
       "    </tr>\n",
       "  </thead>\n",
       "  <tbody>\n",
       "    <tr>\n",
       "      <td>71751</td>\n",
       "      <td>7Z2gx</td>\n",
       "      <td>0.948970</td>\n",
       "      <td>-0.057547</td>\n",
       "      <td>2.095727</td>\n",
       "      <td>10.038645</td>\n",
       "    </tr>\n",
       "    <tr>\n",
       "      <td>80493</td>\n",
       "      <td>b2HU8</td>\n",
       "      <td>0.992974</td>\n",
       "      <td>0.206671</td>\n",
       "      <td>-0.142278</td>\n",
       "      <td>114.551489</td>\n",
       "    </tr>\n",
       "    <tr>\n",
       "      <td>2655</td>\n",
       "      <td>Y0dXD</td>\n",
       "      <td>1.199854</td>\n",
       "      <td>-0.563356</td>\n",
       "      <td>-1.852991</td>\n",
       "      <td>132.603635</td>\n",
       "    </tr>\n",
       "    <tr>\n",
       "      <td>53233</td>\n",
       "      <td>Mje59</td>\n",
       "      <td>0.691422</td>\n",
       "      <td>-0.433347</td>\n",
       "      <td>0.564974</td>\n",
       "      <td>169.072125</td>\n",
       "    </tr>\n",
       "    <tr>\n",
       "      <td>91141</td>\n",
       "      <td>yqXxU</td>\n",
       "      <td>0.420772</td>\n",
       "      <td>0.972638</td>\n",
       "      <td>0.736190</td>\n",
       "      <td>122.325180</td>\n",
       "    </tr>\n",
       "  </tbody>\n",
       "</table>\n",
       "</div>"
      ],
      "text/plain": [
       "          id        f0        f1        f2     product\n",
       "71751  7Z2gx  0.948970 -0.057547  2.095727   10.038645\n",
       "80493  b2HU8  0.992974  0.206671 -0.142278  114.551489\n",
       "2655   Y0dXD  1.199854 -0.563356 -1.852991  132.603635\n",
       "53233  Mje59  0.691422 -0.433347  0.564974  169.072125\n",
       "91141  yqXxU  0.420772  0.972638  0.736190  122.325180"
      ]
     },
     "metadata": {},
     "output_type": "display_data"
    },
    {
     "name": "stdout",
     "output_type": "stream",
     "text": [
      "Выведем основную информацию о таблице:\n",
      "<class 'pandas.core.frame.DataFrame'>\n",
      "RangeIndex: 100000 entries, 0 to 99999\n",
      "Data columns (total 5 columns):\n",
      "id         100000 non-null object\n",
      "f0         100000 non-null float64\n",
      "f1         100000 non-null float64\n",
      "f2         100000 non-null float64\n",
      "product    100000 non-null float64\n",
      "dtypes: float64(4), object(1)\n",
      "memory usage: 3.8+ MB\n",
      "\n",
      "Выведем описательные статистики таблицы:\n"
     ]
    },
    {
     "data": {
      "text/html": [
       "<div>\n",
       "<style scoped>\n",
       "    .dataframe tbody tr th:only-of-type {\n",
       "        vertical-align: middle;\n",
       "    }\n",
       "\n",
       "    .dataframe tbody tr th {\n",
       "        vertical-align: top;\n",
       "    }\n",
       "\n",
       "    .dataframe thead th {\n",
       "        text-align: right;\n",
       "    }\n",
       "</style>\n",
       "<table border=\"1\" class=\"dataframe\">\n",
       "  <thead>\n",
       "    <tr style=\"text-align: right;\">\n",
       "      <th></th>\n",
       "      <th>count</th>\n",
       "      <th>mean</th>\n",
       "      <th>std</th>\n",
       "      <th>min</th>\n",
       "      <th>25%</th>\n",
       "      <th>50%</th>\n",
       "      <th>75%</th>\n",
       "      <th>max</th>\n",
       "    </tr>\n",
       "  </thead>\n",
       "  <tbody>\n",
       "    <tr>\n",
       "      <td>f0</td>\n",
       "      <td>100000.0</td>\n",
       "      <td>0.500419</td>\n",
       "      <td>0.871832</td>\n",
       "      <td>-1.408605</td>\n",
       "      <td>-0.072580</td>\n",
       "      <td>0.502360</td>\n",
       "      <td>1.073581</td>\n",
       "      <td>2.362331</td>\n",
       "    </tr>\n",
       "    <tr>\n",
       "      <td>f1</td>\n",
       "      <td>100000.0</td>\n",
       "      <td>0.250143</td>\n",
       "      <td>0.504433</td>\n",
       "      <td>-0.848218</td>\n",
       "      <td>-0.200881</td>\n",
       "      <td>0.250252</td>\n",
       "      <td>0.700646</td>\n",
       "      <td>1.343769</td>\n",
       "    </tr>\n",
       "    <tr>\n",
       "      <td>f2</td>\n",
       "      <td>100000.0</td>\n",
       "      <td>2.502647</td>\n",
       "      <td>3.248248</td>\n",
       "      <td>-12.088328</td>\n",
       "      <td>0.287748</td>\n",
       "      <td>2.515969</td>\n",
       "      <td>4.715088</td>\n",
       "      <td>16.003790</td>\n",
       "    </tr>\n",
       "    <tr>\n",
       "      <td>product</td>\n",
       "      <td>100000.0</td>\n",
       "      <td>92.500000</td>\n",
       "      <td>44.288691</td>\n",
       "      <td>0.000000</td>\n",
       "      <td>56.497507</td>\n",
       "      <td>91.849972</td>\n",
       "      <td>128.564089</td>\n",
       "      <td>185.364347</td>\n",
       "    </tr>\n",
       "  </tbody>\n",
       "</table>\n",
       "</div>"
      ],
      "text/plain": [
       "            count       mean        std        min        25%        50%  \\\n",
       "f0       100000.0   0.500419   0.871832  -1.408605  -0.072580   0.502360   \n",
       "f1       100000.0   0.250143   0.504433  -0.848218  -0.200881   0.250252   \n",
       "f2       100000.0   2.502647   3.248248 -12.088328   0.287748   2.515969   \n",
       "product  100000.0  92.500000  44.288691   0.000000  56.497507  91.849972   \n",
       "\n",
       "                75%         max  \n",
       "f0         1.073581    2.362331  \n",
       "f1         0.700646    1.343769  \n",
       "f2         4.715088   16.003790  \n",
       "product  128.564089  185.364347  "
      ]
     },
     "metadata": {},
     "output_type": "display_data"
    },
    {
     "name": "stdout",
     "output_type": "stream",
     "text": [
      "Проверим таблицу на пропуски: \n"
     ]
    },
    {
     "data": {
      "text/plain": [
       "id         0\n",
       "f0         0\n",
       "f1         0\n",
       "f2         0\n",
       "product    0\n",
       "dtype: int64"
      ]
     },
     "metadata": {},
     "output_type": "display_data"
    },
    {
     "name": "stdout",
     "output_type": "stream",
     "text": [
      "Проверим таблицу на дубликаты: \n"
     ]
    },
    {
     "data": {
      "text/plain": [
       "0"
      ]
     },
     "metadata": {},
     "output_type": "display_data"
    },
    {
     "name": "stdout",
     "output_type": "stream",
     "text": [
      "Информация о таблице с данными для 2-го региона: \n",
      " \n",
      "Выведем первые 5 строк таблицы:\n"
     ]
    },
    {
     "data": {
      "text/html": [
       "<div>\n",
       "<style scoped>\n",
       "    .dataframe tbody tr th:only-of-type {\n",
       "        vertical-align: middle;\n",
       "    }\n",
       "\n",
       "    .dataframe tbody tr th {\n",
       "        vertical-align: top;\n",
       "    }\n",
       "\n",
       "    .dataframe thead th {\n",
       "        text-align: right;\n",
       "    }\n",
       "</style>\n",
       "<table border=\"1\" class=\"dataframe\">\n",
       "  <thead>\n",
       "    <tr style=\"text-align: right;\">\n",
       "      <th></th>\n",
       "      <th>id</th>\n",
       "      <th>f0</th>\n",
       "      <th>f1</th>\n",
       "      <th>f2</th>\n",
       "      <th>product</th>\n",
       "    </tr>\n",
       "  </thead>\n",
       "  <tbody>\n",
       "    <tr>\n",
       "      <td>0</td>\n",
       "      <td>kBEdx</td>\n",
       "      <td>-15.001348</td>\n",
       "      <td>-8.276000</td>\n",
       "      <td>-0.005876</td>\n",
       "      <td>3.179103</td>\n",
       "    </tr>\n",
       "    <tr>\n",
       "      <td>1</td>\n",
       "      <td>62mP7</td>\n",
       "      <td>14.272088</td>\n",
       "      <td>-3.475083</td>\n",
       "      <td>0.999183</td>\n",
       "      <td>26.953261</td>\n",
       "    </tr>\n",
       "    <tr>\n",
       "      <td>2</td>\n",
       "      <td>vyE1P</td>\n",
       "      <td>6.263187</td>\n",
       "      <td>-5.948386</td>\n",
       "      <td>5.001160</td>\n",
       "      <td>134.766305</td>\n",
       "    </tr>\n",
       "    <tr>\n",
       "      <td>3</td>\n",
       "      <td>KcrkZ</td>\n",
       "      <td>-13.081196</td>\n",
       "      <td>-11.506057</td>\n",
       "      <td>4.999415</td>\n",
       "      <td>137.945408</td>\n",
       "    </tr>\n",
       "    <tr>\n",
       "      <td>4</td>\n",
       "      <td>AHL4O</td>\n",
       "      <td>12.702195</td>\n",
       "      <td>-8.147433</td>\n",
       "      <td>5.004363</td>\n",
       "      <td>134.766305</td>\n",
       "    </tr>\n",
       "  </tbody>\n",
       "</table>\n",
       "</div>"
      ],
      "text/plain": [
       "      id         f0         f1        f2     product\n",
       "0  kBEdx -15.001348  -8.276000 -0.005876    3.179103\n",
       "1  62mP7  14.272088  -3.475083  0.999183   26.953261\n",
       "2  vyE1P   6.263187  -5.948386  5.001160  134.766305\n",
       "3  KcrkZ -13.081196 -11.506057  4.999415  137.945408\n",
       "4  AHL4O  12.702195  -8.147433  5.004363  134.766305"
      ]
     },
     "metadata": {},
     "output_type": "display_data"
    },
    {
     "name": "stdout",
     "output_type": "stream",
     "text": [
      "Выведем последние 5 строк таблицы:\n"
     ]
    },
    {
     "data": {
      "text/html": [
       "<div>\n",
       "<style scoped>\n",
       "    .dataframe tbody tr th:only-of-type {\n",
       "        vertical-align: middle;\n",
       "    }\n",
       "\n",
       "    .dataframe tbody tr th {\n",
       "        vertical-align: top;\n",
       "    }\n",
       "\n",
       "    .dataframe thead th {\n",
       "        text-align: right;\n",
       "    }\n",
       "</style>\n",
       "<table border=\"1\" class=\"dataframe\">\n",
       "  <thead>\n",
       "    <tr style=\"text-align: right;\">\n",
       "      <th></th>\n",
       "      <th>id</th>\n",
       "      <th>f0</th>\n",
       "      <th>f1</th>\n",
       "      <th>f2</th>\n",
       "      <th>product</th>\n",
       "    </tr>\n",
       "  </thead>\n",
       "  <tbody>\n",
       "    <tr>\n",
       "      <td>99995</td>\n",
       "      <td>QywKC</td>\n",
       "      <td>9.535637</td>\n",
       "      <td>-6.878139</td>\n",
       "      <td>1.998296</td>\n",
       "      <td>53.906522</td>\n",
       "    </tr>\n",
       "    <tr>\n",
       "      <td>99996</td>\n",
       "      <td>ptvty</td>\n",
       "      <td>-10.160631</td>\n",
       "      <td>-12.558096</td>\n",
       "      <td>5.005581</td>\n",
       "      <td>137.945408</td>\n",
       "    </tr>\n",
       "    <tr>\n",
       "      <td>99997</td>\n",
       "      <td>09gWa</td>\n",
       "      <td>-7.378891</td>\n",
       "      <td>-3.084104</td>\n",
       "      <td>4.998651</td>\n",
       "      <td>137.945408</td>\n",
       "    </tr>\n",
       "    <tr>\n",
       "      <td>99998</td>\n",
       "      <td>rqwUm</td>\n",
       "      <td>0.665714</td>\n",
       "      <td>-6.152593</td>\n",
       "      <td>1.000146</td>\n",
       "      <td>30.132364</td>\n",
       "    </tr>\n",
       "    <tr>\n",
       "      <td>99999</td>\n",
       "      <td>relB0</td>\n",
       "      <td>-3.426139</td>\n",
       "      <td>-7.794274</td>\n",
       "      <td>-0.003299</td>\n",
       "      <td>3.179103</td>\n",
       "    </tr>\n",
       "  </tbody>\n",
       "</table>\n",
       "</div>"
      ],
      "text/plain": [
       "          id         f0         f1        f2     product\n",
       "99995  QywKC   9.535637  -6.878139  1.998296   53.906522\n",
       "99996  ptvty -10.160631 -12.558096  5.005581  137.945408\n",
       "99997  09gWa  -7.378891  -3.084104  4.998651  137.945408\n",
       "99998  rqwUm   0.665714  -6.152593  1.000146   30.132364\n",
       "99999  relB0  -3.426139  -7.794274 -0.003299    3.179103"
      ]
     },
     "metadata": {},
     "output_type": "display_data"
    },
    {
     "name": "stdout",
     "output_type": "stream",
     "text": [
      "Выведем случайные 5 строк таблицы:\n"
     ]
    },
    {
     "data": {
      "text/html": [
       "<div>\n",
       "<style scoped>\n",
       "    .dataframe tbody tr th:only-of-type {\n",
       "        vertical-align: middle;\n",
       "    }\n",
       "\n",
       "    .dataframe tbody tr th {\n",
       "        vertical-align: top;\n",
       "    }\n",
       "\n",
       "    .dataframe thead th {\n",
       "        text-align: right;\n",
       "    }\n",
       "</style>\n",
       "<table border=\"1\" class=\"dataframe\">\n",
       "  <thead>\n",
       "    <tr style=\"text-align: right;\">\n",
       "      <th></th>\n",
       "      <th>id</th>\n",
       "      <th>f0</th>\n",
       "      <th>f1</th>\n",
       "      <th>f2</th>\n",
       "      <th>product</th>\n",
       "    </tr>\n",
       "  </thead>\n",
       "  <tbody>\n",
       "    <tr>\n",
       "      <td>71751</td>\n",
       "      <td>aTbUt</td>\n",
       "      <td>-0.371866</td>\n",
       "      <td>-1.862494</td>\n",
       "      <td>3.002210</td>\n",
       "      <td>80.859783</td>\n",
       "    </tr>\n",
       "    <tr>\n",
       "      <td>80493</td>\n",
       "      <td>CK34V</td>\n",
       "      <td>9.015122</td>\n",
       "      <td>-13.881455</td>\n",
       "      <td>1.995363</td>\n",
       "      <td>53.906522</td>\n",
       "    </tr>\n",
       "    <tr>\n",
       "      <td>2655</td>\n",
       "      <td>ioXCO</td>\n",
       "      <td>-6.507568</td>\n",
       "      <td>-4.817448</td>\n",
       "      <td>1.003449</td>\n",
       "      <td>30.132364</td>\n",
       "    </tr>\n",
       "    <tr>\n",
       "      <td>53233</td>\n",
       "      <td>xk6tF</td>\n",
       "      <td>14.560845</td>\n",
       "      <td>-10.667755</td>\n",
       "      <td>1.995175</td>\n",
       "      <td>53.906522</td>\n",
       "    </tr>\n",
       "    <tr>\n",
       "      <td>91141</td>\n",
       "      <td>F9AmG</td>\n",
       "      <td>6.090476</td>\n",
       "      <td>-4.494723</td>\n",
       "      <td>0.013815</td>\n",
       "      <td>0.000000</td>\n",
       "    </tr>\n",
       "  </tbody>\n",
       "</table>\n",
       "</div>"
      ],
      "text/plain": [
       "          id         f0         f1        f2    product\n",
       "71751  aTbUt  -0.371866  -1.862494  3.002210  80.859783\n",
       "80493  CK34V   9.015122 -13.881455  1.995363  53.906522\n",
       "2655   ioXCO  -6.507568  -4.817448  1.003449  30.132364\n",
       "53233  xk6tF  14.560845 -10.667755  1.995175  53.906522\n",
       "91141  F9AmG   6.090476  -4.494723  0.013815   0.000000"
      ]
     },
     "metadata": {},
     "output_type": "display_data"
    },
    {
     "name": "stdout",
     "output_type": "stream",
     "text": [
      "Выведем основную информацию о таблице:\n",
      "<class 'pandas.core.frame.DataFrame'>\n",
      "RangeIndex: 100000 entries, 0 to 99999\n",
      "Data columns (total 5 columns):\n",
      "id         100000 non-null object\n",
      "f0         100000 non-null float64\n",
      "f1         100000 non-null float64\n",
      "f2         100000 non-null float64\n",
      "product    100000 non-null float64\n",
      "dtypes: float64(4), object(1)\n",
      "memory usage: 3.8+ MB\n",
      "\n",
      "Выведем описательные статистики таблицы:\n"
     ]
    },
    {
     "data": {
      "text/html": [
       "<div>\n",
       "<style scoped>\n",
       "    .dataframe tbody tr th:only-of-type {\n",
       "        vertical-align: middle;\n",
       "    }\n",
       "\n",
       "    .dataframe tbody tr th {\n",
       "        vertical-align: top;\n",
       "    }\n",
       "\n",
       "    .dataframe thead th {\n",
       "        text-align: right;\n",
       "    }\n",
       "</style>\n",
       "<table border=\"1\" class=\"dataframe\">\n",
       "  <thead>\n",
       "    <tr style=\"text-align: right;\">\n",
       "      <th></th>\n",
       "      <th>count</th>\n",
       "      <th>mean</th>\n",
       "      <th>std</th>\n",
       "      <th>min</th>\n",
       "      <th>25%</th>\n",
       "      <th>50%</th>\n",
       "      <th>75%</th>\n",
       "      <th>max</th>\n",
       "    </tr>\n",
       "  </thead>\n",
       "  <tbody>\n",
       "    <tr>\n",
       "      <td>f0</td>\n",
       "      <td>100000.0</td>\n",
       "      <td>1.141296</td>\n",
       "      <td>8.965932</td>\n",
       "      <td>-31.609576</td>\n",
       "      <td>-6.298551</td>\n",
       "      <td>1.153055</td>\n",
       "      <td>8.621015</td>\n",
       "      <td>29.421755</td>\n",
       "    </tr>\n",
       "    <tr>\n",
       "      <td>f1</td>\n",
       "      <td>100000.0</td>\n",
       "      <td>-4.796579</td>\n",
       "      <td>5.119872</td>\n",
       "      <td>-26.358598</td>\n",
       "      <td>-8.267985</td>\n",
       "      <td>-4.813172</td>\n",
       "      <td>-1.332816</td>\n",
       "      <td>18.734063</td>\n",
       "    </tr>\n",
       "    <tr>\n",
       "      <td>f2</td>\n",
       "      <td>100000.0</td>\n",
       "      <td>2.494541</td>\n",
       "      <td>1.703572</td>\n",
       "      <td>-0.018144</td>\n",
       "      <td>1.000021</td>\n",
       "      <td>2.011479</td>\n",
       "      <td>3.999904</td>\n",
       "      <td>5.019721</td>\n",
       "    </tr>\n",
       "    <tr>\n",
       "      <td>product</td>\n",
       "      <td>100000.0</td>\n",
       "      <td>68.825000</td>\n",
       "      <td>45.944423</td>\n",
       "      <td>0.000000</td>\n",
       "      <td>26.953261</td>\n",
       "      <td>57.085625</td>\n",
       "      <td>107.813044</td>\n",
       "      <td>137.945408</td>\n",
       "    </tr>\n",
       "  </tbody>\n",
       "</table>\n",
       "</div>"
      ],
      "text/plain": [
       "            count       mean        std        min        25%        50%  \\\n",
       "f0       100000.0   1.141296   8.965932 -31.609576  -6.298551   1.153055   \n",
       "f1       100000.0  -4.796579   5.119872 -26.358598  -8.267985  -4.813172   \n",
       "f2       100000.0   2.494541   1.703572  -0.018144   1.000021   2.011479   \n",
       "product  100000.0  68.825000  45.944423   0.000000  26.953261  57.085625   \n",
       "\n",
       "                75%         max  \n",
       "f0         8.621015   29.421755  \n",
       "f1        -1.332816   18.734063  \n",
       "f2         3.999904    5.019721  \n",
       "product  107.813044  137.945408  "
      ]
     },
     "metadata": {},
     "output_type": "display_data"
    },
    {
     "name": "stdout",
     "output_type": "stream",
     "text": [
      "Проверим таблицу на пропуски: \n"
     ]
    },
    {
     "data": {
      "text/plain": [
       "id         0\n",
       "f0         0\n",
       "f1         0\n",
       "f2         0\n",
       "product    0\n",
       "dtype: int64"
      ]
     },
     "metadata": {},
     "output_type": "display_data"
    },
    {
     "name": "stdout",
     "output_type": "stream",
     "text": [
      "Проверим таблицу на дубликаты: \n"
     ]
    },
    {
     "data": {
      "text/plain": [
       "0"
      ]
     },
     "metadata": {},
     "output_type": "display_data"
    },
    {
     "name": "stdout",
     "output_type": "stream",
     "text": [
      "Информация о таблице с данными для 3-го региона: \n",
      " \n",
      "Выведем первые 5 строк таблицы:\n"
     ]
    },
    {
     "data": {
      "text/html": [
       "<div>\n",
       "<style scoped>\n",
       "    .dataframe tbody tr th:only-of-type {\n",
       "        vertical-align: middle;\n",
       "    }\n",
       "\n",
       "    .dataframe tbody tr th {\n",
       "        vertical-align: top;\n",
       "    }\n",
       "\n",
       "    .dataframe thead th {\n",
       "        text-align: right;\n",
       "    }\n",
       "</style>\n",
       "<table border=\"1\" class=\"dataframe\">\n",
       "  <thead>\n",
       "    <tr style=\"text-align: right;\">\n",
       "      <th></th>\n",
       "      <th>id</th>\n",
       "      <th>f0</th>\n",
       "      <th>f1</th>\n",
       "      <th>f2</th>\n",
       "      <th>product</th>\n",
       "    </tr>\n",
       "  </thead>\n",
       "  <tbody>\n",
       "    <tr>\n",
       "      <td>0</td>\n",
       "      <td>fwXo0</td>\n",
       "      <td>-1.146987</td>\n",
       "      <td>0.963328</td>\n",
       "      <td>-0.828965</td>\n",
       "      <td>27.758673</td>\n",
       "    </tr>\n",
       "    <tr>\n",
       "      <td>1</td>\n",
       "      <td>WJtFt</td>\n",
       "      <td>0.262778</td>\n",
       "      <td>0.269839</td>\n",
       "      <td>-2.530187</td>\n",
       "      <td>56.069697</td>\n",
       "    </tr>\n",
       "    <tr>\n",
       "      <td>2</td>\n",
       "      <td>ovLUW</td>\n",
       "      <td>0.194587</td>\n",
       "      <td>0.289035</td>\n",
       "      <td>-5.586433</td>\n",
       "      <td>62.871910</td>\n",
       "    </tr>\n",
       "    <tr>\n",
       "      <td>3</td>\n",
       "      <td>q6cA6</td>\n",
       "      <td>2.236060</td>\n",
       "      <td>-0.553760</td>\n",
       "      <td>0.930038</td>\n",
       "      <td>114.572842</td>\n",
       "    </tr>\n",
       "    <tr>\n",
       "      <td>4</td>\n",
       "      <td>WPMUX</td>\n",
       "      <td>-0.515993</td>\n",
       "      <td>1.716266</td>\n",
       "      <td>5.899011</td>\n",
       "      <td>149.600746</td>\n",
       "    </tr>\n",
       "  </tbody>\n",
       "</table>\n",
       "</div>"
      ],
      "text/plain": [
       "      id        f0        f1        f2     product\n",
       "0  fwXo0 -1.146987  0.963328 -0.828965   27.758673\n",
       "1  WJtFt  0.262778  0.269839 -2.530187   56.069697\n",
       "2  ovLUW  0.194587  0.289035 -5.586433   62.871910\n",
       "3  q6cA6  2.236060 -0.553760  0.930038  114.572842\n",
       "4  WPMUX -0.515993  1.716266  5.899011  149.600746"
      ]
     },
     "metadata": {},
     "output_type": "display_data"
    },
    {
     "name": "stdout",
     "output_type": "stream",
     "text": [
      "Выведем последние 5 строк таблицы:\n"
     ]
    },
    {
     "data": {
      "text/html": [
       "<div>\n",
       "<style scoped>\n",
       "    .dataframe tbody tr th:only-of-type {\n",
       "        vertical-align: middle;\n",
       "    }\n",
       "\n",
       "    .dataframe tbody tr th {\n",
       "        vertical-align: top;\n",
       "    }\n",
       "\n",
       "    .dataframe thead th {\n",
       "        text-align: right;\n",
       "    }\n",
       "</style>\n",
       "<table border=\"1\" class=\"dataframe\">\n",
       "  <thead>\n",
       "    <tr style=\"text-align: right;\">\n",
       "      <th></th>\n",
       "      <th>id</th>\n",
       "      <th>f0</th>\n",
       "      <th>f1</th>\n",
       "      <th>f2</th>\n",
       "      <th>product</th>\n",
       "    </tr>\n",
       "  </thead>\n",
       "  <tbody>\n",
       "    <tr>\n",
       "      <td>99995</td>\n",
       "      <td>4GxBu</td>\n",
       "      <td>-1.777037</td>\n",
       "      <td>1.125220</td>\n",
       "      <td>6.263374</td>\n",
       "      <td>172.327046</td>\n",
       "    </tr>\n",
       "    <tr>\n",
       "      <td>99996</td>\n",
       "      <td>YKFjq</td>\n",
       "      <td>-1.261523</td>\n",
       "      <td>-0.894828</td>\n",
       "      <td>2.524545</td>\n",
       "      <td>138.748846</td>\n",
       "    </tr>\n",
       "    <tr>\n",
       "      <td>99997</td>\n",
       "      <td>tKPY3</td>\n",
       "      <td>-1.199934</td>\n",
       "      <td>-2.957637</td>\n",
       "      <td>5.219411</td>\n",
       "      <td>157.080080</td>\n",
       "    </tr>\n",
       "    <tr>\n",
       "      <td>99998</td>\n",
       "      <td>nmxp2</td>\n",
       "      <td>-2.419896</td>\n",
       "      <td>2.417221</td>\n",
       "      <td>-5.548444</td>\n",
       "      <td>51.795253</td>\n",
       "    </tr>\n",
       "    <tr>\n",
       "      <td>99999</td>\n",
       "      <td>V9kWn</td>\n",
       "      <td>-2.551421</td>\n",
       "      <td>-2.025625</td>\n",
       "      <td>6.090891</td>\n",
       "      <td>102.775767</td>\n",
       "    </tr>\n",
       "  </tbody>\n",
       "</table>\n",
       "</div>"
      ],
      "text/plain": [
       "          id        f0        f1        f2     product\n",
       "99995  4GxBu -1.777037  1.125220  6.263374  172.327046\n",
       "99996  YKFjq -1.261523 -0.894828  2.524545  138.748846\n",
       "99997  tKPY3 -1.199934 -2.957637  5.219411  157.080080\n",
       "99998  nmxp2 -2.419896  2.417221 -5.548444   51.795253\n",
       "99999  V9kWn -2.551421 -2.025625  6.090891  102.775767"
      ]
     },
     "metadata": {},
     "output_type": "display_data"
    },
    {
     "name": "stdout",
     "output_type": "stream",
     "text": [
      "Выведем случайные 5 строк таблицы:\n"
     ]
    },
    {
     "data": {
      "text/html": [
       "<div>\n",
       "<style scoped>\n",
       "    .dataframe tbody tr th:only-of-type {\n",
       "        vertical-align: middle;\n",
       "    }\n",
       "\n",
       "    .dataframe tbody tr th {\n",
       "        vertical-align: top;\n",
       "    }\n",
       "\n",
       "    .dataframe thead th {\n",
       "        text-align: right;\n",
       "    }\n",
       "</style>\n",
       "<table border=\"1\" class=\"dataframe\">\n",
       "  <thead>\n",
       "    <tr style=\"text-align: right;\">\n",
       "      <th></th>\n",
       "      <th>id</th>\n",
       "      <th>f0</th>\n",
       "      <th>f1</th>\n",
       "      <th>f2</th>\n",
       "      <th>product</th>\n",
       "    </tr>\n",
       "  </thead>\n",
       "  <tbody>\n",
       "    <tr>\n",
       "      <td>71751</td>\n",
       "      <td>DMlgl</td>\n",
       "      <td>-1.444717</td>\n",
       "      <td>-3.861599</td>\n",
       "      <td>2.225805</td>\n",
       "      <td>61.212375</td>\n",
       "    </tr>\n",
       "    <tr>\n",
       "      <td>80493</td>\n",
       "      <td>tbrRC</td>\n",
       "      <td>-1.418617</td>\n",
       "      <td>1.276544</td>\n",
       "      <td>-0.976433</td>\n",
       "      <td>41.850118</td>\n",
       "    </tr>\n",
       "    <tr>\n",
       "      <td>2655</td>\n",
       "      <td>JRs1w</td>\n",
       "      <td>-4.587649</td>\n",
       "      <td>-0.413199</td>\n",
       "      <td>1.649268</td>\n",
       "      <td>57.776581</td>\n",
       "    </tr>\n",
       "    <tr>\n",
       "      <td>53233</td>\n",
       "      <td>bidOx</td>\n",
       "      <td>1.871584</td>\n",
       "      <td>1.619101</td>\n",
       "      <td>4.273555</td>\n",
       "      <td>100.053761</td>\n",
       "    </tr>\n",
       "    <tr>\n",
       "      <td>91141</td>\n",
       "      <td>AcBBB</td>\n",
       "      <td>-2.028785</td>\n",
       "      <td>4.128167</td>\n",
       "      <td>6.089547</td>\n",
       "      <td>109.897122</td>\n",
       "    </tr>\n",
       "  </tbody>\n",
       "</table>\n",
       "</div>"
      ],
      "text/plain": [
       "          id        f0        f1        f2     product\n",
       "71751  DMlgl -1.444717 -3.861599  2.225805   61.212375\n",
       "80493  tbrRC -1.418617  1.276544 -0.976433   41.850118\n",
       "2655   JRs1w -4.587649 -0.413199  1.649268   57.776581\n",
       "53233  bidOx  1.871584  1.619101  4.273555  100.053761\n",
       "91141  AcBBB -2.028785  4.128167  6.089547  109.897122"
      ]
     },
     "metadata": {},
     "output_type": "display_data"
    },
    {
     "name": "stdout",
     "output_type": "stream",
     "text": [
      "Выведем основную информацию о таблице:\n",
      "<class 'pandas.core.frame.DataFrame'>\n",
      "RangeIndex: 100000 entries, 0 to 99999\n",
      "Data columns (total 5 columns):\n",
      "id         100000 non-null object\n",
      "f0         100000 non-null float64\n",
      "f1         100000 non-null float64\n",
      "f2         100000 non-null float64\n",
      "product    100000 non-null float64\n",
      "dtypes: float64(4), object(1)\n",
      "memory usage: 3.8+ MB\n",
      "\n",
      "Выведем описательные статистики таблицы:\n"
     ]
    },
    {
     "data": {
      "text/html": [
       "<div>\n",
       "<style scoped>\n",
       "    .dataframe tbody tr th:only-of-type {\n",
       "        vertical-align: middle;\n",
       "    }\n",
       "\n",
       "    .dataframe tbody tr th {\n",
       "        vertical-align: top;\n",
       "    }\n",
       "\n",
       "    .dataframe thead th {\n",
       "        text-align: right;\n",
       "    }\n",
       "</style>\n",
       "<table border=\"1\" class=\"dataframe\">\n",
       "  <thead>\n",
       "    <tr style=\"text-align: right;\">\n",
       "      <th></th>\n",
       "      <th>count</th>\n",
       "      <th>mean</th>\n",
       "      <th>std</th>\n",
       "      <th>min</th>\n",
       "      <th>25%</th>\n",
       "      <th>50%</th>\n",
       "      <th>75%</th>\n",
       "      <th>max</th>\n",
       "    </tr>\n",
       "  </thead>\n",
       "  <tbody>\n",
       "    <tr>\n",
       "      <td>f0</td>\n",
       "      <td>100000.0</td>\n",
       "      <td>0.002023</td>\n",
       "      <td>1.732045</td>\n",
       "      <td>-8.760004</td>\n",
       "      <td>-1.162288</td>\n",
       "      <td>0.009424</td>\n",
       "      <td>1.158535</td>\n",
       "      <td>7.238262</td>\n",
       "    </tr>\n",
       "    <tr>\n",
       "      <td>f1</td>\n",
       "      <td>100000.0</td>\n",
       "      <td>-0.002081</td>\n",
       "      <td>1.730417</td>\n",
       "      <td>-7.084020</td>\n",
       "      <td>-1.174820</td>\n",
       "      <td>-0.009482</td>\n",
       "      <td>1.163678</td>\n",
       "      <td>7.844801</td>\n",
       "    </tr>\n",
       "    <tr>\n",
       "      <td>f2</td>\n",
       "      <td>100000.0</td>\n",
       "      <td>2.495128</td>\n",
       "      <td>3.473445</td>\n",
       "      <td>-11.970335</td>\n",
       "      <td>0.130359</td>\n",
       "      <td>2.484236</td>\n",
       "      <td>4.858794</td>\n",
       "      <td>16.739402</td>\n",
       "    </tr>\n",
       "    <tr>\n",
       "      <td>product</td>\n",
       "      <td>100000.0</td>\n",
       "      <td>95.000000</td>\n",
       "      <td>44.749921</td>\n",
       "      <td>0.000000</td>\n",
       "      <td>59.450441</td>\n",
       "      <td>94.925613</td>\n",
       "      <td>130.595027</td>\n",
       "      <td>190.029838</td>\n",
       "    </tr>\n",
       "  </tbody>\n",
       "</table>\n",
       "</div>"
      ],
      "text/plain": [
       "            count       mean        std        min        25%        50%  \\\n",
       "f0       100000.0   0.002023   1.732045  -8.760004  -1.162288   0.009424   \n",
       "f1       100000.0  -0.002081   1.730417  -7.084020  -1.174820  -0.009482   \n",
       "f2       100000.0   2.495128   3.473445 -11.970335   0.130359   2.484236   \n",
       "product  100000.0  95.000000  44.749921   0.000000  59.450441  94.925613   \n",
       "\n",
       "                75%         max  \n",
       "f0         1.158535    7.238262  \n",
       "f1         1.163678    7.844801  \n",
       "f2         4.858794   16.739402  \n",
       "product  130.595027  190.029838  "
      ]
     },
     "metadata": {},
     "output_type": "display_data"
    },
    {
     "name": "stdout",
     "output_type": "stream",
     "text": [
      "Проверим таблицу на пропуски: \n"
     ]
    },
    {
     "data": {
      "text/plain": [
       "id         0\n",
       "f0         0\n",
       "f1         0\n",
       "f2         0\n",
       "product    0\n",
       "dtype: int64"
      ]
     },
     "metadata": {},
     "output_type": "display_data"
    },
    {
     "name": "stdout",
     "output_type": "stream",
     "text": [
      "Проверим таблицу на дубликаты: \n"
     ]
    },
    {
     "data": {
      "text/plain": [
       "0"
      ]
     },
     "metadata": {},
     "output_type": "display_data"
    }
   ],
   "source": [
    "for i in range(len(dfs)):\n",
    "    print(f'Информация о таблице с данными для {i + 1}-го региона: \\n ')\n",
    "    data_info(dfs[i])"
   ]
  },
  {
   "cell_type": "markdown",
   "metadata": {},
   "source": [
    "Согласно документации к данным:\n",
    "* **id** — уникальный идентификатор скважины;\n",
    "* **f0, f1, f2** — три признака точек (неважно, что они означают, но сами признаки значимы);\n",
    "* **product** — объём запасов в скважине (тыс. баррелей)."
   ]
  },
  {
   "cell_type": "markdown",
   "metadata": {},
   "source": [
    "Столбец `id` не несет какой-либо полезной информации - удалим его:"
   ]
  },
  {
   "cell_type": "code",
   "execution_count": 6,
   "metadata": {},
   "outputs": [],
   "source": [
    "for df in dfs:\n",
    "    df.drop(['id'], axis=1, inplace=True)"
   ]
  },
  {
   "cell_type": "markdown",
   "metadata": {},
   "source": [
    "### Вывод"
   ]
  },
  {
   "cell_type": "markdown",
   "metadata": {},
   "source": [
    "Предварительно можно утверждать, что имеющихся данных **достаточно** для построения модели машинного обучения и дальнейшего исследования.\n",
    "\n",
    "Данные для каждого региона полные, дубликаты отсутствуют."
   ]
  },
  {
   "cell_type": "markdown",
   "metadata": {},
   "source": [
    "## Обучение и проверка модели"
   ]
  },
  {
   "cell_type": "markdown",
   "metadata": {},
   "source": [
    "Создадим функцию `data_split`, возвращающую словарь с *train* и *valid* данными для их дальнейшего применения:"
   ]
  },
  {
   "cell_type": "code",
   "execution_count": 7,
   "metadata": {},
   "outputs": [],
   "source": [
    "def data_split(data):\n",
    "    data_train, data_valid = train_test_split(data, test_size = 0.25, random_state=RS)\n",
    "    \n",
    "    features_train = data_train.drop(['product'], axis=1)\n",
    "    target_train = data_train['product']\n",
    "    \n",
    "    features_valid = data_valid.drop(['product'], axis=1)\n",
    "    target_valid = data_valid['product']\n",
    "    \n",
    "    \n",
    "    return {'features_train': features_train,\n",
    "            'target_train': target_train,\n",
    "            'features_valid': features_valid,\n",
    "            'target_valid': target_valid,\n",
    "            'data_train': data_train,\n",
    "            'data_valid': data_valid\n",
    "           }"
   ]
  },
  {
   "cell_type": "markdown",
   "metadata": {},
   "source": [
    "Создадим функцию `model_predict`, которая обучает модель и возвращает массив с предсказаниями:"
   ]
  },
  {
   "cell_type": "code",
   "execution_count": 8,
   "metadata": {},
   "outputs": [],
   "source": [
    "def model_predict(features_train, target_train, features_valid):\n",
    "    model = LinearRegression()\n",
    "    model.fit(features_train, target_train)\n",
    "    predictions = model.predict(features_valid)\n",
    "    return predictions"
   ]
  },
  {
   "cell_type": "markdown",
   "metadata": {},
   "source": [
    "Создадим функцию `model_analysis`, выводящую на экран значение метрики **RMSE** для обученной модели и средний запас предсказанного сырья:"
   ]
  },
  {
   "cell_type": "code",
   "execution_count": 9,
   "metadata": {},
   "outputs": [],
   "source": [
    "def model_analysis(data):\n",
    "    features_valid = data_split(data).get('features_valid')\n",
    "    target_valid = data_split(data).get('target_valid')\n",
    "    \n",
    "    features_train = data_split(data).get('features_train')\n",
    "    target_train = data_split(data).get('target_train')\n",
    "    \n",
    "    predictions = model_predict(features_train, target_train, features_valid)\n",
    "    \n",
    "    print(f'Средний запас предсказанного сырья = {predictions.mean()}')\n",
    "    print(f'RMSE = {mean_squared_error(target_valid, predictions) ** 0.5}')\n",
    "    print()"
   ]
  },
  {
   "cell_type": "markdown",
   "metadata": {},
   "source": [
    "Исследуем каждый регион:"
   ]
  },
  {
   "cell_type": "code",
   "execution_count": 10,
   "metadata": {
    "scrolled": true
   },
   "outputs": [
    {
     "name": "stdout",
     "output_type": "stream",
     "text": [
      "Информация для 1-го региона: \n",
      "Средний запас предсказанного сырья = 92.59256778438038\n",
      "RMSE = 37.5794217150813\n",
      "\n",
      "Информация для 2-го региона: \n",
      "Средний запас предсказанного сырья = 68.728546895446\n",
      "RMSE = 0.893099286775616\n",
      "\n",
      "Информация для 3-го региона: \n",
      "Средний запас предсказанного сырья = 94.96504596800489\n",
      "RMSE = 40.02970873393434\n",
      "\n"
     ]
    }
   ],
   "source": [
    "for i in range(len(dfs)):\n",
    "    print(f'Информация для {i + 1}-го региона: ')\n",
    "    model_analysis(dfs[i])"
   ]
  },
  {
   "cell_type": "markdown",
   "metadata": {},
   "source": [
    "Заполним список `predictions` массивами, содержащими предсказания модели каждого региона:"
   ]
  },
  {
   "cell_type": "code",
   "execution_count": 11,
   "metadata": {},
   "outputs": [],
   "source": [
    "predictions = [model_predict(data_split(df).get('features_train'),\n",
    "                  data_split(df).get('target_train'),\n",
    "                  data_split(df).get('features_valid')\n",
    "                  ) for df in dfs]"
   ]
  },
  {
   "cell_type": "markdown",
   "metadata": {},
   "source": [
    "### Вывод"
   ]
  },
  {
   "cell_type": "markdown",
   "metadata": {},
   "source": [
    "Исследование показывает, что наибольшее среднее значение запаса предсказанного сырья у **3-го** региона - **95 тыс. бар.**. Однако данный регион имеет и наибольший разброс (метрика **RMSE**) равный **40 тыс. бар.**.\n",
    "\n",
    "В свою же очередь **2-й** регион показывает наименьшее значение среднего запаса - всего лишь **69 тыс. бар.**. Но разброс значительно меньше относительно других регионов, что позволяет более объективно судить о регионе. Он составляет приблизительно **1 тыс. бар.**"
   ]
  },
  {
   "cell_type": "markdown",
   "metadata": {},
   "source": [
    "## Подготовка к расчёту прибыли"
   ]
  },
  {
   "cell_type": "markdown",
   "metadata": {},
   "source": [
    "Согласно условиям задачи:\n",
    "* При разведке региона исследуют **500** точек, из которых с помощью машинного обучения выбирают **200 лучших** для разработки.\n",
    "* Бюджет на разработку скважин в регионе — **10 млрд рублей**.\n",
    "* При нынешних ценах один баррель сырья приносит **450 рублей** дохода. Доход с каждой единицы продукта составляет **450 тыс. рублей**, поскольку объём указан в тысячах баррелей.\n",
    "* После оценки рисков нужно оставить лишь те регионы, в которых вероятность убытков меньше **2.5%**. Среди них выбирают регион с наибольшей средней прибылью."
   ]
  },
  {
   "cell_type": "markdown",
   "metadata": {},
   "source": [
    "Запишем основные константы для расчёта прибыли:"
   ]
  },
  {
   "cell_type": "code",
   "execution_count": 12,
   "metadata": {},
   "outputs": [],
   "source": [
    "BUDGET = 10 ** 10\n",
    "RUB_PER_BAR = 450\n",
    "RUB_PER_IU = RUB_PER_BAR * 1000\n",
    "POINTS_FOR_BUDGET = 200\n",
    "PROB_RISK = 0.025"
   ]
  },
  {
   "cell_type": "markdown",
   "metadata": {},
   "source": [
    "Рассчитаем достаточный объём сырья для безубыточной разработки новой скважины:"
   ]
  },
  {
   "cell_type": "code",
   "execution_count": 13,
   "metadata": {},
   "outputs": [
    {
     "name": "stdout",
     "output_type": "stream",
     "text": [
      "111 тыс. бар.\n"
     ]
    }
   ],
   "source": [
    "print(f'{round(BUDGET / (RUB_PER_IU * POINTS_FOR_BUDGET))} тыс. бар.')"
   ]
  },
  {
   "cell_type": "markdown",
   "metadata": {},
   "source": [
    "### Вывод"
   ]
  },
  {
   "cell_type": "markdown",
   "metadata": {},
   "source": [
    "Расчёт показал, что достаточный объем сырья для безубыточной разработки новой скважины составляет порядка **111 тыс. бар.**. Однако ни один из регионов в среднем не показывает такого объема."
   ]
  },
  {
   "cell_type": "markdown",
   "metadata": {},
   "source": [
    "## Расчёт прибыли и рисков "
   ]
  },
  {
   "cell_type": "markdown",
   "metadata": {},
   "source": [
    "Создадим функцию `revenue`, возвращающую значение прибыли:"
   ]
  },
  {
   "cell_type": "code",
   "execution_count": 14,
   "metadata": {},
   "outputs": [],
   "source": [
    "def revenue(target, probabilities, count):\n",
    "    probs_sorted = probabilities.sort_values(ascending=False)\n",
    "    selected = target[probs_sorted.index][:count]\n",
    "    return (RUB_PER_IU * selected.sum() - BUDGET) / 10 ** 9"
   ]
  },
  {
   "cell_type": "markdown",
   "metadata": {},
   "source": [
    "Заполним список `df_valid` *valid* данными для дальнейшего использования:"
   ]
  },
  {
   "cell_type": "code",
   "execution_count": 15,
   "metadata": {},
   "outputs": [],
   "source": [
    "df_valid = [data_split(df).get('data_valid') for df in dfs]"
   ]
  },
  {
   "cell_type": "markdown",
   "metadata": {},
   "source": [
    "Рассчитаем прибыль для каждого региона:"
   ]
  },
  {
   "cell_type": "code",
   "execution_count": 16,
   "metadata": {
    "scrolled": true
   },
   "outputs": [
    {
     "name": "stdout",
     "output_type": "stream",
     "text": [
      "Прибыль для 1-го региона:\n",
      "3.3208260431398524 млрд. руб. \n",
      "\n",
      "Прибыль для 2-го региона:\n",
      "2.4150866966815108 млрд. руб. \n",
      "\n",
      "Прибыль для 3-го региона:\n",
      "2.7103499635998327 млрд. руб. \n",
      "\n"
     ]
    }
   ],
   "source": [
    "for i in range(len(dfs)):\n",
    "    df_valid[i]['predictions'] = predictions[i]\n",
    "    print(f'Прибыль для {i + 1}-го региона:')\n",
    "    print((revenue(data_split(dfs[i]).get('target_valid'), df_valid[i]['predictions'], 200)), 'млрд. руб.', '\\n')"
   ]
  },
  {
   "cell_type": "code",
   "execution_count": 17,
   "metadata": {},
   "outputs": [],
   "source": [
    "state = np.random.RandomState(12345)"
   ]
  },
  {
   "cell_type": "markdown",
   "metadata": {},
   "source": [
    "Создадим функцию `bootstrap`, применяющую данную технику к данным:"
   ]
  },
  {
   "cell_type": "code",
   "execution_count": 18,
   "metadata": {},
   "outputs": [],
   "source": [
    "def bootstrap(target, predictions):\n",
    "    values = []\n",
    "    \n",
    "    for i in range(1000):\n",
    "        target_subsample = target.sample(n=500, replace=True, random_state=state)\n",
    "        probs_subsample = predictions[target_subsample.index]\n",
    "        values.append(revenue(target_subsample, probs_subsample, POINTS_FOR_BUDGET))\n",
    "    \n",
    "    values = pd.Series(values)\n",
    "    mean = values.mean()\n",
    "    confidence_interval = [values.quantile(PROB_RISK).round(2), values.quantile(1 - PROB_RISK).round(2)]\n",
    "    print(f'Среднее значение прибыли: {mean}, млрд. руб.')\n",
    "    print(f'Доверительный интервал: {confidence_interval}')\n",
    "    print(f'Риски убытков: {(values < 0).mean():.0%}')\n",
    "    print()"
   ]
  },
  {
   "cell_type": "markdown",
   "metadata": {},
   "source": [
    "Получим информацию для каждого региона:"
   ]
  },
  {
   "cell_type": "code",
   "execution_count": 19,
   "metadata": {},
   "outputs": [
    {
     "name": "stdout",
     "output_type": "stream",
     "text": [
      "Информация для 200 случайных скважин из 1-го региона: \n",
      "Среднее значение прибыли: 0.42593852691059236, млрд. руб.\n",
      "Доверительный интервал: [-0.1, 0.95]\n",
      "Риски убытков: 6%\n",
      "\n",
      "Информация для 200 случайных скважин из 2-го региона: \n",
      "Среднее значение прибыли: 0.5182594936973248, млрд. руб.\n",
      "Доверительный интервал: [0.13, 0.95]\n",
      "Риски убытков: 0%\n",
      "\n",
      "Информация для 200 случайных скважин из 3-го региона: \n",
      "Среднее значение прибыли: 0.4201940053440501, млрд. руб.\n",
      "Доверительный интервал: [-0.12, 0.99]\n",
      "Риски убытков: 6%\n",
      "\n"
     ]
    }
   ],
   "source": [
    "for i in range(len(dfs)):\n",
    "    print(f'Информация для 200 случайных скважин из {i + 1}-го региона: ')\n",
    "    bootstrap(data_split(dfs[i]).get('target_valid'), df_valid[i]['predictions'])"
   ]
  },
  {
   "cell_type": "markdown",
   "metadata": {},
   "source": [
    "### Вывод"
   ]
  },
  {
   "cell_type": "markdown",
   "metadata": {},
   "source": [
    "Проведя анализ полученных данных, можно сделать вывод о том, что наиболее переспективным будет использование **2-го** региона.\n",
    "\n",
    "На примере 200 точек с лучшими показателями прибыли, выбранных из 500 случайных точек были получены наибольшие значения прибыли - **520 млн. руб** и наименьший риск убытков, стремящийся к **нулю**."
   ]
  },
  {
   "cell_type": "markdown",
   "metadata": {},
   "source": [
    "## Общий вывод"
   ]
  },
  {
   "cell_type": "markdown",
   "metadata": {},
   "source": [
    "Для данного исследования была использована модель **Логистической регрессии**.\n",
    "\n",
    "Значение достаточного объёма сырья для безубыточной разработки новой скважины: **111 тыс. бар.**\n",
    "\n",
    "Значения прибыли для каждого региона:\n",
    "* 1-й регион: **3.3 млрд. руб.**\n",
    "* 2-й регион: **2.4 млрд. руб.**\n",
    "* 3-й регион: **2.7 млрд. руб.**\n",
    "\n",
    "Для расчета прибыли и рисков в 200 лучших из 500 случайных точек была использована техника **Bootstrap**.\n",
    "\n",
    "Наилучший результат показал **второй** регион, имеющий наибольшее значение средней прибыли, порядка **500 млн. руб** и наименьшее значение риска убытков, стремящегося к **нулю**. Остальные показатели регионов:\n",
    "* 1-й регион: Среднее значение прибыли - **418 млн. руб.**, Риски убытков - **7%**\n",
    "* 3-й регион: Среднее значение прибыли - **428 млн. руб.**, Риски убытков - **6%**"
   ]
  }
 ],
 "metadata": {
  "ExecuteTimeLog": [
   {
    "duration": 1312,
    "start_time": "2022-02-07T17:15:50.926Z"
   },
   {
    "duration": 130,
    "start_time": "2022-02-07T17:16:21.039Z"
   },
   {
    "duration": 355,
    "start_time": "2022-02-07T17:16:33.518Z"
   },
   {
    "duration": 23,
    "start_time": "2022-02-07T17:17:04.499Z"
   },
   {
    "duration": 2,
    "start_time": "2022-02-07T17:19:28.457Z"
   },
   {
    "duration": 22,
    "start_time": "2022-02-07T17:20:20.409Z"
   },
   {
    "duration": 7,
    "start_time": "2022-02-07T17:22:12.643Z"
   },
   {
    "duration": 10,
    "start_time": "2022-02-07T17:22:19.024Z"
   },
   {
    "duration": 10,
    "start_time": "2022-02-07T17:22:29.529Z"
   },
   {
    "duration": 10,
    "start_time": "2022-02-07T17:22:41.719Z"
   },
   {
    "duration": 433,
    "start_time": "2022-02-07T17:22:51.032Z"
   },
   {
    "duration": 33,
    "start_time": "2022-02-07T17:22:56.215Z"
   },
   {
    "duration": 16,
    "start_time": "2022-02-07T17:23:12.769Z"
   },
   {
    "duration": 11,
    "start_time": "2022-02-07T17:26:01.520Z"
   },
   {
    "duration": 11,
    "start_time": "2022-02-07T17:26:06.751Z"
   },
   {
    "duration": 9,
    "start_time": "2022-02-07T17:26:11.344Z"
   },
   {
    "duration": 3,
    "start_time": "2022-02-07T17:30:18.648Z"
   },
   {
    "duration": 4,
    "start_time": "2022-02-07T17:30:57.282Z"
   },
   {
    "duration": 878,
    "start_time": "2022-02-07T17:35:43.616Z"
   },
   {
    "duration": 648,
    "start_time": "2022-02-07T17:35:50.351Z"
   },
   {
    "duration": 11,
    "start_time": "2022-02-07T17:36:11.016Z"
   },
   {
    "duration": 4,
    "start_time": "2022-02-07T17:36:17.841Z"
   },
   {
    "duration": 4,
    "start_time": "2022-02-07T17:36:24.449Z"
   },
   {
    "duration": 10,
    "start_time": "2022-02-07T17:38:45.144Z"
   },
   {
    "duration": 5,
    "start_time": "2022-02-07T17:38:53.913Z"
   },
   {
    "duration": 4,
    "start_time": "2022-02-07T17:38:56.552Z"
   },
   {
    "duration": 4,
    "start_time": "2022-02-07T17:38:56.712Z"
   },
   {
    "duration": 4,
    "start_time": "2022-02-07T17:39:03.793Z"
   },
   {
    "duration": 10,
    "start_time": "2022-02-07T17:39:27.304Z"
   },
   {
    "duration": 9,
    "start_time": "2022-02-07T17:40:15.241Z"
   },
   {
    "duration": 4,
    "start_time": "2022-02-07T17:41:06.537Z"
   },
   {
    "duration": 4,
    "start_time": "2022-02-07T17:41:34.334Z"
   },
   {
    "duration": 6,
    "start_time": "2022-02-07T17:43:20.178Z"
   },
   {
    "duration": 5,
    "start_time": "2022-02-07T17:43:26.209Z"
   },
   {
    "duration": 5,
    "start_time": "2022-02-07T17:43:31.473Z"
   },
   {
    "duration": 5,
    "start_time": "2022-02-07T17:50:31.500Z"
   },
   {
    "duration": 609,
    "start_time": "2022-02-07T17:50:43.686Z"
   },
   {
    "duration": 5,
    "start_time": "2022-02-07T17:50:52.834Z"
   },
   {
    "duration": 32,
    "start_time": "2022-02-07T17:50:53.282Z"
   },
   {
    "duration": 3,
    "start_time": "2022-02-07T17:51:02.914Z"
   },
   {
    "duration": 53,
    "start_time": "2022-02-07T17:51:07.762Z"
   },
   {
    "duration": 385,
    "start_time": "2022-02-07T17:51:12.483Z"
   },
   {
    "duration": 24,
    "start_time": "2022-02-07T17:51:15.834Z"
   },
   {
    "duration": 29,
    "start_time": "2022-02-07T17:51:18.706Z"
   },
   {
    "duration": 24,
    "start_time": "2022-02-07T17:51:22.402Z"
   },
   {
    "duration": 110,
    "start_time": "2022-02-07T17:51:27.977Z"
   },
   {
    "duration": 13,
    "start_time": "2022-02-07T17:51:49.738Z"
   },
   {
    "duration": 6,
    "start_time": "2022-02-07T17:51:50.250Z"
   },
   {
    "duration": 12,
    "start_time": "2022-02-07T17:51:50.570Z"
   },
   {
    "duration": 4,
    "start_time": "2022-02-07T17:51:50.954Z"
   },
   {
    "duration": 2,
    "start_time": "2022-02-07T17:51:51.714Z"
   },
   {
    "duration": 18,
    "start_time": "2022-02-07T17:51:52.130Z"
   },
   {
    "duration": 6,
    "start_time": "2022-02-07T17:51:52.514Z"
   },
   {
    "duration": 4,
    "start_time": "2022-02-07T17:51:53.314Z"
   },
   {
    "duration": 4,
    "start_time": "2022-02-07T17:51:53.690Z"
   },
   {
    "duration": 462,
    "start_time": "2022-02-07T17:52:16.914Z"
   },
   {
    "duration": 3,
    "start_time": "2022-02-07T17:53:17.418Z"
   },
   {
    "duration": 325,
    "start_time": "2022-02-07T17:53:17.962Z"
   },
   {
    "duration": 4,
    "start_time": "2022-02-07T17:58:35.979Z"
   },
   {
    "duration": 225,
    "start_time": "2022-02-07T17:58:36.362Z"
   },
   {
    "duration": 4,
    "start_time": "2022-02-07T17:58:52.923Z"
   },
   {
    "duration": 326,
    "start_time": "2022-02-07T17:58:54.164Z"
   },
   {
    "duration": 20,
    "start_time": "2022-02-07T18:00:47.330Z"
   },
   {
    "duration": 35,
    "start_time": "2022-02-07T18:01:29.473Z"
   },
   {
    "duration": 1010,
    "start_time": "2022-02-08T12:11:14.857Z"
   },
   {
    "duration": 397,
    "start_time": "2022-02-08T12:11:17.143Z"
   },
   {
    "duration": 17,
    "start_time": "2022-02-08T12:11:20.144Z"
   },
   {
    "duration": 10,
    "start_time": "2022-02-08T12:11:20.408Z"
   },
   {
    "duration": 12,
    "start_time": "2022-02-08T12:11:20.984Z"
   },
   {
    "duration": 10,
    "start_time": "2022-02-08T12:11:21.224Z"
   },
   {
    "duration": 39,
    "start_time": "2022-02-08T12:11:21.609Z"
   },
   {
    "duration": 212,
    "start_time": "2022-02-08T12:11:22.336Z"
   },
   {
    "duration": 3,
    "start_time": "2022-02-08T12:11:55.141Z"
   },
   {
    "duration": 16,
    "start_time": "2022-02-08T12:11:55.709Z"
   },
   {
    "duration": 4,
    "start_time": "2022-02-08T12:11:57.990Z"
   },
   {
    "duration": 425,
    "start_time": "2022-02-08T12:11:58.341Z"
   },
   {
    "duration": 3,
    "start_time": "2022-02-08T12:13:35.280Z"
   },
   {
    "duration": 4,
    "start_time": "2022-02-08T12:13:39.746Z"
   },
   {
    "duration": 3,
    "start_time": "2022-02-08T12:13:50.728Z"
   },
   {
    "duration": 2,
    "start_time": "2022-02-08T12:14:55.249Z"
   },
   {
    "duration": 2,
    "start_time": "2022-02-08T12:15:10.154Z"
   },
   {
    "duration": 3,
    "start_time": "2022-02-08T12:16:07.050Z"
   },
   {
    "duration": 4,
    "start_time": "2022-02-08T12:16:32.708Z"
   },
   {
    "duration": 11,
    "start_time": "2022-02-08T12:17:44.842Z"
   },
   {
    "duration": 7,
    "start_time": "2022-02-08T12:17:49.608Z"
   },
   {
    "duration": 138,
    "start_time": "2022-02-08T12:17:52.603Z"
   },
   {
    "duration": 5,
    "start_time": "2022-02-08T12:18:00.290Z"
   },
   {
    "duration": 5,
    "start_time": "2022-02-08T12:18:03.514Z"
   },
   {
    "duration": 4,
    "start_time": "2022-02-08T12:18:08.299Z"
   },
   {
    "duration": 3,
    "start_time": "2022-02-08T12:22:09.600Z"
   },
   {
    "duration": 3,
    "start_time": "2022-02-08T12:22:16.097Z"
   },
   {
    "duration": 3,
    "start_time": "2022-02-08T12:24:07.577Z"
   },
   {
    "duration": 4,
    "start_time": "2022-02-08T12:24:07.995Z"
   },
   {
    "duration": 3,
    "start_time": "2022-02-08T12:24:11.889Z"
   },
   {
    "duration": 4,
    "start_time": "2022-02-08T12:24:12.361Z"
   },
   {
    "duration": 3,
    "start_time": "2022-02-08T12:24:35.049Z"
   },
   {
    "duration": 4,
    "start_time": "2022-02-08T12:25:02.449Z"
   },
   {
    "duration": 3,
    "start_time": "2022-02-08T12:37:23.079Z"
   },
   {
    "duration": 3,
    "start_time": "2022-02-08T12:39:39.907Z"
   },
   {
    "duration": 4,
    "start_time": "2022-02-08T12:40:18.341Z"
   },
   {
    "duration": 3,
    "start_time": "2022-02-08T12:41:00.023Z"
   },
   {
    "duration": 3,
    "start_time": "2022-02-08T12:41:27.957Z"
   },
   {
    "duration": 4,
    "start_time": "2022-02-08T12:41:28.310Z"
   },
   {
    "duration": 4,
    "start_time": "2022-02-08T12:48:29.267Z"
   },
   {
    "duration": 396,
    "start_time": "2022-02-08T12:48:31.551Z"
   },
   {
    "duration": 4,
    "start_time": "2022-02-08T12:48:40.843Z"
   },
   {
    "duration": 357,
    "start_time": "2022-02-08T12:48:41.323Z"
   },
   {
    "duration": 4,
    "start_time": "2022-02-08T12:49:53.748Z"
   },
   {
    "duration": 378,
    "start_time": "2022-02-08T12:49:54.507Z"
   },
   {
    "duration": 4,
    "start_time": "2022-02-08T12:50:02.964Z"
   },
   {
    "duration": 434,
    "start_time": "2022-02-08T12:50:03.731Z"
   },
   {
    "duration": 52,
    "start_time": "2022-02-08T13:48:09.253Z"
   },
   {
    "duration": 4,
    "start_time": "2022-02-08T13:48:11.954Z"
   },
   {
    "duration": 4,
    "start_time": "2022-02-08T13:48:24.209Z"
   },
   {
    "duration": 5,
    "start_time": "2022-02-08T14:04:12.470Z"
   },
   {
    "duration": 427,
    "start_time": "2022-02-08T14:04:13.539Z"
   },
   {
    "duration": 6,
    "start_time": "2022-02-08T14:04:57.004Z"
   },
   {
    "duration": 344,
    "start_time": "2022-02-08T14:04:57.515Z"
   },
   {
    "duration": 10,
    "start_time": "2022-02-08T14:05:10.573Z"
   },
   {
    "duration": 5,
    "start_time": "2022-02-08T14:05:19.971Z"
   },
   {
    "duration": 260,
    "start_time": "2022-02-08T14:05:21.201Z"
   },
   {
    "duration": 4,
    "start_time": "2022-02-08T14:05:30.932Z"
   },
   {
    "duration": 397,
    "start_time": "2022-02-08T14:05:31.286Z"
   },
   {
    "duration": 4,
    "start_time": "2022-02-08T14:05:41.940Z"
   },
   {
    "duration": 527,
    "start_time": "2022-02-08T14:05:42.932Z"
   },
   {
    "duration": 239,
    "start_time": "2022-02-08T14:06:24.586Z"
   },
   {
    "duration": 3,
    "start_time": "2022-02-08T14:11:16.011Z"
   },
   {
    "duration": 3,
    "start_time": "2022-02-08T14:20:52.316Z"
   },
   {
    "duration": 3,
    "start_time": "2022-02-08T14:31:22.638Z"
   },
   {
    "duration": 3,
    "start_time": "2022-02-08T14:31:38.750Z"
   },
   {
    "duration": 252,
    "start_time": "2022-02-08T14:31:49.477Z"
   },
   {
    "duration": 31,
    "start_time": "2022-02-08T14:31:58.221Z"
   },
   {
    "duration": 171,
    "start_time": "2022-02-08T14:32:12.621Z"
   },
   {
    "duration": 61,
    "start_time": "2022-02-08T14:32:29.095Z"
   },
   {
    "duration": 24,
    "start_time": "2022-02-08T14:33:30.094Z"
   },
   {
    "duration": 26,
    "start_time": "2022-02-08T14:33:38.647Z"
   },
   {
    "duration": 18,
    "start_time": "2022-02-08T14:33:44.471Z"
   },
   {
    "duration": 46,
    "start_time": "2022-02-08T14:35:50.170Z"
   },
   {
    "duration": 5,
    "start_time": "2022-02-08T14:35:57.309Z"
   },
   {
    "duration": 370,
    "start_time": "2022-02-08T14:36:48.794Z"
   },
   {
    "duration": 3,
    "start_time": "2022-02-08T14:36:52.811Z"
   },
   {
    "duration": 21,
    "start_time": "2022-02-08T14:37:04.125Z"
   },
   {
    "duration": 25,
    "start_time": "2022-02-08T14:37:12.364Z"
   },
   {
    "duration": 4,
    "start_time": "2022-02-08T15:24:20.190Z"
   },
   {
    "duration": 401,
    "start_time": "2022-02-08T15:24:20.636Z"
   },
   {
    "duration": 59,
    "start_time": "2022-02-08T15:24:39.277Z"
   },
   {
    "duration": 40,
    "start_time": "2022-02-08T15:24:47.991Z"
   },
   {
    "duration": 63,
    "start_time": "2022-02-08T15:24:59.609Z"
   },
   {
    "duration": 52,
    "start_time": "2022-02-08T15:25:22.238Z"
   },
   {
    "duration": 3,
    "start_time": "2022-02-08T15:25:58.591Z"
   },
   {
    "duration": 47,
    "start_time": "2022-02-08T15:26:23.033Z"
   },
   {
    "duration": 433,
    "start_time": "2022-02-08T15:26:24.405Z"
   },
   {
    "duration": 43,
    "start_time": "2022-02-08T15:26:33.470Z"
   },
   {
    "duration": 4,
    "start_time": "2022-02-08T15:26:40.806Z"
   },
   {
    "duration": 50,
    "start_time": "2022-02-08T15:26:47.832Z"
   },
   {
    "duration": 4,
    "start_time": "2022-02-08T15:27:09.694Z"
   },
   {
    "duration": 4,
    "start_time": "2022-02-08T15:27:41.830Z"
   },
   {
    "duration": 3,
    "start_time": "2022-02-08T15:27:47.197Z"
   },
   {
    "duration": 514,
    "start_time": "2022-02-08T15:27:47.960Z"
   },
   {
    "duration": 62,
    "start_time": "2022-02-08T15:28:00.854Z"
   },
   {
    "duration": 4,
    "start_time": "2022-02-08T15:29:02.998Z"
   },
   {
    "duration": 405,
    "start_time": "2022-02-08T15:29:03.790Z"
   },
   {
    "duration": 4,
    "start_time": "2022-02-08T15:29:21.351Z"
   },
   {
    "duration": 4,
    "start_time": "2022-02-08T16:18:06.261Z"
   },
   {
    "duration": 426,
    "start_time": "2022-02-08T16:18:06.868Z"
   },
   {
    "duration": 45,
    "start_time": "2022-02-08T16:18:57.740Z"
   },
   {
    "duration": 4,
    "start_time": "2022-02-08T16:19:08.940Z"
   },
   {
    "duration": 40,
    "start_time": "2022-02-08T16:19:14.016Z"
   },
   {
    "duration": 3,
    "start_time": "2022-02-08T16:21:30.182Z"
   },
   {
    "duration": 3,
    "start_time": "2022-02-08T16:21:43.173Z"
   },
   {
    "duration": 3,
    "start_time": "2022-02-08T16:22:01.751Z"
   },
   {
    "duration": 4,
    "start_time": "2022-02-08T16:22:51.502Z"
   },
   {
    "duration": 403,
    "start_time": "2022-02-08T16:22:52.362Z"
   },
   {
    "duration": 2,
    "start_time": "2022-02-08T16:23:05.254Z"
   },
   {
    "duration": 3,
    "start_time": "2022-02-08T16:23:05.638Z"
   },
   {
    "duration": 409,
    "start_time": "2022-02-08T16:23:06.084Z"
   },
   {
    "duration": 10,
    "start_time": "2022-02-08T16:23:32.573Z"
   },
   {
    "duration": 315,
    "start_time": "2022-02-08T16:24:56.390Z"
   },
   {
    "duration": 317,
    "start_time": "2022-02-08T16:25:44.639Z"
   },
   {
    "duration": 20,
    "start_time": "2022-02-08T16:26:41.414Z"
   },
   {
    "duration": 39,
    "start_time": "2022-02-08T16:27:52.198Z"
   },
   {
    "duration": 265,
    "start_time": "2022-02-08T17:06:32.473Z"
   },
   {
    "duration": 441,
    "start_time": "2022-02-08T17:06:44.049Z"
   },
   {
    "duration": 3,
    "start_time": "2022-02-08T17:06:46.449Z"
   },
   {
    "duration": 3,
    "start_time": "2022-02-08T17:06:46.985Z"
   },
   {
    "duration": 440,
    "start_time": "2022-02-08T17:06:47.442Z"
   },
   {
    "duration": 9,
    "start_time": "2022-02-08T17:07:44.018Z"
   },
   {
    "duration": 5,
    "start_time": "2022-02-08T17:07:47.275Z"
   },
   {
    "duration": 4,
    "start_time": "2022-02-08T17:07:51.545Z"
   },
   {
    "duration": 6,
    "start_time": "2022-02-08T17:07:54.867Z"
   },
   {
    "duration": 4,
    "start_time": "2022-02-08T17:07:58.126Z"
   },
   {
    "duration": 131,
    "start_time": "2022-02-08T17:08:32.297Z"
   },
   {
    "duration": 156,
    "start_time": "2022-02-08T17:08:37.819Z"
   },
   {
    "duration": 6,
    "start_time": "2022-02-08T17:08:44.234Z"
   },
   {
    "duration": 291,
    "start_time": "2022-02-08T17:11:24.546Z"
   },
   {
    "duration": 252,
    "start_time": "2022-02-08T17:11:47.705Z"
   },
   {
    "duration": 4,
    "start_time": "2022-02-08T17:11:48.728Z"
   },
   {
    "duration": 3,
    "start_time": "2022-02-08T17:11:48.898Z"
   },
   {
    "duration": 116,
    "start_time": "2022-02-08T17:12:27.944Z"
   },
   {
    "duration": 49,
    "start_time": "2022-02-08T17:12:38.217Z"
   },
   {
    "duration": 62,
    "start_time": "2022-02-08T17:12:59.697Z"
   },
   {
    "duration": 45,
    "start_time": "2022-02-08T17:13:08.314Z"
   },
   {
    "duration": 4,
    "start_time": "2022-02-08T17:13:18.840Z"
   },
   {
    "duration": 454,
    "start_time": "2022-02-08T17:25:42.608Z"
   },
   {
    "duration": 4,
    "start_time": "2022-02-08T17:25:49.400Z"
   },
   {
    "duration": 4,
    "start_time": "2022-02-08T17:25:58.431Z"
   },
   {
    "duration": 4,
    "start_time": "2022-02-08T17:26:04.240Z"
   },
   {
    "duration": 4,
    "start_time": "2022-02-08T17:26:07.592Z"
   },
   {
    "duration": 3,
    "start_time": "2022-02-08T17:31:12.418Z"
   },
   {
    "duration": 5,
    "start_time": "2022-02-08T17:35:22.208Z"
   },
   {
    "duration": 5,
    "start_time": "2022-02-08T17:35:26.264Z"
   },
   {
    "duration": 139,
    "start_time": "2022-02-08T17:35:40.296Z"
   },
   {
    "duration": 4,
    "start_time": "2022-02-08T17:36:41.616Z"
   },
   {
    "duration": 152,
    "start_time": "2022-02-08T17:37:06.728Z"
   },
   {
    "duration": 15,
    "start_time": "2022-02-08T17:37:12.152Z"
   },
   {
    "duration": 4224,
    "start_time": "2022-02-08T17:37:31.992Z"
   },
   {
    "duration": 13,
    "start_time": "2022-02-08T17:37:41.248Z"
   },
   {
    "duration": 9,
    "start_time": "2022-02-08T17:37:46.417Z"
   },
   {
    "duration": 4,
    "start_time": "2022-02-08T17:37:56.975Z"
   },
   {
    "duration": 199,
    "start_time": "2022-02-08T17:38:15.249Z"
   },
   {
    "duration": 3,
    "start_time": "2022-02-08T17:38:21.601Z"
   },
   {
    "duration": 11,
    "start_time": "2022-02-08T17:38:26.864Z"
   },
   {
    "duration": 5,
    "start_time": "2022-02-08T17:38:47.025Z"
   },
   {
    "duration": 4,
    "start_time": "2022-02-08T17:38:52.161Z"
   },
   {
    "duration": 4,
    "start_time": "2022-02-08T17:39:05.944Z"
   },
   {
    "duration": 3,
    "start_time": "2022-02-08T17:39:27.161Z"
   },
   {
    "duration": 4,
    "start_time": "2022-02-08T17:40:22.904Z"
   },
   {
    "duration": 5,
    "start_time": "2022-02-08T17:40:24.401Z"
   },
   {
    "duration": 167,
    "start_time": "2022-02-08T17:41:19.377Z"
   },
   {
    "duration": 20,
    "start_time": "2022-02-08T17:41:28.409Z"
   },
   {
    "duration": 29,
    "start_time": "2022-02-08T17:43:48.089Z"
   },
   {
    "duration": 3,
    "start_time": "2022-02-08T17:43:54.401Z"
   },
   {
    "duration": 19,
    "start_time": "2022-02-08T17:43:58.168Z"
   },
   {
    "duration": 19,
    "start_time": "2022-02-08T17:44:10.033Z"
   },
   {
    "duration": 29,
    "start_time": "2022-02-08T17:44:26.784Z"
   },
   {
    "duration": 4,
    "start_time": "2022-02-08T17:44:30.192Z"
   },
   {
    "duration": 19,
    "start_time": "2022-02-08T17:44:39.192Z"
   },
   {
    "duration": 3546,
    "start_time": "2022-02-08T17:45:58.697Z"
   },
   {
    "duration": 3223,
    "start_time": "2022-02-08T17:46:13.536Z"
   },
   {
    "duration": 3,
    "start_time": "2022-02-08T17:46:44.928Z"
   },
   {
    "duration": 4,
    "start_time": "2022-02-08T17:47:03.305Z"
   },
   {
    "duration": 44,
    "start_time": "2022-02-08T17:48:00.480Z"
   },
   {
    "duration": 46,
    "start_time": "2022-02-08T17:48:10.911Z"
   },
   {
    "duration": 19,
    "start_time": "2022-02-08T17:48:49.419Z"
   },
   {
    "duration": 3357,
    "start_time": "2022-02-08T17:49:05.584Z"
   },
   {
    "duration": 20,
    "start_time": "2022-02-08T17:49:25.848Z"
   },
   {
    "duration": 28,
    "start_time": "2022-02-08T17:49:32.992Z"
   },
   {
    "duration": 49,
    "start_time": "2022-02-08T18:03:58.158Z"
   },
   {
    "duration": 48,
    "start_time": "2022-02-08T18:04:02.584Z"
   },
   {
    "duration": 45,
    "start_time": "2022-02-08T19:22:53.012Z"
   },
   {
    "duration": 49,
    "start_time": "2022-02-08T19:23:00.630Z"
   },
   {
    "duration": 49,
    "start_time": "2022-02-08T19:23:51.183Z"
   },
   {
    "duration": 4,
    "start_time": "2022-02-08T19:24:01.794Z"
   },
   {
    "duration": 43,
    "start_time": "2022-02-08T19:24:02.145Z"
   },
   {
    "duration": 70,
    "start_time": "2022-02-08T19:24:02.482Z"
   },
   {
    "duration": 4,
    "start_time": "2022-02-08T19:24:22.535Z"
   },
   {
    "duration": 4,
    "start_time": "2022-02-08T19:47:11.905Z"
   },
   {
    "duration": 20,
    "start_time": "2022-02-08T19:51:01.248Z"
   },
   {
    "duration": 19,
    "start_time": "2022-02-08T19:51:07.983Z"
   },
   {
    "duration": 16,
    "start_time": "2022-02-08T19:51:17.999Z"
   },
   {
    "duration": 4,
    "start_time": "2022-02-08T19:56:03.889Z"
   },
   {
    "duration": 3,
    "start_time": "2022-02-08T19:58:55.657Z"
   },
   {
    "duration": 5,
    "start_time": "2022-02-08T19:59:13.496Z"
   },
   {
    "duration": 7,
    "start_time": "2022-02-08T19:59:49.720Z"
   },
   {
    "duration": 17,
    "start_time": "2022-02-08T20:00:19.545Z"
   },
   {
    "duration": 518,
    "start_time": "2022-02-08T20:00:54.784Z"
   },
   {
    "duration": 767,
    "start_time": "2022-02-08T20:01:42.937Z"
   },
   {
    "duration": 4,
    "start_time": "2022-02-08T20:01:55.856Z"
   },
   {
    "duration": 3005,
    "start_time": "2022-02-08T20:01:56.433Z"
   },
   {
    "duration": 5,
    "start_time": "2022-02-08T20:02:06.792Z"
   },
   {
    "duration": 3288,
    "start_time": "2022-02-08T20:03:59.707Z"
   },
   {
    "duration": 5,
    "start_time": "2022-02-08T20:04:04.457Z"
   },
   {
    "duration": 3028,
    "start_time": "2022-02-08T20:04:16.767Z"
   },
   {
    "duration": 5,
    "start_time": "2022-02-08T20:04:21.423Z"
   },
   {
    "duration": 7,
    "start_time": "2022-02-08T20:05:46.545Z"
   },
   {
    "duration": 6,
    "start_time": "2022-02-08T20:05:49.927Z"
   },
   {
    "duration": 138,
    "start_time": "2022-02-08T20:05:59.048Z"
   },
   {
    "duration": 7,
    "start_time": "2022-02-08T20:06:20.920Z"
   },
   {
    "duration": 9,
    "start_time": "2022-02-08T20:06:26.777Z"
   },
   {
    "duration": 7,
    "start_time": "2022-02-08T20:06:35.305Z"
   },
   {
    "duration": 1074,
    "start_time": "2022-02-08T20:58:49.785Z"
   },
   {
    "duration": 742,
    "start_time": "2022-02-08T20:58:50.861Z"
   },
   {
    "duration": 16,
    "start_time": "2022-02-08T20:58:52.334Z"
   },
   {
    "duration": 14,
    "start_time": "2022-02-08T20:58:52.493Z"
   },
   {
    "duration": 12,
    "start_time": "2022-02-08T20:58:52.625Z"
   },
   {
    "duration": 11,
    "start_time": "2022-02-08T20:58:52.772Z"
   },
   {
    "duration": 38,
    "start_time": "2022-02-08T20:58:52.909Z"
   },
   {
    "duration": 2,
    "start_time": "2022-02-08T20:58:53.073Z"
   },
   {
    "duration": 19,
    "start_time": "2022-02-08T20:58:53.247Z"
   },
   {
    "duration": 4,
    "start_time": "2022-02-08T20:58:55.737Z"
   },
   {
    "duration": 4,
    "start_time": "2022-02-08T20:58:56.628Z"
   },
   {
    "duration": 5,
    "start_time": "2022-02-08T20:58:57.364Z"
   },
   {
    "duration": 484,
    "start_time": "2022-02-08T20:58:57.804Z"
   },
   {
    "duration": 403,
    "start_time": "2022-02-08T20:59:11.880Z"
   },
   {
    "duration": 3,
    "start_time": "2022-02-08T20:59:16.164Z"
   },
   {
    "duration": 4,
    "start_time": "2022-02-08T20:59:19.754Z"
   },
   {
    "duration": 4,
    "start_time": "2022-02-08T20:59:25.448Z"
   },
   {
    "duration": 33,
    "start_time": "2022-02-08T20:59:44.129Z"
   },
   {
    "duration": 56,
    "start_time": "2022-02-08T20:59:44.659Z"
   },
   {
    "duration": 3,
    "start_time": "2022-02-08T21:00:04.612Z"
   },
   {
    "duration": 31,
    "start_time": "2022-02-08T21:00:05.023Z"
   },
   {
    "duration": 51,
    "start_time": "2022-02-08T21:00:05.280Z"
   },
   {
    "duration": 4,
    "start_time": "2022-02-08T21:00:18.406Z"
   },
   {
    "duration": 3,
    "start_time": "2022-02-08T21:00:31.212Z"
   },
   {
    "duration": 4,
    "start_time": "2022-02-08T21:00:31.554Z"
   },
   {
    "duration": 2,
    "start_time": "2022-02-08T21:03:12.579Z"
   },
   {
    "duration": 7,
    "start_time": "2022-02-08T21:07:47.014Z"
   },
   {
    "duration": 3203,
    "start_time": "2022-02-08T21:08:40.757Z"
   },
   {
    "duration": 4,
    "start_time": "2022-02-08T21:09:14.007Z"
   },
   {
    "duration": 3189,
    "start_time": "2022-02-08T21:09:14.816Z"
   },
   {
    "duration": 4,
    "start_time": "2022-02-08T21:09:39.340Z"
   },
   {
    "duration": 3110,
    "start_time": "2022-02-08T21:09:39.713Z"
   },
   {
    "duration": 8,
    "start_time": "2022-02-08T21:09:57.267Z"
   },
   {
    "duration": 3632,
    "start_time": "2022-02-08T21:09:57.970Z"
   },
   {
    "duration": 5,
    "start_time": "2022-02-08T21:10:05.285Z"
   },
   {
    "duration": 3488,
    "start_time": "2022-02-08T21:10:06.652Z"
   },
   {
    "duration": 5,
    "start_time": "2022-02-08T21:10:44.211Z"
   },
   {
    "duration": 3157,
    "start_time": "2022-02-08T21:10:44.905Z"
   },
   {
    "duration": 5,
    "start_time": "2022-02-08T21:10:53.362Z"
   },
   {
    "duration": 3234,
    "start_time": "2022-02-08T21:10:53.813Z"
   },
   {
    "duration": 5,
    "start_time": "2022-02-08T21:11:00.295Z"
   },
   {
    "duration": 3182,
    "start_time": "2022-02-08T21:11:00.703Z"
   },
   {
    "duration": 4,
    "start_time": "2022-02-08T21:11:07.474Z"
   },
   {
    "duration": 3144,
    "start_time": "2022-02-08T21:11:07.893Z"
   },
   {
    "duration": 4,
    "start_time": "2022-02-08T21:11:14.547Z"
   },
   {
    "duration": 3217,
    "start_time": "2022-02-08T21:11:15.323Z"
   },
   {
    "duration": 4,
    "start_time": "2022-02-08T21:11:23.780Z"
   },
   {
    "duration": 3254,
    "start_time": "2022-02-08T21:11:24.584Z"
   },
   {
    "duration": 3,
    "start_time": "2022-02-08T21:13:27.371Z"
   },
   {
    "duration": 387,
    "start_time": "2022-02-08T21:13:29.834Z"
   },
   {
    "duration": 4,
    "start_time": "2022-02-08T21:21:55.396Z"
   },
   {
    "duration": 101,
    "start_time": "2022-02-08T21:22:03.199Z"
   },
   {
    "duration": 4,
    "start_time": "2022-02-08T21:22:16.856Z"
   },
   {
    "duration": 110,
    "start_time": "2022-02-08T21:22:17.272Z"
   },
   {
    "duration": 4,
    "start_time": "2022-02-08T21:22:44.568Z"
   },
   {
    "duration": 75,
    "start_time": "2022-02-08T21:22:44.984Z"
   },
   {
    "duration": 3,
    "start_time": "2022-02-08T21:23:03.103Z"
   },
   {
    "duration": 8,
    "start_time": "2022-02-08T21:23:03.422Z"
   },
   {
    "duration": 3,
    "start_time": "2022-02-08T21:23:11.015Z"
   },
   {
    "duration": 14,
    "start_time": "2022-02-08T21:23:11.336Z"
   },
   {
    "duration": 14,
    "start_time": "2022-02-08T21:23:22.687Z"
   },
   {
    "duration": 14,
    "start_time": "2022-02-08T21:23:29.671Z"
   },
   {
    "duration": 3,
    "start_time": "2022-02-08T21:23:38.023Z"
   },
   {
    "duration": 9,
    "start_time": "2022-02-08T21:23:38.407Z"
   },
   {
    "duration": 47,
    "start_time": "2022-02-08T21:24:18.656Z"
   },
   {
    "duration": 10,
    "start_time": "2022-02-08T21:24:19.039Z"
   },
   {
    "duration": 44,
    "start_time": "2022-02-08T21:24:34.823Z"
   },
   {
    "duration": 4,
    "start_time": "2022-02-08T21:24:58.815Z"
   },
   {
    "duration": 73,
    "start_time": "2022-02-08T21:24:59.414Z"
   },
   {
    "duration": 4,
    "start_time": "2022-02-08T21:25:08.696Z"
   },
   {
    "duration": 88,
    "start_time": "2022-02-08T21:25:09.207Z"
   },
   {
    "duration": 5,
    "start_time": "2022-02-08T21:25:41.862Z"
   },
   {
    "duration": 368,
    "start_time": "2022-02-08T21:25:42.279Z"
   },
   {
    "duration": 4,
    "start_time": "2022-02-08T21:25:47.415Z"
   },
   {
    "duration": 134,
    "start_time": "2022-02-08T21:25:47.928Z"
   },
   {
    "duration": 5,
    "start_time": "2022-02-08T21:25:54.206Z"
   },
   {
    "duration": 112,
    "start_time": "2022-02-08T21:25:54.719Z"
   },
   {
    "duration": 4,
    "start_time": "2022-02-08T21:26:28.871Z"
   },
   {
    "duration": 143,
    "start_time": "2022-02-08T21:26:29.255Z"
   },
   {
    "duration": 5,
    "start_time": "2022-02-08T21:26:37.871Z"
   },
   {
    "duration": 112,
    "start_time": "2022-02-08T21:26:38.118Z"
   },
   {
    "duration": 4,
    "start_time": "2022-02-08T21:26:51.135Z"
   },
   {
    "duration": 152,
    "start_time": "2022-02-08T21:26:51.455Z"
   },
   {
    "duration": 4,
    "start_time": "2022-02-08T21:26:59.935Z"
   },
   {
    "duration": 139,
    "start_time": "2022-02-08T21:27:00.129Z"
   },
   {
    "duration": 4,
    "start_time": "2022-02-08T21:27:14.095Z"
   },
   {
    "duration": 107,
    "start_time": "2022-02-08T21:27:14.319Z"
   },
   {
    "duration": 3,
    "start_time": "2022-02-08T21:27:40.960Z"
   },
   {
    "duration": 376,
    "start_time": "2022-02-08T21:27:41.322Z"
   },
   {
    "duration": 3,
    "start_time": "2022-02-08T21:28:01.903Z"
   },
   {
    "duration": 18,
    "start_time": "2022-02-08T21:29:47.654Z"
   },
   {
    "duration": 14,
    "start_time": "2022-02-08T21:30:27.935Z"
   },
   {
    "duration": 131,
    "start_time": "2022-02-08T21:30:39.863Z"
   },
   {
    "duration": 408,
    "start_time": "2022-02-08T21:32:35.871Z"
   },
   {
    "duration": 372,
    "start_time": "2022-02-08T21:32:49.049Z"
   },
   {
    "duration": 359,
    "start_time": "2022-02-08T21:32:53.033Z"
   },
   {
    "duration": 143,
    "start_time": "2022-02-08T21:33:40.298Z"
   },
   {
    "duration": 1098,
    "start_time": "2022-02-08T21:33:53.356Z"
   },
   {
    "duration": 396,
    "start_time": "2022-02-08T21:33:54.456Z"
   },
   {
    "duration": 2,
    "start_time": "2022-02-08T21:33:54.854Z"
   },
   {
    "duration": 24,
    "start_time": "2022-02-08T21:33:54.858Z"
   },
   {
    "duration": 509,
    "start_time": "2022-02-08T21:33:56.372Z"
   },
   {
    "duration": 19,
    "start_time": "2022-02-08T21:33:59.493Z"
   },
   {
    "duration": 4,
    "start_time": "2022-02-08T21:34:11.704Z"
   },
   {
    "duration": 3,
    "start_time": "2022-02-08T21:34:16.007Z"
   },
   {
    "duration": 4,
    "start_time": "2022-02-08T21:34:44.319Z"
   },
   {
    "duration": 520,
    "start_time": "2022-02-08T21:34:45.439Z"
   },
   {
    "duration": 478,
    "start_time": "2022-02-08T21:35:34.312Z"
   },
   {
    "duration": 551,
    "start_time": "2022-02-08T21:35:45.310Z"
   },
   {
    "duration": 462,
    "start_time": "2022-02-08T21:35:50.543Z"
   },
   {
    "duration": 407,
    "start_time": "2022-02-08T21:36:07.279Z"
   },
   {
    "duration": 3,
    "start_time": "2022-02-08T21:36:56.680Z"
   },
   {
    "duration": 4,
    "start_time": "2022-02-08T21:37:23.455Z"
   },
   {
    "duration": 43,
    "start_time": "2022-02-08T21:37:54.543Z"
   },
   {
    "duration": 3,
    "start_time": "2022-02-08T21:38:13.111Z"
   },
   {
    "duration": 3,
    "start_time": "2022-02-08T21:39:22.386Z"
   },
   {
    "duration": 33,
    "start_time": "2022-02-08T21:39:22.873Z"
   },
   {
    "duration": 48,
    "start_time": "2022-02-08T21:39:23.282Z"
   },
   {
    "duration": 240,
    "start_time": "2022-02-08T21:39:50.000Z"
   },
   {
    "duration": 48,
    "start_time": "2022-02-08T21:40:02.848Z"
   },
   {
    "duration": 155,
    "start_time": "2022-02-08T21:40:13.120Z"
   },
   {
    "duration": 47,
    "start_time": "2022-02-08T21:40:16.304Z"
   },
   {
    "duration": 46,
    "start_time": "2022-02-08T21:40:20.871Z"
   },
   {
    "duration": 42,
    "start_time": "2022-02-08T21:40:26.384Z"
   },
   {
    "duration": 47,
    "start_time": "2022-02-08T21:40:30.056Z"
   },
   {
    "duration": 3,
    "start_time": "2022-02-08T21:40:48.743Z"
   },
   {
    "duration": 5,
    "start_time": "2022-02-08T21:40:49.440Z"
   },
   {
    "duration": 3425,
    "start_time": "2022-02-08T21:40:51.071Z"
   },
   {
    "duration": 8976,
    "start_time": "2022-02-08T21:43:17.167Z"
   },
   {
    "duration": 9151,
    "start_time": "2022-02-08T21:43:31.231Z"
   },
   {
    "duration": 8999,
    "start_time": "2022-02-08T21:43:46.063Z"
   },
   {
    "duration": 5,
    "start_time": "2022-02-08T21:44:13.871Z"
   },
   {
    "duration": 2943,
    "start_time": "2022-02-08T21:44:14.288Z"
   },
   {
    "duration": 5,
    "start_time": "2022-02-08T21:45:43.619Z"
   },
   {
    "duration": 9289,
    "start_time": "2022-02-08T21:45:44.159Z"
   },
   {
    "duration": 46,
    "start_time": "2022-02-08T21:49:00.160Z"
   },
   {
    "duration": 3,
    "start_time": "2022-02-08T21:53:32.047Z"
   },
   {
    "duration": 3,
    "start_time": "2022-02-08T21:55:03.747Z"
   },
   {
    "duration": 544,
    "start_time": "2022-02-08T21:55:25.016Z"
   },
   {
    "duration": 4,
    "start_time": "2022-02-08T21:55:33.178Z"
   },
   {
    "duration": 447,
    "start_time": "2022-02-08T21:55:33.847Z"
   },
   {
    "duration": 422,
    "start_time": "2022-02-08T21:56:34.855Z"
   },
   {
    "duration": 4,
    "start_time": "2022-02-08T21:56:43.560Z"
   },
   {
    "duration": 4,
    "start_time": "2022-02-08T21:56:46.431Z"
   },
   {
    "duration": 3,
    "start_time": "2022-02-08T21:56:48.823Z"
   },
   {
    "duration": 2,
    "start_time": "2022-02-08T22:02:01.969Z"
   },
   {
    "duration": 4,
    "start_time": "2022-02-08T22:02:02.735Z"
   },
   {
    "duration": 4,
    "start_time": "2022-02-08T22:04:32.415Z"
   },
   {
    "duration": 29,
    "start_time": "2022-02-08T22:05:22.704Z"
   },
   {
    "duration": 49,
    "start_time": "2022-02-08T22:05:43.623Z"
   },
   {
    "duration": 48,
    "start_time": "2022-02-08T22:05:59.096Z"
   },
   {
    "duration": 51,
    "start_time": "2022-02-08T22:06:25.088Z"
   },
   {
    "duration": 48,
    "start_time": "2022-02-08T22:06:32.288Z"
   },
   {
    "duration": 49,
    "start_time": "2022-02-08T22:06:40.584Z"
   },
   {
    "duration": 41,
    "start_time": "2022-02-08T22:07:03.448Z"
   },
   {
    "duration": 141,
    "start_time": "2022-02-08T22:07:14.543Z"
   },
   {
    "duration": 49,
    "start_time": "2022-02-08T22:07:25.767Z"
   },
   {
    "duration": 52,
    "start_time": "2022-02-08T22:07:30.112Z"
   },
   {
    "duration": 3,
    "start_time": "2022-02-08T22:07:33.104Z"
   },
   {
    "duration": 5,
    "start_time": "2022-02-08T22:08:01.687Z"
   },
   {
    "duration": 8749,
    "start_time": "2022-02-08T22:08:15.400Z"
   },
   {
    "duration": 5,
    "start_time": "2022-02-08T22:11:27.000Z"
   },
   {
    "duration": 8840,
    "start_time": "2022-02-08T22:11:27.919Z"
   },
   {
    "duration": 5,
    "start_time": "2022-02-08T22:11:39.216Z"
   },
   {
    "duration": 8840,
    "start_time": "2022-02-08T22:11:39.880Z"
   },
   {
    "duration": 4,
    "start_time": "2022-02-08T22:11:51.457Z"
   },
   {
    "duration": 8965,
    "start_time": "2022-02-08T22:11:52.160Z"
   },
   {
    "duration": 49,
    "start_time": "2022-02-08T22:15:35.264Z"
   },
   {
    "duration": 964,
    "start_time": "2022-02-08T22:22:33.604Z"
   },
   {
    "duration": 364,
    "start_time": "2022-02-08T22:22:35.125Z"
   },
   {
    "duration": 2,
    "start_time": "2022-02-08T22:22:37.581Z"
   },
   {
    "duration": 5,
    "start_time": "2022-02-08T22:22:38.404Z"
   },
   {
    "duration": 399,
    "start_time": "2022-02-08T22:22:40.942Z"
   },
   {
    "duration": 18,
    "start_time": "2022-02-08T22:22:44.582Z"
   },
   {
    "duration": 3,
    "start_time": "2022-02-08T22:22:50.494Z"
   },
   {
    "duration": 3,
    "start_time": "2022-02-08T22:22:53.319Z"
   },
   {
    "duration": 3,
    "start_time": "2022-02-08T22:22:54.215Z"
   },
   {
    "duration": 470,
    "start_time": "2022-02-08T22:22:56.623Z"
   },
   {
    "duration": 445,
    "start_time": "2022-02-08T22:23:00.639Z"
   },
   {
    "duration": 3,
    "start_time": "2022-02-08T22:23:07.700Z"
   },
   {
    "duration": 3,
    "start_time": "2022-02-08T22:23:09.776Z"
   },
   {
    "duration": 3,
    "start_time": "2022-02-08T22:23:13.818Z"
   },
   {
    "duration": 33,
    "start_time": "2022-02-08T22:23:14.625Z"
   },
   {
    "duration": 58,
    "start_time": "2022-02-08T22:23:15.329Z"
   },
   {
    "duration": 3,
    "start_time": "2022-02-08T22:23:15.922Z"
   },
   {
    "duration": 4,
    "start_time": "2022-02-08T22:23:20.499Z"
   },
   {
    "duration": 8838,
    "start_time": "2022-02-08T22:23:22.187Z"
   },
   {
    "duration": 3,
    "start_time": "2022-02-08T22:24:17.938Z"
   },
   {
    "duration": 367,
    "start_time": "2022-02-08T22:24:20.322Z"
   },
   {
    "duration": 2,
    "start_time": "2022-02-08T22:24:20.691Z"
   },
   {
    "duration": 4,
    "start_time": "2022-02-08T22:24:21.307Z"
   },
   {
    "duration": 387,
    "start_time": "2022-02-08T22:24:22.150Z"
   },
   {
    "duration": 14,
    "start_time": "2022-02-08T22:24:47.616Z"
   },
   {
    "duration": 4,
    "start_time": "2022-02-08T22:25:11.146Z"
   },
   {
    "duration": 3,
    "start_time": "2022-02-08T22:25:13.226Z"
   },
   {
    "duration": 4,
    "start_time": "2022-02-08T22:25:23.346Z"
   },
   {
    "duration": 489,
    "start_time": "2022-02-08T22:25:36.781Z"
   },
   {
    "duration": 389,
    "start_time": "2022-02-08T22:25:38.486Z"
   },
   {
    "duration": 1006,
    "start_time": "2022-02-08T22:28:10.280Z"
   },
   {
    "duration": 368,
    "start_time": "2022-02-08T22:28:11.288Z"
   },
   {
    "duration": 3,
    "start_time": "2022-02-08T22:28:11.661Z"
   },
   {
    "duration": 7,
    "start_time": "2022-02-08T22:28:11.665Z"
   },
   {
    "duration": 444,
    "start_time": "2022-02-08T22:28:11.673Z"
   },
   {
    "duration": 46,
    "start_time": "2022-02-08T22:28:12.120Z"
   },
   {
    "duration": 5,
    "start_time": "2022-02-08T22:28:12.168Z"
   },
   {
    "duration": 5,
    "start_time": "2022-02-08T22:28:12.175Z"
   },
   {
    "duration": 6,
    "start_time": "2022-02-08T22:28:12.182Z"
   },
   {
    "duration": 502,
    "start_time": "2022-02-08T22:28:12.189Z"
   },
   {
    "duration": 518,
    "start_time": "2022-02-08T22:28:12.761Z"
   },
   {
    "duration": 76,
    "start_time": "2022-02-08T22:28:13.282Z"
   },
   {
    "duration": 113,
    "start_time": "2022-02-08T22:28:13.361Z"
   },
   {
    "duration": 19,
    "start_time": "2022-02-08T22:28:13.476Z"
   },
   {
    "duration": 46,
    "start_time": "2022-02-08T22:28:13.496Z"
   },
   {
    "duration": 47,
    "start_time": "2022-02-08T22:28:13.544Z"
   },
   {
    "duration": 3,
    "start_time": "2022-02-08T22:28:13.593Z"
   },
   {
    "duration": 18,
    "start_time": "2022-02-08T22:28:13.597Z"
   },
   {
    "duration": 8880,
    "start_time": "2022-02-08T22:28:13.616Z"
   },
   {
    "duration": 1069,
    "start_time": "2022-02-09T13:22:46.436Z"
   },
   {
    "duration": 349,
    "start_time": "2022-02-09T13:22:47.508Z"
   },
   {
    "duration": 3,
    "start_time": "2022-02-09T13:22:47.860Z"
   },
   {
    "duration": 6,
    "start_time": "2022-02-09T13:22:47.864Z"
   },
   {
    "duration": 387,
    "start_time": "2022-02-09T13:22:47.871Z"
   },
   {
    "duration": 16,
    "start_time": "2022-02-09T13:22:48.260Z"
   },
   {
    "duration": 17,
    "start_time": "2022-02-09T13:22:48.279Z"
   },
   {
    "duration": 16,
    "start_time": "2022-02-09T13:22:48.298Z"
   },
   {
    "duration": 9,
    "start_time": "2022-02-09T13:22:48.316Z"
   },
   {
    "duration": 420,
    "start_time": "2022-02-09T13:22:48.326Z"
   },
   {
    "duration": 592,
    "start_time": "2022-02-09T13:22:48.748Z"
   },
   {
    "duration": 77,
    "start_time": "2022-02-09T13:22:49.342Z"
   },
   {
    "duration": 106,
    "start_time": "2022-02-09T13:22:49.422Z"
   },
   {
    "duration": 6,
    "start_time": "2022-02-09T13:22:49.530Z"
   },
   {
    "duration": 40,
    "start_time": "2022-02-09T13:22:49.537Z"
   },
   {
    "duration": 52,
    "start_time": "2022-02-09T13:22:49.579Z"
   },
   {
    "duration": 3,
    "start_time": "2022-02-09T13:22:49.633Z"
   },
   {
    "duration": 6,
    "start_time": "2022-02-09T13:22:49.637Z"
   },
   {
    "duration": 9249,
    "start_time": "2022-02-09T13:22:49.645Z"
   },
   {
    "duration": 4,
    "start_time": "2022-02-09T13:24:40.512Z"
   },
   {
    "duration": 9732,
    "start_time": "2022-02-09T13:24:42.095Z"
   },
   {
    "duration": 6,
    "start_time": "2022-02-09T13:25:20.760Z"
   },
   {
    "duration": 10676,
    "start_time": "2022-02-09T13:25:21.583Z"
   },
   {
    "duration": 95,
    "start_time": "2022-02-09T14:02:33.747Z"
   },
   {
    "duration": 1160,
    "start_time": "2022-02-09T14:02:41.893Z"
   },
   {
    "duration": 377,
    "start_time": "2022-02-09T14:02:43.056Z"
   },
   {
    "duration": 3,
    "start_time": "2022-02-09T14:02:43.436Z"
   },
   {
    "duration": 7,
    "start_time": "2022-02-09T14:02:43.441Z"
   },
   {
    "duration": 417,
    "start_time": "2022-02-09T14:02:43.450Z"
   },
   {
    "duration": 17,
    "start_time": "2022-02-09T14:02:43.869Z"
   },
   {
    "duration": 8,
    "start_time": "2022-02-09T14:02:43.888Z"
   },
   {
    "duration": 20,
    "start_time": "2022-02-09T14:02:43.899Z"
   },
   {
    "duration": 11,
    "start_time": "2022-02-09T14:02:43.921Z"
   },
   {
    "duration": 422,
    "start_time": "2022-02-09T14:02:43.934Z"
   },
   {
    "duration": 592,
    "start_time": "2022-02-09T14:02:44.358Z"
   },
   {
    "duration": 70,
    "start_time": "2022-02-09T14:02:44.952Z"
   },
   {
    "duration": 104,
    "start_time": "2022-02-09T14:02:45.024Z"
   },
   {
    "duration": 12,
    "start_time": "2022-02-09T14:02:45.130Z"
   },
   {
    "duration": 45,
    "start_time": "2022-02-09T14:02:45.144Z"
   },
   {
    "duration": 57,
    "start_time": "2022-02-09T14:02:45.191Z"
   },
   {
    "duration": 4,
    "start_time": "2022-02-09T14:02:45.250Z"
   },
   {
    "duration": 17,
    "start_time": "2022-02-09T14:02:45.256Z"
   },
   {
    "duration": 10247,
    "start_time": "2022-02-09T14:02:45.275Z"
   }
  ],
  "kernelspec": {
   "display_name": "Python 3 (ipykernel)",
   "language": "python",
   "name": "python3"
  },
  "language_info": {
   "codemirror_mode": {
    "name": "ipython",
    "version": 3
   },
   "file_extension": ".py",
   "mimetype": "text/x-python",
   "name": "python",
   "nbconvert_exporter": "python",
   "pygments_lexer": "ipython3",
   "version": "3.9.7"
  },
  "toc": {
   "base_numbering": 1,
   "nav_menu": {},
   "number_sections": true,
   "sideBar": true,
   "skip_h1_title": true,
   "title_cell": "Содержание",
   "title_sidebar": "Contents",
   "toc_cell": true,
   "toc_position": {},
   "toc_section_display": true,
   "toc_window_display": true
  },
  "varInspector": {
   "cols": {
    "lenName": 16,
    "lenType": 16,
    "lenVar": 40
   },
   "kernels_config": {
    "python": {
     "delete_cmd_postfix": "",
     "delete_cmd_prefix": "del ",
     "library": "var_list.py",
     "varRefreshCmd": "print(var_dic_list())"
    },
    "r": {
     "delete_cmd_postfix": ") ",
     "delete_cmd_prefix": "rm(",
     "library": "var_list.r",
     "varRefreshCmd": "cat(var_dic_list()) "
    }
   },
   "types_to_exclude": [
    "module",
    "function",
    "builtin_function_or_method",
    "instance",
    "_Feature"
   ],
   "window_display": false
  }
 },
 "nbformat": 4,
 "nbformat_minor": 2
}
