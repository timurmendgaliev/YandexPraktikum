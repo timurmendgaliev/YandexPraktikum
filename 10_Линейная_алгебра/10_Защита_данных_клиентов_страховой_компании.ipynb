{
 "cells": [
  {
   "cell_type": "markdown",
   "metadata": {},
   "source": [
    "# Защита персональных данных клиентов"
   ]
  },
  {
   "cell_type": "markdown",
   "metadata": {},
   "source": [
    "Необходимо защитить данные клиентов страховой компании «Хоть потоп». Для этого разработаем такой метод преобразования данных, чтобы по ним было сложно восстановить персональную информацию. Обоснуем корректность его работы.\n",
    "\n",
    "Нужно защитить данные, чтобы при преобразовании качество моделей машинного обучения не ухудшилось."
   ]
  },
  {
   "cell_type": "markdown",
   "metadata": {
    "toc": true
   },
   "source": [
    "<h1>Содержание<span class=\"tocSkip\"></span></h1>\n",
    "<div class=\"toc\"><ul class=\"toc-item\"><li><span><a href=\"#Загрузка-данных\" data-toc-modified-id=\"Загрузка-данных-1\"><span class=\"toc-item-num\">1&nbsp;&nbsp;</span>Загрузка данных</a></span><ul class=\"toc-item\"><li><span><a href=\"#Вывод\" data-toc-modified-id=\"Вывод-1.1\"><span class=\"toc-item-num\">1.1&nbsp;&nbsp;</span>Вывод</a></span></li></ul></li><li><span><a href=\"#Умножение-матриц\" data-toc-modified-id=\"Умножение-матриц-2\"><span class=\"toc-item-num\">2&nbsp;&nbsp;</span>Умножение матриц</a></span><ul class=\"toc-item\"><li><span><a href=\"#Вывод\" data-toc-modified-id=\"Вывод-2.1\"><span class=\"toc-item-num\">2.1&nbsp;&nbsp;</span>Вывод</a></span></li></ul></li><li><span><a href=\"#Алгоритм-преобразования\" data-toc-modified-id=\"Алгоритм-преобразования-3\"><span class=\"toc-item-num\">3&nbsp;&nbsp;</span>Алгоритм преобразования</a></span><ul class=\"toc-item\"><li><span><a href=\"#Вывод\" data-toc-modified-id=\"Вывод-3.1\"><span class=\"toc-item-num\">3.1&nbsp;&nbsp;</span>Вывод</a></span></li></ul></li><li><span><a href=\"#Проверка-алгоритма\" data-toc-modified-id=\"Проверка-алгоритма-4\"><span class=\"toc-item-num\">4&nbsp;&nbsp;</span>Проверка алгоритма</a></span><ul class=\"toc-item\"><li><span><a href=\"#Проверка-метрики-на-исходных-данных\" data-toc-modified-id=\"Проверка-метрики-на-исходных-данных-4.1\"><span class=\"toc-item-num\">4.1&nbsp;&nbsp;</span>Проверка метрики на исходных данных</a></span></li><li><span><a href=\"#Проверка-метрики-на-преобразованных-данных\" data-toc-modified-id=\"Проверка-метрики-на-преобразованных-данных-4.2\"><span class=\"toc-item-num\">4.2&nbsp;&nbsp;</span>Проверка метрики на преобразованных данных</a></span></li><li><span><a href=\"#Вывод\" data-toc-modified-id=\"Вывод-4.3\"><span class=\"toc-item-num\">4.3&nbsp;&nbsp;</span>Вывод</a></span></li></ul></li><li><span><a href=\"#Общий-вывод\" data-toc-modified-id=\"Общий-вывод-5\"><span class=\"toc-item-num\">5&nbsp;&nbsp;</span>Общий вывод</a></span></li></ul></div>"
   ]
  },
  {
   "cell_type": "markdown",
   "metadata": {},
   "source": [
    "## Загрузка данных"
   ]
  },
  {
   "cell_type": "code",
   "execution_count": 1,
   "metadata": {},
   "outputs": [],
   "source": [
    "import pandas as pd\n",
    "import numpy as np\n",
    "import matplotlib.pyplot as plt\n",
    "import seaborn as sns\n",
    "from sklearn.linear_model import LinearRegression\n",
    "from sklearn.model_selection import cross_val_score\n",
    "from sklearn.metrics import r2_score\n",
    "from sklearn.model_selection import train_test_split\n",
    "import warnings\n",
    "warnings.filterwarnings('ignore')\n",
    "\n",
    "RS = 12345\n",
    "plt.rcParams[\"figure.figsize\"] = (10, 6)\n",
    "np.set_printoptions(suppress=True)\n",
    "sns.set()"
   ]
  },
  {
   "cell_type": "code",
   "execution_count": 2,
   "metadata": {},
   "outputs": [],
   "source": [
    "df = pd.read_csv('/datasets/insurance.csv')"
   ]
  },
  {
   "cell_type": "markdown",
   "metadata": {},
   "source": [
    "Изучим первые 5 строк исходных данных:"
   ]
  },
  {
   "cell_type": "code",
   "execution_count": 3,
   "metadata": {},
   "outputs": [
    {
     "data": {
      "text/html": [
       "<div>\n",
       "<style scoped>\n",
       "    .dataframe tbody tr th:only-of-type {\n",
       "        vertical-align: middle;\n",
       "    }\n",
       "\n",
       "    .dataframe tbody tr th {\n",
       "        vertical-align: top;\n",
       "    }\n",
       "\n",
       "    .dataframe thead th {\n",
       "        text-align: right;\n",
       "    }\n",
       "</style>\n",
       "<table border=\"1\" class=\"dataframe\">\n",
       "  <thead>\n",
       "    <tr style=\"text-align: right;\">\n",
       "      <th></th>\n",
       "      <th>Пол</th>\n",
       "      <th>Возраст</th>\n",
       "      <th>Зарплата</th>\n",
       "      <th>Члены семьи</th>\n",
       "      <th>Страховые выплаты</th>\n",
       "    </tr>\n",
       "  </thead>\n",
       "  <tbody>\n",
       "    <tr>\n",
       "      <td>0</td>\n",
       "      <td>1</td>\n",
       "      <td>41.0</td>\n",
       "      <td>49600.0</td>\n",
       "      <td>1</td>\n",
       "      <td>0</td>\n",
       "    </tr>\n",
       "    <tr>\n",
       "      <td>1</td>\n",
       "      <td>0</td>\n",
       "      <td>46.0</td>\n",
       "      <td>38000.0</td>\n",
       "      <td>1</td>\n",
       "      <td>1</td>\n",
       "    </tr>\n",
       "    <tr>\n",
       "      <td>2</td>\n",
       "      <td>0</td>\n",
       "      <td>29.0</td>\n",
       "      <td>21000.0</td>\n",
       "      <td>0</td>\n",
       "      <td>0</td>\n",
       "    </tr>\n",
       "    <tr>\n",
       "      <td>3</td>\n",
       "      <td>0</td>\n",
       "      <td>21.0</td>\n",
       "      <td>41700.0</td>\n",
       "      <td>2</td>\n",
       "      <td>0</td>\n",
       "    </tr>\n",
       "    <tr>\n",
       "      <td>4</td>\n",
       "      <td>1</td>\n",
       "      <td>28.0</td>\n",
       "      <td>26100.0</td>\n",
       "      <td>0</td>\n",
       "      <td>0</td>\n",
       "    </tr>\n",
       "  </tbody>\n",
       "</table>\n",
       "</div>"
      ],
      "text/plain": [
       "   Пол  Возраст  Зарплата  Члены семьи  Страховые выплаты\n",
       "0    1     41.0   49600.0            1                  0\n",
       "1    0     46.0   38000.0            1                  1\n",
       "2    0     29.0   21000.0            0                  0\n",
       "3    0     21.0   41700.0            2                  0\n",
       "4    1     28.0   26100.0            0                  0"
      ]
     },
     "execution_count": 3,
     "metadata": {},
     "output_type": "execute_result"
    }
   ],
   "source": [
    "df.head()"
   ]
  },
  {
   "cell_type": "markdown",
   "metadata": {},
   "source": [
    "Основная информация о таблице:"
   ]
  },
  {
   "cell_type": "code",
   "execution_count": 4,
   "metadata": {},
   "outputs": [
    {
     "name": "stdout",
     "output_type": "stream",
     "text": [
      "<class 'pandas.core.frame.DataFrame'>\n",
      "RangeIndex: 5000 entries, 0 to 4999\n",
      "Data columns (total 5 columns):\n",
      "Пол                  5000 non-null int64\n",
      "Возраст              5000 non-null float64\n",
      "Зарплата             5000 non-null float64\n",
      "Члены семьи          5000 non-null int64\n",
      "Страховые выплаты    5000 non-null int64\n",
      "dtypes: float64(2), int64(3)\n",
      "memory usage: 195.4 KB\n"
     ]
    }
   ],
   "source": [
    "df.info()"
   ]
  },
  {
   "cell_type": "markdown",
   "metadata": {},
   "source": [
    "Проверка на пропуски:"
   ]
  },
  {
   "cell_type": "code",
   "execution_count": 5,
   "metadata": {},
   "outputs": [
    {
     "data": {
      "text/plain": [
       "Пол                  0\n",
       "Возраст              0\n",
       "Зарплата             0\n",
       "Члены семьи          0\n",
       "Страховые выплаты    0\n",
       "dtype: int64"
      ]
     },
     "execution_count": 5,
     "metadata": {},
     "output_type": "execute_result"
    }
   ],
   "source": [
    "df.isna().sum()"
   ]
  },
  {
   "cell_type": "markdown",
   "metadata": {},
   "source": [
    "Проверка на дубликаты:"
   ]
  },
  {
   "cell_type": "code",
   "execution_count": 6,
   "metadata": {},
   "outputs": [
    {
     "data": {
      "text/plain": [
       "3.06"
      ]
     },
     "execution_count": 6,
     "metadata": {},
     "output_type": "execute_result"
    }
   ],
   "source": [
    "df.duplicated().sum() * 100 / len(df)"
   ]
  },
  {
   "cell_type": "markdown",
   "metadata": {},
   "source": [
    "Избавимся от дубликатов:"
   ]
  },
  {
   "cell_type": "code",
   "execution_count": 7,
   "metadata": {},
   "outputs": [],
   "source": [
    "df.drop_duplicates(inplace=True)"
   ]
  },
  {
   "cell_type": "markdown",
   "metadata": {},
   "source": [
    "Исследуем распределения в данных:"
   ]
  },
  {
   "cell_type": "code",
   "execution_count": 8,
   "metadata": {},
   "outputs": [
    {
     "data": {
      "image/png": "[encoded data removed]",
      "text/plain": [
       "<Figure size 720x432 with 1 Axes>"
      ]
     },
     "metadata": {},
     "output_type": "display_data"
    }
   ],
   "source": [
    "df['Возраст'].hist(bins=15)\n",
    "plt.xlabel('Возраст')\n",
    "plt.ylabel('Количество')\n",
    "plt.title('Распределение возраста')\n",
    "plt.show()"
   ]
  },
  {
   "cell_type": "code",
   "execution_count": 9,
   "metadata": {},
   "outputs": [
    {
     "data": {
      "image/png": "[encoded data removed]",
      "text/plain": [
       "<Figure size 720x432 with 1 Axes>"
      ]
     },
     "metadata": {},
     "output_type": "display_data"
    }
   ],
   "source": [
    "df['Зарплата'].hist(bins=25)\n",
    "plt.xlabel('Зарплата')\n",
    "plt.ylabel('Количество')\n",
    "plt.title('Распределение зарплаты')\n",
    "plt.show()"
   ]
  },
  {
   "cell_type": "code",
   "execution_count": 10,
   "metadata": {},
   "outputs": [
    {
     "data": {
      "image/png": "[encoded data removed]",
      "text/plain": [
       "<Figure size 720x432 with 1 Axes>"
      ]
     },
     "metadata": {},
     "output_type": "display_data"
    }
   ],
   "source": [
    "df['Пол'].value_counts().plot(kind='barh')\n",
    "plt.title('Распределение пола')\n",
    "plt.xlabel('Количество')\n",
    "plt.ylabel('Пол')\n",
    "plt.show()"
   ]
  },
  {
   "cell_type": "code",
   "execution_count": 11,
   "metadata": {},
   "outputs": [
    {
     "data": {
      "image/png": "[encoded data removed]",
      "text/plain": [
       "<Figure size 720x432 with 1 Axes>"
      ]
     },
     "metadata": {},
     "output_type": "display_data"
    }
   ],
   "source": [
    "df['Страховые выплаты'].value_counts().plot(kind='barh')\n",
    "plt.title('Распределение количества страховых выплат')\n",
    "plt.xlabel('Количество')\n",
    "plt.ylabel('Количество страховых выплат')\n",
    "plt.show()"
   ]
  },
  {
   "cell_type": "code",
   "execution_count": 12,
   "metadata": {},
   "outputs": [
    {
     "data": {
      "image/png": "[encoded data removed]",
      "text/plain": [
       "<Figure size 720x432 with 1 Axes>"
      ]
     },
     "metadata": {},
     "output_type": "display_data"
    }
   ],
   "source": [
    "df['Члены семьи'].value_counts().plot(kind='barh')\n",
    "plt.title('Распределение количества членов семьи')\n",
    "plt.xlabel('Количество')\n",
    "plt.ylabel('Количество членов семьи')\n",
    "plt.show()"
   ]
  },
  {
   "cell_type": "markdown",
   "metadata": {},
   "source": [
    "### Вывод"
   ]
  },
  {
   "cell_type": "markdown",
   "metadata": {},
   "source": [
    "Данные загружены и изучены."
   ]
  },
  {
   "cell_type": "markdown",
   "metadata": {},
   "source": [
    "## Умножение матриц"
   ]
  },
  {
   "cell_type": "markdown",
   "metadata": {},
   "source": [
    "Обозначения:\n",
    "\n",
    "- $X$ — матрица признаков (нулевой столбец состоит из единиц)\n",
    "\n",
    "- $y$ — вектор целевого признака\n",
    "\n",
    "- $P$ — матрица, на которую умножаются признаки\n",
    "\n",
    "- $w$ — вектор весов линейной регрессии (нулевой элемент равен сдвигу)"
   ]
  },
  {
   "cell_type": "markdown",
   "metadata": {},
   "source": [
    "Предсказания:\n",
    "\n",
    "$$\n",
    "a = Xw\n",
    "$$\n",
    "\n",
    "Задача обучения:\n",
    "\n",
    "$$\n",
    "w = \\arg\\min_w MSE(Xw, y)\n",
    "$$\n",
    "\n",
    "Формула обучения:\n",
    "\n",
    "$$\n",
    "w = (X^T X)^{-1} X^T y\n",
    "$$"
   ]
  },
  {
   "cell_type": "markdown",
   "metadata": {},
   "source": [
    "**Вопрос:**\n",
    "\n",
    "Признаки умножают на обратимую матрицу. Изменится ли качество линейной регрессии?\n",
    "\n",
    "**Ответ:** \n",
    "\n",
    "Не изменится\n"
   ]
  },
  {
   "cell_type": "markdown",
   "metadata": {},
   "source": [
    "**Обоснование:**"
   ]
  },
  {
   "cell_type": "markdown",
   "metadata": {},
   "source": [
    "Воспользуемся следующими свойствами:\n",
    "$$\n",
    "AA^{-1} = A^{-1}A = E\n",
    "$$\n",
    "\n",
    "$$\n",
    "AE = EA = A\n",
    "$$\n",
    "\n",
    "$$\n",
    "(AB)^{-1} = B^{-1}A^{-1}\n",
    "$$\n",
    "\n",
    "$$\n",
    "(AB)^{T} = B^{T}A^{T}\n",
    "$$"
   ]
  },
  {
   "cell_type": "markdown",
   "metadata": {},
   "source": [
    "Подставим вектор весов в формулу для предсказаний:\n",
    "\n",
    "$$\n",
    "a = X(X^{T}X)^{-1}X^{T}y\n",
    "$$\n",
    "\n",
    "$$\n",
    "a = XX^{-1}(X^{T})^{-1}X^{T}y\n",
    "$$\n",
    "\n",
    "В конечном итоге все сводится к выражению:\n",
    "\n",
    "$$\n",
    "a = EEy = Ey\n",
    "$$"
   ]
  },
  {
   "cell_type": "markdown",
   "metadata": {},
   "source": [
    "Пусть $Z = XP$, где $P$ - обратимая матрица с некоторыми значениями. Тогда заменим матрицу признаков $X$ на $Z$ в исходных формулах и получим:\n",
    "\n",
    "$$\n",
    "a = Zw\n",
    "$$\n",
    "\n",
    "$$\n",
    "w = (Z^{T}Z)^{-1}Z^{T}y\n",
    "$$\n",
    "\n",
    "Подставим вектор весов в выражение для вычисления вектора предсказаний:\n",
    "\n",
    "$$\n",
    "a = Z(Z^{T}Z)^{-1}Z^{T}y\n",
    "$$\n",
    "\n",
    "$$\n",
    "a = ZZ^{-1}(Z^{T})^{-1}Z^{T}y\n",
    "$$"
   ]
  },
  {
   "cell_type": "markdown",
   "metadata": {},
   "source": [
    "Подставим $Z = XP$\n",
    "\n",
    "$$\n",
    "a = (XP)(XP)^{-1}((XP)^{T})^{-1}(XP)^{T}y\n",
    "$$\n",
    "\n",
    "$$\n",
    "a = XX^{-1}PP^{-1}((XP)^{T})^{-1}(XP)^{T}y\n",
    "$$\n",
    "\n",
    "$$\n",
    "a = XEX^{-1}(X^{T}P^{T})^{-1} X^{T}P^{T}y\n",
    "$$\n",
    "\n",
    "$$\n",
    "a = XX^{-1}(X^{T})^{-1}(P^{T})^{-1} X^{T}P^{T}y\n",
    "$$\n",
    "\n",
    "$$\n",
    "a = XX^{-1}(X^{T})^{-1}X^{T}y\n",
    "$$\n",
    "\n",
    "$$\n",
    "a = X(X^{T}X)^{-1}X^{T}y\n",
    "$$\n",
    "\n",
    "$$\n",
    "a = Xw\n",
    "$$"
   ]
  },
  {
   "cell_type": "markdown",
   "metadata": {},
   "source": [
    "### Вывод"
   ]
  },
  {
   "cell_type": "markdown",
   "metadata": {},
   "source": [
    "Качество линейной регресии при умножении матрицы признаков на обратимую матрицу не меняется."
   ]
  },
  {
   "cell_type": "markdown",
   "metadata": {},
   "source": [
    "## Алгоритм преобразования"
   ]
  },
  {
   "cell_type": "markdown",
   "metadata": {},
   "source": [
    "**Алгоритм**\n",
    "\n",
    "Воспользуемся тем фактом, что исследуемая метрика не будет меняться при умножении матрицы признаков на обратимую матрицу.\n",
    "\n",
    "1. Исследование метрики на исходных данных\n",
    "\n",
    "1. Генерирование случайной матрицы \n",
    "\n",
    "2. Проверка матрицы не невырожденность\n",
    "\n",
    "3. Получение матрицы преобразованных признаков\n",
    "\n",
    "4. Исследование метрики на преобразованных данных\n",
    "\n",
    "5. Сравнение полученных значений\n"
   ]
  },
  {
   "cell_type": "markdown",
   "metadata": {},
   "source": [
    "**Обоснование**\n",
    "\n",
    "Обоснование возможности применение данного преобразования приведено в п.2. Также необходимо учесть, что размерность случайной  матрицы должна иметь вид $n \\times n$ для корректного умножения матриц."
   ]
  },
  {
   "cell_type": "markdown",
   "metadata": {},
   "source": [
    "### Вывод"
   ]
  },
  {
   "cell_type": "markdown",
   "metadata": {},
   "source": [
    "Построен и обоснован алгоритм шифрования данных."
   ]
  },
  {
   "cell_type": "markdown",
   "metadata": {},
   "source": [
    "## Проверка алгоритма"
   ]
  },
  {
   "cell_type": "markdown",
   "metadata": {},
   "source": [
    "### Проверка метрики на исходных данных"
   ]
  },
  {
   "cell_type": "code",
   "execution_count": 13,
   "metadata": {},
   "outputs": [],
   "source": [
    "features = df.drop('Страховые выплаты', axis=1)\n",
    "target = df['Страховые выплаты']"
   ]
  },
  {
   "cell_type": "code",
   "execution_count": 14,
   "metadata": {},
   "outputs": [],
   "source": [
    "features_train, features_test, target_train, target_test = train_test_split(features, target, test_size=0.25, random_state=1)"
   ]
  },
  {
   "cell_type": "code",
   "execution_count": 15,
   "metadata": {},
   "outputs": [
    {
     "name": "stdout",
     "output_type": "stream",
     "text": [
      "Метрика R2 на на исходных данных: 0.46\n"
     ]
    }
   ],
   "source": [
    "model = LinearRegression()\n",
    "model.fit(features_train, target_train)\n",
    "predictions = model.predict(features_test)\n",
    "print(f'Метрика R2 на на исходных данных: {round(r2_score(target_test, predictions), 2)}')"
   ]
  },
  {
   "cell_type": "markdown",
   "metadata": {},
   "source": [
    "### Проверка метрики на преобразованных данных"
   ]
  },
  {
   "cell_type": "markdown",
   "metadata": {},
   "source": [
    "Функция `inv_matrix` принимает на вход матрицу признаков и возвращает случайную невырожденную матрицу необходимой размерности:"
   ]
  },
  {
   "cell_type": "code",
   "execution_count": 16,
   "metadata": {},
   "outputs": [],
   "source": [
    "def inv_matrix(features):\n",
    "    np.random.seed(0)\n",
    "    n = features.shape[1]\n",
    "    matrix = np.random.uniform(0, 100, size=(n, n))\n",
    "    while np.linalg.det(matrix) == 0:\n",
    "        matrix = np.random.uniform(0, 100, size=(n, n))\n",
    "    return matrix"
   ]
  },
  {
   "cell_type": "markdown",
   "metadata": {},
   "source": [
    "Преобразуем признаки:"
   ]
  },
  {
   "cell_type": "code",
   "execution_count": 17,
   "metadata": {},
   "outputs": [],
   "source": [
    "features_transformed = features.values @ inv_matrix(features)"
   ]
  },
  {
   "cell_type": "code",
   "execution_count": 18,
   "metadata": {},
   "outputs": [
    {
     "data": {
      "text/plain": [
       "array([[    1.,    41., 49600.,     1.],\n",
       "       [    0.,    46., 38000.,     1.],\n",
       "       [    0.,    29., 21000.,     0.],\n",
       "       ...,\n",
       "       [    0.,    20., 33900.,     2.],\n",
       "       [    1.,    22., 32700.,     3.],\n",
       "       [    1.,    28., 40600.,     1.]])"
      ]
     },
     "execution_count": 18,
     "metadata": {},
     "output_type": "execute_result"
    }
   ],
   "source": [
    "features.values"
   ]
  },
  {
   "cell_type": "code",
   "execution_count": 19,
   "metadata": {},
   "outputs": [
    {
     "data": {
      "text/plain": [
       "array([[4781615.9625689 , 1904682.1778399 , 3928817.67639962,\n",
       "        2627038.27252588],\n",
       "       [3663924.10643698, 1460141.44412189, 3010575.14949175,\n",
       "        2013911.5637946 ],\n",
       "       [2024920.39597024,  807100.28246203, 1663891.58288626,\n",
       "        1113265.47318337],\n",
       "       ...,\n",
       "       [3267777.67660939, 1301343.65637318, 2684837.2607344 ,\n",
       "        1794754.74982385],\n",
       "       [3152334.56211563, 1255623.93153716, 2589985.15355016,\n",
       "        1731528.91530193],\n",
       "       [3913768.72687883, 1558745.14854971, 3215696.27875058,\n",
       "        2149873.53984725]])"
      ]
     },
     "execution_count": 19,
     "metadata": {},
     "output_type": "execute_result"
    }
   ],
   "source": [
    "features_transformed"
   ]
  },
  {
   "cell_type": "code",
   "execution_count": 20,
   "metadata": {},
   "outputs": [],
   "source": [
    "features_train, features_test, target_train, target_test = train_test_split(features_transformed, target, test_size=0.25, random_state=1)"
   ]
  },
  {
   "cell_type": "code",
   "execution_count": 21,
   "metadata": {},
   "outputs": [
    {
     "name": "stdout",
     "output_type": "stream",
     "text": [
      "Метрика R2 на на преобразованных данных: 0.46\n"
     ]
    }
   ],
   "source": [
    "model = LinearRegression()\n",
    "model.fit(features_train, target_train)\n",
    "predictions = model.predict(features_test)\n",
    "print(f'Метрика R2 на на преобразованных данных: {round(r2_score(target_test, predictions), 2)}')"
   ]
  },
  {
   "cell_type": "markdown",
   "metadata": {},
   "source": [
    "### Вывод"
   ]
  },
  {
   "cell_type": "markdown",
   "metadata": {},
   "source": [
    "Алгоритм преобразования проверен на практике. Полученные результаты совпадают с теоретическими."
   ]
  },
  {
   "cell_type": "markdown",
   "metadata": {},
   "source": [
    "## Общий вывод"
   ]
  },
  {
   "cell_type": "markdown",
   "metadata": {},
   "source": [
    "Таким образом, был изучен вопрос влияния на исследуемую метрику процедура умножения матрицы признаков на обратимую. Удалось выяснить, что данное действие не оказывает влияние на итоговую метрику. Полученный результат исследования был применен в алгоритме шифрования пользовательских данных, который на практике показал результаты исследования."
   ]
  }
 ],
 "metadata": {
  "ExecuteTimeLog": [
   {
    "duration": 1146,
    "start_time": "2022-02-22T18:41:36.877Z"
   },
   {
    "duration": 16,
    "start_time": "2022-02-22T18:41:50.508Z"
   },
   {
    "duration": 16,
    "start_time": "2022-02-22T18:42:05.549Z"
   },
   {
    "duration": 7,
    "start_time": "2022-02-22T18:42:15.765Z"
   },
   {
    "duration": 11,
    "start_time": "2022-02-22T18:42:27.516Z"
   },
   {
    "duration": 6,
    "start_time": "2022-02-22T18:42:30.747Z"
   },
   {
    "duration": 6,
    "start_time": "2022-02-22T18:42:40.956Z"
   },
   {
    "duration": 7,
    "start_time": "2022-02-22T18:42:49.388Z"
   },
   {
    "duration": 6,
    "start_time": "2022-02-22T18:42:52.676Z"
   },
   {
    "duration": 14,
    "start_time": "2022-02-22T18:43:09.188Z"
   },
   {
    "duration": 7,
    "start_time": "2022-02-22T18:43:21.701Z"
   },
   {
    "duration": 14,
    "start_time": "2022-02-22T18:43:28.564Z"
   },
   {
    "duration": 5,
    "start_time": "2022-02-22T18:43:34.221Z"
   },
   {
    "duration": 6,
    "start_time": "2022-02-22T18:44:09.245Z"
   },
   {
    "duration": 1143,
    "start_time": "2022-02-22T18:44:24.079Z"
   },
   {
    "duration": 15,
    "start_time": "2022-02-22T18:44:26.672Z"
   },
   {
    "duration": 15,
    "start_time": "2022-02-22T18:44:27.752Z"
   },
   {
    "duration": 7,
    "start_time": "2022-02-22T18:44:27.976Z"
   },
   {
    "duration": 6,
    "start_time": "2022-02-22T18:44:29.888Z"
   },
   {
    "duration": 7,
    "start_time": "2022-02-22T18:44:31.576Z"
   },
   {
    "duration": 6,
    "start_time": "2022-02-22T18:44:37.541Z"
   },
   {
    "duration": 6,
    "start_time": "2022-02-22T18:44:44.213Z"
   },
   {
    "duration": 7233,
    "start_time": "2022-02-22T18:45:27.893Z"
   },
   {
    "duration": 1088,
    "start_time": "2022-02-22T18:45:37.190Z"
   },
   {
    "duration": 950,
    "start_time": "2022-02-22T18:46:22.909Z"
   },
   {
    "duration": 1181,
    "start_time": "2022-02-22T18:47:40.364Z"
   },
   {
    "duration": 12,
    "start_time": "2022-02-22T18:47:41.547Z"
   },
   {
    "duration": 13,
    "start_time": "2022-02-22T18:47:41.562Z"
   },
   {
    "duration": 6,
    "start_time": "2022-02-22T18:47:41.577Z"
   },
   {
    "duration": 5,
    "start_time": "2022-02-22T18:47:41.585Z"
   },
   {
    "duration": 30,
    "start_time": "2022-02-22T18:47:41.592Z"
   },
   {
    "duration": 5,
    "start_time": "2022-02-22T18:47:44.341Z"
   },
   {
    "duration": 199,
    "start_time": "2022-02-22T18:48:24.007Z"
   },
   {
    "duration": 228,
    "start_time": "2022-02-22T18:48:31.127Z"
   },
   {
    "duration": 240,
    "start_time": "2022-02-22T18:48:35.696Z"
   },
   {
    "duration": 330,
    "start_time": "2022-02-22T18:48:43.135Z"
   },
   {
    "duration": 327,
    "start_time": "2022-02-22T18:48:46.968Z"
   },
   {
    "duration": 219,
    "start_time": "2022-02-22T18:48:52.455Z"
   },
   {
    "duration": 240,
    "start_time": "2022-02-22T18:48:57.439Z"
   },
   {
    "duration": 242,
    "start_time": "2022-02-22T18:49:03.312Z"
   },
   {
    "duration": 188,
    "start_time": "2022-02-22T18:49:09.056Z"
   },
   {
    "duration": 222,
    "start_time": "2022-02-22T18:49:13.720Z"
   },
   {
    "duration": 213,
    "start_time": "2022-02-22T18:49:17.008Z"
   },
   {
    "duration": 241,
    "start_time": "2022-02-22T18:49:40.824Z"
   },
   {
    "duration": 295,
    "start_time": "2022-02-22T18:49:48.040Z"
   },
   {
    "duration": 268,
    "start_time": "2022-02-22T18:49:52.247Z"
   },
   {
    "duration": 231,
    "start_time": "2022-02-22T18:49:55.695Z"
   },
   {
    "duration": 232,
    "start_time": "2022-02-22T18:49:59.304Z"
   },
   {
    "duration": 4,
    "start_time": "2022-02-22T18:50:35.472Z"
   },
   {
    "duration": 312,
    "start_time": "2022-02-22T18:50:35.952Z"
   },
   {
    "duration": 358,
    "start_time": "2022-02-22T18:51:25.295Z"
   },
   {
    "duration": 320,
    "start_time": "2022-02-22T18:51:51.856Z"
   },
   {
    "duration": 78,
    "start_time": "2022-02-22T18:52:20.496Z"
   },
   {
    "duration": 393,
    "start_time": "2022-02-22T18:52:23.688Z"
   },
   {
    "duration": 4,
    "start_time": "2022-02-22T18:53:07.737Z"
   },
   {
    "duration": 383,
    "start_time": "2022-02-22T18:53:11.457Z"
   },
   {
    "duration": 5514,
    "start_time": "2022-02-22T18:53:32.959Z"
   },
   {
    "duration": 409,
    "start_time": "2022-02-22T18:53:44.736Z"
   },
   {
    "duration": 363,
    "start_time": "2022-02-22T18:53:51.184Z"
   },
   {
    "duration": 72507,
    "start_time": "2022-02-22T18:55:57.696Z"
   },
   {
    "duration": 23130,
    "start_time": "2022-02-22T18:57:15.727Z"
   },
   {
    "duration": 1158,
    "start_time": "2022-02-22T18:57:38.860Z"
   },
   {
    "duration": 17,
    "start_time": "2022-02-22T18:57:40.021Z"
   },
   {
    "duration": 22,
    "start_time": "2022-02-22T18:57:40.041Z"
   },
   {
    "duration": 8,
    "start_time": "2022-02-22T18:57:40.065Z"
   },
   {
    "duration": 6,
    "start_time": "2022-02-22T18:57:40.075Z"
   },
   {
    "duration": 7,
    "start_time": "2022-02-22T18:57:40.083Z"
   },
   {
    "duration": 5,
    "start_time": "2022-02-22T18:57:40.092Z"
   },
   {
    "duration": 20,
    "start_time": "2022-02-22T18:57:40.099Z"
   },
   {
    "duration": 450,
    "start_time": "2022-02-22T18:57:40.121Z"
   },
   {
    "duration": 425,
    "start_time": "2022-02-22T18:57:40.572Z"
   },
   {
    "duration": 522,
    "start_time": "2022-02-22T18:58:03.345Z"
   },
   {
    "duration": 410,
    "start_time": "2022-02-22T18:58:09.945Z"
   },
   {
    "duration": 421,
    "start_time": "2022-02-22T18:58:31.906Z"
   },
   {
    "duration": 448,
    "start_time": "2022-02-22T18:59:08.506Z"
   },
   {
    "duration": 441,
    "start_time": "2022-02-22T18:59:12.394Z"
   },
   {
    "duration": 396,
    "start_time": "2022-02-22T18:59:18.457Z"
   },
   {
    "duration": 411,
    "start_time": "2022-02-22T18:59:21.809Z"
   },
   {
    "duration": 358,
    "start_time": "2022-02-22T18:59:53.049Z"
   },
   {
    "duration": 361,
    "start_time": "2022-02-22T19:00:24.577Z"
   },
   {
    "duration": 345,
    "start_time": "2022-02-22T19:02:10.586Z"
   },
   {
    "duration": 298,
    "start_time": "2022-02-22T19:02:31.234Z"
   },
   {
    "duration": 7,
    "start_time": "2022-02-22T19:03:14.474Z"
   },
   {
    "duration": 231,
    "start_time": "2022-02-22T19:03:46.353Z"
   },
   {
    "duration": 631,
    "start_time": "2022-02-22T19:04:08.347Z"
   },
   {
    "duration": 6,
    "start_time": "2022-02-22T19:04:21.435Z"
   },
   {
    "duration": 259,
    "start_time": "2022-02-22T19:04:25.193Z"
   },
   {
    "duration": 216,
    "start_time": "2022-02-22T19:04:32.409Z"
   },
   {
    "duration": 246,
    "start_time": "2022-02-22T19:05:25.698Z"
   },
   {
    "duration": 232,
    "start_time": "2022-02-22T19:05:33.522Z"
   },
   {
    "duration": 278,
    "start_time": "2022-02-22T19:05:41.690Z"
   },
   {
    "duration": 240,
    "start_time": "2022-02-22T19:05:52.123Z"
   },
   {
    "duration": 141,
    "start_time": "2022-02-22T19:06:39.379Z"
   },
   {
    "duration": 240,
    "start_time": "2022-02-22T19:07:04.910Z"
   },
   {
    "duration": 239,
    "start_time": "2022-02-22T19:07:08.602Z"
   },
   {
    "duration": 273,
    "start_time": "2022-02-22T19:07:13.329Z"
   },
   {
    "duration": 294,
    "start_time": "2022-02-22T19:07:19.970Z"
   },
   {
    "duration": 7,
    "start_time": "2022-02-22T19:07:30.210Z"
   },
   {
    "duration": 1658,
    "start_time": "2022-02-22T19:08:09.074Z"
   },
   {
    "duration": 4,
    "start_time": "2022-02-22T19:08:15.522Z"
   },
   {
    "duration": 361,
    "start_time": "2022-02-22T19:08:58.282Z"
   },
   {
    "duration": 226,
    "start_time": "2022-02-22T19:09:04.915Z"
   },
   {
    "duration": 219,
    "start_time": "2022-02-22T19:09:14.054Z"
   },
   {
    "duration": 7,
    "start_time": "2022-02-22T19:09:35.523Z"
   },
   {
    "duration": 5,
    "start_time": "2022-02-22T19:09:38.458Z"
   },
   {
    "duration": 7,
    "start_time": "2022-02-22T19:09:42.377Z"
   },
   {
    "duration": 79,
    "start_time": "2022-02-22T19:09:46.721Z"
   },
   {
    "duration": 6,
    "start_time": "2022-02-22T19:09:50.866Z"
   },
   {
    "duration": 222,
    "start_time": "2022-02-22T19:09:59.674Z"
   },
   {
    "duration": 296,
    "start_time": "2022-02-22T19:11:43.234Z"
   },
   {
    "duration": 372,
    "start_time": "2022-02-22T19:12:28.002Z"
   },
   {
    "duration": 532,
    "start_time": "2022-02-22T19:12:38.097Z"
   },
   {
    "duration": 291,
    "start_time": "2022-02-22T19:13:03.235Z"
   },
   {
    "duration": 295,
    "start_time": "2022-02-22T19:16:12.642Z"
   },
   {
    "duration": 79,
    "start_time": "2022-02-22T19:16:21.987Z"
   },
   {
    "duration": 443,
    "start_time": "2022-02-22T19:16:26.490Z"
   },
   {
    "duration": 261,
    "start_time": "2022-02-22T19:16:40.458Z"
   },
   {
    "duration": 299,
    "start_time": "2022-02-22T19:17:34.878Z"
   },
   {
    "duration": 235,
    "start_time": "2022-02-22T19:17:36.418Z"
   },
   {
    "duration": 98381,
    "start_time": "2022-02-22T19:17:56.394Z"
   },
   {
    "duration": 229,
    "start_time": "2022-02-22T19:19:38.517Z"
   },
   {
    "duration": 4,
    "start_time": "2022-02-22T19:19:45.396Z"
   },
   {
    "duration": 282,
    "start_time": "2022-02-22T19:19:48.804Z"
   },
   {
    "duration": 462,
    "start_time": "2022-02-22T19:20:39.954Z"
   },
   {
    "duration": 4587,
    "start_time": "2022-02-22T19:21:00.691Z"
   },
   {
    "duration": 483,
    "start_time": "2022-02-22T19:21:06.211Z"
   },
   {
    "duration": 9789,
    "start_time": "2022-02-22T19:21:15.621Z"
   },
   {
    "duration": 312,
    "start_time": "2022-02-22T19:21:37.786Z"
   },
   {
    "duration": 7,
    "start_time": "2022-02-22T19:22:14.219Z"
   },
   {
    "duration": 311,
    "start_time": "2022-02-22T19:22:52.971Z"
   },
   {
    "duration": 322,
    "start_time": "2022-02-22T19:23:19.483Z"
   },
   {
    "duration": 5,
    "start_time": "2022-02-22T19:24:26.443Z"
   },
   {
    "duration": 3,
    "start_time": "2022-02-22T19:25:35.627Z"
   },
   {
    "duration": 4,
    "start_time": "2022-02-22T19:33:13.989Z"
   },
   {
    "duration": 5,
    "start_time": "2022-02-22T19:33:22.059Z"
   },
   {
    "duration": 26,
    "start_time": "2022-02-22T19:33:45.763Z"
   },
   {
    "duration": 73,
    "start_time": "2022-02-22T19:33:54.979Z"
   },
   {
    "duration": 25,
    "start_time": "2022-02-22T19:33:57.723Z"
   },
   {
    "duration": 25,
    "start_time": "2022-02-22T19:34:33.452Z"
   },
   {
    "duration": 5,
    "start_time": "2022-02-22T19:35:04.363Z"
   },
   {
    "duration": 3,
    "start_time": "2022-02-22T19:37:45.045Z"
   },
   {
    "duration": 4,
    "start_time": "2022-02-22T19:37:51.520Z"
   },
   {
    "duration": 4,
    "start_time": "2022-02-22T19:38:46.388Z"
   },
   {
    "duration": 5,
    "start_time": "2022-02-22T19:38:51.587Z"
   },
   {
    "duration": 4,
    "start_time": "2022-02-22T19:39:25.619Z"
   },
   {
    "duration": 5,
    "start_time": "2022-02-22T19:39:30.310Z"
   },
   {
    "duration": 3,
    "start_time": "2022-02-22T19:39:43.835Z"
   },
   {
    "duration": 230,
    "start_time": "2022-02-22T19:39:56.820Z"
   },
   {
    "duration": 231,
    "start_time": "2022-02-22T19:40:05.747Z"
   },
   {
    "duration": 582,
    "start_time": "2022-02-22T19:40:25.012Z"
   },
   {
    "duration": 561,
    "start_time": "2022-02-22T19:41:12.135Z"
   },
   {
    "duration": 15,
    "start_time": "2022-02-22T19:41:41.859Z"
   },
   {
    "duration": 26,
    "start_time": "2022-02-22T19:41:46.899Z"
   },
   {
    "duration": 17,
    "start_time": "2022-02-22T19:41:52.868Z"
   },
   {
    "duration": 553,
    "start_time": "2022-02-22T19:42:08.844Z"
   },
   {
    "duration": 15390,
    "start_time": "2022-02-22T19:44:31.860Z"
   },
   {
    "duration": 1176,
    "start_time": "2022-02-22T19:44:48.352Z"
   },
   {
    "duration": 18,
    "start_time": "2022-02-22T19:44:49.529Z"
   },
   {
    "duration": 10,
    "start_time": "2022-02-22T19:44:49.549Z"
   },
   {
    "duration": 6,
    "start_time": "2022-02-22T19:44:49.561Z"
   },
   {
    "duration": 7,
    "start_time": "2022-02-22T19:44:49.569Z"
   },
   {
    "duration": 7,
    "start_time": "2022-02-22T19:44:52.951Z"
   },
   {
    "duration": 5,
    "start_time": "2022-02-22T19:44:53.280Z"
   },
   {
    "duration": 3,
    "start_time": "2022-02-22T19:44:53.471Z"
   },
   {
    "duration": 391,
    "start_time": "2022-02-22T19:44:53.711Z"
   },
   {
    "duration": 416,
    "start_time": "2022-02-22T19:44:54.768Z"
   },
   {
    "duration": 266,
    "start_time": "2022-02-22T19:44:56.344Z"
   },
   {
    "duration": 313,
    "start_time": "2022-02-22T19:44:56.612Z"
   },
   {
    "duration": 309,
    "start_time": "2022-02-22T19:44:56.927Z"
   },
   {
    "duration": 3,
    "start_time": "2022-02-22T19:45:00.552Z"
   },
   {
    "duration": 4,
    "start_time": "2022-02-22T19:45:00.744Z"
   },
   {
    "duration": 3,
    "start_time": "2022-02-22T19:45:06.024Z"
   },
   {
    "duration": 16,
    "start_time": "2022-02-22T19:45:08.689Z"
   },
   {
    "duration": 758,
    "start_time": "2022-02-22T19:45:15.106Z"
   },
   {
    "duration": 4,
    "start_time": "2022-02-22T19:45:25.449Z"
   },
   {
    "duration": 424,
    "start_time": "2022-02-22T19:45:33.296Z"
   },
   {
    "duration": 403,
    "start_time": "2022-02-22T19:45:39.518Z"
   },
   {
    "duration": 355,
    "start_time": "2022-02-22T19:46:31.953Z"
   },
   {
    "duration": 413,
    "start_time": "2022-02-22T19:46:35.097Z"
   },
   {
    "duration": 5,
    "start_time": "2022-02-22T19:46:45.952Z"
   },
   {
    "duration": 4,
    "start_time": "2022-02-22T19:46:51.377Z"
   },
   {
    "duration": 5,
    "start_time": "2022-02-22T19:46:55.368Z"
   },
   {
    "duration": 4,
    "start_time": "2022-02-22T19:46:59.865Z"
   },
   {
    "duration": 4,
    "start_time": "2022-02-22T19:47:11.537Z"
   },
   {
    "duration": 5,
    "start_time": "2022-02-22T19:47:19.385Z"
   },
   {
    "duration": 16,
    "start_time": "2022-02-22T19:47:23.817Z"
   },
   {
    "duration": 219,
    "start_time": "2022-02-22T19:47:28.066Z"
   },
   {
    "duration": 221,
    "start_time": "2022-02-22T19:47:38.434Z"
   },
   {
    "duration": 469,
    "start_time": "2022-02-22T19:47:49.753Z"
   },
   {
    "duration": 4,
    "start_time": "2022-02-22T19:47:51.258Z"
   },
   {
    "duration": 130479,
    "start_time": "2022-02-22T19:47:54.418Z"
   },
   {
    "duration": 69,
    "start_time": "2022-02-22T19:52:16.274Z"
   },
   {
    "duration": 370,
    "start_time": "2022-02-22T19:52:21.858Z"
   },
   {
    "duration": 3,
    "start_time": "2022-02-22T19:52:24.953Z"
   },
   {
    "duration": 352,
    "start_time": "2022-02-22T19:52:25.114Z"
   },
   {
    "duration": 208,
    "start_time": "2022-02-27T11:04:27.435Z"
   },
   {
    "duration": 14,
    "start_time": "2022-02-27T11:06:20.363Z"
   },
   {
    "duration": 6,
    "start_time": "2022-02-27T11:12:56.899Z"
   },
   {
    "duration": 1275,
    "start_time": "2022-02-27T11:13:05.471Z"
   },
   {
    "duration": 20,
    "start_time": "2022-02-27T11:13:09.352Z"
   },
   {
    "duration": 14,
    "start_time": "2022-02-27T11:13:09.873Z"
   },
   {
    "duration": 11,
    "start_time": "2022-02-27T11:13:12.392Z"
   },
   {
    "duration": 7,
    "start_time": "2022-02-27T11:13:14.602Z"
   },
   {
    "duration": 8,
    "start_time": "2022-02-27T11:13:15.330Z"
   },
   {
    "duration": 7,
    "start_time": "2022-02-27T11:13:16.128Z"
   },
   {
    "duration": 5,
    "start_time": "2022-02-27T11:13:16.666Z"
   },
   {
    "duration": 308,
    "start_time": "2022-02-27T11:13:17.152Z"
   },
   {
    "duration": 4241,
    "start_time": "2022-02-27T11:13:22.320Z"
   },
   {
    "duration": 7,
    "start_time": "2022-02-27T11:13:33.987Z"
   },
   {
    "duration": 17,
    "start_time": "2022-02-27T11:13:34.426Z"
   },
   {
    "duration": 13,
    "start_time": "2022-02-27T11:13:34.770Z"
   },
   {
    "duration": 9,
    "start_time": "2022-02-27T11:13:35.226Z"
   },
   {
    "duration": 8,
    "start_time": "2022-02-27T11:13:36.915Z"
   },
   {
    "duration": 8,
    "start_time": "2022-02-27T11:13:37.323Z"
   },
   {
    "duration": 7,
    "start_time": "2022-02-27T11:13:37.707Z"
   },
   {
    "duration": 5,
    "start_time": "2022-02-27T11:13:38.091Z"
   },
   {
    "duration": 194,
    "start_time": "2022-02-27T11:13:38.435Z"
   },
   {
    "duration": 6,
    "start_time": "2022-02-27T11:13:44.107Z"
   },
   {
    "duration": 13,
    "start_time": "2022-02-27T11:13:44.420Z"
   },
   {
    "duration": 11,
    "start_time": "2022-02-27T11:13:44.555Z"
   },
   {
    "duration": 9,
    "start_time": "2022-02-27T11:13:44.724Z"
   },
   {
    "duration": 7,
    "start_time": "2022-02-27T11:13:44.859Z"
   },
   {
    "duration": 9,
    "start_time": "2022-02-27T11:13:44.995Z"
   },
   {
    "duration": 8,
    "start_time": "2022-02-27T11:13:45.356Z"
   },
   {
    "duration": 6,
    "start_time": "2022-02-27T11:13:45.628Z"
   },
   {
    "duration": 182,
    "start_time": "2022-02-27T11:13:45.860Z"
   },
   {
    "duration": 3039,
    "start_time": "2022-02-27T11:13:50.237Z"
   },
   {
    "duration": 6,
    "start_time": "2022-02-27T11:13:53.279Z"
   },
   {
    "duration": 16,
    "start_time": "2022-02-27T11:13:53.725Z"
   },
   {
    "duration": 13,
    "start_time": "2022-02-27T11:13:54.157Z"
   },
   {
    "duration": 10,
    "start_time": "2022-02-27T11:13:54.517Z"
   },
   {
    "duration": 9,
    "start_time": "2022-02-27T11:13:55.045Z"
   },
   {
    "duration": 10,
    "start_time": "2022-02-27T11:13:56.381Z"
   },
   {
    "duration": 9,
    "start_time": "2022-02-27T11:13:56.909Z"
   },
   {
    "duration": 5,
    "start_time": "2022-02-27T11:13:57.245Z"
   },
   {
    "duration": 169,
    "start_time": "2022-02-27T11:13:57.574Z"
   },
   {
    "duration": 171,
    "start_time": "2022-02-27T11:13:59.854Z"
   },
   {
    "duration": 380,
    "start_time": "2022-02-27T11:14:03.926Z"
   },
   {
    "duration": 442,
    "start_time": "2022-02-27T11:14:04.975Z"
   },
   {
    "duration": 430,
    "start_time": "2022-02-27T11:14:06.111Z"
   },
   {
    "duration": 165,
    "start_time": "2022-02-27T11:17:06.979Z"
   },
   {
    "duration": 5,
    "start_time": "2022-02-27T11:17:16.666Z"
   },
   {
    "duration": 6,
    "start_time": "2022-02-27T11:17:29.171Z"
   },
   {
    "duration": 4,
    "start_time": "2022-02-27T11:17:40.589Z"
   },
   {
    "duration": 6,
    "start_time": "2022-02-27T11:17:51.810Z"
   },
   {
    "duration": 236,
    "start_time": "2022-02-27T11:18:00.803Z"
   },
   {
    "duration": 4,
    "start_time": "2022-02-27T11:18:15.243Z"
   },
   {
    "duration": 174,
    "start_time": "2022-02-27T11:18:15.626Z"
   },
   {
    "duration": 4,
    "start_time": "2022-02-27T11:24:46.883Z"
   },
   {
    "duration": 5,
    "start_time": "2022-02-27T11:25:40.675Z"
   },
   {
    "duration": 18,
    "start_time": "2022-02-27T11:26:41.274Z"
   },
   {
    "duration": 5,
    "start_time": "2022-02-27T11:26:45.521Z"
   },
   {
    "duration": 5,
    "start_time": "2022-02-27T11:26:48.162Z"
   },
   {
    "duration": 4,
    "start_time": "2022-02-27T11:27:43.059Z"
   },
   {
    "duration": 5,
    "start_time": "2022-02-27T11:27:44.851Z"
   },
   {
    "duration": 7,
    "start_time": "2022-02-27T11:27:52.307Z"
   },
   {
    "duration": 4,
    "start_time": "2022-02-27T11:28:07.163Z"
   },
   {
    "duration": 6,
    "start_time": "2022-02-27T11:28:07.836Z"
   },
   {
    "duration": 185,
    "start_time": "2022-02-27T11:28:08.251Z"
   },
   {
    "duration": 5,
    "start_time": "2022-02-27T11:32:24.226Z"
   },
   {
    "duration": 5,
    "start_time": "2022-02-27T11:32:36.850Z"
   },
   {
    "duration": 5,
    "start_time": "2022-02-27T11:32:44.659Z"
   },
   {
    "duration": 866,
    "start_time": "2022-02-27T11:32:50.242Z"
   },
   {
    "duration": 5,
    "start_time": "2022-02-27T11:32:58.146Z"
   },
   {
    "duration": 51622,
    "start_time": "2022-02-27T11:32:58.499Z"
   },
   {
    "duration": 5,
    "start_time": "2022-02-27T11:34:00.675Z"
   },
   {
    "duration": 7,
    "start_time": "2022-02-27T11:34:01.187Z"
   },
   {
    "duration": 8,
    "start_time": "2022-02-27T11:34:23.027Z"
   },
   {
    "duration": 4,
    "start_time": "2022-02-27T11:34:36.611Z"
   },
   {
    "duration": 6,
    "start_time": "2022-02-27T11:35:09.202Z"
   },
   {
    "duration": 6,
    "start_time": "2022-02-27T11:35:12.002Z"
   },
   {
    "duration": 5,
    "start_time": "2022-02-27T11:35:13.795Z"
   },
   {
    "duration": 5,
    "start_time": "2022-02-27T11:35:15.547Z"
   },
   {
    "duration": 6,
    "start_time": "2022-02-27T11:35:54.034Z"
   },
   {
    "duration": 7,
    "start_time": "2022-02-27T11:37:19.415Z"
   },
   {
    "duration": 262,
    "start_time": "2022-02-27T11:38:18.540Z"
   },
   {
    "duration": 9,
    "start_time": "2022-02-27T11:38:29.484Z"
   },
   {
    "duration": 9,
    "start_time": "2022-02-27T11:39:25.292Z"
   },
   {
    "duration": 11,
    "start_time": "2022-02-27T11:39:37.827Z"
   },
   {
    "duration": 5,
    "start_time": "2022-02-27T11:40:01.954Z"
   },
   {
    "duration": 8,
    "start_time": "2022-02-27T11:40:02.138Z"
   },
   {
    "duration": 4,
    "start_time": "2022-02-27T11:40:26.703Z"
   },
   {
    "duration": 3,
    "start_time": "2022-02-27T11:40:27.127Z"
   },
   {
    "duration": 6,
    "start_time": "2022-02-27T11:40:27.966Z"
   },
   {
    "duration": 7,
    "start_time": "2022-02-27T11:40:28.278Z"
   },
   {
    "duration": 4,
    "start_time": "2022-02-27T11:40:28.646Z"
   },
   {
    "duration": 5,
    "start_time": "2022-02-27T11:40:30.615Z"
   },
   {
    "duration": 10,
    "start_time": "2022-02-27T11:40:30.742Z"
   },
   {
    "duration": 6,
    "start_time": "2022-02-27T11:45:22.403Z"
   },
   {
    "duration": 10,
    "start_time": "2022-02-27T11:45:26.036Z"
   },
   {
    "duration": 5,
    "start_time": "2022-02-27T11:45:28.651Z"
   },
   {
    "duration": 5,
    "start_time": "2022-02-27T11:45:30.725Z"
   },
   {
    "duration": 5,
    "start_time": "2022-02-27T11:45:40.356Z"
   },
   {
    "duration": 5,
    "start_time": "2022-02-27T11:45:50.308Z"
   },
   {
    "duration": 17,
    "start_time": "2022-02-27T11:46:03.795Z"
   },
   {
    "duration": 16,
    "start_time": "2022-02-27T11:46:06.092Z"
   },
   {
    "duration": 24,
    "start_time": "2022-02-27T11:46:07.332Z"
   },
   {
    "duration": 9,
    "start_time": "2022-02-27T11:46:12.217Z"
   },
   {
    "duration": 7,
    "start_time": "2022-02-27T11:46:14.572Z"
   },
   {
    "duration": 7,
    "start_time": "2022-02-27T11:46:16.547Z"
   },
   {
    "duration": 6,
    "start_time": "2022-02-27T11:46:18.108Z"
   },
   {
    "duration": 4,
    "start_time": "2022-02-27T11:47:51.284Z"
   },
   {
    "duration": 6,
    "start_time": "2022-02-27T11:48:08.597Z"
   },
   {
    "duration": 8,
    "start_time": "2022-02-27T11:48:14.876Z"
   },
   {
    "duration": 4219,
    "start_time": "2022-02-27T11:48:36.633Z"
   },
   {
    "duration": 6,
    "start_time": "2022-02-27T11:48:40.855Z"
   },
   {
    "duration": 25,
    "start_time": "2022-02-27T11:48:40.863Z"
   },
   {
    "duration": 17,
    "start_time": "2022-02-27T11:48:41.319Z"
   },
   {
    "duration": 9,
    "start_time": "2022-02-27T11:48:43.946Z"
   },
   {
    "duration": 9,
    "start_time": "2022-02-27T11:48:44.161Z"
   },
   {
    "duration": 9,
    "start_time": "2022-02-27T11:48:45.354Z"
   },
   {
    "duration": 7,
    "start_time": "2022-02-27T11:48:47.483Z"
   },
   {
    "duration": 6,
    "start_time": "2022-02-27T11:48:49.811Z"
   },
   {
    "duration": 172,
    "start_time": "2022-02-27T11:48:52.837Z"
   },
   {
    "duration": 507,
    "start_time": "2022-02-27T11:49:16.228Z"
   },
   {
    "duration": 744,
    "start_time": "2022-02-27T11:49:57.141Z"
   },
   {
    "duration": 512,
    "start_time": "2022-02-27T11:50:02.684Z"
   },
   {
    "duration": 494,
    "start_time": "2022-02-27T11:50:05.524Z"
   },
   {
    "duration": 517,
    "start_time": "2022-02-27T11:50:20.005Z"
   },
   {
    "duration": 373,
    "start_time": "2022-02-27T11:50:21.469Z"
   },
   {
    "duration": 655,
    "start_time": "2022-02-27T11:50:25.548Z"
   },
   {
    "duration": 513,
    "start_time": "2022-02-27T11:50:42.092Z"
   },
   {
    "duration": 540,
    "start_time": "2022-02-27T11:50:50.131Z"
   },
   {
    "duration": 63,
    "start_time": "2022-02-27T11:50:54.629Z"
   },
   {
    "duration": 843,
    "start_time": "2022-02-27T11:50:56.731Z"
   },
   {
    "duration": 170,
    "start_time": "2022-02-27T11:51:45.303Z"
   },
   {
    "duration": 180,
    "start_time": "2022-02-27T11:51:49.157Z"
   },
   {
    "duration": 608,
    "start_time": "2022-02-27T11:52:29.941Z"
   },
   {
    "duration": 174,
    "start_time": "2022-02-27T11:52:51.277Z"
   },
   {
    "duration": 521,
    "start_time": "2022-02-27T11:52:54.141Z"
   },
   {
    "duration": 584,
    "start_time": "2022-02-27T11:53:13.340Z"
   },
   {
    "duration": 616,
    "start_time": "2022-02-27T11:53:18.380Z"
   },
   {
    "duration": 477,
    "start_time": "2022-02-27T11:53:27.563Z"
   },
   {
    "duration": 541,
    "start_time": "2022-02-27T11:54:02.318Z"
   },
   {
    "duration": 697,
    "start_time": "2022-02-27T11:54:06.532Z"
   },
   {
    "duration": 543,
    "start_time": "2022-02-27T11:54:16.989Z"
   },
   {
    "duration": 539,
    "start_time": "2022-02-27T11:54:31.217Z"
   },
   {
    "duration": 607,
    "start_time": "2022-02-27T11:54:39.444Z"
   },
   {
    "duration": 535,
    "start_time": "2022-02-27T11:54:42.821Z"
   },
   {
    "duration": 501,
    "start_time": "2022-02-27T11:54:46.644Z"
   },
   {
    "duration": 580,
    "start_time": "2022-02-27T11:55:04.981Z"
   },
   {
    "duration": 551,
    "start_time": "2022-02-27T11:55:09.158Z"
   },
   {
    "duration": 476,
    "start_time": "2022-02-27T11:55:14.838Z"
   },
   {
    "duration": 489,
    "start_time": "2022-02-27T11:55:21.340Z"
   },
   {
    "duration": 5,
    "start_time": "2022-02-27T12:03:56.382Z"
   },
   {
    "duration": 8,
    "start_time": "2022-02-27T12:04:03.805Z"
   },
   {
    "duration": 15,
    "start_time": "2022-02-27T12:04:04.030Z"
   },
   {
    "duration": 10,
    "start_time": "2022-02-27T12:04:15.774Z"
   },
   {
    "duration": 68,
    "start_time": "2022-02-27T12:04:22.556Z"
   },
   {
    "duration": 9,
    "start_time": "2022-02-27T12:04:25.041Z"
   },
   {
    "duration": 5,
    "start_time": "2022-02-27T12:04:37.605Z"
   },
   {
    "duration": 4,
    "start_time": "2022-02-27T12:04:41.461Z"
   },
   {
    "duration": 6,
    "start_time": "2022-02-27T12:04:47.709Z"
   },
   {
    "duration": 9,
    "start_time": "2022-02-27T12:04:53.036Z"
   },
   {
    "duration": 12,
    "start_time": "2022-02-27T12:05:42.499Z"
   },
   {
    "duration": 8,
    "start_time": "2022-02-27T12:05:54.924Z"
   },
   {
    "duration": 7,
    "start_time": "2022-02-27T12:06:03.278Z"
   },
   {
    "duration": 8,
    "start_time": "2022-02-27T12:06:21.902Z"
   },
   {
    "duration": 7,
    "start_time": "2022-02-27T12:06:34.461Z"
   },
   {
    "duration": 7,
    "start_time": "2022-02-27T12:06:43.678Z"
   },
   {
    "duration": 505,
    "start_time": "2022-02-27T12:07:10.877Z"
   },
   {
    "duration": 524,
    "start_time": "2022-02-27T12:07:12.758Z"
   },
   {
    "duration": 407,
    "start_time": "2022-02-27T12:07:30.327Z"
   },
   {
    "duration": 389,
    "start_time": "2022-02-27T12:08:02.630Z"
   },
   {
    "duration": 479,
    "start_time": "2022-02-27T12:09:14.566Z"
   },
   {
    "duration": 460,
    "start_time": "2022-02-27T12:09:21.325Z"
   },
   {
    "duration": 469,
    "start_time": "2022-02-27T12:09:39.054Z"
   },
   {
    "duration": 550,
    "start_time": "2022-02-27T12:09:39.527Z"
   },
   {
    "duration": 406,
    "start_time": "2022-02-27T12:09:40.083Z"
   },
   {
    "duration": 452,
    "start_time": "2022-02-27T12:09:42.237Z"
   },
   {
    "duration": 460,
    "start_time": "2022-02-27T12:10:07.694Z"
   },
   {
    "duration": 461,
    "start_time": "2022-02-27T12:10:11.742Z"
   },
   {
    "duration": 8,
    "start_time": "2022-02-27T12:13:55.342Z"
   },
   {
    "duration": 4,
    "start_time": "2022-02-27T12:15:21.732Z"
   },
   {
    "duration": 6,
    "start_time": "2022-02-27T12:15:21.950Z"
   },
   {
    "duration": 8,
    "start_time": "2022-02-27T12:15:22.188Z"
   },
   {
    "duration": 1394,
    "start_time": "2022-02-27T12:20:02.502Z"
   },
   {
    "duration": 14,
    "start_time": "2022-02-27T12:20:03.899Z"
   },
   {
    "duration": 23,
    "start_time": "2022-02-27T12:20:03.921Z"
   },
   {
    "duration": 22,
    "start_time": "2022-02-27T12:20:03.946Z"
   },
   {
    "duration": 16,
    "start_time": "2022-02-27T12:20:03.970Z"
   },
   {
    "duration": 19,
    "start_time": "2022-02-27T12:20:03.988Z"
   },
   {
    "duration": 12,
    "start_time": "2022-02-27T12:20:04.011Z"
   },
   {
    "duration": 500,
    "start_time": "2022-02-27T12:20:04.026Z"
   },
   {
    "duration": 558,
    "start_time": "2022-02-27T12:20:04.529Z"
   },
   {
    "duration": 420,
    "start_time": "2022-02-27T12:20:05.090Z"
   },
   {
    "duration": 476,
    "start_time": "2022-02-27T12:20:05.514Z"
   },
   {
    "duration": 479,
    "start_time": "2022-02-27T12:20:05.992Z"
   },
   {
    "duration": 10,
    "start_time": "2022-02-27T12:20:06.474Z"
   },
   {
    "duration": 10,
    "start_time": "2022-02-27T12:20:06.487Z"
   },
   {
    "duration": 10,
    "start_time": "2022-02-27T12:20:06.499Z"
   },
   {
    "duration": 6,
    "start_time": "2022-02-27T12:20:06.511Z"
   },
   {
    "duration": 11,
    "start_time": "2022-02-27T12:20:06.519Z"
   },
   {
    "duration": 7,
    "start_time": "2022-02-27T12:20:06.532Z"
   },
   {
    "duration": 48,
    "start_time": "2022-02-27T12:20:06.542Z"
   },
   {
    "duration": 1420,
    "start_time": "2022-02-27T12:20:35.377Z"
   },
   {
    "duration": 14,
    "start_time": "2022-02-27T12:20:36.800Z"
   },
   {
    "duration": 24,
    "start_time": "2022-02-27T12:20:36.818Z"
   },
   {
    "duration": 10,
    "start_time": "2022-02-27T12:20:36.845Z"
   },
   {
    "duration": 25,
    "start_time": "2022-02-27T12:20:36.858Z"
   },
   {
    "duration": 8,
    "start_time": "2022-02-27T12:20:36.885Z"
   },
   {
    "duration": 14,
    "start_time": "2022-02-27T12:20:36.895Z"
   },
   {
    "duration": 522,
    "start_time": "2022-02-27T12:20:36.913Z"
   },
   {
    "duration": 554,
    "start_time": "2022-02-27T12:20:37.438Z"
   },
   {
    "duration": 425,
    "start_time": "2022-02-27T12:20:37.995Z"
   },
   {
    "duration": 504,
    "start_time": "2022-02-27T12:20:38.423Z"
   },
   {
    "duration": 476,
    "start_time": "2022-02-27T12:20:38.930Z"
   },
   {
    "duration": 5,
    "start_time": "2022-02-27T12:20:39.408Z"
   },
   {
    "duration": 10,
    "start_time": "2022-02-27T12:20:39.415Z"
   },
   {
    "duration": 10,
    "start_time": "2022-02-27T12:20:39.428Z"
   },
   {
    "duration": 5,
    "start_time": "2022-02-27T12:20:39.441Z"
   },
   {
    "duration": 34,
    "start_time": "2022-02-27T12:20:39.448Z"
   },
   {
    "duration": 9,
    "start_time": "2022-02-27T12:20:39.484Z"
   },
   {
    "duration": 9,
    "start_time": "2022-02-27T12:20:39.495Z"
   },
   {
    "duration": 304,
    "start_time": "2022-02-27T12:21:48.178Z"
   },
   {
    "duration": 6,
    "start_time": "2022-02-27T12:21:52.953Z"
   },
   {
    "duration": 7,
    "start_time": "2022-02-27T12:22:04.401Z"
   },
   {
    "duration": 6,
    "start_time": "2022-02-27T12:22:13.043Z"
   },
   {
    "duration": 5,
    "start_time": "2022-02-27T12:22:16.074Z"
   },
   {
    "duration": 6,
    "start_time": "2022-02-27T12:22:20.913Z"
   },
   {
    "duration": 7,
    "start_time": "2022-02-27T12:22:22.825Z"
   },
   {
    "duration": 1371,
    "start_time": "2022-02-27T12:22:32.914Z"
   },
   {
    "duration": 17,
    "start_time": "2022-02-27T12:22:34.288Z"
   },
   {
    "duration": 17,
    "start_time": "2022-02-27T12:22:34.309Z"
   },
   {
    "duration": 13,
    "start_time": "2022-02-27T12:22:34.329Z"
   },
   {
    "duration": 9,
    "start_time": "2022-02-27T12:22:34.344Z"
   },
   {
    "duration": 9,
    "start_time": "2022-02-27T12:22:34.383Z"
   },
   {
    "duration": 6,
    "start_time": "2022-02-27T12:22:34.395Z"
   },
   {
    "duration": 536,
    "start_time": "2022-02-27T12:22:34.404Z"
   },
   {
    "duration": 568,
    "start_time": "2022-02-27T12:22:34.944Z"
   },
   {
    "duration": 420,
    "start_time": "2022-02-27T12:22:35.515Z"
   },
   {
    "duration": 474,
    "start_time": "2022-02-27T12:22:35.938Z"
   },
   {
    "duration": 486,
    "start_time": "2022-02-27T12:22:36.415Z"
   },
   {
    "duration": 6,
    "start_time": "2022-02-27T12:22:36.903Z"
   },
   {
    "duration": 10,
    "start_time": "2022-02-27T12:22:36.911Z"
   },
   {
    "duration": 9,
    "start_time": "2022-02-27T12:22:36.924Z"
   },
   {
    "duration": 5,
    "start_time": "2022-02-27T12:22:36.935Z"
   },
   {
    "duration": 40,
    "start_time": "2022-02-27T12:22:36.943Z"
   },
   {
    "duration": 16,
    "start_time": "2022-02-27T12:22:36.985Z"
   },
   {
    "duration": 7,
    "start_time": "2022-02-27T12:22:37.003Z"
   },
   {
    "duration": 13,
    "start_time": "2022-02-27T12:22:37.012Z"
   },
   {
    "duration": 10,
    "start_time": "2022-02-27T12:22:37.027Z"
   },
   {
    "duration": 1416,
    "start_time": "2022-02-27T13:37:19.578Z"
   },
   {
    "duration": 15,
    "start_time": "2022-02-27T13:37:20.997Z"
   },
   {
    "duration": 16,
    "start_time": "2022-02-27T13:37:21.015Z"
   },
   {
    "duration": 11,
    "start_time": "2022-02-27T13:37:21.034Z"
   },
   {
    "duration": 35,
    "start_time": "2022-02-27T13:37:21.048Z"
   },
   {
    "duration": 11,
    "start_time": "2022-02-27T13:37:21.086Z"
   },
   {
    "duration": 8,
    "start_time": "2022-02-27T13:37:21.100Z"
   },
   {
    "duration": 549,
    "start_time": "2022-02-27T13:37:21.114Z"
   },
   {
    "duration": 569,
    "start_time": "2022-02-27T13:37:21.667Z"
   },
   {
    "duration": 425,
    "start_time": "2022-02-27T13:37:22.239Z"
   },
   {
    "duration": 477,
    "start_time": "2022-02-27T13:37:22.667Z"
   },
   {
    "duration": 467,
    "start_time": "2022-02-27T13:37:23.146Z"
   },
   {
    "duration": 5,
    "start_time": "2022-02-27T13:37:23.615Z"
   },
   {
    "duration": 40,
    "start_time": "2022-02-27T13:37:23.622Z"
   },
   {
    "duration": 44,
    "start_time": "2022-02-27T13:37:23.664Z"
   },
   {
    "duration": 33,
    "start_time": "2022-02-27T13:37:23.711Z"
   },
   {
    "duration": 21,
    "start_time": "2022-02-27T13:37:23.746Z"
   },
   {
    "duration": 26,
    "start_time": "2022-02-27T13:37:23.769Z"
   },
   {
    "duration": 35,
    "start_time": "2022-02-27T13:37:23.797Z"
   },
   {
    "duration": 31,
    "start_time": "2022-02-27T13:37:23.834Z"
   },
   {
    "duration": 46,
    "start_time": "2022-02-27T13:37:23.867Z"
   }
  ],
  "kernelspec": {
   "display_name": "Python 3 (ipykernel)",
   "language": "python",
   "name": "python3"
  },
  "language_info": {
   "codemirror_mode": {
    "name": "ipython",
    "version": 3
   },
   "file_extension": ".py",
   "mimetype": "text/x-python",
   "name": "python",
   "nbconvert_exporter": "python",
   "pygments_lexer": "ipython3",
   "version": "3.9.7"
  },
  "toc": {
   "base_numbering": 1,
   "nav_menu": {},
   "number_sections": true,
   "sideBar": true,
   "skip_h1_title": true,
   "title_cell": "Содержание",
   "title_sidebar": "Contents",
   "toc_cell": true,
   "toc_position": {},
   "toc_section_display": true,
   "toc_window_display": true
  },
  "varInspector": {
   "cols": {
    "lenName": 16,
    "lenType": 16,
    "lenVar": 40
   },
   "kernels_config": {
    "python": {
     "delete_cmd_postfix": "",
     "delete_cmd_prefix": "del ",
     "library": "var_list.py",
     "varRefreshCmd": "print(var_dic_list())"
    },
    "r": {
     "delete_cmd_postfix": ") ",
     "delete_cmd_prefix": "rm(",
     "library": "var_list.r",
     "varRefreshCmd": "cat(var_dic_list()) "
    }
   },
   "types_to_exclude": [
    "module",
    "function",
    "builtin_function_or_method",
    "instance",
    "_Feature"
   ],
   "window_display": false
  }
 },
 "nbformat": 4,
 "nbformat_minor": 2
}
