{
 "cells": [
  {
   "cell_type": "markdown",
   "metadata": {},
   "source": [
    "# Восстановление золота из руды"
   ]
  },
  {
   "cell_type": "markdown",
   "metadata": {},
   "source": [
    "Подготовим прототип модели машинного обучения для «Цифры». Компания разрабатывает решения для эффективной работы промышленных предприятий.\n",
    "\n",
    "Модель должна предсказать коэффициент восстановления золота из золотосодержащей руды. Используем данные с параметрами добычи и очистки. \n",
    "\n",
    "Модель поможет оптимизировать производство, чтобы не запускать предприятие с убыточными характеристиками.\n",
    "\n",
    "Необходимо:\n",
    "\n",
    "1. Подготовить данные;\n",
    "2. Провести исследовательский анализ данных;\n",
    "3. Построить и обучить модель."
   ]
  },
  {
   "cell_type": "markdown",
   "metadata": {
    "toc": true
   },
   "source": [
    "<h1>Содержание<span class=\"tocSkip\"></span></h1>\n",
    "<div class=\"toc\"><ul class=\"toc-item\"><li><span><a href=\"#Подготовка-данных\" data-toc-modified-id=\"Подготовка-данных-1\"><span class=\"toc-item-num\">1&nbsp;&nbsp;</span>Подготовка данных</a></span><ul class=\"toc-item\"><li><span><a href=\"#Вывод\" data-toc-modified-id=\"Вывод-1.1\"><span class=\"toc-item-num\">1.1&nbsp;&nbsp;</span>Вывод</a></span></li></ul></li><li><span><a href=\"#Анализ-данных\" data-toc-modified-id=\"Анализ-данных-2\"><span class=\"toc-item-num\">2&nbsp;&nbsp;</span>Анализ данных</a></span><ul class=\"toc-item\"><li><span><a href=\"#Исследование-концентрации-металлов-на-различных-стадиях-очистки\" data-toc-modified-id=\"Исследование-концентрации-металлов-на-различных-стадиях-очистки-2.1\"><span class=\"toc-item-num\">2.1&nbsp;&nbsp;</span>Исследование концентрации металлов на различных стадиях очистки</a></span></li><li><span><a href=\"#Исследование-распределения-размеров-гранул-сырья-на-обучающих-и-тестовых-данных\" data-toc-modified-id=\"Исследование-распределения-размеров-гранул-сырья-на-обучающих-и-тестовых-данных-2.2\"><span class=\"toc-item-num\">2.2&nbsp;&nbsp;</span>Исследование распределения размеров гранул сырья на обучающих и тестовых данных</a></span></li><li><span><a href=\"#Вывод\" data-toc-modified-id=\"Вывод-2.3\"><span class=\"toc-item-num\">2.3&nbsp;&nbsp;</span>Вывод</a></span></li></ul></li><li><span><a href=\"#Модель\" data-toc-modified-id=\"Модель-3\"><span class=\"toc-item-num\">3&nbsp;&nbsp;</span>Модель</a></span><ul class=\"toc-item\"><li><span><a href=\"#Анализ-на-тренировочных-данных\" data-toc-modified-id=\"Анализ-на-тренировочных-данных-3.1\"><span class=\"toc-item-num\">3.1&nbsp;&nbsp;</span>Анализ на тренировочных данных</a></span></li><li><span><a href=\"#Анализ-на-тестовых-данных\" data-toc-modified-id=\"Анализ-на-тестовых-данных-3.2\"><span class=\"toc-item-num\">3.2&nbsp;&nbsp;</span>Анализ на тестовых данных</a></span></li><li><span><a href=\"#Анализ-константной-модели\" data-toc-modified-id=\"Анализ-константной-модели-3.3\"><span class=\"toc-item-num\">3.3&nbsp;&nbsp;</span>Анализ константной модели</a></span></li><li><span><a href=\"#Вывод\" data-toc-modified-id=\"Вывод-3.4\"><span class=\"toc-item-num\">3.4&nbsp;&nbsp;</span>Вывод</a></span></li></ul></li><li><span><a href=\"#Общий-вывод\" data-toc-modified-id=\"Общий-вывод-4\"><span class=\"toc-item-num\">4&nbsp;&nbsp;</span>Общий вывод</a></span></li></ul></div>"
   ]
  },
  {
   "cell_type": "markdown",
   "metadata": {},
   "source": [
    "## Подготовка данных"
   ]
  },
  {
   "cell_type": "code",
   "execution_count": 1,
   "metadata": {},
   "outputs": [],
   "source": [
    "import pandas as pd\n",
    "import numpy as np\n",
    "import matplotlib.pyplot as plt\n",
    "import seaborn as sns\n",
    "import warnings\n",
    "from sklearn.metrics import mean_absolute_error\n",
    "from sklearn.model_selection import cross_val_score\n",
    "from sklearn.linear_model import LinearRegression\n",
    "from sklearn.model_selection import train_test_split\n",
    "from sklearn.ensemble import RandomForestRegressor\n",
    "from sklearn.model_selection import GridSearchCV\n",
    "from sklearn.metrics import make_scorer\n",
    "from sklearn.dummy import DummyRegressor\n",
    "RS = 12345\n",
    "\n",
    "warnings.filterwarnings('ignore')\n",
    "sns.set_style()\n",
    "sns.set(color_codes=True)\n",
    "plt.rcParams['figure.figsize'] = 10.0, 6.0"
   ]
  },
  {
   "cell_type": "code",
   "execution_count": 2,
   "metadata": {},
   "outputs": [],
   "source": [
    "train = pd.read_csv('/datasets/gold_recovery_train_new.csv')\n",
    "train.name = 'train'\n",
    "test = pd.read_csv('/datasets/gold_recovery_test_new.csv')\n",
    "test.name='test'\n",
    "full = pd.read_csv('/datasets/gold_recovery_full_new.csv')\n",
    "full.name = 'full'"
   ]
  },
  {
   "cell_type": "markdown",
   "metadata": {},
   "source": [
    "Для удобства в дальнейшей работе создадим список, включающий в себя исходные данные:"
   ]
  },
  {
   "cell_type": "code",
   "execution_count": 3,
   "metadata": {},
   "outputs": [],
   "source": [
    "dfs = [train, test, full]"
   ]
  },
  {
   "cell_type": "markdown",
   "metadata": {},
   "source": [
    "Создадим функцию `data_info`, выводящую на экран информацию о таблице:"
   ]
  },
  {
   "cell_type": "code",
   "execution_count": 4,
   "metadata": {},
   "outputs": [],
   "source": [
    "def data_info(data):\n",
    "    print(f'Выведем первые 5 строк таблицы:')\n",
    "    display(data.head())\n",
    "    print(f'Выведем последние 5 строк таблицы:')\n",
    "    display(data.tail())\n",
    "    print(f'Выведем случайные 5 строк таблицы:')\n",
    "    display(data.sample(5, random_state=RS))\n",
    "    print(f'Выведем основную информацию о таблице:')\n",
    "    data.info()\n",
    "    print()\n",
    "    print(f'Выведем описательные статистики таблицы:')\n",
    "    display(data.describe().T)\n",
    "    print(f'Проверим таблицу на пропуски: ')\n",
    "    display(data.isna().sum())\n",
    "    print(f'Проверим таблицу на дубликаты: ')\n",
    "    display(data.duplicated().sum())"
   ]
  },
  {
   "cell_type": "markdown",
   "metadata": {},
   "source": [
    "Рассмотрим основную информацию о таблицах:"
   ]
  },
  {
   "cell_type": "code",
   "execution_count": 5,
   "metadata": {},
   "outputs": [
    {
     "name": "stdout",
     "output_type": "stream",
     "text": [
      "Информация о таблице train:\n",
      "Выведем первые 5 строк таблицы:\n"
     ]
    },
    {
     "data": {
      "text/html": [
       "<div>\n",
       "<style scoped>\n",
       "    .dataframe tbody tr th:only-of-type {\n",
       "        vertical-align: middle;\n",
       "    }\n",
       "\n",
       "    .dataframe tbody tr th {\n",
       "        vertical-align: top;\n",
       "    }\n",
       "\n",
       "    .dataframe thead th {\n",
       "        text-align: right;\n",
       "    }\n",
       "</style>\n",
       "<table border=\"1\" class=\"dataframe\">\n",
       "  <thead>\n",
       "    <tr style=\"text-align: right;\">\n",
       "      <th></th>\n",
       "      <th>date</th>\n",
       "      <th>final.output.concentrate_ag</th>\n",
       "      <th>final.output.concentrate_pb</th>\n",
       "      <th>final.output.concentrate_sol</th>\n",
       "      <th>final.output.concentrate_au</th>\n",
       "      <th>final.output.recovery</th>\n",
       "      <th>final.output.tail_ag</th>\n",
       "      <th>final.output.tail_pb</th>\n",
       "      <th>final.output.tail_sol</th>\n",
       "      <th>final.output.tail_au</th>\n",
       "      <th>...</th>\n",
       "      <th>secondary_cleaner.state.floatbank4_a_air</th>\n",
       "      <th>secondary_cleaner.state.floatbank4_a_level</th>\n",
       "      <th>secondary_cleaner.state.floatbank4_b_air</th>\n",
       "      <th>secondary_cleaner.state.floatbank4_b_level</th>\n",
       "      <th>secondary_cleaner.state.floatbank5_a_air</th>\n",
       "      <th>secondary_cleaner.state.floatbank5_a_level</th>\n",
       "      <th>secondary_cleaner.state.floatbank5_b_air</th>\n",
       "      <th>secondary_cleaner.state.floatbank5_b_level</th>\n",
       "      <th>secondary_cleaner.state.floatbank6_a_air</th>\n",
       "      <th>secondary_cleaner.state.floatbank6_a_level</th>\n",
       "    </tr>\n",
       "  </thead>\n",
       "  <tbody>\n",
       "    <tr>\n",
       "      <td>0</td>\n",
       "      <td>2016-01-15 00:00:00</td>\n",
       "      <td>6.055403</td>\n",
       "      <td>9.889648</td>\n",
       "      <td>5.507324</td>\n",
       "      <td>42.192020</td>\n",
       "      <td>70.541216</td>\n",
       "      <td>10.411962</td>\n",
       "      <td>0.895447</td>\n",
       "      <td>16.904297</td>\n",
       "      <td>2.143149</td>\n",
       "      <td>...</td>\n",
       "      <td>14.016835</td>\n",
       "      <td>-502.488007</td>\n",
       "      <td>12.099931</td>\n",
       "      <td>-504.715942</td>\n",
       "      <td>9.925633</td>\n",
       "      <td>-498.310211</td>\n",
       "      <td>8.079666</td>\n",
       "      <td>-500.470978</td>\n",
       "      <td>14.151341</td>\n",
       "      <td>-605.841980</td>\n",
       "    </tr>\n",
       "    <tr>\n",
       "      <td>1</td>\n",
       "      <td>2016-01-15 01:00:00</td>\n",
       "      <td>6.029369</td>\n",
       "      <td>9.968944</td>\n",
       "      <td>5.257781</td>\n",
       "      <td>42.701629</td>\n",
       "      <td>69.266198</td>\n",
       "      <td>10.462676</td>\n",
       "      <td>0.927452</td>\n",
       "      <td>16.634514</td>\n",
       "      <td>2.224930</td>\n",
       "      <td>...</td>\n",
       "      <td>13.992281</td>\n",
       "      <td>-505.503262</td>\n",
       "      <td>11.950531</td>\n",
       "      <td>-501.331529</td>\n",
       "      <td>10.039245</td>\n",
       "      <td>-500.169983</td>\n",
       "      <td>7.984757</td>\n",
       "      <td>-500.582168</td>\n",
       "      <td>13.998353</td>\n",
       "      <td>-599.787184</td>\n",
       "    </tr>\n",
       "    <tr>\n",
       "      <td>2</td>\n",
       "      <td>2016-01-15 02:00:00</td>\n",
       "      <td>6.055926</td>\n",
       "      <td>10.213995</td>\n",
       "      <td>5.383759</td>\n",
       "      <td>42.657501</td>\n",
       "      <td>68.116445</td>\n",
       "      <td>10.507046</td>\n",
       "      <td>0.953716</td>\n",
       "      <td>16.208849</td>\n",
       "      <td>2.257889</td>\n",
       "      <td>...</td>\n",
       "      <td>14.015015</td>\n",
       "      <td>-502.520901</td>\n",
       "      <td>11.912783</td>\n",
       "      <td>-501.133383</td>\n",
       "      <td>10.070913</td>\n",
       "      <td>-500.129135</td>\n",
       "      <td>8.013877</td>\n",
       "      <td>-500.517572</td>\n",
       "      <td>14.028663</td>\n",
       "      <td>-601.427363</td>\n",
       "    </tr>\n",
       "    <tr>\n",
       "      <td>3</td>\n",
       "      <td>2016-01-15 03:00:00</td>\n",
       "      <td>6.047977</td>\n",
       "      <td>9.977019</td>\n",
       "      <td>4.858634</td>\n",
       "      <td>42.689819</td>\n",
       "      <td>68.347543</td>\n",
       "      <td>10.422762</td>\n",
       "      <td>0.883763</td>\n",
       "      <td>16.532835</td>\n",
       "      <td>2.146849</td>\n",
       "      <td>...</td>\n",
       "      <td>14.036510</td>\n",
       "      <td>-500.857308</td>\n",
       "      <td>11.999550</td>\n",
       "      <td>-501.193686</td>\n",
       "      <td>9.970366</td>\n",
       "      <td>-499.201640</td>\n",
       "      <td>7.977324</td>\n",
       "      <td>-500.255908</td>\n",
       "      <td>14.005551</td>\n",
       "      <td>-599.996129</td>\n",
       "    </tr>\n",
       "    <tr>\n",
       "      <td>4</td>\n",
       "      <td>2016-01-15 04:00:00</td>\n",
       "      <td>6.148599</td>\n",
       "      <td>10.142511</td>\n",
       "      <td>4.939416</td>\n",
       "      <td>42.774141</td>\n",
       "      <td>66.927016</td>\n",
       "      <td>10.360302</td>\n",
       "      <td>0.792826</td>\n",
       "      <td>16.525686</td>\n",
       "      <td>2.055292</td>\n",
       "      <td>...</td>\n",
       "      <td>14.027298</td>\n",
       "      <td>-499.838632</td>\n",
       "      <td>11.953070</td>\n",
       "      <td>-501.053894</td>\n",
       "      <td>9.925709</td>\n",
       "      <td>-501.686727</td>\n",
       "      <td>7.894242</td>\n",
       "      <td>-500.356035</td>\n",
       "      <td>13.996647</td>\n",
       "      <td>-601.496691</td>\n",
       "    </tr>\n",
       "  </tbody>\n",
       "</table>\n",
       "<p>5 rows × 87 columns</p>\n",
       "</div>"
      ],
      "text/plain": [
       "                  date  final.output.concentrate_ag  \\\n",
       "0  2016-01-15 00:00:00                     6.055403   \n",
       "1  2016-01-15 01:00:00                     6.029369   \n",
       "2  2016-01-15 02:00:00                     6.055926   \n",
       "3  2016-01-15 03:00:00                     6.047977   \n",
       "4  2016-01-15 04:00:00                     6.148599   \n",
       "\n",
       "   final.output.concentrate_pb  final.output.concentrate_sol  \\\n",
       "0                     9.889648                      5.507324   \n",
       "1                     9.968944                      5.257781   \n",
       "2                    10.213995                      5.383759   \n",
       "3                     9.977019                      4.858634   \n",
       "4                    10.142511                      4.939416   \n",
       "\n",
       "   final.output.concentrate_au  final.output.recovery  final.output.tail_ag  \\\n",
       "0                    42.192020              70.541216             10.411962   \n",
       "1                    42.701629              69.266198             10.462676   \n",
       "2                    42.657501              68.116445             10.507046   \n",
       "3                    42.689819              68.347543             10.422762   \n",
       "4                    42.774141              66.927016             10.360302   \n",
       "\n",
       "   final.output.tail_pb  final.output.tail_sol  final.output.tail_au  ...  \\\n",
       "0              0.895447              16.904297              2.143149  ...   \n",
       "1              0.927452              16.634514              2.224930  ...   \n",
       "2              0.953716              16.208849              2.257889  ...   \n",
       "3              0.883763              16.532835              2.146849  ...   \n",
       "4              0.792826              16.525686              2.055292  ...   \n",
       "\n",
       "   secondary_cleaner.state.floatbank4_a_air  \\\n",
       "0                                 14.016835   \n",
       "1                                 13.992281   \n",
       "2                                 14.015015   \n",
       "3                                 14.036510   \n",
       "4                                 14.027298   \n",
       "\n",
       "   secondary_cleaner.state.floatbank4_a_level  \\\n",
       "0                                 -502.488007   \n",
       "1                                 -505.503262   \n",
       "2                                 -502.520901   \n",
       "3                                 -500.857308   \n",
       "4                                 -499.838632   \n",
       "\n",
       "   secondary_cleaner.state.floatbank4_b_air  \\\n",
       "0                                 12.099931   \n",
       "1                                 11.950531   \n",
       "2                                 11.912783   \n",
       "3                                 11.999550   \n",
       "4                                 11.953070   \n",
       "\n",
       "   secondary_cleaner.state.floatbank4_b_level  \\\n",
       "0                                 -504.715942   \n",
       "1                                 -501.331529   \n",
       "2                                 -501.133383   \n",
       "3                                 -501.193686   \n",
       "4                                 -501.053894   \n",
       "\n",
       "   secondary_cleaner.state.floatbank5_a_air  \\\n",
       "0                                  9.925633   \n",
       "1                                 10.039245   \n",
       "2                                 10.070913   \n",
       "3                                  9.970366   \n",
       "4                                  9.925709   \n",
       "\n",
       "   secondary_cleaner.state.floatbank5_a_level  \\\n",
       "0                                 -498.310211   \n",
       "1                                 -500.169983   \n",
       "2                                 -500.129135   \n",
       "3                                 -499.201640   \n",
       "4                                 -501.686727   \n",
       "\n",
       "   secondary_cleaner.state.floatbank5_b_air  \\\n",
       "0                                  8.079666   \n",
       "1                                  7.984757   \n",
       "2                                  8.013877   \n",
       "3                                  7.977324   \n",
       "4                                  7.894242   \n",
       "\n",
       "   secondary_cleaner.state.floatbank5_b_level  \\\n",
       "0                                 -500.470978   \n",
       "1                                 -500.582168   \n",
       "2                                 -500.517572   \n",
       "3                                 -500.255908   \n",
       "4                                 -500.356035   \n",
       "\n",
       "   secondary_cleaner.state.floatbank6_a_air  \\\n",
       "0                                 14.151341   \n",
       "1                                 13.998353   \n",
       "2                                 14.028663   \n",
       "3                                 14.005551   \n",
       "4                                 13.996647   \n",
       "\n",
       "   secondary_cleaner.state.floatbank6_a_level  \n",
       "0                                 -605.841980  \n",
       "1                                 -599.787184  \n",
       "2                                 -601.427363  \n",
       "3                                 -599.996129  \n",
       "4                                 -601.496691  \n",
       "\n",
       "[5 rows x 87 columns]"
      ]
     },
     "metadata": {},
     "output_type": "display_data"
    },
    {
     "name": "stdout",
     "output_type": "stream",
     "text": [
      "Выведем последние 5 строк таблицы:\n"
     ]
    },
    {
     "data": {
      "text/html": [
       "<div>\n",
       "<style scoped>\n",
       "    .dataframe tbody tr th:only-of-type {\n",
       "        vertical-align: middle;\n",
       "    }\n",
       "\n",
       "    .dataframe tbody tr th {\n",
       "        vertical-align: top;\n",
       "    }\n",
       "\n",
       "    .dataframe thead th {\n",
       "        text-align: right;\n",
       "    }\n",
       "</style>\n",
       "<table border=\"1\" class=\"dataframe\">\n",
       "  <thead>\n",
       "    <tr style=\"text-align: right;\">\n",
       "      <th></th>\n",
       "      <th>date</th>\n",
       "      <th>final.output.concentrate_ag</th>\n",
       "      <th>final.output.concentrate_pb</th>\n",
       "      <th>final.output.concentrate_sol</th>\n",
       "      <th>final.output.concentrate_au</th>\n",
       "      <th>final.output.recovery</th>\n",
       "      <th>final.output.tail_ag</th>\n",
       "      <th>final.output.tail_pb</th>\n",
       "      <th>final.output.tail_sol</th>\n",
       "      <th>final.output.tail_au</th>\n",
       "      <th>...</th>\n",
       "      <th>secondary_cleaner.state.floatbank4_a_air</th>\n",
       "      <th>secondary_cleaner.state.floatbank4_a_level</th>\n",
       "      <th>secondary_cleaner.state.floatbank4_b_air</th>\n",
       "      <th>secondary_cleaner.state.floatbank4_b_level</th>\n",
       "      <th>secondary_cleaner.state.floatbank5_a_air</th>\n",
       "      <th>secondary_cleaner.state.floatbank5_a_level</th>\n",
       "      <th>secondary_cleaner.state.floatbank5_b_air</th>\n",
       "      <th>secondary_cleaner.state.floatbank5_b_level</th>\n",
       "      <th>secondary_cleaner.state.floatbank6_a_air</th>\n",
       "      <th>secondary_cleaner.state.floatbank6_a_level</th>\n",
       "    </tr>\n",
       "  </thead>\n",
       "  <tbody>\n",
       "    <tr>\n",
       "      <td>14144</td>\n",
       "      <td>2018-08-18 06:59:59</td>\n",
       "      <td>3.224920</td>\n",
       "      <td>11.356233</td>\n",
       "      <td>6.803482</td>\n",
       "      <td>46.713954</td>\n",
       "      <td>73.755150</td>\n",
       "      <td>8.769645</td>\n",
       "      <td>3.141541</td>\n",
       "      <td>10.403181</td>\n",
       "      <td>1.529220</td>\n",
       "      <td>...</td>\n",
       "      <td>23.031497</td>\n",
       "      <td>-501.167942</td>\n",
       "      <td>20.007571</td>\n",
       "      <td>-499.740028</td>\n",
       "      <td>18.006038</td>\n",
       "      <td>-499.834374</td>\n",
       "      <td>13.001114</td>\n",
       "      <td>-500.155694</td>\n",
       "      <td>20.007840</td>\n",
       "      <td>-501.296428</td>\n",
       "    </tr>\n",
       "    <tr>\n",
       "      <td>14145</td>\n",
       "      <td>2018-08-18 07:59:59</td>\n",
       "      <td>3.195978</td>\n",
       "      <td>11.349355</td>\n",
       "      <td>6.862249</td>\n",
       "      <td>46.866780</td>\n",
       "      <td>69.049291</td>\n",
       "      <td>8.897321</td>\n",
       "      <td>3.130493</td>\n",
       "      <td>10.549470</td>\n",
       "      <td>1.612542</td>\n",
       "      <td>...</td>\n",
       "      <td>22.960095</td>\n",
       "      <td>-501.612783</td>\n",
       "      <td>20.035660</td>\n",
       "      <td>-500.251357</td>\n",
       "      <td>17.998535</td>\n",
       "      <td>-500.395178</td>\n",
       "      <td>12.954048</td>\n",
       "      <td>-499.895163</td>\n",
       "      <td>19.968498</td>\n",
       "      <td>-501.041608</td>\n",
       "    </tr>\n",
       "    <tr>\n",
       "      <td>14146</td>\n",
       "      <td>2018-08-18 08:59:59</td>\n",
       "      <td>3.109998</td>\n",
       "      <td>11.434366</td>\n",
       "      <td>6.886013</td>\n",
       "      <td>46.795691</td>\n",
       "      <td>67.002189</td>\n",
       "      <td>8.529606</td>\n",
       "      <td>2.911418</td>\n",
       "      <td>11.115147</td>\n",
       "      <td>1.596616</td>\n",
       "      <td>...</td>\n",
       "      <td>23.015718</td>\n",
       "      <td>-501.711599</td>\n",
       "      <td>19.951231</td>\n",
       "      <td>-499.857027</td>\n",
       "      <td>18.019543</td>\n",
       "      <td>-500.451156</td>\n",
       "      <td>13.023431</td>\n",
       "      <td>-499.914391</td>\n",
       "      <td>19.990885</td>\n",
       "      <td>-501.518452</td>\n",
       "    </tr>\n",
       "    <tr>\n",
       "      <td>14147</td>\n",
       "      <td>2018-08-18 09:59:59</td>\n",
       "      <td>3.367241</td>\n",
       "      <td>11.625587</td>\n",
       "      <td>6.799433</td>\n",
       "      <td>46.408188</td>\n",
       "      <td>65.523246</td>\n",
       "      <td>8.777171</td>\n",
       "      <td>2.819214</td>\n",
       "      <td>10.463847</td>\n",
       "      <td>1.602879</td>\n",
       "      <td>...</td>\n",
       "      <td>23.024963</td>\n",
       "      <td>-501.153409</td>\n",
       "      <td>20.054122</td>\n",
       "      <td>-500.314711</td>\n",
       "      <td>17.979515</td>\n",
       "      <td>-499.272871</td>\n",
       "      <td>12.992404</td>\n",
       "      <td>-499.976268</td>\n",
       "      <td>20.013986</td>\n",
       "      <td>-500.625471</td>\n",
       "    </tr>\n",
       "    <tr>\n",
       "      <td>14148</td>\n",
       "      <td>2018-08-18 10:59:59</td>\n",
       "      <td>3.598375</td>\n",
       "      <td>11.737832</td>\n",
       "      <td>6.717509</td>\n",
       "      <td>46.299438</td>\n",
       "      <td>70.281454</td>\n",
       "      <td>8.406690</td>\n",
       "      <td>2.517518</td>\n",
       "      <td>10.652193</td>\n",
       "      <td>1.389434</td>\n",
       "      <td>...</td>\n",
       "      <td>23.018622</td>\n",
       "      <td>-500.492702</td>\n",
       "      <td>20.020205</td>\n",
       "      <td>-500.220296</td>\n",
       "      <td>17.963512</td>\n",
       "      <td>-499.939490</td>\n",
       "      <td>12.990306</td>\n",
       "      <td>-500.080993</td>\n",
       "      <td>19.990336</td>\n",
       "      <td>-499.191575</td>\n",
       "    </tr>\n",
       "  </tbody>\n",
       "</table>\n",
       "<p>5 rows × 87 columns</p>\n",
       "</div>"
      ],
      "text/plain": [
       "                      date  final.output.concentrate_ag  \\\n",
       "14144  2018-08-18 06:59:59                     3.224920   \n",
       "14145  2018-08-18 07:59:59                     3.195978   \n",
       "14146  2018-08-18 08:59:59                     3.109998   \n",
       "14147  2018-08-18 09:59:59                     3.367241   \n",
       "14148  2018-08-18 10:59:59                     3.598375   \n",
       "\n",
       "       final.output.concentrate_pb  final.output.concentrate_sol  \\\n",
       "14144                    11.356233                      6.803482   \n",
       "14145                    11.349355                      6.862249   \n",
       "14146                    11.434366                      6.886013   \n",
       "14147                    11.625587                      6.799433   \n",
       "14148                    11.737832                      6.717509   \n",
       "\n",
       "       final.output.concentrate_au  final.output.recovery  \\\n",
       "14144                    46.713954              73.755150   \n",
       "14145                    46.866780              69.049291   \n",
       "14146                    46.795691              67.002189   \n",
       "14147                    46.408188              65.523246   \n",
       "14148                    46.299438              70.281454   \n",
       "\n",
       "       final.output.tail_ag  final.output.tail_pb  final.output.tail_sol  \\\n",
       "14144              8.769645              3.141541              10.403181   \n",
       "14145              8.897321              3.130493              10.549470   \n",
       "14146              8.529606              2.911418              11.115147   \n",
       "14147              8.777171              2.819214              10.463847   \n",
       "14148              8.406690              2.517518              10.652193   \n",
       "\n",
       "       final.output.tail_au  ...  secondary_cleaner.state.floatbank4_a_air  \\\n",
       "14144              1.529220  ...                                 23.031497   \n",
       "14145              1.612542  ...                                 22.960095   \n",
       "14146              1.596616  ...                                 23.015718   \n",
       "14147              1.602879  ...                                 23.024963   \n",
       "14148              1.389434  ...                                 23.018622   \n",
       "\n",
       "       secondary_cleaner.state.floatbank4_a_level  \\\n",
       "14144                                 -501.167942   \n",
       "14145                                 -501.612783   \n",
       "14146                                 -501.711599   \n",
       "14147                                 -501.153409   \n",
       "14148                                 -500.492702   \n",
       "\n",
       "       secondary_cleaner.state.floatbank4_b_air  \\\n",
       "14144                                 20.007571   \n",
       "14145                                 20.035660   \n",
       "14146                                 19.951231   \n",
       "14147                                 20.054122   \n",
       "14148                                 20.020205   \n",
       "\n",
       "       secondary_cleaner.state.floatbank4_b_level  \\\n",
       "14144                                 -499.740028   \n",
       "14145                                 -500.251357   \n",
       "14146                                 -499.857027   \n",
       "14147                                 -500.314711   \n",
       "14148                                 -500.220296   \n",
       "\n",
       "       secondary_cleaner.state.floatbank5_a_air  \\\n",
       "14144                                 18.006038   \n",
       "14145                                 17.998535   \n",
       "14146                                 18.019543   \n",
       "14147                                 17.979515   \n",
       "14148                                 17.963512   \n",
       "\n",
       "       secondary_cleaner.state.floatbank5_a_level  \\\n",
       "14144                                 -499.834374   \n",
       "14145                                 -500.395178   \n",
       "14146                                 -500.451156   \n",
       "14147                                 -499.272871   \n",
       "14148                                 -499.939490   \n",
       "\n",
       "       secondary_cleaner.state.floatbank5_b_air  \\\n",
       "14144                                 13.001114   \n",
       "14145                                 12.954048   \n",
       "14146                                 13.023431   \n",
       "14147                                 12.992404   \n",
       "14148                                 12.990306   \n",
       "\n",
       "       secondary_cleaner.state.floatbank5_b_level  \\\n",
       "14144                                 -500.155694   \n",
       "14145                                 -499.895163   \n",
       "14146                                 -499.914391   \n",
       "14147                                 -499.976268   \n",
       "14148                                 -500.080993   \n",
       "\n",
       "       secondary_cleaner.state.floatbank6_a_air  \\\n",
       "14144                                 20.007840   \n",
       "14145                                 19.968498   \n",
       "14146                                 19.990885   \n",
       "14147                                 20.013986   \n",
       "14148                                 19.990336   \n",
       "\n",
       "       secondary_cleaner.state.floatbank6_a_level  \n",
       "14144                                 -501.296428  \n",
       "14145                                 -501.041608  \n",
       "14146                                 -501.518452  \n",
       "14147                                 -500.625471  \n",
       "14148                                 -499.191575  \n",
       "\n",
       "[5 rows x 87 columns]"
      ]
     },
     "metadata": {},
     "output_type": "display_data"
    },
    {
     "name": "stdout",
     "output_type": "stream",
     "text": [
      "Выведем случайные 5 строк таблицы:\n"
     ]
    },
    {
     "data": {
      "text/html": [
       "<div>\n",
       "<style scoped>\n",
       "    .dataframe tbody tr th:only-of-type {\n",
       "        vertical-align: middle;\n",
       "    }\n",
       "\n",
       "    .dataframe tbody tr th {\n",
       "        vertical-align: top;\n",
       "    }\n",
       "\n",
       "    .dataframe thead th {\n",
       "        text-align: right;\n",
       "    }\n",
       "</style>\n",
       "<table border=\"1\" class=\"dataframe\">\n",
       "  <thead>\n",
       "    <tr style=\"text-align: right;\">\n",
       "      <th></th>\n",
       "      <th>date</th>\n",
       "      <th>final.output.concentrate_ag</th>\n",
       "      <th>final.output.concentrate_pb</th>\n",
       "      <th>final.output.concentrate_sol</th>\n",
       "      <th>final.output.concentrate_au</th>\n",
       "      <th>final.output.recovery</th>\n",
       "      <th>final.output.tail_ag</th>\n",
       "      <th>final.output.tail_pb</th>\n",
       "      <th>final.output.tail_sol</th>\n",
       "      <th>final.output.tail_au</th>\n",
       "      <th>...</th>\n",
       "      <th>secondary_cleaner.state.floatbank4_a_air</th>\n",
       "      <th>secondary_cleaner.state.floatbank4_a_level</th>\n",
       "      <th>secondary_cleaner.state.floatbank4_b_air</th>\n",
       "      <th>secondary_cleaner.state.floatbank4_b_level</th>\n",
       "      <th>secondary_cleaner.state.floatbank5_a_air</th>\n",
       "      <th>secondary_cleaner.state.floatbank5_a_level</th>\n",
       "      <th>secondary_cleaner.state.floatbank5_b_air</th>\n",
       "      <th>secondary_cleaner.state.floatbank5_b_level</th>\n",
       "      <th>secondary_cleaner.state.floatbank6_a_air</th>\n",
       "      <th>secondary_cleaner.state.floatbank6_a_level</th>\n",
       "    </tr>\n",
       "  </thead>\n",
       "  <tbody>\n",
       "    <tr>\n",
       "      <td>4899</td>\n",
       "      <td>2017-01-10 03:59:59</td>\n",
       "      <td>3.712425</td>\n",
       "      <td>8.033828</td>\n",
       "      <td>13.631412</td>\n",
       "      <td>48.473231</td>\n",
       "      <td>70.709139</td>\n",
       "      <td>8.845224</td>\n",
       "      <td>2.632767</td>\n",
       "      <td>10.380058</td>\n",
       "      <td>2.675636</td>\n",
       "      <td>...</td>\n",
       "      <td>13.991523</td>\n",
       "      <td>-500.874847</td>\n",
       "      <td>12.074159</td>\n",
       "      <td>-500.703556</td>\n",
       "      <td>14.187136</td>\n",
       "      <td>-500.286314</td>\n",
       "      <td>8.032679</td>\n",
       "      <td>-500.363601</td>\n",
       "      <td>20.024847</td>\n",
       "      <td>-601.179514</td>\n",
       "    </tr>\n",
       "    <tr>\n",
       "      <td>4590</td>\n",
       "      <td>2016-08-27 22:59:59</td>\n",
       "      <td>5.978141</td>\n",
       "      <td>9.574893</td>\n",
       "      <td>8.422982</td>\n",
       "      <td>44.573758</td>\n",
       "      <td>68.039692</td>\n",
       "      <td>8.567373</td>\n",
       "      <td>3.003479</td>\n",
       "      <td>7.918957</td>\n",
       "      <td>3.592308</td>\n",
       "      <td>...</td>\n",
       "      <td>16.072388</td>\n",
       "      <td>-499.387917</td>\n",
       "      <td>9.907356</td>\n",
       "      <td>-499.958368</td>\n",
       "      <td>9.944949</td>\n",
       "      <td>-498.581784</td>\n",
       "      <td>5.023244</td>\n",
       "      <td>-500.009504</td>\n",
       "      <td>24.990671</td>\n",
       "      <td>-499.649837</td>\n",
       "    </tr>\n",
       "    <tr>\n",
       "      <td>4350</td>\n",
       "      <td>2016-08-17 11:59:59</td>\n",
       "      <td>6.090347</td>\n",
       "      <td>9.649611</td>\n",
       "      <td>10.872579</td>\n",
       "      <td>43.291846</td>\n",
       "      <td>77.926649</td>\n",
       "      <td>10.425093</td>\n",
       "      <td>2.459391</td>\n",
       "      <td>9.453206</td>\n",
       "      <td>2.693327</td>\n",
       "      <td>...</td>\n",
       "      <td>18.014157</td>\n",
       "      <td>-401.020413</td>\n",
       "      <td>9.951050</td>\n",
       "      <td>-400.346093</td>\n",
       "      <td>15.062787</td>\n",
       "      <td>-401.550850</td>\n",
       "      <td>5.040687</td>\n",
       "      <td>-400.621257</td>\n",
       "      <td>20.984830</td>\n",
       "      <td>-500.428460</td>\n",
       "    </tr>\n",
       "    <tr>\n",
       "      <td>2390</td>\n",
       "      <td>2016-05-17 13:59:59</td>\n",
       "      <td>4.107255</td>\n",
       "      <td>9.388371</td>\n",
       "      <td>10.151618</td>\n",
       "      <td>46.735425</td>\n",
       "      <td>59.416695</td>\n",
       "      <td>10.049323</td>\n",
       "      <td>2.002330</td>\n",
       "      <td>11.214887</td>\n",
       "      <td>3.901251</td>\n",
       "      <td>...</td>\n",
       "      <td>9.935985</td>\n",
       "      <td>-500.429014</td>\n",
       "      <td>8.023361</td>\n",
       "      <td>-500.645150</td>\n",
       "      <td>8.991750</td>\n",
       "      <td>-502.006649</td>\n",
       "      <td>6.059779</td>\n",
       "      <td>-500.207392</td>\n",
       "      <td>20.007208</td>\n",
       "      <td>-500.643078</td>\n",
       "    </tr>\n",
       "    <tr>\n",
       "      <td>8804</td>\n",
       "      <td>2017-07-20 06:59:59</td>\n",
       "      <td>3.700473</td>\n",
       "      <td>11.842490</td>\n",
       "      <td>7.167722</td>\n",
       "      <td>45.703119</td>\n",
       "      <td>61.289448</td>\n",
       "      <td>8.039743</td>\n",
       "      <td>3.218959</td>\n",
       "      <td>11.261780</td>\n",
       "      <td>2.938968</td>\n",
       "      <td>...</td>\n",
       "      <td>21.990983</td>\n",
       "      <td>-500.127872</td>\n",
       "      <td>15.065825</td>\n",
       "      <td>-379.011281</td>\n",
       "      <td>18.033518</td>\n",
       "      <td>-500.147671</td>\n",
       "      <td>12.989467</td>\n",
       "      <td>-499.970974</td>\n",
       "      <td>15.004780</td>\n",
       "      <td>-500.176501</td>\n",
       "    </tr>\n",
       "  </tbody>\n",
       "</table>\n",
       "<p>5 rows × 87 columns</p>\n",
       "</div>"
      ],
      "text/plain": [
       "                     date  final.output.concentrate_ag  \\\n",
       "4899  2017-01-10 03:59:59                     3.712425   \n",
       "4590  2016-08-27 22:59:59                     5.978141   \n",
       "4350  2016-08-17 11:59:59                     6.090347   \n",
       "2390  2016-05-17 13:59:59                     4.107255   \n",
       "8804  2017-07-20 06:59:59                     3.700473   \n",
       "\n",
       "      final.output.concentrate_pb  final.output.concentrate_sol  \\\n",
       "4899                     8.033828                     13.631412   \n",
       "4590                     9.574893                      8.422982   \n",
       "4350                     9.649611                     10.872579   \n",
       "2390                     9.388371                     10.151618   \n",
       "8804                    11.842490                      7.167722   \n",
       "\n",
       "      final.output.concentrate_au  final.output.recovery  \\\n",
       "4899                    48.473231              70.709139   \n",
       "4590                    44.573758              68.039692   \n",
       "4350                    43.291846              77.926649   \n",
       "2390                    46.735425              59.416695   \n",
       "8804                    45.703119              61.289448   \n",
       "\n",
       "      final.output.tail_ag  final.output.tail_pb  final.output.tail_sol  \\\n",
       "4899              8.845224              2.632767              10.380058   \n",
       "4590              8.567373              3.003479               7.918957   \n",
       "4350             10.425093              2.459391               9.453206   \n",
       "2390             10.049323              2.002330              11.214887   \n",
       "8804              8.039743              3.218959              11.261780   \n",
       "\n",
       "      final.output.tail_au  ...  secondary_cleaner.state.floatbank4_a_air  \\\n",
       "4899              2.675636  ...                                 13.991523   \n",
       "4590              3.592308  ...                                 16.072388   \n",
       "4350              2.693327  ...                                 18.014157   \n",
       "2390              3.901251  ...                                  9.935985   \n",
       "8804              2.938968  ...                                 21.990983   \n",
       "\n",
       "      secondary_cleaner.state.floatbank4_a_level  \\\n",
       "4899                                 -500.874847   \n",
       "4590                                 -499.387917   \n",
       "4350                                 -401.020413   \n",
       "2390                                 -500.429014   \n",
       "8804                                 -500.127872   \n",
       "\n",
       "      secondary_cleaner.state.floatbank4_b_air  \\\n",
       "4899                                 12.074159   \n",
       "4590                                  9.907356   \n",
       "4350                                  9.951050   \n",
       "2390                                  8.023361   \n",
       "8804                                 15.065825   \n",
       "\n",
       "      secondary_cleaner.state.floatbank4_b_level  \\\n",
       "4899                                 -500.703556   \n",
       "4590                                 -499.958368   \n",
       "4350                                 -400.346093   \n",
       "2390                                 -500.645150   \n",
       "8804                                 -379.011281   \n",
       "\n",
       "      secondary_cleaner.state.floatbank5_a_air  \\\n",
       "4899                                 14.187136   \n",
       "4590                                  9.944949   \n",
       "4350                                 15.062787   \n",
       "2390                                  8.991750   \n",
       "8804                                 18.033518   \n",
       "\n",
       "      secondary_cleaner.state.floatbank5_a_level  \\\n",
       "4899                                 -500.286314   \n",
       "4590                                 -498.581784   \n",
       "4350                                 -401.550850   \n",
       "2390                                 -502.006649   \n",
       "8804                                 -500.147671   \n",
       "\n",
       "      secondary_cleaner.state.floatbank5_b_air  \\\n",
       "4899                                  8.032679   \n",
       "4590                                  5.023244   \n",
       "4350                                  5.040687   \n",
       "2390                                  6.059779   \n",
       "8804                                 12.989467   \n",
       "\n",
       "      secondary_cleaner.state.floatbank5_b_level  \\\n",
       "4899                                 -500.363601   \n",
       "4590                                 -500.009504   \n",
       "4350                                 -400.621257   \n",
       "2390                                 -500.207392   \n",
       "8804                                 -499.970974   \n",
       "\n",
       "      secondary_cleaner.state.floatbank6_a_air  \\\n",
       "4899                                 20.024847   \n",
       "4590                                 24.990671   \n",
       "4350                                 20.984830   \n",
       "2390                                 20.007208   \n",
       "8804                                 15.004780   \n",
       "\n",
       "      secondary_cleaner.state.floatbank6_a_level  \n",
       "4899                                 -601.179514  \n",
       "4590                                 -499.649837  \n",
       "4350                                 -500.428460  \n",
       "2390                                 -500.643078  \n",
       "8804                                 -500.176501  \n",
       "\n",
       "[5 rows x 87 columns]"
      ]
     },
     "metadata": {},
     "output_type": "display_data"
    },
    {
     "name": "stdout",
     "output_type": "stream",
     "text": [
      "Выведем основную информацию о таблице:\n",
      "<class 'pandas.core.frame.DataFrame'>\n",
      "RangeIndex: 14149 entries, 0 to 14148\n",
      "Data columns (total 87 columns):\n",
      "date                                                  14149 non-null object\n",
      "final.output.concentrate_ag                           14148 non-null float64\n",
      "final.output.concentrate_pb                           14148 non-null float64\n",
      "final.output.concentrate_sol                          13938 non-null float64\n",
      "final.output.concentrate_au                           14149 non-null float64\n",
      "final.output.recovery                                 14149 non-null float64\n",
      "final.output.tail_ag                                  14149 non-null float64\n",
      "final.output.tail_pb                                  14049 non-null float64\n",
      "final.output.tail_sol                                 14144 non-null float64\n",
      "final.output.tail_au                                  14149 non-null float64\n",
      "primary_cleaner.input.sulfate                         14129 non-null float64\n",
      "primary_cleaner.input.depressant                      14117 non-null float64\n",
      "primary_cleaner.input.feed_size                       14149 non-null float64\n",
      "primary_cleaner.input.xanthate                        14049 non-null float64\n",
      "primary_cleaner.output.concentrate_ag                 14149 non-null float64\n",
      "primary_cleaner.output.concentrate_pb                 14063 non-null float64\n",
      "primary_cleaner.output.concentrate_sol                13863 non-null float64\n",
      "primary_cleaner.output.concentrate_au                 14149 non-null float64\n",
      "primary_cleaner.output.tail_ag                        14148 non-null float64\n",
      "primary_cleaner.output.tail_pb                        14134 non-null float64\n",
      "primary_cleaner.output.tail_sol                       14103 non-null float64\n",
      "primary_cleaner.output.tail_au                        14149 non-null float64\n",
      "primary_cleaner.state.floatbank8_a_air                14145 non-null float64\n",
      "primary_cleaner.state.floatbank8_a_level              14148 non-null float64\n",
      "primary_cleaner.state.floatbank8_b_air                14145 non-null float64\n",
      "primary_cleaner.state.floatbank8_b_level              14148 non-null float64\n",
      "primary_cleaner.state.floatbank8_c_air                14147 non-null float64\n",
      "primary_cleaner.state.floatbank8_c_level              14148 non-null float64\n",
      "primary_cleaner.state.floatbank8_d_air                14146 non-null float64\n",
      "primary_cleaner.state.floatbank8_d_level              14148 non-null float64\n",
      "rougher.calculation.sulfate_to_au_concentrate         14148 non-null float64\n",
      "rougher.calculation.floatbank10_sulfate_to_au_feed    14148 non-null float64\n",
      "rougher.calculation.floatbank11_sulfate_to_au_feed    14148 non-null float64\n",
      "rougher.calculation.au_pb_ratio                       14149 non-null float64\n",
      "rougher.input.feed_ag                                 14149 non-null float64\n",
      "rougher.input.feed_pb                                 14049 non-null float64\n",
      "rougher.input.feed_rate                               14141 non-null float64\n",
      "rougher.input.feed_size                               14005 non-null float64\n",
      "rougher.input.feed_sol                                14071 non-null float64\n",
      "rougher.input.feed_au                                 14149 non-null float64\n",
      "rougher.input.floatbank10_sulfate                     14120 non-null float64\n",
      "rougher.input.floatbank10_xanthate                    14141 non-null float64\n",
      "rougher.input.floatbank11_sulfate                     14113 non-null float64\n",
      "rougher.input.floatbank11_xanthate                    13721 non-null float64\n",
      "rougher.output.concentrate_ag                         14149 non-null float64\n",
      "rougher.output.concentrate_pb                         14149 non-null float64\n",
      "rougher.output.concentrate_sol                        14127 non-null float64\n",
      "rougher.output.concentrate_au                         14149 non-null float64\n",
      "rougher.output.recovery                               14149 non-null float64\n",
      "rougher.output.tail_ag                                14148 non-null float64\n",
      "rougher.output.tail_pb                                14149 non-null float64\n",
      "rougher.output.tail_sol                               14149 non-null float64\n",
      "rougher.output.tail_au                                14149 non-null float64\n",
      "rougher.state.floatbank10_a_air                       14148 non-null float64\n",
      "rougher.state.floatbank10_a_level                     14148 non-null float64\n",
      "rougher.state.floatbank10_b_air                       14148 non-null float64\n",
      "rougher.state.floatbank10_b_level                     14148 non-null float64\n",
      "rougher.state.floatbank10_c_air                       14148 non-null float64\n",
      "rougher.state.floatbank10_c_level                     14148 non-null float64\n",
      "rougher.state.floatbank10_d_air                       14149 non-null float64\n",
      "rougher.state.floatbank10_d_level                     14149 non-null float64\n",
      "rougher.state.floatbank10_e_air                       13713 non-null float64\n",
      "rougher.state.floatbank10_e_level                     14149 non-null float64\n",
      "rougher.state.floatbank10_f_air                       14149 non-null float64\n",
      "rougher.state.floatbank10_f_level                     14149 non-null float64\n",
      "secondary_cleaner.output.tail_ag                      14147 non-null float64\n",
      "secondary_cleaner.output.tail_pb                      14139 non-null float64\n",
      "secondary_cleaner.output.tail_sol                     12544 non-null float64\n",
      "secondary_cleaner.output.tail_au                      14149 non-null float64\n",
      "secondary_cleaner.state.floatbank2_a_air              13932 non-null float64\n",
      "secondary_cleaner.state.floatbank2_a_level            14148 non-null float64\n",
      "secondary_cleaner.state.floatbank2_b_air              14128 non-null float64\n",
      "secondary_cleaner.state.floatbank2_b_level            14148 non-null float64\n",
      "secondary_cleaner.state.floatbank3_a_air              14145 non-null float64\n",
      "secondary_cleaner.state.floatbank3_a_level            14148 non-null float64\n",
      "secondary_cleaner.state.floatbank3_b_air              14148 non-null float64\n",
      "secondary_cleaner.state.floatbank3_b_level            14148 non-null float64\n",
      "secondary_cleaner.state.floatbank4_a_air              14143 non-null float64\n",
      "secondary_cleaner.state.floatbank4_a_level            14148 non-null float64\n",
      "secondary_cleaner.state.floatbank4_b_air              14148 non-null float64\n",
      "secondary_cleaner.state.floatbank4_b_level            14148 non-null float64\n",
      "secondary_cleaner.state.floatbank5_a_air              14148 non-null float64\n",
      "secondary_cleaner.state.floatbank5_a_level            14148 non-null float64\n",
      "secondary_cleaner.state.floatbank5_b_air              14148 non-null float64\n",
      "secondary_cleaner.state.floatbank5_b_level            14148 non-null float64\n",
      "secondary_cleaner.state.floatbank6_a_air              14147 non-null float64\n",
      "secondary_cleaner.state.floatbank6_a_level            14148 non-null float64\n",
      "dtypes: float64(86), object(1)\n",
      "memory usage: 9.4+ MB\n",
      "\n",
      "Выведем описательные статистики таблицы:\n"
     ]
    },
    {
     "data": {
      "text/html": [
       "<div>\n",
       "<style scoped>\n",
       "    .dataframe tbody tr th:only-of-type {\n",
       "        vertical-align: middle;\n",
       "    }\n",
       "\n",
       "    .dataframe tbody tr th {\n",
       "        vertical-align: top;\n",
       "    }\n",
       "\n",
       "    .dataframe thead th {\n",
       "        text-align: right;\n",
       "    }\n",
       "</style>\n",
       "<table border=\"1\" class=\"dataframe\">\n",
       "  <thead>\n",
       "    <tr style=\"text-align: right;\">\n",
       "      <th></th>\n",
       "      <th>count</th>\n",
       "      <th>mean</th>\n",
       "      <th>std</th>\n",
       "      <th>min</th>\n",
       "      <th>25%</th>\n",
       "      <th>50%</th>\n",
       "      <th>75%</th>\n",
       "      <th>max</th>\n",
       "    </tr>\n",
       "  </thead>\n",
       "  <tbody>\n",
       "    <tr>\n",
       "      <td>final.output.concentrate_ag</td>\n",
       "      <td>14148.0</td>\n",
       "      <td>5.142034</td>\n",
       "      <td>1.369586</td>\n",
       "      <td>0.000000</td>\n",
       "      <td>4.211620</td>\n",
       "      <td>4.994652</td>\n",
       "      <td>5.859540</td>\n",
       "      <td>16.001945</td>\n",
       "    </tr>\n",
       "    <tr>\n",
       "      <td>final.output.concentrate_pb</td>\n",
       "      <td>14148.0</td>\n",
       "      <td>10.132960</td>\n",
       "      <td>1.654930</td>\n",
       "      <td>0.000000</td>\n",
       "      <td>9.297355</td>\n",
       "      <td>10.297144</td>\n",
       "      <td>11.170603</td>\n",
       "      <td>17.031899</td>\n",
       "    </tr>\n",
       "    <tr>\n",
       "      <td>final.output.concentrate_sol</td>\n",
       "      <td>13938.0</td>\n",
       "      <td>9.202849</td>\n",
       "      <td>2.790516</td>\n",
       "      <td>0.000000</td>\n",
       "      <td>7.484645</td>\n",
       "      <td>8.845462</td>\n",
       "      <td>10.487508</td>\n",
       "      <td>18.124851</td>\n",
       "    </tr>\n",
       "    <tr>\n",
       "      <td>final.output.concentrate_au</td>\n",
       "      <td>14149.0</td>\n",
       "      <td>44.003792</td>\n",
       "      <td>4.905261</td>\n",
       "      <td>0.000000</td>\n",
       "      <td>43.276111</td>\n",
       "      <td>44.872436</td>\n",
       "      <td>46.166425</td>\n",
       "      <td>52.756638</td>\n",
       "    </tr>\n",
       "    <tr>\n",
       "      <td>final.output.recovery</td>\n",
       "      <td>14149.0</td>\n",
       "      <td>66.518832</td>\n",
       "      <td>10.295402</td>\n",
       "      <td>0.000000</td>\n",
       "      <td>62.545817</td>\n",
       "      <td>67.432775</td>\n",
       "      <td>72.346428</td>\n",
       "      <td>100.000000</td>\n",
       "    </tr>\n",
       "    <tr>\n",
       "      <td>...</td>\n",
       "      <td>...</td>\n",
       "      <td>...</td>\n",
       "      <td>...</td>\n",
       "      <td>...</td>\n",
       "      <td>...</td>\n",
       "      <td>...</td>\n",
       "      <td>...</td>\n",
       "      <td>...</td>\n",
       "    </tr>\n",
       "    <tr>\n",
       "      <td>secondary_cleaner.state.floatbank5_a_level</td>\n",
       "      <td>14148.0</td>\n",
       "      <td>-483.956022</td>\n",
       "      <td>37.892788</td>\n",
       "      <td>-797.142475</td>\n",
       "      <td>-500.363177</td>\n",
       "      <td>-499.702452</td>\n",
       "      <td>-487.712108</td>\n",
       "      <td>-275.073125</td>\n",
       "    </tr>\n",
       "    <tr>\n",
       "      <td>secondary_cleaner.state.floatbank5_b_air</td>\n",
       "      <td>14148.0</td>\n",
       "      <td>13.064590</td>\n",
       "      <td>5.765617</td>\n",
       "      <td>0.646208</td>\n",
       "      <td>8.994405</td>\n",
       "      <td>11.997547</td>\n",
       "      <td>17.982903</td>\n",
       "      <td>27.926001</td>\n",
       "    </tr>\n",
       "    <tr>\n",
       "      <td>secondary_cleaner.state.floatbank5_b_level</td>\n",
       "      <td>14148.0</td>\n",
       "      <td>-483.966564</td>\n",
       "      <td>39.207913</td>\n",
       "      <td>-800.006180</td>\n",
       "      <td>-500.105994</td>\n",
       "      <td>-499.914556</td>\n",
       "      <td>-453.186936</td>\n",
       "      <td>-157.396071</td>\n",
       "    </tr>\n",
       "    <tr>\n",
       "      <td>secondary_cleaner.state.floatbank6_a_air</td>\n",
       "      <td>14147.0</td>\n",
       "      <td>19.577539</td>\n",
       "      <td>5.764417</td>\n",
       "      <td>0.195324</td>\n",
       "      <td>14.989304</td>\n",
       "      <td>19.984175</td>\n",
       "      <td>24.991623</td>\n",
       "      <td>32.188906</td>\n",
       "    </tr>\n",
       "    <tr>\n",
       "      <td>secondary_cleaner.state.floatbank6_a_level</td>\n",
       "      <td>14148.0</td>\n",
       "      <td>-506.798480</td>\n",
       "      <td>37.079249</td>\n",
       "      <td>-809.398668</td>\n",
       "      <td>-500.745104</td>\n",
       "      <td>-500.061431</td>\n",
       "      <td>-499.536466</td>\n",
       "      <td>-104.427459</td>\n",
       "    </tr>\n",
       "  </tbody>\n",
       "</table>\n",
       "<p>86 rows × 8 columns</p>\n",
       "</div>"
      ],
      "text/plain": [
       "                                              count        mean        std  \\\n",
       "final.output.concentrate_ag                 14148.0    5.142034   1.369586   \n",
       "final.output.concentrate_pb                 14148.0   10.132960   1.654930   \n",
       "final.output.concentrate_sol                13938.0    9.202849   2.790516   \n",
       "final.output.concentrate_au                 14149.0   44.003792   4.905261   \n",
       "final.output.recovery                       14149.0   66.518832  10.295402   \n",
       "...                                             ...         ...        ...   \n",
       "secondary_cleaner.state.floatbank5_a_level  14148.0 -483.956022  37.892788   \n",
       "secondary_cleaner.state.floatbank5_b_air    14148.0   13.064590   5.765617   \n",
       "secondary_cleaner.state.floatbank5_b_level  14148.0 -483.966564  39.207913   \n",
       "secondary_cleaner.state.floatbank6_a_air    14147.0   19.577539   5.764417   \n",
       "secondary_cleaner.state.floatbank6_a_level  14148.0 -506.798480  37.079249   \n",
       "\n",
       "                                                   min         25%  \\\n",
       "final.output.concentrate_ag                   0.000000    4.211620   \n",
       "final.output.concentrate_pb                   0.000000    9.297355   \n",
       "final.output.concentrate_sol                  0.000000    7.484645   \n",
       "final.output.concentrate_au                   0.000000   43.276111   \n",
       "final.output.recovery                         0.000000   62.545817   \n",
       "...                                                ...         ...   \n",
       "secondary_cleaner.state.floatbank5_a_level -797.142475 -500.363177   \n",
       "secondary_cleaner.state.floatbank5_b_air      0.646208    8.994405   \n",
       "secondary_cleaner.state.floatbank5_b_level -800.006180 -500.105994   \n",
       "secondary_cleaner.state.floatbank6_a_air      0.195324   14.989304   \n",
       "secondary_cleaner.state.floatbank6_a_level -809.398668 -500.745104   \n",
       "\n",
       "                                                   50%         75%         max  \n",
       "final.output.concentrate_ag                   4.994652    5.859540   16.001945  \n",
       "final.output.concentrate_pb                  10.297144   11.170603   17.031899  \n",
       "final.output.concentrate_sol                  8.845462   10.487508   18.124851  \n",
       "final.output.concentrate_au                  44.872436   46.166425   52.756638  \n",
       "final.output.recovery                        67.432775   72.346428  100.000000  \n",
       "...                                                ...         ...         ...  \n",
       "secondary_cleaner.state.floatbank5_a_level -499.702452 -487.712108 -275.073125  \n",
       "secondary_cleaner.state.floatbank5_b_air     11.997547   17.982903   27.926001  \n",
       "secondary_cleaner.state.floatbank5_b_level -499.914556 -453.186936 -157.396071  \n",
       "secondary_cleaner.state.floatbank6_a_air     19.984175   24.991623   32.188906  \n",
       "secondary_cleaner.state.floatbank6_a_level -500.061431 -499.536466 -104.427459  \n",
       "\n",
       "[86 rows x 8 columns]"
      ]
     },
     "metadata": {},
     "output_type": "display_data"
    },
    {
     "name": "stdout",
     "output_type": "stream",
     "text": [
      "Проверим таблицу на пропуски: \n"
     ]
    },
    {
     "data": {
      "text/plain": [
       "date                                            0\n",
       "final.output.concentrate_ag                     1\n",
       "final.output.concentrate_pb                     1\n",
       "final.output.concentrate_sol                  211\n",
       "final.output.concentrate_au                     0\n",
       "                                             ... \n",
       "secondary_cleaner.state.floatbank5_a_level      1\n",
       "secondary_cleaner.state.floatbank5_b_air        1\n",
       "secondary_cleaner.state.floatbank5_b_level      1\n",
       "secondary_cleaner.state.floatbank6_a_air        2\n",
       "secondary_cleaner.state.floatbank6_a_level      1\n",
       "Length: 87, dtype: int64"
      ]
     },
     "metadata": {},
     "output_type": "display_data"
    },
    {
     "name": "stdout",
     "output_type": "stream",
     "text": [
      "Проверим таблицу на дубликаты: \n"
     ]
    },
    {
     "data": {
      "text/plain": [
       "0"
      ]
     },
     "metadata": {},
     "output_type": "display_data"
    },
    {
     "name": "stdout",
     "output_type": "stream",
     "text": [
      "Информация о таблице test:\n",
      "Выведем первые 5 строк таблицы:\n"
     ]
    },
    {
     "data": {
      "text/html": [
       "<div>\n",
       "<style scoped>\n",
       "    .dataframe tbody tr th:only-of-type {\n",
       "        vertical-align: middle;\n",
       "    }\n",
       "\n",
       "    .dataframe tbody tr th {\n",
       "        vertical-align: top;\n",
       "    }\n",
       "\n",
       "    .dataframe thead th {\n",
       "        text-align: right;\n",
       "    }\n",
       "</style>\n",
       "<table border=\"1\" class=\"dataframe\">\n",
       "  <thead>\n",
       "    <tr style=\"text-align: right;\">\n",
       "      <th></th>\n",
       "      <th>date</th>\n",
       "      <th>primary_cleaner.input.sulfate</th>\n",
       "      <th>primary_cleaner.input.depressant</th>\n",
       "      <th>primary_cleaner.input.feed_size</th>\n",
       "      <th>primary_cleaner.input.xanthate</th>\n",
       "      <th>primary_cleaner.state.floatbank8_a_air</th>\n",
       "      <th>primary_cleaner.state.floatbank8_a_level</th>\n",
       "      <th>primary_cleaner.state.floatbank8_b_air</th>\n",
       "      <th>primary_cleaner.state.floatbank8_b_level</th>\n",
       "      <th>primary_cleaner.state.floatbank8_c_air</th>\n",
       "      <th>...</th>\n",
       "      <th>secondary_cleaner.state.floatbank4_a_air</th>\n",
       "      <th>secondary_cleaner.state.floatbank4_a_level</th>\n",
       "      <th>secondary_cleaner.state.floatbank4_b_air</th>\n",
       "      <th>secondary_cleaner.state.floatbank4_b_level</th>\n",
       "      <th>secondary_cleaner.state.floatbank5_a_air</th>\n",
       "      <th>secondary_cleaner.state.floatbank5_a_level</th>\n",
       "      <th>secondary_cleaner.state.floatbank5_b_air</th>\n",
       "      <th>secondary_cleaner.state.floatbank5_b_level</th>\n",
       "      <th>secondary_cleaner.state.floatbank6_a_air</th>\n",
       "      <th>secondary_cleaner.state.floatbank6_a_level</th>\n",
       "    </tr>\n",
       "  </thead>\n",
       "  <tbody>\n",
       "    <tr>\n",
       "      <td>0</td>\n",
       "      <td>2016-09-01 00:59:59</td>\n",
       "      <td>210.800909</td>\n",
       "      <td>14.993118</td>\n",
       "      <td>8.080000</td>\n",
       "      <td>1.005021</td>\n",
       "      <td>1398.981301</td>\n",
       "      <td>-500.225577</td>\n",
       "      <td>1399.144926</td>\n",
       "      <td>-499.919735</td>\n",
       "      <td>1400.102998</td>\n",
       "      <td>...</td>\n",
       "      <td>12.023554</td>\n",
       "      <td>-497.795834</td>\n",
       "      <td>8.016656</td>\n",
       "      <td>-501.289139</td>\n",
       "      <td>7.946562</td>\n",
       "      <td>-432.317850</td>\n",
       "      <td>4.872511</td>\n",
       "      <td>-500.037437</td>\n",
       "      <td>26.705889</td>\n",
       "      <td>-499.709414</td>\n",
       "    </tr>\n",
       "    <tr>\n",
       "      <td>1</td>\n",
       "      <td>2016-09-01 01:59:59</td>\n",
       "      <td>215.392455</td>\n",
       "      <td>14.987471</td>\n",
       "      <td>8.080000</td>\n",
       "      <td>0.990469</td>\n",
       "      <td>1398.777912</td>\n",
       "      <td>-500.057435</td>\n",
       "      <td>1398.055362</td>\n",
       "      <td>-499.778182</td>\n",
       "      <td>1396.151033</td>\n",
       "      <td>...</td>\n",
       "      <td>12.058140</td>\n",
       "      <td>-498.695773</td>\n",
       "      <td>8.130979</td>\n",
       "      <td>-499.634209</td>\n",
       "      <td>7.958270</td>\n",
       "      <td>-525.839648</td>\n",
       "      <td>4.878850</td>\n",
       "      <td>-500.162375</td>\n",
       "      <td>25.019940</td>\n",
       "      <td>-499.819438</td>\n",
       "    </tr>\n",
       "    <tr>\n",
       "      <td>2</td>\n",
       "      <td>2016-09-01 02:59:59</td>\n",
       "      <td>215.259946</td>\n",
       "      <td>12.884934</td>\n",
       "      <td>7.786667</td>\n",
       "      <td>0.996043</td>\n",
       "      <td>1398.493666</td>\n",
       "      <td>-500.868360</td>\n",
       "      <td>1398.860436</td>\n",
       "      <td>-499.764529</td>\n",
       "      <td>1398.075709</td>\n",
       "      <td>...</td>\n",
       "      <td>11.962366</td>\n",
       "      <td>-498.767484</td>\n",
       "      <td>8.096893</td>\n",
       "      <td>-500.827423</td>\n",
       "      <td>8.071056</td>\n",
       "      <td>-500.801673</td>\n",
       "      <td>4.905125</td>\n",
       "      <td>-499.828510</td>\n",
       "      <td>24.994862</td>\n",
       "      <td>-500.622559</td>\n",
       "    </tr>\n",
       "    <tr>\n",
       "      <td>3</td>\n",
       "      <td>2016-09-01 03:59:59</td>\n",
       "      <td>215.336236</td>\n",
       "      <td>12.006805</td>\n",
       "      <td>7.640000</td>\n",
       "      <td>0.863514</td>\n",
       "      <td>1399.618111</td>\n",
       "      <td>-498.863574</td>\n",
       "      <td>1397.440120</td>\n",
       "      <td>-499.211024</td>\n",
       "      <td>1400.129303</td>\n",
       "      <td>...</td>\n",
       "      <td>12.033091</td>\n",
       "      <td>-498.350935</td>\n",
       "      <td>8.074946</td>\n",
       "      <td>-499.474407</td>\n",
       "      <td>7.897085</td>\n",
       "      <td>-500.868509</td>\n",
       "      <td>4.931400</td>\n",
       "      <td>-499.963623</td>\n",
       "      <td>24.948919</td>\n",
       "      <td>-498.709987</td>\n",
       "    </tr>\n",
       "    <tr>\n",
       "      <td>4</td>\n",
       "      <td>2016-09-01 04:59:59</td>\n",
       "      <td>199.099327</td>\n",
       "      <td>10.682530</td>\n",
       "      <td>7.530000</td>\n",
       "      <td>0.805575</td>\n",
       "      <td>1401.268123</td>\n",
       "      <td>-500.808305</td>\n",
       "      <td>1398.128818</td>\n",
       "      <td>-499.504543</td>\n",
       "      <td>1402.172226</td>\n",
       "      <td>...</td>\n",
       "      <td>12.025367</td>\n",
       "      <td>-500.786497</td>\n",
       "      <td>8.054678</td>\n",
       "      <td>-500.397500</td>\n",
       "      <td>8.107890</td>\n",
       "      <td>-509.526725</td>\n",
       "      <td>4.957674</td>\n",
       "      <td>-500.360026</td>\n",
       "      <td>25.003331</td>\n",
       "      <td>-500.856333</td>\n",
       "    </tr>\n",
       "  </tbody>\n",
       "</table>\n",
       "<p>5 rows × 53 columns</p>\n",
       "</div>"
      ],
      "text/plain": [
       "                  date  primary_cleaner.input.sulfate  \\\n",
       "0  2016-09-01 00:59:59                     210.800909   \n",
       "1  2016-09-01 01:59:59                     215.392455   \n",
       "2  2016-09-01 02:59:59                     215.259946   \n",
       "3  2016-09-01 03:59:59                     215.336236   \n",
       "4  2016-09-01 04:59:59                     199.099327   \n",
       "\n",
       "   primary_cleaner.input.depressant  primary_cleaner.input.feed_size  \\\n",
       "0                         14.993118                         8.080000   \n",
       "1                         14.987471                         8.080000   \n",
       "2                         12.884934                         7.786667   \n",
       "3                         12.006805                         7.640000   \n",
       "4                         10.682530                         7.530000   \n",
       "\n",
       "   primary_cleaner.input.xanthate  primary_cleaner.state.floatbank8_a_air  \\\n",
       "0                        1.005021                             1398.981301   \n",
       "1                        0.990469                             1398.777912   \n",
       "2                        0.996043                             1398.493666   \n",
       "3                        0.863514                             1399.618111   \n",
       "4                        0.805575                             1401.268123   \n",
       "\n",
       "   primary_cleaner.state.floatbank8_a_level  \\\n",
       "0                               -500.225577   \n",
       "1                               -500.057435   \n",
       "2                               -500.868360   \n",
       "3                               -498.863574   \n",
       "4                               -500.808305   \n",
       "\n",
       "   primary_cleaner.state.floatbank8_b_air  \\\n",
       "0                             1399.144926   \n",
       "1                             1398.055362   \n",
       "2                             1398.860436   \n",
       "3                             1397.440120   \n",
       "4                             1398.128818   \n",
       "\n",
       "   primary_cleaner.state.floatbank8_b_level  \\\n",
       "0                               -499.919735   \n",
       "1                               -499.778182   \n",
       "2                               -499.764529   \n",
       "3                               -499.211024   \n",
       "4                               -499.504543   \n",
       "\n",
       "   primary_cleaner.state.floatbank8_c_air  ...  \\\n",
       "0                             1400.102998  ...   \n",
       "1                             1396.151033  ...   \n",
       "2                             1398.075709  ...   \n",
       "3                             1400.129303  ...   \n",
       "4                             1402.172226  ...   \n",
       "\n",
       "   secondary_cleaner.state.floatbank4_a_air  \\\n",
       "0                                 12.023554   \n",
       "1                                 12.058140   \n",
       "2                                 11.962366   \n",
       "3                                 12.033091   \n",
       "4                                 12.025367   \n",
       "\n",
       "   secondary_cleaner.state.floatbank4_a_level  \\\n",
       "0                                 -497.795834   \n",
       "1                                 -498.695773   \n",
       "2                                 -498.767484   \n",
       "3                                 -498.350935   \n",
       "4                                 -500.786497   \n",
       "\n",
       "   secondary_cleaner.state.floatbank4_b_air  \\\n",
       "0                                  8.016656   \n",
       "1                                  8.130979   \n",
       "2                                  8.096893   \n",
       "3                                  8.074946   \n",
       "4                                  8.054678   \n",
       "\n",
       "   secondary_cleaner.state.floatbank4_b_level  \\\n",
       "0                                 -501.289139   \n",
       "1                                 -499.634209   \n",
       "2                                 -500.827423   \n",
       "3                                 -499.474407   \n",
       "4                                 -500.397500   \n",
       "\n",
       "   secondary_cleaner.state.floatbank5_a_air  \\\n",
       "0                                  7.946562   \n",
       "1                                  7.958270   \n",
       "2                                  8.071056   \n",
       "3                                  7.897085   \n",
       "4                                  8.107890   \n",
       "\n",
       "   secondary_cleaner.state.floatbank5_a_level  \\\n",
       "0                                 -432.317850   \n",
       "1                                 -525.839648   \n",
       "2                                 -500.801673   \n",
       "3                                 -500.868509   \n",
       "4                                 -509.526725   \n",
       "\n",
       "   secondary_cleaner.state.floatbank5_b_air  \\\n",
       "0                                  4.872511   \n",
       "1                                  4.878850   \n",
       "2                                  4.905125   \n",
       "3                                  4.931400   \n",
       "4                                  4.957674   \n",
       "\n",
       "   secondary_cleaner.state.floatbank5_b_level  \\\n",
       "0                                 -500.037437   \n",
       "1                                 -500.162375   \n",
       "2                                 -499.828510   \n",
       "3                                 -499.963623   \n",
       "4                                 -500.360026   \n",
       "\n",
       "   secondary_cleaner.state.floatbank6_a_air  \\\n",
       "0                                 26.705889   \n",
       "1                                 25.019940   \n",
       "2                                 24.994862   \n",
       "3                                 24.948919   \n",
       "4                                 25.003331   \n",
       "\n",
       "   secondary_cleaner.state.floatbank6_a_level  \n",
       "0                                 -499.709414  \n",
       "1                                 -499.819438  \n",
       "2                                 -500.622559  \n",
       "3                                 -498.709987  \n",
       "4                                 -500.856333  \n",
       "\n",
       "[5 rows x 53 columns]"
      ]
     },
     "metadata": {},
     "output_type": "display_data"
    },
    {
     "name": "stdout",
     "output_type": "stream",
     "text": [
      "Выведем последние 5 строк таблицы:\n"
     ]
    },
    {
     "data": {
      "text/html": [
       "<div>\n",
       "<style scoped>\n",
       "    .dataframe tbody tr th:only-of-type {\n",
       "        vertical-align: middle;\n",
       "    }\n",
       "\n",
       "    .dataframe tbody tr th {\n",
       "        vertical-align: top;\n",
       "    }\n",
       "\n",
       "    .dataframe thead th {\n",
       "        text-align: right;\n",
       "    }\n",
       "</style>\n",
       "<table border=\"1\" class=\"dataframe\">\n",
       "  <thead>\n",
       "    <tr style=\"text-align: right;\">\n",
       "      <th></th>\n",
       "      <th>date</th>\n",
       "      <th>primary_cleaner.input.sulfate</th>\n",
       "      <th>primary_cleaner.input.depressant</th>\n",
       "      <th>primary_cleaner.input.feed_size</th>\n",
       "      <th>primary_cleaner.input.xanthate</th>\n",
       "      <th>primary_cleaner.state.floatbank8_a_air</th>\n",
       "      <th>primary_cleaner.state.floatbank8_a_level</th>\n",
       "      <th>primary_cleaner.state.floatbank8_b_air</th>\n",
       "      <th>primary_cleaner.state.floatbank8_b_level</th>\n",
       "      <th>primary_cleaner.state.floatbank8_c_air</th>\n",
       "      <th>...</th>\n",
       "      <th>secondary_cleaner.state.floatbank4_a_air</th>\n",
       "      <th>secondary_cleaner.state.floatbank4_a_level</th>\n",
       "      <th>secondary_cleaner.state.floatbank4_b_air</th>\n",
       "      <th>secondary_cleaner.state.floatbank4_b_level</th>\n",
       "      <th>secondary_cleaner.state.floatbank5_a_air</th>\n",
       "      <th>secondary_cleaner.state.floatbank5_a_level</th>\n",
       "      <th>secondary_cleaner.state.floatbank5_b_air</th>\n",
       "      <th>secondary_cleaner.state.floatbank5_b_level</th>\n",
       "      <th>secondary_cleaner.state.floatbank6_a_air</th>\n",
       "      <th>secondary_cleaner.state.floatbank6_a_level</th>\n",
       "    </tr>\n",
       "  </thead>\n",
       "  <tbody>\n",
       "    <tr>\n",
       "      <td>5285</td>\n",
       "      <td>2017-12-31 19:59:59</td>\n",
       "      <td>173.957757</td>\n",
       "      <td>15.963399</td>\n",
       "      <td>8.07</td>\n",
       "      <td>0.896701</td>\n",
       "      <td>1401.930554</td>\n",
       "      <td>-499.728848</td>\n",
       "      <td>1401.441445</td>\n",
       "      <td>-499.193423</td>\n",
       "      <td>1399.810313</td>\n",
       "      <td>...</td>\n",
       "      <td>13.995957</td>\n",
       "      <td>-500.157454</td>\n",
       "      <td>12.069155</td>\n",
       "      <td>-499.673279</td>\n",
       "      <td>7.977259</td>\n",
       "      <td>-499.516126</td>\n",
       "      <td>5.933319</td>\n",
       "      <td>-499.965973</td>\n",
       "      <td>8.987171</td>\n",
       "      <td>-499.755909</td>\n",
       "    </tr>\n",
       "    <tr>\n",
       "      <td>5286</td>\n",
       "      <td>2017-12-31 20:59:59</td>\n",
       "      <td>172.910270</td>\n",
       "      <td>16.002605</td>\n",
       "      <td>8.07</td>\n",
       "      <td>0.896519</td>\n",
       "      <td>1447.075722</td>\n",
       "      <td>-494.716823</td>\n",
       "      <td>1448.851892</td>\n",
       "      <td>-465.963026</td>\n",
       "      <td>1443.890424</td>\n",
       "      <td>...</td>\n",
       "      <td>16.749781</td>\n",
       "      <td>-496.031539</td>\n",
       "      <td>13.365371</td>\n",
       "      <td>-499.122723</td>\n",
       "      <td>9.288553</td>\n",
       "      <td>-496.892967</td>\n",
       "      <td>7.372897</td>\n",
       "      <td>-499.942956</td>\n",
       "      <td>8.986832</td>\n",
       "      <td>-499.903761</td>\n",
       "    </tr>\n",
       "    <tr>\n",
       "      <td>5287</td>\n",
       "      <td>2017-12-31 21:59:59</td>\n",
       "      <td>171.135718</td>\n",
       "      <td>15.993669</td>\n",
       "      <td>8.07</td>\n",
       "      <td>1.165996</td>\n",
       "      <td>1498.836182</td>\n",
       "      <td>-501.770403</td>\n",
       "      <td>1499.572353</td>\n",
       "      <td>-495.516347</td>\n",
       "      <td>1502.749213</td>\n",
       "      <td>...</td>\n",
       "      <td>19.994130</td>\n",
       "      <td>-499.791312</td>\n",
       "      <td>15.101425</td>\n",
       "      <td>-499.936252</td>\n",
       "      <td>10.989181</td>\n",
       "      <td>-498.347898</td>\n",
       "      <td>9.020944</td>\n",
       "      <td>-500.040448</td>\n",
       "      <td>8.982038</td>\n",
       "      <td>-497.789882</td>\n",
       "    </tr>\n",
       "    <tr>\n",
       "      <td>5288</td>\n",
       "      <td>2017-12-31 22:59:59</td>\n",
       "      <td>179.697158</td>\n",
       "      <td>15.438979</td>\n",
       "      <td>8.07</td>\n",
       "      <td>1.501068</td>\n",
       "      <td>1498.466243</td>\n",
       "      <td>-500.483984</td>\n",
       "      <td>1497.986986</td>\n",
       "      <td>-519.200340</td>\n",
       "      <td>1496.569047</td>\n",
       "      <td>...</td>\n",
       "      <td>19.958760</td>\n",
       "      <td>-499.958750</td>\n",
       "      <td>15.026853</td>\n",
       "      <td>-499.723143</td>\n",
       "      <td>11.011607</td>\n",
       "      <td>-499.985046</td>\n",
       "      <td>9.009783</td>\n",
       "      <td>-499.937902</td>\n",
       "      <td>9.012660</td>\n",
       "      <td>-500.154284</td>\n",
       "    </tr>\n",
       "    <tr>\n",
       "      <td>5289</td>\n",
       "      <td>2017-12-31 23:59:59</td>\n",
       "      <td>181.556856</td>\n",
       "      <td>14.995850</td>\n",
       "      <td>8.07</td>\n",
       "      <td>1.623454</td>\n",
       "      <td>1498.096303</td>\n",
       "      <td>-499.796922</td>\n",
       "      <td>1501.743791</td>\n",
       "      <td>-505.146931</td>\n",
       "      <td>1499.535978</td>\n",
       "      <td>...</td>\n",
       "      <td>20.034715</td>\n",
       "      <td>-500.728588</td>\n",
       "      <td>14.914199</td>\n",
       "      <td>-499.948518</td>\n",
       "      <td>10.986607</td>\n",
       "      <td>-500.658027</td>\n",
       "      <td>8.989497</td>\n",
       "      <td>-500.337588</td>\n",
       "      <td>8.988632</td>\n",
       "      <td>-500.764937</td>\n",
       "    </tr>\n",
       "  </tbody>\n",
       "</table>\n",
       "<p>5 rows × 53 columns</p>\n",
       "</div>"
      ],
      "text/plain": [
       "                     date  primary_cleaner.input.sulfate  \\\n",
       "5285  2017-12-31 19:59:59                     173.957757   \n",
       "5286  2017-12-31 20:59:59                     172.910270   \n",
       "5287  2017-12-31 21:59:59                     171.135718   \n",
       "5288  2017-12-31 22:59:59                     179.697158   \n",
       "5289  2017-12-31 23:59:59                     181.556856   \n",
       "\n",
       "      primary_cleaner.input.depressant  primary_cleaner.input.feed_size  \\\n",
       "5285                         15.963399                             8.07   \n",
       "5286                         16.002605                             8.07   \n",
       "5287                         15.993669                             8.07   \n",
       "5288                         15.438979                             8.07   \n",
       "5289                         14.995850                             8.07   \n",
       "\n",
       "      primary_cleaner.input.xanthate  primary_cleaner.state.floatbank8_a_air  \\\n",
       "5285                        0.896701                             1401.930554   \n",
       "5286                        0.896519                             1447.075722   \n",
       "5287                        1.165996                             1498.836182   \n",
       "5288                        1.501068                             1498.466243   \n",
       "5289                        1.623454                             1498.096303   \n",
       "\n",
       "      primary_cleaner.state.floatbank8_a_level  \\\n",
       "5285                               -499.728848   \n",
       "5286                               -494.716823   \n",
       "5287                               -501.770403   \n",
       "5288                               -500.483984   \n",
       "5289                               -499.796922   \n",
       "\n",
       "      primary_cleaner.state.floatbank8_b_air  \\\n",
       "5285                             1401.441445   \n",
       "5286                             1448.851892   \n",
       "5287                             1499.572353   \n",
       "5288                             1497.986986   \n",
       "5289                             1501.743791   \n",
       "\n",
       "      primary_cleaner.state.floatbank8_b_level  \\\n",
       "5285                               -499.193423   \n",
       "5286                               -465.963026   \n",
       "5287                               -495.516347   \n",
       "5288                               -519.200340   \n",
       "5289                               -505.146931   \n",
       "\n",
       "      primary_cleaner.state.floatbank8_c_air  ...  \\\n",
       "5285                             1399.810313  ...   \n",
       "5286                             1443.890424  ...   \n",
       "5287                             1502.749213  ...   \n",
       "5288                             1496.569047  ...   \n",
       "5289                             1499.535978  ...   \n",
       "\n",
       "      secondary_cleaner.state.floatbank4_a_air  \\\n",
       "5285                                 13.995957   \n",
       "5286                                 16.749781   \n",
       "5287                                 19.994130   \n",
       "5288                                 19.958760   \n",
       "5289                                 20.034715   \n",
       "\n",
       "      secondary_cleaner.state.floatbank4_a_level  \\\n",
       "5285                                 -500.157454   \n",
       "5286                                 -496.031539   \n",
       "5287                                 -499.791312   \n",
       "5288                                 -499.958750   \n",
       "5289                                 -500.728588   \n",
       "\n",
       "      secondary_cleaner.state.floatbank4_b_air  \\\n",
       "5285                                 12.069155   \n",
       "5286                                 13.365371   \n",
       "5287                                 15.101425   \n",
       "5288                                 15.026853   \n",
       "5289                                 14.914199   \n",
       "\n",
       "      secondary_cleaner.state.floatbank4_b_level  \\\n",
       "5285                                 -499.673279   \n",
       "5286                                 -499.122723   \n",
       "5287                                 -499.936252   \n",
       "5288                                 -499.723143   \n",
       "5289                                 -499.948518   \n",
       "\n",
       "      secondary_cleaner.state.floatbank5_a_air  \\\n",
       "5285                                  7.977259   \n",
       "5286                                  9.288553   \n",
       "5287                                 10.989181   \n",
       "5288                                 11.011607   \n",
       "5289                                 10.986607   \n",
       "\n",
       "      secondary_cleaner.state.floatbank5_a_level  \\\n",
       "5285                                 -499.516126   \n",
       "5286                                 -496.892967   \n",
       "5287                                 -498.347898   \n",
       "5288                                 -499.985046   \n",
       "5289                                 -500.658027   \n",
       "\n",
       "      secondary_cleaner.state.floatbank5_b_air  \\\n",
       "5285                                  5.933319   \n",
       "5286                                  7.372897   \n",
       "5287                                  9.020944   \n",
       "5288                                  9.009783   \n",
       "5289                                  8.989497   \n",
       "\n",
       "      secondary_cleaner.state.floatbank5_b_level  \\\n",
       "5285                                 -499.965973   \n",
       "5286                                 -499.942956   \n",
       "5287                                 -500.040448   \n",
       "5288                                 -499.937902   \n",
       "5289                                 -500.337588   \n",
       "\n",
       "      secondary_cleaner.state.floatbank6_a_air  \\\n",
       "5285                                  8.987171   \n",
       "5286                                  8.986832   \n",
       "5287                                  8.982038   \n",
       "5288                                  9.012660   \n",
       "5289                                  8.988632   \n",
       "\n",
       "      secondary_cleaner.state.floatbank6_a_level  \n",
       "5285                                 -499.755909  \n",
       "5286                                 -499.903761  \n",
       "5287                                 -497.789882  \n",
       "5288                                 -500.154284  \n",
       "5289                                 -500.764937  \n",
       "\n",
       "[5 rows x 53 columns]"
      ]
     },
     "metadata": {},
     "output_type": "display_data"
    },
    {
     "name": "stdout",
     "output_type": "stream",
     "text": [
      "Выведем случайные 5 строк таблицы:\n"
     ]
    },
    {
     "data": {
      "text/html": [
       "<div>\n",
       "<style scoped>\n",
       "    .dataframe tbody tr th:only-of-type {\n",
       "        vertical-align: middle;\n",
       "    }\n",
       "\n",
       "    .dataframe tbody tr th {\n",
       "        vertical-align: top;\n",
       "    }\n",
       "\n",
       "    .dataframe thead th {\n",
       "        text-align: right;\n",
       "    }\n",
       "</style>\n",
       "<table border=\"1\" class=\"dataframe\">\n",
       "  <thead>\n",
       "    <tr style=\"text-align: right;\">\n",
       "      <th></th>\n",
       "      <th>date</th>\n",
       "      <th>primary_cleaner.input.sulfate</th>\n",
       "      <th>primary_cleaner.input.depressant</th>\n",
       "      <th>primary_cleaner.input.feed_size</th>\n",
       "      <th>primary_cleaner.input.xanthate</th>\n",
       "      <th>primary_cleaner.state.floatbank8_a_air</th>\n",
       "      <th>primary_cleaner.state.floatbank8_a_level</th>\n",
       "      <th>primary_cleaner.state.floatbank8_b_air</th>\n",
       "      <th>primary_cleaner.state.floatbank8_b_level</th>\n",
       "      <th>primary_cleaner.state.floatbank8_c_air</th>\n",
       "      <th>...</th>\n",
       "      <th>secondary_cleaner.state.floatbank4_a_air</th>\n",
       "      <th>secondary_cleaner.state.floatbank4_a_level</th>\n",
       "      <th>secondary_cleaner.state.floatbank4_b_air</th>\n",
       "      <th>secondary_cleaner.state.floatbank4_b_level</th>\n",
       "      <th>secondary_cleaner.state.floatbank5_a_air</th>\n",
       "      <th>secondary_cleaner.state.floatbank5_a_level</th>\n",
       "      <th>secondary_cleaner.state.floatbank5_b_air</th>\n",
       "      <th>secondary_cleaner.state.floatbank5_b_level</th>\n",
       "      <th>secondary_cleaner.state.floatbank6_a_air</th>\n",
       "      <th>secondary_cleaner.state.floatbank6_a_level</th>\n",
       "    </tr>\n",
       "  </thead>\n",
       "  <tbody>\n",
       "    <tr>\n",
       "      <td>3059</td>\n",
       "      <td>2017-09-23 13:59:59</td>\n",
       "      <td>191.516501</td>\n",
       "      <td>8.512363</td>\n",
       "      <td>7.055</td>\n",
       "      <td>1.363213</td>\n",
       "      <td>1.450592e+03</td>\n",
       "      <td>-497.408756</td>\n",
       "      <td>1.449222e+03</td>\n",
       "      <td>-503.851176</td>\n",
       "      <td>1.446431e+03</td>\n",
       "      <td>...</td>\n",
       "      <td>12.040520</td>\n",
       "      <td>-499.248216</td>\n",
       "      <td>8.992746</td>\n",
       "      <td>-397.450195</td>\n",
       "      <td>9.120252</td>\n",
       "      <td>-499.374966</td>\n",
       "      <td>7.050235</td>\n",
       "      <td>-497.296824</td>\n",
       "      <td>9.992202</td>\n",
       "      <td>-499.768321</td>\n",
       "    </tr>\n",
       "    <tr>\n",
       "      <td>967</td>\n",
       "      <td>2016-10-21 09:59:59</td>\n",
       "      <td>132.578251</td>\n",
       "      <td>7.463113</td>\n",
       "      <td>7.130</td>\n",
       "      <td>1.285660</td>\n",
       "      <td>1.580076e+03</td>\n",
       "      <td>-499.572139</td>\n",
       "      <td>1.696802e+03</td>\n",
       "      <td>-500.323478</td>\n",
       "      <td>1.698635e+03</td>\n",
       "      <td>...</td>\n",
       "      <td>20.023207</td>\n",
       "      <td>-498.618363</td>\n",
       "      <td>17.016355</td>\n",
       "      <td>-500.640003</td>\n",
       "      <td>17.092744</td>\n",
       "      <td>-499.159348</td>\n",
       "      <td>14.015016</td>\n",
       "      <td>-487.092680</td>\n",
       "      <td>21.565209</td>\n",
       "      <td>-658.690743</td>\n",
       "    </tr>\n",
       "    <tr>\n",
       "      <td>5040</td>\n",
       "      <td>2017-12-20 05:59:59</td>\n",
       "      <td>243.104320</td>\n",
       "      <td>14.012229</td>\n",
       "      <td>8.510</td>\n",
       "      <td>1.542704</td>\n",
       "      <td>1.553023e+03</td>\n",
       "      <td>-500.509477</td>\n",
       "      <td>1.550945e+03</td>\n",
       "      <td>-535.592945</td>\n",
       "      <td>1.428885e+03</td>\n",
       "      <td>...</td>\n",
       "      <td>19.988108</td>\n",
       "      <td>-497.249334</td>\n",
       "      <td>15.136500</td>\n",
       "      <td>-498.593533</td>\n",
       "      <td>10.999085</td>\n",
       "      <td>-498.299175</td>\n",
       "      <td>8.961507</td>\n",
       "      <td>-499.975964</td>\n",
       "      <td>11.978406</td>\n",
       "      <td>-499.142050</td>\n",
       "    </tr>\n",
       "    <tr>\n",
       "      <td>5185</td>\n",
       "      <td>2017-12-27 11:59:59</td>\n",
       "      <td>7.469704</td>\n",
       "      <td>NaN</td>\n",
       "      <td>7.200</td>\n",
       "      <td>0.004984</td>\n",
       "      <td>5.445860e-32</td>\n",
       "      <td>-782.195107</td>\n",
       "      <td>6.647490e-32</td>\n",
       "      <td>-496.247779</td>\n",
       "      <td>4.033736e-32</td>\n",
       "      <td>...</td>\n",
       "      <td>3.265143</td>\n",
       "      <td>-799.427634</td>\n",
       "      <td>1.080343</td>\n",
       "      <td>-799.879409</td>\n",
       "      <td>0.200600</td>\n",
       "      <td>-797.323986</td>\n",
       "      <td>1.420606</td>\n",
       "      <td>-800.118587</td>\n",
       "      <td>0.016815</td>\n",
       "      <td>-789.840007</td>\n",
       "    </tr>\n",
       "    <tr>\n",
       "      <td>2990</td>\n",
       "      <td>2017-09-20 10:59:59</td>\n",
       "      <td>128.263148</td>\n",
       "      <td>8.513709</td>\n",
       "      <td>6.990</td>\n",
       "      <td>1.207682</td>\n",
       "      <td>1.399279e+03</td>\n",
       "      <td>-499.289866</td>\n",
       "      <td>1.400379e+03</td>\n",
       "      <td>-497.576573</td>\n",
       "      <td>1.399628e+03</td>\n",
       "      <td>...</td>\n",
       "      <td>11.953345</td>\n",
       "      <td>-499.742553</td>\n",
       "      <td>9.057378</td>\n",
       "      <td>-398.173553</td>\n",
       "      <td>8.937434</td>\n",
       "      <td>-500.346310</td>\n",
       "      <td>6.990392</td>\n",
       "      <td>-500.476996</td>\n",
       "      <td>10.008981</td>\n",
       "      <td>-499.854333</td>\n",
       "    </tr>\n",
       "  </tbody>\n",
       "</table>\n",
       "<p>5 rows × 53 columns</p>\n",
       "</div>"
      ],
      "text/plain": [
       "                     date  primary_cleaner.input.sulfate  \\\n",
       "3059  2017-09-23 13:59:59                     191.516501   \n",
       "967   2016-10-21 09:59:59                     132.578251   \n",
       "5040  2017-12-20 05:59:59                     243.104320   \n",
       "5185  2017-12-27 11:59:59                       7.469704   \n",
       "2990  2017-09-20 10:59:59                     128.263148   \n",
       "\n",
       "      primary_cleaner.input.depressant  primary_cleaner.input.feed_size  \\\n",
       "3059                          8.512363                            7.055   \n",
       "967                           7.463113                            7.130   \n",
       "5040                         14.012229                            8.510   \n",
       "5185                               NaN                            7.200   \n",
       "2990                          8.513709                            6.990   \n",
       "\n",
       "      primary_cleaner.input.xanthate  primary_cleaner.state.floatbank8_a_air  \\\n",
       "3059                        1.363213                            1.450592e+03   \n",
       "967                         1.285660                            1.580076e+03   \n",
       "5040                        1.542704                            1.553023e+03   \n",
       "5185                        0.004984                            5.445860e-32   \n",
       "2990                        1.207682                            1.399279e+03   \n",
       "\n",
       "      primary_cleaner.state.floatbank8_a_level  \\\n",
       "3059                               -497.408756   \n",
       "967                                -499.572139   \n",
       "5040                               -500.509477   \n",
       "5185                               -782.195107   \n",
       "2990                               -499.289866   \n",
       "\n",
       "      primary_cleaner.state.floatbank8_b_air  \\\n",
       "3059                            1.449222e+03   \n",
       "967                             1.696802e+03   \n",
       "5040                            1.550945e+03   \n",
       "5185                            6.647490e-32   \n",
       "2990                            1.400379e+03   \n",
       "\n",
       "      primary_cleaner.state.floatbank8_b_level  \\\n",
       "3059                               -503.851176   \n",
       "967                                -500.323478   \n",
       "5040                               -535.592945   \n",
       "5185                               -496.247779   \n",
       "2990                               -497.576573   \n",
       "\n",
       "      primary_cleaner.state.floatbank8_c_air  ...  \\\n",
       "3059                            1.446431e+03  ...   \n",
       "967                             1.698635e+03  ...   \n",
       "5040                            1.428885e+03  ...   \n",
       "5185                            4.033736e-32  ...   \n",
       "2990                            1.399628e+03  ...   \n",
       "\n",
       "      secondary_cleaner.state.floatbank4_a_air  \\\n",
       "3059                                 12.040520   \n",
       "967                                  20.023207   \n",
       "5040                                 19.988108   \n",
       "5185                                  3.265143   \n",
       "2990                                 11.953345   \n",
       "\n",
       "      secondary_cleaner.state.floatbank4_a_level  \\\n",
       "3059                                 -499.248216   \n",
       "967                                  -498.618363   \n",
       "5040                                 -497.249334   \n",
       "5185                                 -799.427634   \n",
       "2990                                 -499.742553   \n",
       "\n",
       "      secondary_cleaner.state.floatbank4_b_air  \\\n",
       "3059                                  8.992746   \n",
       "967                                  17.016355   \n",
       "5040                                 15.136500   \n",
       "5185                                  1.080343   \n",
       "2990                                  9.057378   \n",
       "\n",
       "      secondary_cleaner.state.floatbank4_b_level  \\\n",
       "3059                                 -397.450195   \n",
       "967                                  -500.640003   \n",
       "5040                                 -498.593533   \n",
       "5185                                 -799.879409   \n",
       "2990                                 -398.173553   \n",
       "\n",
       "      secondary_cleaner.state.floatbank5_a_air  \\\n",
       "3059                                  9.120252   \n",
       "967                                  17.092744   \n",
       "5040                                 10.999085   \n",
       "5185                                  0.200600   \n",
       "2990                                  8.937434   \n",
       "\n",
       "      secondary_cleaner.state.floatbank5_a_level  \\\n",
       "3059                                 -499.374966   \n",
       "967                                  -499.159348   \n",
       "5040                                 -498.299175   \n",
       "5185                                 -797.323986   \n",
       "2990                                 -500.346310   \n",
       "\n",
       "      secondary_cleaner.state.floatbank5_b_air  \\\n",
       "3059                                  7.050235   \n",
       "967                                  14.015016   \n",
       "5040                                  8.961507   \n",
       "5185                                  1.420606   \n",
       "2990                                  6.990392   \n",
       "\n",
       "      secondary_cleaner.state.floatbank5_b_level  \\\n",
       "3059                                 -497.296824   \n",
       "967                                  -487.092680   \n",
       "5040                                 -499.975964   \n",
       "5185                                 -800.118587   \n",
       "2990                                 -500.476996   \n",
       "\n",
       "      secondary_cleaner.state.floatbank6_a_air  \\\n",
       "3059                                  9.992202   \n",
       "967                                  21.565209   \n",
       "5040                                 11.978406   \n",
       "5185                                  0.016815   \n",
       "2990                                 10.008981   \n",
       "\n",
       "      secondary_cleaner.state.floatbank6_a_level  \n",
       "3059                                 -499.768321  \n",
       "967                                  -658.690743  \n",
       "5040                                 -499.142050  \n",
       "5185                                 -789.840007  \n",
       "2990                                 -499.854333  \n",
       "\n",
       "[5 rows x 53 columns]"
      ]
     },
     "metadata": {},
     "output_type": "display_data"
    },
    {
     "name": "stdout",
     "output_type": "stream",
     "text": [
      "Выведем основную информацию о таблице:\n",
      "<class 'pandas.core.frame.DataFrame'>\n",
      "RangeIndex: 5290 entries, 0 to 5289\n",
      "Data columns (total 53 columns):\n",
      "date                                          5290 non-null object\n",
      "primary_cleaner.input.sulfate                 5286 non-null float64\n",
      "primary_cleaner.input.depressant              5285 non-null float64\n",
      "primary_cleaner.input.feed_size               5290 non-null float64\n",
      "primary_cleaner.input.xanthate                5286 non-null float64\n",
      "primary_cleaner.state.floatbank8_a_air        5290 non-null float64\n",
      "primary_cleaner.state.floatbank8_a_level      5290 non-null float64\n",
      "primary_cleaner.state.floatbank8_b_air        5290 non-null float64\n",
      "primary_cleaner.state.floatbank8_b_level      5290 non-null float64\n",
      "primary_cleaner.state.floatbank8_c_air        5290 non-null float64\n",
      "primary_cleaner.state.floatbank8_c_level      5290 non-null float64\n",
      "primary_cleaner.state.floatbank8_d_air        5290 non-null float64\n",
      "primary_cleaner.state.floatbank8_d_level      5290 non-null float64\n",
      "rougher.input.feed_ag                         5290 non-null float64\n",
      "rougher.input.feed_pb                         5290 non-null float64\n",
      "rougher.input.feed_rate                       5287 non-null float64\n",
      "rougher.input.feed_size                       5289 non-null float64\n",
      "rougher.input.feed_sol                        5269 non-null float64\n",
      "rougher.input.feed_au                         5290 non-null float64\n",
      "rougher.input.floatbank10_sulfate             5285 non-null float64\n",
      "rougher.input.floatbank10_xanthate            5290 non-null float64\n",
      "rougher.input.floatbank11_sulfate             5282 non-null float64\n",
      "rougher.input.floatbank11_xanthate            5265 non-null float64\n",
      "rougher.state.floatbank10_a_air               5290 non-null float64\n",
      "rougher.state.floatbank10_a_level             5290 non-null float64\n",
      "rougher.state.floatbank10_b_air               5290 non-null float64\n",
      "rougher.state.floatbank10_b_level             5290 non-null float64\n",
      "rougher.state.floatbank10_c_air               5290 non-null float64\n",
      "rougher.state.floatbank10_c_level             5290 non-null float64\n",
      "rougher.state.floatbank10_d_air               5290 non-null float64\n",
      "rougher.state.floatbank10_d_level             5290 non-null float64\n",
      "rougher.state.floatbank10_e_air               5290 non-null float64\n",
      "rougher.state.floatbank10_e_level             5290 non-null float64\n",
      "rougher.state.floatbank10_f_air               5290 non-null float64\n",
      "rougher.state.floatbank10_f_level             5290 non-null float64\n",
      "secondary_cleaner.state.floatbank2_a_air      5287 non-null float64\n",
      "secondary_cleaner.state.floatbank2_a_level    5290 non-null float64\n",
      "secondary_cleaner.state.floatbank2_b_air      5288 non-null float64\n",
      "secondary_cleaner.state.floatbank2_b_level    5290 non-null float64\n",
      "secondary_cleaner.state.floatbank3_a_air      5281 non-null float64\n",
      "secondary_cleaner.state.floatbank3_a_level    5290 non-null float64\n",
      "secondary_cleaner.state.floatbank3_b_air      5290 non-null float64\n",
      "secondary_cleaner.state.floatbank3_b_level    5290 non-null float64\n",
      "secondary_cleaner.state.floatbank4_a_air      5290 non-null float64\n",
      "secondary_cleaner.state.floatbank4_a_level    5290 non-null float64\n",
      "secondary_cleaner.state.floatbank4_b_air      5290 non-null float64\n",
      "secondary_cleaner.state.floatbank4_b_level    5290 non-null float64\n",
      "secondary_cleaner.state.floatbank5_a_air      5290 non-null float64\n",
      "secondary_cleaner.state.floatbank5_a_level    5290 non-null float64\n",
      "secondary_cleaner.state.floatbank5_b_air      5290 non-null float64\n",
      "secondary_cleaner.state.floatbank5_b_level    5290 non-null float64\n",
      "secondary_cleaner.state.floatbank6_a_air      5290 non-null float64\n",
      "secondary_cleaner.state.floatbank6_a_level    5290 non-null float64\n",
      "dtypes: float64(52), object(1)\n",
      "memory usage: 2.1+ MB\n",
      "\n",
      "Выведем описательные статистики таблицы:\n"
     ]
    },
    {
     "data": {
      "text/html": [
       "<div>\n",
       "<style scoped>\n",
       "    .dataframe tbody tr th:only-of-type {\n",
       "        vertical-align: middle;\n",
       "    }\n",
       "\n",
       "    .dataframe tbody tr th {\n",
       "        vertical-align: top;\n",
       "    }\n",
       "\n",
       "    .dataframe thead th {\n",
       "        text-align: right;\n",
       "    }\n",
       "</style>\n",
       "<table border=\"1\" class=\"dataframe\">\n",
       "  <thead>\n",
       "    <tr style=\"text-align: right;\">\n",
       "      <th></th>\n",
       "      <th>count</th>\n",
       "      <th>mean</th>\n",
       "      <th>std</th>\n",
       "      <th>min</th>\n",
       "      <th>25%</th>\n",
       "      <th>50%</th>\n",
       "      <th>75%</th>\n",
       "      <th>max</th>\n",
       "    </tr>\n",
       "  </thead>\n",
       "  <tbody>\n",
       "    <tr>\n",
       "      <td>primary_cleaner.input.sulfate</td>\n",
       "      <td>5286.0</td>\n",
       "      <td>174.839652</td>\n",
       "      <td>43.027080</td>\n",
       "      <td>2.566156e+00</td>\n",
       "      <td>147.121401</td>\n",
       "      <td>177.828489</td>\n",
       "      <td>208.125438</td>\n",
       "      <td>265.983123</td>\n",
       "    </tr>\n",
       "    <tr>\n",
       "      <td>primary_cleaner.input.depressant</td>\n",
       "      <td>5285.0</td>\n",
       "      <td>8.683596</td>\n",
       "      <td>3.072050</td>\n",
       "      <td>3.839482e-03</td>\n",
       "      <td>6.489555</td>\n",
       "      <td>8.052207</td>\n",
       "      <td>10.027764</td>\n",
       "      <td>40.000000</td>\n",
       "    </tr>\n",
       "    <tr>\n",
       "      <td>primary_cleaner.input.feed_size</td>\n",
       "      <td>5290.0</td>\n",
       "      <td>7.266339</td>\n",
       "      <td>0.610219</td>\n",
       "      <td>5.650000e+00</td>\n",
       "      <td>6.890000</td>\n",
       "      <td>7.250000</td>\n",
       "      <td>7.600000</td>\n",
       "      <td>15.500000</td>\n",
       "    </tr>\n",
       "    <tr>\n",
       "      <td>primary_cleaner.input.xanthate</td>\n",
       "      <td>5286.0</td>\n",
       "      <td>1.383803</td>\n",
       "      <td>0.643474</td>\n",
       "      <td>4.983673e-03</td>\n",
       "      <td>0.907623</td>\n",
       "      <td>1.197610</td>\n",
       "      <td>1.797819</td>\n",
       "      <td>4.102454</td>\n",
       "    </tr>\n",
       "    <tr>\n",
       "      <td>primary_cleaner.state.floatbank8_a_air</td>\n",
       "      <td>5290.0</td>\n",
       "      <td>1539.494325</td>\n",
       "      <td>116.797884</td>\n",
       "      <td>5.445860e-32</td>\n",
       "      <td>1498.935802</td>\n",
       "      <td>1585.129123</td>\n",
       "      <td>1602.076529</td>\n",
       "      <td>2103.103580</td>\n",
       "    </tr>\n",
       "    <tr>\n",
       "      <td>primary_cleaner.state.floatbank8_a_level</td>\n",
       "      <td>5290.0</td>\n",
       "      <td>-497.665883</td>\n",
       "      <td>19.952431</td>\n",
       "      <td>-7.953163e+02</td>\n",
       "      <td>-500.357298</td>\n",
       "      <td>-499.969164</td>\n",
       "      <td>-499.568951</td>\n",
       "      <td>-57.195404</td>\n",
       "    </tr>\n",
       "    <tr>\n",
       "      <td>primary_cleaner.state.floatbank8_b_air</td>\n",
       "      <td>5290.0</td>\n",
       "      <td>1545.174232</td>\n",
       "      <td>122.224588</td>\n",
       "      <td>6.647490e-32</td>\n",
       "      <td>1498.970993</td>\n",
       "      <td>1595.621798</td>\n",
       "      <td>1602.323545</td>\n",
       "      <td>1813.083671</td>\n",
       "    </tr>\n",
       "    <tr>\n",
       "      <td>primary_cleaner.state.floatbank8_b_level</td>\n",
       "      <td>5290.0</td>\n",
       "      <td>-500.273098</td>\n",
       "      <td>32.968307</td>\n",
       "      <td>-7.999970e+02</td>\n",
       "      <td>-500.703002</td>\n",
       "      <td>-500.028514</td>\n",
       "      <td>-499.293257</td>\n",
       "      <td>-142.527229</td>\n",
       "    </tr>\n",
       "    <tr>\n",
       "      <td>primary_cleaner.state.floatbank8_c_air</td>\n",
       "      <td>5290.0</td>\n",
       "      <td>1527.272362</td>\n",
       "      <td>122.538034</td>\n",
       "      <td>4.033736e-32</td>\n",
       "      <td>1473.229862</td>\n",
       "      <td>1549.594682</td>\n",
       "      <td>1601.143775</td>\n",
       "      <td>1715.053773</td>\n",
       "    </tr>\n",
       "    <tr>\n",
       "      <td>primary_cleaner.state.floatbank8_c_level</td>\n",
       "      <td>5290.0</td>\n",
       "      <td>-498.330680</td>\n",
       "      <td>21.964876</td>\n",
       "      <td>-7.999606e+02</td>\n",
       "      <td>-501.018117</td>\n",
       "      <td>-500.017711</td>\n",
       "      <td>-498.994130</td>\n",
       "      <td>-150.937035</td>\n",
       "    </tr>\n",
       "    <tr>\n",
       "      <td>primary_cleaner.state.floatbank8_d_air</td>\n",
       "      <td>5290.0</td>\n",
       "      <td>1544.844335</td>\n",
       "      <td>124.773081</td>\n",
       "      <td>4.039220e-32</td>\n",
       "      <td>1499.481404</td>\n",
       "      <td>1594.579112</td>\n",
       "      <td>1600.964772</td>\n",
       "      <td>1913.256561</td>\n",
       "    </tr>\n",
       "    <tr>\n",
       "      <td>primary_cleaner.state.floatbank8_d_level</td>\n",
       "      <td>5290.0</td>\n",
       "      <td>-500.199527</td>\n",
       "      <td>31.045257</td>\n",
       "      <td>-7.997943e+02</td>\n",
       "      <td>-500.452469</td>\n",
       "      <td>-500.023307</td>\n",
       "      <td>-499.607040</td>\n",
       "      <td>-158.950573</td>\n",
       "    </tr>\n",
       "    <tr>\n",
       "      <td>rougher.input.feed_ag</td>\n",
       "      <td>5290.0</td>\n",
       "      <td>9.371940</td>\n",
       "      <td>1.926264</td>\n",
       "      <td>5.684412e-01</td>\n",
       "      <td>8.112434</td>\n",
       "      <td>9.762654</td>\n",
       "      <td>10.652297</td>\n",
       "      <td>14.406130</td>\n",
       "    </tr>\n",
       "    <tr>\n",
       "      <td>rougher.input.feed_pb</td>\n",
       "      <td>5290.0</td>\n",
       "      <td>3.798082</td>\n",
       "      <td>0.954859</td>\n",
       "      <td>2.736769e-01</td>\n",
       "      <td>3.240251</td>\n",
       "      <td>3.740716</td>\n",
       "      <td>4.282634</td>\n",
       "      <td>6.905684</td>\n",
       "    </tr>\n",
       "    <tr>\n",
       "      <td>rougher.input.feed_rate</td>\n",
       "      <td>5287.0</td>\n",
       "      <td>489.800620</td>\n",
       "      <td>108.036326</td>\n",
       "      <td>2.985849e-03</td>\n",
       "      <td>407.020883</td>\n",
       "      <td>499.051440</td>\n",
       "      <td>575.307213</td>\n",
       "      <td>707.364020</td>\n",
       "    </tr>\n",
       "    <tr>\n",
       "      <td>rougher.input.feed_size</td>\n",
       "      <td>5289.0</td>\n",
       "      <td>55.951097</td>\n",
       "      <td>19.081758</td>\n",
       "      <td>4.636880e-02</td>\n",
       "      <td>43.906347</td>\n",
       "      <td>50.841029</td>\n",
       "      <td>62.431047</td>\n",
       "      <td>392.494040</td>\n",
       "    </tr>\n",
       "    <tr>\n",
       "      <td>rougher.input.feed_sol</td>\n",
       "      <td>5269.0</td>\n",
       "      <td>37.716648</td>\n",
       "      <td>5.491415</td>\n",
       "      <td>1.393488e+00</td>\n",
       "      <td>34.505576</td>\n",
       "      <td>37.980276</td>\n",
       "      <td>41.635385</td>\n",
       "      <td>53.477742</td>\n",
       "    </tr>\n",
       "    <tr>\n",
       "      <td>rougher.input.feed_au</td>\n",
       "      <td>5290.0</td>\n",
       "      <td>9.334682</td>\n",
       "      <td>1.619521</td>\n",
       "      <td>5.686322e-01</td>\n",
       "      <td>8.207814</td>\n",
       "      <td>9.593766</td>\n",
       "      <td>10.463538</td>\n",
       "      <td>13.731330</td>\n",
       "    </tr>\n",
       "    <tr>\n",
       "      <td>rougher.input.floatbank10_sulfate</td>\n",
       "      <td>5285.0</td>\n",
       "      <td>13.855759</td>\n",
       "      <td>3.350852</td>\n",
       "      <td>1.147460e-03</td>\n",
       "      <td>11.995006</td>\n",
       "      <td>14.003126</td>\n",
       "      <td>16.974284</td>\n",
       "      <td>24.280636</td>\n",
       "    </tr>\n",
       "    <tr>\n",
       "      <td>rougher.input.floatbank10_xanthate</td>\n",
       "      <td>5290.0</td>\n",
       "      <td>6.467745</td>\n",
       "      <td>1.065114</td>\n",
       "      <td>5.682328e-04</td>\n",
       "      <td>5.998779</td>\n",
       "      <td>6.498181</td>\n",
       "      <td>7.085457</td>\n",
       "      <td>8.910468</td>\n",
       "    </tr>\n",
       "    <tr>\n",
       "      <td>rougher.input.floatbank11_sulfate</td>\n",
       "      <td>5282.0</td>\n",
       "      <td>13.922328</td>\n",
       "      <td>3.223769</td>\n",
       "      <td>7.673764e-05</td>\n",
       "      <td>11.997200</td>\n",
       "      <td>14.004371</td>\n",
       "      <td>16.959671</td>\n",
       "      <td>24.280966</td>\n",
       "    </tr>\n",
       "    <tr>\n",
       "      <td>rougher.input.floatbank11_xanthate</td>\n",
       "      <td>5265.0</td>\n",
       "      <td>6.512103</td>\n",
       "      <td>0.886989</td>\n",
       "      <td>6.985269e-03</td>\n",
       "      <td>5.999157</td>\n",
       "      <td>6.498744</td>\n",
       "      <td>7.091808</td>\n",
       "      <td>8.621338</td>\n",
       "    </tr>\n",
       "    <tr>\n",
       "      <td>rougher.state.floatbank10_a_air</td>\n",
       "      <td>5290.0</td>\n",
       "      <td>1053.400166</td>\n",
       "      <td>121.139309</td>\n",
       "      <td>-4.206929e-02</td>\n",
       "      <td>999.205344</td>\n",
       "      <td>1000.472055</td>\n",
       "      <td>1006.254299</td>\n",
       "      <td>1423.274687</td>\n",
       "    </tr>\n",
       "    <tr>\n",
       "      <td>rougher.state.floatbank10_a_level</td>\n",
       "      <td>5290.0</td>\n",
       "      <td>-395.732530</td>\n",
       "      <td>91.085505</td>\n",
       "      <td>-6.579498e+02</td>\n",
       "      <td>-499.920565</td>\n",
       "      <td>-399.693363</td>\n",
       "      <td>-300.060056</td>\n",
       "      <td>-273.776101</td>\n",
       "    </tr>\n",
       "    <tr>\n",
       "      <td>rougher.state.floatbank10_b_air</td>\n",
       "      <td>5290.0</td>\n",
       "      <td>1318.926879</td>\n",
       "      <td>156.450366</td>\n",
       "      <td>-7.218064e-01</td>\n",
       "      <td>1200.871883</td>\n",
       "      <td>1302.254995</td>\n",
       "      <td>1433.955649</td>\n",
       "      <td>1706.640419</td>\n",
       "    </tr>\n",
       "    <tr>\n",
       "      <td>rougher.state.floatbank10_b_level</td>\n",
       "      <td>5290.0</td>\n",
       "      <td>-475.241428</td>\n",
       "      <td>45.649466</td>\n",
       "      <td>-6.502453e+02</td>\n",
       "      <td>-500.256114</td>\n",
       "      <td>-499.837803</td>\n",
       "      <td>-450.749619</td>\n",
       "      <td>-298.200051</td>\n",
       "    </tr>\n",
       "    <tr>\n",
       "      <td>rougher.state.floatbank10_c_air</td>\n",
       "      <td>5290.0</td>\n",
       "      <td>1301.595477</td>\n",
       "      <td>171.269667</td>\n",
       "      <td>-5.663551e-02</td>\n",
       "      <td>1199.651371</td>\n",
       "      <td>1300.202274</td>\n",
       "      <td>1406.594956</td>\n",
       "      <td>1731.017788</td>\n",
       "    </tr>\n",
       "    <tr>\n",
       "      <td>rougher.state.floatbank10_c_level</td>\n",
       "      <td>5290.0</td>\n",
       "      <td>-474.836671</td>\n",
       "      <td>45.859866</td>\n",
       "      <td>-6.475444e+02</td>\n",
       "      <td>-500.233831</td>\n",
       "      <td>-499.777222</td>\n",
       "      <td>-451.153188</td>\n",
       "      <td>-298.036852</td>\n",
       "    </tr>\n",
       "    <tr>\n",
       "      <td>rougher.state.floatbank10_d_air</td>\n",
       "      <td>5290.0</td>\n",
       "      <td>1214.847960</td>\n",
       "      <td>185.763319</td>\n",
       "      <td>-9.922190e-01</td>\n",
       "      <td>1093.368068</td>\n",
       "      <td>1207.014092</td>\n",
       "      <td>1391.497269</td>\n",
       "      <td>1775.218584</td>\n",
       "    </tr>\n",
       "    <tr>\n",
       "      <td>rougher.state.floatbank10_d_level</td>\n",
       "      <td>5290.0</td>\n",
       "      <td>-475.682272</td>\n",
       "      <td>47.844967</td>\n",
       "      <td>-6.483907e+02</td>\n",
       "      <td>-500.440610</td>\n",
       "      <td>-499.691917</td>\n",
       "      <td>-452.483463</td>\n",
       "      <td>-76.397327</td>\n",
       "    </tr>\n",
       "    <tr>\n",
       "      <td>rougher.state.floatbank10_e_air</td>\n",
       "      <td>5290.0</td>\n",
       "      <td>1056.648995</td>\n",
       "      <td>131.542839</td>\n",
       "      <td>-1.982295e+00</td>\n",
       "      <td>999.361403</td>\n",
       "      <td>1047.495449</td>\n",
       "      <td>1101.365315</td>\n",
       "      <td>1467.184843</td>\n",
       "    </tr>\n",
       "    <tr>\n",
       "      <td>rougher.state.floatbank10_e_level</td>\n",
       "      <td>5290.0</td>\n",
       "      <td>-469.029688</td>\n",
       "      <td>59.325990</td>\n",
       "      <td>-6.492675e+02</td>\n",
       "      <td>-500.190639</td>\n",
       "      <td>-499.765796</td>\n",
       "      <td>-450.957513</td>\n",
       "      <td>-139.753025</td>\n",
       "    </tr>\n",
       "    <tr>\n",
       "      <td>rougher.state.floatbank10_f_air</td>\n",
       "      <td>5290.0</td>\n",
       "      <td>997.949719</td>\n",
       "      <td>128.218869</td>\n",
       "      <td>-2.593390e+00</td>\n",
       "      <td>901.024994</td>\n",
       "      <td>999.441879</td>\n",
       "      <td>1050.433005</td>\n",
       "      <td>1476.588107</td>\n",
       "    </tr>\n",
       "    <tr>\n",
       "      <td>rougher.state.floatbank10_f_level</td>\n",
       "      <td>5290.0</td>\n",
       "      <td>-470.482465</td>\n",
       "      <td>60.759318</td>\n",
       "      <td>-6.499493e+02</td>\n",
       "      <td>-500.624783</td>\n",
       "      <td>-499.680986</td>\n",
       "      <td>-451.986460</td>\n",
       "      <td>-249.801043</td>\n",
       "    </tr>\n",
       "    <tr>\n",
       "      <td>secondary_cleaner.state.floatbank2_a_air</td>\n",
       "      <td>5287.0</td>\n",
       "      <td>26.312630</td>\n",
       "      <td>3.429852</td>\n",
       "      <td>2.053286e-01</td>\n",
       "      <td>24.942328</td>\n",
       "      <td>26.910569</td>\n",
       "      <td>28.091885</td>\n",
       "      <td>32.138727</td>\n",
       "    </tr>\n",
       "    <tr>\n",
       "      <td>secondary_cleaner.state.floatbank2_a_level</td>\n",
       "      <td>5290.0</td>\n",
       "      <td>-502.750897</td>\n",
       "      <td>28.756505</td>\n",
       "      <td>-7.840911e+02</td>\n",
       "      <td>-500.206517</td>\n",
       "      <td>-500.003902</td>\n",
       "      <td>-499.791639</td>\n",
       "      <td>-300.343670</td>\n",
       "    </tr>\n",
       "    <tr>\n",
       "      <td>secondary_cleaner.state.floatbank2_b_air</td>\n",
       "      <td>5288.0</td>\n",
       "      <td>21.949119</td>\n",
       "      <td>4.354961</td>\n",
       "      <td>6.063908e-03</td>\n",
       "      <td>20.002315</td>\n",
       "      <td>22.942603</td>\n",
       "      <td>24.985013</td>\n",
       "      <td>28.165864</td>\n",
       "    </tr>\n",
       "    <tr>\n",
       "      <td>secondary_cleaner.state.floatbank2_b_level</td>\n",
       "      <td>5290.0</td>\n",
       "      <td>-501.987097</td>\n",
       "      <td>34.582722</td>\n",
       "      <td>-7.977840e+02</td>\n",
       "      <td>-500.218030</td>\n",
       "      <td>-500.019058</td>\n",
       "      <td>-499.831532</td>\n",
       "      <td>-211.999273</td>\n",
       "    </tr>\n",
       "    <tr>\n",
       "      <td>secondary_cleaner.state.floatbank3_a_air</td>\n",
       "      <td>5281.0</td>\n",
       "      <td>25.402926</td>\n",
       "      <td>6.526457</td>\n",
       "      <td>0.000000e+00</td>\n",
       "      <td>22.982288</td>\n",
       "      <td>25.010105</td>\n",
       "      <td>30.002063</td>\n",
       "      <td>40.041997</td>\n",
       "    </tr>\n",
       "    <tr>\n",
       "      <td>secondary_cleaner.state.floatbank3_a_level</td>\n",
       "      <td>5290.0</td>\n",
       "      <td>-507.490314</td>\n",
       "      <td>47.620908</td>\n",
       "      <td>-7.997558e+02</td>\n",
       "      <td>-500.297951</td>\n",
       "      <td>-500.034578</td>\n",
       "      <td>-499.780163</td>\n",
       "      <td>-313.866425</td>\n",
       "    </tr>\n",
       "    <tr>\n",
       "      <td>secondary_cleaner.state.floatbank3_b_air</td>\n",
       "      <td>5290.0</td>\n",
       "      <td>20.982108</td>\n",
       "      <td>6.736179</td>\n",
       "      <td>1.521587e-17</td>\n",
       "      <td>17.967855</td>\n",
       "      <td>21.003164</td>\n",
       "      <td>26.976977</td>\n",
       "      <td>32.039365</td>\n",
       "    </tr>\n",
       "    <tr>\n",
       "      <td>secondary_cleaner.state.floatbank3_b_level</td>\n",
       "      <td>5290.0</td>\n",
       "      <td>-506.627916</td>\n",
       "      <td>44.528673</td>\n",
       "      <td>-8.093330e+02</td>\n",
       "      <td>-500.145128</td>\n",
       "      <td>-500.013819</td>\n",
       "      <td>-499.890608</td>\n",
       "      <td>-202.277366</td>\n",
       "    </tr>\n",
       "    <tr>\n",
       "      <td>secondary_cleaner.state.floatbank4_a_air</td>\n",
       "      <td>5290.0</td>\n",
       "      <td>16.320074</td>\n",
       "      <td>3.493583</td>\n",
       "      <td>1.079872e-16</td>\n",
       "      <td>14.036177</td>\n",
       "      <td>17.008468</td>\n",
       "      <td>18.038619</td>\n",
       "      <td>30.051797</td>\n",
       "    </tr>\n",
       "    <tr>\n",
       "      <td>secondary_cleaner.state.floatbank4_a_level</td>\n",
       "      <td>5290.0</td>\n",
       "      <td>-505.144570</td>\n",
       "      <td>31.427337</td>\n",
       "      <td>-7.997985e+02</td>\n",
       "      <td>-500.868258</td>\n",
       "      <td>-500.115727</td>\n",
       "      <td>-499.404224</td>\n",
       "      <td>-401.565212</td>\n",
       "    </tr>\n",
       "    <tr>\n",
       "      <td>secondary_cleaner.state.floatbank4_b_air</td>\n",
       "      <td>5290.0</td>\n",
       "      <td>13.735444</td>\n",
       "      <td>3.430484</td>\n",
       "      <td>2.489718e-17</td>\n",
       "      <td>12.028625</td>\n",
       "      <td>14.964860</td>\n",
       "      <td>15.962125</td>\n",
       "      <td>31.269706</td>\n",
       "    </tr>\n",
       "    <tr>\n",
       "      <td>secondary_cleaner.state.floatbank4_b_level</td>\n",
       "      <td>5290.0</td>\n",
       "      <td>-463.349858</td>\n",
       "      <td>86.189107</td>\n",
       "      <td>-8.008369e+02</td>\n",
       "      <td>-500.323028</td>\n",
       "      <td>-499.576513</td>\n",
       "      <td>-400.933805</td>\n",
       "      <td>-6.506986</td>\n",
       "    </tr>\n",
       "    <tr>\n",
       "      <td>secondary_cleaner.state.floatbank5_a_air</td>\n",
       "      <td>5290.0</td>\n",
       "      <td>12.804186</td>\n",
       "      <td>3.026591</td>\n",
       "      <td>6.922662e-02</td>\n",
       "      <td>10.914838</td>\n",
       "      <td>12.954182</td>\n",
       "      <td>15.097528</td>\n",
       "      <td>25.258848</td>\n",
       "    </tr>\n",
       "    <tr>\n",
       "      <td>secondary_cleaner.state.floatbank5_a_level</td>\n",
       "      <td>5290.0</td>\n",
       "      <td>-501.329122</td>\n",
       "      <td>17.951495</td>\n",
       "      <td>-7.973240e+02</td>\n",
       "      <td>-500.726841</td>\n",
       "      <td>-499.990332</td>\n",
       "      <td>-499.283191</td>\n",
       "      <td>-244.483566</td>\n",
       "    </tr>\n",
       "    <tr>\n",
       "      <td>secondary_cleaner.state.floatbank5_b_air</td>\n",
       "      <td>5290.0</td>\n",
       "      <td>9.881145</td>\n",
       "      <td>2.868205</td>\n",
       "      <td>5.280828e-01</td>\n",
       "      <td>8.036719</td>\n",
       "      <td>10.004301</td>\n",
       "      <td>11.997467</td>\n",
       "      <td>14.086866</td>\n",
       "    </tr>\n",
       "    <tr>\n",
       "      <td>secondary_cleaner.state.floatbank5_b_level</td>\n",
       "      <td>5290.0</td>\n",
       "      <td>-495.663398</td>\n",
       "      <td>34.535007</td>\n",
       "      <td>-8.002203e+02</td>\n",
       "      <td>-500.194668</td>\n",
       "      <td>-499.990535</td>\n",
       "      <td>-499.719913</td>\n",
       "      <td>-137.740004</td>\n",
       "    </tr>\n",
       "    <tr>\n",
       "      <td>secondary_cleaner.state.floatbank6_a_air</td>\n",
       "      <td>5290.0</td>\n",
       "      <td>17.304935</td>\n",
       "      <td>4.536544</td>\n",
       "      <td>-7.942623e-02</td>\n",
       "      <td>13.997317</td>\n",
       "      <td>16.014935</td>\n",
       "      <td>21.020013</td>\n",
       "      <td>26.705889</td>\n",
       "    </tr>\n",
       "    <tr>\n",
       "      <td>secondary_cleaner.state.floatbank6_a_level</td>\n",
       "      <td>5290.0</td>\n",
       "      <td>-501.793193</td>\n",
       "      <td>39.044215</td>\n",
       "      <td>-8.097415e+02</td>\n",
       "      <td>-500.690984</td>\n",
       "      <td>-500.007126</td>\n",
       "      <td>-499.373018</td>\n",
       "      <td>-123.307487</td>\n",
       "    </tr>\n",
       "  </tbody>\n",
       "</table>\n",
       "</div>"
      ],
      "text/plain": [
       "                                             count         mean         std  \\\n",
       "primary_cleaner.input.sulfate               5286.0   174.839652   43.027080   \n",
       "primary_cleaner.input.depressant            5285.0     8.683596    3.072050   \n",
       "primary_cleaner.input.feed_size             5290.0     7.266339    0.610219   \n",
       "primary_cleaner.input.xanthate              5286.0     1.383803    0.643474   \n",
       "primary_cleaner.state.floatbank8_a_air      5290.0  1539.494325  116.797884   \n",
       "primary_cleaner.state.floatbank8_a_level    5290.0  -497.665883   19.952431   \n",
       "primary_cleaner.state.floatbank8_b_air      5290.0  1545.174232  122.224588   \n",
       "primary_cleaner.state.floatbank8_b_level    5290.0  -500.273098   32.968307   \n",
       "primary_cleaner.state.floatbank8_c_air      5290.0  1527.272362  122.538034   \n",
       "primary_cleaner.state.floatbank8_c_level    5290.0  -498.330680   21.964876   \n",
       "primary_cleaner.state.floatbank8_d_air      5290.0  1544.844335  124.773081   \n",
       "primary_cleaner.state.floatbank8_d_level    5290.0  -500.199527   31.045257   \n",
       "rougher.input.feed_ag                       5290.0     9.371940    1.926264   \n",
       "rougher.input.feed_pb                       5290.0     3.798082    0.954859   \n",
       "rougher.input.feed_rate                     5287.0   489.800620  108.036326   \n",
       "rougher.input.feed_size                     5289.0    55.951097   19.081758   \n",
       "rougher.input.feed_sol                      5269.0    37.716648    5.491415   \n",
       "rougher.input.feed_au                       5290.0     9.334682    1.619521   \n",
       "rougher.input.floatbank10_sulfate           5285.0    13.855759    3.350852   \n",
       "rougher.input.floatbank10_xanthate          5290.0     6.467745    1.065114   \n",
       "rougher.input.floatbank11_sulfate           5282.0    13.922328    3.223769   \n",
       "rougher.input.floatbank11_xanthate          5265.0     6.512103    0.886989   \n",
       "rougher.state.floatbank10_a_air             5290.0  1053.400166  121.139309   \n",
       "rougher.state.floatbank10_a_level           5290.0  -395.732530   91.085505   \n",
       "rougher.state.floatbank10_b_air             5290.0  1318.926879  156.450366   \n",
       "rougher.state.floatbank10_b_level           5290.0  -475.241428   45.649466   \n",
       "rougher.state.floatbank10_c_air             5290.0  1301.595477  171.269667   \n",
       "rougher.state.floatbank10_c_level           5290.0  -474.836671   45.859866   \n",
       "rougher.state.floatbank10_d_air             5290.0  1214.847960  185.763319   \n",
       "rougher.state.floatbank10_d_level           5290.0  -475.682272   47.844967   \n",
       "rougher.state.floatbank10_e_air             5290.0  1056.648995  131.542839   \n",
       "rougher.state.floatbank10_e_level           5290.0  -469.029688   59.325990   \n",
       "rougher.state.floatbank10_f_air             5290.0   997.949719  128.218869   \n",
       "rougher.state.floatbank10_f_level           5290.0  -470.482465   60.759318   \n",
       "secondary_cleaner.state.floatbank2_a_air    5287.0    26.312630    3.429852   \n",
       "secondary_cleaner.state.floatbank2_a_level  5290.0  -502.750897   28.756505   \n",
       "secondary_cleaner.state.floatbank2_b_air    5288.0    21.949119    4.354961   \n",
       "secondary_cleaner.state.floatbank2_b_level  5290.0  -501.987097   34.582722   \n",
       "secondary_cleaner.state.floatbank3_a_air    5281.0    25.402926    6.526457   \n",
       "secondary_cleaner.state.floatbank3_a_level  5290.0  -507.490314   47.620908   \n",
       "secondary_cleaner.state.floatbank3_b_air    5290.0    20.982108    6.736179   \n",
       "secondary_cleaner.state.floatbank3_b_level  5290.0  -506.627916   44.528673   \n",
       "secondary_cleaner.state.floatbank4_a_air    5290.0    16.320074    3.493583   \n",
       "secondary_cleaner.state.floatbank4_a_level  5290.0  -505.144570   31.427337   \n",
       "secondary_cleaner.state.floatbank4_b_air    5290.0    13.735444    3.430484   \n",
       "secondary_cleaner.state.floatbank4_b_level  5290.0  -463.349858   86.189107   \n",
       "secondary_cleaner.state.floatbank5_a_air    5290.0    12.804186    3.026591   \n",
       "secondary_cleaner.state.floatbank5_a_level  5290.0  -501.329122   17.951495   \n",
       "secondary_cleaner.state.floatbank5_b_air    5290.0     9.881145    2.868205   \n",
       "secondary_cleaner.state.floatbank5_b_level  5290.0  -495.663398   34.535007   \n",
       "secondary_cleaner.state.floatbank6_a_air    5290.0    17.304935    4.536544   \n",
       "secondary_cleaner.state.floatbank6_a_level  5290.0  -501.793193   39.044215   \n",
       "\n",
       "                                                     min          25%  \\\n",
       "primary_cleaner.input.sulfate               2.566156e+00   147.121401   \n",
       "primary_cleaner.input.depressant            3.839482e-03     6.489555   \n",
       "primary_cleaner.input.feed_size             5.650000e+00     6.890000   \n",
       "primary_cleaner.input.xanthate              4.983673e-03     0.907623   \n",
       "primary_cleaner.state.floatbank8_a_air      5.445860e-32  1498.935802   \n",
       "primary_cleaner.state.floatbank8_a_level   -7.953163e+02  -500.357298   \n",
       "primary_cleaner.state.floatbank8_b_air      6.647490e-32  1498.970993   \n",
       "primary_cleaner.state.floatbank8_b_level   -7.999970e+02  -500.703002   \n",
       "primary_cleaner.state.floatbank8_c_air      4.033736e-32  1473.229862   \n",
       "primary_cleaner.state.floatbank8_c_level   -7.999606e+02  -501.018117   \n",
       "primary_cleaner.state.floatbank8_d_air      4.039220e-32  1499.481404   \n",
       "primary_cleaner.state.floatbank8_d_level   -7.997943e+02  -500.452469   \n",
       "rougher.input.feed_ag                       5.684412e-01     8.112434   \n",
       "rougher.input.feed_pb                       2.736769e-01     3.240251   \n",
       "rougher.input.feed_rate                     2.985849e-03   407.020883   \n",
       "rougher.input.feed_size                     4.636880e-02    43.906347   \n",
       "rougher.input.feed_sol                      1.393488e+00    34.505576   \n",
       "rougher.input.feed_au                       5.686322e-01     8.207814   \n",
       "rougher.input.floatbank10_sulfate           1.147460e-03    11.995006   \n",
       "rougher.input.floatbank10_xanthate          5.682328e-04     5.998779   \n",
       "rougher.input.floatbank11_sulfate           7.673764e-05    11.997200   \n",
       "rougher.input.floatbank11_xanthate          6.985269e-03     5.999157   \n",
       "rougher.state.floatbank10_a_air            -4.206929e-02   999.205344   \n",
       "rougher.state.floatbank10_a_level          -6.579498e+02  -499.920565   \n",
       "rougher.state.floatbank10_b_air            -7.218064e-01  1200.871883   \n",
       "rougher.state.floatbank10_b_level          -6.502453e+02  -500.256114   \n",
       "rougher.state.floatbank10_c_air            -5.663551e-02  1199.651371   \n",
       "rougher.state.floatbank10_c_level          -6.475444e+02  -500.233831   \n",
       "rougher.state.floatbank10_d_air            -9.922190e-01  1093.368068   \n",
       "rougher.state.floatbank10_d_level          -6.483907e+02  -500.440610   \n",
       "rougher.state.floatbank10_e_air            -1.982295e+00   999.361403   \n",
       "rougher.state.floatbank10_e_level          -6.492675e+02  -500.190639   \n",
       "rougher.state.floatbank10_f_air            -2.593390e+00   901.024994   \n",
       "rougher.state.floatbank10_f_level          -6.499493e+02  -500.624783   \n",
       "secondary_cleaner.state.floatbank2_a_air    2.053286e-01    24.942328   \n",
       "secondary_cleaner.state.floatbank2_a_level -7.840911e+02  -500.206517   \n",
       "secondary_cleaner.state.floatbank2_b_air    6.063908e-03    20.002315   \n",
       "secondary_cleaner.state.floatbank2_b_level -7.977840e+02  -500.218030   \n",
       "secondary_cleaner.state.floatbank3_a_air    0.000000e+00    22.982288   \n",
       "secondary_cleaner.state.floatbank3_a_level -7.997558e+02  -500.297951   \n",
       "secondary_cleaner.state.floatbank3_b_air    1.521587e-17    17.967855   \n",
       "secondary_cleaner.state.floatbank3_b_level -8.093330e+02  -500.145128   \n",
       "secondary_cleaner.state.floatbank4_a_air    1.079872e-16    14.036177   \n",
       "secondary_cleaner.state.floatbank4_a_level -7.997985e+02  -500.868258   \n",
       "secondary_cleaner.state.floatbank4_b_air    2.489718e-17    12.028625   \n",
       "secondary_cleaner.state.floatbank4_b_level -8.008369e+02  -500.323028   \n",
       "secondary_cleaner.state.floatbank5_a_air    6.922662e-02    10.914838   \n",
       "secondary_cleaner.state.floatbank5_a_level -7.973240e+02  -500.726841   \n",
       "secondary_cleaner.state.floatbank5_b_air    5.280828e-01     8.036719   \n",
       "secondary_cleaner.state.floatbank5_b_level -8.002203e+02  -500.194668   \n",
       "secondary_cleaner.state.floatbank6_a_air   -7.942623e-02    13.997317   \n",
       "secondary_cleaner.state.floatbank6_a_level -8.097415e+02  -500.690984   \n",
       "\n",
       "                                                    50%          75%  \\\n",
       "primary_cleaner.input.sulfate                177.828489   208.125438   \n",
       "primary_cleaner.input.depressant               8.052207    10.027764   \n",
       "primary_cleaner.input.feed_size                7.250000     7.600000   \n",
       "primary_cleaner.input.xanthate                 1.197610     1.797819   \n",
       "primary_cleaner.state.floatbank8_a_air      1585.129123  1602.076529   \n",
       "primary_cleaner.state.floatbank8_a_level    -499.969164  -499.568951   \n",
       "primary_cleaner.state.floatbank8_b_air      1595.621798  1602.323545   \n",
       "primary_cleaner.state.floatbank8_b_level    -500.028514  -499.293257   \n",
       "primary_cleaner.state.floatbank8_c_air      1549.594682  1601.143775   \n",
       "primary_cleaner.state.floatbank8_c_level    -500.017711  -498.994130   \n",
       "primary_cleaner.state.floatbank8_d_air      1594.579112  1600.964772   \n",
       "primary_cleaner.state.floatbank8_d_level    -500.023307  -499.607040   \n",
       "rougher.input.feed_ag                          9.762654    10.652297   \n",
       "rougher.input.feed_pb                          3.740716     4.282634   \n",
       "rougher.input.feed_rate                      499.051440   575.307213   \n",
       "rougher.input.feed_size                       50.841029    62.431047   \n",
       "rougher.input.feed_sol                        37.980276    41.635385   \n",
       "rougher.input.feed_au                          9.593766    10.463538   \n",
       "rougher.input.floatbank10_sulfate             14.003126    16.974284   \n",
       "rougher.input.floatbank10_xanthate             6.498181     7.085457   \n",
       "rougher.input.floatbank11_sulfate             14.004371    16.959671   \n",
       "rougher.input.floatbank11_xanthate             6.498744     7.091808   \n",
       "rougher.state.floatbank10_a_air             1000.472055  1006.254299   \n",
       "rougher.state.floatbank10_a_level           -399.693363  -300.060056   \n",
       "rougher.state.floatbank10_b_air             1302.254995  1433.955649   \n",
       "rougher.state.floatbank10_b_level           -499.837803  -450.749619   \n",
       "rougher.state.floatbank10_c_air             1300.202274  1406.594956   \n",
       "rougher.state.floatbank10_c_level           -499.777222  -451.153188   \n",
       "rougher.state.floatbank10_d_air             1207.014092  1391.497269   \n",
       "rougher.state.floatbank10_d_level           -499.691917  -452.483463   \n",
       "rougher.state.floatbank10_e_air             1047.495449  1101.365315   \n",
       "rougher.state.floatbank10_e_level           -499.765796  -450.957513   \n",
       "rougher.state.floatbank10_f_air              999.441879  1050.433005   \n",
       "rougher.state.floatbank10_f_level           -499.680986  -451.986460   \n",
       "secondary_cleaner.state.floatbank2_a_air      26.910569    28.091885   \n",
       "secondary_cleaner.state.floatbank2_a_level  -500.003902  -499.791639   \n",
       "secondary_cleaner.state.floatbank2_b_air      22.942603    24.985013   \n",
       "secondary_cleaner.state.floatbank2_b_level  -500.019058  -499.831532   \n",
       "secondary_cleaner.state.floatbank3_a_air      25.010105    30.002063   \n",
       "secondary_cleaner.state.floatbank3_a_level  -500.034578  -499.780163   \n",
       "secondary_cleaner.state.floatbank3_b_air      21.003164    26.976977   \n",
       "secondary_cleaner.state.floatbank3_b_level  -500.013819  -499.890608   \n",
       "secondary_cleaner.state.floatbank4_a_air      17.008468    18.038619   \n",
       "secondary_cleaner.state.floatbank4_a_level  -500.115727  -499.404224   \n",
       "secondary_cleaner.state.floatbank4_b_air      14.964860    15.962125   \n",
       "secondary_cleaner.state.floatbank4_b_level  -499.576513  -400.933805   \n",
       "secondary_cleaner.state.floatbank5_a_air      12.954182    15.097528   \n",
       "secondary_cleaner.state.floatbank5_a_level  -499.990332  -499.283191   \n",
       "secondary_cleaner.state.floatbank5_b_air      10.004301    11.997467   \n",
       "secondary_cleaner.state.floatbank5_b_level  -499.990535  -499.719913   \n",
       "secondary_cleaner.state.floatbank6_a_air      16.014935    21.020013   \n",
       "secondary_cleaner.state.floatbank6_a_level  -500.007126  -499.373018   \n",
       "\n",
       "                                                    max  \n",
       "primary_cleaner.input.sulfate                265.983123  \n",
       "primary_cleaner.input.depressant              40.000000  \n",
       "primary_cleaner.input.feed_size               15.500000  \n",
       "primary_cleaner.input.xanthate                 4.102454  \n",
       "primary_cleaner.state.floatbank8_a_air      2103.103580  \n",
       "primary_cleaner.state.floatbank8_a_level     -57.195404  \n",
       "primary_cleaner.state.floatbank8_b_air      1813.083671  \n",
       "primary_cleaner.state.floatbank8_b_level    -142.527229  \n",
       "primary_cleaner.state.floatbank8_c_air      1715.053773  \n",
       "primary_cleaner.state.floatbank8_c_level    -150.937035  \n",
       "primary_cleaner.state.floatbank8_d_air      1913.256561  \n",
       "primary_cleaner.state.floatbank8_d_level    -158.950573  \n",
       "rougher.input.feed_ag                         14.406130  \n",
       "rougher.input.feed_pb                          6.905684  \n",
       "rougher.input.feed_rate                      707.364020  \n",
       "rougher.input.feed_size                      392.494040  \n",
       "rougher.input.feed_sol                        53.477742  \n",
       "rougher.input.feed_au                         13.731330  \n",
       "rougher.input.floatbank10_sulfate             24.280636  \n",
       "rougher.input.floatbank10_xanthate             8.910468  \n",
       "rougher.input.floatbank11_sulfate             24.280966  \n",
       "rougher.input.floatbank11_xanthate             8.621338  \n",
       "rougher.state.floatbank10_a_air             1423.274687  \n",
       "rougher.state.floatbank10_a_level           -273.776101  \n",
       "rougher.state.floatbank10_b_air             1706.640419  \n",
       "rougher.state.floatbank10_b_level           -298.200051  \n",
       "rougher.state.floatbank10_c_air             1731.017788  \n",
       "rougher.state.floatbank10_c_level           -298.036852  \n",
       "rougher.state.floatbank10_d_air             1775.218584  \n",
       "rougher.state.floatbank10_d_level            -76.397327  \n",
       "rougher.state.floatbank10_e_air             1467.184843  \n",
       "rougher.state.floatbank10_e_level           -139.753025  \n",
       "rougher.state.floatbank10_f_air             1476.588107  \n",
       "rougher.state.floatbank10_f_level           -249.801043  \n",
       "secondary_cleaner.state.floatbank2_a_air      32.138727  \n",
       "secondary_cleaner.state.floatbank2_a_level  -300.343670  \n",
       "secondary_cleaner.state.floatbank2_b_air      28.165864  \n",
       "secondary_cleaner.state.floatbank2_b_level  -211.999273  \n",
       "secondary_cleaner.state.floatbank3_a_air      40.041997  \n",
       "secondary_cleaner.state.floatbank3_a_level  -313.866425  \n",
       "secondary_cleaner.state.floatbank3_b_air      32.039365  \n",
       "secondary_cleaner.state.floatbank3_b_level  -202.277366  \n",
       "secondary_cleaner.state.floatbank4_a_air      30.051797  \n",
       "secondary_cleaner.state.floatbank4_a_level  -401.565212  \n",
       "secondary_cleaner.state.floatbank4_b_air      31.269706  \n",
       "secondary_cleaner.state.floatbank4_b_level    -6.506986  \n",
       "secondary_cleaner.state.floatbank5_a_air      25.258848  \n",
       "secondary_cleaner.state.floatbank5_a_level  -244.483566  \n",
       "secondary_cleaner.state.floatbank5_b_air      14.086866  \n",
       "secondary_cleaner.state.floatbank5_b_level  -137.740004  \n",
       "secondary_cleaner.state.floatbank6_a_air      26.705889  \n",
       "secondary_cleaner.state.floatbank6_a_level  -123.307487  "
      ]
     },
     "metadata": {},
     "output_type": "display_data"
    },
    {
     "name": "stdout",
     "output_type": "stream",
     "text": [
      "Проверим таблицу на пропуски: \n"
     ]
    },
    {
     "data": {
      "text/plain": [
       "date                                           0\n",
       "primary_cleaner.input.sulfate                  4\n",
       "primary_cleaner.input.depressant               5\n",
       "primary_cleaner.input.feed_size                0\n",
       "primary_cleaner.input.xanthate                 4\n",
       "primary_cleaner.state.floatbank8_a_air         0\n",
       "primary_cleaner.state.floatbank8_a_level       0\n",
       "primary_cleaner.state.floatbank8_b_air         0\n",
       "primary_cleaner.state.floatbank8_b_level       0\n",
       "primary_cleaner.state.floatbank8_c_air         0\n",
       "primary_cleaner.state.floatbank8_c_level       0\n",
       "primary_cleaner.state.floatbank8_d_air         0\n",
       "primary_cleaner.state.floatbank8_d_level       0\n",
       "rougher.input.feed_ag                          0\n",
       "rougher.input.feed_pb                          0\n",
       "rougher.input.feed_rate                        3\n",
       "rougher.input.feed_size                        1\n",
       "rougher.input.feed_sol                        21\n",
       "rougher.input.feed_au                          0\n",
       "rougher.input.floatbank10_sulfate              5\n",
       "rougher.input.floatbank10_xanthate             0\n",
       "rougher.input.floatbank11_sulfate              8\n",
       "rougher.input.floatbank11_xanthate            25\n",
       "rougher.state.floatbank10_a_air                0\n",
       "rougher.state.floatbank10_a_level              0\n",
       "rougher.state.floatbank10_b_air                0\n",
       "rougher.state.floatbank10_b_level              0\n",
       "rougher.state.floatbank10_c_air                0\n",
       "rougher.state.floatbank10_c_level              0\n",
       "rougher.state.floatbank10_d_air                0\n",
       "rougher.state.floatbank10_d_level              0\n",
       "rougher.state.floatbank10_e_air                0\n",
       "rougher.state.floatbank10_e_level              0\n",
       "rougher.state.floatbank10_f_air                0\n",
       "rougher.state.floatbank10_f_level              0\n",
       "secondary_cleaner.state.floatbank2_a_air       3\n",
       "secondary_cleaner.state.floatbank2_a_level     0\n",
       "secondary_cleaner.state.floatbank2_b_air       2\n",
       "secondary_cleaner.state.floatbank2_b_level     0\n",
       "secondary_cleaner.state.floatbank3_a_air       9\n",
       "secondary_cleaner.state.floatbank3_a_level     0\n",
       "secondary_cleaner.state.floatbank3_b_air       0\n",
       "secondary_cleaner.state.floatbank3_b_level     0\n",
       "secondary_cleaner.state.floatbank4_a_air       0\n",
       "secondary_cleaner.state.floatbank4_a_level     0\n",
       "secondary_cleaner.state.floatbank4_b_air       0\n",
       "secondary_cleaner.state.floatbank4_b_level     0\n",
       "secondary_cleaner.state.floatbank5_a_air       0\n",
       "secondary_cleaner.state.floatbank5_a_level     0\n",
       "secondary_cleaner.state.floatbank5_b_air       0\n",
       "secondary_cleaner.state.floatbank5_b_level     0\n",
       "secondary_cleaner.state.floatbank6_a_air       0\n",
       "secondary_cleaner.state.floatbank6_a_level     0\n",
       "dtype: int64"
      ]
     },
     "metadata": {},
     "output_type": "display_data"
    },
    {
     "name": "stdout",
     "output_type": "stream",
     "text": [
      "Проверим таблицу на дубликаты: \n"
     ]
    },
    {
     "data": {
      "text/plain": [
       "0"
      ]
     },
     "metadata": {},
     "output_type": "display_data"
    },
    {
     "name": "stdout",
     "output_type": "stream",
     "text": [
      "Информация о таблице full:\n",
      "Выведем первые 5 строк таблицы:\n"
     ]
    },
    {
     "data": {
      "text/html": [
       "<div>\n",
       "<style scoped>\n",
       "    .dataframe tbody tr th:only-of-type {\n",
       "        vertical-align: middle;\n",
       "    }\n",
       "\n",
       "    .dataframe tbody tr th {\n",
       "        vertical-align: top;\n",
       "    }\n",
       "\n",
       "    .dataframe thead th {\n",
       "        text-align: right;\n",
       "    }\n",
       "</style>\n",
       "<table border=\"1\" class=\"dataframe\">\n",
       "  <thead>\n",
       "    <tr style=\"text-align: right;\">\n",
       "      <th></th>\n",
       "      <th>date</th>\n",
       "      <th>final.output.concentrate_ag</th>\n",
       "      <th>final.output.concentrate_pb</th>\n",
       "      <th>final.output.concentrate_sol</th>\n",
       "      <th>final.output.concentrate_au</th>\n",
       "      <th>final.output.recovery</th>\n",
       "      <th>final.output.tail_ag</th>\n",
       "      <th>final.output.tail_pb</th>\n",
       "      <th>final.output.tail_sol</th>\n",
       "      <th>final.output.tail_au</th>\n",
       "      <th>...</th>\n",
       "      <th>secondary_cleaner.state.floatbank4_a_air</th>\n",
       "      <th>secondary_cleaner.state.floatbank4_a_level</th>\n",
       "      <th>secondary_cleaner.state.floatbank4_b_air</th>\n",
       "      <th>secondary_cleaner.state.floatbank4_b_level</th>\n",
       "      <th>secondary_cleaner.state.floatbank5_a_air</th>\n",
       "      <th>secondary_cleaner.state.floatbank5_a_level</th>\n",
       "      <th>secondary_cleaner.state.floatbank5_b_air</th>\n",
       "      <th>secondary_cleaner.state.floatbank5_b_level</th>\n",
       "      <th>secondary_cleaner.state.floatbank6_a_air</th>\n",
       "      <th>secondary_cleaner.state.floatbank6_a_level</th>\n",
       "    </tr>\n",
       "  </thead>\n",
       "  <tbody>\n",
       "    <tr>\n",
       "      <td>0</td>\n",
       "      <td>2016-01-15 00:00:00</td>\n",
       "      <td>6.055403</td>\n",
       "      <td>9.889648</td>\n",
       "      <td>5.507324</td>\n",
       "      <td>42.192020</td>\n",
       "      <td>70.541216</td>\n",
       "      <td>10.411962</td>\n",
       "      <td>0.895447</td>\n",
       "      <td>16.904297</td>\n",
       "      <td>2.143149</td>\n",
       "      <td>...</td>\n",
       "      <td>14.016835</td>\n",
       "      <td>-502.488007</td>\n",
       "      <td>12.099931</td>\n",
       "      <td>-504.715942</td>\n",
       "      <td>9.925633</td>\n",
       "      <td>-498.310211</td>\n",
       "      <td>8.079666</td>\n",
       "      <td>-500.470978</td>\n",
       "      <td>14.151341</td>\n",
       "      <td>-605.841980</td>\n",
       "    </tr>\n",
       "    <tr>\n",
       "      <td>1</td>\n",
       "      <td>2016-01-15 01:00:00</td>\n",
       "      <td>6.029369</td>\n",
       "      <td>9.968944</td>\n",
       "      <td>5.257781</td>\n",
       "      <td>42.701629</td>\n",
       "      <td>69.266198</td>\n",
       "      <td>10.462676</td>\n",
       "      <td>0.927452</td>\n",
       "      <td>16.634514</td>\n",
       "      <td>2.224930</td>\n",
       "      <td>...</td>\n",
       "      <td>13.992281</td>\n",
       "      <td>-505.503262</td>\n",
       "      <td>11.950531</td>\n",
       "      <td>-501.331529</td>\n",
       "      <td>10.039245</td>\n",
       "      <td>-500.169983</td>\n",
       "      <td>7.984757</td>\n",
       "      <td>-500.582168</td>\n",
       "      <td>13.998353</td>\n",
       "      <td>-599.787184</td>\n",
       "    </tr>\n",
       "    <tr>\n",
       "      <td>2</td>\n",
       "      <td>2016-01-15 02:00:00</td>\n",
       "      <td>6.055926</td>\n",
       "      <td>10.213995</td>\n",
       "      <td>5.383759</td>\n",
       "      <td>42.657501</td>\n",
       "      <td>68.116445</td>\n",
       "      <td>10.507046</td>\n",
       "      <td>0.953716</td>\n",
       "      <td>16.208849</td>\n",
       "      <td>2.257889</td>\n",
       "      <td>...</td>\n",
       "      <td>14.015015</td>\n",
       "      <td>-502.520901</td>\n",
       "      <td>11.912783</td>\n",
       "      <td>-501.133383</td>\n",
       "      <td>10.070913</td>\n",
       "      <td>-500.129135</td>\n",
       "      <td>8.013877</td>\n",
       "      <td>-500.517572</td>\n",
       "      <td>14.028663</td>\n",
       "      <td>-601.427363</td>\n",
       "    </tr>\n",
       "    <tr>\n",
       "      <td>3</td>\n",
       "      <td>2016-01-15 03:00:00</td>\n",
       "      <td>6.047977</td>\n",
       "      <td>9.977019</td>\n",
       "      <td>4.858634</td>\n",
       "      <td>42.689819</td>\n",
       "      <td>68.347543</td>\n",
       "      <td>10.422762</td>\n",
       "      <td>0.883763</td>\n",
       "      <td>16.532835</td>\n",
       "      <td>2.146849</td>\n",
       "      <td>...</td>\n",
       "      <td>14.036510</td>\n",
       "      <td>-500.857308</td>\n",
       "      <td>11.999550</td>\n",
       "      <td>-501.193686</td>\n",
       "      <td>9.970366</td>\n",
       "      <td>-499.201640</td>\n",
       "      <td>7.977324</td>\n",
       "      <td>-500.255908</td>\n",
       "      <td>14.005551</td>\n",
       "      <td>-599.996129</td>\n",
       "    </tr>\n",
       "    <tr>\n",
       "      <td>4</td>\n",
       "      <td>2016-01-15 04:00:00</td>\n",
       "      <td>6.148599</td>\n",
       "      <td>10.142511</td>\n",
       "      <td>4.939416</td>\n",
       "      <td>42.774141</td>\n",
       "      <td>66.927016</td>\n",
       "      <td>10.360302</td>\n",
       "      <td>0.792826</td>\n",
       "      <td>16.525686</td>\n",
       "      <td>2.055292</td>\n",
       "      <td>...</td>\n",
       "      <td>14.027298</td>\n",
       "      <td>-499.838632</td>\n",
       "      <td>11.953070</td>\n",
       "      <td>-501.053894</td>\n",
       "      <td>9.925709</td>\n",
       "      <td>-501.686727</td>\n",
       "      <td>7.894242</td>\n",
       "      <td>-500.356035</td>\n",
       "      <td>13.996647</td>\n",
       "      <td>-601.496691</td>\n",
       "    </tr>\n",
       "  </tbody>\n",
       "</table>\n",
       "<p>5 rows × 87 columns</p>\n",
       "</div>"
      ],
      "text/plain": [
       "                  date  final.output.concentrate_ag  \\\n",
       "0  2016-01-15 00:00:00                     6.055403   \n",
       "1  2016-01-15 01:00:00                     6.029369   \n",
       "2  2016-01-15 02:00:00                     6.055926   \n",
       "3  2016-01-15 03:00:00                     6.047977   \n",
       "4  2016-01-15 04:00:00                     6.148599   \n",
       "\n",
       "   final.output.concentrate_pb  final.output.concentrate_sol  \\\n",
       "0                     9.889648                      5.507324   \n",
       "1                     9.968944                      5.257781   \n",
       "2                    10.213995                      5.383759   \n",
       "3                     9.977019                      4.858634   \n",
       "4                    10.142511                      4.939416   \n",
       "\n",
       "   final.output.concentrate_au  final.output.recovery  final.output.tail_ag  \\\n",
       "0                    42.192020              70.541216             10.411962   \n",
       "1                    42.701629              69.266198             10.462676   \n",
       "2                    42.657501              68.116445             10.507046   \n",
       "3                    42.689819              68.347543             10.422762   \n",
       "4                    42.774141              66.927016             10.360302   \n",
       "\n",
       "   final.output.tail_pb  final.output.tail_sol  final.output.tail_au  ...  \\\n",
       "0              0.895447              16.904297              2.143149  ...   \n",
       "1              0.927452              16.634514              2.224930  ...   \n",
       "2              0.953716              16.208849              2.257889  ...   \n",
       "3              0.883763              16.532835              2.146849  ...   \n",
       "4              0.792826              16.525686              2.055292  ...   \n",
       "\n",
       "   secondary_cleaner.state.floatbank4_a_air  \\\n",
       "0                                 14.016835   \n",
       "1                                 13.992281   \n",
       "2                                 14.015015   \n",
       "3                                 14.036510   \n",
       "4                                 14.027298   \n",
       "\n",
       "   secondary_cleaner.state.floatbank4_a_level  \\\n",
       "0                                 -502.488007   \n",
       "1                                 -505.503262   \n",
       "2                                 -502.520901   \n",
       "3                                 -500.857308   \n",
       "4                                 -499.838632   \n",
       "\n",
       "   secondary_cleaner.state.floatbank4_b_air  \\\n",
       "0                                 12.099931   \n",
       "1                                 11.950531   \n",
       "2                                 11.912783   \n",
       "3                                 11.999550   \n",
       "4                                 11.953070   \n",
       "\n",
       "   secondary_cleaner.state.floatbank4_b_level  \\\n",
       "0                                 -504.715942   \n",
       "1                                 -501.331529   \n",
       "2                                 -501.133383   \n",
       "3                                 -501.193686   \n",
       "4                                 -501.053894   \n",
       "\n",
       "   secondary_cleaner.state.floatbank5_a_air  \\\n",
       "0                                  9.925633   \n",
       "1                                 10.039245   \n",
       "2                                 10.070913   \n",
       "3                                  9.970366   \n",
       "4                                  9.925709   \n",
       "\n",
       "   secondary_cleaner.state.floatbank5_a_level  \\\n",
       "0                                 -498.310211   \n",
       "1                                 -500.169983   \n",
       "2                                 -500.129135   \n",
       "3                                 -499.201640   \n",
       "4                                 -501.686727   \n",
       "\n",
       "   secondary_cleaner.state.floatbank5_b_air  \\\n",
       "0                                  8.079666   \n",
       "1                                  7.984757   \n",
       "2                                  8.013877   \n",
       "3                                  7.977324   \n",
       "4                                  7.894242   \n",
       "\n",
       "   secondary_cleaner.state.floatbank5_b_level  \\\n",
       "0                                 -500.470978   \n",
       "1                                 -500.582168   \n",
       "2                                 -500.517572   \n",
       "3                                 -500.255908   \n",
       "4                                 -500.356035   \n",
       "\n",
       "   secondary_cleaner.state.floatbank6_a_air  \\\n",
       "0                                 14.151341   \n",
       "1                                 13.998353   \n",
       "2                                 14.028663   \n",
       "3                                 14.005551   \n",
       "4                                 13.996647   \n",
       "\n",
       "   secondary_cleaner.state.floatbank6_a_level  \n",
       "0                                 -605.841980  \n",
       "1                                 -599.787184  \n",
       "2                                 -601.427363  \n",
       "3                                 -599.996129  \n",
       "4                                 -601.496691  \n",
       "\n",
       "[5 rows x 87 columns]"
      ]
     },
     "metadata": {},
     "output_type": "display_data"
    },
    {
     "name": "stdout",
     "output_type": "stream",
     "text": [
      "Выведем последние 5 строк таблицы:\n"
     ]
    },
    {
     "data": {
      "text/html": [
       "<div>\n",
       "<style scoped>\n",
       "    .dataframe tbody tr th:only-of-type {\n",
       "        vertical-align: middle;\n",
       "    }\n",
       "\n",
       "    .dataframe tbody tr th {\n",
       "        vertical-align: top;\n",
       "    }\n",
       "\n",
       "    .dataframe thead th {\n",
       "        text-align: right;\n",
       "    }\n",
       "</style>\n",
       "<table border=\"1\" class=\"dataframe\">\n",
       "  <thead>\n",
       "    <tr style=\"text-align: right;\">\n",
       "      <th></th>\n",
       "      <th>date</th>\n",
       "      <th>final.output.concentrate_ag</th>\n",
       "      <th>final.output.concentrate_pb</th>\n",
       "      <th>final.output.concentrate_sol</th>\n",
       "      <th>final.output.concentrate_au</th>\n",
       "      <th>final.output.recovery</th>\n",
       "      <th>final.output.tail_ag</th>\n",
       "      <th>final.output.tail_pb</th>\n",
       "      <th>final.output.tail_sol</th>\n",
       "      <th>final.output.tail_au</th>\n",
       "      <th>...</th>\n",
       "      <th>secondary_cleaner.state.floatbank4_a_air</th>\n",
       "      <th>secondary_cleaner.state.floatbank4_a_level</th>\n",
       "      <th>secondary_cleaner.state.floatbank4_b_air</th>\n",
       "      <th>secondary_cleaner.state.floatbank4_b_level</th>\n",
       "      <th>secondary_cleaner.state.floatbank5_a_air</th>\n",
       "      <th>secondary_cleaner.state.floatbank5_a_level</th>\n",
       "      <th>secondary_cleaner.state.floatbank5_b_air</th>\n",
       "      <th>secondary_cleaner.state.floatbank5_b_level</th>\n",
       "      <th>secondary_cleaner.state.floatbank6_a_air</th>\n",
       "      <th>secondary_cleaner.state.floatbank6_a_level</th>\n",
       "    </tr>\n",
       "  </thead>\n",
       "  <tbody>\n",
       "    <tr>\n",
       "      <td>19434</td>\n",
       "      <td>2018-08-18 06:59:59</td>\n",
       "      <td>3.224920</td>\n",
       "      <td>11.356233</td>\n",
       "      <td>6.803482</td>\n",
       "      <td>46.713954</td>\n",
       "      <td>73.755150</td>\n",
       "      <td>8.769645</td>\n",
       "      <td>3.141541</td>\n",
       "      <td>10.403181</td>\n",
       "      <td>1.529220</td>\n",
       "      <td>...</td>\n",
       "      <td>23.031497</td>\n",
       "      <td>-501.167942</td>\n",
       "      <td>20.007571</td>\n",
       "      <td>-499.740028</td>\n",
       "      <td>18.006038</td>\n",
       "      <td>-499.834374</td>\n",
       "      <td>13.001114</td>\n",
       "      <td>-500.155694</td>\n",
       "      <td>20.007840</td>\n",
       "      <td>-501.296428</td>\n",
       "    </tr>\n",
       "    <tr>\n",
       "      <td>19435</td>\n",
       "      <td>2018-08-18 07:59:59</td>\n",
       "      <td>3.195978</td>\n",
       "      <td>11.349355</td>\n",
       "      <td>6.862249</td>\n",
       "      <td>46.866780</td>\n",
       "      <td>69.049291</td>\n",
       "      <td>8.897321</td>\n",
       "      <td>3.130493</td>\n",
       "      <td>10.549470</td>\n",
       "      <td>1.612542</td>\n",
       "      <td>...</td>\n",
       "      <td>22.960095</td>\n",
       "      <td>-501.612783</td>\n",
       "      <td>20.035660</td>\n",
       "      <td>-500.251357</td>\n",
       "      <td>17.998535</td>\n",
       "      <td>-500.395178</td>\n",
       "      <td>12.954048</td>\n",
       "      <td>-499.895163</td>\n",
       "      <td>19.968498</td>\n",
       "      <td>-501.041608</td>\n",
       "    </tr>\n",
       "    <tr>\n",
       "      <td>19436</td>\n",
       "      <td>2018-08-18 08:59:59</td>\n",
       "      <td>3.109998</td>\n",
       "      <td>11.434366</td>\n",
       "      <td>6.886013</td>\n",
       "      <td>46.795691</td>\n",
       "      <td>67.002189</td>\n",
       "      <td>8.529606</td>\n",
       "      <td>2.911418</td>\n",
       "      <td>11.115147</td>\n",
       "      <td>1.596616</td>\n",
       "      <td>...</td>\n",
       "      <td>23.015718</td>\n",
       "      <td>-501.711599</td>\n",
       "      <td>19.951231</td>\n",
       "      <td>-499.857027</td>\n",
       "      <td>18.019543</td>\n",
       "      <td>-500.451156</td>\n",
       "      <td>13.023431</td>\n",
       "      <td>-499.914391</td>\n",
       "      <td>19.990885</td>\n",
       "      <td>-501.518452</td>\n",
       "    </tr>\n",
       "    <tr>\n",
       "      <td>19437</td>\n",
       "      <td>2018-08-18 09:59:59</td>\n",
       "      <td>3.367241</td>\n",
       "      <td>11.625587</td>\n",
       "      <td>6.799433</td>\n",
       "      <td>46.408188</td>\n",
       "      <td>65.523246</td>\n",
       "      <td>8.777171</td>\n",
       "      <td>2.819214</td>\n",
       "      <td>10.463847</td>\n",
       "      <td>1.602879</td>\n",
       "      <td>...</td>\n",
       "      <td>23.024963</td>\n",
       "      <td>-501.153409</td>\n",
       "      <td>20.054122</td>\n",
       "      <td>-500.314711</td>\n",
       "      <td>17.979515</td>\n",
       "      <td>-499.272871</td>\n",
       "      <td>12.992404</td>\n",
       "      <td>-499.976268</td>\n",
       "      <td>20.013986</td>\n",
       "      <td>-500.625471</td>\n",
       "    </tr>\n",
       "    <tr>\n",
       "      <td>19438</td>\n",
       "      <td>2018-08-18 10:59:59</td>\n",
       "      <td>3.598375</td>\n",
       "      <td>11.737832</td>\n",
       "      <td>6.717509</td>\n",
       "      <td>46.299438</td>\n",
       "      <td>70.281454</td>\n",
       "      <td>8.406690</td>\n",
       "      <td>2.517518</td>\n",
       "      <td>10.652193</td>\n",
       "      <td>1.389434</td>\n",
       "      <td>...</td>\n",
       "      <td>23.018622</td>\n",
       "      <td>-500.492702</td>\n",
       "      <td>20.020205</td>\n",
       "      <td>-500.220296</td>\n",
       "      <td>17.963512</td>\n",
       "      <td>-499.939490</td>\n",
       "      <td>12.990306</td>\n",
       "      <td>-500.080993</td>\n",
       "      <td>19.990336</td>\n",
       "      <td>-499.191575</td>\n",
       "    </tr>\n",
       "  </tbody>\n",
       "</table>\n",
       "<p>5 rows × 87 columns</p>\n",
       "</div>"
      ],
      "text/plain": [
       "                      date  final.output.concentrate_ag  \\\n",
       "19434  2018-08-18 06:59:59                     3.224920   \n",
       "19435  2018-08-18 07:59:59                     3.195978   \n",
       "19436  2018-08-18 08:59:59                     3.109998   \n",
       "19437  2018-08-18 09:59:59                     3.367241   \n",
       "19438  2018-08-18 10:59:59                     3.598375   \n",
       "\n",
       "       final.output.concentrate_pb  final.output.concentrate_sol  \\\n",
       "19434                    11.356233                      6.803482   \n",
       "19435                    11.349355                      6.862249   \n",
       "19436                    11.434366                      6.886013   \n",
       "19437                    11.625587                      6.799433   \n",
       "19438                    11.737832                      6.717509   \n",
       "\n",
       "       final.output.concentrate_au  final.output.recovery  \\\n",
       "19434                    46.713954              73.755150   \n",
       "19435                    46.866780              69.049291   \n",
       "19436                    46.795691              67.002189   \n",
       "19437                    46.408188              65.523246   \n",
       "19438                    46.299438              70.281454   \n",
       "\n",
       "       final.output.tail_ag  final.output.tail_pb  final.output.tail_sol  \\\n",
       "19434              8.769645              3.141541              10.403181   \n",
       "19435              8.897321              3.130493              10.549470   \n",
       "19436              8.529606              2.911418              11.115147   \n",
       "19437              8.777171              2.819214              10.463847   \n",
       "19438              8.406690              2.517518              10.652193   \n",
       "\n",
       "       final.output.tail_au  ...  secondary_cleaner.state.floatbank4_a_air  \\\n",
       "19434              1.529220  ...                                 23.031497   \n",
       "19435              1.612542  ...                                 22.960095   \n",
       "19436              1.596616  ...                                 23.015718   \n",
       "19437              1.602879  ...                                 23.024963   \n",
       "19438              1.389434  ...                                 23.018622   \n",
       "\n",
       "       secondary_cleaner.state.floatbank4_a_level  \\\n",
       "19434                                 -501.167942   \n",
       "19435                                 -501.612783   \n",
       "19436                                 -501.711599   \n",
       "19437                                 -501.153409   \n",
       "19438                                 -500.492702   \n",
       "\n",
       "       secondary_cleaner.state.floatbank4_b_air  \\\n",
       "19434                                 20.007571   \n",
       "19435                                 20.035660   \n",
       "19436                                 19.951231   \n",
       "19437                                 20.054122   \n",
       "19438                                 20.020205   \n",
       "\n",
       "       secondary_cleaner.state.floatbank4_b_level  \\\n",
       "19434                                 -499.740028   \n",
       "19435                                 -500.251357   \n",
       "19436                                 -499.857027   \n",
       "19437                                 -500.314711   \n",
       "19438                                 -500.220296   \n",
       "\n",
       "       secondary_cleaner.state.floatbank5_a_air  \\\n",
       "19434                                 18.006038   \n",
       "19435                                 17.998535   \n",
       "19436                                 18.019543   \n",
       "19437                                 17.979515   \n",
       "19438                                 17.963512   \n",
       "\n",
       "       secondary_cleaner.state.floatbank5_a_level  \\\n",
       "19434                                 -499.834374   \n",
       "19435                                 -500.395178   \n",
       "19436                                 -500.451156   \n",
       "19437                                 -499.272871   \n",
       "19438                                 -499.939490   \n",
       "\n",
       "       secondary_cleaner.state.floatbank5_b_air  \\\n",
       "19434                                 13.001114   \n",
       "19435                                 12.954048   \n",
       "19436                                 13.023431   \n",
       "19437                                 12.992404   \n",
       "19438                                 12.990306   \n",
       "\n",
       "       secondary_cleaner.state.floatbank5_b_level  \\\n",
       "19434                                 -500.155694   \n",
       "19435                                 -499.895163   \n",
       "19436                                 -499.914391   \n",
       "19437                                 -499.976268   \n",
       "19438                                 -500.080993   \n",
       "\n",
       "       secondary_cleaner.state.floatbank6_a_air  \\\n",
       "19434                                 20.007840   \n",
       "19435                                 19.968498   \n",
       "19436                                 19.990885   \n",
       "19437                                 20.013986   \n",
       "19438                                 19.990336   \n",
       "\n",
       "       secondary_cleaner.state.floatbank6_a_level  \n",
       "19434                                 -501.296428  \n",
       "19435                                 -501.041608  \n",
       "19436                                 -501.518452  \n",
       "19437                                 -500.625471  \n",
       "19438                                 -499.191575  \n",
       "\n",
       "[5 rows x 87 columns]"
      ]
     },
     "metadata": {},
     "output_type": "display_data"
    },
    {
     "name": "stdout",
     "output_type": "stream",
     "text": [
      "Выведем случайные 5 строк таблицы:\n"
     ]
    },
    {
     "data": {
      "text/html": [
       "<div>\n",
       "<style scoped>\n",
       "    .dataframe tbody tr th:only-of-type {\n",
       "        vertical-align: middle;\n",
       "    }\n",
       "\n",
       "    .dataframe tbody tr th {\n",
       "        vertical-align: top;\n",
       "    }\n",
       "\n",
       "    .dataframe thead th {\n",
       "        text-align: right;\n",
       "    }\n",
       "</style>\n",
       "<table border=\"1\" class=\"dataframe\">\n",
       "  <thead>\n",
       "    <tr style=\"text-align: right;\">\n",
       "      <th></th>\n",
       "      <th>date</th>\n",
       "      <th>final.output.concentrate_ag</th>\n",
       "      <th>final.output.concentrate_pb</th>\n",
       "      <th>final.output.concentrate_sol</th>\n",
       "      <th>final.output.concentrate_au</th>\n",
       "      <th>final.output.recovery</th>\n",
       "      <th>final.output.tail_ag</th>\n",
       "      <th>final.output.tail_pb</th>\n",
       "      <th>final.output.tail_sol</th>\n",
       "      <th>final.output.tail_au</th>\n",
       "      <th>...</th>\n",
       "      <th>secondary_cleaner.state.floatbank4_a_air</th>\n",
       "      <th>secondary_cleaner.state.floatbank4_a_level</th>\n",
       "      <th>secondary_cleaner.state.floatbank4_b_air</th>\n",
       "      <th>secondary_cleaner.state.floatbank4_b_level</th>\n",
       "      <th>secondary_cleaner.state.floatbank5_a_air</th>\n",
       "      <th>secondary_cleaner.state.floatbank5_a_level</th>\n",
       "      <th>secondary_cleaner.state.floatbank5_b_air</th>\n",
       "      <th>secondary_cleaner.state.floatbank5_b_level</th>\n",
       "      <th>secondary_cleaner.state.floatbank6_a_air</th>\n",
       "      <th>secondary_cleaner.state.floatbank6_a_level</th>\n",
       "    </tr>\n",
       "  </thead>\n",
       "  <tbody>\n",
       "    <tr>\n",
       "      <td>5264</td>\n",
       "      <td>2016-10-04 14:59:59</td>\n",
       "      <td>6.794600</td>\n",
       "      <td>9.054957</td>\n",
       "      <td>16.004123</td>\n",
       "      <td>43.648261</td>\n",
       "      <td>69.972633</td>\n",
       "      <td>11.069316</td>\n",
       "      <td>3.055067</td>\n",
       "      <td>9.719336</td>\n",
       "      <td>3.595190</td>\n",
       "      <td>...</td>\n",
       "      <td>14.028001</td>\n",
       "      <td>-498.910216</td>\n",
       "      <td>13.032441</td>\n",
       "      <td>-500.358286</td>\n",
       "      <td>10.143363</td>\n",
       "      <td>-499.314485</td>\n",
       "      <td>8.147565</td>\n",
       "      <td>-499.650507</td>\n",
       "      <td>22.997377</td>\n",
       "      <td>-499.900959</td>\n",
       "    </tr>\n",
       "    <tr>\n",
       "      <td>12699</td>\n",
       "      <td>2017-09-17 21:59:59</td>\n",
       "      <td>5.110333</td>\n",
       "      <td>11.114576</td>\n",
       "      <td>7.572588</td>\n",
       "      <td>44.725173</td>\n",
       "      <td>69.415110</td>\n",
       "      <td>7.484338</td>\n",
       "      <td>2.814891</td>\n",
       "      <td>12.347273</td>\n",
       "      <td>2.740724</td>\n",
       "      <td>...</td>\n",
       "      <td>12.005280</td>\n",
       "      <td>-502.249154</td>\n",
       "      <td>8.916441</td>\n",
       "      <td>-401.636419</td>\n",
       "      <td>9.017671</td>\n",
       "      <td>-501.322562</td>\n",
       "      <td>7.018271</td>\n",
       "      <td>-500.837070</td>\n",
       "      <td>10.039155</td>\n",
       "      <td>-503.676153</td>\n",
       "    </tr>\n",
       "    <tr>\n",
       "      <td>4329</td>\n",
       "      <td>2016-08-16 14:59:59</td>\n",
       "      <td>6.441173</td>\n",
       "      <td>9.064088</td>\n",
       "      <td>11.273021</td>\n",
       "      <td>43.482633</td>\n",
       "      <td>74.092709</td>\n",
       "      <td>9.838359</td>\n",
       "      <td>2.748540</td>\n",
       "      <td>9.996859</td>\n",
       "      <td>3.466387</td>\n",
       "      <td>...</td>\n",
       "      <td>17.880962</td>\n",
       "      <td>-399.457823</td>\n",
       "      <td>10.029009</td>\n",
       "      <td>-400.402439</td>\n",
       "      <td>14.936650</td>\n",
       "      <td>-395.346330</td>\n",
       "      <td>4.959238</td>\n",
       "      <td>-400.204035</td>\n",
       "      <td>22.990928</td>\n",
       "      <td>-496.222805</td>\n",
       "    </tr>\n",
       "    <tr>\n",
       "      <td>558</td>\n",
       "      <td>2016-02-09 18:00:00</td>\n",
       "      <td>4.993571</td>\n",
       "      <td>11.321386</td>\n",
       "      <td>5.691245</td>\n",
       "      <td>43.493480</td>\n",
       "      <td>63.580614</td>\n",
       "      <td>10.676063</td>\n",
       "      <td>1.487393</td>\n",
       "      <td>18.834149</td>\n",
       "      <td>2.309034</td>\n",
       "      <td>...</td>\n",
       "      <td>20.016661</td>\n",
       "      <td>-496.383512</td>\n",
       "      <td>15.964599</td>\n",
       "      <td>-498.280089</td>\n",
       "      <td>18.051289</td>\n",
       "      <td>-500.899548</td>\n",
       "      <td>15.992132</td>\n",
       "      <td>-500.148410</td>\n",
       "      <td>24.973915</td>\n",
       "      <td>-499.066802</td>\n",
       "    </tr>\n",
       "    <tr>\n",
       "      <td>3300</td>\n",
       "      <td>2016-06-27 02:59:59</td>\n",
       "      <td>5.355851</td>\n",
       "      <td>7.035347</td>\n",
       "      <td>8.940517</td>\n",
       "      <td>47.588582</td>\n",
       "      <td>63.054522</td>\n",
       "      <td>9.120233</td>\n",
       "      <td>1.494015</td>\n",
       "      <td>13.932352</td>\n",
       "      <td>3.027215</td>\n",
       "      <td>...</td>\n",
       "      <td>17.025755</td>\n",
       "      <td>-499.709920</td>\n",
       "      <td>8.866634</td>\n",
       "      <td>-500.210883</td>\n",
       "      <td>16.966829</td>\n",
       "      <td>-499.891129</td>\n",
       "      <td>7.921560</td>\n",
       "      <td>-500.585852</td>\n",
       "      <td>24.985645</td>\n",
       "      <td>-501.155498</td>\n",
       "    </tr>\n",
       "  </tbody>\n",
       "</table>\n",
       "<p>5 rows × 87 columns</p>\n",
       "</div>"
      ],
      "text/plain": [
       "                      date  final.output.concentrate_ag  \\\n",
       "5264   2016-10-04 14:59:59                     6.794600   \n",
       "12699  2017-09-17 21:59:59                     5.110333   \n",
       "4329   2016-08-16 14:59:59                     6.441173   \n",
       "558    2016-02-09 18:00:00                     4.993571   \n",
       "3300   2016-06-27 02:59:59                     5.355851   \n",
       "\n",
       "       final.output.concentrate_pb  final.output.concentrate_sol  \\\n",
       "5264                      9.054957                     16.004123   \n",
       "12699                    11.114576                      7.572588   \n",
       "4329                      9.064088                     11.273021   \n",
       "558                      11.321386                      5.691245   \n",
       "3300                      7.035347                      8.940517   \n",
       "\n",
       "       final.output.concentrate_au  final.output.recovery  \\\n",
       "5264                     43.648261              69.972633   \n",
       "12699                    44.725173              69.415110   \n",
       "4329                     43.482633              74.092709   \n",
       "558                      43.493480              63.580614   \n",
       "3300                     47.588582              63.054522   \n",
       "\n",
       "       final.output.tail_ag  final.output.tail_pb  final.output.tail_sol  \\\n",
       "5264              11.069316              3.055067               9.719336   \n",
       "12699              7.484338              2.814891              12.347273   \n",
       "4329               9.838359              2.748540               9.996859   \n",
       "558               10.676063              1.487393              18.834149   \n",
       "3300               9.120233              1.494015              13.932352   \n",
       "\n",
       "       final.output.tail_au  ...  secondary_cleaner.state.floatbank4_a_air  \\\n",
       "5264               3.595190  ...                                 14.028001   \n",
       "12699              2.740724  ...                                 12.005280   \n",
       "4329               3.466387  ...                                 17.880962   \n",
       "558                2.309034  ...                                 20.016661   \n",
       "3300               3.027215  ...                                 17.025755   \n",
       "\n",
       "       secondary_cleaner.state.floatbank4_a_level  \\\n",
       "5264                                  -498.910216   \n",
       "12699                                 -502.249154   \n",
       "4329                                  -399.457823   \n",
       "558                                   -496.383512   \n",
       "3300                                  -499.709920   \n",
       "\n",
       "       secondary_cleaner.state.floatbank4_b_air  \\\n",
       "5264                                  13.032441   \n",
       "12699                                  8.916441   \n",
       "4329                                  10.029009   \n",
       "558                                   15.964599   \n",
       "3300                                   8.866634   \n",
       "\n",
       "       secondary_cleaner.state.floatbank4_b_level  \\\n",
       "5264                                  -500.358286   \n",
       "12699                                 -401.636419   \n",
       "4329                                  -400.402439   \n",
       "558                                   -498.280089   \n",
       "3300                                  -500.210883   \n",
       "\n",
       "       secondary_cleaner.state.floatbank5_a_air  \\\n",
       "5264                                  10.143363   \n",
       "12699                                  9.017671   \n",
       "4329                                  14.936650   \n",
       "558                                   18.051289   \n",
       "3300                                  16.966829   \n",
       "\n",
       "       secondary_cleaner.state.floatbank5_a_level  \\\n",
       "5264                                  -499.314485   \n",
       "12699                                 -501.322562   \n",
       "4329                                  -395.346330   \n",
       "558                                   -500.899548   \n",
       "3300                                  -499.891129   \n",
       "\n",
       "       secondary_cleaner.state.floatbank5_b_air  \\\n",
       "5264                                   8.147565   \n",
       "12699                                  7.018271   \n",
       "4329                                   4.959238   \n",
       "558                                   15.992132   \n",
       "3300                                   7.921560   \n",
       "\n",
       "       secondary_cleaner.state.floatbank5_b_level  \\\n",
       "5264                                  -499.650507   \n",
       "12699                                 -500.837070   \n",
       "4329                                  -400.204035   \n",
       "558                                   -500.148410   \n",
       "3300                                  -500.585852   \n",
       "\n",
       "       secondary_cleaner.state.floatbank6_a_air  \\\n",
       "5264                                  22.997377   \n",
       "12699                                 10.039155   \n",
       "4329                                  22.990928   \n",
       "558                                   24.973915   \n",
       "3300                                  24.985645   \n",
       "\n",
       "       secondary_cleaner.state.floatbank6_a_level  \n",
       "5264                                  -499.900959  \n",
       "12699                                 -503.676153  \n",
       "4329                                  -496.222805  \n",
       "558                                   -499.066802  \n",
       "3300                                  -501.155498  \n",
       "\n",
       "[5 rows x 87 columns]"
      ]
     },
     "metadata": {},
     "output_type": "display_data"
    },
    {
     "name": "stdout",
     "output_type": "stream",
     "text": [
      "Выведем основную информацию о таблице:\n",
      "<class 'pandas.core.frame.DataFrame'>\n",
      "RangeIndex: 19439 entries, 0 to 19438\n",
      "Data columns (total 87 columns):\n",
      "date                                                  19439 non-null object\n",
      "final.output.concentrate_ag                           19438 non-null float64\n",
      "final.output.concentrate_pb                           19438 non-null float64\n",
      "final.output.concentrate_sol                          19228 non-null float64\n",
      "final.output.concentrate_au                           19439 non-null float64\n",
      "final.output.recovery                                 19439 non-null float64\n",
      "final.output.tail_ag                                  19438 non-null float64\n",
      "final.output.tail_pb                                  19338 non-null float64\n",
      "final.output.tail_sol                                 19433 non-null float64\n",
      "final.output.tail_au                                  19439 non-null float64\n",
      "primary_cleaner.input.sulfate                         19415 non-null float64\n",
      "primary_cleaner.input.depressant                      19402 non-null float64\n",
      "primary_cleaner.input.feed_size                       19439 non-null float64\n",
      "primary_cleaner.input.xanthate                        19335 non-null float64\n",
      "primary_cleaner.output.concentrate_ag                 19439 non-null float64\n",
      "primary_cleaner.output.concentrate_pb                 19323 non-null float64\n",
      "primary_cleaner.output.concentrate_sol                19069 non-null float64\n",
      "primary_cleaner.output.concentrate_au                 19439 non-null float64\n",
      "primary_cleaner.output.tail_ag                        19435 non-null float64\n",
      "primary_cleaner.output.tail_pb                        19418 non-null float64\n",
      "primary_cleaner.output.tail_sol                       19377 non-null float64\n",
      "primary_cleaner.output.tail_au                        19439 non-null float64\n",
      "primary_cleaner.state.floatbank8_a_air                19435 non-null float64\n",
      "primary_cleaner.state.floatbank8_a_level              19438 non-null float64\n",
      "primary_cleaner.state.floatbank8_b_air                19435 non-null float64\n",
      "primary_cleaner.state.floatbank8_b_level              19438 non-null float64\n",
      "primary_cleaner.state.floatbank8_c_air                19437 non-null float64\n",
      "primary_cleaner.state.floatbank8_c_level              19438 non-null float64\n",
      "primary_cleaner.state.floatbank8_d_air                19436 non-null float64\n",
      "primary_cleaner.state.floatbank8_d_level              19438 non-null float64\n",
      "rougher.calculation.sulfate_to_au_concentrate         19437 non-null float64\n",
      "rougher.calculation.floatbank10_sulfate_to_au_feed    19437 non-null float64\n",
      "rougher.calculation.floatbank11_sulfate_to_au_feed    19437 non-null float64\n",
      "rougher.calculation.au_pb_ratio                       19439 non-null float64\n",
      "rougher.input.feed_ag                                 19439 non-null float64\n",
      "rougher.input.feed_pb                                 19339 non-null float64\n",
      "rougher.input.feed_rate                               19428 non-null float64\n",
      "rougher.input.feed_size                               19294 non-null float64\n",
      "rougher.input.feed_sol                                19340 non-null float64\n",
      "rougher.input.feed_au                                 19439 non-null float64\n",
      "rougher.input.floatbank10_sulfate                     19405 non-null float64\n",
      "rougher.input.floatbank10_xanthate                    19431 non-null float64\n",
      "rougher.input.floatbank11_sulfate                     19395 non-null float64\n",
      "rougher.input.floatbank11_xanthate                    18986 non-null float64\n",
      "rougher.output.concentrate_ag                         19439 non-null float64\n",
      "rougher.output.concentrate_pb                         19439 non-null float64\n",
      "rougher.output.concentrate_sol                        19416 non-null float64\n",
      "rougher.output.concentrate_au                         19439 non-null float64\n",
      "rougher.output.recovery                               19439 non-null float64\n",
      "rougher.output.tail_ag                                19438 non-null float64\n",
      "rougher.output.tail_pb                                19439 non-null float64\n",
      "rougher.output.tail_sol                               19439 non-null float64\n",
      "rougher.output.tail_au                                19439 non-null float64\n",
      "rougher.state.floatbank10_a_air                       19438 non-null float64\n",
      "rougher.state.floatbank10_a_level                     19438 non-null float64\n",
      "rougher.state.floatbank10_b_air                       19438 non-null float64\n",
      "rougher.state.floatbank10_b_level                     19438 non-null float64\n",
      "rougher.state.floatbank10_c_air                       19438 non-null float64\n",
      "rougher.state.floatbank10_c_level                     19438 non-null float64\n",
      "rougher.state.floatbank10_d_air                       19439 non-null float64\n",
      "rougher.state.floatbank10_d_level                     19439 non-null float64\n",
      "rougher.state.floatbank10_e_air                       19003 non-null float64\n",
      "rougher.state.floatbank10_e_level                     19439 non-null float64\n",
      "rougher.state.floatbank10_f_air                       19439 non-null float64\n",
      "rougher.state.floatbank10_f_level                     19439 non-null float64\n",
      "secondary_cleaner.output.tail_ag                      19437 non-null float64\n",
      "secondary_cleaner.output.tail_pb                      19427 non-null float64\n",
      "secondary_cleaner.output.tail_sol                     17691 non-null float64\n",
      "secondary_cleaner.output.tail_au                      19439 non-null float64\n",
      "secondary_cleaner.state.floatbank2_a_air              19219 non-null float64\n",
      "secondary_cleaner.state.floatbank2_a_level            19438 non-null float64\n",
      "secondary_cleaner.state.floatbank2_b_air              19416 non-null float64\n",
      "secondary_cleaner.state.floatbank2_b_level            19438 non-null float64\n",
      "secondary_cleaner.state.floatbank3_a_air              19426 non-null float64\n",
      "secondary_cleaner.state.floatbank3_a_level            19438 non-null float64\n",
      "secondary_cleaner.state.floatbank3_b_air              19438 non-null float64\n",
      "secondary_cleaner.state.floatbank3_b_level            19438 non-null float64\n",
      "secondary_cleaner.state.floatbank4_a_air              19433 non-null float64\n",
      "secondary_cleaner.state.floatbank4_a_level            19438 non-null float64\n",
      "secondary_cleaner.state.floatbank4_b_air              19438 non-null float64\n",
      "secondary_cleaner.state.floatbank4_b_level            19438 non-null float64\n",
      "secondary_cleaner.state.floatbank5_a_air              19438 non-null float64\n",
      "secondary_cleaner.state.floatbank5_a_level            19438 non-null float64\n",
      "secondary_cleaner.state.floatbank5_b_air              19438 non-null float64\n",
      "secondary_cleaner.state.floatbank5_b_level            19438 non-null float64\n",
      "secondary_cleaner.state.floatbank6_a_air              19437 non-null float64\n",
      "secondary_cleaner.state.floatbank6_a_level            19438 non-null float64\n",
      "dtypes: float64(86), object(1)\n",
      "memory usage: 12.9+ MB\n",
      "\n",
      "Выведем описательные статистики таблицы:\n"
     ]
    },
    {
     "data": {
      "text/html": [
       "<div>\n",
       "<style scoped>\n",
       "    .dataframe tbody tr th:only-of-type {\n",
       "        vertical-align: middle;\n",
       "    }\n",
       "\n",
       "    .dataframe tbody tr th {\n",
       "        vertical-align: top;\n",
       "    }\n",
       "\n",
       "    .dataframe thead th {\n",
       "        text-align: right;\n",
       "    }\n",
       "</style>\n",
       "<table border=\"1\" class=\"dataframe\">\n",
       "  <thead>\n",
       "    <tr style=\"text-align: right;\">\n",
       "      <th></th>\n",
       "      <th>count</th>\n",
       "      <th>mean</th>\n",
       "      <th>std</th>\n",
       "      <th>min</th>\n",
       "      <th>25%</th>\n",
       "      <th>50%</th>\n",
       "      <th>75%</th>\n",
       "      <th>max</th>\n",
       "    </tr>\n",
       "  </thead>\n",
       "  <tbody>\n",
       "    <tr>\n",
       "      <td>final.output.concentrate_ag</td>\n",
       "      <td>19438.0</td>\n",
       "      <td>5.168470</td>\n",
       "      <td>1.372348</td>\n",
       "      <td>0.000000</td>\n",
       "      <td>4.251240</td>\n",
       "      <td>5.066094</td>\n",
       "      <td>5.895527</td>\n",
       "      <td>16.001945</td>\n",
       "    </tr>\n",
       "    <tr>\n",
       "      <td>final.output.concentrate_pb</td>\n",
       "      <td>19438.0</td>\n",
       "      <td>9.978895</td>\n",
       "      <td>1.669240</td>\n",
       "      <td>0.000000</td>\n",
       "      <td>9.137262</td>\n",
       "      <td>10.102433</td>\n",
       "      <td>11.035769</td>\n",
       "      <td>17.031899</td>\n",
       "    </tr>\n",
       "    <tr>\n",
       "      <td>final.output.concentrate_sol</td>\n",
       "      <td>19228.0</td>\n",
       "      <td>9.501224</td>\n",
       "      <td>2.787537</td>\n",
       "      <td>0.000000</td>\n",
       "      <td>7.722820</td>\n",
       "      <td>9.218961</td>\n",
       "      <td>10.947813</td>\n",
       "      <td>19.615720</td>\n",
       "    </tr>\n",
       "    <tr>\n",
       "      <td>final.output.concentrate_au</td>\n",
       "      <td>19439.0</td>\n",
       "      <td>44.076513</td>\n",
       "      <td>5.129784</td>\n",
       "      <td>0.000000</td>\n",
       "      <td>43.402215</td>\n",
       "      <td>45.011244</td>\n",
       "      <td>46.275313</td>\n",
       "      <td>52.756638</td>\n",
       "    </tr>\n",
       "    <tr>\n",
       "      <td>final.output.recovery</td>\n",
       "      <td>19439.0</td>\n",
       "      <td>67.050208</td>\n",
       "      <td>10.125840</td>\n",
       "      <td>0.000000</td>\n",
       "      <td>63.299712</td>\n",
       "      <td>68.172738</td>\n",
       "      <td>72.686642</td>\n",
       "      <td>100.000000</td>\n",
       "    </tr>\n",
       "    <tr>\n",
       "      <td>...</td>\n",
       "      <td>...</td>\n",
       "      <td>...</td>\n",
       "      <td>...</td>\n",
       "      <td>...</td>\n",
       "      <td>...</td>\n",
       "      <td>...</td>\n",
       "      <td>...</td>\n",
       "      <td>...</td>\n",
       "    </tr>\n",
       "    <tr>\n",
       "      <td>secondary_cleaner.state.floatbank5_a_level</td>\n",
       "      <td>19438.0</td>\n",
       "      <td>-488.684065</td>\n",
       "      <td>34.533396</td>\n",
       "      <td>-797.323986</td>\n",
       "      <td>-500.458467</td>\n",
       "      <td>-499.802605</td>\n",
       "      <td>-498.384187</td>\n",
       "      <td>-244.483566</td>\n",
       "    </tr>\n",
       "    <tr>\n",
       "      <td>secondary_cleaner.state.floatbank5_b_air</td>\n",
       "      <td>19438.0</td>\n",
       "      <td>12.198224</td>\n",
       "      <td>5.333024</td>\n",
       "      <td>0.528083</td>\n",
       "      <td>8.971105</td>\n",
       "      <td>11.019433</td>\n",
       "      <td>14.019088</td>\n",
       "      <td>27.926001</td>\n",
       "    </tr>\n",
       "    <tr>\n",
       "      <td>secondary_cleaner.state.floatbank5_b_level</td>\n",
       "      <td>19438.0</td>\n",
       "      <td>-487.149827</td>\n",
       "      <td>38.347312</td>\n",
       "      <td>-800.220337</td>\n",
       "      <td>-500.129462</td>\n",
       "      <td>-499.935317</td>\n",
       "      <td>-499.436708</td>\n",
       "      <td>-137.740004</td>\n",
       "    </tr>\n",
       "    <tr>\n",
       "      <td>secondary_cleaner.state.floatbank6_a_air</td>\n",
       "      <td>19437.0</td>\n",
       "      <td>18.959024</td>\n",
       "      <td>5.550498</td>\n",
       "      <td>-0.079426</td>\n",
       "      <td>14.983037</td>\n",
       "      <td>19.960541</td>\n",
       "      <td>24.003170</td>\n",
       "      <td>32.188906</td>\n",
       "    </tr>\n",
       "    <tr>\n",
       "      <td>secondary_cleaner.state.floatbank6_a_level</td>\n",
       "      <td>19438.0</td>\n",
       "      <td>-505.436305</td>\n",
       "      <td>37.689057</td>\n",
       "      <td>-809.741464</td>\n",
       "      <td>-500.728067</td>\n",
       "      <td>-500.048400</td>\n",
       "      <td>-499.495378</td>\n",
       "      <td>-104.427459</td>\n",
       "    </tr>\n",
       "  </tbody>\n",
       "</table>\n",
       "<p>86 rows × 8 columns</p>\n",
       "</div>"
      ],
      "text/plain": [
       "                                              count        mean        std  \\\n",
       "final.output.concentrate_ag                 19438.0    5.168470   1.372348   \n",
       "final.output.concentrate_pb                 19438.0    9.978895   1.669240   \n",
       "final.output.concentrate_sol                19228.0    9.501224   2.787537   \n",
       "final.output.concentrate_au                 19439.0   44.076513   5.129784   \n",
       "final.output.recovery                       19439.0   67.050208  10.125840   \n",
       "...                                             ...         ...        ...   \n",
       "secondary_cleaner.state.floatbank5_a_level  19438.0 -488.684065  34.533396   \n",
       "secondary_cleaner.state.floatbank5_b_air    19438.0   12.198224   5.333024   \n",
       "secondary_cleaner.state.floatbank5_b_level  19438.0 -487.149827  38.347312   \n",
       "secondary_cleaner.state.floatbank6_a_air    19437.0   18.959024   5.550498   \n",
       "secondary_cleaner.state.floatbank6_a_level  19438.0 -505.436305  37.689057   \n",
       "\n",
       "                                                   min         25%  \\\n",
       "final.output.concentrate_ag                   0.000000    4.251240   \n",
       "final.output.concentrate_pb                   0.000000    9.137262   \n",
       "final.output.concentrate_sol                  0.000000    7.722820   \n",
       "final.output.concentrate_au                   0.000000   43.402215   \n",
       "final.output.recovery                         0.000000   63.299712   \n",
       "...                                                ...         ...   \n",
       "secondary_cleaner.state.floatbank5_a_level -797.323986 -500.458467   \n",
       "secondary_cleaner.state.floatbank5_b_air      0.528083    8.971105   \n",
       "secondary_cleaner.state.floatbank5_b_level -800.220337 -500.129462   \n",
       "secondary_cleaner.state.floatbank6_a_air     -0.079426   14.983037   \n",
       "secondary_cleaner.state.floatbank6_a_level -809.741464 -500.728067   \n",
       "\n",
       "                                                   50%         75%         max  \n",
       "final.output.concentrate_ag                   5.066094    5.895527   16.001945  \n",
       "final.output.concentrate_pb                  10.102433   11.035769   17.031899  \n",
       "final.output.concentrate_sol                  9.218961   10.947813   19.615720  \n",
       "final.output.concentrate_au                  45.011244   46.275313   52.756638  \n",
       "final.output.recovery                        68.172738   72.686642  100.000000  \n",
       "...                                                ...         ...         ...  \n",
       "secondary_cleaner.state.floatbank5_a_level -499.802605 -498.384187 -244.483566  \n",
       "secondary_cleaner.state.floatbank5_b_air     11.019433   14.019088   27.926001  \n",
       "secondary_cleaner.state.floatbank5_b_level -499.935317 -499.436708 -137.740004  \n",
       "secondary_cleaner.state.floatbank6_a_air     19.960541   24.003170   32.188906  \n",
       "secondary_cleaner.state.floatbank6_a_level -500.048400 -499.495378 -104.427459  \n",
       "\n",
       "[86 rows x 8 columns]"
      ]
     },
     "metadata": {},
     "output_type": "display_data"
    },
    {
     "name": "stdout",
     "output_type": "stream",
     "text": [
      "Проверим таблицу на пропуски: \n"
     ]
    },
    {
     "data": {
      "text/plain": [
       "date                                            0\n",
       "final.output.concentrate_ag                     1\n",
       "final.output.concentrate_pb                     1\n",
       "final.output.concentrate_sol                  211\n",
       "final.output.concentrate_au                     0\n",
       "                                             ... \n",
       "secondary_cleaner.state.floatbank5_a_level      1\n",
       "secondary_cleaner.state.floatbank5_b_air        1\n",
       "secondary_cleaner.state.floatbank5_b_level      1\n",
       "secondary_cleaner.state.floatbank6_a_air        2\n",
       "secondary_cleaner.state.floatbank6_a_level      1\n",
       "Length: 87, dtype: int64"
      ]
     },
     "metadata": {},
     "output_type": "display_data"
    },
    {
     "name": "stdout",
     "output_type": "stream",
     "text": [
      "Проверим таблицу на дубликаты: \n"
     ]
    },
    {
     "data": {
      "text/plain": [
       "0"
      ]
     },
     "metadata": {},
     "output_type": "display_data"
    }
   ],
   "source": [
    "for df in dfs:\n",
    "    print(f'Информация о таблице {df.name}:')\n",
    "    data_info(df)"
   ]
  },
  {
   "cell_type": "markdown",
   "metadata": {},
   "source": [
    "**Описание этапов**:\n",
    "\n",
    "*Технологический процесс*:\n",
    "\n",
    "* **Rougher feed** — исходное сырье\n",
    "* **Rougher additions (или reagent additions)** — флотационные реагенты: Xanthate, Sulphate, Depressant\n",
    "* **Xanthate** — ксантогенат (промотер, или активатор флотации);\n",
    "* **Sulphate** — сульфат (на данном производстве сульфид натрия);\n",
    "* **Depressant** — депрессант (силикат натрия).\n",
    "* **Rougher process** (англ. «грубый процесс») — флотация\n",
    "* **Rougher tails** — отвальные хвосты\n",
    "* **Float banks** — флотационная установка\n",
    "* **Cleaner process** — очистка\n",
    "* **Rougher Au** — черновой концентрат золота\n",
    "* **Final Au** — финальный концентрат золота\n",
    "\n",
    "*Параметры этапов*:\n",
    "\n",
    "* **air amount** — объём воздуха\n",
    "* **fluid levels** — уровень жидкости\n",
    "* **feed size** — размер гранул сырья\n",
    "* **feed rate** — скорость подачи\n",
    "\n",
    "*Наименование признаков*:\n",
    "\n",
    "Наименование признаков формируется следующим образом:\n",
    "\n",
    "[**этап**].[**тип_параметра**].[**название_параметра**]"
   ]
  },
  {
   "cell_type": "markdown",
   "metadata": {},
   "source": [
    "Проверим, что эффективность обогащения рассчитана правильно.\n",
    "Рассчитаем эффективность по следующей формуле:"
   ]
  },
  {
   "cell_type": "markdown",
   "metadata": {},
   "source": [
    "$$Recovery = \\frac{C \\times (F - T)} {F \\times (C - T)} \\times 100\\%$$\n",
    "\n",
    "где:\n",
    "* C — доля золота в концентрате после флотации/очистки;\n",
    "* F — доля золота в сырье/концентрате до флотации/очистки;\n",
    "* T — доля золота в отвальных хвостах после флотации/очистки."
   ]
  },
  {
   "cell_type": "markdown",
   "metadata": {},
   "source": [
    "Функция `check_rougher_recovery` рассчитывает **MAE** между исходными данными и расчётами:"
   ]
  },
  {
   "cell_type": "code",
   "execution_count": 6,
   "metadata": {},
   "outputs": [],
   "source": [
    "def check_rougher_recovery(data):\n",
    "    C = data['rougher.output.concentrate_au']\n",
    "    F = data['rougher.input.feed_au']\n",
    "    T = data['rougher.output.tail_au']\n",
    "    \n",
    "    recovery_calculated = (C * (F - T)) * 100/(F * (C - T))\n",
    "    recovery_given = data['rougher.output.recovery']\n",
    "    \n",
    "    mae = mean_absolute_error(recovery_given, recovery_calculated)\n",
    "    \n",
    "    print(f'МАЕ между расчетами и значениями признака: {mae}')"
   ]
  },
  {
   "cell_type": "code",
   "execution_count": 7,
   "metadata": {},
   "outputs": [
    {
     "name": "stdout",
     "output_type": "stream",
     "text": [
      "МАЕ между расчетами и значениями признака: 1.1100347049376097e-14\n"
     ]
    }
   ],
   "source": [
    "check_rougher_recovery(train.\n",
    "                       dropna(subset=['rougher.output.concentrate_au',\n",
    "                                      'rougher.input.feed_au',\n",
    "                                      'rougher.output.tail_au',\n",
    "                                      'rougher.output.recovery'\n",
    "                                     ]))"
   ]
  },
  {
   "cell_type": "markdown",
   "metadata": {},
   "source": [
    "Значение метрики **MAE** близко к нулю - эффективность обогащения рассчитана **правильно**."
   ]
  },
  {
   "cell_type": "markdown",
   "metadata": {},
   "source": [
    "Приведем столбец с датами к формату `datetime` и заполним пропуски ближайшими соседями, так как соседние по времени параметры схожи:"
   ]
  },
  {
   "cell_type": "code",
   "execution_count": 8,
   "metadata": {},
   "outputs": [],
   "source": [
    "#for df in dfs:\n",
    "#    df.date = pd.to_datetime(df.date, format='%Y-%m-%dT%H:%M:%S')\n",
    "#    df.fillna(method='ffill', inplace=True)\n",
    "#    df.drop_duplicates(inplace=True)"
   ]
  },
  {
   "cell_type": "code",
   "execution_count": 9,
   "metadata": {},
   "outputs": [],
   "source": [
    "#test.date = pd.to_datetime(test.date, format='%Y-%m-%dT%H:%M:%S')\n",
    "#train.date = pd.to_datetime(test.date, format='%Y-%m-%dT%H:%M:%S')\n",
    "#full.date = pd.to_datetime(test.date, format='%Y-%m-%dT%H:%M:%S')"
   ]
  },
  {
   "cell_type": "code",
   "execution_count": 10,
   "metadata": {},
   "outputs": [],
   "source": [
    "test.fillna(method='ffill', inplace=True)\n",
    "train.fillna(method='ffill', inplace=True)\n",
    "full.fillna(method='ffill', inplace=True)"
   ]
  },
  {
   "cell_type": "markdown",
   "metadata": {},
   "source": [
    "Проанализируем признаки, недоступные в тестовых данных:"
   ]
  },
  {
   "cell_type": "code",
   "execution_count": 11,
   "metadata": {},
   "outputs": [
    {
     "data": {
      "text/plain": [
       "{'final.output.concentrate_ag',\n",
       " 'final.output.concentrate_au',\n",
       " 'final.output.concentrate_pb',\n",
       " 'final.output.concentrate_sol',\n",
       " 'final.output.recovery',\n",
       " 'final.output.tail_ag',\n",
       " 'final.output.tail_au',\n",
       " 'final.output.tail_pb',\n",
       " 'final.output.tail_sol',\n",
       " 'primary_cleaner.output.concentrate_ag',\n",
       " 'primary_cleaner.output.concentrate_au',\n",
       " 'primary_cleaner.output.concentrate_pb',\n",
       " 'primary_cleaner.output.concentrate_sol',\n",
       " 'primary_cleaner.output.tail_ag',\n",
       " 'primary_cleaner.output.tail_au',\n",
       " 'primary_cleaner.output.tail_pb',\n",
       " 'primary_cleaner.output.tail_sol',\n",
       " 'rougher.calculation.au_pb_ratio',\n",
       " 'rougher.calculation.floatbank10_sulfate_to_au_feed',\n",
       " 'rougher.calculation.floatbank11_sulfate_to_au_feed',\n",
       " 'rougher.calculation.sulfate_to_au_concentrate',\n",
       " 'rougher.output.concentrate_ag',\n",
       " 'rougher.output.concentrate_au',\n",
       " 'rougher.output.concentrate_pb',\n",
       " 'rougher.output.concentrate_sol',\n",
       " 'rougher.output.recovery',\n",
       " 'rougher.output.tail_ag',\n",
       " 'rougher.output.tail_au',\n",
       " 'rougher.output.tail_pb',\n",
       " 'rougher.output.tail_sol',\n",
       " 'secondary_cleaner.output.tail_ag',\n",
       " 'secondary_cleaner.output.tail_au',\n",
       " 'secondary_cleaner.output.tail_pb',\n",
       " 'secondary_cleaner.output.tail_sol'}"
      ]
     },
     "execution_count": 11,
     "metadata": {},
     "output_type": "execute_result"
    }
   ],
   "source": [
    "set(train.columns) - set(test.columns)"
   ]
  },
  {
   "cell_type": "markdown",
   "metadata": {},
   "source": [
    "В тестовых данных отсуствуют столбцы этапов, характеризующие результат технологического процесса.(То, что получаем на выходе процесса). Остальные же столбцы исторически известны."
   ]
  },
  {
   "cell_type": "markdown",
   "metadata": {},
   "source": [
    "### Вывод"
   ]
  },
  {
   "cell_type": "markdown",
   "metadata": {},
   "source": [
    "Предварительно можно утверждать, что имеющихся данных **достаточно** для построения модели машинного обучения и дальнейшего исследования.\n",
    "\n",
    "В данных имелось некоторое количество пропусков, которые были заполнены ближайшими по дате **соседними значениями** в столбце.\n",
    "\n",
    "Также была рассчитана метрика **MAE** между рассчитаным *recovery* и тем, что уже есть в таблице. Анализируя полученный результат, можно сделать вывод о соответствии между исходными данными и расчетами, так как метрика стремится к нулю.\n",
    "\n",
    "Анализ столбцов, **отсутствующих** в тестовых данных, показал, что отсутствуют те признаки, которые образуются **на выходе** процесса, что в целом логично."
   ]
  },
  {
   "cell_type": "markdown",
   "metadata": {},
   "source": [
    "## Анализ данных"
   ]
  },
  {
   "cell_type": "markdown",
   "metadata": {},
   "source": [
    "### Исследование концентрации металлов на различных стадиях очистки"
   ]
  },
  {
   "cell_type": "markdown",
   "metadata": {},
   "source": [
    "Функция `concentrate_distr` по имеющимся данным строит график распределения концентрации на различных стадиях очистки:"
   ]
  },
  {
   "cell_type": "code",
   "execution_count": 12,
   "metadata": {},
   "outputs": [],
   "source": [
    "def concentrate_distr(metal, data):\n",
    "    cols = [f'rougher.input.feed_{metal}',\n",
    "            f'rougher.output.concentrate_{metal}', \n",
    "            f'primary_cleaner.output.concentrate_{metal}',\n",
    "            f'final.output.concentrate_{metal}'\n",
    "           ]\n",
    "    \n",
    "    for col in cols:\n",
    "        data[col].hist(bins=60, alpha=.5)\n",
    "        \n",
    "    metal = metal.capitalize()\n",
    "    \n",
    "    plt.title(f'Distribution of {metal} concentration after different purification stages')\n",
    "    plt.xlabel(f'{metal} concentration, %')\n",
    "    plt.ylabel('Count')\n",
    "    plt.legend([f'{metal} concentration before flotation',\n",
    "                f'{metal} concentraion after flotation',\n",
    "                f'{metal} concentraion after primary clean',\n",
    "                f'Final {metal} concentraion, %'\n",
    "               ])\n",
    "    plt.show()"
   ]
  },
  {
   "cell_type": "markdown",
   "metadata": {},
   "source": [
    "Построим распределение для золота, серебра и свинца:"
   ]
  },
  {
   "cell_type": "code",
   "execution_count": 13,
   "metadata": {},
   "outputs": [
    {
     "data": {
      "image/png": "[encoded data removed]",
      "text/plain": [
       "<Figure size 720x432 with 1 Axes>"
      ]
     },
     "metadata": {},
     "output_type": "display_data"
    },
    {
     "data": {
      "image/png": "[encoded data removed]",
      "text/plain": [
       "<Figure size 720x432 with 1 Axes>"
      ]
     },
     "metadata": {},
     "output_type": "display_data"
    },
    {
     "data": {
      "image/png": "[encoded data removed]",
      "text/plain": [
       "<Figure size 720x432 with 1 Axes>"
      ]
     },
     "metadata": {},
     "output_type": "display_data"
    }
   ],
   "source": [
    "for m in ['au', 'ag', 'pb']:\n",
    "    concentrate_distr(m, full)"
   ]
  },
  {
   "cell_type": "markdown",
   "metadata": {},
   "source": [
    "Графики показывают, что концентрация в зависимости от металла меняется по разному.\n",
    "\n",
    "Концентрация **золота** после каждого этапа очистки увеличивается. Концентрация **серебра** наоборот уменьшается.\n",
    "\n",
    "Интересным образом показывает себя **свинец**: его концентрация увеличивает, а затем как бы усредняется. Это может быть связано с определенными химическими свойствами при процессе очистки.\n",
    "\n",
    "Также заметим **выбросы** на нуле у каждого графика."
   ]
  },
  {
   "cell_type": "markdown",
   "metadata": {},
   "source": [
    "### Исследование распределения размеров гранул сырья на обучающих и тестовых данных"
   ]
  },
  {
   "cell_type": "markdown",
   "metadata": {},
   "source": [
    "Построим график распределения размеров гранул сырья перед процессами флотации и первичной очистки:"
   ]
  },
  {
   "cell_type": "code",
   "execution_count": 14,
   "metadata": {},
   "outputs": [
    {
     "data": {
      "text/plain": [
       "<matplotlib.legend.Legend at 0x7fec89960dd0>"
      ]
     },
     "execution_count": 14,
     "metadata": {},
     "output_type": "execute_result"
    },
    {
     "data": {
      "image/png": "[encoded data removed]",
      "text/plain": [
       "<Figure size 720x432 with 1 Axes>"
      ]
     },
     "metadata": {},
     "output_type": "display_data"
    }
   ],
   "source": [
    "train['rougher.input.feed_size'].hist(bins=60, alpha=.5)\n",
    "test['rougher.input.feed_size'].hist(bins=60, alpha=.5)\n",
    "plt.title('Distribution of feed size (Flotation stage)')\n",
    "plt.xlabel('Feed size')\n",
    "plt.ylabel('Count')\n",
    "plt.legend(['Train', 'Test'])"
   ]
  },
  {
   "cell_type": "code",
   "execution_count": 15,
   "metadata": {},
   "outputs": [
    {
     "data": {
      "text/plain": [
       "<matplotlib.legend.Legend at 0x7fec89876150>"
      ]
     },
     "execution_count": 15,
     "metadata": {},
     "output_type": "execute_result"
    },
    {
     "data": {
      "image/png": "[encoded data removed]",
      "text/plain": [
       "<Figure size 720x432 with 1 Axes>"
      ]
     },
     "metadata": {},
     "output_type": "display_data"
    }
   ],
   "source": [
    "train['primary_cleaner.input.feed_size'].hist(bins=60, alpha=.5)\n",
    "test['primary_cleaner.input.feed_size'].hist(bins=60, alpha=.5)\n",
    "plt.title('Distribution of feed size (Primary clean stage)')\n",
    "plt.xlabel('Feed size')\n",
    "plt.ylabel('Count')\n",
    "plt.legend(['Train', 'Test'])"
   ]
  },
  {
   "cell_type": "markdown",
   "metadata": {},
   "source": [
    "Форма распределения для тренировочной и тестовой выборки совпадает."
   ]
  },
  {
   "cell_type": "markdown",
   "metadata": {},
   "source": [
    "Исследуем суммарную концентрацию всех веществ на разных стадиях: в сырье, в черновом и финальном концентратах."
   ]
  },
  {
   "cell_type": "markdown",
   "metadata": {},
   "source": [
    "Функция `total_concentration_analysis` строит график распределения суммарной концентрации на различных этапах очистки:"
   ]
  },
  {
   "cell_type": "code",
   "execution_count": 16,
   "metadata": {},
   "outputs": [],
   "source": [
    "def total_concentration_analysis(data):\n",
    "    raw_material_concentration = (data['rougher.input.feed_ag'] + \n",
    "                                  data['rougher.input.feed_pb'] +\n",
    "                                  data['rougher.input.feed_au'] + \n",
    "                                  data['rougher.input.feed_sol']\n",
    "                                 )\n",
    "    rougher_output_concentration = (data['rougher.output.concentrate_ag'] + \n",
    "                                    data['rougher.output.concentrate_pb'] +\n",
    "                                    data['rougher.output.concentrate_au'] + \n",
    "                                    data['rougher.output.concentrate_sol']\n",
    "                                   )\n",
    "    primary_output_concentration = (data['primary_cleaner.output.concentrate_ag'] +\n",
    "                                    data['primary_cleaner.output.concentrate_pb'] +\n",
    "                                    data['primary_cleaner.output.concentrate_sol'] +\n",
    "                                    data['primary_cleaner.output.concentrate_au']\n",
    "                                   )\n",
    "    final_concentration = (data['final.output.concentrate_ag'] +\n",
    "                           data['final.output.concentrate_pb'] +\n",
    "                           data['final.output.concentrate_sol'] +\n",
    "                           data['final.output.concentrate_au']\n",
    "                          )\n",
    "    for concentration in [raw_material_concentration,\n",
    "                          rougher_output_concentration,\n",
    "                          primary_output_concentration,\n",
    "                          final_concentration\n",
    "                         ]:\n",
    "        concentration.hist(bins=60, alpha=0.5)\n",
    "    plt.title('Total concentration')\n",
    "    plt.xlabel('Concentration, %')\n",
    "    plt.ylabel('Count')\n",
    "    plt.legend(['Raw material',\n",
    "                'After flotation',\n",
    "                'After primary clean',\n",
    "                'Final'\n",
    "               ])"
   ]
  },
  {
   "cell_type": "code",
   "execution_count": 17,
   "metadata": {},
   "outputs": [
    {
     "data": {
      "image/png": "[encoded data removed]",
      "text/plain": [
       "<Figure size 720x432 with 1 Axes>"
      ]
     },
     "metadata": {},
     "output_type": "display_data"
    }
   ],
   "source": [
    "total_concentration_analysis(train)"
   ]
  },
  {
   "cell_type": "markdown",
   "metadata": {},
   "source": [
    "Наблюдаются выбросы на нуле. Отфильтруем тренировочные данные для получение оптимальной модели:"
   ]
  },
  {
   "cell_type": "code",
   "execution_count": 18,
   "metadata": {},
   "outputs": [],
   "source": [
    "cols_to_filter = ['rougher.input.feed_ag',\n",
    "                  'rougher.input.feed_pb',\n",
    "                  'rougher.input.feed_au',\n",
    "                  'rougher.input.feed_sol',\n",
    "                  'rougher.output.concentrate_ag',\n",
    "                  'rougher.output.concentrate_pb',\n",
    "                  'rougher.output.concentrate_au',\n",
    "                  'rougher.output.concentrate_sol',\n",
    "                  'primary_cleaner.output.concentrate_ag',\n",
    "                  'primary_cleaner.output.concentrate_pb',\n",
    "                  'primary_cleaner.output.concentrate_sol',\n",
    "                  'primary_cleaner.output.concentrate_au',\n",
    "                  'final.output.concentrate_ag',\n",
    "                  'final.output.concentrate_pb',\n",
    "                  'final.output.concentrate_sol',\n",
    "                  'final.output.concentrate_au'\n",
    "                 ]"
   ]
  },
  {
   "cell_type": "markdown",
   "metadata": {},
   "source": [
    "Функция `valid_values`, возвращает словарь с ключами `max_av` и `min_av`, определяющими максимальные и минимальные допустимые значения (выходящие за пределы межвартильного размаха):"
   ]
  },
  {
   "cell_type": "code",
   "execution_count": 19,
   "metadata": {},
   "outputs": [],
   "source": [
    "def valid_values(data, col):\n",
    "    describe = data[col].describe() #Описательные статистики\n",
    "    \n",
    "    Q1, Q3 = describe['25%'], describe['75%'] #Первый и третий квартиль\n",
    "    \n",
    "    IQR = Q3 - Q1 #Межквартильный размах\n",
    "    \n",
    "    min_allow_value = Q1 - 1.5 * IQR\n",
    "    max_allow_value = Q3 + 1.5 * IQR\n",
    "    \n",
    "    \n",
    "    if min_allow_value < describe['min']:\n",
    "        min_allow_value = describe['min'] \n",
    "    if max_allow_value > describe['max']:\n",
    "        max_allow_value = describe['max']\n",
    "        \n",
    "    return {'max_av': max_allow_value, 'min_av': min_allow_value}"
   ]
  },
  {
   "cell_type": "code",
   "execution_count": 20,
   "metadata": {
    "scrolled": true
   },
   "outputs": [
    {
     "name": "stdout",
     "output_type": "stream",
     "text": [
      "Допустимые значения для столбца rougher.input.feed_ag:\n",
      "\n",
      "Максимальное допустимое значения: 14.10\n",
      "Минимальное допустимое значения: 2.95 \n",
      "\n",
      "Допустимые значения для столбца rougher.input.feed_pb:\n",
      "\n",
      "Максимальное допустимое значения: 6.40\n",
      "Минимальное допустимое значения: 0.59 \n",
      "\n",
      "Допустимые значения для столбца rougher.input.feed_au:\n",
      "\n",
      "Максимальное допустимое значения: 12.77\n",
      "Минимальное допустимое значения: 2.89 \n",
      "\n",
      "Допустимые значения для столбца rougher.input.feed_sol:\n",
      "\n",
      "Максимальное допустимое значения: 47.40\n",
      "Минимальное допустимое значения: 26.10 \n",
      "\n",
      "Допустимые значения для столбца rougher.output.concentrate_ag:\n",
      "\n",
      "Максимальное допустимое значения: 17.84\n",
      "Минимальное допустимое значения: 6.08 \n",
      "\n",
      "Допустимые значения для столбца rougher.output.concentrate_pb:\n",
      "\n",
      "Максимальное допустимое значения: 11.23\n",
      "Минимальное допустимое значения: 4.22 \n",
      "\n",
      "Допустимые значения для столбца rougher.output.concentrate_au:\n",
      "\n",
      "Максимальное допустимое значения: 25.83\n",
      "Минимальное допустимое значения: 13.99 \n",
      "\n",
      "Допустимые значения для столбца rougher.output.concentrate_sol:\n",
      "\n",
      "Максимальное допустимое значения: 38.35\n",
      "Минимальное допустимое значения: 19.12 \n",
      "\n",
      "Допустимые значения для столбца primary_cleaner.output.concentrate_ag:\n",
      "\n",
      "Максимальное допустимое значения: 13.10\n",
      "Минимальное допустимое значения: 3.51 \n",
      "\n",
      "Допустимые значения для столбца primary_cleaner.output.concentrate_pb:\n",
      "\n",
      "Максимальное допустимое значения: 15.77\n",
      "Минимальное допустимое значения: 3.84 \n",
      "\n",
      "Допустимые значения для столбца primary_cleaner.output.concentrate_sol:\n",
      "\n",
      "Максимальное допустимое значения: 21.37\n",
      "Минимальное допустимое значения: 0.00 \n",
      "\n",
      "Допустимые значения для столбца primary_cleaner.output.concentrate_au:\n",
      "\n",
      "Максимальное допустимое значения: 42.04\n",
      "Минимальное допустимое значения: 24.15 \n",
      "\n",
      "Допустимые значения для столбца final.output.concentrate_ag:\n",
      "\n",
      "Максимальное допустимое значения: 8.33\n",
      "Минимальное допустимое значения: 1.74 \n",
      "\n",
      "Допустимые значения для столбца final.output.concentrate_pb:\n",
      "\n",
      "Максимальное допустимое значения: 13.98\n",
      "Минимальное допустимое значения: 6.49 \n",
      "\n",
      "Допустимые значения для столбца final.output.concentrate_sol:\n",
      "\n",
      "Максимальное допустимое значения: 15.00\n",
      "Минимальное допустимое значения: 2.88 \n",
      "\n",
      "Допустимые значения для столбца final.output.concentrate_au:\n",
      "\n",
      "Максимальное допустимое значения: 50.50\n",
      "Минимальное допустимое значения: 38.94 \n",
      "\n"
     ]
    }
   ],
   "source": [
    "for col in cols_to_filter:\n",
    "    print(f'Допустимые значения для столбца {col}:\\n')\n",
    "    print('Максимальное допустимое значения:', '{:.2f}'.format(valid_values(train, col).get('max_av')))\n",
    "    print('Минимальное допустимое значения:', '{:.2f}'.format(valid_values(train, col).get('min_av')), '\\n')"
   ]
  },
  {
   "cell_type": "markdown",
   "metadata": {},
   "source": [
    "Функция `filtered_data` возвращает отфильрованные данные:"
   ]
  },
  {
   "cell_type": "code",
   "execution_count": 21,
   "metadata": {},
   "outputs": [],
   "source": [
    "def filtered_data(data, cols):\n",
    "    filtered_data = data.copy(deep=True)\n",
    "    for col in cols:\n",
    "        filtered_data[col] = filtered_data[col][(filtered_data[col] < valid_values(data, col)['max_av']) &\n",
    "                                        (filtered_data[col] > valid_values(data, col)['min_av'])]\n",
    "    return filtered_data.dropna(subset=cols)"
   ]
  },
  {
   "cell_type": "code",
   "execution_count": 22,
   "metadata": {},
   "outputs": [],
   "source": [
    "filtered_train = filtered_data(train, cols=cols_to_filter)"
   ]
  },
  {
   "cell_type": "code",
   "execution_count": 23,
   "metadata": {},
   "outputs": [
    {
     "data": {
      "text/plain": [
       "0.7324899286168634"
      ]
     },
     "execution_count": 23,
     "metadata": {},
     "output_type": "execute_result"
    }
   ],
   "source": [
    "filtered_train.shape[0] / train.shape[0]"
   ]
  },
  {
   "cell_type": "markdown",
   "metadata": {},
   "source": [
    "Построим распределение итоговой концентрации для очищенных данных:"
   ]
  },
  {
   "cell_type": "code",
   "execution_count": 24,
   "metadata": {},
   "outputs": [
    {
     "data": {
      "image/png": "[encoded data removed]",
      "text/plain": [
       "<Figure size 720x432 with 1 Axes>"
      ]
     },
     "metadata": {},
     "output_type": "display_data"
    }
   ],
   "source": [
    "total_concentration_analysis(filtered_train)"
   ]
  },
  {
   "cell_type": "markdown",
   "metadata": {},
   "source": [
    "### Вывод"
   ]
  },
  {
   "cell_type": "markdown",
   "metadata": {},
   "source": [
    "Исследовательский анализ показал, что концентрация металлов на различных этапах очистки меняет **по разному**. Концентрация **золота** на выходе технологического процесса является **максимальной**, что и является **основной** целью очистки.\n",
    "\n",
    "Также для получения качественной модели тренировочные данные были отфильтрованы."
   ]
  },
  {
   "cell_type": "markdown",
   "metadata": {},
   "source": [
    "## Модель"
   ]
  },
  {
   "cell_type": "markdown",
   "metadata": {},
   "source": [
    "### Анализ на тренировочных данных"
   ]
  },
  {
   "cell_type": "markdown",
   "metadata": {},
   "source": [
    "Введем метрику **sMAPE**, рассчитываемую по формуле:\n",
    "\n",
    "$$ sMAPE = \\frac{1}{N} \\sum_{i=1}^N\\frac{|y_i - \\tilde{y_i}|}{0.5 \\times (|y_i| + |\\tilde{y_i}|)} \\times 100\\% $$\n",
    "\n",
    "где:\n",
    "* $y_i$ - Значение целевого признака для объекта с порядковым номером i в выборке, на которой измеряется качество.\n",
    "* $\\tilde{y_i}$ - Значение предсказания для объекта с порядковым номером i, например, в тестовой выборке.\n",
    "* $N$ - Количество объектов в выборке.\n",
    "* $\\sum_{i=1}^N$ - Суммирование по всем объектам выборки (i меняется от 1 до N)."
   ]
  },
  {
   "cell_type": "code",
   "execution_count": 25,
   "metadata": {},
   "outputs": [],
   "source": [
    "def sMAPE(target, predict):\n",
    "    err = np.mean(abs(target - predict) / (0.5 * ((abs(target) + abs(predict))))) * 100\n",
    "    return err"
   ]
  },
  {
   "cell_type": "code",
   "execution_count": 26,
   "metadata": {},
   "outputs": [],
   "source": [
    "sMAPE_score = make_scorer(sMAPE, greater_is_better=False)"
   ]
  },
  {
   "cell_type": "markdown",
   "metadata": {},
   "source": [
    "Добавим в тестовые данные столбцы с целевыми признаками:"
   ]
  },
  {
   "cell_type": "code",
   "execution_count": 34,
   "metadata": {},
   "outputs": [],
   "source": [
    "test1 = test.set_index('date').copy()\n",
    "full1 = full[test.columns.to_list() + ['final.output.recovery', 'rougher.output.recovery']].set_index('date').copy()"
   ]
  },
  {
   "cell_type": "code",
   "execution_count": 35,
   "metadata": {},
   "outputs": [],
   "source": [
    "data_test = full1.loc[test1.index].reset_index(drop=True)"
   ]
  },
  {
   "cell_type": "code",
   "execution_count": 59,
   "metadata": {},
   "outputs": [
    {
     "data": {
      "text/html": [
       "<div>\n",
       "<style scoped>\n",
       "    .dataframe tbody tr th:only-of-type {\n",
       "        vertical-align: middle;\n",
       "    }\n",
       "\n",
       "    .dataframe tbody tr th {\n",
       "        vertical-align: top;\n",
       "    }\n",
       "\n",
       "    .dataframe thead th {\n",
       "        text-align: right;\n",
       "    }\n",
       "</style>\n",
       "<table border=\"1\" class=\"dataframe\">\n",
       "  <thead>\n",
       "    <tr style=\"text-align: right;\">\n",
       "      <th></th>\n",
       "      <th>final.output.recovery</th>\n",
       "      <th>rougher.output.recovery</th>\n",
       "    </tr>\n",
       "  </thead>\n",
       "  <tbody>\n",
       "    <tr>\n",
       "      <td>0</td>\n",
       "      <td>70.273583</td>\n",
       "      <td>89.993421</td>\n",
       "    </tr>\n",
       "    <tr>\n",
       "      <td>1</td>\n",
       "      <td>68.910432</td>\n",
       "      <td>88.089657</td>\n",
       "    </tr>\n",
       "    <tr>\n",
       "      <td>2</td>\n",
       "      <td>68.143213</td>\n",
       "      <td>88.412756</td>\n",
       "    </tr>\n",
       "    <tr>\n",
       "      <td>3</td>\n",
       "      <td>67.776393</td>\n",
       "      <td>87.360133</td>\n",
       "    </tr>\n",
       "    <tr>\n",
       "      <td>4</td>\n",
       "      <td>61.467078</td>\n",
       "      <td>83.236367</td>\n",
       "    </tr>\n",
       "    <tr>\n",
       "      <td>...</td>\n",
       "      <td>...</td>\n",
       "      <td>...</td>\n",
       "    </tr>\n",
       "    <tr>\n",
       "      <td>5285</td>\n",
       "      <td>68.919891</td>\n",
       "      <td>95.172585</td>\n",
       "    </tr>\n",
       "    <tr>\n",
       "      <td>5286</td>\n",
       "      <td>68.440582</td>\n",
       "      <td>94.575036</td>\n",
       "    </tr>\n",
       "    <tr>\n",
       "      <td>5287</td>\n",
       "      <td>67.092759</td>\n",
       "      <td>93.018138</td>\n",
       "    </tr>\n",
       "    <tr>\n",
       "      <td>5288</td>\n",
       "      <td>68.061186</td>\n",
       "      <td>92.599042</td>\n",
       "    </tr>\n",
       "    <tr>\n",
       "      <td>5289</td>\n",
       "      <td>71.699976</td>\n",
       "      <td>91.177695</td>\n",
       "    </tr>\n",
       "  </tbody>\n",
       "</table>\n",
       "<p>5290 rows × 2 columns</p>\n",
       "</div>"
      ],
      "text/plain": [
       "      final.output.recovery  rougher.output.recovery\n",
       "0                 70.273583                89.993421\n",
       "1                 68.910432                88.089657\n",
       "2                 68.143213                88.412756\n",
       "3                 67.776393                87.360133\n",
       "4                 61.467078                83.236367\n",
       "...                     ...                      ...\n",
       "5285              68.919891                95.172585\n",
       "5286              68.440582                94.575036\n",
       "5287              67.092759                93.018138\n",
       "5288              68.061186                92.599042\n",
       "5289              71.699976                91.177695\n",
       "\n",
       "[5290 rows x 2 columns]"
      ]
     },
     "execution_count": 59,
     "metadata": {},
     "output_type": "execute_result"
    }
   ],
   "source": [
    "data_test[['final.output.recovery', 'rougher.output.recovery']]"
   ]
  },
  {
   "cell_type": "markdown",
   "metadata": {},
   "source": [
    "Данные необходимо изучать на признаках, которые есть в тестовых данных:"
   ]
  },
  {
   "cell_type": "code",
   "execution_count": 37,
   "metadata": {},
   "outputs": [],
   "source": [
    "cols_rougher = test.columns.drop('date').to_list() + ['rougher.output.recovery']\n",
    "cols_final = test.columns.drop('date').to_list() + ['final.output.recovery']"
   ]
  },
  {
   "cell_type": "code",
   "execution_count": 38,
   "metadata": {},
   "outputs": [
    {
     "data": {
      "text/plain": [
       "['primary_cleaner.input.sulfate',\n",
       " 'primary_cleaner.input.depressant',\n",
       " 'primary_cleaner.input.feed_size',\n",
       " 'primary_cleaner.input.xanthate',\n",
       " 'primary_cleaner.state.floatbank8_a_air',\n",
       " 'primary_cleaner.state.floatbank8_a_level',\n",
       " 'primary_cleaner.state.floatbank8_b_air',\n",
       " 'primary_cleaner.state.floatbank8_b_level',\n",
       " 'primary_cleaner.state.floatbank8_c_air',\n",
       " 'primary_cleaner.state.floatbank8_c_level',\n",
       " 'primary_cleaner.state.floatbank8_d_air',\n",
       " 'primary_cleaner.state.floatbank8_d_level',\n",
       " 'rougher.input.feed_ag',\n",
       " 'rougher.input.feed_pb',\n",
       " 'rougher.input.feed_rate',\n",
       " 'rougher.input.feed_size',\n",
       " 'rougher.input.feed_sol',\n",
       " 'rougher.input.feed_au',\n",
       " 'rougher.input.floatbank10_sulfate',\n",
       " 'rougher.input.floatbank10_xanthate',\n",
       " 'rougher.input.floatbank11_sulfate',\n",
       " 'rougher.input.floatbank11_xanthate',\n",
       " 'rougher.state.floatbank10_a_air',\n",
       " 'rougher.state.floatbank10_a_level',\n",
       " 'rougher.state.floatbank10_b_air',\n",
       " 'rougher.state.floatbank10_b_level',\n",
       " 'rougher.state.floatbank10_c_air',\n",
       " 'rougher.state.floatbank10_c_level',\n",
       " 'rougher.state.floatbank10_d_air',\n",
       " 'rougher.state.floatbank10_d_level',\n",
       " 'rougher.state.floatbank10_e_air',\n",
       " 'rougher.state.floatbank10_e_level',\n",
       " 'rougher.state.floatbank10_f_air',\n",
       " 'rougher.state.floatbank10_f_level',\n",
       " 'secondary_cleaner.state.floatbank2_a_air',\n",
       " 'secondary_cleaner.state.floatbank2_a_level',\n",
       " 'secondary_cleaner.state.floatbank2_b_air',\n",
       " 'secondary_cleaner.state.floatbank2_b_level',\n",
       " 'secondary_cleaner.state.floatbank3_a_air',\n",
       " 'secondary_cleaner.state.floatbank3_a_level',\n",
       " 'secondary_cleaner.state.floatbank3_b_air',\n",
       " 'secondary_cleaner.state.floatbank3_b_level',\n",
       " 'secondary_cleaner.state.floatbank4_a_air',\n",
       " 'secondary_cleaner.state.floatbank4_a_level',\n",
       " 'secondary_cleaner.state.floatbank4_b_air',\n",
       " 'secondary_cleaner.state.floatbank4_b_level',\n",
       " 'secondary_cleaner.state.floatbank5_a_air',\n",
       " 'secondary_cleaner.state.floatbank5_a_level',\n",
       " 'secondary_cleaner.state.floatbank5_b_air',\n",
       " 'secondary_cleaner.state.floatbank5_b_level',\n",
       " 'secondary_cleaner.state.floatbank6_a_air',\n",
       " 'secondary_cleaner.state.floatbank6_a_level',\n",
       " 'rougher.output.recovery']"
      ]
     },
     "execution_count": 38,
     "metadata": {},
     "output_type": "execute_result"
    }
   ],
   "source": [
    "cols_rougher"
   ]
  },
  {
   "cell_type": "markdown",
   "metadata": {},
   "source": [
    "Функция `model_analysis` возвращает значение **sMAPE** по результатам кросс-валидации:"
   ]
  },
  {
   "cell_type": "code",
   "execution_count": 39,
   "metadata": {},
   "outputs": [],
   "source": [
    "def model_analysis(model_type, data, target, score, cols, depth=None, est=None):\n",
    "    features_train = data[cols].drop(target, axis=1)\n",
    "    target_train = data[target]\n",
    "    \n",
    "    if str(model_type) == 'RandomForestRegressor':\n",
    "        model = model_type(random_state=RS, max_depth=depth, n_estimators=est)\n",
    "    else:\n",
    "        model = model_type()\n",
    "    score = cross_val_score(model, features_train, target_train, cv=5, scoring=score).min()\n",
    "    \n",
    "    return score"
   ]
  },
  {
   "cell_type": "markdown",
   "metadata": {},
   "source": [
    "Исследуем модель `Линейной регрессии` для таргета `rougher.output.recovery`:"
   ]
  },
  {
   "cell_type": "code",
   "execution_count": 40,
   "metadata": {},
   "outputs": [
    {
     "data": {
      "text/plain": [
       "4.545257988987413"
      ]
     },
     "execution_count": 40,
     "metadata": {},
     "output_type": "execute_result"
    }
   ],
   "source": [
    "model_analysis(LinearRegression, filtered_train, 'rougher.output.recovery', sMAPE_score, cols_rougher)"
   ]
  },
  {
   "cell_type": "markdown",
   "metadata": {},
   "source": [
    "Исследуем модель `Случайного леса` для таргета `rougher.output.recovery`:\n",
    "\n",
    "P.S Подбор параметров приведен ниже и закомментирован - на выполнение уходит около получаса"
   ]
  },
  {
   "cell_type": "code",
   "execution_count": 41,
   "metadata": {},
   "outputs": [
    {
     "data": {
      "text/plain": [
       "5.48513663450617"
      ]
     },
     "execution_count": 41,
     "metadata": {},
     "output_type": "execute_result"
    }
   ],
   "source": [
    "model_analysis(RandomForestRegressor,\n",
    "               filtered_train,\n",
    "               'rougher.output.recovery',\n",
    "               sMAPE_score,\n",
    "               cols_rougher,\n",
    "               depth=3,\n",
    "               est=100,\n",
    "              )"
   ]
  },
  {
   "cell_type": "code",
   "execution_count": 42,
   "metadata": {},
   "outputs": [],
   "source": [
    "#for depth in range(1, 10):\n",
    "#     for est in range(10, 110, 10):\n",
    "#         model = RandomForestRegressor(max_depth=depth, n_estimators=est)\n",
    "#         print(f'Для depth={depth}, est={est}, score={cross_val_score(model, features_train, target_train, cv=5, scoring=sMAPE_score).min()}')"
   ]
  },
  {
   "cell_type": "code",
   "execution_count": 43,
   "metadata": {},
   "outputs": [],
   "source": [
    "#params = {'max_depth': list(range(1, 9, 1)),\n",
    "          #'n_estimators': list(range(10, 90, 10))\n",
    "         #}\n",
    "#model_grid = GridSearchCV(model, param_grid = params, scoring=sMAPE_score)\n",
    "#model_grid.fit(features_train, target_train)\n",
    "#print(model_grid.best_params_)\n",
    "#print(model_gird.best_score_)"
   ]
  },
  {
   "cell_type": "markdown",
   "metadata": {},
   "source": [
    "Исследуем модель `Линейной регрессии` для таргета `final.output.recovery`:"
   ]
  },
  {
   "cell_type": "code",
   "execution_count": 44,
   "metadata": {},
   "outputs": [
    {
     "data": {
      "text/plain": [
       "8.146360792054406"
      ]
     },
     "execution_count": 44,
     "metadata": {},
     "output_type": "execute_result"
    }
   ],
   "source": [
    "model_analysis(LinearRegression, filtered_train, 'final.output.recovery', sMAPE_score, cols_final)"
   ]
  },
  {
   "cell_type": "markdown",
   "metadata": {},
   "source": [
    "Исследуем модель `Случайного леса` для таргета `final.output.recovery`:"
   ]
  },
  {
   "cell_type": "code",
   "execution_count": 45,
   "metadata": {},
   "outputs": [
    {
     "data": {
      "text/plain": [
       "8.138860324639122"
      ]
     },
     "execution_count": 45,
     "metadata": {},
     "output_type": "execute_result"
    }
   ],
   "source": [
    "model_analysis(RandomForestRegressor,\n",
    "               filtered_train,\n",
    "               'final.output.recovery',\n",
    "               sMAPE_score,\n",
    "               cols_final,\n",
    "               depth=3,\n",
    "               est=10,\n",
    "              )"
   ]
  },
  {
   "cell_type": "markdown",
   "metadata": {},
   "source": [
    "Для обоих таргетов лучшее значение метрики показывает **Линейная регрессия**.\n",
    "\n",
    "Исходя из полученных результатов рассчитаем **итоговое sMAPE**, вычисляемое по формуле:\n",
    "\n",
    "$$ 25\\% \\times sMAPE(rougher) + 75\\% \\times sMAPE(final) $$"
   ]
  },
  {
   "cell_type": "code",
   "execution_count": 57,
   "metadata": {},
   "outputs": [
    {
     "data": {
      "text/plain": [
       "7.485000000000001"
      ]
     },
     "execution_count": 57,
     "metadata": {},
     "output_type": "execute_result"
    }
   ],
   "source": [
    "0.25 * 5.49 + 0.75 * 8.15"
   ]
  },
  {
   "cell_type": "markdown",
   "metadata": {},
   "source": [
    "### Анализ на тестовых данных"
   ]
  },
  {
   "cell_type": "markdown",
   "metadata": {},
   "source": [
    "Исследуем модель `Линейной регрессии` для таргета `rougher.output.recovery`:"
   ]
  },
  {
   "cell_type": "code",
   "execution_count": 47,
   "metadata": {},
   "outputs": [
    {
     "data": {
      "text/plain": [
       "7.313111652968354"
      ]
     },
     "execution_count": 47,
     "metadata": {},
     "output_type": "execute_result"
    }
   ],
   "source": [
    "model_analysis(LinearRegression, data_test, 'rougher.output.recovery', sMAPE_score, cols_rougher)"
   ]
  },
  {
   "cell_type": "markdown",
   "metadata": {},
   "source": [
    "Исследуем модель `Линейной регрессии` для таргета `final.output.recovery`:"
   ]
  },
  {
   "cell_type": "code",
   "execution_count": 48,
   "metadata": {},
   "outputs": [
    {
     "data": {
      "text/plain": [
       "9.235471447760922"
      ]
     },
     "execution_count": 48,
     "metadata": {},
     "output_type": "execute_result"
    }
   ],
   "source": [
    "model_analysis(LinearRegression, data_test, 'final.output.recovery', sMAPE_score, cols_final)"
   ]
  },
  {
   "cell_type": "markdown",
   "metadata": {},
   "source": [
    "Проверим модель `Случайного леса` на тестовых данных для тех же таргетов:"
   ]
  },
  {
   "cell_type": "code",
   "execution_count": 49,
   "metadata": {},
   "outputs": [
    {
     "data": {
      "text/plain": [
       "7.475898166042459"
      ]
     },
     "execution_count": 49,
     "metadata": {},
     "output_type": "execute_result"
    }
   ],
   "source": [
    "model_analysis(RandomForestRegressor,\n",
    "               data_test,\n",
    "               'rougher.output.recovery',\n",
    "               sMAPE_score,\n",
    "               cols_rougher,\n",
    "               depth=3,\n",
    "               est=100,\n",
    "              )"
   ]
  },
  {
   "cell_type": "code",
   "execution_count": 50,
   "metadata": {},
   "outputs": [
    {
     "data": {
      "text/plain": [
       "10.762672667011202"
      ]
     },
     "execution_count": 50,
     "metadata": {},
     "output_type": "execute_result"
    }
   ],
   "source": [
    "model_analysis(RandomForestRegressor,\n",
    "               data_test,\n",
    "               'final.output.recovery',\n",
    "               sMAPE_score,\n",
    "               cols_final,\n",
    "               depth=3,\n",
    "               est=10,\n",
    "              )"
   ]
  },
  {
   "cell_type": "markdown",
   "metadata": {},
   "source": [
    "Исходя из полученных результатов рассчитаем **итоговое sMAPE**:"
   ]
  },
  {
   "cell_type": "code",
   "execution_count": 56,
   "metadata": {},
   "outputs": [
    {
     "data": {
      "text/plain": [
       "8.75"
      ]
     },
     "execution_count": 56,
     "metadata": {},
     "output_type": "execute_result"
    }
   ],
   "source": [
    "0.25 * 7.31 + 0.75 * 9.23"
   ]
  },
  {
   "cell_type": "markdown",
   "metadata": {},
   "source": [
    "### Анализ константной модели"
   ]
  },
  {
   "cell_type": "markdown",
   "metadata": {},
   "source": [
    "Анализ константной модели для `rougher.output.recovery`:"
   ]
  },
  {
   "cell_type": "code",
   "execution_count": 52,
   "metadata": {},
   "outputs": [],
   "source": [
    "features_train = filtered_train[cols_rougher].drop('rougher.output.recovery', axis=1)\n",
    "target_train = filtered_train['rougher.output.recovery']\n",
    "features_test = data_test[cols_rougher].drop('rougher.output.recovery', axis=1)\n",
    "target_test = data_test['rougher.output.recovery']"
   ]
  },
  {
   "cell_type": "code",
   "execution_count": 53,
   "metadata": {},
   "outputs": [
    {
     "name": "stdout",
     "output_type": "stream",
     "text": [
      "8.52937025060372\n"
     ]
    }
   ],
   "source": [
    "dummy_regressor_rougher = DummyRegressor(strategy=\"median\")\n",
    "dummy_regressor_rougher.fit(features_train, target_train)\n",
    "dummy_rougher_pred = dummy_regressor_rougher.predict(features_test)\n",
    "smape_dummy_rougher = sMAPE(target_test, dummy_rougher_pred)\n",
    "print(smape_dummy_rougher) "
   ]
  },
  {
   "cell_type": "markdown",
   "metadata": {},
   "source": [
    "Анализ константной модели для `final.output.recovery`:"
   ]
  },
  {
   "cell_type": "code",
   "execution_count": 54,
   "metadata": {},
   "outputs": [],
   "source": [
    "features_train = filtered_train[cols_final].drop('final.output.recovery', axis=1)\n",
    "target_train = filtered_train['final.output.recovery']\n",
    "features_test = data_test[cols_final].drop('final.output.recovery', axis=1)\n",
    "target_test = data_test['final.output.recovery']"
   ]
  },
  {
   "cell_type": "code",
   "execution_count": 55,
   "metadata": {},
   "outputs": [
    {
     "name": "stdout",
     "output_type": "stream",
     "text": [
      "9.670696411591738\n"
     ]
    }
   ],
   "source": [
    "dummy_regressor_rougher = DummyRegressor(strategy=\"median\")\n",
    "dummy_regressor_rougher.fit(features_train, target_train)\n",
    "dummy_rougher_pred = dummy_regressor_rougher.predict(features_test)\n",
    "smape_dummy_rougher = sMAPE(target_test, dummy_rougher_pred)\n",
    "print(smape_dummy_rougher) "
   ]
  },
  {
   "cell_type": "markdown",
   "metadata": {},
   "source": [
    "### Вывод"
   ]
  },
  {
   "cell_type": "markdown",
   "metadata": {},
   "source": [
    "Для данной задачи были рассмотрены следующие модели:\n",
    "* **LinearRegression**\n",
    "* **RandomForestRegressor**\n",
    "\n",
    "Анализ метрики **sMAPE** на тренировочных данных показал, что наиболее оптимальное значение дает модель линейной регресии - **5.49** и **8.15** для метрик `rougher.output.recovery` и `final.output.recovery` соответственно. **Итоговое sMAPE** - **7.49**.\n",
    "\n",
    "Проверка на тестовых данных показала некоторое ухудшение метрики: **7.31** и **9.23**. **Итоговое sMAPE** - **8.75**. Тем не менее, использованная модель линейной регрессии показывает себя все также лучше случайного леса.\n",
    "\n",
    "Анализ константной модели показал метрику **sMAPE** больше, нежели при использовании модели линейной регресии - наша модель **прошла** проверку на адекватность."
   ]
  },
  {
   "cell_type": "markdown",
   "metadata": {},
   "source": [
    "## Общий вывод"
   ]
  },
  {
   "cell_type": "markdown",
   "metadata": {},
   "source": [
    "Таким образом, был проведен исследовательский анализ, а также построена модель машинного обучения для исследования следующих величин: \n",
    "* эффективность обогащения чернового концентрата (`rougher.output.recovery`);\n",
    "* эффективность обогащения финального концентрата (`final.output.recovery`).\n",
    "\n",
    "Для обоих таргетов наилучший результат показала модель **линейной регрессии**, которая позволяет получить минимальное значение исследуемых метрик **sMAPE** и **итоговое sMAPE**."
   ]
  }
 ],
 "metadata": {
  "ExecuteTimeLog": [
   {
    "duration": 633,
    "start_time": "2022-02-09T15:03:35.787Z"
   },
   {
    "duration": 1785,
    "start_time": "2022-02-09T15:03:48.757Z"
   },
   {
    "duration": 369,
    "start_time": "2022-02-09T15:03:58.550Z"
   },
   {
    "duration": 42,
    "start_time": "2022-02-09T15:04:05.022Z"
   },
   {
    "duration": 10,
    "start_time": "2022-02-09T15:04:26.838Z"
   },
   {
    "duration": 12,
    "start_time": "2022-02-09T15:04:35.861Z"
   },
   {
    "duration": 27,
    "start_time": "2022-02-09T15:04:44.726Z"
   },
   {
    "duration": 4,
    "start_time": "2022-02-09T15:04:57.070Z"
   },
   {
    "duration": 41,
    "start_time": "2022-02-09T15:05:08.517Z"
   },
   {
    "duration": 17,
    "start_time": "2022-02-09T15:05:11.998Z"
   },
   {
    "duration": 1272,
    "start_time": "2022-02-12T15:13:48.441Z"
   },
   {
    "duration": 4,
    "start_time": "2022-02-12T15:14:36.794Z"
   },
   {
    "duration": 717,
    "start_time": "2022-02-12T15:15:29.994Z"
   },
   {
    "duration": 808,
    "start_time": "2022-02-12T15:17:35.315Z"
   },
   {
    "duration": 24,
    "start_time": "2022-02-12T15:17:43.378Z"
   },
   {
    "duration": 20,
    "start_time": "2022-02-12T15:17:54.659Z"
   },
   {
    "duration": 24,
    "start_time": "2022-02-12T15:18:01.931Z"
   },
   {
    "duration": 31,
    "start_time": "2022-02-12T15:19:08.341Z"
   },
   {
    "duration": 6,
    "start_time": "2022-02-12T15:19:41.179Z"
   },
   {
    "duration": 27,
    "start_time": "2022-02-12T15:19:46.187Z"
   },
   {
    "duration": 5,
    "start_time": "2022-02-12T15:19:50.018Z"
   },
   {
    "duration": 5,
    "start_time": "2022-02-12T15:19:59.771Z"
   },
   {
    "duration": 5,
    "start_time": "2022-02-12T15:20:05.411Z"
   },
   {
    "duration": 11,
    "start_time": "2022-02-12T15:20:49.444Z"
   },
   {
    "duration": 8,
    "start_time": "2022-02-12T15:21:03.347Z"
   },
   {
    "duration": 7,
    "start_time": "2022-02-12T15:21:13.588Z"
   },
   {
    "duration": 6,
    "start_time": "2022-02-12T15:21:27.196Z"
   },
   {
    "duration": 8,
    "start_time": "2022-02-12T15:21:32.868Z"
   },
   {
    "duration": 7,
    "start_time": "2022-02-12T15:21:39.243Z"
   },
   {
    "duration": 1538,
    "start_time": "2022-02-12T15:22:44.494Z"
   },
   {
    "duration": 5,
    "start_time": "2022-02-12T15:22:46.414Z"
   },
   {
    "duration": 1187,
    "start_time": "2022-02-12T15:22:52.162Z"
   },
   {
    "duration": 714,
    "start_time": "2022-02-12T15:22:54.355Z"
   },
   {
    "duration": 28,
    "start_time": "2022-02-12T15:22:56.347Z"
   },
   {
    "duration": 21,
    "start_time": "2022-02-12T15:22:56.564Z"
   },
   {
    "duration": 30,
    "start_time": "2022-02-12T15:22:57.227Z"
   },
   {
    "duration": 8,
    "start_time": "2022-02-12T15:23:08.245Z"
   },
   {
    "duration": 5,
    "start_time": "2022-02-12T15:23:23.516Z"
   },
   {
    "duration": 300,
    "start_time": "2022-02-12T15:23:30.020Z"
   },
   {
    "duration": 6,
    "start_time": "2022-02-12T15:23:34.804Z"
   },
   {
    "duration": 205,
    "start_time": "2022-02-12T15:23:44.460Z"
   },
   {
    "duration": 383,
    "start_time": "2022-02-12T15:23:55.748Z"
   },
   {
    "duration": 3,
    "start_time": "2022-02-12T15:24:05.852Z"
   },
   {
    "duration": 7,
    "start_time": "2022-02-12T15:24:09.837Z"
   },
   {
    "duration": 6,
    "start_time": "2022-02-12T15:25:24.156Z"
   },
   {
    "duration": 6,
    "start_time": "2022-02-12T15:25:35.508Z"
   },
   {
    "duration": 5,
    "start_time": "2022-02-12T15:25:41.660Z"
   },
   {
    "duration": 234,
    "start_time": "2022-02-12T15:26:21.356Z"
   },
   {
    "duration": 7,
    "start_time": "2022-02-12T15:26:24.412Z"
   },
   {
    "duration": 6,
    "start_time": "2022-02-12T15:26:51.955Z"
   },
   {
    "duration": 857,
    "start_time": "2022-02-12T16:51:20.922Z"
   },
   {
    "duration": 6,
    "start_time": "2022-02-12T16:51:23.120Z"
   },
   {
    "duration": 6,
    "start_time": "2022-02-12T16:51:23.850Z"
   },
   {
    "duration": 23,
    "start_time": "2022-02-12T16:51:31.847Z"
   },
   {
    "duration": 7,
    "start_time": "2022-02-12T16:51:35.202Z"
   },
   {
    "duration": 762,
    "start_time": "2022-02-12T16:51:53.432Z"
   },
   {
    "duration": 5,
    "start_time": "2022-02-12T16:51:54.196Z"
   },
   {
    "duration": 5,
    "start_time": "2022-02-12T16:51:54.552Z"
   },
   {
    "duration": 7,
    "start_time": "2022-02-12T16:51:55.216Z"
   },
   {
    "duration": 3,
    "start_time": "2022-02-12T16:51:56.270Z"
   },
   {
    "duration": 20,
    "start_time": "2022-02-12T16:52:00.288Z"
   },
   {
    "duration": 7,
    "start_time": "2022-02-12T16:52:58.815Z"
   },
   {
    "duration": 22,
    "start_time": "2022-02-12T16:53:03.855Z"
   },
   {
    "duration": 8,
    "start_time": "2022-02-12T16:53:07.551Z"
   },
   {
    "duration": 10,
    "start_time": "2022-02-12T16:53:42.015Z"
   },
   {
    "duration": 144,
    "start_time": "2022-02-12T16:54:09.689Z"
   },
   {
    "duration": 126,
    "start_time": "2022-02-12T16:54:16.505Z"
   },
   {
    "duration": 143,
    "start_time": "2022-02-12T16:54:20.273Z"
   },
   {
    "duration": 1172,
    "start_time": "2022-02-12T16:58:19.959Z"
   },
   {
    "duration": 790,
    "start_time": "2022-02-12T16:58:21.133Z"
   },
   {
    "duration": 8,
    "start_time": "2022-02-12T16:58:30.304Z"
   },
   {
    "duration": 12,
    "start_time": "2022-02-12T16:58:31.791Z"
   },
   {
    "duration": 346,
    "start_time": "2022-02-12T17:15:07.010Z"
   },
   {
    "duration": 33,
    "start_time": "2022-02-12T17:15:14.006Z"
   },
   {
    "duration": 8,
    "start_time": "2022-02-12T17:15:26.555Z"
   },
   {
    "duration": 47,
    "start_time": "2022-02-12T17:15:46.178Z"
   },
   {
    "duration": 11,
    "start_time": "2022-02-12T17:16:06.612Z"
   },
   {
    "duration": 5,
    "start_time": "2022-02-12T17:16:59.224Z"
   },
   {
    "duration": 9,
    "start_time": "2022-02-12T17:17:24.307Z"
   },
   {
    "duration": 12,
    "start_time": "2022-02-12T17:17:24.683Z"
   },
   {
    "duration": 201,
    "start_time": "2022-02-12T17:17:40.707Z"
   },
   {
    "duration": 29,
    "start_time": "2022-02-12T17:17:45.740Z"
   },
   {
    "duration": 23,
    "start_time": "2022-02-12T17:17:49.146Z"
   },
   {
    "duration": 95,
    "start_time": "2022-02-12T17:17:53.194Z"
   },
   {
    "duration": 4919,
    "start_time": "2022-02-12T17:19:37.451Z"
   },
   {
    "duration": 6616,
    "start_time": "2022-02-12T17:19:57.947Z"
   },
   {
    "duration": 29,
    "start_time": "2022-02-12T17:20:06.364Z"
   },
   {
    "duration": 13,
    "start_time": "2022-02-12T17:20:24.195Z"
   },
   {
    "duration": 6,
    "start_time": "2022-02-12T17:24:24.094Z"
   },
   {
    "duration": 1308,
    "start_time": "2022-02-12T17:26:01.429Z"
   },
   {
    "duration": 772,
    "start_time": "2022-02-12T17:26:03.221Z"
   },
   {
    "duration": 7,
    "start_time": "2022-02-12T17:26:04.595Z"
   },
   {
    "duration": 12,
    "start_time": "2022-02-12T17:26:08.067Z"
   },
   {
    "duration": 13,
    "start_time": "2022-02-12T17:26:08.371Z"
   },
   {
    "duration": 5,
    "start_time": "2022-02-12T17:26:12.078Z"
   },
   {
    "duration": 3,
    "start_time": "2022-02-12T17:29:35.604Z"
   },
   {
    "duration": 3272,
    "start_time": "2022-02-12T17:30:45.574Z"
   },
   {
    "duration": 536,
    "start_time": "2022-02-12T17:31:14.253Z"
   },
   {
    "duration": 6,
    "start_time": "2022-02-12T17:31:20.310Z"
   },
   {
    "duration": 5,
    "start_time": "2022-02-12T17:31:57.532Z"
   },
   {
    "duration": 5,
    "start_time": "2022-02-12T17:32:07.736Z"
   },
   {
    "duration": 1174,
    "start_time": "2022-02-12T17:32:27.151Z"
   },
   {
    "duration": 758,
    "start_time": "2022-02-12T17:32:28.327Z"
   },
   {
    "duration": 12,
    "start_time": "2022-02-12T17:32:31.519Z"
   },
   {
    "duration": 13,
    "start_time": "2022-02-12T17:32:31.701Z"
   },
   {
    "duration": 7,
    "start_time": "2022-02-12T17:32:34.512Z"
   },
   {
    "duration": 6,
    "start_time": "2022-02-12T17:32:51.198Z"
   },
   {
    "duration": 64,
    "start_time": "2022-02-12T17:35:38.934Z"
   },
   {
    "duration": 70,
    "start_time": "2022-02-12T17:35:42.310Z"
   },
   {
    "duration": 5,
    "start_time": "2022-02-12T17:35:43.910Z"
   },
   {
    "duration": 12,
    "start_time": "2022-02-12T17:36:03.637Z"
   },
   {
    "duration": 5210,
    "start_time": "2022-02-12T17:36:11.094Z"
   },
   {
    "duration": 7,
    "start_time": "2022-02-12T17:36:17.278Z"
   },
   {
    "duration": 5,
    "start_time": "2022-02-12T17:36:28.687Z"
   },
   {
    "duration": 7,
    "start_time": "2022-02-12T17:36:29.262Z"
   },
   {
    "duration": 4,
    "start_time": "2022-02-12T17:37:09.958Z"
   },
   {
    "duration": 8,
    "start_time": "2022-02-12T17:37:11.013Z"
   },
   {
    "duration": 4,
    "start_time": "2022-02-12T17:37:14.838Z"
   },
   {
    "duration": 8,
    "start_time": "2022-02-12T17:37:15.821Z"
   },
   {
    "duration": 5,
    "start_time": "2022-02-12T17:37:19.013Z"
   },
   {
    "duration": 7,
    "start_time": "2022-02-12T17:37:20.061Z"
   },
   {
    "duration": 4,
    "start_time": "2022-02-12T17:37:46.101Z"
   },
   {
    "duration": 8,
    "start_time": "2022-02-12T17:37:46.934Z"
   },
   {
    "duration": 5,
    "start_time": "2022-02-12T17:37:55.478Z"
   },
   {
    "duration": 7,
    "start_time": "2022-02-12T17:37:55.672Z"
   },
   {
    "duration": 6,
    "start_time": "2022-02-12T17:38:00.605Z"
   },
   {
    "duration": 5,
    "start_time": "2022-02-12T17:41:50.331Z"
   },
   {
    "duration": 15,
    "start_time": "2022-02-12T17:46:47.454Z"
   },
   {
    "duration": 1306,
    "start_time": "2022-02-12T17:46:58.520Z"
   },
   {
    "duration": 816,
    "start_time": "2022-02-12T17:46:59.829Z"
   },
   {
    "duration": 5,
    "start_time": "2022-02-12T17:47:00.648Z"
   },
   {
    "duration": 69,
    "start_time": "2022-02-12T17:47:01.377Z"
   },
   {
    "duration": 4,
    "start_time": "2022-02-12T17:47:43.900Z"
   },
   {
    "duration": 14,
    "start_time": "2022-02-12T17:47:44.313Z"
   },
   {
    "duration": 24,
    "start_time": "2022-02-12T17:56:45.667Z"
   },
   {
    "duration": 27,
    "start_time": "2022-02-12T17:56:53.002Z"
   },
   {
    "duration": 397,
    "start_time": "2022-02-12T17:58:46.987Z"
   },
   {
    "duration": 4,
    "start_time": "2022-02-12T18:00:04.235Z"
   },
   {
    "duration": 396,
    "start_time": "2022-02-12T18:00:07.132Z"
   },
   {
    "duration": 7,
    "start_time": "2022-02-12T18:02:40.493Z"
   },
   {
    "duration": 67,
    "start_time": "2022-02-12T18:02:42.883Z"
   },
   {
    "duration": 289,
    "start_time": "2022-02-12T18:02:48.436Z"
   },
   {
    "duration": 495,
    "start_time": "2022-02-12T18:02:51.907Z"
   },
   {
    "duration": 329,
    "start_time": "2022-02-12T18:03:13.680Z"
   },
   {
    "duration": 392,
    "start_time": "2022-02-12T18:03:19.071Z"
   },
   {
    "duration": 371,
    "start_time": "2022-02-12T18:03:46.260Z"
   },
   {
    "duration": 354,
    "start_time": "2022-02-12T18:03:51.068Z"
   },
   {
    "duration": 392,
    "start_time": "2022-02-12T18:03:54.988Z"
   },
   {
    "duration": 1003,
    "start_time": "2022-02-12T18:04:25.404Z"
   },
   {
    "duration": 851,
    "start_time": "2022-02-12T18:04:31.901Z"
   },
   {
    "duration": 809,
    "start_time": "2022-02-12T18:04:42.965Z"
   },
   {
    "duration": 335,
    "start_time": "2022-02-12T18:05:24.885Z"
   },
   {
    "duration": 510,
    "start_time": "2022-02-12T18:05:34.509Z"
   },
   {
    "duration": 328,
    "start_time": "2022-02-12T18:06:42.532Z"
   },
   {
    "duration": 379,
    "start_time": "2022-02-12T18:06:56.557Z"
   },
   {
    "duration": 433,
    "start_time": "2022-02-12T18:07:11.317Z"
   },
   {
    "duration": 6,
    "start_time": "2022-02-12T18:08:44.740Z"
   },
   {
    "duration": 551,
    "start_time": "2022-02-12T18:09:12.191Z"
   },
   {
    "duration": 533,
    "start_time": "2022-02-12T18:09:56.095Z"
   },
   {
    "duration": 460,
    "start_time": "2022-02-12T18:11:24.950Z"
   },
   {
    "duration": 617,
    "start_time": "2022-02-12T18:11:32.309Z"
   },
   {
    "duration": 479,
    "start_time": "2022-02-12T18:11:44.741Z"
   },
   {
    "duration": 470,
    "start_time": "2022-02-12T18:11:54.237Z"
   },
   {
    "duration": 509,
    "start_time": "2022-02-12T18:11:58.575Z"
   },
   {
    "duration": 455,
    "start_time": "2022-02-12T18:12:37.174Z"
   },
   {
    "duration": 726,
    "start_time": "2022-02-12T18:13:53.094Z"
   },
   {
    "duration": 755,
    "start_time": "2022-02-12T18:14:07.397Z"
   },
   {
    "duration": 6,
    "start_time": "2022-02-12T18:14:28.214Z"
   },
   {
    "duration": 12,
    "start_time": "2022-02-12T18:14:36.470Z"
   },
   {
    "duration": 8,
    "start_time": "2022-02-12T18:14:38.758Z"
   },
   {
    "duration": 9,
    "start_time": "2022-02-12T18:14:40.520Z"
   },
   {
    "duration": 9,
    "start_time": "2022-02-12T18:14:54.094Z"
   },
   {
    "duration": 1101,
    "start_time": "2022-02-12T18:15:14.744Z"
   },
   {
    "duration": 646,
    "start_time": "2022-02-12T18:16:15.622Z"
   },
   {
    "duration": 916,
    "start_time": "2022-02-12T18:16:51.670Z"
   },
   {
    "duration": 5,
    "start_time": "2022-02-12T18:22:46.284Z"
   },
   {
    "duration": 652,
    "start_time": "2022-02-12T18:23:03.455Z"
   },
   {
    "duration": 605,
    "start_time": "2022-02-12T18:26:06.977Z"
   },
   {
    "duration": 649,
    "start_time": "2022-02-12T18:26:31.265Z"
   },
   {
    "duration": 822,
    "start_time": "2022-02-12T18:26:45.505Z"
   },
   {
    "duration": 706,
    "start_time": "2022-02-12T18:27:02.018Z"
   },
   {
    "duration": 787,
    "start_time": "2022-02-12T18:27:10.849Z"
   },
   {
    "duration": 797,
    "start_time": "2022-02-12T18:28:10.633Z"
   },
   {
    "duration": 961,
    "start_time": "2022-02-12T18:28:50.601Z"
   },
   {
    "duration": 756,
    "start_time": "2022-02-12T18:29:15.626Z"
   },
   {
    "duration": 759,
    "start_time": "2022-02-12T18:30:15.506Z"
   },
   {
    "duration": 730,
    "start_time": "2022-02-12T18:31:14.156Z"
   },
   {
    "duration": 786,
    "start_time": "2022-02-12T18:31:56.483Z"
   },
   {
    "duration": 4,
    "start_time": "2022-02-12T18:34:32.284Z"
   },
   {
    "duration": 3,
    "start_time": "2022-02-12T18:34:46.659Z"
   },
   {
    "duration": 4,
    "start_time": "2022-02-12T18:34:51.794Z"
   },
   {
    "duration": 4,
    "start_time": "2022-02-12T18:35:42.059Z"
   },
   {
    "duration": 4,
    "start_time": "2022-02-12T18:35:48.435Z"
   },
   {
    "duration": 4,
    "start_time": "2022-02-12T18:36:09.564Z"
   },
   {
    "duration": 399,
    "start_time": "2022-02-12T18:36:14.572Z"
   },
   {
    "duration": 4,
    "start_time": "2022-02-12T18:36:31.235Z"
   },
   {
    "duration": 1180,
    "start_time": "2022-02-12T18:36:31.652Z"
   },
   {
    "duration": 4,
    "start_time": "2022-02-12T18:39:15.546Z"
   },
   {
    "duration": 645,
    "start_time": "2022-02-12T18:39:16.341Z"
   },
   {
    "duration": 4,
    "start_time": "2022-02-12T18:40:15.211Z"
   },
   {
    "duration": 634,
    "start_time": "2022-02-12T18:40:16.418Z"
   },
   {
    "duration": 3,
    "start_time": "2022-02-12T18:40:45.746Z"
   },
   {
    "duration": 625,
    "start_time": "2022-02-12T18:40:46.066Z"
   },
   {
    "duration": 4,
    "start_time": "2022-02-12T18:41:40.125Z"
   },
   {
    "duration": 707,
    "start_time": "2022-02-12T18:41:40.602Z"
   },
   {
    "duration": 5,
    "start_time": "2022-02-12T18:41:46.563Z"
   },
   {
    "duration": 660,
    "start_time": "2022-02-12T18:41:46.906Z"
   },
   {
    "duration": 5,
    "start_time": "2022-02-12T18:44:56.373Z"
   },
   {
    "duration": 746,
    "start_time": "2022-02-12T18:44:58.509Z"
   },
   {
    "duration": 2095,
    "start_time": "2022-02-12T18:45:38.062Z"
   },
   {
    "duration": 4,
    "start_time": "2022-02-12T18:45:50.076Z"
   },
   {
    "duration": 2346,
    "start_time": "2022-02-12T18:45:50.620Z"
   },
   {
    "duration": 290,
    "start_time": "2022-02-12T18:46:18.980Z"
   },
   {
    "duration": 4,
    "start_time": "2022-02-12T18:46:21.244Z"
   },
   {
    "duration": 2501,
    "start_time": "2022-02-12T18:46:21.852Z"
   },
   {
    "duration": 4,
    "start_time": "2022-02-12T18:46:31.637Z"
   },
   {
    "duration": 2249,
    "start_time": "2022-02-12T18:46:32.172Z"
   },
   {
    "duration": 7,
    "start_time": "2022-02-12T18:46:49.052Z"
   },
   {
    "duration": 2734,
    "start_time": "2022-02-12T18:46:50.100Z"
   },
   {
    "duration": 5,
    "start_time": "2022-02-12T18:47:33.124Z"
   },
   {
    "duration": 2502,
    "start_time": "2022-02-12T18:47:33.476Z"
   },
   {
    "duration": 5,
    "start_time": "2022-02-12T18:47:38.388Z"
   },
   {
    "duration": 2451,
    "start_time": "2022-02-12T18:47:40.619Z"
   },
   {
    "duration": 7,
    "start_time": "2022-02-12T18:47:48.493Z"
   },
   {
    "duration": 2209,
    "start_time": "2022-02-12T18:47:48.940Z"
   },
   {
    "duration": 6,
    "start_time": "2022-02-12T18:48:02.709Z"
   },
   {
    "duration": 1512,
    "start_time": "2022-02-12T18:48:03.540Z"
   },
   {
    "duration": 5,
    "start_time": "2022-02-12T18:48:17.726Z"
   },
   {
    "duration": 2314,
    "start_time": "2022-02-12T18:48:18.240Z"
   },
   {
    "duration": 5,
    "start_time": "2022-02-12T18:49:50.005Z"
   },
   {
    "duration": 2608,
    "start_time": "2022-02-12T18:49:50.444Z"
   },
   {
    "duration": 7,
    "start_time": "2022-02-12T18:51:21.093Z"
   },
   {
    "duration": 292,
    "start_time": "2022-02-12T18:53:12.294Z"
   },
   {
    "duration": 303,
    "start_time": "2022-02-12T18:53:34.540Z"
   },
   {
    "duration": 5,
    "start_time": "2022-02-12T18:54:32.133Z"
   },
   {
    "duration": 1140,
    "start_time": "2022-02-12T18:54:35.989Z"
   },
   {
    "duration": 5,
    "start_time": "2022-02-12T18:54:42.716Z"
   },
   {
    "duration": 2686,
    "start_time": "2022-02-12T18:54:43.324Z"
   },
   {
    "duration": 5,
    "start_time": "2022-02-12T18:54:54.476Z"
   },
   {
    "duration": 3044,
    "start_time": "2022-02-12T18:54:55.684Z"
   },
   {
    "duration": 5,
    "start_time": "2022-02-12T18:55:15.036Z"
   },
   {
    "duration": 2590,
    "start_time": "2022-02-12T18:55:15.580Z"
   },
   {
    "duration": 3,
    "start_time": "2022-02-12T18:58:38.621Z"
   },
   {
    "duration": 823,
    "start_time": "2022-02-12T18:58:45.886Z"
   },
   {
    "duration": 4,
    "start_time": "2022-02-12T19:00:53.684Z"
   },
   {
    "duration": 218,
    "start_time": "2022-02-12T19:01:05.291Z"
   },
   {
    "duration": 497,
    "start_time": "2022-02-12T19:01:10.100Z"
   },
   {
    "duration": 286,
    "start_time": "2022-02-12T19:01:55.963Z"
   },
   {
    "duration": 4,
    "start_time": "2022-02-12T19:02:24.876Z"
   },
   {
    "duration": 2595,
    "start_time": "2022-02-12T19:02:25.260Z"
   },
   {
    "duration": 227,
    "start_time": "2022-02-12T19:02:38.645Z"
   },
   {
    "duration": 205,
    "start_time": "2022-02-12T19:02:44.411Z"
   },
   {
    "duration": 110,
    "start_time": "2022-02-12T19:02:55.124Z"
   },
   {
    "duration": 207,
    "start_time": "2022-02-12T19:02:58.532Z"
   },
   {
    "duration": 17,
    "start_time": "2022-02-12T20:33:49.889Z"
   },
   {
    "duration": 5,
    "start_time": "2022-02-12T20:35:22.457Z"
   },
   {
    "duration": 2773,
    "start_time": "2022-02-12T20:35:23.159Z"
   },
   {
    "duration": 67,
    "start_time": "2022-02-12T20:36:29.330Z"
   },
   {
    "duration": 3284,
    "start_time": "2022-02-12T20:36:29.745Z"
   },
   {
    "duration": 71,
    "start_time": "2022-02-12T20:36:56.552Z"
   },
   {
    "duration": 2986,
    "start_time": "2022-02-12T20:36:57.064Z"
   },
   {
    "duration": 65,
    "start_time": "2022-02-12T20:37:04.329Z"
   },
   {
    "duration": 2740,
    "start_time": "2022-02-12T20:37:04.652Z"
   },
   {
    "duration": 5,
    "start_time": "2022-02-12T20:37:43.056Z"
   },
   {
    "duration": 3010,
    "start_time": "2022-02-12T20:37:44.273Z"
   },
   {
    "duration": 5,
    "start_time": "2022-02-12T20:37:55.050Z"
   },
   {
    "duration": 3047,
    "start_time": "2022-02-12T20:37:55.456Z"
   },
   {
    "duration": 5,
    "start_time": "2022-02-12T20:38:01.643Z"
   },
   {
    "duration": 2720,
    "start_time": "2022-02-12T20:38:01.800Z"
   },
   {
    "duration": 5,
    "start_time": "2022-02-12T20:38:08.017Z"
   },
   {
    "duration": 3170,
    "start_time": "2022-02-12T20:38:08.240Z"
   },
   {
    "duration": 6,
    "start_time": "2022-02-12T20:39:08.009Z"
   },
   {
    "duration": 325,
    "start_time": "2022-02-12T20:39:40.361Z"
   },
   {
    "duration": 417,
    "start_time": "2022-02-12T20:39:45.777Z"
   },
   {
    "duration": 495,
    "start_time": "2022-02-12T20:40:14.056Z"
   },
   {
    "duration": 572,
    "start_time": "2022-02-12T20:48:27.179Z"
   },
   {
    "duration": 587,
    "start_time": "2022-02-12T20:48:37.312Z"
   },
   {
    "duration": 505,
    "start_time": "2022-02-12T20:48:42.345Z"
   },
   {
    "duration": 521,
    "start_time": "2022-02-12T20:49:08.392Z"
   },
   {
    "duration": 831,
    "start_time": "2022-02-12T20:50:12.914Z"
   },
   {
    "duration": 695,
    "start_time": "2022-02-12T20:51:22.085Z"
   },
   {
    "duration": 590,
    "start_time": "2022-02-12T20:52:00.785Z"
   },
   {
    "duration": 608,
    "start_time": "2022-02-12T20:52:17.104Z"
   },
   {
    "duration": 4,
    "start_time": "2022-02-12T21:00:26.766Z"
   },
   {
    "duration": 7,
    "start_time": "2022-02-12T21:00:32.304Z"
   },
   {
    "duration": 5,
    "start_time": "2022-02-12T21:01:35.050Z"
   },
   {
    "duration": 4,
    "start_time": "2022-02-12T21:01:59.099Z"
   },
   {
    "duration": 67,
    "start_time": "2022-02-12T21:02:08.273Z"
   },
   {
    "duration": 4,
    "start_time": "2022-02-12T21:02:23.137Z"
   },
   {
    "duration": 5,
    "start_time": "2022-02-12T21:02:26.105Z"
   },
   {
    "duration": 3,
    "start_time": "2022-02-12T21:04:37.410Z"
   },
   {
    "duration": 4,
    "start_time": "2022-02-12T21:05:47.395Z"
   },
   {
    "duration": 416,
    "start_time": "2022-02-12T21:06:28.920Z"
   },
   {
    "duration": 349,
    "start_time": "2022-02-12T21:06:52.675Z"
   },
   {
    "duration": 340,
    "start_time": "2022-02-12T21:07:03.994Z"
   },
   {
    "duration": 5234,
    "start_time": "2022-02-12T21:07:24.083Z"
   },
   {
    "duration": 4,
    "start_time": "2022-02-12T21:08:03.851Z"
   },
   {
    "duration": 4,
    "start_time": "2022-02-12T21:08:33.571Z"
   },
   {
    "duration": 5,
    "start_time": "2022-02-12T21:08:33.884Z"
   },
   {
    "duration": 3,
    "start_time": "2022-02-12T21:08:34.172Z"
   },
   {
    "duration": 3,
    "start_time": "2022-02-12T21:08:34.491Z"
   },
   {
    "duration": 434,
    "start_time": "2022-02-12T21:08:37.876Z"
   },
   {
    "duration": 235,
    "start_time": "2022-02-12T21:09:47.539Z"
   },
   {
    "duration": 746,
    "start_time": "2022-02-12T21:10:09.891Z"
   },
   {
    "duration": 6,
    "start_time": "2022-02-12T21:10:40.306Z"
   },
   {
    "duration": 6,
    "start_time": "2022-02-12T21:10:46.941Z"
   },
   {
    "duration": 6,
    "start_time": "2022-02-12T21:11:05.723Z"
   },
   {
    "duration": 5,
    "start_time": "2022-02-12T21:11:07.347Z"
   },
   {
    "duration": 859,
    "start_time": "2022-02-12T21:11:11.571Z"
   },
   {
    "duration": 871,
    "start_time": "2022-02-12T21:12:55.666Z"
   },
   {
    "duration": 78,
    "start_time": "2022-02-12T21:16:23.938Z"
   },
   {
    "duration": 3,
    "start_time": "2022-02-12T21:16:27.442Z"
   },
   {
    "duration": 46,
    "start_time": "2022-02-12T21:19:23.905Z"
   },
   {
    "duration": 5,
    "start_time": "2022-02-12T21:20:09.900Z"
   },
   {
    "duration": 6,
    "start_time": "2022-02-12T21:21:49.483Z"
   },
   {
    "duration": 292,
    "start_time": "2022-02-12T21:21:56.946Z"
   },
   {
    "duration": 196,
    "start_time": "2022-02-12T21:22:00.327Z"
   },
   {
    "duration": 6,
    "start_time": "2022-02-12T21:22:03.995Z"
   },
   {
    "duration": 3,
    "start_time": "2022-02-12T21:25:06.692Z"
   },
   {
    "duration": 6972,
    "start_time": "2022-02-12T21:26:30.076Z"
   },
   {
    "duration": 6,
    "start_time": "2022-02-12T21:26:52.590Z"
   },
   {
    "duration": 7,
    "start_time": "2022-02-12T21:26:55.973Z"
   },
   {
    "duration": 205,
    "start_time": "2022-02-12T21:27:01.652Z"
   },
   {
    "duration": 6,
    "start_time": "2022-02-12T21:27:05.348Z"
   },
   {
    "duration": 5,
    "start_time": "2022-02-12T21:28:24.053Z"
   },
   {
    "duration": 5,
    "start_time": "2022-02-12T21:30:14.015Z"
   },
   {
    "duration": 209,
    "start_time": "2022-02-12T21:30:14.400Z"
   },
   {
    "duration": 32,
    "start_time": "2022-02-12T21:30:24.221Z"
   },
   {
    "duration": 3,
    "start_time": "2022-02-12T21:36:16.142Z"
   },
   {
    "duration": 109,
    "start_time": "2022-02-12T21:36:35.341Z"
   },
   {
    "duration": 4,
    "start_time": "2022-02-12T21:37:33.349Z"
   },
   {
    "duration": 118,
    "start_time": "2022-02-12T21:38:15.340Z"
   },
   {
    "duration": 5,
    "start_time": "2022-02-12T21:38:40.830Z"
   },
   {
    "duration": 2976,
    "start_time": "2022-02-12T21:38:41.492Z"
   },
   {
    "duration": 592,
    "start_time": "2022-02-12T21:38:51.478Z"
   },
   {
    "duration": 589,
    "start_time": "2022-02-12T21:38:54.726Z"
   },
   {
    "duration": 5,
    "start_time": "2022-02-12T21:39:00.533Z"
   },
   {
    "duration": 4,
    "start_time": "2022-02-12T21:39:01.710Z"
   },
   {
    "duration": 6,
    "start_time": "2022-02-12T21:39:02.158Z"
   },
   {
    "duration": 4,
    "start_time": "2022-02-12T21:39:03.182Z"
   },
   {
    "duration": 908,
    "start_time": "2022-02-12T21:39:09.909Z"
   },
   {
    "duration": 3,
    "start_time": "2022-02-12T21:39:15.836Z"
   },
   {
    "duration": 4,
    "start_time": "2022-02-12T21:39:15.997Z"
   },
   {
    "duration": 119,
    "start_time": "2022-02-12T21:39:16.446Z"
   },
   {
    "duration": 4,
    "start_time": "2022-02-12T21:39:20.430Z"
   },
   {
    "duration": 134,
    "start_time": "2022-02-12T21:39:20.817Z"
   },
   {
    "duration": 4,
    "start_time": "2022-02-12T21:39:28.184Z"
   },
   {
    "duration": 124,
    "start_time": "2022-02-12T21:39:31.078Z"
   },
   {
    "duration": 5,
    "start_time": "2022-02-12T21:39:31.508Z"
   },
   {
    "duration": 3069,
    "start_time": "2022-02-12T21:40:08.108Z"
   },
   {
    "duration": 2720,
    "start_time": "2022-02-12T21:40:29.950Z"
   },
   {
    "duration": 3079,
    "start_time": "2022-02-12T21:40:42.741Z"
   },
   {
    "duration": 5,
    "start_time": "2022-02-12T21:42:00.997Z"
   },
   {
    "duration": 5,
    "start_time": "2022-02-12T21:42:05.269Z"
   },
   {
    "duration": 4,
    "start_time": "2022-02-12T21:42:16.910Z"
   },
   {
    "duration": 10,
    "start_time": "2022-02-12T21:44:11.966Z"
   },
   {
    "duration": 856,
    "start_time": "2022-02-12T21:44:33.614Z"
   },
   {
    "duration": 2603,
    "start_time": "2022-02-12T21:45:22.947Z"
   },
   {
    "duration": 5,
    "start_time": "2022-02-12T21:45:37.453Z"
   },
   {
    "duration": 3155,
    "start_time": "2022-02-12T21:45:38.055Z"
   },
   {
    "duration": 1259,
    "start_time": "2022-02-12T21:45:53.596Z"
   },
   {
    "duration": 767,
    "start_time": "2022-02-12T21:45:55.364Z"
   },
   {
    "duration": 5,
    "start_time": "2022-02-12T21:45:56.133Z"
   },
   {
    "duration": 21,
    "start_time": "2022-02-12T21:45:57.340Z"
   },
   {
    "duration": 12,
    "start_time": "2022-02-12T21:45:59.917Z"
   },
   {
    "duration": 12,
    "start_time": "2022-02-12T21:46:00.541Z"
   },
   {
    "duration": 6,
    "start_time": "2022-02-12T21:46:02.869Z"
   },
   {
    "duration": 4,
    "start_time": "2022-02-12T21:46:06.149Z"
   },
   {
    "duration": 2740,
    "start_time": "2022-02-12T21:46:09.947Z"
   },
   {
    "duration": 576,
    "start_time": "2022-02-12T21:46:14.947Z"
   },
   {
    "duration": 621,
    "start_time": "2022-02-12T21:46:15.525Z"
   },
   {
    "duration": 5,
    "start_time": "2022-02-12T21:46:18.844Z"
   },
   {
    "duration": 5,
    "start_time": "2022-02-12T21:46:19.068Z"
   },
   {
    "duration": 4,
    "start_time": "2022-02-12T21:46:19.227Z"
   },
   {
    "duration": 5,
    "start_time": "2022-02-12T21:46:19.603Z"
   },
   {
    "duration": 965,
    "start_time": "2022-02-12T21:46:22.924Z"
   },
   {
    "duration": 14,
    "start_time": "2022-02-12T21:49:42.308Z"
   },
   {
    "duration": 17,
    "start_time": "2022-02-12T21:49:58.125Z"
   },
   {
    "duration": 4,
    "start_time": "2022-02-12T21:50:04.316Z"
   },
   {
    "duration": 4,
    "start_time": "2022-02-12T21:50:07.629Z"
   },
   {
    "duration": 5,
    "start_time": "2022-02-12T21:50:13.116Z"
   },
   {
    "duration": 5,
    "start_time": "2022-02-12T21:50:19.395Z"
   },
   {
    "duration": 6,
    "start_time": "2022-02-12T21:55:49.284Z"
   },
   {
    "duration": 505,
    "start_time": "2022-02-12T21:55:58.532Z"
   },
   {
    "duration": 8,
    "start_time": "2022-02-12T21:56:03.513Z"
   },
   {
    "duration": 6,
    "start_time": "2022-02-12T21:56:20.688Z"
   },
   {
    "duration": 5,
    "start_time": "2022-02-12T21:56:33.870Z"
   },
   {
    "duration": 10,
    "start_time": "2022-02-12T21:57:21.609Z"
   },
   {
    "duration": 7,
    "start_time": "2022-02-12T21:57:29.039Z"
   },
   {
    "duration": 23,
    "start_time": "2022-02-12T21:57:57.477Z"
   },
   {
    "duration": 23,
    "start_time": "2022-02-12T21:58:02.619Z"
   },
   {
    "duration": 6,
    "start_time": "2022-02-12T21:58:52.549Z"
   },
   {
    "duration": 5,
    "start_time": "2022-02-12T21:58:58.515Z"
   },
   {
    "duration": 204,
    "start_time": "2022-02-12T21:59:06.100Z"
   },
   {
    "duration": 6,
    "start_time": "2022-02-12T22:00:32.708Z"
   },
   {
    "duration": 5,
    "start_time": "2022-02-12T22:00:39.659Z"
   },
   {
    "duration": 5,
    "start_time": "2022-02-12T22:00:57.292Z"
   },
   {
    "duration": 6,
    "start_time": "2022-02-12T22:02:19.852Z"
   },
   {
    "duration": 7,
    "start_time": "2022-02-12T22:02:31.076Z"
   },
   {
    "duration": 216,
    "start_time": "2022-02-12T22:02:42.557Z"
   },
   {
    "duration": 6,
    "start_time": "2022-02-12T22:02:49.951Z"
   },
   {
    "duration": 4,
    "start_time": "2022-02-12T22:03:39.859Z"
   },
   {
    "duration": 5,
    "start_time": "2022-02-12T22:03:48.307Z"
   },
   {
    "duration": 4,
    "start_time": "2022-02-12T22:03:51.499Z"
   },
   {
    "duration": 4,
    "start_time": "2022-02-12T22:04:43.091Z"
   },
   {
    "duration": 198,
    "start_time": "2022-02-12T22:05:24.572Z"
   },
   {
    "duration": 70,
    "start_time": "2022-02-12T22:05:31.492Z"
   },
   {
    "duration": 5,
    "start_time": "2022-02-12T22:06:23.820Z"
   },
   {
    "duration": 7,
    "start_time": "2022-02-12T22:06:58.900Z"
   },
   {
    "duration": 4,
    "start_time": "2022-02-12T22:07:04.572Z"
   },
   {
    "duration": 1665,
    "start_time": "2022-02-13T08:48:09.207Z"
   },
   {
    "duration": 821,
    "start_time": "2022-02-13T08:48:12.726Z"
   },
   {
    "duration": 5,
    "start_time": "2022-02-13T08:48:22.480Z"
   },
   {
    "duration": 24,
    "start_time": "2022-02-13T08:48:25.865Z"
   },
   {
    "duration": 14,
    "start_time": "2022-02-13T08:48:36.442Z"
   },
   {
    "duration": 15,
    "start_time": "2022-02-13T08:48:39.514Z"
   },
   {
    "duration": 8,
    "start_time": "2022-02-13T08:48:41.427Z"
   },
   {
    "duration": 6,
    "start_time": "2022-02-13T08:48:53.676Z"
   },
   {
    "duration": 4130,
    "start_time": "2022-02-13T08:48:59.958Z"
   },
   {
    "duration": 905,
    "start_time": "2022-02-13T08:49:07.766Z"
   },
   {
    "duration": 909,
    "start_time": "2022-02-13T08:49:18.440Z"
   },
   {
    "duration": 5,
    "start_time": "2022-02-13T08:49:27.519Z"
   },
   {
    "duration": 6,
    "start_time": "2022-02-13T08:49:29.535Z"
   },
   {
    "duration": 6,
    "start_time": "2022-02-13T08:49:34.034Z"
   },
   {
    "duration": 5,
    "start_time": "2022-02-13T08:49:37.779Z"
   },
   {
    "duration": 1498,
    "start_time": "2022-02-13T08:49:40.412Z"
   },
   {
    "duration": 7,
    "start_time": "2022-02-13T08:53:03.399Z"
   },
   {
    "duration": 1485,
    "start_time": "2022-02-13T08:53:14.017Z"
   },
   {
    "duration": 7,
    "start_time": "2022-02-13T08:53:24.858Z"
   },
   {
    "duration": 6,
    "start_time": "2022-02-13T08:54:12.577Z"
   },
   {
    "duration": 7,
    "start_time": "2022-02-13T08:54:42.876Z"
   },
   {
    "duration": 6,
    "start_time": "2022-02-13T08:54:50.940Z"
   },
   {
    "duration": 452,
    "start_time": "2022-02-13T08:55:08.439Z"
   },
   {
    "duration": 285,
    "start_time": "2022-02-13T08:55:28.297Z"
   },
   {
    "duration": 6,
    "start_time": "2022-02-13T08:56:03.006Z"
   },
   {
    "duration": 174,
    "start_time": "2022-02-13T08:56:09.856Z"
   },
   {
    "duration": 1422,
    "start_time": "2022-02-13T08:56:33.009Z"
   },
   {
    "duration": 1319,
    "start_time": "2022-02-13T09:11:42.921Z"
   },
   {
    "duration": 6,
    "start_time": "2022-02-13T09:14:31.136Z"
   },
   {
    "duration": 5,
    "start_time": "2022-02-13T09:14:36.112Z"
   },
   {
    "duration": 170,
    "start_time": "2022-02-13T09:14:36.560Z"
   },
   {
    "duration": 5,
    "start_time": "2022-02-13T09:14:36.911Z"
   },
   {
    "duration": 6,
    "start_time": "2022-02-13T09:15:11.048Z"
   },
   {
    "duration": 13,
    "start_time": "2022-02-13T09:16:14.449Z"
   },
   {
    "duration": 5,
    "start_time": "2022-02-13T09:16:14.729Z"
   },
   {
    "duration": 7,
    "start_time": "2022-02-13T09:16:14.984Z"
   },
   {
    "duration": 11,
    "start_time": "2022-02-13T09:16:39.072Z"
   },
   {
    "duration": 15,
    "start_time": "2022-02-13T09:18:01.584Z"
   },
   {
    "duration": 8,
    "start_time": "2022-02-13T09:18:07.960Z"
   },
   {
    "duration": 6,
    "start_time": "2022-02-13T09:18:12.680Z"
   },
   {
    "duration": 7,
    "start_time": "2022-02-13T09:18:39.672Z"
   },
   {
    "duration": 6,
    "start_time": "2022-02-13T09:18:43.272Z"
   },
   {
    "duration": 16,
    "start_time": "2022-02-13T09:18:50.030Z"
   },
   {
    "duration": 4,
    "start_time": "2022-02-13T09:18:50.214Z"
   },
   {
    "duration": 20,
    "start_time": "2022-02-13T09:18:50.456Z"
   },
   {
    "duration": 5,
    "start_time": "2022-02-13T09:32:40.847Z"
   },
   {
    "duration": 4,
    "start_time": "2022-02-13T09:33:39.767Z"
   },
   {
    "duration": 337,
    "start_time": "2022-02-13T09:36:05.016Z"
   },
   {
    "duration": 1294,
    "start_time": "2022-02-13T09:36:19.945Z"
   },
   {
    "duration": 3,
    "start_time": "2022-02-13T09:37:22.615Z"
   },
   {
    "duration": 4,
    "start_time": "2022-02-13T09:39:11.831Z"
   },
   {
    "duration": 1283,
    "start_time": "2022-02-13T09:39:23.342Z"
   },
   {
    "duration": 338,
    "start_time": "2022-02-13T09:39:30.678Z"
   },
   {
    "duration": 599,
    "start_time": "2022-02-13T09:39:37.986Z"
   },
   {
    "duration": 4,
    "start_time": "2022-02-13T09:39:51.001Z"
   },
   {
    "duration": 409,
    "start_time": "2022-02-13T09:39:53.487Z"
   },
   {
    "duration": 6,
    "start_time": "2022-02-13T09:40:01.111Z"
   },
   {
    "duration": 4,
    "start_time": "2022-02-13T09:40:27.271Z"
   },
   {
    "duration": 3,
    "start_time": "2022-02-13T09:40:27.903Z"
   },
   {
    "duration": 484,
    "start_time": "2022-02-13T09:40:28.371Z"
   },
   {
    "duration": 1011,
    "start_time": "2022-02-13T09:40:34.416Z"
   },
   {
    "duration": 961,
    "start_time": "2022-02-13T09:40:41.079Z"
   },
   {
    "duration": 105,
    "start_time": "2022-02-13T09:40:50.014Z"
   },
   {
    "duration": 1769,
    "start_time": "2022-02-13T09:40:53.680Z"
   },
   {
    "duration": 1696,
    "start_time": "2022-02-13T09:41:00.832Z"
   },
   {
    "duration": 2312,
    "start_time": "2022-02-13T09:41:07.912Z"
   },
   {
    "duration": 1683,
    "start_time": "2022-02-13T09:44:35.648Z"
   },
   {
    "duration": 1783,
    "start_time": "2022-02-13T09:44:47.255Z"
   },
   {
    "duration": 11,
    "start_time": "2022-02-13T09:45:07.768Z"
   },
   {
    "duration": 568,
    "start_time": "2022-02-13T09:48:04.783Z"
   },
   {
    "duration": 853,
    "start_time": "2022-02-13T09:48:16.016Z"
   },
   {
    "duration": 664,
    "start_time": "2022-02-13T09:48:39.808Z"
   },
   {
    "duration": 821,
    "start_time": "2022-02-13T09:48:45.808Z"
   },
   {
    "duration": 477,
    "start_time": "2022-02-13T09:48:51.255Z"
   },
   {
    "duration": 120,
    "start_time": "2022-02-13T09:49:10.239Z"
   },
   {
    "duration": 194,
    "start_time": "2022-02-13T09:49:12.631Z"
   },
   {
    "duration": 172,
    "start_time": "2022-02-13T09:49:14.959Z"
   },
   {
    "duration": 2402,
    "start_time": "2022-02-13T09:49:15.663Z"
   },
   {
    "duration": 459,
    "start_time": "2022-02-13T09:49:18.068Z"
   },
   {
    "duration": 56,
    "start_time": "2022-02-13T09:49:19.776Z"
   },
   {
    "duration": 131,
    "start_time": "2022-02-13T09:49:21.303Z"
   },
   {
    "duration": 165,
    "start_time": "2022-02-13T09:49:22.872Z"
   },
   {
    "duration": 223,
    "start_time": "2022-02-13T09:49:24.208Z"
   },
   {
    "duration": 1974,
    "start_time": "2022-02-13T09:49:49.951Z"
   },
   {
    "duration": 6,
    "start_time": "2022-02-13T09:50:37.254Z"
   },
   {
    "duration": 4,
    "start_time": "2022-02-13T09:50:37.862Z"
   },
   {
    "duration": 255,
    "start_time": "2022-02-13T09:50:39.079Z"
   },
   {
    "duration": 2075,
    "start_time": "2022-02-13T09:50:40.063Z"
   },
   {
    "duration": 4,
    "start_time": "2022-02-13T09:50:52.031Z"
   },
   {
    "duration": 267,
    "start_time": "2022-02-13T09:50:52.664Z"
   },
   {
    "duration": 2694,
    "start_time": "2022-02-13T09:50:53.335Z"
   },
   {
    "duration": 1840,
    "start_time": "2022-02-13T09:51:03.895Z"
   },
   {
    "duration": 5,
    "start_time": "2022-02-13T09:51:16.303Z"
   },
   {
    "duration": 5,
    "start_time": "2022-02-13T09:51:16.910Z"
   },
   {
    "duration": 1931,
    "start_time": "2022-02-13T09:51:17.704Z"
   },
   {
    "duration": 1787,
    "start_time": "2022-02-13T09:52:25.839Z"
   },
   {
    "duration": 1663,
    "start_time": "2022-02-13T09:52:34.575Z"
   },
   {
    "duration": 2013,
    "start_time": "2022-02-13T09:53:27.911Z"
   },
   {
    "duration": 4,
    "start_time": "2022-02-13T09:54:16.117Z"
   },
   {
    "duration": 4,
    "start_time": "2022-02-13T09:56:39.687Z"
   },
   {
    "duration": 362,
    "start_time": "2022-02-13T09:57:05.936Z"
   },
   {
    "duration": 6,
    "start_time": "2022-02-13T09:58:37.458Z"
   },
   {
    "duration": 10,
    "start_time": "2022-02-13T09:58:44.600Z"
   },
   {
    "duration": 6,
    "start_time": "2022-02-13T09:58:54.871Z"
   },
   {
    "duration": 350,
    "start_time": "2022-02-13T09:59:29.767Z"
   },
   {
    "duration": 339,
    "start_time": "2022-02-13T09:59:52.087Z"
   },
   {
    "duration": 7,
    "start_time": "2022-02-13T09:59:59.358Z"
   },
   {
    "duration": 5,
    "start_time": "2022-02-13T10:00:21.208Z"
   },
   {
    "duration": 97374,
    "start_time": "2022-02-13T10:00:22.391Z"
   },
   {
    "duration": 3355,
    "start_time": "2022-02-13T10:06:59.862Z"
   },
   {
    "duration": 380,
    "start_time": "2022-02-13T10:07:09.374Z"
   },
   {
    "duration": 10,
    "start_time": "2022-02-13T10:07:16.904Z"
   },
   {
    "duration": 7,
    "start_time": "2022-02-13T10:07:57.479Z"
   },
   {
    "duration": 6,
    "start_time": "2022-02-13T10:08:16.390Z"
   },
   {
    "duration": 4,
    "start_time": "2022-02-13T10:08:44.807Z"
   },
   {
    "duration": 7,
    "start_time": "2022-02-13T10:08:46.015Z"
   },
   {
    "duration": 121581,
    "start_time": "2022-02-13T10:08:46.944Z"
   },
   {
    "duration": 7,
    "start_time": "2022-02-13T10:11:02.111Z"
   },
   {
    "duration": 5,
    "start_time": "2022-02-13T10:11:06.867Z"
   },
   {
    "duration": 5,
    "start_time": "2022-02-13T10:11:21.207Z"
   },
   {
    "duration": 4,
    "start_time": "2022-02-13T10:12:31.471Z"
   },
   {
    "duration": 7,
    "start_time": "2022-02-13T10:12:53.566Z"
   },
   {
    "duration": 4,
    "start_time": "2022-02-13T10:13:43.519Z"
   },
   {
    "duration": 3,
    "start_time": "2022-02-13T10:15:34.471Z"
   },
   {
    "duration": 5,
    "start_time": "2022-02-13T10:15:41.294Z"
   },
   {
    "duration": 191543,
    "start_time": "2022-02-13T10:15:58.231Z"
   },
   {
    "duration": 5,
    "start_time": "2022-02-13T10:19:21.966Z"
   },
   {
    "duration": 4,
    "start_time": "2022-02-13T10:19:22.926Z"
   },
   {
    "duration": 44549,
    "start_time": "2022-02-13T10:19:23.344Z"
   },
   {
    "duration": 5,
    "start_time": "2022-02-13T10:20:21.415Z"
   },
   {
    "duration": 5,
    "start_time": "2022-02-13T10:20:26.743Z"
   },
   {
    "duration": 5,
    "start_time": "2022-02-13T10:20:41.471Z"
   },
   {
    "duration": 4,
    "start_time": "2022-02-13T10:20:42.142Z"
   },
   {
    "duration": 441810,
    "start_time": "2022-02-13T10:20:42.622Z"
   },
   {
    "duration": 4,
    "start_time": "2022-02-13T10:28:38.199Z"
   },
   {
    "duration": 4,
    "start_time": "2022-02-13T10:28:43.975Z"
   },
   {
    "duration": 3,
    "start_time": "2022-02-13T10:28:44.895Z"
   },
   {
    "duration": 4887,
    "start_time": "2022-02-13T10:28:45.408Z"
   },
   {
    "duration": 1912882,
    "start_time": "2022-02-13T10:30:59.703Z"
   },
   {
    "duration": 32,
    "start_time": "2022-02-13T11:02:52.556Z"
   },
   {
    "duration": 363,
    "start_time": "2022-02-13T11:03:03.087Z"
   },
   {
    "duration": 17,
    "start_time": "2022-02-13T11:03:07.263Z"
   },
   {
    "duration": 5,
    "start_time": "2022-02-13T11:03:08.599Z"
   },
   {
    "duration": 4,
    "start_time": "2022-02-13T11:03:09.047Z"
   },
   {
    "duration": 1463,
    "start_time": "2022-02-13T11:03:09.366Z"
   },
   {
    "duration": 4,
    "start_time": "2022-02-13T11:03:13.095Z"
   },
   {
    "duration": 7,
    "start_time": "2022-02-13T11:03:44.671Z"
   },
   {
    "duration": 22004,
    "start_time": "2022-02-13T11:04:00.775Z"
   },
   {
    "duration": 22453,
    "start_time": "2022-02-13T11:04:23.768Z"
   },
   {
    "duration": 4,
    "start_time": "2022-02-13T11:04:59.904Z"
   },
   {
    "duration": 276410,
    "start_time": "2022-02-13T11:05:12.690Z"
   },
   {
    "duration": 4,
    "start_time": "2022-02-13T11:10:01.569Z"
   },
   {
    "duration": 25008,
    "start_time": "2022-02-13T11:10:19.456Z"
   },
   {
    "duration": 5,
    "start_time": "2022-02-13T11:10:53.128Z"
   },
   {
    "duration": 53931,
    "start_time": "2022-02-13T11:10:55.264Z"
   },
   {
    "duration": 9,
    "start_time": "2022-02-13T11:11:59.296Z"
   },
   {
    "duration": 126195,
    "start_time": "2022-02-13T11:12:00.216Z"
   },
   {
    "duration": 5,
    "start_time": "2022-02-13T11:14:16.461Z"
   },
   {
    "duration": 64037,
    "start_time": "2022-02-13T11:14:17.545Z"
   },
   {
    "duration": 4,
    "start_time": "2022-02-13T11:18:41.385Z"
   },
   {
    "duration": 27953,
    "start_time": "2022-02-13T11:18:48.528Z"
   },
   {
    "duration": 6,
    "start_time": "2022-02-13T11:19:22.041Z"
   },
   {
    "duration": 806,
    "start_time": "2022-02-13T11:20:04.568Z"
   },
   {
    "duration": 5,
    "start_time": "2022-02-13T11:20:12.065Z"
   },
   {
    "duration": 5,
    "start_time": "2022-02-13T11:20:12.505Z"
   },
   {
    "duration": 2477,
    "start_time": "2022-02-13T11:20:12.857Z"
   },
   {
    "duration": 2374,
    "start_time": "2022-02-13T11:20:26.856Z"
   },
   {
    "duration": 1911,
    "start_time": "2022-02-13T11:20:35.617Z"
   },
   {
    "duration": 669,
    "start_time": "2022-02-13T11:20:41.936Z"
   },
   {
    "duration": 60,
    "start_time": "2022-02-13T11:20:53.952Z"
   },
   {
    "duration": 21,
    "start_time": "2022-02-13T11:26:02.432Z"
   },
   {
    "duration": 64,
    "start_time": "2022-02-13T11:26:12.089Z"
   },
   {
    "duration": 42,
    "start_time": "2022-02-13T11:26:19.170Z"
   },
   {
    "duration": 313,
    "start_time": "2022-02-13T11:26:24.700Z"
   },
   {
    "duration": 42,
    "start_time": "2022-02-13T11:26:26.921Z"
   },
   {
    "duration": 5,
    "start_time": "2022-02-13T11:27:07.792Z"
   },
   {
    "duration": 7,
    "start_time": "2022-02-13T11:27:15.064Z"
   },
   {
    "duration": 8,
    "start_time": "2022-02-13T11:27:20.095Z"
   },
   {
    "duration": 41,
    "start_time": "2022-02-13T11:28:22.721Z"
   },
   {
    "duration": 538,
    "start_time": "2022-02-13T11:32:14.861Z"
   },
   {
    "duration": 41,
    "start_time": "2022-02-13T11:32:25.441Z"
   },
   {
    "duration": 65,
    "start_time": "2022-02-13T11:32:28.667Z"
   },
   {
    "duration": 8894,
    "start_time": "2022-02-13T11:32:37.433Z"
   },
   {
    "duration": 7373,
    "start_time": "2022-02-13T11:32:55.926Z"
   },
   {
    "duration": 98,
    "start_time": "2022-02-13T11:33:09.778Z"
   },
   {
    "duration": 87,
    "start_time": "2022-02-13T11:35:13.611Z"
   },
   {
    "duration": 4,
    "start_time": "2022-02-13T11:35:49.580Z"
   },
   {
    "duration": 41,
    "start_time": "2022-02-13T11:35:54.675Z"
   },
   {
    "duration": 10,
    "start_time": "2022-02-13T11:36:03.763Z"
   },
   {
    "duration": 54,
    "start_time": "2022-02-13T11:36:08.834Z"
   },
   {
    "duration": 9,
    "start_time": "2022-02-13T11:36:15.339Z"
   },
   {
    "duration": 364,
    "start_time": "2022-02-13T11:36:31.498Z"
   },
   {
    "duration": 508,
    "start_time": "2022-02-13T11:36:39.658Z"
   },
   {
    "duration": 9,
    "start_time": "2022-02-13T11:36:49.866Z"
   },
   {
    "duration": 324,
    "start_time": "2022-02-13T11:44:55.418Z"
   },
   {
    "duration": 16,
    "start_time": "2022-02-13T11:45:00.867Z"
   },
   {
    "duration": 337,
    "start_time": "2022-02-13T11:45:28.545Z"
   },
   {
    "duration": 16,
    "start_time": "2022-02-13T11:45:39.482Z"
   },
   {
    "duration": 59,
    "start_time": "2022-02-13T11:45:45.026Z"
   },
   {
    "duration": 4,
    "start_time": "2022-02-13T11:45:58.618Z"
   },
   {
    "duration": 8,
    "start_time": "2022-02-13T11:46:04.507Z"
   },
   {
    "duration": 323,
    "start_time": "2022-02-13T11:47:13.955Z"
   },
   {
    "duration": 40,
    "start_time": "2022-02-13T11:47:26.738Z"
   },
   {
    "duration": 8482,
    "start_time": "2022-02-13T11:47:40.507Z"
   },
   {
    "duration": 18,
    "start_time": "2022-02-13T11:52:44.363Z"
   },
   {
    "duration": 47,
    "start_time": "2022-02-13T11:52:49.370Z"
   },
   {
    "duration": 40,
    "start_time": "2022-02-13T11:53:03.682Z"
   },
   {
    "duration": 6,
    "start_time": "2022-02-13T11:53:17.364Z"
   },
   {
    "duration": 5,
    "start_time": "2022-02-13T11:53:21.914Z"
   },
   {
    "duration": 6,
    "start_time": "2022-02-13T11:53:35.051Z"
   },
   {
    "duration": 70,
    "start_time": "2022-02-13T11:54:01.354Z"
   },
   {
    "duration": 48,
    "start_time": "2022-02-13T11:54:13.882Z"
   },
   {
    "duration": 7,
    "start_time": "2022-02-13T11:54:33.204Z"
   },
   {
    "duration": 7,
    "start_time": "2022-02-13T11:55:34.827Z"
   },
   {
    "duration": 4159,
    "start_time": "2022-02-13T11:55:41.234Z"
   },
   {
    "duration": 70,
    "start_time": "2022-02-13T11:55:50.290Z"
   },
   {
    "duration": 8,
    "start_time": "2022-02-13T11:55:58.906Z"
   },
   {
    "duration": 120,
    "start_time": "2022-02-13T11:56:07.571Z"
   },
   {
    "duration": 105,
    "start_time": "2022-02-13T11:56:12.324Z"
   },
   {
    "duration": 8,
    "start_time": "2022-02-13T11:56:17.171Z"
   },
   {
    "duration": 32,
    "start_time": "2022-02-13T11:56:33.042Z"
   },
   {
    "duration": 32,
    "start_time": "2022-02-13T11:56:40.412Z"
   },
   {
    "duration": 31,
    "start_time": "2022-02-13T11:56:44.238Z"
   },
   {
    "duration": 33,
    "start_time": "2022-02-13T11:56:47.740Z"
   },
   {
    "duration": 30,
    "start_time": "2022-02-13T11:56:50.643Z"
   },
   {
    "duration": 30,
    "start_time": "2022-02-13T11:56:56.122Z"
   },
   {
    "duration": 32,
    "start_time": "2022-02-13T11:56:59.539Z"
   },
   {
    "duration": 19,
    "start_time": "2022-02-13T11:57:54.691Z"
   },
   {
    "duration": 14,
    "start_time": "2022-02-13T11:58:04.355Z"
   },
   {
    "duration": 89,
    "start_time": "2022-02-13T11:58:09.364Z"
   },
   {
    "duration": 20,
    "start_time": "2022-02-13T11:58:23.578Z"
   },
   {
    "duration": 44,
    "start_time": "2022-02-13T11:58:24.946Z"
   },
   {
    "duration": 13,
    "start_time": "2022-02-13T11:58:28.714Z"
   },
   {
    "duration": 15,
    "start_time": "2022-02-13T11:58:42.142Z"
   },
   {
    "duration": 39,
    "start_time": "2022-02-13T11:58:42.555Z"
   },
   {
    "duration": 14,
    "start_time": "2022-02-13T11:58:50.746Z"
   },
   {
    "duration": 14,
    "start_time": "2022-02-13T11:59:22.274Z"
   },
   {
    "duration": 4,
    "start_time": "2022-02-13T11:59:22.594Z"
   },
   {
    "duration": 5,
    "start_time": "2022-02-13T11:59:23.682Z"
   },
   {
    "duration": 1768,
    "start_time": "2022-02-13T11:59:24.858Z"
   },
   {
    "duration": 5,
    "start_time": "2022-02-13T12:02:30.107Z"
   },
   {
    "duration": 321,
    "start_time": "2022-02-13T12:02:32.978Z"
   },
   {
    "duration": 5,
    "start_time": "2022-02-13T12:02:55.707Z"
   },
   {
    "duration": 1702,
    "start_time": "2022-02-13T12:02:56.027Z"
   },
   {
    "duration": 2387,
    "start_time": "2022-02-13T12:03:27.139Z"
   },
   {
    "duration": 1834,
    "start_time": "2022-02-13T12:03:34.091Z"
   },
   {
    "duration": 1453,
    "start_time": "2022-02-13T12:03:41.171Z"
   },
   {
    "duration": 1543,
    "start_time": "2022-02-13T12:03:52.386Z"
   },
   {
    "duration": 35611,
    "start_time": "2022-02-13T12:04:12.923Z"
   },
   {
    "duration": 18682,
    "start_time": "2022-02-13T12:04:58.955Z"
   },
   {
    "duration": 19035,
    "start_time": "2022-02-13T12:05:44.482Z"
   },
   {
    "duration": 9922,
    "start_time": "2022-02-13T12:06:19.841Z"
   },
   {
    "duration": 9583,
    "start_time": "2022-02-13T12:06:43.834Z"
   },
   {
    "duration": 1534,
    "start_time": "2022-02-13T12:07:04.595Z"
   },
   {
    "duration": 6,
    "start_time": "2022-02-13T12:09:46.322Z"
   },
   {
    "duration": 4,
    "start_time": "2022-02-13T12:10:41.978Z"
   },
   {
    "duration": 3,
    "start_time": "2022-02-13T12:11:22.083Z"
   },
   {
    "duration": 4,
    "start_time": "2022-02-13T12:11:22.372Z"
   },
   {
    "duration": 18277,
    "start_time": "2022-02-13T12:12:54.435Z"
   },
   {
    "duration": 1984,
    "start_time": "2022-02-13T12:13:24.547Z"
   },
   {
    "duration": 1455,
    "start_time": "2022-02-13T12:13:57.276Z"
   },
   {
    "duration": 9955,
    "start_time": "2022-02-13T12:14:17.461Z"
   },
   {
    "duration": 1431,
    "start_time": "2022-02-13T12:14:37.593Z"
   },
   {
    "duration": 15,
    "start_time": "2022-02-13T13:40:16.592Z"
   },
   {
    "duration": 5,
    "start_time": "2022-02-13T13:40:35.669Z"
   },
   {
    "duration": 3,
    "start_time": "2022-02-13T13:41:21.282Z"
   },
   {
    "duration": 15,
    "start_time": "2022-02-13T13:41:21.745Z"
   },
   {
    "duration": 8,
    "start_time": "2022-02-13T13:41:22.362Z"
   },
   {
    "duration": 102,
    "start_time": "2022-02-13T13:42:25.073Z"
   },
   {
    "duration": 1079,
    "start_time": "2022-02-13T13:42:29.096Z"
   },
   {
    "duration": 337,
    "start_time": "2022-02-13T13:42:43.536Z"
   },
   {
    "duration": 5,
    "start_time": "2022-02-13T13:42:47.008Z"
   },
   {
    "duration": 9,
    "start_time": "2022-02-13T13:42:47.519Z"
   },
   {
    "duration": 1304,
    "start_time": "2022-02-13T13:42:48.224Z"
   },
   {
    "duration": 19,
    "start_time": "2022-02-13T13:43:14.306Z"
   },
   {
    "duration": 7,
    "start_time": "2022-02-13T13:43:14.730Z"
   },
   {
    "duration": 8,
    "start_time": "2022-02-13T13:43:14.986Z"
   },
   {
    "duration": 1271,
    "start_time": "2022-02-13T13:43:15.266Z"
   },
   {
    "duration": 2334,
    "start_time": "2022-02-13T13:44:00.020Z"
   },
   {
    "duration": 24688,
    "start_time": "2022-02-13T13:44:12.673Z"
   },
   {
    "duration": 19884,
    "start_time": "2022-02-13T13:55:26.017Z"
   },
   {
    "duration": 7,
    "start_time": "2022-02-13T13:59:04.042Z"
   },
   {
    "duration": 4,
    "start_time": "2022-02-13T13:59:27.070Z"
   },
   {
    "duration": 9,
    "start_time": "2022-02-13T13:59:27.598Z"
   },
   {
    "duration": 318,
    "start_time": "2022-02-13T13:59:51.697Z"
   },
   {
    "duration": 29,
    "start_time": "2022-02-13T13:59:55.617Z"
   },
   {
    "duration": 372,
    "start_time": "2022-02-13T13:59:57.753Z"
   },
   {
    "duration": 330,
    "start_time": "2022-02-13T14:00:00.401Z"
   },
   {
    "duration": 579,
    "start_time": "2022-02-13T14:00:05.601Z"
   },
   {
    "duration": 24,
    "start_time": "2022-02-13T14:00:10.632Z"
   },
   {
    "duration": 1071,
    "start_time": "2022-02-13T14:01:02.345Z"
   },
   {
    "duration": 906,
    "start_time": "2022-02-13T14:01:16.273Z"
   },
   {
    "duration": 353,
    "start_time": "2022-02-13T14:01:48.665Z"
   },
   {
    "duration": 6,
    "start_time": "2022-02-13T14:02:09.098Z"
   },
   {
    "duration": 1024,
    "start_time": "2022-02-13T14:02:10.730Z"
   },
   {
    "duration": 6,
    "start_time": "2022-02-13T14:02:16.977Z"
   },
   {
    "duration": 5,
    "start_time": "2022-02-13T14:02:22.393Z"
   },
   {
    "duration": 9,
    "start_time": "2022-02-13T14:02:22.937Z"
   },
   {
    "duration": 2129,
    "start_time": "2022-02-13T14:02:23.386Z"
   },
   {
    "duration": 1954,
    "start_time": "2022-02-13T14:03:58.198Z"
   },
   {
    "duration": 6,
    "start_time": "2022-02-13T14:11:00.402Z"
   },
   {
    "duration": 15,
    "start_time": "2022-02-13T14:11:06.379Z"
   },
   {
    "duration": 29,
    "start_time": "2022-02-13T14:14:59.131Z"
   },
   {
    "duration": 32,
    "start_time": "2022-02-13T14:15:23.811Z"
   },
   {
    "duration": 25,
    "start_time": "2022-02-13T14:16:04.899Z"
   },
   {
    "duration": 7,
    "start_time": "2022-02-13T14:16:32.827Z"
   },
   {
    "duration": 424,
    "start_time": "2022-02-13T14:20:16.093Z"
   },
   {
    "duration": 6,
    "start_time": "2022-02-13T14:26:17.363Z"
   },
   {
    "duration": 4877,
    "start_time": "2022-02-13T14:26:43.251Z"
   },
   {
    "duration": 1127,
    "start_time": "2022-02-13T14:31:50.283Z"
   },
   {
    "duration": 7,
    "start_time": "2022-02-13T14:33:29.933Z"
   },
   {
    "duration": 1388,
    "start_time": "2022-02-13T14:33:38.749Z"
   },
   {
    "duration": 4,
    "start_time": "2022-02-13T14:37:13.181Z"
   },
   {
    "duration": 8,
    "start_time": "2022-02-13T14:38:36.919Z"
   },
   {
    "duration": 159,
    "start_time": "2022-02-13T14:38:38.507Z"
   },
   {
    "duration": 6,
    "start_time": "2022-02-13T14:39:21.508Z"
   },
   {
    "duration": 241,
    "start_time": "2022-02-13T14:39:21.828Z"
   },
   {
    "duration": 6,
    "start_time": "2022-02-13T14:39:22.235Z"
   },
   {
    "duration": 1522,
    "start_time": "2022-02-13T14:39:54.856Z"
   },
   {
    "duration": 4,
    "start_time": "2022-02-13T14:56:24.945Z"
   },
   {
    "duration": 5,
    "start_time": "2022-02-13T14:56:28.257Z"
   },
   {
    "duration": 24,
    "start_time": "2022-02-13T14:56:28.488Z"
   },
   {
    "duration": 6,
    "start_time": "2022-02-13T14:57:34.901Z"
   },
   {
    "duration": 13,
    "start_time": "2022-02-13T14:57:49.246Z"
   },
   {
    "duration": 201,
    "start_time": "2022-02-13T14:57:49.405Z"
   },
   {
    "duration": 13,
    "start_time": "2022-02-13T14:58:39.196Z"
   },
   {
    "duration": 5,
    "start_time": "2022-02-13T14:59:14.286Z"
   },
   {
    "duration": 357,
    "start_time": "2022-02-13T15:03:40.326Z"
   },
   {
    "duration": 694,
    "start_time": "2022-02-13T15:03:46.605Z"
   },
   {
    "duration": 15,
    "start_time": "2022-02-13T15:04:13.894Z"
   },
   {
    "duration": 5,
    "start_time": "2022-02-13T15:04:14.885Z"
   },
   {
    "duration": 9,
    "start_time": "2022-02-13T15:04:15.774Z"
   },
   {
    "duration": 642,
    "start_time": "2022-02-13T15:04:16.413Z"
   },
   {
    "duration": 1801,
    "start_time": "2022-02-13T15:04:49.095Z"
   },
   {
    "duration": 4558,
    "start_time": "2022-02-13T15:04:50.899Z"
   },
   {
    "duration": 5,
    "start_time": "2022-02-13T15:04:55.460Z"
   },
   {
    "duration": 203,
    "start_time": "2022-02-13T15:04:55.468Z"
   },
   {
    "duration": 2361,
    "start_time": "2022-02-13T15:04:58.591Z"
   },
   {
    "duration": 5,
    "start_time": "2022-02-13T15:05:01.200Z"
   },
   {
    "duration": 25,
    "start_time": "2022-02-13T15:05:02.632Z"
   },
   {
    "duration": 536,
    "start_time": "2022-02-13T15:05:04.120Z"
   },
   {
    "duration": 5,
    "start_time": "2022-02-13T15:05:07.177Z"
   },
   {
    "duration": 8,
    "start_time": "2022-02-13T15:05:07.625Z"
   },
   {
    "duration": 6,
    "start_time": "2022-02-13T15:05:11.537Z"
   },
   {
    "duration": 4708,
    "start_time": "2022-02-13T15:05:12.705Z"
   },
   {
    "duration": 1162,
    "start_time": "2022-02-13T15:05:19.450Z"
   },
   {
    "duration": 1261,
    "start_time": "2022-02-13T15:05:20.921Z"
   },
   {
    "duration": 7,
    "start_time": "2022-02-13T15:05:23.915Z"
   },
   {
    "duration": 1440,
    "start_time": "2022-02-13T15:05:25.775Z"
   },
   {
    "duration": 5,
    "start_time": "2022-02-13T15:05:28.197Z"
   },
   {
    "duration": 8,
    "start_time": "2022-02-13T15:05:29.126Z"
   },
   {
    "duration": 161,
    "start_time": "2022-02-13T15:05:31.141Z"
   },
   {
    "duration": 5,
    "start_time": "2022-02-13T15:05:31.620Z"
   },
   {
    "duration": 185,
    "start_time": "2022-02-13T15:05:32.108Z"
   },
   {
    "duration": 5,
    "start_time": "2022-02-13T15:05:32.453Z"
   },
   {
    "duration": 1417,
    "start_time": "2022-02-13T15:05:33.332Z"
   },
   {
    "duration": 6,
    "start_time": "2022-02-13T15:05:37.327Z"
   },
   {
    "duration": 9,
    "start_time": "2022-02-13T15:05:37.989Z"
   },
   {
    "duration": 13,
    "start_time": "2022-02-13T15:05:41.701Z"
   },
   {
    "duration": 6,
    "start_time": "2022-02-13T15:05:46.431Z"
   },
   {
    "duration": 6,
    "start_time": "2022-02-13T15:05:46.997Z"
   },
   {
    "duration": 2201,
    "start_time": "2022-02-13T15:05:47.942Z"
   },
   {
    "duration": 6,
    "start_time": "2022-02-13T15:06:01.816Z"
   },
   {
    "duration": 2023,
    "start_time": "2022-02-13T15:06:02.608Z"
   },
   {
    "duration": 21821,
    "start_time": "2022-02-13T15:06:04.635Z"
   },
   {
    "duration": 1652,
    "start_time": "2022-02-13T15:07:22.776Z"
   },
   {
    "duration": 27349,
    "start_time": "2022-02-13T15:07:59.721Z"
   },
   {
    "duration": 5,
    "start_time": "2022-02-13T15:12:22.373Z"
   },
   {
    "duration": 7,
    "start_time": "2022-02-13T15:12:33.560Z"
   },
   {
    "duration": 595,
    "start_time": "2022-02-13T15:13:42.905Z"
   },
   {
    "duration": 469,
    "start_time": "2022-02-13T15:13:52.856Z"
   },
   {
    "duration": 493,
    "start_time": "2022-02-13T15:14:31.433Z"
   },
   {
    "duration": 787,
    "start_time": "2022-02-13T15:14:49.985Z"
   },
   {
    "duration": 19,
    "start_time": "2022-02-13T15:15:05.939Z"
   },
   {
    "duration": 5,
    "start_time": "2022-02-13T15:15:08.475Z"
   },
   {
    "duration": 6,
    "start_time": "2022-02-13T15:15:09.483Z"
   },
   {
    "duration": 2280,
    "start_time": "2022-02-13T15:15:10.845Z"
   },
   {
    "duration": 18868,
    "start_time": "2022-02-13T15:15:16.796Z"
   },
   {
    "duration": 2167,
    "start_time": "2022-02-13T15:15:39.360Z"
   },
   {
    "duration": 25031,
    "start_time": "2022-02-13T15:15:43.608Z"
   },
   {
    "duration": 6,
    "start_time": "2022-02-13T15:16:12.252Z"
   },
   {
    "duration": 10,
    "start_time": "2022-02-13T15:16:39.105Z"
   },
   {
    "duration": 40,
    "start_time": "2022-02-13T15:16:44.465Z"
   },
   {
    "duration": 1665,
    "start_time": "2022-02-13T15:17:02.621Z"
   },
   {
    "duration": 984,
    "start_time": "2022-02-13T15:17:04.289Z"
   },
   {
    "duration": 4,
    "start_time": "2022-02-13T15:17:05.277Z"
   },
   {
    "duration": 190,
    "start_time": "2022-02-13T15:17:05.285Z"
   },
   {
    "duration": 2205,
    "start_time": "2022-02-13T15:17:05.478Z"
   },
   {
    "duration": 8,
    "start_time": "2022-02-13T15:17:07.687Z"
   },
   {
    "duration": 286,
    "start_time": "2022-02-13T15:17:07.697Z"
   },
   {
    "duration": 596,
    "start_time": "2022-02-13T15:17:07.989Z"
   },
   {
    "duration": 3,
    "start_time": "2022-02-13T15:17:08.588Z"
   },
   {
    "duration": 219,
    "start_time": "2022-02-13T15:17:08.593Z"
   },
   {
    "duration": 182,
    "start_time": "2022-02-13T15:17:08.814Z"
   },
   {
    "duration": 4948,
    "start_time": "2022-02-13T15:17:08.999Z"
   },
   {
    "duration": 961,
    "start_time": "2022-02-13T15:17:13.954Z"
   },
   {
    "duration": 1100,
    "start_time": "2022-02-13T15:17:14.923Z"
   },
   {
    "duration": 8,
    "start_time": "2022-02-13T15:17:16.027Z"
   },
   {
    "duration": 1704,
    "start_time": "2022-02-13T15:17:16.038Z"
   },
   {
    "duration": 5,
    "start_time": "2022-02-13T15:17:17.745Z"
   },
   {
    "duration": 312,
    "start_time": "2022-02-13T15:17:17.753Z"
   },
   {
    "duration": 344,
    "start_time": "2022-02-13T15:17:18.067Z"
   },
   {
    "duration": 42,
    "start_time": "2022-02-13T15:17:18.424Z"
   },
   {
    "duration": 417,
    "start_time": "2022-02-13T15:17:18.469Z"
   },
   {
    "duration": 8,
    "start_time": "2022-02-13T15:17:18.888Z"
   },
   {
    "duration": 2088,
    "start_time": "2022-02-13T15:17:18.899Z"
   },
   {
    "duration": 6,
    "start_time": "2022-02-13T15:17:20.990Z"
   },
   {
    "duration": 174,
    "start_time": "2022-02-13T15:17:20.999Z"
   },
   {
    "duration": 16,
    "start_time": "2022-02-13T15:17:28.000Z"
   },
   {
    "duration": 42,
    "start_time": "2022-02-13T15:17:34.859Z"
   },
   {
    "duration": 44,
    "start_time": "2022-02-13T15:17:54.308Z"
   },
   {
    "duration": 663,
    "start_time": "2022-02-13T15:17:58.451Z"
   },
   {
    "duration": 41,
    "start_time": "2022-02-13T15:18:01.355Z"
   },
   {
    "duration": 43,
    "start_time": "2022-02-13T15:18:21.595Z"
   },
   {
    "duration": 23,
    "start_time": "2022-02-13T15:18:44.706Z"
   },
   {
    "duration": 1616,
    "start_time": "2022-02-13T15:18:55.260Z"
   },
   {
    "duration": 989,
    "start_time": "2022-02-13T15:18:56.879Z"
   },
   {
    "duration": 4,
    "start_time": "2022-02-13T15:18:57.871Z"
   },
   {
    "duration": 191,
    "start_time": "2022-02-13T15:18:57.879Z"
   },
   {
    "duration": 2244,
    "start_time": "2022-02-13T15:18:58.073Z"
   },
   {
    "duration": 5,
    "start_time": "2022-02-13T15:19:01.275Z"
   },
   {
    "duration": 25,
    "start_time": "2022-02-13T15:19:01.620Z"
   },
   {
    "duration": 3,
    "start_time": "2022-02-13T15:19:02.372Z"
   },
   {
    "duration": 25,
    "start_time": "2022-02-13T15:19:02.747Z"
   },
   {
    "duration": 7,
    "start_time": "2022-02-13T15:19:03.603Z"
   },
   {
    "duration": 6,
    "start_time": "2022-02-13T15:19:10.757Z"
   },
   {
    "duration": 4709,
    "start_time": "2022-02-13T15:19:11.503Z"
   },
   {
    "duration": 959,
    "start_time": "2022-02-13T15:19:16.214Z"
   },
   {
    "duration": 1401,
    "start_time": "2022-02-13T15:19:17.176Z"
   },
   {
    "duration": 10,
    "start_time": "2022-02-13T15:19:18.581Z"
   },
   {
    "duration": 2589,
    "start_time": "2022-02-13T15:19:18.593Z"
   },
   {
    "duration": 5,
    "start_time": "2022-02-13T15:19:21.184Z"
   },
   {
    "duration": 383,
    "start_time": "2022-02-13T15:19:21.191Z"
   },
   {
    "duration": 468,
    "start_time": "2022-02-13T15:19:21.579Z"
   },
   {
    "duration": 220,
    "start_time": "2022-02-13T15:19:22.050Z"
   },
   {
    "duration": 614,
    "start_time": "2022-02-13T15:19:22.272Z"
   },
   {
    "duration": 37,
    "start_time": "2022-02-13T15:19:22.888Z"
   },
   {
    "duration": 1629,
    "start_time": "2022-02-13T15:19:22.929Z"
   },
   {
    "duration": 5,
    "start_time": "2022-02-13T15:19:24.560Z"
   },
   {
    "duration": 356,
    "start_time": "2022-02-13T15:19:24.567Z"
   },
   {
    "duration": 12,
    "start_time": "2022-02-13T15:19:28.783Z"
   },
   {
    "duration": 46,
    "start_time": "2022-02-13T15:19:29.648Z"
   },
   {
    "duration": 47,
    "start_time": "2022-02-13T15:21:00.969Z"
   },
   {
    "duration": 590,
    "start_time": "2022-02-13T15:21:04.378Z"
   },
   {
    "duration": 52,
    "start_time": "2022-02-13T15:21:07.405Z"
   },
   {
    "duration": 39,
    "start_time": "2022-02-13T15:21:11.962Z"
   },
   {
    "duration": 173,
    "start_time": "2022-02-13T15:21:17.225Z"
   },
   {
    "duration": 61,
    "start_time": "2022-02-13T15:21:47.826Z"
   },
   {
    "duration": 5,
    "start_time": "2022-02-13T15:21:50.475Z"
   },
   {
    "duration": 10,
    "start_time": "2022-02-13T15:21:51.268Z"
   },
   {
    "duration": 807,
    "start_time": "2022-02-13T15:21:53.747Z"
   },
   {
    "duration": 6,
    "start_time": "2022-02-13T15:22:06.530Z"
   },
   {
    "duration": 2240,
    "start_time": "2022-02-13T15:22:07.586Z"
   },
   {
    "duration": 20077,
    "start_time": "2022-02-13T15:22:11.475Z"
   },
   {
    "duration": 4,
    "start_time": "2022-02-13T15:22:31.555Z"
   },
   {
    "duration": 218,
    "start_time": "2022-02-13T15:22:31.563Z"
   },
   {
    "duration": 2142,
    "start_time": "2022-02-13T15:22:31.784Z"
   },
   {
    "duration": 27096,
    "start_time": "2022-02-13T15:22:33.930Z"
   },
   {
    "duration": 6,
    "start_time": "2022-02-13T15:23:01.029Z"
   },
   {
    "duration": 1511,
    "start_time": "2022-02-13T15:23:51.017Z"
   },
   {
    "duration": 11615,
    "start_time": "2022-02-13T15:23:55.292Z"
   },
   {
    "duration": 1638,
    "start_time": "2022-02-13T15:55:16.292Z"
   },
   {
    "duration": 5,
    "start_time": "2022-02-13T15:55:52.508Z"
   },
   {
    "duration": 1329,
    "start_time": "2022-02-13T15:56:20.595Z"
   },
   {
    "duration": 7,
    "start_time": "2022-02-13T15:56:21.928Z"
   },
   {
    "duration": 6,
    "start_time": "2022-02-13T15:56:38.892Z"
   },
   {
    "duration": 10488,
    "start_time": "2022-02-13T16:03:21.553Z"
   },
   {
    "duration": 12109,
    "start_time": "2022-02-13T16:03:32.044Z"
   },
   {
    "duration": 2205,
    "start_time": "2022-02-13T16:12:06.164Z"
   },
   {
    "duration": 1042,
    "start_time": "2022-02-13T16:12:22.839Z"
   },
   {
    "duration": 4,
    "start_time": "2022-02-13T16:12:26.111Z"
   },
   {
    "duration": 11,
    "start_time": "2022-02-13T16:12:27.262Z"
   },
   {
    "duration": 1882,
    "start_time": "2022-02-13T16:12:31.494Z"
   },
   {
    "duration": 6,
    "start_time": "2022-02-13T16:12:38.320Z"
   },
   {
    "duration": 26,
    "start_time": "2022-02-13T16:12:39.137Z"
   },
   {
    "duration": 3,
    "start_time": "2022-02-13T16:12:42.120Z"
   },
   {
    "duration": 27,
    "start_time": "2022-02-13T16:12:42.289Z"
   },
   {
    "duration": 8,
    "start_time": "2022-02-13T16:12:44.527Z"
   },
   {
    "duration": 1166,
    "start_time": "2022-02-13T17:33:25.480Z"
   },
   {
    "duration": 3862,
    "start_time": "2022-02-13T17:33:26.751Z"
   },
   {
    "duration": 2,
    "start_time": "2022-02-13T17:33:30.615Z"
   },
   {
    "duration": 5,
    "start_time": "2022-02-13T17:34:16.092Z"
   },
   {
    "duration": 1202,
    "start_time": "2022-02-13T17:34:17.925Z"
   },
   {
    "duration": 3,
    "start_time": "2022-02-13T17:34:52.527Z"
   },
   {
    "duration": 12,
    "start_time": "2022-02-13T17:34:53.133Z"
   },
   {
    "duration": 66,
    "start_time": "2022-02-13T17:35:10.726Z"
   },
   {
    "duration": 5,
    "start_time": "2022-02-13T17:35:11.495Z"
   },
   {
    "duration": 6,
    "start_time": "2022-02-13T17:35:51.361Z"
   },
   {
    "duration": 2742,
    "start_time": "2022-02-13T17:35:52.860Z"
   },
   {
    "duration": 592,
    "start_time": "2022-02-13T17:36:36.523Z"
   },
   {
    "duration": 779,
    "start_time": "2022-02-13T17:36:38.240Z"
   },
   {
    "duration": 6,
    "start_time": "2022-02-13T17:37:31.155Z"
   },
   {
    "duration": 872,
    "start_time": "2022-02-13T17:37:41.208Z"
   },
   {
    "duration": 3,
    "start_time": "2022-02-13T17:37:42.287Z"
   },
   {
    "duration": 4,
    "start_time": "2022-02-13T17:37:43.512Z"
   },
   {
    "duration": 102,
    "start_time": "2022-02-13T17:37:44.105Z"
   },
   {
    "duration": 4,
    "start_time": "2022-02-13T17:37:45.218Z"
   },
   {
    "duration": 122,
    "start_time": "2022-02-13T17:37:45.549Z"
   },
   {
    "duration": 5,
    "start_time": "2022-02-13T17:37:45.752Z"
   },
   {
    "duration": 847,
    "start_time": "2022-02-13T17:37:46.458Z"
   },
   {
    "duration": 3,
    "start_time": "2022-02-13T17:43:21.585Z"
   },
   {
    "duration": 2,
    "start_time": "2022-02-13T17:43:22.345Z"
   },
   {
    "duration": 9,
    "start_time": "2022-02-13T17:47:33.940Z"
   },
   {
    "duration": 26,
    "start_time": "2022-02-13T17:47:34.626Z"
   },
   {
    "duration": 3,
    "start_time": "2022-02-13T17:48:10.507Z"
   },
   {
    "duration": 4,
    "start_time": "2022-02-13T17:48:12.057Z"
   },
   {
    "duration": 1184,
    "start_time": "2022-02-13T17:48:13.576Z"
   },
   {
    "duration": 14038,
    "start_time": "2022-02-13T17:48:53.656Z"
   },
   {
    "duration": 1228,
    "start_time": "2022-02-13T17:49:26.534Z"
   },
   {
    "duration": 16893,
    "start_time": "2022-02-13T17:49:27.919Z"
   },
   {
    "duration": 4,
    "start_time": "2022-02-13T17:49:44.813Z"
   },
   {
    "duration": 1142,
    "start_time": "2022-02-13T17:49:44.819Z"
   },
   {
    "duration": 1097,
    "start_time": "2022-02-13T17:49:45.963Z"
   },
   {
    "duration": 7184,
    "start_time": "2022-02-13T17:49:47.062Z"
   },
   {
    "duration": 7334,
    "start_time": "2022-02-13T17:49:54.248Z"
   },
   {
    "duration": 3,
    "start_time": "2022-02-13T17:50:01.584Z"
   },
   {
    "duration": 25,
    "start_time": "2022-02-13T17:51:02.559Z"
   },
   {
    "duration": 4,
    "start_time": "2022-02-13T17:51:35.096Z"
   },
   {
    "duration": 57,
    "start_time": "2022-02-13T17:52:25.878Z"
   },
   {
    "duration": 54,
    "start_time": "2022-02-13T17:54:46.773Z"
   },
   {
    "duration": 5,
    "start_time": "2022-02-13T17:55:02.373Z"
   },
   {
    "duration": 26,
    "start_time": "2022-02-13T17:56:29.075Z"
   },
   {
    "duration": 280,
    "start_time": "2022-02-13T17:57:40.225Z"
   },
   {
    "duration": 6,
    "start_time": "2022-02-13T17:58:00.085Z"
   },
   {
    "duration": 252,
    "start_time": "2022-02-13T17:58:24.122Z"
   },
   {
    "duration": 32,
    "start_time": "2022-02-13T17:58:41.746Z"
   },
   {
    "duration": 12,
    "start_time": "2022-02-13T17:59:16.785Z"
   },
   {
    "duration": 12,
    "start_time": "2022-02-13T18:01:13.728Z"
   },
   {
    "duration": 12,
    "start_time": "2022-02-13T18:01:26.672Z"
   },
   {
    "duration": 7,
    "start_time": "2022-02-13T18:21:24.535Z"
   },
   {
    "duration": 7,
    "start_time": "2022-02-13T18:21:31.416Z"
   },
   {
    "duration": 7,
    "start_time": "2022-02-13T18:21:44.768Z"
   },
   {
    "duration": 99,
    "start_time": "2022-02-13T18:22:09.601Z"
   },
   {
    "duration": 6,
    "start_time": "2022-02-13T18:22:32.017Z"
   },
   {
    "duration": 118,
    "start_time": "2022-02-13T18:22:44.258Z"
   },
   {
    "duration": 7,
    "start_time": "2022-02-13T18:22:47.505Z"
   },
   {
    "duration": 493,
    "start_time": "2022-02-13T18:22:51.051Z"
   },
   {
    "duration": 10,
    "start_time": "2022-02-13T18:22:55.546Z"
   },
   {
    "duration": 8,
    "start_time": "2022-02-13T18:23:52.217Z"
   },
   {
    "duration": 7,
    "start_time": "2022-02-13T18:24:26.238Z"
   },
   {
    "duration": 345,
    "start_time": "2022-02-13T18:24:49.473Z"
   },
   {
    "duration": 9,
    "start_time": "2022-02-13T18:24:54.225Z"
   },
   {
    "duration": 6,
    "start_time": "2022-02-13T18:25:57.694Z"
   },
   {
    "duration": 9,
    "start_time": "2022-02-13T18:26:03.265Z"
   },
   {
    "duration": 7,
    "start_time": "2022-02-13T18:26:04.482Z"
   },
   {
    "duration": 7,
    "start_time": "2022-02-13T18:32:29.569Z"
   },
   {
    "duration": 114,
    "start_time": "2022-02-13T18:36:36.202Z"
   },
   {
    "duration": 20,
    "start_time": "2022-02-13T18:36:39.642Z"
   },
   {
    "duration": 314,
    "start_time": "2022-02-13T18:38:31.543Z"
   },
   {
    "duration": 13,
    "start_time": "2022-02-13T18:38:34.989Z"
   },
   {
    "duration": 8,
    "start_time": "2022-02-13T18:38:35.362Z"
   },
   {
    "duration": 103,
    "start_time": "2022-02-13T18:39:20.313Z"
   },
   {
    "duration": 334,
    "start_time": "2022-02-13T18:39:59.458Z"
   },
   {
    "duration": 17,
    "start_time": "2022-02-13T18:40:09.918Z"
   },
   {
    "duration": 10,
    "start_time": "2022-02-13T18:40:15.042Z"
   },
   {
    "duration": 1842,
    "start_time": "2022-02-13T18:43:02.101Z"
   },
   {
    "duration": 4577,
    "start_time": "2022-02-13T18:43:03.945Z"
   },
   {
    "duration": 6,
    "start_time": "2022-02-13T18:43:08.525Z"
   },
   {
    "duration": 164,
    "start_time": "2022-02-13T18:43:08.533Z"
   },
   {
    "duration": 2048,
    "start_time": "2022-02-13T18:43:08.699Z"
   },
   {
    "duration": 7,
    "start_time": "2022-02-13T18:43:10.751Z"
   },
   {
    "duration": 375,
    "start_time": "2022-02-13T18:43:10.761Z"
   },
   {
    "duration": 235,
    "start_time": "2022-02-13T18:43:11.142Z"
   },
   {
    "duration": 285,
    "start_time": "2022-02-13T18:43:11.382Z"
   },
   {
    "duration": 192,
    "start_time": "2022-02-13T18:43:11.669Z"
   },
   {
    "duration": 264,
    "start_time": "2022-02-13T18:43:11.864Z"
   },
   {
    "duration": 5296,
    "start_time": "2022-02-13T18:43:12.131Z"
   },
   {
    "duration": 1114,
    "start_time": "2022-02-13T18:43:17.430Z"
   },
   {
    "duration": 1148,
    "start_time": "2022-02-13T18:43:18.549Z"
   },
   {
    "duration": 9,
    "start_time": "2022-02-13T18:43:19.700Z"
   },
   {
    "duration": 1668,
    "start_time": "2022-02-13T18:43:19.711Z"
   },
   {
    "duration": 4,
    "start_time": "2022-02-13T18:43:21.382Z"
   },
   {
    "duration": 198,
    "start_time": "2022-02-13T18:43:21.389Z"
   },
   {
    "duration": 329,
    "start_time": "2022-02-13T18:43:21.589Z"
   },
   {
    "duration": 6,
    "start_time": "2022-02-13T18:43:21.924Z"
   },
   {
    "duration": 451,
    "start_time": "2022-02-13T18:43:21.933Z"
   },
   {
    "duration": 9,
    "start_time": "2022-02-13T18:43:22.387Z"
   },
   {
    "duration": 1675,
    "start_time": "2022-02-13T18:43:22.402Z"
   },
   {
    "duration": 4,
    "start_time": "2022-02-13T18:43:24.080Z"
   },
   {
    "duration": 174,
    "start_time": "2022-02-13T18:43:24.087Z"
   },
   {
    "duration": 207,
    "start_time": "2022-02-13T18:43:24.264Z"
   },
   {
    "duration": 170,
    "start_time": "2022-02-13T18:43:24.474Z"
   },
   {
    "duration": 187,
    "start_time": "2022-02-13T18:43:24.646Z"
   },
   {
    "duration": 186,
    "start_time": "2022-02-13T18:43:24.835Z"
   },
   {
    "duration": 168,
    "start_time": "2022-02-13T18:43:25.025Z"
   },
   {
    "duration": 175,
    "start_time": "2022-02-13T18:43:25.195Z"
   },
   {
    "duration": 226,
    "start_time": "2022-02-13T18:43:25.374Z"
   },
   {
    "duration": 176,
    "start_time": "2022-02-13T18:43:25.604Z"
   },
   {
    "duration": 188,
    "start_time": "2022-02-13T18:43:25.782Z"
   },
   {
    "duration": 174,
    "start_time": "2022-02-13T18:43:25.973Z"
   },
   {
    "duration": 2009,
    "start_time": "2022-02-13T18:43:26.150Z"
   },
   {
    "duration": 22512,
    "start_time": "2022-02-13T18:43:28.225Z"
   },
   {
    "duration": 4,
    "start_time": "2022-02-13T18:43:50.740Z"
   },
   {
    "duration": 185,
    "start_time": "2022-02-13T18:43:50.746Z"
   },
   {
    "duration": 2113,
    "start_time": "2022-02-13T18:43:50.934Z"
   },
   {
    "duration": 25015,
    "start_time": "2022-02-13T18:43:53.127Z"
   },
   {
    "duration": 6,
    "start_time": "2022-02-13T18:44:18.145Z"
   },
   {
    "duration": 1677,
    "start_time": "2022-02-13T18:44:18.154Z"
   },
   {
    "duration": 2004,
    "start_time": "2022-02-13T18:44:19.922Z"
   },
   {
    "duration": 10606,
    "start_time": "2022-02-13T18:44:21.929Z"
   },
   {
    "duration": 10935,
    "start_time": "2022-02-13T18:44:32.537Z"
   },
   {
    "duration": 5,
    "start_time": "2022-02-13T18:44:43.475Z"
   },
   {
    "duration": 166,
    "start_time": "2022-02-13T18:44:43.483Z"
   },
   {
    "duration": 176,
    "start_time": "2022-02-13T18:44:43.652Z"
   },
   {
    "duration": 142,
    "start_time": "2022-02-13T18:44:43.831Z"
   },
   {
    "duration": 172,
    "start_time": "2022-02-13T18:44:43.975Z"
   },
   {
    "duration": 1496,
    "start_time": "2022-02-14T07:39:54.072Z"
   },
   {
    "duration": 835,
    "start_time": "2022-02-14T07:39:55.571Z"
   },
   {
    "duration": 4,
    "start_time": "2022-02-14T07:40:00.644Z"
   },
   {
    "duration": 6,
    "start_time": "2022-02-14T07:40:02.409Z"
   },
   {
    "duration": 1647,
    "start_time": "2022-02-14T07:40:03.569Z"
   },
   {
    "duration": 5,
    "start_time": "2022-02-14T07:40:05.663Z"
   },
   {
    "duration": 21,
    "start_time": "2022-02-14T07:40:05.818Z"
   },
   {
    "duration": 4,
    "start_time": "2022-02-14T07:40:06.889Z"
   },
   {
    "duration": 24,
    "start_time": "2022-02-14T07:40:07.300Z"
   },
   {
    "duration": 6,
    "start_time": "2022-02-14T07:40:07.656Z"
   },
   {
    "duration": 6,
    "start_time": "2022-02-14T07:40:08.980Z"
   },
   {
    "duration": 4462,
    "start_time": "2022-02-14T07:40:09.645Z"
   },
   {
    "duration": 919,
    "start_time": "2022-02-14T07:40:14.111Z"
   },
   {
    "duration": 1049,
    "start_time": "2022-02-14T07:40:15.033Z"
   },
   {
    "duration": 7,
    "start_time": "2022-02-14T07:40:16.085Z"
   },
   {
    "duration": 1326,
    "start_time": "2022-02-14T07:40:16.094Z"
   },
   {
    "duration": 4,
    "start_time": "2022-02-14T07:40:17.423Z"
   },
   {
    "duration": 8,
    "start_time": "2022-02-14T07:40:17.429Z"
   },
   {
    "duration": 167,
    "start_time": "2022-02-14T07:40:17.439Z"
   },
   {
    "duration": 5,
    "start_time": "2022-02-14T07:40:17.608Z"
   },
   {
    "duration": 192,
    "start_time": "2022-02-14T07:40:17.617Z"
   },
   {
    "duration": 6,
    "start_time": "2022-02-14T07:40:17.812Z"
   },
   {
    "duration": 1330,
    "start_time": "2022-02-14T07:40:17.821Z"
   },
   {
    "duration": 4,
    "start_time": "2022-02-14T07:40:23.205Z"
   },
   {
    "duration": 4,
    "start_time": "2022-02-14T07:40:23.393Z"
   },
   {
    "duration": 13,
    "start_time": "2022-02-14T07:40:25.510Z"
   },
   {
    "duration": 7,
    "start_time": "2022-02-14T07:40:29.968Z"
   },
   {
    "duration": 6,
    "start_time": "2022-02-14T07:40:30.356Z"
   },
   {
    "duration": 19,
    "start_time": "2022-02-14T07:40:33.431Z"
   },
   {
    "duration": 17,
    "start_time": "2022-02-14T07:40:36.293Z"
   },
   {
    "duration": 18,
    "start_time": "2022-02-14T07:43:59.812Z"
   },
   {
    "duration": 26,
    "start_time": "2022-02-14T07:44:21.414Z"
   },
   {
    "duration": 569,
    "start_time": "2022-02-14T07:46:20.951Z"
   },
   {
    "duration": 17,
    "start_time": "2022-02-14T07:46:41.796Z"
   },
   {
    "duration": 18,
    "start_time": "2022-02-14T07:48:04.232Z"
   },
   {
    "duration": 290,
    "start_time": "2022-02-14T07:48:05.045Z"
   },
   {
    "duration": 22,
    "start_time": "2022-02-14T07:48:23.860Z"
   },
   {
    "duration": 278,
    "start_time": "2022-02-14T07:49:52.657Z"
   },
   {
    "duration": 14,
    "start_time": "2022-02-14T07:50:25.274Z"
   },
   {
    "duration": 21,
    "start_time": "2022-02-14T07:50:27.179Z"
   },
   {
    "duration": 43,
    "start_time": "2022-02-14T07:51:00.699Z"
   },
   {
    "duration": 7,
    "start_time": "2022-02-14T07:51:31.067Z"
   },
   {
    "duration": 51,
    "start_time": "2022-02-14T07:51:37.396Z"
   },
   {
    "duration": 7,
    "start_time": "2022-02-14T07:51:45.472Z"
   },
   {
    "duration": 14,
    "start_time": "2022-02-14T07:52:01.898Z"
   },
   {
    "duration": 23,
    "start_time": "2022-02-14T07:52:03.136Z"
   },
   {
    "duration": 301,
    "start_time": "2022-02-14T07:54:30.735Z"
   },
   {
    "duration": 427,
    "start_time": "2022-02-14T07:54:44.439Z"
   },
   {
    "duration": 16,
    "start_time": "2022-02-14T07:54:45.358Z"
   },
   {
    "duration": 16,
    "start_time": "2022-02-14T07:55:29.347Z"
   },
   {
    "duration": 25,
    "start_time": "2022-02-14T07:55:32.049Z"
   },
   {
    "duration": 15,
    "start_time": "2022-02-14T07:55:34.154Z"
   },
   {
    "duration": 50,
    "start_time": "2022-02-14T07:56:34.023Z"
   },
   {
    "duration": 11,
    "start_time": "2022-02-14T07:56:45.805Z"
   },
   {
    "duration": 7,
    "start_time": "2022-02-14T07:58:54.724Z"
   },
   {
    "duration": 21,
    "start_time": "2022-02-14T07:58:56.049Z"
   },
   {
    "duration": 38,
    "start_time": "2022-02-14T07:59:31.369Z"
   },
   {
    "duration": 924,
    "start_time": "2022-02-14T08:00:34.075Z"
   },
   {
    "duration": 17,
    "start_time": "2022-02-14T08:00:36.041Z"
   },
   {
    "duration": 40,
    "start_time": "2022-02-14T08:00:37.191Z"
   },
   {
    "duration": 5,
    "start_time": "2022-02-14T08:00:59.721Z"
   },
   {
    "duration": 15,
    "start_time": "2022-02-14T08:01:00.794Z"
   },
   {
    "duration": 14,
    "start_time": "2022-02-14T08:01:33.180Z"
   },
   {
    "duration": 15,
    "start_time": "2022-02-14T08:01:34.047Z"
   },
   {
    "duration": 15,
    "start_time": "2022-02-14T08:03:13.378Z"
   },
   {
    "duration": 845,
    "start_time": "2022-02-14T08:05:12.425Z"
   },
   {
    "duration": 19,
    "start_time": "2022-02-14T08:05:23.824Z"
   },
   {
    "duration": 41,
    "start_time": "2022-02-14T08:05:28.780Z"
   },
   {
    "duration": 14,
    "start_time": "2022-02-14T08:05:56.243Z"
   },
   {
    "duration": 267,
    "start_time": "2022-02-14T08:07:50.442Z"
   },
   {
    "duration": 5,
    "start_time": "2022-02-14T08:08:26.385Z"
   },
   {
    "duration": 10,
    "start_time": "2022-02-14T08:08:45.834Z"
   },
   {
    "duration": 16,
    "start_time": "2022-02-14T08:10:27.234Z"
   },
   {
    "duration": 50,
    "start_time": "2022-02-14T08:10:36.807Z"
   },
   {
    "duration": 47,
    "start_time": "2022-02-14T08:10:59.410Z"
   },
   {
    "duration": 22,
    "start_time": "2022-02-14T08:11:09.344Z"
   },
   {
    "duration": 811,
    "start_time": "2022-02-14T08:14:08.248Z"
   },
   {
    "duration": 15,
    "start_time": "2022-02-14T08:14:11.612Z"
   },
   {
    "duration": 287,
    "start_time": "2022-02-14T08:14:12.570Z"
   },
   {
    "duration": 19,
    "start_time": "2022-02-14T08:14:18.198Z"
   },
   {
    "duration": 14,
    "start_time": "2022-02-14T08:14:19.047Z"
   },
   {
    "duration": 15,
    "start_time": "2022-02-14T08:14:19.944Z"
   },
   {
    "duration": 13,
    "start_time": "2022-02-14T08:14:23.530Z"
   },
   {
    "duration": 281,
    "start_time": "2022-02-14T08:15:55.165Z"
   },
   {
    "duration": 83,
    "start_time": "2022-02-14T08:16:14.256Z"
   },
   {
    "duration": 15,
    "start_time": "2022-02-14T08:16:46.224Z"
   },
   {
    "duration": 4,
    "start_time": "2022-02-14T08:18:16.712Z"
   },
   {
    "duration": 307,
    "start_time": "2022-02-14T08:18:35.773Z"
   },
   {
    "duration": 3,
    "start_time": "2022-02-14T08:18:49.110Z"
   },
   {
    "duration": 502,
    "start_time": "2022-02-14T08:18:54.825Z"
   },
   {
    "duration": 304,
    "start_time": "2022-02-14T08:19:39.161Z"
   },
   {
    "duration": 277,
    "start_time": "2022-02-14T08:19:52.771Z"
   },
   {
    "duration": 1203,
    "start_time": "2022-02-14T16:04:04.642Z"
   },
   {
    "duration": 700,
    "start_time": "2022-02-14T16:04:06.643Z"
   },
   {
    "duration": 3,
    "start_time": "2022-02-14T16:04:07.345Z"
   },
   {
    "duration": 4,
    "start_time": "2022-02-14T16:04:07.561Z"
   },
   {
    "duration": 1112,
    "start_time": "2022-02-14T16:04:07.873Z"
   },
   {
    "duration": 4,
    "start_time": "2022-02-14T16:04:08.987Z"
   },
   {
    "duration": 26,
    "start_time": "2022-02-14T16:04:08.993Z"
   },
   {
    "duration": 2,
    "start_time": "2022-02-14T16:04:09.514Z"
   },
   {
    "duration": 20,
    "start_time": "2022-02-14T16:04:09.699Z"
   },
   {
    "duration": 6,
    "start_time": "2022-02-14T16:04:10.050Z"
   },
   {
    "duration": 4,
    "start_time": "2022-02-14T16:04:13.731Z"
   },
   {
    "duration": 2961,
    "start_time": "2022-02-14T16:04:14.098Z"
   },
   {
    "duration": 591,
    "start_time": "2022-02-14T16:04:17.292Z"
   },
   {
    "duration": 717,
    "start_time": "2022-02-14T16:04:17.885Z"
   },
   {
    "duration": 5,
    "start_time": "2022-02-14T16:04:21.004Z"
   },
   {
    "duration": 894,
    "start_time": "2022-02-14T16:04:22.443Z"
   },
   {
    "duration": 3,
    "start_time": "2022-02-14T16:04:24.911Z"
   },
   {
    "duration": 4,
    "start_time": "2022-02-14T16:04:25.580Z"
   },
   {
    "duration": 101,
    "start_time": "2022-02-14T16:04:27.285Z"
   },
   {
    "duration": 3,
    "start_time": "2022-02-14T16:04:28.044Z"
   },
   {
    "duration": 118,
    "start_time": "2022-02-14T16:04:28.541Z"
   },
   {
    "duration": 5,
    "start_time": "2022-02-14T16:04:29.047Z"
   },
   {
    "duration": 889,
    "start_time": "2022-02-14T16:04:30.373Z"
   },
   {
    "duration": 3,
    "start_time": "2022-02-14T16:05:27.291Z"
   },
   {
    "duration": 3,
    "start_time": "2022-02-14T16:05:31.828Z"
   },
   {
    "duration": 9,
    "start_time": "2022-02-14T16:05:53.185Z"
   },
   {
    "duration": 4,
    "start_time": "2022-02-14T16:05:54.488Z"
   },
   {
    "duration": 5,
    "start_time": "2022-02-14T16:05:54.945Z"
   },
   {
    "duration": 13,
    "start_time": "2022-02-14T16:05:56.080Z"
   },
   {
    "duration": 13,
    "start_time": "2022-02-14T16:05:56.369Z"
   },
   {
    "duration": 6,
    "start_time": "2022-02-14T16:05:57.721Z"
   },
   {
    "duration": 4,
    "start_time": "2022-02-14T16:05:58.248Z"
   },
   {
    "duration": 20,
    "start_time": "2022-02-14T16:06:28.915Z"
   },
   {
    "duration": 16,
    "start_time": "2022-02-14T16:06:32.261Z"
   },
   {
    "duration": 24,
    "start_time": "2022-02-14T16:06:51.206Z"
   },
   {
    "duration": 22,
    "start_time": "2022-02-14T16:06:59.965Z"
   },
   {
    "duration": 19,
    "start_time": "2022-02-14T16:09:41.189Z"
   },
   {
    "duration": 17,
    "start_time": "2022-02-14T16:09:41.622Z"
   },
   {
    "duration": 3,
    "start_time": "2022-02-14T16:09:42.750Z"
   },
   {
    "duration": 4,
    "start_time": "2022-02-14T16:09:43.055Z"
   },
   {
    "duration": 4,
    "start_time": "2022-02-14T16:09:47.967Z"
   },
   {
    "duration": 1276,
    "start_time": "2022-02-14T16:09:48.744Z"
   },
   {
    "duration": 1243,
    "start_time": "2022-02-14T16:10:17.992Z"
   },
   {
    "duration": 740,
    "start_time": "2022-02-14T16:10:19.238Z"
   },
   {
    "duration": 3,
    "start_time": "2022-02-14T16:10:19.980Z"
   },
   {
    "duration": 4,
    "start_time": "2022-02-14T16:10:19.984Z"
   },
   {
    "duration": 1162,
    "start_time": "2022-02-14T16:10:20.191Z"
   },
   {
    "duration": 3,
    "start_time": "2022-02-14T16:10:21.416Z"
   },
   {
    "duration": 12,
    "start_time": "2022-02-14T16:10:21.550Z"
   },
   {
    "duration": 4,
    "start_time": "2022-02-14T16:10:22.151Z"
   },
   {
    "duration": 19,
    "start_time": "2022-02-14T16:10:22.287Z"
   },
   {
    "duration": 5,
    "start_time": "2022-02-14T16:10:22.590Z"
   },
   {
    "duration": 4,
    "start_time": "2022-02-14T16:10:24.519Z"
   },
   {
    "duration": 2906,
    "start_time": "2022-02-14T16:10:25.215Z"
   },
   {
    "duration": 672,
    "start_time": "2022-02-14T16:10:28.123Z"
   },
   {
    "duration": 764,
    "start_time": "2022-02-14T16:10:28.797Z"
   },
   {
    "duration": 5,
    "start_time": "2022-02-14T16:10:32.056Z"
   },
   {
    "duration": 900,
    "start_time": "2022-02-14T16:10:32.544Z"
   },
   {
    "duration": 4,
    "start_time": "2022-02-14T16:10:33.640Z"
   },
   {
    "duration": 6,
    "start_time": "2022-02-14T16:10:42.209Z"
   },
   {
    "duration": 105,
    "start_time": "2022-02-14T16:10:44.544Z"
   },
   {
    "duration": 4,
    "start_time": "2022-02-14T16:10:48.151Z"
   },
   {
    "duration": 121,
    "start_time": "2022-02-14T16:10:49.829Z"
   },
   {
    "duration": 4,
    "start_time": "2022-02-14T16:10:50.352Z"
   },
   {
    "duration": 897,
    "start_time": "2022-02-14T16:10:53.007Z"
   },
   {
    "duration": 3,
    "start_time": "2022-02-14T16:11:02.391Z"
   },
   {
    "duration": 2,
    "start_time": "2022-02-14T16:11:11.720Z"
   },
   {
    "duration": 23,
    "start_time": "2022-02-14T16:11:40.306Z"
   },
   {
    "duration": 20,
    "start_time": "2022-02-14T16:11:40.537Z"
   },
   {
    "duration": 4,
    "start_time": "2022-02-14T16:12:03.897Z"
   },
   {
    "duration": 5,
    "start_time": "2022-02-14T16:12:19.031Z"
   },
   {
    "duration": 1306,
    "start_time": "2022-02-14T16:12:21.711Z"
   },
   {
    "duration": 21100,
    "start_time": "2022-02-14T16:12:44.499Z"
   },
   {
    "duration": 1269,
    "start_time": "2022-02-14T16:13:10.846Z"
   },
   {
    "duration": 551,
    "start_time": "2022-02-14T16:13:14.253Z"
   },
   {
    "duration": 24825,
    "start_time": "2022-02-14T16:13:33.624Z"
   },
   {
    "duration": 507,
    "start_time": "2022-02-14T16:14:13.401Z"
   },
   {
    "duration": 9,
    "start_time": "2022-02-14T16:14:30.032Z"
   },
   {
    "duration": 9,
    "start_time": "2022-02-14T16:15:20.984Z"
   },
   {
    "duration": 84,
    "start_time": "2022-02-14T16:15:32.160Z"
   },
   {
    "duration": 35,
    "start_time": "2022-02-14T16:15:36.088Z"
   },
   {
    "duration": 32,
    "start_time": "2022-02-14T16:15:36.496Z"
   },
   {
    "duration": 4,
    "start_time": "2022-02-14T16:16:37.912Z"
   },
   {
    "duration": 84,
    "start_time": "2022-02-14T16:16:48.768Z"
   },
   {
    "duration": 406,
    "start_time": "2022-02-14T16:16:54.831Z"
   },
   {
    "duration": 246,
    "start_time": "2022-02-14T16:17:04.665Z"
   },
   {
    "duration": 219,
    "start_time": "2022-02-14T16:17:22.760Z"
   },
   {
    "duration": 7,
    "start_time": "2022-02-14T16:17:36.520Z"
   },
   {
    "duration": 248,
    "start_time": "2022-02-14T16:17:37.319Z"
   },
   {
    "duration": 4,
    "start_time": "2022-02-14T16:17:59.537Z"
   },
   {
    "duration": 219,
    "start_time": "2022-02-14T16:18:05.568Z"
   },
   {
    "duration": 4,
    "start_time": "2022-02-14T16:18:14.280Z"
   },
   {
    "duration": 246,
    "start_time": "2022-02-14T16:18:24.368Z"
   },
   {
    "duration": 25,
    "start_time": "2022-02-14T16:18:34.167Z"
   },
   {
    "duration": 12,
    "start_time": "2022-02-14T16:18:49.424Z"
   },
   {
    "duration": 27,
    "start_time": "2022-02-14T16:18:51.625Z"
   },
   {
    "duration": 240,
    "start_time": "2022-02-14T16:19:07.841Z"
   },
   {
    "duration": 3,
    "start_time": "2022-02-14T16:19:12.838Z"
   },
   {
    "duration": 240,
    "start_time": "2022-02-14T16:19:13.240Z"
   },
   {
    "duration": 4,
    "start_time": "2022-02-14T16:19:22.111Z"
   },
   {
    "duration": 16,
    "start_time": "2022-02-14T16:19:22.495Z"
   },
   {
    "duration": 4,
    "start_time": "2022-02-14T16:19:24.472Z"
   },
   {
    "duration": 25,
    "start_time": "2022-02-14T16:19:37.784Z"
   },
   {
    "duration": 28,
    "start_time": "2022-02-14T16:19:48.952Z"
   },
   {
    "duration": 24,
    "start_time": "2022-02-14T16:19:50.584Z"
   },
   {
    "duration": 236,
    "start_time": "2022-02-14T16:20:02.327Z"
   },
   {
    "duration": 18,
    "start_time": "2022-02-14T16:20:06.063Z"
   },
   {
    "duration": 33,
    "start_time": "2022-02-14T16:20:09.416Z"
   },
   {
    "duration": 19,
    "start_time": "2022-02-14T16:20:47.720Z"
   },
   {
    "duration": 15,
    "start_time": "2022-02-14T16:20:48.039Z"
   },
   {
    "duration": 9,
    "start_time": "2022-02-14T16:20:48.264Z"
   },
   {
    "duration": 267,
    "start_time": "2022-02-14T16:21:22.414Z"
   },
   {
    "duration": 1159,
    "start_time": "2022-02-14T16:21:27.230Z"
   },
   {
    "duration": 686,
    "start_time": "2022-02-14T16:21:33.167Z"
   },
   {
    "duration": 19,
    "start_time": "2022-02-14T16:21:35.150Z"
   },
   {
    "duration": 11,
    "start_time": "2022-02-14T16:21:35.981Z"
   },
   {
    "duration": 18,
    "start_time": "2022-02-14T16:21:36.326Z"
   },
   {
    "duration": 720,
    "start_time": "2022-02-14T16:21:45.327Z"
   },
   {
    "duration": 13,
    "start_time": "2022-02-14T16:22:09.552Z"
   },
   {
    "duration": 321,
    "start_time": "2022-02-14T16:22:11.560Z"
   },
   {
    "duration": -930,
    "start_time": "2022-02-14T16:22:12.813Z"
   },
   {
    "duration": 699,
    "start_time": "2022-02-14T16:22:18.278Z"
   },
   {
    "duration": 17,
    "start_time": "2022-02-14T16:22:42.615Z"
   },
   {
    "duration": 8,
    "start_time": "2022-02-14T16:22:44.368Z"
   },
   {
    "duration": 9,
    "start_time": "2022-02-14T16:22:45.454Z"
   },
   {
    "duration": 6,
    "start_time": "2022-02-14T16:22:54.679Z"
   },
   {
    "duration": 30,
    "start_time": "2022-02-14T16:22:54.902Z"
   },
   {
    "duration": 5,
    "start_time": "2022-02-14T16:23:04.094Z"
   },
   {
    "duration": 698,
    "start_time": "2022-02-14T16:23:04.293Z"
   },
   {
    "duration": 2,
    "start_time": "2022-02-14T16:23:05.596Z"
   },
   {
    "duration": 4,
    "start_time": "2022-02-14T16:23:06.677Z"
   },
   {
    "duration": 1103,
    "start_time": "2022-02-14T16:23:06.982Z"
   },
   {
    "duration": 3,
    "start_time": "2022-02-14T16:23:08.087Z"
   },
   {
    "duration": 27,
    "start_time": "2022-02-14T16:23:08.092Z"
   },
   {
    "duration": 2,
    "start_time": "2022-02-14T16:23:08.469Z"
   },
   {
    "duration": 21,
    "start_time": "2022-02-14T16:23:08.597Z"
   },
   {
    "duration": 5,
    "start_time": "2022-02-14T16:23:08.869Z"
   },
   {
    "duration": 4,
    "start_time": "2022-02-14T16:23:09.950Z"
   },
   {
    "duration": 2876,
    "start_time": "2022-02-14T16:23:10.245Z"
   },
   {
    "duration": 610,
    "start_time": "2022-02-14T16:23:13.124Z"
   },
   {
    "duration": 720,
    "start_time": "2022-02-14T16:23:13.737Z"
   },
   {
    "duration": 5,
    "start_time": "2022-02-14T16:23:14.459Z"
   },
   {
    "duration": 889,
    "start_time": "2022-02-14T16:23:14.466Z"
   },
   {
    "duration": 2,
    "start_time": "2022-02-14T16:23:15.357Z"
   },
   {
    "duration": 6,
    "start_time": "2022-02-14T16:23:15.361Z"
   },
   {
    "duration": 115,
    "start_time": "2022-02-14T16:23:15.369Z"
   },
   {
    "duration": 4,
    "start_time": "2022-02-14T16:23:15.846Z"
   },
   {
    "duration": 122,
    "start_time": "2022-02-14T16:23:17.110Z"
   },
   {
    "duration": 4,
    "start_time": "2022-02-14T16:23:17.574Z"
   },
   {
    "duration": 916,
    "start_time": "2022-02-14T16:23:20.574Z"
   },
   {
    "duration": 3,
    "start_time": "2022-02-14T16:23:25.575Z"
   },
   {
    "duration": 4,
    "start_time": "2022-02-14T16:23:26.313Z"
   },
   {
    "duration": 14,
    "start_time": "2022-02-14T16:23:40.379Z"
   },
   {
    "duration": 19,
    "start_time": "2022-02-14T16:23:40.898Z"
   },
   {
    "duration": 38,
    "start_time": "2022-02-14T16:23:41.426Z"
   },
   {
    "duration": 273,
    "start_time": "2022-02-14T16:24:16.182Z"
   },
   {
    "duration": 1159,
    "start_time": "2022-02-14T16:24:21.253Z"
   },
   {
    "duration": 739,
    "start_time": "2022-02-14T16:24:34.884Z"
   },
   {
    "duration": 20,
    "start_time": "2022-02-14T16:24:35.625Z"
   },
   {
    "duration": 8,
    "start_time": "2022-02-14T16:24:35.675Z"
   },
   {
    "duration": 28,
    "start_time": "2022-02-14T16:24:36.283Z"
   },
   {
    "duration": 6,
    "start_time": "2022-02-14T16:24:57.626Z"
   },
   {
    "duration": 758,
    "start_time": "2022-02-14T16:24:59.385Z"
   },
   {
    "duration": 3,
    "start_time": "2022-02-14T16:25:00.746Z"
   },
   {
    "duration": 5,
    "start_time": "2022-02-14T16:25:02.858Z"
   },
   {
    "duration": 1106,
    "start_time": "2022-02-14T16:25:05.066Z"
   },
   {
    "duration": 4,
    "start_time": "2022-02-14T16:25:07.299Z"
   },
   {
    "duration": 12,
    "start_time": "2022-02-14T16:25:08.076Z"
   },
   {
    "duration": 14,
    "start_time": "2022-02-14T16:25:18.693Z"
   },
   {
    "duration": 13,
    "start_time": "2022-02-14T16:25:28.454Z"
   },
   {
    "duration": 8,
    "start_time": "2022-02-14T16:25:28.702Z"
   },
   {
    "duration": 30,
    "start_time": "2022-02-14T16:25:28.911Z"
   },
   {
    "duration": 9,
    "start_time": "2022-02-14T16:25:36.768Z"
   },
   {
    "duration": 12,
    "start_time": "2022-02-14T16:25:44.000Z"
   },
   {
    "duration": 11,
    "start_time": "2022-02-14T16:25:44.174Z"
   },
   {
    "duration": 22,
    "start_time": "2022-02-14T16:25:45.432Z"
   },
   {
    "duration": 5,
    "start_time": "2022-02-14T16:25:58.961Z"
   },
   {
    "duration": 4,
    "start_time": "2022-02-14T16:26:06.509Z"
   },
   {
    "duration": 2727,
    "start_time": "2022-02-14T16:26:08.603Z"
   },
   {
    "duration": 588,
    "start_time": "2022-02-14T16:26:12.100Z"
   },
   {
    "duration": 738,
    "start_time": "2022-02-14T16:26:12.690Z"
   },
   {
    "duration": 5,
    "start_time": "2022-02-14T16:26:17.204Z"
   },
   {
    "duration": 872,
    "start_time": "2022-02-14T16:26:17.645Z"
   },
   {
    "duration": 3,
    "start_time": "2022-02-14T16:26:22.133Z"
   },
   {
    "duration": 3,
    "start_time": "2022-02-14T16:26:23.550Z"
   },
   {
    "duration": 114,
    "start_time": "2022-02-14T16:26:25.308Z"
   },
   {
    "duration": 4,
    "start_time": "2022-02-14T16:26:26.597Z"
   },
   {
    "duration": 12,
    "start_time": "2022-02-14T16:26:33.991Z"
   },
   {
    "duration": 11,
    "start_time": "2022-02-14T16:26:34.175Z"
   },
   {
    "duration": 29,
    "start_time": "2022-02-14T16:26:34.400Z"
   },
   {
    "duration": 116,
    "start_time": "2022-02-14T16:26:48.736Z"
   },
   {
    "duration": 5,
    "start_time": "2022-02-14T16:26:48.928Z"
   },
   {
    "duration": 874,
    "start_time": "2022-02-14T16:26:49.776Z"
   },
   {
    "duration": 12,
    "start_time": "2022-02-14T16:26:55.985Z"
   },
   {
    "duration": 14,
    "start_time": "2022-02-14T16:26:56.201Z"
   },
   {
    "duration": 28,
    "start_time": "2022-02-14T16:26:56.427Z"
   },
   {
    "duration": 2,
    "start_time": "2022-02-14T16:27:07.700Z"
   },
   {
    "duration": 4,
    "start_time": "2022-02-14T16:27:08.212Z"
   },
   {
    "duration": 15,
    "start_time": "2022-02-14T16:27:24.022Z"
   },
   {
    "duration": 13,
    "start_time": "2022-02-14T16:27:24.261Z"
   },
   {
    "duration": 24,
    "start_time": "2022-02-14T16:27:24.478Z"
   },
   {
    "duration": 4,
    "start_time": "2022-02-14T16:27:32.663Z"
   },
   {
    "duration": 5,
    "start_time": "2022-02-14T16:27:33.247Z"
   },
   {
    "duration": 4,
    "start_time": "2022-02-14T16:27:35.143Z"
   },
   {
    "duration": 1368,
    "start_time": "2022-02-14T16:27:36.447Z"
   },
   {
    "duration": 20651,
    "start_time": "2022-02-14T16:27:41.656Z"
   },
   {
    "duration": 3,
    "start_time": "2022-02-14T16:28:13.149Z"
   },
   {
    "duration": 2,
    "start_time": "2022-02-14T16:28:13.764Z"
   },
   {
    "duration": 1461,
    "start_time": "2022-02-14T16:28:15.253Z"
   },
   {
    "duration": 24180,
    "start_time": "2022-02-14T16:28:17.556Z"
   },
   {
    "duration": 857,
    "start_time": "2022-02-14T16:28:44.761Z"
   },
   {
    "duration": 881,
    "start_time": "2022-02-14T16:28:47.833Z"
   },
   {
    "duration": 277,
    "start_time": "2022-02-14T16:28:50.057Z"
   },
   {
    "duration": 9378,
    "start_time": "2022-02-14T16:28:57.892Z"
   },
   {
    "duration": 8135,
    "start_time": "2022-02-14T16:29:09.412Z"
   },
   {
    "duration": 10,
    "start_time": "2022-02-14T16:29:43.996Z"
   },
   {
    "duration": 6,
    "start_time": "2022-02-14T16:29:47.764Z"
   },
   {
    "duration": 217,
    "start_time": "2022-02-14T16:29:59.413Z"
   },
   {
    "duration": 10,
    "start_time": "2022-02-14T16:30:19.165Z"
   },
   {
    "duration": 7,
    "start_time": "2022-02-14T16:30:19.677Z"
   },
   {
    "duration": 6,
    "start_time": "2022-02-14T16:30:44.918Z"
   },
   {
    "duration": 1167,
    "start_time": "2022-02-14T16:30:54.023Z"
   },
   {
    "duration": 725,
    "start_time": "2022-02-14T16:30:55.192Z"
   },
   {
    "duration": 4,
    "start_time": "2022-02-14T16:30:55.920Z"
   },
   {
    "duration": 2,
    "start_time": "2022-02-14T16:30:58.184Z"
   },
   {
    "duration": 5,
    "start_time": "2022-02-14T16:30:59.245Z"
   },
   {
    "duration": 1162,
    "start_time": "2022-02-14T16:31:00.497Z"
   },
   {
    "duration": 4,
    "start_time": "2022-02-14T16:31:03.792Z"
   },
   {
    "duration": 13,
    "start_time": "2022-02-14T16:31:04.695Z"
   },
   {
    "duration": 3,
    "start_time": "2022-02-14T16:31:06.560Z"
   },
   {
    "duration": 15,
    "start_time": "2022-02-14T16:31:07.321Z"
   },
   {
    "duration": 11,
    "start_time": "2022-02-14T16:31:08.168Z"
   },
   {
    "duration": 11,
    "start_time": "2022-02-14T16:31:09.521Z"
   },
   {
    "duration": 4,
    "start_time": "2022-02-14T16:31:11.585Z"
   },
   {
    "duration": 2834,
    "start_time": "2022-02-14T16:31:11.921Z"
   },
   {
    "duration": 605,
    "start_time": "2022-02-14T16:31:14.757Z"
   },
   {
    "duration": 735,
    "start_time": "2022-02-14T16:31:15.365Z"
   },
   {
    "duration": 5,
    "start_time": "2022-02-14T16:31:16.101Z"
   },
   {
    "duration": 886,
    "start_time": "2022-02-14T16:31:16.107Z"
   },
   {
    "duration": 2,
    "start_time": "2022-02-14T16:31:16.995Z"
   },
   {
    "duration": 4,
    "start_time": "2022-02-14T16:31:19.849Z"
   },
   {
    "duration": 103,
    "start_time": "2022-02-14T16:31:20.250Z"
   },
   {
    "duration": 4,
    "start_time": "2022-02-14T16:31:23.027Z"
   },
   {
    "duration": 120,
    "start_time": "2022-02-14T16:31:23.497Z"
   },
   {
    "duration": 4,
    "start_time": "2022-02-14T16:31:23.834Z"
   },
   {
    "duration": 889,
    "start_time": "2022-02-14T16:31:25.193Z"
   },
   {
    "duration": 4,
    "start_time": "2022-02-14T16:31:35.628Z"
   },
   {
    "duration": 2,
    "start_time": "2022-02-14T16:31:35.844Z"
   },
   {
    "duration": 15,
    "start_time": "2022-02-14T16:31:45.573Z"
   },
   {
    "duration": 20,
    "start_time": "2022-02-14T16:31:46.164Z"
   },
   {
    "duration": 23,
    "start_time": "2022-02-14T16:31:46.380Z"
   },
   {
    "duration": 1135,
    "start_time": "2022-02-14T16:32:05.480Z"
   },
   {
    "duration": 724,
    "start_time": "2022-02-14T16:32:06.617Z"
   },
   {
    "duration": 3,
    "start_time": "2022-02-14T16:32:07.679Z"
   },
   {
    "duration": 4,
    "start_time": "2022-02-14T16:32:08.543Z"
   },
   {
    "duration": 1166,
    "start_time": "2022-02-14T16:32:09.376Z"
   },
   {
    "duration": 4,
    "start_time": "2022-02-14T16:32:11.303Z"
   },
   {
    "duration": 12,
    "start_time": "2022-02-14T16:32:11.626Z"
   },
   {
    "duration": 16,
    "start_time": "2022-02-14T16:32:21.108Z"
   },
   {
    "duration": 5,
    "start_time": "2022-02-14T16:32:21.690Z"
   },
   {
    "duration": 5,
    "start_time": "2022-02-14T16:32:24.578Z"
   },
   {
    "duration": 2820,
    "start_time": "2022-02-14T16:32:25.337Z"
   },
   {
    "duration": 609,
    "start_time": "2022-02-14T16:32:28.159Z"
   },
   {
    "duration": 717,
    "start_time": "2022-02-14T16:32:28.770Z"
   },
   {
    "duration": 5,
    "start_time": "2022-02-14T16:32:29.489Z"
   },
   {
    "duration": 884,
    "start_time": "2022-02-14T16:32:29.496Z"
   },
   {
    "duration": 3,
    "start_time": "2022-02-14T16:32:30.382Z"
   },
   {
    "duration": 4,
    "start_time": "2022-02-14T16:32:32.163Z"
   },
   {
    "duration": 100,
    "start_time": "2022-02-14T16:32:32.755Z"
   },
   {
    "duration": 4,
    "start_time": "2022-02-14T16:32:33.635Z"
   },
   {
    "duration": 118,
    "start_time": "2022-02-14T16:32:33.851Z"
   },
   {
    "duration": 4,
    "start_time": "2022-02-14T16:32:34.203Z"
   },
   {
    "duration": 836,
    "start_time": "2022-02-14T16:32:35.003Z"
   },
   {
    "duration": 3,
    "start_time": "2022-02-14T16:32:40.358Z"
   },
   {
    "duration": 3,
    "start_time": "2022-02-14T16:32:41.812Z"
   },
   {
    "duration": 17,
    "start_time": "2022-02-14T16:32:50.933Z"
   },
   {
    "duration": 8,
    "start_time": "2022-02-14T16:32:51.206Z"
   },
   {
    "duration": 29,
    "start_time": "2022-02-14T16:32:51.398Z"
   },
   {
    "duration": 9,
    "start_time": "2022-02-14T16:33:03.936Z"
   },
   {
    "duration": 14,
    "start_time": "2022-02-14T16:33:15.433Z"
   },
   {
    "duration": 19,
    "start_time": "2022-02-14T16:33:15.652Z"
   },
   {
    "duration": 24,
    "start_time": "2022-02-14T16:33:15.857Z"
   },
   {
    "duration": 1217,
    "start_time": "2022-02-14T16:33:33.286Z"
   },
   {
    "duration": 730,
    "start_time": "2022-02-14T16:33:34.505Z"
   },
   {
    "duration": 2,
    "start_time": "2022-02-14T16:33:35.237Z"
   },
   {
    "duration": 6,
    "start_time": "2022-02-14T16:33:35.241Z"
   },
   {
    "duration": 1130,
    "start_time": "2022-02-14T16:33:35.249Z"
   },
   {
    "duration": 3,
    "start_time": "2022-02-14T16:33:36.380Z"
   },
   {
    "duration": 12,
    "start_time": "2022-02-14T16:33:36.385Z"
   },
   {
    "duration": 3,
    "start_time": "2022-02-14T16:33:36.411Z"
   },
   {
    "duration": 16,
    "start_time": "2022-02-14T16:33:36.417Z"
   },
   {
    "duration": 10,
    "start_time": "2022-02-14T16:33:36.435Z"
   },
   {
    "duration": 4,
    "start_time": "2022-02-14T16:33:36.446Z"
   },
   {
    "duration": 5,
    "start_time": "2022-02-14T16:33:36.452Z"
   },
   {
    "duration": 2781,
    "start_time": "2022-02-14T16:33:36.458Z"
   },
   {
    "duration": 591,
    "start_time": "2022-02-14T16:33:39.240Z"
   },
   {
    "duration": 715,
    "start_time": "2022-02-14T16:33:39.833Z"
   },
   {
    "duration": 5,
    "start_time": "2022-02-14T16:33:40.550Z"
   },
   {
    "duration": 903,
    "start_time": "2022-02-14T16:33:40.557Z"
   },
   {
    "duration": 3,
    "start_time": "2022-02-14T16:33:41.462Z"
   },
   {
    "duration": 6,
    "start_time": "2022-02-14T16:33:41.467Z"
   },
   {
    "duration": 109,
    "start_time": "2022-02-14T16:33:41.474Z"
   },
   {
    "duration": 4,
    "start_time": "2022-02-14T16:33:41.584Z"
   },
   {
    "duration": 138,
    "start_time": "2022-02-14T16:33:41.589Z"
   },
   {
    "duration": 4,
    "start_time": "2022-02-14T16:33:41.731Z"
   },
   {
    "duration": 862,
    "start_time": "2022-02-14T16:33:41.737Z"
   },
   {
    "duration": 3,
    "start_time": "2022-02-14T16:33:42.601Z"
   },
   {
    "duration": 4,
    "start_time": "2022-02-14T16:33:42.612Z"
   },
   {
    "duration": 12,
    "start_time": "2022-02-14T16:33:42.618Z"
   },
   {
    "duration": 4,
    "start_time": "2022-02-14T16:33:42.632Z"
   },
   {
    "duration": 4,
    "start_time": "2022-02-14T16:33:42.637Z"
   },
   {
    "duration": 12,
    "start_time": "2022-02-14T16:33:42.643Z"
   },
   {
    "duration": 10,
    "start_time": "2022-02-14T16:33:42.657Z"
   },
   {
    "duration": 46,
    "start_time": "2022-02-14T16:33:42.668Z"
   },
   {
    "duration": 7,
    "start_time": "2022-02-14T16:33:42.716Z"
   },
   {
    "duration": 738,
    "start_time": "2022-02-14T16:33:42.725Z"
   },
   {
    "duration": 14,
    "start_time": "2022-02-14T16:33:43.464Z"
   },
   {
    "duration": 8,
    "start_time": "2022-02-14T16:33:43.479Z"
   },
   {
    "duration": 41,
    "start_time": "2022-02-14T16:33:43.489Z"
   },
   {
    "duration": 3,
    "start_time": "2022-02-14T16:33:43.532Z"
   },
   {
    "duration": 7,
    "start_time": "2022-02-14T16:33:43.536Z"
   },
   {
    "duration": 6,
    "start_time": "2022-02-14T16:33:43.544Z"
   },
   {
    "duration": 1469,
    "start_time": "2022-02-14T16:33:43.552Z"
   },
   {
    "duration": 15859,
    "start_time": "2022-02-14T16:33:45.027Z"
   },
   {
    "duration": 2,
    "start_time": "2022-02-14T16:34:00.888Z"
   },
   {
    "duration": 22,
    "start_time": "2022-02-14T16:34:00.891Z"
   },
   {
    "duration": 1301,
    "start_time": "2022-02-14T16:34:00.915Z"
   },
   {
    "duration": 1191,
    "start_time": "2022-02-14T16:34:19.208Z"
   },
   {
    "duration": 712,
    "start_time": "2022-02-14T16:34:20.401Z"
   },
   {
    "duration": 3,
    "start_time": "2022-02-14T16:34:21.116Z"
   },
   {
    "duration": 10,
    "start_time": "2022-02-14T16:34:21.121Z"
   },
   {
    "duration": 1120,
    "start_time": "2022-02-14T16:34:21.133Z"
   },
   {
    "duration": 4,
    "start_time": "2022-02-14T16:34:22.255Z"
   },
   {
    "duration": 14,
    "start_time": "2022-02-14T16:34:22.261Z"
   },
   {
    "duration": 2,
    "start_time": "2022-02-14T16:34:22.278Z"
   },
   {
    "duration": 30,
    "start_time": "2022-02-14T16:34:22.282Z"
   },
   {
    "duration": 14,
    "start_time": "2022-02-14T16:34:22.315Z"
   },
   {
    "duration": 4,
    "start_time": "2022-02-14T16:34:22.331Z"
   },
   {
    "duration": 4,
    "start_time": "2022-02-14T16:34:22.337Z"
   },
   {
    "duration": 3061,
    "start_time": "2022-02-14T16:34:22.342Z"
   },
   {
    "duration": 832,
    "start_time": "2022-02-14T16:34:25.405Z"
   },
   {
    "duration": 755,
    "start_time": "2022-02-14T16:34:26.238Z"
   },
   {
    "duration": 4,
    "start_time": "2022-02-14T16:34:26.995Z"
   },
   {
    "duration": 890,
    "start_time": "2022-02-14T16:34:27.001Z"
   },
   {
    "duration": 2,
    "start_time": "2022-02-14T16:34:27.893Z"
   },
   {
    "duration": 16,
    "start_time": "2022-02-14T16:34:27.897Z"
   },
   {
    "duration": 122,
    "start_time": "2022-02-14T16:34:27.915Z"
   },
   {
    "duration": 3,
    "start_time": "2022-02-14T16:34:28.039Z"
   },
   {
    "duration": 130,
    "start_time": "2022-02-14T16:34:28.044Z"
   },
   {
    "duration": 3,
    "start_time": "2022-02-14T16:34:28.176Z"
   },
   {
    "duration": 900,
    "start_time": "2022-02-14T16:34:28.181Z"
   },
   {
    "duration": 3,
    "start_time": "2022-02-14T16:34:29.082Z"
   },
   {
    "duration": 3,
    "start_time": "2022-02-14T16:34:29.088Z"
   },
   {
    "duration": 26,
    "start_time": "2022-02-14T16:34:29.093Z"
   },
   {
    "duration": 5,
    "start_time": "2022-02-14T16:34:29.124Z"
   },
   {
    "duration": 7,
    "start_time": "2022-02-14T16:34:29.131Z"
   },
   {
    "duration": 13,
    "start_time": "2022-02-14T16:34:29.140Z"
   },
   {
    "duration": 11,
    "start_time": "2022-02-14T16:34:29.155Z"
   },
   {
    "duration": 6,
    "start_time": "2022-02-14T16:34:29.168Z"
   },
   {
    "duration": 41,
    "start_time": "2022-02-14T16:34:29.176Z"
   },
   {
    "duration": 18,
    "start_time": "2022-02-14T16:34:29.220Z"
   },
   {
    "duration": 19,
    "start_time": "2022-02-14T16:34:29.239Z"
   },
   {
    "duration": 23,
    "start_time": "2022-02-14T16:34:29.260Z"
   },
   {
    "duration": 28,
    "start_time": "2022-02-14T16:34:29.285Z"
   },
   {
    "duration": 19,
    "start_time": "2022-02-14T16:34:29.316Z"
   },
   {
    "duration": 13,
    "start_time": "2022-02-14T16:34:29.337Z"
   },
   {
    "duration": 1171,
    "start_time": "2022-02-14T16:34:29.351Z"
   },
   {
    "duration": 15507,
    "start_time": "2022-02-14T16:34:30.525Z"
   },
   {
    "duration": 2,
    "start_time": "2022-02-14T16:34:46.034Z"
   },
   {
    "duration": 6,
    "start_time": "2022-02-14T16:34:46.038Z"
   },
   {
    "duration": 1271,
    "start_time": "2022-02-14T16:34:46.046Z"
   },
   {
    "duration": 17643,
    "start_time": "2022-02-14T16:34:47.323Z"
   },
   {
    "duration": 3,
    "start_time": "2022-02-14T16:35:04.968Z"
   },
   {
    "duration": 1441,
    "start_time": "2022-02-14T16:35:04.973Z"
   },
   {
    "duration": 1799,
    "start_time": "2022-02-14T16:35:06.419Z"
   },
   {
    "duration": 42096,
    "start_time": "2022-02-14T16:35:08.220Z"
   },
   {
    "duration": 43510,
    "start_time": "2022-02-14T16:35:50.318Z"
   },
   {
    "duration": 5,
    "start_time": "2022-02-14T16:36:33.830Z"
   },
   {
    "duration": 12,
    "start_time": "2022-02-14T16:36:33.837Z"
   },
   {
    "duration": 9,
    "start_time": "2022-02-14T16:36:33.851Z"
   },
   {
    "duration": 13,
    "start_time": "2022-02-14T16:36:33.862Z"
   },
   {
    "duration": 7,
    "start_time": "2022-02-14T16:36:33.877Z"
   },
   {
    "duration": 1188,
    "start_time": "2022-02-14T16:36:52.018Z"
   },
   {
    "duration": 741,
    "start_time": "2022-02-14T16:36:53.208Z"
   },
   {
    "duration": 3,
    "start_time": "2022-02-14T16:36:53.951Z"
   },
   {
    "duration": 4,
    "start_time": "2022-02-14T16:36:53.956Z"
   },
   {
    "duration": 1096,
    "start_time": "2022-02-14T16:36:53.962Z"
   },
   {
    "duration": 3,
    "start_time": "2022-02-14T16:36:55.060Z"
   },
   {
    "duration": 16,
    "start_time": "2022-02-14T16:36:55.065Z"
   },
   {
    "duration": 2,
    "start_time": "2022-02-14T16:36:55.084Z"
   },
   {
    "duration": 5,
    "start_time": "2022-02-14T16:36:55.088Z"
   },
   {
    "duration": 20,
    "start_time": "2022-02-14T16:36:55.112Z"
   },
   {
    "duration": 6,
    "start_time": "2022-02-14T16:36:55.134Z"
   },
   {
    "duration": 4,
    "start_time": "2022-02-14T16:36:55.142Z"
   },
   {
    "duration": 2773,
    "start_time": "2022-02-14T16:36:55.147Z"
   },
   {
    "duration": 565,
    "start_time": "2022-02-14T16:36:57.923Z"
   },
   {
    "duration": 695,
    "start_time": "2022-02-14T16:36:58.489Z"
   },
   {
    "duration": 5,
    "start_time": "2022-02-14T16:36:59.186Z"
   },
   {
    "duration": 857,
    "start_time": "2022-02-14T16:36:59.192Z"
   },
   {
    "duration": 3,
    "start_time": "2022-02-14T16:37:00.051Z"
   },
   {
    "duration": 12,
    "start_time": "2022-02-14T16:37:00.055Z"
   },
   {
    "duration": 113,
    "start_time": "2022-02-14T16:37:00.069Z"
   },
   {
    "duration": 3,
    "start_time": "2022-02-14T16:37:00.183Z"
   },
   {
    "duration": 128,
    "start_time": "2022-02-14T16:37:00.188Z"
   },
   {
    "duration": 8,
    "start_time": "2022-02-14T16:37:00.321Z"
   },
   {
    "duration": 870,
    "start_time": "2022-02-14T16:37:00.331Z"
   },
   {
    "duration": 9,
    "start_time": "2022-02-14T16:37:01.203Z"
   },
   {
    "duration": 5,
    "start_time": "2022-02-14T16:37:01.214Z"
   },
   {
    "duration": 18,
    "start_time": "2022-02-14T16:37:01.221Z"
   },
   {
    "duration": 4,
    "start_time": "2022-02-14T16:37:01.241Z"
   },
   {
    "duration": 8,
    "start_time": "2022-02-14T16:37:01.246Z"
   },
   {
    "duration": 11,
    "start_time": "2022-02-14T16:37:01.255Z"
   },
   {
    "duration": 11,
    "start_time": "2022-02-14T16:37:01.267Z"
   },
   {
    "duration": 38,
    "start_time": "2022-02-14T16:37:01.279Z"
   },
   {
    "duration": 4,
    "start_time": "2022-02-14T16:37:01.319Z"
   },
   {
    "duration": 19,
    "start_time": "2022-02-14T16:37:01.325Z"
   },
   {
    "duration": 8,
    "start_time": "2022-02-14T16:37:01.345Z"
   },
   {
    "duration": 24,
    "start_time": "2022-02-14T16:37:01.354Z"
   },
   {
    "duration": 33,
    "start_time": "2022-02-14T16:37:01.380Z"
   },
   {
    "duration": 16,
    "start_time": "2022-02-14T16:37:01.415Z"
   },
   {
    "duration": 4,
    "start_time": "2022-02-14T16:37:01.433Z"
   },
   {
    "duration": 1175,
    "start_time": "2022-02-14T16:37:01.439Z"
   },
   {
    "duration": 15493,
    "start_time": "2022-02-14T16:37:02.712Z"
   },
   {
    "duration": 6,
    "start_time": "2022-02-14T16:37:18.206Z"
   },
   {
    "duration": 3,
    "start_time": "2022-02-14T16:37:18.215Z"
   },
   {
    "duration": 1193,
    "start_time": "2022-02-14T16:37:18.220Z"
   },
   {
    "duration": 17018,
    "start_time": "2022-02-14T16:37:19.419Z"
   },
   {
    "duration": 3,
    "start_time": "2022-02-14T16:37:36.439Z"
   },
   {
    "duration": 1171,
    "start_time": "2022-02-14T16:37:36.443Z"
   },
   {
    "duration": 1004,
    "start_time": "2022-02-14T16:37:37.617Z"
   },
   {
    "duration": 8994,
    "start_time": "2022-02-14T16:37:38.713Z"
   },
   {
    "duration": 10330,
    "start_time": "2022-02-14T16:37:47.712Z"
   },
   {
    "duration": 3,
    "start_time": "2022-02-14T16:37:58.043Z"
   },
   {
    "duration": 17,
    "start_time": "2022-02-14T16:37:58.048Z"
   },
   {
    "duration": 15,
    "start_time": "2022-02-14T16:37:58.067Z"
   },
   {
    "duration": 24,
    "start_time": "2022-02-14T16:37:58.084Z"
   },
   {
    "duration": 11,
    "start_time": "2022-02-14T16:37:58.109Z"
   },
   {
    "duration": 3,
    "start_time": "2022-02-14T16:41:37.514Z"
   },
   {
    "duration": 5,
    "start_time": "2022-02-14T16:42:44.995Z"
   },
   {
    "duration": 6049,
    "start_time": "2022-02-14T16:45:39.483Z"
   },
   {
    "duration": 9,
    "start_time": "2022-02-14T16:45:54.930Z"
   }
  ],
  "kernelspec": {
   "display_name": "Python 3 (ipykernel)",
   "language": "python",
   "name": "python3"
  },
  "language_info": {
   "codemirror_mode": {
    "name": "ipython",
    "version": 3
   },
   "file_extension": ".py",
   "mimetype": "text/x-python",
   "name": "python",
   "nbconvert_exporter": "python",
   "pygments_lexer": "ipython3",
   "version": "3.9.7"
  },
  "toc": {
   "base_numbering": 1,
   "nav_menu": {},
   "number_sections": true,
   "sideBar": true,
   "skip_h1_title": true,
   "title_cell": "Содержание",
   "title_sidebar": "Contents",
   "toc_cell": true,
   "toc_position": {},
   "toc_section_display": true,
   "toc_window_display": true
  },
  "varInspector": {
   "cols": {
    "lenName": 16,
    "lenType": 16,
    "lenVar": 40
   },
   "kernels_config": {
    "python": {
     "delete_cmd_postfix": "",
     "delete_cmd_prefix": "del ",
     "library": "var_list.py",
     "varRefreshCmd": "print(var_dic_list())"
    },
    "r": {
     "delete_cmd_postfix": ") ",
     "delete_cmd_prefix": "rm(",
     "library": "var_list.r",
     "varRefreshCmd": "cat(var_dic_list()) "
    }
   },
   "types_to_exclude": [
    "module",
    "function",
    "builtin_function_or_method",
    "instance",
    "_Feature"
   ],
   "window_display": false
  }
 },
 "nbformat": 4,
 "nbformat_minor": 2
}
