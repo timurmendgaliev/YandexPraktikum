{
 "cells": [
  {
   "cell_type": "markdown",
   "metadata": {},
   "source": [
    "# Отток клиентов"
   ]
  },
  {
   "cell_type": "markdown",
   "metadata": {},
   "source": [
    "Из «Бета-Банка» стали уходить клиенты. Каждый месяц. Немного, но заметно. Банковские маркетологи посчитали: сохранять текущих клиентов дешевле, чем привлекать новых.\n",
    "\n",
    "Нужно спрогнозировать, уйдёт клиент из банка в ближайшее время или нет. В наличии исторические данные о поведении клиентов и расторжении договоров с банком. \n",
    "\n",
    "Необходимо построить модель с предельно большим значением *F1*-меры."
   ]
  },
  {
   "cell_type": "markdown",
   "metadata": {
    "toc": true
   },
   "source": [
    "<h1>Содержание<span class=\"tocSkip\"></span></h1>\n",
    "<div class=\"toc\"><ul class=\"toc-item\"><li><span><a href=\"#Подготовка-данных\" data-toc-modified-id=\"Подготовка-данных-1\"><span class=\"toc-item-num\">1&nbsp;&nbsp;</span>Подготовка данных</a></span><ul class=\"toc-item\"><li><span><a href=\"#Вывод\" data-toc-modified-id=\"Вывод-1.1\"><span class=\"toc-item-num\">1.1&nbsp;&nbsp;</span>Вывод</a></span></li></ul></li><li><span><a href=\"#Исследование-задачи\" data-toc-modified-id=\"Исследование-задачи-2\"><span class=\"toc-item-num\">2&nbsp;&nbsp;</span>Исследование задачи</a></span><ul class=\"toc-item\"><li><span><a href=\"#RandomForestClassifier\" data-toc-modified-id=\"RandomForestClassifier-2.1\"><span class=\"toc-item-num\">2.1&nbsp;&nbsp;</span>RandomForestClassifier</a></span></li><li><span><a href=\"#LogisticRegression\" data-toc-modified-id=\"LogisticRegression-2.2\"><span class=\"toc-item-num\">2.2&nbsp;&nbsp;</span>LogisticRegression</a></span></li><li><span><a href=\"#Вывод\" data-toc-modified-id=\"Вывод-2.3\"><span class=\"toc-item-num\">2.3&nbsp;&nbsp;</span>Вывод</a></span></li></ul></li><li><span><a href=\"#Борьба-с-дисбалансом\" data-toc-modified-id=\"Борьба-с-дисбалансом-3\"><span class=\"toc-item-num\">3&nbsp;&nbsp;</span>Борьба с дисбалансом</a></span><ul class=\"toc-item\"><li><span><a href=\"#Upsampling\" data-toc-modified-id=\"Upsampling-3.1\"><span class=\"toc-item-num\">3.1&nbsp;&nbsp;</span>Upsampling</a></span></li><li><span><a href=\"#Downsampling\" data-toc-modified-id=\"Downsampling-3.2\"><span class=\"toc-item-num\">3.2&nbsp;&nbsp;</span>Downsampling</a></span></li><li><span><a href=\"#Вывод\" data-toc-modified-id=\"Вывод-3.3\"><span class=\"toc-item-num\">3.3&nbsp;&nbsp;</span>Вывод</a></span></li></ul></li><li><span><a href=\"#Тестирование-модели\" data-toc-modified-id=\"Тестирование-модели-4\"><span class=\"toc-item-num\">4&nbsp;&nbsp;</span>Тестирование модели</a></span><ul class=\"toc-item\"><li><span><a href=\"#Вывод\" data-toc-modified-id=\"Вывод-4.1\"><span class=\"toc-item-num\">4.1&nbsp;&nbsp;</span>Вывод</a></span></li></ul></li><li><span><a href=\"#Общий-вывод\" data-toc-modified-id=\"Общий-вывод-5\"><span class=\"toc-item-num\">5&nbsp;&nbsp;</span>Общий вывод</a></span></li></ul></div>"
   ]
  },
  {
   "cell_type": "markdown",
   "metadata": {},
   "source": [
    "## Подготовка данных"
   ]
  },
  {
   "cell_type": "code",
   "execution_count": 1,
   "metadata": {},
   "outputs": [],
   "source": [
    "import pandas as pd\n",
    "import numpy as np\n",
    "import matplotlib.pyplot as plt\n",
    "\n",
    "from sklearn.model_selection import train_test_split\n",
    "from sklearn.ensemble import RandomForestClassifier\n",
    "from sklearn.linear_model import LogisticRegression\n",
    "from sklearn.metrics import f1_score\n",
    "from sklearn.metrics import roc_curve\n",
    "from sklearn.metrics import roc_auc_score\n",
    "from sklearn.utils import shuffle\n",
    "from sklearn.preprocessing import StandardScaler\n",
    "\n",
    "import warnings\n",
    "warnings.filterwarnings('ignore')\n",
    "\n",
    "RS = 12345 #Значение параметра random_state"
   ]
  },
  {
   "cell_type": "code",
   "execution_count": 2,
   "metadata": {},
   "outputs": [],
   "source": [
    "df = pd.read_csv('/datasets/Churn.csv')"
   ]
  },
  {
   "cell_type": "markdown",
   "metadata": {},
   "source": [
    "Рассмотрим первые пять строчек в исходных данных:"
   ]
  },
  {
   "cell_type": "code",
   "execution_count": 3,
   "metadata": {},
   "outputs": [
    {
     "data": {
      "text/html": [
       "<div>\n",
       "<style scoped>\n",
       "    .dataframe tbody tr th:only-of-type {\n",
       "        vertical-align: middle;\n",
       "    }\n",
       "\n",
       "    .dataframe tbody tr th {\n",
       "        vertical-align: top;\n",
       "    }\n",
       "\n",
       "    .dataframe thead th {\n",
       "        text-align: right;\n",
       "    }\n",
       "</style>\n",
       "<table border=\"1\" class=\"dataframe\">\n",
       "  <thead>\n",
       "    <tr style=\"text-align: right;\">\n",
       "      <th></th>\n",
       "      <th>RowNumber</th>\n",
       "      <th>CustomerId</th>\n",
       "      <th>Surname</th>\n",
       "      <th>CreditScore</th>\n",
       "      <th>Geography</th>\n",
       "      <th>Gender</th>\n",
       "      <th>Age</th>\n",
       "      <th>Tenure</th>\n",
       "      <th>Balance</th>\n",
       "      <th>NumOfProducts</th>\n",
       "      <th>HasCrCard</th>\n",
       "      <th>IsActiveMember</th>\n",
       "      <th>EstimatedSalary</th>\n",
       "      <th>Exited</th>\n",
       "    </tr>\n",
       "  </thead>\n",
       "  <tbody>\n",
       "    <tr>\n",
       "      <td>0</td>\n",
       "      <td>1</td>\n",
       "      <td>15634602</td>\n",
       "      <td>Hargrave</td>\n",
       "      <td>619</td>\n",
       "      <td>France</td>\n",
       "      <td>Female</td>\n",
       "      <td>42</td>\n",
       "      <td>2.0</td>\n",
       "      <td>0.00</td>\n",
       "      <td>1</td>\n",
       "      <td>1</td>\n",
       "      <td>1</td>\n",
       "      <td>101348.88</td>\n",
       "      <td>1</td>\n",
       "    </tr>\n",
       "    <tr>\n",
       "      <td>1</td>\n",
       "      <td>2</td>\n",
       "      <td>15647311</td>\n",
       "      <td>Hill</td>\n",
       "      <td>608</td>\n",
       "      <td>Spain</td>\n",
       "      <td>Female</td>\n",
       "      <td>41</td>\n",
       "      <td>1.0</td>\n",
       "      <td>83807.86</td>\n",
       "      <td>1</td>\n",
       "      <td>0</td>\n",
       "      <td>1</td>\n",
       "      <td>112542.58</td>\n",
       "      <td>0</td>\n",
       "    </tr>\n",
       "    <tr>\n",
       "      <td>2</td>\n",
       "      <td>3</td>\n",
       "      <td>15619304</td>\n",
       "      <td>Onio</td>\n",
       "      <td>502</td>\n",
       "      <td>France</td>\n",
       "      <td>Female</td>\n",
       "      <td>42</td>\n",
       "      <td>8.0</td>\n",
       "      <td>159660.80</td>\n",
       "      <td>3</td>\n",
       "      <td>1</td>\n",
       "      <td>0</td>\n",
       "      <td>113931.57</td>\n",
       "      <td>1</td>\n",
       "    </tr>\n",
       "    <tr>\n",
       "      <td>3</td>\n",
       "      <td>4</td>\n",
       "      <td>15701354</td>\n",
       "      <td>Boni</td>\n",
       "      <td>699</td>\n",
       "      <td>France</td>\n",
       "      <td>Female</td>\n",
       "      <td>39</td>\n",
       "      <td>1.0</td>\n",
       "      <td>0.00</td>\n",
       "      <td>2</td>\n",
       "      <td>0</td>\n",
       "      <td>0</td>\n",
       "      <td>93826.63</td>\n",
       "      <td>0</td>\n",
       "    </tr>\n",
       "    <tr>\n",
       "      <td>4</td>\n",
       "      <td>5</td>\n",
       "      <td>15737888</td>\n",
       "      <td>Mitchell</td>\n",
       "      <td>850</td>\n",
       "      <td>Spain</td>\n",
       "      <td>Female</td>\n",
       "      <td>43</td>\n",
       "      <td>2.0</td>\n",
       "      <td>125510.82</td>\n",
       "      <td>1</td>\n",
       "      <td>1</td>\n",
       "      <td>1</td>\n",
       "      <td>79084.10</td>\n",
       "      <td>0</td>\n",
       "    </tr>\n",
       "  </tbody>\n",
       "</table>\n",
       "</div>"
      ],
      "text/plain": [
       "   RowNumber  CustomerId   Surname  CreditScore Geography  Gender  Age  \\\n",
       "0          1    15634602  Hargrave          619    France  Female   42   \n",
       "1          2    15647311      Hill          608     Spain  Female   41   \n",
       "2          3    15619304      Onio          502    France  Female   42   \n",
       "3          4    15701354      Boni          699    France  Female   39   \n",
       "4          5    15737888  Mitchell          850     Spain  Female   43   \n",
       "\n",
       "   Tenure    Balance  NumOfProducts  HasCrCard  IsActiveMember  \\\n",
       "0     2.0       0.00              1          1               1   \n",
       "1     1.0   83807.86              1          0               1   \n",
       "2     8.0  159660.80              3          1               0   \n",
       "3     1.0       0.00              2          0               0   \n",
       "4     2.0  125510.82              1          1               1   \n",
       "\n",
       "   EstimatedSalary  Exited  \n",
       "0        101348.88       1  \n",
       "1        112542.58       0  \n",
       "2        113931.57       1  \n",
       "3         93826.63       0  \n",
       "4         79084.10       0  "
      ]
     },
     "execution_count": 3,
     "metadata": {},
     "output_type": "execute_result"
    }
   ],
   "source": [
    "df.head()"
   ]
  },
  {
   "cell_type": "markdown",
   "metadata": {},
   "source": [
    "Согласно документации к данным:\n",
    "* **RowNumber** — индекс строки в данных;\n",
    "* **CustomerId** — уникальный идентификатор клиента;\n",
    "* **Surname** — фамилия;\n",
    "* **CreditScore** — кредитный рейтинг;\n",
    "* **Geography** — страна проживания;\n",
    "* **Gender** — пол;\n",
    "* **Age** — возраст;\n",
    "* **Tenure** — сколько лет человек является клиентом банка;\n",
    "* **Balance** — баланс на счёте;\n",
    "* **NumOfProducts** — количество продуктов банка, используемых клиентом;\n",
    "* **HasCrCard** — наличие кредитной карты;\n",
    "* **IsActiveMember** — активность клиента;\n",
    "* **EstimatedSalary** — предполагаемая зарплата;\n",
    "* **Exited** — факт ухода клиента."
   ]
  },
  {
   "cell_type": "markdown",
   "metadata": {},
   "source": [
    "Избавимся от столбцов, которые являются бесполезными в данном исследовании, а именно от столбцов `RowNumber`, `CustomerId`, `Surname`."
   ]
  },
  {
   "cell_type": "code",
   "execution_count": 4,
   "metadata": {},
   "outputs": [],
   "source": [
    "df.drop(columns=['RowNumber', 'CustomerId', 'Surname'], axis=1, inplace=True)"
   ]
  },
  {
   "cell_type": "markdown",
   "metadata": {},
   "source": [
    "Изучим пять последних строчек в данных:"
   ]
  },
  {
   "cell_type": "code",
   "execution_count": 5,
   "metadata": {},
   "outputs": [
    {
     "data": {
      "text/html": [
       "<div>\n",
       "<style scoped>\n",
       "    .dataframe tbody tr th:only-of-type {\n",
       "        vertical-align: middle;\n",
       "    }\n",
       "\n",
       "    .dataframe tbody tr th {\n",
       "        vertical-align: top;\n",
       "    }\n",
       "\n",
       "    .dataframe thead th {\n",
       "        text-align: right;\n",
       "    }\n",
       "</style>\n",
       "<table border=\"1\" class=\"dataframe\">\n",
       "  <thead>\n",
       "    <tr style=\"text-align: right;\">\n",
       "      <th></th>\n",
       "      <th>CreditScore</th>\n",
       "      <th>Geography</th>\n",
       "      <th>Gender</th>\n",
       "      <th>Age</th>\n",
       "      <th>Tenure</th>\n",
       "      <th>Balance</th>\n",
       "      <th>NumOfProducts</th>\n",
       "      <th>HasCrCard</th>\n",
       "      <th>IsActiveMember</th>\n",
       "      <th>EstimatedSalary</th>\n",
       "      <th>Exited</th>\n",
       "    </tr>\n",
       "  </thead>\n",
       "  <tbody>\n",
       "    <tr>\n",
       "      <td>9995</td>\n",
       "      <td>771</td>\n",
       "      <td>France</td>\n",
       "      <td>Male</td>\n",
       "      <td>39</td>\n",
       "      <td>5.0</td>\n",
       "      <td>0.00</td>\n",
       "      <td>2</td>\n",
       "      <td>1</td>\n",
       "      <td>0</td>\n",
       "      <td>96270.64</td>\n",
       "      <td>0</td>\n",
       "    </tr>\n",
       "    <tr>\n",
       "      <td>9996</td>\n",
       "      <td>516</td>\n",
       "      <td>France</td>\n",
       "      <td>Male</td>\n",
       "      <td>35</td>\n",
       "      <td>10.0</td>\n",
       "      <td>57369.61</td>\n",
       "      <td>1</td>\n",
       "      <td>1</td>\n",
       "      <td>1</td>\n",
       "      <td>101699.77</td>\n",
       "      <td>0</td>\n",
       "    </tr>\n",
       "    <tr>\n",
       "      <td>9997</td>\n",
       "      <td>709</td>\n",
       "      <td>France</td>\n",
       "      <td>Female</td>\n",
       "      <td>36</td>\n",
       "      <td>7.0</td>\n",
       "      <td>0.00</td>\n",
       "      <td>1</td>\n",
       "      <td>0</td>\n",
       "      <td>1</td>\n",
       "      <td>42085.58</td>\n",
       "      <td>1</td>\n",
       "    </tr>\n",
       "    <tr>\n",
       "      <td>9998</td>\n",
       "      <td>772</td>\n",
       "      <td>Germany</td>\n",
       "      <td>Male</td>\n",
       "      <td>42</td>\n",
       "      <td>3.0</td>\n",
       "      <td>75075.31</td>\n",
       "      <td>2</td>\n",
       "      <td>1</td>\n",
       "      <td>0</td>\n",
       "      <td>92888.52</td>\n",
       "      <td>1</td>\n",
       "    </tr>\n",
       "    <tr>\n",
       "      <td>9999</td>\n",
       "      <td>792</td>\n",
       "      <td>France</td>\n",
       "      <td>Female</td>\n",
       "      <td>28</td>\n",
       "      <td>NaN</td>\n",
       "      <td>130142.79</td>\n",
       "      <td>1</td>\n",
       "      <td>1</td>\n",
       "      <td>0</td>\n",
       "      <td>38190.78</td>\n",
       "      <td>0</td>\n",
       "    </tr>\n",
       "  </tbody>\n",
       "</table>\n",
       "</div>"
      ],
      "text/plain": [
       "      CreditScore Geography  Gender  Age  Tenure    Balance  NumOfProducts  \\\n",
       "9995          771    France    Male   39     5.0       0.00              2   \n",
       "9996          516    France    Male   35    10.0   57369.61              1   \n",
       "9997          709    France  Female   36     7.0       0.00              1   \n",
       "9998          772   Germany    Male   42     3.0   75075.31              2   \n",
       "9999          792    France  Female   28     NaN  130142.79              1   \n",
       "\n",
       "      HasCrCard  IsActiveMember  EstimatedSalary  Exited  \n",
       "9995          1               0         96270.64       0  \n",
       "9996          1               1        101699.77       0  \n",
       "9997          0               1         42085.58       1  \n",
       "9998          1               0         92888.52       1  \n",
       "9999          1               0         38190.78       0  "
      ]
     },
     "execution_count": 5,
     "metadata": {},
     "output_type": "execute_result"
    }
   ],
   "source": [
    "df.tail()"
   ]
  },
  {
   "cell_type": "markdown",
   "metadata": {},
   "source": [
    "Изучим пять случайных строчек в данных:"
   ]
  },
  {
   "cell_type": "code",
   "execution_count": 6,
   "metadata": {},
   "outputs": [
    {
     "data": {
      "text/html": [
       "<div>\n",
       "<style scoped>\n",
       "    .dataframe tbody tr th:only-of-type {\n",
       "        vertical-align: middle;\n",
       "    }\n",
       "\n",
       "    .dataframe tbody tr th {\n",
       "        vertical-align: top;\n",
       "    }\n",
       "\n",
       "    .dataframe thead th {\n",
       "        text-align: right;\n",
       "    }\n",
       "</style>\n",
       "<table border=\"1\" class=\"dataframe\">\n",
       "  <thead>\n",
       "    <tr style=\"text-align: right;\">\n",
       "      <th></th>\n",
       "      <th>CreditScore</th>\n",
       "      <th>Geography</th>\n",
       "      <th>Gender</th>\n",
       "      <th>Age</th>\n",
       "      <th>Tenure</th>\n",
       "      <th>Balance</th>\n",
       "      <th>NumOfProducts</th>\n",
       "      <th>HasCrCard</th>\n",
       "      <th>IsActiveMember</th>\n",
       "      <th>EstimatedSalary</th>\n",
       "      <th>Exited</th>\n",
       "    </tr>\n",
       "  </thead>\n",
       "  <tbody>\n",
       "    <tr>\n",
       "      <td>7867</td>\n",
       "      <td>640</td>\n",
       "      <td>Spain</td>\n",
       "      <td>Female</td>\n",
       "      <td>46</td>\n",
       "      <td>3.0</td>\n",
       "      <td>0.00</td>\n",
       "      <td>1</td>\n",
       "      <td>1</td>\n",
       "      <td>1</td>\n",
       "      <td>156260.08</td>\n",
       "      <td>0</td>\n",
       "    </tr>\n",
       "    <tr>\n",
       "      <td>1402</td>\n",
       "      <td>757</td>\n",
       "      <td>France</td>\n",
       "      <td>Male</td>\n",
       "      <td>29</td>\n",
       "      <td>8.0</td>\n",
       "      <td>130306.49</td>\n",
       "      <td>1</td>\n",
       "      <td>1</td>\n",
       "      <td>0</td>\n",
       "      <td>77469.38</td>\n",
       "      <td>0</td>\n",
       "    </tr>\n",
       "    <tr>\n",
       "      <td>8606</td>\n",
       "      <td>807</td>\n",
       "      <td>Spain</td>\n",
       "      <td>Male</td>\n",
       "      <td>42</td>\n",
       "      <td>5.0</td>\n",
       "      <td>0.00</td>\n",
       "      <td>2</td>\n",
       "      <td>1</td>\n",
       "      <td>1</td>\n",
       "      <td>74900.90</td>\n",
       "      <td>0</td>\n",
       "    </tr>\n",
       "    <tr>\n",
       "      <td>8885</td>\n",
       "      <td>668</td>\n",
       "      <td>Spain</td>\n",
       "      <td>Male</td>\n",
       "      <td>45</td>\n",
       "      <td>4.0</td>\n",
       "      <td>102486.21</td>\n",
       "      <td>2</td>\n",
       "      <td>1</td>\n",
       "      <td>1</td>\n",
       "      <td>158379.25</td>\n",
       "      <td>0</td>\n",
       "    </tr>\n",
       "    <tr>\n",
       "      <td>6494</td>\n",
       "      <td>699</td>\n",
       "      <td>France</td>\n",
       "      <td>Male</td>\n",
       "      <td>28</td>\n",
       "      <td>7.0</td>\n",
       "      <td>0.00</td>\n",
       "      <td>2</td>\n",
       "      <td>1</td>\n",
       "      <td>1</td>\n",
       "      <td>22684.78</td>\n",
       "      <td>0</td>\n",
       "    </tr>\n",
       "  </tbody>\n",
       "</table>\n",
       "</div>"
      ],
      "text/plain": [
       "      CreditScore Geography  Gender  Age  Tenure    Balance  NumOfProducts  \\\n",
       "7867          640     Spain  Female   46     3.0       0.00              1   \n",
       "1402          757    France    Male   29     8.0  130306.49              1   \n",
       "8606          807     Spain    Male   42     5.0       0.00              2   \n",
       "8885          668     Spain    Male   45     4.0  102486.21              2   \n",
       "6494          699    France    Male   28     7.0       0.00              2   \n",
       "\n",
       "      HasCrCard  IsActiveMember  EstimatedSalary  Exited  \n",
       "7867          1               1        156260.08       0  \n",
       "1402          1               0         77469.38       0  \n",
       "8606          1               1         74900.90       0  \n",
       "8885          1               1        158379.25       0  \n",
       "6494          1               1         22684.78       0  "
      ]
     },
     "execution_count": 6,
     "metadata": {},
     "output_type": "execute_result"
    }
   ],
   "source": [
    "df.sample(5, random_state=RS)"
   ]
  },
  {
   "cell_type": "markdown",
   "metadata": {},
   "source": [
    "Изучим основную информацию о данных:"
   ]
  },
  {
   "cell_type": "code",
   "execution_count": 7,
   "metadata": {},
   "outputs": [
    {
     "name": "stdout",
     "output_type": "stream",
     "text": [
      "<class 'pandas.core.frame.DataFrame'>\n",
      "RangeIndex: 10000 entries, 0 to 9999\n",
      "Data columns (total 11 columns):\n",
      "CreditScore        10000 non-null int64\n",
      "Geography          10000 non-null object\n",
      "Gender             10000 non-null object\n",
      "Age                10000 non-null int64\n",
      "Tenure             9091 non-null float64\n",
      "Balance            10000 non-null float64\n",
      "NumOfProducts      10000 non-null int64\n",
      "HasCrCard          10000 non-null int64\n",
      "IsActiveMember     10000 non-null int64\n",
      "EstimatedSalary    10000 non-null float64\n",
      "Exited             10000 non-null int64\n",
      "dtypes: float64(3), int64(6), object(2)\n",
      "memory usage: 859.5+ KB\n"
     ]
    }
   ],
   "source": [
    "df.info()"
   ]
  },
  {
   "cell_type": "markdown",
   "metadata": {},
   "source": [
    "Заметим, что столбец `Tenure` заполнен не полностью. Проверим его на пропуски:"
   ]
  },
  {
   "cell_type": "code",
   "execution_count": 8,
   "metadata": {},
   "outputs": [
    {
     "data": {
      "text/plain": [
       "909"
      ]
     },
     "execution_count": 8,
     "metadata": {},
     "output_type": "execute_result"
    }
   ],
   "source": [
    "df['Tenure'].isna().sum()"
   ]
  },
  {
   "cell_type": "markdown",
   "metadata": {},
   "source": [
    "Заменим данных пропуски медианным значением:"
   ]
  },
  {
   "cell_type": "code",
   "execution_count": 9,
   "metadata": {},
   "outputs": [],
   "source": [
    "df['Tenure'].fillna(df.Tenure.median(), inplace=True)"
   ]
  },
  {
   "cell_type": "markdown",
   "metadata": {},
   "source": [
    "Также обратим внимание на то, что в данных присутствуют столбцы `Geography` и `Gender`, имеющие тип данных *object*. Для преобразования категориальных данных в численные применим технику **OHE**:"
   ]
  },
  {
   "cell_type": "code",
   "execution_count": 10,
   "metadata": {},
   "outputs": [],
   "source": [
    "df = pd.get_dummies(df, drop_first=True)"
   ]
  },
  {
   "cell_type": "markdown",
   "metadata": {},
   "source": [
    "Изучим основные описательные статистики:"
   ]
  },
  {
   "cell_type": "code",
   "execution_count": 11,
   "metadata": {},
   "outputs": [
    {
     "data": {
      "text/html": [
       "<div>\n",
       "<style scoped>\n",
       "    .dataframe tbody tr th:only-of-type {\n",
       "        vertical-align: middle;\n",
       "    }\n",
       "\n",
       "    .dataframe tbody tr th {\n",
       "        vertical-align: top;\n",
       "    }\n",
       "\n",
       "    .dataframe thead th {\n",
       "        text-align: right;\n",
       "    }\n",
       "</style>\n",
       "<table border=\"1\" class=\"dataframe\">\n",
       "  <thead>\n",
       "    <tr style=\"text-align: right;\">\n",
       "      <th></th>\n",
       "      <th>count</th>\n",
       "      <th>mean</th>\n",
       "      <th>std</th>\n",
       "      <th>min</th>\n",
       "      <th>25%</th>\n",
       "      <th>50%</th>\n",
       "      <th>75%</th>\n",
       "      <th>max</th>\n",
       "    </tr>\n",
       "  </thead>\n",
       "  <tbody>\n",
       "    <tr>\n",
       "      <td>CreditScore</td>\n",
       "      <td>10000.0</td>\n",
       "      <td>650.528800</td>\n",
       "      <td>96.653299</td>\n",
       "      <td>350.00</td>\n",
       "      <td>584.00</td>\n",
       "      <td>652.000</td>\n",
       "      <td>718.0000</td>\n",
       "      <td>850.00</td>\n",
       "    </tr>\n",
       "    <tr>\n",
       "      <td>Age</td>\n",
       "      <td>10000.0</td>\n",
       "      <td>38.921800</td>\n",
       "      <td>10.487806</td>\n",
       "      <td>18.00</td>\n",
       "      <td>32.00</td>\n",
       "      <td>37.000</td>\n",
       "      <td>44.0000</td>\n",
       "      <td>92.00</td>\n",
       "    </tr>\n",
       "    <tr>\n",
       "      <td>Tenure</td>\n",
       "      <td>10000.0</td>\n",
       "      <td>4.997900</td>\n",
       "      <td>2.760010</td>\n",
       "      <td>0.00</td>\n",
       "      <td>3.00</td>\n",
       "      <td>5.000</td>\n",
       "      <td>7.0000</td>\n",
       "      <td>10.00</td>\n",
       "    </tr>\n",
       "    <tr>\n",
       "      <td>Balance</td>\n",
       "      <td>10000.0</td>\n",
       "      <td>76485.889288</td>\n",
       "      <td>62397.405202</td>\n",
       "      <td>0.00</td>\n",
       "      <td>0.00</td>\n",
       "      <td>97198.540</td>\n",
       "      <td>127644.2400</td>\n",
       "      <td>250898.09</td>\n",
       "    </tr>\n",
       "    <tr>\n",
       "      <td>NumOfProducts</td>\n",
       "      <td>10000.0</td>\n",
       "      <td>1.530200</td>\n",
       "      <td>0.581654</td>\n",
       "      <td>1.00</td>\n",
       "      <td>1.00</td>\n",
       "      <td>1.000</td>\n",
       "      <td>2.0000</td>\n",
       "      <td>4.00</td>\n",
       "    </tr>\n",
       "    <tr>\n",
       "      <td>HasCrCard</td>\n",
       "      <td>10000.0</td>\n",
       "      <td>0.705500</td>\n",
       "      <td>0.455840</td>\n",
       "      <td>0.00</td>\n",
       "      <td>0.00</td>\n",
       "      <td>1.000</td>\n",
       "      <td>1.0000</td>\n",
       "      <td>1.00</td>\n",
       "    </tr>\n",
       "    <tr>\n",
       "      <td>IsActiveMember</td>\n",
       "      <td>10000.0</td>\n",
       "      <td>0.515100</td>\n",
       "      <td>0.499797</td>\n",
       "      <td>0.00</td>\n",
       "      <td>0.00</td>\n",
       "      <td>1.000</td>\n",
       "      <td>1.0000</td>\n",
       "      <td>1.00</td>\n",
       "    </tr>\n",
       "    <tr>\n",
       "      <td>EstimatedSalary</td>\n",
       "      <td>10000.0</td>\n",
       "      <td>100090.239881</td>\n",
       "      <td>57510.492818</td>\n",
       "      <td>11.58</td>\n",
       "      <td>51002.11</td>\n",
       "      <td>100193.915</td>\n",
       "      <td>149388.2475</td>\n",
       "      <td>199992.48</td>\n",
       "    </tr>\n",
       "    <tr>\n",
       "      <td>Exited</td>\n",
       "      <td>10000.0</td>\n",
       "      <td>0.203700</td>\n",
       "      <td>0.402769</td>\n",
       "      <td>0.00</td>\n",
       "      <td>0.00</td>\n",
       "      <td>0.000</td>\n",
       "      <td>0.0000</td>\n",
       "      <td>1.00</td>\n",
       "    </tr>\n",
       "    <tr>\n",
       "      <td>Geography_Germany</td>\n",
       "      <td>10000.0</td>\n",
       "      <td>0.250900</td>\n",
       "      <td>0.433553</td>\n",
       "      <td>0.00</td>\n",
       "      <td>0.00</td>\n",
       "      <td>0.000</td>\n",
       "      <td>1.0000</td>\n",
       "      <td>1.00</td>\n",
       "    </tr>\n",
       "    <tr>\n",
       "      <td>Geography_Spain</td>\n",
       "      <td>10000.0</td>\n",
       "      <td>0.247700</td>\n",
       "      <td>0.431698</td>\n",
       "      <td>0.00</td>\n",
       "      <td>0.00</td>\n",
       "      <td>0.000</td>\n",
       "      <td>0.0000</td>\n",
       "      <td>1.00</td>\n",
       "    </tr>\n",
       "    <tr>\n",
       "      <td>Gender_Male</td>\n",
       "      <td>10000.0</td>\n",
       "      <td>0.545700</td>\n",
       "      <td>0.497932</td>\n",
       "      <td>0.00</td>\n",
       "      <td>0.00</td>\n",
       "      <td>1.000</td>\n",
       "      <td>1.0000</td>\n",
       "      <td>1.00</td>\n",
       "    </tr>\n",
       "  </tbody>\n",
       "</table>\n",
       "</div>"
      ],
      "text/plain": [
       "                     count           mean           std     min       25%  \\\n",
       "CreditScore        10000.0     650.528800     96.653299  350.00    584.00   \n",
       "Age                10000.0      38.921800     10.487806   18.00     32.00   \n",
       "Tenure             10000.0       4.997900      2.760010    0.00      3.00   \n",
       "Balance            10000.0   76485.889288  62397.405202    0.00      0.00   \n",
       "NumOfProducts      10000.0       1.530200      0.581654    1.00      1.00   \n",
       "HasCrCard          10000.0       0.705500      0.455840    0.00      0.00   \n",
       "IsActiveMember     10000.0       0.515100      0.499797    0.00      0.00   \n",
       "EstimatedSalary    10000.0  100090.239881  57510.492818   11.58  51002.11   \n",
       "Exited             10000.0       0.203700      0.402769    0.00      0.00   \n",
       "Geography_Germany  10000.0       0.250900      0.433553    0.00      0.00   \n",
       "Geography_Spain    10000.0       0.247700      0.431698    0.00      0.00   \n",
       "Gender_Male        10000.0       0.545700      0.497932    0.00      0.00   \n",
       "\n",
       "                          50%          75%        max  \n",
       "CreditScore           652.000     718.0000     850.00  \n",
       "Age                    37.000      44.0000      92.00  \n",
       "Tenure                  5.000       7.0000      10.00  \n",
       "Balance             97198.540  127644.2400  250898.09  \n",
       "NumOfProducts           1.000       2.0000       4.00  \n",
       "HasCrCard               1.000       1.0000       1.00  \n",
       "IsActiveMember          1.000       1.0000       1.00  \n",
       "EstimatedSalary    100193.915  149388.2475  199992.48  \n",
       "Exited                  0.000       0.0000       1.00  \n",
       "Geography_Germany       0.000       1.0000       1.00  \n",
       "Geography_Spain         0.000       0.0000       1.00  \n",
       "Gender_Male             1.000       1.0000       1.00  "
      ]
     },
     "execution_count": 11,
     "metadata": {},
     "output_type": "execute_result"
    }
   ],
   "source": [
    "df.describe().T"
   ]
  },
  {
   "cell_type": "markdown",
   "metadata": {},
   "source": [
    "Разделим данные на выборки - обучающую, валидационную и тестовую:"
   ]
  },
  {
   "cell_type": "code",
   "execution_count": 12,
   "metadata": {},
   "outputs": [],
   "source": [
    "df_train, df_test = train_test_split(df, test_size=0.4, random_state=RS)\n",
    "df_test, df_valid = train_test_split(df_test, test_size = 0.5, random_state=RS)"
   ]
  },
  {
   "cell_type": "markdown",
   "metadata": {},
   "source": [
    "Проверим размерность получившихся выборок:"
   ]
  },
  {
   "cell_type": "code",
   "execution_count": 13,
   "metadata": {},
   "outputs": [
    {
     "data": {
      "text/plain": [
       "(6000, 12)"
      ]
     },
     "execution_count": 13,
     "metadata": {},
     "output_type": "execute_result"
    }
   ],
   "source": [
    "df_train.shape"
   ]
  },
  {
   "cell_type": "code",
   "execution_count": 14,
   "metadata": {},
   "outputs": [
    {
     "data": {
      "text/plain": [
       "(2000, 12)"
      ]
     },
     "execution_count": 14,
     "metadata": {},
     "output_type": "execute_result"
    }
   ],
   "source": [
    "df_test.shape"
   ]
  },
  {
   "cell_type": "code",
   "execution_count": 15,
   "metadata": {},
   "outputs": [
    {
     "data": {
      "text/plain": [
       "(2000, 12)"
      ]
     },
     "execution_count": 15,
     "metadata": {},
     "output_type": "execute_result"
    }
   ],
   "source": [
    "df_valid.shape"
   ]
  },
  {
   "cell_type": "markdown",
   "metadata": {},
   "source": [
    "Выделим целевой признак и остальные признаки для получившихся выборок:"
   ]
  },
  {
   "cell_type": "code",
   "execution_count": 16,
   "metadata": {},
   "outputs": [],
   "source": [
    "features_train = df_train.drop(['Exited'], axis=1)\n",
    "target_train = df_train['Exited']\n",
    "\n",
    "features_valid = df_valid.drop(['Exited'], axis=1)\n",
    "target_valid = df_valid['Exited']\n",
    "\n",
    "features_test = df_test.drop(['Exited'], axis=1)\n",
    "target_test = df_test['Exited']"
   ]
  },
  {
   "cell_type": "markdown",
   "metadata": {},
   "source": [
    "### Вывод"
   ]
  },
  {
   "cell_type": "markdown",
   "metadata": {},
   "source": [
    "Предварительно можно утверждать, что имеющихся данных **достаточно** для построения моделей машинного обучения.\n",
    "\n",
    "В качестве целевой переменной выбран признак **Exited**, характеризующий факт ухода клиента.\n",
    "\n",
    "Категориальные признаки в таблице были преобразованы в числовые техникой **прямого кодирования**. Данные были разделены на **обучающую**, **валидационную** и **тестовую выборки** в соотношении **3:1:1**"
   ]
  },
  {
   "cell_type": "markdown",
   "metadata": {},
   "source": [
    "## Исследование задачи"
   ]
  },
  {
   "cell_type": "markdown",
   "metadata": {},
   "source": [
    "Исследуем баланс классов целевой переменной:"
   ]
  },
  {
   "cell_type": "code",
   "execution_count": 17,
   "metadata": {},
   "outputs": [
    {
     "data": {
      "image/png": "[encoded data removed]",
      "text/plain": [
       "<Figure size 432x288 with 1 Axes>"
      ]
     },
     "metadata": {
      "needs_background": "light"
     },
     "output_type": "display_data"
    }
   ],
   "source": [
    "df['Exited'].value_counts(normalize=True).plot(kind='bar')\n",
    "\n",
    "plt.xlabel('Класс')\n",
    "plt.ylabel('Количество')\n",
    "plt.title('Распределение классов в данных')\n",
    "plt.show()"
   ]
  },
  {
   "cell_type": "markdown",
   "metadata": {},
   "source": [
    "Исходя из графика можно сказать, что наблюдается сильный **дисбаланс** классов."
   ]
  },
  {
   "cell_type": "markdown",
   "metadata": {},
   "source": [
    "Изучим модели без учета дисбаланса. Для исследования выберем модели `RandomForestClassifier` и `LogisticRegression`."
   ]
  },
  {
   "cell_type": "markdown",
   "metadata": {},
   "source": [
    "### RandomForestClassifier"
   ]
  },
  {
   "cell_type": "markdown",
   "metadata": {},
   "source": [
    "Обучим модель, перебирая значения гиперпараметра **depth** при **n_estimators** = **60** для получения максимального значения метрики **f1_score**:"
   ]
  },
  {
   "cell_type": "code",
   "execution_count": 18,
   "metadata": {},
   "outputs": [],
   "source": [
    "def best_f1(features, target, weight=None):\n",
    "    f1_values = {}\n",
    "    for depth in range(1, 16):\n",
    "        model = RandomForestClassifier(n_estimators=60, max_depth=depth, random_state=RS, class_weight=weight)\n",
    "        model.fit(features, target)\n",
    "        predictions_valid = model.predict(features_valid)\n",
    "        f1_values[depth] = f1_score(target_valid, predictions_valid)\n",
    "        \n",
    "    print(f'Максимальное значение f1_score = {max(f1_values.values())} \\\n",
    "достигается при depth = {max(f1_values, key=f1_values.get)}')"
   ]
  },
  {
   "cell_type": "code",
   "execution_count": 19,
   "metadata": {},
   "outputs": [
    {
     "name": "stdout",
     "output_type": "stream",
     "text": [
      "Максимальное значение f1_score = 0.5413533834586466 достигается при depth = 14\n"
     ]
    }
   ],
   "source": [
    "best_f1(features_train, target_train)"
   ]
  },
  {
   "cell_type": "markdown",
   "metadata": {},
   "source": [
    "Таким образом, максимальное значение метрики **f1_score** равное **0.54** достигается при значении **depth** = **14**."
   ]
  },
  {
   "cell_type": "code",
   "execution_count": 20,
   "metadata": {},
   "outputs": [],
   "source": [
    "model = RandomForestClassifier(n_estimators=60, max_depth=14, random_state=RS)\n",
    "model.fit(features_train, target_train)\n",
    "predictions_valid = model.predict(features_valid)"
   ]
  },
  {
   "cell_type": "markdown",
   "metadata": {},
   "source": [
    "Построим график **ROC** кривой и вычислим площадь под ней при помощи функции:"
   ]
  },
  {
   "cell_type": "code",
   "execution_count": 21,
   "metadata": {},
   "outputs": [],
   "source": [
    "def roc(model, features, target):\n",
    "    probabilities = model.predict_proba(features)\n",
    "    probabilities_one = probabilities[:, 1]\n",
    "    fpr, tpr, thresholds = roc_curve(target, probabilities_one)\n",
    "    \n",
    "    plt.figure()\n",
    "    plt.plot(fpr, tpr)\n",
    "    plt.xlim([0.0, 1.0])\n",
    "    plt.ylim([0.0, 1.0])\n",
    "    plt.xlabel('False Positive Rate')\n",
    "    plt.ylabel('True Positive Rate')\n",
    "    plt.title('ROC-кривая')\n",
    "    plt.plot([0, 1], [0, 1], linestyle='--')\n",
    "    plt.show()\n",
    "    \n",
    "    print(f'Площадь под графиком: {roc_auc_score(target, probabilities_one).round(2)}')"
   ]
  },
  {
   "cell_type": "code",
   "execution_count": 22,
   "metadata": {},
   "outputs": [
    {
     "data": {
      "image/png": "[encoded data removed]",
      "text/plain": [
       "<Figure size 432x288 with 1 Axes>"
      ]
     },
     "metadata": {
      "needs_background": "light"
     },
     "output_type": "display_data"
    },
    {
     "name": "stdout",
     "output_type": "stream",
     "text": [
      "Площадь под графиком: 0.85\n"
     ]
    }
   ],
   "source": [
    "roc(model, features_valid, target_valid)"
   ]
  },
  {
   "cell_type": "markdown",
   "metadata": {},
   "source": [
    "### LogisticRegression"
   ]
  },
  {
   "cell_type": "markdown",
   "metadata": {},
   "source": [
    "Перед обучением модели логистической регрессии нормируем значения признаков:"
   ]
  },
  {
   "cell_type": "code",
   "execution_count": 23,
   "metadata": {},
   "outputs": [
    {
     "data": {
      "text/plain": [
       "StandardScaler(copy=True, with_mean=True, with_std=True)"
      ]
     },
     "execution_count": 23,
     "metadata": {},
     "output_type": "execute_result"
    }
   ],
   "source": [
    "scaler = StandardScaler()\n",
    "scaler.fit(features_train)"
   ]
  },
  {
   "cell_type": "code",
   "execution_count": 24,
   "metadata": {},
   "outputs": [],
   "source": [
    "features_train_scaled = scaler.transform(features_train)\n",
    "features_valid_scaled = scaler.transform(features_valid)"
   ]
  },
  {
   "cell_type": "markdown",
   "metadata": {},
   "source": [
    "Обучим модель:"
   ]
  },
  {
   "cell_type": "code",
   "execution_count": 25,
   "metadata": {},
   "outputs": [],
   "source": [
    "model = LogisticRegression(random_state=RS, solver='liblinear')\n",
    "model.fit(features_train_scaled, target_train)\n",
    "predictions_valid = model.predict(features_valid_scaled)"
   ]
  },
  {
   "cell_type": "markdown",
   "metadata": {},
   "source": [
    "Значение метрики **f1_score**:"
   ]
  },
  {
   "cell_type": "code",
   "execution_count": 26,
   "metadata": {},
   "outputs": [
    {
     "data": {
      "text/plain": [
       "0.27478260869565213"
      ]
     },
     "execution_count": 26,
     "metadata": {},
     "output_type": "execute_result"
    }
   ],
   "source": [
    "f1_score(target_valid, predictions_valid)"
   ]
  },
  {
   "cell_type": "markdown",
   "metadata": {},
   "source": [
    "Построим график **ROC** кривой и вычислим площадь под ней:"
   ]
  },
  {
   "cell_type": "code",
   "execution_count": 27,
   "metadata": {},
   "outputs": [
    {
     "data": {
      "image/png": "[encoded data removed]",
      "text/plain": [
       "<Figure size 432x288 with 1 Axes>"
      ]
     },
     "metadata": {
      "needs_background": "light"
     },
     "output_type": "display_data"
    },
    {
     "name": "stdout",
     "output_type": "stream",
     "text": [
      "Площадь под графиком: 0.74\n"
     ]
    }
   ],
   "source": [
    "roc(model, features_valid_scaled, target_valid)"
   ]
  },
  {
   "cell_type": "markdown",
   "metadata": {},
   "source": [
    "### Вывод"
   ]
  },
  {
   "cell_type": "markdown",
   "metadata": {},
   "source": [
    "Наблюдается сильный **дисбаланс** классов в исходных данных.\n",
    "\n",
    "Для моделей **без учета** дисбаланса классов получили следующие значения метрики **f1_score**:\n",
    "* `Случайный лес` - **0.54**\n",
    "* `Логистическая регрессия` - **0.27**\n",
    "\n",
    "Очевидно, что значения метрики **AUC-ROC** также будут **больше** у модели **случайного леса**: **0.85** против **0.74** у **логистической регрессии**."
   ]
  },
  {
   "cell_type": "markdown",
   "metadata": {},
   "source": [
    "## Борьба с дисбалансом"
   ]
  },
  {
   "cell_type": "markdown",
   "metadata": {},
   "source": [
    "Изучим поведение метрики при при использовании аргумента `class_weight='balanced'`. Также найдем оптимальное значение гипер параметра `depth` для модели `Случайного леса`."
   ]
  },
  {
   "cell_type": "markdown",
   "metadata": {},
   "source": [
    "Для модели `RandomForestClassifier`:"
   ]
  },
  {
   "cell_type": "code",
   "execution_count": 28,
   "metadata": {},
   "outputs": [
    {
     "name": "stdout",
     "output_type": "stream",
     "text": [
      "Максимальное значение f1_score = 0.6185792349726776 достигается при depth = 8\n"
     ]
    }
   ],
   "source": [
    "best_f1(features_train, target_train, weight='balanced')"
   ]
  },
  {
   "cell_type": "markdown",
   "metadata": {},
   "source": [
    "Для модели `LogisticRegression`:"
   ]
  },
  {
   "cell_type": "code",
   "execution_count": 29,
   "metadata": {},
   "outputs": [],
   "source": [
    "model = LogisticRegression(class_weight='balanced')\n",
    "model.fit(features_train_scaled, target_train)\n",
    "predictions_valid = model.predict(features_valid_scaled)"
   ]
  },
  {
   "cell_type": "markdown",
   "metadata": {},
   "source": [
    "Значение метрики **f1_score**:"
   ]
  },
  {
   "cell_type": "code",
   "execution_count": 30,
   "metadata": {},
   "outputs": [
    {
     "data": {
      "text/plain": [
       "0.4775086505190312"
      ]
     },
     "execution_count": 30,
     "metadata": {},
     "output_type": "execute_result"
    }
   ],
   "source": [
    "f1_score(target_valid, predictions_valid)"
   ]
  },
  {
   "cell_type": "markdown",
   "metadata": {},
   "source": [
    "Заметим, что значение метрики **f1_score** для `Логистической регрессии` значительно **выросло**. Однако использование модели `Случайного леса` все еще дает **наилучший** результат.\n",
    "\n",
    "Рассмотрим применение методов изменения размеров выборок для данной модели с целью увеличения метрики **f1_score** (Upsampling и Downsampling)"
   ]
  },
  {
   "cell_type": "markdown",
   "metadata": {},
   "source": [
    "### Upsampling"
   ]
  },
  {
   "cell_type": "markdown",
   "metadata": {},
   "source": [
    "Создадим функцию, возвращающую **увеличенные** выборки:"
   ]
  },
  {
   "cell_type": "code",
   "execution_count": 31,
   "metadata": {},
   "outputs": [],
   "source": [
    "def upsample(features, target, repeat):\n",
    "    features_zeros = features[target == 0]\n",
    "    features_ones = features[target == 1]\n",
    "    target_zeros = target[target == 0]\n",
    "    target_ones = target[target == 1]\n",
    "\n",
    "    features_upsampled = pd.concat([features_zeros] + [features_ones] * repeat)\n",
    "    target_upsampled = pd.concat([target_zeros] + [target_ones] * repeat)\n",
    "    \n",
    "    features_upsampled, target_upsampled = shuffle(features_upsampled, target_upsampled, random_state=RS)\n",
    "    \n",
    "    return features_upsampled, target_upsampled"
   ]
  },
  {
   "cell_type": "code",
   "execution_count": 32,
   "metadata": {},
   "outputs": [],
   "source": [
    "features_upsampled, target_upsampled = upsample(features_train, target_train, 4)"
   ]
  },
  {
   "cell_type": "code",
   "execution_count": 33,
   "metadata": {},
   "outputs": [
    {
     "data": {
      "text/plain": [
       "<matplotlib.axes._subplots.AxesSubplot at 0x7fe639b96b90>"
      ]
     },
     "execution_count": 33,
     "metadata": {},
     "output_type": "execute_result"
    },
    {
     "data": {
      "image/png": "[encoded data removed]",
      "text/plain": [
       "<Figure size 432x288 with 1 Axes>"
      ]
     },
     "metadata": {
      "needs_background": "light"
     },
     "output_type": "display_data"
    }
   ],
   "source": [
    "target_upsampled.value_counts(normalize=True).plot(kind='bar')"
   ]
  },
  {
   "cell_type": "markdown",
   "metadata": {},
   "source": [
    "Найдем оптимальное значение **depth**:"
   ]
  },
  {
   "cell_type": "code",
   "execution_count": 34,
   "metadata": {},
   "outputs": [
    {
     "name": "stdout",
     "output_type": "stream",
     "text": [
      "Максимальное значение f1_score = 0.6143001007049346 достигается при depth = 8\n"
     ]
    }
   ],
   "source": [
    "best_f1(features_upsampled, target_upsampled, weight='balanced')"
   ]
  },
  {
   "cell_type": "markdown",
   "metadata": {},
   "source": [
    "Обучим модель на полученных данных:"
   ]
  },
  {
   "cell_type": "code",
   "execution_count": 35,
   "metadata": {},
   "outputs": [],
   "source": [
    "model = RandomForestClassifier(n_estimators=60, max_depth=8, random_state=RS, class_weight='balanced')\n",
    "model.fit(features_upsampled, target_upsampled)\n",
    "predicted_valid = model.predict(features_valid)"
   ]
  },
  {
   "cell_type": "markdown",
   "metadata": {},
   "source": [
    "Построим график **ROC** кривой и вычислим площадь под ней:"
   ]
  },
  {
   "cell_type": "code",
   "execution_count": 36,
   "metadata": {},
   "outputs": [
    {
     "data": {
      "image/png": "[encoded data removed]",
      "text/plain": [
       "<Figure size 432x288 with 1 Axes>"
      ]
     },
     "metadata": {
      "needs_background": "light"
     },
     "output_type": "display_data"
    },
    {
     "name": "stdout",
     "output_type": "stream",
     "text": [
      "Площадь под графиком: 0.86\n"
     ]
    }
   ],
   "source": [
    "roc(model, features_valid, target_valid)"
   ]
  },
  {
   "cell_type": "markdown",
   "metadata": {},
   "source": [
    "### Downsampling"
   ]
  },
  {
   "cell_type": "markdown",
   "metadata": {},
   "source": [
    "Создадим функцию, возвращающую **уменьшенные** выборки:"
   ]
  },
  {
   "cell_type": "code",
   "execution_count": 37,
   "metadata": {},
   "outputs": [],
   "source": [
    "def downsample(features, target, fraction):\n",
    "    features_zeros = features[target == 0]\n",
    "    features_ones = features[target == 1]\n",
    "    target_zeros = target[target == 0]\n",
    "    target_ones = target[target == 1]\n",
    "\n",
    "    features_downsampled = pd.concat(\n",
    "        [features_zeros.sample(frac=fraction, random_state=12345)] + [features_ones])\n",
    "    target_downsampled = pd.concat(\n",
    "        [target_zeros.sample(frac=fraction, random_state=12345)] + [target_ones])\n",
    "    \n",
    "    features_downsampled, target_downsampled = shuffle(\n",
    "        features_downsampled, target_downsampled, random_state=12345)\n",
    "    \n",
    "    return features_downsampled, target_downsampled"
   ]
  },
  {
   "cell_type": "code",
   "execution_count": 38,
   "metadata": {},
   "outputs": [],
   "source": [
    "features_downsampled, target_downsampled = downsample(features_train, target_train, 0.5)"
   ]
  },
  {
   "cell_type": "markdown",
   "metadata": {},
   "source": [
    "Найдем оптимальное значение **depth**:"
   ]
  },
  {
   "cell_type": "code",
   "execution_count": 39,
   "metadata": {},
   "outputs": [
    {
     "name": "stdout",
     "output_type": "stream",
     "text": [
      "Максимальное значение f1_score = 0.6136865342163356 достигается при depth = 11\n"
     ]
    }
   ],
   "source": [
    "best_f1(features_downsampled, target_downsampled, weight='balanced')"
   ]
  },
  {
   "cell_type": "markdown",
   "metadata": {},
   "source": [
    "Обучим модель на полученных данных:"
   ]
  },
  {
   "cell_type": "code",
   "execution_count": 40,
   "metadata": {},
   "outputs": [],
   "source": [
    "model = RandomForestClassifier(n_estimators=60, max_depth=11, random_state=RS, class_weight='balanced')\n",
    "model.fit(features_downsampled, target_downsampled)\n",
    "predicted_valid = model.predict(features_valid)"
   ]
  },
  {
   "cell_type": "markdown",
   "metadata": {},
   "source": [
    "Построим график **ROC** кривой и вычислим площадь под ней:"
   ]
  },
  {
   "cell_type": "code",
   "execution_count": 41,
   "metadata": {},
   "outputs": [
    {
     "data": {
      "image/png": "[encoded data removed]",
      "text/plain": [
       "<Figure size 432x288 with 1 Axes>"
      ]
     },
     "metadata": {
      "needs_background": "light"
     },
     "output_type": "display_data"
    },
    {
     "name": "stdout",
     "output_type": "stream",
     "text": [
      "Площадь под графиком: 0.85\n"
     ]
    }
   ],
   "source": [
    "roc(model, features_valid, target_valid)"
   ]
  },
  {
   "cell_type": "markdown",
   "metadata": {},
   "source": [
    "### Вывод"
   ]
  },
  {
   "cell_type": "markdown",
   "metadata": {},
   "source": [
    "Для увеличения метрики **f1_score** были использованы следующие методы:\n",
    "* Взвешивание классов\n",
    "* Увеличение выборки\n",
    "* Уменьшение выборки\n",
    "\n",
    "Анализ результатов показал, что оба метода, используемых для повышения исследуемой метрики были практически одинаково **эффективны**: значение **f1_score** = **0.61**, что **на** **0.07** **превышает** предыдущий результат.\n",
    "\n",
    "Также удалось повысить метрику **ROC-AUC** на **0.1**"
   ]
  },
  {
   "cell_type": "markdown",
   "metadata": {},
   "source": [
    "## Тестирование модели"
   ]
  },
  {
   "cell_type": "markdown",
   "metadata": {},
   "source": [
    "Проведем финальное исследование на **тестовой** выборке:"
   ]
  },
  {
   "cell_type": "code",
   "execution_count": 42,
   "metadata": {},
   "outputs": [],
   "source": [
    "model = RandomForestClassifier(n_estimators=60, max_depth=8, random_state=RS, class_weight='balanced')\n",
    "model.fit(features_upsampled, target_upsampled)\n",
    "predicted_test = model.predict(features_test)"
   ]
  },
  {
   "cell_type": "markdown",
   "metadata": {},
   "source": [
    "Значение метрики **f1_score**:"
   ]
  },
  {
   "cell_type": "code",
   "execution_count": 43,
   "metadata": {},
   "outputs": [
    {
     "data": {
      "text/plain": [
       "0.6171310629514963"
      ]
     },
     "execution_count": 43,
     "metadata": {},
     "output_type": "execute_result"
    }
   ],
   "source": [
    "f1_score(target_test, predicted_test)"
   ]
  },
  {
   "cell_type": "code",
   "execution_count": 44,
   "metadata": {},
   "outputs": [
    {
     "data": {
      "image/png": "[encoded data removed]",
      "text/plain": [
       "<Figure size 432x288 with 1 Axes>"
      ]
     },
     "metadata": {
      "needs_background": "light"
     },
     "output_type": "display_data"
    },
    {
     "name": "stdout",
     "output_type": "stream",
     "text": [
      "Площадь под графиком: 0.86\n"
     ]
    }
   ],
   "source": [
    "roc(model, features_test, target_test)"
   ]
  },
  {
   "cell_type": "markdown",
   "metadata": {},
   "source": [
    "### Вывод"
   ]
  },
  {
   "cell_type": "markdown",
   "metadata": {},
   "source": [
    "Полученное значение **f1_score** **подтвердилось** на тестовых данных."
   ]
  },
  {
   "cell_type": "markdown",
   "metadata": {},
   "source": [
    "## Общий вывод"
   ]
  },
  {
   "cell_type": "markdown",
   "metadata": {},
   "source": [
    "В данном исследовании были рассмотрены модели `Случайного леса` и `Логистической регрессии`.\n",
    "\n",
    "Первоначально проведен анализ метрики **f1_score** и **AUC_ROC** без учета дисбаланса классов. В качестве основной модели была выбрана модель **RandomForestClassifier**, так как ее использование дало более высокие значения исследуемых метрик:\n",
    "* `f1_score = 0.54`\n",
    "* `ROC-AUC = 0.85`\n",
    "\n",
    "Применение **взвешивания классов** и **уменьшение выборки** по итогу позволило достичь **наилучшее** значение исследуемой метрики: `f1_score = 0.61`\n",
    "\n",
    "Анализ на тестовых данных также **подтвердил** полученное значение."
   ]
  }
 ],
 "metadata": {
  "ExecuteTimeLog": [
   {
    "duration": 1253,
    "start_time": "2022-01-18T17:26:20.167Z"
   },
   {
    "duration": 27,
    "start_time": "2022-01-18T17:26:44.872Z"
   },
   {
    "duration": 14,
    "start_time": "2022-01-18T17:26:51.377Z"
   },
   {
    "duration": 8,
    "start_time": "2022-01-18T17:27:24.884Z"
   },
   {
    "duration": 4,
    "start_time": "2022-01-18T17:29:47.155Z"
   },
   {
    "duration": 10,
    "start_time": "2022-01-18T17:29:52.915Z"
   },
   {
    "duration": 3,
    "start_time": "2022-01-18T17:30:01.095Z"
   },
   {
    "duration": 4,
    "start_time": "2022-01-18T17:30:09.473Z"
   },
   {
    "duration": 3,
    "start_time": "2022-01-18T17:30:23.421Z"
   },
   {
    "duration": 7,
    "start_time": "2022-01-18T17:30:26.137Z"
   },
   {
    "duration": 6,
    "start_time": "2022-01-18T17:30:51.361Z"
   },
   {
    "duration": 6,
    "start_time": "2022-01-18T17:31:11.289Z"
   },
   {
    "duration": 7,
    "start_time": "2022-01-18T17:31:28.483Z"
   },
   {
    "duration": 6,
    "start_time": "2022-01-18T17:31:45.928Z"
   },
   {
    "duration": 301,
    "start_time": "2022-01-18T17:32:06.562Z"
   },
   {
    "duration": 226,
    "start_time": "2022-01-18T17:32:10.084Z"
   },
   {
    "duration": 11,
    "start_time": "2022-01-18T17:32:18.462Z"
   },
   {
    "duration": 8,
    "start_time": "2022-01-18T17:32:21.434Z"
   },
   {
    "duration": 7,
    "start_time": "2022-01-18T17:33:09.723Z"
   },
   {
    "duration": 4,
    "start_time": "2022-01-18T17:33:19.714Z"
   },
   {
    "duration": 6,
    "start_time": "2022-01-18T17:33:26.221Z"
   },
   {
    "duration": 1019,
    "start_time": "2022-01-18T17:33:53.432Z"
   },
   {
    "duration": 27,
    "start_time": "2022-01-18T17:33:54.903Z"
   },
   {
    "duration": 14,
    "start_time": "2022-01-18T17:33:56.267Z"
   },
   {
    "duration": 4,
    "start_time": "2022-01-18T17:34:00.296Z"
   },
   {
    "duration": 4,
    "start_time": "2022-01-18T17:34:01.825Z"
   },
   {
    "duration": 7,
    "start_time": "2022-01-18T17:34:04.687Z"
   },
   {
    "duration": 17,
    "start_time": "2022-01-18T17:34:15.163Z"
   },
   {
    "duration": 4,
    "start_time": "2022-01-18T17:34:33.321Z"
   },
   {
    "duration": 328,
    "start_time": "2022-01-18T17:35:07.771Z"
   },
   {
    "duration": 7,
    "start_time": "2022-01-18T17:35:23.178Z"
   },
   {
    "duration": 35,
    "start_time": "2022-01-18T17:35:48.880Z"
   },
   {
    "duration": 6,
    "start_time": "2022-01-18T17:37:03.045Z"
   },
   {
    "duration": 36961,
    "start_time": "2022-01-18T17:37:13.357Z"
   },
   {
    "duration": 52,
    "start_time": "2022-01-18T17:38:09.348Z"
   },
   {
    "duration": 308,
    "start_time": "2022-01-18T17:38:51.647Z"
   },
   {
    "duration": 251,
    "start_time": "2022-01-18T17:39:24.308Z"
   },
   {
    "duration": 141,
    "start_time": "2022-01-18T17:39:51.171Z"
   },
   {
    "duration": 176,
    "start_time": "2022-01-18T17:40:13.509Z"
   },
   {
    "duration": 234,
    "start_time": "2022-01-18T17:40:21.632Z"
   },
   {
    "duration": 95682,
    "start_time": "2022-01-18T17:40:31.369Z"
   },
   {
    "duration": -37,
    "start_time": "2022-01-18T17:42:07.091Z"
   },
   {
    "duration": 48302,
    "start_time": "2022-01-18T17:42:31.856Z"
   },
   {
    "duration": 318,
    "start_time": "2022-01-18T17:43:39.447Z"
   },
   {
    "duration": 314,
    "start_time": "2022-01-18T17:43:45.300Z"
   },
   {
    "duration": 329,
    "start_time": "2022-01-18T17:43:52.980Z"
   },
   {
    "duration": 223,
    "start_time": "2022-01-18T17:44:24.174Z"
   },
   {
    "duration": 418,
    "start_time": "2022-01-18T17:44:41.146Z"
   },
   {
    "duration": 240,
    "start_time": "2022-01-18T17:44:46.714Z"
   },
   {
    "duration": 11880,
    "start_time": "2022-01-18T17:45:32.587Z"
   },
   {
    "duration": 920,
    "start_time": "2022-01-18T17:45:51.369Z"
   },
   {
    "duration": 254,
    "start_time": "2022-01-18T17:46:19.635Z"
   },
   {
    "duration": 1054,
    "start_time": "2022-01-18T17:46:32.122Z"
   },
   {
    "duration": 25,
    "start_time": "2022-01-18T17:46:33.178Z"
   },
   {
    "duration": 13,
    "start_time": "2022-01-18T17:46:33.205Z"
   },
   {
    "duration": 4,
    "start_time": "2022-01-18T17:46:33.219Z"
   },
   {
    "duration": 4,
    "start_time": "2022-01-18T17:46:33.225Z"
   },
   {
    "duration": 7,
    "start_time": "2022-01-18T17:46:33.230Z"
   },
   {
    "duration": 3,
    "start_time": "2022-01-18T17:46:33.239Z"
   },
   {
    "duration": 139,
    "start_time": "2022-01-18T17:46:33.244Z"
   },
   {
    "duration": 39,
    "start_time": "2022-01-18T17:46:33.384Z"
   },
   {
    "duration": 5,
    "start_time": "2022-01-18T17:46:33.424Z"
   },
   {
    "duration": 1045,
    "start_time": "2022-01-18T17:46:33.430Z"
   },
   {
    "duration": 5,
    "start_time": "2022-01-18T17:46:46.644Z"
   },
   {
    "duration": 126,
    "start_time": "2022-01-18T17:46:59.908Z"
   },
   {
    "duration": 117,
    "start_time": "2022-01-18T17:47:05.134Z"
   },
   {
    "duration": -82,
    "start_time": "2022-01-18T17:47:33.163Z"
   },
   {
    "duration": 1097,
    "start_time": "2022-01-18T17:47:43.187Z"
   },
   {
    "duration": 25,
    "start_time": "2022-01-18T17:47:44.286Z"
   },
   {
    "duration": 13,
    "start_time": "2022-01-18T17:47:44.313Z"
   },
   {
    "duration": 4,
    "start_time": "2022-01-18T17:47:44.327Z"
   },
   {
    "duration": 5,
    "start_time": "2022-01-18T17:47:44.332Z"
   },
   {
    "duration": 13,
    "start_time": "2022-01-18T17:47:44.339Z"
   },
   {
    "duration": 5,
    "start_time": "2022-01-18T17:47:44.353Z"
   },
   {
    "duration": 90221,
    "start_time": "2022-01-18T17:47:44.359Z"
   },
   {
    "duration": 39,
    "start_time": "2022-01-18T17:49:14.582Z"
   },
   {
    "duration": 5,
    "start_time": "2022-01-18T17:49:14.622Z"
   },
   {
    "duration": 375,
    "start_time": "2022-01-18T17:50:12.447Z"
   },
   {
    "duration": 176,
    "start_time": "2022-01-18T17:50:31.778Z"
   },
   {
    "duration": 132,
    "start_time": "2022-01-18T17:51:21.492Z"
   },
   {
    "duration": 1152,
    "start_time": "2022-01-19T14:15:51.866Z"
   },
   {
    "duration": 28,
    "start_time": "2022-01-19T14:15:54.041Z"
   },
   {
    "duration": 15,
    "start_time": "2022-01-19T14:15:54.690Z"
   },
   {
    "duration": 4,
    "start_time": "2022-01-19T14:15:57.836Z"
   },
   {
    "duration": 4,
    "start_time": "2022-01-19T14:15:58.002Z"
   },
   {
    "duration": 8,
    "start_time": "2022-01-19T14:15:59.747Z"
   },
   {
    "duration": 5,
    "start_time": "2022-01-19T14:16:04.147Z"
   },
   {
    "duration": 37,
    "start_time": "2022-01-19T14:16:05.276Z"
   },
   {
    "duration": 155,
    "start_time": "2022-01-19T14:16:05.772Z"
   },
   {
    "duration": 7,
    "start_time": "2022-01-19T14:18:46.913Z"
   },
   {
    "duration": 6,
    "start_time": "2022-01-19T14:18:53.639Z"
   },
   {
    "duration": 3,
    "start_time": "2022-01-19T14:19:18.254Z"
   },
   {
    "duration": 158,
    "start_time": "2022-01-19T14:19:39.337Z"
   },
   {
    "duration": 148,
    "start_time": "2022-01-19T14:19:54.313Z"
   },
   {
    "duration": 152,
    "start_time": "2022-01-19T14:20:16.882Z"
   },
   {
    "duration": 160,
    "start_time": "2022-01-19T14:20:21.945Z"
   },
   {
    "duration": 161,
    "start_time": "2022-01-19T14:20:40.600Z"
   },
   {
    "duration": 6,
    "start_time": "2022-01-19T14:21:16.225Z"
   },
   {
    "duration": 4,
    "start_time": "2022-01-19T14:21:25.817Z"
   },
   {
    "duration": 83,
    "start_time": "2022-01-19T14:21:50.354Z"
   },
   {
    "duration": 6,
    "start_time": "2022-01-19T14:21:55.993Z"
   },
   {
    "duration": 21388,
    "start_time": "2022-01-19T14:22:02.785Z"
   },
   {
    "duration": 8,
    "start_time": "2022-01-19T14:26:24.111Z"
   },
   {
    "duration": 77,
    "start_time": "2022-01-19T14:27:44.286Z"
   },
   {
    "duration": 259,
    "start_time": "2022-01-19T14:27:47.137Z"
   },
   {
    "duration": 5,
    "start_time": "2022-01-19T14:28:45.970Z"
   },
   {
    "duration": 16,
    "start_time": "2022-01-19T14:29:37.249Z"
   },
   {
    "duration": 19,
    "start_time": "2022-01-19T14:29:56.850Z"
   },
   {
    "duration": 29,
    "start_time": "2022-01-19T14:30:06.418Z"
   },
   {
    "duration": 30,
    "start_time": "2022-01-19T14:30:47.459Z"
   },
   {
    "duration": 586,
    "start_time": "2022-01-19T14:31:04.539Z"
   },
   {
    "duration": 26,
    "start_time": "2022-01-19T14:31:16.674Z"
   },
   {
    "duration": 13,
    "start_time": "2022-01-19T14:31:21.939Z"
   },
   {
    "duration": 17,
    "start_time": "2022-01-19T14:31:23.786Z"
   },
   {
    "duration": 1196,
    "start_time": "2022-01-19T14:31:49.838Z"
   },
   {
    "duration": 31,
    "start_time": "2022-01-19T14:31:51.037Z"
   },
   {
    "duration": 16,
    "start_time": "2022-01-19T14:31:51.070Z"
   },
   {
    "duration": 5,
    "start_time": "2022-01-19T14:31:51.088Z"
   },
   {
    "duration": 5,
    "start_time": "2022-01-19T14:31:51.098Z"
   },
   {
    "duration": 10,
    "start_time": "2022-01-19T14:31:51.104Z"
   },
   {
    "duration": 4,
    "start_time": "2022-01-19T14:31:51.117Z"
   },
   {
    "duration": 40,
    "start_time": "2022-01-19T14:31:51.123Z"
   },
   {
    "duration": 189,
    "start_time": "2022-01-19T14:31:51.165Z"
   },
   {
    "duration": 13,
    "start_time": "2022-01-19T14:31:51.356Z"
   },
   {
    "duration": 30,
    "start_time": "2022-01-19T14:31:51.370Z"
   },
   {
    "duration": 8,
    "start_time": "2022-01-19T14:31:51.402Z"
   },
   {
    "duration": 26,
    "start_time": "2022-01-19T14:31:51.411Z"
   },
   {
    "duration": 8,
    "start_time": "2022-01-19T14:31:51.438Z"
   },
   {
    "duration": 18,
    "start_time": "2022-01-19T14:31:51.447Z"
   },
   {
    "duration": 11033,
    "start_time": "2022-01-19T14:32:07.540Z"
   },
   {
    "duration": 9533,
    "start_time": "2022-01-19T14:32:22.644Z"
   },
   {
    "duration": 28,
    "start_time": "2022-01-19T14:32:36.892Z"
   },
   {
    "duration": 8,
    "start_time": "2022-01-19T14:33:03.916Z"
   },
   {
    "duration": 5,
    "start_time": "2022-01-19T15:20:02.259Z"
   },
   {
    "duration": 6,
    "start_time": "2022-01-19T15:20:06.095Z"
   },
   {
    "duration": 1539,
    "start_time": "2022-01-19T15:20:52.439Z"
   },
   {
    "duration": 7,
    "start_time": "2022-01-19T15:21:21.828Z"
   },
   {
    "duration": 1568,
    "start_time": "2022-01-19T15:21:22.780Z"
   },
   {
    "duration": 31,
    "start_time": "2022-01-19T15:22:43.799Z"
   },
   {
    "duration": 6,
    "start_time": "2022-01-19T15:22:44.287Z"
   },
   {
    "duration": 1192,
    "start_time": "2022-01-19T15:23:13.325Z"
   },
   {
    "duration": 29,
    "start_time": "2022-01-19T15:23:14.519Z"
   },
   {
    "duration": 15,
    "start_time": "2022-01-19T15:23:14.550Z"
   },
   {
    "duration": 7,
    "start_time": "2022-01-19T15:23:14.567Z"
   },
   {
    "duration": 7,
    "start_time": "2022-01-19T15:23:14.575Z"
   },
   {
    "duration": 19,
    "start_time": "2022-01-19T15:23:14.584Z"
   },
   {
    "duration": 5,
    "start_time": "2022-01-19T15:23:14.606Z"
   },
   {
    "duration": 49,
    "start_time": "2022-01-19T15:23:14.613Z"
   },
   {
    "duration": 195,
    "start_time": "2022-01-19T15:23:14.664Z"
   },
   {
    "duration": 14,
    "start_time": "2022-01-19T15:23:14.861Z"
   },
   {
    "duration": 35,
    "start_time": "2022-01-19T15:23:14.876Z"
   },
   {
    "duration": 6,
    "start_time": "2022-01-19T15:23:14.912Z"
   },
   {
    "duration": 9,
    "start_time": "2022-01-19T15:23:14.919Z"
   },
   {
    "duration": 6,
    "start_time": "2022-01-19T15:23:14.930Z"
   },
   {
    "duration": 6,
    "start_time": "2022-01-19T15:23:14.938Z"
   },
   {
    "duration": 54,
    "start_time": "2022-01-19T15:23:14.945Z"
   },
   {
    "duration": 93,
    "start_time": "2022-01-19T15:23:15.012Z"
   },
   {
    "duration": 1624,
    "start_time": "2022-01-19T15:23:15.107Z"
   },
   {
    "duration": 29,
    "start_time": "2022-01-19T15:24:25.135Z"
   },
   {
    "duration": 7,
    "start_time": "2022-01-19T15:24:25.894Z"
   },
   {
    "duration": 3,
    "start_time": "2022-01-19T15:31:10.099Z"
   },
   {
    "duration": 9,
    "start_time": "2022-01-19T15:31:59.831Z"
   },
   {
    "duration": 4,
    "start_time": "2022-01-19T15:32:30.463Z"
   },
   {
    "duration": 5,
    "start_time": "2022-01-19T15:32:44.199Z"
   },
   {
    "duration": 29,
    "start_time": "2022-01-19T15:32:47.008Z"
   },
   {
    "duration": 7,
    "start_time": "2022-01-19T15:32:47.409Z"
   },
   {
    "duration": 1219,
    "start_time": "2022-01-19T15:32:52.688Z"
   },
   {
    "duration": 29,
    "start_time": "2022-01-19T15:32:53.909Z"
   },
   {
    "duration": 15,
    "start_time": "2022-01-19T15:32:53.941Z"
   },
   {
    "duration": 7,
    "start_time": "2022-01-19T15:32:53.958Z"
   },
   {
    "duration": 17,
    "start_time": "2022-01-19T15:32:53.967Z"
   },
   {
    "duration": 22,
    "start_time": "2022-01-19T15:32:53.985Z"
   },
   {
    "duration": 12,
    "start_time": "2022-01-19T15:32:54.008Z"
   },
   {
    "duration": 46,
    "start_time": "2022-01-19T15:32:54.022Z"
   },
   {
    "duration": 156,
    "start_time": "2022-01-19T15:32:54.070Z"
   },
   {
    "duration": 14,
    "start_time": "2022-01-19T15:32:54.228Z"
   },
   {
    "duration": 18,
    "start_time": "2022-01-19T15:32:54.244Z"
   },
   {
    "duration": 6,
    "start_time": "2022-01-19T15:32:54.264Z"
   },
   {
    "duration": 30,
    "start_time": "2022-01-19T15:32:54.272Z"
   },
   {
    "duration": 9,
    "start_time": "2022-01-19T15:32:54.304Z"
   },
   {
    "duration": 11,
    "start_time": "2022-01-19T15:32:54.314Z"
   },
   {
    "duration": 1465,
    "start_time": "2022-01-19T15:32:54.327Z"
   },
   {
    "duration": 4,
    "start_time": "2022-01-19T15:32:55.794Z"
   },
   {
    "duration": 10,
    "start_time": "2022-01-19T15:32:55.800Z"
   },
   {
    "duration": 4,
    "start_time": "2022-01-19T15:32:55.811Z"
   },
   {
    "duration": 83,
    "start_time": "2022-01-19T15:32:55.817Z"
   },
   {
    "duration": 97,
    "start_time": "2022-01-19T15:32:55.903Z"
   },
   {
    "duration": 1530,
    "start_time": "2022-01-19T15:34:43.607Z"
   },
   {
    "duration": 4,
    "start_time": "2022-01-19T15:35:38.230Z"
   },
   {
    "duration": 1437,
    "start_time": "2022-01-19T15:35:58.193Z"
   },
   {
    "duration": 1163,
    "start_time": "2022-01-19T15:36:10.659Z"
   },
   {
    "duration": 30,
    "start_time": "2022-01-19T15:36:11.824Z"
   },
   {
    "duration": 15,
    "start_time": "2022-01-19T15:36:11.856Z"
   },
   {
    "duration": 12,
    "start_time": "2022-01-19T15:36:11.873Z"
   },
   {
    "duration": 11,
    "start_time": "2022-01-19T15:36:11.887Z"
   },
   {
    "duration": 10,
    "start_time": "2022-01-19T15:36:11.900Z"
   },
   {
    "duration": 5,
    "start_time": "2022-01-19T15:36:11.911Z"
   },
   {
    "duration": 40,
    "start_time": "2022-01-19T15:36:11.918Z"
   },
   {
    "duration": 177,
    "start_time": "2022-01-19T15:36:11.960Z"
   },
   {
    "duration": 13,
    "start_time": "2022-01-19T15:36:12.138Z"
   },
   {
    "duration": 19,
    "start_time": "2022-01-19T15:36:12.152Z"
   },
   {
    "duration": 28,
    "start_time": "2022-01-19T15:36:12.172Z"
   },
   {
    "duration": 4,
    "start_time": "2022-01-19T15:36:12.202Z"
   },
   {
    "duration": 10,
    "start_time": "2022-01-19T15:36:12.208Z"
   },
   {
    "duration": 8,
    "start_time": "2022-01-19T15:36:12.220Z"
   },
   {
    "duration": 1468,
    "start_time": "2022-01-19T15:36:12.230Z"
   },
   {
    "duration": 7,
    "start_time": "2022-01-19T15:36:13.700Z"
   },
   {
    "duration": 6,
    "start_time": "2022-01-19T15:36:13.708Z"
   },
   {
    "duration": 86,
    "start_time": "2022-01-19T15:36:13.715Z"
   },
   {
    "duration": 96,
    "start_time": "2022-01-19T15:36:13.805Z"
   },
   {
    "duration": 1216,
    "start_time": "2022-01-19T15:36:28.082Z"
   },
   {
    "duration": 30,
    "start_time": "2022-01-19T15:36:29.300Z"
   },
   {
    "duration": 15,
    "start_time": "2022-01-19T15:36:29.332Z"
   },
   {
    "duration": 9,
    "start_time": "2022-01-19T15:36:29.349Z"
   },
   {
    "duration": 7,
    "start_time": "2022-01-19T15:36:29.359Z"
   },
   {
    "duration": 12,
    "start_time": "2022-01-19T15:36:29.367Z"
   },
   {
    "duration": 4,
    "start_time": "2022-01-19T15:36:29.381Z"
   },
   {
    "duration": 40,
    "start_time": "2022-01-19T15:36:29.858Z"
   },
   {
    "duration": 161,
    "start_time": "2022-01-19T15:36:32.434Z"
   },
   {
    "duration": 14,
    "start_time": "2022-01-19T15:36:35.018Z"
   },
   {
    "duration": 19,
    "start_time": "2022-01-19T15:36:35.386Z"
   },
   {
    "duration": 6,
    "start_time": "2022-01-19T15:36:36.107Z"
   },
   {
    "duration": 5,
    "start_time": "2022-01-19T15:36:36.722Z"
   },
   {
    "duration": 7,
    "start_time": "2022-01-19T15:36:37.419Z"
   },
   {
    "duration": 1471,
    "start_time": "2022-01-19T15:36:38.259Z"
   },
   {
    "duration": 8,
    "start_time": "2022-01-19T15:36:50.820Z"
   },
   {
    "duration": 5,
    "start_time": "2022-01-19T15:36:51.069Z"
   },
   {
    "duration": 19,
    "start_time": "2022-01-19T15:36:51.381Z"
   },
   {
    "duration": 6,
    "start_time": "2022-01-19T15:36:51.693Z"
   },
   {
    "duration": 1464,
    "start_time": "2022-01-19T15:36:59.742Z"
   },
   {
    "duration": 1172,
    "start_time": "2022-01-19T15:37:14.856Z"
   },
   {
    "duration": 30,
    "start_time": "2022-01-19T15:37:17.456Z"
   },
   {
    "duration": 16,
    "start_time": "2022-01-19T15:37:17.945Z"
   },
   {
    "duration": 5,
    "start_time": "2022-01-19T15:37:18.425Z"
   },
   {
    "duration": 5,
    "start_time": "2022-01-19T15:37:18.920Z"
   },
   {
    "duration": 8,
    "start_time": "2022-01-19T15:37:19.312Z"
   },
   {
    "duration": 4,
    "start_time": "2022-01-19T15:37:19.977Z"
   },
   {
    "duration": 35,
    "start_time": "2022-01-19T15:37:20.841Z"
   },
   {
    "duration": 176,
    "start_time": "2022-01-19T15:37:22.113Z"
   },
   {
    "duration": 19,
    "start_time": "2022-01-19T15:37:22.704Z"
   },
   {
    "duration": 20,
    "start_time": "2022-01-19T15:37:23.425Z"
   },
   {
    "duration": 7,
    "start_time": "2022-01-19T15:37:24.017Z"
   },
   {
    "duration": 6,
    "start_time": "2022-01-19T15:37:31.778Z"
   },
   {
    "duration": 7,
    "start_time": "2022-01-19T15:37:31.954Z"
   },
   {
    "duration": 33,
    "start_time": "2022-01-19T15:37:40.123Z"
   },
   {
    "duration": 6,
    "start_time": "2022-01-19T15:37:40.435Z"
   },
   {
    "duration": 1463,
    "start_time": "2022-01-19T15:38:16.976Z"
   },
   {
    "duration": 1444,
    "start_time": "2022-01-19T15:38:25.825Z"
   },
   {
    "duration": 6,
    "start_time": "2022-01-19T15:38:45.268Z"
   },
   {
    "duration": 1468,
    "start_time": "2022-01-19T15:39:06.124Z"
   },
   {
    "duration": 1465,
    "start_time": "2022-01-19T15:39:09.695Z"
   },
   {
    "duration": 7318,
    "start_time": "2022-01-19T15:39:26.297Z"
   },
   {
    "duration": 2264,
    "start_time": "2022-01-19T15:39:38.306Z"
   },
   {
    "duration": 1690,
    "start_time": "2022-01-19T15:39:45.417Z"
   },
   {
    "duration": 153,
    "start_time": "2022-01-19T15:39:50.674Z"
   },
   {
    "duration": 245,
    "start_time": "2022-01-19T15:39:55.042Z"
   },
   {
    "duration": 321,
    "start_time": "2022-01-19T15:39:58.954Z"
   },
   {
    "duration": 403,
    "start_time": "2022-01-19T15:40:03.706Z"
   },
   {
    "duration": 500,
    "start_time": "2022-01-19T15:40:07.050Z"
   },
   {
    "duration": 4432,
    "start_time": "2022-01-19T15:40:10.457Z"
   },
   {
    "duration": 6,
    "start_time": "2022-01-19T15:41:30.322Z"
   },
   {
    "duration": 8,
    "start_time": "2022-01-19T15:41:32.435Z"
   },
   {
    "duration": 6,
    "start_time": "2022-01-19T15:41:33.856Z"
   },
   {
    "duration": 18,
    "start_time": "2022-01-19T15:41:34.747Z"
   },
   {
    "duration": 8,
    "start_time": "2022-01-19T15:41:35.226Z"
   },
   {
    "duration": 4677,
    "start_time": "2022-01-19T15:41:37.611Z"
   },
   {
    "duration": 4,
    "start_time": "2022-01-19T15:47:31.145Z"
   },
   {
    "duration": 549,
    "start_time": "2022-01-19T15:47:40.601Z"
   },
   {
    "duration": 4,
    "start_time": "2022-01-19T15:47:51.161Z"
   },
   {
    "duration": 5804,
    "start_time": "2022-01-19T15:47:51.729Z"
   },
   {
    "duration": 4,
    "start_time": "2022-01-19T15:48:06.521Z"
   },
   {
    "duration": 5488,
    "start_time": "2022-01-19T15:48:07.066Z"
   },
   {
    "duration": 4,
    "start_time": "2022-01-19T15:48:27.817Z"
   },
   {
    "duration": 5932,
    "start_time": "2022-01-19T15:48:28.266Z"
   },
   {
    "duration": 5,
    "start_time": "2022-01-19T15:48:52.942Z"
   },
   {
    "duration": 465,
    "start_time": "2022-01-19T15:48:53.094Z"
   },
   {
    "duration": -386,
    "start_time": "2022-01-19T15:48:53.947Z"
   },
   {
    "duration": -400,
    "start_time": "2022-01-19T15:48:53.962Z"
   },
   {
    "duration": 214,
    "start_time": "2022-01-19T15:48:53.678Z"
   },
   {
    "duration": 1221,
    "start_time": "2022-01-19T15:48:57.991Z"
   },
   {
    "duration": 29,
    "start_time": "2022-01-19T15:48:59.214Z"
   },
   {
    "duration": 15,
    "start_time": "2022-01-19T15:48:59.245Z"
   },
   {
    "duration": 6,
    "start_time": "2022-01-19T15:48:59.262Z"
   },
   {
    "duration": 9,
    "start_time": "2022-01-19T15:48:59.270Z"
   },
   {
    "duration": 8,
    "start_time": "2022-01-19T15:48:59.314Z"
   },
   {
    "duration": 5,
    "start_time": "2022-01-19T15:48:59.542Z"
   },
   {
    "duration": 37,
    "start_time": "2022-01-19T15:49:00.119Z"
   },
   {
    "duration": 166,
    "start_time": "2022-01-19T15:49:01.311Z"
   },
   {
    "duration": 14,
    "start_time": "2022-01-19T15:49:01.655Z"
   },
   {
    "duration": 20,
    "start_time": "2022-01-19T15:49:02.199Z"
   },
   {
    "duration": 7,
    "start_time": "2022-01-19T15:49:02.495Z"
   },
   {
    "duration": 5,
    "start_time": "2022-01-19T15:49:03.456Z"
   },
   {
    "duration": 7,
    "start_time": "2022-01-19T15:49:03.616Z"
   },
   {
    "duration": 4,
    "start_time": "2022-01-19T15:49:23.164Z"
   },
   {
    "duration": 503,
    "start_time": "2022-01-19T15:49:24.269Z"
   },
   {
    "duration": 4,
    "start_time": "2022-01-19T15:49:33.915Z"
   },
   {
    "duration": 4273,
    "start_time": "2022-01-19T15:49:34.892Z"
   },
   {
    "duration": 3,
    "start_time": "2022-01-19T15:49:45.894Z"
   },
   {
    "duration": 4101,
    "start_time": "2022-01-19T15:49:46.741Z"
   },
   {
    "duration": 4134,
    "start_time": "2022-01-19T15:50:16.634Z"
   },
   {
    "duration": 4170,
    "start_time": "2022-01-19T15:50:24.556Z"
   },
   {
    "duration": 4,
    "start_time": "2022-01-19T15:50:45.573Z"
   },
   {
    "duration": 7,
    "start_time": "2022-01-19T15:51:28.427Z"
   },
   {
    "duration": 7,
    "start_time": "2022-01-19T15:51:33.883Z"
   },
   {
    "duration": 21,
    "start_time": "2022-01-19T15:51:34.444Z"
   },
   {
    "duration": 6,
    "start_time": "2022-01-19T15:51:34.860Z"
   },
   {
    "duration": 4,
    "start_time": "2022-01-19T16:04:25.066Z"
   },
   {
    "duration": 4,
    "start_time": "2022-01-19T18:25:24.839Z"
   },
   {
    "duration": 28,
    "start_time": "2022-01-19T18:25:24.864Z"
   },
   {
    "duration": 12,
    "start_time": "2022-01-19T18:25:24.894Z"
   },
   {
    "duration": 1186,
    "start_time": "2022-01-19T18:25:33.215Z"
   },
   {
    "duration": 29,
    "start_time": "2022-01-19T18:25:34.402Z"
   },
   {
    "duration": 15,
    "start_time": "2022-01-19T18:25:34.433Z"
   },
   {
    "duration": 6,
    "start_time": "2022-01-19T18:25:34.450Z"
   },
   {
    "duration": 6,
    "start_time": "2022-01-19T18:25:34.458Z"
   },
   {
    "duration": 8,
    "start_time": "2022-01-19T18:25:34.466Z"
   },
   {
    "duration": 4,
    "start_time": "2022-01-19T18:25:34.476Z"
   },
   {
    "duration": 47,
    "start_time": "2022-01-19T18:25:34.482Z"
   },
   {
    "duration": 172,
    "start_time": "2022-01-19T18:25:34.531Z"
   },
   {
    "duration": 12,
    "start_time": "2022-01-19T18:25:34.705Z"
   },
   {
    "duration": 18,
    "start_time": "2022-01-19T18:25:34.719Z"
   },
   {
    "duration": 6,
    "start_time": "2022-01-19T18:25:34.739Z"
   },
   {
    "duration": 4,
    "start_time": "2022-01-19T18:25:34.747Z"
   },
   {
    "duration": 6,
    "start_time": "2022-01-19T18:25:34.753Z"
   },
   {
    "duration": 37,
    "start_time": "2022-01-19T18:25:34.761Z"
   },
   {
    "duration": 8,
    "start_time": "2022-01-19T18:25:34.800Z"
   },
   {
    "duration": 5,
    "start_time": "2022-01-19T18:25:34.809Z"
   },
   {
    "duration": 18,
    "start_time": "2022-01-19T18:25:34.815Z"
   },
   {
    "duration": 98,
    "start_time": "2022-01-19T18:25:34.900Z"
   },
   {
    "duration": 4112,
    "start_time": "2022-01-19T18:25:52.326Z"
   },
   {
    "duration": 4,
    "start_time": "2022-01-19T18:26:27.126Z"
   },
   {
    "duration": 317,
    "start_time": "2022-01-19T18:29:40.714Z"
   },
   {
    "duration": 1153,
    "start_time": "2022-01-19T18:30:25.463Z"
   },
   {
    "duration": 29,
    "start_time": "2022-01-19T18:30:26.618Z"
   },
   {
    "duration": 16,
    "start_time": "2022-01-19T18:30:26.649Z"
   },
   {
    "duration": 4,
    "start_time": "2022-01-19T18:30:26.667Z"
   },
   {
    "duration": 26,
    "start_time": "2022-01-19T18:30:26.673Z"
   },
   {
    "duration": 24,
    "start_time": "2022-01-19T18:30:26.701Z"
   },
   {
    "duration": 15,
    "start_time": "2022-01-19T18:30:26.728Z"
   },
   {
    "duration": 48,
    "start_time": "2022-01-19T18:30:26.833Z"
   },
   {
    "duration": 161,
    "start_time": "2022-01-19T18:30:28.957Z"
   },
   {
    "duration": 14,
    "start_time": "2022-01-19T18:30:35.738Z"
   },
   {
    "duration": 7,
    "start_time": "2022-01-19T18:30:41.012Z"
   },
   {
    "duration": 6,
    "start_time": "2022-01-19T18:30:41.993Z"
   },
   {
    "duration": 8,
    "start_time": "2022-01-19T18:31:50.886Z"
   },
   {
    "duration": 4,
    "start_time": "2022-01-19T18:32:18.317Z"
   },
   {
    "duration": 4380,
    "start_time": "2022-01-19T18:32:19.379Z"
   },
   {
    "duration": 4,
    "start_time": "2022-01-19T18:32:43.264Z"
   },
   {
    "duration": 4206,
    "start_time": "2022-01-19T18:32:43.831Z"
   },
   {
    "duration": 409,
    "start_time": "2022-01-19T18:33:10.955Z"
   },
   {
    "duration": 6,
    "start_time": "2022-01-19T18:33:25.321Z"
   },
   {
    "duration": 26,
    "start_time": "2022-01-19T18:33:42.797Z"
   },
   {
    "duration": 311,
    "start_time": "2022-01-19T18:33:55.928Z"
   },
   {
    "duration": 27,
    "start_time": "2022-01-19T18:34:10.628Z"
   },
   {
    "duration": 166,
    "start_time": "2022-01-19T18:34:11.678Z"
   },
   {
    "duration": 174,
    "start_time": "2022-01-19T18:34:32.883Z"
   },
   {
    "duration": 6,
    "start_time": "2022-01-19T18:35:03.847Z"
   },
   {
    "duration": 4,
    "start_time": "2022-01-19T18:35:09.650Z"
   },
   {
    "duration": 180,
    "start_time": "2022-01-19T18:36:18.079Z"
   },
   {
    "duration": 244,
    "start_time": "2022-01-19T18:36:24.104Z"
   },
   {
    "duration": 4269,
    "start_time": "2022-01-19T18:37:00.538Z"
   },
   {
    "duration": 7,
    "start_time": "2022-01-19T18:37:10.483Z"
   },
   {
    "duration": 5,
    "start_time": "2022-01-19T18:37:11.486Z"
   },
   {
    "duration": 22,
    "start_time": "2022-01-19T18:37:12.152Z"
   },
   {
    "duration": 8,
    "start_time": "2022-01-19T18:37:12.779Z"
   },
   {
    "duration": 262,
    "start_time": "2022-01-19T18:45:51.179Z"
   },
   {
    "duration": 11,
    "start_time": "2022-01-19T18:46:42.061Z"
   },
   {
    "duration": 18,
    "start_time": "2022-01-19T18:47:10.930Z"
   },
   {
    "duration": 7,
    "start_time": "2022-01-19T18:49:02.289Z"
   },
   {
    "duration": 4,
    "start_time": "2022-01-19T18:49:39.793Z"
   },
   {
    "duration": 43,
    "start_time": "2022-01-19T18:49:54.553Z"
   },
   {
    "duration": 1176,
    "start_time": "2022-01-19T18:50:11.216Z"
   },
   {
    "duration": 28,
    "start_time": "2022-01-19T18:50:12.394Z"
   },
   {
    "duration": 16,
    "start_time": "2022-01-19T18:50:12.424Z"
   },
   {
    "duration": 4,
    "start_time": "2022-01-19T18:50:16.514Z"
   },
   {
    "duration": 11,
    "start_time": "2022-01-19T18:50:17.724Z"
   },
   {
    "duration": 13,
    "start_time": "2022-01-19T18:50:20.533Z"
   },
   {
    "duration": 8,
    "start_time": "2022-01-19T18:50:21.920Z"
   },
   {
    "duration": 5,
    "start_time": "2022-01-19T18:50:27.794Z"
   },
   {
    "duration": 5,
    "start_time": "2022-01-19T18:50:30.047Z"
   },
   {
    "duration": 39,
    "start_time": "2022-01-19T18:50:31.311Z"
   },
   {
    "duration": 14,
    "start_time": "2022-01-19T18:54:41.659Z"
   },
   {
    "duration": 42,
    "start_time": "2022-01-19T18:54:45.332Z"
   },
   {
    "duration": 8,
    "start_time": "2022-01-19T18:56:12.524Z"
   },
   {
    "duration": 7,
    "start_time": "2022-01-19T18:56:20.693Z"
   },
   {
    "duration": 5,
    "start_time": "2022-01-19T18:56:30.435Z"
   },
   {
    "duration": 6,
    "start_time": "2022-01-19T18:56:39.421Z"
   },
   {
    "duration": 76,
    "start_time": "2022-01-19T18:59:18.993Z"
   },
   {
    "duration": 7,
    "start_time": "2022-01-19T19:00:02.120Z"
   },
   {
    "duration": 172,
    "start_time": "2022-01-19T19:04:10.069Z"
   },
   {
    "duration": 4162,
    "start_time": "2022-01-19T19:15:23.201Z"
   },
   {
    "duration": 4181,
    "start_time": "2022-01-19T19:19:15.858Z"
   },
   {
    "duration": 29,
    "start_time": "2022-01-19T19:24:15.590Z"
   },
   {
    "duration": 170,
    "start_time": "2022-01-19T19:24:26.141Z"
   },
   {
    "duration": 4,
    "start_time": "2022-01-19T19:24:39.303Z"
   },
   {
    "duration": 323,
    "start_time": "2022-01-19T19:24:39.839Z"
   },
   {
    "duration": 4,
    "start_time": "2022-01-19T19:24:43.862Z"
   },
   {
    "duration": 7,
    "start_time": "2022-01-19T19:31:30.780Z"
   },
   {
    "duration": 6,
    "start_time": "2022-01-19T19:31:58.530Z"
   },
   {
    "duration": 13,
    "start_time": "2022-01-19T19:32:41.257Z"
   },
   {
    "duration": 225,
    "start_time": "2022-01-19T19:32:57.701Z"
   },
   {
    "duration": 6,
    "start_time": "2022-01-19T19:33:04.312Z"
   },
   {
    "duration": 6,
    "start_time": "2022-01-19T19:34:40.069Z"
   },
   {
    "duration": 268,
    "start_time": "2022-01-19T21:37:45.184Z"
   },
   {
    "duration": 1216,
    "start_time": "2022-01-19T21:37:52.831Z"
   },
   {
    "duration": 40,
    "start_time": "2022-01-19T21:37:54.049Z"
   },
   {
    "duration": 17,
    "start_time": "2022-01-19T21:37:54.091Z"
   },
   {
    "duration": 4,
    "start_time": "2022-01-19T21:37:54.111Z"
   },
   {
    "duration": 13,
    "start_time": "2022-01-19T21:37:54.117Z"
   },
   {
    "duration": 29,
    "start_time": "2022-01-19T21:37:54.132Z"
   },
   {
    "duration": 8,
    "start_time": "2022-01-19T21:37:54.162Z"
   },
   {
    "duration": 6,
    "start_time": "2022-01-19T21:37:54.172Z"
   },
   {
    "duration": 5,
    "start_time": "2022-01-19T21:37:54.180Z"
   },
   {
    "duration": 16,
    "start_time": "2022-01-19T21:37:54.187Z"
   },
   {
    "duration": 59,
    "start_time": "2022-01-19T21:37:54.205Z"
   },
   {
    "duration": 8,
    "start_time": "2022-01-19T21:37:54.265Z"
   },
   {
    "duration": 3,
    "start_time": "2022-01-19T21:37:54.274Z"
   },
   {
    "duration": 5,
    "start_time": "2022-01-19T21:37:54.279Z"
   },
   {
    "duration": 5,
    "start_time": "2022-01-19T21:37:54.285Z"
   },
   {
    "duration": 8,
    "start_time": "2022-01-19T21:37:54.291Z"
   },
   {
    "duration": 176,
    "start_time": "2022-01-19T21:37:54.300Z"
   },
   {
    "duration": 4175,
    "start_time": "2022-01-19T21:37:54.478Z"
   },
   {
    "duration": 32,
    "start_time": "2022-01-19T21:37:58.654Z"
   },
   {
    "duration": 187,
    "start_time": "2022-01-19T21:37:58.688Z"
   },
   {
    "duration": 5,
    "start_time": "2022-01-19T21:37:58.877Z"
   },
   {
    "duration": 4,
    "start_time": "2022-01-19T21:37:58.884Z"
   },
   {
    "duration": 8,
    "start_time": "2022-01-19T21:37:58.891Z"
   },
   {
    "duration": 5,
    "start_time": "2022-01-19T21:37:58.901Z"
   },
   {
    "duration": 53,
    "start_time": "2022-01-19T21:37:58.908Z"
   },
   {
    "duration": 7,
    "start_time": "2022-01-19T21:37:58.963Z"
   },
   {
    "duration": 100,
    "start_time": "2022-01-19T21:37:58.971Z"
   },
   {
    "duration": 329,
    "start_time": "2022-01-19T21:37:59.073Z"
   },
   {
    "duration": 6,
    "start_time": "2022-01-19T21:38:51.764Z"
   },
   {
    "duration": 3,
    "start_time": "2022-01-19T21:38:59.122Z"
   },
   {
    "duration": 1163,
    "start_time": "2022-01-20T18:26:13.525Z"
   },
   {
    "duration": 29,
    "start_time": "2022-01-20T18:26:14.691Z"
   },
   {
    "duration": 17,
    "start_time": "2022-01-20T18:26:14.723Z"
   },
   {
    "duration": 3,
    "start_time": "2022-01-20T18:26:14.742Z"
   },
   {
    "duration": 17,
    "start_time": "2022-01-20T18:26:14.747Z"
   },
   {
    "duration": 15,
    "start_time": "2022-01-20T18:26:14.766Z"
   },
   {
    "duration": 7,
    "start_time": "2022-01-20T18:26:14.782Z"
   },
   {
    "duration": 8,
    "start_time": "2022-01-20T18:26:14.791Z"
   },
   {
    "duration": 4,
    "start_time": "2022-01-20T18:26:14.802Z"
   },
   {
    "duration": 15,
    "start_time": "2022-01-20T18:26:14.808Z"
   },
   {
    "duration": 61,
    "start_time": "2022-01-20T18:26:14.825Z"
   },
   {
    "duration": 9,
    "start_time": "2022-01-20T18:26:14.888Z"
   },
   {
    "duration": 42,
    "start_time": "2022-01-20T18:26:14.899Z"
   },
   {
    "duration": 40,
    "start_time": "2022-01-20T18:26:14.943Z"
   },
   {
    "duration": 36,
    "start_time": "2022-01-20T18:26:14.985Z"
   },
   {
    "duration": 37,
    "start_time": "2022-01-20T18:26:15.023Z"
   },
   {
    "duration": 189,
    "start_time": "2022-01-20T18:26:15.062Z"
   },
   {
    "duration": 4270,
    "start_time": "2022-01-20T18:26:15.253Z"
   },
   {
    "duration": 38,
    "start_time": "2022-01-20T18:26:19.525Z"
   },
   {
    "duration": 197,
    "start_time": "2022-01-20T18:26:19.566Z"
   },
   {
    "duration": 5,
    "start_time": "2022-01-20T18:26:19.764Z"
   },
   {
    "duration": 13,
    "start_time": "2022-01-20T18:26:19.770Z"
   },
   {
    "duration": 10,
    "start_time": "2022-01-20T18:26:19.785Z"
   },
   {
    "duration": 5,
    "start_time": "2022-01-20T18:26:19.797Z"
   },
   {
    "duration": 68,
    "start_time": "2022-01-20T18:26:19.803Z"
   },
   {
    "duration": 91,
    "start_time": "2022-01-20T18:26:19.873Z"
   },
   {
    "duration": 14,
    "start_time": "2022-01-20T18:26:19.969Z"
   },
   {
    "duration": 387,
    "start_time": "2022-01-20T18:26:19.985Z"
   },
   {
    "duration": 7,
    "start_time": "2022-01-20T18:26:20.375Z"
   },
   {
    "duration": 10,
    "start_time": "2022-01-20T18:26:20.385Z"
   },
   {
    "duration": 17,
    "start_time": "2022-01-20T18:27:44.993Z"
   },
   {
    "duration": 6,
    "start_time": "2022-01-20T18:27:46.337Z"
   },
   {
    "duration": 18,
    "start_time": "2022-01-20T18:27:58.396Z"
   },
   {
    "duration": 6,
    "start_time": "2022-01-20T18:27:59.069Z"
   },
   {
    "duration": 4,
    "start_time": "2022-01-20T18:36:07.141Z"
   },
   {
    "duration": 17,
    "start_time": "2022-01-20T18:36:25.259Z"
   },
   {
    "duration": 312,
    "start_time": "2022-01-20T18:39:01.981Z"
   },
   {
    "duration": 834,
    "start_time": "2022-01-20T18:39:07.963Z"
   },
   {
    "duration": 6,
    "start_time": "2022-01-20T18:40:23.299Z"
   },
   {
    "duration": 68266,
    "start_time": "2022-01-20T18:41:11.845Z"
   },
   {
    "duration": 92,
    "start_time": "2022-01-20T18:45:19.269Z"
   },
   {
    "duration": 7,
    "start_time": "2022-01-20T18:45:23.599Z"
   },
   {
    "duration": 10,
    "start_time": "2022-01-20T18:46:10.876Z"
   },
   {
    "duration": 6,
    "start_time": "2022-01-20T18:46:38.447Z"
   },
   {
    "duration": 34,
    "start_time": "2022-01-20T18:46:40.765Z"
   },
   {
    "duration": 7,
    "start_time": "2022-01-20T18:46:41.096Z"
   },
   {
    "duration": 723,
    "start_time": "2022-01-20T18:47:31.368Z"
   },
   {
    "duration": 7,
    "start_time": "2022-01-20T18:47:33.227Z"
   },
   {
    "duration": 828,
    "start_time": "2022-01-20T18:47:36.389Z"
   },
   {
    "duration": 7,
    "start_time": "2022-01-20T18:47:37.219Z"
   },
   {
    "duration": 1168,
    "start_time": "2022-01-20T18:47:48.949Z"
   },
   {
    "duration": 29,
    "start_time": "2022-01-20T18:47:50.119Z"
   },
   {
    "duration": 24,
    "start_time": "2022-01-20T18:47:50.151Z"
   },
   {
    "duration": 34,
    "start_time": "2022-01-20T18:47:50.178Z"
   },
   {
    "duration": 38,
    "start_time": "2022-01-20T18:47:50.214Z"
   },
   {
    "duration": 36,
    "start_time": "2022-01-20T18:47:50.254Z"
   },
   {
    "duration": 31,
    "start_time": "2022-01-20T18:47:50.291Z"
   },
   {
    "duration": 22,
    "start_time": "2022-01-20T18:47:50.324Z"
   },
   {
    "duration": 33,
    "start_time": "2022-01-20T18:47:50.348Z"
   },
   {
    "duration": 37,
    "start_time": "2022-01-20T18:47:50.383Z"
   },
   {
    "duration": 50,
    "start_time": "2022-01-20T18:47:50.422Z"
   },
   {
    "duration": 7,
    "start_time": "2022-01-20T18:47:50.473Z"
   },
   {
    "duration": 26,
    "start_time": "2022-01-20T18:47:50.482Z"
   },
   {
    "duration": 27,
    "start_time": "2022-01-20T18:47:50.510Z"
   },
   {
    "duration": 41,
    "start_time": "2022-01-20T18:47:50.539Z"
   },
   {
    "duration": 42,
    "start_time": "2022-01-20T18:47:50.582Z"
   },
   {
    "duration": 194,
    "start_time": "2022-01-20T18:47:50.625Z"
   },
   {
    "duration": 35519,
    "start_time": "2022-01-20T18:47:50.821Z"
   },
   {
    "duration": -130,
    "start_time": "2022-01-20T18:48:26.472Z"
   },
   {
    "duration": -133,
    "start_time": "2022-01-20T18:48:26.476Z"
   },
   {
    "duration": -136,
    "start_time": "2022-01-20T18:48:26.480Z"
   },
   {
    "duration": -138,
    "start_time": "2022-01-20T18:48:26.483Z"
   },
   {
    "duration": -141,
    "start_time": "2022-01-20T18:48:26.487Z"
   },
   {
    "duration": -142,
    "start_time": "2022-01-20T18:48:26.489Z"
   },
   {
    "duration": -144,
    "start_time": "2022-01-20T18:48:26.492Z"
   },
   {
    "duration": -146,
    "start_time": "2022-01-20T18:48:26.495Z"
   },
   {
    "duration": -165,
    "start_time": "2022-01-20T18:48:26.515Z"
   },
   {
    "duration": -169,
    "start_time": "2022-01-20T18:48:26.520Z"
   },
   {
    "duration": -171,
    "start_time": "2022-01-20T18:48:26.523Z"
   },
   {
    "duration": -173,
    "start_time": "2022-01-20T18:48:26.526Z"
   },
   {
    "duration": -176,
    "start_time": "2022-01-20T18:48:26.530Z"
   },
   {
    "duration": -178,
    "start_time": "2022-01-20T18:48:26.533Z"
   },
   {
    "duration": -180,
    "start_time": "2022-01-20T18:48:26.536Z"
   },
   {
    "duration": -181,
    "start_time": "2022-01-20T18:48:26.538Z"
   },
   {
    "duration": 1181,
    "start_time": "2022-01-20T18:48:33.796Z"
   },
   {
    "duration": 30,
    "start_time": "2022-01-20T18:48:34.978Z"
   },
   {
    "duration": 16,
    "start_time": "2022-01-20T18:48:35.010Z"
   },
   {
    "duration": 12,
    "start_time": "2022-01-20T18:48:35.028Z"
   },
   {
    "duration": 20,
    "start_time": "2022-01-20T18:48:35.041Z"
   },
   {
    "duration": 31,
    "start_time": "2022-01-20T18:48:35.063Z"
   },
   {
    "duration": 13,
    "start_time": "2022-01-20T18:48:35.096Z"
   },
   {
    "duration": 14,
    "start_time": "2022-01-20T18:48:35.112Z"
   },
   {
    "duration": 18,
    "start_time": "2022-01-20T18:48:35.128Z"
   },
   {
    "duration": 44,
    "start_time": "2022-01-20T18:48:35.147Z"
   },
   {
    "duration": 59,
    "start_time": "2022-01-20T18:48:35.193Z"
   },
   {
    "duration": 7,
    "start_time": "2022-01-20T18:48:35.254Z"
   },
   {
    "duration": 31,
    "start_time": "2022-01-20T18:48:35.263Z"
   },
   {
    "duration": 27,
    "start_time": "2022-01-20T18:48:35.296Z"
   },
   {
    "duration": 41,
    "start_time": "2022-01-20T18:48:35.325Z"
   },
   {
    "duration": 28,
    "start_time": "2022-01-20T18:48:35.368Z"
   },
   {
    "duration": 170,
    "start_time": "2022-01-20T18:48:35.398Z"
   },
   {
    "duration": 4222,
    "start_time": "2022-01-20T18:48:35.570Z"
   },
   {
    "duration": 26,
    "start_time": "2022-01-20T18:48:39.794Z"
   },
   {
    "duration": 177,
    "start_time": "2022-01-20T18:48:39.821Z"
   },
   {
    "duration": 5,
    "start_time": "2022-01-20T18:48:40.000Z"
   },
   {
    "duration": 5,
    "start_time": "2022-01-20T18:48:40.007Z"
   },
   {
    "duration": 12,
    "start_time": "2022-01-20T18:48:40.015Z"
   },
   {
    "duration": 34,
    "start_time": "2022-01-20T18:48:40.029Z"
   },
   {
    "duration": 22,
    "start_time": "2022-01-20T18:48:40.065Z"
   },
   {
    "duration": 9,
    "start_time": "2022-01-20T18:48:40.160Z"
   },
   {
    "duration": 13,
    "start_time": "2022-01-20T18:48:40.261Z"
   },
   {
    "duration": 343,
    "start_time": "2022-01-20T18:48:40.277Z"
   },
   {
    "duration": 4,
    "start_time": "2022-01-20T18:48:40.622Z"
   },
   {
    "duration": 8,
    "start_time": "2022-01-20T18:48:40.628Z"
   },
   {
    "duration": 7,
    "start_time": "2022-01-20T18:48:40.637Z"
   },
   {
    "duration": 16,
    "start_time": "2022-01-20T18:48:40.661Z"
   },
   {
    "duration": 771,
    "start_time": "2022-01-20T18:48:40.679Z"
   },
   {
    "duration": 10,
    "start_time": "2022-01-20T18:48:41.452Z"
   },
   {
    "duration": 772,
    "start_time": "2022-01-20T18:53:36.429Z"
   },
   {
    "duration": 7,
    "start_time": "2022-01-20T18:53:38.194Z"
   },
   {
    "duration": 30,
    "start_time": "2022-01-20T18:55:41.820Z"
   },
   {
    "duration": 32,
    "start_time": "2022-01-20T18:56:32.783Z"
   },
   {
    "duration": 53,
    "start_time": "2022-01-20T18:56:40.019Z"
   },
   {
    "duration": 51,
    "start_time": "2022-01-20T18:56:51.710Z"
   },
   {
    "duration": 56,
    "start_time": "2022-01-20T18:57:12.968Z"
   },
   {
    "duration": 64,
    "start_time": "2022-01-20T18:58:52.886Z"
   },
   {
    "duration": 67,
    "start_time": "2022-01-20T18:58:56.142Z"
   },
   {
    "duration": 48,
    "start_time": "2022-01-20T18:58:58.563Z"
   },
   {
    "duration": 140,
    "start_time": "2022-01-20T18:59:21.083Z"
   },
   {
    "duration": 72,
    "start_time": "2022-01-20T18:59:29.814Z"
   },
   {
    "duration": 6,
    "start_time": "2022-01-20T19:06:58.292Z"
   },
   {
    "duration": 8,
    "start_time": "2022-01-20T19:07:10.862Z"
   },
   {
    "duration": 16,
    "start_time": "2022-01-20T19:09:20.237Z"
   },
   {
    "duration": 84,
    "start_time": "2022-01-20T19:09:24.020Z"
   },
   {
    "duration": 3971,
    "start_time": "2022-01-20T19:09:24.694Z"
   },
   {
    "duration": 5,
    "start_time": "2022-01-20T19:09:28.667Z"
   },
   {
    "duration": 24,
    "start_time": "2022-01-20T19:09:34.542Z"
   },
   {
    "duration": 1212,
    "start_time": "2022-01-20T19:09:35.105Z"
   },
   {
    "duration": 8,
    "start_time": "2022-01-20T19:09:36.870Z"
   },
   {
    "duration": 15,
    "start_time": "2022-01-20T19:09:41.494Z"
   },
   {
    "duration": 753,
    "start_time": "2022-01-20T19:09:41.941Z"
   },
   {
    "duration": 7,
    "start_time": "2022-01-20T19:09:42.696Z"
   },
   {
    "duration": 7,
    "start_time": "2022-01-20T19:09:45.498Z"
   },
   {
    "duration": 1147,
    "start_time": "2022-01-20T19:09:47.619Z"
   },
   {
    "duration": 9,
    "start_time": "2022-01-20T19:09:49.324Z"
   },
   {
    "duration": 12,
    "start_time": "2022-01-20T19:10:17.893Z"
   },
   {
    "duration": 4,
    "start_time": "2022-01-20T19:10:20.754Z"
   },
   {
    "duration": 786,
    "start_time": "2022-01-20T19:10:29.631Z"
   },
   {
    "duration": 7,
    "start_time": "2022-01-20T19:10:38.571Z"
   },
   {
    "duration": 4,
    "start_time": "2022-01-20T19:10:56.823Z"
   },
   {
    "duration": 171,
    "start_time": "2022-01-20T19:11:10.638Z"
   },
   {
    "duration": 6,
    "start_time": "2022-01-20T19:11:11.442Z"
   },
   {
    "duration": 176,
    "start_time": "2022-01-20T19:11:19.961Z"
   },
   {
    "duration": 7,
    "start_time": "2022-01-20T19:11:20.760Z"
   },
   {
    "duration": 157,
    "start_time": "2022-01-20T19:11:22.850Z"
   },
   {
    "duration": 6,
    "start_time": "2022-01-20T19:11:23.543Z"
   },
   {
    "duration": 759,
    "start_time": "2022-01-20T19:11:35.029Z"
   },
   {
    "duration": 6,
    "start_time": "2022-01-20T19:11:35.790Z"
   },
   {
    "duration": 4,
    "start_time": "2022-01-20T19:11:37.876Z"
   },
   {
    "duration": 11,
    "start_time": "2022-01-20T19:11:38.260Z"
   },
   {
    "duration": 162,
    "start_time": "2022-01-20T19:11:38.430Z"
   },
   {
    "duration": 7,
    "start_time": "2022-01-20T19:11:38.761Z"
   },
   {
    "duration": 12,
    "start_time": "2022-01-20T19:11:43.766Z"
   },
   {
    "duration": 199,
    "start_time": "2022-01-20T19:11:44.330Z"
   },
   {
    "duration": 7,
    "start_time": "2022-01-20T19:11:44.742Z"
   },
   {
    "duration": 12,
    "start_time": "2022-01-20T19:11:47.638Z"
   },
   {
    "duration": 216,
    "start_time": "2022-01-20T19:11:48.096Z"
   },
   {
    "duration": 7,
    "start_time": "2022-01-20T19:11:48.409Z"
   },
   {
    "duration": 12,
    "start_time": "2022-01-20T19:11:51.282Z"
   },
   {
    "duration": 254,
    "start_time": "2022-01-20T19:11:51.789Z"
   },
   {
    "duration": 6,
    "start_time": "2022-01-20T19:11:52.243Z"
   },
   {
    "duration": 14,
    "start_time": "2022-01-20T19:11:55.672Z"
   },
   {
    "duration": 381,
    "start_time": "2022-01-20T19:11:56.094Z"
   },
   {
    "duration": 5,
    "start_time": "2022-01-20T19:11:56.477Z"
   },
   {
    "duration": 14,
    "start_time": "2022-01-20T19:12:00.175Z"
   },
   {
    "duration": 266,
    "start_time": "2022-01-20T19:12:00.523Z"
   },
   {
    "duration": 6,
    "start_time": "2022-01-20T19:12:00.812Z"
   },
   {
    "duration": 11,
    "start_time": "2022-01-20T19:12:05.106Z"
   },
   {
    "duration": 281,
    "start_time": "2022-01-20T19:12:05.672Z"
   },
   {
    "duration": 7,
    "start_time": "2022-01-20T19:12:06.393Z"
   },
   {
    "duration": 12,
    "start_time": "2022-01-20T19:12:09.291Z"
   },
   {
    "duration": 321,
    "start_time": "2022-01-20T19:12:09.753Z"
   },
   {
    "duration": 7,
    "start_time": "2022-01-20T19:12:10.322Z"
   },
   {
    "duration": 12,
    "start_time": "2022-01-20T19:12:13.082Z"
   },
   {
    "duration": 265,
    "start_time": "2022-01-20T19:12:14.503Z"
   },
   {
    "duration": 6,
    "start_time": "2022-01-20T19:12:14.884Z"
   },
   {
    "duration": 6,
    "start_time": "2022-01-20T19:15:59.860Z"
   },
   {
    "duration": 529,
    "start_time": "2022-01-20T19:16:42.587Z"
   },
   {
    "duration": 383,
    "start_time": "2022-01-20T19:17:27.594Z"
   },
   {
    "duration": 181,
    "start_time": "2022-01-20T19:17:35.879Z"
   },
   {
    "duration": 7,
    "start_time": "2022-01-20T19:17:51.502Z"
   },
   {
    "duration": 7,
    "start_time": "2022-01-20T19:17:58.309Z"
   },
   {
    "duration": 6,
    "start_time": "2022-01-20T19:17:59.427Z"
   },
   {
    "duration": 21,
    "start_time": "2022-01-20T19:18:00.806Z"
   },
   {
    "duration": 8,
    "start_time": "2022-01-20T19:18:01.777Z"
   },
   {
    "duration": 303,
    "start_time": "2022-01-20T19:18:14.925Z"
   },
   {
    "duration": 5,
    "start_time": "2022-01-20T19:18:25.156Z"
   },
   {
    "duration": 4,
    "start_time": "2022-01-20T19:18:39.799Z"
   },
   {
    "duration": 174,
    "start_time": "2022-01-20T19:18:40.388Z"
   },
   {
    "duration": 277,
    "start_time": "2022-01-20T19:18:58.516Z"
   },
   {
    "duration": 351,
    "start_time": "2022-01-20T19:19:35.455Z"
   },
   {
    "duration": 178,
    "start_time": "2022-01-20T19:19:39.426Z"
   },
   {
    "duration": 468,
    "start_time": "2022-01-20T19:20:25.038Z"
   },
   {
    "duration": 16,
    "start_time": "2022-01-20T19:20:36.074Z"
   },
   {
    "duration": 166,
    "start_time": "2022-01-20T19:20:44.458Z"
   },
   {
    "duration": 1197,
    "start_time": "2022-01-20T19:21:15.580Z"
   },
   {
    "duration": 29,
    "start_time": "2022-01-20T19:21:16.779Z"
   },
   {
    "duration": 16,
    "start_time": "2022-01-20T19:21:16.810Z"
   },
   {
    "duration": 28,
    "start_time": "2022-01-20T19:21:16.828Z"
   },
   {
    "duration": 23,
    "start_time": "2022-01-20T19:21:16.858Z"
   },
   {
    "duration": 37,
    "start_time": "2022-01-20T19:21:16.883Z"
   },
   {
    "duration": 32,
    "start_time": "2022-01-20T19:21:16.922Z"
   },
   {
    "duration": 47,
    "start_time": "2022-01-20T19:21:16.957Z"
   },
   {
    "duration": 28,
    "start_time": "2022-01-20T19:21:17.006Z"
   },
   {
    "duration": 43,
    "start_time": "2022-01-20T19:21:17.036Z"
   },
   {
    "duration": 62,
    "start_time": "2022-01-20T19:21:17.080Z"
   },
   {
    "duration": 12,
    "start_time": "2022-01-20T19:21:17.144Z"
   },
   {
    "duration": 51,
    "start_time": "2022-01-20T19:21:17.157Z"
   },
   {
    "duration": 30,
    "start_time": "2022-01-20T19:21:17.210Z"
   },
   {
    "duration": 45,
    "start_time": "2022-01-20T19:21:17.241Z"
   },
   {
    "duration": 29,
    "start_time": "2022-01-20T19:21:17.288Z"
   },
   {
    "duration": 181,
    "start_time": "2022-01-20T19:21:17.319Z"
   },
   {
    "duration": 4244,
    "start_time": "2022-01-20T19:21:17.502Z"
   },
   {
    "duration": 417,
    "start_time": "2022-01-20T19:21:21.748Z"
   },
   {
    "duration": 4,
    "start_time": "2022-01-20T19:21:22.167Z"
   },
   {
    "duration": 182,
    "start_time": "2022-01-20T19:21:22.173Z"
   },
   {
    "duration": 341,
    "start_time": "2022-01-20T19:21:22.357Z"
   },
   {
    "duration": -94,
    "start_time": "2022-01-20T19:21:22.794Z"
   },
   {
    "duration": -96,
    "start_time": "2022-01-20T19:21:22.797Z"
   },
   {
    "duration": -98,
    "start_time": "2022-01-20T19:21:22.800Z"
   },
   {
    "duration": -100,
    "start_time": "2022-01-20T19:21:22.803Z"
   },
   {
    "duration": -102,
    "start_time": "2022-01-20T19:21:22.806Z"
   },
   {
    "duration": -118,
    "start_time": "2022-01-20T19:21:22.823Z"
   },
   {
    "duration": -124,
    "start_time": "2022-01-20T19:21:22.830Z"
   },
   {
    "duration": -128,
    "start_time": "2022-01-20T19:21:22.835Z"
   },
   {
    "duration": -131,
    "start_time": "2022-01-20T19:21:22.838Z"
   },
   {
    "duration": -133,
    "start_time": "2022-01-20T19:21:22.841Z"
   },
   {
    "duration": -135,
    "start_time": "2022-01-20T19:21:22.844Z"
   },
   {
    "duration": -137,
    "start_time": "2022-01-20T19:21:22.847Z"
   },
   {
    "duration": -139,
    "start_time": "2022-01-20T19:21:22.850Z"
   },
   {
    "duration": -144,
    "start_time": "2022-01-20T19:21:22.856Z"
   },
   {
    "duration": -147,
    "start_time": "2022-01-20T19:21:22.860Z"
   },
   {
    "duration": -149,
    "start_time": "2022-01-20T19:21:22.863Z"
   },
   {
    "duration": 5,
    "start_time": "2022-01-20T19:21:55.288Z"
   },
   {
    "duration": 177,
    "start_time": "2022-01-20T19:21:56.131Z"
   },
   {
    "duration": 8,
    "start_time": "2022-01-20T19:22:03.263Z"
   },
   {
    "duration": 6,
    "start_time": "2022-01-20T19:22:06.740Z"
   },
   {
    "duration": 22,
    "start_time": "2022-01-20T19:22:08.491Z"
   },
   {
    "duration": 6,
    "start_time": "2022-01-20T19:22:09.383Z"
   },
   {
    "duration": 10,
    "start_time": "2022-01-20T19:22:15.934Z"
   },
   {
    "duration": 157,
    "start_time": "2022-01-20T19:22:16.451Z"
   },
   {
    "duration": 6,
    "start_time": "2022-01-20T19:22:57.131Z"
   },
   {
    "duration": 159,
    "start_time": "2022-01-20T19:23:03.160Z"
   },
   {
    "duration": 4,
    "start_time": "2022-01-20T19:23:11.195Z"
   },
   {
    "duration": 6,
    "start_time": "2022-01-20T19:23:16.328Z"
   },
   {
    "duration": 4,
    "start_time": "2022-01-20T19:23:18.272Z"
   },
   {
    "duration": 7,
    "start_time": "2022-01-20T19:24:38.777Z"
   },
   {
    "duration": 6,
    "start_time": "2022-01-20T19:24:39.257Z"
   },
   {
    "duration": 12,
    "start_time": "2022-01-20T19:24:39.636Z"
   },
   {
    "duration": 7,
    "start_time": "2022-01-20T19:24:40.254Z"
   },
   {
    "duration": 207,
    "start_time": "2022-01-20T19:25:06.135Z"
   },
   {
    "duration": 4,
    "start_time": "2022-01-20T19:25:09.853Z"
   },
   {
    "duration": 85,
    "start_time": "2022-01-20T19:25:10.055Z"
   },
   {
    "duration": 785,
    "start_time": "2022-01-20T19:25:10.308Z"
   },
   {
    "duration": 8,
    "start_time": "2022-01-20T19:25:11.095Z"
   },
   {
    "duration": 198,
    "start_time": "2022-01-20T19:25:11.106Z"
   },
   {
    "duration": 4,
    "start_time": "2022-01-20T19:25:50.053Z"
   },
   {
    "duration": 12,
    "start_time": "2022-01-20T19:25:50.421Z"
   },
   {
    "duration": 284,
    "start_time": "2022-01-20T19:25:50.878Z"
   },
   {
    "duration": 9,
    "start_time": "2022-01-20T19:25:51.634Z"
   },
   {
    "duration": 176,
    "start_time": "2022-01-20T19:25:58.942Z"
   },
   {
    "duration": 1613,
    "start_time": "2022-01-20T19:26:48.975Z"
   },
   {
    "duration": 31,
    "start_time": "2022-01-20T19:26:51.483Z"
   },
   {
    "duration": 16,
    "start_time": "2022-01-20T19:26:52.208Z"
   },
   {
    "duration": 5,
    "start_time": "2022-01-20T19:26:53.255Z"
   },
   {
    "duration": 11,
    "start_time": "2022-01-20T19:26:53.730Z"
   },
   {
    "duration": 13,
    "start_time": "2022-01-20T19:26:54.132Z"
   },
   {
    "duration": 9,
    "start_time": "2022-01-20T19:26:54.885Z"
   },
   {
    "duration": 5,
    "start_time": "2022-01-20T19:26:55.246Z"
   },
   {
    "duration": 5,
    "start_time": "2022-01-20T19:26:55.776Z"
   },
   {
    "duration": 19,
    "start_time": "2022-01-20T19:26:56.358Z"
   },
   {
    "duration": 64,
    "start_time": "2022-01-20T19:26:57.110Z"
   },
   {
    "duration": 8,
    "start_time": "2022-01-20T19:26:58.093Z"
   },
   {
    "duration": 4,
    "start_time": "2022-01-20T19:26:58.476Z"
   },
   {
    "duration": 4,
    "start_time": "2022-01-20T19:26:58.650Z"
   },
   {
    "duration": 4,
    "start_time": "2022-01-20T19:26:59.096Z"
   },
   {
    "duration": 8,
    "start_time": "2022-01-20T19:27:01.292Z"
   },
   {
    "duration": 157,
    "start_time": "2022-01-20T19:27:03.918Z"
   },
   {
    "duration": 4180,
    "start_time": "2022-01-20T19:27:14.780Z"
   },
   {
    "duration": 401,
    "start_time": "2022-01-20T19:27:21.205Z"
   },
   {
    "duration": 30,
    "start_time": "2022-01-20T19:28:10.469Z"
   },
   {
    "duration": 330,
    "start_time": "2022-01-20T19:28:29.909Z"
   },
   {
    "duration": 55,
    "start_time": "2022-01-20T19:28:43.206Z"
   },
   {
    "duration": 6,
    "start_time": "2022-01-20T19:28:44.399Z"
   },
   {
    "duration": 218,
    "start_time": "2022-01-20T19:28:45.700Z"
   },
   {
    "duration": 203,
    "start_time": "2022-01-20T19:28:48.819Z"
   },
   {
    "duration": 10,
    "start_time": "2022-01-20T19:28:52.020Z"
   },
   {
    "duration": 7,
    "start_time": "2022-01-20T19:28:53.486Z"
   },
   {
    "duration": 13,
    "start_time": "2022-01-20T19:29:00.265Z"
   },
   {
    "duration": 6,
    "start_time": "2022-01-20T19:29:01.148Z"
   },
   {
    "duration": 228,
    "start_time": "2022-01-20T19:29:03.050Z"
   },
   {
    "duration": 4,
    "start_time": "2022-01-20T19:32:34.685Z"
   },
   {
    "duration": 183,
    "start_time": "2022-01-20T19:32:44.034Z"
   },
   {
    "duration": 7,
    "start_time": "2022-01-20T19:32:49.308Z"
   },
   {
    "duration": 6,
    "start_time": "2022-01-20T19:32:49.480Z"
   },
   {
    "duration": 30,
    "start_time": "2022-01-20T19:32:49.961Z"
   },
   {
    "duration": 6,
    "start_time": "2022-01-20T19:32:50.439Z"
   },
   {
    "duration": 5,
    "start_time": "2022-01-20T19:33:19.008Z"
   },
   {
    "duration": 192,
    "start_time": "2022-01-20T19:33:22.309Z"
   },
   {
    "duration": 353,
    "start_time": "2022-01-20T19:33:40.267Z"
   },
   {
    "duration": 5,
    "start_time": "2022-01-20T19:34:03.912Z"
   },
   {
    "duration": 182,
    "start_time": "2022-01-20T19:34:05.260Z"
   },
   {
    "duration": 7,
    "start_time": "2022-01-20T19:34:11.809Z"
   },
   {
    "duration": 6,
    "start_time": "2022-01-20T19:34:11.962Z"
   },
   {
    "duration": 21,
    "start_time": "2022-01-20T19:34:12.454Z"
   },
   {
    "duration": 6,
    "start_time": "2022-01-20T19:34:13.115Z"
   },
   {
    "duration": 389,
    "start_time": "2022-01-20T19:34:14.993Z"
   },
   {
    "duration": 296,
    "start_time": "2022-01-20T19:34:34.245Z"
   },
   {
    "duration": 4,
    "start_time": "2022-01-20T19:34:37.966Z"
   },
   {
    "duration": 19,
    "start_time": "2022-01-20T19:34:38.342Z"
   },
   {
    "duration": 725,
    "start_time": "2022-01-20T19:34:38.853Z"
   },
   {
    "duration": 6,
    "start_time": "2022-01-20T19:34:39.580Z"
   },
   {
    "duration": 193,
    "start_time": "2022-01-20T19:34:41.715Z"
   },
   {
    "duration": 4,
    "start_time": "2022-01-20T19:35:25.275Z"
   },
   {
    "duration": 15,
    "start_time": "2022-01-20T19:35:25.604Z"
   },
   {
    "duration": 258,
    "start_time": "2022-01-20T19:35:26.178Z"
   },
   {
    "duration": 7,
    "start_time": "2022-01-20T19:35:26.726Z"
   },
   {
    "duration": 183,
    "start_time": "2022-01-20T19:35:32.798Z"
   },
   {
    "duration": 8,
    "start_time": "2022-01-20T19:39:00.730Z"
   },
   {
    "duration": 5,
    "start_time": "2022-01-20T19:39:01.181Z"
   },
   {
    "duration": 24,
    "start_time": "2022-01-20T19:39:01.973Z"
   },
   {
    "duration": 7,
    "start_time": "2022-01-20T19:39:03.077Z"
   },
   {
    "duration": 313,
    "start_time": "2022-01-20T19:39:03.993Z"
   },
   {
    "duration": 436,
    "start_time": "2022-01-20T19:40:02.112Z"
   },
   {
    "duration": 206,
    "start_time": "2022-01-20T19:40:44.290Z"
   },
   {
    "duration": 4,
    "start_time": "2022-01-20T19:40:54.928Z"
   },
   {
    "duration": 15,
    "start_time": "2022-01-20T19:43:26.698Z"
   },
   {
    "duration": 15,
    "start_time": "2022-01-20T19:44:03.800Z"
   },
   {
    "duration": 6,
    "start_time": "2022-01-20T19:44:06.098Z"
   },
   {
    "duration": 15,
    "start_time": "2022-01-20T19:44:06.635Z"
   },
   {
    "duration": 12,
    "start_time": "2022-01-20T19:44:17.560Z"
   },
   {
    "duration": 7,
    "start_time": "2022-01-20T19:44:28.072Z"
   },
   {
    "duration": 175,
    "start_time": "2022-01-20T19:45:59.145Z"
   },
   {
    "duration": 6,
    "start_time": "2022-01-20T19:46:00.069Z"
   },
   {
    "duration": 1294,
    "start_time": "2022-01-20T19:46:39.182Z"
   },
   {
    "duration": 30,
    "start_time": "2022-01-20T19:46:40.478Z"
   },
   {
    "duration": 15,
    "start_time": "2022-01-20T19:46:40.510Z"
   },
   {
    "duration": 12,
    "start_time": "2022-01-20T19:46:40.527Z"
   },
   {
    "duration": 25,
    "start_time": "2022-01-20T19:46:40.540Z"
   },
   {
    "duration": 13,
    "start_time": "2022-01-20T19:46:40.610Z"
   },
   {
    "duration": 9,
    "start_time": "2022-01-20T19:46:40.879Z"
   },
   {
    "duration": 5,
    "start_time": "2022-01-20T19:46:41.127Z"
   },
   {
    "duration": 5,
    "start_time": "2022-01-20T19:46:41.518Z"
   },
   {
    "duration": 15,
    "start_time": "2022-01-20T19:46:41.949Z"
   },
   {
    "duration": 45,
    "start_time": "2022-01-20T19:46:42.238Z"
   },
   {
    "duration": 9,
    "start_time": "2022-01-20T19:46:43.230Z"
   },
   {
    "duration": 4,
    "start_time": "2022-01-20T19:46:43.515Z"
   },
   {
    "duration": 4,
    "start_time": "2022-01-20T19:46:43.659Z"
   },
   {
    "duration": 4,
    "start_time": "2022-01-20T19:46:43.815Z"
   },
   {
    "duration": 7,
    "start_time": "2022-01-20T19:46:44.209Z"
   },
   {
    "duration": 146,
    "start_time": "2022-01-20T19:46:46.359Z"
   },
   {
    "duration": 4229,
    "start_time": "2022-01-20T19:46:48.237Z"
   },
   {
    "duration": 392,
    "start_time": "2022-01-20T19:46:52.468Z"
   },
   {
    "duration": 5,
    "start_time": "2022-01-20T19:46:56.199Z"
   },
   {
    "duration": 180,
    "start_time": "2022-01-20T19:46:58.113Z"
   },
   {
    "duration": 5,
    "start_time": "2022-01-20T19:47:14.116Z"
   },
   {
    "duration": 185,
    "start_time": "2022-01-20T19:47:14.880Z"
   },
   {
    "duration": 7,
    "start_time": "2022-01-20T19:47:21.463Z"
   },
   {
    "duration": 6,
    "start_time": "2022-01-20T19:47:22.149Z"
   },
   {
    "duration": 20,
    "start_time": "2022-01-20T19:47:23.357Z"
   },
   {
    "duration": 7,
    "start_time": "2022-01-20T19:47:27.195Z"
   },
   {
    "duration": 333,
    "start_time": "2022-01-20T19:47:27.972Z"
   },
   {
    "duration": 392,
    "start_time": "2022-01-20T19:47:32.726Z"
   },
   {
    "duration": 6,
    "start_time": "2022-01-20T19:47:33.661Z"
   },
   {
    "duration": 370,
    "start_time": "2022-01-20T19:48:34.821Z"
   },
   {
    "duration": 6,
    "start_time": "2022-01-20T19:48:35.613Z"
   },
   {
    "duration": 4,
    "start_time": "2022-01-20T19:48:51.528Z"
   },
   {
    "duration": 18,
    "start_time": "2022-01-20T19:48:52.147Z"
   },
   {
    "duration": 741,
    "start_time": "2022-01-20T19:48:52.631Z"
   },
   {
    "duration": 6,
    "start_time": "2022-01-20T19:48:53.885Z"
   },
   {
    "duration": 188,
    "start_time": "2022-01-20T19:48:54.835Z"
   },
   {
    "duration": 4,
    "start_time": "2022-01-20T19:49:08.351Z"
   },
   {
    "duration": 12,
    "start_time": "2022-01-20T19:49:09.026Z"
   },
   {
    "duration": 259,
    "start_time": "2022-01-20T19:49:09.758Z"
   },
   {
    "duration": 6,
    "start_time": "2022-01-20T19:49:11.253Z"
   },
   {
    "duration": 250,
    "start_time": "2022-01-20T19:49:12.334Z"
   },
   {
    "duration": 12,
    "start_time": "2022-01-20T19:50:37.518Z"
   },
   {
    "duration": 7,
    "start_time": "2022-01-20T19:50:38.196Z"
   },
   {
    "duration": 76,
    "start_time": "2022-01-20T19:52:21.141Z"
   },
   {
    "duration": 6,
    "start_time": "2022-01-20T19:52:28.647Z"
   },
   {
    "duration": 407,
    "start_time": "2022-01-20T19:53:47.140Z"
   },
   {
    "duration": 7,
    "start_time": "2022-01-20T19:53:48.169Z"
   },
   {
    "duration": 383,
    "start_time": "2022-01-20T19:54:01.428Z"
   },
   {
    "duration": 7,
    "start_time": "2022-01-20T19:54:02.176Z"
   },
   {
    "duration": 19,
    "start_time": "2022-01-20T19:54:03.010Z"
   },
   {
    "duration": 301,
    "start_time": "2022-01-20T19:54:03.463Z"
   },
   {
    "duration": 236,
    "start_time": "2022-01-20T19:54:06.987Z"
   },
   {
    "duration": 7,
    "start_time": "2022-01-20T19:54:09.318Z"
   },
   {
    "duration": 1228,
    "start_time": "2022-01-20T19:54:17.810Z"
   },
   {
    "duration": 37,
    "start_time": "2022-01-20T19:54:19.041Z"
   },
   {
    "duration": 21,
    "start_time": "2022-01-20T19:54:19.081Z"
   },
   {
    "duration": 33,
    "start_time": "2022-01-20T19:54:19.104Z"
   },
   {
    "duration": 34,
    "start_time": "2022-01-20T19:54:19.139Z"
   },
   {
    "duration": 13,
    "start_time": "2022-01-20T19:54:19.287Z"
   },
   {
    "duration": 9,
    "start_time": "2022-01-20T19:54:19.672Z"
   },
   {
    "duration": 5,
    "start_time": "2022-01-20T19:54:19.970Z"
   },
   {
    "duration": 5,
    "start_time": "2022-01-20T19:54:20.220Z"
   },
   {
    "duration": 15,
    "start_time": "2022-01-20T19:54:20.488Z"
   },
   {
    "duration": 44,
    "start_time": "2022-01-20T19:54:20.764Z"
   },
   {
    "duration": 8,
    "start_time": "2022-01-20T19:54:21.016Z"
   },
   {
    "duration": 4,
    "start_time": "2022-01-20T19:54:21.298Z"
   },
   {
    "duration": 4,
    "start_time": "2022-01-20T19:54:21.432Z"
   },
   {
    "duration": 4,
    "start_time": "2022-01-20T19:54:21.574Z"
   },
   {
    "duration": 9,
    "start_time": "2022-01-20T19:54:21.865Z"
   },
   {
    "duration": 148,
    "start_time": "2022-01-20T19:54:22.721Z"
   },
   {
    "duration": 4248,
    "start_time": "2022-01-20T19:54:23.667Z"
   },
   {
    "duration": 393,
    "start_time": "2022-01-20T19:54:27.918Z"
   },
   {
    "duration": 4,
    "start_time": "2022-01-20T19:54:28.313Z"
   },
   {
    "duration": 202,
    "start_time": "2022-01-20T19:54:28.319Z"
   },
   {
    "duration": 8,
    "start_time": "2022-01-20T19:54:34.639Z"
   },
   {
    "duration": 5,
    "start_time": "2022-01-20T19:54:34.799Z"
   },
   {
    "duration": 22,
    "start_time": "2022-01-20T19:54:35.104Z"
   },
   {
    "duration": 7,
    "start_time": "2022-01-20T19:54:35.443Z"
   },
   {
    "duration": 302,
    "start_time": "2022-01-20T19:54:36.010Z"
   },
   {
    "duration": 414,
    "start_time": "2022-01-20T19:54:40.381Z"
   },
   {
    "duration": 398,
    "start_time": "2022-01-20T19:54:41.244Z"
   },
   {
    "duration": 6,
    "start_time": "2022-01-20T19:54:48.888Z"
   },
   {
    "duration": 12,
    "start_time": "2022-01-20T19:54:55.825Z"
   },
   {
    "duration": 7,
    "start_time": "2022-01-20T19:54:57.575Z"
   },
   {
    "duration": 1232,
    "start_time": "2022-01-20T20:06:52.061Z"
   },
   {
    "duration": 31,
    "start_time": "2022-01-20T20:06:53.295Z"
   },
   {
    "duration": 22,
    "start_time": "2022-01-20T20:06:53.328Z"
   },
   {
    "duration": 19,
    "start_time": "2022-01-20T20:06:53.351Z"
   },
   {
    "duration": 31,
    "start_time": "2022-01-20T20:06:53.372Z"
   },
   {
    "duration": 12,
    "start_time": "2022-01-20T20:06:53.660Z"
   },
   {
    "duration": 8,
    "start_time": "2022-01-20T20:06:53.921Z"
   },
   {
    "duration": 5,
    "start_time": "2022-01-20T20:06:54.203Z"
   },
   {
    "duration": 5,
    "start_time": "2022-01-20T20:06:54.478Z"
   },
   {
    "duration": 16,
    "start_time": "2022-01-20T20:06:54.750Z"
   },
   {
    "duration": 47,
    "start_time": "2022-01-20T20:06:55.034Z"
   },
   {
    "duration": 10,
    "start_time": "2022-01-20T20:06:55.318Z"
   },
   {
    "duration": 5,
    "start_time": "2022-01-20T20:06:55.799Z"
   },
   {
    "duration": 4,
    "start_time": "2022-01-20T20:06:55.970Z"
   },
   {
    "duration": 5,
    "start_time": "2022-01-20T20:06:56.126Z"
   },
   {
    "duration": 7,
    "start_time": "2022-01-20T20:06:56.577Z"
   },
   {
    "duration": 157,
    "start_time": "2022-01-20T20:06:58.713Z"
   },
   {
    "duration": 4536,
    "start_time": "2022-01-20T20:06:59.677Z"
   },
   {
    "duration": 419,
    "start_time": "2022-01-20T20:07:04.215Z"
   },
   {
    "duration": 5,
    "start_time": "2022-01-20T20:07:06.622Z"
   },
   {
    "duration": 185,
    "start_time": "2022-01-20T20:07:07.518Z"
   },
   {
    "duration": 9,
    "start_time": "2022-01-20T20:07:10.783Z"
   },
   {
    "duration": 6,
    "start_time": "2022-01-20T20:07:10.954Z"
   },
   {
    "duration": 13,
    "start_time": "2022-01-20T20:07:11.300Z"
   },
   {
    "duration": 6,
    "start_time": "2022-01-20T20:07:11.613Z"
   },
   {
    "duration": 348,
    "start_time": "2022-01-20T20:07:11.957Z"
   },
   {
    "duration": 380,
    "start_time": "2022-01-20T20:07:15.311Z"
   },
   {
    "duration": 6,
    "start_time": "2022-01-20T20:07:16.249Z"
   },
   {
    "duration": 21,
    "start_time": "2022-01-20T20:07:16.850Z"
   },
   {
    "duration": 7,
    "start_time": "2022-01-20T20:07:17.159Z"
   },
   {
    "duration": 4,
    "start_time": "2022-01-20T20:07:21.381Z"
   },
   {
    "duration": 17,
    "start_time": "2022-01-20T20:07:22.050Z"
   },
   {
    "duration": 756,
    "start_time": "2022-01-20T20:07:22.576Z"
   },
   {
    "duration": 6,
    "start_time": "2022-01-20T20:07:25.507Z"
   },
   {
    "duration": 189,
    "start_time": "2022-01-20T20:07:26.266Z"
   },
   {
    "duration": 4,
    "start_time": "2022-01-20T20:07:29.250Z"
   },
   {
    "duration": 12,
    "start_time": "2022-01-20T20:07:29.738Z"
   },
   {
    "duration": 276,
    "start_time": "2022-01-20T20:07:30.184Z"
   },
   {
    "duration": 7,
    "start_time": "2022-01-20T20:07:31.836Z"
   },
   {
    "duration": 214,
    "start_time": "2022-01-20T20:07:32.451Z"
   },
   {
    "duration": 270,
    "start_time": "2022-01-20T20:08:09.001Z"
   },
   {
    "duration": 6,
    "start_time": "2022-01-20T20:08:17.152Z"
   },
   {
    "duration": 267,
    "start_time": "2022-01-20T20:08:39.361Z"
   },
   {
    "duration": 6,
    "start_time": "2022-01-20T20:08:39.703Z"
   },
   {
    "duration": 7,
    "start_time": "2022-01-20T20:08:47.817Z"
   },
   {
    "duration": 1206,
    "start_time": "2022-01-20T20:13:50.970Z"
   },
   {
    "duration": 29,
    "start_time": "2022-01-20T20:13:52.178Z"
   },
   {
    "duration": 14,
    "start_time": "2022-01-20T20:13:52.209Z"
   },
   {
    "duration": 5,
    "start_time": "2022-01-20T20:13:52.225Z"
   },
   {
    "duration": 12,
    "start_time": "2022-01-20T20:13:52.232Z"
   },
   {
    "duration": 24,
    "start_time": "2022-01-20T20:13:52.246Z"
   },
   {
    "duration": 8,
    "start_time": "2022-01-20T20:13:52.271Z"
   },
   {
    "duration": 4,
    "start_time": "2022-01-20T20:13:52.281Z"
   },
   {
    "duration": 16,
    "start_time": "2022-01-20T20:13:52.287Z"
   },
   {
    "duration": 18,
    "start_time": "2022-01-20T20:13:52.304Z"
   },
   {
    "duration": 71,
    "start_time": "2022-01-20T20:13:52.323Z"
   },
   {
    "duration": 7,
    "start_time": "2022-01-20T20:13:52.396Z"
   },
   {
    "duration": 6,
    "start_time": "2022-01-20T20:13:52.405Z"
   },
   {
    "duration": 4,
    "start_time": "2022-01-20T20:13:52.413Z"
   },
   {
    "duration": 14,
    "start_time": "2022-01-20T20:13:52.419Z"
   },
   {
    "duration": 33,
    "start_time": "2022-01-20T20:13:52.434Z"
   },
   {
    "duration": 157,
    "start_time": "2022-01-20T20:13:52.469Z"
   },
   {
    "duration": 4201,
    "start_time": "2022-01-20T20:13:52.627Z"
   },
   {
    "duration": 389,
    "start_time": "2022-01-20T20:13:56.830Z"
   },
   {
    "duration": 5,
    "start_time": "2022-01-20T20:13:57.220Z"
   },
   {
    "duration": 201,
    "start_time": "2022-01-20T20:13:57.227Z"
   },
   {
    "duration": 9,
    "start_time": "2022-01-20T20:13:57.431Z"
   },
   {
    "duration": 7,
    "start_time": "2022-01-20T20:13:57.462Z"
   },
   {
    "duration": 15,
    "start_time": "2022-01-20T20:13:57.471Z"
   },
   {
    "duration": 206,
    "start_time": "2022-01-20T20:13:57.489Z"
   },
   {
    "duration": 409,
    "start_time": "2022-01-20T20:13:57.697Z"
   },
   {
    "duration": 405,
    "start_time": "2022-01-20T20:13:58.108Z"
   },
   {
    "duration": 5,
    "start_time": "2022-01-20T20:13:58.515Z"
   },
   {
    "duration": 41,
    "start_time": "2022-01-20T20:13:58.522Z"
   },
   {
    "duration": 11,
    "start_time": "2022-01-20T20:13:58.565Z"
   },
   {
    "duration": 10,
    "start_time": "2022-01-20T20:13:58.662Z"
   },
   {
    "duration": 19,
    "start_time": "2022-01-20T20:13:58.674Z"
   },
   {
    "duration": 770,
    "start_time": "2022-01-20T20:13:58.695Z"
   },
   {
    "duration": 7,
    "start_time": "2022-01-20T20:13:59.467Z"
   },
   {
    "duration": 201,
    "start_time": "2022-01-20T20:13:59.476Z"
   },
   {
    "duration": 4,
    "start_time": "2022-01-20T20:13:59.679Z"
   },
   {
    "duration": 25,
    "start_time": "2022-01-20T20:13:59.685Z"
   },
   {
    "duration": 270,
    "start_time": "2022-01-20T20:13:59.712Z"
   },
   {
    "duration": 6,
    "start_time": "2022-01-20T20:13:59.984Z"
   },
   {
    "duration": 201,
    "start_time": "2022-01-20T20:13:59.992Z"
   },
   {
    "duration": 268,
    "start_time": "2022-01-20T20:14:00.194Z"
   },
   {
    "duration": 6,
    "start_time": "2022-01-20T20:14:00.464Z"
   },
   {
    "duration": 269,
    "start_time": "2022-01-20T20:15:06.624Z"
   },
   {
    "duration": 189,
    "start_time": "2022-01-20T20:16:09.496Z"
   },
   {
    "duration": 6,
    "start_time": "2022-01-20T20:43:27.439Z"
   },
   {
    "duration": 6,
    "start_time": "2022-01-20T20:44:49.423Z"
   },
   {
    "duration": 1180,
    "start_time": "2022-01-20T20:59:38.000Z"
   },
   {
    "duration": 33,
    "start_time": "2022-01-20T20:59:39.982Z"
   },
   {
    "duration": 16,
    "start_time": "2022-01-20T20:59:40.625Z"
   },
   {
    "duration": 5,
    "start_time": "2022-01-20T20:59:43.082Z"
   },
   {
    "duration": 11,
    "start_time": "2022-01-20T20:59:44.531Z"
   },
   {
    "duration": 17,
    "start_time": "2022-01-20T20:59:46.774Z"
   },
   {
    "duration": 9,
    "start_time": "2022-01-20T20:59:47.462Z"
   },
   {
    "duration": 5,
    "start_time": "2022-01-20T20:59:48.511Z"
   },
   {
    "duration": 4,
    "start_time": "2022-01-20T20:59:49.409Z"
   },
   {
    "duration": 14,
    "start_time": "2022-01-20T20:59:54.488Z"
   },
   {
    "duration": 40,
    "start_time": "2022-01-20T20:59:55.469Z"
   },
   {
    "duration": 9,
    "start_time": "2022-01-20T20:59:59.899Z"
   },
   {
    "duration": 4,
    "start_time": "2022-01-20T21:00:00.914Z"
   },
   {
    "duration": 4,
    "start_time": "2022-01-20T21:00:01.314Z"
   },
   {
    "duration": 4,
    "start_time": "2022-01-20T21:00:01.636Z"
   },
   {
    "duration": 8,
    "start_time": "2022-01-20T21:00:07.606Z"
   },
   {
    "duration": 156,
    "start_time": "2022-01-20T21:00:22.216Z"
   },
   {
    "duration": 4353,
    "start_time": "2022-01-20T21:01:01.955Z"
   },
   {
    "duration": 399,
    "start_time": "2022-01-20T21:01:08.410Z"
   },
   {
    "duration": 7,
    "start_time": "2022-01-20T21:01:13.329Z"
   },
   {
    "duration": 194,
    "start_time": "2022-01-20T21:01:14.998Z"
   },
   {
    "duration": 8,
    "start_time": "2022-01-20T21:01:19.357Z"
   },
   {
    "duration": 6,
    "start_time": "2022-01-20T21:01:20.270Z"
   },
   {
    "duration": 21,
    "start_time": "2022-01-20T21:01:22.116Z"
   },
   {
    "duration": 7,
    "start_time": "2022-01-20T21:01:23.321Z"
   },
   {
    "duration": 319,
    "start_time": "2022-01-20T21:01:24.296Z"
   },
   {
    "duration": 371,
    "start_time": "2022-01-20T21:03:44.076Z"
   },
   {
    "duration": 6,
    "start_time": "2022-01-20T21:03:45.246Z"
   },
   {
    "duration": 13,
    "start_time": "2022-01-20T21:03:46.788Z"
   },
   {
    "duration": 6,
    "start_time": "2022-01-20T21:03:47.738Z"
   },
   {
    "duration": 4,
    "start_time": "2022-01-20T21:04:05.182Z"
   },
   {
    "duration": 16,
    "start_time": "2022-01-20T21:04:06.667Z"
   },
   {
    "duration": 806,
    "start_time": "2022-01-20T21:04:10.488Z"
   },
   {
    "duration": 7,
    "start_time": "2022-01-20T21:04:13.137Z"
   },
   {
    "duration": 182,
    "start_time": "2022-01-20T21:04:15.286Z"
   },
   {
    "duration": 4,
    "start_time": "2022-01-20T21:04:38.318Z"
   },
   {
    "duration": 13,
    "start_time": "2022-01-20T21:04:39.505Z"
   },
   {
    "duration": 260,
    "start_time": "2022-01-20T21:04:40.976Z"
   },
   {
    "duration": 6,
    "start_time": "2022-01-20T21:04:42.311Z"
   },
   {
    "duration": 181,
    "start_time": "2022-01-20T21:04:44.679Z"
   },
   {
    "duration": 255,
    "start_time": "2022-01-20T21:05:07.664Z"
   },
   {
    "duration": 264,
    "start_time": "2022-01-20T21:05:16.153Z"
   },
   {
    "duration": 6,
    "start_time": "2022-01-20T21:05:16.713Z"
   },
   {
    "duration": 1231,
    "start_time": "2022-01-20T21:06:31.273Z"
   },
   {
    "duration": 31,
    "start_time": "2022-01-20T21:06:32.506Z"
   },
   {
    "duration": 24,
    "start_time": "2022-01-20T21:06:32.541Z"
   },
   {
    "duration": 9,
    "start_time": "2022-01-20T21:06:32.566Z"
   },
   {
    "duration": 18,
    "start_time": "2022-01-20T21:06:32.577Z"
   },
   {
    "duration": 42,
    "start_time": "2022-01-20T21:06:32.597Z"
   },
   {
    "duration": 8,
    "start_time": "2022-01-20T21:06:32.643Z"
   },
   {
    "duration": 27,
    "start_time": "2022-01-20T21:06:32.654Z"
   },
   {
    "duration": 16,
    "start_time": "2022-01-20T21:06:32.683Z"
   },
   {
    "duration": 43,
    "start_time": "2022-01-20T21:06:32.701Z"
   },
   {
    "duration": 57,
    "start_time": "2022-01-20T21:06:32.746Z"
   },
   {
    "duration": 9,
    "start_time": "2022-01-20T21:06:32.805Z"
   },
   {
    "duration": 14,
    "start_time": "2022-01-20T21:06:32.815Z"
   },
   {
    "duration": 18,
    "start_time": "2022-01-20T21:06:32.832Z"
   },
   {
    "duration": 32,
    "start_time": "2022-01-20T21:06:32.851Z"
   },
   {
    "duration": 24,
    "start_time": "2022-01-20T21:06:32.885Z"
   },
   {
    "duration": 174,
    "start_time": "2022-01-20T21:06:32.910Z"
   },
   {
    "duration": 4352,
    "start_time": "2022-01-20T21:06:33.085Z"
   },
   {
    "duration": 393,
    "start_time": "2022-01-20T21:06:37.440Z"
   },
   {
    "duration": 4,
    "start_time": "2022-01-20T21:06:37.835Z"
   },
   {
    "duration": 190,
    "start_time": "2022-01-20T21:06:37.841Z"
   },
   {
    "duration": 6,
    "start_time": "2022-01-20T21:06:38.035Z"
   },
   {
    "duration": 5,
    "start_time": "2022-01-20T21:06:38.060Z"
   },
   {
    "duration": 96,
    "start_time": "2022-01-20T21:06:38.067Z"
   },
   {
    "duration": 110,
    "start_time": "2022-01-20T21:06:38.166Z"
   },
   {
    "duration": 328,
    "start_time": "2022-01-20T21:06:38.277Z"
   },
   {
    "duration": 381,
    "start_time": "2022-01-20T21:06:38.607Z"
   },
   {
    "duration": 6,
    "start_time": "2022-01-20T21:06:38.990Z"
   },
   {
    "duration": 51,
    "start_time": "2022-01-20T21:06:38.998Z"
   },
   {
    "duration": 208,
    "start_time": "2022-01-20T21:06:39.062Z"
   },
   {
    "duration": 55,
    "start_time": "2022-01-20T21:06:39.272Z"
   },
   {
    "duration": 55,
    "start_time": "2022-01-20T21:06:39.329Z"
   },
   {
    "duration": 780,
    "start_time": "2022-01-20T21:06:39.386Z"
   },
   {
    "duration": 6,
    "start_time": "2022-01-20T21:06:40.168Z"
   },
   {
    "duration": 211,
    "start_time": "2022-01-20T21:06:40.176Z"
   },
   {
    "duration": 4,
    "start_time": "2022-01-20T21:06:40.389Z"
   },
   {
    "duration": 40,
    "start_time": "2022-01-20T21:06:40.395Z"
   },
   {
    "duration": 280,
    "start_time": "2022-01-20T21:06:40.437Z"
   },
   {
    "duration": 6,
    "start_time": "2022-01-20T21:06:40.719Z"
   },
   {
    "duration": 226,
    "start_time": "2022-01-20T21:06:40.727Z"
   },
   {
    "duration": 276,
    "start_time": "2022-01-20T21:06:40.954Z"
   },
   {
    "duration": 5,
    "start_time": "2022-01-20T21:06:41.232Z"
   },
   {
    "duration": 4,
    "start_time": "2022-01-20T21:07:51.037Z"
   },
   {
    "duration": 1173,
    "start_time": "2022-01-20T21:10:13.952Z"
   },
   {
    "duration": 32,
    "start_time": "2022-01-20T21:10:15.127Z"
   },
   {
    "duration": 17,
    "start_time": "2022-01-20T21:10:15.161Z"
   },
   {
    "duration": 8,
    "start_time": "2022-01-20T21:10:15.180Z"
   },
   {
    "duration": 19,
    "start_time": "2022-01-20T21:10:15.190Z"
   },
   {
    "duration": 17,
    "start_time": "2022-01-20T21:10:15.211Z"
   },
   {
    "duration": 38,
    "start_time": "2022-01-20T21:10:15.230Z"
   },
   {
    "duration": 8,
    "start_time": "2022-01-20T21:10:15.270Z"
   },
   {
    "duration": 16,
    "start_time": "2022-01-20T21:10:15.281Z"
   },
   {
    "duration": 15,
    "start_time": "2022-01-20T21:10:15.300Z"
   },
   {
    "duration": 67,
    "start_time": "2022-01-20T21:10:15.317Z"
   },
   {
    "duration": 8,
    "start_time": "2022-01-20T21:10:15.386Z"
   },
   {
    "duration": 8,
    "start_time": "2022-01-20T21:10:15.397Z"
   },
   {
    "duration": 4,
    "start_time": "2022-01-20T21:10:15.407Z"
   },
   {
    "duration": 5,
    "start_time": "2022-01-20T21:10:15.413Z"
   },
   {
    "duration": 46,
    "start_time": "2022-01-20T21:10:15.420Z"
   },
   {
    "duration": 175,
    "start_time": "2022-01-20T21:10:15.468Z"
   },
   {
    "duration": 4814,
    "start_time": "2022-01-20T21:10:15.644Z"
   },
   {
    "duration": 416,
    "start_time": "2022-01-20T21:10:20.460Z"
   },
   {
    "duration": 7,
    "start_time": "2022-01-20T21:10:20.878Z"
   },
   {
    "duration": 226,
    "start_time": "2022-01-20T21:10:20.887Z"
   },
   {
    "duration": 10,
    "start_time": "2022-01-20T21:10:21.115Z"
   },
   {
    "duration": 12,
    "start_time": "2022-01-20T21:10:21.127Z"
   },
   {
    "duration": 109,
    "start_time": "2022-01-20T21:10:21.161Z"
   },
   {
    "duration": 91,
    "start_time": "2022-01-20T21:10:21.272Z"
   },
   {
    "duration": 343,
    "start_time": "2022-01-20T21:10:21.365Z"
   },
   {
    "duration": 408,
    "start_time": "2022-01-20T21:10:21.712Z"
   },
   {
    "duration": 7,
    "start_time": "2022-01-20T21:10:22.122Z"
   },
   {
    "duration": 40,
    "start_time": "2022-01-20T21:10:22.130Z"
   },
   {
    "duration": 190,
    "start_time": "2022-01-20T21:10:22.172Z"
   },
   {
    "duration": 6,
    "start_time": "2022-01-20T21:10:22.365Z"
   },
   {
    "duration": 39,
    "start_time": "2022-01-20T21:10:22.373Z"
   },
   {
    "duration": 805,
    "start_time": "2022-01-20T21:10:22.414Z"
   },
   {
    "duration": 6,
    "start_time": "2022-01-20T21:10:23.221Z"
   },
   {
    "duration": 297,
    "start_time": "2022-01-20T21:10:23.229Z"
   },
   {
    "duration": 4,
    "start_time": "2022-01-20T21:10:23.528Z"
   },
   {
    "duration": 58,
    "start_time": "2022-01-20T21:10:23.534Z"
   },
   {
    "duration": 285,
    "start_time": "2022-01-20T21:10:23.594Z"
   },
   {
    "duration": 6,
    "start_time": "2022-01-20T21:10:23.881Z"
   },
   {
    "duration": 210,
    "start_time": "2022-01-20T21:10:23.888Z"
   },
   {
    "duration": 291,
    "start_time": "2022-01-20T21:10:24.099Z"
   },
   {
    "duration": 6,
    "start_time": "2022-01-20T21:10:24.392Z"
   },
   {
    "duration": 1491,
    "start_time": "2022-01-21T10:11:27.441Z"
   },
   {
    "duration": 35,
    "start_time": "2022-01-21T10:11:28.935Z"
   },
   {
    "duration": 23,
    "start_time": "2022-01-21T10:11:28.973Z"
   },
   {
    "duration": 16,
    "start_time": "2022-01-21T10:11:28.998Z"
   },
   {
    "duration": 16,
    "start_time": "2022-01-21T10:11:29.130Z"
   },
   {
    "duration": 18,
    "start_time": "2022-01-21T10:11:29.404Z"
   },
   {
    "duration": 12,
    "start_time": "2022-01-21T10:11:29.662Z"
   },
   {
    "duration": 6,
    "start_time": "2022-01-21T10:11:29.959Z"
   },
   {
    "duration": 7,
    "start_time": "2022-01-21T10:11:30.229Z"
   },
   {
    "duration": 21,
    "start_time": "2022-01-21T10:11:30.669Z"
   },
   {
    "duration": 67,
    "start_time": "2022-01-21T10:11:31.103Z"
   },
   {
    "duration": 12,
    "start_time": "2022-01-21T10:11:31.383Z"
   },
   {
    "duration": 6,
    "start_time": "2022-01-21T10:11:31.693Z"
   },
   {
    "duration": 20,
    "start_time": "2022-01-21T10:11:31.858Z"
   },
   {
    "duration": 11,
    "start_time": "2022-01-21T10:11:32.010Z"
   },
   {
    "duration": 13,
    "start_time": "2022-01-21T10:11:32.302Z"
   },
   {
    "duration": 238,
    "start_time": "2022-01-21T10:11:33.895Z"
   },
   {
    "duration": 6217,
    "start_time": "2022-01-21T10:11:37.231Z"
   },
   {
    "duration": 587,
    "start_time": "2022-01-21T10:11:43.451Z"
   },
   {
    "duration": 6,
    "start_time": "2022-01-21T10:11:44.041Z"
   },
   {
    "duration": 313,
    "start_time": "2022-01-21T10:11:44.049Z"
   },
   {
    "duration": 9,
    "start_time": "2022-01-21T10:11:44.364Z"
   },
   {
    "duration": 7,
    "start_time": "2022-01-21T10:11:44.375Z"
   },
   {
    "duration": 79,
    "start_time": "2022-01-21T10:11:44.384Z"
   },
   {
    "duration": 8,
    "start_time": "2022-01-21T10:11:44.624Z"
   },
   {
    "duration": 424,
    "start_time": "2022-01-21T10:11:45.888Z"
   },
   {
    "duration": 555,
    "start_time": "2022-01-21T10:11:48.009Z"
   },
   {
    "duration": 8,
    "start_time": "2022-01-21T10:11:49.264Z"
   },
   {
    "duration": 18,
    "start_time": "2022-01-21T10:11:51.809Z"
   },
   {
    "duration": 8,
    "start_time": "2022-01-21T10:11:54.177Z"
   },
   {
    "duration": 6,
    "start_time": "2022-01-21T10:11:56.474Z"
   },
   {
    "duration": 23,
    "start_time": "2022-01-21T10:11:59.241Z"
   },
   {
    "duration": 8,
    "start_time": "2022-01-21T10:12:13.819Z"
   },
   {
    "duration": 8,
    "start_time": "2022-01-21T10:12:24.883Z"
   },
   {
    "duration": 202,
    "start_time": "2022-01-21T10:12:32.691Z"
   },
   {
    "duration": 30,
    "start_time": "2022-01-21T10:12:42.601Z"
   },
   {
    "duration": 213,
    "start_time": "2022-01-21T10:12:43.081Z"
   },
   {
    "duration": 19,
    "start_time": "2022-01-21T10:12:46.490Z"
   },
   {
    "duration": 230,
    "start_time": "2022-01-21T10:12:47.545Z"
   },
   {
    "duration": 14,
    "start_time": "2022-01-21T10:12:50.386Z"
   },
   {
    "duration": 323,
    "start_time": "2022-01-21T10:12:50.825Z"
   },
   {
    "duration": 15,
    "start_time": "2022-01-21T10:12:53.601Z"
   },
   {
    "duration": 211,
    "start_time": "2022-01-21T10:12:54.650Z"
   },
   {
    "duration": 20,
    "start_time": "2022-01-21T10:12:57.265Z"
   },
   {
    "duration": 223,
    "start_time": "2022-01-21T10:12:57.745Z"
   },
   {
    "duration": 18,
    "start_time": "2022-01-21T10:13:01.216Z"
   },
   {
    "duration": 211,
    "start_time": "2022-01-21T10:13:02.933Z"
   },
   {
    "duration": 1007,
    "start_time": "2022-01-21T10:13:10.196Z"
   },
   {
    "duration": 12,
    "start_time": "2022-01-21T10:13:11.207Z"
   },
   {
    "duration": 286,
    "start_time": "2022-01-21T10:13:28.959Z"
   },
   {
    "duration": 8,
    "start_time": "2022-01-21T10:13:30.975Z"
   },
   {
    "duration": 23,
    "start_time": "2022-01-21T10:13:33.255Z"
   },
   {
    "duration": 216,
    "start_time": "2022-01-21T10:13:50.826Z"
   },
   {
    "duration": 21,
    "start_time": "2022-01-21T10:13:54.171Z"
   },
   {
    "duration": 205,
    "start_time": "2022-01-21T10:13:54.520Z"
   },
   {
    "duration": 21,
    "start_time": "2022-01-21T10:13:57.233Z"
   },
   {
    "duration": 227,
    "start_time": "2022-01-21T10:13:57.616Z"
   },
   {
    "duration": 18,
    "start_time": "2022-01-21T10:14:01.284Z"
   },
   {
    "duration": 218,
    "start_time": "2022-01-21T10:14:02.371Z"
   },
   {
    "duration": 16,
    "start_time": "2022-01-21T10:14:04.793Z"
   },
   {
    "duration": 247,
    "start_time": "2022-01-21T10:14:05.169Z"
   },
   {
    "duration": 23,
    "start_time": "2022-01-21T10:14:08.137Z"
   },
   {
    "duration": 318,
    "start_time": "2022-01-21T10:14:08.521Z"
   },
   {
    "duration": 16,
    "start_time": "2022-01-21T10:14:11.353Z"
   },
   {
    "duration": 205,
    "start_time": "2022-01-21T10:14:12.409Z"
   },
   {
    "duration": 18,
    "start_time": "2022-01-21T10:14:16.075Z"
   },
   {
    "duration": 213,
    "start_time": "2022-01-21T10:14:16.457Z"
   },
   {
    "duration": 16,
    "start_time": "2022-01-21T10:14:19.010Z"
   },
   {
    "duration": 274,
    "start_time": "2022-01-21T10:14:19.992Z"
   },
   {
    "duration": 19,
    "start_time": "2022-01-21T10:14:23.986Z"
   },
   {
    "duration": 211,
    "start_time": "2022-01-21T10:14:24.520Z"
   },
   {
    "duration": 21,
    "start_time": "2022-01-21T10:14:28.442Z"
   },
   {
    "duration": 217,
    "start_time": "2022-01-21T10:14:28.796Z"
   },
   {
    "duration": 17,
    "start_time": "2022-01-21T10:14:31.395Z"
   },
   {
    "duration": 237,
    "start_time": "2022-01-21T10:14:31.731Z"
   },
   {
    "duration": 17,
    "start_time": "2022-01-21T10:14:36.418Z"
   },
   {
    "duration": 244,
    "start_time": "2022-01-21T10:14:36.859Z"
   },
   {
    "duration": 331,
    "start_time": "2022-01-21T10:14:37.818Z"
   },
   {
    "duration": 10,
    "start_time": "2022-01-21T10:14:38.588Z"
   },
   {
    "duration": 17,
    "start_time": "2022-01-21T10:15:03.169Z"
   },
   {
    "duration": 219,
    "start_time": "2022-01-21T10:15:03.189Z"
   },
   {
    "duration": 387,
    "start_time": "2022-01-21T10:15:11.572Z"
   },
   {
    "duration": 7,
    "start_time": "2022-01-21T10:15:12.684Z"
   },
   {
    "duration": 6485,
    "start_time": "2022-01-21T10:58:40.770Z"
   },
   {
    "duration": 5,
    "start_time": "2022-01-21T10:58:57.410Z"
   },
   {
    "duration": 663,
    "start_time": "2022-01-21T10:59:06.203Z"
   },
   {
    "duration": 587,
    "start_time": "2022-01-21T10:59:14.746Z"
   },
   {
    "duration": 6154,
    "start_time": "2022-01-21T11:00:43.379Z"
   },
   {
    "duration": 6,
    "start_time": "2022-01-21T11:00:50.066Z"
   },
   {
    "duration": 6,
    "start_time": "2022-01-21T11:01:15.914Z"
   },
   {
    "duration": 6,
    "start_time": "2022-01-21T11:01:21.876Z"
   },
   {
    "duration": 4,
    "start_time": "2022-01-21T11:01:35.388Z"
   },
   {
    "duration": 6,
    "start_time": "2022-01-21T11:01:42.274Z"
   },
   {
    "duration": 5,
    "start_time": "2022-01-21T11:02:19.885Z"
   },
   {
    "duration": 4,
    "start_time": "2022-01-21T11:02:24.627Z"
   },
   {
    "duration": 5,
    "start_time": "2022-01-21T11:03:02.865Z"
   },
   {
    "duration": 6,
    "start_time": "2022-01-21T11:03:16.003Z"
   },
   {
    "duration": 6129,
    "start_time": "2022-01-21T11:03:25.051Z"
   },
   {
    "duration": 5,
    "start_time": "2022-01-21T11:03:31.182Z"
   },
   {
    "duration": 6,
    "start_time": "2022-01-21T11:04:57.972Z"
   },
   {
    "duration": 5,
    "start_time": "2022-01-21T11:05:30.724Z"
   },
   {
    "duration": 5,
    "start_time": "2022-01-21T11:05:47.611Z"
   },
   {
    "duration": 4,
    "start_time": "2022-01-21T11:06:38.756Z"
   },
   {
    "duration": 5,
    "start_time": "2022-01-21T11:10:32.340Z"
   },
   {
    "duration": 6885,
    "start_time": "2022-01-21T11:10:55.092Z"
   },
   {
    "duration": 6,
    "start_time": "2022-01-21T11:11:19.723Z"
   },
   {
    "duration": 6432,
    "start_time": "2022-01-21T11:11:20.523Z"
   },
   {
    "duration": 6226,
    "start_time": "2022-01-21T11:11:34.506Z"
   },
   {
    "duration": 4,
    "start_time": "2022-01-21T11:11:44.051Z"
   },
   {
    "duration": 5,
    "start_time": "2022-01-21T11:12:04.934Z"
   },
   {
    "duration": 9319,
    "start_time": "2022-01-21T11:12:06.087Z"
   },
   {
    "duration": 6,
    "start_time": "2022-01-21T11:12:24.771Z"
   },
   {
    "duration": 6434,
    "start_time": "2022-01-21T11:12:25.379Z"
   },
   {
    "duration": 7,
    "start_time": "2022-01-21T11:12:49.221Z"
   },
   {
    "duration": 6524,
    "start_time": "2022-01-21T11:12:49.820Z"
   },
   {
    "duration": 5,
    "start_time": "2022-01-21T11:13:59.084Z"
   },
   {
    "duration": 6346,
    "start_time": "2022-01-21T11:13:59.875Z"
   },
   {
    "duration": 3417,
    "start_time": "2022-01-21T11:14:47.844Z"
   },
   {
    "duration": 6378,
    "start_time": "2022-01-21T11:15:03.620Z"
   },
   {
    "duration": 319,
    "start_time": "2022-01-21T11:16:05.956Z"
   },
   {
    "duration": 9908,
    "start_time": "2022-01-21T11:16:11.180Z"
   },
   {
    "duration": 635,
    "start_time": "2022-01-21T11:16:31.676Z"
   },
   {
    "duration": 8,
    "start_time": "2022-01-21T11:16:33.331Z"
   },
   {
    "duration": 294,
    "start_time": "2022-01-21T11:16:35.811Z"
   },
   {
    "duration": 6,
    "start_time": "2022-01-21T11:16:43.309Z"
   },
   {
    "duration": 17,
    "start_time": "2022-01-21T11:16:47.068Z"
   },
   {
    "duration": 315,
    "start_time": "2022-01-21T11:16:52.484Z"
   },
   {
    "duration": 10,
    "start_time": "2022-01-21T11:16:53.659Z"
   },
   {
    "duration": 4550,
    "start_time": "2022-01-21T11:17:19.636Z"
   },
   {
    "duration": 10,
    "start_time": "2022-01-21T11:19:37.077Z"
   },
   {
    "duration": 6,
    "start_time": "2022-01-21T11:19:42.085Z"
   },
   {
    "duration": 6330,
    "start_time": "2022-01-21T11:19:46.036Z"
   },
   {
    "duration": 276,
    "start_time": "2022-01-21T11:19:59.503Z"
   },
   {
    "duration": 8077,
    "start_time": "2022-01-21T11:20:11.053Z"
   },
   {
    "duration": 275,
    "start_time": "2022-01-21T11:20:25.676Z"
   },
   {
    "duration": 5,
    "start_time": "2022-01-21T11:20:36.797Z"
   },
   {
    "duration": 1410,
    "start_time": "2022-01-21T11:21:07.576Z"
   },
   {
    "duration": 35,
    "start_time": "2022-01-21T11:21:08.989Z"
   },
   {
    "duration": 22,
    "start_time": "2022-01-21T11:21:09.027Z"
   },
   {
    "duration": 11,
    "start_time": "2022-01-21T11:21:09.052Z"
   },
   {
    "duration": 16,
    "start_time": "2022-01-21T11:21:09.080Z"
   },
   {
    "duration": 18,
    "start_time": "2022-01-21T11:21:09.369Z"
   },
   {
    "duration": 11,
    "start_time": "2022-01-21T11:21:09.977Z"
   },
   {
    "duration": 7,
    "start_time": "2022-01-21T11:21:10.280Z"
   },
   {
    "duration": 5,
    "start_time": "2022-01-21T11:21:10.855Z"
   },
   {
    "duration": 20,
    "start_time": "2022-01-21T11:21:11.250Z"
   },
   {
    "duration": 68,
    "start_time": "2022-01-21T11:21:11.672Z"
   },
   {
    "duration": 10,
    "start_time": "2022-01-21T11:21:11.955Z"
   },
   {
    "duration": 5,
    "start_time": "2022-01-21T11:21:12.361Z"
   },
   {
    "duration": 4,
    "start_time": "2022-01-21T11:21:12.498Z"
   },
   {
    "duration": 5,
    "start_time": "2022-01-21T11:21:12.633Z"
   },
   {
    "duration": 10,
    "start_time": "2022-01-21T11:21:12.921Z"
   },
   {
    "duration": 270,
    "start_time": "2022-01-21T11:21:14.249Z"
   },
   {
    "duration": 5,
    "start_time": "2022-01-21T11:21:15.858Z"
   },
   {
    "duration": 6406,
    "start_time": "2022-01-21T11:21:17.881Z"
   },
   {
    "duration": 1040,
    "start_time": "2022-01-21T11:21:27.675Z"
   },
   {
    "duration": 567,
    "start_time": "2022-01-21T11:21:34.957Z"
   },
   {
    "duration": 7,
    "start_time": "2022-01-21T11:21:37.188Z"
   },
   {
    "duration": 286,
    "start_time": "2022-01-21T11:21:38.084Z"
   },
   {
    "duration": 10,
    "start_time": "2022-01-21T11:21:46.685Z"
   },
   {
    "duration": 7,
    "start_time": "2022-01-21T11:21:46.812Z"
   },
   {
    "duration": 27,
    "start_time": "2022-01-21T11:21:47.068Z"
   },
   {
    "duration": 9,
    "start_time": "2022-01-21T11:21:47.356Z"
   },
   {
    "duration": 437,
    "start_time": "2022-01-21T11:21:47.964Z"
   },
   {
    "duration": 6268,
    "start_time": "2022-01-21T11:21:53.029Z"
   },
   {
    "duration": 6246,
    "start_time": "2022-01-21T11:22:40.277Z"
   },
   {
    "duration": 34,
    "start_time": "2022-01-21T11:22:46.526Z"
   },
   {
    "duration": 10,
    "start_time": "2022-01-21T11:22:49.783Z"
   },
   {
    "duration": 6,
    "start_time": "2022-01-21T11:22:55.696Z"
   },
   {
    "duration": 17,
    "start_time": "2022-01-21T11:22:59.256Z"
   },
   {
    "duration": 196,
    "start_time": "2022-01-21T11:23:09.585Z"
   },
   {
    "duration": 9212,
    "start_time": "2022-01-21T11:23:46.038Z"
   },
   {
    "duration": 617,
    "start_time": "2022-01-21T11:23:59.805Z"
   },
   {
    "duration": 8,
    "start_time": "2022-01-21T11:24:03.405Z"
   },
   {
    "duration": 9025,
    "start_time": "2022-01-21T11:24:27.270Z"
   },
   {
    "duration": 634,
    "start_time": "2022-01-21T11:24:40.782Z"
   },
   {
    "duration": 8,
    "start_time": "2022-01-21T11:24:41.455Z"
   },
   {
    "duration": 275,
    "start_time": "2022-01-21T11:24:42.885Z"
   },
   {
    "duration": 6,
    "start_time": "2022-01-21T11:24:47.412Z"
   },
   {
    "duration": 16,
    "start_time": "2022-01-21T11:24:48.684Z"
   },
   {
    "duration": 4578,
    "start_time": "2022-01-21T11:25:18.511Z"
   },
   {
    "duration": 353,
    "start_time": "2022-01-21T11:25:50.447Z"
   },
   {
    "duration": 286,
    "start_time": "2022-01-21T11:25:51.557Z"
   },
   {
    "duration": 4443,
    "start_time": "2022-01-21T11:28:41.679Z"
   },
   {
    "duration": 314,
    "start_time": "2022-01-21T11:30:39.822Z"
   },
   {
    "duration": 11,
    "start_time": "2022-01-21T11:30:41.095Z"
   },
   {
    "duration": 647,
    "start_time": "2022-01-21T11:30:58.463Z"
   },
   {
    "duration": 8,
    "start_time": "2022-01-21T11:30:59.870Z"
   },
   {
    "duration": 288,
    "start_time": "2022-01-21T11:33:05.559Z"
   },
   {
    "duration": 6,
    "start_time": "2022-01-21T11:36:03.992Z"
   },
   {
    "duration": 278,
    "start_time": "2022-01-21T11:36:08.767Z"
   },
   {
    "duration": 608,
    "start_time": "2022-01-21T11:36:23.728Z"
   },
   {
    "duration": 8,
    "start_time": "2022-01-21T11:36:25.486Z"
   },
   {
    "duration": 293,
    "start_time": "2022-01-21T11:36:31.027Z"
   },
   {
    "duration": 1538,
    "start_time": "2022-01-21T11:37:17.978Z"
   },
   {
    "duration": 47,
    "start_time": "2022-01-21T11:37:19.519Z"
   },
   {
    "duration": 36,
    "start_time": "2022-01-21T11:37:19.570Z"
   },
   {
    "duration": 10,
    "start_time": "2022-01-21T11:37:19.609Z"
   },
   {
    "duration": 40,
    "start_time": "2022-01-21T11:37:19.621Z"
   },
   {
    "duration": 17,
    "start_time": "2022-01-21T11:37:19.663Z"
   },
   {
    "duration": 14,
    "start_time": "2022-01-21T11:37:19.683Z"
   },
   {
    "duration": 7,
    "start_time": "2022-01-21T11:37:19.702Z"
   },
   {
    "duration": 49,
    "start_time": "2022-01-21T11:37:19.713Z"
   },
   {
    "duration": 21,
    "start_time": "2022-01-21T11:37:19.764Z"
   },
   {
    "duration": 82,
    "start_time": "2022-01-21T11:37:19.788Z"
   },
   {
    "duration": 9,
    "start_time": "2022-01-21T11:37:19.872Z"
   },
   {
    "duration": 19,
    "start_time": "2022-01-21T11:37:19.884Z"
   },
   {
    "duration": 5,
    "start_time": "2022-01-21T11:37:19.905Z"
   },
   {
    "duration": 6,
    "start_time": "2022-01-21T11:37:19.912Z"
   },
   {
    "duration": 39,
    "start_time": "2022-01-21T11:37:19.920Z"
   },
   {
    "duration": 252,
    "start_time": "2022-01-21T11:37:19.962Z"
   },
   {
    "duration": 6,
    "start_time": "2022-01-21T11:37:20.216Z"
   },
   {
    "duration": 9383,
    "start_time": "2022-01-21T11:37:20.225Z"
   },
   {
    "duration": 663,
    "start_time": "2022-01-21T11:37:29.612Z"
   },
   {
    "duration": 6,
    "start_time": "2022-01-21T11:37:30.278Z"
   },
   {
    "duration": 306,
    "start_time": "2022-01-21T11:37:30.286Z"
   },
   {
    "duration": 10,
    "start_time": "2022-01-21T11:37:30.597Z"
   },
   {
    "duration": 9,
    "start_time": "2022-01-21T11:37:30.610Z"
   },
   {
    "duration": 65,
    "start_time": "2022-01-21T11:37:30.622Z"
   },
   {
    "duration": 99,
    "start_time": "2022-01-21T11:37:30.761Z"
   },
   {
    "duration": 537,
    "start_time": "2022-01-21T11:37:30.863Z"
   },
   {
    "duration": 6153,
    "start_time": "2022-01-21T11:37:31.403Z"
   },
   {
    "duration": 18,
    "start_time": "2022-01-21T11:37:37.560Z"
   },
   {
    "duration": 81,
    "start_time": "2022-01-21T11:37:37.581Z"
   },
   {
    "duration": 95,
    "start_time": "2022-01-21T11:37:37.665Z"
   },
   {
    "duration": 18,
    "start_time": "2022-01-21T11:37:37.763Z"
   },
   {
    "duration": 226,
    "start_time": "2022-01-21T11:37:37.783Z"
   },
   {
    "duration": 8912,
    "start_time": "2022-01-21T11:37:38.011Z"
   },
   {
    "duration": 644,
    "start_time": "2022-01-21T11:37:46.925Z"
   },
   {
    "duration": 295,
    "start_time": "2022-01-21T11:37:47.572Z"
   },
   {
    "duration": 6,
    "start_time": "2022-01-21T11:37:47.870Z"
   },
   {
    "duration": 22,
    "start_time": "2022-01-21T11:37:47.878Z"
   },
   {
    "duration": 4438,
    "start_time": "2022-01-21T11:37:47.903Z"
   },
   {
    "duration": 369,
    "start_time": "2022-01-21T11:37:52.343Z"
   },
   {
    "duration": 297,
    "start_time": "2022-01-21T11:37:52.714Z"
   },
   {
    "duration": 646,
    "start_time": "2022-01-21T11:37:53.013Z"
   },
   {
    "duration": 8,
    "start_time": "2022-01-21T11:37:53.661Z"
   },
   {
    "duration": 355,
    "start_time": "2022-01-21T11:37:53.672Z"
   },
   {
    "duration": 109,
    "start_time": "2022-01-21T11:38:15.260Z"
   },
   {
    "duration": 116,
    "start_time": "2022-01-21T11:38:59.275Z"
   }
  ],
  "kernelspec": {
   "display_name": "Python 3 (ipykernel)",
   "language": "python",
   "name": "python3"
  },
  "language_info": {
   "codemirror_mode": {
    "name": "ipython",
    "version": 3
   },
   "file_extension": ".py",
   "mimetype": "text/x-python",
   "name": "python",
   "nbconvert_exporter": "python",
   "pygments_lexer": "ipython3",
   "version": "3.9.7"
  },
  "toc": {
   "base_numbering": 1,
   "nav_menu": {},
   "number_sections": true,
   "sideBar": true,
   "skip_h1_title": true,
   "title_cell": "Содержание",
   "title_sidebar": "Contents",
   "toc_cell": true,
   "toc_position": {
    "height": "calc(100% - 180px)",
    "left": "10px",
    "top": "150px",
    "width": "289.6px"
   },
   "toc_section_display": true,
   "toc_window_display": false
  },
  "varInspector": {
   "cols": {
    "lenName": 16,
    "lenType": 16,
    "lenVar": 40
   },
   "kernels_config": {
    "python": {
     "delete_cmd_postfix": "",
     "delete_cmd_prefix": "del ",
     "library": "var_list.py",
     "varRefreshCmd": "print(var_dic_list())"
    },
    "r": {
     "delete_cmd_postfix": ") ",
     "delete_cmd_prefix": "rm(",
     "library": "var_list.r",
     "varRefreshCmd": "cat(var_dic_list()) "
    }
   },
   "types_to_exclude": [
    "module",
    "function",
    "builtin_function_or_method",
    "instance",
    "_Feature"
   ],
   "window_display": false
  }
 },
 "nbformat": 4,
 "nbformat_minor": 2
}
