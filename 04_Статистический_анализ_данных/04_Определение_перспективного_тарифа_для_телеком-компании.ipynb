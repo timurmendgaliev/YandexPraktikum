{
 "cells": [
  {
   "cell_type": "markdown",
   "metadata": {},
   "source": [
    "# Определение перспективного тарифа для телеком-компании"
   ]
  },
  {
   "cell_type": "markdown",
   "metadata": {},
   "source": [
    "В данном исследовании предстоит провести анализ между двумя тарифными планами телеком-компании «Мегалайн» — федерального оператора сотовой связи. Для того, чтобы скорректировать и оптимизировать рекламный бюджет, коммерческий департамен компании хочет понять, какой из тарифов приносит больше денег.\n",
    "\n",
    "Имеются данные о 500 пользователях услуг сотовой связи данного оператора: количество звонков, сообщений, используемого интернет трафика, персональная информация."
   ]
  },
  {
   "cell_type": "markdown",
   "metadata": {
    "toc": true
   },
   "source": [
    "<h1>Содержание<span class=\"tocSkip\"></span></h1>\n",
    "<div class=\"toc\"><ul class=\"toc-item\"><li><span><a href=\"#Изучение-данных-из-файлов\" data-toc-modified-id=\"Изучение-данных-из-файлов-1\"><span class=\"toc-item-num\">1&nbsp;&nbsp;</span>Изучение данных из файлов</a></span><ul class=\"toc-item\"><li><span><a href=\"#Информация-о-пользователях\" data-toc-modified-id=\"Информация-о-пользователях-1.1\"><span class=\"toc-item-num\">1.1&nbsp;&nbsp;</span>Информация о пользователях</a></span></li><li><span><a href=\"#Информация-о-звонках\" data-toc-modified-id=\"Информация-о-звонках-1.2\"><span class=\"toc-item-num\">1.2&nbsp;&nbsp;</span>Информация о звонках</a></span></li><li><span><a href=\"#Информация-об-отправленных-сообщениях\" data-toc-modified-id=\"Информация-об-отправленных-сообщениях-1.3\"><span class=\"toc-item-num\">1.3&nbsp;&nbsp;</span>Информация об отправленных сообщениях</a></span></li><li><span><a href=\"#Информация-об-использовании-интернет-трафика\" data-toc-modified-id=\"Информация-об-использовании-интернет-трафика-1.4\"><span class=\"toc-item-num\">1.4&nbsp;&nbsp;</span>Информация об использовании интернет-трафика</a></span></li><li><span><a href=\"#Информация-о-тарифах\" data-toc-modified-id=\"Информация-о-тарифах-1.5\"><span class=\"toc-item-num\">1.5&nbsp;&nbsp;</span>Информация о тарифах</a></span></li><li><span><a href=\"#Вывод\" data-toc-modified-id=\"Вывод-1.6\"><span class=\"toc-item-num\">1.6&nbsp;&nbsp;</span>Вывод</a></span></li></ul></li><li><span><a href=\"#Предобработка-данных\" data-toc-modified-id=\"Предобработка-данных-2\"><span class=\"toc-item-num\">2&nbsp;&nbsp;</span>Предобработка данных</a></span><ul class=\"toc-item\"><li><span><a href=\"#Обработка-пропусков\" data-toc-modified-id=\"Обработка-пропусков-2.1\"><span class=\"toc-item-num\">2.1&nbsp;&nbsp;</span>Обработка пропусков</a></span></li><li><span><a href=\"#Обработка-дубликатов\" data-toc-modified-id=\"Обработка-дубликатов-2.2\"><span class=\"toc-item-num\">2.2&nbsp;&nbsp;</span>Обработка дубликатов</a></span></li><li><span><a href=\"#Замена-типов-данных\" data-toc-modified-id=\"Замена-типов-данных-2.3\"><span class=\"toc-item-num\">2.3&nbsp;&nbsp;</span>Замена типов данных</a></span></li><li><span><a href=\"#Вывод\" data-toc-modified-id=\"Вывод-2.4\"><span class=\"toc-item-num\">2.4&nbsp;&nbsp;</span>Вывод</a></span></li></ul></li><li><span><a href=\"#Расчеты-и-добавление-результатов-в-таблицу\" data-toc-modified-id=\"Расчеты-и-добавление-результатов-в-таблицу-3\"><span class=\"toc-item-num\">3&nbsp;&nbsp;</span>Расчеты и добавление результатов в таблицу</a></span><ul class=\"toc-item\"><li><span><a href=\"#Рассчет-количества-звонков-и-израсходованных-минут-разговора-по-месяцам\" data-toc-modified-id=\"Рассчет-количества-звонков-и-израсходованных-минут-разговора-по-месяцам-3.1\"><span class=\"toc-item-num\">3.1&nbsp;&nbsp;</span>Рассчет количества звонков и израсходованных минут разговора по месяцам</a></span></li><li><span><a href=\"#Рассчет-отправленных-сообщений-по-месяцам\" data-toc-modified-id=\"Рассчет-отправленных-сообщений-по-месяцам-3.2\"><span class=\"toc-item-num\">3.2&nbsp;&nbsp;</span>Рассчет отправленных сообщений по месяцам</a></span></li><li><span><a href=\"#Рассчет-использованного-интернет-трафика-по-месяцам\" data-toc-modified-id=\"Рассчет-использованного-интернет-трафика-по-месяцам-3.3\"><span class=\"toc-item-num\">3.3&nbsp;&nbsp;</span>Рассчет использованного интернет-трафика по месяцам</a></span></li><li><span><a href=\"#Добавление-результатов-в-таблицу\" data-toc-modified-id=\"Добавление-результатов-в-таблицу-3.4\"><span class=\"toc-item-num\">3.4&nbsp;&nbsp;</span>Добавление результатов в таблицу</a></span></li><li><span><a href=\"#Рассчет-месячной-прибыли-с-клиента\" data-toc-modified-id=\"Рассчет-месячной-прибыли-с-клиента-3.5\"><span class=\"toc-item-num\">3.5&nbsp;&nbsp;</span>Рассчет месячной прибыли с клиента</a></span></li></ul></li><li><span><a href=\"#Исследовательский-анализ\" data-toc-modified-id=\"Исследовательский-анализ-4\"><span class=\"toc-item-num\">4&nbsp;&nbsp;</span>Исследовательский анализ</a></span><ul class=\"toc-item\"><li><span><a href=\"#Вывод\" data-toc-modified-id=\"Вывод-4.1\"><span class=\"toc-item-num\">4.1&nbsp;&nbsp;</span>Вывод</a></span></li></ul></li><li><span><a href=\"#Проверка-статистических-гипотез\" data-toc-modified-id=\"Проверка-статистических-гипотез-5\"><span class=\"toc-item-num\">5&nbsp;&nbsp;</span>Проверка статистических гипотез</a></span><ul class=\"toc-item\"><li><span><a href=\"#Гипотеза-о-средней-выручке-исследуемых-тарифов\" data-toc-modified-id=\"Гипотеза-о-средней-выручке-исследуемых-тарифов-5.1\"><span class=\"toc-item-num\">5.1&nbsp;&nbsp;</span>Гипотеза о средней выручке исследуемых тарифов</a></span></li><li><span><a href=\"#Гипотеза-о-разнице-средней-выручки-в-Москве-и-в-остальных-регионах\" data-toc-modified-id=\"Гипотеза-о-разнице-средней-выручки-в-Москве-и-в-остальных-регионах-5.2\"><span class=\"toc-item-num\">5.2&nbsp;&nbsp;</span>Гипотеза о разнице средней выручки в Москве и в остальных регионах</a></span></li><li><span><a href=\"#Вывод\" data-toc-modified-id=\"Вывод-5.3\"><span class=\"toc-item-num\">5.3&nbsp;&nbsp;</span>Вывод</a></span></li></ul></li><li><span><a href=\"#Общий-вывод\" data-toc-modified-id=\"Общий-вывод-6\"><span class=\"toc-item-num\">6&nbsp;&nbsp;</span>Общий вывод</a></span></li></ul></div>"
   ]
  },
  {
   "cell_type": "code",
   "execution_count": 1,
   "metadata": {},
   "outputs": [],
   "source": [
    "import pandas as pd\n",
    "import seaborn as sns\n",
    "import matplotlib.pyplot as plt\n",
    "import warnings\n",
    "import numpy as np\n",
    "import scipy.stats as st\n",
    "%matplotlib inline\n",
    "warnings.filterwarnings('ignore')\n",
    "pd.set_option('float_format', '{:.2f}'.format)\n",
    "pd.set_option('display.max_columns', 50)\n",
    "plt.rcParams['figure.figsize'] = 10.0, 6.0\n",
    "sns.set(color_codes=True)"
   ]
  },
  {
   "cell_type": "markdown",
   "metadata": {},
   "source": [
    "## Изучение данных из файлов"
   ]
  },
  {
   "cell_type": "code",
   "execution_count": 2,
   "metadata": {},
   "outputs": [],
   "source": [
    "users = pd.read_csv('/datasets/users.csv')\n",
    "tariffs = pd.read_csv('/datasets/tariffs.csv')\n",
    "calls = pd.read_csv('/datasets/calls.csv')\n",
    "messages = pd.read_csv('/datasets/messages.csv')\n",
    "internet = pd.read_csv('/datasets/internet.csv', index_col=0)"
   ]
  },
  {
   "cell_type": "markdown",
   "metadata": {},
   "source": [
    "### Информация о пользователях"
   ]
  },
  {
   "cell_type": "markdown",
   "metadata": {},
   "source": [
    "Изучим первые пять строк в таблице:"
   ]
  },
  {
   "cell_type": "code",
   "execution_count": 3,
   "metadata": {},
   "outputs": [
    {
     "data": {
      "text/html": [
       "<div>\n",
       "<style scoped>\n",
       "    .dataframe tbody tr th:only-of-type {\n",
       "        vertical-align: middle;\n",
       "    }\n",
       "\n",
       "    .dataframe tbody tr th {\n",
       "        vertical-align: top;\n",
       "    }\n",
       "\n",
       "    .dataframe thead th {\n",
       "        text-align: right;\n",
       "    }\n",
       "</style>\n",
       "<table border=\"1\" class=\"dataframe\">\n",
       "  <thead>\n",
       "    <tr style=\"text-align: right;\">\n",
       "      <th></th>\n",
       "      <th>user_id</th>\n",
       "      <th>age</th>\n",
       "      <th>churn_date</th>\n",
       "      <th>city</th>\n",
       "      <th>first_name</th>\n",
       "      <th>last_name</th>\n",
       "      <th>reg_date</th>\n",
       "      <th>tariff</th>\n",
       "    </tr>\n",
       "  </thead>\n",
       "  <tbody>\n",
       "    <tr>\n",
       "      <td>0</td>\n",
       "      <td>1000</td>\n",
       "      <td>52</td>\n",
       "      <td>NaN</td>\n",
       "      <td>Краснодар</td>\n",
       "      <td>Рафаил</td>\n",
       "      <td>Верещагин</td>\n",
       "      <td>2018-05-25</td>\n",
       "      <td>ultra</td>\n",
       "    </tr>\n",
       "    <tr>\n",
       "      <td>1</td>\n",
       "      <td>1001</td>\n",
       "      <td>41</td>\n",
       "      <td>NaN</td>\n",
       "      <td>Москва</td>\n",
       "      <td>Иван</td>\n",
       "      <td>Ежов</td>\n",
       "      <td>2018-11-01</td>\n",
       "      <td>smart</td>\n",
       "    </tr>\n",
       "    <tr>\n",
       "      <td>2</td>\n",
       "      <td>1002</td>\n",
       "      <td>59</td>\n",
       "      <td>NaN</td>\n",
       "      <td>Стерлитамак</td>\n",
       "      <td>Евгений</td>\n",
       "      <td>Абрамович</td>\n",
       "      <td>2018-06-17</td>\n",
       "      <td>smart</td>\n",
       "    </tr>\n",
       "    <tr>\n",
       "      <td>3</td>\n",
       "      <td>1003</td>\n",
       "      <td>23</td>\n",
       "      <td>NaN</td>\n",
       "      <td>Москва</td>\n",
       "      <td>Белла</td>\n",
       "      <td>Белякова</td>\n",
       "      <td>2018-08-17</td>\n",
       "      <td>ultra</td>\n",
       "    </tr>\n",
       "    <tr>\n",
       "      <td>4</td>\n",
       "      <td>1004</td>\n",
       "      <td>68</td>\n",
       "      <td>NaN</td>\n",
       "      <td>Новокузнецк</td>\n",
       "      <td>Татьяна</td>\n",
       "      <td>Авдеенко</td>\n",
       "      <td>2018-05-14</td>\n",
       "      <td>ultra</td>\n",
       "    </tr>\n",
       "  </tbody>\n",
       "</table>\n",
       "</div>"
      ],
      "text/plain": [
       "   user_id  age churn_date         city first_name  last_name    reg_date  \\\n",
       "0     1000   52        NaN    Краснодар     Рафаил  Верещагин  2018-05-25   \n",
       "1     1001   41        NaN       Москва       Иван       Ежов  2018-11-01   \n",
       "2     1002   59        NaN  Стерлитамак    Евгений  Абрамович  2018-06-17   \n",
       "3     1003   23        NaN       Москва      Белла   Белякова  2018-08-17   \n",
       "4     1004   68        NaN  Новокузнецк    Татьяна   Авдеенко  2018-05-14   \n",
       "\n",
       "  tariff  \n",
       "0  ultra  \n",
       "1  smart  \n",
       "2  smart  \n",
       "3  ultra  \n",
       "4  ultra  "
      ]
     },
     "execution_count": 3,
     "metadata": {},
     "output_type": "execute_result"
    }
   ],
   "source": [
    "users.head()"
   ]
  },
  {
   "cell_type": "markdown",
   "metadata": {},
   "source": [
    "**Согласно документации к таблице `users`:**\n",
    "* *user_id* — уникальный идентификатор пользователя\n",
    "* *first_name* — имя пользователя\n",
    "* *last_name* — фамилия пользователя\n",
    "* *age* — возраст пользователя (годы)\n",
    "* *reg_date* — дата подключения тарифа (день, месяц, год)\n",
    "* *churn_date* — дата прекращения пользования тарифом (если значение пропущено, то тариф ещё действовал на момент выгрузки данных)\n",
    "* *city* — город проживания пользователя\n",
    "* *tariff* — название тарифного плана"
   ]
  },
  {
   "cell_type": "markdown",
   "metadata": {},
   "source": [
    "Изучим последние пять строк в таблице:"
   ]
  },
  {
   "cell_type": "code",
   "execution_count": 4,
   "metadata": {},
   "outputs": [
    {
     "data": {
      "text/html": [
       "<div>\n",
       "<style scoped>\n",
       "    .dataframe tbody tr th:only-of-type {\n",
       "        vertical-align: middle;\n",
       "    }\n",
       "\n",
       "    .dataframe tbody tr th {\n",
       "        vertical-align: top;\n",
       "    }\n",
       "\n",
       "    .dataframe thead th {\n",
       "        text-align: right;\n",
       "    }\n",
       "</style>\n",
       "<table border=\"1\" class=\"dataframe\">\n",
       "  <thead>\n",
       "    <tr style=\"text-align: right;\">\n",
       "      <th></th>\n",
       "      <th>user_id</th>\n",
       "      <th>age</th>\n",
       "      <th>churn_date</th>\n",
       "      <th>city</th>\n",
       "      <th>first_name</th>\n",
       "      <th>last_name</th>\n",
       "      <th>reg_date</th>\n",
       "      <th>tariff</th>\n",
       "    </tr>\n",
       "  </thead>\n",
       "  <tbody>\n",
       "    <tr>\n",
       "      <td>495</td>\n",
       "      <td>1495</td>\n",
       "      <td>65</td>\n",
       "      <td>NaN</td>\n",
       "      <td>Иркутск</td>\n",
       "      <td>Авксентий</td>\n",
       "      <td>Фокин</td>\n",
       "      <td>2018-08-28</td>\n",
       "      <td>ultra</td>\n",
       "    </tr>\n",
       "    <tr>\n",
       "      <td>496</td>\n",
       "      <td>1496</td>\n",
       "      <td>36</td>\n",
       "      <td>NaN</td>\n",
       "      <td>Вологда</td>\n",
       "      <td>Трифон</td>\n",
       "      <td>Блохин</td>\n",
       "      <td>2018-01-27</td>\n",
       "      <td>smart</td>\n",
       "    </tr>\n",
       "    <tr>\n",
       "      <td>497</td>\n",
       "      <td>1497</td>\n",
       "      <td>32</td>\n",
       "      <td>NaN</td>\n",
       "      <td>Челябинск</td>\n",
       "      <td>Каролина</td>\n",
       "      <td>Агеева</td>\n",
       "      <td>2018-10-09</td>\n",
       "      <td>smart</td>\n",
       "    </tr>\n",
       "    <tr>\n",
       "      <td>498</td>\n",
       "      <td>1498</td>\n",
       "      <td>68</td>\n",
       "      <td>2018-10-25</td>\n",
       "      <td>Владикавказ</td>\n",
       "      <td>Всеволод</td>\n",
       "      <td>Акимчин</td>\n",
       "      <td>2018-07-19</td>\n",
       "      <td>smart</td>\n",
       "    </tr>\n",
       "    <tr>\n",
       "      <td>499</td>\n",
       "      <td>1499</td>\n",
       "      <td>35</td>\n",
       "      <td>NaN</td>\n",
       "      <td>Пермь</td>\n",
       "      <td>Гектор</td>\n",
       "      <td>Корнилов</td>\n",
       "      <td>2018-09-27</td>\n",
       "      <td>smart</td>\n",
       "    </tr>\n",
       "  </tbody>\n",
       "</table>\n",
       "</div>"
      ],
      "text/plain": [
       "     user_id  age  churn_date         city first_name last_name    reg_date  \\\n",
       "495     1495   65         NaN      Иркутск  Авксентий     Фокин  2018-08-28   \n",
       "496     1496   36         NaN      Вологда     Трифон    Блохин  2018-01-27   \n",
       "497     1497   32         NaN    Челябинск   Каролина    Агеева  2018-10-09   \n",
       "498     1498   68  2018-10-25  Владикавказ   Всеволод   Акимчин  2018-07-19   \n",
       "499     1499   35         NaN        Пермь     Гектор  Корнилов  2018-09-27   \n",
       "\n",
       "    tariff  \n",
       "495  ultra  \n",
       "496  smart  \n",
       "497  smart  \n",
       "498  smart  \n",
       "499  smart  "
      ]
     },
     "execution_count": 4,
     "metadata": {},
     "output_type": "execute_result"
    }
   ],
   "source": [
    "users.tail()"
   ]
  },
  {
   "cell_type": "markdown",
   "metadata": {},
   "source": [
    "Изучим пять случайных строк в таблице:"
   ]
  },
  {
   "cell_type": "code",
   "execution_count": 5,
   "metadata": {},
   "outputs": [
    {
     "data": {
      "text/html": [
       "<div>\n",
       "<style scoped>\n",
       "    .dataframe tbody tr th:only-of-type {\n",
       "        vertical-align: middle;\n",
       "    }\n",
       "\n",
       "    .dataframe tbody tr th {\n",
       "        vertical-align: top;\n",
       "    }\n",
       "\n",
       "    .dataframe thead th {\n",
       "        text-align: right;\n",
       "    }\n",
       "</style>\n",
       "<table border=\"1\" class=\"dataframe\">\n",
       "  <thead>\n",
       "    <tr style=\"text-align: right;\">\n",
       "      <th></th>\n",
       "      <th>user_id</th>\n",
       "      <th>age</th>\n",
       "      <th>churn_date</th>\n",
       "      <th>city</th>\n",
       "      <th>first_name</th>\n",
       "      <th>last_name</th>\n",
       "      <th>reg_date</th>\n",
       "      <th>tariff</th>\n",
       "    </tr>\n",
       "  </thead>\n",
       "  <tbody>\n",
       "    <tr>\n",
       "      <td>292</td>\n",
       "      <td>1292</td>\n",
       "      <td>63</td>\n",
       "      <td>NaN</td>\n",
       "      <td>Красноярск</td>\n",
       "      <td>Веселина</td>\n",
       "      <td>Алексеенко</td>\n",
       "      <td>2018-02-21</td>\n",
       "      <td>ultra</td>\n",
       "    </tr>\n",
       "    <tr>\n",
       "      <td>337</td>\n",
       "      <td>1337</td>\n",
       "      <td>42</td>\n",
       "      <td>NaN</td>\n",
       "      <td>Вологда</td>\n",
       "      <td>Олег</td>\n",
       "      <td>Суслов</td>\n",
       "      <td>2018-01-15</td>\n",
       "      <td>smart</td>\n",
       "    </tr>\n",
       "    <tr>\n",
       "      <td>430</td>\n",
       "      <td>1430</td>\n",
       "      <td>22</td>\n",
       "      <td>NaN</td>\n",
       "      <td>Тверь</td>\n",
       "      <td>Андрей</td>\n",
       "      <td>Авроров</td>\n",
       "      <td>2018-04-23</td>\n",
       "      <td>ultra</td>\n",
       "    </tr>\n",
       "    <tr>\n",
       "      <td>399</td>\n",
       "      <td>1399</td>\n",
       "      <td>31</td>\n",
       "      <td>2018-12-25</td>\n",
       "      <td>Уфа</td>\n",
       "      <td>Алиса</td>\n",
       "      <td>Абрашина</td>\n",
       "      <td>2018-11-06</td>\n",
       "      <td>ultra</td>\n",
       "    </tr>\n",
       "    <tr>\n",
       "      <td>380</td>\n",
       "      <td>1380</td>\n",
       "      <td>45</td>\n",
       "      <td>NaN</td>\n",
       "      <td>Ростов-на-Дону</td>\n",
       "      <td>Доминика</td>\n",
       "      <td>Карасева</td>\n",
       "      <td>2018-05-07</td>\n",
       "      <td>ultra</td>\n",
       "    </tr>\n",
       "  </tbody>\n",
       "</table>\n",
       "</div>"
      ],
      "text/plain": [
       "     user_id  age  churn_date            city first_name   last_name  \\\n",
       "292     1292   63         NaN      Красноярск   Веселина  Алексеенко   \n",
       "337     1337   42         NaN         Вологда       Олег      Суслов   \n",
       "430     1430   22         NaN           Тверь     Андрей     Авроров   \n",
       "399     1399   31  2018-12-25             Уфа      Алиса    Абрашина   \n",
       "380     1380   45         NaN  Ростов-на-Дону   Доминика    Карасева   \n",
       "\n",
       "       reg_date tariff  \n",
       "292  2018-02-21  ultra  \n",
       "337  2018-01-15  smart  \n",
       "430  2018-04-23  ultra  \n",
       "399  2018-11-06  ultra  \n",
       "380  2018-05-07  ultra  "
      ]
     },
     "execution_count": 5,
     "metadata": {},
     "output_type": "execute_result"
    }
   ],
   "source": [
    "users.sample(5, random_state=111)"
   ]
  },
  {
   "cell_type": "markdown",
   "metadata": {},
   "source": [
    "Основная информация:"
   ]
  },
  {
   "cell_type": "code",
   "execution_count": 6,
   "metadata": {},
   "outputs": [
    {
     "name": "stdout",
     "output_type": "stream",
     "text": [
      "<class 'pandas.core.frame.DataFrame'>\n",
      "RangeIndex: 500 entries, 0 to 499\n",
      "Data columns (total 8 columns):\n",
      "user_id       500 non-null int64\n",
      "age           500 non-null int64\n",
      "churn_date    38 non-null object\n",
      "city          500 non-null object\n",
      "first_name    500 non-null object\n",
      "last_name     500 non-null object\n",
      "reg_date      500 non-null object\n",
      "tariff        500 non-null object\n",
      "dtypes: int64(2), object(6)\n",
      "memory usage: 31.4+ KB\n"
     ]
    }
   ],
   "source": [
    "users.info()"
   ]
  },
  {
   "cell_type": "markdown",
   "metadata": {},
   "source": [
    "Информацию об описательных статистиках разумно выбрать только для столбца `age`:"
   ]
  },
  {
   "cell_type": "code",
   "execution_count": 7,
   "metadata": {},
   "outputs": [
    {
     "data": {
      "text/plain": [
       "count   500.00\n",
       "mean     46.59\n",
       "std      16.67\n",
       "min      18.00\n",
       "25%      32.00\n",
       "50%      46.00\n",
       "75%      62.00\n",
       "max      75.00\n",
       "Name: age, dtype: float64"
      ]
     },
     "execution_count": 7,
     "metadata": {},
     "output_type": "execute_result"
    }
   ],
   "source": [
    "users['age'].describe()"
   ]
  },
  {
   "cell_type": "markdown",
   "metadata": {},
   "source": [
    "### Информация о звонках"
   ]
  },
  {
   "cell_type": "markdown",
   "metadata": {},
   "source": [
    "Изучим первые пять строк в таблице:"
   ]
  },
  {
   "cell_type": "code",
   "execution_count": 8,
   "metadata": {},
   "outputs": [
    {
     "data": {
      "text/html": [
       "<div>\n",
       "<style scoped>\n",
       "    .dataframe tbody tr th:only-of-type {\n",
       "        vertical-align: middle;\n",
       "    }\n",
       "\n",
       "    .dataframe tbody tr th {\n",
       "        vertical-align: top;\n",
       "    }\n",
       "\n",
       "    .dataframe thead th {\n",
       "        text-align: right;\n",
       "    }\n",
       "</style>\n",
       "<table border=\"1\" class=\"dataframe\">\n",
       "  <thead>\n",
       "    <tr style=\"text-align: right;\">\n",
       "      <th></th>\n",
       "      <th>id</th>\n",
       "      <th>call_date</th>\n",
       "      <th>duration</th>\n",
       "      <th>user_id</th>\n",
       "    </tr>\n",
       "  </thead>\n",
       "  <tbody>\n",
       "    <tr>\n",
       "      <td>0</td>\n",
       "      <td>1000_0</td>\n",
       "      <td>2018-07-25</td>\n",
       "      <td>0.00</td>\n",
       "      <td>1000</td>\n",
       "    </tr>\n",
       "    <tr>\n",
       "      <td>1</td>\n",
       "      <td>1000_1</td>\n",
       "      <td>2018-08-17</td>\n",
       "      <td>0.00</td>\n",
       "      <td>1000</td>\n",
       "    </tr>\n",
       "    <tr>\n",
       "      <td>2</td>\n",
       "      <td>1000_2</td>\n",
       "      <td>2018-06-11</td>\n",
       "      <td>2.85</td>\n",
       "      <td>1000</td>\n",
       "    </tr>\n",
       "    <tr>\n",
       "      <td>3</td>\n",
       "      <td>1000_3</td>\n",
       "      <td>2018-09-21</td>\n",
       "      <td>13.80</td>\n",
       "      <td>1000</td>\n",
       "    </tr>\n",
       "    <tr>\n",
       "      <td>4</td>\n",
       "      <td>1000_4</td>\n",
       "      <td>2018-12-15</td>\n",
       "      <td>5.18</td>\n",
       "      <td>1000</td>\n",
       "    </tr>\n",
       "  </tbody>\n",
       "</table>\n",
       "</div>"
      ],
      "text/plain": [
       "       id   call_date  duration  user_id\n",
       "0  1000_0  2018-07-25      0.00     1000\n",
       "1  1000_1  2018-08-17      0.00     1000\n",
       "2  1000_2  2018-06-11      2.85     1000\n",
       "3  1000_3  2018-09-21     13.80     1000\n",
       "4  1000_4  2018-12-15      5.18     1000"
      ]
     },
     "execution_count": 8,
     "metadata": {},
     "output_type": "execute_result"
    }
   ],
   "source": [
    "calls.head()"
   ]
  },
  {
   "cell_type": "markdown",
   "metadata": {},
   "source": [
    "**Согласно документации к таблице `calls`:**\n",
    "* *id* — уникальный номер звонка\n",
    "* *call_date* — дата звонка\n",
    "* *duraion* — длительность звонка в минутах\n",
    "* *user_id* — идентификатор пользователя, сделавшего звонок"
   ]
  },
  {
   "cell_type": "markdown",
   "metadata": {},
   "source": [
    "Изучим последние пять строк в таблице:"
   ]
  },
  {
   "cell_type": "code",
   "execution_count": 9,
   "metadata": {},
   "outputs": [
    {
     "data": {
      "text/html": [
       "<div>\n",
       "<style scoped>\n",
       "    .dataframe tbody tr th:only-of-type {\n",
       "        vertical-align: middle;\n",
       "    }\n",
       "\n",
       "    .dataframe tbody tr th {\n",
       "        vertical-align: top;\n",
       "    }\n",
       "\n",
       "    .dataframe thead th {\n",
       "        text-align: right;\n",
       "    }\n",
       "</style>\n",
       "<table border=\"1\" class=\"dataframe\">\n",
       "  <thead>\n",
       "    <tr style=\"text-align: right;\">\n",
       "      <th></th>\n",
       "      <th>id</th>\n",
       "      <th>call_date</th>\n",
       "      <th>duration</th>\n",
       "      <th>user_id</th>\n",
       "    </tr>\n",
       "  </thead>\n",
       "  <tbody>\n",
       "    <tr>\n",
       "      <td>202602</td>\n",
       "      <td>1499_215</td>\n",
       "      <td>2018-12-26</td>\n",
       "      <td>0.76</td>\n",
       "      <td>1499</td>\n",
       "    </tr>\n",
       "    <tr>\n",
       "      <td>202603</td>\n",
       "      <td>1499_216</td>\n",
       "      <td>2018-10-18</td>\n",
       "      <td>18.83</td>\n",
       "      <td>1499</td>\n",
       "    </tr>\n",
       "    <tr>\n",
       "      <td>202604</td>\n",
       "      <td>1499_217</td>\n",
       "      <td>2018-11-10</td>\n",
       "      <td>10.81</td>\n",
       "      <td>1499</td>\n",
       "    </tr>\n",
       "    <tr>\n",
       "      <td>202605</td>\n",
       "      <td>1499_218</td>\n",
       "      <td>2018-10-06</td>\n",
       "      <td>4.27</td>\n",
       "      <td>1499</td>\n",
       "    </tr>\n",
       "    <tr>\n",
       "      <td>202606</td>\n",
       "      <td>1499_219</td>\n",
       "      <td>2018-12-14</td>\n",
       "      <td>19.62</td>\n",
       "      <td>1499</td>\n",
       "    </tr>\n",
       "  </tbody>\n",
       "</table>\n",
       "</div>"
      ],
      "text/plain": [
       "              id   call_date  duration  user_id\n",
       "202602  1499_215  2018-12-26      0.76     1499\n",
       "202603  1499_216  2018-10-18     18.83     1499\n",
       "202604  1499_217  2018-11-10     10.81     1499\n",
       "202605  1499_218  2018-10-06      4.27     1499\n",
       "202606  1499_219  2018-12-14     19.62     1499"
      ]
     },
     "execution_count": 9,
     "metadata": {},
     "output_type": "execute_result"
    }
   ],
   "source": [
    "calls.tail()"
   ]
  },
  {
   "cell_type": "markdown",
   "metadata": {},
   "source": [
    "Изучим пять случайных строк в таблице:"
   ]
  },
  {
   "cell_type": "code",
   "execution_count": 10,
   "metadata": {},
   "outputs": [
    {
     "data": {
      "text/html": [
       "<div>\n",
       "<style scoped>\n",
       "    .dataframe tbody tr th:only-of-type {\n",
       "        vertical-align: middle;\n",
       "    }\n",
       "\n",
       "    .dataframe tbody tr th {\n",
       "        vertical-align: top;\n",
       "    }\n",
       "\n",
       "    .dataframe thead th {\n",
       "        text-align: right;\n",
       "    }\n",
       "</style>\n",
       "<table border=\"1\" class=\"dataframe\">\n",
       "  <thead>\n",
       "    <tr style=\"text-align: right;\">\n",
       "      <th></th>\n",
       "      <th>id</th>\n",
       "      <th>call_date</th>\n",
       "      <th>duration</th>\n",
       "      <th>user_id</th>\n",
       "    </tr>\n",
       "  </thead>\n",
       "  <tbody>\n",
       "    <tr>\n",
       "      <td>92806</td>\n",
       "      <td>1233_151</td>\n",
       "      <td>2018-09-12</td>\n",
       "      <td>14.72</td>\n",
       "      <td>1233</td>\n",
       "    </tr>\n",
       "    <tr>\n",
       "      <td>200979</td>\n",
       "      <td>1495_366</td>\n",
       "      <td>2018-12-15</td>\n",
       "      <td>2.40</td>\n",
       "      <td>1495</td>\n",
       "    </tr>\n",
       "    <tr>\n",
       "      <td>118056</td>\n",
       "      <td>1303_324</td>\n",
       "      <td>2018-08-18</td>\n",
       "      <td>8.21</td>\n",
       "      <td>1303</td>\n",
       "    </tr>\n",
       "    <tr>\n",
       "      <td>27183</td>\n",
       "      <td>1067_93</td>\n",
       "      <td>2018-07-27</td>\n",
       "      <td>14.98</td>\n",
       "      <td>1067</td>\n",
       "    </tr>\n",
       "    <tr>\n",
       "      <td>110949</td>\n",
       "      <td>1284_547</td>\n",
       "      <td>2018-10-06</td>\n",
       "      <td>7.46</td>\n",
       "      <td>1284</td>\n",
       "    </tr>\n",
       "  </tbody>\n",
       "</table>\n",
       "</div>"
      ],
      "text/plain": [
       "              id   call_date  duration  user_id\n",
       "92806   1233_151  2018-09-12     14.72     1233\n",
       "200979  1495_366  2018-12-15      2.40     1495\n",
       "118056  1303_324  2018-08-18      8.21     1303\n",
       "27183    1067_93  2018-07-27     14.98     1067\n",
       "110949  1284_547  2018-10-06      7.46     1284"
      ]
     },
     "execution_count": 10,
     "metadata": {},
     "output_type": "execute_result"
    }
   ],
   "source": [
    "calls.sample(5, random_state=111)"
   ]
  },
  {
   "cell_type": "markdown",
   "metadata": {},
   "source": [
    "Основная информация:"
   ]
  },
  {
   "cell_type": "code",
   "execution_count": 11,
   "metadata": {},
   "outputs": [
    {
     "name": "stdout",
     "output_type": "stream",
     "text": [
      "<class 'pandas.core.frame.DataFrame'>\n",
      "RangeIndex: 202607 entries, 0 to 202606\n",
      "Data columns (total 4 columns):\n",
      "id           202607 non-null object\n",
      "call_date    202607 non-null object\n",
      "duration     202607 non-null float64\n",
      "user_id      202607 non-null int64\n",
      "dtypes: float64(1), int64(1), object(2)\n",
      "memory usage: 6.2+ MB\n"
     ]
    }
   ],
   "source": [
    "calls.info()"
   ]
  },
  {
   "cell_type": "markdown",
   "metadata": {},
   "source": [
    "Информацию об описательных статистиках разумно выбрать только для столбца `duration`:"
   ]
  },
  {
   "cell_type": "code",
   "execution_count": 12,
   "metadata": {},
   "outputs": [
    {
     "data": {
      "text/plain": [
       "count   202607.00\n",
       "mean         6.76\n",
       "std          5.84\n",
       "min          0.00\n",
       "25%          1.30\n",
       "50%          6.00\n",
       "75%         10.70\n",
       "max         38.00\n",
       "Name: duration, dtype: float64"
      ]
     },
     "execution_count": 12,
     "metadata": {},
     "output_type": "execute_result"
    }
   ],
   "source": [
    "calls['duration'].describe()"
   ]
  },
  {
   "cell_type": "markdown",
   "metadata": {},
   "source": [
    "### Информация об отправленных сообщениях"
   ]
  },
  {
   "cell_type": "markdown",
   "metadata": {},
   "source": [
    "Изучим первые пять строк таблицы:"
   ]
  },
  {
   "cell_type": "code",
   "execution_count": 13,
   "metadata": {},
   "outputs": [
    {
     "data": {
      "text/html": [
       "<div>\n",
       "<style scoped>\n",
       "    .dataframe tbody tr th:only-of-type {\n",
       "        vertical-align: middle;\n",
       "    }\n",
       "\n",
       "    .dataframe tbody tr th {\n",
       "        vertical-align: top;\n",
       "    }\n",
       "\n",
       "    .dataframe thead th {\n",
       "        text-align: right;\n",
       "    }\n",
       "</style>\n",
       "<table border=\"1\" class=\"dataframe\">\n",
       "  <thead>\n",
       "    <tr style=\"text-align: right;\">\n",
       "      <th></th>\n",
       "      <th>id</th>\n",
       "      <th>message_date</th>\n",
       "      <th>user_id</th>\n",
       "    </tr>\n",
       "  </thead>\n",
       "  <tbody>\n",
       "    <tr>\n",
       "      <td>0</td>\n",
       "      <td>1000_0</td>\n",
       "      <td>2018-06-27</td>\n",
       "      <td>1000</td>\n",
       "    </tr>\n",
       "    <tr>\n",
       "      <td>1</td>\n",
       "      <td>1000_1</td>\n",
       "      <td>2018-10-08</td>\n",
       "      <td>1000</td>\n",
       "    </tr>\n",
       "    <tr>\n",
       "      <td>2</td>\n",
       "      <td>1000_2</td>\n",
       "      <td>2018-08-04</td>\n",
       "      <td>1000</td>\n",
       "    </tr>\n",
       "    <tr>\n",
       "      <td>3</td>\n",
       "      <td>1000_3</td>\n",
       "      <td>2018-06-16</td>\n",
       "      <td>1000</td>\n",
       "    </tr>\n",
       "    <tr>\n",
       "      <td>4</td>\n",
       "      <td>1000_4</td>\n",
       "      <td>2018-12-05</td>\n",
       "      <td>1000</td>\n",
       "    </tr>\n",
       "  </tbody>\n",
       "</table>\n",
       "</div>"
      ],
      "text/plain": [
       "       id message_date  user_id\n",
       "0  1000_0   2018-06-27     1000\n",
       "1  1000_1   2018-10-08     1000\n",
       "2  1000_2   2018-08-04     1000\n",
       "3  1000_3   2018-06-16     1000\n",
       "4  1000_4   2018-12-05     1000"
      ]
     },
     "execution_count": 13,
     "metadata": {},
     "output_type": "execute_result"
    }
   ],
   "source": [
    "messages.head()"
   ]
  },
  {
   "cell_type": "markdown",
   "metadata": {},
   "source": [
    "**Согласно документации к таблице `messages`:**\n",
    "* *id* — уникальный номер сообщения\n",
    "* *message_data* — дата сообщения\n",
    "* *user_id* — идентификатор пользователя, отправившего сообщение"
   ]
  },
  {
   "cell_type": "markdown",
   "metadata": {},
   "source": [
    "Изучим последние пять строк таблицы:"
   ]
  },
  {
   "cell_type": "code",
   "execution_count": 14,
   "metadata": {},
   "outputs": [
    {
     "data": {
      "text/html": [
       "<div>\n",
       "<style scoped>\n",
       "    .dataframe tbody tr th:only-of-type {\n",
       "        vertical-align: middle;\n",
       "    }\n",
       "\n",
       "    .dataframe tbody tr th {\n",
       "        vertical-align: top;\n",
       "    }\n",
       "\n",
       "    .dataframe thead th {\n",
       "        text-align: right;\n",
       "    }\n",
       "</style>\n",
       "<table border=\"1\" class=\"dataframe\">\n",
       "  <thead>\n",
       "    <tr style=\"text-align: right;\">\n",
       "      <th></th>\n",
       "      <th>id</th>\n",
       "      <th>message_date</th>\n",
       "      <th>user_id</th>\n",
       "    </tr>\n",
       "  </thead>\n",
       "  <tbody>\n",
       "    <tr>\n",
       "      <td>123031</td>\n",
       "      <td>1499_179</td>\n",
       "      <td>2018-12-12</td>\n",
       "      <td>1499</td>\n",
       "    </tr>\n",
       "    <tr>\n",
       "      <td>123032</td>\n",
       "      <td>1499_180</td>\n",
       "      <td>2018-09-28</td>\n",
       "      <td>1499</td>\n",
       "    </tr>\n",
       "    <tr>\n",
       "      <td>123033</td>\n",
       "      <td>1499_181</td>\n",
       "      <td>2018-09-27</td>\n",
       "      <td>1499</td>\n",
       "    </tr>\n",
       "    <tr>\n",
       "      <td>123034</td>\n",
       "      <td>1499_182</td>\n",
       "      <td>2018-11-15</td>\n",
       "      <td>1499</td>\n",
       "    </tr>\n",
       "    <tr>\n",
       "      <td>123035</td>\n",
       "      <td>1499_183</td>\n",
       "      <td>2018-11-16</td>\n",
       "      <td>1499</td>\n",
       "    </tr>\n",
       "  </tbody>\n",
       "</table>\n",
       "</div>"
      ],
      "text/plain": [
       "              id message_date  user_id\n",
       "123031  1499_179   2018-12-12     1499\n",
       "123032  1499_180   2018-09-28     1499\n",
       "123033  1499_181   2018-09-27     1499\n",
       "123034  1499_182   2018-11-15     1499\n",
       "123035  1499_183   2018-11-16     1499"
      ]
     },
     "execution_count": 14,
     "metadata": {},
     "output_type": "execute_result"
    }
   ],
   "source": [
    "messages.tail()"
   ]
  },
  {
   "cell_type": "markdown",
   "metadata": {},
   "source": [
    "Изучим пять случайных строк таблицы:"
   ]
  },
  {
   "cell_type": "code",
   "execution_count": 15,
   "metadata": {},
   "outputs": [
    {
     "data": {
      "text/html": [
       "<div>\n",
       "<style scoped>\n",
       "    .dataframe tbody tr th:only-of-type {\n",
       "        vertical-align: middle;\n",
       "    }\n",
       "\n",
       "    .dataframe tbody tr th {\n",
       "        vertical-align: top;\n",
       "    }\n",
       "\n",
       "    .dataframe thead th {\n",
       "        text-align: right;\n",
       "    }\n",
       "</style>\n",
       "<table border=\"1\" class=\"dataframe\">\n",
       "  <thead>\n",
       "    <tr style=\"text-align: right;\">\n",
       "      <th></th>\n",
       "      <th>id</th>\n",
       "      <th>message_date</th>\n",
       "      <th>user_id</th>\n",
       "    </tr>\n",
       "  </thead>\n",
       "  <tbody>\n",
       "    <tr>\n",
       "      <td>48024</td>\n",
       "      <td>1213_103</td>\n",
       "      <td>2018-10-09</td>\n",
       "      <td>1213</td>\n",
       "    </tr>\n",
       "    <tr>\n",
       "      <td>57450</td>\n",
       "      <td>1251_914</td>\n",
       "      <td>2018-08-19</td>\n",
       "      <td>1251</td>\n",
       "    </tr>\n",
       "    <tr>\n",
       "      <td>30509</td>\n",
       "      <td>1134_227</td>\n",
       "      <td>2018-11-03</td>\n",
       "      <td>1134</td>\n",
       "    </tr>\n",
       "    <tr>\n",
       "      <td>31356</td>\n",
       "      <td>1138_27</td>\n",
       "      <td>2018-11-23</td>\n",
       "      <td>1138</td>\n",
       "    </tr>\n",
       "    <tr>\n",
       "      <td>91736</td>\n",
       "      <td>1379_422</td>\n",
       "      <td>2018-10-15</td>\n",
       "      <td>1379</td>\n",
       "    </tr>\n",
       "  </tbody>\n",
       "</table>\n",
       "</div>"
      ],
      "text/plain": [
       "             id message_date  user_id\n",
       "48024  1213_103   2018-10-09     1213\n",
       "57450  1251_914   2018-08-19     1251\n",
       "30509  1134_227   2018-11-03     1134\n",
       "31356   1138_27   2018-11-23     1138\n",
       "91736  1379_422   2018-10-15     1379"
      ]
     },
     "execution_count": 15,
     "metadata": {},
     "output_type": "execute_result"
    }
   ],
   "source": [
    "messages.sample(5, random_state=5)"
   ]
  },
  {
   "cell_type": "markdown",
   "metadata": {},
   "source": [
    "Основная информация:"
   ]
  },
  {
   "cell_type": "code",
   "execution_count": 16,
   "metadata": {},
   "outputs": [
    {
     "name": "stdout",
     "output_type": "stream",
     "text": [
      "<class 'pandas.core.frame.DataFrame'>\n",
      "RangeIndex: 123036 entries, 0 to 123035\n",
      "Data columns (total 3 columns):\n",
      "id              123036 non-null object\n",
      "message_date    123036 non-null object\n",
      "user_id         123036 non-null int64\n",
      "dtypes: int64(1), object(2)\n",
      "memory usage: 2.8+ MB\n"
     ]
    }
   ],
   "source": [
    "messages.info()"
   ]
  },
  {
   "cell_type": "markdown",
   "metadata": {},
   "source": [
    "### Информация об использовании интернет-трафика"
   ]
  },
  {
   "cell_type": "markdown",
   "metadata": {},
   "source": [
    "Изучим первые пять строк таблицы:"
   ]
  },
  {
   "cell_type": "code",
   "execution_count": 17,
   "metadata": {},
   "outputs": [
    {
     "data": {
      "text/html": [
       "<div>\n",
       "<style scoped>\n",
       "    .dataframe tbody tr th:only-of-type {\n",
       "        vertical-align: middle;\n",
       "    }\n",
       "\n",
       "    .dataframe tbody tr th {\n",
       "        vertical-align: top;\n",
       "    }\n",
       "\n",
       "    .dataframe thead th {\n",
       "        text-align: right;\n",
       "    }\n",
       "</style>\n",
       "<table border=\"1\" class=\"dataframe\">\n",
       "  <thead>\n",
       "    <tr style=\"text-align: right;\">\n",
       "      <th></th>\n",
       "      <th>id</th>\n",
       "      <th>mb_used</th>\n",
       "      <th>session_date</th>\n",
       "      <th>user_id</th>\n",
       "    </tr>\n",
       "  </thead>\n",
       "  <tbody>\n",
       "    <tr>\n",
       "      <td>0</td>\n",
       "      <td>1000_0</td>\n",
       "      <td>112.95</td>\n",
       "      <td>2018-11-25</td>\n",
       "      <td>1000</td>\n",
       "    </tr>\n",
       "    <tr>\n",
       "      <td>1</td>\n",
       "      <td>1000_1</td>\n",
       "      <td>1052.81</td>\n",
       "      <td>2018-09-07</td>\n",
       "      <td>1000</td>\n",
       "    </tr>\n",
       "    <tr>\n",
       "      <td>2</td>\n",
       "      <td>1000_2</td>\n",
       "      <td>1197.26</td>\n",
       "      <td>2018-06-25</td>\n",
       "      <td>1000</td>\n",
       "    </tr>\n",
       "    <tr>\n",
       "      <td>3</td>\n",
       "      <td>1000_3</td>\n",
       "      <td>550.27</td>\n",
       "      <td>2018-08-22</td>\n",
       "      <td>1000</td>\n",
       "    </tr>\n",
       "    <tr>\n",
       "      <td>4</td>\n",
       "      <td>1000_4</td>\n",
       "      <td>302.56</td>\n",
       "      <td>2018-09-24</td>\n",
       "      <td>1000</td>\n",
       "    </tr>\n",
       "  </tbody>\n",
       "</table>\n",
       "</div>"
      ],
      "text/plain": [
       "       id  mb_used session_date  user_id\n",
       "0  1000_0   112.95   2018-11-25     1000\n",
       "1  1000_1  1052.81   2018-09-07     1000\n",
       "2  1000_2  1197.26   2018-06-25     1000\n",
       "3  1000_3   550.27   2018-08-22     1000\n",
       "4  1000_4   302.56   2018-09-24     1000"
      ]
     },
     "execution_count": 17,
     "metadata": {},
     "output_type": "execute_result"
    }
   ],
   "source": [
    "internet.head()"
   ]
  },
  {
   "cell_type": "markdown",
   "metadata": {},
   "source": [
    "**Согласно документации к таблице `internet`:**\n",
    "* *id* — уникальный номер сессии\n",
    "* *mb_used* — объём потраченного за сессию интернет-трафика (в мегабайтах)\n",
    "* *session_date* — дата интернет-сессии\n",
    "* *user_id* — идентификатор пользователя"
   ]
  },
  {
   "cell_type": "markdown",
   "metadata": {},
   "source": [
    "Изучим последние пять строк таблицы:"
   ]
  },
  {
   "cell_type": "code",
   "execution_count": 18,
   "metadata": {},
   "outputs": [
    {
     "data": {
      "text/html": [
       "<div>\n",
       "<style scoped>\n",
       "    .dataframe tbody tr th:only-of-type {\n",
       "        vertical-align: middle;\n",
       "    }\n",
       "\n",
       "    .dataframe tbody tr th {\n",
       "        vertical-align: top;\n",
       "    }\n",
       "\n",
       "    .dataframe thead th {\n",
       "        text-align: right;\n",
       "    }\n",
       "</style>\n",
       "<table border=\"1\" class=\"dataframe\">\n",
       "  <thead>\n",
       "    <tr style=\"text-align: right;\">\n",
       "      <th></th>\n",
       "      <th>id</th>\n",
       "      <th>mb_used</th>\n",
       "      <th>session_date</th>\n",
       "      <th>user_id</th>\n",
       "    </tr>\n",
       "  </thead>\n",
       "  <tbody>\n",
       "    <tr>\n",
       "      <td>149391</td>\n",
       "      <td>1499_152</td>\n",
       "      <td>318.90</td>\n",
       "      <td>2018-10-03</td>\n",
       "      <td>1499</td>\n",
       "    </tr>\n",
       "    <tr>\n",
       "      <td>149392</td>\n",
       "      <td>1499_153</td>\n",
       "      <td>490.13</td>\n",
       "      <td>2018-12-14</td>\n",
       "      <td>1499</td>\n",
       "    </tr>\n",
       "    <tr>\n",
       "      <td>149393</td>\n",
       "      <td>1499_154</td>\n",
       "      <td>0.00</td>\n",
       "      <td>2018-10-27</td>\n",
       "      <td>1499</td>\n",
       "    </tr>\n",
       "    <tr>\n",
       "      <td>149394</td>\n",
       "      <td>1499_155</td>\n",
       "      <td>1246.32</td>\n",
       "      <td>2018-11-26</td>\n",
       "      <td>1499</td>\n",
       "    </tr>\n",
       "    <tr>\n",
       "      <td>149395</td>\n",
       "      <td>1499_156</td>\n",
       "      <td>544.37</td>\n",
       "      <td>2018-10-26</td>\n",
       "      <td>1499</td>\n",
       "    </tr>\n",
       "  </tbody>\n",
       "</table>\n",
       "</div>"
      ],
      "text/plain": [
       "              id  mb_used session_date  user_id\n",
       "149391  1499_152   318.90   2018-10-03     1499\n",
       "149392  1499_153   490.13   2018-12-14     1499\n",
       "149393  1499_154     0.00   2018-10-27     1499\n",
       "149394  1499_155  1246.32   2018-11-26     1499\n",
       "149395  1499_156   544.37   2018-10-26     1499"
      ]
     },
     "execution_count": 18,
     "metadata": {},
     "output_type": "execute_result"
    }
   ],
   "source": [
    "internet.tail()"
   ]
  },
  {
   "cell_type": "markdown",
   "metadata": {},
   "source": [
    "Изучим пять случайных строк таблицы:"
   ]
  },
  {
   "cell_type": "code",
   "execution_count": 19,
   "metadata": {},
   "outputs": [
    {
     "data": {
      "text/html": [
       "<div>\n",
       "<style scoped>\n",
       "    .dataframe tbody tr th:only-of-type {\n",
       "        vertical-align: middle;\n",
       "    }\n",
       "\n",
       "    .dataframe tbody tr th {\n",
       "        vertical-align: top;\n",
       "    }\n",
       "\n",
       "    .dataframe thead th {\n",
       "        text-align: right;\n",
       "    }\n",
       "</style>\n",
       "<table border=\"1\" class=\"dataframe\">\n",
       "  <thead>\n",
       "    <tr style=\"text-align: right;\">\n",
       "      <th></th>\n",
       "      <th>id</th>\n",
       "      <th>mb_used</th>\n",
       "      <th>session_date</th>\n",
       "      <th>user_id</th>\n",
       "    </tr>\n",
       "  </thead>\n",
       "  <tbody>\n",
       "    <tr>\n",
       "      <td>28909</td>\n",
       "      <td>1101_15</td>\n",
       "      <td>112.63</td>\n",
       "      <td>2018-09-29</td>\n",
       "      <td>1101</td>\n",
       "    </tr>\n",
       "    <tr>\n",
       "      <td>32694</td>\n",
       "      <td>1114_91</td>\n",
       "      <td>257.97</td>\n",
       "      <td>2018-08-12</td>\n",
       "      <td>1114</td>\n",
       "    </tr>\n",
       "    <tr>\n",
       "      <td>84812</td>\n",
       "      <td>1288_125</td>\n",
       "      <td>232.60</td>\n",
       "      <td>2018-10-05</td>\n",
       "      <td>1288</td>\n",
       "    </tr>\n",
       "    <tr>\n",
       "      <td>103889</td>\n",
       "      <td>1352_113</td>\n",
       "      <td>245.67</td>\n",
       "      <td>2018-11-27</td>\n",
       "      <td>1352</td>\n",
       "    </tr>\n",
       "    <tr>\n",
       "      <td>139492</td>\n",
       "      <td>1468_286</td>\n",
       "      <td>348.46</td>\n",
       "      <td>2018-03-25</td>\n",
       "      <td>1468</td>\n",
       "    </tr>\n",
       "  </tbody>\n",
       "</table>\n",
       "</div>"
      ],
      "text/plain": [
       "              id  mb_used session_date  user_id\n",
       "28909    1101_15   112.63   2018-09-29     1101\n",
       "32694    1114_91   257.97   2018-08-12     1114\n",
       "84812   1288_125   232.60   2018-10-05     1288\n",
       "103889  1352_113   245.67   2018-11-27     1352\n",
       "139492  1468_286   348.46   2018-03-25     1468"
      ]
     },
     "execution_count": 19,
     "metadata": {},
     "output_type": "execute_result"
    }
   ],
   "source": [
    "internet.sample(5, random_state=5)"
   ]
  },
  {
   "cell_type": "markdown",
   "metadata": {},
   "source": [
    "Основная информация:"
   ]
  },
  {
   "cell_type": "code",
   "execution_count": 20,
   "metadata": {},
   "outputs": [
    {
     "name": "stdout",
     "output_type": "stream",
     "text": [
      "<class 'pandas.core.frame.DataFrame'>\n",
      "Int64Index: 149396 entries, 0 to 149395\n",
      "Data columns (total 4 columns):\n",
      "id              149396 non-null object\n",
      "mb_used         149396 non-null float64\n",
      "session_date    149396 non-null object\n",
      "user_id         149396 non-null int64\n",
      "dtypes: float64(1), int64(1), object(2)\n",
      "memory usage: 5.7+ MB\n"
     ]
    }
   ],
   "source": [
    "internet.info()"
   ]
  },
  {
   "cell_type": "markdown",
   "metadata": {},
   "source": [
    "Информацию об описательных статистиках разумно выбрать только для столбца `mb_used`:"
   ]
  },
  {
   "cell_type": "code",
   "execution_count": 21,
   "metadata": {},
   "outputs": [
    {
     "data": {
      "text/plain": [
       "count   149396.00\n",
       "mean       370.19\n",
       "std        278.30\n",
       "min          0.00\n",
       "25%        138.19\n",
       "50%        348.01\n",
       "75%        559.55\n",
       "max       1724.83\n",
       "Name: mb_used, dtype: float64"
      ]
     },
     "execution_count": 21,
     "metadata": {},
     "output_type": "execute_result"
    }
   ],
   "source": [
    "internet['mb_used'].describe()"
   ]
  },
  {
   "cell_type": "markdown",
   "metadata": {},
   "source": [
    "### Информация о тарифах"
   ]
  },
  {
   "cell_type": "markdown",
   "metadata": {},
   "source": [
    "**Описание тарифов:**\n",
    "* `Smart`\n",
    "\n",
    "  1. Ежемесячная плата: 550 рублей\n",
    "  2. Включено 500 минут разговора, 50 сообщений и 15 Гб интернет-трафика\n",
    "  3. Стоимость услуг сверх тарифного пакета: 1. минута разговора: 3 рубля («Мегалайн» всегда округляет вверх значения минут и мегабайтов. Если пользователь проговорил всего 1 секунду, в тарифе засчитывается целая минута); 2. сообщение: 3 рубля; 3. 1 Гб интернет-трафика: 200 рублей.\n",
    "\n",
    "\n",
    "* `Ультра`\n",
    "\n",
    "  1. Ежемесячная плата: 1950 рублей\n",
    "  2. Включено 3000 минут разговора, 1000 сообщений и 30 Гб интернет-трафика\n",
    "  3. Стоимость услуг сверх тарифного пакета: 1. минута разговора: 1 рубль; 2. сообщение: 1 рубль; 3. 1 Гб интернет-трафика: 150 рублей.\n"
   ]
  },
  {
   "cell_type": "code",
   "execution_count": 22,
   "metadata": {},
   "outputs": [
    {
     "data": {
      "text/html": [
       "<div>\n",
       "<style scoped>\n",
       "    .dataframe tbody tr th:only-of-type {\n",
       "        vertical-align: middle;\n",
       "    }\n",
       "\n",
       "    .dataframe tbody tr th {\n",
       "        vertical-align: top;\n",
       "    }\n",
       "\n",
       "    .dataframe thead th {\n",
       "        text-align: right;\n",
       "    }\n",
       "</style>\n",
       "<table border=\"1\" class=\"dataframe\">\n",
       "  <thead>\n",
       "    <tr style=\"text-align: right;\">\n",
       "      <th></th>\n",
       "      <th>messages_included</th>\n",
       "      <th>mb_per_month_included</th>\n",
       "      <th>minutes_included</th>\n",
       "      <th>rub_monthly_fee</th>\n",
       "      <th>rub_per_gb</th>\n",
       "      <th>rub_per_message</th>\n",
       "      <th>rub_per_minute</th>\n",
       "      <th>tariff_name</th>\n",
       "    </tr>\n",
       "  </thead>\n",
       "  <tbody>\n",
       "    <tr>\n",
       "      <td>0</td>\n",
       "      <td>50</td>\n",
       "      <td>15360</td>\n",
       "      <td>500</td>\n",
       "      <td>550</td>\n",
       "      <td>200</td>\n",
       "      <td>3</td>\n",
       "      <td>3</td>\n",
       "      <td>smart</td>\n",
       "    </tr>\n",
       "    <tr>\n",
       "      <td>1</td>\n",
       "      <td>1000</td>\n",
       "      <td>30720</td>\n",
       "      <td>3000</td>\n",
       "      <td>1950</td>\n",
       "      <td>150</td>\n",
       "      <td>1</td>\n",
       "      <td>1</td>\n",
       "      <td>ultra</td>\n",
       "    </tr>\n",
       "  </tbody>\n",
       "</table>\n",
       "</div>"
      ],
      "text/plain": [
       "   messages_included  mb_per_month_included  minutes_included  \\\n",
       "0                 50                  15360               500   \n",
       "1               1000                  30720              3000   \n",
       "\n",
       "   rub_monthly_fee  rub_per_gb  rub_per_message  rub_per_minute tariff_name  \n",
       "0              550         200                3               3       smart  \n",
       "1             1950         150                1               1       ultra  "
      ]
     },
     "execution_count": 22,
     "metadata": {},
     "output_type": "execute_result"
    }
   ],
   "source": [
    "tariffs"
   ]
  },
  {
   "cell_type": "code",
   "execution_count": 23,
   "metadata": {},
   "outputs": [],
   "source": [
    "def info(df, func):\n",
    "    if func == 'info':\n",
    "        return df.info()\n",
    "    elif func == 'head':\n",
    "        return df"
   ]
  },
  {
   "cell_type": "markdown",
   "metadata": {},
   "source": [
    "### Вывод"
   ]
  },
  {
   "cell_type": "markdown",
   "metadata": {},
   "source": [
    "Исходные данные содержат информацию о 500 пользователях оператора «Мегалайн»: данные по звонкам, сообщениям и интернет-трафику. Для дальнейшего исследования необходимо подготовить данные, а именно:\n",
    "* Проверить данные на пропуски\n",
    "* Проверить данные на дубликаты\n",
    "* Проверить данные на ошибки\n",
    "* Сделать необходимые расчеты\n"
   ]
  },
  {
   "cell_type": "markdown",
   "metadata": {},
   "source": [
    "## Предобработка данных"
   ]
  },
  {
   "cell_type": "markdown",
   "metadata": {},
   "source": [
    "### Обработка пропусков"
   ]
  },
  {
   "cell_type": "markdown",
   "metadata": {},
   "source": [
    "Рассмотрим пропуски в таблице `users`:"
   ]
  },
  {
   "cell_type": "code",
   "execution_count": 24,
   "metadata": {},
   "outputs": [
    {
     "data": {
      "text/html": [
       "<div>\n",
       "<style scoped>\n",
       "    .dataframe tbody tr th:only-of-type {\n",
       "        vertical-align: middle;\n",
       "    }\n",
       "\n",
       "    .dataframe tbody tr th {\n",
       "        vertical-align: top;\n",
       "    }\n",
       "\n",
       "    .dataframe thead th {\n",
       "        text-align: right;\n",
       "    }\n",
       "</style>\n",
       "<table border=\"1\" class=\"dataframe\">\n",
       "  <thead>\n",
       "    <tr style=\"text-align: right;\">\n",
       "      <th></th>\n",
       "      <th>missed_values</th>\n",
       "    </tr>\n",
       "  </thead>\n",
       "  <tbody>\n",
       "    <tr>\n",
       "      <td>user_id</td>\n",
       "      <td>0</td>\n",
       "    </tr>\n",
       "    <tr>\n",
       "      <td>age</td>\n",
       "      <td>0</td>\n",
       "    </tr>\n",
       "    <tr>\n",
       "      <td>churn_date</td>\n",
       "      <td>462</td>\n",
       "    </tr>\n",
       "    <tr>\n",
       "      <td>city</td>\n",
       "      <td>0</td>\n",
       "    </tr>\n",
       "    <tr>\n",
       "      <td>first_name</td>\n",
       "      <td>0</td>\n",
       "    </tr>\n",
       "    <tr>\n",
       "      <td>last_name</td>\n",
       "      <td>0</td>\n",
       "    </tr>\n",
       "    <tr>\n",
       "      <td>reg_date</td>\n",
       "      <td>0</td>\n",
       "    </tr>\n",
       "    <tr>\n",
       "      <td>tariff</td>\n",
       "      <td>0</td>\n",
       "    </tr>\n",
       "  </tbody>\n",
       "</table>\n",
       "</div>"
      ],
      "text/plain": [
       "            missed_values\n",
       "user_id                 0\n",
       "age                     0\n",
       "churn_date            462\n",
       "city                    0\n",
       "first_name              0\n",
       "last_name               0\n",
       "reg_date                0\n",
       "tariff                  0"
      ]
     },
     "execution_count": 24,
     "metadata": {},
     "output_type": "execute_result"
    }
   ],
   "source": [
    "users.isna().sum().to_frame('missed_values')"
   ]
  },
  {
   "cell_type": "markdown",
   "metadata": {},
   "source": [
    "Столбец с информацией о дате прекращения тарифа содержит в себе 462 пропуска. Однако из документации следует, что если значение пропущено, то на момент выгрузки данных тариф еще действует - оставим пропуски без изменений."
   ]
  },
  {
   "cell_type": "markdown",
   "metadata": {},
   "source": [
    "Рассмотрим пропуски в таблице `calls`:"
   ]
  },
  {
   "cell_type": "code",
   "execution_count": 25,
   "metadata": {},
   "outputs": [
    {
     "data": {
      "text/html": [
       "<div>\n",
       "<style scoped>\n",
       "    .dataframe tbody tr th:only-of-type {\n",
       "        vertical-align: middle;\n",
       "    }\n",
       "\n",
       "    .dataframe tbody tr th {\n",
       "        vertical-align: top;\n",
       "    }\n",
       "\n",
       "    .dataframe thead th {\n",
       "        text-align: right;\n",
       "    }\n",
       "</style>\n",
       "<table border=\"1\" class=\"dataframe\">\n",
       "  <thead>\n",
       "    <tr style=\"text-align: right;\">\n",
       "      <th></th>\n",
       "      <th>missed_values</th>\n",
       "    </tr>\n",
       "  </thead>\n",
       "  <tbody>\n",
       "    <tr>\n",
       "      <td>id</td>\n",
       "      <td>0</td>\n",
       "    </tr>\n",
       "    <tr>\n",
       "      <td>call_date</td>\n",
       "      <td>0</td>\n",
       "    </tr>\n",
       "    <tr>\n",
       "      <td>duration</td>\n",
       "      <td>0</td>\n",
       "    </tr>\n",
       "    <tr>\n",
       "      <td>user_id</td>\n",
       "      <td>0</td>\n",
       "    </tr>\n",
       "  </tbody>\n",
       "</table>\n",
       "</div>"
      ],
      "text/plain": [
       "           missed_values\n",
       "id                     0\n",
       "call_date              0\n",
       "duration               0\n",
       "user_id                0"
      ]
     },
     "execution_count": 25,
     "metadata": {},
     "output_type": "execute_result"
    }
   ],
   "source": [
    "calls.isna().sum().to_frame('missed_values')"
   ]
  },
  {
   "cell_type": "markdown",
   "metadata": {},
   "source": [
    "Рассмотрим пропуски в таблице `messages`:"
   ]
  },
  {
   "cell_type": "code",
   "execution_count": 26,
   "metadata": {},
   "outputs": [
    {
     "data": {
      "text/html": [
       "<div>\n",
       "<style scoped>\n",
       "    .dataframe tbody tr th:only-of-type {\n",
       "        vertical-align: middle;\n",
       "    }\n",
       "\n",
       "    .dataframe tbody tr th {\n",
       "        vertical-align: top;\n",
       "    }\n",
       "\n",
       "    .dataframe thead th {\n",
       "        text-align: right;\n",
       "    }\n",
       "</style>\n",
       "<table border=\"1\" class=\"dataframe\">\n",
       "  <thead>\n",
       "    <tr style=\"text-align: right;\">\n",
       "      <th></th>\n",
       "      <th>missed_values</th>\n",
       "    </tr>\n",
       "  </thead>\n",
       "  <tbody>\n",
       "    <tr>\n",
       "      <td>id</td>\n",
       "      <td>0</td>\n",
       "    </tr>\n",
       "    <tr>\n",
       "      <td>message_date</td>\n",
       "      <td>0</td>\n",
       "    </tr>\n",
       "    <tr>\n",
       "      <td>user_id</td>\n",
       "      <td>0</td>\n",
       "    </tr>\n",
       "  </tbody>\n",
       "</table>\n",
       "</div>"
      ],
      "text/plain": [
       "              missed_values\n",
       "id                        0\n",
       "message_date              0\n",
       "user_id                   0"
      ]
     },
     "execution_count": 26,
     "metadata": {},
     "output_type": "execute_result"
    }
   ],
   "source": [
    "messages.isna().sum().to_frame('missed_values')"
   ]
  },
  {
   "cell_type": "markdown",
   "metadata": {},
   "source": [
    "Рассмотрим пропуски в таблице `internet`:"
   ]
  },
  {
   "cell_type": "code",
   "execution_count": 27,
   "metadata": {},
   "outputs": [
    {
     "data": {
      "text/html": [
       "<div>\n",
       "<style scoped>\n",
       "    .dataframe tbody tr th:only-of-type {\n",
       "        vertical-align: middle;\n",
       "    }\n",
       "\n",
       "    .dataframe tbody tr th {\n",
       "        vertical-align: top;\n",
       "    }\n",
       "\n",
       "    .dataframe thead th {\n",
       "        text-align: right;\n",
       "    }\n",
       "</style>\n",
       "<table border=\"1\" class=\"dataframe\">\n",
       "  <thead>\n",
       "    <tr style=\"text-align: right;\">\n",
       "      <th></th>\n",
       "      <th>missed_values</th>\n",
       "    </tr>\n",
       "  </thead>\n",
       "  <tbody>\n",
       "    <tr>\n",
       "      <td>id</td>\n",
       "      <td>0</td>\n",
       "    </tr>\n",
       "    <tr>\n",
       "      <td>mb_used</td>\n",
       "      <td>0</td>\n",
       "    </tr>\n",
       "    <tr>\n",
       "      <td>session_date</td>\n",
       "      <td>0</td>\n",
       "    </tr>\n",
       "    <tr>\n",
       "      <td>user_id</td>\n",
       "      <td>0</td>\n",
       "    </tr>\n",
       "  </tbody>\n",
       "</table>\n",
       "</div>"
      ],
      "text/plain": [
       "              missed_values\n",
       "id                        0\n",
       "mb_used                   0\n",
       "session_date              0\n",
       "user_id                   0"
      ]
     },
     "execution_count": 27,
     "metadata": {},
     "output_type": "execute_result"
    }
   ],
   "source": [
    "internet.isna().sum().to_frame('missed_values')"
   ]
  },
  {
   "cell_type": "markdown",
   "metadata": {},
   "source": [
    "### Обработка дубликатов"
   ]
  },
  {
   "cell_type": "markdown",
   "metadata": {},
   "source": [
    "Создадим функцию `is_there_duplicates`, которая выведет сообщение о предупреждении, если какая-либо таблица содержит дубликаты:"
   ]
  },
  {
   "cell_type": "code",
   "execution_count": 28,
   "metadata": {},
   "outputs": [],
   "source": [
    "def is_there_duplicates():\n",
    "    sum_of_duplicates = users.duplicated().sum() + \\\n",
    "    calls.duplicated().sum() + \\\n",
    "    messages.duplicated().sum() + \\\n",
    "    internet.duplicated().sum()\n",
    "    \n",
    "    if sum_of_duplicates == 0:\n",
    "        print('Дубликаты отсутствуют.')\n",
    "    else:\n",
    "        print('Существуют дубликаты. Проверить их наличие в каждой таблице')"
   ]
  },
  {
   "cell_type": "markdown",
   "metadata": {},
   "source": [
    "Проверка на наличие дубликатов:"
   ]
  },
  {
   "cell_type": "code",
   "execution_count": 29,
   "metadata": {},
   "outputs": [
    {
     "name": "stdout",
     "output_type": "stream",
     "text": [
      "Дубликаты отсутствуют.\n"
     ]
    }
   ],
   "source": [
    "is_there_duplicates()"
   ]
  },
  {
   "cell_type": "markdown",
   "metadata": {},
   "source": [
    "### Замена типов данных"
   ]
  },
  {
   "cell_type": "markdown",
   "metadata": {},
   "source": [
    "В каждой из таблиц присутствуют данные, характеризующие дату. Однако эти данные существуют в формате *object*. Заменим его на тип *datetime*"
   ]
  },
  {
   "cell_type": "code",
   "execution_count": 30,
   "metadata": {},
   "outputs": [],
   "source": [
    "calls['call_date'] = pd.to_datetime(calls['call_date'], format='%Y-%m-%d')\n",
    "internet['session_date'] = pd.to_datetime(internet['session_date'], format='%Y-%m-%d')\n",
    "messages['message_date'] = pd.to_datetime(messages['message_date'], format='%Y-%m-%d')\n",
    "users['churn_date'] = pd.to_datetime(users['churn_date'], format='%Y-%m-%d')\n",
    "users['reg_date'] = pd.to_datetime(users['reg_date'], format='%Y-%m-%d')"
   ]
  },
  {
   "cell_type": "markdown",
   "metadata": {},
   "source": [
    "### Вывод"
   ]
  },
  {
   "cell_type": "markdown",
   "metadata": {},
   "source": [
    "В результате предобработки данных был проведен анализ на пропуски и дубликаты. В исходных данных не оказалось ни того, ни другого. Также был заменен тип данных столбцов, содержащих информацию о датах, на оптимальный. "
   ]
  },
  {
   "cell_type": "markdown",
   "metadata": {},
   "source": [
    "## Расчеты и добавление результатов в таблицу"
   ]
  },
  {
   "cell_type": "markdown",
   "metadata": {},
   "source": [
    "Добавим в таблицы `calls`, `internet` и `messages` столбец `month`, содержащий месяц даты звонка, сообщения или интернет-сессии соответственно:"
   ]
  },
  {
   "cell_type": "code",
   "execution_count": 31,
   "metadata": {},
   "outputs": [],
   "source": [
    "calls['month'] = calls['call_date'].dt.month\n",
    "messages['month'] = messages['message_date'].dt.month\n",
    "internet['month'] = internet['session_date'].dt.month"
   ]
  },
  {
   "cell_type": "markdown",
   "metadata": {},
   "source": [
    "«Мегалайн» всегда округляет секунды до минут, а мегабайты — до гигабайт. Каждый звонок округляется отдельно: даже если он длился всего 1 секунду, будет засчитан как 1 минута."
   ]
  },
  {
   "cell_type": "markdown",
   "metadata": {},
   "source": [
    "Округлим каждый звонок в большую сторону:"
   ]
  },
  {
   "cell_type": "code",
   "execution_count": 32,
   "metadata": {
    "scrolled": true
   },
   "outputs": [],
   "source": [
    "calls['duration'] =  calls['duration'].apply(np.ceil).astype('int')"
   ]
  },
  {
   "cell_type": "markdown",
   "metadata": {},
   "source": [
    "Для удобства создадим таблицу `df`, которая включает в себя:\n",
    "* Информацию о пользователе\n",
    "* Общая длительность звонка\n",
    "* Общее количество сообщений\n",
    "* Общее количество использованного интернет-трафика"
   ]
  },
  {
   "cell_type": "markdown",
   "metadata": {},
   "source": [
    "### Рассчет количества звонков и израсходованных минут разговора по месяцам"
   ]
  },
  {
   "cell_type": "markdown",
   "metadata": {},
   "source": [
    "Построим сводную таблицу, в которой помесячно рассчитано количество звонков и израсходованных минут для каждого пользователя:"
   ]
  },
  {
   "cell_type": "code",
   "execution_count": 33,
   "metadata": {},
   "outputs": [],
   "source": [
    "calls_per_month = pd.pivot_table(calls, index=['user_id', 'month'],\n",
    "                                 values=['duration'],\n",
    "                                 aggfunc=['count', 'sum'])\n",
    "calls_per_month.columns = ['calls', 'total_duration']"
   ]
  },
  {
   "cell_type": "code",
   "execution_count": 34,
   "metadata": {},
   "outputs": [
    {
     "data": {
      "text/html": [
       "<div>\n",
       "<style scoped>\n",
       "    .dataframe tbody tr th:only-of-type {\n",
       "        vertical-align: middle;\n",
       "    }\n",
       "\n",
       "    .dataframe tbody tr th {\n",
       "        vertical-align: top;\n",
       "    }\n",
       "\n",
       "    .dataframe thead th {\n",
       "        text-align: right;\n",
       "    }\n",
       "</style>\n",
       "<table border=\"1\" class=\"dataframe\">\n",
       "  <thead>\n",
       "    <tr style=\"text-align: right;\">\n",
       "      <th></th>\n",
       "      <th></th>\n",
       "      <th>calls</th>\n",
       "      <th>total_duration</th>\n",
       "    </tr>\n",
       "    <tr>\n",
       "      <th>user_id</th>\n",
       "      <th>month</th>\n",
       "      <th></th>\n",
       "      <th></th>\n",
       "    </tr>\n",
       "  </thead>\n",
       "  <tbody>\n",
       "    <tr>\n",
       "      <td>1172</td>\n",
       "      <td>8</td>\n",
       "      <td>63</td>\n",
       "      <td>408</td>\n",
       "    </tr>\n",
       "    <tr>\n",
       "      <td>1138</td>\n",
       "      <td>11</td>\n",
       "      <td>78</td>\n",
       "      <td>526</td>\n",
       "    </tr>\n",
       "    <tr>\n",
       "      <td>1302</td>\n",
       "      <td>10</td>\n",
       "      <td>29</td>\n",
       "      <td>197</td>\n",
       "    </tr>\n",
       "    <tr>\n",
       "      <td>1251</td>\n",
       "      <td>10</td>\n",
       "      <td>69</td>\n",
       "      <td>449</td>\n",
       "    </tr>\n",
       "    <tr>\n",
       "      <td>1168</td>\n",
       "      <td>6</td>\n",
       "      <td>128</td>\n",
       "      <td>912</td>\n",
       "    </tr>\n",
       "  </tbody>\n",
       "</table>\n",
       "</div>"
      ],
      "text/plain": [
       "               calls  total_duration\n",
       "user_id month                       \n",
       "1172    8         63             408\n",
       "1138    11        78             526\n",
       "1302    10        29             197\n",
       "1251    10        69             449\n",
       "1168    6        128             912"
      ]
     },
     "execution_count": 34,
     "metadata": {},
     "output_type": "execute_result"
    }
   ],
   "source": [
    "calls_per_month.sample(5, random_state=111)"
   ]
  },
  {
   "cell_type": "markdown",
   "metadata": {},
   "source": [
    "### Рассчет отправленных сообщений по месяцам"
   ]
  },
  {
   "cell_type": "markdown",
   "metadata": {},
   "source": [
    "Построим сводную таблицу, в которой помесячно рассчитано количество отправленных сообщений для каждого пользователя:"
   ]
  },
  {
   "cell_type": "code",
   "execution_count": 35,
   "metadata": {},
   "outputs": [],
   "source": [
    "messages_per_month = pd.pivot_table(messages, index=['user_id', 'month'],\n",
    "                                 values=['id'],\n",
    "                                 aggfunc=['count'])\n",
    "messages_per_month.columns = ['messages']"
   ]
  },
  {
   "cell_type": "code",
   "execution_count": 36,
   "metadata": {},
   "outputs": [
    {
     "data": {
      "text/html": [
       "<div>\n",
       "<style scoped>\n",
       "    .dataframe tbody tr th:only-of-type {\n",
       "        vertical-align: middle;\n",
       "    }\n",
       "\n",
       "    .dataframe tbody tr th {\n",
       "        vertical-align: top;\n",
       "    }\n",
       "\n",
       "    .dataframe thead th {\n",
       "        text-align: right;\n",
       "    }\n",
       "</style>\n",
       "<table border=\"1\" class=\"dataframe\">\n",
       "  <thead>\n",
       "    <tr style=\"text-align: right;\">\n",
       "      <th></th>\n",
       "      <th></th>\n",
       "      <th>messages</th>\n",
       "    </tr>\n",
       "    <tr>\n",
       "      <th>user_id</th>\n",
       "      <th>month</th>\n",
       "      <th></th>\n",
       "    </tr>\n",
       "  </thead>\n",
       "  <tbody>\n",
       "    <tr>\n",
       "      <td>1426</td>\n",
       "      <td>12</td>\n",
       "      <td>69</td>\n",
       "    </tr>\n",
       "    <tr>\n",
       "      <td>1176</td>\n",
       "      <td>11</td>\n",
       "      <td>59</td>\n",
       "    </tr>\n",
       "    <tr>\n",
       "      <td>1245</td>\n",
       "      <td>12</td>\n",
       "      <td>74</td>\n",
       "    </tr>\n",
       "    <tr>\n",
       "      <td>1182</td>\n",
       "      <td>11</td>\n",
       "      <td>47</td>\n",
       "    </tr>\n",
       "    <tr>\n",
       "      <td>1439</td>\n",
       "      <td>9</td>\n",
       "      <td>10</td>\n",
       "    </tr>\n",
       "  </tbody>\n",
       "</table>\n",
       "</div>"
      ],
      "text/plain": [
       "               messages\n",
       "user_id month          \n",
       "1426    12           69\n",
       "1176    11           59\n",
       "1245    12           74\n",
       "1182    11           47\n",
       "1439    9            10"
      ]
     },
     "execution_count": 36,
     "metadata": {},
     "output_type": "execute_result"
    }
   ],
   "source": [
    "messages_per_month.sample(5, random_state=111)"
   ]
  },
  {
   "cell_type": "markdown",
   "metadata": {},
   "source": [
    "### Рассчет использованного интернет-трафика по месяцам"
   ]
  },
  {
   "cell_type": "markdown",
   "metadata": {},
   "source": [
    "Построим сводную таблицу, в которой помесячно рассчитано количество израсходованного трафика для каждого пользователя:"
   ]
  },
  {
   "cell_type": "code",
   "execution_count": 37,
   "metadata": {},
   "outputs": [],
   "source": [
    "internet_per_month = pd.pivot_table(internet, index=['user_id', 'month'],\n",
    "                                    values=['mb_used'],\n",
    "                                    aggfunc=['sum'])\n",
    "internet_per_month.columns = ['mb_used']"
   ]
  },
  {
   "cell_type": "markdown",
   "metadata": {},
   "source": [
    "Для веб-трафика отдельные сессии не считаются. Вместо этого общая сумма за месяц округляется в бо́льшую сторону. Если абонент использует 1025 мегабайт в этом месяце, с него возьмут плату за 2 гигабайта."
   ]
  },
  {
   "cell_type": "markdown",
   "metadata": {},
   "source": [
    "Добавим в сводную таблицу информацию об использовании трафика в гигабайтах и и округлим в большую сторону:"
   ]
  },
  {
   "cell_type": "code",
   "execution_count": 38,
   "metadata": {},
   "outputs": [],
   "source": [
    "internet_per_month['gb_used'] = np.ceil(internet_per_month['mb_used'] / 1024).astype('int')"
   ]
  },
  {
   "cell_type": "code",
   "execution_count": 39,
   "metadata": {},
   "outputs": [
    {
     "data": {
      "text/html": [
       "<div>\n",
       "<style scoped>\n",
       "    .dataframe tbody tr th:only-of-type {\n",
       "        vertical-align: middle;\n",
       "    }\n",
       "\n",
       "    .dataframe tbody tr th {\n",
       "        vertical-align: top;\n",
       "    }\n",
       "\n",
       "    .dataframe thead th {\n",
       "        text-align: right;\n",
       "    }\n",
       "</style>\n",
       "<table border=\"1\" class=\"dataframe\">\n",
       "  <thead>\n",
       "    <tr style=\"text-align: right;\">\n",
       "      <th></th>\n",
       "      <th></th>\n",
       "      <th>mb_used</th>\n",
       "      <th>gb_used</th>\n",
       "    </tr>\n",
       "    <tr>\n",
       "      <th>user_id</th>\n",
       "      <th>month</th>\n",
       "      <th></th>\n",
       "      <th></th>\n",
       "    </tr>\n",
       "  </thead>\n",
       "  <tbody>\n",
       "    <tr>\n",
       "      <td>1065</td>\n",
       "      <td>6</td>\n",
       "      <td>22575.91</td>\n",
       "      <td>23</td>\n",
       "    </tr>\n",
       "    <tr>\n",
       "      <td>1482</td>\n",
       "      <td>10</td>\n",
       "      <td>17280.78</td>\n",
       "      <td>17</td>\n",
       "    </tr>\n",
       "    <tr>\n",
       "      <td>1066</td>\n",
       "      <td>11</td>\n",
       "      <td>17636.32</td>\n",
       "      <td>18</td>\n",
       "    </tr>\n",
       "    <tr>\n",
       "      <td>1268</td>\n",
       "      <td>12</td>\n",
       "      <td>16033.67</td>\n",
       "      <td>16</td>\n",
       "    </tr>\n",
       "    <tr>\n",
       "      <td>1030</td>\n",
       "      <td>11</td>\n",
       "      <td>19021.47</td>\n",
       "      <td>19</td>\n",
       "    </tr>\n",
       "  </tbody>\n",
       "</table>\n",
       "</div>"
      ],
      "text/plain": [
       "               mb_used  gb_used\n",
       "user_id month                  \n",
       "1065    6     22575.91       23\n",
       "1482    10    17280.78       17\n",
       "1066    11    17636.32       18\n",
       "1268    12    16033.67       16\n",
       "1030    11    19021.47       19"
      ]
     },
     "execution_count": 39,
     "metadata": {},
     "output_type": "execute_result"
    }
   ],
   "source": [
    "internet_per_month.sample(5, random_state=111)"
   ]
  },
  {
   "cell_type": "markdown",
   "metadata": {},
   "source": [
    "### Добавление результатов в таблицу"
   ]
  },
  {
   "cell_type": "markdown",
   "metadata": {},
   "source": [
    "Объединим полученные таблицы в одну:"
   ]
  },
  {
   "cell_type": "code",
   "execution_count": 40,
   "metadata": {},
   "outputs": [],
   "source": [
    "usage_per_month = calls_per_month.join(messages_per_month).join(internet_per_month)"
   ]
  },
  {
   "cell_type": "code",
   "execution_count": 41,
   "metadata": {},
   "outputs": [
    {
     "data": {
      "text/html": [
       "<div>\n",
       "<style scoped>\n",
       "    .dataframe tbody tr th:only-of-type {\n",
       "        vertical-align: middle;\n",
       "    }\n",
       "\n",
       "    .dataframe tbody tr th {\n",
       "        vertical-align: top;\n",
       "    }\n",
       "\n",
       "    .dataframe thead th {\n",
       "        text-align: right;\n",
       "    }\n",
       "</style>\n",
       "<table border=\"1\" class=\"dataframe\">\n",
       "  <thead>\n",
       "    <tr style=\"text-align: right;\">\n",
       "      <th></th>\n",
       "      <th></th>\n",
       "      <th>calls</th>\n",
       "      <th>total_duration</th>\n",
       "      <th>messages</th>\n",
       "      <th>mb_used</th>\n",
       "      <th>gb_used</th>\n",
       "    </tr>\n",
       "    <tr>\n",
       "      <th>user_id</th>\n",
       "      <th>month</th>\n",
       "      <th></th>\n",
       "      <th></th>\n",
       "      <th></th>\n",
       "      <th></th>\n",
       "      <th></th>\n",
       "    </tr>\n",
       "  </thead>\n",
       "  <tbody>\n",
       "    <tr>\n",
       "      <td>1172</td>\n",
       "      <td>8</td>\n",
       "      <td>63</td>\n",
       "      <td>408</td>\n",
       "      <td>8.00</td>\n",
       "      <td>27198.79</td>\n",
       "      <td>27.00</td>\n",
       "    </tr>\n",
       "    <tr>\n",
       "      <td>1138</td>\n",
       "      <td>11</td>\n",
       "      <td>78</td>\n",
       "      <td>526</td>\n",
       "      <td>7.00</td>\n",
       "      <td>21765.37</td>\n",
       "      <td>22.00</td>\n",
       "    </tr>\n",
       "    <tr>\n",
       "      <td>1302</td>\n",
       "      <td>10</td>\n",
       "      <td>29</td>\n",
       "      <td>197</td>\n",
       "      <td>73.00</td>\n",
       "      <td>14620.48</td>\n",
       "      <td>15.00</td>\n",
       "    </tr>\n",
       "    <tr>\n",
       "      <td>1251</td>\n",
       "      <td>10</td>\n",
       "      <td>69</td>\n",
       "      <td>449</td>\n",
       "      <td>99.00</td>\n",
       "      <td>26423.39</td>\n",
       "      <td>26.00</td>\n",
       "    </tr>\n",
       "    <tr>\n",
       "      <td>1168</td>\n",
       "      <td>6</td>\n",
       "      <td>128</td>\n",
       "      <td>912</td>\n",
       "      <td>40.00</td>\n",
       "      <td>32649.93</td>\n",
       "      <td>32.00</td>\n",
       "    </tr>\n",
       "  </tbody>\n",
       "</table>\n",
       "</div>"
      ],
      "text/plain": [
       "               calls  total_duration  messages  mb_used  gb_used\n",
       "user_id month                                                   \n",
       "1172    8         63             408      8.00 27198.79    27.00\n",
       "1138    11        78             526      7.00 21765.37    22.00\n",
       "1302    10        29             197     73.00 14620.48    15.00\n",
       "1251    10        69             449     99.00 26423.39    26.00\n",
       "1168    6        128             912     40.00 32649.93    32.00"
      ]
     },
     "execution_count": 41,
     "metadata": {},
     "output_type": "execute_result"
    }
   ],
   "source": [
    "usage_per_month.sample(5, random_state=111)"
   ]
  },
  {
   "cell_type": "code",
   "execution_count": 42,
   "metadata": {},
   "outputs": [],
   "source": [
    "usage_per_month.reset_index(inplace=True)"
   ]
  },
  {
   "cell_type": "markdown",
   "metadata": {},
   "source": [
    "Объединим таблицу `usage_per_month` с таблицей `users`:"
   ]
  },
  {
   "cell_type": "code",
   "execution_count": 43,
   "metadata": {},
   "outputs": [],
   "source": [
    "df = users.merge(usage_per_month)"
   ]
  },
  {
   "cell_type": "code",
   "execution_count": 44,
   "metadata": {},
   "outputs": [
    {
     "data": {
      "text/plain": [
       "(3174, 14)"
      ]
     },
     "execution_count": 44,
     "metadata": {},
     "output_type": "execute_result"
    }
   ],
   "source": [
    "df.shape"
   ]
  },
  {
   "cell_type": "code",
   "execution_count": 45,
   "metadata": {},
   "outputs": [
    {
     "data": {
      "text/plain": [
       "492"
      ]
     },
     "execution_count": 45,
     "metadata": {},
     "output_type": "execute_result"
    }
   ],
   "source": [
    "df.user_id.nunique()"
   ]
  },
  {
   "cell_type": "markdown",
   "metadata": {},
   "source": [
    "Проверим таблицу на пропуски:"
   ]
  },
  {
   "cell_type": "code",
   "execution_count": 46,
   "metadata": {},
   "outputs": [
    {
     "data": {
      "text/html": [
       "<div>\n",
       "<style scoped>\n",
       "    .dataframe tbody tr th:only-of-type {\n",
       "        vertical-align: middle;\n",
       "    }\n",
       "\n",
       "    .dataframe tbody tr th {\n",
       "        vertical-align: top;\n",
       "    }\n",
       "\n",
       "    .dataframe thead th {\n",
       "        text-align: right;\n",
       "    }\n",
       "</style>\n",
       "<table border=\"1\" class=\"dataframe\">\n",
       "  <thead>\n",
       "    <tr style=\"text-align: right;\">\n",
       "      <th></th>\n",
       "      <th>missed_values</th>\n",
       "    </tr>\n",
       "  </thead>\n",
       "  <tbody>\n",
       "    <tr>\n",
       "      <td>user_id</td>\n",
       "      <td>0</td>\n",
       "    </tr>\n",
       "    <tr>\n",
       "      <td>age</td>\n",
       "      <td>0</td>\n",
       "    </tr>\n",
       "    <tr>\n",
       "      <td>churn_date</td>\n",
       "      <td>2987</td>\n",
       "    </tr>\n",
       "    <tr>\n",
       "      <td>city</td>\n",
       "      <td>0</td>\n",
       "    </tr>\n",
       "    <tr>\n",
       "      <td>first_name</td>\n",
       "      <td>0</td>\n",
       "    </tr>\n",
       "    <tr>\n",
       "      <td>last_name</td>\n",
       "      <td>0</td>\n",
       "    </tr>\n",
       "    <tr>\n",
       "      <td>reg_date</td>\n",
       "      <td>0</td>\n",
       "    </tr>\n",
       "    <tr>\n",
       "      <td>tariff</td>\n",
       "      <td>0</td>\n",
       "    </tr>\n",
       "    <tr>\n",
       "      <td>month</td>\n",
       "      <td>0</td>\n",
       "    </tr>\n",
       "    <tr>\n",
       "      <td>calls</td>\n",
       "      <td>0</td>\n",
       "    </tr>\n",
       "    <tr>\n",
       "      <td>total_duration</td>\n",
       "      <td>0</td>\n",
       "    </tr>\n",
       "    <tr>\n",
       "      <td>messages</td>\n",
       "      <td>496</td>\n",
       "    </tr>\n",
       "    <tr>\n",
       "      <td>mb_used</td>\n",
       "      <td>11</td>\n",
       "    </tr>\n",
       "    <tr>\n",
       "      <td>gb_used</td>\n",
       "      <td>11</td>\n",
       "    </tr>\n",
       "  </tbody>\n",
       "</table>\n",
       "</div>"
      ],
      "text/plain": [
       "                missed_values\n",
       "user_id                     0\n",
       "age                         0\n",
       "churn_date               2987\n",
       "city                        0\n",
       "first_name                  0\n",
       "last_name                   0\n",
       "reg_date                    0\n",
       "tariff                      0\n",
       "month                       0\n",
       "calls                       0\n",
       "total_duration              0\n",
       "messages                  496\n",
       "mb_used                    11\n",
       "gb_used                    11"
      ]
     },
     "execution_count": 46,
     "metadata": {},
     "output_type": "execute_result"
    }
   ],
   "source": [
    "df.isna().sum().to_frame('missed_values')"
   ]
  },
  {
   "cell_type": "markdown",
   "metadata": {},
   "source": [
    "Заменим пропуски на `0`:"
   ]
  },
  {
   "cell_type": "code",
   "execution_count": 47,
   "metadata": {},
   "outputs": [],
   "source": [
    "df['messages'].fillna(0, inplace=True)\n",
    "df['mb_used'].fillna(0, inplace=True)\n",
    "df['gb_used'].fillna(0, inplace=True)"
   ]
  },
  {
   "cell_type": "code",
   "execution_count": 48,
   "metadata": {},
   "outputs": [
    {
     "data": {
      "text/html": [
       "<div>\n",
       "<style scoped>\n",
       "    .dataframe tbody tr th:only-of-type {\n",
       "        vertical-align: middle;\n",
       "    }\n",
       "\n",
       "    .dataframe tbody tr th {\n",
       "        vertical-align: top;\n",
       "    }\n",
       "\n",
       "    .dataframe thead th {\n",
       "        text-align: right;\n",
       "    }\n",
       "</style>\n",
       "<table border=\"1\" class=\"dataframe\">\n",
       "  <thead>\n",
       "    <tr style=\"text-align: right;\">\n",
       "      <th></th>\n",
       "      <th>user_id</th>\n",
       "      <th>age</th>\n",
       "      <th>churn_date</th>\n",
       "      <th>city</th>\n",
       "      <th>first_name</th>\n",
       "      <th>last_name</th>\n",
       "      <th>reg_date</th>\n",
       "      <th>tariff</th>\n",
       "      <th>month</th>\n",
       "      <th>calls</th>\n",
       "      <th>total_duration</th>\n",
       "      <th>messages</th>\n",
       "      <th>mb_used</th>\n",
       "      <th>gb_used</th>\n",
       "    </tr>\n",
       "  </thead>\n",
       "  <tbody>\n",
       "    <tr>\n",
       "      <td>1071</td>\n",
       "      <td>1172</td>\n",
       "      <td>40</td>\n",
       "      <td>NaT</td>\n",
       "      <td>Санкт-Петербург</td>\n",
       "      <td>Алан</td>\n",
       "      <td>Карасев</td>\n",
       "      <td>2018-05-05</td>\n",
       "      <td>smart</td>\n",
       "      <td>8</td>\n",
       "      <td>63</td>\n",
       "      <td>408</td>\n",
       "      <td>8.00</td>\n",
       "      <td>27198.79</td>\n",
       "      <td>27.00</td>\n",
       "    </tr>\n",
       "    <tr>\n",
       "      <td>859</td>\n",
       "      <td>1138</td>\n",
       "      <td>23</td>\n",
       "      <td>NaT</td>\n",
       "      <td>Екатеринбург</td>\n",
       "      <td>Леся</td>\n",
       "      <td>Ерофеева</td>\n",
       "      <td>2018-07-13</td>\n",
       "      <td>smart</td>\n",
       "      <td>11</td>\n",
       "      <td>78</td>\n",
       "      <td>526</td>\n",
       "      <td>7.00</td>\n",
       "      <td>21765.37</td>\n",
       "      <td>22.00</td>\n",
       "    </tr>\n",
       "    <tr>\n",
       "      <td>1899</td>\n",
       "      <td>1302</td>\n",
       "      <td>43</td>\n",
       "      <td>NaT</td>\n",
       "      <td>Уфа</td>\n",
       "      <td>Владислав</td>\n",
       "      <td>Абаимов</td>\n",
       "      <td>2018-01-23</td>\n",
       "      <td>smart</td>\n",
       "      <td>10</td>\n",
       "      <td>29</td>\n",
       "      <td>197</td>\n",
       "      <td>73.00</td>\n",
       "      <td>14620.48</td>\n",
       "      <td>15.00</td>\n",
       "    </tr>\n",
       "    <tr>\n",
       "      <td>1575</td>\n",
       "      <td>1251</td>\n",
       "      <td>48</td>\n",
       "      <td>NaT</td>\n",
       "      <td>Пермь</td>\n",
       "      <td>Роксана</td>\n",
       "      <td>Тетерина</td>\n",
       "      <td>2018-02-13</td>\n",
       "      <td>smart</td>\n",
       "      <td>10</td>\n",
       "      <td>69</td>\n",
       "      <td>449</td>\n",
       "      <td>99.00</td>\n",
       "      <td>26423.39</td>\n",
       "      <td>26.00</td>\n",
       "    </tr>\n",
       "    <tr>\n",
       "      <td>1043</td>\n",
       "      <td>1168</td>\n",
       "      <td>28</td>\n",
       "      <td>NaT</td>\n",
       "      <td>Кострома</td>\n",
       "      <td>Лилия</td>\n",
       "      <td>Ананьева</td>\n",
       "      <td>2018-01-24</td>\n",
       "      <td>ultra</td>\n",
       "      <td>6</td>\n",
       "      <td>128</td>\n",
       "      <td>912</td>\n",
       "      <td>40.00</td>\n",
       "      <td>32649.93</td>\n",
       "      <td>32.00</td>\n",
       "    </tr>\n",
       "  </tbody>\n",
       "</table>\n",
       "</div>"
      ],
      "text/plain": [
       "      user_id  age churn_date             city first_name last_name  \\\n",
       "1071     1172   40        NaT  Санкт-Петербург       Алан   Карасев   \n",
       "859      1138   23        NaT     Екатеринбург       Леся  Ерофеева   \n",
       "1899     1302   43        NaT              Уфа  Владислав   Абаимов   \n",
       "1575     1251   48        NaT            Пермь    Роксана  Тетерина   \n",
       "1043     1168   28        NaT         Кострома      Лилия  Ананьева   \n",
       "\n",
       "       reg_date tariff  month  calls  total_duration  messages  mb_used  \\\n",
       "1071 2018-05-05  smart      8     63             408      8.00 27198.79   \n",
       "859  2018-07-13  smart     11     78             526      7.00 21765.37   \n",
       "1899 2018-01-23  smart     10     29             197     73.00 14620.48   \n",
       "1575 2018-02-13  smart     10     69             449     99.00 26423.39   \n",
       "1043 2018-01-24  ultra      6    128             912     40.00 32649.93   \n",
       "\n",
       "      gb_used  \n",
       "1071    27.00  \n",
       "859     22.00  \n",
       "1899    15.00  \n",
       "1575    26.00  \n",
       "1043    32.00  "
      ]
     },
     "execution_count": 48,
     "metadata": {},
     "output_type": "execute_result"
    }
   ],
   "source": [
    "df.sample(5, random_state=111)"
   ]
  },
  {
   "cell_type": "markdown",
   "metadata": {},
   "source": [
    "### Рассчет месячной прибыли с клиента"
   ]
  },
  {
   "cell_type": "markdown",
   "metadata": {},
   "source": [
    "Создадим функцию, рассчитывающую месячную прибыль с клиента:"
   ]
  },
  {
   "cell_type": "code",
   "execution_count": 49,
   "metadata": {},
   "outputs": [],
   "source": [
    "def profit_per_month(row):\n",
    "    \n",
    "    messages = row['messages']\n",
    "    mb_used = row['mb_used']\n",
    "    tariff = row['tariff']\n",
    "    duration = row['total_duration']\n",
    "    calls = row['calls']\n",
    "    \n",
    "    if tariff == 'smart':\n",
    "        extra_duration = duration - tariffs.loc[0, 'minutes_included']\n",
    "        extra_mb = mb_used - tariffs.loc[0, 'mb_per_month_included']\n",
    "        extra_messages = messages - tariffs.loc[0, 'messages_included']\n",
    "        \n",
    "        if extra_duration < 0:\n",
    "            extra_duration = 0\n",
    "        if extra_mb < 0:\n",
    "            extra_mb = 0\n",
    "        if extra_messages < 0:\n",
    "            extra_messages = 0\n",
    "        \n",
    "        return (tariffs.loc[0, 'rub_per_message'] * extra_messages + \n",
    "                   (tariffs.loc[0, 'rub_per_gb'] / 1024) * extra_mb + \n",
    "                   tariffs.loc[0, 'rub_per_minute'] * extra_duration + \n",
    "                   tariffs.loc[0, 'rub_monthly_fee']\n",
    "                  ) \n",
    "    else:\n",
    "        extra_duration = duration - tariffs.loc[1, 'minutes_included']\n",
    "        extra_mb = mb_used - tariffs.loc[1, 'mb_per_month_included']\n",
    "        extra_messages = messages - tariffs.loc[1, 'messages_included']\n",
    "        \n",
    "        if extra_duration < 0:\n",
    "            extra_duration = 0\n",
    "        if extra_mb < 0:\n",
    "            extra_mb = 0\n",
    "        if extra_messages < 0:\n",
    "            extra_messages = 0\n",
    "        \n",
    "        return (tariffs.loc[1, 'rub_per_message'] * extra_messages + \n",
    "                   (tariffs.loc[1, 'rub_per_gb'] / 1024) * extra_mb + \n",
    "                   tariffs.loc[1, 'rub_per_minute'] * extra_duration + \n",
    "                   tariffs.loc[1, 'rub_monthly_fee']\n",
    "                  )"
   ]
  },
  {
   "cell_type": "markdown",
   "metadata": {},
   "source": [
    "Создадим столбец `profit`, содержащий прибыль за месяц:"
   ]
  },
  {
   "cell_type": "code",
   "execution_count": 50,
   "metadata": {},
   "outputs": [],
   "source": [
    "df['profit'] = df.apply(profit_per_month, axis=1)"
   ]
  },
  {
   "cell_type": "code",
   "execution_count": 51,
   "metadata": {},
   "outputs": [
    {
     "data": {
      "text/plain": [
       "count   3174.00\n",
       "mean    1479.90\n",
       "std      784.80\n",
       "min      550.00\n",
       "25%      690.16\n",
       "50%     1535.33\n",
       "75%     1950.00\n",
       "max     6699.78\n",
       "Name: profit, dtype: float64"
      ]
     },
     "execution_count": 51,
     "metadata": {},
     "output_type": "execute_result"
    }
   ],
   "source": [
    "df['profit'].describe()"
   ]
  },
  {
   "cell_type": "code",
   "execution_count": 52,
   "metadata": {},
   "outputs": [
    {
     "data": {
      "text/html": [
       "<div>\n",
       "<style scoped>\n",
       "    .dataframe tbody tr th:only-of-type {\n",
       "        vertical-align: middle;\n",
       "    }\n",
       "\n",
       "    .dataframe tbody tr th {\n",
       "        vertical-align: top;\n",
       "    }\n",
       "\n",
       "    .dataframe thead th {\n",
       "        text-align: right;\n",
       "    }\n",
       "</style>\n",
       "<table border=\"1\" class=\"dataframe\">\n",
       "  <thead>\n",
       "    <tr style=\"text-align: right;\">\n",
       "      <th></th>\n",
       "      <th>user_id</th>\n",
       "      <th>age</th>\n",
       "      <th>churn_date</th>\n",
       "      <th>city</th>\n",
       "      <th>first_name</th>\n",
       "      <th>last_name</th>\n",
       "      <th>reg_date</th>\n",
       "      <th>tariff</th>\n",
       "      <th>month</th>\n",
       "      <th>calls</th>\n",
       "      <th>total_duration</th>\n",
       "      <th>messages</th>\n",
       "      <th>mb_used</th>\n",
       "      <th>gb_used</th>\n",
       "      <th>profit</th>\n",
       "    </tr>\n",
       "  </thead>\n",
       "  <tbody>\n",
       "    <tr>\n",
       "      <td>1071</td>\n",
       "      <td>1172</td>\n",
       "      <td>40</td>\n",
       "      <td>NaT</td>\n",
       "      <td>Санкт-Петербург</td>\n",
       "      <td>Алан</td>\n",
       "      <td>Карасев</td>\n",
       "      <td>2018-05-05</td>\n",
       "      <td>smart</td>\n",
       "      <td>8</td>\n",
       "      <td>63</td>\n",
       "      <td>408</td>\n",
       "      <td>8.00</td>\n",
       "      <td>27198.79</td>\n",
       "      <td>27.00</td>\n",
       "      <td>2862.26</td>\n",
       "    </tr>\n",
       "    <tr>\n",
       "      <td>859</td>\n",
       "      <td>1138</td>\n",
       "      <td>23</td>\n",
       "      <td>NaT</td>\n",
       "      <td>Екатеринбург</td>\n",
       "      <td>Леся</td>\n",
       "      <td>Ерофеева</td>\n",
       "      <td>2018-07-13</td>\n",
       "      <td>smart</td>\n",
       "      <td>11</td>\n",
       "      <td>78</td>\n",
       "      <td>526</td>\n",
       "      <td>7.00</td>\n",
       "      <td>21765.37</td>\n",
       "      <td>22.00</td>\n",
       "      <td>1879.05</td>\n",
       "    </tr>\n",
       "    <tr>\n",
       "      <td>1899</td>\n",
       "      <td>1302</td>\n",
       "      <td>43</td>\n",
       "      <td>NaT</td>\n",
       "      <td>Уфа</td>\n",
       "      <td>Владислав</td>\n",
       "      <td>Абаимов</td>\n",
       "      <td>2018-01-23</td>\n",
       "      <td>smart</td>\n",
       "      <td>10</td>\n",
       "      <td>29</td>\n",
       "      <td>197</td>\n",
       "      <td>73.00</td>\n",
       "      <td>14620.48</td>\n",
       "      <td>15.00</td>\n",
       "      <td>619.00</td>\n",
       "    </tr>\n",
       "    <tr>\n",
       "      <td>1575</td>\n",
       "      <td>1251</td>\n",
       "      <td>48</td>\n",
       "      <td>NaT</td>\n",
       "      <td>Пермь</td>\n",
       "      <td>Роксана</td>\n",
       "      <td>Тетерина</td>\n",
       "      <td>2018-02-13</td>\n",
       "      <td>smart</td>\n",
       "      <td>10</td>\n",
       "      <td>69</td>\n",
       "      <td>449</td>\n",
       "      <td>99.00</td>\n",
       "      <td>26423.39</td>\n",
       "      <td>26.00</td>\n",
       "      <td>2857.82</td>\n",
       "    </tr>\n",
       "    <tr>\n",
       "      <td>1043</td>\n",
       "      <td>1168</td>\n",
       "      <td>28</td>\n",
       "      <td>NaT</td>\n",
       "      <td>Кострома</td>\n",
       "      <td>Лилия</td>\n",
       "      <td>Ананьева</td>\n",
       "      <td>2018-01-24</td>\n",
       "      <td>ultra</td>\n",
       "      <td>6</td>\n",
       "      <td>128</td>\n",
       "      <td>912</td>\n",
       "      <td>40.00</td>\n",
       "      <td>32649.93</td>\n",
       "      <td>32.00</td>\n",
       "      <td>2232.70</td>\n",
       "    </tr>\n",
       "  </tbody>\n",
       "</table>\n",
       "</div>"
      ],
      "text/plain": [
       "      user_id  age churn_date             city first_name last_name  \\\n",
       "1071     1172   40        NaT  Санкт-Петербург       Алан   Карасев   \n",
       "859      1138   23        NaT     Екатеринбург       Леся  Ерофеева   \n",
       "1899     1302   43        NaT              Уфа  Владислав   Абаимов   \n",
       "1575     1251   48        NaT            Пермь    Роксана  Тетерина   \n",
       "1043     1168   28        NaT         Кострома      Лилия  Ананьева   \n",
       "\n",
       "       reg_date tariff  month  calls  total_duration  messages  mb_used  \\\n",
       "1071 2018-05-05  smart      8     63             408      8.00 27198.79   \n",
       "859  2018-07-13  smart     11     78             526      7.00 21765.37   \n",
       "1899 2018-01-23  smart     10     29             197     73.00 14620.48   \n",
       "1575 2018-02-13  smart     10     69             449     99.00 26423.39   \n",
       "1043 2018-01-24  ultra      6    128             912     40.00 32649.93   \n",
       "\n",
       "      gb_used  profit  \n",
       "1071    27.00 2862.26  \n",
       "859     22.00 1879.05  \n",
       "1899    15.00  619.00  \n",
       "1575    26.00 2857.82  \n",
       "1043    32.00 2232.70  "
      ]
     },
     "execution_count": 52,
     "metadata": {},
     "output_type": "execute_result"
    }
   ],
   "source": [
    "df.sample(5, random_state=111)"
   ]
  },
  {
   "cell_type": "markdown",
   "metadata": {},
   "source": [
    "## Исследовательский анализ"
   ]
  },
  {
   "cell_type": "markdown",
   "metadata": {},
   "source": [
    "Рассмотрим количество пользователей для каждого тарифа:"
   ]
  },
  {
   "cell_type": "code",
   "execution_count": 72,
   "metadata": {},
   "outputs": [],
   "source": [
    "tariff_users = users.pivot_table(index='tariff', values='user_id', aggfunc='count')\n",
    "tariff_users.columns=['tariff_users']\n",
    "tariff_users.reset_index(inplace=True)"
   ]
  },
  {
   "cell_type": "code",
   "execution_count": 73,
   "metadata": {},
   "outputs": [
    {
     "data": {
      "text/html": [
       "<div>\n",
       "<style scoped>\n",
       "    .dataframe tbody tr th:only-of-type {\n",
       "        vertical-align: middle;\n",
       "    }\n",
       "\n",
       "    .dataframe tbody tr th {\n",
       "        vertical-align: top;\n",
       "    }\n",
       "\n",
       "    .dataframe thead th {\n",
       "        text-align: right;\n",
       "    }\n",
       "</style>\n",
       "<table border=\"1\" class=\"dataframe\">\n",
       "  <thead>\n",
       "    <tr style=\"text-align: right;\">\n",
       "      <th></th>\n",
       "      <th>tariff</th>\n",
       "      <th>tariff_users</th>\n",
       "    </tr>\n",
       "  </thead>\n",
       "  <tbody>\n",
       "    <tr>\n",
       "      <td>0</td>\n",
       "      <td>smart</td>\n",
       "      <td>351</td>\n",
       "    </tr>\n",
       "    <tr>\n",
       "      <td>1</td>\n",
       "      <td>ultra</td>\n",
       "      <td>149</td>\n",
       "    </tr>\n",
       "  </tbody>\n",
       "</table>\n",
       "</div>"
      ],
      "text/plain": [
       "  tariff  tariff_users\n",
       "0  smart           351\n",
       "1  ultra           149"
      ]
     },
     "execution_count": 73,
     "metadata": {},
     "output_type": "execute_result"
    }
   ],
   "source": [
    "tariff_users"
   ]
  },
  {
   "cell_type": "code",
   "execution_count": 54,
   "metadata": {},
   "outputs": [
    {
     "data": {
      "image/png": "[encoded data removed]",
      "text/plain": [
       "<Figure size 720x144 with 1 Axes>"
      ]
     },
     "metadata": {},
     "output_type": "display_data"
    }
   ],
   "source": [
    "plt.rcParams['figure.figsize'] = 10.0, 2.0\n",
    "sns.barplot(x='tariff_users',\n",
    "            y='tariff',\n",
    "            data=tariff_users,\n",
    "           )\n",
    "plt.title('Распределение пользователей по тарифам')\n",
    "plt.xlabel('Количество пользователей')\n",
    "plt.ylabel('Тариф')\n",
    "plt.show()\n",
    "\n",
    "plt.rcParams['figure.figsize'] = 10.0, 6.0"
   ]
  },
  {
   "cell_type": "markdown",
   "metadata": {},
   "source": [
    "Судя по графику можно сделать вывод, что тариф `Smart` популярнее тарифа `Ultra`, причем количество пользователей различаются приблизительно в 2 раза."
   ]
  },
  {
   "cell_type": "markdown",
   "metadata": {},
   "source": [
    "Построим сводную таблицу, в которой отразим среднюю количество использованного интернет-трафика, отправленных сообщений, продолжительность звонков, а также среднюю прибыль:"
   ]
  },
  {
   "cell_type": "code",
   "execution_count": 55,
   "metadata": {},
   "outputs": [],
   "source": [
    "mean_usage = df.pivot_table(index=['user_id', 'tariff'], \n",
    "                            values=['total_duration', 'messages', 'gb_used', 'profit'],\n",
    "                            aggfunc='mean'\n",
    "                           )\n",
    "mean_usage.reset_index(inplace=True)"
   ]
  },
  {
   "cell_type": "code",
   "execution_count": 56,
   "metadata": {},
   "outputs": [
    {
     "data": {
      "text/html": [
       "<div>\n",
       "<style scoped>\n",
       "    .dataframe tbody tr th:only-of-type {\n",
       "        vertical-align: middle;\n",
       "    }\n",
       "\n",
       "    .dataframe tbody tr th {\n",
       "        vertical-align: top;\n",
       "    }\n",
       "\n",
       "    .dataframe thead th {\n",
       "        text-align: right;\n",
       "    }\n",
       "</style>\n",
       "<table border=\"1\" class=\"dataframe\">\n",
       "  <thead>\n",
       "    <tr style=\"text-align: right;\">\n",
       "      <th></th>\n",
       "      <th>user_id</th>\n",
       "      <th>tariff</th>\n",
       "      <th>gb_used</th>\n",
       "      <th>messages</th>\n",
       "      <th>profit</th>\n",
       "      <th>total_duration</th>\n",
       "    </tr>\n",
       "  </thead>\n",
       "  <tbody>\n",
       "    <tr>\n",
       "      <td>0</td>\n",
       "      <td>1000</td>\n",
       "      <td>ultra</td>\n",
       "      <td>13.62</td>\n",
       "      <td>62.00</td>\n",
       "      <td>1950.00</td>\n",
       "      <td>320.75</td>\n",
       "    </tr>\n",
       "    <tr>\n",
       "      <td>1</td>\n",
       "      <td>1001</td>\n",
       "      <td>smart</td>\n",
       "      <td>16.00</td>\n",
       "      <td>0.00</td>\n",
       "      <td>849.74</td>\n",
       "      <td>422.00</td>\n",
       "    </tr>\n",
       "    <tr>\n",
       "      <td>2</td>\n",
       "      <td>1002</td>\n",
       "      <td>smart</td>\n",
       "      <td>16.71</td>\n",
       "      <td>10.00</td>\n",
       "      <td>954.34</td>\n",
       "      <td>216.71</td>\n",
       "    </tr>\n",
       "    <tr>\n",
       "      <td>3</td>\n",
       "      <td>1003</td>\n",
       "      <td>ultra</td>\n",
       "      <td>11.80</td>\n",
       "      <td>76.00</td>\n",
       "      <td>1950.00</td>\n",
       "      <td>764.40</td>\n",
       "    </tr>\n",
       "    <tr>\n",
       "      <td>4</td>\n",
       "      <td>1004</td>\n",
       "      <td>ultra</td>\n",
       "      <td>18.75</td>\n",
       "      <td>149.00</td>\n",
       "      <td>1950.00</td>\n",
       "      <td>123.38</td>\n",
       "    </tr>\n",
       "  </tbody>\n",
       "</table>\n",
       "</div>"
      ],
      "text/plain": [
       "   user_id tariff  gb_used  messages  profit  total_duration\n",
       "0     1000  ultra    13.62     62.00 1950.00          320.75\n",
       "1     1001  smart    16.00      0.00  849.74          422.00\n",
       "2     1002  smart    16.71     10.00  954.34          216.71\n",
       "3     1003  ultra    11.80     76.00 1950.00          764.40\n",
       "4     1004  ultra    18.75    149.00 1950.00          123.38"
      ]
     },
     "execution_count": 56,
     "metadata": {},
     "output_type": "execute_result"
    }
   ],
   "source": [
    "mean_usage.head()"
   ]
  },
  {
   "cell_type": "markdown",
   "metadata": {},
   "source": [
    "Построим сводную таблицу, в которой рассчитаем среднее, дисперсию и стандартное отклонение для основных показателей:"
   ]
  },
  {
   "cell_type": "code",
   "execution_count": 57,
   "metadata": {},
   "outputs": [],
   "source": [
    "describe_tariff = df.pivot_table(index=['tariff'],\n",
    "                       values=['total_duration', 'messages', 'gb_used', 'profit'],\n",
    "                       aggfunc={'total_duration': [np.mean, np.var, np.std],\n",
    "                                'messages': [np.mean, np.var, np.std],\n",
    "                                'gb_used': [np.mean, np.var, np.std],\n",
    "                                'profit': [np.mean, np.var, np.std]\n",
    "                               }\n",
    "                      )"
   ]
  },
  {
   "cell_type": "code",
   "execution_count": 59,
   "metadata": {},
   "outputs": [
    {
     "data": {
      "text/html": [
       "<div>\n",
       "<style scoped>\n",
       "    .dataframe tbody tr th:only-of-type {\n",
       "        vertical-align: middle;\n",
       "    }\n",
       "\n",
       "    .dataframe tbody tr th {\n",
       "        vertical-align: top;\n",
       "    }\n",
       "\n",
       "    .dataframe thead th {\n",
       "        text-align: right;\n",
       "    }\n",
       "</style>\n",
       "<table border=\"1\" class=\"dataframe\">\n",
       "  <thead>\n",
       "    <tr style=\"text-align: right;\">\n",
       "      <th></th>\n",
       "      <th>tariff</th>\n",
       "      <th>smart</th>\n",
       "      <th>ultra</th>\n",
       "    </tr>\n",
       "  </thead>\n",
       "  <tbody>\n",
       "    <tr>\n",
       "      <td rowspan=\"3\" valign=\"top\">gb_used</td>\n",
       "      <td>mean</td>\n",
       "      <td>16.33</td>\n",
       "      <td>19.49</td>\n",
       "    </tr>\n",
       "    <tr>\n",
       "      <td>std</td>\n",
       "      <td>5.75</td>\n",
       "      <td>9.89</td>\n",
       "    </tr>\n",
       "    <tr>\n",
       "      <td>var</td>\n",
       "      <td>33.09</td>\n",
       "      <td>97.82</td>\n",
       "    </tr>\n",
       "    <tr>\n",
       "      <td rowspan=\"3\" valign=\"top\">messages</td>\n",
       "      <td>mean</td>\n",
       "      <td>33.40</td>\n",
       "      <td>49.03</td>\n",
       "    </tr>\n",
       "    <tr>\n",
       "      <td>std</td>\n",
       "      <td>28.26</td>\n",
       "      <td>46.89</td>\n",
       "    </tr>\n",
       "    <tr>\n",
       "      <td>var</td>\n",
       "      <td>798.60</td>\n",
       "      <td>2198.73</td>\n",
       "    </tr>\n",
       "    <tr>\n",
       "      <td rowspan=\"3\" valign=\"top\">profit</td>\n",
       "      <td>mean</td>\n",
       "      <td>1231.39</td>\n",
       "      <td>2060.82</td>\n",
       "    </tr>\n",
       "    <tr>\n",
       "      <td>std</td>\n",
       "      <td>786.44</td>\n",
       "      <td>358.04</td>\n",
       "    </tr>\n",
       "    <tr>\n",
       "      <td>var</td>\n",
       "      <td>618480.63</td>\n",
       "      <td>128191.91</td>\n",
       "    </tr>\n",
       "    <tr>\n",
       "      <td rowspan=\"3\" valign=\"top\">total_duration</td>\n",
       "      <td>mean</td>\n",
       "      <td>419.06</td>\n",
       "      <td>545.45</td>\n",
       "    </tr>\n",
       "    <tr>\n",
       "      <td>std</td>\n",
       "      <td>189.33</td>\n",
       "      <td>306.93</td>\n",
       "    </tr>\n",
       "    <tr>\n",
       "      <td>var</td>\n",
       "      <td>35844.19</td>\n",
       "      <td>94203.42</td>\n",
       "    </tr>\n",
       "  </tbody>\n",
       "</table>\n",
       "</div>"
      ],
      "text/plain": [
       "tariff                  smart     ultra\n",
       "gb_used        mean     16.33     19.49\n",
       "               std       5.75      9.89\n",
       "               var      33.09     97.82\n",
       "messages       mean     33.40     49.03\n",
       "               std      28.26     46.89\n",
       "               var     798.60   2198.73\n",
       "profit         mean   1231.39   2060.82\n",
       "               std     786.44    358.04\n",
       "               var  618480.63 128191.91\n",
       "total_duration mean    419.06    545.45\n",
       "               std     189.33    306.93\n",
       "               var   35844.19  94203.42"
      ]
     },
     "execution_count": 59,
     "metadata": {},
     "output_type": "execute_result"
    }
   ],
   "source": [
    "describe_tariff.T"
   ]
  },
  {
   "cell_type": "markdown",
   "metadata": {},
   "source": [
    "Показатели дисперсии для основных показателей у пользователей разных тарифов различаются приблизительно в 3 раза для каждого параметра. Также пользователи тарифа `Ultra` в среднем пользуются большим количеством интернет-трафика, отправляют большее количество сообщений и имеют большую продолжительность звонков."
   ]
  },
  {
   "cell_type": "markdown",
   "metadata": {},
   "source": [
    "Построим графики плотностей распределения основных параметров для каждого тарифа:"
   ]
  },
  {
   "cell_type": "code",
   "execution_count": 60,
   "metadata": {},
   "outputs": [
    {
     "data": {
      "image/png": "[encoded data removed]",
      "text/plain": [
       "<Figure size 720x432 with 1 Axes>"
      ]
     },
     "metadata": {},
     "output_type": "display_data"
    }
   ],
   "source": [
    "for tariff in ['ultra', 'smart']:\n",
    "    sns.distplot(mean_usage.query('tariff == @tariff')['total_duration'], label=tariff)\n",
    "    plt.legend(['ultra', 'smart'])"
   ]
  },
  {
   "cell_type": "code",
   "execution_count": 61,
   "metadata": {},
   "outputs": [
    {
     "data": {
      "image/png": "[encoded data removed]",
      "text/plain": [
       "<Figure size 720x432 with 1 Axes>"
      ]
     },
     "metadata": {},
     "output_type": "display_data"
    }
   ],
   "source": [
    "for tariff in ['ultra', 'smart']:\n",
    "    sns.distplot(mean_usage.query('tariff == @tariff')['messages'], label=tariff)\n",
    "    plt.legend(['ultra', 'smart'])"
   ]
  },
  {
   "cell_type": "code",
   "execution_count": 62,
   "metadata": {},
   "outputs": [
    {
     "data": {
      "image/png": "[encoded data removed]",
      "text/plain": [
       "<Figure size 720x432 with 1 Axes>"
      ]
     },
     "metadata": {},
     "output_type": "display_data"
    }
   ],
   "source": [
    "for tariff in ['ultra', 'smart']:\n",
    "    sns.distplot(mean_usage.query('tariff == @tariff')['gb_used'], label=tariff)\n",
    "    plt.legend(['ultra', 'smart'])"
   ]
  },
  {
   "cell_type": "markdown",
   "metadata": {},
   "source": [
    "Анализируя гистограммы, можно сделать вывод, что дисперсия у тарифа `Smart` меньше, чем у тарифа `Ultra` по всем показателям."
   ]
  },
  {
   "cell_type": "markdown",
   "metadata": {},
   "source": [
    "### Вывод"
   ]
  },
  {
   "cell_type": "markdown",
   "metadata": {},
   "source": [
    "Анализируя результаты исследования, можно сделать вывод о том, что тариф `Smart` гораздо популярнее, чем тариф `Ultra`. Однако их возможности в плане использования услуг более ограничены, о чем свидетельствуют построенные гистограммы и показатели стандартного отклонения: пользователи тарифа `Ultra` более широко используют свои тарифные возможности.\n",
    "\n",
    "Вероятно, что объем тарифного пакета позволяет им не задумывать о количестве уже использованных ресурсов. Однако сам объем обусловен стоимостью тарифа."
   ]
  },
  {
   "cell_type": "markdown",
   "metadata": {},
   "source": [
    "## Проверка статистических гипотез"
   ]
  },
  {
   "cell_type": "markdown",
   "metadata": {},
   "source": [
    "### Гипотеза о средней выручке исследуемых тарифов"
   ]
  },
  {
   "cell_type": "markdown",
   "metadata": {},
   "source": [
    "$H_{0}$ - Средняя выручка пользователей тарифов `Smart` и `Ultra` не различаются\n",
    "\n",
    "$H_{1}$ - Средняя выручка пользователей тарифов `Smart` и `Ultra` различаются\n",
    "\n",
    "$\\alpha$ = 0.05"
   ]
  },
  {
   "cell_type": "code",
   "execution_count": 63,
   "metadata": {},
   "outputs": [],
   "source": [
    "smart_profit = df.query(\"tariff == 'smart'\")['profit']\n",
    "ultra_profit = df.query(\"tariff == 'ultra'\")['profit']\n",
    "\n",
    "a = 0.05"
   ]
  },
  {
   "cell_type": "code",
   "execution_count": 64,
   "metadata": {},
   "outputs": [],
   "source": [
    "results = st.ttest_ind(smart_profit, ultra_profit, equal_var=False)"
   ]
  },
  {
   "cell_type": "code",
   "execution_count": 65,
   "metadata": {
    "scrolled": true
   },
   "outputs": [
    {
     "name": "stdout",
     "output_type": "stream",
     "text": [
      "Отвергаем нулевую гипотезу\n"
     ]
    }
   ],
   "source": [
    "if results.pvalue < a:\n",
    "    print('Отвергаем нулевую гипотезу')\n",
    "else:\n",
    "    print('Не удалось отвернуть нулевую гипотезу')"
   ]
  },
  {
   "cell_type": "markdown",
   "metadata": {},
   "source": [
    "Таким образом можно сказать, что средняя выручка пользователей различных тарифов отличаются."
   ]
  },
  {
   "cell_type": "code",
   "execution_count": 66,
   "metadata": {},
   "outputs": [
    {
     "data": {
      "text/html": [
       "<div>\n",
       "<style scoped>\n",
       "    .dataframe tbody tr th:only-of-type {\n",
       "        vertical-align: middle;\n",
       "    }\n",
       "\n",
       "    .dataframe tbody tr th {\n",
       "        vertical-align: top;\n",
       "    }\n",
       "\n",
       "    .dataframe thead th {\n",
       "        text-align: right;\n",
       "    }\n",
       "</style>\n",
       "<table border=\"1\" class=\"dataframe\">\n",
       "  <thead>\n",
       "    <tr style=\"text-align: right;\">\n",
       "      <th></th>\n",
       "      <th>profit</th>\n",
       "    </tr>\n",
       "    <tr>\n",
       "      <th>tariff</th>\n",
       "      <th></th>\n",
       "    </tr>\n",
       "  </thead>\n",
       "  <tbody>\n",
       "    <tr>\n",
       "      <td>smart</td>\n",
       "      <td>1265.17</td>\n",
       "    </tr>\n",
       "    <tr>\n",
       "      <td>ultra</td>\n",
       "      <td>2074.58</td>\n",
       "    </tr>\n",
       "  </tbody>\n",
       "</table>\n",
       "</div>"
      ],
      "text/plain": [
       "        profit\n",
       "tariff        \n",
       "smart  1265.17\n",
       "ultra  2074.58"
      ]
     },
     "execution_count": 66,
     "metadata": {},
     "output_type": "execute_result"
    }
   ],
   "source": [
    "mean_usage.pivot_table(index='tariff', values='profit')"
   ]
  },
  {
   "cell_type": "markdown",
   "metadata": {},
   "source": [
    "Средняя выручка для пользователей тарифа `Smart` - **1265 р.**\n",
    "\n",
    "Средняя выручка для пользователей тарифа `Ultra` - **2075 р.** "
   ]
  },
  {
   "cell_type": "markdown",
   "metadata": {},
   "source": [
    "### Гипотеза о разнице средней выручки в Москве и в остальных регионах"
   ]
  },
  {
   "cell_type": "markdown",
   "metadata": {},
   "source": [
    "$H_{0}$ - Средняя выручка пользователей из Москвы не отличается от выручки пользователей в других городах\n",
    "\n",
    "$H_{1}$ - Средняя выручка пользователей из Москвы отличается от выручки пользователей в других городах\n",
    "\n",
    "$\\alpha$ = 0.05"
   ]
  },
  {
   "cell_type": "code",
   "execution_count": 67,
   "metadata": {},
   "outputs": [],
   "source": [
    "moscow_users = df.query(\"city == 'Москва'\")['profit']\n",
    "other_users = df.query(\"city != 'Москва'\")['profit']\n",
    "\n",
    "a = 0.05"
   ]
  },
  {
   "cell_type": "code",
   "execution_count": 68,
   "metadata": {},
   "outputs": [],
   "source": [
    "results = st.ttest_ind(moscow_users, other_users, equal_var=False)"
   ]
  },
  {
   "cell_type": "code",
   "execution_count": 69,
   "metadata": {},
   "outputs": [
    {
     "name": "stdout",
     "output_type": "stream",
     "text": [
      "Не удалось отвернуть нулевую гипотезу\n"
     ]
    }
   ],
   "source": [
    "if results.pvalue < a:\n",
    "    print('Отвергаем нулевую гипотезу')\n",
    "else:\n",
    "    print('Не удалось отвернуть нулевую гипотезу')"
   ]
  },
  {
   "cell_type": "markdown",
   "metadata": {},
   "source": [
    "Таким образом можно сказать, что средняя выручка пользователей из Москвы и остальных городов не отличаются."
   ]
  },
  {
   "cell_type": "markdown",
   "metadata": {},
   "source": [
    "Рассчитаем среднюю выручку пользователей из Москвы:"
   ]
  },
  {
   "cell_type": "code",
   "execution_count": 70,
   "metadata": {},
   "outputs": [
    {
     "data": {
      "text/plain": [
       "1504"
      ]
     },
     "execution_count": 70,
     "metadata": {},
     "output_type": "execute_result"
    }
   ],
   "source": [
    "int(df.query(\"city == 'Москва'\")['profit'].mean())"
   ]
  },
  {
   "cell_type": "markdown",
   "metadata": {},
   "source": [
    "Рассчитаем среднюю выручку пользователей из остальных городов:"
   ]
  },
  {
   "cell_type": "code",
   "execution_count": 71,
   "metadata": {},
   "outputs": [
    {
     "data": {
      "text/plain": [
       "1474"
      ]
     },
     "execution_count": 71,
     "metadata": {},
     "output_type": "execute_result"
    }
   ],
   "source": [
    "int(df.query(\"city != 'Москва'\")['profit'].mean())"
   ]
  },
  {
   "cell_type": "markdown",
   "metadata": {},
   "source": [
    "### Вывод"
   ]
  },
  {
   "cell_type": "markdown",
   "metadata": {},
   "source": [
    "При проверки статистических гипотез удалость выяснить следующие факты:\n",
    "\n",
    "* Средняя выручка пользователей различных тарифов отличаются. Для пользователей тарифа `Smart` средняя выручка составила **1265 р.**, а для пользователей тарифа `Ultra` - **2075 р.**\n",
    "* средняя выручка пользователей из Москвы и остальных городов не отличаются. Значение среднего для Москвы - **1504 р.** Для остальных городов - **1474 р.**"
   ]
  },
  {
   "cell_type": "markdown",
   "metadata": {},
   "source": [
    "## Общий вывод"
   ]
  },
  {
   "cell_type": "markdown",
   "metadata": {},
   "source": [
    "По результатам исследования средний доход пользователей тарифа `Ultra` больше, чем у тарифа `Smart` более чем в **1.5 раза**. Для большинства пользователей данного тарифа можно сказать, что им в полной мере хватает существующего объема минут, трафика и минут. Однако для пользователи тарифа `Smart` ограничены в своих ресурсах - в большинстве случаев им приходится ежемесячно доплачивать некоторую сумму для удовлетворения своих потребностей.\n",
    "\n",
    "Можно сделать вывод, что использование тарифа `Ultra` является более предпочтительным даже несмотря на его высокую стоимость - заплатив один раз вы оберегаете себя от каких-либо переплат в течение месяца."
   ]
  }
 ],
 "metadata": {
  "ExecuteTimeLog": [
   {
    "duration": 1462,
    "start_time": "2021-11-30T14:08:21.305Z"
   },
   {
    "duration": 3,
    "start_time": "2021-11-30T14:48:03.035Z"
   },
   {
    "duration": 30,
    "start_time": "2021-11-30T14:50:49.669Z"
   },
   {
    "duration": 535,
    "start_time": "2021-11-30T14:51:34.812Z"
   },
   {
    "duration": 11,
    "start_time": "2021-11-30T14:53:09.540Z"
   },
   {
    "duration": 19,
    "start_time": "2021-11-30T14:53:23.780Z"
   },
   {
    "duration": 15,
    "start_time": "2021-11-30T14:53:39.181Z"
   },
   {
    "duration": 15,
    "start_time": "2021-11-30T14:54:01.044Z"
   },
   {
    "duration": 17,
    "start_time": "2021-11-30T14:54:06.852Z"
   },
   {
    "duration": 9,
    "start_time": "2021-11-30T14:54:34.836Z"
   },
   {
    "duration": 530,
    "start_time": "2021-11-30T14:55:34.033Z"
   },
   {
    "duration": 25,
    "start_time": "2021-11-30T14:58:59.317Z"
   },
   {
    "duration": 23,
    "start_time": "2021-11-30T14:59:03.437Z"
   },
   {
    "duration": 24,
    "start_time": "2021-11-30T14:59:10.573Z"
   },
   {
    "duration": 22,
    "start_time": "2021-11-30T14:59:16.021Z"
   },
   {
    "duration": 409,
    "start_time": "2021-11-30T14:59:49.198Z"
   },
   {
    "duration": 257,
    "start_time": "2021-11-30T15:00:55.911Z"
   },
   {
    "duration": 275,
    "start_time": "2021-11-30T15:02:01.414Z"
   },
   {
    "duration": 23,
    "start_time": "2021-11-30T15:02:04.438Z"
   },
   {
    "duration": 10,
    "start_time": "2021-11-30T15:02:19.166Z"
   },
   {
    "duration": 11,
    "start_time": "2021-11-30T15:03:08.543Z"
   },
   {
    "duration": 31,
    "start_time": "2021-11-30T15:03:26.070Z"
   },
   {
    "duration": 26,
    "start_time": "2021-11-30T15:03:31.438Z"
   },
   {
    "duration": 10,
    "start_time": "2021-11-30T15:03:53.134Z"
   },
   {
    "duration": 18,
    "start_time": "2021-11-30T15:04:16.303Z"
   },
   {
    "duration": 29,
    "start_time": "2021-11-30T15:04:24.558Z"
   },
   {
    "duration": 268,
    "start_time": "2021-11-30T15:04:52.263Z"
   },
   {
    "duration": 36,
    "start_time": "2021-11-30T15:04:57.262Z"
   },
   {
    "duration": 23,
    "start_time": "2021-11-30T15:05:10.334Z"
   },
   {
    "duration": 11,
    "start_time": "2021-11-30T15:09:29.151Z"
   },
   {
    "duration": 268,
    "start_time": "2021-11-30T15:09:41.326Z"
   },
   {
    "duration": 25,
    "start_time": "2021-11-30T15:09:48.720Z"
   },
   {
    "duration": 10,
    "start_time": "2021-11-30T15:09:54.685Z"
   },
   {
    "duration": 15,
    "start_time": "2021-11-30T15:10:07.839Z"
   },
   {
    "duration": 21,
    "start_time": "2021-11-30T15:10:16.574Z"
   },
   {
    "duration": 13,
    "start_time": "2021-11-30T15:11:39.463Z"
   },
   {
    "duration": 12,
    "start_time": "2021-11-30T15:11:49.984Z"
   },
   {
    "duration": 17,
    "start_time": "2021-11-30T15:12:00.464Z"
   },
   {
    "duration": 23,
    "start_time": "2021-11-30T15:12:06.135Z"
   },
   {
    "duration": 50,
    "start_time": "2021-11-30T15:12:40.807Z"
   },
   {
    "duration": 17,
    "start_time": "2021-11-30T15:12:55.376Z"
   },
   {
    "duration": 12,
    "start_time": "2021-11-30T15:13:28.552Z"
   },
   {
    "duration": 11,
    "start_time": "2021-11-30T15:13:37.984Z"
   },
   {
    "duration": 16,
    "start_time": "2021-11-30T15:14:16.288Z"
   },
   {
    "duration": 91,
    "start_time": "2021-11-30T15:21:43.247Z"
   },
   {
    "duration": 8,
    "start_time": "2021-11-30T15:31:43.963Z"
   },
   {
    "duration": 9,
    "start_time": "2021-11-30T15:31:50.593Z"
   },
   {
    "duration": 11,
    "start_time": "2021-11-30T15:32:38.785Z"
   },
   {
    "duration": 10,
    "start_time": "2021-11-30T15:32:45.449Z"
   },
   {
    "duration": 11,
    "start_time": "2021-11-30T15:35:13.272Z"
   },
   {
    "duration": 28,
    "start_time": "2021-11-30T15:35:18.233Z"
   },
   {
    "duration": 30,
    "start_time": "2021-11-30T15:35:33.914Z"
   },
   {
    "duration": 4,
    "start_time": "2021-11-30T15:38:35.137Z"
   },
   {
    "duration": 7,
    "start_time": "2021-11-30T15:38:45.538Z"
   },
   {
    "duration": 26,
    "start_time": "2021-11-30T15:38:50.770Z"
   },
   {
    "duration": 6,
    "start_time": "2021-11-30T15:40:02.635Z"
   },
   {
    "duration": 4,
    "start_time": "2021-11-30T15:41:34.602Z"
   },
   {
    "duration": 914,
    "start_time": "2021-11-30T15:41:41.257Z"
   },
   {
    "duration": 5,
    "start_time": "2021-11-30T15:41:58.634Z"
   },
   {
    "duration": 7243,
    "start_time": "2021-11-30T15:41:59.137Z"
   },
   {
    "duration": 9100,
    "start_time": "2021-11-30T15:42:22.219Z"
   },
   {
    "duration": 5,
    "start_time": "2021-11-30T15:42:38.435Z"
   },
   {
    "duration": 11,
    "start_time": "2021-11-30T15:42:40.668Z"
   },
   {
    "duration": 6,
    "start_time": "2021-11-30T15:43:01.090Z"
   },
   {
    "duration": 7677,
    "start_time": "2021-11-30T15:43:02.338Z"
   },
   {
    "duration": 5,
    "start_time": "2021-11-30T15:43:25.666Z"
   },
   {
    "duration": 620,
    "start_time": "2021-11-30T15:43:26.139Z"
   },
   {
    "duration": 5,
    "start_time": "2021-11-30T15:43:38.890Z"
   },
   {
    "duration": 7,
    "start_time": "2021-11-30T15:43:39.265Z"
   },
   {
    "duration": 4,
    "start_time": "2021-11-30T15:43:42.458Z"
   },
   {
    "duration": 6,
    "start_time": "2021-11-30T15:43:42.993Z"
   },
   {
    "duration": 6,
    "start_time": "2021-11-30T15:43:57.613Z"
   },
   {
    "duration": 4,
    "start_time": "2021-11-30T15:44:08.142Z"
   },
   {
    "duration": 8,
    "start_time": "2021-11-30T15:44:08.489Z"
   },
   {
    "duration": 5,
    "start_time": "2021-11-30T15:44:34.466Z"
   },
   {
    "duration": -1343,
    "start_time": "2021-11-30T15:44:42.899Z"
   },
   {
    "duration": -1348,
    "start_time": "2021-11-30T15:44:42.905Z"
   },
   {
    "duration": 5,
    "start_time": "2021-11-30T15:44:43.828Z"
   },
   {
    "duration": 15,
    "start_time": "2021-11-30T15:44:44.508Z"
   },
   {
    "duration": 5,
    "start_time": "2021-11-30T15:45:16.906Z"
   },
   {
    "duration": 530,
    "start_time": "2021-11-30T15:45:17.674Z"
   },
   {
    "duration": 4,
    "start_time": "2021-11-30T15:45:23.955Z"
   },
   {
    "duration": 8,
    "start_time": "2021-11-30T15:45:25.132Z"
   },
   {
    "duration": 5,
    "start_time": "2021-11-30T15:45:29.113Z"
   },
   {
    "duration": 10,
    "start_time": "2021-11-30T15:45:30.043Z"
   },
   {
    "duration": 4,
    "start_time": "2021-11-30T15:45:46.675Z"
   },
   {
    "duration": 10,
    "start_time": "2021-11-30T15:45:47.025Z"
   },
   {
    "duration": 4,
    "start_time": "2021-11-30T15:46:03.370Z"
   },
   {
    "duration": 1093,
    "start_time": "2021-11-30T15:46:03.914Z"
   },
   {
    "duration": 145,
    "start_time": "2021-11-30T15:46:09.874Z"
   },
   {
    "duration": 31,
    "start_time": "2021-11-30T15:46:29.890Z"
   },
   {
    "duration": 24,
    "start_time": "2021-11-30T15:46:57.386Z"
   },
   {
    "duration": 26,
    "start_time": "2021-11-30T15:47:39.482Z"
   },
   {
    "duration": 34,
    "start_time": "2021-11-30T15:47:46.837Z"
   },
   {
    "duration": 22,
    "start_time": "2021-11-30T15:47:47.733Z"
   },
   {
    "duration": 26,
    "start_time": "2021-11-30T15:47:48.605Z"
   },
   {
    "duration": 10,
    "start_time": "2021-11-30T15:49:00.227Z"
   },
   {
    "duration": 96,
    "start_time": "2021-11-30T15:51:57.764Z"
   },
   {
    "duration": 4,
    "start_time": "2021-11-30T15:52:03.371Z"
   },
   {
    "duration": 4,
    "start_time": "2021-11-30T15:52:13.979Z"
   },
   {
    "duration": 6,
    "start_time": "2021-11-30T15:52:23.219Z"
   },
   {
    "duration": 285,
    "start_time": "2021-11-30T15:52:26.562Z"
   },
   {
    "duration": 4,
    "start_time": "2021-11-30T15:52:55.211Z"
   },
   {
    "duration": 5,
    "start_time": "2021-11-30T15:54:22.914Z"
   },
   {
    "duration": 346,
    "start_time": "2021-11-30T15:54:27.531Z"
   },
   {
    "duration": 314,
    "start_time": "2021-11-30T15:54:31.770Z"
   },
   {
    "duration": 5,
    "start_time": "2021-11-30T15:54:54.021Z"
   },
   {
    "duration": 5,
    "start_time": "2021-11-30T15:54:59.115Z"
   },
   {
    "duration": 297,
    "start_time": "2021-11-30T15:54:59.498Z"
   },
   {
    "duration": 7,
    "start_time": "2021-11-30T15:55:03.484Z"
   },
   {
    "duration": 5,
    "start_time": "2021-11-30T15:55:19.538Z"
   },
   {
    "duration": 321,
    "start_time": "2021-11-30T15:55:20.099Z"
   },
   {
    "duration": 4,
    "start_time": "2021-11-30T15:56:17.947Z"
   },
   {
    "duration": 294,
    "start_time": "2021-11-30T15:56:37.099Z"
   },
   {
    "duration": 152,
    "start_time": "2021-11-30T15:57:08.228Z"
   },
   {
    "duration": 34,
    "start_time": "2021-11-30T15:57:15.594Z"
   },
   {
    "duration": 13,
    "start_time": "2021-11-30T15:57:25.034Z"
   },
   {
    "duration": 34,
    "start_time": "2021-11-30T15:57:31.619Z"
   },
   {
    "duration": 25,
    "start_time": "2021-11-30T16:16:33.012Z"
   },
   {
    "duration": 28,
    "start_time": "2021-11-30T16:16:34.381Z"
   },
   {
    "duration": 9,
    "start_time": "2021-11-30T16:16:39.229Z"
   },
   {
    "duration": 307,
    "start_time": "2021-11-30T16:23:57.061Z"
   },
   {
    "duration": 6994,
    "start_time": "2021-11-30T16:25:25.285Z"
   },
   {
    "duration": 681,
    "start_time": "2021-11-30T16:25:57.669Z"
   },
   {
    "duration": 12,
    "start_time": "2021-11-30T16:26:02.694Z"
   },
   {
    "duration": 287,
    "start_time": "2021-11-30T16:35:45.205Z"
   },
   {
    "duration": 640,
    "start_time": "2021-11-30T16:35:59.744Z"
   },
   {
    "duration": 8,
    "start_time": "2021-11-30T16:36:15.141Z"
   },
   {
    "duration": 287,
    "start_time": "2021-11-30T16:36:18.581Z"
   },
   {
    "duration": 29,
    "start_time": "2021-11-30T16:36:26.517Z"
   },
   {
    "duration": 96,
    "start_time": "2021-11-30T16:36:35.548Z"
   },
   {
    "duration": 20,
    "start_time": "2021-11-30T16:36:43.349Z"
   },
   {
    "duration": 9235,
    "start_time": "2021-11-30T16:36:48.934Z"
   },
   {
    "duration": 58,
    "start_time": "2021-11-30T16:37:12.517Z"
   },
   {
    "duration": 21,
    "start_time": "2021-11-30T16:37:15.990Z"
   },
   {
    "duration": 26,
    "start_time": "2021-11-30T16:37:21.668Z"
   },
   {
    "duration": 72,
    "start_time": "2021-11-30T16:38:07.071Z"
   },
   {
    "duration": 18,
    "start_time": "2021-11-30T16:38:11.245Z"
   },
   {
    "duration": 73,
    "start_time": "2021-11-30T16:38:47.037Z"
   },
   {
    "duration": 4,
    "start_time": "2021-11-30T16:41:36.583Z"
   },
   {
    "duration": 6,
    "start_time": "2021-11-30T16:42:11.606Z"
   },
   {
    "duration": 3858,
    "start_time": "2021-11-30T16:42:57.886Z"
   },
   {
    "duration": 3407,
    "start_time": "2021-11-30T16:43:31.351Z"
   },
   {
    "duration": 4384,
    "start_time": "2021-11-30T16:43:49.600Z"
   },
   {
    "duration": 9,
    "start_time": "2021-11-30T16:44:01.122Z"
   },
   {
    "duration": 1496,
    "start_time": "2021-11-30T16:44:56.378Z"
   },
   {
    "duration": 579,
    "start_time": "2021-11-30T16:44:57.876Z"
   },
   {
    "duration": 22,
    "start_time": "2021-11-30T16:44:58.459Z"
   },
   {
    "duration": 20,
    "start_time": "2021-11-30T16:44:58.484Z"
   },
   {
    "duration": 28,
    "start_time": "2021-11-30T16:44:58.507Z"
   },
   {
    "duration": 9,
    "start_time": "2021-11-30T16:44:58.567Z"
   },
   {
    "duration": 15,
    "start_time": "2021-11-30T16:44:58.578Z"
   },
   {
    "duration": 11,
    "start_time": "2021-11-30T16:44:58.596Z"
   },
   {
    "duration": 18,
    "start_time": "2021-11-30T16:44:58.611Z"
   },
   {
    "duration": 21,
    "start_time": "2021-11-30T16:44:58.668Z"
   },
   {
    "duration": 29,
    "start_time": "2021-11-30T16:44:58.692Z"
   },
   {
    "duration": 58,
    "start_time": "2021-11-30T16:44:58.724Z"
   },
   {
    "duration": 10,
    "start_time": "2021-11-30T16:44:58.785Z"
   },
   {
    "duration": 15,
    "start_time": "2021-11-30T16:44:58.797Z"
   },
   {
    "duration": 27,
    "start_time": "2021-11-30T16:44:58.814Z"
   },
   {
    "duration": 39,
    "start_time": "2021-11-30T16:44:58.844Z"
   },
   {
    "duration": 12,
    "start_time": "2021-11-30T16:44:58.886Z"
   },
   {
    "duration": 11,
    "start_time": "2021-11-30T16:44:58.901Z"
   },
   {
    "duration": 53,
    "start_time": "2021-11-30T16:44:58.915Z"
   },
   {
    "duration": 23,
    "start_time": "2021-11-30T16:44:58.970Z"
   },
   {
    "duration": 26,
    "start_time": "2021-11-30T16:44:58.996Z"
   },
   {
    "duration": 13,
    "start_time": "2021-11-30T16:44:59.024Z"
   },
   {
    "duration": 11,
    "start_time": "2021-11-30T16:44:59.071Z"
   },
   {
    "duration": 32,
    "start_time": "2021-11-30T16:44:59.085Z"
   },
   {
    "duration": 52,
    "start_time": "2021-11-30T16:44:59.120Z"
   },
   {
    "duration": 28,
    "start_time": "2021-11-30T16:44:59.174Z"
   },
   {
    "duration": 6,
    "start_time": "2021-11-30T16:44:59.204Z"
   },
   {
    "duration": 304,
    "start_time": "2021-11-30T16:44:59.212Z"
   },
   {
    "duration": 105,
    "start_time": "2021-11-30T16:44:59.519Z"
   },
   {
    "duration": 82,
    "start_time": "2021-11-30T16:44:59.626Z"
   },
   {
    "duration": 7,
    "start_time": "2021-11-30T16:44:59.711Z"
   },
   {
    "duration": 28,
    "start_time": "2021-11-30T16:45:05.684Z"
   },
   {
    "duration": 87,
    "start_time": "2021-11-30T16:51:33.462Z"
   },
   {
    "duration": 404,
    "start_time": "2021-11-30T16:51:36.556Z"
   },
   {
    "duration": 115,
    "start_time": "2021-11-30T16:51:43.661Z"
   },
   {
    "duration": 23,
    "start_time": "2021-11-30T16:51:55.452Z"
   },
   {
    "duration": 14,
    "start_time": "2021-11-30T16:52:04.566Z"
   },
   {
    "duration": 70,
    "start_time": "2021-11-30T16:52:22.821Z"
   },
   {
    "duration": 13,
    "start_time": "2021-11-30T16:52:23.845Z"
   },
   {
    "duration": 291,
    "start_time": "2021-11-30T16:54:37.445Z"
   },
   {
    "duration": 6,
    "start_time": "2021-11-30T16:54:40.726Z"
   },
   {
    "duration": 4,
    "start_time": "2021-11-30T16:55:12.813Z"
   },
   {
    "duration": 22,
    "start_time": "2021-11-30T16:55:18.901Z"
   },
   {
    "duration": 13,
    "start_time": "2021-11-30T16:55:27.341Z"
   },
   {
    "duration": 15,
    "start_time": "2021-11-30T16:56:48.776Z"
   },
   {
    "duration": 13,
    "start_time": "2021-11-30T16:56:54.602Z"
   },
   {
    "duration": 37,
    "start_time": "2021-11-30T16:58:13.062Z"
   },
   {
    "duration": 19,
    "start_time": "2021-11-30T16:58:18.270Z"
   },
   {
    "duration": 5,
    "start_time": "2021-11-30T16:58:55.678Z"
   },
   {
    "duration": 20,
    "start_time": "2021-11-30T16:59:08.272Z"
   },
   {
    "duration": 70,
    "start_time": "2021-11-30T16:59:15.470Z"
   },
   {
    "duration": 20,
    "start_time": "2021-11-30T16:59:15.878Z"
   },
   {
    "duration": 41,
    "start_time": "2021-11-30T16:59:33.983Z"
   },
   {
    "duration": 69,
    "start_time": "2021-11-30T16:59:36.672Z"
   },
   {
    "duration": 21,
    "start_time": "2021-11-30T16:59:37.072Z"
   },
   {
    "duration": 39,
    "start_time": "2021-11-30T16:59:39.415Z"
   },
   {
    "duration": 17,
    "start_time": "2021-11-30T16:59:52.622Z"
   },
   {
    "duration": 32,
    "start_time": "2021-11-30T17:02:37.966Z"
   },
   {
    "duration": 32,
    "start_time": "2021-11-30T17:02:40.670Z"
   },
   {
    "duration": 18,
    "start_time": "2021-11-30T17:02:41.278Z"
   },
   {
    "duration": 261,
    "start_time": "2021-11-30T17:02:51.631Z"
   },
   {
    "duration": 253,
    "start_time": "2021-11-30T17:03:13.688Z"
   },
   {
    "duration": 254,
    "start_time": "2021-11-30T17:03:24.071Z"
   },
   {
    "duration": 45,
    "start_time": "2021-11-30T17:03:36.471Z"
   },
   {
    "duration": 23,
    "start_time": "2021-11-30T17:03:36.973Z"
   },
   {
    "duration": 682,
    "start_time": "2021-11-30T17:03:47.820Z"
   },
   {
    "duration": 20,
    "start_time": "2021-11-30T17:03:49.213Z"
   },
   {
    "duration": 33,
    "start_time": "2021-11-30T17:04:21.815Z"
   },
   {
    "duration": 20,
    "start_time": "2021-11-30T17:04:22.198Z"
   },
   {
    "duration": 10,
    "start_time": "2021-11-30T17:06:27.198Z"
   },
   {
    "duration": 22,
    "start_time": "2021-11-30T17:06:33.319Z"
   },
   {
    "duration": 5,
    "start_time": "2021-11-30T17:06:44.279Z"
   },
   {
    "duration": 21,
    "start_time": "2021-11-30T17:06:44.854Z"
   },
   {
    "duration": 8,
    "start_time": "2021-11-30T17:06:51.447Z"
   },
   {
    "duration": 31,
    "start_time": "2021-11-30T17:06:51.799Z"
   },
   {
    "duration": 1580,
    "start_time": "2021-12-01T16:32:22.826Z"
   },
   {
    "duration": 550,
    "start_time": "2021-12-01T16:32:24.409Z"
   },
   {
    "duration": 19,
    "start_time": "2021-12-01T16:32:24.962Z"
   },
   {
    "duration": 16,
    "start_time": "2021-12-01T16:32:24.983Z"
   },
   {
    "duration": 35,
    "start_time": "2021-12-01T16:32:25.001Z"
   },
   {
    "duration": 10,
    "start_time": "2021-12-01T16:32:25.039Z"
   },
   {
    "duration": 13,
    "start_time": "2021-12-01T16:32:25.052Z"
   },
   {
    "duration": 11,
    "start_time": "2021-12-01T16:32:25.070Z"
   },
   {
    "duration": 53,
    "start_time": "2021-12-01T16:32:25.085Z"
   },
   {
    "duration": 19,
    "start_time": "2021-12-01T16:32:25.141Z"
   },
   {
    "duration": 29,
    "start_time": "2021-12-01T16:32:25.162Z"
   },
   {
    "duration": 56,
    "start_time": "2021-12-01T16:32:25.193Z"
   },
   {
    "duration": 11,
    "start_time": "2021-12-01T16:32:25.252Z"
   },
   {
    "duration": 11,
    "start_time": "2021-12-01T16:32:25.266Z"
   },
   {
    "duration": 58,
    "start_time": "2021-12-01T16:32:25.280Z"
   },
   {
    "duration": 19,
    "start_time": "2021-12-01T16:32:25.341Z"
   },
   {
    "duration": 11,
    "start_time": "2021-12-01T16:32:25.362Z"
   },
   {
    "duration": 11,
    "start_time": "2021-12-01T16:32:25.375Z"
   },
   {
    "duration": 51,
    "start_time": "2021-12-01T16:32:25.388Z"
   },
   {
    "duration": 27,
    "start_time": "2021-12-01T16:32:25.441Z"
   },
   {
    "duration": 17,
    "start_time": "2021-12-01T16:32:25.470Z"
   },
   {
    "duration": 44,
    "start_time": "2021-12-01T16:32:25.490Z"
   },
   {
    "duration": 14,
    "start_time": "2021-12-01T16:32:25.538Z"
   },
   {
    "duration": 29,
    "start_time": "2021-12-01T16:32:25.555Z"
   },
   {
    "duration": 46,
    "start_time": "2021-12-01T16:32:25.586Z"
   },
   {
    "duration": 24,
    "start_time": "2021-12-01T16:32:25.635Z"
   },
   {
    "duration": 5,
    "start_time": "2021-12-01T16:32:25.662Z"
   },
   {
    "duration": 284,
    "start_time": "2021-12-01T16:32:25.669Z"
   },
   {
    "duration": 102,
    "start_time": "2021-12-01T16:32:25.955Z"
   },
   {
    "duration": 83,
    "start_time": "2021-12-01T16:32:26.059Z"
   },
   {
    "duration": 8,
    "start_time": "2021-12-01T16:32:26.145Z"
   },
   {
    "duration": 87,
    "start_time": "2021-12-01T16:32:26.155Z"
   },
   {
    "duration": 19,
    "start_time": "2021-12-01T16:32:26.244Z"
   },
   {
    "duration": 76,
    "start_time": "2021-12-01T16:32:26.266Z"
   },
   {
    "duration": 27,
    "start_time": "2021-12-01T16:32:26.345Z"
   },
   {
    "duration": 70,
    "start_time": "2021-12-01T16:32:26.375Z"
   },
   {
    "duration": 13,
    "start_time": "2021-12-01T16:32:26.449Z"
   },
   {
    "duration": 27,
    "start_time": "2021-12-01T16:32:26.465Z"
   },
   {
    "duration": 26,
    "start_time": "2021-12-01T16:34:24.861Z"
   },
   {
    "duration": 23,
    "start_time": "2021-12-01T16:34:29.908Z"
   },
   {
    "duration": 14,
    "start_time": "2021-12-01T16:34:53.830Z"
   },
   {
    "duration": 470,
    "start_time": "2021-12-01T16:35:03.001Z"
   },
   {
    "duration": 34,
    "start_time": "2021-12-01T16:35:11.302Z"
   },
   {
    "duration": 303,
    "start_time": "2021-12-01T16:35:54.040Z"
   },
   {
    "duration": 7,
    "start_time": "2021-12-01T16:36:20.831Z"
   },
   {
    "duration": 19,
    "start_time": "2021-12-01T16:36:26.791Z"
   },
   {
    "duration": 304,
    "start_time": "2021-12-01T16:36:49.290Z"
   },
   {
    "duration": 12,
    "start_time": "2021-12-01T16:37:18.773Z"
   },
   {
    "duration": 34,
    "start_time": "2021-12-01T16:37:23.657Z"
   },
   {
    "duration": 24,
    "start_time": "2021-12-01T16:38:12.629Z"
   },
   {
    "duration": 351,
    "start_time": "2021-12-01T16:39:47.012Z"
   },
   {
    "duration": 6,
    "start_time": "2021-12-01T16:39:52.685Z"
   },
   {
    "duration": 7,
    "start_time": "2021-12-01T16:40:04.084Z"
   },
   {
    "duration": 14,
    "start_time": "2021-12-01T16:40:17.827Z"
   },
   {
    "duration": 9,
    "start_time": "2021-12-01T16:40:37.187Z"
   },
   {
    "duration": 29,
    "start_time": "2021-12-01T16:45:01.935Z"
   },
   {
    "duration": 11,
    "start_time": "2021-12-01T16:45:05.888Z"
   },
   {
    "duration": 5,
    "start_time": "2021-12-01T16:47:43.850Z"
   },
   {
    "duration": 22023,
    "start_time": "2021-12-01T16:48:29.881Z"
   },
   {
    "duration": 12,
    "start_time": "2021-12-01T16:48:54.041Z"
   },
   {
    "duration": 15,
    "start_time": "2021-12-01T16:51:26.578Z"
   },
   {
    "duration": 9,
    "start_time": "2021-12-01T16:51:45.569Z"
   },
   {
    "duration": 6311,
    "start_time": "2021-12-01T16:51:57.324Z"
   },
   {
    "duration": 336,
    "start_time": "2021-12-01T16:52:05.917Z"
   },
   {
    "duration": 10,
    "start_time": "2021-12-01T16:52:10.709Z"
   },
   {
    "duration": 9,
    "start_time": "2021-12-01T16:52:24.178Z"
   },
   {
    "duration": 5690,
    "start_time": "2021-12-01T16:52:49.319Z"
   },
   {
    "duration": 10,
    "start_time": "2021-12-01T16:53:02.292Z"
   },
   {
    "duration": 8,
    "start_time": "2021-12-01T16:53:17.839Z"
   },
   {
    "duration": 324,
    "start_time": "2021-12-01T16:53:28.696Z"
   },
   {
    "duration": 10,
    "start_time": "2021-12-01T16:53:35.678Z"
   },
   {
    "duration": 373,
    "start_time": "2021-12-01T16:53:41.818Z"
   },
   {
    "duration": 9,
    "start_time": "2021-12-01T16:53:48.352Z"
   },
   {
    "duration": 10,
    "start_time": "2021-12-01T16:54:01.186Z"
   },
   {
    "duration": 331,
    "start_time": "2021-12-01T16:54:11.224Z"
   },
   {
    "duration": 9,
    "start_time": "2021-12-01T16:54:31.468Z"
   },
   {
    "duration": 4251,
    "start_time": "2021-12-01T16:54:36.074Z"
   },
   {
    "duration": 11,
    "start_time": "2021-12-01T16:54:42.943Z"
   },
   {
    "duration": 11,
    "start_time": "2021-12-01T16:54:52.851Z"
   },
   {
    "duration": 20,
    "start_time": "2021-12-01T16:54:56.825Z"
   },
   {
    "duration": 12,
    "start_time": "2021-12-01T16:55:00.015Z"
   },
   {
    "duration": 13,
    "start_time": "2021-12-01T16:55:06.028Z"
   },
   {
    "duration": 7838,
    "start_time": "2021-12-01T16:55:12.087Z"
   },
   {
    "duration": 14,
    "start_time": "2021-12-01T16:55:22.546Z"
   },
   {
    "duration": 7961,
    "start_time": "2021-12-01T16:55:28.061Z"
   },
   {
    "duration": 13,
    "start_time": "2021-12-01T16:55:40.160Z"
   },
   {
    "duration": 19,
    "start_time": "2021-12-01T16:55:44.136Z"
   },
   {
    "duration": 6,
    "start_time": "2021-12-01T16:56:22.748Z"
   },
   {
    "duration": 8,
    "start_time": "2021-12-01T16:56:36.895Z"
   },
   {
    "duration": 21,
    "start_time": "2021-12-01T16:56:45.207Z"
   },
   {
    "duration": 339,
    "start_time": "2021-12-01T16:56:49.627Z"
   },
   {
    "duration": 16,
    "start_time": "2021-12-01T16:56:52.347Z"
   },
   {
    "duration": 21,
    "start_time": "2021-12-01T16:57:40.132Z"
   },
   {
    "duration": 11,
    "start_time": "2021-12-01T16:57:49.642Z"
   },
   {
    "duration": 10,
    "start_time": "2021-12-01T16:57:57.255Z"
   },
   {
    "duration": 18,
    "start_time": "2021-12-01T16:58:24.376Z"
   },
   {
    "duration": 11,
    "start_time": "2021-12-01T16:58:31.892Z"
   },
   {
    "duration": 9,
    "start_time": "2021-12-01T16:59:32.995Z"
   },
   {
    "duration": 14,
    "start_time": "2021-12-01T16:59:57.737Z"
   },
   {
    "duration": 4,
    "start_time": "2021-12-01T17:00:26.056Z"
   },
   {
    "duration": 53,
    "start_time": "2021-12-01T17:00:26.529Z"
   },
   {
    "duration": 41,
    "start_time": "2021-12-01T17:00:29.028Z"
   },
   {
    "duration": 6,
    "start_time": "2021-12-01T17:01:38.151Z"
   },
   {
    "duration": 33,
    "start_time": "2021-12-01T17:01:41.168Z"
   },
   {
    "duration": 312,
    "start_time": "2021-12-01T17:02:01.687Z"
   },
   {
    "duration": 319,
    "start_time": "2021-12-01T17:02:11.661Z"
   },
   {
    "duration": 296,
    "start_time": "2021-12-01T17:02:19.987Z"
   },
   {
    "duration": 17,
    "start_time": "2021-12-01T17:06:12.638Z"
   },
   {
    "duration": 6,
    "start_time": "2021-12-01T17:08:22.270Z"
   },
   {
    "duration": 5,
    "start_time": "2021-12-01T17:08:56.786Z"
   },
   {
    "duration": 136,
    "start_time": "2021-12-01T17:10:38.793Z"
   },
   {
    "duration": 1229,
    "start_time": "2021-12-01T17:10:49.039Z"
   },
   {
    "duration": 307,
    "start_time": "2021-12-01T17:11:06.894Z"
   },
   {
    "duration": 94,
    "start_time": "2021-12-01T17:13:57.440Z"
   },
   {
    "duration": 1193,
    "start_time": "2021-12-01T17:14:17.632Z"
   },
   {
    "duration": 314,
    "start_time": "2021-12-01T17:14:28.378Z"
   },
   {
    "duration": 1180,
    "start_time": "2021-12-01T17:14:41.183Z"
   },
   {
    "duration": 1183,
    "start_time": "2021-12-01T17:15:01.766Z"
   },
   {
    "duration": 1261,
    "start_time": "2021-12-01T17:15:29.743Z"
   },
   {
    "duration": 9,
    "start_time": "2021-12-01T17:16:43.989Z"
   },
   {
    "duration": 135,
    "start_time": "2021-12-01T17:16:53.773Z"
   },
   {
    "duration": 46,
    "start_time": "2021-12-01T17:17:02.617Z"
   },
   {
    "duration": 261,
    "start_time": "2021-12-01T17:17:17.640Z"
   },
   {
    "duration": 35,
    "start_time": "2021-12-01T17:17:18.357Z"
   },
   {
    "duration": 1569,
    "start_time": "2021-12-01T17:17:32.985Z"
   },
   {
    "duration": 618,
    "start_time": "2021-12-01T17:17:34.557Z"
   },
   {
    "duration": 20,
    "start_time": "2021-12-01T17:17:35.178Z"
   },
   {
    "duration": 36,
    "start_time": "2021-12-01T17:17:35.201Z"
   },
   {
    "duration": 19,
    "start_time": "2021-12-01T17:17:35.241Z"
   },
   {
    "duration": 9,
    "start_time": "2021-12-01T17:17:35.263Z"
   },
   {
    "duration": 12,
    "start_time": "2021-12-01T17:17:35.275Z"
   },
   {
    "duration": 20,
    "start_time": "2021-12-01T17:17:35.333Z"
   },
   {
    "duration": 19,
    "start_time": "2021-12-01T17:17:35.361Z"
   },
   {
    "duration": 23,
    "start_time": "2021-12-01T17:17:35.383Z"
   },
   {
    "duration": 36,
    "start_time": "2021-12-01T17:17:35.433Z"
   },
   {
    "duration": 22,
    "start_time": "2021-12-01T17:17:35.472Z"
   },
   {
    "duration": 44,
    "start_time": "2021-12-01T17:17:35.497Z"
   },
   {
    "duration": 22,
    "start_time": "2021-12-01T17:17:35.544Z"
   },
   {
    "duration": 23,
    "start_time": "2021-12-01T17:17:35.569Z"
   },
   {
    "duration": 56,
    "start_time": "2021-12-01T17:17:35.595Z"
   },
   {
    "duration": 12,
    "start_time": "2021-12-01T17:17:35.656Z"
   },
   {
    "duration": 18,
    "start_time": "2021-12-01T17:17:35.671Z"
   },
   {
    "duration": 48,
    "start_time": "2021-12-01T17:17:35.691Z"
   },
   {
    "duration": 28,
    "start_time": "2021-12-01T17:17:35.743Z"
   },
   {
    "duration": 18,
    "start_time": "2021-12-01T17:17:35.773Z"
   },
   {
    "duration": 44,
    "start_time": "2021-12-01T17:17:35.794Z"
   },
   {
    "duration": 16,
    "start_time": "2021-12-01T17:17:35.848Z"
   },
   {
    "duration": 29,
    "start_time": "2021-12-01T17:17:35.867Z"
   },
   {
    "duration": 56,
    "start_time": "2021-12-01T17:17:35.899Z"
   },
   {
    "duration": 43,
    "start_time": "2021-12-01T17:17:35.958Z"
   },
   {
    "duration": 7,
    "start_time": "2021-12-01T17:17:36.003Z"
   },
   {
    "duration": 307,
    "start_time": "2021-12-01T17:17:36.013Z"
   },
   {
    "duration": 115,
    "start_time": "2021-12-01T17:17:36.323Z"
   },
   {
    "duration": 87,
    "start_time": "2021-12-01T17:17:36.442Z"
   },
   {
    "duration": 11,
    "start_time": "2021-12-01T17:17:36.532Z"
   },
   {
    "duration": 95,
    "start_time": "2021-12-01T17:17:36.546Z"
   },
   {
    "duration": 22,
    "start_time": "2021-12-01T17:17:36.644Z"
   },
   {
    "duration": 64,
    "start_time": "2021-12-01T17:17:36.668Z"
   },
   {
    "duration": 23,
    "start_time": "2021-12-01T17:17:36.736Z"
   },
   {
    "duration": 35,
    "start_time": "2021-12-01T17:17:36.762Z"
   },
   {
    "duration": 42,
    "start_time": "2021-12-01T17:17:36.799Z"
   },
   {
    "duration": 29,
    "start_time": "2021-12-01T17:17:36.845Z"
   },
   {
    "duration": 16,
    "start_time": "2021-12-01T17:17:36.877Z"
   },
   {
    "duration": 62,
    "start_time": "2021-12-01T17:17:36.896Z"
   },
   {
    "duration": 8,
    "start_time": "2021-12-01T17:17:36.961Z"
   },
   {
    "duration": 25,
    "start_time": "2021-12-01T17:17:36.971Z"
   },
   {
    "duration": 45,
    "start_time": "2021-12-01T17:17:36.999Z"
   },
   {
    "duration": 44,
    "start_time": "2021-12-01T17:17:37.047Z"
   },
   {
    "duration": 41,
    "start_time": "2021-12-01T17:17:37.094Z"
   },
   {
    "duration": 6,
    "start_time": "2021-12-01T17:17:37.138Z"
   },
   {
    "duration": 9,
    "start_time": "2021-12-01T17:17:37.148Z"
   },
   {
    "duration": 5,
    "start_time": "2021-12-01T17:17:37.160Z"
   },
   {
    "duration": 97,
    "start_time": "2021-12-01T17:17:37.168Z"
   },
   {
    "duration": 7,
    "start_time": "2021-12-01T17:17:37.267Z"
   },
   {
    "duration": 231,
    "start_time": "2021-12-01T17:17:37.277Z"
   },
   {
    "duration": 60,
    "start_time": "2021-12-01T17:17:37.511Z"
   },
   {
    "duration": 1598,
    "start_time": "2021-12-01T17:18:23.216Z"
   },
   {
    "duration": 575,
    "start_time": "2021-12-01T17:18:24.817Z"
   },
   {
    "duration": 36,
    "start_time": "2021-12-01T17:18:25.395Z"
   },
   {
    "duration": 36,
    "start_time": "2021-12-01T17:18:25.435Z"
   },
   {
    "duration": 24,
    "start_time": "2021-12-01T17:18:25.474Z"
   },
   {
    "duration": 30,
    "start_time": "2021-12-01T17:18:25.501Z"
   },
   {
    "duration": 16,
    "start_time": "2021-12-01T17:18:25.539Z"
   },
   {
    "duration": 15,
    "start_time": "2021-12-01T17:18:25.559Z"
   },
   {
    "duration": 11,
    "start_time": "2021-12-01T17:18:25.577Z"
   },
   {
    "duration": 26,
    "start_time": "2021-12-01T17:18:25.630Z"
   },
   {
    "duration": 28,
    "start_time": "2021-12-01T17:18:25.659Z"
   },
   {
    "duration": 59,
    "start_time": "2021-12-01T17:18:25.689Z"
   },
   {
    "duration": 12,
    "start_time": "2021-12-01T17:18:25.750Z"
   },
   {
    "duration": 15,
    "start_time": "2021-12-01T17:18:25.765Z"
   },
   {
    "duration": 18,
    "start_time": "2021-12-01T17:18:25.783Z"
   },
   {
    "duration": 18,
    "start_time": "2021-12-01T17:18:25.850Z"
   },
   {
    "duration": 15,
    "start_time": "2021-12-01T17:18:25.871Z"
   },
   {
    "duration": 13,
    "start_time": "2021-12-01T17:18:25.889Z"
   },
   {
    "duration": 35,
    "start_time": "2021-12-01T17:18:25.905Z"
   },
   {
    "duration": 28,
    "start_time": "2021-12-01T17:18:25.943Z"
   },
   {
    "duration": 16,
    "start_time": "2021-12-01T17:18:25.974Z"
   },
   {
    "duration": 52,
    "start_time": "2021-12-01T17:18:25.992Z"
   },
   {
    "duration": 12,
    "start_time": "2021-12-01T17:18:26.050Z"
   },
   {
    "duration": 82,
    "start_time": "2021-12-01T17:18:26.065Z"
   },
   {
    "duration": 23,
    "start_time": "2021-12-01T17:18:26.150Z"
   },
   {
    "duration": 25,
    "start_time": "2021-12-01T17:18:26.176Z"
   },
   {
    "duration": 5,
    "start_time": "2021-12-01T17:18:26.233Z"
   },
   {
    "duration": 372,
    "start_time": "2021-12-01T17:18:26.242Z"
   },
   {
    "duration": 113,
    "start_time": "2021-12-01T17:18:26.617Z"
   },
   {
    "duration": 82,
    "start_time": "2021-12-01T17:18:26.733Z"
   },
   {
    "duration": 11,
    "start_time": "2021-12-01T17:18:26.831Z"
   },
   {
    "duration": 109,
    "start_time": "2021-12-01T17:18:26.846Z"
   },
   {
    "duration": 25,
    "start_time": "2021-12-01T17:18:26.958Z"
   },
   {
    "duration": 75,
    "start_time": "2021-12-01T17:18:26.986Z"
   },
   {
    "duration": 17,
    "start_time": "2021-12-01T17:18:27.064Z"
   },
   {
    "duration": 57,
    "start_time": "2021-12-01T17:18:27.084Z"
   },
   {
    "duration": 12,
    "start_time": "2021-12-01T17:18:27.144Z"
   },
   {
    "duration": 23,
    "start_time": "2021-12-01T17:18:27.159Z"
   },
   {
    "duration": 48,
    "start_time": "2021-12-01T17:18:27.189Z"
   },
   {
    "duration": 34,
    "start_time": "2021-12-01T17:18:27.240Z"
   },
   {
    "duration": 8,
    "start_time": "2021-12-01T17:18:27.278Z"
   },
   {
    "duration": 59,
    "start_time": "2021-12-01T17:18:27.290Z"
   },
   {
    "duration": 16,
    "start_time": "2021-12-01T17:18:27.352Z"
   },
   {
    "duration": 17,
    "start_time": "2021-12-01T17:18:27.371Z"
   },
   {
    "duration": 41,
    "start_time": "2021-12-01T17:18:27.391Z"
   },
   {
    "duration": 570,
    "start_time": "2021-12-01T17:18:27.435Z"
   },
   {
    "duration": -507,
    "start_time": "2021-12-01T17:18:28.515Z"
   },
   {
    "duration": 150,
    "start_time": "2021-12-01T17:18:33.010Z"
   },
   {
    "duration": 56,
    "start_time": "2021-12-01T17:18:35.161Z"
   },
   {
    "duration": 5,
    "start_time": "2021-12-01T17:19:28.664Z"
   },
   {
    "duration": 9,
    "start_time": "2021-12-01T17:19:32.443Z"
   },
   {
    "duration": 1743,
    "start_time": "2021-12-01T17:20:49.880Z"
   },
   {
    "duration": 603,
    "start_time": "2021-12-01T17:20:51.626Z"
   },
   {
    "duration": 28,
    "start_time": "2021-12-01T17:20:52.233Z"
   },
   {
    "duration": 15,
    "start_time": "2021-12-01T17:20:52.264Z"
   },
   {
    "duration": 47,
    "start_time": "2021-12-01T17:20:52.282Z"
   },
   {
    "duration": 14,
    "start_time": "2021-12-01T17:20:52.333Z"
   },
   {
    "duration": 15,
    "start_time": "2021-12-01T17:20:52.351Z"
   },
   {
    "duration": 12,
    "start_time": "2021-12-01T17:20:52.370Z"
   },
   {
    "duration": 61,
    "start_time": "2021-12-01T17:20:52.386Z"
   },
   {
    "duration": 29,
    "start_time": "2021-12-01T17:20:52.450Z"
   },
   {
    "duration": 63,
    "start_time": "2021-12-01T17:20:52.482Z"
   },
   {
    "duration": 29,
    "start_time": "2021-12-01T17:20:52.553Z"
   },
   {
    "duration": 15,
    "start_time": "2021-12-01T17:20:52.585Z"
   },
   {
    "duration": 16,
    "start_time": "2021-12-01T17:20:52.630Z"
   },
   {
    "duration": 25,
    "start_time": "2021-12-01T17:20:52.649Z"
   },
   {
    "duration": 57,
    "start_time": "2021-12-01T17:20:52.676Z"
   },
   {
    "duration": 17,
    "start_time": "2021-12-01T17:20:52.736Z"
   },
   {
    "duration": 13,
    "start_time": "2021-12-01T17:20:52.757Z"
   },
   {
    "duration": 63,
    "start_time": "2021-12-01T17:20:52.773Z"
   },
   {
    "duration": 34,
    "start_time": "2021-12-01T17:20:52.839Z"
   },
   {
    "duration": 19,
    "start_time": "2021-12-01T17:20:52.876Z"
   },
   {
    "duration": 19,
    "start_time": "2021-12-01T17:20:52.930Z"
   },
   {
    "duration": 15,
    "start_time": "2021-12-01T17:20:52.957Z"
   },
   {
    "duration": 76,
    "start_time": "2021-12-01T17:20:52.977Z"
   },
   {
    "duration": 32,
    "start_time": "2021-12-01T17:20:53.057Z"
   },
   {
    "duration": 61,
    "start_time": "2021-12-01T17:20:53.094Z"
   },
   {
    "duration": 7,
    "start_time": "2021-12-01T17:20:53.158Z"
   },
   {
    "duration": 399,
    "start_time": "2021-12-01T17:20:53.169Z"
   },
   {
    "duration": 161,
    "start_time": "2021-12-01T17:20:53.571Z"
   },
   {
    "duration": 103,
    "start_time": "2021-12-01T17:20:53.738Z"
   },
   {
    "duration": 12,
    "start_time": "2021-12-01T17:20:53.844Z"
   },
   {
    "duration": 133,
    "start_time": "2021-12-01T17:20:53.859Z"
   },
   {
    "duration": 41,
    "start_time": "2021-12-01T17:20:53.995Z"
   },
   {
    "duration": 47,
    "start_time": "2021-12-01T17:20:54.039Z"
   },
   {
    "duration": 56,
    "start_time": "2021-12-01T17:20:54.088Z"
   },
   {
    "duration": 34,
    "start_time": "2021-12-01T17:20:54.148Z"
   },
   {
    "duration": 14,
    "start_time": "2021-12-01T17:20:54.185Z"
   },
   {
    "duration": 53,
    "start_time": "2021-12-01T17:20:54.201Z"
   },
   {
    "duration": 18,
    "start_time": "2021-12-01T17:20:54.258Z"
   },
   {
    "duration": 64,
    "start_time": "2021-12-01T17:20:54.279Z"
   },
   {
    "duration": 7,
    "start_time": "2021-12-01T17:20:54.346Z"
   },
   {
    "duration": 24,
    "start_time": "2021-12-01T17:20:54.356Z"
   },
   {
    "duration": 52,
    "start_time": "2021-12-01T17:20:54.383Z"
   },
   {
    "duration": 16,
    "start_time": "2021-12-01T17:20:54.439Z"
   },
   {
    "duration": 8,
    "start_time": "2021-12-01T17:20:54.458Z"
   },
   {
    "duration": 12,
    "start_time": "2021-12-01T17:20:54.469Z"
   },
   {
    "duration": 6,
    "start_time": "2021-12-01T17:20:54.484Z"
   },
   {
    "duration": 40,
    "start_time": "2021-12-01T17:20:54.492Z"
   },
   {
    "duration": 34,
    "start_time": "2021-12-01T17:21:13.069Z"
   },
   {
    "duration": 98,
    "start_time": "2021-12-01T17:22:35.504Z"
   },
   {
    "duration": 464,
    "start_time": "2021-12-01T17:22:45.946Z"
   },
   {
    "duration": 3,
    "start_time": "2021-12-01T17:22:51.587Z"
   },
   {
    "duration": 1945,
    "start_time": "2021-12-01T17:22:53.875Z"
   },
   {
    "duration": 1762,
    "start_time": "2021-12-01T17:23:11.020Z"
   },
   {
    "duration": 1585,
    "start_time": "2021-12-01T17:23:36.530Z"
   },
   {
    "duration": 613,
    "start_time": "2021-12-01T17:23:38.118Z"
   },
   {
    "duration": 27,
    "start_time": "2021-12-01T17:23:38.734Z"
   },
   {
    "duration": 14,
    "start_time": "2021-12-01T17:23:38.764Z"
   },
   {
    "duration": 51,
    "start_time": "2021-12-01T17:23:38.781Z"
   },
   {
    "duration": 14,
    "start_time": "2021-12-01T17:23:38.836Z"
   },
   {
    "duration": 19,
    "start_time": "2021-12-01T17:23:38.853Z"
   },
   {
    "duration": 16,
    "start_time": "2021-12-01T17:23:38.878Z"
   },
   {
    "duration": 15,
    "start_time": "2021-12-01T17:23:38.945Z"
   },
   {
    "duration": 20,
    "start_time": "2021-12-01T17:23:38.962Z"
   },
   {
    "duration": 27,
    "start_time": "2021-12-01T17:23:38.985Z"
   },
   {
    "duration": 27,
    "start_time": "2021-12-01T17:23:39.030Z"
   },
   {
    "duration": 12,
    "start_time": "2021-12-01T17:23:39.060Z"
   },
   {
    "duration": 15,
    "start_time": "2021-12-01T17:23:39.075Z"
   },
   {
    "duration": 17,
    "start_time": "2021-12-01T17:23:39.131Z"
   },
   {
    "duration": 21,
    "start_time": "2021-12-01T17:23:39.156Z"
   },
   {
    "duration": 12,
    "start_time": "2021-12-01T17:23:39.179Z"
   },
   {
    "duration": 19,
    "start_time": "2021-12-01T17:23:39.230Z"
   },
   {
    "duration": 23,
    "start_time": "2021-12-01T17:23:39.252Z"
   },
   {
    "duration": 33,
    "start_time": "2021-12-01T17:23:39.277Z"
   },
   {
    "duration": 25,
    "start_time": "2021-12-01T17:23:39.334Z"
   },
   {
    "duration": 14,
    "start_time": "2021-12-01T17:23:39.362Z"
   },
   {
    "duration": 15,
    "start_time": "2021-12-01T17:23:39.383Z"
   },
   {
    "duration": 69,
    "start_time": "2021-12-01T17:23:39.401Z"
   },
   {
    "duration": 23,
    "start_time": "2021-12-01T17:23:39.472Z"
   },
   {
    "duration": 44,
    "start_time": "2021-12-01T17:23:39.498Z"
   },
   {
    "duration": 6,
    "start_time": "2021-12-01T17:23:39.546Z"
   },
   {
    "duration": 286,
    "start_time": "2021-12-01T17:23:39.556Z"
   },
   {
    "duration": 117,
    "start_time": "2021-12-01T17:23:39.845Z"
   },
   {
    "duration": 92,
    "start_time": "2021-12-01T17:23:39.964Z"
   },
   {
    "duration": 9,
    "start_time": "2021-12-01T17:23:40.060Z"
   },
   {
    "duration": 122,
    "start_time": "2021-12-01T17:23:40.072Z"
   },
   {
    "duration": 40,
    "start_time": "2021-12-01T17:23:40.197Z"
   },
   {
    "duration": 59,
    "start_time": "2021-12-01T17:23:40.242Z"
   },
   {
    "duration": 46,
    "start_time": "2021-12-01T17:23:40.304Z"
   },
   {
    "duration": 30,
    "start_time": "2021-12-01T17:23:40.353Z"
   },
   {
    "duration": 15,
    "start_time": "2021-12-01T17:23:40.386Z"
   },
   {
    "duration": 48,
    "start_time": "2021-12-01T17:23:40.403Z"
   },
   {
    "duration": 19,
    "start_time": "2021-12-01T17:23:40.454Z"
   },
   {
    "duration": 56,
    "start_time": "2021-12-01T17:23:40.475Z"
   },
   {
    "duration": 7,
    "start_time": "2021-12-01T17:23:40.534Z"
   },
   {
    "duration": 26,
    "start_time": "2021-12-01T17:23:40.545Z"
   },
   {
    "duration": 16,
    "start_time": "2021-12-01T17:23:40.574Z"
   },
   {
    "duration": 48,
    "start_time": "2021-12-01T17:23:40.593Z"
   },
   {
    "duration": 8,
    "start_time": "2021-12-01T17:23:40.644Z"
   },
   {
    "duration": 169,
    "start_time": "2021-12-01T17:23:40.654Z"
   },
   {
    "duration": 53,
    "start_time": "2021-12-01T17:23:40.825Z"
   },
   {
    "duration": 6,
    "start_time": "2021-12-01T17:24:29.122Z"
   },
   {
    "duration": 40,
    "start_time": "2021-12-01T17:24:31.467Z"
   },
   {
    "duration": 13,
    "start_time": "2021-12-01T17:27:20.814Z"
   },
   {
    "duration": 14,
    "start_time": "2021-12-01T17:27:33.176Z"
   },
   {
    "duration": 15,
    "start_time": "2021-12-01T17:27:39.428Z"
   },
   {
    "duration": 7,
    "start_time": "2021-12-01T17:28:02.163Z"
   },
   {
    "duration": 565,
    "start_time": "2021-12-01T17:28:22.074Z"
   },
   {
    "duration": 6,
    "start_time": "2021-12-01T17:28:53.186Z"
   },
   {
    "duration": 303,
    "start_time": "2021-12-01T17:29:03.847Z"
   },
   {
    "duration": 307,
    "start_time": "2021-12-01T17:29:08.566Z"
   },
   {
    "duration": 1620,
    "start_time": "2021-12-01T18:00:49.785Z"
   },
   {
    "duration": 630,
    "start_time": "2021-12-01T18:00:51.408Z"
   },
   {
    "duration": 29,
    "start_time": "2021-12-01T18:00:52.043Z"
   },
   {
    "duration": 15,
    "start_time": "2021-12-01T18:00:52.075Z"
   },
   {
    "duration": 55,
    "start_time": "2021-12-01T18:00:52.092Z"
   },
   {
    "duration": 13,
    "start_time": "2021-12-01T18:00:52.151Z"
   },
   {
    "duration": 16,
    "start_time": "2021-12-01T18:00:52.166Z"
   },
   {
    "duration": 55,
    "start_time": "2021-12-01T18:00:52.187Z"
   },
   {
    "duration": 24,
    "start_time": "2021-12-01T18:00:52.246Z"
   },
   {
    "duration": 36,
    "start_time": "2021-12-01T18:00:52.273Z"
   },
   {
    "duration": 50,
    "start_time": "2021-12-01T18:00:52.311Z"
   },
   {
    "duration": 22,
    "start_time": "2021-12-01T18:00:52.364Z"
   },
   {
    "duration": 10,
    "start_time": "2021-12-01T18:00:52.388Z"
   },
   {
    "duration": 38,
    "start_time": "2021-12-01T18:00:52.401Z"
   },
   {
    "duration": 20,
    "start_time": "2021-12-01T18:00:52.442Z"
   },
   {
    "duration": 20,
    "start_time": "2021-12-01T18:00:52.467Z"
   },
   {
    "duration": 15,
    "start_time": "2021-12-01T18:00:52.535Z"
   },
   {
    "duration": 17,
    "start_time": "2021-12-01T18:00:52.553Z"
   },
   {
    "duration": 44,
    "start_time": "2021-12-01T18:00:52.573Z"
   },
   {
    "duration": 32,
    "start_time": "2021-12-01T18:00:52.620Z"
   },
   {
    "duration": 16,
    "start_time": "2021-12-01T18:00:52.655Z"
   },
   {
    "duration": 11,
    "start_time": "2021-12-01T18:00:52.674Z"
   },
   {
    "duration": 51,
    "start_time": "2021-12-01T18:00:52.690Z"
   },
   {
    "duration": 33,
    "start_time": "2021-12-01T18:00:52.746Z"
   },
   {
    "duration": 58,
    "start_time": "2021-12-01T18:00:52.781Z"
   },
   {
    "duration": 44,
    "start_time": "2021-12-01T18:00:52.842Z"
   },
   {
    "duration": 5,
    "start_time": "2021-12-01T18:00:52.889Z"
   },
   {
    "duration": 311,
    "start_time": "2021-12-01T18:00:52.897Z"
   },
   {
    "duration": 139,
    "start_time": "2021-12-01T18:00:53.212Z"
   },
   {
    "duration": 99,
    "start_time": "2021-12-01T18:00:53.356Z"
   },
   {
    "duration": 11,
    "start_time": "2021-12-01T18:00:53.459Z"
   },
   {
    "duration": 142,
    "start_time": "2021-12-01T18:00:53.473Z"
   },
   {
    "duration": 35,
    "start_time": "2021-12-01T18:00:53.618Z"
   },
   {
    "duration": 73,
    "start_time": "2021-12-01T18:00:53.656Z"
   },
   {
    "duration": 28,
    "start_time": "2021-12-01T18:00:53.732Z"
   },
   {
    "duration": 40,
    "start_time": "2021-12-01T18:00:53.765Z"
   },
   {
    "duration": 14,
    "start_time": "2021-12-01T18:00:53.828Z"
   },
   {
    "duration": 24,
    "start_time": "2021-12-01T18:00:53.846Z"
   },
   {
    "duration": 17,
    "start_time": "2021-12-01T18:00:53.873Z"
   },
   {
    "duration": 71,
    "start_time": "2021-12-01T18:00:53.892Z"
   },
   {
    "duration": 8,
    "start_time": "2021-12-01T18:00:53.965Z"
   },
   {
    "duration": 28,
    "start_time": "2021-12-01T18:00:53.976Z"
   },
   {
    "duration": 38,
    "start_time": "2021-12-01T18:00:54.007Z"
   },
   {
    "duration": 15,
    "start_time": "2021-12-01T18:00:54.047Z"
   },
   {
    "duration": 13,
    "start_time": "2021-12-01T18:00:54.065Z"
   },
   {
    "duration": 271,
    "start_time": "2021-12-01T18:00:54.081Z"
   },
   {
    "duration": 54,
    "start_time": "2021-12-01T18:00:54.355Z"
   },
   {
    "duration": 11,
    "start_time": "2021-12-01T18:00:54.429Z"
   },
   {
    "duration": 11,
    "start_time": "2021-12-01T18:01:16.216Z"
   },
   {
    "duration": 7996,
    "start_time": "2021-12-01T18:01:35.389Z"
   },
   {
    "duration": 11,
    "start_time": "2021-12-01T18:01:50.175Z"
   },
   {
    "duration": 7356,
    "start_time": "2021-12-01T18:01:50.900Z"
   },
   {
    "duration": 10,
    "start_time": "2021-12-01T18:02:10.198Z"
   },
   {
    "duration": 810,
    "start_time": "2021-12-01T18:02:10.787Z"
   },
   {
    "duration": 52,
    "start_time": "2021-12-01T18:02:14.117Z"
   },
   {
    "duration": 1549,
    "start_time": "2021-12-01T18:04:21.606Z"
   },
   {
    "duration": 630,
    "start_time": "2021-12-01T18:04:23.158Z"
   },
   {
    "duration": 21,
    "start_time": "2021-12-01T18:04:23.791Z"
   },
   {
    "duration": 19,
    "start_time": "2021-12-01T18:04:23.831Z"
   },
   {
    "duration": 16,
    "start_time": "2021-12-01T18:04:23.853Z"
   },
   {
    "duration": 12,
    "start_time": "2021-12-01T18:04:23.871Z"
   },
   {
    "duration": 52,
    "start_time": "2021-12-01T18:04:23.885Z"
   },
   {
    "duration": 14,
    "start_time": "2021-12-01T18:04:23.943Z"
   },
   {
    "duration": 10,
    "start_time": "2021-12-01T18:04:23.961Z"
   },
   {
    "duration": 17,
    "start_time": "2021-12-01T18:04:23.974Z"
   },
   {
    "duration": 34,
    "start_time": "2021-12-01T18:04:24.030Z"
   },
   {
    "duration": 21,
    "start_time": "2021-12-01T18:04:24.066Z"
   },
   {
    "duration": 10,
    "start_time": "2021-12-01T18:04:24.089Z"
   },
   {
    "duration": 42,
    "start_time": "2021-12-01T18:04:24.101Z"
   },
   {
    "duration": 15,
    "start_time": "2021-12-01T18:04:24.148Z"
   },
   {
    "duration": 21,
    "start_time": "2021-12-01T18:04:24.165Z"
   },
   {
    "duration": 56,
    "start_time": "2021-12-01T18:04:24.189Z"
   },
   {
    "duration": 15,
    "start_time": "2021-12-01T18:04:24.248Z"
   },
   {
    "duration": 16,
    "start_time": "2021-12-01T18:04:24.266Z"
   },
   {
    "duration": 60,
    "start_time": "2021-12-01T18:04:24.284Z"
   },
   {
    "duration": 19,
    "start_time": "2021-12-01T18:04:24.348Z"
   },
   {
    "duration": 11,
    "start_time": "2021-12-01T18:04:24.369Z"
   },
   {
    "duration": 11,
    "start_time": "2021-12-01T18:04:24.385Z"
   },
   {
    "duration": 32,
    "start_time": "2021-12-01T18:04:24.433Z"
   },
   {
    "duration": 22,
    "start_time": "2021-12-01T18:04:24.468Z"
   },
   {
    "duration": 59,
    "start_time": "2021-12-01T18:04:24.493Z"
   },
   {
    "duration": 4,
    "start_time": "2021-12-01T18:04:24.555Z"
   },
   {
    "duration": 299,
    "start_time": "2021-12-01T18:04:24.562Z"
   },
   {
    "duration": 111,
    "start_time": "2021-12-01T18:04:24.864Z"
   },
   {
    "duration": 90,
    "start_time": "2021-12-01T18:04:24.977Z"
   },
   {
    "duration": 10,
    "start_time": "2021-12-01T18:04:25.069Z"
   },
   {
    "duration": 104,
    "start_time": "2021-12-01T18:04:25.081Z"
   },
   {
    "duration": 20,
    "start_time": "2021-12-01T18:04:25.188Z"
   },
   {
    "duration": 59,
    "start_time": "2021-12-01T18:04:25.211Z"
   },
   {
    "duration": 20,
    "start_time": "2021-12-01T18:04:25.272Z"
   },
   {
    "duration": 66,
    "start_time": "2021-12-01T18:04:25.295Z"
   },
   {
    "duration": 10,
    "start_time": "2021-12-01T18:04:25.364Z"
   },
   {
    "duration": 18,
    "start_time": "2021-12-01T18:04:25.376Z"
   },
   {
    "duration": 37,
    "start_time": "2021-12-01T18:04:25.396Z"
   },
   {
    "duration": 26,
    "start_time": "2021-12-01T18:04:25.436Z"
   },
   {
    "duration": 6,
    "start_time": "2021-12-01T18:04:25.464Z"
   },
   {
    "duration": 22,
    "start_time": "2021-12-01T18:04:25.472Z"
   },
   {
    "duration": 46,
    "start_time": "2021-12-01T18:04:25.496Z"
   },
   {
    "duration": 36,
    "start_time": "2021-12-01T18:04:25.545Z"
   },
   {
    "duration": 10,
    "start_time": "2021-12-01T18:04:25.584Z"
   },
   {
    "duration": 624,
    "start_time": "2021-12-01T18:04:25.629Z"
   },
   {
    "duration": 33,
    "start_time": "2021-12-01T18:04:26.255Z"
   },
   {
    "duration": 22,
    "start_time": "2021-12-01T18:05:23.966Z"
   },
   {
    "duration": 24,
    "start_time": "2021-12-01T18:05:39.082Z"
   },
   {
    "duration": 24,
    "start_time": "2021-12-01T18:05:57.376Z"
   },
   {
    "duration": 1656,
    "start_time": "2021-12-01T18:06:34.775Z"
   },
   {
    "duration": 567,
    "start_time": "2021-12-01T18:06:36.434Z"
   },
   {
    "duration": 26,
    "start_time": "2021-12-01T18:06:37.004Z"
   },
   {
    "duration": 19,
    "start_time": "2021-12-01T18:06:37.035Z"
   },
   {
    "duration": 20,
    "start_time": "2021-12-01T18:06:37.056Z"
   },
   {
    "duration": 10,
    "start_time": "2021-12-01T18:06:37.079Z"
   },
   {
    "duration": 49,
    "start_time": "2021-12-01T18:06:37.091Z"
   },
   {
    "duration": 13,
    "start_time": "2021-12-01T18:06:37.145Z"
   },
   {
    "duration": 16,
    "start_time": "2021-12-01T18:06:37.162Z"
   },
   {
    "duration": 63,
    "start_time": "2021-12-01T18:06:37.181Z"
   },
   {
    "duration": 43,
    "start_time": "2021-12-01T18:06:37.247Z"
   },
   {
    "duration": 53,
    "start_time": "2021-12-01T18:06:37.293Z"
   },
   {
    "duration": 14,
    "start_time": "2021-12-01T18:06:37.349Z"
   },
   {
    "duration": 12,
    "start_time": "2021-12-01T18:06:37.366Z"
   },
   {
    "duration": 17,
    "start_time": "2021-12-01T18:06:37.380Z"
   },
   {
    "duration": 24,
    "start_time": "2021-12-01T18:06:37.429Z"
   },
   {
    "duration": 16,
    "start_time": "2021-12-01T18:06:37.457Z"
   },
   {
    "duration": 11,
    "start_time": "2021-12-01T18:06:37.477Z"
   },
   {
    "duration": 59,
    "start_time": "2021-12-01T18:06:37.490Z"
   },
   {
    "duration": 23,
    "start_time": "2021-12-01T18:06:37.552Z"
   },
   {
    "duration": 18,
    "start_time": "2021-12-01T18:06:37.577Z"
   },
   {
    "duration": 17,
    "start_time": "2021-12-01T18:06:37.630Z"
   },
   {
    "duration": 11,
    "start_time": "2021-12-01T18:06:37.653Z"
   },
   {
    "duration": 78,
    "start_time": "2021-12-01T18:06:37.668Z"
   },
   {
    "duration": 29,
    "start_time": "2021-12-01T18:06:37.750Z"
   },
   {
    "duration": 49,
    "start_time": "2021-12-01T18:06:37.781Z"
   },
   {
    "duration": 5,
    "start_time": "2021-12-01T18:06:37.833Z"
   },
   {
    "duration": 296,
    "start_time": "2021-12-01T18:06:37.841Z"
   },
   {
    "duration": 115,
    "start_time": "2021-12-01T18:06:38.140Z"
   },
   {
    "duration": 84,
    "start_time": "2021-12-01T18:06:38.257Z"
   },
   {
    "duration": 10,
    "start_time": "2021-12-01T18:06:38.344Z"
   },
   {
    "duration": 111,
    "start_time": "2021-12-01T18:06:38.356Z"
   },
   {
    "duration": 25,
    "start_time": "2021-12-01T18:06:38.471Z"
   },
   {
    "duration": 75,
    "start_time": "2021-12-01T18:06:38.499Z"
   },
   {
    "duration": 21,
    "start_time": "2021-12-01T18:06:38.577Z"
   },
   {
    "duration": 63,
    "start_time": "2021-12-01T18:06:38.601Z"
   },
   {
    "duration": 11,
    "start_time": "2021-12-01T18:06:38.667Z"
   },
   {
    "duration": 21,
    "start_time": "2021-12-01T18:06:38.680Z"
   },
   {
    "duration": 19,
    "start_time": "2021-12-01T18:06:38.731Z"
   },
   {
    "duration": 24,
    "start_time": "2021-12-01T18:06:38.754Z"
   },
   {
    "duration": 7,
    "start_time": "2021-12-01T18:06:38.780Z"
   },
   {
    "duration": 59,
    "start_time": "2021-12-01T18:06:38.789Z"
   },
   {
    "duration": 12,
    "start_time": "2021-12-01T18:06:38.851Z"
   },
   {
    "duration": 23,
    "start_time": "2021-12-01T18:06:38.866Z"
   },
   {
    "duration": 41,
    "start_time": "2021-12-01T18:06:38.892Z"
   },
   {
    "duration": 642,
    "start_time": "2021-12-01T18:06:38.936Z"
   },
   {
    "duration": 26,
    "start_time": "2021-12-01T18:06:39.581Z"
   },
   {
    "duration": 16,
    "start_time": "2021-12-01T18:06:55.209Z"
   },
   {
    "duration": 8133,
    "start_time": "2021-12-01T18:08:31.122Z"
   },
   {
    "duration": 7,
    "start_time": "2021-12-01T18:08:46.982Z"
   },
   {
    "duration": 35,
    "start_time": "2021-12-01T18:08:51.790Z"
   },
   {
    "duration": 36,
    "start_time": "2021-12-01T18:09:02.627Z"
   },
   {
    "duration": 29,
    "start_time": "2021-12-01T18:09:19.386Z"
   },
   {
    "duration": 12,
    "start_time": "2021-12-01T18:09:23.603Z"
   },
   {
    "duration": 7,
    "start_time": "2021-12-01T18:10:41.176Z"
   },
   {
    "duration": 27,
    "start_time": "2021-12-01T18:10:43.804Z"
   },
   {
    "duration": 1640,
    "start_time": "2021-12-01T18:10:57.483Z"
   },
   {
    "duration": 606,
    "start_time": "2021-12-01T18:10:59.125Z"
   },
   {
    "duration": 26,
    "start_time": "2021-12-01T18:10:59.739Z"
   },
   {
    "duration": 14,
    "start_time": "2021-12-01T18:10:59.767Z"
   },
   {
    "duration": 59,
    "start_time": "2021-12-01T18:10:59.783Z"
   },
   {
    "duration": 12,
    "start_time": "2021-12-01T18:10:59.845Z"
   },
   {
    "duration": 13,
    "start_time": "2021-12-01T18:10:59.861Z"
   },
   {
    "duration": 12,
    "start_time": "2021-12-01T18:10:59.878Z"
   },
   {
    "duration": 44,
    "start_time": "2021-12-01T18:10:59.893Z"
   },
   {
    "duration": 22,
    "start_time": "2021-12-01T18:10:59.940Z"
   },
   {
    "duration": 27,
    "start_time": "2021-12-01T18:10:59.964Z"
   },
   {
    "duration": 28,
    "start_time": "2021-12-01T18:11:00.030Z"
   },
   {
    "duration": 12,
    "start_time": "2021-12-01T18:11:00.060Z"
   },
   {
    "duration": 14,
    "start_time": "2021-12-01T18:11:00.074Z"
   },
   {
    "duration": 54,
    "start_time": "2021-12-01T18:11:00.091Z"
   },
   {
    "duration": 22,
    "start_time": "2021-12-01T18:11:00.148Z"
   },
   {
    "duration": 14,
    "start_time": "2021-12-01T18:11:00.173Z"
   },
   {
    "duration": 46,
    "start_time": "2021-12-01T18:11:00.190Z"
   },
   {
    "duration": 36,
    "start_time": "2021-12-01T18:11:00.239Z"
   },
   {
    "duration": 31,
    "start_time": "2021-12-01T18:11:00.278Z"
   },
   {
    "duration": 37,
    "start_time": "2021-12-01T18:11:00.311Z"
   },
   {
    "duration": 12,
    "start_time": "2021-12-01T18:11:00.354Z"
   },
   {
    "duration": 33,
    "start_time": "2021-12-01T18:11:00.368Z"
   },
   {
    "duration": 47,
    "start_time": "2021-12-01T18:11:00.403Z"
   },
   {
    "duration": 29,
    "start_time": "2021-12-01T18:11:00.452Z"
   },
   {
    "duration": 27,
    "start_time": "2021-12-01T18:11:00.483Z"
   },
   {
    "duration": 18,
    "start_time": "2021-12-01T18:11:00.512Z"
   },
   {
    "duration": 345,
    "start_time": "2021-12-01T18:11:00.534Z"
   },
   {
    "duration": 118,
    "start_time": "2021-12-01T18:11:00.881Z"
   },
   {
    "duration": 86,
    "start_time": "2021-12-01T18:11:01.002Z"
   },
   {
    "duration": 7,
    "start_time": "2021-12-01T18:11:01.091Z"
   },
   {
    "duration": 102,
    "start_time": "2021-12-01T18:11:01.101Z"
   },
   {
    "duration": 32,
    "start_time": "2021-12-01T18:11:01.206Z"
   },
   {
    "duration": 54,
    "start_time": "2021-12-01T18:11:01.241Z"
   },
   {
    "duration": 34,
    "start_time": "2021-12-01T18:11:01.297Z"
   },
   {
    "duration": 41,
    "start_time": "2021-12-01T18:11:01.334Z"
   },
   {
    "duration": 11,
    "start_time": "2021-12-01T18:11:01.377Z"
   },
   {
    "duration": 39,
    "start_time": "2021-12-01T18:11:01.390Z"
   },
   {
    "duration": 22,
    "start_time": "2021-12-01T18:11:01.431Z"
   },
   {
    "duration": 24,
    "start_time": "2021-12-01T18:11:01.456Z"
   },
   {
    "duration": 22,
    "start_time": "2021-12-01T18:11:01.483Z"
   },
   {
    "duration": 40,
    "start_time": "2021-12-01T18:11:01.507Z"
   },
   {
    "duration": 18,
    "start_time": "2021-12-01T18:11:01.551Z"
   },
   {
    "duration": 10,
    "start_time": "2021-12-01T18:11:01.572Z"
   },
   {
    "duration": 36,
    "start_time": "2021-12-01T18:11:01.585Z"
   },
   {
    "duration": 16,
    "start_time": "2021-12-01T18:11:01.629Z"
   },
   {
    "duration": 663,
    "start_time": "2021-12-01T18:11:01.649Z"
   },
   {
    "duration": 46,
    "start_time": "2021-12-01T18:11:02.314Z"
   },
   {
    "duration": 10,
    "start_time": "2021-12-01T18:11:32.142Z"
   },
   {
    "duration": 1666,
    "start_time": "2021-12-01T18:11:46.700Z"
   },
   {
    "duration": 589,
    "start_time": "2021-12-01T18:11:48.369Z"
   },
   {
    "duration": 19,
    "start_time": "2021-12-01T18:11:48.962Z"
   },
   {
    "duration": 21,
    "start_time": "2021-12-01T18:11:48.983Z"
   },
   {
    "duration": 38,
    "start_time": "2021-12-01T18:11:49.006Z"
   },
   {
    "duration": 16,
    "start_time": "2021-12-01T18:11:49.048Z"
   },
   {
    "duration": 13,
    "start_time": "2021-12-01T18:11:49.067Z"
   },
   {
    "duration": 10,
    "start_time": "2021-12-01T18:11:49.181Z"
   },
   {
    "duration": 10,
    "start_time": "2021-12-01T18:11:49.587Z"
   },
   {
    "duration": 18,
    "start_time": "2021-12-01T18:11:49.861Z"
   },
   {
    "duration": 30,
    "start_time": "2021-12-01T18:11:50.139Z"
   },
   {
    "duration": 24,
    "start_time": "2021-12-01T18:11:50.411Z"
   },
   {
    "duration": 10,
    "start_time": "2021-12-01T18:11:50.819Z"
   },
   {
    "duration": 13,
    "start_time": "2021-12-01T18:11:51.235Z"
   },
   {
    "duration": 15,
    "start_time": "2021-12-01T18:11:51.501Z"
   },
   {
    "duration": 20,
    "start_time": "2021-12-01T18:11:51.770Z"
   },
   {
    "duration": 12,
    "start_time": "2021-12-01T18:11:52.169Z"
   },
   {
    "duration": 11,
    "start_time": "2021-12-01T18:11:52.585Z"
   },
   {
    "duration": 16,
    "start_time": "2021-12-01T18:11:52.875Z"
   },
   {
    "duration": 23,
    "start_time": "2021-12-01T18:11:53.149Z"
   },
   {
    "duration": 22,
    "start_time": "2021-12-01T18:11:53.447Z"
   },
   {
    "duration": 17,
    "start_time": "2021-12-01T18:11:54.029Z"
   },
   {
    "duration": 13,
    "start_time": "2021-12-01T18:11:54.915Z"
   },
   {
    "duration": 29,
    "start_time": "2021-12-01T18:11:55.372Z"
   },
   {
    "duration": 21,
    "start_time": "2021-12-01T18:11:55.653Z"
   },
   {
    "duration": 23,
    "start_time": "2021-12-01T18:11:55.944Z"
   },
   {
    "duration": 5,
    "start_time": "2021-12-01T18:11:56.390Z"
   },
   {
    "duration": 297,
    "start_time": "2021-12-01T18:11:56.695Z"
   },
   {
    "duration": 102,
    "start_time": "2021-12-01T18:12:10.375Z"
   },
   {
    "duration": 79,
    "start_time": "2021-12-01T18:12:13.598Z"
   },
   {
    "duration": 10,
    "start_time": "2021-12-01T18:12:14.212Z"
   },
   {
    "duration": 81,
    "start_time": "2021-12-01T18:12:16.146Z"
   },
   {
    "duration": 21,
    "start_time": "2021-12-01T18:12:17.588Z"
   },
   {
    "duration": 40,
    "start_time": "2021-12-01T18:12:18.879Z"
   },
   {
    "duration": 18,
    "start_time": "2021-12-01T18:12:19.185Z"
   },
   {
    "duration": 40,
    "start_time": "2021-12-01T18:12:19.727Z"
   },
   {
    "duration": 12,
    "start_time": "2021-12-01T18:12:20.603Z"
   },
   {
    "duration": 19,
    "start_time": "2021-12-01T18:12:20.996Z"
   },
   {
    "duration": 16,
    "start_time": "2021-12-01T18:12:21.194Z"
   },
   {
    "duration": 24,
    "start_time": "2021-12-01T18:12:21.342Z"
   },
   {
    "duration": 5,
    "start_time": "2021-12-01T18:12:24.865Z"
   },
   {
    "duration": 14,
    "start_time": "2021-12-01T18:12:25.147Z"
   },
   {
    "duration": 14,
    "start_time": "2021-12-01T18:12:26.174Z"
   },
   {
    "duration": 12,
    "start_time": "2021-12-01T18:12:26.828Z"
   },
   {
    "duration": 5,
    "start_time": "2021-12-01T18:12:58.923Z"
   },
   {
    "duration": 12,
    "start_time": "2021-12-01T18:13:05.800Z"
   },
   {
    "duration": 6,
    "start_time": "2021-12-01T18:13:33.846Z"
   },
   {
    "duration": 10,
    "start_time": "2021-12-01T18:13:35.869Z"
   },
   {
    "duration": 5,
    "start_time": "2021-12-01T18:13:51.404Z"
   },
   {
    "duration": 8,
    "start_time": "2021-12-01T18:13:53.293Z"
   },
   {
    "duration": 7,
    "start_time": "2021-12-01T18:14:11.617Z"
   },
   {
    "duration": 13,
    "start_time": "2021-12-01T18:14:13.414Z"
   },
   {
    "duration": 12,
    "start_time": "2021-12-01T18:14:20.840Z"
   },
   {
    "duration": 751,
    "start_time": "2021-12-01T18:14:23.035Z"
   },
   {
    "duration": 40,
    "start_time": "2021-12-01T18:14:23.789Z"
   },
   {
    "duration": 10,
    "start_time": "2021-12-01T18:14:31.500Z"
   },
   {
    "duration": 20,
    "start_time": "2021-12-01T18:17:30.556Z"
   },
   {
    "duration": 21,
    "start_time": "2021-12-01T18:17:49.586Z"
   },
   {
    "duration": 1586,
    "start_time": "2021-12-01T18:18:02.358Z"
   },
   {
    "duration": 556,
    "start_time": "2021-12-01T18:18:03.947Z"
   },
   {
    "duration": 27,
    "start_time": "2021-12-01T18:18:04.507Z"
   },
   {
    "duration": 19,
    "start_time": "2021-12-01T18:18:04.537Z"
   },
   {
    "duration": 21,
    "start_time": "2021-12-01T18:18:04.559Z"
   },
   {
    "duration": 14,
    "start_time": "2021-12-01T18:18:04.583Z"
   },
   {
    "duration": 13,
    "start_time": "2021-12-01T18:18:04.630Z"
   },
   {
    "duration": 16,
    "start_time": "2021-12-01T18:18:04.649Z"
   },
   {
    "duration": 12,
    "start_time": "2021-12-01T18:18:04.668Z"
   },
   {
    "duration": 56,
    "start_time": "2021-12-01T18:18:04.682Z"
   },
   {
    "duration": 28,
    "start_time": "2021-12-01T18:18:04.741Z"
   },
   {
    "duration": 22,
    "start_time": "2021-12-01T18:18:04.771Z"
   },
   {
    "duration": 39,
    "start_time": "2021-12-01T18:18:04.795Z"
   },
   {
    "duration": 16,
    "start_time": "2021-12-01T18:18:04.837Z"
   },
   {
    "duration": 22,
    "start_time": "2021-12-01T18:18:04.857Z"
   },
   {
    "duration": 64,
    "start_time": "2021-12-01T18:18:04.882Z"
   },
   {
    "duration": 16,
    "start_time": "2021-12-01T18:18:04.949Z"
   },
   {
    "duration": 12,
    "start_time": "2021-12-01T18:18:04.968Z"
   },
   {
    "duration": 53,
    "start_time": "2021-12-01T18:18:04.982Z"
   },
   {
    "duration": 23,
    "start_time": "2021-12-01T18:18:05.037Z"
   },
   {
    "duration": 19,
    "start_time": "2021-12-01T18:18:05.063Z"
   },
   {
    "duration": 46,
    "start_time": "2021-12-01T18:18:05.085Z"
   },
   {
    "duration": 11,
    "start_time": "2021-12-01T18:18:05.138Z"
   },
   {
    "duration": 31,
    "start_time": "2021-12-01T18:18:05.153Z"
   },
   {
    "duration": 59,
    "start_time": "2021-12-01T18:18:05.187Z"
   },
   {
    "duration": 26,
    "start_time": "2021-12-01T18:18:05.249Z"
   },
   {
    "duration": 5,
    "start_time": "2021-12-01T18:18:05.278Z"
   },
   {
    "duration": 315,
    "start_time": "2021-12-01T18:18:05.286Z"
   },
   {
    "duration": 100,
    "start_time": "2021-12-01T18:18:05.603Z"
   },
   {
    "duration": 84,
    "start_time": "2021-12-01T18:18:05.705Z"
   },
   {
    "duration": 7,
    "start_time": "2021-12-01T18:18:05.791Z"
   },
   {
    "duration": 94,
    "start_time": "2021-12-01T18:18:05.801Z"
   },
   {
    "duration": 31,
    "start_time": "2021-12-01T18:18:05.897Z"
   },
   {
    "duration": 42,
    "start_time": "2021-12-01T18:18:05.932Z"
   },
   {
    "duration": 18,
    "start_time": "2021-12-01T18:18:05.976Z"
   },
   {
    "duration": 68,
    "start_time": "2021-12-01T18:18:05.996Z"
   },
   {
    "duration": 10,
    "start_time": "2021-12-01T18:18:06.066Z"
   },
   {
    "duration": 21,
    "start_time": "2021-12-01T18:18:06.079Z"
   },
   {
    "duration": 38,
    "start_time": "2021-12-01T18:18:06.103Z"
   },
   {
    "duration": 24,
    "start_time": "2021-12-01T18:18:06.144Z"
   },
   {
    "duration": 10,
    "start_time": "2021-12-01T18:18:06.171Z"
   },
   {
    "duration": 48,
    "start_time": "2021-12-01T18:18:06.184Z"
   },
   {
    "duration": 13,
    "start_time": "2021-12-01T18:18:06.235Z"
   },
   {
    "duration": 9,
    "start_time": "2021-12-01T18:18:06.250Z"
   },
   {
    "duration": 6,
    "start_time": "2021-12-01T18:18:06.262Z"
   },
   {
    "duration": 10,
    "start_time": "2021-12-01T18:18:06.270Z"
   },
   {
    "duration": 603,
    "start_time": "2021-12-01T18:18:06.283Z"
   },
   {
    "duration": 22,
    "start_time": "2021-12-01T18:18:06.889Z"
   },
   {
    "duration": 1169,
    "start_time": "2021-12-03T17:16:53.287Z"
   },
   {
    "duration": 447,
    "start_time": "2021-12-03T17:16:56.073Z"
   },
   {
    "duration": 13,
    "start_time": "2021-12-03T17:16:58.960Z"
   },
   {
    "duration": 12,
    "start_time": "2021-12-03T17:17:02.552Z"
   },
   {
    "duration": 11,
    "start_time": "2021-12-03T17:17:03.420Z"
   },
   {
    "duration": 7,
    "start_time": "2021-12-03T17:17:04.534Z"
   },
   {
    "duration": 7,
    "start_time": "2021-12-03T17:17:05.567Z"
   },
   {
    "duration": 7,
    "start_time": "2021-12-03T17:17:06.717Z"
   },
   {
    "duration": 7,
    "start_time": "2021-12-03T17:17:07.360Z"
   },
   {
    "duration": 13,
    "start_time": "2021-12-03T17:17:07.760Z"
   },
   {
    "duration": 34,
    "start_time": "2021-12-03T17:17:21.211Z"
   },
   {
    "duration": 18,
    "start_time": "2021-12-03T17:17:23.456Z"
   },
   {
    "duration": 8,
    "start_time": "2021-12-03T17:17:25.576Z"
   },
   {
    "duration": 8,
    "start_time": "2021-12-03T17:17:26.166Z"
   },
   {
    "duration": 11,
    "start_time": "2021-12-03T17:17:26.580Z"
   },
   {
    "duration": 17,
    "start_time": "2021-12-03T17:17:26.967Z"
   },
   {
    "duration": 9,
    "start_time": "2021-12-03T17:17:28.186Z"
   },
   {
    "duration": 8,
    "start_time": "2021-12-03T17:17:30.394Z"
   },
   {
    "duration": 12,
    "start_time": "2021-12-03T17:17:31.257Z"
   },
   {
    "duration": 18,
    "start_time": "2021-12-03T17:17:32.446Z"
   },
   {
    "duration": 14,
    "start_time": "2021-12-03T17:17:35.105Z"
   },
   {
    "duration": 8,
    "start_time": "2021-12-03T17:17:38.967Z"
   },
   {
    "duration": 8,
    "start_time": "2021-12-03T17:18:09.552Z"
   },
   {
    "duration": 22,
    "start_time": "2021-12-03T17:18:18.833Z"
   },
   {
    "duration": 17,
    "start_time": "2021-12-03T17:18:19.770Z"
   },
   {
    "duration": 18,
    "start_time": "2021-12-03T17:18:20.333Z"
   },
   {
    "duration": 4,
    "start_time": "2021-12-03T17:18:27.058Z"
   },
   {
    "duration": 185,
    "start_time": "2021-12-03T17:18:27.747Z"
   },
   {
    "duration": 436,
    "start_time": "2021-12-03T17:19:16.624Z"
   },
   {
    "duration": 4,
    "start_time": "2021-12-03T17:19:24.027Z"
   },
   {
    "duration": 197,
    "start_time": "2021-12-03T17:19:24.482Z"
   },
   {
    "duration": 63,
    "start_time": "2021-12-03T17:19:29.919Z"
   },
   {
    "duration": 53,
    "start_time": "2021-12-03T17:20:09.454Z"
   },
   {
    "duration": 8,
    "start_time": "2021-12-03T17:20:12.163Z"
   },
   {
    "duration": 56,
    "start_time": "2021-12-03T17:20:16.722Z"
   },
   {
    "duration": 17,
    "start_time": "2021-12-03T17:20:19.279Z"
   },
   {
    "duration": 33,
    "start_time": "2021-12-03T17:20:20.216Z"
   },
   {
    "duration": 13,
    "start_time": "2021-12-03T17:20:20.687Z"
   },
   {
    "duration": 24,
    "start_time": "2021-12-03T17:20:21.763Z"
   },
   {
    "duration": 9,
    "start_time": "2021-12-03T17:20:23.201Z"
   },
   {
    "duration": 14,
    "start_time": "2021-12-03T17:20:23.823Z"
   },
   {
    "duration": 15,
    "start_time": "2021-12-03T17:20:28.499Z"
   },
   {
    "duration": 17,
    "start_time": "2021-12-03T17:20:29.014Z"
   },
   {
    "duration": 4,
    "start_time": "2021-12-03T17:20:36.185Z"
   },
   {
    "duration": 10,
    "start_time": "2021-12-03T17:20:36.399Z"
   },
   {
    "duration": 8,
    "start_time": "2021-12-03T17:20:42.307Z"
   },
   {
    "duration": 7,
    "start_time": "2021-12-03T17:20:42.850Z"
   },
   {
    "duration": 4,
    "start_time": "2021-12-03T17:20:55.092Z"
   },
   {
    "duration": 7,
    "start_time": "2021-12-03T17:20:56.168Z"
   },
   {
    "duration": 305,
    "start_time": "2021-12-03T17:20:56.977Z"
   },
   {
    "duration": 14,
    "start_time": "2021-12-03T17:20:57.904Z"
   },
   {
    "duration": 386,
    "start_time": "2021-12-03T17:21:45.651Z"
   },
   {
    "duration": 285,
    "start_time": "2021-12-03T17:21:54.274Z"
   },
   {
    "duration": 13,
    "start_time": "2021-12-03T17:29:44.599Z"
   },
   {
    "duration": 8,
    "start_time": "2021-12-03T17:29:49.829Z"
   },
   {
    "duration": 14,
    "start_time": "2021-12-03T17:31:06.888Z"
   },
   {
    "duration": 10,
    "start_time": "2021-12-03T17:31:08.285Z"
   },
   {
    "duration": 32,
    "start_time": "2021-12-03T17:31:30.572Z"
   },
   {
    "duration": 53,
    "start_time": "2021-12-03T17:32:06.679Z"
   },
   {
    "duration": 68,
    "start_time": "2021-12-03T17:32:12.669Z"
   },
   {
    "duration": 13,
    "start_time": "2021-12-03T17:32:42.862Z"
   },
   {
    "duration": 11,
    "start_time": "2021-12-03T17:32:52.269Z"
   },
   {
    "duration": 16,
    "start_time": "2021-12-03T17:33:50.339Z"
   },
   {
    "duration": 15,
    "start_time": "2021-12-03T17:33:50.704Z"
   },
   {
    "duration": 14,
    "start_time": "2021-12-03T17:34:13.327Z"
   },
   {
    "duration": 15,
    "start_time": "2021-12-03T17:34:13.727Z"
   },
   {
    "duration": 7036,
    "start_time": "2021-12-03T17:34:27.700Z"
   },
   {
    "duration": 6,
    "start_time": "2021-12-03T17:34:42.233Z"
   },
   {
    "duration": 22,
    "start_time": "2021-12-03T17:34:53.892Z"
   },
   {
    "duration": 6,
    "start_time": "2021-12-03T17:35:13.892Z"
   },
   {
    "duration": 14,
    "start_time": "2021-12-03T17:35:33.694Z"
   },
   {
    "duration": 14,
    "start_time": "2021-12-03T17:35:42.922Z"
   },
   {
    "duration": 15,
    "start_time": "2021-12-03T17:35:44.032Z"
   },
   {
    "duration": 246,
    "start_time": "2021-12-03T17:38:47.234Z"
   },
   {
    "duration": 13,
    "start_time": "2021-12-03T17:39:20.271Z"
   },
   {
    "duration": 13,
    "start_time": "2021-12-03T17:39:22.073Z"
   },
   {
    "duration": 78,
    "start_time": "2021-12-03T17:39:31.557Z"
   },
   {
    "duration": 17,
    "start_time": "2021-12-03T17:39:45.959Z"
   },
   {
    "duration": 15,
    "start_time": "2021-12-03T17:39:46.341Z"
   },
   {
    "duration": 23,
    "start_time": "2021-12-03T17:40:49.141Z"
   },
   {
    "duration": 19,
    "start_time": "2021-12-03T17:40:49.317Z"
   },
   {
    "duration": 13,
    "start_time": "2021-12-03T17:41:07.999Z"
   },
   {
    "duration": 5825,
    "start_time": "2021-12-03T17:41:25.839Z"
   },
   {
    "duration": 26,
    "start_time": "2021-12-03T17:42:00.975Z"
   },
   {
    "duration": -54,
    "start_time": "2021-12-03T17:42:08.441Z"
   },
   {
    "duration": 11,
    "start_time": "2021-12-03T17:42:10.441Z"
   },
   {
    "duration": 240,
    "start_time": "2021-12-03T17:43:24.010Z"
   },
   {
    "duration": 30,
    "start_time": "2021-12-03T17:43:28.380Z"
   },
   {
    "duration": 10,
    "start_time": "2021-12-03T17:43:28.537Z"
   },
   {
    "duration": 13,
    "start_time": "2021-12-03T17:44:37.095Z"
   },
   {
    "duration": 14,
    "start_time": "2021-12-03T17:44:43.190Z"
   },
   {
    "duration": 455,
    "start_time": "2021-12-03T17:46:22.477Z"
   },
   {
    "duration": 250,
    "start_time": "2021-12-03T17:46:46.109Z"
   },
   {
    "duration": 316,
    "start_time": "2021-12-03T17:47:12.991Z"
   },
   {
    "duration": 1284,
    "start_time": "2021-12-03T17:48:30.613Z"
   },
   {
    "duration": 685,
    "start_time": "2021-12-03T17:48:36.578Z"
   },
   {
    "duration": 26,
    "start_time": "2021-12-03T17:49:15.993Z"
   },
   {
    "duration": 12,
    "start_time": "2021-12-03T17:49:20.547Z"
   },
   {
    "duration": 306,
    "start_time": "2021-12-03T17:49:30.597Z"
   },
   {
    "duration": 14,
    "start_time": "2021-12-03T17:50:55.805Z"
   },
   {
    "duration": 12,
    "start_time": "2021-12-03T17:51:04.268Z"
   },
   {
    "duration": 13,
    "start_time": "2021-12-03T17:51:31.753Z"
   },
   {
    "duration": 5,
    "start_time": "2021-12-03T17:51:46.057Z"
   },
   {
    "duration": 299,
    "start_time": "2021-12-03T17:51:47.497Z"
   },
   {
    "duration": 82,
    "start_time": "2021-12-03T17:51:55.973Z"
   },
   {
    "duration": 241,
    "start_time": "2021-12-03T17:52:00.198Z"
   },
   {
    "duration": 302,
    "start_time": "2021-12-03T17:52:59.349Z"
   },
   {
    "duration": 228,
    "start_time": "2021-12-03T17:53:08.952Z"
   },
   {
    "duration": 304,
    "start_time": "2021-12-03T17:53:15.182Z"
   },
   {
    "duration": 5,
    "start_time": "2021-12-03T17:54:13.604Z"
   },
   {
    "duration": 234,
    "start_time": "2021-12-03T17:54:31.367Z"
   },
   {
    "duration": 230,
    "start_time": "2021-12-03T17:54:39.301Z"
   },
   {
    "duration": 205,
    "start_time": "2021-12-03T17:55:27.020Z"
   },
   {
    "duration": 4,
    "start_time": "2021-12-03T17:56:28.953Z"
   },
   {
    "duration": 5,
    "start_time": "2021-12-03T17:56:45.242Z"
   },
   {
    "duration": 220,
    "start_time": "2021-12-03T17:56:59.286Z"
   },
   {
    "duration": 232,
    "start_time": "2021-12-03T17:57:39.439Z"
   },
   {
    "duration": 254,
    "start_time": "2021-12-03T17:57:44.725Z"
   },
   {
    "duration": 933,
    "start_time": "2021-12-03T17:58:18.407Z"
   },
   {
    "duration": 302,
    "start_time": "2021-12-03T17:58:25.656Z"
   },
   {
    "duration": 10826,
    "start_time": "2021-12-03T17:58:36.340Z"
   },
   {
    "duration": 248,
    "start_time": "2021-12-03T17:58:59.113Z"
   },
   {
    "duration": 7,
    "start_time": "2021-12-03T18:00:15.334Z"
   },
   {
    "duration": 423,
    "start_time": "2021-12-03T18:00:30.689Z"
   },
   {
    "duration": 389,
    "start_time": "2021-12-03T18:00:59.286Z"
   },
   {
    "duration": 784,
    "start_time": "2021-12-03T18:01:03.105Z"
   },
   {
    "duration": 403,
    "start_time": "2021-12-03T18:01:06.333Z"
   },
   {
    "duration": 535,
    "start_time": "2021-12-03T18:01:10.577Z"
   },
   {
    "duration": 413,
    "start_time": "2021-12-03T18:01:13.492Z"
   },
   {
    "duration": 400,
    "start_time": "2021-12-03T18:01:17.103Z"
   },
   {
    "duration": 418,
    "start_time": "2021-12-03T18:06:59.158Z"
   },
   {
    "duration": 724,
    "start_time": "2021-12-03T18:07:42.303Z"
   },
   {
    "duration": 1419,
    "start_time": "2021-12-03T18:07:57.607Z"
   },
   {
    "duration": 1562,
    "start_time": "2021-12-03T18:08:57.523Z"
   },
   {
    "duration": 1682,
    "start_time": "2021-12-03T18:09:13.496Z"
   },
   {
    "duration": 14,
    "start_time": "2021-12-03T18:12:12.041Z"
   },
   {
    "duration": 11,
    "start_time": "2021-12-03T18:12:20.676Z"
   },
   {
    "duration": 3,
    "start_time": "2021-12-03T18:14:32.183Z"
   },
   {
    "duration": 4,
    "start_time": "2021-12-03T18:14:45.231Z"
   },
   {
    "duration": 1210,
    "start_time": "2021-12-03T18:15:25.887Z"
   },
   {
    "duration": 23,
    "start_time": "2021-12-03T18:15:38.734Z"
   },
   {
    "duration": 13,
    "start_time": "2021-12-03T18:15:39.238Z"
   },
   {
    "duration": 6,
    "start_time": "2021-12-03T18:16:15.631Z"
   },
   {
    "duration": 240,
    "start_time": "2021-12-03T18:16:19.699Z"
   },
   {
    "duration": 242,
    "start_time": "2021-12-03T18:16:23.254Z"
   },
   {
    "duration": 340,
    "start_time": "2021-12-03T18:16:26.891Z"
   },
   {
    "duration": 389,
    "start_time": "2021-12-03T18:16:52.337Z"
   },
   {
    "duration": 405,
    "start_time": "2021-12-03T18:16:59.204Z"
   },
   {
    "duration": 7,
    "start_time": "2021-12-03T18:17:46.244Z"
   },
   {
    "duration": 6,
    "start_time": "2021-12-03T18:17:55.215Z"
   },
   {
    "duration": 16,
    "start_time": "2021-12-03T18:17:58.334Z"
   },
   {
    "duration": 13,
    "start_time": "2021-12-03T18:18:30.913Z"
   },
   {
    "duration": 10,
    "start_time": "2021-12-03T18:21:08.589Z"
   },
   {
    "duration": 15,
    "start_time": "2021-12-03T18:21:12.147Z"
   },
   {
    "duration": 9,
    "start_time": "2021-12-03T18:21:26.289Z"
   },
   {
    "duration": 10,
    "start_time": "2021-12-03T18:21:37.842Z"
   },
   {
    "duration": 12,
    "start_time": "2021-12-03T18:21:41.196Z"
   },
   {
    "duration": 240,
    "start_time": "2021-12-03T18:22:00.033Z"
   },
   {
    "duration": 13,
    "start_time": "2021-12-03T18:22:14.605Z"
   },
   {
    "duration": 11,
    "start_time": "2021-12-03T18:22:20.574Z"
   },
   {
    "duration": 275,
    "start_time": "2021-12-03T18:22:22.693Z"
   },
   {
    "duration": 522,
    "start_time": "2021-12-03T18:22:39.565Z"
   },
   {
    "duration": 307,
    "start_time": "2021-12-03T18:23:32.233Z"
   },
   {
    "duration": 84,
    "start_time": "2021-12-03T18:23:54.711Z"
   },
   {
    "duration": 331,
    "start_time": "2021-12-03T18:23:58.248Z"
   },
   {
    "duration": 278,
    "start_time": "2021-12-03T18:24:26.797Z"
   },
   {
    "duration": 11,
    "start_time": "2021-12-03T18:24:47.318Z"
   },
   {
    "duration": 244,
    "start_time": "2021-12-03T18:24:47.707Z"
   },
   {
    "duration": 286,
    "start_time": "2021-12-03T18:24:54.408Z"
   },
   {
    "duration": 1744,
    "start_time": "2021-12-03T18:25:03.944Z"
   },
   {
    "duration": -44,
    "start_time": "2021-12-03T18:25:05.734Z"
   },
   {
    "duration": 243,
    "start_time": "2021-12-03T18:25:10.772Z"
   },
   {
    "duration": 1049,
    "start_time": "2021-12-03T18:25:15.599Z"
   },
   {
    "duration": -33,
    "start_time": "2021-12-03T18:25:16.683Z"
   },
   {
    "duration": 11,
    "start_time": "2021-12-03T18:25:31.833Z"
   },
   {
    "duration": 310,
    "start_time": "2021-12-03T18:25:32.178Z"
   },
   {
    "duration": 301,
    "start_time": "2021-12-03T18:26:38.757Z"
   },
   {
    "duration": 293,
    "start_time": "2021-12-03T18:26:45.055Z"
   },
   {
    "duration": 532,
    "start_time": "2021-12-03T18:27:02.621Z"
   },
   {
    "duration": 523,
    "start_time": "2021-12-03T18:27:10.978Z"
   },
   {
    "duration": 535,
    "start_time": "2021-12-03T18:27:19.052Z"
   },
   {
    "duration": 285,
    "start_time": "2021-12-03T18:27:23.881Z"
   },
   {
    "duration": 295,
    "start_time": "2021-12-03T18:29:03.755Z"
   },
   {
    "duration": 276,
    "start_time": "2021-12-03T18:29:10.290Z"
   },
   {
    "duration": 7,
    "start_time": "2021-12-03T18:32:09.253Z"
   },
   {
    "duration": 216,
    "start_time": "2021-12-03T18:32:14.451Z"
   },
   {
    "duration": 303,
    "start_time": "2021-12-03T18:32:19.222Z"
   },
   {
    "duration": 297,
    "start_time": "2021-12-03T18:32:46.624Z"
   },
   {
    "duration": 9,
    "start_time": "2021-12-03T18:32:54.575Z"
   },
   {
    "duration": 311,
    "start_time": "2021-12-03T18:32:58.265Z"
   },
   {
    "duration": 558,
    "start_time": "2021-12-03T18:33:23.707Z"
   },
   {
    "duration": 293,
    "start_time": "2021-12-03T18:33:26.383Z"
   },
   {
    "duration": 294,
    "start_time": "2021-12-03T18:33:55.669Z"
   },
   {
    "duration": 303,
    "start_time": "2021-12-03T18:34:21.883Z"
   },
   {
    "duration": 738,
    "start_time": "2021-12-03T18:34:44.710Z"
   },
   {
    "duration": 310,
    "start_time": "2021-12-03T18:35:17.592Z"
   },
   {
    "duration": 325,
    "start_time": "2021-12-03T18:35:29.938Z"
   },
   {
    "duration": 313,
    "start_time": "2021-12-03T18:35:43.274Z"
   },
   {
    "duration": 140,
    "start_time": "2021-12-03T18:36:19.158Z"
   },
   {
    "duration": 580,
    "start_time": "2021-12-03T18:36:21.891Z"
   },
   {
    "duration": 574,
    "start_time": "2021-12-03T18:36:28.037Z"
   },
   {
    "duration": 533,
    "start_time": "2021-12-03T18:36:31.708Z"
   },
   {
    "duration": 309,
    "start_time": "2021-12-03T18:36:35.987Z"
   },
   {
    "duration": 308,
    "start_time": "2021-12-03T18:38:42.416Z"
   },
   {
    "duration": 612,
    "start_time": "2021-12-03T18:39:11.635Z"
   },
   {
    "duration": 543,
    "start_time": "2021-12-03T18:39:16.337Z"
   },
   {
    "duration": 549,
    "start_time": "2021-12-03T18:39:28.003Z"
   },
   {
    "duration": 1792,
    "start_time": "2021-12-03T18:39:39.712Z"
   },
   {
    "duration": 555,
    "start_time": "2021-12-03T18:39:43.666Z"
   },
   {
    "duration": 274,
    "start_time": "2021-12-03T18:39:55.394Z"
   },
   {
    "duration": 252,
    "start_time": "2021-12-03T18:40:16.426Z"
   },
   {
    "duration": 248,
    "start_time": "2021-12-03T18:40:23.489Z"
   },
   {
    "duration": 236,
    "start_time": "2021-12-03T18:40:40.778Z"
   },
   {
    "duration": 546,
    "start_time": "2021-12-03T18:40:45.735Z"
   },
   {
    "duration": 5769,
    "start_time": "2021-12-03T18:41:00.666Z"
   },
   {
    "duration": 252,
    "start_time": "2021-12-03T18:41:25.799Z"
   },
   {
    "duration": 79,
    "start_time": "2021-12-03T18:41:38.472Z"
   },
   {
    "duration": 5956,
    "start_time": "2021-12-03T18:41:41.391Z"
   },
   {
    "duration": 84,
    "start_time": "2021-12-03T18:42:47.748Z"
   },
   {
    "duration": 278,
    "start_time": "2021-12-03T18:42:52.113Z"
   },
   {
    "duration": 216,
    "start_time": "2021-12-03T18:45:47.685Z"
   },
   {
    "duration": 295,
    "start_time": "2021-12-03T18:45:51.928Z"
   },
   {
    "duration": 319,
    "start_time": "2021-12-03T18:46:24.263Z"
   },
   {
    "duration": 271,
    "start_time": "2021-12-03T18:46:33.005Z"
   },
   {
    "duration": 384,
    "start_time": "2021-12-03T18:46:36.744Z"
   },
   {
    "duration": 335,
    "start_time": "2021-12-03T18:46:42.907Z"
   },
   {
    "duration": 7302,
    "start_time": "2021-12-03T18:46:48.648Z"
   },
   {
    "duration": 277,
    "start_time": "2021-12-03T18:48:00.482Z"
   },
   {
    "duration": 256,
    "start_time": "2021-12-03T18:48:17.562Z"
   },
   {
    "duration": 254,
    "start_time": "2021-12-03T18:48:25.346Z"
   },
   {
    "duration": 11,
    "start_time": "2021-12-03T18:48:32.828Z"
   },
   {
    "duration": 276,
    "start_time": "2021-12-03T18:48:33.434Z"
   },
   {
    "duration": 11,
    "start_time": "2021-12-03T18:48:38.360Z"
   },
   {
    "duration": 255,
    "start_time": "2021-12-03T18:48:38.873Z"
   },
   {
    "duration": 250,
    "start_time": "2021-12-03T18:48:57.031Z"
   },
   {
    "duration": 261,
    "start_time": "2021-12-03T18:49:00.176Z"
   },
   {
    "duration": 9,
    "start_time": "2021-12-03T18:49:17.403Z"
   },
   {
    "duration": 487,
    "start_time": "2021-12-03T18:52:40.890Z"
   },
   {
    "duration": 22,
    "start_time": "2021-12-03T18:52:56.502Z"
   },
   {
    "duration": 238,
    "start_time": "2021-12-03T18:55:20.970Z"
   },
   {
    "duration": 255,
    "start_time": "2021-12-03T18:55:27.082Z"
   },
   {
    "duration": 454,
    "start_time": "2021-12-03T18:56:20.903Z"
   },
   {
    "duration": 444,
    "start_time": "2021-12-03T18:56:31.490Z"
   },
   {
    "duration": 508,
    "start_time": "2021-12-03T18:56:56.908Z"
   },
   {
    "duration": 659,
    "start_time": "2021-12-03T18:57:04.448Z"
   },
   {
    "duration": 523,
    "start_time": "2021-12-03T18:58:50.381Z"
   },
   {
    "duration": 275,
    "start_time": "2021-12-03T18:59:31.016Z"
   },
   {
    "duration": 224,
    "start_time": "2021-12-03T18:59:39.117Z"
   },
   {
    "duration": 6,
    "start_time": "2021-12-03T18:59:51.199Z"
   },
   {
    "duration": 228,
    "start_time": "2021-12-03T19:00:10.335Z"
   },
   {
    "duration": 241,
    "start_time": "2021-12-03T19:00:19.850Z"
   },
   {
    "duration": 1282,
    "start_time": "2021-12-03T19:00:26.562Z"
   },
   {
    "duration": 512,
    "start_time": "2021-12-03T19:00:27.847Z"
   },
   {
    "duration": 14,
    "start_time": "2021-12-03T19:00:28.362Z"
   },
   {
    "duration": 25,
    "start_time": "2021-12-03T19:00:28.378Z"
   },
   {
    "duration": 18,
    "start_time": "2021-12-03T19:00:28.405Z"
   },
   {
    "duration": 16,
    "start_time": "2021-12-03T19:00:28.425Z"
   },
   {
    "duration": 24,
    "start_time": "2021-12-03T19:00:28.443Z"
   },
   {
    "duration": 18,
    "start_time": "2021-12-03T19:00:28.471Z"
   },
   {
    "duration": 20,
    "start_time": "2021-12-03T19:00:28.492Z"
   },
   {
    "duration": 29,
    "start_time": "2021-12-03T19:00:28.514Z"
   },
   {
    "duration": 22,
    "start_time": "2021-12-03T19:00:28.545Z"
   },
   {
    "duration": 19,
    "start_time": "2021-12-03T19:00:28.568Z"
   },
   {
    "duration": 11,
    "start_time": "2021-12-03T19:00:28.590Z"
   },
   {
    "duration": 14,
    "start_time": "2021-12-03T19:00:28.603Z"
   },
   {
    "duration": 30,
    "start_time": "2021-12-03T19:00:28.619Z"
   },
   {
    "duration": 25,
    "start_time": "2021-12-03T19:00:28.651Z"
   },
   {
    "duration": 13,
    "start_time": "2021-12-03T19:00:28.678Z"
   },
   {
    "duration": 22,
    "start_time": "2021-12-03T19:00:28.692Z"
   },
   {
    "duration": 30,
    "start_time": "2021-12-03T19:00:28.716Z"
   },
   {
    "duration": 22,
    "start_time": "2021-12-03T19:00:28.748Z"
   },
   {
    "duration": 14,
    "start_time": "2021-12-03T19:00:28.772Z"
   },
   {
    "duration": 40,
    "start_time": "2021-12-03T19:00:28.788Z"
   },
   {
    "duration": 10,
    "start_time": "2021-12-03T19:00:28.832Z"
   },
   {
    "duration": 31,
    "start_time": "2021-12-03T19:00:28.844Z"
   },
   {
    "duration": 17,
    "start_time": "2021-12-03T19:00:28.877Z"
   },
   {
    "duration": 21,
    "start_time": "2021-12-03T19:00:28.896Z"
   },
   {
    "duration": 4,
    "start_time": "2021-12-03T19:00:28.919Z"
   },
   {
    "duration": 253,
    "start_time": "2021-12-03T19:00:28.925Z"
   },
   {
    "duration": 89,
    "start_time": "2021-12-03T19:00:29.180Z"
   },
   {
    "duration": 56,
    "start_time": "2021-12-03T19:00:29.272Z"
   },
   {
    "duration": 8,
    "start_time": "2021-12-03T19:00:29.330Z"
   },
   {
    "duration": 88,
    "start_time": "2021-12-03T19:00:29.340Z"
   },
   {
    "duration": 16,
    "start_time": "2021-12-03T19:00:29.430Z"
   },
   {
    "duration": 35,
    "start_time": "2021-12-03T19:00:29.465Z"
   },
   {
    "duration": 12,
    "start_time": "2021-12-03T19:00:29.502Z"
   },
   {
    "duration": 52,
    "start_time": "2021-12-03T19:00:29.516Z"
   },
   {
    "duration": 16,
    "start_time": "2021-12-03T19:00:29.570Z"
   },
   {
    "duration": 15,
    "start_time": "2021-12-03T19:00:29.588Z"
   },
   {
    "duration": 37,
    "start_time": "2021-12-03T19:00:29.605Z"
   },
   {
    "duration": 23,
    "start_time": "2021-12-03T19:00:29.644Z"
   },
   {
    "duration": 4,
    "start_time": "2021-12-03T19:00:29.669Z"
   },
   {
    "duration": 19,
    "start_time": "2021-12-03T19:00:29.675Z"
   },
   {
    "duration": 21,
    "start_time": "2021-12-03T19:00:29.696Z"
   },
   {
    "duration": 14,
    "start_time": "2021-12-03T19:00:29.719Z"
   },
   {
    "duration": 5,
    "start_time": "2021-12-03T19:00:29.736Z"
   },
   {
    "duration": 7,
    "start_time": "2021-12-03T19:00:29.742Z"
   },
   {
    "duration": 355,
    "start_time": "2021-12-03T19:00:29.751Z"
   },
   {
    "duration": 15,
    "start_time": "2021-12-03T19:00:30.108Z"
   },
   {
    "duration": 17,
    "start_time": "2021-12-03T19:00:30.124Z"
   },
   {
    "duration": 26,
    "start_time": "2021-12-03T19:00:30.142Z"
   },
   {
    "duration": 13,
    "start_time": "2021-12-03T19:00:30.170Z"
   },
   {
    "duration": 330,
    "start_time": "2021-12-03T19:00:30.185Z"
   },
   {
    "duration": 26,
    "start_time": "2021-12-03T19:00:30.517Z"
   },
   {
    "duration": 28,
    "start_time": "2021-12-03T19:00:30.545Z"
   },
   {
    "duration": 17,
    "start_time": "2021-12-03T19:00:30.575Z"
   },
   {
    "duration": 373,
    "start_time": "2021-12-03T19:03:34.976Z"
   },
   {
    "duration": 261,
    "start_time": "2021-12-03T19:03:40.924Z"
   },
   {
    "duration": 1400,
    "start_time": "2021-12-03T19:03:48.818Z"
   },
   {
    "duration": 357,
    "start_time": "2021-12-03T19:04:13.699Z"
   },
   {
    "duration": 363,
    "start_time": "2021-12-03T19:04:24.145Z"
   },
   {
    "duration": 337,
    "start_time": "2021-12-03T19:04:29.386Z"
   },
   {
    "duration": 415,
    "start_time": "2021-12-03T19:04:32.200Z"
   },
   {
    "duration": 1557,
    "start_time": "2021-12-03T19:05:24.064Z"
   },
   {
    "duration": 1468,
    "start_time": "2021-12-03T19:05:45.741Z"
   },
   {
    "duration": 1417,
    "start_time": "2021-12-03T19:05:56.566Z"
   },
   {
    "duration": 1259,
    "start_time": "2021-12-03T19:06:25.308Z"
   },
   {
    "duration": 1246,
    "start_time": "2021-12-03T19:06:28.289Z"
   },
   {
    "duration": 1393,
    "start_time": "2021-12-03T19:06:35.729Z"
   },
   {
    "duration": 1109,
    "start_time": "2021-12-03T19:12:02.789Z"
   },
   {
    "duration": 16,
    "start_time": "2021-12-03T19:13:23.184Z"
   },
   {
    "duration": 8,
    "start_time": "2021-12-03T19:13:23.566Z"
   },
   {
    "duration": 23,
    "start_time": "2021-12-03T19:14:07.157Z"
   },
   {
    "duration": 12,
    "start_time": "2021-12-03T19:14:07.334Z"
   },
   {
    "duration": 245,
    "start_time": "2021-12-03T19:15:51.546Z"
   },
   {
    "duration": 916,
    "start_time": "2021-12-03T19:16:07.023Z"
   },
   {
    "duration": 14,
    "start_time": "2021-12-03T19:16:17.468Z"
   },
   {
    "duration": 8,
    "start_time": "2021-12-03T19:16:18.422Z"
   },
   {
    "duration": 14,
    "start_time": "2021-12-03T19:16:30.018Z"
   },
   {
    "duration": 36,
    "start_time": "2021-12-03T19:16:43.250Z"
   },
   {
    "duration": 8,
    "start_time": "2021-12-03T19:16:52.347Z"
   },
   {
    "duration": 7,
    "start_time": "2021-12-03T19:16:55.884Z"
   },
   {
    "duration": 7,
    "start_time": "2021-12-03T19:17:08.890Z"
   },
   {
    "duration": 7,
    "start_time": "2021-12-03T19:17:21.941Z"
   },
   {
    "duration": 8,
    "start_time": "2021-12-03T19:17:28.171Z"
   },
   {
    "duration": 1197,
    "start_time": "2021-12-03T19:21:23.168Z"
   },
   {
    "duration": 6009,
    "start_time": "2021-12-03T19:26:29.798Z"
   },
   {
    "duration": 396,
    "start_time": "2021-12-03T19:26:41.236Z"
   },
   {
    "duration": 687,
    "start_time": "2021-12-03T19:27:30.478Z"
   },
   {
    "duration": 2701,
    "start_time": "2021-12-03T19:27:40.305Z"
   },
   {
    "duration": 386,
    "start_time": "2021-12-03T19:28:22.717Z"
   },
   {
    "duration": 382,
    "start_time": "2021-12-03T19:28:32.072Z"
   },
   {
    "duration": 558,
    "start_time": "2021-12-03T19:28:45.416Z"
   },
   {
    "duration": 432,
    "start_time": "2021-12-03T19:29:23.061Z"
   },
   {
    "duration": 458,
    "start_time": "2021-12-03T19:29:31.005Z"
   },
   {
    "duration": 393,
    "start_time": "2021-12-03T19:29:40.809Z"
   },
   {
    "duration": 410,
    "start_time": "2021-12-03T19:29:58.513Z"
   },
   {
    "duration": 392,
    "start_time": "2021-12-03T19:31:53.963Z"
   },
   {
    "duration": 413,
    "start_time": "2021-12-03T19:32:09.650Z"
   },
   {
    "duration": 7,
    "start_time": "2021-12-03T19:52:57.319Z"
   },
   {
    "duration": 10,
    "start_time": "2021-12-03T19:55:55.301Z"
   },
   {
    "duration": 252,
    "start_time": "2021-12-03T19:55:55.871Z"
   },
   {
    "duration": 5,
    "start_time": "2021-12-03T19:56:39.362Z"
   },
   {
    "duration": 17,
    "start_time": "2021-12-03T19:56:44.074Z"
   },
   {
    "duration": 168,
    "start_time": "2021-12-03T19:56:58.831Z"
   },
   {
    "duration": 6,
    "start_time": "2021-12-03T19:57:24.122Z"
   },
   {
    "duration": 4,
    "start_time": "2021-12-03T19:59:28.245Z"
   },
   {
    "duration": 4,
    "start_time": "2021-12-03T19:59:28.822Z"
   },
   {
    "duration": 250,
    "start_time": "2021-12-03T20:00:01.564Z"
   },
   {
    "duration": 8,
    "start_time": "2021-12-03T20:00:07.574Z"
   },
   {
    "duration": 3,
    "start_time": "2021-12-03T20:00:08.574Z"
   },
   {
    "duration": 4,
    "start_time": "2021-12-03T20:00:50.407Z"
   },
   {
    "duration": 10,
    "start_time": "2021-12-03T20:04:23.533Z"
   },
   {
    "duration": 6,
    "start_time": "2021-12-03T20:04:30.035Z"
   },
   {
    "duration": 10,
    "start_time": "2021-12-03T20:05:26.108Z"
   },
   {
    "duration": 7,
    "start_time": "2021-12-03T20:05:26.437Z"
   },
   {
    "duration": 13,
    "start_time": "2021-12-03T20:05:35.453Z"
   },
   {
    "duration": 4,
    "start_time": "2021-12-03T20:07:02.889Z"
   },
   {
    "duration": 6,
    "start_time": "2021-12-03T20:08:33.294Z"
   },
   {
    "duration": 8,
    "start_time": "2021-12-03T20:08:37.168Z"
   },
   {
    "duration": 6,
    "start_time": "2021-12-03T20:08:45.498Z"
   },
   {
    "duration": 22,
    "start_time": "2021-12-03T20:08:45.755Z"
   },
   {
    "duration": 269,
    "start_time": "2021-12-03T20:10:01.591Z"
   },
   {
    "duration": 9,
    "start_time": "2021-12-03T20:10:08.868Z"
   },
   {
    "duration": 23,
    "start_time": "2021-12-03T20:10:14.055Z"
   },
   {
    "duration": 11,
    "start_time": "2021-12-03T20:10:28.085Z"
   },
   {
    "duration": 434,
    "start_time": "2021-12-03T20:10:49.873Z"
   },
   {
    "duration": 11,
    "start_time": "2021-12-03T20:11:03.390Z"
   },
   {
    "duration": 4,
    "start_time": "2021-12-03T20:11:03.703Z"
   },
   {
    "duration": 5,
    "start_time": "2021-12-03T20:11:08.928Z"
   },
   {
    "duration": 3,
    "start_time": "2021-12-03T20:11:15.863Z"
   },
   {
    "duration": 79,
    "start_time": "2021-12-03T20:11:35.909Z"
   },
   {
    "duration": 9,
    "start_time": "2021-12-03T20:12:52.609Z"
   },
   {
    "duration": 4,
    "start_time": "2021-12-03T20:12:53.307Z"
   },
   {
    "duration": 3,
    "start_time": "2021-12-03T20:12:56.393Z"
   },
   {
    "duration": 285,
    "start_time": "2021-12-03T20:13:32.671Z"
   },
   {
    "duration": 256,
    "start_time": "2021-12-03T20:13:58.958Z"
   },
   {
    "duration": 7,
    "start_time": "2021-12-03T20:14:26.714Z"
   },
   {
    "duration": 11,
    "start_time": "2021-12-03T20:14:58.118Z"
   },
   {
    "duration": 10,
    "start_time": "2021-12-03T20:15:41.772Z"
   },
   {
    "duration": 8,
    "start_time": "2021-12-03T20:15:42.639Z"
   },
   {
    "duration": 1211,
    "start_time": "2021-12-03T20:23:48.345Z"
   },
   {
    "duration": 589,
    "start_time": "2021-12-03T20:23:49.565Z"
   },
   {
    "duration": 17,
    "start_time": "2021-12-03T20:23:50.157Z"
   },
   {
    "duration": 18,
    "start_time": "2021-12-03T20:23:50.176Z"
   },
   {
    "duration": 15,
    "start_time": "2021-12-03T20:23:50.196Z"
   },
   {
    "duration": 9,
    "start_time": "2021-12-03T20:23:50.212Z"
   },
   {
    "duration": 13,
    "start_time": "2021-12-03T20:23:50.222Z"
   },
   {
    "duration": 33,
    "start_time": "2021-12-03T20:23:50.238Z"
   },
   {
    "duration": 17,
    "start_time": "2021-12-03T20:23:50.273Z"
   },
   {
    "duration": 16,
    "start_time": "2021-12-03T20:23:50.292Z"
   },
   {
    "duration": 22,
    "start_time": "2021-12-03T20:23:50.310Z"
   },
   {
    "duration": 42,
    "start_time": "2021-12-03T20:23:50.335Z"
   },
   {
    "duration": 8,
    "start_time": "2021-12-03T20:23:50.379Z"
   },
   {
    "duration": 8,
    "start_time": "2021-12-03T20:23:50.389Z"
   },
   {
    "duration": 11,
    "start_time": "2021-12-03T20:23:50.399Z"
   },
   {
    "duration": 16,
    "start_time": "2021-12-03T20:23:50.412Z"
   },
   {
    "duration": 9,
    "start_time": "2021-12-03T20:23:50.464Z"
   },
   {
    "duration": 18,
    "start_time": "2021-12-03T20:23:50.475Z"
   },
   {
    "duration": 14,
    "start_time": "2021-12-03T20:23:50.495Z"
   },
   {
    "duration": 30,
    "start_time": "2021-12-03T20:23:50.511Z"
   },
   {
    "duration": 28,
    "start_time": "2021-12-03T20:23:50.543Z"
   },
   {
    "duration": 8,
    "start_time": "2021-12-03T20:23:50.573Z"
   },
   {
    "duration": 14,
    "start_time": "2021-12-03T20:23:50.582Z"
   },
   {
    "duration": 35,
    "start_time": "2021-12-03T20:23:50.597Z"
   },
   {
    "duration": 15,
    "start_time": "2021-12-03T20:23:50.634Z"
   },
   {
    "duration": 27,
    "start_time": "2021-12-03T20:23:50.653Z"
   },
   {
    "duration": 4,
    "start_time": "2021-12-03T20:23:50.682Z"
   },
   {
    "duration": 221,
    "start_time": "2021-12-03T20:23:50.687Z"
   },
   {
    "duration": 76,
    "start_time": "2021-12-03T20:23:50.910Z"
   },
   {
    "duration": 51,
    "start_time": "2021-12-03T20:23:50.988Z"
   },
   {
    "duration": 7,
    "start_time": "2021-12-03T20:23:51.041Z"
   },
   {
    "duration": 61,
    "start_time": "2021-12-03T20:23:51.064Z"
   },
   {
    "duration": 14,
    "start_time": "2021-12-03T20:23:51.127Z"
   },
   {
    "duration": 47,
    "start_time": "2021-12-03T20:23:51.143Z"
   },
   {
    "duration": 11,
    "start_time": "2021-12-03T20:23:51.192Z"
   },
   {
    "duration": 25,
    "start_time": "2021-12-03T20:23:51.206Z"
   },
   {
    "duration": 38,
    "start_time": "2021-12-03T20:23:51.233Z"
   },
   {
    "duration": 22,
    "start_time": "2021-12-03T20:23:51.272Z"
   },
   {
    "duration": 17,
    "start_time": "2021-12-03T20:23:51.296Z"
   },
   {
    "duration": 14,
    "start_time": "2021-12-03T20:23:51.315Z"
   },
   {
    "duration": 21,
    "start_time": "2021-12-03T20:23:51.331Z"
   },
   {
    "duration": 22,
    "start_time": "2021-12-03T20:23:51.354Z"
   },
   {
    "duration": 24,
    "start_time": "2021-12-03T20:23:51.377Z"
   },
   {
    "duration": 16,
    "start_time": "2021-12-03T20:23:51.403Z"
   },
   {
    "duration": 12,
    "start_time": "2021-12-03T20:23:51.421Z"
   },
   {
    "duration": 15,
    "start_time": "2021-12-03T20:23:51.435Z"
   },
   {
    "duration": 329,
    "start_time": "2021-12-03T20:23:51.452Z"
   },
   {
    "duration": 15,
    "start_time": "2021-12-03T20:23:51.783Z"
   },
   {
    "duration": 19,
    "start_time": "2021-12-03T20:23:51.799Z"
   },
   {
    "duration": 373,
    "start_time": "2021-12-03T20:23:51.821Z"
   },
   {
    "duration": 17,
    "start_time": "2021-12-03T20:23:52.196Z"
   },
   {
    "duration": 8,
    "start_time": "2021-12-03T20:23:52.215Z"
   },
   {
    "duration": 22,
    "start_time": "2021-12-03T20:23:52.224Z"
   },
   {
    "duration": 24,
    "start_time": "2021-12-03T20:23:52.263Z"
   },
   {
    "duration": 10,
    "start_time": "2021-12-03T20:23:52.288Z"
   },
   {
    "duration": 435,
    "start_time": "2021-12-03T20:23:52.300Z"
   },
   {
    "duration": 86,
    "start_time": "2021-12-03T20:23:52.737Z"
   },
   {
    "duration": -48,
    "start_time": "2021-12-03T20:23:52.873Z"
   },
   {
    "duration": -52,
    "start_time": "2021-12-03T20:23:52.878Z"
   },
   {
    "duration": -55,
    "start_time": "2021-12-03T20:23:52.883Z"
   },
   {
    "duration": -60,
    "start_time": "2021-12-03T20:23:52.889Z"
   },
   {
    "duration": -64,
    "start_time": "2021-12-03T20:23:52.894Z"
   },
   {
    "duration": -69,
    "start_time": "2021-12-03T20:23:52.900Z"
   },
   {
    "duration": -73,
    "start_time": "2021-12-03T20:23:52.905Z"
   },
   {
    "duration": -77,
    "start_time": "2021-12-03T20:23:52.910Z"
   },
   {
    "duration": -80,
    "start_time": "2021-12-03T20:23:52.915Z"
   },
   {
    "duration": -85,
    "start_time": "2021-12-03T20:23:52.921Z"
   },
   {
    "duration": 10,
    "start_time": "2021-12-03T20:31:56.423Z"
   },
   {
    "duration": 9,
    "start_time": "2021-12-03T20:32:32.652Z"
   },
   {
    "duration": 13,
    "start_time": "2021-12-03T20:33:53.164Z"
   },
   {
    "duration": 11,
    "start_time": "2021-12-03T20:34:02.116Z"
   },
   {
    "duration": 4,
    "start_time": "2021-12-03T20:34:22.850Z"
   },
   {
    "duration": 10,
    "start_time": "2021-12-03T20:34:23.127Z"
   },
   {
    "duration": 7,
    "start_time": "2021-12-03T20:34:26.429Z"
   },
   {
    "duration": 5,
    "start_time": "2021-12-03T20:34:26.899Z"
   },
   {
    "duration": 12,
    "start_time": "2021-12-03T20:34:27.331Z"
   },
   {
    "duration": 10,
    "start_time": "2021-12-03T20:34:55.595Z"
   },
   {
    "duration": 8,
    "start_time": "2021-12-03T20:34:55.836Z"
   },
   {
    "duration": 1219,
    "start_time": "2021-12-03T20:37:14.987Z"
   },
   {
    "duration": 456,
    "start_time": "2021-12-03T20:37:16.208Z"
   },
   {
    "duration": 12,
    "start_time": "2021-12-03T20:37:16.666Z"
   },
   {
    "duration": 11,
    "start_time": "2021-12-03T20:37:16.680Z"
   },
   {
    "duration": 15,
    "start_time": "2021-12-03T20:37:16.693Z"
   },
   {
    "duration": 9,
    "start_time": "2021-12-03T20:37:16.710Z"
   },
   {
    "duration": 9,
    "start_time": "2021-12-03T20:37:16.721Z"
   },
   {
    "duration": 45,
    "start_time": "2021-12-03T20:37:16.733Z"
   },
   {
    "duration": 9,
    "start_time": "2021-12-03T20:37:16.780Z"
   },
   {
    "duration": 15,
    "start_time": "2021-12-03T20:37:16.791Z"
   },
   {
    "duration": 24,
    "start_time": "2021-12-03T20:37:16.807Z"
   },
   {
    "duration": 40,
    "start_time": "2021-12-03T20:37:16.833Z"
   },
   {
    "duration": 8,
    "start_time": "2021-12-03T20:37:16.875Z"
   },
   {
    "duration": 9,
    "start_time": "2021-12-03T20:37:16.885Z"
   },
   {
    "duration": 14,
    "start_time": "2021-12-03T20:37:16.895Z"
   },
   {
    "duration": 16,
    "start_time": "2021-12-03T20:37:16.911Z"
   },
   {
    "duration": 42,
    "start_time": "2021-12-03T20:37:16.929Z"
   },
   {
    "duration": 10,
    "start_time": "2021-12-03T20:37:16.973Z"
   },
   {
    "duration": 15,
    "start_time": "2021-12-03T20:37:16.985Z"
   },
   {
    "duration": 18,
    "start_time": "2021-12-03T20:37:17.001Z"
   },
   {
    "duration": 14,
    "start_time": "2021-12-03T20:37:17.021Z"
   },
   {
    "duration": 9,
    "start_time": "2021-12-03T20:37:17.062Z"
   },
   {
    "duration": 9,
    "start_time": "2021-12-03T20:37:17.076Z"
   },
   {
    "duration": 33,
    "start_time": "2021-12-03T20:37:17.087Z"
   },
   {
    "duration": 17,
    "start_time": "2021-12-03T20:37:17.122Z"
   },
   {
    "duration": 40,
    "start_time": "2021-12-03T20:37:17.141Z"
   },
   {
    "duration": 5,
    "start_time": "2021-12-03T20:37:17.183Z"
   },
   {
    "duration": 247,
    "start_time": "2021-12-03T20:37:17.190Z"
   },
   {
    "duration": 86,
    "start_time": "2021-12-03T20:37:17.439Z"
   },
   {
    "duration": 68,
    "start_time": "2021-12-03T20:37:17.527Z"
   },
   {
    "duration": 7,
    "start_time": "2021-12-03T20:37:17.597Z"
   },
   {
    "duration": 72,
    "start_time": "2021-12-03T20:37:17.606Z"
   },
   {
    "duration": 9,
    "start_time": "2021-12-03T20:37:17.680Z"
   },
   {
    "duration": 39,
    "start_time": "2021-12-03T20:37:17.691Z"
   },
   {
    "duration": 8,
    "start_time": "2021-12-03T20:37:17.732Z"
   },
   {
    "duration": 45,
    "start_time": "2021-12-03T20:37:17.742Z"
   },
   {
    "duration": 10,
    "start_time": "2021-12-03T20:37:17.788Z"
   },
   {
    "duration": 9,
    "start_time": "2021-12-03T20:37:17.800Z"
   },
   {
    "duration": 14,
    "start_time": "2021-12-03T20:37:17.811Z"
   },
   {
    "duration": 12,
    "start_time": "2021-12-03T20:37:17.827Z"
   },
   {
    "duration": 25,
    "start_time": "2021-12-03T20:37:17.841Z"
   },
   {
    "duration": 19,
    "start_time": "2021-12-03T20:37:17.868Z"
   },
   {
    "duration": 11,
    "start_time": "2021-12-03T20:37:17.889Z"
   },
   {
    "duration": 12,
    "start_time": "2021-12-03T20:37:17.902Z"
   },
   {
    "duration": 20,
    "start_time": "2021-12-03T20:37:17.916Z"
   },
   {
    "duration": 343,
    "start_time": "2021-12-03T20:37:17.938Z"
   },
   {
    "duration": 14,
    "start_time": "2021-12-03T20:37:18.283Z"
   },
   {
    "duration": 13,
    "start_time": "2021-12-03T20:37:18.298Z"
   },
   {
    "duration": 292,
    "start_time": "2021-12-03T20:37:18.313Z"
   },
   {
    "duration": 14,
    "start_time": "2021-12-03T20:37:18.606Z"
   },
   {
    "duration": 8,
    "start_time": "2021-12-03T20:37:18.622Z"
   },
   {
    "duration": 47,
    "start_time": "2021-12-03T20:37:18.631Z"
   },
   {
    "duration": 10,
    "start_time": "2021-12-03T20:37:18.679Z"
   },
   {
    "duration": 574,
    "start_time": "2021-12-03T20:37:18.691Z"
   },
   {
    "duration": 387,
    "start_time": "2021-12-03T20:37:19.268Z"
   },
   {
    "duration": -39,
    "start_time": "2021-12-03T20:37:19.697Z"
   },
   {
    "duration": -46,
    "start_time": "2021-12-03T20:37:19.705Z"
   },
   {
    "duration": -50,
    "start_time": "2021-12-03T20:37:19.711Z"
   },
   {
    "duration": -55,
    "start_time": "2021-12-03T20:37:19.717Z"
   },
   {
    "duration": -58,
    "start_time": "2021-12-03T20:37:19.722Z"
   },
   {
    "duration": -63,
    "start_time": "2021-12-03T20:37:19.728Z"
   },
   {
    "duration": -68,
    "start_time": "2021-12-03T20:37:19.734Z"
   },
   {
    "duration": -75,
    "start_time": "2021-12-03T20:37:19.741Z"
   },
   {
    "duration": -88,
    "start_time": "2021-12-03T20:37:19.755Z"
   },
   {
    "duration": -94,
    "start_time": "2021-12-03T20:37:19.762Z"
   },
   {
    "duration": 13,
    "start_time": "2021-12-03T20:38:24.187Z"
   },
   {
    "duration": 14,
    "start_time": "2021-12-03T20:38:32.720Z"
   },
   {
    "duration": 389,
    "start_time": "2021-12-03T20:38:51.921Z"
   },
   {
    "duration": 488,
    "start_time": "2021-12-03T20:38:53.202Z"
   },
   {
    "duration": 1219,
    "start_time": "2021-12-03T20:39:08.241Z"
   },
   {
    "duration": 443,
    "start_time": "2021-12-03T20:39:09.464Z"
   },
   {
    "duration": 13,
    "start_time": "2021-12-03T20:39:09.909Z"
   },
   {
    "duration": 33,
    "start_time": "2021-12-03T20:39:09.924Z"
   },
   {
    "duration": 14,
    "start_time": "2021-12-03T20:39:09.960Z"
   },
   {
    "duration": 11,
    "start_time": "2021-12-03T20:39:09.976Z"
   },
   {
    "duration": 12,
    "start_time": "2021-12-03T20:39:09.989Z"
   },
   {
    "duration": 11,
    "start_time": "2021-12-03T20:39:10.003Z"
   },
   {
    "duration": 21,
    "start_time": "2021-12-03T20:39:10.017Z"
   },
   {
    "duration": 17,
    "start_time": "2021-12-03T20:39:10.041Z"
   },
   {
    "duration": 22,
    "start_time": "2021-12-03T20:39:10.060Z"
   },
   {
    "duration": 17,
    "start_time": "2021-12-03T20:39:10.084Z"
   },
   {
    "duration": 8,
    "start_time": "2021-12-03T20:39:10.103Z"
   },
   {
    "duration": 12,
    "start_time": "2021-12-03T20:39:10.112Z"
   },
   {
    "duration": 38,
    "start_time": "2021-12-03T20:39:10.126Z"
   },
   {
    "duration": 16,
    "start_time": "2021-12-03T20:39:10.166Z"
   },
   {
    "duration": 8,
    "start_time": "2021-12-03T20:39:10.184Z"
   },
   {
    "duration": 9,
    "start_time": "2021-12-03T20:39:10.193Z"
   },
   {
    "duration": 15,
    "start_time": "2021-12-03T20:39:10.204Z"
   },
   {
    "duration": 49,
    "start_time": "2021-12-03T20:39:10.221Z"
   },
   {
    "duration": 27,
    "start_time": "2021-12-03T20:39:10.272Z"
   },
   {
    "duration": 12,
    "start_time": "2021-12-03T20:39:10.301Z"
   },
   {
    "duration": 10,
    "start_time": "2021-12-03T20:39:10.315Z"
   },
   {
    "duration": 57,
    "start_time": "2021-12-03T20:39:10.327Z"
   },
   {
    "duration": 23,
    "start_time": "2021-12-03T20:39:10.387Z"
   },
   {
    "duration": 28,
    "start_time": "2021-12-03T20:39:10.412Z"
   },
   {
    "duration": 3,
    "start_time": "2021-12-03T20:39:10.465Z"
   },
   {
    "duration": 204,
    "start_time": "2021-12-03T20:39:10.471Z"
   },
   {
    "duration": 66,
    "start_time": "2021-12-03T20:39:10.677Z"
   },
   {
    "duration": 68,
    "start_time": "2021-12-03T20:39:10.745Z"
   },
   {
    "duration": 7,
    "start_time": "2021-12-03T20:39:10.815Z"
   },
   {
    "duration": 76,
    "start_time": "2021-12-03T20:39:10.824Z"
   },
   {
    "duration": 8,
    "start_time": "2021-12-03T20:39:10.902Z"
   },
   {
    "duration": 35,
    "start_time": "2021-12-03T20:39:10.912Z"
   },
   {
    "duration": 22,
    "start_time": "2021-12-03T20:39:10.948Z"
   },
   {
    "duration": 40,
    "start_time": "2021-12-03T20:39:10.972Z"
   },
   {
    "duration": 9,
    "start_time": "2021-12-03T20:39:11.015Z"
   },
   {
    "duration": 10,
    "start_time": "2021-12-03T20:39:11.026Z"
   },
   {
    "duration": 27,
    "start_time": "2021-12-03T20:39:11.038Z"
   },
   {
    "duration": 12,
    "start_time": "2021-12-03T20:39:11.067Z"
   },
   {
    "duration": 5,
    "start_time": "2021-12-03T20:39:11.081Z"
   },
   {
    "duration": 8,
    "start_time": "2021-12-03T20:39:11.088Z"
   },
   {
    "duration": 8,
    "start_time": "2021-12-03T20:39:11.098Z"
   },
   {
    "duration": 4,
    "start_time": "2021-12-03T20:39:11.108Z"
   },
   {
    "duration": 51,
    "start_time": "2021-12-03T20:39:11.113Z"
   },
   {
    "duration": 9,
    "start_time": "2021-12-03T20:39:11.166Z"
   },
   {
    "duration": 332,
    "start_time": "2021-12-03T20:39:11.177Z"
   },
   {
    "duration": 16,
    "start_time": "2021-12-03T20:39:11.511Z"
   },
   {
    "duration": 11,
    "start_time": "2021-12-03T20:39:11.529Z"
   },
   {
    "duration": 347,
    "start_time": "2021-12-03T20:39:11.543Z"
   },
   {
    "duration": 14,
    "start_time": "2021-12-03T20:39:11.892Z"
   },
   {
    "duration": 8,
    "start_time": "2021-12-03T20:39:11.908Z"
   },
   {
    "duration": 46,
    "start_time": "2021-12-03T20:39:11.917Z"
   },
   {
    "duration": 11,
    "start_time": "2021-12-03T20:39:11.966Z"
   },
   {
    "duration": 413,
    "start_time": "2021-12-03T20:39:11.979Z"
   },
   {
    "duration": 399,
    "start_time": "2021-12-03T20:39:12.394Z"
   },
   {
    "duration": 719,
    "start_time": "2021-12-03T20:39:12.795Z"
   },
   {
    "duration": 11,
    "start_time": "2021-12-03T20:39:13.516Z"
   },
   {
    "duration": 6,
    "start_time": "2021-12-03T20:39:13.529Z"
   },
   {
    "duration": 5,
    "start_time": "2021-12-03T20:39:13.537Z"
   },
   {
    "duration": 16,
    "start_time": "2021-12-03T20:39:13.564Z"
   },
   {
    "duration": 13,
    "start_time": "2021-12-03T20:39:13.582Z"
   },
   {
    "duration": 4,
    "start_time": "2021-12-03T20:39:13.597Z"
   },
   {
    "duration": 5,
    "start_time": "2021-12-03T20:39:13.603Z"
   },
   {
    "duration": 10,
    "start_time": "2021-12-03T20:39:13.610Z"
   },
   {
    "duration": 42,
    "start_time": "2021-12-03T20:39:13.621Z"
   },
   {
    "duration": 10,
    "start_time": "2021-12-03T20:42:11.853Z"
   },
   {
    "duration": 1262,
    "start_time": "2021-12-03T20:45:52.951Z"
   },
   {
    "duration": 436,
    "start_time": "2021-12-03T20:45:54.216Z"
   },
   {
    "duration": 13,
    "start_time": "2021-12-03T20:45:54.654Z"
   },
   {
    "duration": 12,
    "start_time": "2021-12-03T20:45:54.669Z"
   },
   {
    "duration": 17,
    "start_time": "2021-12-03T20:45:54.682Z"
   },
   {
    "duration": 7,
    "start_time": "2021-12-03T20:45:54.701Z"
   },
   {
    "duration": 17,
    "start_time": "2021-12-03T20:45:54.709Z"
   },
   {
    "duration": 22,
    "start_time": "2021-12-03T20:45:54.728Z"
   },
   {
    "duration": 24,
    "start_time": "2021-12-03T20:45:54.753Z"
   },
   {
    "duration": 26,
    "start_time": "2021-12-03T20:45:54.779Z"
   },
   {
    "duration": 36,
    "start_time": "2021-12-03T20:45:54.807Z"
   },
   {
    "duration": 23,
    "start_time": "2021-12-03T20:45:54.846Z"
   },
   {
    "duration": 11,
    "start_time": "2021-12-03T20:45:54.871Z"
   },
   {
    "duration": 36,
    "start_time": "2021-12-03T20:45:54.884Z"
   },
   {
    "duration": 27,
    "start_time": "2021-12-03T20:45:54.922Z"
   },
   {
    "duration": 25,
    "start_time": "2021-12-03T20:45:54.951Z"
   },
   {
    "duration": 26,
    "start_time": "2021-12-03T20:45:54.979Z"
   },
   {
    "duration": 26,
    "start_time": "2021-12-03T20:45:55.007Z"
   },
   {
    "duration": 33,
    "start_time": "2021-12-03T20:45:55.035Z"
   },
   {
    "duration": 26,
    "start_time": "2021-12-03T20:45:55.070Z"
   },
   {
    "duration": 33,
    "start_time": "2021-12-03T20:45:55.098Z"
   },
   {
    "duration": 11,
    "start_time": "2021-12-03T20:45:55.134Z"
   },
   {
    "duration": 23,
    "start_time": "2021-12-03T20:45:55.151Z"
   },
   {
    "duration": 32,
    "start_time": "2021-12-03T20:45:55.178Z"
   },
   {
    "duration": 16,
    "start_time": "2021-12-03T20:45:55.212Z"
   },
   {
    "duration": 28,
    "start_time": "2021-12-03T20:45:55.229Z"
   },
   {
    "duration": 6,
    "start_time": "2021-12-03T20:45:55.259Z"
   },
   {
    "duration": 227,
    "start_time": "2021-12-03T20:45:55.267Z"
   },
   {
    "duration": 68,
    "start_time": "2021-12-03T20:45:55.495Z"
   },
   {
    "duration": 53,
    "start_time": "2021-12-03T20:45:55.565Z"
   },
   {
    "duration": 6,
    "start_time": "2021-12-03T20:45:55.620Z"
   },
   {
    "duration": 77,
    "start_time": "2021-12-03T20:45:55.628Z"
   },
   {
    "duration": 9,
    "start_time": "2021-12-03T20:45:55.707Z"
   },
   {
    "duration": 38,
    "start_time": "2021-12-03T20:45:55.718Z"
   },
   {
    "duration": 9,
    "start_time": "2021-12-03T20:45:55.763Z"
   },
   {
    "duration": 30,
    "start_time": "2021-12-03T20:45:55.774Z"
   },
   {
    "duration": 8,
    "start_time": "2021-12-03T20:45:55.806Z"
   },
   {
    "duration": 8,
    "start_time": "2021-12-03T20:45:55.816Z"
   },
   {
    "duration": 18,
    "start_time": "2021-12-03T20:45:55.826Z"
   },
   {
    "duration": 20,
    "start_time": "2021-12-03T20:45:55.846Z"
   },
   {
    "duration": 18,
    "start_time": "2021-12-03T20:45:55.868Z"
   },
   {
    "duration": 20,
    "start_time": "2021-12-03T20:45:55.888Z"
   },
   {
    "duration": 11,
    "start_time": "2021-12-03T20:45:55.910Z"
   },
   {
    "duration": 5,
    "start_time": "2021-12-03T20:45:55.923Z"
   },
   {
    "duration": 29,
    "start_time": "2021-12-03T20:45:55.930Z"
   },
   {
    "duration": 8,
    "start_time": "2021-12-03T20:45:55.961Z"
   },
   {
    "duration": 319,
    "start_time": "2021-12-03T20:45:55.971Z"
   },
   {
    "duration": 14,
    "start_time": "2021-12-03T20:45:56.292Z"
   },
   {
    "duration": 13,
    "start_time": "2021-12-03T20:45:56.310Z"
   },
   {
    "duration": 249,
    "start_time": "2021-12-03T20:45:56.324Z"
   },
   {
    "duration": 13,
    "start_time": "2021-12-03T20:45:56.575Z"
   },
   {
    "duration": 7,
    "start_time": "2021-12-03T20:45:56.590Z"
   },
   {
    "duration": 27,
    "start_time": "2021-12-03T20:45:56.599Z"
   },
   {
    "duration": 11,
    "start_time": "2021-12-03T20:45:56.627Z"
   },
   {
    "duration": 417,
    "start_time": "2021-12-03T20:45:56.664Z"
   },
   {
    "duration": 383,
    "start_time": "2021-12-03T20:45:57.083Z"
   },
   {
    "duration": 483,
    "start_time": "2021-12-03T20:45:57.467Z"
   },
   {
    "duration": 8,
    "start_time": "2021-12-03T20:45:57.963Z"
   },
   {
    "duration": 20,
    "start_time": "2021-12-03T20:45:57.972Z"
   },
   {
    "duration": 37,
    "start_time": "2021-12-03T20:45:57.993Z"
   },
   {
    "duration": 36,
    "start_time": "2021-12-03T20:45:58.032Z"
   },
   {
    "duration": 28,
    "start_time": "2021-12-03T20:45:58.070Z"
   },
   {
    "duration": 20,
    "start_time": "2021-12-03T20:45:58.100Z"
   },
   {
    "duration": 14,
    "start_time": "2021-12-03T20:45:58.122Z"
   },
   {
    "duration": 26,
    "start_time": "2021-12-03T20:45:58.138Z"
   },
   {
    "duration": 23,
    "start_time": "2021-12-03T20:45:58.165Z"
   },
   {
    "duration": 2192,
    "start_time": "2021-12-04T10:34:22.205Z"
   },
   {
    "duration": 526,
    "start_time": "2021-12-04T10:34:24.400Z"
   },
   {
    "duration": 30,
    "start_time": "2021-12-04T10:34:24.929Z"
   },
   {
    "duration": 17,
    "start_time": "2021-12-04T10:34:24.962Z"
   },
   {
    "duration": 17,
    "start_time": "2021-12-04T10:34:24.981Z"
   },
   {
    "duration": 9,
    "start_time": "2021-12-04T10:34:25.001Z"
   },
   {
    "duration": 49,
    "start_time": "2021-12-04T10:34:25.012Z"
   },
   {
    "duration": 12,
    "start_time": "2021-12-04T10:34:25.063Z"
   },
   {
    "duration": 12,
    "start_time": "2021-12-04T10:34:25.080Z"
   },
   {
    "duration": 19,
    "start_time": "2021-12-04T10:34:25.095Z"
   },
   {
    "duration": 64,
    "start_time": "2021-12-04T10:34:25.116Z"
   },
   {
    "duration": 21,
    "start_time": "2021-12-04T10:34:25.182Z"
   },
   {
    "duration": 10,
    "start_time": "2021-12-04T10:34:25.205Z"
   },
   {
    "duration": 50,
    "start_time": "2021-12-04T10:34:25.218Z"
   },
   {
    "duration": 20,
    "start_time": "2021-12-04T10:34:25.271Z"
   },
   {
    "duration": 22,
    "start_time": "2021-12-04T10:34:25.294Z"
   },
   {
    "duration": 19,
    "start_time": "2021-12-04T10:34:25.318Z"
   },
   {
    "duration": 28,
    "start_time": "2021-12-04T10:34:25.339Z"
   },
   {
    "duration": 23,
    "start_time": "2021-12-04T10:34:25.370Z"
   },
   {
    "duration": 33,
    "start_time": "2021-12-04T10:34:25.396Z"
   },
   {
    "duration": 32,
    "start_time": "2021-12-04T10:34:25.432Z"
   },
   {
    "duration": 11,
    "start_time": "2021-12-04T10:34:25.467Z"
   },
   {
    "duration": 10,
    "start_time": "2021-12-04T10:34:25.481Z"
   },
   {
    "duration": 66,
    "start_time": "2021-12-04T10:34:25.494Z"
   },
   {
    "duration": 23,
    "start_time": "2021-12-04T10:34:25.564Z"
   },
   {
    "duration": 25,
    "start_time": "2021-12-04T10:34:25.589Z"
   },
   {
    "duration": 5,
    "start_time": "2021-12-04T10:34:25.620Z"
   },
   {
    "duration": 280,
    "start_time": "2021-12-04T10:34:25.628Z"
   },
   {
    "duration": 97,
    "start_time": "2021-12-04T10:34:25.911Z"
   },
   {
    "duration": 80,
    "start_time": "2021-12-04T10:34:26.011Z"
   },
   {
    "duration": 8,
    "start_time": "2021-12-04T10:34:26.094Z"
   },
   {
    "duration": 92,
    "start_time": "2021-12-04T10:34:26.104Z"
   },
   {
    "duration": 12,
    "start_time": "2021-12-04T10:34:26.199Z"
   },
   {
    "duration": 60,
    "start_time": "2021-12-04T10:34:26.213Z"
   },
   {
    "duration": 10,
    "start_time": "2021-12-04T10:34:26.276Z"
   },
   {
    "duration": 36,
    "start_time": "2021-12-04T10:34:26.288Z"
   },
   {
    "duration": 13,
    "start_time": "2021-12-04T10:34:26.326Z"
   },
   {
    "duration": 13,
    "start_time": "2021-12-04T10:34:26.359Z"
   },
   {
    "duration": 20,
    "start_time": "2021-12-04T10:34:26.374Z"
   },
   {
    "duration": 15,
    "start_time": "2021-12-04T10:34:26.396Z"
   },
   {
    "duration": 6,
    "start_time": "2021-12-04T10:34:26.414Z"
   },
   {
    "duration": 46,
    "start_time": "2021-12-04T10:34:26.422Z"
   },
   {
    "duration": 13,
    "start_time": "2021-12-04T10:34:26.471Z"
   },
   {
    "duration": 6,
    "start_time": "2021-12-04T10:34:26.486Z"
   },
   {
    "duration": 30,
    "start_time": "2021-12-04T10:34:26.494Z"
   },
   {
    "duration": 39,
    "start_time": "2021-12-04T10:34:26.526Z"
   },
   {
    "duration": 552,
    "start_time": "2021-12-04T10:34:26.568Z"
   },
   {
    "duration": 20,
    "start_time": "2021-12-04T10:34:27.122Z"
   },
   {
    "duration": 26,
    "start_time": "2021-12-04T10:34:27.144Z"
   },
   {
    "duration": 382,
    "start_time": "2021-12-04T10:34:27.172Z"
   },
   {
    "duration": 19,
    "start_time": "2021-12-04T10:34:27.560Z"
   },
   {
    "duration": 12,
    "start_time": "2021-12-04T10:34:27.582Z"
   },
   {
    "duration": 62,
    "start_time": "2021-12-04T10:34:27.597Z"
   },
   {
    "duration": 16,
    "start_time": "2021-12-04T10:34:27.662Z"
   },
   {
    "duration": 708,
    "start_time": "2021-12-04T10:34:27.681Z"
   },
   {
    "duration": 675,
    "start_time": "2021-12-04T10:34:28.392Z"
   },
   {
    "duration": 762,
    "start_time": "2021-12-04T10:34:29.070Z"
   },
   {
    "duration": 12,
    "start_time": "2021-12-04T10:34:29.834Z"
   },
   {
    "duration": 9,
    "start_time": "2021-12-04T10:34:29.860Z"
   },
   {
    "duration": 9,
    "start_time": "2021-12-04T10:34:29.871Z"
   },
   {
    "duration": 18,
    "start_time": "2021-12-04T10:34:29.883Z"
   },
   {
    "duration": 11,
    "start_time": "2021-12-04T10:34:29.904Z"
   },
   {
    "duration": 42,
    "start_time": "2021-12-04T10:34:29.917Z"
   },
   {
    "duration": 8,
    "start_time": "2021-12-04T10:34:29.961Z"
   },
   {
    "duration": 11,
    "start_time": "2021-12-04T10:34:29.971Z"
   },
   {
    "duration": 8,
    "start_time": "2021-12-04T10:34:29.984Z"
   },
   {
    "duration": 5,
    "start_time": "2021-12-04T10:38:36.598Z"
   },
   {
    "duration": 6,
    "start_time": "2021-12-04T10:38:42.832Z"
   },
   {
    "duration": 10,
    "start_time": "2021-12-04T10:39:11.299Z"
   },
   {
    "duration": 11,
    "start_time": "2021-12-04T10:40:19.531Z"
   },
   {
    "duration": 282,
    "start_time": "2022-02-22T19:01:34.434Z"
   },
   {
    "duration": 1297,
    "start_time": "2022-02-22T19:01:38.779Z"
   },
   {
    "duration": 451,
    "start_time": "2022-02-22T19:01:40.078Z"
   },
   {
    "duration": 15,
    "start_time": "2022-02-22T19:01:40.531Z"
   },
   {
    "duration": 13,
    "start_time": "2022-02-22T19:01:40.549Z"
   },
   {
    "duration": 21,
    "start_time": "2022-02-22T19:01:40.564Z"
   },
   {
    "duration": 39,
    "start_time": "2022-02-22T19:01:40.587Z"
   },
   {
    "duration": 10,
    "start_time": "2022-02-22T19:01:40.628Z"
   },
   {
    "duration": 13,
    "start_time": "2022-02-22T19:01:40.640Z"
   },
   {
    "duration": 12,
    "start_time": "2022-02-22T19:01:40.656Z"
   },
   {
    "duration": 21,
    "start_time": "2022-02-22T19:01:40.671Z"
   },
   {
    "duration": 25,
    "start_time": "2022-02-22T19:01:40.719Z"
   },
   {
    "duration": 19,
    "start_time": "2022-02-22T19:01:40.747Z"
   },
   {
    "duration": 8,
    "start_time": "2022-02-22T19:01:40.768Z"
   },
   {
    "duration": 41,
    "start_time": "2022-02-22T19:01:40.778Z"
   },
   {
    "duration": 17,
    "start_time": "2022-02-22T19:01:40.822Z"
   },
   {
    "duration": 25,
    "start_time": "2022-02-22T19:01:40.841Z"
   },
   {
    "duration": 11,
    "start_time": "2022-02-22T19:01:40.869Z"
   },
   {
    "duration": 45,
    "start_time": "2022-02-22T19:01:40.882Z"
   },
   {
    "duration": 16,
    "start_time": "2022-02-22T19:01:40.930Z"
   },
   {
    "duration": 18,
    "start_time": "2022-02-22T19:01:40.948Z"
   },
   {
    "duration": 15,
    "start_time": "2022-02-22T19:01:40.969Z"
   },
   {
    "duration": 39,
    "start_time": "2022-02-22T19:01:40.986Z"
   },
   {
    "duration": 4,
    "start_time": "2022-02-22T19:01:41.031Z"
   },
   {
    "duration": 13,
    "start_time": "2022-02-22T19:01:41.038Z"
   },
   {
    "duration": 65,
    "start_time": "2022-02-22T19:01:41.054Z"
   },
   {
    "duration": 19,
    "start_time": "2022-02-22T19:01:41.121Z"
   },
   {
    "duration": 23,
    "start_time": "2022-02-22T19:01:41.143Z"
   },
   {
    "duration": 4,
    "start_time": "2022-02-22T19:01:41.168Z"
   },
   {
    "duration": 234,
    "start_time": "2022-02-22T19:01:41.174Z"
   },
   {
    "duration": 72,
    "start_time": "2022-02-22T19:01:41.410Z"
   },
   {
    "duration": 68,
    "start_time": "2022-02-22T19:01:41.484Z"
   },
   {
    "duration": 8,
    "start_time": "2022-02-22T19:01:41.554Z"
   },
   {
    "duration": 76,
    "start_time": "2022-02-22T19:01:41.564Z"
   },
   {
    "duration": 10,
    "start_time": "2022-02-22T19:01:41.641Z"
   },
   {
    "duration": 421,
    "start_time": "2022-02-22T19:01:41.653Z"
   },
   {
    "duration": 9,
    "start_time": "2022-02-22T19:01:42.076Z"
   },
   {
    "duration": 26,
    "start_time": "2022-02-22T19:01:42.087Z"
   },
   {
    "duration": 6,
    "start_time": "2022-02-22T19:01:42.115Z"
   },
   {
    "duration": 9,
    "start_time": "2022-02-22T19:01:42.123Z"
   },
   {
    "duration": 15,
    "start_time": "2022-02-22T19:01:42.134Z"
   },
   {
    "duration": 13,
    "start_time": "2022-02-22T19:01:42.150Z"
   },
   {
    "duration": 18,
    "start_time": "2022-02-22T19:01:42.165Z"
   },
   {
    "duration": 33,
    "start_time": "2022-02-22T19:01:42.186Z"
   },
   {
    "duration": 5,
    "start_time": "2022-02-22T19:01:42.221Z"
   },
   {
    "duration": 9,
    "start_time": "2022-02-22T19:01:42.229Z"
   },
   {
    "duration": 11,
    "start_time": "2022-02-22T19:01:42.239Z"
   },
   {
    "duration": 4,
    "start_time": "2022-02-22T19:01:42.252Z"
   },
   {
    "duration": 17,
    "start_time": "2022-02-22T19:01:42.258Z"
   },
   {
    "duration": 44,
    "start_time": "2022-02-22T19:01:42.277Z"
   },
   {
    "duration": 394,
    "start_time": "2022-02-22T19:01:42.324Z"
   },
   {
    "duration": 10,
    "start_time": "2022-02-22T19:01:42.721Z"
   },
   {
    "duration": 18,
    "start_time": "2022-02-22T19:01:42.733Z"
   },
   {
    "duration": 12,
    "start_time": "2022-02-22T19:01:42.753Z"
   },
   {
    "duration": 328,
    "start_time": "2022-02-22T19:01:42.767Z"
   },
   {
    "duration": 28,
    "start_time": "2022-02-22T19:01:43.097Z"
   },
   {
    "duration": 9,
    "start_time": "2022-02-22T19:01:43.127Z"
   },
   {
    "duration": 36,
    "start_time": "2022-02-22T19:01:43.138Z"
   },
   {
    "duration": 14,
    "start_time": "2022-02-22T19:01:43.177Z"
   },
   {
    "duration": 32,
    "start_time": "2022-02-22T19:01:43.193Z"
   },
   {
    "duration": 604,
    "start_time": "2022-02-22T19:01:43.227Z"
   },
   {
    "duration": 534,
    "start_time": "2022-02-22T19:01:43.834Z"
   },
   {
    "duration": 617,
    "start_time": "2022-02-22T19:01:44.370Z"
   },
   {
    "duration": 20,
    "start_time": "2022-02-22T19:01:44.989Z"
   },
   {
    "duration": 10,
    "start_time": "2022-02-22T19:01:45.011Z"
   },
   {
    "duration": 22,
    "start_time": "2022-02-22T19:01:45.023Z"
   },
   {
    "duration": 40,
    "start_time": "2022-02-22T19:01:45.047Z"
   },
   {
    "duration": 38,
    "start_time": "2022-02-22T19:01:45.089Z"
   },
   {
    "duration": 16,
    "start_time": "2022-02-22T19:01:45.132Z"
   },
   {
    "duration": 12,
    "start_time": "2022-02-22T19:01:45.151Z"
   },
   {
    "duration": 19,
    "start_time": "2022-02-22T19:01:45.165Z"
   },
   {
    "duration": 27,
    "start_time": "2022-02-22T19:01:45.186Z"
   },
   {
    "duration": 11,
    "start_time": "2022-02-22T19:01:49.525Z"
   },
   {
    "duration": 7,
    "start_time": "2022-02-22T19:01:56.014Z"
   }
  ],
  "kernelspec": {
   "display_name": "Python 3 (ipykernel)",
   "language": "python",
   "name": "python3"
  },
  "language_info": {
   "codemirror_mode": {
    "name": "ipython",
    "version": 3
   },
   "file_extension": ".py",
   "mimetype": "text/x-python",
   "name": "python",
   "nbconvert_exporter": "python",
   "pygments_lexer": "ipython3",
   "version": "3.9.7"
  },
  "toc": {
   "base_numbering": 1,
   "nav_menu": {},
   "number_sections": true,
   "sideBar": true,
   "skip_h1_title": true,
   "title_cell": "Содержание",
   "title_sidebar": "Contents",
   "toc_cell": true,
   "toc_position": {
    "height": "calc(100% - 180px)",
    "left": "10px",
    "top": "150px",
    "width": "179.759px"
   },
   "toc_section_display": true,
   "toc_window_display": true
  },
  "varInspector": {
   "cols": {
    "lenName": 16,
    "lenType": 16,
    "lenVar": 40
   },
   "kernels_config": {
    "python": {
     "delete_cmd_postfix": "",
     "delete_cmd_prefix": "del ",
     "library": "var_list.py",
     "varRefreshCmd": "print(var_dic_list())"
    },
    "r": {
     "delete_cmd_postfix": ") ",
     "delete_cmd_prefix": "rm(",
     "library": "var_list.r",
     "varRefreshCmd": "cat(var_dic_list()) "
    }
   },
   "types_to_exclude": [
    "module",
    "function",
    "builtin_function_or_method",
    "instance",
    "_Feature"
   ],
   "window_display": false
  }
 },
 "nbformat": 4,
 "nbformat_minor": 2
}
