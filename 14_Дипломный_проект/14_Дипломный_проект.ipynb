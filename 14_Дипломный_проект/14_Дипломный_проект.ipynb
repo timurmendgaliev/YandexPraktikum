{
 "cells": [
  {
   "cell_type": "markdown",
   "metadata": {
    "id": "qeb7-udEXvGM"
   },
   "source": [
    "# Дипломный проект"
   ]
  },
  {
   "cell_type": "markdown",
   "metadata": {
    "id": "hJyNP4lGX2vh"
   },
   "source": [
    "**Описание задачи**\n",
    "\n",
    "Для оптимизации производственных расходов металлургический комбинат ООО «Так закаляем сталь» решил уменьшить потребление электроэнергии на этапе обработки стали. Необходимо построить модель, которая предскажет температуру стали.\n"
   ]
  },
  {
   "cell_type": "markdown",
   "metadata": {
    "id": "Ye8VKmHnYIka"
   },
   "source": [
    "**Описание этапа обработки**\n",
    "\n",
    "Сталь обрабатывают в металлическом ковше вместимостью около 100 тонн. Чтобы ковш выдерживал высокие температуры, изнутри его облицовывают огнеупорным кирпичом. Расплавленную сталь заливают в ковш и подогревают до нужной температуры графитовыми электродами. Они установлены в крышке ковша. \n",
    "\n",
    "Из сплава выводится сера (десульфурация), добавлением примесей корректируется химический состав и отбираются пробы. Сталь легируют — изменяют её состав — подавая куски сплава из бункера для сыпучих материалов или проволоку через специальный трайб-аппарат (англ. tribe, «масса»).\n",
    "\n",
    "Перед тем как первый раз ввести легирующие добавки, измеряют температуру стали и производят её химический анализ. Потом температуру на несколько минут повышают, добавляют легирующие материалы и продувают сплав инертным газом. Затем его перемешивают и снова проводят измерения. Такой цикл повторяется до достижения целевого химического состава и оптимальной температуры плавки.\n",
    "\n",
    "Тогда расплавленная сталь отправляется на доводку металла или поступает в машину непрерывной разливки. Оттуда готовый продукт выходит в виде заготовок-слябов (англ. *slab*, «плита»)."
   ]
  },
  {
   "cell_type": "code",
   "execution_count": 3,
   "metadata": {
    "id": "Q4le_N4JwR0I"
   },
   "outputs": [],
   "source": [
    "import pandas as pd\n",
    "import matplotlib.pyplot as plt\n",
    "import seaborn as sns\n",
    "import numpy as np\n",
    "import scipy.stats as st\n",
    "import warnings\n",
    "from sklearn.metrics import mean_absolute_error\n",
    "from sklearn.linear_model import LinearRegression\n",
    "from sklearn.model_selection import train_test_split, cross_val_score, GridSearchCV\n",
    "from sklearn.dummy import DummyRegressor\n",
    "from sklearn.tree import DecisionTreeRegressor\n",
    "from sklearn.ensemble import RandomForestRegressor\n",
    "from catboost import CatBoostRegressor\n",
    "from lightgbm import LGBMRegressor\n",
    "%matplotlib inline\n",
    "warnings.filterwarnings('ignore')\n",
    "plt.rcParams['figure.figsize'] = 10.0, 6.0\n",
    "sns.set(color_codes=True)\n",
    "RS = 111"
   ]
  },
  {
   "cell_type": "code",
   "execution_count": 4,
   "metadata": {
    "id": "PiytWItByooa"
   },
   "outputs": [],
   "source": [
    "arc = pd.read_csv('/content/data_arc.csv')\n",
    "bulk_time = pd.read_csv('/content/data_bulk_time.csv')\n",
    "bulk = pd.read_csv('/content/data_bulk.csv')\n",
    "gas = pd.read_csv('/content/data_gas.csv')\n",
    "temp = pd.read_csv('/content/data_temp.csv')\n",
    "wire_time = pd.read_csv('/content/data_wire_time.csv')\n",
    "wire = pd.read_csv('/content/data_wire.csv')"
   ]
  },
  {
   "cell_type": "markdown",
   "metadata": {
    "id": "8HSVHeiXYRwN"
   },
   "source": [
    "**Описание данных**\n",
    "\n",
    "* `data_arc.csv` - данные об электродах;\n",
    "* `data_bulk.csv` - данные о подаче сыпучих материалов (объем);\n",
    "* `data_bulk_time.csv` - данные о подаче сыпучих материалов (время);\n",
    "* `data_gas.csv` - данные о продувке сплава газом;\n",
    "* `data_temp.csv` - результаты измерения температуры;\n",
    "* `data_wire.csv` - данные о проволочных материалах (объём);\n",
    "* `data_wire_time.csv` - данные о проволочных материалах (время).\n",
    "\n",
    "Во всех файлах столбец `key` содержит номер партии. В файлах может быть несколько строк с одинаковым значением `key`: они соответствуют разным итерациям обработки."
   ]
  },
  {
   "cell_type": "markdown",
   "metadata": {
    "id": "5A2vci_hnoN_"
   },
   "source": [
    "## Исследовательский анализ"
   ]
  },
  {
   "cell_type": "markdown",
   "metadata": {
    "id": "N4KuNAnEY-4O"
   },
   "source": [
    "Перед проведением EDA создадим две функции:\n",
    "\n",
    "1. `valid_values(data, col)` - функция принимает на вход датафрейм и названия строк. Возвращает минимальные и максимальные допустимые значения по правилу 3-х сигм.\n",
    "2. `filtered_data(data, cols)` - функция принимает на вход датафрейм и названия строк. Возвращает отфильтрованные датасет, где выбросы устраняются по правилу 3-х сигм."
   ]
  },
  {
   "cell_type": "code",
   "execution_count": 5,
   "metadata": {
    "id": "ZqeGJt4AsjrG"
   },
   "outputs": [],
   "source": [
    "def valid_values(data, col):\n",
    "    describe = data[col].describe() #Описательные статистики\n",
    "    \n",
    "    Q1, Q3 = describe['25%'], describe['75%'] #Первый и третий квартиль\n",
    "    \n",
    "    IQR = Q3 - Q1 #Межквартильный размах\n",
    "    \n",
    "    min_allow_value = Q1 - 1.5 * IQR\n",
    "    max_allow_value = Q3 + 1.5 * IQR\n",
    "    \n",
    "    \n",
    "    if min_allow_value < describe['min']:\n",
    "        min_allow_value = describe['min'] \n",
    "    if max_allow_value > describe['max']:\n",
    "        max_allow_value = describe['max']\n",
    "        \n",
    "    return {'max_av': max_allow_value, 'min_av': min_allow_value}"
   ]
  },
  {
   "cell_type": "code",
   "execution_count": 6,
   "metadata": {
    "id": "i_IecQuVs3ya"
   },
   "outputs": [],
   "source": [
    "def filtered_data(data, cols):\n",
    "    filtered_data = data.copy(deep=True)\n",
    "    for col in cols:\n",
    "        filtered_data[col] = filtered_data[col][(filtered_data[col] < valid_values(data, col)['max_av']) &\n",
    "                                        (filtered_data[col] > valid_values(data, col)['min_av'])]\n",
    "    return filtered_data.dropna(subset=cols)"
   ]
  },
  {
   "cell_type": "markdown",
   "metadata": {
    "id": "K95fm7JknrrK"
   },
   "source": [
    "### Данные об электродах"
   ]
  },
  {
   "cell_type": "markdown",
   "metadata": {
    "id": "TTHQfv5mZg3I"
   },
   "source": [
    "Рассмотрим первые пять строк таблицы:"
   ]
  },
  {
   "cell_type": "code",
   "execution_count": 7,
   "metadata": {
    "colab": {
     "base_uri": "https://localhost:8080/",
     "height": 206
    },
    "id": "uVgWc3K3nJZI",
    "outputId": "a022cdde-ad04-46d1-f64d-ac90eee0e1c6"
   },
   "outputs": [
    {
     "data": {
      "text/html": [
       "\n",
       "  <div id=\"df-47ad4492-f45e-4898-afbb-01f7399de12e\">\n",
       "    <div class=\"colab-df-container\">\n",
       "      <div>\n",
       "<style scoped>\n",
       "    .dataframe tbody tr th:only-of-type {\n",
       "        vertical-align: middle;\n",
       "    }\n",
       "\n",
       "    .dataframe tbody tr th {\n",
       "        vertical-align: top;\n",
       "    }\n",
       "\n",
       "    .dataframe thead th {\n",
       "        text-align: right;\n",
       "    }\n",
       "</style>\n",
       "<table border=\"1\" class=\"dataframe\">\n",
       "  <thead>\n",
       "    <tr style=\"text-align: right;\">\n",
       "      <th></th>\n",
       "      <th>key</th>\n",
       "      <th>Начало нагрева дугой</th>\n",
       "      <th>Конец нагрева дугой</th>\n",
       "      <th>Активная мощность</th>\n",
       "      <th>Реактивная мощность</th>\n",
       "    </tr>\n",
       "  </thead>\n",
       "  <tbody>\n",
       "    <tr>\n",
       "      <th>0</th>\n",
       "      <td>1</td>\n",
       "      <td>2019-05-03 11:02:14</td>\n",
       "      <td>2019-05-03 11:06:02</td>\n",
       "      <td>0.976059</td>\n",
       "      <td>0.687084</td>\n",
       "    </tr>\n",
       "    <tr>\n",
       "      <th>1</th>\n",
       "      <td>1</td>\n",
       "      <td>2019-05-03 11:07:28</td>\n",
       "      <td>2019-05-03 11:10:33</td>\n",
       "      <td>0.805607</td>\n",
       "      <td>0.520285</td>\n",
       "    </tr>\n",
       "    <tr>\n",
       "      <th>2</th>\n",
       "      <td>1</td>\n",
       "      <td>2019-05-03 11:11:44</td>\n",
       "      <td>2019-05-03 11:14:36</td>\n",
       "      <td>0.744363</td>\n",
       "      <td>0.498805</td>\n",
       "    </tr>\n",
       "    <tr>\n",
       "      <th>3</th>\n",
       "      <td>1</td>\n",
       "      <td>2019-05-03 11:18:14</td>\n",
       "      <td>2019-05-03 11:24:19</td>\n",
       "      <td>1.659363</td>\n",
       "      <td>1.062669</td>\n",
       "    </tr>\n",
       "    <tr>\n",
       "      <th>4</th>\n",
       "      <td>1</td>\n",
       "      <td>2019-05-03 11:26:09</td>\n",
       "      <td>2019-05-03 11:28:37</td>\n",
       "      <td>0.692755</td>\n",
       "      <td>0.414397</td>\n",
       "    </tr>\n",
       "  </tbody>\n",
       "</table>\n",
       "</div>\n",
       "      <button class=\"colab-df-convert\" onclick=\"convertToInteractive('df-47ad4492-f45e-4898-afbb-01f7399de12e')\"\n",
       "              title=\"Convert this dataframe to an interactive table.\"\n",
       "              style=\"display:none;\">\n",
       "        \n",
       "  <svg xmlns=\"http://www.w3.org/2000/svg\" height=\"24px\"viewBox=\"0 0 24 24\"\n",
       "       width=\"24px\">\n",
       "    <path d=\"M0 0h24v24H0V0z\" fill=\"none\"/>\n",
       "    <path d=\"M18.56 5.44l.94 2.06.94-2.06 2.06-.94-2.06-.94-.94-2.06-.94 2.06-2.06.94zm-11 1L8.5 8.5l.94-2.06 2.06-.94-2.06-.94L8.5 2.5l-.94 2.06-2.06.94zm10 10l.94 2.06.94-2.06 2.06-.94-2.06-.94-.94-2.06-.94 2.06-2.06.94z\"/><path d=\"M17.41 7.96l-1.37-1.37c-.4-.4-.92-.59-1.43-.59-.52 0-1.04.2-1.43.59L10.3 9.45l-7.72 7.72c-.78.78-.78 2.05 0 2.83L4 21.41c.39.39.9.59 1.41.59.51 0 1.02-.2 1.41-.59l7.78-7.78 2.81-2.81c.8-.78.8-2.07 0-2.86zM5.41 20L4 18.59l7.72-7.72 1.47 1.35L5.41 20z\"/>\n",
       "  </svg>\n",
       "      </button>\n",
       "      \n",
       "  <style>\n",
       "    .colab-df-container {\n",
       "      display:flex;\n",
       "      flex-wrap:wrap;\n",
       "      gap: 12px;\n",
       "    }\n",
       "\n",
       "    .colab-df-convert {\n",
       "      background-color: #E8F0FE;\n",
       "      border: none;\n",
       "      border-radius: 50%;\n",
       "      cursor: pointer;\n",
       "      display: none;\n",
       "      fill: #1967D2;\n",
       "      height: 32px;\n",
       "      padding: 0 0 0 0;\n",
       "      width: 32px;\n",
       "    }\n",
       "\n",
       "    .colab-df-convert:hover {\n",
       "      background-color: #E2EBFA;\n",
       "      box-shadow: 0px 1px 2px rgba(60, 64, 67, 0.3), 0px 1px 3px 1px rgba(60, 64, 67, 0.15);\n",
       "      fill: #174EA6;\n",
       "    }\n",
       "\n",
       "    [theme=dark] .colab-df-convert {\n",
       "      background-color: #3B4455;\n",
       "      fill: #D2E3FC;\n",
       "    }\n",
       "\n",
       "    [theme=dark] .colab-df-convert:hover {\n",
       "      background-color: #434B5C;\n",
       "      box-shadow: 0px 1px 3px 1px rgba(0, 0, 0, 0.15);\n",
       "      filter: drop-shadow(0px 1px 2px rgba(0, 0, 0, 0.3));\n",
       "      fill: #FFFFFF;\n",
       "    }\n",
       "  </style>\n",
       "\n",
       "      <script>\n",
       "        const buttonEl =\n",
       "          document.querySelector('#df-47ad4492-f45e-4898-afbb-01f7399de12e button.colab-df-convert');\n",
       "        buttonEl.style.display =\n",
       "          google.colab.kernel.accessAllowed ? 'block' : 'none';\n",
       "\n",
       "        async function convertToInteractive(key) {\n",
       "          const element = document.querySelector('#df-47ad4492-f45e-4898-afbb-01f7399de12e');\n",
       "          const dataTable =\n",
       "            await google.colab.kernel.invokeFunction('convertToInteractive',\n",
       "                                                     [key], {});\n",
       "          if (!dataTable) return;\n",
       "\n",
       "          const docLinkHtml = 'Like what you see? Visit the ' +\n",
       "            '<a target=\"_blank\" href=https://colab.research.google.com/notebooks/data_table.ipynb>data table notebook</a>'\n",
       "            + ' to learn more about interactive tables.';\n",
       "          element.innerHTML = '';\n",
       "          dataTable['output_type'] = 'display_data';\n",
       "          await google.colab.output.renderOutput(dataTable, element);\n",
       "          const docLink = document.createElement('div');\n",
       "          docLink.innerHTML = docLinkHtml;\n",
       "          element.appendChild(docLink);\n",
       "        }\n",
       "      </script>\n",
       "    </div>\n",
       "  </div>\n",
       "  "
      ],
      "text/plain": [
       "   key Начало нагрева дугой  Конец нагрева дугой  Активная мощность  \\\n",
       "0    1  2019-05-03 11:02:14  2019-05-03 11:06:02           0.976059   \n",
       "1    1  2019-05-03 11:07:28  2019-05-03 11:10:33           0.805607   \n",
       "2    1  2019-05-03 11:11:44  2019-05-03 11:14:36           0.744363   \n",
       "3    1  2019-05-03 11:18:14  2019-05-03 11:24:19           1.659363   \n",
       "4    1  2019-05-03 11:26:09  2019-05-03 11:28:37           0.692755   \n",
       "\n",
       "   Реактивная мощность  \n",
       "0             0.687084  \n",
       "1             0.520285  \n",
       "2             0.498805  \n",
       "3             1.062669  \n",
       "4             0.414397  "
      ]
     },
     "execution_count": 7,
     "metadata": {},
     "output_type": "execute_result"
    }
   ],
   "source": [
    "arc.head()"
   ]
  },
  {
   "cell_type": "markdown",
   "metadata": {
    "id": "0oJAZKQRZm9p"
   },
   "source": [
    "Выведем основую информацию о таблице:"
   ]
  },
  {
   "cell_type": "code",
   "execution_count": 8,
   "metadata": {
    "colab": {
     "base_uri": "https://localhost:8080/"
    },
    "id": "rgUKkYiHytig",
    "outputId": "27a5a530-af62-4213-dc9b-fa0480b8deba"
   },
   "outputs": [
    {
     "name": "stdout",
     "output_type": "stream",
     "text": [
      "<class 'pandas.core.frame.DataFrame'>\n",
      "RangeIndex: 14876 entries, 0 to 14875\n",
      "Data columns (total 5 columns):\n",
      " #   Column                Non-Null Count  Dtype  \n",
      "---  ------                --------------  -----  \n",
      " 0   key                   14876 non-null  int64  \n",
      " 1   Начало нагрева дугой  14876 non-null  object \n",
      " 2   Конец нагрева дугой   14876 non-null  object \n",
      " 3   Активная мощность     14876 non-null  float64\n",
      " 4   Реактивная мощность   14876 non-null  float64\n",
      "dtypes: float64(2), int64(1), object(2)\n",
      "memory usage: 581.2+ KB\n"
     ]
    }
   ],
   "source": [
    "arc.info()"
   ]
  },
  {
   "cell_type": "markdown",
   "metadata": {
    "id": "Hvr907QqZpnO"
   },
   "source": [
    "Проверим данные на пропуски:"
   ]
  },
  {
   "cell_type": "code",
   "execution_count": 9,
   "metadata": {
    "colab": {
     "base_uri": "https://localhost:8080/"
    },
    "id": "zArD-24D39W7",
    "outputId": "4b84128f-b07c-42e2-f81e-8115141fbf0d"
   },
   "outputs": [
    {
     "data": {
      "text/plain": [
       "key                     0\n",
       "Начало нагрева дугой    0\n",
       "Конец нагрева дугой     0\n",
       "Активная мощность       0\n",
       "Реактивная мощность     0\n",
       "dtype: int64"
      ]
     },
     "execution_count": 9,
     "metadata": {},
     "output_type": "execute_result"
    }
   ],
   "source": [
    "arc.isna().sum()"
   ]
  },
  {
   "cell_type": "markdown",
   "metadata": {
    "id": "iuwCPw81ZsXk"
   },
   "source": [
    "Заметим, что данные, описывающие начало и конец нагрева представлены с типом данных `object`. Приведем данные столбцы к типу `datetime`:"
   ]
  },
  {
   "cell_type": "code",
   "execution_count": 11,
   "metadata": {
    "id": "l1BUqAOWo-CZ"
   },
   "outputs": [],
   "source": [
    "arc['Начало нагрева дугой'] = pd.to_datetime(arc['Начало нагрева дугой'], format='%Y-%m-%dT%H:%M:%S')\n",
    "arc['Конец нагрева дугой'] = pd.to_datetime(arc['Конец нагрева дугой'], format='%Y-%m-%dT%H:%M:%S')"
   ]
  },
  {
   "cell_type": "markdown",
   "metadata": {
    "id": "Ec7v-HQoZ6ol"
   },
   "source": [
    "Рассмотрим описательные статистики:"
   ]
  },
  {
   "cell_type": "code",
   "execution_count": 12,
   "metadata": {
    "colab": {
     "base_uri": "https://localhost:8080/",
     "height": 143
    },
    "id": "189X0v9m673N",
    "outputId": "7ef09a57-f95a-40d6-d416-958b246cf224"
   },
   "outputs": [
    {
     "data": {
      "text/html": [
       "\n",
       "  <div id=\"df-81942ad6-8015-434e-bf6a-4cb3390b2ec7\">\n",
       "    <div class=\"colab-df-container\">\n",
       "      <div>\n",
       "<style scoped>\n",
       "    .dataframe tbody tr th:only-of-type {\n",
       "        vertical-align: middle;\n",
       "    }\n",
       "\n",
       "    .dataframe tbody tr th {\n",
       "        vertical-align: top;\n",
       "    }\n",
       "\n",
       "    .dataframe thead th {\n",
       "        text-align: right;\n",
       "    }\n",
       "</style>\n",
       "<table border=\"1\" class=\"dataframe\">\n",
       "  <thead>\n",
       "    <tr style=\"text-align: right;\">\n",
       "      <th></th>\n",
       "      <th>count</th>\n",
       "      <th>mean</th>\n",
       "      <th>std</th>\n",
       "      <th>min</th>\n",
       "      <th>25%</th>\n",
       "      <th>50%</th>\n",
       "      <th>75%</th>\n",
       "      <th>max</th>\n",
       "    </tr>\n",
       "  </thead>\n",
       "  <tbody>\n",
       "    <tr>\n",
       "      <th>key</th>\n",
       "      <td>14876.0</td>\n",
       "      <td>1615.220422</td>\n",
       "      <td>934.571502</td>\n",
       "      <td>1.000000</td>\n",
       "      <td>806.000000</td>\n",
       "      <td>1617.000000</td>\n",
       "      <td>2429.000000</td>\n",
       "      <td>3241.000000</td>\n",
       "    </tr>\n",
       "    <tr>\n",
       "      <th>Активная мощность</th>\n",
       "      <td>14876.0</td>\n",
       "      <td>0.670441</td>\n",
       "      <td>0.408159</td>\n",
       "      <td>0.030002</td>\n",
       "      <td>0.395297</td>\n",
       "      <td>0.555517</td>\n",
       "      <td>0.857034</td>\n",
       "      <td>3.731596</td>\n",
       "    </tr>\n",
       "    <tr>\n",
       "      <th>Реактивная мощность</th>\n",
       "      <td>14876.0</td>\n",
       "      <td>0.452592</td>\n",
       "      <td>5.878702</td>\n",
       "      <td>-715.504924</td>\n",
       "      <td>0.290991</td>\n",
       "      <td>0.415962</td>\n",
       "      <td>0.637371</td>\n",
       "      <td>2.676388</td>\n",
       "    </tr>\n",
       "  </tbody>\n",
       "</table>\n",
       "</div>\n",
       "      <button class=\"colab-df-convert\" onclick=\"convertToInteractive('df-81942ad6-8015-434e-bf6a-4cb3390b2ec7')\"\n",
       "              title=\"Convert this dataframe to an interactive table.\"\n",
       "              style=\"display:none;\">\n",
       "        \n",
       "  <svg xmlns=\"http://www.w3.org/2000/svg\" height=\"24px\"viewBox=\"0 0 24 24\"\n",
       "       width=\"24px\">\n",
       "    <path d=\"M0 0h24v24H0V0z\" fill=\"none\"/>\n",
       "    <path d=\"M18.56 5.44l.94 2.06.94-2.06 2.06-.94-2.06-.94-.94-2.06-.94 2.06-2.06.94zm-11 1L8.5 8.5l.94-2.06 2.06-.94-2.06-.94L8.5 2.5l-.94 2.06-2.06.94zm10 10l.94 2.06.94-2.06 2.06-.94-2.06-.94-.94-2.06-.94 2.06-2.06.94z\"/><path d=\"M17.41 7.96l-1.37-1.37c-.4-.4-.92-.59-1.43-.59-.52 0-1.04.2-1.43.59L10.3 9.45l-7.72 7.72c-.78.78-.78 2.05 0 2.83L4 21.41c.39.39.9.59 1.41.59.51 0 1.02-.2 1.41-.59l7.78-7.78 2.81-2.81c.8-.78.8-2.07 0-2.86zM5.41 20L4 18.59l7.72-7.72 1.47 1.35L5.41 20z\"/>\n",
       "  </svg>\n",
       "      </button>\n",
       "      \n",
       "  <style>\n",
       "    .colab-df-container {\n",
       "      display:flex;\n",
       "      flex-wrap:wrap;\n",
       "      gap: 12px;\n",
       "    }\n",
       "\n",
       "    .colab-df-convert {\n",
       "      background-color: #E8F0FE;\n",
       "      border: none;\n",
       "      border-radius: 50%;\n",
       "      cursor: pointer;\n",
       "      display: none;\n",
       "      fill: #1967D2;\n",
       "      height: 32px;\n",
       "      padding: 0 0 0 0;\n",
       "      width: 32px;\n",
       "    }\n",
       "\n",
       "    .colab-df-convert:hover {\n",
       "      background-color: #E2EBFA;\n",
       "      box-shadow: 0px 1px 2px rgba(60, 64, 67, 0.3), 0px 1px 3px 1px rgba(60, 64, 67, 0.15);\n",
       "      fill: #174EA6;\n",
       "    }\n",
       "\n",
       "    [theme=dark] .colab-df-convert {\n",
       "      background-color: #3B4455;\n",
       "      fill: #D2E3FC;\n",
       "    }\n",
       "\n",
       "    [theme=dark] .colab-df-convert:hover {\n",
       "      background-color: #434B5C;\n",
       "      box-shadow: 0px 1px 3px 1px rgba(0, 0, 0, 0.15);\n",
       "      filter: drop-shadow(0px 1px 2px rgba(0, 0, 0, 0.3));\n",
       "      fill: #FFFFFF;\n",
       "    }\n",
       "  </style>\n",
       "\n",
       "      <script>\n",
       "        const buttonEl =\n",
       "          document.querySelector('#df-81942ad6-8015-434e-bf6a-4cb3390b2ec7 button.colab-df-convert');\n",
       "        buttonEl.style.display =\n",
       "          google.colab.kernel.accessAllowed ? 'block' : 'none';\n",
       "\n",
       "        async function convertToInteractive(key) {\n",
       "          const element = document.querySelector('#df-81942ad6-8015-434e-bf6a-4cb3390b2ec7');\n",
       "          const dataTable =\n",
       "            await google.colab.kernel.invokeFunction('convertToInteractive',\n",
       "                                                     [key], {});\n",
       "          if (!dataTable) return;\n",
       "\n",
       "          const docLinkHtml = 'Like what you see? Visit the ' +\n",
       "            '<a target=\"_blank\" href=https://colab.research.google.com/notebooks/data_table.ipynb>data table notebook</a>'\n",
       "            + ' to learn more about interactive tables.';\n",
       "          element.innerHTML = '';\n",
       "          dataTable['output_type'] = 'display_data';\n",
       "          await google.colab.output.renderOutput(dataTable, element);\n",
       "          const docLink = document.createElement('div');\n",
       "          docLink.innerHTML = docLinkHtml;\n",
       "          element.appendChild(docLink);\n",
       "        }\n",
       "      </script>\n",
       "    </div>\n",
       "  </div>\n",
       "  "
      ],
      "text/plain": [
       "                       count         mean         std         min         25%  \\\n",
       "key                  14876.0  1615.220422  934.571502    1.000000  806.000000   \n",
       "Активная мощность    14876.0     0.670441    0.408159    0.030002    0.395297   \n",
       "Реактивная мощность  14876.0     0.452592    5.878702 -715.504924    0.290991   \n",
       "\n",
       "                             50%          75%          max  \n",
       "key                  1617.000000  2429.000000  3241.000000  \n",
       "Активная мощность       0.555517     0.857034     3.731596  \n",
       "Реактивная мощность     0.415962     0.637371     2.676388  "
      ]
     },
     "execution_count": 12,
     "metadata": {},
     "output_type": "execute_result"
    }
   ],
   "source": [
    "arc.describe().T"
   ]
  },
  {
   "cell_type": "markdown",
   "metadata": {
    "id": "93cEPURyaTsk"
   },
   "source": [
    "Можем заметить очевидный выброс: минимальное значение реактивной мощности -715.505."
   ]
  },
  {
   "cell_type": "markdown",
   "metadata": {
    "id": "4O3fN9f3afWp"
   },
   "source": [
    "Построим распределение средней мощности:"
   ]
  },
  {
   "cell_type": "code",
   "execution_count": 13,
   "metadata": {
    "id": "xybkeQPjoF8R"
   },
   "outputs": [],
   "source": [
    "arc_power = arc.groupby('key')[['Активная мощность', 'Реактивная мощность']].agg('mean')"
   ]
  },
  {
   "cell_type": "code",
   "execution_count": 14,
   "metadata": {
    "colab": {
     "base_uri": "https://localhost:8080/",
     "height": 445
    },
    "id": "dbxa2SDMp9A_",
    "outputId": "4f9e4048-31b6-4198-ae54-1a12f06e3769"
   },
   "outputs": [
    {
     "data": {
      "text/plain": [
       "array([[<matplotlib.axes._subplots.AxesSubplot object at 0x7fcf5285bc50>,\n",
       "        <matplotlib.axes._subplots.AxesSubplot object at 0x7fcf6790fd90>]],\n",
       "      dtype=object)"
      ]
     },
     "execution_count": 14,
     "metadata": {},
     "output_type": "execute_result"
    },
    {
     "data": {
      "image/png": "[encoded data removed]",
      "text/plain": [
       "<Figure size 720x432 with 2 Axes>"
      ]
     },
     "metadata": {},
     "output_type": "display_data"
    }
   ],
   "source": [
    "arc_power.hist(bins=30)"
   ]
  },
  {
   "cell_type": "markdown",
   "metadata": {
    "id": "sWh_A1VqarTv"
   },
   "source": [
    "Избавимся от выбросов:"
   ]
  },
  {
   "cell_type": "code",
   "execution_count": 15,
   "metadata": {
    "colab": {
     "base_uri": "https://localhost:8080/"
    },
    "id": "uIrt9RYqso_B",
    "outputId": "454f1c59-d2f2-4bf2-e99f-9e4f7b7cc180"
   },
   "outputs": [
    {
     "name": "stdout",
     "output_type": "stream",
     "text": [
      "Допустимые значения для столбца Активная мощность:\n",
      "\n",
      "Максимальное допустимое значения: 1.55\n",
      "Минимальное допустимое значения: 0.03 \n",
      "\n",
      "Допустимые значения для столбца Реактивная мощность:\n",
      "\n",
      "Максимальное допустимое значения: 1.16\n",
      "Минимальное допустимое значения: -0.23 \n",
      "\n"
     ]
    }
   ],
   "source": [
    "for col in ['Активная мощность', 'Реактивная мощность']:\n",
    "    print(f'Допустимые значения для столбца {col}:\\n')\n",
    "    print('Максимальное допустимое значения:', '{:.2f}'.format(valid_values(arc, col).get('max_av')))\n",
    "    print('Минимальное допустимое значения:', '{:.2f}'.format(valid_values(arc, col).get('min_av')), '\\n')"
   ]
  },
  {
   "cell_type": "code",
   "execution_count": 16,
   "metadata": {
    "id": "umkmgC61tf-D"
   },
   "outputs": [],
   "source": [
    "filtered_arc = filtered_data(arc, ['Активная мощность', 'Реактивная мощность'])"
   ]
  },
  {
   "cell_type": "markdown",
   "metadata": {
    "id": "w2IB7rRmawLN"
   },
   "source": [
    "Посмотрим, какой процент данных по итогу был утерян:"
   ]
  },
  {
   "cell_type": "code",
   "execution_count": 17,
   "metadata": {
    "colab": {
     "base_uri": "https://localhost:8080/"
    },
    "id": "ZU97bdLIz5uO",
    "outputId": "9a602452-4d09-41f1-d94d-4a72bae7cd0c"
   },
   "outputs": [
    {
     "data": {
      "text/plain": [
       "0.9524065609034686"
      ]
     },
     "execution_count": 17,
     "metadata": {},
     "output_type": "execute_result"
    }
   ],
   "source": [
    "filtered_arc.shape[0] / arc.shape[0]"
   ]
  },
  {
   "cell_type": "markdown",
   "metadata": {
    "id": "vqGTvmnya46x"
   },
   "source": [
    "Создадим новый датафрейм, содержащий данные о времени нагрева и количестве операций:"
   ]
  },
  {
   "cell_type": "code",
   "execution_count": 18,
   "metadata": {
    "id": "5lcIQRPQ0ME_"
   },
   "outputs": [],
   "source": [
    "filtered_arc['Время нагрева, с'] = (filtered_arc['Конец нагрева дугой'] -\n",
    "                                    filtered_arc['Начало нагрева дугой']).apply(lambda t: t.seconds)"
   ]
  },
  {
   "cell_type": "code",
   "execution_count": 19,
   "metadata": {
    "id": "ANfBZn-E2ghe"
   },
   "outputs": [],
   "source": [
    "arc_length = filtered_arc.groupby('key')['Время нагрева, с'].agg(['sum', 'count'])"
   ]
  },
  {
   "cell_type": "code",
   "execution_count": 20,
   "metadata": {
    "colab": {
     "base_uri": "https://localhost:8080/",
     "height": 455
    },
    "id": "YP0YcYdpbM5U",
    "outputId": "848a6f46-fc86-480c-b701-ce786620cd9d"
   },
   "outputs": [
    {
     "data": {
      "text/html": [
       "\n",
       "  <div id=\"df-8e36a93a-96df-430f-9256-b7baa314c1b0\">\n",
       "    <div class=\"colab-df-container\">\n",
       "      <div>\n",
       "<style scoped>\n",
       "    .dataframe tbody tr th:only-of-type {\n",
       "        vertical-align: middle;\n",
       "    }\n",
       "\n",
       "    .dataframe tbody tr th {\n",
       "        vertical-align: top;\n",
       "    }\n",
       "\n",
       "    .dataframe thead th {\n",
       "        text-align: right;\n",
       "    }\n",
       "</style>\n",
       "<table border=\"1\" class=\"dataframe\">\n",
       "  <thead>\n",
       "    <tr style=\"text-align: right;\">\n",
       "      <th></th>\n",
       "      <th>sum</th>\n",
       "      <th>count</th>\n",
       "    </tr>\n",
       "    <tr>\n",
       "      <th>key</th>\n",
       "      <th></th>\n",
       "      <th></th>\n",
       "    </tr>\n",
       "  </thead>\n",
       "  <tbody>\n",
       "    <tr>\n",
       "      <th>1</th>\n",
       "      <td>733</td>\n",
       "      <td>4</td>\n",
       "    </tr>\n",
       "    <tr>\n",
       "      <th>2</th>\n",
       "      <td>811</td>\n",
       "      <td>4</td>\n",
       "    </tr>\n",
       "    <tr>\n",
       "      <th>3</th>\n",
       "      <td>655</td>\n",
       "      <td>5</td>\n",
       "    </tr>\n",
       "    <tr>\n",
       "      <th>4</th>\n",
       "      <td>741</td>\n",
       "      <td>4</td>\n",
       "    </tr>\n",
       "    <tr>\n",
       "      <th>5</th>\n",
       "      <td>454</td>\n",
       "      <td>3</td>\n",
       "    </tr>\n",
       "    <tr>\n",
       "      <th>...</th>\n",
       "      <td>...</td>\n",
       "      <td>...</td>\n",
       "    </tr>\n",
       "    <tr>\n",
       "      <th>3237</th>\n",
       "      <td>909</td>\n",
       "      <td>5</td>\n",
       "    </tr>\n",
       "    <tr>\n",
       "      <th>3238</th>\n",
       "      <td>546</td>\n",
       "      <td>3</td>\n",
       "    </tr>\n",
       "    <tr>\n",
       "      <th>3239</th>\n",
       "      <td>1216</td>\n",
       "      <td>8</td>\n",
       "    </tr>\n",
       "    <tr>\n",
       "      <th>3240</th>\n",
       "      <td>839</td>\n",
       "      <td>5</td>\n",
       "    </tr>\n",
       "    <tr>\n",
       "      <th>3241</th>\n",
       "      <td>659</td>\n",
       "      <td>5</td>\n",
       "    </tr>\n",
       "  </tbody>\n",
       "</table>\n",
       "<p>3214 rows × 2 columns</p>\n",
       "</div>\n",
       "      <button class=\"colab-df-convert\" onclick=\"convertToInteractive('df-8e36a93a-96df-430f-9256-b7baa314c1b0')\"\n",
       "              title=\"Convert this dataframe to an interactive table.\"\n",
       "              style=\"display:none;\">\n",
       "        \n",
       "  <svg xmlns=\"http://www.w3.org/2000/svg\" height=\"24px\"viewBox=\"0 0 24 24\"\n",
       "       width=\"24px\">\n",
       "    <path d=\"M0 0h24v24H0V0z\" fill=\"none\"/>\n",
       "    <path d=\"M18.56 5.44l.94 2.06.94-2.06 2.06-.94-2.06-.94-.94-2.06-.94 2.06-2.06.94zm-11 1L8.5 8.5l.94-2.06 2.06-.94-2.06-.94L8.5 2.5l-.94 2.06-2.06.94zm10 10l.94 2.06.94-2.06 2.06-.94-2.06-.94-.94-2.06-.94 2.06-2.06.94z\"/><path d=\"M17.41 7.96l-1.37-1.37c-.4-.4-.92-.59-1.43-.59-.52 0-1.04.2-1.43.59L10.3 9.45l-7.72 7.72c-.78.78-.78 2.05 0 2.83L4 21.41c.39.39.9.59 1.41.59.51 0 1.02-.2 1.41-.59l7.78-7.78 2.81-2.81c.8-.78.8-2.07 0-2.86zM5.41 20L4 18.59l7.72-7.72 1.47 1.35L5.41 20z\"/>\n",
       "  </svg>\n",
       "      </button>\n",
       "      \n",
       "  <style>\n",
       "    .colab-df-container {\n",
       "      display:flex;\n",
       "      flex-wrap:wrap;\n",
       "      gap: 12px;\n",
       "    }\n",
       "\n",
       "    .colab-df-convert {\n",
       "      background-color: #E8F0FE;\n",
       "      border: none;\n",
       "      border-radius: 50%;\n",
       "      cursor: pointer;\n",
       "      display: none;\n",
       "      fill: #1967D2;\n",
       "      height: 32px;\n",
       "      padding: 0 0 0 0;\n",
       "      width: 32px;\n",
       "    }\n",
       "\n",
       "    .colab-df-convert:hover {\n",
       "      background-color: #E2EBFA;\n",
       "      box-shadow: 0px 1px 2px rgba(60, 64, 67, 0.3), 0px 1px 3px 1px rgba(60, 64, 67, 0.15);\n",
       "      fill: #174EA6;\n",
       "    }\n",
       "\n",
       "    [theme=dark] .colab-df-convert {\n",
       "      background-color: #3B4455;\n",
       "      fill: #D2E3FC;\n",
       "    }\n",
       "\n",
       "    [theme=dark] .colab-df-convert:hover {\n",
       "      background-color: #434B5C;\n",
       "      box-shadow: 0px 1px 3px 1px rgba(0, 0, 0, 0.15);\n",
       "      filter: drop-shadow(0px 1px 2px rgba(0, 0, 0, 0.3));\n",
       "      fill: #FFFFFF;\n",
       "    }\n",
       "  </style>\n",
       "\n",
       "      <script>\n",
       "        const buttonEl =\n",
       "          document.querySelector('#df-8e36a93a-96df-430f-9256-b7baa314c1b0 button.colab-df-convert');\n",
       "        buttonEl.style.display =\n",
       "          google.colab.kernel.accessAllowed ? 'block' : 'none';\n",
       "\n",
       "        async function convertToInteractive(key) {\n",
       "          const element = document.querySelector('#df-8e36a93a-96df-430f-9256-b7baa314c1b0');\n",
       "          const dataTable =\n",
       "            await google.colab.kernel.invokeFunction('convertToInteractive',\n",
       "                                                     [key], {});\n",
       "          if (!dataTable) return;\n",
       "\n",
       "          const docLinkHtml = 'Like what you see? Visit the ' +\n",
       "            '<a target=\"_blank\" href=https://colab.research.google.com/notebooks/data_table.ipynb>data table notebook</a>'\n",
       "            + ' to learn more about interactive tables.';\n",
       "          element.innerHTML = '';\n",
       "          dataTable['output_type'] = 'display_data';\n",
       "          await google.colab.output.renderOutput(dataTable, element);\n",
       "          const docLink = document.createElement('div');\n",
       "          docLink.innerHTML = docLinkHtml;\n",
       "          element.appendChild(docLink);\n",
       "        }\n",
       "      </script>\n",
       "    </div>\n",
       "  </div>\n",
       "  "
      ],
      "text/plain": [
       "       sum  count\n",
       "key              \n",
       "1      733      4\n",
       "2      811      4\n",
       "3      655      5\n",
       "4      741      4\n",
       "5      454      3\n",
       "...    ...    ...\n",
       "3237   909      5\n",
       "3238   546      3\n",
       "3239  1216      8\n",
       "3240   839      5\n",
       "3241   659      5\n",
       "\n",
       "[3214 rows x 2 columns]"
      ]
     },
     "execution_count": 20,
     "metadata": {},
     "output_type": "execute_result"
    }
   ],
   "source": [
    "arc_length"
   ]
  },
  {
   "cell_type": "code",
   "execution_count": 21,
   "metadata": {
    "id": "N8FAEXI63Mtv"
   },
   "outputs": [],
   "source": [
    "final_arc = arc_power.merge(arc_length, how='inner', on='key')"
   ]
  },
  {
   "cell_type": "code",
   "execution_count": 22,
   "metadata": {
    "id": "eiB032Cj3iiE"
   },
   "outputs": [],
   "source": [
    "final_arc.columns = ['active', 'reactive', 'arc_length', 'total_start']"
   ]
  },
  {
   "cell_type": "code",
   "execution_count": 23,
   "metadata": {
    "colab": {
     "base_uri": "https://localhost:8080/",
     "height": 455
    },
    "id": "mhGuteaIbUVp",
    "outputId": "90372894-8815-4e3f-8f73-0d57309b3997"
   },
   "outputs": [
    {
     "data": {
      "text/html": [
       "\n",
       "  <div id=\"df-f5ee9252-75ab-42c8-9907-60d3c1d82f5f\">\n",
       "    <div class=\"colab-df-container\">\n",
       "      <div>\n",
       "<style scoped>\n",
       "    .dataframe tbody tr th:only-of-type {\n",
       "        vertical-align: middle;\n",
       "    }\n",
       "\n",
       "    .dataframe tbody tr th {\n",
       "        vertical-align: top;\n",
       "    }\n",
       "\n",
       "    .dataframe thead th {\n",
       "        text-align: right;\n",
       "    }\n",
       "</style>\n",
       "<table border=\"1\" class=\"dataframe\">\n",
       "  <thead>\n",
       "    <tr style=\"text-align: right;\">\n",
       "      <th></th>\n",
       "      <th>active</th>\n",
       "      <th>reactive</th>\n",
       "      <th>arc_length</th>\n",
       "      <th>total_start</th>\n",
       "    </tr>\n",
       "    <tr>\n",
       "      <th>key</th>\n",
       "      <th></th>\n",
       "      <th></th>\n",
       "      <th></th>\n",
       "      <th></th>\n",
       "    </tr>\n",
       "  </thead>\n",
       "  <tbody>\n",
       "    <tr>\n",
       "      <th>1</th>\n",
       "      <td>0.975629</td>\n",
       "      <td>0.636648</td>\n",
       "      <td>733</td>\n",
       "      <td>4</td>\n",
       "    </tr>\n",
       "    <tr>\n",
       "      <th>2</th>\n",
       "      <td>0.763150</td>\n",
       "      <td>0.499528</td>\n",
       "      <td>811</td>\n",
       "      <td>4</td>\n",
       "    </tr>\n",
       "    <tr>\n",
       "      <th>3</th>\n",
       "      <td>0.505176</td>\n",
       "      <td>0.319815</td>\n",
       "      <td>655</td>\n",
       "      <td>5</td>\n",
       "    </tr>\n",
       "    <tr>\n",
       "      <th>4</th>\n",
       "      <td>0.802313</td>\n",
       "      <td>0.515074</td>\n",
       "      <td>741</td>\n",
       "      <td>4</td>\n",
       "    </tr>\n",
       "    <tr>\n",
       "      <th>5</th>\n",
       "      <td>0.836793</td>\n",
       "      <td>0.563161</td>\n",
       "      <td>454</td>\n",
       "      <td>3</td>\n",
       "    </tr>\n",
       "    <tr>\n",
       "      <th>...</th>\n",
       "      <td>...</td>\n",
       "      <td>...</td>\n",
       "      <td>...</td>\n",
       "      <td>...</td>\n",
       "    </tr>\n",
       "    <tr>\n",
       "      <th>3237</th>\n",
       "      <td>0.786493</td>\n",
       "      <td>0.565692</td>\n",
       "      <td>909</td>\n",
       "      <td>5</td>\n",
       "    </tr>\n",
       "    <tr>\n",
       "      <th>3238</th>\n",
       "      <td>0.702176</td>\n",
       "      <td>0.560394</td>\n",
       "      <td>546</td>\n",
       "      <td>3</td>\n",
       "    </tr>\n",
       "    <tr>\n",
       "      <th>3239</th>\n",
       "      <td>0.583344</td>\n",
       "      <td>0.388952</td>\n",
       "      <td>1216</td>\n",
       "      <td>8</td>\n",
       "    </tr>\n",
       "    <tr>\n",
       "      <th>3240</th>\n",
       "      <td>0.596817</td>\n",
       "      <td>0.496653</td>\n",
       "      <td>839</td>\n",
       "      <td>5</td>\n",
       "    </tr>\n",
       "    <tr>\n",
       "      <th>3241</th>\n",
       "      <td>0.494289</td>\n",
       "      <td>0.339240</td>\n",
       "      <td>659</td>\n",
       "      <td>5</td>\n",
       "    </tr>\n",
       "  </tbody>\n",
       "</table>\n",
       "<p>3214 rows × 4 columns</p>\n",
       "</div>\n",
       "      <button class=\"colab-df-convert\" onclick=\"convertToInteractive('df-f5ee9252-75ab-42c8-9907-60d3c1d82f5f')\"\n",
       "              title=\"Convert this dataframe to an interactive table.\"\n",
       "              style=\"display:none;\">\n",
       "        \n",
       "  <svg xmlns=\"http://www.w3.org/2000/svg\" height=\"24px\"viewBox=\"0 0 24 24\"\n",
       "       width=\"24px\">\n",
       "    <path d=\"M0 0h24v24H0V0z\" fill=\"none\"/>\n",
       "    <path d=\"M18.56 5.44l.94 2.06.94-2.06 2.06-.94-2.06-.94-.94-2.06-.94 2.06-2.06.94zm-11 1L8.5 8.5l.94-2.06 2.06-.94-2.06-.94L8.5 2.5l-.94 2.06-2.06.94zm10 10l.94 2.06.94-2.06 2.06-.94-2.06-.94-.94-2.06-.94 2.06-2.06.94z\"/><path d=\"M17.41 7.96l-1.37-1.37c-.4-.4-.92-.59-1.43-.59-.52 0-1.04.2-1.43.59L10.3 9.45l-7.72 7.72c-.78.78-.78 2.05 0 2.83L4 21.41c.39.39.9.59 1.41.59.51 0 1.02-.2 1.41-.59l7.78-7.78 2.81-2.81c.8-.78.8-2.07 0-2.86zM5.41 20L4 18.59l7.72-7.72 1.47 1.35L5.41 20z\"/>\n",
       "  </svg>\n",
       "      </button>\n",
       "      \n",
       "  <style>\n",
       "    .colab-df-container {\n",
       "      display:flex;\n",
       "      flex-wrap:wrap;\n",
       "      gap: 12px;\n",
       "    }\n",
       "\n",
       "    .colab-df-convert {\n",
       "      background-color: #E8F0FE;\n",
       "      border: none;\n",
       "      border-radius: 50%;\n",
       "      cursor: pointer;\n",
       "      display: none;\n",
       "      fill: #1967D2;\n",
       "      height: 32px;\n",
       "      padding: 0 0 0 0;\n",
       "      width: 32px;\n",
       "    }\n",
       "\n",
       "    .colab-df-convert:hover {\n",
       "      background-color: #E2EBFA;\n",
       "      box-shadow: 0px 1px 2px rgba(60, 64, 67, 0.3), 0px 1px 3px 1px rgba(60, 64, 67, 0.15);\n",
       "      fill: #174EA6;\n",
       "    }\n",
       "\n",
       "    [theme=dark] .colab-df-convert {\n",
       "      background-color: #3B4455;\n",
       "      fill: #D2E3FC;\n",
       "    }\n",
       "\n",
       "    [theme=dark] .colab-df-convert:hover {\n",
       "      background-color: #434B5C;\n",
       "      box-shadow: 0px 1px 3px 1px rgba(0, 0, 0, 0.15);\n",
       "      filter: drop-shadow(0px 1px 2px rgba(0, 0, 0, 0.3));\n",
       "      fill: #FFFFFF;\n",
       "    }\n",
       "  </style>\n",
       "\n",
       "      <script>\n",
       "        const buttonEl =\n",
       "          document.querySelector('#df-f5ee9252-75ab-42c8-9907-60d3c1d82f5f button.colab-df-convert');\n",
       "        buttonEl.style.display =\n",
       "          google.colab.kernel.accessAllowed ? 'block' : 'none';\n",
       "\n",
       "        async function convertToInteractive(key) {\n",
       "          const element = document.querySelector('#df-f5ee9252-75ab-42c8-9907-60d3c1d82f5f');\n",
       "          const dataTable =\n",
       "            await google.colab.kernel.invokeFunction('convertToInteractive',\n",
       "                                                     [key], {});\n",
       "          if (!dataTable) return;\n",
       "\n",
       "          const docLinkHtml = 'Like what you see? Visit the ' +\n",
       "            '<a target=\"_blank\" href=https://colab.research.google.com/notebooks/data_table.ipynb>data table notebook</a>'\n",
       "            + ' to learn more about interactive tables.';\n",
       "          element.innerHTML = '';\n",
       "          dataTable['output_type'] = 'display_data';\n",
       "          await google.colab.output.renderOutput(dataTable, element);\n",
       "          const docLink = document.createElement('div');\n",
       "          docLink.innerHTML = docLinkHtml;\n",
       "          element.appendChild(docLink);\n",
       "        }\n",
       "      </script>\n",
       "    </div>\n",
       "  </div>\n",
       "  "
      ],
      "text/plain": [
       "        active  reactive  arc_length  total_start\n",
       "key                                              \n",
       "1     0.975629  0.636648         733            4\n",
       "2     0.763150  0.499528         811            4\n",
       "3     0.505176  0.319815         655            5\n",
       "4     0.802313  0.515074         741            4\n",
       "5     0.836793  0.563161         454            3\n",
       "...        ...       ...         ...          ...\n",
       "3237  0.786493  0.565692         909            5\n",
       "3238  0.702176  0.560394         546            3\n",
       "3239  0.583344  0.388952        1216            8\n",
       "3240  0.596817  0.496653         839            5\n",
       "3241  0.494289  0.339240         659            5\n",
       "\n",
       "[3214 rows x 4 columns]"
      ]
     },
     "execution_count": 23,
     "metadata": {},
     "output_type": "execute_result"
    }
   ],
   "source": [
    "final_arc"
   ]
  },
  {
   "cell_type": "markdown",
   "metadata": {
    "id": "TITu60vA4G-o"
   },
   "source": [
    "### Данные о подаче сыпучих материалов"
   ]
  },
  {
   "cell_type": "markdown",
   "metadata": {
    "id": "HVNCSiZfbxkS"
   },
   "source": [
    "Рассмотрим первые пять строк таблиц:"
   ]
  },
  {
   "cell_type": "code",
   "execution_count": 24,
   "metadata": {
    "colab": {
     "base_uri": "https://localhost:8080/",
     "height": 206
    },
    "id": "D1Xe5EmI5YXQ",
    "outputId": "afd6622f-6dd2-48bf-9175-b64dbaff0ba1"
   },
   "outputs": [
    {
     "data": {
      "text/html": [
       "\n",
       "  <div id=\"df-01a3c59d-3c63-491d-ac3c-069d8d45d0df\">\n",
       "    <div class=\"colab-df-container\">\n",
       "      <div>\n",
       "<style scoped>\n",
       "    .dataframe tbody tr th:only-of-type {\n",
       "        vertical-align: middle;\n",
       "    }\n",
       "\n",
       "    .dataframe tbody tr th {\n",
       "        vertical-align: top;\n",
       "    }\n",
       "\n",
       "    .dataframe thead th {\n",
       "        text-align: right;\n",
       "    }\n",
       "</style>\n",
       "<table border=\"1\" class=\"dataframe\">\n",
       "  <thead>\n",
       "    <tr style=\"text-align: right;\">\n",
       "      <th></th>\n",
       "      <th>key</th>\n",
       "      <th>Bulk 1</th>\n",
       "      <th>Bulk 2</th>\n",
       "      <th>Bulk 3</th>\n",
       "      <th>Bulk 4</th>\n",
       "      <th>Bulk 5</th>\n",
       "      <th>Bulk 6</th>\n",
       "      <th>Bulk 7</th>\n",
       "      <th>Bulk 8</th>\n",
       "      <th>Bulk 9</th>\n",
       "      <th>Bulk 10</th>\n",
       "      <th>Bulk 11</th>\n",
       "      <th>Bulk 12</th>\n",
       "      <th>Bulk 13</th>\n",
       "      <th>Bulk 14</th>\n",
       "      <th>Bulk 15</th>\n",
       "    </tr>\n",
       "  </thead>\n",
       "  <tbody>\n",
       "    <tr>\n",
       "      <th>0</th>\n",
       "      <td>1</td>\n",
       "      <td>NaN</td>\n",
       "      <td>NaN</td>\n",
       "      <td>NaN</td>\n",
       "      <td>43.0</td>\n",
       "      <td>NaN</td>\n",
       "      <td>NaN</td>\n",
       "      <td>NaN</td>\n",
       "      <td>NaN</td>\n",
       "      <td>NaN</td>\n",
       "      <td>NaN</td>\n",
       "      <td>NaN</td>\n",
       "      <td>206.0</td>\n",
       "      <td>NaN</td>\n",
       "      <td>150.0</td>\n",
       "      <td>154.0</td>\n",
       "    </tr>\n",
       "    <tr>\n",
       "      <th>1</th>\n",
       "      <td>2</td>\n",
       "      <td>NaN</td>\n",
       "      <td>NaN</td>\n",
       "      <td>NaN</td>\n",
       "      <td>73.0</td>\n",
       "      <td>NaN</td>\n",
       "      <td>NaN</td>\n",
       "      <td>NaN</td>\n",
       "      <td>NaN</td>\n",
       "      <td>NaN</td>\n",
       "      <td>NaN</td>\n",
       "      <td>NaN</td>\n",
       "      <td>206.0</td>\n",
       "      <td>NaN</td>\n",
       "      <td>149.0</td>\n",
       "      <td>154.0</td>\n",
       "    </tr>\n",
       "    <tr>\n",
       "      <th>2</th>\n",
       "      <td>3</td>\n",
       "      <td>NaN</td>\n",
       "      <td>NaN</td>\n",
       "      <td>NaN</td>\n",
       "      <td>34.0</td>\n",
       "      <td>NaN</td>\n",
       "      <td>NaN</td>\n",
       "      <td>NaN</td>\n",
       "      <td>NaN</td>\n",
       "      <td>NaN</td>\n",
       "      <td>NaN</td>\n",
       "      <td>NaN</td>\n",
       "      <td>205.0</td>\n",
       "      <td>NaN</td>\n",
       "      <td>152.0</td>\n",
       "      <td>153.0</td>\n",
       "    </tr>\n",
       "    <tr>\n",
       "      <th>3</th>\n",
       "      <td>4</td>\n",
       "      <td>NaN</td>\n",
       "      <td>NaN</td>\n",
       "      <td>NaN</td>\n",
       "      <td>81.0</td>\n",
       "      <td>NaN</td>\n",
       "      <td>NaN</td>\n",
       "      <td>NaN</td>\n",
       "      <td>NaN</td>\n",
       "      <td>NaN</td>\n",
       "      <td>NaN</td>\n",
       "      <td>NaN</td>\n",
       "      <td>207.0</td>\n",
       "      <td>NaN</td>\n",
       "      <td>153.0</td>\n",
       "      <td>154.0</td>\n",
       "    </tr>\n",
       "    <tr>\n",
       "      <th>4</th>\n",
       "      <td>5</td>\n",
       "      <td>NaN</td>\n",
       "      <td>NaN</td>\n",
       "      <td>NaN</td>\n",
       "      <td>78.0</td>\n",
       "      <td>NaN</td>\n",
       "      <td>NaN</td>\n",
       "      <td>NaN</td>\n",
       "      <td>NaN</td>\n",
       "      <td>NaN</td>\n",
       "      <td>NaN</td>\n",
       "      <td>NaN</td>\n",
       "      <td>203.0</td>\n",
       "      <td>NaN</td>\n",
       "      <td>151.0</td>\n",
       "      <td>152.0</td>\n",
       "    </tr>\n",
       "  </tbody>\n",
       "</table>\n",
       "</div>\n",
       "      <button class=\"colab-df-convert\" onclick=\"convertToInteractive('df-01a3c59d-3c63-491d-ac3c-069d8d45d0df')\"\n",
       "              title=\"Convert this dataframe to an interactive table.\"\n",
       "              style=\"display:none;\">\n",
       "        \n",
       "  <svg xmlns=\"http://www.w3.org/2000/svg\" height=\"24px\"viewBox=\"0 0 24 24\"\n",
       "       width=\"24px\">\n",
       "    <path d=\"M0 0h24v24H0V0z\" fill=\"none\"/>\n",
       "    <path d=\"M18.56 5.44l.94 2.06.94-2.06 2.06-.94-2.06-.94-.94-2.06-.94 2.06-2.06.94zm-11 1L8.5 8.5l.94-2.06 2.06-.94-2.06-.94L8.5 2.5l-.94 2.06-2.06.94zm10 10l.94 2.06.94-2.06 2.06-.94-2.06-.94-.94-2.06-.94 2.06-2.06.94z\"/><path d=\"M17.41 7.96l-1.37-1.37c-.4-.4-.92-.59-1.43-.59-.52 0-1.04.2-1.43.59L10.3 9.45l-7.72 7.72c-.78.78-.78 2.05 0 2.83L4 21.41c.39.39.9.59 1.41.59.51 0 1.02-.2 1.41-.59l7.78-7.78 2.81-2.81c.8-.78.8-2.07 0-2.86zM5.41 20L4 18.59l7.72-7.72 1.47 1.35L5.41 20z\"/>\n",
       "  </svg>\n",
       "      </button>\n",
       "      \n",
       "  <style>\n",
       "    .colab-df-container {\n",
       "      display:flex;\n",
       "      flex-wrap:wrap;\n",
       "      gap: 12px;\n",
       "    }\n",
       "\n",
       "    .colab-df-convert {\n",
       "      background-color: #E8F0FE;\n",
       "      border: none;\n",
       "      border-radius: 50%;\n",
       "      cursor: pointer;\n",
       "      display: none;\n",
       "      fill: #1967D2;\n",
       "      height: 32px;\n",
       "      padding: 0 0 0 0;\n",
       "      width: 32px;\n",
       "    }\n",
       "\n",
       "    .colab-df-convert:hover {\n",
       "      background-color: #E2EBFA;\n",
       "      box-shadow: 0px 1px 2px rgba(60, 64, 67, 0.3), 0px 1px 3px 1px rgba(60, 64, 67, 0.15);\n",
       "      fill: #174EA6;\n",
       "    }\n",
       "\n",
       "    [theme=dark] .colab-df-convert {\n",
       "      background-color: #3B4455;\n",
       "      fill: #D2E3FC;\n",
       "    }\n",
       "\n",
       "    [theme=dark] .colab-df-convert:hover {\n",
       "      background-color: #434B5C;\n",
       "      box-shadow: 0px 1px 3px 1px rgba(0, 0, 0, 0.15);\n",
       "      filter: drop-shadow(0px 1px 2px rgba(0, 0, 0, 0.3));\n",
       "      fill: #FFFFFF;\n",
       "    }\n",
       "  </style>\n",
       "\n",
       "      <script>\n",
       "        const buttonEl =\n",
       "          document.querySelector('#df-01a3c59d-3c63-491d-ac3c-069d8d45d0df button.colab-df-convert');\n",
       "        buttonEl.style.display =\n",
       "          google.colab.kernel.accessAllowed ? 'block' : 'none';\n",
       "\n",
       "        async function convertToInteractive(key) {\n",
       "          const element = document.querySelector('#df-01a3c59d-3c63-491d-ac3c-069d8d45d0df');\n",
       "          const dataTable =\n",
       "            await google.colab.kernel.invokeFunction('convertToInteractive',\n",
       "                                                     [key], {});\n",
       "          if (!dataTable) return;\n",
       "\n",
       "          const docLinkHtml = 'Like what you see? Visit the ' +\n",
       "            '<a target=\"_blank\" href=https://colab.research.google.com/notebooks/data_table.ipynb>data table notebook</a>'\n",
       "            + ' to learn more about interactive tables.';\n",
       "          element.innerHTML = '';\n",
       "          dataTable['output_type'] = 'display_data';\n",
       "          await google.colab.output.renderOutput(dataTable, element);\n",
       "          const docLink = document.createElement('div');\n",
       "          docLink.innerHTML = docLinkHtml;\n",
       "          element.appendChild(docLink);\n",
       "        }\n",
       "      </script>\n",
       "    </div>\n",
       "  </div>\n",
       "  "
      ],
      "text/plain": [
       "   key  Bulk 1  Bulk 2  Bulk 3  Bulk 4  Bulk 5  Bulk 6  Bulk 7  Bulk 8  \\\n",
       "0    1     NaN     NaN     NaN    43.0     NaN     NaN     NaN     NaN   \n",
       "1    2     NaN     NaN     NaN    73.0     NaN     NaN     NaN     NaN   \n",
       "2    3     NaN     NaN     NaN    34.0     NaN     NaN     NaN     NaN   \n",
       "3    4     NaN     NaN     NaN    81.0     NaN     NaN     NaN     NaN   \n",
       "4    5     NaN     NaN     NaN    78.0     NaN     NaN     NaN     NaN   \n",
       "\n",
       "   Bulk 9  Bulk 10  Bulk 11  Bulk 12  Bulk 13  Bulk 14  Bulk 15  \n",
       "0     NaN      NaN      NaN    206.0      NaN    150.0    154.0  \n",
       "1     NaN      NaN      NaN    206.0      NaN    149.0    154.0  \n",
       "2     NaN      NaN      NaN    205.0      NaN    152.0    153.0  \n",
       "3     NaN      NaN      NaN    207.0      NaN    153.0    154.0  \n",
       "4     NaN      NaN      NaN    203.0      NaN    151.0    152.0  "
      ]
     },
     "execution_count": 24,
     "metadata": {},
     "output_type": "execute_result"
    }
   ],
   "source": [
    "bulk.head()"
   ]
  },
  {
   "cell_type": "code",
   "execution_count": 25,
   "metadata": {
    "colab": {
     "base_uri": "https://localhost:8080/",
     "height": 206
    },
    "id": "52aWSlcZyu2o",
    "outputId": "c9467fe5-cfc4-4682-ec5b-d85e90aeccd5"
   },
   "outputs": [
    {
     "data": {
      "text/html": [
       "\n",
       "  <div id=\"df-d9fc23a9-0326-4847-bf4d-65859d11ccbc\">\n",
       "    <div class=\"colab-df-container\">\n",
       "      <div>\n",
       "<style scoped>\n",
       "    .dataframe tbody tr th:only-of-type {\n",
       "        vertical-align: middle;\n",
       "    }\n",
       "\n",
       "    .dataframe tbody tr th {\n",
       "        vertical-align: top;\n",
       "    }\n",
       "\n",
       "    .dataframe thead th {\n",
       "        text-align: right;\n",
       "    }\n",
       "</style>\n",
       "<table border=\"1\" class=\"dataframe\">\n",
       "  <thead>\n",
       "    <tr style=\"text-align: right;\">\n",
       "      <th></th>\n",
       "      <th>key</th>\n",
       "      <th>Bulk 1</th>\n",
       "      <th>Bulk 2</th>\n",
       "      <th>Bulk 3</th>\n",
       "      <th>Bulk 4</th>\n",
       "      <th>Bulk 5</th>\n",
       "      <th>Bulk 6</th>\n",
       "      <th>Bulk 7</th>\n",
       "      <th>Bulk 8</th>\n",
       "      <th>Bulk 9</th>\n",
       "      <th>Bulk 10</th>\n",
       "      <th>Bulk 11</th>\n",
       "      <th>Bulk 12</th>\n",
       "      <th>Bulk 13</th>\n",
       "      <th>Bulk 14</th>\n",
       "      <th>Bulk 15</th>\n",
       "    </tr>\n",
       "  </thead>\n",
       "  <tbody>\n",
       "    <tr>\n",
       "      <th>0</th>\n",
       "      <td>1</td>\n",
       "      <td>NaN</td>\n",
       "      <td>NaN</td>\n",
       "      <td>NaN</td>\n",
       "      <td>2019-05-03 11:21:30</td>\n",
       "      <td>NaN</td>\n",
       "      <td>NaN</td>\n",
       "      <td>NaN</td>\n",
       "      <td>NaN</td>\n",
       "      <td>NaN</td>\n",
       "      <td>NaN</td>\n",
       "      <td>NaN</td>\n",
       "      <td>2019-05-03 11:03:52</td>\n",
       "      <td>NaN</td>\n",
       "      <td>2019-05-03 11:03:52</td>\n",
       "      <td>2019-05-03 11:03:52</td>\n",
       "    </tr>\n",
       "    <tr>\n",
       "      <th>1</th>\n",
       "      <td>2</td>\n",
       "      <td>NaN</td>\n",
       "      <td>NaN</td>\n",
       "      <td>NaN</td>\n",
       "      <td>2019-05-03 11:46:38</td>\n",
       "      <td>NaN</td>\n",
       "      <td>NaN</td>\n",
       "      <td>NaN</td>\n",
       "      <td>NaN</td>\n",
       "      <td>NaN</td>\n",
       "      <td>NaN</td>\n",
       "      <td>NaN</td>\n",
       "      <td>2019-05-03 11:40:20</td>\n",
       "      <td>NaN</td>\n",
       "      <td>2019-05-03 11:40:20</td>\n",
       "      <td>2019-05-03 11:40:20</td>\n",
       "    </tr>\n",
       "    <tr>\n",
       "      <th>2</th>\n",
       "      <td>3</td>\n",
       "      <td>NaN</td>\n",
       "      <td>NaN</td>\n",
       "      <td>NaN</td>\n",
       "      <td>2019-05-03 12:31:06</td>\n",
       "      <td>NaN</td>\n",
       "      <td>NaN</td>\n",
       "      <td>NaN</td>\n",
       "      <td>NaN</td>\n",
       "      <td>NaN</td>\n",
       "      <td>NaN</td>\n",
       "      <td>NaN</td>\n",
       "      <td>2019-05-03 12:09:40</td>\n",
       "      <td>NaN</td>\n",
       "      <td>2019-05-03 12:09:40</td>\n",
       "      <td>2019-05-03 12:09:40</td>\n",
       "    </tr>\n",
       "    <tr>\n",
       "      <th>3</th>\n",
       "      <td>4</td>\n",
       "      <td>NaN</td>\n",
       "      <td>NaN</td>\n",
       "      <td>NaN</td>\n",
       "      <td>2019-05-03 12:48:43</td>\n",
       "      <td>NaN</td>\n",
       "      <td>NaN</td>\n",
       "      <td>NaN</td>\n",
       "      <td>NaN</td>\n",
       "      <td>NaN</td>\n",
       "      <td>NaN</td>\n",
       "      <td>NaN</td>\n",
       "      <td>2019-05-03 12:41:24</td>\n",
       "      <td>NaN</td>\n",
       "      <td>2019-05-03 12:41:24</td>\n",
       "      <td>2019-05-03 12:41:24</td>\n",
       "    </tr>\n",
       "    <tr>\n",
       "      <th>4</th>\n",
       "      <td>5</td>\n",
       "      <td>NaN</td>\n",
       "      <td>NaN</td>\n",
       "      <td>NaN</td>\n",
       "      <td>2019-05-03 13:18:50</td>\n",
       "      <td>NaN</td>\n",
       "      <td>NaN</td>\n",
       "      <td>NaN</td>\n",
       "      <td>NaN</td>\n",
       "      <td>NaN</td>\n",
       "      <td>NaN</td>\n",
       "      <td>NaN</td>\n",
       "      <td>2019-05-03 13:12:56</td>\n",
       "      <td>NaN</td>\n",
       "      <td>2019-05-03 13:12:56</td>\n",
       "      <td>2019-05-03 13:12:56</td>\n",
       "    </tr>\n",
       "  </tbody>\n",
       "</table>\n",
       "</div>\n",
       "      <button class=\"colab-df-convert\" onclick=\"convertToInteractive('df-d9fc23a9-0326-4847-bf4d-65859d11ccbc')\"\n",
       "              title=\"Convert this dataframe to an interactive table.\"\n",
       "              style=\"display:none;\">\n",
       "        \n",
       "  <svg xmlns=\"http://www.w3.org/2000/svg\" height=\"24px\"viewBox=\"0 0 24 24\"\n",
       "       width=\"24px\">\n",
       "    <path d=\"M0 0h24v24H0V0z\" fill=\"none\"/>\n",
       "    <path d=\"M18.56 5.44l.94 2.06.94-2.06 2.06-.94-2.06-.94-.94-2.06-.94 2.06-2.06.94zm-11 1L8.5 8.5l.94-2.06 2.06-.94-2.06-.94L8.5 2.5l-.94 2.06-2.06.94zm10 10l.94 2.06.94-2.06 2.06-.94-2.06-.94-.94-2.06-.94 2.06-2.06.94z\"/><path d=\"M17.41 7.96l-1.37-1.37c-.4-.4-.92-.59-1.43-.59-.52 0-1.04.2-1.43.59L10.3 9.45l-7.72 7.72c-.78.78-.78 2.05 0 2.83L4 21.41c.39.39.9.59 1.41.59.51 0 1.02-.2 1.41-.59l7.78-7.78 2.81-2.81c.8-.78.8-2.07 0-2.86zM5.41 20L4 18.59l7.72-7.72 1.47 1.35L5.41 20z\"/>\n",
       "  </svg>\n",
       "      </button>\n",
       "      \n",
       "  <style>\n",
       "    .colab-df-container {\n",
       "      display:flex;\n",
       "      flex-wrap:wrap;\n",
       "      gap: 12px;\n",
       "    }\n",
       "\n",
       "    .colab-df-convert {\n",
       "      background-color: #E8F0FE;\n",
       "      border: none;\n",
       "      border-radius: 50%;\n",
       "      cursor: pointer;\n",
       "      display: none;\n",
       "      fill: #1967D2;\n",
       "      height: 32px;\n",
       "      padding: 0 0 0 0;\n",
       "      width: 32px;\n",
       "    }\n",
       "\n",
       "    .colab-df-convert:hover {\n",
       "      background-color: #E2EBFA;\n",
       "      box-shadow: 0px 1px 2px rgba(60, 64, 67, 0.3), 0px 1px 3px 1px rgba(60, 64, 67, 0.15);\n",
       "      fill: #174EA6;\n",
       "    }\n",
       "\n",
       "    [theme=dark] .colab-df-convert {\n",
       "      background-color: #3B4455;\n",
       "      fill: #D2E3FC;\n",
       "    }\n",
       "\n",
       "    [theme=dark] .colab-df-convert:hover {\n",
       "      background-color: #434B5C;\n",
       "      box-shadow: 0px 1px 3px 1px rgba(0, 0, 0, 0.15);\n",
       "      filter: drop-shadow(0px 1px 2px rgba(0, 0, 0, 0.3));\n",
       "      fill: #FFFFFF;\n",
       "    }\n",
       "  </style>\n",
       "\n",
       "      <script>\n",
       "        const buttonEl =\n",
       "          document.querySelector('#df-d9fc23a9-0326-4847-bf4d-65859d11ccbc button.colab-df-convert');\n",
       "        buttonEl.style.display =\n",
       "          google.colab.kernel.accessAllowed ? 'block' : 'none';\n",
       "\n",
       "        async function convertToInteractive(key) {\n",
       "          const element = document.querySelector('#df-d9fc23a9-0326-4847-bf4d-65859d11ccbc');\n",
       "          const dataTable =\n",
       "            await google.colab.kernel.invokeFunction('convertToInteractive',\n",
       "                                                     [key], {});\n",
       "          if (!dataTable) return;\n",
       "\n",
       "          const docLinkHtml = 'Like what you see? Visit the ' +\n",
       "            '<a target=\"_blank\" href=https://colab.research.google.com/notebooks/data_table.ipynb>data table notebook</a>'\n",
       "            + ' to learn more about interactive tables.';\n",
       "          element.innerHTML = '';\n",
       "          dataTable['output_type'] = 'display_data';\n",
       "          await google.colab.output.renderOutput(dataTable, element);\n",
       "          const docLink = document.createElement('div');\n",
       "          docLink.innerHTML = docLinkHtml;\n",
       "          element.appendChild(docLink);\n",
       "        }\n",
       "      </script>\n",
       "    </div>\n",
       "  </div>\n",
       "  "
      ],
      "text/plain": [
       "   key Bulk 1 Bulk 2 Bulk 3               Bulk 4 Bulk 5 Bulk 6 Bulk 7 Bulk 8  \\\n",
       "0    1    NaN    NaN    NaN  2019-05-03 11:21:30    NaN    NaN    NaN    NaN   \n",
       "1    2    NaN    NaN    NaN  2019-05-03 11:46:38    NaN    NaN    NaN    NaN   \n",
       "2    3    NaN    NaN    NaN  2019-05-03 12:31:06    NaN    NaN    NaN    NaN   \n",
       "3    4    NaN    NaN    NaN  2019-05-03 12:48:43    NaN    NaN    NaN    NaN   \n",
       "4    5    NaN    NaN    NaN  2019-05-03 13:18:50    NaN    NaN    NaN    NaN   \n",
       "\n",
       "  Bulk 9 Bulk 10 Bulk 11              Bulk 12 Bulk 13              Bulk 14  \\\n",
       "0    NaN     NaN     NaN  2019-05-03 11:03:52     NaN  2019-05-03 11:03:52   \n",
       "1    NaN     NaN     NaN  2019-05-03 11:40:20     NaN  2019-05-03 11:40:20   \n",
       "2    NaN     NaN     NaN  2019-05-03 12:09:40     NaN  2019-05-03 12:09:40   \n",
       "3    NaN     NaN     NaN  2019-05-03 12:41:24     NaN  2019-05-03 12:41:24   \n",
       "4    NaN     NaN     NaN  2019-05-03 13:12:56     NaN  2019-05-03 13:12:56   \n",
       "\n",
       "               Bulk 15  \n",
       "0  2019-05-03 11:03:52  \n",
       "1  2019-05-03 11:40:20  \n",
       "2  2019-05-03 12:09:40  \n",
       "3  2019-05-03 12:41:24  \n",
       "4  2019-05-03 13:12:56  "
      ]
     },
     "execution_count": 25,
     "metadata": {},
     "output_type": "execute_result"
    }
   ],
   "source": [
    "bulk_time.head()"
   ]
  },
  {
   "cell_type": "markdown",
   "metadata": {
    "id": "lk-HxwwVb2FH"
   },
   "source": [
    "\n",
    "Выведем основную информацию о таблицах:"
   ]
  },
  {
   "cell_type": "code",
   "execution_count": 26,
   "metadata": {
    "colab": {
     "base_uri": "https://localhost:8080/"
    },
    "id": "hdzRuJKBFqiZ",
    "outputId": "49e8898d-1a98-4e20-b7dc-99bb91332aa8"
   },
   "outputs": [
    {
     "name": "stdout",
     "output_type": "stream",
     "text": [
      "<class 'pandas.core.frame.DataFrame'>\n",
      "RangeIndex: 3129 entries, 0 to 3128\n",
      "Data columns (total 16 columns):\n",
      " #   Column   Non-Null Count  Dtype  \n",
      "---  ------   --------------  -----  \n",
      " 0   key      3129 non-null   int64  \n",
      " 1   Bulk 1   252 non-null    float64\n",
      " 2   Bulk 2   22 non-null     float64\n",
      " 3   Bulk 3   1298 non-null   float64\n",
      " 4   Bulk 4   1014 non-null   float64\n",
      " 5   Bulk 5   77 non-null     float64\n",
      " 6   Bulk 6   576 non-null    float64\n",
      " 7   Bulk 7   25 non-null     float64\n",
      " 8   Bulk 8   1 non-null      float64\n",
      " 9   Bulk 9   19 non-null     float64\n",
      " 10  Bulk 10  176 non-null    float64\n",
      " 11  Bulk 11  177 non-null    float64\n",
      " 12  Bulk 12  2450 non-null   float64\n",
      " 13  Bulk 13  18 non-null     float64\n",
      " 14  Bulk 14  2806 non-null   float64\n",
      " 15  Bulk 15  2248 non-null   float64\n",
      "dtypes: float64(15), int64(1)\n",
      "memory usage: 391.2 KB\n"
     ]
    }
   ],
   "source": [
    "bulk.info()"
   ]
  },
  {
   "cell_type": "markdown",
   "metadata": {
    "id": "-B-sDd4Cb55e"
   },
   "source": [
    "Очевидно, что количество пропущенных значений в обоих таблицах будет одинаковым:"
   ]
  },
  {
   "cell_type": "code",
   "execution_count": 27,
   "metadata": {
    "colab": {
     "base_uri": "https://localhost:8080/"
    },
    "id": "pEjrZHveyzxA",
    "outputId": "86c68d3e-b45e-4403-fc8d-baa9dd65e76d"
   },
   "outputs": [
    {
     "data": {
      "text/plain": [
       "key           0\n",
       "Bulk 1     2877\n",
       "Bulk 2     3107\n",
       "Bulk 3     1831\n",
       "Bulk 4     2115\n",
       "Bulk 5     3052\n",
       "Bulk 6     2553\n",
       "Bulk 7     3104\n",
       "Bulk 8     3128\n",
       "Bulk 9     3110\n",
       "Bulk 10    2953\n",
       "Bulk 11    2952\n",
       "Bulk 12     679\n",
       "Bulk 13    3111\n",
       "Bulk 14     323\n",
       "Bulk 15     881\n",
       "dtype: int64"
      ]
     },
     "execution_count": 27,
     "metadata": {},
     "output_type": "execute_result"
    }
   ],
   "source": [
    "bulk.isna().sum()"
   ]
  },
  {
   "cell_type": "markdown",
   "metadata": {
    "id": "uwTiDz-gcWfm"
   },
   "source": [
    "Пропуски в данных связаны с особенностями технологического процесса."
   ]
  },
  {
   "cell_type": "markdown",
   "metadata": {
    "id": "9fdWy0Bfcdka"
   },
   "source": [
    "Рассмотрим описательные статистики:"
   ]
  },
  {
   "cell_type": "code",
   "execution_count": 28,
   "metadata": {
    "colab": {
     "base_uri": "https://localhost:8080/",
     "height": 551
    },
    "id": "TO3vyYRRFsZn",
    "outputId": "b312e241-6cfb-4ae3-bab7-0644ecbf373a"
   },
   "outputs": [
    {
     "data": {
      "text/html": [
       "\n",
       "  <div id=\"df-9e0ee964-fb87-4c71-8a3a-ddaa42c2a276\">\n",
       "    <div class=\"colab-df-container\">\n",
       "      <div>\n",
       "<style scoped>\n",
       "    .dataframe tbody tr th:only-of-type {\n",
       "        vertical-align: middle;\n",
       "    }\n",
       "\n",
       "    .dataframe tbody tr th {\n",
       "        vertical-align: top;\n",
       "    }\n",
       "\n",
       "    .dataframe thead th {\n",
       "        text-align: right;\n",
       "    }\n",
       "</style>\n",
       "<table border=\"1\" class=\"dataframe\">\n",
       "  <thead>\n",
       "    <tr style=\"text-align: right;\">\n",
       "      <th></th>\n",
       "      <th>count</th>\n",
       "      <th>mean</th>\n",
       "      <th>std</th>\n",
       "      <th>min</th>\n",
       "      <th>25%</th>\n",
       "      <th>50%</th>\n",
       "      <th>75%</th>\n",
       "      <th>max</th>\n",
       "    </tr>\n",
       "  </thead>\n",
       "  <tbody>\n",
       "    <tr>\n",
       "      <th>key</th>\n",
       "      <td>3129.0</td>\n",
       "      <td>1624.383509</td>\n",
       "      <td>933.337642</td>\n",
       "      <td>1.0</td>\n",
       "      <td>816.00</td>\n",
       "      <td>1622.0</td>\n",
       "      <td>2431.00</td>\n",
       "      <td>3241.0</td>\n",
       "    </tr>\n",
       "    <tr>\n",
       "      <th>Bulk 1</th>\n",
       "      <td>252.0</td>\n",
       "      <td>39.242063</td>\n",
       "      <td>18.277654</td>\n",
       "      <td>10.0</td>\n",
       "      <td>27.00</td>\n",
       "      <td>31.0</td>\n",
       "      <td>46.00</td>\n",
       "      <td>185.0</td>\n",
       "    </tr>\n",
       "    <tr>\n",
       "      <th>Bulk 2</th>\n",
       "      <td>22.0</td>\n",
       "      <td>253.045455</td>\n",
       "      <td>21.180578</td>\n",
       "      <td>228.0</td>\n",
       "      <td>242.00</td>\n",
       "      <td>251.5</td>\n",
       "      <td>257.75</td>\n",
       "      <td>325.0</td>\n",
       "    </tr>\n",
       "    <tr>\n",
       "      <th>Bulk 3</th>\n",
       "      <td>1298.0</td>\n",
       "      <td>113.879045</td>\n",
       "      <td>75.483494</td>\n",
       "      <td>6.0</td>\n",
       "      <td>58.00</td>\n",
       "      <td>97.5</td>\n",
       "      <td>152.00</td>\n",
       "      <td>454.0</td>\n",
       "    </tr>\n",
       "    <tr>\n",
       "      <th>Bulk 4</th>\n",
       "      <td>1014.0</td>\n",
       "      <td>104.394477</td>\n",
       "      <td>48.184126</td>\n",
       "      <td>12.0</td>\n",
       "      <td>72.00</td>\n",
       "      <td>102.0</td>\n",
       "      <td>133.00</td>\n",
       "      <td>281.0</td>\n",
       "    </tr>\n",
       "    <tr>\n",
       "      <th>Bulk 5</th>\n",
       "      <td>77.0</td>\n",
       "      <td>107.025974</td>\n",
       "      <td>81.790646</td>\n",
       "      <td>11.0</td>\n",
       "      <td>70.00</td>\n",
       "      <td>86.0</td>\n",
       "      <td>132.00</td>\n",
       "      <td>603.0</td>\n",
       "    </tr>\n",
       "    <tr>\n",
       "      <th>Bulk 6</th>\n",
       "      <td>576.0</td>\n",
       "      <td>118.925347</td>\n",
       "      <td>72.057776</td>\n",
       "      <td>17.0</td>\n",
       "      <td>69.75</td>\n",
       "      <td>100.0</td>\n",
       "      <td>157.00</td>\n",
       "      <td>503.0</td>\n",
       "    </tr>\n",
       "    <tr>\n",
       "      <th>Bulk 7</th>\n",
       "      <td>25.0</td>\n",
       "      <td>305.600000</td>\n",
       "      <td>191.022904</td>\n",
       "      <td>47.0</td>\n",
       "      <td>155.00</td>\n",
       "      <td>298.0</td>\n",
       "      <td>406.00</td>\n",
       "      <td>772.0</td>\n",
       "    </tr>\n",
       "    <tr>\n",
       "      <th>Bulk 8</th>\n",
       "      <td>1.0</td>\n",
       "      <td>49.000000</td>\n",
       "      <td>NaN</td>\n",
       "      <td>49.0</td>\n",
       "      <td>49.00</td>\n",
       "      <td>49.0</td>\n",
       "      <td>49.00</td>\n",
       "      <td>49.0</td>\n",
       "    </tr>\n",
       "    <tr>\n",
       "      <th>Bulk 9</th>\n",
       "      <td>19.0</td>\n",
       "      <td>76.315789</td>\n",
       "      <td>21.720581</td>\n",
       "      <td>63.0</td>\n",
       "      <td>66.00</td>\n",
       "      <td>68.0</td>\n",
       "      <td>70.50</td>\n",
       "      <td>147.0</td>\n",
       "    </tr>\n",
       "    <tr>\n",
       "      <th>Bulk 10</th>\n",
       "      <td>176.0</td>\n",
       "      <td>83.284091</td>\n",
       "      <td>26.060347</td>\n",
       "      <td>24.0</td>\n",
       "      <td>64.00</td>\n",
       "      <td>86.5</td>\n",
       "      <td>102.00</td>\n",
       "      <td>159.0</td>\n",
       "    </tr>\n",
       "    <tr>\n",
       "      <th>Bulk 11</th>\n",
       "      <td>177.0</td>\n",
       "      <td>76.819209</td>\n",
       "      <td>59.655365</td>\n",
       "      <td>8.0</td>\n",
       "      <td>25.00</td>\n",
       "      <td>64.0</td>\n",
       "      <td>106.00</td>\n",
       "      <td>313.0</td>\n",
       "    </tr>\n",
       "    <tr>\n",
       "      <th>Bulk 12</th>\n",
       "      <td>2450.0</td>\n",
       "      <td>260.471020</td>\n",
       "      <td>120.649269</td>\n",
       "      <td>53.0</td>\n",
       "      <td>204.00</td>\n",
       "      <td>208.0</td>\n",
       "      <td>316.00</td>\n",
       "      <td>1849.0</td>\n",
       "    </tr>\n",
       "    <tr>\n",
       "      <th>Bulk 13</th>\n",
       "      <td>18.0</td>\n",
       "      <td>181.111111</td>\n",
       "      <td>46.088009</td>\n",
       "      <td>151.0</td>\n",
       "      <td>153.25</td>\n",
       "      <td>155.5</td>\n",
       "      <td>203.50</td>\n",
       "      <td>305.0</td>\n",
       "    </tr>\n",
       "    <tr>\n",
       "      <th>Bulk 14</th>\n",
       "      <td>2806.0</td>\n",
       "      <td>170.284747</td>\n",
       "      <td>65.868652</td>\n",
       "      <td>16.0</td>\n",
       "      <td>119.00</td>\n",
       "      <td>151.0</td>\n",
       "      <td>205.75</td>\n",
       "      <td>636.0</td>\n",
       "    </tr>\n",
       "    <tr>\n",
       "      <th>Bulk 15</th>\n",
       "      <td>2248.0</td>\n",
       "      <td>160.513345</td>\n",
       "      <td>51.765319</td>\n",
       "      <td>1.0</td>\n",
       "      <td>105.00</td>\n",
       "      <td>160.0</td>\n",
       "      <td>205.00</td>\n",
       "      <td>405.0</td>\n",
       "    </tr>\n",
       "  </tbody>\n",
       "</table>\n",
       "</div>\n",
       "      <button class=\"colab-df-convert\" onclick=\"convertToInteractive('df-9e0ee964-fb87-4c71-8a3a-ddaa42c2a276')\"\n",
       "              title=\"Convert this dataframe to an interactive table.\"\n",
       "              style=\"display:none;\">\n",
       "        \n",
       "  <svg xmlns=\"http://www.w3.org/2000/svg\" height=\"24px\"viewBox=\"0 0 24 24\"\n",
       "       width=\"24px\">\n",
       "    <path d=\"M0 0h24v24H0V0z\" fill=\"none\"/>\n",
       "    <path d=\"M18.56 5.44l.94 2.06.94-2.06 2.06-.94-2.06-.94-.94-2.06-.94 2.06-2.06.94zm-11 1L8.5 8.5l.94-2.06 2.06-.94-2.06-.94L8.5 2.5l-.94 2.06-2.06.94zm10 10l.94 2.06.94-2.06 2.06-.94-2.06-.94-.94-2.06-.94 2.06-2.06.94z\"/><path d=\"M17.41 7.96l-1.37-1.37c-.4-.4-.92-.59-1.43-.59-.52 0-1.04.2-1.43.59L10.3 9.45l-7.72 7.72c-.78.78-.78 2.05 0 2.83L4 21.41c.39.39.9.59 1.41.59.51 0 1.02-.2 1.41-.59l7.78-7.78 2.81-2.81c.8-.78.8-2.07 0-2.86zM5.41 20L4 18.59l7.72-7.72 1.47 1.35L5.41 20z\"/>\n",
       "  </svg>\n",
       "      </button>\n",
       "      \n",
       "  <style>\n",
       "    .colab-df-container {\n",
       "      display:flex;\n",
       "      flex-wrap:wrap;\n",
       "      gap: 12px;\n",
       "    }\n",
       "\n",
       "    .colab-df-convert {\n",
       "      background-color: #E8F0FE;\n",
       "      border: none;\n",
       "      border-radius: 50%;\n",
       "      cursor: pointer;\n",
       "      display: none;\n",
       "      fill: #1967D2;\n",
       "      height: 32px;\n",
       "      padding: 0 0 0 0;\n",
       "      width: 32px;\n",
       "    }\n",
       "\n",
       "    .colab-df-convert:hover {\n",
       "      background-color: #E2EBFA;\n",
       "      box-shadow: 0px 1px 2px rgba(60, 64, 67, 0.3), 0px 1px 3px 1px rgba(60, 64, 67, 0.15);\n",
       "      fill: #174EA6;\n",
       "    }\n",
       "\n",
       "    [theme=dark] .colab-df-convert {\n",
       "      background-color: #3B4455;\n",
       "      fill: #D2E3FC;\n",
       "    }\n",
       "\n",
       "    [theme=dark] .colab-df-convert:hover {\n",
       "      background-color: #434B5C;\n",
       "      box-shadow: 0px 1px 3px 1px rgba(0, 0, 0, 0.15);\n",
       "      filter: drop-shadow(0px 1px 2px rgba(0, 0, 0, 0.3));\n",
       "      fill: #FFFFFF;\n",
       "    }\n",
       "  </style>\n",
       "\n",
       "      <script>\n",
       "        const buttonEl =\n",
       "          document.querySelector('#df-9e0ee964-fb87-4c71-8a3a-ddaa42c2a276 button.colab-df-convert');\n",
       "        buttonEl.style.display =\n",
       "          google.colab.kernel.accessAllowed ? 'block' : 'none';\n",
       "\n",
       "        async function convertToInteractive(key) {\n",
       "          const element = document.querySelector('#df-9e0ee964-fb87-4c71-8a3a-ddaa42c2a276');\n",
       "          const dataTable =\n",
       "            await google.colab.kernel.invokeFunction('convertToInteractive',\n",
       "                                                     [key], {});\n",
       "          if (!dataTable) return;\n",
       "\n",
       "          const docLinkHtml = 'Like what you see? Visit the ' +\n",
       "            '<a target=\"_blank\" href=https://colab.research.google.com/notebooks/data_table.ipynb>data table notebook</a>'\n",
       "            + ' to learn more about interactive tables.';\n",
       "          element.innerHTML = '';\n",
       "          dataTable['output_type'] = 'display_data';\n",
       "          await google.colab.output.renderOutput(dataTable, element);\n",
       "          const docLink = document.createElement('div');\n",
       "          docLink.innerHTML = docLinkHtml;\n",
       "          element.appendChild(docLink);\n",
       "        }\n",
       "      </script>\n",
       "    </div>\n",
       "  </div>\n",
       "  "
      ],
      "text/plain": [
       "          count         mean         std    min     25%     50%      75%  \\\n",
       "key      3129.0  1624.383509  933.337642    1.0  816.00  1622.0  2431.00   \n",
       "Bulk 1    252.0    39.242063   18.277654   10.0   27.00    31.0    46.00   \n",
       "Bulk 2     22.0   253.045455   21.180578  228.0  242.00   251.5   257.75   \n",
       "Bulk 3   1298.0   113.879045   75.483494    6.0   58.00    97.5   152.00   \n",
       "Bulk 4   1014.0   104.394477   48.184126   12.0   72.00   102.0   133.00   \n",
       "Bulk 5     77.0   107.025974   81.790646   11.0   70.00    86.0   132.00   \n",
       "Bulk 6    576.0   118.925347   72.057776   17.0   69.75   100.0   157.00   \n",
       "Bulk 7     25.0   305.600000  191.022904   47.0  155.00   298.0   406.00   \n",
       "Bulk 8      1.0    49.000000         NaN   49.0   49.00    49.0    49.00   \n",
       "Bulk 9     19.0    76.315789   21.720581   63.0   66.00    68.0    70.50   \n",
       "Bulk 10   176.0    83.284091   26.060347   24.0   64.00    86.5   102.00   \n",
       "Bulk 11   177.0    76.819209   59.655365    8.0   25.00    64.0   106.00   \n",
       "Bulk 12  2450.0   260.471020  120.649269   53.0  204.00   208.0   316.00   \n",
       "Bulk 13    18.0   181.111111   46.088009  151.0  153.25   155.5   203.50   \n",
       "Bulk 14  2806.0   170.284747   65.868652   16.0  119.00   151.0   205.75   \n",
       "Bulk 15  2248.0   160.513345   51.765319    1.0  105.00   160.0   205.00   \n",
       "\n",
       "            max  \n",
       "key      3241.0  \n",
       "Bulk 1    185.0  \n",
       "Bulk 2    325.0  \n",
       "Bulk 3    454.0  \n",
       "Bulk 4    281.0  \n",
       "Bulk 5    603.0  \n",
       "Bulk 6    503.0  \n",
       "Bulk 7    772.0  \n",
       "Bulk 8     49.0  \n",
       "Bulk 9    147.0  \n",
       "Bulk 10   159.0  \n",
       "Bulk 11   313.0  \n",
       "Bulk 12  1849.0  \n",
       "Bulk 13   305.0  \n",
       "Bulk 14   636.0  \n",
       "Bulk 15   405.0  "
      ]
     },
     "execution_count": 28,
     "metadata": {},
     "output_type": "execute_result"
    }
   ],
   "source": [
    "bulk.describe().T"
   ]
  },
  {
   "cell_type": "markdown",
   "metadata": {
    "id": "MdIqlt3_chCf"
   },
   "source": [
    "Заменим пропуски в таблице `bulk` нулем:"
   ]
  },
  {
   "cell_type": "code",
   "execution_count": 29,
   "metadata": {
    "id": "QE9e3WAa6N5H"
   },
   "outputs": [],
   "source": [
    "bulk = bulk.fillna(0)"
   ]
  },
  {
   "cell_type": "markdown",
   "metadata": {
    "id": "uK2EwG2ccogj"
   },
   "source": [
    "Приведем информацию о времени подачи материалов к типу `datetime`:"
   ]
  },
  {
   "cell_type": "code",
   "execution_count": 30,
   "metadata": {
    "id": "XGnXvJAR8QOy"
   },
   "outputs": [],
   "source": [
    "for col in bulk_time.columns[1:]:\n",
    "    bulk_time[col] = pd.to_datetime(bulk_time[col], format='%Y-%m-%dT%H:%M:%S')"
   ]
  },
  {
   "cell_type": "markdown",
   "metadata": {
    "id": "tC0JHvERcxoN"
   },
   "source": [
    "Сами по себе данные о времени не имеют смысла. Возможно, что время между подачей того или иного материала, может служить информативным признаком для данного технологического процесс - следовательно, сгенерируем такие признаки по каждому материалу:"
   ]
  },
  {
   "cell_type": "code",
   "execution_count": 31,
   "metadata": {
    "id": "sz2ETd_B6_pz"
   },
   "outputs": [],
   "source": [
    "bulk_time[bulk_time.columns[1:]] = bulk_time[bulk_time.columns[1:]].diff()"
   ]
  },
  {
   "cell_type": "code",
   "execution_count": 32,
   "metadata": {
    "id": "pM07pXQ794Av"
   },
   "outputs": [],
   "source": [
    "for col in bulk_time.columns[1:]:\n",
    "    bulk_time[col] = bulk_time[col].apply(lambda t: t.seconds)"
   ]
  },
  {
   "cell_type": "code",
   "execution_count": 33,
   "metadata": {
    "colab": {
     "base_uri": "https://localhost:8080/",
     "height": 424
    },
    "id": "ywGCreLU810D",
    "outputId": "dac866e0-5cb6-4f51-fb6e-ffdc506c52f1"
   },
   "outputs": [
    {
     "data": {
      "text/html": [
       "\n",
       "  <div id=\"df-fbe5e7d4-691a-4fd6-a470-ead459639a4d\">\n",
       "    <div class=\"colab-df-container\">\n",
       "      <div>\n",
       "<style scoped>\n",
       "    .dataframe tbody tr th:only-of-type {\n",
       "        vertical-align: middle;\n",
       "    }\n",
       "\n",
       "    .dataframe tbody tr th {\n",
       "        vertical-align: top;\n",
       "    }\n",
       "\n",
       "    .dataframe thead th {\n",
       "        text-align: right;\n",
       "    }\n",
       "</style>\n",
       "<table border=\"1\" class=\"dataframe\">\n",
       "  <thead>\n",
       "    <tr style=\"text-align: right;\">\n",
       "      <th></th>\n",
       "      <th>key</th>\n",
       "      <th>Bulk 1</th>\n",
       "      <th>Bulk 2</th>\n",
       "      <th>Bulk 3</th>\n",
       "      <th>Bulk 4</th>\n",
       "      <th>Bulk 5</th>\n",
       "      <th>Bulk 6</th>\n",
       "      <th>Bulk 7</th>\n",
       "      <th>Bulk 8</th>\n",
       "      <th>Bulk 9</th>\n",
       "      <th>Bulk 10</th>\n",
       "      <th>Bulk 11</th>\n",
       "      <th>Bulk 12</th>\n",
       "      <th>Bulk 13</th>\n",
       "      <th>Bulk 14</th>\n",
       "      <th>Bulk 15</th>\n",
       "    </tr>\n",
       "  </thead>\n",
       "  <tbody>\n",
       "    <tr>\n",
       "      <th>0</th>\n",
       "      <td>1</td>\n",
       "      <td>NaN</td>\n",
       "      <td>NaN</td>\n",
       "      <td>NaN</td>\n",
       "      <td>NaN</td>\n",
       "      <td>NaN</td>\n",
       "      <td>NaN</td>\n",
       "      <td>NaN</td>\n",
       "      <td>NaN</td>\n",
       "      <td>NaN</td>\n",
       "      <td>NaN</td>\n",
       "      <td>NaN</td>\n",
       "      <td>NaN</td>\n",
       "      <td>NaN</td>\n",
       "      <td>NaN</td>\n",
       "      <td>NaN</td>\n",
       "    </tr>\n",
       "    <tr>\n",
       "      <th>1</th>\n",
       "      <td>2</td>\n",
       "      <td>NaN</td>\n",
       "      <td>NaN</td>\n",
       "      <td>NaN</td>\n",
       "      <td>1508.0</td>\n",
       "      <td>NaN</td>\n",
       "      <td>NaN</td>\n",
       "      <td>NaN</td>\n",
       "      <td>NaN</td>\n",
       "      <td>NaN</td>\n",
       "      <td>NaN</td>\n",
       "      <td>NaN</td>\n",
       "      <td>2188.0</td>\n",
       "      <td>NaN</td>\n",
       "      <td>2188.0</td>\n",
       "      <td>2188.0</td>\n",
       "    </tr>\n",
       "    <tr>\n",
       "      <th>2</th>\n",
       "      <td>3</td>\n",
       "      <td>NaN</td>\n",
       "      <td>NaN</td>\n",
       "      <td>NaN</td>\n",
       "      <td>2668.0</td>\n",
       "      <td>NaN</td>\n",
       "      <td>NaN</td>\n",
       "      <td>NaN</td>\n",
       "      <td>NaN</td>\n",
       "      <td>NaN</td>\n",
       "      <td>NaN</td>\n",
       "      <td>NaN</td>\n",
       "      <td>1760.0</td>\n",
       "      <td>NaN</td>\n",
       "      <td>1760.0</td>\n",
       "      <td>1760.0</td>\n",
       "    </tr>\n",
       "    <tr>\n",
       "      <th>3</th>\n",
       "      <td>4</td>\n",
       "      <td>NaN</td>\n",
       "      <td>NaN</td>\n",
       "      <td>NaN</td>\n",
       "      <td>1057.0</td>\n",
       "      <td>NaN</td>\n",
       "      <td>NaN</td>\n",
       "      <td>NaN</td>\n",
       "      <td>NaN</td>\n",
       "      <td>NaN</td>\n",
       "      <td>NaN</td>\n",
       "      <td>NaN</td>\n",
       "      <td>1904.0</td>\n",
       "      <td>NaN</td>\n",
       "      <td>1904.0</td>\n",
       "      <td>1904.0</td>\n",
       "    </tr>\n",
       "    <tr>\n",
       "      <th>4</th>\n",
       "      <td>5</td>\n",
       "      <td>NaN</td>\n",
       "      <td>NaN</td>\n",
       "      <td>NaN</td>\n",
       "      <td>1807.0</td>\n",
       "      <td>NaN</td>\n",
       "      <td>NaN</td>\n",
       "      <td>NaN</td>\n",
       "      <td>NaN</td>\n",
       "      <td>NaN</td>\n",
       "      <td>NaN</td>\n",
       "      <td>NaN</td>\n",
       "      <td>1892.0</td>\n",
       "      <td>NaN</td>\n",
       "      <td>1892.0</td>\n",
       "      <td>1892.0</td>\n",
       "    </tr>\n",
       "    <tr>\n",
       "      <th>...</th>\n",
       "      <td>...</td>\n",
       "      <td>...</td>\n",
       "      <td>...</td>\n",
       "      <td>...</td>\n",
       "      <td>...</td>\n",
       "      <td>...</td>\n",
       "      <td>...</td>\n",
       "      <td>...</td>\n",
       "      <td>...</td>\n",
       "      <td>...</td>\n",
       "      <td>...</td>\n",
       "      <td>...</td>\n",
       "      <td>...</td>\n",
       "      <td>...</td>\n",
       "      <td>...</td>\n",
       "      <td>...</td>\n",
       "    </tr>\n",
       "    <tr>\n",
       "      <th>3124</th>\n",
       "      <td>3237</td>\n",
       "      <td>NaN</td>\n",
       "      <td>NaN</td>\n",
       "      <td>1858.0</td>\n",
       "      <td>NaN</td>\n",
       "      <td>NaN</td>\n",
       "      <td>NaN</td>\n",
       "      <td>NaN</td>\n",
       "      <td>NaN</td>\n",
       "      <td>NaN</td>\n",
       "      <td>NaN</td>\n",
       "      <td>NaN</td>\n",
       "      <td>2097.0</td>\n",
       "      <td>NaN</td>\n",
       "      <td>2097.0</td>\n",
       "      <td>2097.0</td>\n",
       "    </tr>\n",
       "    <tr>\n",
       "      <th>3125</th>\n",
       "      <td>3238</td>\n",
       "      <td>NaN</td>\n",
       "      <td>NaN</td>\n",
       "      <td>2863.0</td>\n",
       "      <td>NaN</td>\n",
       "      <td>NaN</td>\n",
       "      <td>NaN</td>\n",
       "      <td>NaN</td>\n",
       "      <td>NaN</td>\n",
       "      <td>NaN</td>\n",
       "      <td>NaN</td>\n",
       "      <td>NaN</td>\n",
       "      <td>2777.0</td>\n",
       "      <td>NaN</td>\n",
       "      <td>2777.0</td>\n",
       "      <td>2777.0</td>\n",
       "    </tr>\n",
       "    <tr>\n",
       "      <th>3126</th>\n",
       "      <td>3239</td>\n",
       "      <td>NaN</td>\n",
       "      <td>NaN</td>\n",
       "      <td>NaN</td>\n",
       "      <td>NaN</td>\n",
       "      <td>NaN</td>\n",
       "      <td>NaN</td>\n",
       "      <td>NaN</td>\n",
       "      <td>NaN</td>\n",
       "      <td>NaN</td>\n",
       "      <td>NaN</td>\n",
       "      <td>NaN</td>\n",
       "      <td>7592.0</td>\n",
       "      <td>NaN</td>\n",
       "      <td>7216.0</td>\n",
       "      <td>7216.0</td>\n",
       "    </tr>\n",
       "    <tr>\n",
       "      <th>3127</th>\n",
       "      <td>3240</td>\n",
       "      <td>NaN</td>\n",
       "      <td>NaN</td>\n",
       "      <td>NaN</td>\n",
       "      <td>NaN</td>\n",
       "      <td>NaN</td>\n",
       "      <td>4842.0</td>\n",
       "      <td>NaN</td>\n",
       "      <td>NaN</td>\n",
       "      <td>NaN</td>\n",
       "      <td>NaN</td>\n",
       "      <td>NaN</td>\n",
       "      <td>NaN</td>\n",
       "      <td>NaN</td>\n",
       "      <td>4082.0</td>\n",
       "      <td>4082.0</td>\n",
       "    </tr>\n",
       "    <tr>\n",
       "      <th>3128</th>\n",
       "      <td>3241</td>\n",
       "      <td>NaN</td>\n",
       "      <td>NaN</td>\n",
       "      <td>NaN</td>\n",
       "      <td>NaN</td>\n",
       "      <td>NaN</td>\n",
       "      <td>NaN</td>\n",
       "      <td>NaN</td>\n",
       "      <td>NaN</td>\n",
       "      <td>NaN</td>\n",
       "      <td>NaN</td>\n",
       "      <td>NaN</td>\n",
       "      <td>NaN</td>\n",
       "      <td>NaN</td>\n",
       "      <td>5047.0</td>\n",
       "      <td>5047.0</td>\n",
       "    </tr>\n",
       "  </tbody>\n",
       "</table>\n",
       "<p>3129 rows × 16 columns</p>\n",
       "</div>\n",
       "      <button class=\"colab-df-convert\" onclick=\"convertToInteractive('df-fbe5e7d4-691a-4fd6-a470-ead459639a4d')\"\n",
       "              title=\"Convert this dataframe to an interactive table.\"\n",
       "              style=\"display:none;\">\n",
       "        \n",
       "  <svg xmlns=\"http://www.w3.org/2000/svg\" height=\"24px\"viewBox=\"0 0 24 24\"\n",
       "       width=\"24px\">\n",
       "    <path d=\"M0 0h24v24H0V0z\" fill=\"none\"/>\n",
       "    <path d=\"M18.56 5.44l.94 2.06.94-2.06 2.06-.94-2.06-.94-.94-2.06-.94 2.06-2.06.94zm-11 1L8.5 8.5l.94-2.06 2.06-.94-2.06-.94L8.5 2.5l-.94 2.06-2.06.94zm10 10l.94 2.06.94-2.06 2.06-.94-2.06-.94-.94-2.06-.94 2.06-2.06.94z\"/><path d=\"M17.41 7.96l-1.37-1.37c-.4-.4-.92-.59-1.43-.59-.52 0-1.04.2-1.43.59L10.3 9.45l-7.72 7.72c-.78.78-.78 2.05 0 2.83L4 21.41c.39.39.9.59 1.41.59.51 0 1.02-.2 1.41-.59l7.78-7.78 2.81-2.81c.8-.78.8-2.07 0-2.86zM5.41 20L4 18.59l7.72-7.72 1.47 1.35L5.41 20z\"/>\n",
       "  </svg>\n",
       "      </button>\n",
       "      \n",
       "  <style>\n",
       "    .colab-df-container {\n",
       "      display:flex;\n",
       "      flex-wrap:wrap;\n",
       "      gap: 12px;\n",
       "    }\n",
       "\n",
       "    .colab-df-convert {\n",
       "      background-color: #E8F0FE;\n",
       "      border: none;\n",
       "      border-radius: 50%;\n",
       "      cursor: pointer;\n",
       "      display: none;\n",
       "      fill: #1967D2;\n",
       "      height: 32px;\n",
       "      padding: 0 0 0 0;\n",
       "      width: 32px;\n",
       "    }\n",
       "\n",
       "    .colab-df-convert:hover {\n",
       "      background-color: #E2EBFA;\n",
       "      box-shadow: 0px 1px 2px rgba(60, 64, 67, 0.3), 0px 1px 3px 1px rgba(60, 64, 67, 0.15);\n",
       "      fill: #174EA6;\n",
       "    }\n",
       "\n",
       "    [theme=dark] .colab-df-convert {\n",
       "      background-color: #3B4455;\n",
       "      fill: #D2E3FC;\n",
       "    }\n",
       "\n",
       "    [theme=dark] .colab-df-convert:hover {\n",
       "      background-color: #434B5C;\n",
       "      box-shadow: 0px 1px 3px 1px rgba(0, 0, 0, 0.15);\n",
       "      filter: drop-shadow(0px 1px 2px rgba(0, 0, 0, 0.3));\n",
       "      fill: #FFFFFF;\n",
       "    }\n",
       "  </style>\n",
       "\n",
       "      <script>\n",
       "        const buttonEl =\n",
       "          document.querySelector('#df-fbe5e7d4-691a-4fd6-a470-ead459639a4d button.colab-df-convert');\n",
       "        buttonEl.style.display =\n",
       "          google.colab.kernel.accessAllowed ? 'block' : 'none';\n",
       "\n",
       "        async function convertToInteractive(key) {\n",
       "          const element = document.querySelector('#df-fbe5e7d4-691a-4fd6-a470-ead459639a4d');\n",
       "          const dataTable =\n",
       "            await google.colab.kernel.invokeFunction('convertToInteractive',\n",
       "                                                     [key], {});\n",
       "          if (!dataTable) return;\n",
       "\n",
       "          const docLinkHtml = 'Like what you see? Visit the ' +\n",
       "            '<a target=\"_blank\" href=https://colab.research.google.com/notebooks/data_table.ipynb>data table notebook</a>'\n",
       "            + ' to learn more about interactive tables.';\n",
       "          element.innerHTML = '';\n",
       "          dataTable['output_type'] = 'display_data';\n",
       "          await google.colab.output.renderOutput(dataTable, element);\n",
       "          const docLink = document.createElement('div');\n",
       "          docLink.innerHTML = docLinkHtml;\n",
       "          element.appendChild(docLink);\n",
       "        }\n",
       "      </script>\n",
       "    </div>\n",
       "  </div>\n",
       "  "
      ],
      "text/plain": [
       "       key  Bulk 1  Bulk 2  Bulk 3  Bulk 4  Bulk 5  Bulk 6  Bulk 7  Bulk 8  \\\n",
       "0        1     NaN     NaN     NaN     NaN     NaN     NaN     NaN     NaN   \n",
       "1        2     NaN     NaN     NaN  1508.0     NaN     NaN     NaN     NaN   \n",
       "2        3     NaN     NaN     NaN  2668.0     NaN     NaN     NaN     NaN   \n",
       "3        4     NaN     NaN     NaN  1057.0     NaN     NaN     NaN     NaN   \n",
       "4        5     NaN     NaN     NaN  1807.0     NaN     NaN     NaN     NaN   \n",
       "...    ...     ...     ...     ...     ...     ...     ...     ...     ...   \n",
       "3124  3237     NaN     NaN  1858.0     NaN     NaN     NaN     NaN     NaN   \n",
       "3125  3238     NaN     NaN  2863.0     NaN     NaN     NaN     NaN     NaN   \n",
       "3126  3239     NaN     NaN     NaN     NaN     NaN     NaN     NaN     NaN   \n",
       "3127  3240     NaN     NaN     NaN     NaN     NaN  4842.0     NaN     NaN   \n",
       "3128  3241     NaN     NaN     NaN     NaN     NaN     NaN     NaN     NaN   \n",
       "\n",
       "      Bulk 9  Bulk 10  Bulk 11  Bulk 12  Bulk 13  Bulk 14  Bulk 15  \n",
       "0        NaN      NaN      NaN      NaN      NaN      NaN      NaN  \n",
       "1        NaN      NaN      NaN   2188.0      NaN   2188.0   2188.0  \n",
       "2        NaN      NaN      NaN   1760.0      NaN   1760.0   1760.0  \n",
       "3        NaN      NaN      NaN   1904.0      NaN   1904.0   1904.0  \n",
       "4        NaN      NaN      NaN   1892.0      NaN   1892.0   1892.0  \n",
       "...      ...      ...      ...      ...      ...      ...      ...  \n",
       "3124     NaN      NaN      NaN   2097.0      NaN   2097.0   2097.0  \n",
       "3125     NaN      NaN      NaN   2777.0      NaN   2777.0   2777.0  \n",
       "3126     NaN      NaN      NaN   7592.0      NaN   7216.0   7216.0  \n",
       "3127     NaN      NaN      NaN      NaN      NaN   4082.0   4082.0  \n",
       "3128     NaN      NaN      NaN      NaN      NaN   5047.0   5047.0  \n",
       "\n",
       "[3129 rows x 16 columns]"
      ]
     },
     "execution_count": 33,
     "metadata": {},
     "output_type": "execute_result"
    }
   ],
   "source": [
    "bulk_time"
   ]
  },
  {
   "cell_type": "markdown",
   "metadata": {
    "id": "5PAmxMqQdHmT"
   },
   "source": [
    "Заполним пропуски нулями:"
   ]
  },
  {
   "cell_type": "code",
   "execution_count": 34,
   "metadata": {
    "id": "Fc-RROMd-kA_"
   },
   "outputs": [],
   "source": [
    "bulk_time = bulk_time.fillna(0)"
   ]
  },
  {
   "cell_type": "markdown",
   "metadata": {
    "id": "MqccPWqLdLvD"
   },
   "source": [
    "Изменим названия стобцов для корректности:"
   ]
  },
  {
   "cell_type": "code",
   "execution_count": 35,
   "metadata": {
    "id": "5mDC4TeKGlbK"
   },
   "outputs": [],
   "source": [
    "bulk_time.columns = ['key'] + [f'Время подачи Bulk {i}' for i in range(1, 16)]"
   ]
  },
  {
   "cell_type": "markdown",
   "metadata": {
    "id": "ijCjLbLodPJH"
   },
   "source": [
    "Итоговая таблица:"
   ]
  },
  {
   "cell_type": "code",
   "execution_count": 36,
   "metadata": {
    "colab": {
     "base_uri": "https://localhost:8080/",
     "height": 485
    },
    "id": "MSpXeFfqIpIN",
    "outputId": "c2c5e1b1-3cd5-4a00-a157-56e848e68a0b"
   },
   "outputs": [
    {
     "data": {
      "text/html": [
       "\n",
       "  <div id=\"df-48c50a9b-c316-4283-943f-a7228fd3a954\">\n",
       "    <div class=\"colab-df-container\">\n",
       "      <div>\n",
       "<style scoped>\n",
       "    .dataframe tbody tr th:only-of-type {\n",
       "        vertical-align: middle;\n",
       "    }\n",
       "\n",
       "    .dataframe tbody tr th {\n",
       "        vertical-align: top;\n",
       "    }\n",
       "\n",
       "    .dataframe thead th {\n",
       "        text-align: right;\n",
       "    }\n",
       "</style>\n",
       "<table border=\"1\" class=\"dataframe\">\n",
       "  <thead>\n",
       "    <tr style=\"text-align: right;\">\n",
       "      <th></th>\n",
       "      <th>key</th>\n",
       "      <th>Время подачи Bulk 1</th>\n",
       "      <th>Время подачи Bulk 2</th>\n",
       "      <th>Время подачи Bulk 3</th>\n",
       "      <th>Время подачи Bulk 4</th>\n",
       "      <th>Время подачи Bulk 5</th>\n",
       "      <th>Время подачи Bulk 6</th>\n",
       "      <th>Время подачи Bulk 7</th>\n",
       "      <th>Время подачи Bulk 8</th>\n",
       "      <th>Время подачи Bulk 9</th>\n",
       "      <th>Время подачи Bulk 10</th>\n",
       "      <th>Время подачи Bulk 11</th>\n",
       "      <th>Время подачи Bulk 12</th>\n",
       "      <th>Время подачи Bulk 13</th>\n",
       "      <th>Время подачи Bulk 14</th>\n",
       "      <th>Время подачи Bulk 15</th>\n",
       "    </tr>\n",
       "  </thead>\n",
       "  <tbody>\n",
       "    <tr>\n",
       "      <th>0</th>\n",
       "      <td>1</td>\n",
       "      <td>0.0</td>\n",
       "      <td>0.0</td>\n",
       "      <td>0.0</td>\n",
       "      <td>0.0</td>\n",
       "      <td>0.0</td>\n",
       "      <td>0.0</td>\n",
       "      <td>0.0</td>\n",
       "      <td>0.0</td>\n",
       "      <td>0.0</td>\n",
       "      <td>0.0</td>\n",
       "      <td>0.0</td>\n",
       "      <td>0.0</td>\n",
       "      <td>0.0</td>\n",
       "      <td>0.0</td>\n",
       "      <td>0.0</td>\n",
       "    </tr>\n",
       "    <tr>\n",
       "      <th>1</th>\n",
       "      <td>2</td>\n",
       "      <td>0.0</td>\n",
       "      <td>0.0</td>\n",
       "      <td>0.0</td>\n",
       "      <td>1508.0</td>\n",
       "      <td>0.0</td>\n",
       "      <td>0.0</td>\n",
       "      <td>0.0</td>\n",
       "      <td>0.0</td>\n",
       "      <td>0.0</td>\n",
       "      <td>0.0</td>\n",
       "      <td>0.0</td>\n",
       "      <td>2188.0</td>\n",
       "      <td>0.0</td>\n",
       "      <td>2188.0</td>\n",
       "      <td>2188.0</td>\n",
       "    </tr>\n",
       "    <tr>\n",
       "      <th>2</th>\n",
       "      <td>3</td>\n",
       "      <td>0.0</td>\n",
       "      <td>0.0</td>\n",
       "      <td>0.0</td>\n",
       "      <td>2668.0</td>\n",
       "      <td>0.0</td>\n",
       "      <td>0.0</td>\n",
       "      <td>0.0</td>\n",
       "      <td>0.0</td>\n",
       "      <td>0.0</td>\n",
       "      <td>0.0</td>\n",
       "      <td>0.0</td>\n",
       "      <td>1760.0</td>\n",
       "      <td>0.0</td>\n",
       "      <td>1760.0</td>\n",
       "      <td>1760.0</td>\n",
       "    </tr>\n",
       "    <tr>\n",
       "      <th>3</th>\n",
       "      <td>4</td>\n",
       "      <td>0.0</td>\n",
       "      <td>0.0</td>\n",
       "      <td>0.0</td>\n",
       "      <td>1057.0</td>\n",
       "      <td>0.0</td>\n",
       "      <td>0.0</td>\n",
       "      <td>0.0</td>\n",
       "      <td>0.0</td>\n",
       "      <td>0.0</td>\n",
       "      <td>0.0</td>\n",
       "      <td>0.0</td>\n",
       "      <td>1904.0</td>\n",
       "      <td>0.0</td>\n",
       "      <td>1904.0</td>\n",
       "      <td>1904.0</td>\n",
       "    </tr>\n",
       "    <tr>\n",
       "      <th>4</th>\n",
       "      <td>5</td>\n",
       "      <td>0.0</td>\n",
       "      <td>0.0</td>\n",
       "      <td>0.0</td>\n",
       "      <td>1807.0</td>\n",
       "      <td>0.0</td>\n",
       "      <td>0.0</td>\n",
       "      <td>0.0</td>\n",
       "      <td>0.0</td>\n",
       "      <td>0.0</td>\n",
       "      <td>0.0</td>\n",
       "      <td>0.0</td>\n",
       "      <td>1892.0</td>\n",
       "      <td>0.0</td>\n",
       "      <td>1892.0</td>\n",
       "      <td>1892.0</td>\n",
       "    </tr>\n",
       "    <tr>\n",
       "      <th>...</th>\n",
       "      <td>...</td>\n",
       "      <td>...</td>\n",
       "      <td>...</td>\n",
       "      <td>...</td>\n",
       "      <td>...</td>\n",
       "      <td>...</td>\n",
       "      <td>...</td>\n",
       "      <td>...</td>\n",
       "      <td>...</td>\n",
       "      <td>...</td>\n",
       "      <td>...</td>\n",
       "      <td>...</td>\n",
       "      <td>...</td>\n",
       "      <td>...</td>\n",
       "      <td>...</td>\n",
       "      <td>...</td>\n",
       "    </tr>\n",
       "    <tr>\n",
       "      <th>3124</th>\n",
       "      <td>3237</td>\n",
       "      <td>0.0</td>\n",
       "      <td>0.0</td>\n",
       "      <td>1858.0</td>\n",
       "      <td>0.0</td>\n",
       "      <td>0.0</td>\n",
       "      <td>0.0</td>\n",
       "      <td>0.0</td>\n",
       "      <td>0.0</td>\n",
       "      <td>0.0</td>\n",
       "      <td>0.0</td>\n",
       "      <td>0.0</td>\n",
       "      <td>2097.0</td>\n",
       "      <td>0.0</td>\n",
       "      <td>2097.0</td>\n",
       "      <td>2097.0</td>\n",
       "    </tr>\n",
       "    <tr>\n",
       "      <th>3125</th>\n",
       "      <td>3238</td>\n",
       "      <td>0.0</td>\n",
       "      <td>0.0</td>\n",
       "      <td>2863.0</td>\n",
       "      <td>0.0</td>\n",
       "      <td>0.0</td>\n",
       "      <td>0.0</td>\n",
       "      <td>0.0</td>\n",
       "      <td>0.0</td>\n",
       "      <td>0.0</td>\n",
       "      <td>0.0</td>\n",
       "      <td>0.0</td>\n",
       "      <td>2777.0</td>\n",
       "      <td>0.0</td>\n",
       "      <td>2777.0</td>\n",
       "      <td>2777.0</td>\n",
       "    </tr>\n",
       "    <tr>\n",
       "      <th>3126</th>\n",
       "      <td>3239</td>\n",
       "      <td>0.0</td>\n",
       "      <td>0.0</td>\n",
       "      <td>0.0</td>\n",
       "      <td>0.0</td>\n",
       "      <td>0.0</td>\n",
       "      <td>0.0</td>\n",
       "      <td>0.0</td>\n",
       "      <td>0.0</td>\n",
       "      <td>0.0</td>\n",
       "      <td>0.0</td>\n",
       "      <td>0.0</td>\n",
       "      <td>7592.0</td>\n",
       "      <td>0.0</td>\n",
       "      <td>7216.0</td>\n",
       "      <td>7216.0</td>\n",
       "    </tr>\n",
       "    <tr>\n",
       "      <th>3127</th>\n",
       "      <td>3240</td>\n",
       "      <td>0.0</td>\n",
       "      <td>0.0</td>\n",
       "      <td>0.0</td>\n",
       "      <td>0.0</td>\n",
       "      <td>0.0</td>\n",
       "      <td>4842.0</td>\n",
       "      <td>0.0</td>\n",
       "      <td>0.0</td>\n",
       "      <td>0.0</td>\n",
       "      <td>0.0</td>\n",
       "      <td>0.0</td>\n",
       "      <td>0.0</td>\n",
       "      <td>0.0</td>\n",
       "      <td>4082.0</td>\n",
       "      <td>4082.0</td>\n",
       "    </tr>\n",
       "    <tr>\n",
       "      <th>3128</th>\n",
       "      <td>3241</td>\n",
       "      <td>0.0</td>\n",
       "      <td>0.0</td>\n",
       "      <td>0.0</td>\n",
       "      <td>0.0</td>\n",
       "      <td>0.0</td>\n",
       "      <td>0.0</td>\n",
       "      <td>0.0</td>\n",
       "      <td>0.0</td>\n",
       "      <td>0.0</td>\n",
       "      <td>0.0</td>\n",
       "      <td>0.0</td>\n",
       "      <td>0.0</td>\n",
       "      <td>0.0</td>\n",
       "      <td>5047.0</td>\n",
       "      <td>5047.0</td>\n",
       "    </tr>\n",
       "  </tbody>\n",
       "</table>\n",
       "<p>3129 rows × 16 columns</p>\n",
       "</div>\n",
       "      <button class=\"colab-df-convert\" onclick=\"convertToInteractive('df-48c50a9b-c316-4283-943f-a7228fd3a954')\"\n",
       "              title=\"Convert this dataframe to an interactive table.\"\n",
       "              style=\"display:none;\">\n",
       "        \n",
       "  <svg xmlns=\"http://www.w3.org/2000/svg\" height=\"24px\"viewBox=\"0 0 24 24\"\n",
       "       width=\"24px\">\n",
       "    <path d=\"M0 0h24v24H0V0z\" fill=\"none\"/>\n",
       "    <path d=\"M18.56 5.44l.94 2.06.94-2.06 2.06-.94-2.06-.94-.94-2.06-.94 2.06-2.06.94zm-11 1L8.5 8.5l.94-2.06 2.06-.94-2.06-.94L8.5 2.5l-.94 2.06-2.06.94zm10 10l.94 2.06.94-2.06 2.06-.94-2.06-.94-.94-2.06-.94 2.06-2.06.94z\"/><path d=\"M17.41 7.96l-1.37-1.37c-.4-.4-.92-.59-1.43-.59-.52 0-1.04.2-1.43.59L10.3 9.45l-7.72 7.72c-.78.78-.78 2.05 0 2.83L4 21.41c.39.39.9.59 1.41.59.51 0 1.02-.2 1.41-.59l7.78-7.78 2.81-2.81c.8-.78.8-2.07 0-2.86zM5.41 20L4 18.59l7.72-7.72 1.47 1.35L5.41 20z\"/>\n",
       "  </svg>\n",
       "      </button>\n",
       "      \n",
       "  <style>\n",
       "    .colab-df-container {\n",
       "      display:flex;\n",
       "      flex-wrap:wrap;\n",
       "      gap: 12px;\n",
       "    }\n",
       "\n",
       "    .colab-df-convert {\n",
       "      background-color: #E8F0FE;\n",
       "      border: none;\n",
       "      border-radius: 50%;\n",
       "      cursor: pointer;\n",
       "      display: none;\n",
       "      fill: #1967D2;\n",
       "      height: 32px;\n",
       "      padding: 0 0 0 0;\n",
       "      width: 32px;\n",
       "    }\n",
       "\n",
       "    .colab-df-convert:hover {\n",
       "      background-color: #E2EBFA;\n",
       "      box-shadow: 0px 1px 2px rgba(60, 64, 67, 0.3), 0px 1px 3px 1px rgba(60, 64, 67, 0.15);\n",
       "      fill: #174EA6;\n",
       "    }\n",
       "\n",
       "    [theme=dark] .colab-df-convert {\n",
       "      background-color: #3B4455;\n",
       "      fill: #D2E3FC;\n",
       "    }\n",
       "\n",
       "    [theme=dark] .colab-df-convert:hover {\n",
       "      background-color: #434B5C;\n",
       "      box-shadow: 0px 1px 3px 1px rgba(0, 0, 0, 0.15);\n",
       "      filter: drop-shadow(0px 1px 2px rgba(0, 0, 0, 0.3));\n",
       "      fill: #FFFFFF;\n",
       "    }\n",
       "  </style>\n",
       "\n",
       "      <script>\n",
       "        const buttonEl =\n",
       "          document.querySelector('#df-48c50a9b-c316-4283-943f-a7228fd3a954 button.colab-df-convert');\n",
       "        buttonEl.style.display =\n",
       "          google.colab.kernel.accessAllowed ? 'block' : 'none';\n",
       "\n",
       "        async function convertToInteractive(key) {\n",
       "          const element = document.querySelector('#df-48c50a9b-c316-4283-943f-a7228fd3a954');\n",
       "          const dataTable =\n",
       "            await google.colab.kernel.invokeFunction('convertToInteractive',\n",
       "                                                     [key], {});\n",
       "          if (!dataTable) return;\n",
       "\n",
       "          const docLinkHtml = 'Like what you see? Visit the ' +\n",
       "            '<a target=\"_blank\" href=https://colab.research.google.com/notebooks/data_table.ipynb>data table notebook</a>'\n",
       "            + ' to learn more about interactive tables.';\n",
       "          element.innerHTML = '';\n",
       "          dataTable['output_type'] = 'display_data';\n",
       "          await google.colab.output.renderOutput(dataTable, element);\n",
       "          const docLink = document.createElement('div');\n",
       "          docLink.innerHTML = docLinkHtml;\n",
       "          element.appendChild(docLink);\n",
       "        }\n",
       "      </script>\n",
       "    </div>\n",
       "  </div>\n",
       "  "
      ],
      "text/plain": [
       "       key  Время подачи Bulk 1  Время подачи Bulk 2  Время подачи Bulk 3  \\\n",
       "0        1                  0.0                  0.0                  0.0   \n",
       "1        2                  0.0                  0.0                  0.0   \n",
       "2        3                  0.0                  0.0                  0.0   \n",
       "3        4                  0.0                  0.0                  0.0   \n",
       "4        5                  0.0                  0.0                  0.0   \n",
       "...    ...                  ...                  ...                  ...   \n",
       "3124  3237                  0.0                  0.0               1858.0   \n",
       "3125  3238                  0.0                  0.0               2863.0   \n",
       "3126  3239                  0.0                  0.0                  0.0   \n",
       "3127  3240                  0.0                  0.0                  0.0   \n",
       "3128  3241                  0.0                  0.0                  0.0   \n",
       "\n",
       "      Время подачи Bulk 4  Время подачи Bulk 5  Время подачи Bulk 6  \\\n",
       "0                     0.0                  0.0                  0.0   \n",
       "1                  1508.0                  0.0                  0.0   \n",
       "2                  2668.0                  0.0                  0.0   \n",
       "3                  1057.0                  0.0                  0.0   \n",
       "4                  1807.0                  0.0                  0.0   \n",
       "...                   ...                  ...                  ...   \n",
       "3124                  0.0                  0.0                  0.0   \n",
       "3125                  0.0                  0.0                  0.0   \n",
       "3126                  0.0                  0.0                  0.0   \n",
       "3127                  0.0                  0.0               4842.0   \n",
       "3128                  0.0                  0.0                  0.0   \n",
       "\n",
       "      Время подачи Bulk 7  Время подачи Bulk 8  Время подачи Bulk 9  \\\n",
       "0                     0.0                  0.0                  0.0   \n",
       "1                     0.0                  0.0                  0.0   \n",
       "2                     0.0                  0.0                  0.0   \n",
       "3                     0.0                  0.0                  0.0   \n",
       "4                     0.0                  0.0                  0.0   \n",
       "...                   ...                  ...                  ...   \n",
       "3124                  0.0                  0.0                  0.0   \n",
       "3125                  0.0                  0.0                  0.0   \n",
       "3126                  0.0                  0.0                  0.0   \n",
       "3127                  0.0                  0.0                  0.0   \n",
       "3128                  0.0                  0.0                  0.0   \n",
       "\n",
       "      Время подачи Bulk 10  Время подачи Bulk 11  Время подачи Bulk 12  \\\n",
       "0                      0.0                   0.0                   0.0   \n",
       "1                      0.0                   0.0                2188.0   \n",
       "2                      0.0                   0.0                1760.0   \n",
       "3                      0.0                   0.0                1904.0   \n",
       "4                      0.0                   0.0                1892.0   \n",
       "...                    ...                   ...                   ...   \n",
       "3124                   0.0                   0.0                2097.0   \n",
       "3125                   0.0                   0.0                2777.0   \n",
       "3126                   0.0                   0.0                7592.0   \n",
       "3127                   0.0                   0.0                   0.0   \n",
       "3128                   0.0                   0.0                   0.0   \n",
       "\n",
       "      Время подачи Bulk 13  Время подачи Bulk 14  Время подачи Bulk 15  \n",
       "0                      0.0                   0.0                   0.0  \n",
       "1                      0.0                2188.0                2188.0  \n",
       "2                      0.0                1760.0                1760.0  \n",
       "3                      0.0                1904.0                1904.0  \n",
       "4                      0.0                1892.0                1892.0  \n",
       "...                    ...                   ...                   ...  \n",
       "3124                   0.0                2097.0                2097.0  \n",
       "3125                   0.0                2777.0                2777.0  \n",
       "3126                   0.0                7216.0                7216.0  \n",
       "3127                   0.0                4082.0                4082.0  \n",
       "3128                   0.0                5047.0                5047.0  \n",
       "\n",
       "[3129 rows x 16 columns]"
      ]
     },
     "execution_count": 36,
     "metadata": {},
     "output_type": "execute_result"
    }
   ],
   "source": [
    "bulk_time"
   ]
  },
  {
   "cell_type": "markdown",
   "metadata": {
    "id": "vfEm1Ysj_JGc"
   },
   "source": [
    "### Данные о продувке сплава газом"
   ]
  },
  {
   "cell_type": "markdown",
   "metadata": {
    "id": "ni6M8ChEdR-I"
   },
   "source": [
    "Рассмотрим первые пять строк таблицы:"
   ]
  },
  {
   "cell_type": "code",
   "execution_count": 37,
   "metadata": {
    "colab": {
     "base_uri": "https://localhost:8080/",
     "height": 206
    },
    "id": "EVOTSjEfzm34",
    "outputId": "eb717bad-4aab-487a-8f76-a7351e9452f5"
   },
   "outputs": [
    {
     "data": {
      "text/html": [
       "\n",
       "  <div id=\"df-66c4f320-a617-4e4c-9dbe-ffd1bab3b0b4\">\n",
       "    <div class=\"colab-df-container\">\n",
       "      <div>\n",
       "<style scoped>\n",
       "    .dataframe tbody tr th:only-of-type {\n",
       "        vertical-align: middle;\n",
       "    }\n",
       "\n",
       "    .dataframe tbody tr th {\n",
       "        vertical-align: top;\n",
       "    }\n",
       "\n",
       "    .dataframe thead th {\n",
       "        text-align: right;\n",
       "    }\n",
       "</style>\n",
       "<table border=\"1\" class=\"dataframe\">\n",
       "  <thead>\n",
       "    <tr style=\"text-align: right;\">\n",
       "      <th></th>\n",
       "      <th>key</th>\n",
       "      <th>Газ 1</th>\n",
       "    </tr>\n",
       "  </thead>\n",
       "  <tbody>\n",
       "    <tr>\n",
       "      <th>0</th>\n",
       "      <td>1</td>\n",
       "      <td>29.749986</td>\n",
       "    </tr>\n",
       "    <tr>\n",
       "      <th>1</th>\n",
       "      <td>2</td>\n",
       "      <td>12.555561</td>\n",
       "    </tr>\n",
       "    <tr>\n",
       "      <th>2</th>\n",
       "      <td>3</td>\n",
       "      <td>28.554793</td>\n",
       "    </tr>\n",
       "    <tr>\n",
       "      <th>3</th>\n",
       "      <td>4</td>\n",
       "      <td>18.841219</td>\n",
       "    </tr>\n",
       "    <tr>\n",
       "      <th>4</th>\n",
       "      <td>5</td>\n",
       "      <td>5.413692</td>\n",
       "    </tr>\n",
       "  </tbody>\n",
       "</table>\n",
       "</div>\n",
       "      <button class=\"colab-df-convert\" onclick=\"convertToInteractive('df-66c4f320-a617-4e4c-9dbe-ffd1bab3b0b4')\"\n",
       "              title=\"Convert this dataframe to an interactive table.\"\n",
       "              style=\"display:none;\">\n",
       "        \n",
       "  <svg xmlns=\"http://www.w3.org/2000/svg\" height=\"24px\"viewBox=\"0 0 24 24\"\n",
       "       width=\"24px\">\n",
       "    <path d=\"M0 0h24v24H0V0z\" fill=\"none\"/>\n",
       "    <path d=\"M18.56 5.44l.94 2.06.94-2.06 2.06-.94-2.06-.94-.94-2.06-.94 2.06-2.06.94zm-11 1L8.5 8.5l.94-2.06 2.06-.94-2.06-.94L8.5 2.5l-.94 2.06-2.06.94zm10 10l.94 2.06.94-2.06 2.06-.94-2.06-.94-.94-2.06-.94 2.06-2.06.94z\"/><path d=\"M17.41 7.96l-1.37-1.37c-.4-.4-.92-.59-1.43-.59-.52 0-1.04.2-1.43.59L10.3 9.45l-7.72 7.72c-.78.78-.78 2.05 0 2.83L4 21.41c.39.39.9.59 1.41.59.51 0 1.02-.2 1.41-.59l7.78-7.78 2.81-2.81c.8-.78.8-2.07 0-2.86zM5.41 20L4 18.59l7.72-7.72 1.47 1.35L5.41 20z\"/>\n",
       "  </svg>\n",
       "      </button>\n",
       "      \n",
       "  <style>\n",
       "    .colab-df-container {\n",
       "      display:flex;\n",
       "      flex-wrap:wrap;\n",
       "      gap: 12px;\n",
       "    }\n",
       "\n",
       "    .colab-df-convert {\n",
       "      background-color: #E8F0FE;\n",
       "      border: none;\n",
       "      border-radius: 50%;\n",
       "      cursor: pointer;\n",
       "      display: none;\n",
       "      fill: #1967D2;\n",
       "      height: 32px;\n",
       "      padding: 0 0 0 0;\n",
       "      width: 32px;\n",
       "    }\n",
       "\n",
       "    .colab-df-convert:hover {\n",
       "      background-color: #E2EBFA;\n",
       "      box-shadow: 0px 1px 2px rgba(60, 64, 67, 0.3), 0px 1px 3px 1px rgba(60, 64, 67, 0.15);\n",
       "      fill: #174EA6;\n",
       "    }\n",
       "\n",
       "    [theme=dark] .colab-df-convert {\n",
       "      background-color: #3B4455;\n",
       "      fill: #D2E3FC;\n",
       "    }\n",
       "\n",
       "    [theme=dark] .colab-df-convert:hover {\n",
       "      background-color: #434B5C;\n",
       "      box-shadow: 0px 1px 3px 1px rgba(0, 0, 0, 0.15);\n",
       "      filter: drop-shadow(0px 1px 2px rgba(0, 0, 0, 0.3));\n",
       "      fill: #FFFFFF;\n",
       "    }\n",
       "  </style>\n",
       "\n",
       "      <script>\n",
       "        const buttonEl =\n",
       "          document.querySelector('#df-66c4f320-a617-4e4c-9dbe-ffd1bab3b0b4 button.colab-df-convert');\n",
       "        buttonEl.style.display =\n",
       "          google.colab.kernel.accessAllowed ? 'block' : 'none';\n",
       "\n",
       "        async function convertToInteractive(key) {\n",
       "          const element = document.querySelector('#df-66c4f320-a617-4e4c-9dbe-ffd1bab3b0b4');\n",
       "          const dataTable =\n",
       "            await google.colab.kernel.invokeFunction('convertToInteractive',\n",
       "                                                     [key], {});\n",
       "          if (!dataTable) return;\n",
       "\n",
       "          const docLinkHtml = 'Like what you see? Visit the ' +\n",
       "            '<a target=\"_blank\" href=https://colab.research.google.com/notebooks/data_table.ipynb>data table notebook</a>'\n",
       "            + ' to learn more about interactive tables.';\n",
       "          element.innerHTML = '';\n",
       "          dataTable['output_type'] = 'display_data';\n",
       "          await google.colab.output.renderOutput(dataTable, element);\n",
       "          const docLink = document.createElement('div');\n",
       "          docLink.innerHTML = docLinkHtml;\n",
       "          element.appendChild(docLink);\n",
       "        }\n",
       "      </script>\n",
       "    </div>\n",
       "  </div>\n",
       "  "
      ],
      "text/plain": [
       "   key      Газ 1\n",
       "0    1  29.749986\n",
       "1    2  12.555561\n",
       "2    3  28.554793\n",
       "3    4  18.841219\n",
       "4    5   5.413692"
      ]
     },
     "execution_count": 37,
     "metadata": {},
     "output_type": "execute_result"
    }
   ],
   "source": [
    "gas.head()"
   ]
  },
  {
   "cell_type": "markdown",
   "metadata": {
    "id": "Qe4mRYEXdWHN"
   },
   "source": [
    "Выведем основную информацию о таблице:"
   ]
  },
  {
   "cell_type": "code",
   "execution_count": 39,
   "metadata": {
    "colab": {
     "base_uri": "https://localhost:8080/"
    },
    "id": "fgy_ZAcR_IpJ",
    "outputId": "8ae34c72-1bf0-45cf-baf5-d4cd1eedffc7"
   },
   "outputs": [
    {
     "name": "stdout",
     "output_type": "stream",
     "text": [
      "<class 'pandas.core.frame.DataFrame'>\n",
      "RangeIndex: 3239 entries, 0 to 3238\n",
      "Data columns (total 2 columns):\n",
      " #   Column  Non-Null Count  Dtype  \n",
      "---  ------  --------------  -----  \n",
      " 0   key     3239 non-null   int64  \n",
      " 1   Газ 1   3239 non-null   float64\n",
      "dtypes: float64(1), int64(1)\n",
      "memory usage: 50.7 KB\n"
     ]
    }
   ],
   "source": [
    "gas.info()"
   ]
  },
  {
   "cell_type": "markdown",
   "metadata": {
    "id": "xsR_EUzCdYm0"
   },
   "source": [
    "Рассмотрим описательные статистики:"
   ]
  },
  {
   "cell_type": "code",
   "execution_count": 38,
   "metadata": {
    "colab": {
     "base_uri": "https://localhost:8080/",
     "height": 112
    },
    "id": "ncW5bA4h_PfQ",
    "outputId": "873295b4-4a76-42c0-a6af-5e6e5558638b"
   },
   "outputs": [
    {
     "data": {
      "text/html": [
       "\n",
       "  <div id=\"df-dcebb998-69b4-4203-8d63-1513c2b0a7ed\">\n",
       "    <div class=\"colab-df-container\">\n",
       "      <div>\n",
       "<style scoped>\n",
       "    .dataframe tbody tr th:only-of-type {\n",
       "        vertical-align: middle;\n",
       "    }\n",
       "\n",
       "    .dataframe tbody tr th {\n",
       "        vertical-align: top;\n",
       "    }\n",
       "\n",
       "    .dataframe thead th {\n",
       "        text-align: right;\n",
       "    }\n",
       "</style>\n",
       "<table border=\"1\" class=\"dataframe\">\n",
       "  <thead>\n",
       "    <tr style=\"text-align: right;\">\n",
       "      <th></th>\n",
       "      <th>count</th>\n",
       "      <th>mean</th>\n",
       "      <th>std</th>\n",
       "      <th>min</th>\n",
       "      <th>25%</th>\n",
       "      <th>50%</th>\n",
       "      <th>75%</th>\n",
       "      <th>max</th>\n",
       "    </tr>\n",
       "  </thead>\n",
       "  <tbody>\n",
       "    <tr>\n",
       "      <th>key</th>\n",
       "      <td>3239.0</td>\n",
       "      <td>1621.861377</td>\n",
       "      <td>935.386334</td>\n",
       "      <td>1.000000</td>\n",
       "      <td>812.500000</td>\n",
       "      <td>1622.000000</td>\n",
       "      <td>2431.500000</td>\n",
       "      <td>3241.00000</td>\n",
       "    </tr>\n",
       "    <tr>\n",
       "      <th>Газ 1</th>\n",
       "      <td>3239.0</td>\n",
       "      <td>11.002062</td>\n",
       "      <td>6.220327</td>\n",
       "      <td>0.008399</td>\n",
       "      <td>7.043089</td>\n",
       "      <td>9.836267</td>\n",
       "      <td>13.769915</td>\n",
       "      <td>77.99504</td>\n",
       "    </tr>\n",
       "  </tbody>\n",
       "</table>\n",
       "</div>\n",
       "      <button class=\"colab-df-convert\" onclick=\"convertToInteractive('df-dcebb998-69b4-4203-8d63-1513c2b0a7ed')\"\n",
       "              title=\"Convert this dataframe to an interactive table.\"\n",
       "              style=\"display:none;\">\n",
       "        \n",
       "  <svg xmlns=\"http://www.w3.org/2000/svg\" height=\"24px\"viewBox=\"0 0 24 24\"\n",
       "       width=\"24px\">\n",
       "    <path d=\"M0 0h24v24H0V0z\" fill=\"none\"/>\n",
       "    <path d=\"M18.56 5.44l.94 2.06.94-2.06 2.06-.94-2.06-.94-.94-2.06-.94 2.06-2.06.94zm-11 1L8.5 8.5l.94-2.06 2.06-.94-2.06-.94L8.5 2.5l-.94 2.06-2.06.94zm10 10l.94 2.06.94-2.06 2.06-.94-2.06-.94-.94-2.06-.94 2.06-2.06.94z\"/><path d=\"M17.41 7.96l-1.37-1.37c-.4-.4-.92-.59-1.43-.59-.52 0-1.04.2-1.43.59L10.3 9.45l-7.72 7.72c-.78.78-.78 2.05 0 2.83L4 21.41c.39.39.9.59 1.41.59.51 0 1.02-.2 1.41-.59l7.78-7.78 2.81-2.81c.8-.78.8-2.07 0-2.86zM5.41 20L4 18.59l7.72-7.72 1.47 1.35L5.41 20z\"/>\n",
       "  </svg>\n",
       "      </button>\n",
       "      \n",
       "  <style>\n",
       "    .colab-df-container {\n",
       "      display:flex;\n",
       "      flex-wrap:wrap;\n",
       "      gap: 12px;\n",
       "    }\n",
       "\n",
       "    .colab-df-convert {\n",
       "      background-color: #E8F0FE;\n",
       "      border: none;\n",
       "      border-radius: 50%;\n",
       "      cursor: pointer;\n",
       "      display: none;\n",
       "      fill: #1967D2;\n",
       "      height: 32px;\n",
       "      padding: 0 0 0 0;\n",
       "      width: 32px;\n",
       "    }\n",
       "\n",
       "    .colab-df-convert:hover {\n",
       "      background-color: #E2EBFA;\n",
       "      box-shadow: 0px 1px 2px rgba(60, 64, 67, 0.3), 0px 1px 3px 1px rgba(60, 64, 67, 0.15);\n",
       "      fill: #174EA6;\n",
       "    }\n",
       "\n",
       "    [theme=dark] .colab-df-convert {\n",
       "      background-color: #3B4455;\n",
       "      fill: #D2E3FC;\n",
       "    }\n",
       "\n",
       "    [theme=dark] .colab-df-convert:hover {\n",
       "      background-color: #434B5C;\n",
       "      box-shadow: 0px 1px 3px 1px rgba(0, 0, 0, 0.15);\n",
       "      filter: drop-shadow(0px 1px 2px rgba(0, 0, 0, 0.3));\n",
       "      fill: #FFFFFF;\n",
       "    }\n",
       "  </style>\n",
       "\n",
       "      <script>\n",
       "        const buttonEl =\n",
       "          document.querySelector('#df-dcebb998-69b4-4203-8d63-1513c2b0a7ed button.colab-df-convert');\n",
       "        buttonEl.style.display =\n",
       "          google.colab.kernel.accessAllowed ? 'block' : 'none';\n",
       "\n",
       "        async function convertToInteractive(key) {\n",
       "          const element = document.querySelector('#df-dcebb998-69b4-4203-8d63-1513c2b0a7ed');\n",
       "          const dataTable =\n",
       "            await google.colab.kernel.invokeFunction('convertToInteractive',\n",
       "                                                     [key], {});\n",
       "          if (!dataTable) return;\n",
       "\n",
       "          const docLinkHtml = 'Like what you see? Visit the ' +\n",
       "            '<a target=\"_blank\" href=https://colab.research.google.com/notebooks/data_table.ipynb>data table notebook</a>'\n",
       "            + ' to learn more about interactive tables.';\n",
       "          element.innerHTML = '';\n",
       "          dataTable['output_type'] = 'display_data';\n",
       "          await google.colab.output.renderOutput(dataTable, element);\n",
       "          const docLink = document.createElement('div');\n",
       "          docLink.innerHTML = docLinkHtml;\n",
       "          element.appendChild(docLink);\n",
       "        }\n",
       "      </script>\n",
       "    </div>\n",
       "  </div>\n",
       "  "
      ],
      "text/plain": [
       "        count         mean         std       min         25%          50%  \\\n",
       "key    3239.0  1621.861377  935.386334  1.000000  812.500000  1622.000000   \n",
       "Газ 1  3239.0    11.002062    6.220327  0.008399    7.043089     9.836267   \n",
       "\n",
       "               75%         max  \n",
       "key    2431.500000  3241.00000  \n",
       "Газ 1    13.769915    77.99504  "
      ]
     },
     "execution_count": 38,
     "metadata": {},
     "output_type": "execute_result"
    }
   ],
   "source": [
    "gas.describe().T"
   ]
  },
  {
   "cell_type": "markdown",
   "metadata": {
    "id": "b0WyHqHfdbl-"
   },
   "source": [
    "Построим распределение:"
   ]
  },
  {
   "cell_type": "code",
   "execution_count": 40,
   "metadata": {
    "colab": {
     "base_uri": "https://localhost:8080/",
     "height": 411
    },
    "id": "NOOq-JMA_UAu",
    "outputId": "8d2a8c0a-20bb-4feb-f86a-d586dcf77937"
   },
   "outputs": [
    {
     "data": {
      "text/plain": [
       "<matplotlib.axes._subplots.AxesSubplot at 0x7fcf526b0d90>"
      ]
     },
     "execution_count": 40,
     "metadata": {},
     "output_type": "execute_result"
    },
    {
     "data": {
      "image/png": "[encoded data removed]",
      "text/plain": [
       "<Figure size 720x432 with 1 Axes>"
      ]
     },
     "metadata": {},
     "output_type": "display_data"
    }
   ],
   "source": [
    "sns.histplot(gas['Газ 1'])"
   ]
  },
  {
   "cell_type": "markdown",
   "metadata": {
    "id": "Nf1wKiwLdgHR"
   },
   "source": [
    "Распределение близко к нормальному, смещено влево. Присутствуют выбросы, однако необходимо уточнять, нужно ли от них избавляться - или же такие показатели обусловены особенностями производства."
   ]
  },
  {
   "cell_type": "markdown",
   "metadata": {
    "id": "8BIgROy__v8L"
   },
   "source": [
    "### Данные о результатах измерения температуры"
   ]
  },
  {
   "cell_type": "markdown",
   "metadata": {
    "id": "AkyturtPd6X2"
   },
   "source": [
    "Рассмотрим первые пять строк таблицы:"
   ]
  },
  {
   "cell_type": "code",
   "execution_count": 41,
   "metadata": {
    "colab": {
     "base_uri": "https://localhost:8080/",
     "height": 206
    },
    "id": "D85itVTBzsE4",
    "outputId": "e7761285-5afc-4d61-e897-58081bffa847"
   },
   "outputs": [
    {
     "data": {
      "text/html": [
       "\n",
       "  <div id=\"df-5e37ba5a-cf9d-482a-b410-b52bf652edc7\">\n",
       "    <div class=\"colab-df-container\">\n",
       "      <div>\n",
       "<style scoped>\n",
       "    .dataframe tbody tr th:only-of-type {\n",
       "        vertical-align: middle;\n",
       "    }\n",
       "\n",
       "    .dataframe tbody tr th {\n",
       "        vertical-align: top;\n",
       "    }\n",
       "\n",
       "    .dataframe thead th {\n",
       "        text-align: right;\n",
       "    }\n",
       "</style>\n",
       "<table border=\"1\" class=\"dataframe\">\n",
       "  <thead>\n",
       "    <tr style=\"text-align: right;\">\n",
       "      <th></th>\n",
       "      <th>key</th>\n",
       "      <th>Время замера</th>\n",
       "      <th>Температура</th>\n",
       "    </tr>\n",
       "  </thead>\n",
       "  <tbody>\n",
       "    <tr>\n",
       "      <th>0</th>\n",
       "      <td>1</td>\n",
       "      <td>2019-05-03 11:16:18</td>\n",
       "      <td>1571.0</td>\n",
       "    </tr>\n",
       "    <tr>\n",
       "      <th>1</th>\n",
       "      <td>1</td>\n",
       "      <td>2019-05-03 11:25:53</td>\n",
       "      <td>1604.0</td>\n",
       "    </tr>\n",
       "    <tr>\n",
       "      <th>2</th>\n",
       "      <td>1</td>\n",
       "      <td>2019-05-03 11:29:11</td>\n",
       "      <td>1618.0</td>\n",
       "    </tr>\n",
       "    <tr>\n",
       "      <th>3</th>\n",
       "      <td>1</td>\n",
       "      <td>2019-05-03 11:30:01</td>\n",
       "      <td>1601.0</td>\n",
       "    </tr>\n",
       "    <tr>\n",
       "      <th>4</th>\n",
       "      <td>1</td>\n",
       "      <td>2019-05-03 11:30:39</td>\n",
       "      <td>1613.0</td>\n",
       "    </tr>\n",
       "  </tbody>\n",
       "</table>\n",
       "</div>\n",
       "      <button class=\"colab-df-convert\" onclick=\"convertToInteractive('df-5e37ba5a-cf9d-482a-b410-b52bf652edc7')\"\n",
       "              title=\"Convert this dataframe to an interactive table.\"\n",
       "              style=\"display:none;\">\n",
       "        \n",
       "  <svg xmlns=\"http://www.w3.org/2000/svg\" height=\"24px\"viewBox=\"0 0 24 24\"\n",
       "       width=\"24px\">\n",
       "    <path d=\"M0 0h24v24H0V0z\" fill=\"none\"/>\n",
       "    <path d=\"M18.56 5.44l.94 2.06.94-2.06 2.06-.94-2.06-.94-.94-2.06-.94 2.06-2.06.94zm-11 1L8.5 8.5l.94-2.06 2.06-.94-2.06-.94L8.5 2.5l-.94 2.06-2.06.94zm10 10l.94 2.06.94-2.06 2.06-.94-2.06-.94-.94-2.06-.94 2.06-2.06.94z\"/><path d=\"M17.41 7.96l-1.37-1.37c-.4-.4-.92-.59-1.43-.59-.52 0-1.04.2-1.43.59L10.3 9.45l-7.72 7.72c-.78.78-.78 2.05 0 2.83L4 21.41c.39.39.9.59 1.41.59.51 0 1.02-.2 1.41-.59l7.78-7.78 2.81-2.81c.8-.78.8-2.07 0-2.86zM5.41 20L4 18.59l7.72-7.72 1.47 1.35L5.41 20z\"/>\n",
       "  </svg>\n",
       "      </button>\n",
       "      \n",
       "  <style>\n",
       "    .colab-df-container {\n",
       "      display:flex;\n",
       "      flex-wrap:wrap;\n",
       "      gap: 12px;\n",
       "    }\n",
       "\n",
       "    .colab-df-convert {\n",
       "      background-color: #E8F0FE;\n",
       "      border: none;\n",
       "      border-radius: 50%;\n",
       "      cursor: pointer;\n",
       "      display: none;\n",
       "      fill: #1967D2;\n",
       "      height: 32px;\n",
       "      padding: 0 0 0 0;\n",
       "      width: 32px;\n",
       "    }\n",
       "\n",
       "    .colab-df-convert:hover {\n",
       "      background-color: #E2EBFA;\n",
       "      box-shadow: 0px 1px 2px rgba(60, 64, 67, 0.3), 0px 1px 3px 1px rgba(60, 64, 67, 0.15);\n",
       "      fill: #174EA6;\n",
       "    }\n",
       "\n",
       "    [theme=dark] .colab-df-convert {\n",
       "      background-color: #3B4455;\n",
       "      fill: #D2E3FC;\n",
       "    }\n",
       "\n",
       "    [theme=dark] .colab-df-convert:hover {\n",
       "      background-color: #434B5C;\n",
       "      box-shadow: 0px 1px 3px 1px rgba(0, 0, 0, 0.15);\n",
       "      filter: drop-shadow(0px 1px 2px rgba(0, 0, 0, 0.3));\n",
       "      fill: #FFFFFF;\n",
       "    }\n",
       "  </style>\n",
       "\n",
       "      <script>\n",
       "        const buttonEl =\n",
       "          document.querySelector('#df-5e37ba5a-cf9d-482a-b410-b52bf652edc7 button.colab-df-convert');\n",
       "        buttonEl.style.display =\n",
       "          google.colab.kernel.accessAllowed ? 'block' : 'none';\n",
       "\n",
       "        async function convertToInteractive(key) {\n",
       "          const element = document.querySelector('#df-5e37ba5a-cf9d-482a-b410-b52bf652edc7');\n",
       "          const dataTable =\n",
       "            await google.colab.kernel.invokeFunction('convertToInteractive',\n",
       "                                                     [key], {});\n",
       "          if (!dataTable) return;\n",
       "\n",
       "          const docLinkHtml = 'Like what you see? Visit the ' +\n",
       "            '<a target=\"_blank\" href=https://colab.research.google.com/notebooks/data_table.ipynb>data table notebook</a>'\n",
       "            + ' to learn more about interactive tables.';\n",
       "          element.innerHTML = '';\n",
       "          dataTable['output_type'] = 'display_data';\n",
       "          await google.colab.output.renderOutput(dataTable, element);\n",
       "          const docLink = document.createElement('div');\n",
       "          docLink.innerHTML = docLinkHtml;\n",
       "          element.appendChild(docLink);\n",
       "        }\n",
       "      </script>\n",
       "    </div>\n",
       "  </div>\n",
       "  "
      ],
      "text/plain": [
       "   key         Время замера  Температура\n",
       "0    1  2019-05-03 11:16:18       1571.0\n",
       "1    1  2019-05-03 11:25:53       1604.0\n",
       "2    1  2019-05-03 11:29:11       1618.0\n",
       "3    1  2019-05-03 11:30:01       1601.0\n",
       "4    1  2019-05-03 11:30:39       1613.0"
      ]
     },
     "execution_count": 41,
     "metadata": {},
     "output_type": "execute_result"
    }
   ],
   "source": [
    "temp.head()"
   ]
  },
  {
   "cell_type": "markdown",
   "metadata": {
    "id": "MnQ9Z8Icd9SL"
   },
   "source": [
    "Выведем основную информацию о таблице:"
   ]
  },
  {
   "cell_type": "code",
   "execution_count": 42,
   "metadata": {
    "colab": {
     "base_uri": "https://localhost:8080/"
    },
    "id": "TXTWcJ9C_3E_",
    "outputId": "7dfbf3f9-45dd-422e-f36b-530db5766fa6"
   },
   "outputs": [
    {
     "name": "stdout",
     "output_type": "stream",
     "text": [
      "<class 'pandas.core.frame.DataFrame'>\n",
      "RangeIndex: 15907 entries, 0 to 15906\n",
      "Data columns (total 3 columns):\n",
      " #   Column        Non-Null Count  Dtype  \n",
      "---  ------        --------------  -----  \n",
      " 0   key           15907 non-null  int64  \n",
      " 1   Время замера  15907 non-null  object \n",
      " 2   Температура   13006 non-null  float64\n",
      "dtypes: float64(1), int64(1), object(1)\n",
      "memory usage: 372.9+ KB\n"
     ]
    }
   ],
   "source": [
    "temp.info()"
   ]
  },
  {
   "cell_type": "markdown",
   "metadata": {
    "id": "nYuk6XKZeAhs"
   },
   "source": [
    "Рассмотирм описательные статистики:"
   ]
  },
  {
   "cell_type": "code",
   "execution_count": 43,
   "metadata": {
    "colab": {
     "base_uri": "https://localhost:8080/",
     "height": 112
    },
    "id": "yH-zURwj_5Er",
    "outputId": "6b6ad9e5-04c0-4367-e5aa-27ddec61d0b9"
   },
   "outputs": [
    {
     "data": {
      "text/html": [
       "\n",
       "  <div id=\"df-3305df2d-d9d7-483e-82d6-4f57b9cc12e4\">\n",
       "    <div class=\"colab-df-container\">\n",
       "      <div>\n",
       "<style scoped>\n",
       "    .dataframe tbody tr th:only-of-type {\n",
       "        vertical-align: middle;\n",
       "    }\n",
       "\n",
       "    .dataframe tbody tr th {\n",
       "        vertical-align: top;\n",
       "    }\n",
       "\n",
       "    .dataframe thead th {\n",
       "        text-align: right;\n",
       "    }\n",
       "</style>\n",
       "<table border=\"1\" class=\"dataframe\">\n",
       "  <thead>\n",
       "    <tr style=\"text-align: right;\">\n",
       "      <th></th>\n",
       "      <th>count</th>\n",
       "      <th>mean</th>\n",
       "      <th>std</th>\n",
       "      <th>min</th>\n",
       "      <th>25%</th>\n",
       "      <th>50%</th>\n",
       "      <th>75%</th>\n",
       "      <th>max</th>\n",
       "    </tr>\n",
       "  </thead>\n",
       "  <tbody>\n",
       "    <tr>\n",
       "      <th>key</th>\n",
       "      <td>15907.0</td>\n",
       "      <td>1607.88087</td>\n",
       "      <td>942.212073</td>\n",
       "      <td>1.0</td>\n",
       "      <td>790.0</td>\n",
       "      <td>1618.0</td>\n",
       "      <td>2427.0</td>\n",
       "      <td>3241.0</td>\n",
       "    </tr>\n",
       "    <tr>\n",
       "      <th>Температура</th>\n",
       "      <td>13006.0</td>\n",
       "      <td>1591.84092</td>\n",
       "      <td>21.375851</td>\n",
       "      <td>1191.0</td>\n",
       "      <td>1581.0</td>\n",
       "      <td>1591.0</td>\n",
       "      <td>1601.0</td>\n",
       "      <td>1705.0</td>\n",
       "    </tr>\n",
       "  </tbody>\n",
       "</table>\n",
       "</div>\n",
       "      <button class=\"colab-df-convert\" onclick=\"convertToInteractive('df-3305df2d-d9d7-483e-82d6-4f57b9cc12e4')\"\n",
       "              title=\"Convert this dataframe to an interactive table.\"\n",
       "              style=\"display:none;\">\n",
       "        \n",
       "  <svg xmlns=\"http://www.w3.org/2000/svg\" height=\"24px\"viewBox=\"0 0 24 24\"\n",
       "       width=\"24px\">\n",
       "    <path d=\"M0 0h24v24H0V0z\" fill=\"none\"/>\n",
       "    <path d=\"M18.56 5.44l.94 2.06.94-2.06 2.06-.94-2.06-.94-.94-2.06-.94 2.06-2.06.94zm-11 1L8.5 8.5l.94-2.06 2.06-.94-2.06-.94L8.5 2.5l-.94 2.06-2.06.94zm10 10l.94 2.06.94-2.06 2.06-.94-2.06-.94-.94-2.06-.94 2.06-2.06.94z\"/><path d=\"M17.41 7.96l-1.37-1.37c-.4-.4-.92-.59-1.43-.59-.52 0-1.04.2-1.43.59L10.3 9.45l-7.72 7.72c-.78.78-.78 2.05 0 2.83L4 21.41c.39.39.9.59 1.41.59.51 0 1.02-.2 1.41-.59l7.78-7.78 2.81-2.81c.8-.78.8-2.07 0-2.86zM5.41 20L4 18.59l7.72-7.72 1.47 1.35L5.41 20z\"/>\n",
       "  </svg>\n",
       "      </button>\n",
       "      \n",
       "  <style>\n",
       "    .colab-df-container {\n",
       "      display:flex;\n",
       "      flex-wrap:wrap;\n",
       "      gap: 12px;\n",
       "    }\n",
       "\n",
       "    .colab-df-convert {\n",
       "      background-color: #E8F0FE;\n",
       "      border: none;\n",
       "      border-radius: 50%;\n",
       "      cursor: pointer;\n",
       "      display: none;\n",
       "      fill: #1967D2;\n",
       "      height: 32px;\n",
       "      padding: 0 0 0 0;\n",
       "      width: 32px;\n",
       "    }\n",
       "\n",
       "    .colab-df-convert:hover {\n",
       "      background-color: #E2EBFA;\n",
       "      box-shadow: 0px 1px 2px rgba(60, 64, 67, 0.3), 0px 1px 3px 1px rgba(60, 64, 67, 0.15);\n",
       "      fill: #174EA6;\n",
       "    }\n",
       "\n",
       "    [theme=dark] .colab-df-convert {\n",
       "      background-color: #3B4455;\n",
       "      fill: #D2E3FC;\n",
       "    }\n",
       "\n",
       "    [theme=dark] .colab-df-convert:hover {\n",
       "      background-color: #434B5C;\n",
       "      box-shadow: 0px 1px 3px 1px rgba(0, 0, 0, 0.15);\n",
       "      filter: drop-shadow(0px 1px 2px rgba(0, 0, 0, 0.3));\n",
       "      fill: #FFFFFF;\n",
       "    }\n",
       "  </style>\n",
       "\n",
       "      <script>\n",
       "        const buttonEl =\n",
       "          document.querySelector('#df-3305df2d-d9d7-483e-82d6-4f57b9cc12e4 button.colab-df-convert');\n",
       "        buttonEl.style.display =\n",
       "          google.colab.kernel.accessAllowed ? 'block' : 'none';\n",
       "\n",
       "        async function convertToInteractive(key) {\n",
       "          const element = document.querySelector('#df-3305df2d-d9d7-483e-82d6-4f57b9cc12e4');\n",
       "          const dataTable =\n",
       "            await google.colab.kernel.invokeFunction('convertToInteractive',\n",
       "                                                     [key], {});\n",
       "          if (!dataTable) return;\n",
       "\n",
       "          const docLinkHtml = 'Like what you see? Visit the ' +\n",
       "            '<a target=\"_blank\" href=https://colab.research.google.com/notebooks/data_table.ipynb>data table notebook</a>'\n",
       "            + ' to learn more about interactive tables.';\n",
       "          element.innerHTML = '';\n",
       "          dataTable['output_type'] = 'display_data';\n",
       "          await google.colab.output.renderOutput(dataTable, element);\n",
       "          const docLink = document.createElement('div');\n",
       "          docLink.innerHTML = docLinkHtml;\n",
       "          element.appendChild(docLink);\n",
       "        }\n",
       "      </script>\n",
       "    </div>\n",
       "  </div>\n",
       "  "
      ],
      "text/plain": [
       "               count        mean         std     min     25%     50%     75%  \\\n",
       "key          15907.0  1607.88087  942.212073     1.0   790.0  1618.0  2427.0   \n",
       "Температура  13006.0  1591.84092   21.375851  1191.0  1581.0  1591.0  1601.0   \n",
       "\n",
       "                max  \n",
       "key          3241.0  \n",
       "Температура  1705.0  "
      ]
     },
     "execution_count": 43,
     "metadata": {},
     "output_type": "execute_result"
    }
   ],
   "source": [
    "temp.describe().T"
   ]
  },
  {
   "cell_type": "markdown",
   "metadata": {
    "id": "s4VnhCrleE-G"
   },
   "source": [
    "Приведем временной параметр к типу `datetime`:"
   ]
  },
  {
   "cell_type": "code",
   "execution_count": 44,
   "metadata": {
    "id": "8uwsYJpH_7ia"
   },
   "outputs": [],
   "source": [
    "temp['Время замера'] = pd.to_datetime(temp['Время замера'], format='%Y-%m-%dT%H:%M:%S')"
   ]
  },
  {
   "cell_type": "markdown",
   "metadata": {
    "id": "YLDB0J9weIO4"
   },
   "source": [
    "Рассмотрим количество пропусков:"
   ]
  },
  {
   "cell_type": "code",
   "execution_count": 45,
   "metadata": {
    "colab": {
     "base_uri": "https://localhost:8080/",
     "height": 424
    },
    "id": "0R00xQvwAG8S",
    "outputId": "833ac7b5-340a-499d-f822-3696918a0ed7"
   },
   "outputs": [
    {
     "data": {
      "text/html": [
       "\n",
       "  <div id=\"df-284c31fc-1034-4765-a542-a9e7896084e8\">\n",
       "    <div class=\"colab-df-container\">\n",
       "      <div>\n",
       "<style scoped>\n",
       "    .dataframe tbody tr th:only-of-type {\n",
       "        vertical-align: middle;\n",
       "    }\n",
       "\n",
       "    .dataframe tbody tr th {\n",
       "        vertical-align: top;\n",
       "    }\n",
       "\n",
       "    .dataframe thead th {\n",
       "        text-align: right;\n",
       "    }\n",
       "</style>\n",
       "<table border=\"1\" class=\"dataframe\">\n",
       "  <thead>\n",
       "    <tr style=\"text-align: right;\">\n",
       "      <th></th>\n",
       "      <th>key</th>\n",
       "      <th>Время замера</th>\n",
       "      <th>Температура</th>\n",
       "    </tr>\n",
       "  </thead>\n",
       "  <tbody>\n",
       "    <tr>\n",
       "      <th>0</th>\n",
       "      <td>False</td>\n",
       "      <td>False</td>\n",
       "      <td>False</td>\n",
       "    </tr>\n",
       "    <tr>\n",
       "      <th>1</th>\n",
       "      <td>False</td>\n",
       "      <td>False</td>\n",
       "      <td>False</td>\n",
       "    </tr>\n",
       "    <tr>\n",
       "      <th>2</th>\n",
       "      <td>False</td>\n",
       "      <td>False</td>\n",
       "      <td>False</td>\n",
       "    </tr>\n",
       "    <tr>\n",
       "      <th>3</th>\n",
       "      <td>False</td>\n",
       "      <td>False</td>\n",
       "      <td>False</td>\n",
       "    </tr>\n",
       "    <tr>\n",
       "      <th>4</th>\n",
       "      <td>False</td>\n",
       "      <td>False</td>\n",
       "      <td>False</td>\n",
       "    </tr>\n",
       "    <tr>\n",
       "      <th>...</th>\n",
       "      <td>...</td>\n",
       "      <td>...</td>\n",
       "      <td>...</td>\n",
       "    </tr>\n",
       "    <tr>\n",
       "      <th>15902</th>\n",
       "      <td>False</td>\n",
       "      <td>False</td>\n",
       "      <td>False</td>\n",
       "    </tr>\n",
       "    <tr>\n",
       "      <th>15903</th>\n",
       "      <td>False</td>\n",
       "      <td>False</td>\n",
       "      <td>True</td>\n",
       "    </tr>\n",
       "    <tr>\n",
       "      <th>15904</th>\n",
       "      <td>False</td>\n",
       "      <td>False</td>\n",
       "      <td>True</td>\n",
       "    </tr>\n",
       "    <tr>\n",
       "      <th>15905</th>\n",
       "      <td>False</td>\n",
       "      <td>False</td>\n",
       "      <td>True</td>\n",
       "    </tr>\n",
       "    <tr>\n",
       "      <th>15906</th>\n",
       "      <td>False</td>\n",
       "      <td>False</td>\n",
       "      <td>True</td>\n",
       "    </tr>\n",
       "  </tbody>\n",
       "</table>\n",
       "<p>15907 rows × 3 columns</p>\n",
       "</div>\n",
       "      <button class=\"colab-df-convert\" onclick=\"convertToInteractive('df-284c31fc-1034-4765-a542-a9e7896084e8')\"\n",
       "              title=\"Convert this dataframe to an interactive table.\"\n",
       "              style=\"display:none;\">\n",
       "        \n",
       "  <svg xmlns=\"http://www.w3.org/2000/svg\" height=\"24px\"viewBox=\"0 0 24 24\"\n",
       "       width=\"24px\">\n",
       "    <path d=\"M0 0h24v24H0V0z\" fill=\"none\"/>\n",
       "    <path d=\"M18.56 5.44l.94 2.06.94-2.06 2.06-.94-2.06-.94-.94-2.06-.94 2.06-2.06.94zm-11 1L8.5 8.5l.94-2.06 2.06-.94-2.06-.94L8.5 2.5l-.94 2.06-2.06.94zm10 10l.94 2.06.94-2.06 2.06-.94-2.06-.94-.94-2.06-.94 2.06-2.06.94z\"/><path d=\"M17.41 7.96l-1.37-1.37c-.4-.4-.92-.59-1.43-.59-.52 0-1.04.2-1.43.59L10.3 9.45l-7.72 7.72c-.78.78-.78 2.05 0 2.83L4 21.41c.39.39.9.59 1.41.59.51 0 1.02-.2 1.41-.59l7.78-7.78 2.81-2.81c.8-.78.8-2.07 0-2.86zM5.41 20L4 18.59l7.72-7.72 1.47 1.35L5.41 20z\"/>\n",
       "  </svg>\n",
       "      </button>\n",
       "      \n",
       "  <style>\n",
       "    .colab-df-container {\n",
       "      display:flex;\n",
       "      flex-wrap:wrap;\n",
       "      gap: 12px;\n",
       "    }\n",
       "\n",
       "    .colab-df-convert {\n",
       "      background-color: #E8F0FE;\n",
       "      border: none;\n",
       "      border-radius: 50%;\n",
       "      cursor: pointer;\n",
       "      display: none;\n",
       "      fill: #1967D2;\n",
       "      height: 32px;\n",
       "      padding: 0 0 0 0;\n",
       "      width: 32px;\n",
       "    }\n",
       "\n",
       "    .colab-df-convert:hover {\n",
       "      background-color: #E2EBFA;\n",
       "      box-shadow: 0px 1px 2px rgba(60, 64, 67, 0.3), 0px 1px 3px 1px rgba(60, 64, 67, 0.15);\n",
       "      fill: #174EA6;\n",
       "    }\n",
       "\n",
       "    [theme=dark] .colab-df-convert {\n",
       "      background-color: #3B4455;\n",
       "      fill: #D2E3FC;\n",
       "    }\n",
       "\n",
       "    [theme=dark] .colab-df-convert:hover {\n",
       "      background-color: #434B5C;\n",
       "      box-shadow: 0px 1px 3px 1px rgba(0, 0, 0, 0.15);\n",
       "      filter: drop-shadow(0px 1px 2px rgba(0, 0, 0, 0.3));\n",
       "      fill: #FFFFFF;\n",
       "    }\n",
       "  </style>\n",
       "\n",
       "      <script>\n",
       "        const buttonEl =\n",
       "          document.querySelector('#df-284c31fc-1034-4765-a542-a9e7896084e8 button.colab-df-convert');\n",
       "        buttonEl.style.display =\n",
       "          google.colab.kernel.accessAllowed ? 'block' : 'none';\n",
       "\n",
       "        async function convertToInteractive(key) {\n",
       "          const element = document.querySelector('#df-284c31fc-1034-4765-a542-a9e7896084e8');\n",
       "          const dataTable =\n",
       "            await google.colab.kernel.invokeFunction('convertToInteractive',\n",
       "                                                     [key], {});\n",
       "          if (!dataTable) return;\n",
       "\n",
       "          const docLinkHtml = 'Like what you see? Visit the ' +\n",
       "            '<a target=\"_blank\" href=https://colab.research.google.com/notebooks/data_table.ipynb>data table notebook</a>'\n",
       "            + ' to learn more about interactive tables.';\n",
       "          element.innerHTML = '';\n",
       "          dataTable['output_type'] = 'display_data';\n",
       "          await google.colab.output.renderOutput(dataTable, element);\n",
       "          const docLink = document.createElement('div');\n",
       "          docLink.innerHTML = docLinkHtml;\n",
       "          element.appendChild(docLink);\n",
       "        }\n",
       "      </script>\n",
       "    </div>\n",
       "  </div>\n",
       "  "
      ],
      "text/plain": [
       "         key  Время замера  Температура\n",
       "0      False         False        False\n",
       "1      False         False        False\n",
       "2      False         False        False\n",
       "3      False         False        False\n",
       "4      False         False        False\n",
       "...      ...           ...          ...\n",
       "15902  False         False        False\n",
       "15903  False         False         True\n",
       "15904  False         False         True\n",
       "15905  False         False         True\n",
       "15906  False         False         True\n",
       "\n",
       "[15907 rows x 3 columns]"
      ]
     },
     "execution_count": 45,
     "metadata": {},
     "output_type": "execute_result"
    }
   ],
   "source": [
    "temp.isna()"
   ]
  },
  {
   "cell_type": "markdown",
   "metadata": {
    "id": "9AJe9-cRemNZ"
   },
   "source": [
    "Удалим пропуски:"
   ]
  },
  {
   "cell_type": "code",
   "execution_count": 46,
   "metadata": {
    "id": "fmFD8Z2gBQzy"
   },
   "outputs": [],
   "source": [
    "temp = temp.dropna()"
   ]
  },
  {
   "cell_type": "markdown",
   "metadata": {
    "id": "tgRLpiIretEK"
   },
   "source": [
    "Создадим срез, содержащий начальное и конечное значение температуры:"
   ]
  },
  {
   "cell_type": "code",
   "execution_count": 47,
   "metadata": {
    "id": "lK8MnSfDBUDc"
   },
   "outputs": [],
   "source": [
    "temp_times = temp.groupby('key')['Время замера'].agg(['min', 'max'])\n",
    "temp_times.columns = ['min_time', 'max_time']"
   ]
  },
  {
   "cell_type": "code",
   "execution_count": 48,
   "metadata": {
    "colab": {
     "base_uri": "https://localhost:8080/",
     "height": 455
    },
    "id": "2LBxoJzyBtxs",
    "outputId": "2872f3d6-7b5e-4e28-facf-761a113bb874"
   },
   "outputs": [
    {
     "data": {
      "text/html": [
       "\n",
       "  <div id=\"df-3117e741-532e-44a3-a1e6-cb55cd8c475e\">\n",
       "    <div class=\"colab-df-container\">\n",
       "      <div>\n",
       "<style scoped>\n",
       "    .dataframe tbody tr th:only-of-type {\n",
       "        vertical-align: middle;\n",
       "    }\n",
       "\n",
       "    .dataframe tbody tr th {\n",
       "        vertical-align: top;\n",
       "    }\n",
       "\n",
       "    .dataframe thead th {\n",
       "        text-align: right;\n",
       "    }\n",
       "</style>\n",
       "<table border=\"1\" class=\"dataframe\">\n",
       "  <thead>\n",
       "    <tr style=\"text-align: right;\">\n",
       "      <th></th>\n",
       "      <th>min_time</th>\n",
       "      <th>max_time</th>\n",
       "    </tr>\n",
       "    <tr>\n",
       "      <th>key</th>\n",
       "      <th></th>\n",
       "      <th></th>\n",
       "    </tr>\n",
       "  </thead>\n",
       "  <tbody>\n",
       "    <tr>\n",
       "      <th>1</th>\n",
       "      <td>2019-05-03 11:16:18</td>\n",
       "      <td>2019-05-03 11:30:39</td>\n",
       "    </tr>\n",
       "    <tr>\n",
       "      <th>2</th>\n",
       "      <td>2019-05-03 11:37:27</td>\n",
       "      <td>2019-05-03 11:59:12</td>\n",
       "    </tr>\n",
       "    <tr>\n",
       "      <th>3</th>\n",
       "      <td>2019-05-03 12:13:17</td>\n",
       "      <td>2019-05-03 12:34:57</td>\n",
       "    </tr>\n",
       "    <tr>\n",
       "      <th>4</th>\n",
       "      <td>2019-05-03 12:52:57</td>\n",
       "      <td>2019-05-03 12:59:25</td>\n",
       "    </tr>\n",
       "    <tr>\n",
       "      <th>5</th>\n",
       "      <td>2019-05-03 13:23:19</td>\n",
       "      <td>2019-05-03 13:36:01</td>\n",
       "    </tr>\n",
       "    <tr>\n",
       "      <th>...</th>\n",
       "      <td>...</td>\n",
       "      <td>...</td>\n",
       "    </tr>\n",
       "    <tr>\n",
       "      <th>3237</th>\n",
       "      <td>2019-08-31 22:44:04</td>\n",
       "      <td>2019-08-31 22:44:04</td>\n",
       "    </tr>\n",
       "    <tr>\n",
       "      <th>3238</th>\n",
       "      <td>2019-08-31 23:30:31</td>\n",
       "      <td>2019-08-31 23:30:31</td>\n",
       "    </tr>\n",
       "    <tr>\n",
       "      <th>3239</th>\n",
       "      <td>2019-09-01 01:31:47</td>\n",
       "      <td>2019-09-01 01:31:47</td>\n",
       "    </tr>\n",
       "    <tr>\n",
       "      <th>3240</th>\n",
       "      <td>2019-09-01 02:39:01</td>\n",
       "      <td>2019-09-01 02:39:01</td>\n",
       "    </tr>\n",
       "    <tr>\n",
       "      <th>3241</th>\n",
       "      <td>2019-09-01 04:03:30</td>\n",
       "      <td>2019-09-01 04:03:30</td>\n",
       "    </tr>\n",
       "  </tbody>\n",
       "</table>\n",
       "<p>3216 rows × 2 columns</p>\n",
       "</div>\n",
       "      <button class=\"colab-df-convert\" onclick=\"convertToInteractive('df-3117e741-532e-44a3-a1e6-cb55cd8c475e')\"\n",
       "              title=\"Convert this dataframe to an interactive table.\"\n",
       "              style=\"display:none;\">\n",
       "        \n",
       "  <svg xmlns=\"http://www.w3.org/2000/svg\" height=\"24px\"viewBox=\"0 0 24 24\"\n",
       "       width=\"24px\">\n",
       "    <path d=\"M0 0h24v24H0V0z\" fill=\"none\"/>\n",
       "    <path d=\"M18.56 5.44l.94 2.06.94-2.06 2.06-.94-2.06-.94-.94-2.06-.94 2.06-2.06.94zm-11 1L8.5 8.5l.94-2.06 2.06-.94-2.06-.94L8.5 2.5l-.94 2.06-2.06.94zm10 10l.94 2.06.94-2.06 2.06-.94-2.06-.94-.94-2.06-.94 2.06-2.06.94z\"/><path d=\"M17.41 7.96l-1.37-1.37c-.4-.4-.92-.59-1.43-.59-.52 0-1.04.2-1.43.59L10.3 9.45l-7.72 7.72c-.78.78-.78 2.05 0 2.83L4 21.41c.39.39.9.59 1.41.59.51 0 1.02-.2 1.41-.59l7.78-7.78 2.81-2.81c.8-.78.8-2.07 0-2.86zM5.41 20L4 18.59l7.72-7.72 1.47 1.35L5.41 20z\"/>\n",
       "  </svg>\n",
       "      </button>\n",
       "      \n",
       "  <style>\n",
       "    .colab-df-container {\n",
       "      display:flex;\n",
       "      flex-wrap:wrap;\n",
       "      gap: 12px;\n",
       "    }\n",
       "\n",
       "    .colab-df-convert {\n",
       "      background-color: #E8F0FE;\n",
       "      border: none;\n",
       "      border-radius: 50%;\n",
       "      cursor: pointer;\n",
       "      display: none;\n",
       "      fill: #1967D2;\n",
       "      height: 32px;\n",
       "      padding: 0 0 0 0;\n",
       "      width: 32px;\n",
       "    }\n",
       "\n",
       "    .colab-df-convert:hover {\n",
       "      background-color: #E2EBFA;\n",
       "      box-shadow: 0px 1px 2px rgba(60, 64, 67, 0.3), 0px 1px 3px 1px rgba(60, 64, 67, 0.15);\n",
       "      fill: #174EA6;\n",
       "    }\n",
       "\n",
       "    [theme=dark] .colab-df-convert {\n",
       "      background-color: #3B4455;\n",
       "      fill: #D2E3FC;\n",
       "    }\n",
       "\n",
       "    [theme=dark] .colab-df-convert:hover {\n",
       "      background-color: #434B5C;\n",
       "      box-shadow: 0px 1px 3px 1px rgba(0, 0, 0, 0.15);\n",
       "      filter: drop-shadow(0px 1px 2px rgba(0, 0, 0, 0.3));\n",
       "      fill: #FFFFFF;\n",
       "    }\n",
       "  </style>\n",
       "\n",
       "      <script>\n",
       "        const buttonEl =\n",
       "          document.querySelector('#df-3117e741-532e-44a3-a1e6-cb55cd8c475e button.colab-df-convert');\n",
       "        buttonEl.style.display =\n",
       "          google.colab.kernel.accessAllowed ? 'block' : 'none';\n",
       "\n",
       "        async function convertToInteractive(key) {\n",
       "          const element = document.querySelector('#df-3117e741-532e-44a3-a1e6-cb55cd8c475e');\n",
       "          const dataTable =\n",
       "            await google.colab.kernel.invokeFunction('convertToInteractive',\n",
       "                                                     [key], {});\n",
       "          if (!dataTable) return;\n",
       "\n",
       "          const docLinkHtml = 'Like what you see? Visit the ' +\n",
       "            '<a target=\"_blank\" href=https://colab.research.google.com/notebooks/data_table.ipynb>data table notebook</a>'\n",
       "            + ' to learn more about interactive tables.';\n",
       "          element.innerHTML = '';\n",
       "          dataTable['output_type'] = 'display_data';\n",
       "          await google.colab.output.renderOutput(dataTable, element);\n",
       "          const docLink = document.createElement('div');\n",
       "          docLink.innerHTML = docLinkHtml;\n",
       "          element.appendChild(docLink);\n",
       "        }\n",
       "      </script>\n",
       "    </div>\n",
       "  </div>\n",
       "  "
      ],
      "text/plain": [
       "                min_time            max_time\n",
       "key                                         \n",
       "1    2019-05-03 11:16:18 2019-05-03 11:30:39\n",
       "2    2019-05-03 11:37:27 2019-05-03 11:59:12\n",
       "3    2019-05-03 12:13:17 2019-05-03 12:34:57\n",
       "4    2019-05-03 12:52:57 2019-05-03 12:59:25\n",
       "5    2019-05-03 13:23:19 2019-05-03 13:36:01\n",
       "...                  ...                 ...\n",
       "3237 2019-08-31 22:44:04 2019-08-31 22:44:04\n",
       "3238 2019-08-31 23:30:31 2019-08-31 23:30:31\n",
       "3239 2019-09-01 01:31:47 2019-09-01 01:31:47\n",
       "3240 2019-09-01 02:39:01 2019-09-01 02:39:01\n",
       "3241 2019-09-01 04:03:30 2019-09-01 04:03:30\n",
       "\n",
       "[3216 rows x 2 columns]"
      ]
     },
     "execution_count": 48,
     "metadata": {},
     "output_type": "execute_result"
    }
   ],
   "source": [
    "temp_times"
   ]
  },
  {
   "cell_type": "markdown",
   "metadata": {
    "id": "167k0e4le7q-"
   },
   "source": [
    "На основе полученных данных создадим датафрейм, содержащий начальные и конечные показатели температуры:"
   ]
  },
  {
   "cell_type": "code",
   "execution_count": 49,
   "metadata": {
    "id": "zXDYsMU5COuA"
   },
   "outputs": [],
   "source": [
    "start_temp = temp[temp['Время замера'].isin(temp_times['min_time'])].drop('Время замера', axis=1)\n",
    "stop_temp = temp[temp['Время замера'].isin(temp_times['max_time'])].drop('Время замера', axis=1)"
   ]
  },
  {
   "cell_type": "code",
   "execution_count": 50,
   "metadata": {
    "id": "lR_bHvZgD8TR"
   },
   "outputs": [],
   "source": [
    "final_temp = start_temp.merge(stop_temp, how='inner', on='key')\n",
    "final_temp.columns = ['key', 'start_temp', 'final_temp']"
   ]
  },
  {
   "cell_type": "code",
   "execution_count": 51,
   "metadata": {
    "colab": {
     "base_uri": "https://localhost:8080/",
     "height": 424
    },
    "id": "aJoUzJXsEHzw",
    "outputId": "b12cbfdf-8ae8-44d6-dfd4-7db38e243255"
   },
   "outputs": [
    {
     "data": {
      "text/html": [
       "\n",
       "  <div id=\"df-c178f1bc-6281-4123-be11-a5369997801f\">\n",
       "    <div class=\"colab-df-container\">\n",
       "      <div>\n",
       "<style scoped>\n",
       "    .dataframe tbody tr th:only-of-type {\n",
       "        vertical-align: middle;\n",
       "    }\n",
       "\n",
       "    .dataframe tbody tr th {\n",
       "        vertical-align: top;\n",
       "    }\n",
       "\n",
       "    .dataframe thead th {\n",
       "        text-align: right;\n",
       "    }\n",
       "</style>\n",
       "<table border=\"1\" class=\"dataframe\">\n",
       "  <thead>\n",
       "    <tr style=\"text-align: right;\">\n",
       "      <th></th>\n",
       "      <th>key</th>\n",
       "      <th>start_temp</th>\n",
       "      <th>final_temp</th>\n",
       "    </tr>\n",
       "  </thead>\n",
       "  <tbody>\n",
       "    <tr>\n",
       "      <th>0</th>\n",
       "      <td>1</td>\n",
       "      <td>1571.0</td>\n",
       "      <td>1613.0</td>\n",
       "    </tr>\n",
       "    <tr>\n",
       "      <th>1</th>\n",
       "      <td>2</td>\n",
       "      <td>1581.0</td>\n",
       "      <td>1602.0</td>\n",
       "    </tr>\n",
       "    <tr>\n",
       "      <th>2</th>\n",
       "      <td>3</td>\n",
       "      <td>1596.0</td>\n",
       "      <td>1599.0</td>\n",
       "    </tr>\n",
       "    <tr>\n",
       "      <th>3</th>\n",
       "      <td>4</td>\n",
       "      <td>1601.0</td>\n",
       "      <td>1625.0</td>\n",
       "    </tr>\n",
       "    <tr>\n",
       "      <th>4</th>\n",
       "      <td>5</td>\n",
       "      <td>1576.0</td>\n",
       "      <td>1602.0</td>\n",
       "    </tr>\n",
       "    <tr>\n",
       "      <th>...</th>\n",
       "      <td>...</td>\n",
       "      <td>...</td>\n",
       "      <td>...</td>\n",
       "    </tr>\n",
       "    <tr>\n",
       "      <th>3211</th>\n",
       "      <td>3237</td>\n",
       "      <td>1569.0</td>\n",
       "      <td>1569.0</td>\n",
       "    </tr>\n",
       "    <tr>\n",
       "      <th>3212</th>\n",
       "      <td>3238</td>\n",
       "      <td>1584.0</td>\n",
       "      <td>1584.0</td>\n",
       "    </tr>\n",
       "    <tr>\n",
       "      <th>3213</th>\n",
       "      <td>3239</td>\n",
       "      <td>1598.0</td>\n",
       "      <td>1598.0</td>\n",
       "    </tr>\n",
       "    <tr>\n",
       "      <th>3214</th>\n",
       "      <td>3240</td>\n",
       "      <td>1617.0</td>\n",
       "      <td>1617.0</td>\n",
       "    </tr>\n",
       "    <tr>\n",
       "      <th>3215</th>\n",
       "      <td>3241</td>\n",
       "      <td>1586.0</td>\n",
       "      <td>1586.0</td>\n",
       "    </tr>\n",
       "  </tbody>\n",
       "</table>\n",
       "<p>3216 rows × 3 columns</p>\n",
       "</div>\n",
       "      <button class=\"colab-df-convert\" onclick=\"convertToInteractive('df-c178f1bc-6281-4123-be11-a5369997801f')\"\n",
       "              title=\"Convert this dataframe to an interactive table.\"\n",
       "              style=\"display:none;\">\n",
       "        \n",
       "  <svg xmlns=\"http://www.w3.org/2000/svg\" height=\"24px\"viewBox=\"0 0 24 24\"\n",
       "       width=\"24px\">\n",
       "    <path d=\"M0 0h24v24H0V0z\" fill=\"none\"/>\n",
       "    <path d=\"M18.56 5.44l.94 2.06.94-2.06 2.06-.94-2.06-.94-.94-2.06-.94 2.06-2.06.94zm-11 1L8.5 8.5l.94-2.06 2.06-.94-2.06-.94L8.5 2.5l-.94 2.06-2.06.94zm10 10l.94 2.06.94-2.06 2.06-.94-2.06-.94-.94-2.06-.94 2.06-2.06.94z\"/><path d=\"M17.41 7.96l-1.37-1.37c-.4-.4-.92-.59-1.43-.59-.52 0-1.04.2-1.43.59L10.3 9.45l-7.72 7.72c-.78.78-.78 2.05 0 2.83L4 21.41c.39.39.9.59 1.41.59.51 0 1.02-.2 1.41-.59l7.78-7.78 2.81-2.81c.8-.78.8-2.07 0-2.86zM5.41 20L4 18.59l7.72-7.72 1.47 1.35L5.41 20z\"/>\n",
       "  </svg>\n",
       "      </button>\n",
       "      \n",
       "  <style>\n",
       "    .colab-df-container {\n",
       "      display:flex;\n",
       "      flex-wrap:wrap;\n",
       "      gap: 12px;\n",
       "    }\n",
       "\n",
       "    .colab-df-convert {\n",
       "      background-color: #E8F0FE;\n",
       "      border: none;\n",
       "      border-radius: 50%;\n",
       "      cursor: pointer;\n",
       "      display: none;\n",
       "      fill: #1967D2;\n",
       "      height: 32px;\n",
       "      padding: 0 0 0 0;\n",
       "      width: 32px;\n",
       "    }\n",
       "\n",
       "    .colab-df-convert:hover {\n",
       "      background-color: #E2EBFA;\n",
       "      box-shadow: 0px 1px 2px rgba(60, 64, 67, 0.3), 0px 1px 3px 1px rgba(60, 64, 67, 0.15);\n",
       "      fill: #174EA6;\n",
       "    }\n",
       "\n",
       "    [theme=dark] .colab-df-convert {\n",
       "      background-color: #3B4455;\n",
       "      fill: #D2E3FC;\n",
       "    }\n",
       "\n",
       "    [theme=dark] .colab-df-convert:hover {\n",
       "      background-color: #434B5C;\n",
       "      box-shadow: 0px 1px 3px 1px rgba(0, 0, 0, 0.15);\n",
       "      filter: drop-shadow(0px 1px 2px rgba(0, 0, 0, 0.3));\n",
       "      fill: #FFFFFF;\n",
       "    }\n",
       "  </style>\n",
       "\n",
       "      <script>\n",
       "        const buttonEl =\n",
       "          document.querySelector('#df-c178f1bc-6281-4123-be11-a5369997801f button.colab-df-convert');\n",
       "        buttonEl.style.display =\n",
       "          google.colab.kernel.accessAllowed ? 'block' : 'none';\n",
       "\n",
       "        async function convertToInteractive(key) {\n",
       "          const element = document.querySelector('#df-c178f1bc-6281-4123-be11-a5369997801f');\n",
       "          const dataTable =\n",
       "            await google.colab.kernel.invokeFunction('convertToInteractive',\n",
       "                                                     [key], {});\n",
       "          if (!dataTable) return;\n",
       "\n",
       "          const docLinkHtml = 'Like what you see? Visit the ' +\n",
       "            '<a target=\"_blank\" href=https://colab.research.google.com/notebooks/data_table.ipynb>data table notebook</a>'\n",
       "            + ' to learn more about interactive tables.';\n",
       "          element.innerHTML = '';\n",
       "          dataTable['output_type'] = 'display_data';\n",
       "          await google.colab.output.renderOutput(dataTable, element);\n",
       "          const docLink = document.createElement('div');\n",
       "          docLink.innerHTML = docLinkHtml;\n",
       "          element.appendChild(docLink);\n",
       "        }\n",
       "      </script>\n",
       "    </div>\n",
       "  </div>\n",
       "  "
      ],
      "text/plain": [
       "       key  start_temp  final_temp\n",
       "0        1      1571.0      1613.0\n",
       "1        2      1581.0      1602.0\n",
       "2        3      1596.0      1599.0\n",
       "3        4      1601.0      1625.0\n",
       "4        5      1576.0      1602.0\n",
       "...    ...         ...         ...\n",
       "3211  3237      1569.0      1569.0\n",
       "3212  3238      1584.0      1584.0\n",
       "3213  3239      1598.0      1598.0\n",
       "3214  3240      1617.0      1617.0\n",
       "3215  3241      1586.0      1586.0\n",
       "\n",
       "[3216 rows x 3 columns]"
      ]
     },
     "execution_count": 51,
     "metadata": {},
     "output_type": "execute_result"
    }
   ],
   "source": [
    "final_temp"
   ]
  },
  {
   "cell_type": "markdown",
   "metadata": {
    "id": "OPf3l4CqhbxS"
   },
   "source": [
    "Заметим, что в последние строки содержат одинаковые значения - следовательно, нагрева не происходит и некоторые данные пропущены. Избавимся от таких данных:"
   ]
  },
  {
   "cell_type": "code",
   "execution_count": 52,
   "metadata": {
    "id": "AUUUQUkfhsNM"
   },
   "outputs": [],
   "source": [
    "final_temp = final_temp.query('start_temp != final_temp')"
   ]
  },
  {
   "cell_type": "markdown",
   "metadata": {
    "id": "YDDPq14ziSCy"
   },
   "source": [
    "Посмотрим на распределение:"
   ]
  },
  {
   "cell_type": "code",
   "execution_count": 53,
   "metadata": {
    "colab": {
     "base_uri": "https://localhost:8080/",
     "height": 394
    },
    "id": "wzLOIqJWE68a",
    "outputId": "860dfb0f-3295-43f4-e056-3b59d7b25192"
   },
   "outputs": [
    {
     "data": {
      "text/plain": [
       "<matplotlib.axes._subplots.AxesSubplot at 0x7fcf520f4150>"
      ]
     },
     "execution_count": 53,
     "metadata": {},
     "output_type": "execute_result"
    },
    {
     "data": {
      "image/png": "[encoded data removed]",
      "text/plain": [
       "<Figure size 720x432 with 1 Axes>"
      ]
     },
     "metadata": {},
     "output_type": "display_data"
    }
   ],
   "source": [
    "sns.histplot(final_temp[['start_temp', 'final_temp']])"
   ]
  },
  {
   "cell_type": "markdown",
   "metadata": {
    "id": "8R1PJtkBiVIr"
   },
   "source": [
    "Как и в случае с показателями газа распределение нормальное, значительные выбросы отсутствуют."
   ]
  },
  {
   "cell_type": "markdown",
   "metadata": {
    "id": "OEVIrBJgEoGh"
   },
   "source": [
    "### Данные о проволочных материалах"
   ]
  },
  {
   "cell_type": "markdown",
   "metadata": {
    "id": "KC2AJOTsieFY"
   },
   "source": [
    "Структура данных в таблицах `wire` и `wire_time` абсолютно такая же, как и в таблицах `bulk` и `bulk_time` - следовательно, произведем над данными таблицами аналогичные операции."
   ]
  },
  {
   "cell_type": "code",
   "execution_count": 54,
   "metadata": {
    "colab": {
     "base_uri": "https://localhost:8080/",
     "height": 206
    },
    "id": "d5qw8LZgzxho",
    "outputId": "e92be8b8-ca4f-431c-a077-90813447de76"
   },
   "outputs": [
    {
     "data": {
      "text/html": [
       "\n",
       "  <div id=\"df-83c28ee2-32a2-4cb5-8552-b0442434240a\">\n",
       "    <div class=\"colab-df-container\">\n",
       "      <div>\n",
       "<style scoped>\n",
       "    .dataframe tbody tr th:only-of-type {\n",
       "        vertical-align: middle;\n",
       "    }\n",
       "\n",
       "    .dataframe tbody tr th {\n",
       "        vertical-align: top;\n",
       "    }\n",
       "\n",
       "    .dataframe thead th {\n",
       "        text-align: right;\n",
       "    }\n",
       "</style>\n",
       "<table border=\"1\" class=\"dataframe\">\n",
       "  <thead>\n",
       "    <tr style=\"text-align: right;\">\n",
       "      <th></th>\n",
       "      <th>key</th>\n",
       "      <th>Wire 1</th>\n",
       "      <th>Wire 2</th>\n",
       "      <th>Wire 3</th>\n",
       "      <th>Wire 4</th>\n",
       "      <th>Wire 5</th>\n",
       "      <th>Wire 6</th>\n",
       "      <th>Wire 7</th>\n",
       "      <th>Wire 8</th>\n",
       "      <th>Wire 9</th>\n",
       "    </tr>\n",
       "  </thead>\n",
       "  <tbody>\n",
       "    <tr>\n",
       "      <th>0</th>\n",
       "      <td>1</td>\n",
       "      <td>60.059998</td>\n",
       "      <td>NaN</td>\n",
       "      <td>NaN</td>\n",
       "      <td>NaN</td>\n",
       "      <td>NaN</td>\n",
       "      <td>NaN</td>\n",
       "      <td>NaN</td>\n",
       "      <td>NaN</td>\n",
       "      <td>NaN</td>\n",
       "    </tr>\n",
       "    <tr>\n",
       "      <th>1</th>\n",
       "      <td>2</td>\n",
       "      <td>96.052315</td>\n",
       "      <td>NaN</td>\n",
       "      <td>NaN</td>\n",
       "      <td>NaN</td>\n",
       "      <td>NaN</td>\n",
       "      <td>NaN</td>\n",
       "      <td>NaN</td>\n",
       "      <td>NaN</td>\n",
       "      <td>NaN</td>\n",
       "    </tr>\n",
       "    <tr>\n",
       "      <th>2</th>\n",
       "      <td>3</td>\n",
       "      <td>91.160157</td>\n",
       "      <td>NaN</td>\n",
       "      <td>NaN</td>\n",
       "      <td>NaN</td>\n",
       "      <td>NaN</td>\n",
       "      <td>NaN</td>\n",
       "      <td>NaN</td>\n",
       "      <td>NaN</td>\n",
       "      <td>NaN</td>\n",
       "    </tr>\n",
       "    <tr>\n",
       "      <th>3</th>\n",
       "      <td>4</td>\n",
       "      <td>89.063515</td>\n",
       "      <td>NaN</td>\n",
       "      <td>NaN</td>\n",
       "      <td>NaN</td>\n",
       "      <td>NaN</td>\n",
       "      <td>NaN</td>\n",
       "      <td>NaN</td>\n",
       "      <td>NaN</td>\n",
       "      <td>NaN</td>\n",
       "    </tr>\n",
       "    <tr>\n",
       "      <th>4</th>\n",
       "      <td>5</td>\n",
       "      <td>89.238236</td>\n",
       "      <td>9.11456</td>\n",
       "      <td>NaN</td>\n",
       "      <td>NaN</td>\n",
       "      <td>NaN</td>\n",
       "      <td>NaN</td>\n",
       "      <td>NaN</td>\n",
       "      <td>NaN</td>\n",
       "      <td>NaN</td>\n",
       "    </tr>\n",
       "  </tbody>\n",
       "</table>\n",
       "</div>\n",
       "      <button class=\"colab-df-convert\" onclick=\"convertToInteractive('df-83c28ee2-32a2-4cb5-8552-b0442434240a')\"\n",
       "              title=\"Convert this dataframe to an interactive table.\"\n",
       "              style=\"display:none;\">\n",
       "        \n",
       "  <svg xmlns=\"http://www.w3.org/2000/svg\" height=\"24px\"viewBox=\"0 0 24 24\"\n",
       "       width=\"24px\">\n",
       "    <path d=\"M0 0h24v24H0V0z\" fill=\"none\"/>\n",
       "    <path d=\"M18.56 5.44l.94 2.06.94-2.06 2.06-.94-2.06-.94-.94-2.06-.94 2.06-2.06.94zm-11 1L8.5 8.5l.94-2.06 2.06-.94-2.06-.94L8.5 2.5l-.94 2.06-2.06.94zm10 10l.94 2.06.94-2.06 2.06-.94-2.06-.94-.94-2.06-.94 2.06-2.06.94z\"/><path d=\"M17.41 7.96l-1.37-1.37c-.4-.4-.92-.59-1.43-.59-.52 0-1.04.2-1.43.59L10.3 9.45l-7.72 7.72c-.78.78-.78 2.05 0 2.83L4 21.41c.39.39.9.59 1.41.59.51 0 1.02-.2 1.41-.59l7.78-7.78 2.81-2.81c.8-.78.8-2.07 0-2.86zM5.41 20L4 18.59l7.72-7.72 1.47 1.35L5.41 20z\"/>\n",
       "  </svg>\n",
       "      </button>\n",
       "      \n",
       "  <style>\n",
       "    .colab-df-container {\n",
       "      display:flex;\n",
       "      flex-wrap:wrap;\n",
       "      gap: 12px;\n",
       "    }\n",
       "\n",
       "    .colab-df-convert {\n",
       "      background-color: #E8F0FE;\n",
       "      border: none;\n",
       "      border-radius: 50%;\n",
       "      cursor: pointer;\n",
       "      display: none;\n",
       "      fill: #1967D2;\n",
       "      height: 32px;\n",
       "      padding: 0 0 0 0;\n",
       "      width: 32px;\n",
       "    }\n",
       "\n",
       "    .colab-df-convert:hover {\n",
       "      background-color: #E2EBFA;\n",
       "      box-shadow: 0px 1px 2px rgba(60, 64, 67, 0.3), 0px 1px 3px 1px rgba(60, 64, 67, 0.15);\n",
       "      fill: #174EA6;\n",
       "    }\n",
       "\n",
       "    [theme=dark] .colab-df-convert {\n",
       "      background-color: #3B4455;\n",
       "      fill: #D2E3FC;\n",
       "    }\n",
       "\n",
       "    [theme=dark] .colab-df-convert:hover {\n",
       "      background-color: #434B5C;\n",
       "      box-shadow: 0px 1px 3px 1px rgba(0, 0, 0, 0.15);\n",
       "      filter: drop-shadow(0px 1px 2px rgba(0, 0, 0, 0.3));\n",
       "      fill: #FFFFFF;\n",
       "    }\n",
       "  </style>\n",
       "\n",
       "      <script>\n",
       "        const buttonEl =\n",
       "          document.querySelector('#df-83c28ee2-32a2-4cb5-8552-b0442434240a button.colab-df-convert');\n",
       "        buttonEl.style.display =\n",
       "          google.colab.kernel.accessAllowed ? 'block' : 'none';\n",
       "\n",
       "        async function convertToInteractive(key) {\n",
       "          const element = document.querySelector('#df-83c28ee2-32a2-4cb5-8552-b0442434240a');\n",
       "          const dataTable =\n",
       "            await google.colab.kernel.invokeFunction('convertToInteractive',\n",
       "                                                     [key], {});\n",
       "          if (!dataTable) return;\n",
       "\n",
       "          const docLinkHtml = 'Like what you see? Visit the ' +\n",
       "            '<a target=\"_blank\" href=https://colab.research.google.com/notebooks/data_table.ipynb>data table notebook</a>'\n",
       "            + ' to learn more about interactive tables.';\n",
       "          element.innerHTML = '';\n",
       "          dataTable['output_type'] = 'display_data';\n",
       "          await google.colab.output.renderOutput(dataTable, element);\n",
       "          const docLink = document.createElement('div');\n",
       "          docLink.innerHTML = docLinkHtml;\n",
       "          element.appendChild(docLink);\n",
       "        }\n",
       "      </script>\n",
       "    </div>\n",
       "  </div>\n",
       "  "
      ],
      "text/plain": [
       "   key     Wire 1   Wire 2  Wire 3  Wire 4  Wire 5  Wire 6  Wire 7  Wire 8  \\\n",
       "0    1  60.059998      NaN     NaN     NaN     NaN     NaN     NaN     NaN   \n",
       "1    2  96.052315      NaN     NaN     NaN     NaN     NaN     NaN     NaN   \n",
       "2    3  91.160157      NaN     NaN     NaN     NaN     NaN     NaN     NaN   \n",
       "3    4  89.063515      NaN     NaN     NaN     NaN     NaN     NaN     NaN   \n",
       "4    5  89.238236  9.11456     NaN     NaN     NaN     NaN     NaN     NaN   \n",
       "\n",
       "   Wire 9  \n",
       "0     NaN  \n",
       "1     NaN  \n",
       "2     NaN  \n",
       "3     NaN  \n",
       "4     NaN  "
      ]
     },
     "execution_count": 54,
     "metadata": {},
     "output_type": "execute_result"
    }
   ],
   "source": [
    "wire.head()"
   ]
  },
  {
   "cell_type": "code",
   "execution_count": 55,
   "metadata": {
    "colab": {
     "base_uri": "https://localhost:8080/",
     "height": 206
    },
    "id": "WxBSoL7ZzusA",
    "outputId": "a90e9222-0519-4140-9ca8-0b98266512c2"
   },
   "outputs": [
    {
     "data": {
      "text/html": [
       "\n",
       "  <div id=\"df-7fb71824-c4c3-41bd-89ea-0938253099f8\">\n",
       "    <div class=\"colab-df-container\">\n",
       "      <div>\n",
       "<style scoped>\n",
       "    .dataframe tbody tr th:only-of-type {\n",
       "        vertical-align: middle;\n",
       "    }\n",
       "\n",
       "    .dataframe tbody tr th {\n",
       "        vertical-align: top;\n",
       "    }\n",
       "\n",
       "    .dataframe thead th {\n",
       "        text-align: right;\n",
       "    }\n",
       "</style>\n",
       "<table border=\"1\" class=\"dataframe\">\n",
       "  <thead>\n",
       "    <tr style=\"text-align: right;\">\n",
       "      <th></th>\n",
       "      <th>key</th>\n",
       "      <th>Wire 1</th>\n",
       "      <th>Wire 2</th>\n",
       "      <th>Wire 3</th>\n",
       "      <th>Wire 4</th>\n",
       "      <th>Wire 5</th>\n",
       "      <th>Wire 6</th>\n",
       "      <th>Wire 7</th>\n",
       "      <th>Wire 8</th>\n",
       "      <th>Wire 9</th>\n",
       "    </tr>\n",
       "  </thead>\n",
       "  <tbody>\n",
       "    <tr>\n",
       "      <th>0</th>\n",
       "      <td>1</td>\n",
       "      <td>2019-05-03 11:11:41</td>\n",
       "      <td>NaN</td>\n",
       "      <td>NaN</td>\n",
       "      <td>NaN</td>\n",
       "      <td>NaN</td>\n",
       "      <td>NaN</td>\n",
       "      <td>NaN</td>\n",
       "      <td>NaN</td>\n",
       "      <td>NaN</td>\n",
       "    </tr>\n",
       "    <tr>\n",
       "      <th>1</th>\n",
       "      <td>2</td>\n",
       "      <td>2019-05-03 11:46:10</td>\n",
       "      <td>NaN</td>\n",
       "      <td>NaN</td>\n",
       "      <td>NaN</td>\n",
       "      <td>NaN</td>\n",
       "      <td>NaN</td>\n",
       "      <td>NaN</td>\n",
       "      <td>NaN</td>\n",
       "      <td>NaN</td>\n",
       "    </tr>\n",
       "    <tr>\n",
       "      <th>2</th>\n",
       "      <td>3</td>\n",
       "      <td>2019-05-03 12:13:47</td>\n",
       "      <td>NaN</td>\n",
       "      <td>NaN</td>\n",
       "      <td>NaN</td>\n",
       "      <td>NaN</td>\n",
       "      <td>NaN</td>\n",
       "      <td>NaN</td>\n",
       "      <td>NaN</td>\n",
       "      <td>NaN</td>\n",
       "    </tr>\n",
       "    <tr>\n",
       "      <th>3</th>\n",
       "      <td>4</td>\n",
       "      <td>2019-05-03 12:48:05</td>\n",
       "      <td>NaN</td>\n",
       "      <td>NaN</td>\n",
       "      <td>NaN</td>\n",
       "      <td>NaN</td>\n",
       "      <td>NaN</td>\n",
       "      <td>NaN</td>\n",
       "      <td>NaN</td>\n",
       "      <td>NaN</td>\n",
       "    </tr>\n",
       "    <tr>\n",
       "      <th>4</th>\n",
       "      <td>5</td>\n",
       "      <td>2019-05-03 13:18:15</td>\n",
       "      <td>2019-05-03 13:32:06</td>\n",
       "      <td>NaN</td>\n",
       "      <td>NaN</td>\n",
       "      <td>NaN</td>\n",
       "      <td>NaN</td>\n",
       "      <td>NaN</td>\n",
       "      <td>NaN</td>\n",
       "      <td>NaN</td>\n",
       "    </tr>\n",
       "  </tbody>\n",
       "</table>\n",
       "</div>\n",
       "      <button class=\"colab-df-convert\" onclick=\"convertToInteractive('df-7fb71824-c4c3-41bd-89ea-0938253099f8')\"\n",
       "              title=\"Convert this dataframe to an interactive table.\"\n",
       "              style=\"display:none;\">\n",
       "        \n",
       "  <svg xmlns=\"http://www.w3.org/2000/svg\" height=\"24px\"viewBox=\"0 0 24 24\"\n",
       "       width=\"24px\">\n",
       "    <path d=\"M0 0h24v24H0V0z\" fill=\"none\"/>\n",
       "    <path d=\"M18.56 5.44l.94 2.06.94-2.06 2.06-.94-2.06-.94-.94-2.06-.94 2.06-2.06.94zm-11 1L8.5 8.5l.94-2.06 2.06-.94-2.06-.94L8.5 2.5l-.94 2.06-2.06.94zm10 10l.94 2.06.94-2.06 2.06-.94-2.06-.94-.94-2.06-.94 2.06-2.06.94z\"/><path d=\"M17.41 7.96l-1.37-1.37c-.4-.4-.92-.59-1.43-.59-.52 0-1.04.2-1.43.59L10.3 9.45l-7.72 7.72c-.78.78-.78 2.05 0 2.83L4 21.41c.39.39.9.59 1.41.59.51 0 1.02-.2 1.41-.59l7.78-7.78 2.81-2.81c.8-.78.8-2.07 0-2.86zM5.41 20L4 18.59l7.72-7.72 1.47 1.35L5.41 20z\"/>\n",
       "  </svg>\n",
       "      </button>\n",
       "      \n",
       "  <style>\n",
       "    .colab-df-container {\n",
       "      display:flex;\n",
       "      flex-wrap:wrap;\n",
       "      gap: 12px;\n",
       "    }\n",
       "\n",
       "    .colab-df-convert {\n",
       "      background-color: #E8F0FE;\n",
       "      border: none;\n",
       "      border-radius: 50%;\n",
       "      cursor: pointer;\n",
       "      display: none;\n",
       "      fill: #1967D2;\n",
       "      height: 32px;\n",
       "      padding: 0 0 0 0;\n",
       "      width: 32px;\n",
       "    }\n",
       "\n",
       "    .colab-df-convert:hover {\n",
       "      background-color: #E2EBFA;\n",
       "      box-shadow: 0px 1px 2px rgba(60, 64, 67, 0.3), 0px 1px 3px 1px rgba(60, 64, 67, 0.15);\n",
       "      fill: #174EA6;\n",
       "    }\n",
       "\n",
       "    [theme=dark] .colab-df-convert {\n",
       "      background-color: #3B4455;\n",
       "      fill: #D2E3FC;\n",
       "    }\n",
       "\n",
       "    [theme=dark] .colab-df-convert:hover {\n",
       "      background-color: #434B5C;\n",
       "      box-shadow: 0px 1px 3px 1px rgba(0, 0, 0, 0.15);\n",
       "      filter: drop-shadow(0px 1px 2px rgba(0, 0, 0, 0.3));\n",
       "      fill: #FFFFFF;\n",
       "    }\n",
       "  </style>\n",
       "\n",
       "      <script>\n",
       "        const buttonEl =\n",
       "          document.querySelector('#df-7fb71824-c4c3-41bd-89ea-0938253099f8 button.colab-df-convert');\n",
       "        buttonEl.style.display =\n",
       "          google.colab.kernel.accessAllowed ? 'block' : 'none';\n",
       "\n",
       "        async function convertToInteractive(key) {\n",
       "          const element = document.querySelector('#df-7fb71824-c4c3-41bd-89ea-0938253099f8');\n",
       "          const dataTable =\n",
       "            await google.colab.kernel.invokeFunction('convertToInteractive',\n",
       "                                                     [key], {});\n",
       "          if (!dataTable) return;\n",
       "\n",
       "          const docLinkHtml = 'Like what you see? Visit the ' +\n",
       "            '<a target=\"_blank\" href=https://colab.research.google.com/notebooks/data_table.ipynb>data table notebook</a>'\n",
       "            + ' to learn more about interactive tables.';\n",
       "          element.innerHTML = '';\n",
       "          dataTable['output_type'] = 'display_data';\n",
       "          await google.colab.output.renderOutput(dataTable, element);\n",
       "          const docLink = document.createElement('div');\n",
       "          docLink.innerHTML = docLinkHtml;\n",
       "          element.appendChild(docLink);\n",
       "        }\n",
       "      </script>\n",
       "    </div>\n",
       "  </div>\n",
       "  "
      ],
      "text/plain": [
       "   key               Wire 1               Wire 2 Wire 3 Wire 4 Wire 5 Wire 6  \\\n",
       "0    1  2019-05-03 11:11:41                  NaN    NaN    NaN    NaN    NaN   \n",
       "1    2  2019-05-03 11:46:10                  NaN    NaN    NaN    NaN    NaN   \n",
       "2    3  2019-05-03 12:13:47                  NaN    NaN    NaN    NaN    NaN   \n",
       "3    4  2019-05-03 12:48:05                  NaN    NaN    NaN    NaN    NaN   \n",
       "4    5  2019-05-03 13:18:15  2019-05-03 13:32:06    NaN    NaN    NaN    NaN   \n",
       "\n",
       "  Wire 7 Wire 8 Wire 9  \n",
       "0    NaN    NaN    NaN  \n",
       "1    NaN    NaN    NaN  \n",
       "2    NaN    NaN    NaN  \n",
       "3    NaN    NaN    NaN  \n",
       "4    NaN    NaN    NaN  "
      ]
     },
     "execution_count": 55,
     "metadata": {},
     "output_type": "execute_result"
    }
   ],
   "source": [
    "wire_time.head()"
   ]
  },
  {
   "cell_type": "code",
   "execution_count": 56,
   "metadata": {
    "colab": {
     "base_uri": "https://localhost:8080/"
    },
    "id": "hWbvi-d9EmEm",
    "outputId": "00ceb009-4dad-4053-ef08-9af676b45327"
   },
   "outputs": [
    {
     "name": "stdout",
     "output_type": "stream",
     "text": [
      "<class 'pandas.core.frame.DataFrame'>\n",
      "RangeIndex: 3081 entries, 0 to 3080\n",
      "Data columns (total 10 columns):\n",
      " #   Column  Non-Null Count  Dtype  \n",
      "---  ------  --------------  -----  \n",
      " 0   key     3081 non-null   int64  \n",
      " 1   Wire 1  3055 non-null   float64\n",
      " 2   Wire 2  1079 non-null   float64\n",
      " 3   Wire 3  63 non-null     float64\n",
      " 4   Wire 4  14 non-null     float64\n",
      " 5   Wire 5  1 non-null      float64\n",
      " 6   Wire 6  73 non-null     float64\n",
      " 7   Wire 7  11 non-null     float64\n",
      " 8   Wire 8  19 non-null     float64\n",
      " 9   Wire 9  29 non-null     float64\n",
      "dtypes: float64(9), int64(1)\n",
      "memory usage: 240.8 KB\n"
     ]
    }
   ],
   "source": [
    "wire.info()"
   ]
  },
  {
   "cell_type": "code",
   "execution_count": 57,
   "metadata": {
    "colab": {
     "base_uri": "https://localhost:8080/"
    },
    "id": "xEMkmxckzz56",
    "outputId": "3ec6a30f-6409-4a92-fa67-7b4ed0d066bd"
   },
   "outputs": [
    {
     "data": {
      "text/plain": [
       "key          0\n",
       "Wire 1      26\n",
       "Wire 2    2002\n",
       "Wire 3    3018\n",
       "Wire 4    3067\n",
       "Wire 5    3080\n",
       "Wire 6    3008\n",
       "Wire 7    3070\n",
       "Wire 8    3062\n",
       "Wire 9    3052\n",
       "dtype: int64"
      ]
     },
     "execution_count": 57,
     "metadata": {},
     "output_type": "execute_result"
    }
   ],
   "source": [
    "wire.isna().sum()"
   ]
  },
  {
   "cell_type": "code",
   "execution_count": 58,
   "metadata": {
    "colab": {
     "base_uri": "https://localhost:8080/",
     "height": 363
    },
    "id": "GasbXfEsFbKQ",
    "outputId": "85f363df-428d-4b56-a446-886e1dd6a06b"
   },
   "outputs": [
    {
     "data": {
      "text/html": [
       "\n",
       "  <div id=\"df-47f13dac-6f19-478b-99ef-bd48e06fc598\">\n",
       "    <div class=\"colab-df-container\">\n",
       "      <div>\n",
       "<style scoped>\n",
       "    .dataframe tbody tr th:only-of-type {\n",
       "        vertical-align: middle;\n",
       "    }\n",
       "\n",
       "    .dataframe tbody tr th {\n",
       "        vertical-align: top;\n",
       "    }\n",
       "\n",
       "    .dataframe thead th {\n",
       "        text-align: right;\n",
       "    }\n",
       "</style>\n",
       "<table border=\"1\" class=\"dataframe\">\n",
       "  <thead>\n",
       "    <tr style=\"text-align: right;\">\n",
       "      <th></th>\n",
       "      <th>count</th>\n",
       "      <th>mean</th>\n",
       "      <th>std</th>\n",
       "      <th>min</th>\n",
       "      <th>25%</th>\n",
       "      <th>50%</th>\n",
       "      <th>75%</th>\n",
       "      <th>max</th>\n",
       "    </tr>\n",
       "  </thead>\n",
       "  <tbody>\n",
       "    <tr>\n",
       "      <th>key</th>\n",
       "      <td>3081.0</td>\n",
       "      <td>1623.426485</td>\n",
       "      <td>932.996726</td>\n",
       "      <td>1.000000</td>\n",
       "      <td>823.000000</td>\n",
       "      <td>1619.000000</td>\n",
       "      <td>2434.000000</td>\n",
       "      <td>3241.000000</td>\n",
       "    </tr>\n",
       "    <tr>\n",
       "      <th>Wire 1</th>\n",
       "      <td>3055.0</td>\n",
       "      <td>100.895853</td>\n",
       "      <td>42.012518</td>\n",
       "      <td>1.918800</td>\n",
       "      <td>72.115684</td>\n",
       "      <td>100.158234</td>\n",
       "      <td>126.060483</td>\n",
       "      <td>330.314424</td>\n",
       "    </tr>\n",
       "    <tr>\n",
       "      <th>Wire 2</th>\n",
       "      <td>1079.0</td>\n",
       "      <td>50.577323</td>\n",
       "      <td>39.320216</td>\n",
       "      <td>0.030160</td>\n",
       "      <td>20.193680</td>\n",
       "      <td>40.142956</td>\n",
       "      <td>70.227558</td>\n",
       "      <td>282.780152</td>\n",
       "    </tr>\n",
       "    <tr>\n",
       "      <th>Wire 3</th>\n",
       "      <td>63.0</td>\n",
       "      <td>189.482681</td>\n",
       "      <td>99.513444</td>\n",
       "      <td>0.144144</td>\n",
       "      <td>95.135044</td>\n",
       "      <td>235.194977</td>\n",
       "      <td>276.252014</td>\n",
       "      <td>385.008668</td>\n",
       "    </tr>\n",
       "    <tr>\n",
       "      <th>Wire 4</th>\n",
       "      <td>14.0</td>\n",
       "      <td>57.442842</td>\n",
       "      <td>28.824667</td>\n",
       "      <td>24.148801</td>\n",
       "      <td>40.807002</td>\n",
       "      <td>45.234282</td>\n",
       "      <td>76.124619</td>\n",
       "      <td>113.231044</td>\n",
       "    </tr>\n",
       "    <tr>\n",
       "      <th>Wire 5</th>\n",
       "      <td>1.0</td>\n",
       "      <td>15.132000</td>\n",
       "      <td>NaN</td>\n",
       "      <td>15.132000</td>\n",
       "      <td>15.132000</td>\n",
       "      <td>15.132000</td>\n",
       "      <td>15.132000</td>\n",
       "      <td>15.132000</td>\n",
       "    </tr>\n",
       "    <tr>\n",
       "      <th>Wire 6</th>\n",
       "      <td>73.0</td>\n",
       "      <td>48.016974</td>\n",
       "      <td>33.919845</td>\n",
       "      <td>0.034320</td>\n",
       "      <td>25.053600</td>\n",
       "      <td>42.076324</td>\n",
       "      <td>64.212723</td>\n",
       "      <td>180.454575</td>\n",
       "    </tr>\n",
       "    <tr>\n",
       "      <th>Wire 7</th>\n",
       "      <td>11.0</td>\n",
       "      <td>10.039007</td>\n",
       "      <td>8.610584</td>\n",
       "      <td>0.234208</td>\n",
       "      <td>6.762756</td>\n",
       "      <td>9.017009</td>\n",
       "      <td>11.886057</td>\n",
       "      <td>32.847674</td>\n",
       "    </tr>\n",
       "    <tr>\n",
       "      <th>Wire 8</th>\n",
       "      <td>19.0</td>\n",
       "      <td>53.625193</td>\n",
       "      <td>16.881728</td>\n",
       "      <td>45.076721</td>\n",
       "      <td>46.094879</td>\n",
       "      <td>46.279999</td>\n",
       "      <td>48.089603</td>\n",
       "      <td>102.762401</td>\n",
       "    </tr>\n",
       "    <tr>\n",
       "      <th>Wire 9</th>\n",
       "      <td>29.0</td>\n",
       "      <td>34.155752</td>\n",
       "      <td>19.931616</td>\n",
       "      <td>4.622800</td>\n",
       "      <td>22.058401</td>\n",
       "      <td>30.066399</td>\n",
       "      <td>43.862003</td>\n",
       "      <td>90.053604</td>\n",
       "    </tr>\n",
       "  </tbody>\n",
       "</table>\n",
       "</div>\n",
       "      <button class=\"colab-df-convert\" onclick=\"convertToInteractive('df-47f13dac-6f19-478b-99ef-bd48e06fc598')\"\n",
       "              title=\"Convert this dataframe to an interactive table.\"\n",
       "              style=\"display:none;\">\n",
       "        \n",
       "  <svg xmlns=\"http://www.w3.org/2000/svg\" height=\"24px\"viewBox=\"0 0 24 24\"\n",
       "       width=\"24px\">\n",
       "    <path d=\"M0 0h24v24H0V0z\" fill=\"none\"/>\n",
       "    <path d=\"M18.56 5.44l.94 2.06.94-2.06 2.06-.94-2.06-.94-.94-2.06-.94 2.06-2.06.94zm-11 1L8.5 8.5l.94-2.06 2.06-.94-2.06-.94L8.5 2.5l-.94 2.06-2.06.94zm10 10l.94 2.06.94-2.06 2.06-.94-2.06-.94-.94-2.06-.94 2.06-2.06.94z\"/><path d=\"M17.41 7.96l-1.37-1.37c-.4-.4-.92-.59-1.43-.59-.52 0-1.04.2-1.43.59L10.3 9.45l-7.72 7.72c-.78.78-.78 2.05 0 2.83L4 21.41c.39.39.9.59 1.41.59.51 0 1.02-.2 1.41-.59l7.78-7.78 2.81-2.81c.8-.78.8-2.07 0-2.86zM5.41 20L4 18.59l7.72-7.72 1.47 1.35L5.41 20z\"/>\n",
       "  </svg>\n",
       "      </button>\n",
       "      \n",
       "  <style>\n",
       "    .colab-df-container {\n",
       "      display:flex;\n",
       "      flex-wrap:wrap;\n",
       "      gap: 12px;\n",
       "    }\n",
       "\n",
       "    .colab-df-convert {\n",
       "      background-color: #E8F0FE;\n",
       "      border: none;\n",
       "      border-radius: 50%;\n",
       "      cursor: pointer;\n",
       "      display: none;\n",
       "      fill: #1967D2;\n",
       "      height: 32px;\n",
       "      padding: 0 0 0 0;\n",
       "      width: 32px;\n",
       "    }\n",
       "\n",
       "    .colab-df-convert:hover {\n",
       "      background-color: #E2EBFA;\n",
       "      box-shadow: 0px 1px 2px rgba(60, 64, 67, 0.3), 0px 1px 3px 1px rgba(60, 64, 67, 0.15);\n",
       "      fill: #174EA6;\n",
       "    }\n",
       "\n",
       "    [theme=dark] .colab-df-convert {\n",
       "      background-color: #3B4455;\n",
       "      fill: #D2E3FC;\n",
       "    }\n",
       "\n",
       "    [theme=dark] .colab-df-convert:hover {\n",
       "      background-color: #434B5C;\n",
       "      box-shadow: 0px 1px 3px 1px rgba(0, 0, 0, 0.15);\n",
       "      filter: drop-shadow(0px 1px 2px rgba(0, 0, 0, 0.3));\n",
       "      fill: #FFFFFF;\n",
       "    }\n",
       "  </style>\n",
       "\n",
       "      <script>\n",
       "        const buttonEl =\n",
       "          document.querySelector('#df-47f13dac-6f19-478b-99ef-bd48e06fc598 button.colab-df-convert');\n",
       "        buttonEl.style.display =\n",
       "          google.colab.kernel.accessAllowed ? 'block' : 'none';\n",
       "\n",
       "        async function convertToInteractive(key) {\n",
       "          const element = document.querySelector('#df-47f13dac-6f19-478b-99ef-bd48e06fc598');\n",
       "          const dataTable =\n",
       "            await google.colab.kernel.invokeFunction('convertToInteractive',\n",
       "                                                     [key], {});\n",
       "          if (!dataTable) return;\n",
       "\n",
       "          const docLinkHtml = 'Like what you see? Visit the ' +\n",
       "            '<a target=\"_blank\" href=https://colab.research.google.com/notebooks/data_table.ipynb>data table notebook</a>'\n",
       "            + ' to learn more about interactive tables.';\n",
       "          element.innerHTML = '';\n",
       "          dataTable['output_type'] = 'display_data';\n",
       "          await google.colab.output.renderOutput(dataTable, element);\n",
       "          const docLink = document.createElement('div');\n",
       "          docLink.innerHTML = docLinkHtml;\n",
       "          element.appendChild(docLink);\n",
       "        }\n",
       "      </script>\n",
       "    </div>\n",
       "  </div>\n",
       "  "
      ],
      "text/plain": [
       "         count         mean         std        min         25%          50%  \\\n",
       "key     3081.0  1623.426485  932.996726   1.000000  823.000000  1619.000000   \n",
       "Wire 1  3055.0   100.895853   42.012518   1.918800   72.115684   100.158234   \n",
       "Wire 2  1079.0    50.577323   39.320216   0.030160   20.193680    40.142956   \n",
       "Wire 3    63.0   189.482681   99.513444   0.144144   95.135044   235.194977   \n",
       "Wire 4    14.0    57.442842   28.824667  24.148801   40.807002    45.234282   \n",
       "Wire 5     1.0    15.132000         NaN  15.132000   15.132000    15.132000   \n",
       "Wire 6    73.0    48.016974   33.919845   0.034320   25.053600    42.076324   \n",
       "Wire 7    11.0    10.039007    8.610584   0.234208    6.762756     9.017009   \n",
       "Wire 8    19.0    53.625193   16.881728  45.076721   46.094879    46.279999   \n",
       "Wire 9    29.0    34.155752   19.931616   4.622800   22.058401    30.066399   \n",
       "\n",
       "                75%          max  \n",
       "key     2434.000000  3241.000000  \n",
       "Wire 1   126.060483   330.314424  \n",
       "Wire 2    70.227558   282.780152  \n",
       "Wire 3   276.252014   385.008668  \n",
       "Wire 4    76.124619   113.231044  \n",
       "Wire 5    15.132000    15.132000  \n",
       "Wire 6    64.212723   180.454575  \n",
       "Wire 7    11.886057    32.847674  \n",
       "Wire 8    48.089603   102.762401  \n",
       "Wire 9    43.862003    90.053604  "
      ]
     },
     "execution_count": 58,
     "metadata": {},
     "output_type": "execute_result"
    }
   ],
   "source": [
    "wire.describe().T"
   ]
  },
  {
   "cell_type": "code",
   "execution_count": 59,
   "metadata": {
    "id": "qPHYB-NaE1TB"
   },
   "outputs": [],
   "source": [
    "wire = wire.fillna(0)"
   ]
  },
  {
   "cell_type": "code",
   "execution_count": 60,
   "metadata": {
    "id": "8cahw8HhFK8o"
   },
   "outputs": [],
   "source": [
    "for col in wire_time.columns[1:]:\n",
    "    wire_time[col] = pd.to_datetime(wire_time[col], format='%Y-%m-%dT%H:%M:%S')"
   ]
  },
  {
   "cell_type": "code",
   "execution_count": 61,
   "metadata": {
    "id": "qyaC2d6FFmQx"
   },
   "outputs": [],
   "source": [
    "wire_time[wire_time.columns[1:]] = wire_time[wire_time.columns[1:]].diff()"
   ]
  },
  {
   "cell_type": "code",
   "execution_count": 62,
   "metadata": {
    "colab": {
     "base_uri": "https://localhost:8080/",
     "height": 424
    },
    "id": "CSEb4V_YFsVR",
    "outputId": "8bfd0a26-734f-45e3-cabc-be73a0cacedb"
   },
   "outputs": [
    {
     "data": {
      "text/html": [
       "\n",
       "  <div id=\"df-c229c1f6-f0f6-4992-ac34-21416485b001\">\n",
       "    <div class=\"colab-df-container\">\n",
       "      <div>\n",
       "<style scoped>\n",
       "    .dataframe tbody tr th:only-of-type {\n",
       "        vertical-align: middle;\n",
       "    }\n",
       "\n",
       "    .dataframe tbody tr th {\n",
       "        vertical-align: top;\n",
       "    }\n",
       "\n",
       "    .dataframe thead th {\n",
       "        text-align: right;\n",
       "    }\n",
       "</style>\n",
       "<table border=\"1\" class=\"dataframe\">\n",
       "  <thead>\n",
       "    <tr style=\"text-align: right;\">\n",
       "      <th></th>\n",
       "      <th>key</th>\n",
       "      <th>Wire 1</th>\n",
       "      <th>Wire 2</th>\n",
       "      <th>Wire 3</th>\n",
       "      <th>Wire 4</th>\n",
       "      <th>Wire 5</th>\n",
       "      <th>Wire 6</th>\n",
       "      <th>Wire 7</th>\n",
       "      <th>Wire 8</th>\n",
       "      <th>Wire 9</th>\n",
       "    </tr>\n",
       "  </thead>\n",
       "  <tbody>\n",
       "    <tr>\n",
       "      <th>0</th>\n",
       "      <td>1</td>\n",
       "      <td>NaT</td>\n",
       "      <td>NaT</td>\n",
       "      <td>NaT</td>\n",
       "      <td>NaT</td>\n",
       "      <td>NaT</td>\n",
       "      <td>NaT</td>\n",
       "      <td>NaT</td>\n",
       "      <td>NaT</td>\n",
       "      <td>NaT</td>\n",
       "    </tr>\n",
       "    <tr>\n",
       "      <th>1</th>\n",
       "      <td>2</td>\n",
       "      <td>0 days 00:34:29</td>\n",
       "      <td>NaT</td>\n",
       "      <td>NaT</td>\n",
       "      <td>NaT</td>\n",
       "      <td>NaT</td>\n",
       "      <td>NaT</td>\n",
       "      <td>NaT</td>\n",
       "      <td>NaT</td>\n",
       "      <td>NaT</td>\n",
       "    </tr>\n",
       "    <tr>\n",
       "      <th>2</th>\n",
       "      <td>3</td>\n",
       "      <td>0 days 00:27:37</td>\n",
       "      <td>NaT</td>\n",
       "      <td>NaT</td>\n",
       "      <td>NaT</td>\n",
       "      <td>NaT</td>\n",
       "      <td>NaT</td>\n",
       "      <td>NaT</td>\n",
       "      <td>NaT</td>\n",
       "      <td>NaT</td>\n",
       "    </tr>\n",
       "    <tr>\n",
       "      <th>3</th>\n",
       "      <td>4</td>\n",
       "      <td>0 days 00:34:18</td>\n",
       "      <td>NaT</td>\n",
       "      <td>NaT</td>\n",
       "      <td>NaT</td>\n",
       "      <td>NaT</td>\n",
       "      <td>NaT</td>\n",
       "      <td>NaT</td>\n",
       "      <td>NaT</td>\n",
       "      <td>NaT</td>\n",
       "    </tr>\n",
       "    <tr>\n",
       "      <th>4</th>\n",
       "      <td>5</td>\n",
       "      <td>0 days 00:30:10</td>\n",
       "      <td>NaT</td>\n",
       "      <td>NaT</td>\n",
       "      <td>NaT</td>\n",
       "      <td>NaT</td>\n",
       "      <td>NaT</td>\n",
       "      <td>NaT</td>\n",
       "      <td>NaT</td>\n",
       "      <td>NaT</td>\n",
       "    </tr>\n",
       "    <tr>\n",
       "      <th>...</th>\n",
       "      <td>...</td>\n",
       "      <td>...</td>\n",
       "      <td>...</td>\n",
       "      <td>...</td>\n",
       "      <td>...</td>\n",
       "      <td>...</td>\n",
       "      <td>...</td>\n",
       "      <td>...</td>\n",
       "      <td>...</td>\n",
       "      <td>...</td>\n",
       "    </tr>\n",
       "    <tr>\n",
       "      <th>3076</th>\n",
       "      <td>3237</td>\n",
       "      <td>0 days 00:30:37</td>\n",
       "      <td>NaT</td>\n",
       "      <td>NaT</td>\n",
       "      <td>NaT</td>\n",
       "      <td>NaT</td>\n",
       "      <td>NaT</td>\n",
       "      <td>NaT</td>\n",
       "      <td>NaT</td>\n",
       "      <td>NaT</td>\n",
       "    </tr>\n",
       "    <tr>\n",
       "      <th>3077</th>\n",
       "      <td>3238</td>\n",
       "      <td>0 days 00:48:04</td>\n",
       "      <td>NaT</td>\n",
       "      <td>NaT</td>\n",
       "      <td>NaT</td>\n",
       "      <td>NaT</td>\n",
       "      <td>NaT</td>\n",
       "      <td>NaT</td>\n",
       "      <td>NaT</td>\n",
       "      <td>NaT</td>\n",
       "    </tr>\n",
       "    <tr>\n",
       "      <th>3078</th>\n",
       "      <td>3239</td>\n",
       "      <td>0 days 02:12:19</td>\n",
       "      <td>NaT</td>\n",
       "      <td>NaT</td>\n",
       "      <td>NaT</td>\n",
       "      <td>NaT</td>\n",
       "      <td>NaT</td>\n",
       "      <td>NaT</td>\n",
       "      <td>NaT</td>\n",
       "      <td>NaT</td>\n",
       "    </tr>\n",
       "    <tr>\n",
       "      <th>3079</th>\n",
       "      <td>3240</td>\n",
       "      <td>0 days 01:21:19</td>\n",
       "      <td>NaT</td>\n",
       "      <td>NaT</td>\n",
       "      <td>NaT</td>\n",
       "      <td>NaT</td>\n",
       "      <td>NaT</td>\n",
       "      <td>NaT</td>\n",
       "      <td>NaT</td>\n",
       "      <td>NaT</td>\n",
       "    </tr>\n",
       "    <tr>\n",
       "      <th>3080</th>\n",
       "      <td>3241</td>\n",
       "      <td>0 days 01:03:59</td>\n",
       "      <td>NaT</td>\n",
       "      <td>NaT</td>\n",
       "      <td>NaT</td>\n",
       "      <td>NaT</td>\n",
       "      <td>NaT</td>\n",
       "      <td>NaT</td>\n",
       "      <td>NaT</td>\n",
       "      <td>NaT</td>\n",
       "    </tr>\n",
       "  </tbody>\n",
       "</table>\n",
       "<p>3081 rows × 10 columns</p>\n",
       "</div>\n",
       "      <button class=\"colab-df-convert\" onclick=\"convertToInteractive('df-c229c1f6-f0f6-4992-ac34-21416485b001')\"\n",
       "              title=\"Convert this dataframe to an interactive table.\"\n",
       "              style=\"display:none;\">\n",
       "        \n",
       "  <svg xmlns=\"http://www.w3.org/2000/svg\" height=\"24px\"viewBox=\"0 0 24 24\"\n",
       "       width=\"24px\">\n",
       "    <path d=\"M0 0h24v24H0V0z\" fill=\"none\"/>\n",
       "    <path d=\"M18.56 5.44l.94 2.06.94-2.06 2.06-.94-2.06-.94-.94-2.06-.94 2.06-2.06.94zm-11 1L8.5 8.5l.94-2.06 2.06-.94-2.06-.94L8.5 2.5l-.94 2.06-2.06.94zm10 10l.94 2.06.94-2.06 2.06-.94-2.06-.94-.94-2.06-.94 2.06-2.06.94z\"/><path d=\"M17.41 7.96l-1.37-1.37c-.4-.4-.92-.59-1.43-.59-.52 0-1.04.2-1.43.59L10.3 9.45l-7.72 7.72c-.78.78-.78 2.05 0 2.83L4 21.41c.39.39.9.59 1.41.59.51 0 1.02-.2 1.41-.59l7.78-7.78 2.81-2.81c.8-.78.8-2.07 0-2.86zM5.41 20L4 18.59l7.72-7.72 1.47 1.35L5.41 20z\"/>\n",
       "  </svg>\n",
       "      </button>\n",
       "      \n",
       "  <style>\n",
       "    .colab-df-container {\n",
       "      display:flex;\n",
       "      flex-wrap:wrap;\n",
       "      gap: 12px;\n",
       "    }\n",
       "\n",
       "    .colab-df-convert {\n",
       "      background-color: #E8F0FE;\n",
       "      border: none;\n",
       "      border-radius: 50%;\n",
       "      cursor: pointer;\n",
       "      display: none;\n",
       "      fill: #1967D2;\n",
       "      height: 32px;\n",
       "      padding: 0 0 0 0;\n",
       "      width: 32px;\n",
       "    }\n",
       "\n",
       "    .colab-df-convert:hover {\n",
       "      background-color: #E2EBFA;\n",
       "      box-shadow: 0px 1px 2px rgba(60, 64, 67, 0.3), 0px 1px 3px 1px rgba(60, 64, 67, 0.15);\n",
       "      fill: #174EA6;\n",
       "    }\n",
       "\n",
       "    [theme=dark] .colab-df-convert {\n",
       "      background-color: #3B4455;\n",
       "      fill: #D2E3FC;\n",
       "    }\n",
       "\n",
       "    [theme=dark] .colab-df-convert:hover {\n",
       "      background-color: #434B5C;\n",
       "      box-shadow: 0px 1px 3px 1px rgba(0, 0, 0, 0.15);\n",
       "      filter: drop-shadow(0px 1px 2px rgba(0, 0, 0, 0.3));\n",
       "      fill: #FFFFFF;\n",
       "    }\n",
       "  </style>\n",
       "\n",
       "      <script>\n",
       "        const buttonEl =\n",
       "          document.querySelector('#df-c229c1f6-f0f6-4992-ac34-21416485b001 button.colab-df-convert');\n",
       "        buttonEl.style.display =\n",
       "          google.colab.kernel.accessAllowed ? 'block' : 'none';\n",
       "\n",
       "        async function convertToInteractive(key) {\n",
       "          const element = document.querySelector('#df-c229c1f6-f0f6-4992-ac34-21416485b001');\n",
       "          const dataTable =\n",
       "            await google.colab.kernel.invokeFunction('convertToInteractive',\n",
       "                                                     [key], {});\n",
       "          if (!dataTable) return;\n",
       "\n",
       "          const docLinkHtml = 'Like what you see? Visit the ' +\n",
       "            '<a target=\"_blank\" href=https://colab.research.google.com/notebooks/data_table.ipynb>data table notebook</a>'\n",
       "            + ' to learn more about interactive tables.';\n",
       "          element.innerHTML = '';\n",
       "          dataTable['output_type'] = 'display_data';\n",
       "          await google.colab.output.renderOutput(dataTable, element);\n",
       "          const docLink = document.createElement('div');\n",
       "          docLink.innerHTML = docLinkHtml;\n",
       "          element.appendChild(docLink);\n",
       "        }\n",
       "      </script>\n",
       "    </div>\n",
       "  </div>\n",
       "  "
      ],
      "text/plain": [
       "       key          Wire 1 Wire 2 Wire 3 Wire 4 Wire 5 Wire 6 Wire 7 Wire 8  \\\n",
       "0        1             NaT    NaT    NaT    NaT    NaT    NaT    NaT    NaT   \n",
       "1        2 0 days 00:34:29    NaT    NaT    NaT    NaT    NaT    NaT    NaT   \n",
       "2        3 0 days 00:27:37    NaT    NaT    NaT    NaT    NaT    NaT    NaT   \n",
       "3        4 0 days 00:34:18    NaT    NaT    NaT    NaT    NaT    NaT    NaT   \n",
       "4        5 0 days 00:30:10    NaT    NaT    NaT    NaT    NaT    NaT    NaT   \n",
       "...    ...             ...    ...    ...    ...    ...    ...    ...    ...   \n",
       "3076  3237 0 days 00:30:37    NaT    NaT    NaT    NaT    NaT    NaT    NaT   \n",
       "3077  3238 0 days 00:48:04    NaT    NaT    NaT    NaT    NaT    NaT    NaT   \n",
       "3078  3239 0 days 02:12:19    NaT    NaT    NaT    NaT    NaT    NaT    NaT   \n",
       "3079  3240 0 days 01:21:19    NaT    NaT    NaT    NaT    NaT    NaT    NaT   \n",
       "3080  3241 0 days 01:03:59    NaT    NaT    NaT    NaT    NaT    NaT    NaT   \n",
       "\n",
       "     Wire 9  \n",
       "0       NaT  \n",
       "1       NaT  \n",
       "2       NaT  \n",
       "3       NaT  \n",
       "4       NaT  \n",
       "...     ...  \n",
       "3076    NaT  \n",
       "3077    NaT  \n",
       "3078    NaT  \n",
       "3079    NaT  \n",
       "3080    NaT  \n",
       "\n",
       "[3081 rows x 10 columns]"
      ]
     },
     "execution_count": 62,
     "metadata": {},
     "output_type": "execute_result"
    }
   ],
   "source": [
    "wire_time"
   ]
  },
  {
   "cell_type": "code",
   "execution_count": 63,
   "metadata": {
    "id": "3R79_FKSFwax"
   },
   "outputs": [],
   "source": [
    "for col in wire_time.columns[1:]:\n",
    "    wire_time[col] = wire_time[col].apply(lambda t: t.seconds)"
   ]
  },
  {
   "cell_type": "code",
   "execution_count": 64,
   "metadata": {
    "id": "lHLQrUzCF0ax"
   },
   "outputs": [],
   "source": [
    "wire_time = wire_time.fillna(0)"
   ]
  },
  {
   "cell_type": "code",
   "execution_count": 65,
   "metadata": {
    "id": "haRh_dN0JMjN"
   },
   "outputs": [],
   "source": [
    "wire_time.columns = ['key'] + [f'Время подачи Wire {i}' for i in range(1, 10)]"
   ]
  },
  {
   "cell_type": "code",
   "execution_count": 66,
   "metadata": {
    "colab": {
     "base_uri": "https://localhost:8080/",
     "height": 424
    },
    "id": "zYOj5HQAJX6o",
    "outputId": "e8c78230-10f5-47c2-de86-8f82e63d8999"
   },
   "outputs": [
    {
     "data": {
      "text/html": [
       "\n",
       "  <div id=\"df-615967a7-68ac-4117-96fd-e139c21d9d0a\">\n",
       "    <div class=\"colab-df-container\">\n",
       "      <div>\n",
       "<style scoped>\n",
       "    .dataframe tbody tr th:only-of-type {\n",
       "        vertical-align: middle;\n",
       "    }\n",
       "\n",
       "    .dataframe tbody tr th {\n",
       "        vertical-align: top;\n",
       "    }\n",
       "\n",
       "    .dataframe thead th {\n",
       "        text-align: right;\n",
       "    }\n",
       "</style>\n",
       "<table border=\"1\" class=\"dataframe\">\n",
       "  <thead>\n",
       "    <tr style=\"text-align: right;\">\n",
       "      <th></th>\n",
       "      <th>key</th>\n",
       "      <th>Время подачи Wire 1</th>\n",
       "      <th>Время подачи Wire 2</th>\n",
       "      <th>Время подачи Wire 3</th>\n",
       "      <th>Время подачи Wire 4</th>\n",
       "      <th>Время подачи Wire 5</th>\n",
       "      <th>Время подачи Wire 6</th>\n",
       "      <th>Время подачи Wire 7</th>\n",
       "      <th>Время подачи Wire 8</th>\n",
       "      <th>Время подачи Wire 9</th>\n",
       "    </tr>\n",
       "  </thead>\n",
       "  <tbody>\n",
       "    <tr>\n",
       "      <th>0</th>\n",
       "      <td>1</td>\n",
       "      <td>0.0</td>\n",
       "      <td>0.0</td>\n",
       "      <td>0.0</td>\n",
       "      <td>0.0</td>\n",
       "      <td>0.0</td>\n",
       "      <td>0.0</td>\n",
       "      <td>0.0</td>\n",
       "      <td>0.0</td>\n",
       "      <td>0.0</td>\n",
       "    </tr>\n",
       "    <tr>\n",
       "      <th>1</th>\n",
       "      <td>2</td>\n",
       "      <td>2069.0</td>\n",
       "      <td>0.0</td>\n",
       "      <td>0.0</td>\n",
       "      <td>0.0</td>\n",
       "      <td>0.0</td>\n",
       "      <td>0.0</td>\n",
       "      <td>0.0</td>\n",
       "      <td>0.0</td>\n",
       "      <td>0.0</td>\n",
       "    </tr>\n",
       "    <tr>\n",
       "      <th>2</th>\n",
       "      <td>3</td>\n",
       "      <td>1657.0</td>\n",
       "      <td>0.0</td>\n",
       "      <td>0.0</td>\n",
       "      <td>0.0</td>\n",
       "      <td>0.0</td>\n",
       "      <td>0.0</td>\n",
       "      <td>0.0</td>\n",
       "      <td>0.0</td>\n",
       "      <td>0.0</td>\n",
       "    </tr>\n",
       "    <tr>\n",
       "      <th>3</th>\n",
       "      <td>4</td>\n",
       "      <td>2058.0</td>\n",
       "      <td>0.0</td>\n",
       "      <td>0.0</td>\n",
       "      <td>0.0</td>\n",
       "      <td>0.0</td>\n",
       "      <td>0.0</td>\n",
       "      <td>0.0</td>\n",
       "      <td>0.0</td>\n",
       "      <td>0.0</td>\n",
       "    </tr>\n",
       "    <tr>\n",
       "      <th>4</th>\n",
       "      <td>5</td>\n",
       "      <td>1810.0</td>\n",
       "      <td>0.0</td>\n",
       "      <td>0.0</td>\n",
       "      <td>0.0</td>\n",
       "      <td>0.0</td>\n",
       "      <td>0.0</td>\n",
       "      <td>0.0</td>\n",
       "      <td>0.0</td>\n",
       "      <td>0.0</td>\n",
       "    </tr>\n",
       "    <tr>\n",
       "      <th>...</th>\n",
       "      <td>...</td>\n",
       "      <td>...</td>\n",
       "      <td>...</td>\n",
       "      <td>...</td>\n",
       "      <td>...</td>\n",
       "      <td>...</td>\n",
       "      <td>...</td>\n",
       "      <td>...</td>\n",
       "      <td>...</td>\n",
       "      <td>...</td>\n",
       "    </tr>\n",
       "    <tr>\n",
       "      <th>3076</th>\n",
       "      <td>3237</td>\n",
       "      <td>1837.0</td>\n",
       "      <td>0.0</td>\n",
       "      <td>0.0</td>\n",
       "      <td>0.0</td>\n",
       "      <td>0.0</td>\n",
       "      <td>0.0</td>\n",
       "      <td>0.0</td>\n",
       "      <td>0.0</td>\n",
       "      <td>0.0</td>\n",
       "    </tr>\n",
       "    <tr>\n",
       "      <th>3077</th>\n",
       "      <td>3238</td>\n",
       "      <td>2884.0</td>\n",
       "      <td>0.0</td>\n",
       "      <td>0.0</td>\n",
       "      <td>0.0</td>\n",
       "      <td>0.0</td>\n",
       "      <td>0.0</td>\n",
       "      <td>0.0</td>\n",
       "      <td>0.0</td>\n",
       "      <td>0.0</td>\n",
       "    </tr>\n",
       "    <tr>\n",
       "      <th>3078</th>\n",
       "      <td>3239</td>\n",
       "      <td>7939.0</td>\n",
       "      <td>0.0</td>\n",
       "      <td>0.0</td>\n",
       "      <td>0.0</td>\n",
       "      <td>0.0</td>\n",
       "      <td>0.0</td>\n",
       "      <td>0.0</td>\n",
       "      <td>0.0</td>\n",
       "      <td>0.0</td>\n",
       "    </tr>\n",
       "    <tr>\n",
       "      <th>3079</th>\n",
       "      <td>3240</td>\n",
       "      <td>4879.0</td>\n",
       "      <td>0.0</td>\n",
       "      <td>0.0</td>\n",
       "      <td>0.0</td>\n",
       "      <td>0.0</td>\n",
       "      <td>0.0</td>\n",
       "      <td>0.0</td>\n",
       "      <td>0.0</td>\n",
       "      <td>0.0</td>\n",
       "    </tr>\n",
       "    <tr>\n",
       "      <th>3080</th>\n",
       "      <td>3241</td>\n",
       "      <td>3839.0</td>\n",
       "      <td>0.0</td>\n",
       "      <td>0.0</td>\n",
       "      <td>0.0</td>\n",
       "      <td>0.0</td>\n",
       "      <td>0.0</td>\n",
       "      <td>0.0</td>\n",
       "      <td>0.0</td>\n",
       "      <td>0.0</td>\n",
       "    </tr>\n",
       "  </tbody>\n",
       "</table>\n",
       "<p>3081 rows × 10 columns</p>\n",
       "</div>\n",
       "      <button class=\"colab-df-convert\" onclick=\"convertToInteractive('df-615967a7-68ac-4117-96fd-e139c21d9d0a')\"\n",
       "              title=\"Convert this dataframe to an interactive table.\"\n",
       "              style=\"display:none;\">\n",
       "        \n",
       "  <svg xmlns=\"http://www.w3.org/2000/svg\" height=\"24px\"viewBox=\"0 0 24 24\"\n",
       "       width=\"24px\">\n",
       "    <path d=\"M0 0h24v24H0V0z\" fill=\"none\"/>\n",
       "    <path d=\"M18.56 5.44l.94 2.06.94-2.06 2.06-.94-2.06-.94-.94-2.06-.94 2.06-2.06.94zm-11 1L8.5 8.5l.94-2.06 2.06-.94-2.06-.94L8.5 2.5l-.94 2.06-2.06.94zm10 10l.94 2.06.94-2.06 2.06-.94-2.06-.94-.94-2.06-.94 2.06-2.06.94z\"/><path d=\"M17.41 7.96l-1.37-1.37c-.4-.4-.92-.59-1.43-.59-.52 0-1.04.2-1.43.59L10.3 9.45l-7.72 7.72c-.78.78-.78 2.05 0 2.83L4 21.41c.39.39.9.59 1.41.59.51 0 1.02-.2 1.41-.59l7.78-7.78 2.81-2.81c.8-.78.8-2.07 0-2.86zM5.41 20L4 18.59l7.72-7.72 1.47 1.35L5.41 20z\"/>\n",
       "  </svg>\n",
       "      </button>\n",
       "      \n",
       "  <style>\n",
       "    .colab-df-container {\n",
       "      display:flex;\n",
       "      flex-wrap:wrap;\n",
       "      gap: 12px;\n",
       "    }\n",
       "\n",
       "    .colab-df-convert {\n",
       "      background-color: #E8F0FE;\n",
       "      border: none;\n",
       "      border-radius: 50%;\n",
       "      cursor: pointer;\n",
       "      display: none;\n",
       "      fill: #1967D2;\n",
       "      height: 32px;\n",
       "      padding: 0 0 0 0;\n",
       "      width: 32px;\n",
       "    }\n",
       "\n",
       "    .colab-df-convert:hover {\n",
       "      background-color: #E2EBFA;\n",
       "      box-shadow: 0px 1px 2px rgba(60, 64, 67, 0.3), 0px 1px 3px 1px rgba(60, 64, 67, 0.15);\n",
       "      fill: #174EA6;\n",
       "    }\n",
       "\n",
       "    [theme=dark] .colab-df-convert {\n",
       "      background-color: #3B4455;\n",
       "      fill: #D2E3FC;\n",
       "    }\n",
       "\n",
       "    [theme=dark] .colab-df-convert:hover {\n",
       "      background-color: #434B5C;\n",
       "      box-shadow: 0px 1px 3px 1px rgba(0, 0, 0, 0.15);\n",
       "      filter: drop-shadow(0px 1px 2px rgba(0, 0, 0, 0.3));\n",
       "      fill: #FFFFFF;\n",
       "    }\n",
       "  </style>\n",
       "\n",
       "      <script>\n",
       "        const buttonEl =\n",
       "          document.querySelector('#df-615967a7-68ac-4117-96fd-e139c21d9d0a button.colab-df-convert');\n",
       "        buttonEl.style.display =\n",
       "          google.colab.kernel.accessAllowed ? 'block' : 'none';\n",
       "\n",
       "        async function convertToInteractive(key) {\n",
       "          const element = document.querySelector('#df-615967a7-68ac-4117-96fd-e139c21d9d0a');\n",
       "          const dataTable =\n",
       "            await google.colab.kernel.invokeFunction('convertToInteractive',\n",
       "                                                     [key], {});\n",
       "          if (!dataTable) return;\n",
       "\n",
       "          const docLinkHtml = 'Like what you see? Visit the ' +\n",
       "            '<a target=\"_blank\" href=https://colab.research.google.com/notebooks/data_table.ipynb>data table notebook</a>'\n",
       "            + ' to learn more about interactive tables.';\n",
       "          element.innerHTML = '';\n",
       "          dataTable['output_type'] = 'display_data';\n",
       "          await google.colab.output.renderOutput(dataTable, element);\n",
       "          const docLink = document.createElement('div');\n",
       "          docLink.innerHTML = docLinkHtml;\n",
       "          element.appendChild(docLink);\n",
       "        }\n",
       "      </script>\n",
       "    </div>\n",
       "  </div>\n",
       "  "
      ],
      "text/plain": [
       "       key  Время подачи Wire 1  Время подачи Wire 2  Время подачи Wire 3  \\\n",
       "0        1                  0.0                  0.0                  0.0   \n",
       "1        2               2069.0                  0.0                  0.0   \n",
       "2        3               1657.0                  0.0                  0.0   \n",
       "3        4               2058.0                  0.0                  0.0   \n",
       "4        5               1810.0                  0.0                  0.0   \n",
       "...    ...                  ...                  ...                  ...   \n",
       "3076  3237               1837.0                  0.0                  0.0   \n",
       "3077  3238               2884.0                  0.0                  0.0   \n",
       "3078  3239               7939.0                  0.0                  0.0   \n",
       "3079  3240               4879.0                  0.0                  0.0   \n",
       "3080  3241               3839.0                  0.0                  0.0   \n",
       "\n",
       "      Время подачи Wire 4  Время подачи Wire 5  Время подачи Wire 6  \\\n",
       "0                     0.0                  0.0                  0.0   \n",
       "1                     0.0                  0.0                  0.0   \n",
       "2                     0.0                  0.0                  0.0   \n",
       "3                     0.0                  0.0                  0.0   \n",
       "4                     0.0                  0.0                  0.0   \n",
       "...                   ...                  ...                  ...   \n",
       "3076                  0.0                  0.0                  0.0   \n",
       "3077                  0.0                  0.0                  0.0   \n",
       "3078                  0.0                  0.0                  0.0   \n",
       "3079                  0.0                  0.0                  0.0   \n",
       "3080                  0.0                  0.0                  0.0   \n",
       "\n",
       "      Время подачи Wire 7  Время подачи Wire 8  Время подачи Wire 9  \n",
       "0                     0.0                  0.0                  0.0  \n",
       "1                     0.0                  0.0                  0.0  \n",
       "2                     0.0                  0.0                  0.0  \n",
       "3                     0.0                  0.0                  0.0  \n",
       "4                     0.0                  0.0                  0.0  \n",
       "...                   ...                  ...                  ...  \n",
       "3076                  0.0                  0.0                  0.0  \n",
       "3077                  0.0                  0.0                  0.0  \n",
       "3078                  0.0                  0.0                  0.0  \n",
       "3079                  0.0                  0.0                  0.0  \n",
       "3080                  0.0                  0.0                  0.0  \n",
       "\n",
       "[3081 rows x 10 columns]"
      ]
     },
     "execution_count": 66,
     "metadata": {},
     "output_type": "execute_result"
    }
   ],
   "source": [
    "wire_time"
   ]
  },
  {
   "cell_type": "markdown",
   "metadata": {
    "id": "UNG_uTmt9mEn"
   },
   "source": []
  },
  {
   "cell_type": "markdown",
   "metadata": {
    "id": "WLrA6wG4GIhI"
   },
   "source": [
    "### Итоговая таблица"
   ]
  },
  {
   "cell_type": "markdown",
   "metadata": {
    "id": "ZnZCX54biz6l"
   },
   "source": [
    "Построим итоговую таблицу с выделенными признаками:"
   ]
  },
  {
   "cell_type": "code",
   "execution_count": 67,
   "metadata": {
    "id": "pUz2RrDrF74a"
   },
   "outputs": [],
   "source": [
    "df = final_arc.merge(bulk, how='inner', on='key') \\\n",
    "              .merge(bulk_time, how='inner', on='key') \\\n",
    "              .merge(gas, how='inner', on='key') \\\n",
    "              .merge(final_temp, how='inner', on='key') \\\n",
    "              .merge(wire, how='inner', on='key') \\\n",
    "              .merge(wire_time, how='inner', on='key')"
   ]
  },
  {
   "cell_type": "markdown",
   "metadata": {
    "id": "MFErS7NXjIAv"
   },
   "source": [
    "Проверим таблицу на пропуски:"
   ]
  },
  {
   "cell_type": "code",
   "execution_count": 68,
   "metadata": {
    "colab": {
     "base_uri": "https://localhost:8080/"
    },
    "id": "CYgToR6eKLoY",
    "outputId": "bdc37c28-4b3c-4ba3-d381-84a1928b3e6f"
   },
   "outputs": [
    {
     "data": {
      "text/plain": [
       "key                     0\n",
       "active                  0\n",
       "reactive                0\n",
       "arc_length              0\n",
       "total_start             0\n",
       "Bulk 1                  0\n",
       "Bulk 2                  0\n",
       "Bulk 3                  0\n",
       "Bulk 4                  0\n",
       "Bulk 5                  0\n",
       "Bulk 6                  0\n",
       "Bulk 7                  0\n",
       "Bulk 8                  0\n",
       "Bulk 9                  0\n",
       "Bulk 10                 0\n",
       "Bulk 11                 0\n",
       "Bulk 12                 0\n",
       "Bulk 13                 0\n",
       "Bulk 14                 0\n",
       "Bulk 15                 0\n",
       "Время подачи Bulk 1     0\n",
       "Время подачи Bulk 2     0\n",
       "Время подачи Bulk 3     0\n",
       "Время подачи Bulk 4     0\n",
       "Время подачи Bulk 5     0\n",
       "Время подачи Bulk 6     0\n",
       "Время подачи Bulk 7     0\n",
       "Время подачи Bulk 8     0\n",
       "Время подачи Bulk 9     0\n",
       "Время подачи Bulk 10    0\n",
       "Время подачи Bulk 11    0\n",
       "Время подачи Bulk 12    0\n",
       "Время подачи Bulk 13    0\n",
       "Время подачи Bulk 14    0\n",
       "Время подачи Bulk 15    0\n",
       "Газ 1                   0\n",
       "start_temp              0\n",
       "final_temp              0\n",
       "Wire 1                  0\n",
       "Wire 2                  0\n",
       "Wire 3                  0\n",
       "Wire 4                  0\n",
       "Wire 5                  0\n",
       "Wire 6                  0\n",
       "Wire 7                  0\n",
       "Wire 8                  0\n",
       "Wire 9                  0\n",
       "Время подачи Wire 1     0\n",
       "Время подачи Wire 2     0\n",
       "Время подачи Wire 3     0\n",
       "Время подачи Wire 4     0\n",
       "Время подачи Wire 5     0\n",
       "Время подачи Wire 6     0\n",
       "Время подачи Wire 7     0\n",
       "Время подачи Wire 8     0\n",
       "Время подачи Wire 9     0\n",
       "dtype: int64"
      ]
     },
     "execution_count": 68,
     "metadata": {},
     "output_type": "execute_result"
    }
   ],
   "source": [
    "df.isna().sum()"
   ]
  },
  {
   "cell_type": "code",
   "execution_count": 82,
   "metadata": {
    "id": "yxWwlyy1_W1U"
   },
   "outputs": [],
   "source": [
    "df_corr = df.copy()"
   ]
  },
  {
   "cell_type": "code",
   "execution_count": 73,
   "metadata": {
    "id": "g_PP0xpR-TVI"
   },
   "outputs": [],
   "source": [
    "cols_to_drop = []\n",
    "\n",
    "for col in df_corr.columns:\n",
    "    if 'key' in col or 'Время' in col:\n",
    "        cols_to_drop.append(col)\n"
   ]
  },
  {
   "cell_type": "code",
   "execution_count": 74,
   "metadata": {
    "colab": {
     "base_uri": "https://localhost:8080/"
    },
    "id": "VCwOXh-R-psS",
    "outputId": "6a04991f-fbe2-434b-aa15-a185f486aa0e"
   },
   "outputs": [
    {
     "data": {
      "text/plain": [
       "['key',\n",
       " 'Время подачи Bulk 1',\n",
       " 'Время подачи Bulk 2',\n",
       " 'Время подачи Bulk 3',\n",
       " 'Время подачи Bulk 4',\n",
       " 'Время подачи Bulk 5',\n",
       " 'Время подачи Bulk 6',\n",
       " 'Время подачи Bulk 7',\n",
       " 'Время подачи Bulk 8',\n",
       " 'Время подачи Bulk 9',\n",
       " 'Время подачи Bulk 10',\n",
       " 'Время подачи Bulk 11',\n",
       " 'Время подачи Bulk 12',\n",
       " 'Время подачи Bulk 13',\n",
       " 'Время подачи Bulk 14',\n",
       " 'Время подачи Bulk 15',\n",
       " 'Время подачи Wire 1',\n",
       " 'Время подачи Wire 2',\n",
       " 'Время подачи Wire 3',\n",
       " 'Время подачи Wire 4',\n",
       " 'Время подачи Wire 5',\n",
       " 'Время подачи Wire 6',\n",
       " 'Время подачи Wire 7',\n",
       " 'Время подачи Wire 8',\n",
       " 'Время подачи Wire 9']"
      ]
     },
     "execution_count": 74,
     "metadata": {},
     "output_type": "execute_result"
    }
   ],
   "source": [
    "cols_to_drop"
   ]
  },
  {
   "cell_type": "code",
   "execution_count": 95,
   "metadata": {
    "colab": {
     "base_uri": "https://localhost:8080/",
     "height": 892
    },
    "id": "FyAg0cFzBMmq",
    "outputId": "8c265d68-cc90-4637-b0a1-5637e68bc76e"
   },
   "outputs": [
    {
     "data": {
      "image/png": "[encoded data removed]",
      "text/plain": [
       "<Figure size 2016x1008 with 2 Axes>"
      ]
     },
     "metadata": {},
     "output_type": "display_data"
    }
   ],
   "source": [
    "plt.figure(figsize=(28, 14))\n",
    "mask = np.triu(np.ones_like(df_corr.corr(),\n",
    "                            dtype=np.bool))\n",
    "heatmap = sns.heatmap(df_corr.corr(),\n",
    "                      mask=mask,\n",
    "                      vmin=-1, vmax=1,\n",
    "                      annot=True,\n",
    "                      cmap='BrBG')\n",
    "heatmap.set_title('Triangle Correlation Heatmap', fontdict={'fontsize':18}, pad=16);"
   ]
  },
  {
   "cell_type": "code",
   "execution_count": 89,
   "metadata": {
    "colab": {
     "base_uri": "https://localhost:8080/"
    },
    "id": "FxxjTzJl_wPJ",
    "outputId": "a656ce56-f530-4e5c-d8fe-101a22b85872"
   },
   "outputs": [
    {
     "name": "stdout",
     "output_type": "stream",
     "text": [
      "<class 'pandas.core.frame.DataFrame'>\n",
      "Int64Index: 2293 entries, 0 to 2292\n",
      "Data columns (total 31 columns):\n",
      " #   Column       Non-Null Count  Dtype  \n",
      "---  ------       --------------  -----  \n",
      " 0   active       2293 non-null   float64\n",
      " 1   reactive     2293 non-null   float64\n",
      " 2   arc_length   2293 non-null   int64  \n",
      " 3   total_start  2293 non-null   int64  \n",
      " 4   Bulk 1       2293 non-null   float64\n",
      " 5   Bulk 2       2293 non-null   float64\n",
      " 6   Bulk 3       2293 non-null   float64\n",
      " 7   Bulk 4       2293 non-null   float64\n",
      " 8   Bulk 5       2293 non-null   float64\n",
      " 9   Bulk 6       2293 non-null   float64\n",
      " 10  Bulk 7       2293 non-null   float64\n",
      " 11  Bulk 8       2293 non-null   float64\n",
      " 12  Bulk 9       2293 non-null   float64\n",
      " 13  Bulk 10      2293 non-null   float64\n",
      " 14  Bulk 11      2293 non-null   float64\n",
      " 15  Bulk 12      2293 non-null   float64\n",
      " 16  Bulk 13      2293 non-null   float64\n",
      " 17  Bulk 14      2293 non-null   float64\n",
      " 18  Bulk 15      2293 non-null   float64\n",
      " 19  Газ 1        2293 non-null   float64\n",
      " 20  start_temp   2293 non-null   float64\n",
      " 21  final_temp   2293 non-null   float64\n",
      " 22  Wire 1       2293 non-null   float64\n",
      " 23  Wire 2       2293 non-null   float64\n",
      " 24  Wire 3       2293 non-null   float64\n",
      " 25  Wire 4       2293 non-null   float64\n",
      " 26  Wire 5       2293 non-null   float64\n",
      " 27  Wire 6       2293 non-null   float64\n",
      " 28  Wire 7       2293 non-null   float64\n",
      " 29  Wire 8       2293 non-null   float64\n",
      " 30  Wire 9       2293 non-null   float64\n",
      "dtypes: float64(29), int64(2)\n",
      "memory usage: 573.2 KB\n"
     ]
    }
   ],
   "source": [
    "df_corr.info()"
   ]
  },
  {
   "cell_type": "markdown",
   "metadata": {
    "id": "UQrUrb_WkRBz"
   },
   "source": [
    "**План работы**:\n",
    "1. Проведение исследовательского анализа данных, включающего в себя первичную оценку и предобработку данных, генерирование признаков и составление итоговой таблицы для обучения моделей.\n",
    "2. Построение базовых моделей без подбора параметров, выбор модели.\n",
    "3. Настройка гиперпараметров оптимальной модели, ее обучение.\n",
    "4. Оценка эффективности работы модели на тестовых данных."
   ]
  },
  {
   "cell_type": "markdown",
   "metadata": {
    "id": "AHzr1-FFlEuC"
   },
   "source": [
    "## Построение моделей машинного обучения"
   ]
  },
  {
   "cell_type": "markdown",
   "metadata": {
    "id": "Kr1x3fULo487"
   },
   "source": [
    "Разобьем данные на тренировочную и тестовую выборку:"
   ]
  },
  {
   "cell_type": "code",
   "execution_count": 96,
   "metadata": {
    "id": "0b0jh60XCtxP"
   },
   "outputs": [],
   "source": [
    "df_ml = df.copy()"
   ]
  },
  {
   "cell_type": "code",
   "execution_count": 97,
   "metadata": {
    "colab": {
     "base_uri": "https://localhost:8080/"
    },
    "id": "zj9iVQFbC18J",
    "outputId": "46edb504-5600-4526-eeea-7272ee30127c"
   },
   "outputs": [
    {
     "name": "stdout",
     "output_type": "stream",
     "text": [
      "<class 'pandas.core.frame.DataFrame'>\n",
      "Int64Index: 2293 entries, 0 to 2292\n",
      "Data columns (total 56 columns):\n",
      " #   Column                Non-Null Count  Dtype  \n",
      "---  ------                --------------  -----  \n",
      " 0   key                   2293 non-null   int64  \n",
      " 1   active                2293 non-null   float64\n",
      " 2   reactive              2293 non-null   float64\n",
      " 3   arc_length            2293 non-null   int64  \n",
      " 4   total_start           2293 non-null   int64  \n",
      " 5   Bulk 1                2293 non-null   float64\n",
      " 6   Bulk 2                2293 non-null   float64\n",
      " 7   Bulk 3                2293 non-null   float64\n",
      " 8   Bulk 4                2293 non-null   float64\n",
      " 9   Bulk 5                2293 non-null   float64\n",
      " 10  Bulk 6                2293 non-null   float64\n",
      " 11  Bulk 7                2293 non-null   float64\n",
      " 12  Bulk 8                2293 non-null   float64\n",
      " 13  Bulk 9                2293 non-null   float64\n",
      " 14  Bulk 10               2293 non-null   float64\n",
      " 15  Bulk 11               2293 non-null   float64\n",
      " 16  Bulk 12               2293 non-null   float64\n",
      " 17  Bulk 13               2293 non-null   float64\n",
      " 18  Bulk 14               2293 non-null   float64\n",
      " 19  Bulk 15               2293 non-null   float64\n",
      " 20  Время подачи Bulk 1   2293 non-null   float64\n",
      " 21  Время подачи Bulk 2   2293 non-null   float64\n",
      " 22  Время подачи Bulk 3   2293 non-null   float64\n",
      " 23  Время подачи Bulk 4   2293 non-null   float64\n",
      " 24  Время подачи Bulk 5   2293 non-null   float64\n",
      " 25  Время подачи Bulk 6   2293 non-null   float64\n",
      " 26  Время подачи Bulk 7   2293 non-null   float64\n",
      " 27  Время подачи Bulk 8   2293 non-null   float64\n",
      " 28  Время подачи Bulk 9   2293 non-null   float64\n",
      " 29  Время подачи Bulk 10  2293 non-null   float64\n",
      " 30  Время подачи Bulk 11  2293 non-null   float64\n",
      " 31  Время подачи Bulk 12  2293 non-null   float64\n",
      " 32  Время подачи Bulk 13  2293 non-null   float64\n",
      " 33  Время подачи Bulk 14  2293 non-null   float64\n",
      " 34  Время подачи Bulk 15  2293 non-null   float64\n",
      " 35  Газ 1                 2293 non-null   float64\n",
      " 36  start_temp            2293 non-null   float64\n",
      " 37  final_temp            2293 non-null   float64\n",
      " 38  Wire 1                2293 non-null   float64\n",
      " 39  Wire 2                2293 non-null   float64\n",
      " 40  Wire 3                2293 non-null   float64\n",
      " 41  Wire 4                2293 non-null   float64\n",
      " 42  Wire 5                2293 non-null   float64\n",
      " 43  Wire 6                2293 non-null   float64\n",
      " 44  Wire 7                2293 non-null   float64\n",
      " 45  Wire 8                2293 non-null   float64\n",
      " 46  Wire 9                2293 non-null   float64\n",
      " 47  Время подачи Wire 1   2293 non-null   float64\n",
      " 48  Время подачи Wire 2   2293 non-null   float64\n",
      " 49  Время подачи Wire 3   2293 non-null   float64\n",
      " 50  Время подачи Wire 4   2293 non-null   float64\n",
      " 51  Время подачи Wire 5   2293 non-null   float64\n",
      " 52  Время подачи Wire 6   2293 non-null   float64\n",
      " 53  Время подачи Wire 7   2293 non-null   float64\n",
      " 54  Время подачи Wire 8   2293 non-null   float64\n",
      " 55  Время подачи Wire 9   2293 non-null   float64\n",
      "dtypes: float64(53), int64(3)\n",
      "memory usage: 1021.1 KB\n"
     ]
    }
   ],
   "source": [
    "df_ml.info()"
   ]
  },
  {
   "cell_type": "code",
   "execution_count": 98,
   "metadata": {
    "id": "k8CVyD7bC364"
   },
   "outputs": [],
   "source": [
    "df_ml = df_ml.drop(['Wire 8', 'total_start'], axis=1)"
   ]
  },
  {
   "cell_type": "code",
   "execution_count": 99,
   "metadata": {
    "id": "V0fQvNUYlPzg"
   },
   "outputs": [],
   "source": [
    "X = df_ml.drop('final_temp', axis=1)\n",
    "y = df_ml['final_temp']"
   ]
  },
  {
   "cell_type": "code",
   "execution_count": 100,
   "metadata": {
    "id": "iDLUJXW-ln3G"
   },
   "outputs": [],
   "source": [
    "X_train, X_test, y_train, y_test = train_test_split(X, y, test_size=0.25, random_state=RS)"
   ]
  },
  {
   "cell_type": "markdown",
   "metadata": {
    "id": "xezDi4MYpBBL"
   },
   "source": [
    "### Базовые модели"
   ]
  },
  {
   "cell_type": "markdown",
   "metadata": {
    "id": "6ZnrF9O2lKg3"
   },
   "source": [
    "#### Линейная регрессия"
   ]
  },
  {
   "cell_type": "code",
   "execution_count": 101,
   "metadata": {
    "id": "mCVspxfXlID4"
   },
   "outputs": [],
   "source": [
    "model = LinearRegression()"
   ]
  },
  {
   "cell_type": "code",
   "execution_count": 102,
   "metadata": {
    "colab": {
     "base_uri": "https://localhost:8080/"
    },
    "id": "dfMfSzpjl8Vh",
    "outputId": "06c26312-ad8c-4f84-841a-87c6503aefb0"
   },
   "outputs": [
    {
     "data": {
      "text/plain": [
       "-10.423643188269594"
      ]
     },
     "execution_count": 102,
     "metadata": {},
     "output_type": "execute_result"
    }
   ],
   "source": [
    "cross_val_score(model, X_train, y_train, scoring='neg_mean_absolute_error', cv=3).mean()"
   ]
  },
  {
   "cell_type": "markdown",
   "metadata": {
    "id": "slKs--rtmu6X"
   },
   "source": [
    "#### Решающее дерево"
   ]
  },
  {
   "cell_type": "code",
   "execution_count": 103,
   "metadata": {
    "id": "halmN51lmMX6"
   },
   "outputs": [],
   "source": [
    "tree = DecisionTreeRegressor(random_state=RS)"
   ]
  },
  {
   "cell_type": "code",
   "execution_count": 104,
   "metadata": {
    "colab": {
     "base_uri": "https://localhost:8080/"
    },
    "id": "DNSv7p4fm5W7",
    "outputId": "99f76102-0306-4b40-bf8f-0dfc4062d31e"
   },
   "outputs": [
    {
     "data": {
      "text/plain": [
       "-8.748109365910414"
      ]
     },
     "execution_count": 104,
     "metadata": {},
     "output_type": "execute_result"
    }
   ],
   "source": [
    "cross_val_score(tree, X_train, y_train, scoring='neg_mean_absolute_error', cv=3).mean()"
   ]
  },
  {
   "cell_type": "markdown",
   "metadata": {
    "id": "wSE8Mt8DnGX9"
   },
   "source": [
    "#### Случайный лес"
   ]
  },
  {
   "cell_type": "code",
   "execution_count": 105,
   "metadata": {
    "id": "dKZViiCbm9J7"
   },
   "outputs": [],
   "source": [
    "forest = RandomForestRegressor(random_state=RS)"
   ]
  },
  {
   "cell_type": "code",
   "execution_count": 106,
   "metadata": {
    "colab": {
     "base_uri": "https://localhost:8080/"
    },
    "id": "6GkLRIEynKmz",
    "outputId": "0241f1c5-595d-43b1-b7a3-f252826d9838"
   },
   "outputs": [
    {
     "data": {
      "text/plain": [
       "-6.344101221640487"
      ]
     },
     "execution_count": 106,
     "metadata": {},
     "output_type": "execute_result"
    }
   ],
   "source": [
    "cross_val_score(forest, X_train, y_train, scoring='neg_mean_absolute_error', cv=3).mean()"
   ]
  },
  {
   "cell_type": "markdown",
   "metadata": {
    "id": "ORKUOpy6nb99"
   },
   "source": [
    "#### LightGBM"
   ]
  },
  {
   "cell_type": "code",
   "execution_count": 107,
   "metadata": {
    "id": "P3TT63jXnMZc"
   },
   "outputs": [],
   "source": [
    "lgbm = LGBMRegressor()"
   ]
  },
  {
   "cell_type": "code",
   "execution_count": 108,
   "metadata": {
    "colab": {
     "base_uri": "https://localhost:8080/"
    },
    "id": "_64bfvdJnhEk",
    "outputId": "6a71ec90-99c7-4e22-b8ff-07fedca96b43"
   },
   "outputs": [
    {
     "data": {
      "text/plain": [
       "-6.386172370792479"
      ]
     },
     "execution_count": 108,
     "metadata": {},
     "output_type": "execute_result"
    }
   ],
   "source": [
    "cross_val_score(lgbm, X_train, y_train, scoring='neg_mean_absolute_error', cv=3).mean()"
   ]
  },
  {
   "cell_type": "markdown",
   "metadata": {
    "id": "YDaMGRrMpMai"
   },
   "source": [
    "#### CatBoost"
   ]
  },
  {
   "cell_type": "code",
   "execution_count": 109,
   "metadata": {
    "id": "9T9zc6mgn4iV"
   },
   "outputs": [],
   "source": [
    "cb = CatBoostRegressor(verbose=False)"
   ]
  },
  {
   "cell_type": "code",
   "execution_count": 110,
   "metadata": {
    "colab": {
     "base_uri": "https://localhost:8080/"
    },
    "id": "CvD-oybMoBMN",
    "outputId": "1fa0bf87-4dce-478b-a9ac-565c29b71d14"
   },
   "outputs": [
    {
     "data": {
      "text/plain": [
       "-6.019398315472667"
      ]
     },
     "execution_count": 110,
     "metadata": {},
     "output_type": "execute_result"
    }
   ],
   "source": [
    "cross_val_score(cb, X_train, y_train, scoring='neg_mean_absolute_error', cv=3).mean()"
   ]
  },
  {
   "cell_type": "markdown",
   "metadata": {
    "id": "YmJNtJFcpQpN"
   },
   "source": [
    "Таким образом, выберем CatBoost для подбора гиперпараметров:"
   ]
  },
  {
   "cell_type": "markdown",
   "metadata": {
    "id": "wzlTvh-xpY1A"
   },
   "source": [
    "### Подбор гиперпараметров"
   ]
  },
  {
   "cell_type": "code",
   "execution_count": 111,
   "metadata": {
    "id": "5b8WFk_goEBN"
   },
   "outputs": [],
   "source": [
    "params = {'iterations': range(1000, 2000, 500),\n",
    "          'depth': range(5, 12, 3),\n",
    "          'learning_rate': np.arange(0.01, 0.11, 0.03),\n",
    "          'verbose': [100]\n",
    "         }"
   ]
  },
  {
   "cell_type": "code",
   "execution_count": 112,
   "metadata": {
    "id": "nnDwGCflqAfK"
   },
   "outputs": [],
   "source": [
    "grid = GridSearchCV(cb, params, scoring='neg_mean_absolute_error', cv=3)"
   ]
  },
  {
   "cell_type": "code",
   "execution_count": 113,
   "metadata": {
    "colab": {
     "base_uri": "https://localhost:8080/"
    },
    "id": "zdjJYKbkqjAY",
    "outputId": "a1f476d3-4d01-4f2b-e978-4ef7c58d5bbd"
   },
   "outputs": [
    {
     "name": "stdout",
     "output_type": "stream",
     "text": [
      "0:\tlearn: 11.2582571\ttotal: 4.08ms\tremaining: 4.07s\n",
      "100:\tlearn: 9.5647142\ttotal: 404ms\tremaining: 3.6s\n",
      "200:\tlearn: 8.6875282\ttotal: 810ms\tremaining: 3.22s\n",
      "300:\tlearn: 8.1537534\ttotal: 1.24s\tremaining: 2.88s\n",
      "400:\tlearn: 7.7669650\ttotal: 1.64s\tremaining: 2.44s\n",
      "500:\tlearn: 7.4576790\ttotal: 2.06s\tremaining: 2.05s\n",
      "600:\tlearn: 7.2044041\ttotal: 2.45s\tremaining: 1.63s\n",
      "700:\tlearn: 6.9896262\ttotal: 2.86s\tremaining: 1.22s\n",
      "800:\tlearn: 6.7967718\ttotal: 3.25s\tremaining: 809ms\n",
      "900:\tlearn: 6.5918261\ttotal: 3.64s\tremaining: 400ms\n",
      "999:\tlearn: 6.3874711\ttotal: 4.04s\tremaining: 0us\n",
      "0:\tlearn: 11.0026138\ttotal: 4.35ms\tremaining: 4.34s\n",
      "100:\tlearn: 9.3919492\ttotal: 396ms\tremaining: 3.52s\n",
      "200:\tlearn: 8.5574951\ttotal: 809ms\tremaining: 3.21s\n",
      "300:\tlearn: 8.0355448\ttotal: 1.2s\tremaining: 2.79s\n",
      "400:\tlearn: 7.6578649\ttotal: 1.6s\tremaining: 2.38s\n",
      "500:\tlearn: 7.3533661\ttotal: 2s\tremaining: 1.99s\n",
      "600:\tlearn: 7.0938423\ttotal: 2.39s\tremaining: 1.59s\n",
      "700:\tlearn: 6.8601849\ttotal: 2.79s\tremaining: 1.19s\n",
      "800:\tlearn: 6.6337532\ttotal: 3.22s\tremaining: 799ms\n",
      "900:\tlearn: 6.4197881\ttotal: 3.6s\tremaining: 396ms\n",
      "999:\tlearn: 6.2209552\ttotal: 4s\tremaining: 0us\n",
      "0:\tlearn: 11.2480665\ttotal: 4.26ms\tremaining: 4.26s\n",
      "100:\tlearn: 9.5968821\ttotal: 404ms\tremaining: 3.6s\n",
      "200:\tlearn: 8.7215606\ttotal: 824ms\tremaining: 3.28s\n",
      "300:\tlearn: 8.1658118\ttotal: 1.22s\tremaining: 2.83s\n",
      "400:\tlearn: 7.7919840\ttotal: 1.61s\tremaining: 2.41s\n",
      "500:\tlearn: 7.5033286\ttotal: 2.03s\tremaining: 2.02s\n",
      "600:\tlearn: 7.2558921\ttotal: 2.42s\tremaining: 1.61s\n",
      "700:\tlearn: 7.0567836\ttotal: 2.83s\tremaining: 1.21s\n",
      "800:\tlearn: 6.8522995\ttotal: 3.23s\tremaining: 802ms\n",
      "900:\tlearn: 6.6605913\ttotal: 3.63s\tremaining: 399ms\n",
      "999:\tlearn: 6.5177923\ttotal: 4.04s\tremaining: 0us\n",
      "0:\tlearn: 11.1864769\ttotal: 4.04ms\tremaining: 4.04s\n",
      "100:\tlearn: 7.7795710\ttotal: 396ms\tremaining: 3.53s\n",
      "200:\tlearn: 6.8115303\ttotal: 798ms\tremaining: 3.17s\n",
      "300:\tlearn: 6.0825041\ttotal: 1.19s\tremaining: 2.76s\n",
      "400:\tlearn: 5.6012416\ttotal: 1.6s\tremaining: 2.38s\n",
      "500:\tlearn: 5.1319698\ttotal: 1.99s\tremaining: 1.98s\n",
      "600:\tlearn: 4.7399500\ttotal: 2.38s\tremaining: 1.58s\n",
      "700:\tlearn: 4.4147984\ttotal: 2.79s\tremaining: 1.19s\n",
      "800:\tlearn: 4.0935155\ttotal: 3.17s\tremaining: 789ms\n",
      "900:\tlearn: 3.8181724\ttotal: 3.59s\tremaining: 394ms\n",
      "999:\tlearn: 3.5669956\ttotal: 3.98s\tremaining: 0us\n",
      "0:\tlearn: 10.9355492\ttotal: 4.08ms\tremaining: 4.08s\n",
      "100:\tlearn: 7.6231196\ttotal: 401ms\tremaining: 3.57s\n",
      "200:\tlearn: 6.6476236\ttotal: 832ms\tremaining: 3.31s\n",
      "300:\tlearn: 5.8726712\ttotal: 1.23s\tremaining: 2.86s\n",
      "400:\tlearn: 5.2751132\ttotal: 1.64s\tremaining: 2.45s\n",
      "500:\tlearn: 4.8362999\ttotal: 2.02s\tremaining: 2.02s\n",
      "600:\tlearn: 4.4778676\ttotal: 2.42s\tremaining: 1.61s\n",
      "700:\tlearn: 4.1723842\ttotal: 2.83s\tremaining: 1.21s\n",
      "800:\tlearn: 3.8827786\ttotal: 3.23s\tremaining: 804ms\n",
      "900:\tlearn: 3.6214834\ttotal: 3.65s\tremaining: 401ms\n",
      "999:\tlearn: 3.3786893\ttotal: 4.04s\tremaining: 0us\n",
      "0:\tlearn: 11.1706719\ttotal: 4.21ms\tremaining: 4.21s\n",
      "100:\tlearn: 7.7584567\ttotal: 421ms\tremaining: 3.75s\n",
      "200:\tlearn: 6.7764356\ttotal: 818ms\tremaining: 3.25s\n",
      "300:\tlearn: 6.1369894\ttotal: 1.22s\tremaining: 2.83s\n",
      "400:\tlearn: 5.5473631\ttotal: 1.64s\tremaining: 2.44s\n",
      "500:\tlearn: 5.0719267\ttotal: 2.04s\tremaining: 2.03s\n",
      "600:\tlearn: 4.6709485\ttotal: 2.44s\tremaining: 1.62s\n",
      "700:\tlearn: 4.3013654\ttotal: 2.84s\tremaining: 1.21s\n",
      "800:\tlearn: 3.9695570\ttotal: 3.25s\tremaining: 807ms\n",
      "900:\tlearn: 3.6601026\ttotal: 3.65s\tremaining: 401ms\n",
      "999:\tlearn: 3.4255561\ttotal: 4.05s\tremaining: 0us\n",
      "0:\tlearn: 11.1162634\ttotal: 3.92ms\tremaining: 3.91s\n",
      "100:\tlearn: 7.0522086\ttotal: 412ms\tremaining: 3.67s\n",
      "200:\tlearn: 5.9124124\ttotal: 801ms\tremaining: 3.18s\n",
      "300:\tlearn: 5.0324101\ttotal: 1.19s\tremaining: 2.77s\n",
      "400:\tlearn: 4.4046689\ttotal: 1.6s\tremaining: 2.39s\n",
      "500:\tlearn: 3.8387339\ttotal: 1.99s\tremaining: 1.98s\n",
      "600:\tlearn: 3.4244726\ttotal: 2.4s\tremaining: 1.59s\n",
      "700:\tlearn: 3.0607931\ttotal: 2.82s\tremaining: 1.2s\n",
      "800:\tlearn: 2.7370533\ttotal: 3.21s\tremaining: 796ms\n",
      "900:\tlearn: 2.4746157\ttotal: 3.61s\tremaining: 396ms\n",
      "999:\tlearn: 2.2145469\ttotal: 4s\tremaining: 0us\n",
      "0:\tlearn: 10.8699606\ttotal: 3.96ms\tremaining: 3.96s\n",
      "100:\tlearn: 6.8838949\ttotal: 405ms\tremaining: 3.61s\n",
      "200:\tlearn: 5.5998012\ttotal: 797ms\tremaining: 3.17s\n",
      "300:\tlearn: 4.7955649\ttotal: 1.2s\tremaining: 2.79s\n",
      "400:\tlearn: 4.1827650\ttotal: 2.19s\tremaining: 3.27s\n",
      "500:\tlearn: 3.6748432\ttotal: 2.6s\tremaining: 2.59s\n",
      "600:\tlearn: 3.2395610\ttotal: 3.52s\tremaining: 2.34s\n",
      "700:\tlearn: 2.8664468\ttotal: 3.91s\tremaining: 1.67s\n",
      "800:\tlearn: 2.5468674\ttotal: 4.32s\tremaining: 1.07s\n",
      "900:\tlearn: 2.2703398\ttotal: 4.71s\tremaining: 517ms\n",
      "999:\tlearn: 2.0424447\ttotal: 5.1s\tremaining: 0us\n",
      "0:\tlearn: 11.0948144\ttotal: 5.83ms\tremaining: 5.82s\n",
      "100:\tlearn: 7.0484319\ttotal: 411ms\tremaining: 3.66s\n",
      "200:\tlearn: 5.8540321\ttotal: 802ms\tremaining: 3.19s\n",
      "300:\tlearn: 4.9856009\ttotal: 1.21s\tremaining: 2.8s\n",
      "400:\tlearn: 4.3637888\ttotal: 1.61s\tremaining: 2.4s\n",
      "500:\tlearn: 3.7865039\ttotal: 2.02s\tremaining: 2.01s\n",
      "600:\tlearn: 3.3527210\ttotal: 2.42s\tremaining: 1.61s\n",
      "700:\tlearn: 2.9642558\ttotal: 2.83s\tremaining: 1.21s\n",
      "800:\tlearn: 2.6372285\ttotal: 3.23s\tremaining: 803ms\n",
      "900:\tlearn: 2.3682070\ttotal: 3.66s\tremaining: 402ms\n",
      "999:\tlearn: 2.1706382\ttotal: 4.06s\tremaining: 0us\n",
      "0:\tlearn: 11.0476465\ttotal: 4.06ms\tremaining: 4.05s\n",
      "100:\tlearn: 6.4770924\ttotal: 414ms\tremaining: 3.68s\n",
      "200:\tlearn: 5.1448779\ttotal: 802ms\tremaining: 3.19s\n",
      "300:\tlearn: 4.2317919\ttotal: 1.2s\tremaining: 2.79s\n",
      "400:\tlearn: 3.5347401\ttotal: 1.59s\tremaining: 2.38s\n",
      "500:\tlearn: 3.0476971\ttotal: 1.99s\tremaining: 1.99s\n",
      "600:\tlearn: 2.5693991\ttotal: 2.39s\tremaining: 1.58s\n",
      "700:\tlearn: 2.2108020\ttotal: 2.78s\tremaining: 1.19s\n",
      "800:\tlearn: 1.9206711\ttotal: 3.19s\tremaining: 792ms\n",
      "900:\tlearn: 1.6717334\ttotal: 3.58s\tremaining: 393ms\n",
      "999:\tlearn: 1.4631306\ttotal: 3.97s\tremaining: 0us\n",
      "0:\tlearn: 10.8058750\ttotal: 3.92ms\tremaining: 3.91s\n",
      "100:\tlearn: 6.3082128\ttotal: 392ms\tremaining: 3.49s\n",
      "200:\tlearn: 4.8618175\ttotal: 779ms\tremaining: 3.1s\n",
      "300:\tlearn: 4.0215027\ttotal: 1.17s\tremaining: 2.73s\n",
      "400:\tlearn: 3.3501795\ttotal: 1.56s\tremaining: 2.34s\n",
      "500:\tlearn: 2.7934503\ttotal: 1.97s\tremaining: 1.96s\n",
      "600:\tlearn: 2.3880899\ttotal: 2.35s\tremaining: 1.56s\n",
      "700:\tlearn: 2.0377661\ttotal: 2.74s\tremaining: 1.17s\n",
      "800:\tlearn: 1.7698555\ttotal: 3.15s\tremaining: 782ms\n",
      "900:\tlearn: 1.5200548\ttotal: 3.54s\tremaining: 389ms\n",
      "999:\tlearn: 1.3237453\ttotal: 3.94s\tremaining: 0us\n",
      "0:\tlearn: 11.0205256\ttotal: 4.21ms\tremaining: 4.21s\n",
      "100:\tlearn: 6.4395976\ttotal: 404ms\tremaining: 3.59s\n",
      "200:\tlearn: 5.0692521\ttotal: 792ms\tremaining: 3.15s\n",
      "300:\tlearn: 4.1009041\ttotal: 1.2s\tremaining: 2.78s\n",
      "400:\tlearn: 3.4333493\ttotal: 1.62s\tremaining: 2.42s\n",
      "500:\tlearn: 2.9306081\ttotal: 2.03s\tremaining: 2.02s\n",
      "600:\tlearn: 2.4943856\ttotal: 2.44s\tremaining: 1.62s\n",
      "700:\tlearn: 2.1432692\ttotal: 2.85s\tremaining: 1.22s\n",
      "800:\tlearn: 1.8483829\ttotal: 3.27s\tremaining: 814ms\n",
      "900:\tlearn: 1.6033082\ttotal: 3.67s\tremaining: 403ms\n",
      "999:\tlearn: 1.4026566\ttotal: 4.08s\tremaining: 0us\n",
      "0:\tlearn: 11.2582571\ttotal: 3.98ms\tremaining: 5.97s\n",
      "100:\tlearn: 9.5647142\ttotal: 403ms\tremaining: 5.58s\n",
      "200:\tlearn: 8.6875282\ttotal: 812ms\tremaining: 5.25s\n",
      "300:\tlearn: 8.1537534\ttotal: 1.21s\tremaining: 4.81s\n",
      "400:\tlearn: 7.7669650\ttotal: 1.6s\tremaining: 4.4s\n",
      "500:\tlearn: 7.4576790\ttotal: 2.01s\tremaining: 4.02s\n",
      "600:\tlearn: 7.2044041\ttotal: 2.4s\tremaining: 3.6s\n",
      "700:\tlearn: 6.9896262\ttotal: 2.81s\tremaining: 3.2s\n",
      "800:\tlearn: 6.7967718\ttotal: 3.21s\tremaining: 2.8s\n",
      "900:\tlearn: 6.5918261\ttotal: 3.6s\tremaining: 2.39s\n",
      "1000:\tlearn: 6.3846692\ttotal: 4s\tremaining: 2s\n",
      "1100:\tlearn: 6.2206289\ttotal: 4.39s\tremaining: 1.59s\n",
      "1200:\tlearn: 6.0945699\ttotal: 4.79s\tremaining: 1.19s\n",
      "1300:\tlearn: 5.9695772\ttotal: 5.17s\tremaining: 792ms\n",
      "1400:\tlearn: 5.8285840\ttotal: 5.57s\tremaining: 394ms\n",
      "1499:\tlearn: 5.6999778\ttotal: 5.98s\tremaining: 0us\n",
      "0:\tlearn: 11.0026138\ttotal: 4.38ms\tremaining: 6.56s\n",
      "100:\tlearn: 9.3919492\ttotal: 397ms\tremaining: 5.5s\n",
      "200:\tlearn: 8.5574951\ttotal: 798ms\tremaining: 5.16s\n",
      "300:\tlearn: 8.0355448\ttotal: 1.22s\tremaining: 4.85s\n",
      "400:\tlearn: 7.6578649\ttotal: 1.62s\tremaining: 4.44s\n",
      "500:\tlearn: 7.3533661\ttotal: 2.01s\tremaining: 4.01s\n",
      "600:\tlearn: 7.0938423\ttotal: 2.39s\tremaining: 3.58s\n",
      "700:\tlearn: 6.8601849\ttotal: 2.8s\tremaining: 3.19s\n",
      "800:\tlearn: 6.6337532\ttotal: 3.18s\tremaining: 2.78s\n",
      "900:\tlearn: 6.4197881\ttotal: 3.58s\tremaining: 2.38s\n",
      "1000:\tlearn: 6.2181349\ttotal: 3.98s\tremaining: 1.99s\n",
      "1100:\tlearn: 6.0221769\ttotal: 4.38s\tremaining: 1.59s\n",
      "1200:\tlearn: 5.8430282\ttotal: 4.79s\tremaining: 1.19s\n",
      "1300:\tlearn: 5.6789282\ttotal: 5.18s\tremaining: 792ms\n",
      "1400:\tlearn: 5.5249213\ttotal: 5.59s\tremaining: 395ms\n",
      "1499:\tlearn: 5.3800261\ttotal: 5.97s\tremaining: 0us\n",
      "0:\tlearn: 11.2480665\ttotal: 4.07ms\tremaining: 6.1s\n",
      "100:\tlearn: 9.5968821\ttotal: 408ms\tremaining: 5.66s\n",
      "200:\tlearn: 8.7215606\ttotal: 820ms\tremaining: 5.3s\n",
      "300:\tlearn: 8.1658118\ttotal: 1.22s\tremaining: 4.85s\n",
      "400:\tlearn: 7.7919840\ttotal: 1.64s\tremaining: 4.48s\n",
      "500:\tlearn: 7.5033286\ttotal: 2.04s\tremaining: 4.06s\n",
      "600:\tlearn: 7.2558921\ttotal: 2.44s\tremaining: 3.65s\n",
      "700:\tlearn: 7.0567836\ttotal: 2.85s\tremaining: 3.25s\n",
      "800:\tlearn: 6.8522995\ttotal: 3.25s\tremaining: 2.84s\n",
      "900:\tlearn: 6.6605913\ttotal: 3.67s\tremaining: 2.44s\n",
      "1000:\tlearn: 6.5160773\ttotal: 4.07s\tremaining: 2.03s\n",
      "1100:\tlearn: 6.3705422\ttotal: 4.46s\tremaining: 1.61s\n",
      "1200:\tlearn: 6.1816636\ttotal: 4.87s\tremaining: 1.21s\n",
      "1300:\tlearn: 6.0261578\ttotal: 5.29s\tremaining: 810ms\n",
      "1400:\tlearn: 5.8755485\ttotal: 5.7s\tremaining: 403ms\n",
      "1499:\tlearn: 5.7143297\ttotal: 6.1s\tremaining: 0us\n",
      "0:\tlearn: 11.1864769\ttotal: 4.48ms\tremaining: 6.71s\n",
      "100:\tlearn: 7.7795710\ttotal: 413ms\tremaining: 5.72s\n",
      "200:\tlearn: 6.8115303\ttotal: 803ms\tremaining: 5.19s\n",
      "300:\tlearn: 6.0825041\ttotal: 1.19s\tremaining: 4.73s\n",
      "400:\tlearn: 5.6012416\ttotal: 1.59s\tremaining: 4.37s\n",
      "500:\tlearn: 5.1319698\ttotal: 1.98s\tremaining: 3.95s\n",
      "600:\tlearn: 4.7399500\ttotal: 2.38s\tremaining: 3.57s\n",
      "700:\tlearn: 4.4147984\ttotal: 2.78s\tremaining: 3.17s\n",
      "800:\tlearn: 4.0935155\ttotal: 3.17s\tremaining: 2.77s\n",
      "900:\tlearn: 3.8181724\ttotal: 3.58s\tremaining: 2.38s\n",
      "1000:\tlearn: 3.5656372\ttotal: 3.97s\tremaining: 1.98s\n",
      "1100:\tlearn: 3.3632105\ttotal: 4.38s\tremaining: 1.59s\n",
      "1200:\tlearn: 3.1563092\ttotal: 4.78s\tremaining: 1.19s\n",
      "1300:\tlearn: 2.9638118\ttotal: 5.17s\tremaining: 791ms\n",
      "1400:\tlearn: 2.7888292\ttotal: 5.58s\tremaining: 394ms\n",
      "1499:\tlearn: 2.6257218\ttotal: 5.97s\tremaining: 0us\n",
      "0:\tlearn: 10.9355492\ttotal: 4.29ms\tremaining: 6.44s\n",
      "100:\tlearn: 7.6231196\ttotal: 416ms\tremaining: 5.76s\n",
      "200:\tlearn: 6.6476236\ttotal: 801ms\tremaining: 5.18s\n",
      "300:\tlearn: 5.8726712\ttotal: 1.2s\tremaining: 4.78s\n",
      "400:\tlearn: 5.2751132\ttotal: 1.61s\tremaining: 4.42s\n",
      "500:\tlearn: 4.8362999\ttotal: 2.01s\tremaining: 4s\n",
      "600:\tlearn: 4.4778676\ttotal: 2.41s\tremaining: 3.61s\n",
      "700:\tlearn: 4.1723842\ttotal: 2.81s\tremaining: 3.2s\n",
      "800:\tlearn: 3.8827786\ttotal: 3.23s\tremaining: 2.82s\n",
      "900:\tlearn: 3.6214834\ttotal: 3.64s\tremaining: 2.42s\n",
      "1000:\tlearn: 3.3746441\ttotal: 4.04s\tremaining: 2.01s\n",
      "1100:\tlearn: 3.1587730\ttotal: 4.44s\tremaining: 1.61s\n",
      "1200:\tlearn: 2.9456928\ttotal: 4.83s\tremaining: 1.2s\n",
      "1300:\tlearn: 2.7398999\ttotal: 5.23s\tremaining: 800ms\n",
      "1400:\tlearn: 2.5674599\ttotal: 5.63s\tremaining: 398ms\n",
      "1499:\tlearn: 2.4044520\ttotal: 6.02s\tremaining: 0us\n",
      "0:\tlearn: 11.1706719\ttotal: 4.47ms\tremaining: 6.71s\n",
      "100:\tlearn: 7.7584567\ttotal: 418ms\tremaining: 5.79s\n",
      "200:\tlearn: 6.7764356\ttotal: 816ms\tremaining: 5.27s\n",
      "300:\tlearn: 6.1369894\ttotal: 1.22s\tremaining: 4.86s\n",
      "400:\tlearn: 5.5473631\ttotal: 1.62s\tremaining: 4.43s\n",
      "500:\tlearn: 5.0719267\ttotal: 2.01s\tremaining: 4.01s\n",
      "600:\tlearn: 4.6709485\ttotal: 2.42s\tremaining: 3.62s\n",
      "700:\tlearn: 4.3013654\ttotal: 2.83s\tremaining: 3.22s\n",
      "800:\tlearn: 3.9695570\ttotal: 3.24s\tremaining: 2.82s\n",
      "900:\tlearn: 3.6601026\ttotal: 3.63s\tremaining: 2.41s\n",
      "1000:\tlearn: 3.4210756\ttotal: 4.03s\tremaining: 2.01s\n",
      "1100:\tlearn: 3.1783534\ttotal: 4.44s\tremaining: 1.61s\n",
      "1200:\tlearn: 2.9538398\ttotal: 4.84s\tremaining: 1.2s\n",
      "1300:\tlearn: 2.7706972\ttotal: 5.25s\tremaining: 803ms\n",
      "1400:\tlearn: 2.6233161\ttotal: 5.64s\tremaining: 399ms\n",
      "1499:\tlearn: 2.4830348\ttotal: 6.04s\tremaining: 0us\n",
      "0:\tlearn: 11.1162634\ttotal: 4.03ms\tremaining: 6.04s\n",
      "100:\tlearn: 7.0522086\ttotal: 405ms\tremaining: 5.61s\n",
      "200:\tlearn: 5.9124124\ttotal: 817ms\tremaining: 5.28s\n",
      "300:\tlearn: 5.0324101\ttotal: 1.22s\tremaining: 4.86s\n",
      "400:\tlearn: 4.4046689\ttotal: 1.61s\tremaining: 4.41s\n",
      "500:\tlearn: 3.8387339\ttotal: 2s\tremaining: 3.99s\n",
      "600:\tlearn: 3.4244726\ttotal: 2.4s\tremaining: 3.59s\n",
      "700:\tlearn: 3.0607931\ttotal: 2.8s\tremaining: 3.19s\n",
      "800:\tlearn: 2.7370533\ttotal: 3.2s\tremaining: 2.79s\n",
      "900:\tlearn: 2.4746157\ttotal: 3.59s\tremaining: 2.39s\n",
      "1000:\tlearn: 2.2120278\ttotal: 3.99s\tremaining: 1.99s\n",
      "1100:\tlearn: 1.9983649\ttotal: 4.4s\tremaining: 1.59s\n",
      "1200:\tlearn: 1.8058666\ttotal: 4.79s\tremaining: 1.19s\n",
      "1300:\tlearn: 1.6375002\ttotal: 5.2s\tremaining: 796ms\n",
      "1400:\tlearn: 1.4932771\ttotal: 5.59s\tremaining: 395ms\n",
      "1499:\tlearn: 1.3637691\ttotal: 5.97s\tremaining: 0us\n",
      "0:\tlearn: 10.8699606\ttotal: 7.56ms\tremaining: 11.3s\n",
      "100:\tlearn: 6.8838949\ttotal: 407ms\tremaining: 5.63s\n",
      "200:\tlearn: 5.5998012\ttotal: 794ms\tremaining: 5.13s\n",
      "300:\tlearn: 4.7955649\ttotal: 1.21s\tremaining: 4.8s\n",
      "400:\tlearn: 4.1827650\ttotal: 1.6s\tremaining: 4.38s\n",
      "500:\tlearn: 3.6748432\ttotal: 1.98s\tremaining: 3.95s\n",
      "600:\tlearn: 3.2395610\ttotal: 2.41s\tremaining: 3.6s\n",
      "700:\tlearn: 2.8664468\ttotal: 2.81s\tremaining: 3.21s\n",
      "800:\tlearn: 2.5468674\ttotal: 3.32s\tremaining: 2.9s\n",
      "900:\tlearn: 2.2703398\ttotal: 4.33s\tremaining: 2.88s\n",
      "1000:\tlearn: 2.0410179\ttotal: 5.34s\tremaining: 2.66s\n",
      "1100:\tlearn: 1.8456150\ttotal: 5.81s\tremaining: 2.1s\n",
      "1200:\tlearn: 1.6612482\ttotal: 6.21s\tremaining: 1.55s\n",
      "1300:\tlearn: 1.5036038\ttotal: 6.61s\tremaining: 1.01s\n",
      "1400:\tlearn: 1.3621078\ttotal: 7s\tremaining: 495ms\n",
      "1499:\tlearn: 1.2425173\ttotal: 7.4s\tremaining: 0us\n",
      "0:\tlearn: 11.0948144\ttotal: 4.16ms\tremaining: 6.24s\n",
      "100:\tlearn: 7.0484319\ttotal: 409ms\tremaining: 5.67s\n",
      "200:\tlearn: 5.8540321\ttotal: 830ms\tremaining: 5.36s\n",
      "300:\tlearn: 4.9856009\ttotal: 1.22s\tremaining: 4.88s\n",
      "400:\tlearn: 4.3637888\ttotal: 1.64s\tremaining: 4.49s\n",
      "500:\tlearn: 3.7865039\ttotal: 2.04s\tremaining: 4.06s\n",
      "600:\tlearn: 3.3527210\ttotal: 2.43s\tremaining: 3.64s\n",
      "700:\tlearn: 2.9642558\ttotal: 2.84s\tremaining: 3.24s\n",
      "800:\tlearn: 2.6372285\ttotal: 3.24s\tremaining: 2.83s\n",
      "900:\tlearn: 2.3682070\ttotal: 3.66s\tremaining: 2.43s\n",
      "1000:\tlearn: 2.1684807\ttotal: 4.06s\tremaining: 2.02s\n",
      "1100:\tlearn: 1.9564352\ttotal: 4.46s\tremaining: 1.61s\n",
      "1200:\tlearn: 1.7740534\ttotal: 4.87s\tremaining: 1.21s\n",
      "1300:\tlearn: 1.5992319\ttotal: 5.27s\tremaining: 806ms\n",
      "1400:\tlearn: 1.4389248\ttotal: 5.69s\tremaining: 402ms\n",
      "1499:\tlearn: 1.3064367\ttotal: 6.08s\tremaining: 0us\n",
      "0:\tlearn: 11.0476465\ttotal: 4.13ms\tremaining: 6.19s\n",
      "100:\tlearn: 6.4770924\ttotal: 396ms\tremaining: 5.49s\n",
      "200:\tlearn: 5.1448779\ttotal: 805ms\tremaining: 5.2s\n",
      "300:\tlearn: 4.2317919\ttotal: 1.2s\tremaining: 4.77s\n",
      "400:\tlearn: 3.5347401\ttotal: 1.64s\tremaining: 4.51s\n",
      "500:\tlearn: 3.0476971\ttotal: 2.04s\tremaining: 4.06s\n",
      "600:\tlearn: 2.5693991\ttotal: 2.44s\tremaining: 3.65s\n",
      "700:\tlearn: 2.2108020\ttotal: 2.83s\tremaining: 3.23s\n",
      "800:\tlearn: 1.9206711\ttotal: 3.23s\tremaining: 2.82s\n",
      "900:\tlearn: 1.6717334\ttotal: 3.64s\tremaining: 2.42s\n",
      "1000:\tlearn: 1.4601875\ttotal: 4.04s\tremaining: 2.01s\n",
      "1100:\tlearn: 1.2791453\ttotal: 4.45s\tremaining: 1.61s\n",
      "1200:\tlearn: 1.1181979\ttotal: 4.84s\tremaining: 1.21s\n",
      "1300:\tlearn: 0.9882003\ttotal: 5.24s\tremaining: 801ms\n",
      "1400:\tlearn: 0.8855829\ttotal: 5.65s\tremaining: 399ms\n",
      "1499:\tlearn: 0.7705146\ttotal: 6.04s\tremaining: 0us\n",
      "0:\tlearn: 10.8058750\ttotal: 3.94ms\tremaining: 5.91s\n",
      "100:\tlearn: 6.3082128\ttotal: 412ms\tremaining: 5.7s\n",
      "200:\tlearn: 4.8618175\ttotal: 799ms\tremaining: 5.16s\n",
      "300:\tlearn: 4.0215027\ttotal: 1.19s\tremaining: 4.74s\n",
      "400:\tlearn: 3.3501795\ttotal: 1.6s\tremaining: 4.38s\n",
      "500:\tlearn: 2.7934503\ttotal: 1.99s\tremaining: 3.96s\n",
      "600:\tlearn: 2.3880899\ttotal: 2.4s\tremaining: 3.59s\n",
      "700:\tlearn: 2.0377661\ttotal: 2.79s\tremaining: 3.18s\n",
      "800:\tlearn: 1.7698555\ttotal: 3.18s\tremaining: 2.78s\n",
      "900:\tlearn: 1.5200548\ttotal: 3.58s\tremaining: 2.38s\n",
      "1000:\tlearn: 1.3217909\ttotal: 3.98s\tremaining: 1.98s\n",
      "1100:\tlearn: 1.1422763\ttotal: 4.38s\tremaining: 1.59s\n",
      "1200:\tlearn: 1.0011816\ttotal: 4.77s\tremaining: 1.19s\n",
      "1300:\tlearn: 0.8698048\ttotal: 5.17s\tremaining: 791ms\n",
      "1400:\tlearn: 0.7571380\ttotal: 5.6s\tremaining: 396ms\n",
      "1499:\tlearn: 0.6637214\ttotal: 5.99s\tremaining: 0us\n",
      "0:\tlearn: 11.0205256\ttotal: 4.33ms\tremaining: 6.49s\n",
      "100:\tlearn: 6.4395976\ttotal: 414ms\tremaining: 5.74s\n",
      "200:\tlearn: 5.0692521\ttotal: 816ms\tremaining: 5.28s\n",
      "300:\tlearn: 4.1009041\ttotal: 1.23s\tremaining: 4.91s\n",
      "400:\tlearn: 3.4333493\ttotal: 1.63s\tremaining: 4.47s\n",
      "500:\tlearn: 2.9306081\ttotal: 2.04s\tremaining: 4.06s\n",
      "600:\tlearn: 2.4943856\ttotal: 2.44s\tremaining: 3.66s\n",
      "700:\tlearn: 2.1432692\ttotal: 2.84s\tremaining: 3.24s\n",
      "800:\tlearn: 1.8483829\ttotal: 3.25s\tremaining: 2.84s\n",
      "900:\tlearn: 1.6033082\ttotal: 3.66s\tremaining: 2.43s\n",
      "1000:\tlearn: 1.4011716\ttotal: 4.07s\tremaining: 2.03s\n",
      "1100:\tlearn: 1.2283906\ttotal: 4.49s\tremaining: 1.63s\n",
      "1200:\tlearn: 1.0763640\ttotal: 4.89s\tremaining: 1.22s\n",
      "1300:\tlearn: 0.9351643\ttotal: 5.31s\tremaining: 812ms\n",
      "1400:\tlearn: 0.8140706\ttotal: 5.7s\tremaining: 403ms\n",
      "1499:\tlearn: 0.7116935\ttotal: 6.1s\tremaining: 0us\n",
      "0:\tlearn: 11.2541758\ttotal: 25.5ms\tremaining: 25.4s\n",
      "100:\tlearn: 9.1707718\ttotal: 1.97s\tremaining: 17.6s\n",
      "200:\tlearn: 8.0166563\ttotal: 3.95s\tremaining: 15.7s\n",
      "300:\tlearn: 7.3141466\ttotal: 5.87s\tremaining: 13.6s\n",
      "400:\tlearn: 6.8223611\ttotal: 7.78s\tremaining: 11.6s\n",
      "500:\tlearn: 6.4270814\ttotal: 9.7s\tremaining: 9.66s\n",
      "600:\tlearn: 6.1034071\ttotal: 11.6s\tremaining: 7.72s\n",
      "700:\tlearn: 5.8041332\ttotal: 13.6s\tremaining: 5.8s\n",
      "800:\tlearn: 5.5406067\ttotal: 15.6s\tremaining: 3.86s\n",
      "900:\tlearn: 5.2760210\ttotal: 17.5s\tremaining: 1.92s\n",
      "999:\tlearn: 5.0585105\ttotal: 19.4s\tremaining: 0us\n",
      "0:\tlearn: 10.9953434\ttotal: 25.7ms\tremaining: 25.7s\n",
      "100:\tlearn: 8.9810568\ttotal: 1.97s\tremaining: 17.5s\n",
      "200:\tlearn: 7.8666296\ttotal: 3.9s\tremaining: 15.5s\n",
      "300:\tlearn: 7.1821513\ttotal: 5.83s\tremaining: 13.5s\n",
      "400:\tlearn: 6.6859085\ttotal: 7.75s\tremaining: 11.6s\n",
      "500:\tlearn: 6.2947702\ttotal: 9.65s\tremaining: 9.61s\n",
      "600:\tlearn: 5.9439533\ttotal: 11.6s\tremaining: 7.68s\n",
      "700:\tlearn: 5.6348860\ttotal: 13.5s\tremaining: 5.77s\n",
      "800:\tlearn: 5.3632899\ttotal: 15.5s\tremaining: 3.85s\n",
      "900:\tlearn: 5.1031176\ttotal: 17.4s\tremaining: 1.92s\n",
      "999:\tlearn: 4.8163733\ttotal: 19.4s\tremaining: 0us\n",
      "0:\tlearn: 11.2411589\ttotal: 25ms\tremaining: 25s\n",
      "100:\tlearn: 9.1940419\ttotal: 1.93s\tremaining: 17.2s\n",
      "200:\tlearn: 8.0728776\ttotal: 3.87s\tremaining: 15.4s\n",
      "300:\tlearn: 7.3352123\ttotal: 5.81s\tremaining: 13.5s\n",
      "400:\tlearn: 6.8378810\ttotal: 7.68s\tremaining: 11.5s\n",
      "500:\tlearn: 6.4222687\ttotal: 9.58s\tremaining: 9.54s\n",
      "600:\tlearn: 6.0747571\ttotal: 11.5s\tremaining: 7.63s\n",
      "700:\tlearn: 5.7788960\ttotal: 13.4s\tremaining: 5.72s\n",
      "800:\tlearn: 5.4982557\ttotal: 15.4s\tremaining: 3.82s\n",
      "900:\tlearn: 5.2758068\ttotal: 17.3s\tremaining: 1.9s\n",
      "999:\tlearn: 5.0291369\ttotal: 19.2s\tremaining: 0us\n",
      "0:\tlearn: 11.1700849\ttotal: 27.7ms\tremaining: 27.7s\n",
      "100:\tlearn: 6.7288325\ttotal: 1.95s\tremaining: 17.4s\n",
      "200:\tlearn: 5.5306990\ttotal: 3.89s\tremaining: 15.5s\n",
      "300:\tlearn: 4.6052240\ttotal: 5.85s\tremaining: 13.6s\n",
      "400:\tlearn: 3.7605193\ttotal: 7.84s\tremaining: 11.7s\n",
      "500:\tlearn: 3.1657797\ttotal: 9.78s\tremaining: 9.74s\n",
      "600:\tlearn: 2.7142186\ttotal: 11.7s\tremaining: 7.79s\n",
      "700:\tlearn: 2.3029688\ttotal: 13.7s\tremaining: 5.83s\n",
      "800:\tlearn: 1.9424315\ttotal: 15.6s\tremaining: 3.88s\n",
      "900:\tlearn: 1.6607219\ttotal: 17.6s\tremaining: 1.93s\n",
      "999:\tlearn: 1.4249273\ttotal: 19.5s\tremaining: 0us\n",
      "0:\tlearn: 10.9064476\ttotal: 27.8ms\tremaining: 27.7s\n",
      "100:\tlearn: 6.7002068\ttotal: 1.96s\tremaining: 17.4s\n",
      "200:\tlearn: 5.3984567\ttotal: 3.89s\tremaining: 15.5s\n",
      "300:\tlearn: 4.3171830\ttotal: 5.83s\tremaining: 13.5s\n",
      "400:\tlearn: 3.5679679\ttotal: 7.79s\tremaining: 11.6s\n",
      "500:\tlearn: 3.0142482\ttotal: 9.72s\tremaining: 9.68s\n",
      "600:\tlearn: 2.5452222\ttotal: 11.7s\tremaining: 7.74s\n",
      "700:\tlearn: 2.1565516\ttotal: 13.6s\tremaining: 5.8s\n",
      "800:\tlearn: 1.8507987\ttotal: 15.5s\tremaining: 3.85s\n",
      "900:\tlearn: 1.5750202\ttotal: 17.5s\tremaining: 1.92s\n",
      "999:\tlearn: 1.3595153\ttotal: 19.4s\tremaining: 0us\n",
      "0:\tlearn: 11.1430286\ttotal: 25.3ms\tremaining: 25.3s\n",
      "100:\tlearn: 6.7709739\ttotal: 1.96s\tremaining: 17.4s\n",
      "200:\tlearn: 5.5280772\ttotal: 3.87s\tremaining: 15.4s\n",
      "300:\tlearn: 4.6257175\ttotal: 5.81s\tremaining: 13.5s\n",
      "400:\tlearn: 3.7963424\ttotal: 7.73s\tremaining: 11.5s\n",
      "500:\tlearn: 3.1717853\ttotal: 9.67s\tremaining: 9.63s\n",
      "600:\tlearn: 2.6955258\ttotal: 11.6s\tremaining: 7.7s\n",
      "700:\tlearn: 2.2929484\ttotal: 13.5s\tremaining: 5.76s\n",
      "800:\tlearn: 1.9420443\ttotal: 15.5s\tremaining: 3.84s\n",
      "900:\tlearn: 1.6628471\ttotal: 17.4s\tremaining: 1.91s\n",
      "999:\tlearn: 1.4141483\ttotal: 19.3s\tremaining: 0us\n",
      "0:\tlearn: 11.0874628\ttotal: 25.2ms\tremaining: 25.2s\n",
      "100:\tlearn: 5.7095668\ttotal: 1.95s\tremaining: 17.3s\n",
      "200:\tlearn: 4.0789622\ttotal: 3.88s\tremaining: 15.4s\n",
      "300:\tlearn: 3.0105981\ttotal: 5.83s\tremaining: 13.5s\n",
      "400:\tlearn: 2.2420059\ttotal: 7.78s\tremaining: 11.6s\n",
      "500:\tlearn: 1.7516987\ttotal: 9.75s\tremaining: 9.71s\n",
      "600:\tlearn: 1.3553090\ttotal: 11.7s\tremaining: 7.77s\n",
      "700:\tlearn: 1.0351200\ttotal: 13.6s\tremaining: 5.82s\n",
      "800:\tlearn: 0.8069318\ttotal: 15.6s\tremaining: 3.88s\n",
      "900:\tlearn: 0.6055333\ttotal: 17.6s\tremaining: 1.93s\n",
      "999:\tlearn: 0.4681182\ttotal: 19.5s\tremaining: 0us\n",
      "0:\tlearn: 10.8190045\ttotal: 24.6ms\tremaining: 24.5s\n",
      "100:\tlearn: 5.7055189\ttotal: 1.92s\tremaining: 17.1s\n",
      "200:\tlearn: 3.8969559\ttotal: 3.84s\tremaining: 15.3s\n",
      "300:\tlearn: 2.8264986\ttotal: 5.76s\tremaining: 13.4s\n",
      "400:\tlearn: 2.1659821\ttotal: 7.7s\tremaining: 11.5s\n",
      "500:\tlearn: 1.6441734\ttotal: 9.65s\tremaining: 9.61s\n",
      "600:\tlearn: 1.2310596\ttotal: 11.6s\tremaining: 7.69s\n",
      "700:\tlearn: 0.9406417\ttotal: 13.5s\tremaining: 5.77s\n",
      "800:\tlearn: 0.7599012\ttotal: 15.5s\tremaining: 3.84s\n",
      "900:\tlearn: 0.6103622\ttotal: 17.4s\tremaining: 1.91s\n",
      "999:\tlearn: 0.5004365\ttotal: 19.3s\tremaining: 0us\n",
      "0:\tlearn: 11.0464220\ttotal: 25.9ms\tremaining: 25.9s\n",
      "100:\tlearn: 5.7468881\ttotal: 1.99s\tremaining: 17.7s\n",
      "200:\tlearn: 4.0852819\ttotal: 3.89s\tremaining: 15.5s\n",
      "300:\tlearn: 2.9552176\ttotal: 5.81s\tremaining: 13.5s\n",
      "400:\tlearn: 2.2261793\ttotal: 7.76s\tremaining: 11.6s\n",
      "500:\tlearn: 1.6593659\ttotal: 9.67s\tremaining: 9.64s\n",
      "600:\tlearn: 1.2267252\ttotal: 11.6s\tremaining: 7.72s\n",
      "700:\tlearn: 0.9534338\ttotal: 13.6s\tremaining: 5.79s\n",
      "800:\tlearn: 0.7415879\ttotal: 15.5s\tremaining: 3.85s\n",
      "900:\tlearn: 0.5811762\ttotal: 17.4s\tremaining: 1.92s\n",
      "999:\tlearn: 0.4619442\ttotal: 19.3s\tremaining: 0us\n",
      "0:\tlearn: 11.0063425\ttotal: 24.8ms\tremaining: 24.8s\n",
      "100:\tlearn: 5.0928659\ttotal: 1.99s\tremaining: 17.7s\n",
      "200:\tlearn: 3.0992012\ttotal: 3.93s\tremaining: 15.6s\n",
      "300:\tlearn: 2.0042551\ttotal: 5.86s\tremaining: 13.6s\n",
      "400:\tlearn: 1.3607835\ttotal: 7.8s\tremaining: 11.6s\n",
      "500:\tlearn: 0.9781249\ttotal: 9.74s\tremaining: 9.71s\n",
      "600:\tlearn: 0.6527330\ttotal: 11.7s\tremaining: 7.79s\n",
      "700:\tlearn: 0.4509131\ttotal: 13.7s\tremaining: 5.83s\n",
      "800:\tlearn: 0.3156945\ttotal: 15.6s\tremaining: 3.88s\n",
      "900:\tlearn: 0.2251444\ttotal: 17.6s\tremaining: 1.93s\n",
      "999:\tlearn: 0.1637633\ttotal: 19.5s\tremaining: 0us\n",
      "0:\tlearn: 10.7330495\ttotal: 24.5ms\tremaining: 24.5s\n",
      "100:\tlearn: 4.9158052\ttotal: 1.96s\tremaining: 17.5s\n",
      "200:\tlearn: 3.0527563\ttotal: 3.92s\tremaining: 15.6s\n",
      "300:\tlearn: 1.9807850\ttotal: 5.85s\tremaining: 13.6s\n",
      "400:\tlearn: 1.3316648\ttotal: 7.78s\tremaining: 11.6s\n",
      "500:\tlearn: 0.9286200\ttotal: 9.71s\tremaining: 9.67s\n",
      "600:\tlearn: 0.6595919\ttotal: 11.6s\tremaining: 7.73s\n",
      "700:\tlearn: 0.4639481\ttotal: 13.6s\tremaining: 5.81s\n",
      "800:\tlearn: 0.3372332\ttotal: 15.6s\tremaining: 3.86s\n",
      "900:\tlearn: 0.2405780\ttotal: 17.5s\tremaining: 1.92s\n",
      "999:\tlearn: 0.1779180\ttotal: 19.4s\tremaining: 0us\n",
      "0:\tlearn: 10.9513796\ttotal: 25.1ms\tremaining: 25s\n",
      "100:\tlearn: 5.0856859\ttotal: 1.94s\tremaining: 17.3s\n",
      "200:\tlearn: 3.0280838\ttotal: 3.88s\tremaining: 15.4s\n",
      "300:\tlearn: 1.9190948\ttotal: 5.81s\tremaining: 13.5s\n",
      "400:\tlearn: 1.2446002\ttotal: 7.75s\tremaining: 11.6s\n",
      "500:\tlearn: 0.8231251\ttotal: 9.69s\tremaining: 9.65s\n",
      "600:\tlearn: 0.5778607\ttotal: 11.6s\tremaining: 7.71s\n",
      "700:\tlearn: 0.4124215\ttotal: 13.5s\tremaining: 5.78s\n",
      "800:\tlearn: 0.2867934\ttotal: 15.5s\tremaining: 3.84s\n",
      "900:\tlearn: 0.2027769\ttotal: 17.4s\tremaining: 1.91s\n",
      "999:\tlearn: 0.1421037\ttotal: 19.3s\tremaining: 0us\n",
      "0:\tlearn: 11.2541758\ttotal: 24.5ms\tremaining: 36.7s\n",
      "100:\tlearn: 9.1707718\ttotal: 1.95s\tremaining: 27s\n",
      "200:\tlearn: 8.0166563\ttotal: 3.89s\tremaining: 25.1s\n",
      "300:\tlearn: 7.3141466\ttotal: 5.81s\tremaining: 23.2s\n",
      "400:\tlearn: 6.8223611\ttotal: 7.73s\tremaining: 21.2s\n",
      "500:\tlearn: 6.4270814\ttotal: 10.5s\tremaining: 20.9s\n",
      "600:\tlearn: 6.1034071\ttotal: 12.6s\tremaining: 18.9s\n",
      "700:\tlearn: 5.8041332\ttotal: 14.6s\tremaining: 16.6s\n",
      "800:\tlearn: 5.5406067\ttotal: 16.6s\tremaining: 14.5s\n",
      "900:\tlearn: 5.2760210\ttotal: 18.5s\tremaining: 12.3s\n",
      "1000:\tlearn: 5.0558743\ttotal: 20.5s\tremaining: 10.2s\n",
      "1100:\tlearn: 4.8370081\ttotal: 22.4s\tremaining: 8.12s\n",
      "1200:\tlearn: 4.6138465\ttotal: 24.3s\tremaining: 6.06s\n",
      "1300:\tlearn: 4.3933263\ttotal: 26.3s\tremaining: 4.02s\n",
      "1400:\tlearn: 4.1866138\ttotal: 28.2s\tremaining: 1.99s\n",
      "1499:\tlearn: 4.0017987\ttotal: 30.1s\tremaining: 0us\n",
      "0:\tlearn: 10.9953434\ttotal: 27ms\tremaining: 40.5s\n",
      "100:\tlearn: 8.9810568\ttotal: 1.96s\tremaining: 27.1s\n",
      "200:\tlearn: 7.8666296\ttotal: 3.88s\tremaining: 25.1s\n",
      "300:\tlearn: 7.1821513\ttotal: 5.83s\tremaining: 23.2s\n",
      "400:\tlearn: 6.6859085\ttotal: 7.76s\tremaining: 21.3s\n",
      "500:\tlearn: 6.2947702\ttotal: 9.66s\tremaining: 19.3s\n",
      "600:\tlearn: 5.9439533\ttotal: 11.6s\tremaining: 17.3s\n",
      "700:\tlearn: 5.6348860\ttotal: 13.5s\tremaining: 15.4s\n",
      "800:\tlearn: 5.3632899\ttotal: 15.4s\tremaining: 13.5s\n",
      "900:\tlearn: 5.1031176\ttotal: 17.3s\tremaining: 11.5s\n",
      "1000:\tlearn: 4.8130550\ttotal: 19.3s\tremaining: 9.61s\n",
      "1100:\tlearn: 4.5322676\ttotal: 21.2s\tremaining: 7.69s\n",
      "1200:\tlearn: 4.2816018\ttotal: 23.1s\tremaining: 5.76s\n",
      "1300:\tlearn: 4.0603813\ttotal: 25.1s\tremaining: 3.84s\n",
      "1400:\tlearn: 3.8618537\ttotal: 27s\tremaining: 1.91s\n",
      "1499:\tlearn: 3.6809481\ttotal: 28.9s\tremaining: 0us\n",
      "0:\tlearn: 11.2411589\ttotal: 25.1ms\tremaining: 37.6s\n",
      "100:\tlearn: 9.1940419\ttotal: 1.94s\tremaining: 26.9s\n",
      "200:\tlearn: 8.0728776\ttotal: 3.85s\tremaining: 24.9s\n",
      "300:\tlearn: 7.3352123\ttotal: 5.77s\tremaining: 23s\n",
      "400:\tlearn: 6.8378810\ttotal: 7.65s\tremaining: 21s\n",
      "500:\tlearn: 6.4222687\ttotal: 9.54s\tremaining: 19s\n",
      "600:\tlearn: 6.0747571\ttotal: 11.4s\tremaining: 17.1s\n",
      "700:\tlearn: 5.7788960\ttotal: 13.3s\tremaining: 15.2s\n",
      "800:\tlearn: 5.4982557\ttotal: 15.2s\tremaining: 13.3s\n",
      "900:\tlearn: 5.2758068\ttotal: 17.2s\tremaining: 11.4s\n",
      "1000:\tlearn: 5.0259566\ttotal: 19.1s\tremaining: 9.52s\n",
      "1100:\tlearn: 4.7441016\ttotal: 21s\tremaining: 7.61s\n",
      "1200:\tlearn: 4.5014832\ttotal: 22.9s\tremaining: 5.71s\n",
      "1300:\tlearn: 4.2830631\ttotal: 24.8s\tremaining: 3.8s\n",
      "1400:\tlearn: 4.0978727\ttotal: 26.8s\tremaining: 1.89s\n",
      "1499:\tlearn: 3.9125255\ttotal: 28.7s\tremaining: 0us\n",
      "0:\tlearn: 11.1700849\ttotal: 25ms\tremaining: 37.5s\n",
      "100:\tlearn: 6.7288325\ttotal: 1.94s\tremaining: 26.8s\n",
      "200:\tlearn: 5.5306990\ttotal: 3.84s\tremaining: 24.8s\n",
      "300:\tlearn: 4.6052240\ttotal: 5.77s\tremaining: 23s\n",
      "400:\tlearn: 3.7605193\ttotal: 7.71s\tremaining: 21.1s\n",
      "500:\tlearn: 3.1657797\ttotal: 9.67s\tremaining: 19.3s\n",
      "600:\tlearn: 2.7142186\ttotal: 11.6s\tremaining: 17.4s\n",
      "700:\tlearn: 2.3029688\ttotal: 13.5s\tremaining: 15.4s\n",
      "800:\tlearn: 1.9424315\ttotal: 15.5s\tremaining: 13.5s\n",
      "900:\tlearn: 1.6607219\ttotal: 17.4s\tremaining: 11.6s\n",
      "1000:\tlearn: 1.4214720\ttotal: 19.4s\tremaining: 9.66s\n",
      "1100:\tlearn: 1.2120215\ttotal: 21.3s\tremaining: 7.73s\n",
      "1200:\tlearn: 1.0311014\ttotal: 23.3s\tremaining: 5.79s\n",
      "1300:\tlearn: 0.8974842\ttotal: 25.2s\tremaining: 3.86s\n",
      "1400:\tlearn: 0.7829847\ttotal: 27.2s\tremaining: 1.92s\n",
      "1499:\tlearn: 0.6872738\ttotal: 29.1s\tremaining: 0us\n",
      "0:\tlearn: 10.9064476\ttotal: 24.8ms\tremaining: 37.1s\n",
      "100:\tlearn: 6.7002068\ttotal: 1.95s\tremaining: 27s\n",
      "200:\tlearn: 5.3984567\ttotal: 3.88s\tremaining: 25.1s\n",
      "300:\tlearn: 4.3171830\ttotal: 5.8s\tremaining: 23.1s\n",
      "400:\tlearn: 3.5679679\ttotal: 7.75s\tremaining: 21.2s\n",
      "500:\tlearn: 3.0142482\ttotal: 9.73s\tremaining: 19.4s\n",
      "600:\tlearn: 2.5452222\ttotal: 11.7s\tremaining: 17.5s\n",
      "700:\tlearn: 2.1565516\ttotal: 13.6s\tremaining: 15.5s\n",
      "800:\tlearn: 1.8507987\ttotal: 15.5s\tremaining: 13.5s\n",
      "900:\tlearn: 1.5750202\ttotal: 17.4s\tremaining: 11.6s\n",
      "1000:\tlearn: 1.3593574\ttotal: 19.4s\tremaining: 9.65s\n",
      "1100:\tlearn: 1.1744619\ttotal: 21.3s\tremaining: 7.73s\n",
      "1200:\tlearn: 0.9932279\ttotal: 23.3s\tremaining: 5.79s\n",
      "1300:\tlearn: 0.8623081\ttotal: 25.2s\tremaining: 3.85s\n",
      "1400:\tlearn: 0.7476211\ttotal: 27.1s\tremaining: 1.92s\n",
      "1499:\tlearn: 0.6556993\ttotal: 29s\tremaining: 0us\n",
      "0:\tlearn: 11.1430286\ttotal: 25.7ms\tremaining: 38.6s\n",
      "100:\tlearn: 6.7709739\ttotal: 1.97s\tremaining: 27.3s\n",
      "200:\tlearn: 5.5280772\ttotal: 3.85s\tremaining: 24.9s\n",
      "300:\tlearn: 4.6257175\ttotal: 5.76s\tremaining: 22.9s\n",
      "400:\tlearn: 3.7963424\ttotal: 7.68s\tremaining: 21.1s\n",
      "500:\tlearn: 3.1717853\ttotal: 9.59s\tremaining: 19.1s\n",
      "600:\tlearn: 2.6955258\ttotal: 11.5s\tremaining: 17.3s\n",
      "700:\tlearn: 2.2929484\ttotal: 13.4s\tremaining: 15.3s\n",
      "800:\tlearn: 1.9420443\ttotal: 15.4s\tremaining: 13.4s\n",
      "900:\tlearn: 1.6628471\ttotal: 17.3s\tremaining: 11.5s\n",
      "1000:\tlearn: 1.4110463\ttotal: 19.2s\tremaining: 9.58s\n",
      "1100:\tlearn: 1.1952908\ttotal: 21.2s\tremaining: 7.67s\n",
      "1200:\tlearn: 1.0413081\ttotal: 23.1s\tremaining: 5.75s\n",
      "1300:\tlearn: 0.9023774\ttotal: 25s\tremaining: 3.82s\n",
      "1400:\tlearn: 0.7841030\ttotal: 26.9s\tremaining: 1.9s\n",
      "1499:\tlearn: 0.6801953\ttotal: 28.8s\tremaining: 0us\n",
      "0:\tlearn: 11.0874628\ttotal: 25.1ms\tremaining: 37.6s\n",
      "100:\tlearn: 5.7095668\ttotal: 1.96s\tremaining: 27.1s\n",
      "200:\tlearn: 4.0789622\ttotal: 3.9s\tremaining: 25.2s\n",
      "300:\tlearn: 3.0105981\ttotal: 5.84s\tremaining: 23.3s\n",
      "400:\tlearn: 2.2420059\ttotal: 7.77s\tremaining: 21.3s\n",
      "500:\tlearn: 1.7516987\ttotal: 9.7s\tremaining: 19.3s\n",
      "600:\tlearn: 1.3553090\ttotal: 11.6s\tremaining: 17.4s\n",
      "700:\tlearn: 1.0351200\ttotal: 13.6s\tremaining: 15.5s\n",
      "800:\tlearn: 0.8069318\ttotal: 15.5s\tremaining: 13.5s\n",
      "900:\tlearn: 0.6055333\ttotal: 17.4s\tremaining: 11.6s\n",
      "1000:\tlearn: 0.4677692\ttotal: 19.4s\tremaining: 9.67s\n",
      "1100:\tlearn: 0.3636880\ttotal: 21.3s\tremaining: 7.73s\n",
      "1200:\tlearn: 0.2793973\ttotal: 23.3s\tremaining: 5.8s\n",
      "1300:\tlearn: 0.2177381\ttotal: 25.3s\tremaining: 3.86s\n",
      "1400:\tlearn: 0.1768436\ttotal: 27.2s\tremaining: 1.92s\n",
      "1499:\tlearn: 0.1411412\ttotal: 29.1s\tremaining: 0us\n",
      "0:\tlearn: 10.8190045\ttotal: 24.6ms\tremaining: 37s\n",
      "100:\tlearn: 5.7055189\ttotal: 1.94s\tremaining: 26.8s\n",
      "200:\tlearn: 3.8969559\ttotal: 3.9s\tremaining: 25.2s\n",
      "300:\tlearn: 2.8264986\ttotal: 5.83s\tremaining: 23.2s\n",
      "400:\tlearn: 2.1659821\ttotal: 7.76s\tremaining: 21.3s\n",
      "500:\tlearn: 1.6441734\ttotal: 9.7s\tremaining: 19.3s\n",
      "600:\tlearn: 1.2310596\ttotal: 11.6s\tremaining: 17.4s\n",
      "700:\tlearn: 0.9406417\ttotal: 13.6s\tremaining: 15.4s\n",
      "800:\tlearn: 0.7599012\ttotal: 15.5s\tremaining: 13.5s\n",
      "900:\tlearn: 0.6103622\ttotal: 17.4s\tremaining: 11.6s\n",
      "1000:\tlearn: 0.4994508\ttotal: 19.4s\tremaining: 9.66s\n",
      "1100:\tlearn: 0.4091363\ttotal: 21.3s\tremaining: 7.73s\n",
      "1200:\tlearn: 0.3300204\ttotal: 23.3s\tremaining: 5.79s\n",
      "1300:\tlearn: 0.2676967\ttotal: 25.2s\tremaining: 3.86s\n",
      "1400:\tlearn: 0.2168814\ttotal: 27.2s\tremaining: 1.92s\n",
      "1499:\tlearn: 0.1728834\ttotal: 29.1s\tremaining: 0us\n",
      "0:\tlearn: 11.0464220\ttotal: 25.4ms\tremaining: 38s\n",
      "100:\tlearn: 5.7468881\ttotal: 1.95s\tremaining: 27s\n",
      "200:\tlearn: 4.0852819\ttotal: 3.87s\tremaining: 25s\n",
      "300:\tlearn: 2.9552176\ttotal: 5.81s\tremaining: 23.2s\n",
      "400:\tlearn: 2.2261793\ttotal: 7.75s\tremaining: 21.2s\n",
      "500:\tlearn: 1.6593659\ttotal: 9.67s\tremaining: 19.3s\n",
      "600:\tlearn: 1.2267252\ttotal: 11.6s\tremaining: 17.4s\n",
      "700:\tlearn: 0.9534338\ttotal: 13.5s\tremaining: 15.4s\n",
      "800:\tlearn: 0.7415879\ttotal: 15.5s\tremaining: 13.5s\n",
      "900:\tlearn: 0.5811762\ttotal: 17.4s\tremaining: 11.6s\n",
      "1000:\tlearn: 0.4607591\ttotal: 19.4s\tremaining: 9.66s\n",
      "1100:\tlearn: 0.3722568\ttotal: 21.3s\tremaining: 7.73s\n",
      "1200:\tlearn: 0.3049562\ttotal: 23.3s\tremaining: 5.79s\n",
      "1300:\tlearn: 0.2423407\ttotal: 25.2s\tremaining: 3.86s\n",
      "1400:\tlearn: 0.1974509\ttotal: 27.2s\tremaining: 1.92s\n",
      "1499:\tlearn: 0.1603988\ttotal: 29.1s\tremaining: 0us\n",
      "0:\tlearn: 11.0063425\ttotal: 24.8ms\tremaining: 37.2s\n",
      "100:\tlearn: 5.0928659\ttotal: 1.95s\tremaining: 27.1s\n",
      "200:\tlearn: 3.0992012\ttotal: 3.88s\tremaining: 25.1s\n",
      "300:\tlearn: 2.0042551\ttotal: 5.82s\tremaining: 23.2s\n",
      "400:\tlearn: 1.3607835\ttotal: 7.78s\tremaining: 21.3s\n",
      "500:\tlearn: 0.9781249\ttotal: 9.72s\tremaining: 19.4s\n",
      "600:\tlearn: 0.6527330\ttotal: 11.7s\tremaining: 17.5s\n",
      "700:\tlearn: 0.4509131\ttotal: 13.6s\tremaining: 15.5s\n",
      "800:\tlearn: 0.3156945\ttotal: 15.6s\tremaining: 13.6s\n",
      "900:\tlearn: 0.2251444\ttotal: 18.6s\tremaining: 12.4s\n",
      "1000:\tlearn: 0.1633688\ttotal: 20.5s\tremaining: 10.2s\n",
      "1100:\tlearn: 0.1135317\ttotal: 22.5s\tremaining: 8.14s\n",
      "1200:\tlearn: 0.0843624\ttotal: 24.4s\tremaining: 6.08s\n",
      "1300:\tlearn: 0.0616169\ttotal: 26.4s\tremaining: 4.03s\n",
      "1400:\tlearn: 0.0455812\ttotal: 28.3s\tremaining: 2s\n",
      "1499:\tlearn: 0.0337806\ttotal: 30.2s\tremaining: 0us\n",
      "0:\tlearn: 10.7330495\ttotal: 24.7ms\tremaining: 37s\n",
      "100:\tlearn: 4.9158052\ttotal: 1.95s\tremaining: 27s\n",
      "200:\tlearn: 3.0527563\ttotal: 3.88s\tremaining: 25.1s\n",
      "300:\tlearn: 1.9807850\ttotal: 5.8s\tremaining: 23.1s\n",
      "400:\tlearn: 1.3316648\ttotal: 7.76s\tremaining: 21.3s\n",
      "500:\tlearn: 0.9286200\ttotal: 9.67s\tremaining: 19.3s\n",
      "600:\tlearn: 0.6595919\ttotal: 11.6s\tremaining: 17.4s\n",
      "700:\tlearn: 0.4639481\ttotal: 13.5s\tremaining: 15.4s\n",
      "800:\tlearn: 0.3372332\ttotal: 15.5s\tremaining: 13.5s\n",
      "900:\tlearn: 0.2405780\ttotal: 17.4s\tremaining: 11.6s\n",
      "1000:\tlearn: 0.1772750\ttotal: 19.3s\tremaining: 9.64s\n",
      "1100:\tlearn: 0.1318304\ttotal: 21.3s\tremaining: 7.71s\n",
      "1200:\tlearn: 0.0984530\ttotal: 23.2s\tremaining: 5.78s\n",
      "1300:\tlearn: 0.0723426\ttotal: 25.1s\tremaining: 3.84s\n",
      "1400:\tlearn: 0.0530411\ttotal: 27.1s\tremaining: 1.92s\n",
      "1499:\tlearn: 0.0385002\ttotal: 29s\tremaining: 0us\n",
      "0:\tlearn: 10.9513796\ttotal: 25.1ms\tremaining: 37.6s\n",
      "100:\tlearn: 5.0856859\ttotal: 1.93s\tremaining: 26.7s\n",
      "200:\tlearn: 3.0280838\ttotal: 3.84s\tremaining: 24.8s\n",
      "300:\tlearn: 1.9190948\ttotal: 5.76s\tremaining: 22.9s\n",
      "400:\tlearn: 1.2446002\ttotal: 7.68s\tremaining: 21s\n",
      "500:\tlearn: 0.8231251\ttotal: 9.62s\tremaining: 19.2s\n",
      "600:\tlearn: 0.5778607\ttotal: 11.5s\tremaining: 17.2s\n",
      "700:\tlearn: 0.4124215\ttotal: 13.5s\tremaining: 15.3s\n",
      "800:\tlearn: 0.2867934\ttotal: 15.4s\tremaining: 13.4s\n",
      "900:\tlearn: 0.2027769\ttotal: 17.3s\tremaining: 11.5s\n",
      "1000:\tlearn: 0.1415780\ttotal: 19.3s\tremaining: 9.61s\n",
      "1100:\tlearn: 0.1058129\ttotal: 21.2s\tremaining: 7.68s\n",
      "1200:\tlearn: 0.0782656\ttotal: 23.1s\tremaining: 5.76s\n",
      "1300:\tlearn: 0.0554361\ttotal: 25.1s\tremaining: 3.83s\n",
      "1400:\tlearn: 0.0412772\ttotal: 27s\tremaining: 1.91s\n",
      "1499:\tlearn: 0.0301500\ttotal: 28.9s\tremaining: 0us\n",
      "0:\tlearn: 11.2513026\ttotal: 129ms\tremaining: 2m 8s\n",
      "100:\tlearn: 8.9010639\ttotal: 12.3s\tremaining: 1m 49s\n",
      "200:\tlearn: 7.4100459\ttotal: 24.6s\tremaining: 1m 37s\n",
      "300:\tlearn: 6.4301872\ttotal: 36.6s\tremaining: 1m 25s\n",
      "400:\tlearn: 5.7465200\ttotal: 48.6s\tremaining: 1m 12s\n",
      "500:\tlearn: 5.2252479\ttotal: 1m\tremaining: 1m\n",
      "600:\tlearn: 4.8127113\ttotal: 1m 11s\tremaining: 47.7s\n",
      "700:\tlearn: 4.4369165\ttotal: 1m 23s\tremaining: 35.7s\n",
      "800:\tlearn: 4.0975437\ttotal: 1m 35s\tremaining: 23.8s\n",
      "900:\tlearn: 3.7820403\ttotal: 1m 47s\tremaining: 11.9s\n",
      "999:\tlearn: 3.5054760\ttotal: 1m 59s\tremaining: 0us\n",
      "0:\tlearn: 10.9953146\ttotal: 126ms\tremaining: 2m 6s\n",
      "100:\tlearn: 8.6811509\ttotal: 12.1s\tremaining: 1m 47s\n",
      "200:\tlearn: 7.1996058\ttotal: 24.1s\tremaining: 1m 35s\n",
      "300:\tlearn: 6.2054158\ttotal: 36.1s\tremaining: 1m 23s\n",
      "400:\tlearn: 5.5379606\ttotal: 47.9s\tremaining: 1m 11s\n",
      "500:\tlearn: 4.9992853\ttotal: 59.6s\tremaining: 59.4s\n",
      "600:\tlearn: 4.5787089\ttotal: 1m 11s\tremaining: 47.4s\n",
      "700:\tlearn: 4.1713941\ttotal: 1m 24s\tremaining: 36s\n",
      "800:\tlearn: 3.8305589\ttotal: 1m 36s\tremaining: 24s\n",
      "900:\tlearn: 3.5144200\ttotal: 1m 48s\tremaining: 12s\n",
      "999:\tlearn: 3.2131590\ttotal: 2m\tremaining: 0us\n",
      "0:\tlearn: 11.2417288\ttotal: 136ms\tremaining: 2m 15s\n",
      "100:\tlearn: 8.8999630\ttotal: 12.2s\tremaining: 1m 48s\n",
      "200:\tlearn: 7.4565557\ttotal: 24.2s\tremaining: 1m 36s\n",
      "300:\tlearn: 6.4814720\ttotal: 36s\tremaining: 1m 23s\n",
      "400:\tlearn: 5.7522707\ttotal: 48.1s\tremaining: 1m 11s\n",
      "500:\tlearn: 5.2011758\ttotal: 1m\tremaining: 60s\n",
      "600:\tlearn: 4.7290577\ttotal: 1m 12s\tremaining: 48.2s\n",
      "700:\tlearn: 4.2917717\ttotal: 1m 24s\tremaining: 36.2s\n",
      "800:\tlearn: 3.9612035\ttotal: 1m 37s\tremaining: 24.2s\n",
      "900:\tlearn: 3.6800399\ttotal: 1m 49s\tremaining: 12s\n",
      "999:\tlearn: 3.3973947\ttotal: 2m 1s\tremaining: 0us\n",
      "0:\tlearn: 11.1582748\ttotal: 122ms\tremaining: 2m 1s\n",
      "100:\tlearn: 5.6618399\ttotal: 12.2s\tremaining: 1m 48s\n",
      "200:\tlearn: 4.0451910\ttotal: 24.2s\tremaining: 1m 36s\n",
      "300:\tlearn: 2.9242638\ttotal: 36.3s\tremaining: 1m 24s\n",
      "400:\tlearn: 2.1283940\ttotal: 48.4s\tremaining: 1m 12s\n",
      "500:\tlearn: 1.5609857\ttotal: 1m\tremaining: 1m\n",
      "600:\tlearn: 1.1670033\ttotal: 1m 12s\tremaining: 48.2s\n",
      "700:\tlearn: 0.8543061\ttotal: 1m 24s\tremaining: 36.1s\n",
      "800:\tlearn: 0.6473702\ttotal: 1m 36s\tremaining: 24s\n",
      "900:\tlearn: 0.4905738\ttotal: 1m 49s\tremaining: 12.1s\n",
      "999:\tlearn: 0.3739623\ttotal: 2m 1s\tremaining: 0us\n",
      "0:\tlearn: 10.9059247\ttotal: 129ms\tremaining: 2m 8s\n",
      "100:\tlearn: 5.5304396\ttotal: 12s\tremaining: 1m 47s\n",
      "200:\tlearn: 3.8764235\ttotal: 24s\tremaining: 1m 35s\n",
      "300:\tlearn: 2.7140432\ttotal: 36.2s\tremaining: 1m 23s\n",
      "400:\tlearn: 1.9398337\ttotal: 48.4s\tremaining: 1m 12s\n",
      "500:\tlearn: 1.4355302\ttotal: 1m\tremaining: 1m\n",
      "600:\tlearn: 1.0272792\ttotal: 1m 12s\tremaining: 48.3s\n",
      "700:\tlearn: 0.7676188\ttotal: 1m 24s\tremaining: 36.2s\n",
      "800:\tlearn: 0.5830584\ttotal: 1m 36s\tremaining: 24.1s\n",
      "900:\tlearn: 0.4357098\ttotal: 1m 49s\tremaining: 12s\n",
      "999:\tlearn: 0.3370312\ttotal: 2m 1s\tremaining: 0us\n",
      "0:\tlearn: 11.1448911\ttotal: 129ms\tremaining: 2m 9s\n",
      "100:\tlearn: 5.7116699\ttotal: 12.2s\tremaining: 1m 48s\n",
      "200:\tlearn: 4.0072082\ttotal: 24.3s\tremaining: 1m 36s\n",
      "300:\tlearn: 2.8957370\ttotal: 36.4s\tremaining: 1m 24s\n",
      "400:\tlearn: 1.9930643\ttotal: 48.6s\tremaining: 1m 12s\n",
      "500:\tlearn: 1.4222474\ttotal: 1m\tremaining: 1m\n",
      "600:\tlearn: 1.0198142\ttotal: 1m 13s\tremaining: 48.5s\n",
      "700:\tlearn: 0.7146037\ttotal: 1m 25s\tremaining: 36.4s\n",
      "800:\tlearn: 0.5293171\ttotal: 1m 37s\tremaining: 24.3s\n",
      "900:\tlearn: 0.3932303\ttotal: 1m 49s\tremaining: 12s\n",
      "999:\tlearn: 0.2934383\ttotal: 2m 1s\tremaining: 0us\n",
      "0:\tlearn: 11.0662328\ttotal: 122ms\tremaining: 2m 1s\n",
      "100:\tlearn: 4.3252152\ttotal: 11.9s\tremaining: 1m 45s\n",
      "200:\tlearn: 2.5293463\ttotal: 24.2s\tremaining: 1m 36s\n",
      "300:\tlearn: 1.4106328\ttotal: 37.1s\tremaining: 1m 26s\n",
      "400:\tlearn: 0.7973604\ttotal: 49.1s\tremaining: 1m 13s\n",
      "500:\tlearn: 0.4453064\ttotal: 1m 1s\tremaining: 1m\n",
      "600:\tlearn: 0.2631498\ttotal: 1m 13s\tremaining: 48.6s\n",
      "700:\tlearn: 0.1564549\ttotal: 1m 25s\tremaining: 36.4s\n",
      "800:\tlearn: 0.1000914\ttotal: 1m 37s\tremaining: 24.2s\n",
      "900:\tlearn: 0.0640318\ttotal: 1m 49s\tremaining: 12s\n",
      "999:\tlearn: 0.0394052\ttotal: 2m 1s\tremaining: 0us\n",
      "0:\tlearn: 10.8173638\ttotal: 135ms\tremaining: 2m 15s\n",
      "100:\tlearn: 4.1351075\ttotal: 12.4s\tremaining: 1m 50s\n",
      "200:\tlearn: 2.2235969\ttotal: 24.8s\tremaining: 1m 38s\n",
      "300:\tlearn: 1.3357949\ttotal: 37s\tremaining: 1m 26s\n",
      "400:\tlearn: 0.7809919\ttotal: 49.3s\tremaining: 1m 13s\n",
      "500:\tlearn: 0.4591747\ttotal: 1m 1s\tremaining: 1m 1s\n",
      "600:\tlearn: 0.2757597\ttotal: 1m 13s\tremaining: 48.7s\n",
      "700:\tlearn: 0.1708778\ttotal: 1m 25s\tremaining: 36.5s\n",
      "800:\tlearn: 0.1099793\ttotal: 1m 37s\tremaining: 24.3s\n",
      "900:\tlearn: 0.0717556\ttotal: 1m 49s\tremaining: 12.1s\n",
      "999:\tlearn: 0.0461809\ttotal: 2m 2s\tremaining: 0us\n",
      "0:\tlearn: 11.0489383\ttotal: 127ms\tremaining: 2m 6s\n",
      "100:\tlearn: 4.1572263\ttotal: 12.3s\tremaining: 1m 49s\n",
      "200:\tlearn: 2.4205736\ttotal: 24.5s\tremaining: 1m 37s\n",
      "300:\tlearn: 1.3580655\ttotal: 36.7s\tremaining: 1m 25s\n",
      "400:\tlearn: 0.7907918\ttotal: 48.9s\tremaining: 1m 13s\n",
      "500:\tlearn: 0.4448313\ttotal: 1m 1s\tremaining: 1m\n",
      "600:\tlearn: 0.2710561\ttotal: 1m 14s\tremaining: 49.5s\n",
      "700:\tlearn: 0.1793198\ttotal: 1m 26s\tremaining: 37s\n",
      "800:\tlearn: 0.1174383\ttotal: 1m 39s\tremaining: 24.6s\n",
      "900:\tlearn: 0.0742128\ttotal: 1m 51s\tremaining: 12.2s\n",
      "999:\tlearn: 0.0465231\ttotal: 2m 3s\tremaining: 0us\n",
      "0:\tlearn: 10.9752017\ttotal: 124ms\tremaining: 2m 3s\n",
      "100:\tlearn: 3.4234510\ttotal: 12.1s\tremaining: 1m 47s\n",
      "200:\tlearn: 1.5226127\ttotal: 24.1s\tremaining: 1m 35s\n",
      "300:\tlearn: 0.7300230\ttotal: 36.1s\tremaining: 1m 23s\n",
      "400:\tlearn: 0.3365144\ttotal: 48.2s\tremaining: 1m 11s\n",
      "500:\tlearn: 0.1782697\ttotal: 1m\tremaining: 60s\n",
      "600:\tlearn: 0.0886607\ttotal: 1m 12s\tremaining: 47.9s\n",
      "700:\tlearn: 0.0465101\ttotal: 1m 24s\tremaining: 35.9s\n",
      "800:\tlearn: 0.0233398\ttotal: 1m 36s\tremaining: 23.9s\n",
      "900:\tlearn: 0.0121073\ttotal: 1m 48s\tremaining: 11.9s\n",
      "999:\tlearn: 0.0068170\ttotal: 2m\tremaining: 0us\n",
      "0:\tlearn: 10.7296524\ttotal: 124ms\tremaining: 2m 4s\n",
      "100:\tlearn: 3.3228375\ttotal: 12.2s\tremaining: 1m 48s\n",
      "200:\tlearn: 1.4397031\ttotal: 24.3s\tremaining: 1m 36s\n",
      "300:\tlearn: 0.6751086\ttotal: 36.1s\tremaining: 1m 23s\n",
      "400:\tlearn: 0.3142721\ttotal: 48.2s\tremaining: 1m 11s\n",
      "500:\tlearn: 0.1592465\ttotal: 1m\tremaining: 1m\n",
      "600:\tlearn: 0.0886015\ttotal: 1m 12s\tremaining: 48.1s\n",
      "700:\tlearn: 0.0491026\ttotal: 1m 24s\tremaining: 36s\n",
      "800:\tlearn: 0.0261119\ttotal: 1m 36s\tremaining: 23.9s\n",
      "900:\tlearn: 0.0132748\ttotal: 1m 49s\tremaining: 12s\n",
      "999:\tlearn: 0.0072791\ttotal: 2m 1s\tremaining: 0us\n",
      "0:\tlearn: 10.9538938\ttotal: 126ms\tremaining: 2m 6s\n",
      "100:\tlearn: 3.3347025\ttotal: 12.3s\tremaining: 1m 49s\n",
      "200:\tlearn: 1.5104505\ttotal: 24.4s\tremaining: 1m 36s\n",
      "300:\tlearn: 0.6636131\ttotal: 36.6s\tremaining: 1m 25s\n",
      "400:\tlearn: 0.3039737\ttotal: 48.7s\tremaining: 1m 12s\n",
      "500:\tlearn: 0.1469439\ttotal: 1m\tremaining: 1m\n",
      "600:\tlearn: 0.0740562\ttotal: 1m 13s\tremaining: 48.5s\n",
      "700:\tlearn: 0.0386933\ttotal: 1m 25s\tremaining: 36.4s\n",
      "800:\tlearn: 0.0203749\ttotal: 1m 37s\tremaining: 24.2s\n",
      "900:\tlearn: 0.0107238\ttotal: 1m 49s\tremaining: 12.1s\n",
      "999:\tlearn: 0.0056594\ttotal: 2m 2s\tremaining: 0us\n",
      "0:\tlearn: 11.2513026\ttotal: 141ms\tremaining: 3m 31s\n",
      "100:\tlearn: 8.9010639\ttotal: 12.3s\tremaining: 2m 49s\n",
      "200:\tlearn: 7.4100459\ttotal: 24.3s\tremaining: 2m 36s\n",
      "300:\tlearn: 6.4301872\ttotal: 36.2s\tremaining: 2m 24s\n",
      "400:\tlearn: 5.7465200\ttotal: 48.2s\tremaining: 2m 12s\n",
      "500:\tlearn: 5.2252479\ttotal: 60s\tremaining: 1m 59s\n",
      "600:\tlearn: 4.8127113\ttotal: 1m 11s\tremaining: 1m 46s\n",
      "700:\tlearn: 4.4369165\ttotal: 1m 23s\tremaining: 1m 34s\n",
      "800:\tlearn: 4.0975437\ttotal: 1m 35s\tremaining: 1m 23s\n",
      "900:\tlearn: 3.7820403\ttotal: 1m 47s\tremaining: 1m 11s\n",
      "1000:\tlearn: 3.5021526\ttotal: 1m 59s\tremaining: 59.5s\n",
      "1100:\tlearn: 3.2251379\ttotal: 2m 12s\tremaining: 48s\n",
      "1200:\tlearn: 2.9748131\ttotal: 2m 24s\tremaining: 36s\n",
      "1300:\tlearn: 2.7636472\ttotal: 2m 36s\tremaining: 24s\n",
      "1400:\tlearn: 2.5523366\ttotal: 2m 48s\tremaining: 11.9s\n",
      "1499:\tlearn: 2.3569765\ttotal: 3m\tremaining: 0us\n",
      "0:\tlearn: 10.9953146\ttotal: 124ms\tremaining: 3m 5s\n",
      "100:\tlearn: 8.6811509\ttotal: 12.2s\tremaining: 2m 48s\n",
      "200:\tlearn: 7.1996058\ttotal: 24.1s\tremaining: 2m 36s\n",
      "300:\tlearn: 6.2054158\ttotal: 36.3s\tremaining: 2m 24s\n",
      "400:\tlearn: 5.5379606\ttotal: 48.2s\tremaining: 2m 12s\n",
      "500:\tlearn: 4.9992853\ttotal: 60s\tremaining: 1m 59s\n",
      "600:\tlearn: 4.5787089\ttotal: 1m 11s\tremaining: 1m 47s\n",
      "700:\tlearn: 4.1713941\ttotal: 1m 23s\tremaining: 1m 35s\n",
      "800:\tlearn: 3.8305589\ttotal: 1m 36s\tremaining: 1m 23s\n",
      "900:\tlearn: 3.5144200\ttotal: 1m 48s\tremaining: 1m 11s\n",
      "1000:\tlearn: 3.2109877\ttotal: 2m\tremaining: 1m\n",
      "1100:\tlearn: 2.9262623\ttotal: 2m 12s\tremaining: 48.1s\n",
      "1200:\tlearn: 2.6809024\ttotal: 2m 24s\tremaining: 36.1s\n",
      "1300:\tlearn: 2.4249309\ttotal: 2m 37s\tremaining: 24.1s\n",
      "1400:\tlearn: 2.2186847\ttotal: 2m 49s\tremaining: 12s\n",
      "1499:\tlearn: 2.0398686\ttotal: 3m 1s\tremaining: 0us\n",
      "0:\tlearn: 11.2417288\ttotal: 122ms\tremaining: 3m 2s\n",
      "100:\tlearn: 8.8999630\ttotal: 12.2s\tremaining: 2m 49s\n",
      "200:\tlearn: 7.4565557\ttotal: 24.2s\tremaining: 2m 36s\n",
      "300:\tlearn: 6.4814720\ttotal: 36s\tremaining: 2m 23s\n",
      "400:\tlearn: 5.7522707\ttotal: 47.9s\tremaining: 2m 11s\n",
      "500:\tlearn: 5.2011758\ttotal: 60s\tremaining: 1m 59s\n",
      "600:\tlearn: 4.7290577\ttotal: 1m 13s\tremaining: 1m 49s\n",
      "700:\tlearn: 4.2917717\ttotal: 1m 25s\tremaining: 1m 37s\n",
      "800:\tlearn: 3.9612035\ttotal: 1m 37s\tremaining: 1m 25s\n",
      "900:\tlearn: 3.6800399\ttotal: 1m 50s\tremaining: 1m 13s\n",
      "1000:\tlearn: 3.3934907\ttotal: 2m 2s\tremaining: 1m\n",
      "1100:\tlearn: 3.1315937\ttotal: 2m 14s\tremaining: 48.7s\n",
      "1200:\tlearn: 2.8810224\ttotal: 2m 26s\tremaining: 36.5s\n",
      "1300:\tlearn: 2.6280388\ttotal: 2m 38s\tremaining: 24.3s\n",
      "1400:\tlearn: 2.4149386\ttotal: 2m 51s\tremaining: 12.1s\n",
      "1499:\tlearn: 2.2279198\ttotal: 3m 3s\tremaining: 0us\n",
      "0:\tlearn: 11.1582748\ttotal: 121ms\tremaining: 3m 1s\n",
      "100:\tlearn: 5.6618399\ttotal: 12.2s\tremaining: 2m 48s\n",
      "200:\tlearn: 4.0451910\ttotal: 23.9s\tremaining: 2m 34s\n",
      "300:\tlearn: 2.9242638\ttotal: 36s\tremaining: 2m 23s\n",
      "400:\tlearn: 2.1283940\ttotal: 48.1s\tremaining: 2m 11s\n",
      "500:\tlearn: 1.5609857\ttotal: 1m\tremaining: 1m 59s\n",
      "600:\tlearn: 1.1670033\ttotal: 1m 12s\tremaining: 1m 47s\n",
      "700:\tlearn: 0.8543061\ttotal: 1m 24s\tremaining: 1m 35s\n",
      "800:\tlearn: 0.6473702\ttotal: 1m 36s\tremaining: 1m 23s\n",
      "900:\tlearn: 0.4905738\ttotal: 1m 48s\tremaining: 1m 11s\n",
      "1000:\tlearn: 0.3730913\ttotal: 2m\tremaining: 60s\n",
      "1100:\tlearn: 0.2831348\ttotal: 2m 12s\tremaining: 48s\n",
      "1200:\tlearn: 0.2042859\ttotal: 2m 24s\tremaining: 36s\n",
      "1300:\tlearn: 0.1556488\ttotal: 2m 37s\tremaining: 24.1s\n",
      "1400:\tlearn: 0.1168629\ttotal: 2m 49s\tremaining: 12s\n",
      "1499:\tlearn: 0.0901648\ttotal: 3m 1s\tremaining: 0us\n",
      "0:\tlearn: 10.9059247\ttotal: 126ms\tremaining: 3m 9s\n",
      "100:\tlearn: 5.5304396\ttotal: 12.2s\tremaining: 2m 48s\n",
      "200:\tlearn: 3.8764235\ttotal: 24.2s\tremaining: 2m 36s\n",
      "300:\tlearn: 2.7140432\ttotal: 36.4s\tremaining: 2m 25s\n",
      "400:\tlearn: 1.9398337\ttotal: 48.7s\tremaining: 2m 13s\n",
      "500:\tlearn: 1.4355302\ttotal: 1m 1s\tremaining: 2m 1s\n",
      "600:\tlearn: 1.0272792\ttotal: 1m 13s\tremaining: 1m 49s\n",
      "700:\tlearn: 0.7676188\ttotal: 1m 25s\tremaining: 1m 37s\n",
      "800:\tlearn: 0.5830584\ttotal: 1m 37s\tremaining: 1m 25s\n",
      "900:\tlearn: 0.4357098\ttotal: 1m 49s\tremaining: 1m 13s\n",
      "1000:\tlearn: 0.3363635\ttotal: 2m 2s\tremaining: 1m\n",
      "1100:\tlearn: 0.2638588\ttotal: 2m 14s\tremaining: 48.7s\n",
      "1200:\tlearn: 0.2079240\ttotal: 2m 26s\tremaining: 36.5s\n",
      "1300:\tlearn: 0.1607347\ttotal: 2m 38s\tremaining: 24.3s\n",
      "1400:\tlearn: 0.1237708\ttotal: 2m 51s\tremaining: 12.1s\n",
      "1499:\tlearn: 0.0965054\ttotal: 3m 3s\tremaining: 0us\n",
      "0:\tlearn: 11.1448911\ttotal: 134ms\tremaining: 3m 20s\n",
      "100:\tlearn: 5.7116699\ttotal: 12.2s\tremaining: 2m 49s\n",
      "200:\tlearn: 4.0072082\ttotal: 24.4s\tremaining: 2m 37s\n",
      "300:\tlearn: 2.8957370\ttotal: 36.5s\tremaining: 2m 25s\n",
      "400:\tlearn: 1.9930643\ttotal: 48.7s\tremaining: 2m 13s\n",
      "500:\tlearn: 1.4222474\ttotal: 1m\tremaining: 2m 1s\n",
      "600:\tlearn: 1.0198142\ttotal: 1m 13s\tremaining: 1m 49s\n",
      "700:\tlearn: 0.7146037\ttotal: 1m 26s\tremaining: 1m 38s\n",
      "800:\tlearn: 0.5293171\ttotal: 1m 38s\tremaining: 1m 26s\n",
      "900:\tlearn: 0.3932303\ttotal: 1m 50s\tremaining: 1m 13s\n",
      "1000:\tlearn: 0.2930490\ttotal: 2m 3s\tremaining: 1m 1s\n",
      "1100:\tlearn: 0.2235582\ttotal: 2m 15s\tremaining: 49s\n",
      "1200:\tlearn: 0.1688608\ttotal: 2m 27s\tremaining: 36.7s\n",
      "1300:\tlearn: 0.1273525\ttotal: 2m 39s\tremaining: 24.4s\n",
      "1400:\tlearn: 0.0964270\ttotal: 2m 51s\tremaining: 12.1s\n",
      "1499:\tlearn: 0.0735729\ttotal: 3m 3s\tremaining: 0us\n",
      "0:\tlearn: 11.0662328\ttotal: 123ms\tremaining: 3m 3s\n",
      "100:\tlearn: 4.3252152\ttotal: 11.9s\tremaining: 2m 44s\n",
      "200:\tlearn: 2.5293463\ttotal: 24s\tremaining: 2m 34s\n",
      "300:\tlearn: 1.4106328\ttotal: 36.1s\tremaining: 2m 23s\n",
      "400:\tlearn: 0.7973604\ttotal: 48.3s\tremaining: 2m 12s\n",
      "500:\tlearn: 0.4453064\ttotal: 1m\tremaining: 2m\n",
      "600:\tlearn: 0.2631498\ttotal: 1m 12s\tremaining: 1m 48s\n",
      "700:\tlearn: 0.1564549\ttotal: 1m 24s\tremaining: 1m 36s\n",
      "800:\tlearn: 0.1000914\ttotal: 1m 36s\tremaining: 1m 24s\n",
      "900:\tlearn: 0.0640318\ttotal: 1m 48s\tremaining: 1m 12s\n",
      "1000:\tlearn: 0.0391098\ttotal: 2m\tremaining: 1m\n",
      "1100:\tlearn: 0.0252300\ttotal: 2m 12s\tremaining: 48.2s\n",
      "1200:\tlearn: 0.0170759\ttotal: 2m 25s\tremaining: 36.1s\n",
      "1300:\tlearn: 0.0112358\ttotal: 2m 37s\tremaining: 24s\n",
      "1400:\tlearn: 0.0074298\ttotal: 2m 49s\tremaining: 11.9s\n",
      "1499:\tlearn: 0.0049124\ttotal: 3m 1s\tremaining: 0us\n",
      "0:\tlearn: 10.8173638\ttotal: 123ms\tremaining: 3m 4s\n",
      "100:\tlearn: 4.1351075\ttotal: 13.2s\tremaining: 3m 2s\n",
      "200:\tlearn: 2.2235969\ttotal: 25.4s\tremaining: 2m 44s\n",
      "300:\tlearn: 1.3357949\ttotal: 37.6s\tremaining: 2m 29s\n",
      "400:\tlearn: 0.7809919\ttotal: 49.9s\tremaining: 2m 16s\n",
      "500:\tlearn: 0.4591747\ttotal: 1m 1s\tremaining: 2m 3s\n",
      "600:\tlearn: 0.2757597\ttotal: 1m 13s\tremaining: 1m 50s\n",
      "700:\tlearn: 0.1708778\ttotal: 1m 26s\tremaining: 1m 38s\n",
      "800:\tlearn: 0.1099793\ttotal: 1m 38s\tremaining: 1m 25s\n",
      "900:\tlearn: 0.0717556\ttotal: 1m 50s\tremaining: 1m 13s\n",
      "1000:\tlearn: 0.0458571\ttotal: 2m 2s\tremaining: 1m\n",
      "1100:\tlearn: 0.0303710\ttotal: 2m 14s\tremaining: 48.7s\n",
      "1200:\tlearn: 0.0199674\ttotal: 2m 26s\tremaining: 36.5s\n",
      "1300:\tlearn: 0.0135246\ttotal: 2m 38s\tremaining: 24.3s\n",
      "1400:\tlearn: 0.0092925\ttotal: 2m 50s\tremaining: 12.1s\n",
      "1499:\tlearn: 0.0061193\ttotal: 3m 2s\tremaining: 0us\n",
      "0:\tlearn: 11.0489383\ttotal: 125ms\tremaining: 3m 7s\n",
      "100:\tlearn: 4.1572263\ttotal: 12.2s\tremaining: 2m 49s\n",
      "200:\tlearn: 2.4205736\ttotal: 24.4s\tremaining: 2m 37s\n",
      "300:\tlearn: 1.3580655\ttotal: 36.7s\tremaining: 2m 26s\n",
      "400:\tlearn: 0.7907918\ttotal: 48.9s\tremaining: 2m 13s\n",
      "500:\tlearn: 0.4448313\ttotal: 1m 1s\tremaining: 2m 1s\n",
      "600:\tlearn: 0.2710561\ttotal: 1m 13s\tremaining: 1m 49s\n",
      "700:\tlearn: 0.1793198\ttotal: 1m 25s\tremaining: 1m 37s\n",
      "800:\tlearn: 0.1174383\ttotal: 1m 37s\tremaining: 1m 25s\n",
      "900:\tlearn: 0.0742128\ttotal: 1m 50s\tremaining: 1m 13s\n",
      "1000:\tlearn: 0.0462984\ttotal: 2m 3s\tremaining: 1m 1s\n",
      "1100:\tlearn: 0.0288960\ttotal: 2m 15s\tremaining: 49.2s\n",
      "1200:\tlearn: 0.0188414\ttotal: 2m 27s\tremaining: 36.8s\n",
      "1300:\tlearn: 0.0127596\ttotal: 2m 39s\tremaining: 24.4s\n",
      "1400:\tlearn: 0.0085391\ttotal: 2m 51s\tremaining: 12.1s\n",
      "1499:\tlearn: 0.0055974\ttotal: 3m 3s\tremaining: 0us\n",
      "0:\tlearn: 10.9752017\ttotal: 125ms\tremaining: 3m 7s\n",
      "100:\tlearn: 3.4234510\ttotal: 12.1s\tremaining: 2m 48s\n",
      "200:\tlearn: 1.5226127\ttotal: 24.2s\tremaining: 2m 36s\n",
      "300:\tlearn: 0.7300230\ttotal: 36.4s\tremaining: 2m 24s\n",
      "400:\tlearn: 0.3365144\ttotal: 48.5s\tremaining: 2m 13s\n",
      "500:\tlearn: 0.1782697\ttotal: 1m\tremaining: 2m 1s\n",
      "600:\tlearn: 0.0886607\ttotal: 1m 12s\tremaining: 1m 48s\n",
      "700:\tlearn: 0.0465101\ttotal: 1m 24s\tremaining: 1m 36s\n",
      "800:\tlearn: 0.0233398\ttotal: 1m 36s\tremaining: 1m 24s\n",
      "900:\tlearn: 0.0121073\ttotal: 1m 48s\tremaining: 1m 12s\n",
      "1000:\tlearn: 0.0068158\ttotal: 2m\tremaining: 1m\n",
      "1100:\tlearn: 0.0038430\ttotal: 2m 12s\tremaining: 48.1s\n",
      "1200:\tlearn: 0.0019740\ttotal: 2m 24s\tremaining: 36s\n",
      "1300:\tlearn: 0.0011054\ttotal: 2m 36s\tremaining: 24s\n",
      "1400:\tlearn: 0.0005399\ttotal: 2m 49s\tremaining: 11.9s\n",
      "1499:\tlearn: 0.0002942\ttotal: 3m\tremaining: 0us\n",
      "0:\tlearn: 10.7296524\ttotal: 133ms\tremaining: 3m 18s\n",
      "100:\tlearn: 3.3228375\ttotal: 12.2s\tremaining: 2m 49s\n",
      "200:\tlearn: 1.4397031\ttotal: 24.4s\tremaining: 2m 37s\n",
      "300:\tlearn: 0.6751086\ttotal: 36.4s\tremaining: 2m 24s\n",
      "400:\tlearn: 0.3142721\ttotal: 49.5s\tremaining: 2m 15s\n",
      "500:\tlearn: 0.1592465\ttotal: 1m 1s\tremaining: 2m 3s\n",
      "600:\tlearn: 0.0886015\ttotal: 1m 13s\tremaining: 1m 50s\n",
      "700:\tlearn: 0.0491026\ttotal: 1m 25s\tremaining: 1m 37s\n",
      "800:\tlearn: 0.0261119\ttotal: 1m 37s\tremaining: 1m 25s\n",
      "900:\tlearn: 0.0132748\ttotal: 1m 50s\tremaining: 1m 13s\n",
      "1000:\tlearn: 0.0071884\ttotal: 2m 2s\tremaining: 1m\n",
      "1100:\tlearn: 0.0042284\ttotal: 2m 14s\tremaining: 48.6s\n",
      "1200:\tlearn: 0.0023822\ttotal: 2m 26s\tremaining: 36.4s\n",
      "1300:\tlearn: 0.0013348\ttotal: 2m 38s\tremaining: 24.2s\n",
      "1400:\tlearn: 0.0007502\ttotal: 2m 50s\tremaining: 12.1s\n",
      "1499:\tlearn: 0.0004552\ttotal: 3m 2s\tremaining: 0us\n",
      "0:\tlearn: 10.9538938\ttotal: 122ms\tremaining: 3m 2s\n",
      "100:\tlearn: 3.3347025\ttotal: 12.3s\tremaining: 2m 50s\n",
      "200:\tlearn: 1.5104505\ttotal: 24.4s\tremaining: 2m 37s\n",
      "300:\tlearn: 0.6636131\ttotal: 36.7s\tremaining: 2m 26s\n",
      "400:\tlearn: 0.3039737\ttotal: 48.8s\tremaining: 2m 13s\n",
      "500:\tlearn: 0.1469439\ttotal: 1m\tremaining: 2m 1s\n",
      "600:\tlearn: 0.0740562\ttotal: 1m 13s\tremaining: 1m 49s\n",
      "700:\tlearn: 0.0386933\ttotal: 1m 25s\tremaining: 1m 37s\n",
      "800:\tlearn: 0.0203749\ttotal: 1m 37s\tremaining: 1m 25s\n",
      "900:\tlearn: 0.0107238\ttotal: 1m 49s\tremaining: 1m 13s\n",
      "1000:\tlearn: 0.0056403\ttotal: 2m 2s\tremaining: 1m 1s\n",
      "1100:\tlearn: 0.0031406\ttotal: 2m 14s\tremaining: 48.8s\n",
      "1200:\tlearn: 0.0017581\ttotal: 2m 27s\tremaining: 36.8s\n",
      "1300:\tlearn: 0.0009402\ttotal: 2m 40s\tremaining: 24.5s\n",
      "1400:\tlearn: 0.0005070\ttotal: 2m 52s\tremaining: 12.2s\n",
      "1499:\tlearn: 0.0002915\ttotal: 3m 4s\tremaining: 0us\n",
      "0:\tlearn: 11.1096117\ttotal: 6.53ms\tremaining: 6.52s\n",
      "100:\tlearn: 7.8711438\ttotal: 457ms\tremaining: 4.06s\n",
      "200:\tlearn: 7.0429449\ttotal: 917ms\tremaining: 3.64s\n",
      "300:\tlearn: 6.4317891\ttotal: 1.36s\tremaining: 3.16s\n",
      "400:\tlearn: 5.9531760\ttotal: 1.81s\tremaining: 2.71s\n",
      "500:\tlearn: 5.5519991\ttotal: 2.25s\tremaining: 2.25s\n",
      "600:\tlearn: 5.1975644\ttotal: 2.71s\tremaining: 1.8s\n",
      "700:\tlearn: 4.8931650\ttotal: 3.14s\tremaining: 1.34s\n",
      "800:\tlearn: 4.6182414\ttotal: 3.59s\tremaining: 893ms\n",
      "900:\tlearn: 4.3443454\ttotal: 4.04s\tremaining: 444ms\n",
      "999:\tlearn: 4.1302998\ttotal: 4.48s\tremaining: 0us\n"
     ]
    },
    {
     "data": {
      "text/plain": [
       "GridSearchCV(cv=3,\n",
       "             estimator=<catboost.core.CatBoostRegressor object at 0x7fcf4aea8390>,\n",
       "             param_grid={'depth': range(5, 12, 3),\n",
       "                         'iterations': range(1000, 2000, 500),\n",
       "                         'learning_rate': array([0.01, 0.04, 0.07, 0.1 ]),\n",
       "                         'verbose': [100]},\n",
       "             scoring='neg_mean_absolute_error')"
      ]
     },
     "execution_count": 113,
     "metadata": {},
     "output_type": "execute_result"
    }
   ],
   "source": [
    "grid.fit(X_train, y_train)"
   ]
  },
  {
   "cell_type": "markdown",
   "metadata": {
    "id": "wze7JJp7pTUR"
   },
   "source": [
    "Обучим модель на лучших параметрах:"
   ]
  },
  {
   "cell_type": "code",
   "execution_count": 115,
   "metadata": {
    "colab": {
     "base_uri": "https://localhost:8080/"
    },
    "id": "HF9Uc3ceZ1Yi",
    "outputId": "c942f277-d1ac-4896-d300-6c4bb44c17fb"
   },
   "outputs": [
    {
     "data": {
      "text/plain": [
       "{'depth': 5, 'iterations': 1000, 'learning_rate': 0.04, 'verbose': 100}"
      ]
     },
     "execution_count": 115,
     "metadata": {},
     "output_type": "execute_result"
    }
   ],
   "source": [
    "grid.best_params_"
   ]
  },
  {
   "cell_type": "code",
   "execution_count": 116,
   "metadata": {
    "id": "51pnCVeapBF8"
   },
   "outputs": [],
   "source": [
    "cb = CatBoostRegressor(**grid.best_params_)"
   ]
  },
  {
   "cell_type": "code",
   "execution_count": 117,
   "metadata": {
    "colab": {
     "base_uri": "https://localhost:8080/"
    },
    "id": "GbkF6TMTpRwD",
    "outputId": "55fcd903-e590-46f7-aa89-3c6e0e3ed965"
   },
   "outputs": [
    {
     "name": "stdout",
     "output_type": "stream",
     "text": [
      "0:\tlearn: 11.1096117\ttotal: 4.54ms\tremaining: 4.54s\n",
      "100:\tlearn: 7.8711438\ttotal: 469ms\tremaining: 4.17s\n",
      "200:\tlearn: 7.0429449\ttotal: 920ms\tremaining: 3.66s\n",
      "300:\tlearn: 6.4317891\ttotal: 1.38s\tremaining: 3.21s\n",
      "400:\tlearn: 5.9531760\ttotal: 1.82s\tremaining: 2.73s\n",
      "500:\tlearn: 5.5519991\ttotal: 2.31s\tremaining: 2.3s\n",
      "600:\tlearn: 5.1975644\ttotal: 2.76s\tremaining: 1.83s\n",
      "700:\tlearn: 4.8931650\ttotal: 3.22s\tremaining: 1.37s\n",
      "800:\tlearn: 4.6182414\ttotal: 3.67s\tremaining: 911ms\n",
      "900:\tlearn: 4.3443454\ttotal: 4.11s\tremaining: 451ms\n",
      "999:\tlearn: 4.1302998\ttotal: 4.56s\tremaining: 0us\n"
     ]
    },
    {
     "data": {
      "text/plain": [
       "<catboost.core.CatBoostRegressor at 0x7fcf4aeac290>"
      ]
     },
     "execution_count": 117,
     "metadata": {},
     "output_type": "execute_result"
    }
   ],
   "source": [
    "cb.fit(X_train, y_train)"
   ]
  },
  {
   "cell_type": "markdown",
   "metadata": {
    "id": "lAV_sjgjpjZc"
   },
   "source": [
    "### Тестирование модели"
   ]
  },
  {
   "cell_type": "markdown",
   "metadata": {
    "id": "b1lkv_Agple9"
   },
   "source": [
    "Проверим работу модели на тестовой выборке:"
   ]
  },
  {
   "cell_type": "code",
   "execution_count": 118,
   "metadata": {
    "id": "xaltpJqBpdS8"
   },
   "outputs": [],
   "source": [
    "predictions = cb.predict(X_test)"
   ]
  },
  {
   "cell_type": "code",
   "execution_count": 119,
   "metadata": {
    "colab": {
     "base_uri": "https://localhost:8080/"
    },
    "id": "gKonwP6ypqm1",
    "outputId": "295a5afb-df1a-40ab-81d2-1a8cf9e077b2"
   },
   "outputs": [
    {
     "data": {
      "text/plain": [
       "6.132187305993187"
      ]
     },
     "execution_count": 119,
     "metadata": {},
     "output_type": "execute_result"
    }
   ],
   "source": [
    "mean_absolute_error(y_test, predictions)"
   ]
  },
  {
   "cell_type": "markdown",
   "metadata": {
    "id": "iBL_R2xIf-qZ"
   },
   "source": [
    "Таким образом, было построено несколько базовых моделей, однако наиболее лучшей показала модель градиентного бустинга CatBoost. Для нее методом поиска по сетке были получены оптимальные гиперпараметры, при которых модель давала лучшую метрику на тренировочной выборке. \n",
    "\n",
    "Модель также успешно справилась с тестовой выборкой - на неизвестных данных удалось получить метрику **MAE == 6.03**."
   ]
  },
  {
   "cell_type": "markdown",
   "metadata": {
    "id": "8tV1wuQchZlh"
   },
   "source": [
    "## Отчет о проделанной работе"
   ]
  },
  {
   "cell_type": "markdown",
   "metadata": {
    "id": "2NW7--XNhdC8"
   },
   "source": [
    "Таким образом, в работе были выполнены все пункты плана:\n",
    "\n",
    "* Проведен исследовательский анализ данных и выполнена их предобработка: убраны выбросы там, где это необходимо, заполнены пропуски в таблицах. Также удалось сгенерировать несколько фичей, позволяющих улучшить работу модели.\n",
    "* Построены базовые модели без подбора гиперпараметров: хуже всего с задачей справилась модель линейной регрессии, лучше - модель градиентого бустинга `CatBoost`\n",
    "* На основе анализа базовых моделей для дальнейшего обучения была выбрана модель `CatBoostRegressor`. Подобраны гиперпараметры методом `GridSearch`. Метрика на тестовых данных составила **5.92**, что более чем удовлетворяет условию поставленной задачи.\n",
    "* Выполнены предсказания обученной модели на тестовой выборке: результат оказался несколько хуже показателей на тренировочных данных, что и было ожидаемо. Однако, показатель **MAE = 6.03** также считается достаточно высоким/\n",
    "\n",
    "В процессе выполнения работы наибольшую сложность представлял непосредственно исследовательский анализ. Сложность в описании данных, недостаточные сведения о технологическом процессе - все это препятствовало быстрому решению данной задачи."
   ]
  }
 ],
 "metadata": {
  "ExecuteTimeLog": [
   {
    "duration": 2338,
    "start_time": "2022-06-12T03:39:27.011Z"
   },
   {
    "duration": 472,
    "start_time": "2022-06-12T03:39:33.190Z"
   },
   {
    "duration": 4,
    "start_time": "2022-06-12T03:39:44.732Z"
   },
   {
    "duration": 4,
    "start_time": "2022-06-12T03:39:47.143Z"
   },
   {
    "duration": 14,
    "start_time": "2022-06-12T03:39:48.583Z"
   },
   {
    "duration": 13,
    "start_time": "2022-06-12T03:39:49.350Z"
   },
   {
    "duration": 8,
    "start_time": "2022-06-12T03:39:49.964Z"
   },
   {
    "duration": 11,
    "start_time": "2022-06-12T03:39:50.627Z"
   },
   {
    "duration": 20,
    "start_time": "2022-06-12T03:39:51.304Z"
   },
   {
    "duration": 6,
    "start_time": "2022-06-12T03:39:51.991Z"
   },
   {
    "duration": 306,
    "start_time": "2022-06-12T03:39:52.181Z"
   },
   {
    "duration": 16,
    "start_time": "2022-06-12T03:39:52.591Z"
   },
   {
    "duration": 18,
    "start_time": "2022-06-12T03:39:52.765Z"
   },
   {
    "duration": 4,
    "start_time": "2022-06-12T03:39:53.291Z"
   },
   {
    "duration": 135,
    "start_time": "2022-06-12T03:39:54.104Z"
   },
   {
    "duration": 6,
    "start_time": "2022-06-12T03:39:54.446Z"
   },
   {
    "duration": 7,
    "start_time": "2022-06-12T03:39:54.701Z"
   },
   {
    "duration": 6,
    "start_time": "2022-06-12T03:39:55.425Z"
   },
   {
    "duration": 3,
    "start_time": "2022-06-12T03:39:56.018Z"
   },
   {
    "duration": 9,
    "start_time": "2022-06-12T03:39:56.496Z"
   },
   {
    "duration": 16,
    "start_time": "2022-06-12T03:40:02.257Z"
   },
   {
    "duration": 14,
    "start_time": "2022-06-12T03:40:03.060Z"
   },
   {
    "duration": 11,
    "start_time": "2022-06-12T03:40:04.279Z"
   },
   {
    "duration": 7,
    "start_time": "2022-06-12T03:40:05.512Z"
   },
   {
    "duration": 46,
    "start_time": "2022-06-12T03:40:06.394Z"
   },
   {
    "duration": 3,
    "start_time": "2022-06-12T03:40:06.737Z"
   },
   {
    "duration": 27,
    "start_time": "2022-06-12T03:40:07.514Z"
   },
   {
    "duration": 11,
    "start_time": "2022-06-12T03:40:10.540Z"
   },
   {
    "duration": 134,
    "start_time": "2022-06-12T03:40:11.630Z"
   },
   {
    "duration": 20,
    "start_time": "2022-06-12T03:40:12.372Z"
   },
   {
    "duration": 5,
    "start_time": "2022-06-12T03:40:14.961Z"
   },
   {
    "duration": 3,
    "start_time": "2022-06-12T03:40:16.419Z"
   },
   {
    "duration": 22,
    "start_time": "2022-06-12T03:40:19.182Z"
   },
   {
    "duration": 6,
    "start_time": "2022-06-12T03:40:20.708Z"
   },
   {
    "duration": 9,
    "start_time": "2022-06-12T03:40:21.393Z"
   },
   {
    "duration": 17,
    "start_time": "2022-06-12T03:40:22.354Z"
   },
   {
    "duration": 260,
    "start_time": "2022-06-12T03:40:22.975Z"
   },
   {
    "duration": 8,
    "start_time": "2022-06-12T03:40:24.651Z"
   },
   {
    "duration": 11,
    "start_time": "2022-06-12T03:40:26.915Z"
   },
   {
    "duration": 18,
    "start_time": "2022-06-12T03:40:28.045Z"
   },
   {
    "duration": 7,
    "start_time": "2022-06-12T03:40:28.465Z"
   },
   {
    "duration": 12,
    "start_time": "2022-06-12T03:40:28.906Z"
   },
   {
    "duration": 5,
    "start_time": "2022-06-12T03:40:29.610Z"
   },
   {
    "duration": 6,
    "start_time": "2022-06-12T03:40:30.143Z"
   },
   {
    "duration": 9,
    "start_time": "2022-06-12T03:40:30.454Z"
   },
   {
    "duration": 7,
    "start_time": "2022-06-12T03:40:31.112Z"
   },
   {
    "duration": 6,
    "start_time": "2022-06-12T03:40:31.528Z"
   },
   {
    "duration": 10,
    "start_time": "2022-06-12T03:40:31.782Z"
   },
   {
    "duration": 5,
    "start_time": "2022-06-12T03:40:32.485Z"
   },
   {
    "duration": 755,
    "start_time": "2022-06-12T03:40:36.453Z"
   },
   {
    "duration": 11,
    "start_time": "2022-06-12T03:40:41.554Z"
   },
   {
    "duration": 10,
    "start_time": "2022-06-12T03:40:42.685Z"
   },
   {
    "duration": 11,
    "start_time": "2022-06-12T03:40:45.105Z"
   },
   {
    "duration": 5,
    "start_time": "2022-06-12T03:40:45.735Z"
   },
   {
    "duration": 33,
    "start_time": "2022-06-12T03:40:46.322Z"
   },
   {
    "duration": 3,
    "start_time": "2022-06-12T03:40:52.254Z"
   },
   {
    "duration": 17,
    "start_time": "2022-06-12T03:40:52.786Z"
   },
   {
    "duration": 8,
    "start_time": "2022-06-12T03:40:53.024Z"
   },
   {
    "duration": 14,
    "start_time": "2022-06-12T03:40:53.319Z"
   },
   {
    "duration": 87,
    "start_time": "2022-06-12T03:40:53.599Z"
   },
   {
    "duration": 4,
    "start_time": "2022-06-12T03:40:54.193Z"
   },
   {
    "duration": 3,
    "start_time": "2022-06-12T03:40:54.663Z"
   },
   {
    "duration": 18,
    "start_time": "2022-06-12T03:40:54.888Z"
   },
   {
    "duration": 23,
    "start_time": "2022-06-12T03:40:56.540Z"
   },
   {
    "duration": 7,
    "start_time": "2022-06-12T03:40:57.076Z"
   },
   {
    "duration": 3649,
    "start_time": "2022-06-12T03:40:57.316Z"
   },
   {
    "duration": 5,
    "start_time": "2022-06-12T03:42:00.094Z"
   },
   {
    "duration": 6,
    "start_time": "2022-06-12T03:42:00.564Z"
   },
   {
    "duration": 2,
    "start_time": "2022-06-12T03:42:07.589Z"
   },
   {
    "duration": 520,
    "start_time": "2022-06-12T03:42:07.854Z"
   },
   {
    "duration": 2,
    "start_time": "2022-06-12T03:42:15.632Z"
   },
   {
    "duration": 80,
    "start_time": "2022-06-12T03:42:16.103Z"
   },
   {
    "duration": 3,
    "start_time": "2022-06-12T03:42:19.622Z"
   },
   {
    "duration": 3435,
    "start_time": "2022-06-12T03:42:19.961Z"
   },
   {
    "duration": 2,
    "start_time": "2022-06-12T03:42:23.398Z"
   },
   {
    "duration": 4476,
    "start_time": "2022-06-12T03:42:23.401Z"
   },
   {
    "duration": 3,
    "start_time": "2022-06-12T03:42:29.670Z"
   },
   {
    "duration": 17487,
    "start_time": "2022-06-12T03:42:30.159Z"
   },
   {
    "duration": 4053,
    "start_time": "2022-06-12T08:08:04.382Z"
   },
   {
    "duration": 2173,
    "start_time": "2022-06-12T08:08:08.437Z"
   },
   {
    "duration": 1560,
    "start_time": "2022-06-12T08:08:10.611Z"
   },
   {
    "duration": 124,
    "start_time": "2022-06-12T08:08:12.173Z"
   },
   {
    "duration": 0,
    "start_time": "2022-06-12T08:08:12.305Z"
   },
   {
    "duration": 0,
    "start_time": "2022-06-12T08:08:12.307Z"
   },
   {
    "duration": 0,
    "start_time": "2022-06-12T08:08:12.308Z"
   },
   {
    "duration": 0,
    "start_time": "2022-06-12T08:08:12.308Z"
   },
   {
    "duration": 0,
    "start_time": "2022-06-12T08:08:12.310Z"
   },
   {
    "duration": 0,
    "start_time": "2022-06-12T08:08:12.311Z"
   },
   {
    "duration": 0,
    "start_time": "2022-06-12T08:08:12.312Z"
   },
   {
    "duration": 0,
    "start_time": "2022-06-12T08:08:12.313Z"
   },
   {
    "duration": 0,
    "start_time": "2022-06-12T08:08:12.314Z"
   },
   {
    "duration": 0,
    "start_time": "2022-06-12T08:08:12.315Z"
   },
   {
    "duration": 0,
    "start_time": "2022-06-12T08:08:12.316Z"
   },
   {
    "duration": 0,
    "start_time": "2022-06-12T08:08:12.317Z"
   },
   {
    "duration": 0,
    "start_time": "2022-06-12T08:08:12.318Z"
   },
   {
    "duration": 0,
    "start_time": "2022-06-12T08:08:12.319Z"
   },
   {
    "duration": 0,
    "start_time": "2022-06-12T08:08:12.320Z"
   },
   {
    "duration": 0,
    "start_time": "2022-06-12T08:08:12.321Z"
   },
   {
    "duration": 0,
    "start_time": "2022-06-12T08:08:12.322Z"
   },
   {
    "duration": 0,
    "start_time": "2022-06-12T08:08:12.323Z"
   },
   {
    "duration": 0,
    "start_time": "2022-06-12T08:08:12.324Z"
   },
   {
    "duration": 0,
    "start_time": "2022-06-12T08:08:12.325Z"
   },
   {
    "duration": 0,
    "start_time": "2022-06-12T08:08:12.326Z"
   },
   {
    "duration": 0,
    "start_time": "2022-06-12T08:08:12.327Z"
   },
   {
    "duration": 0,
    "start_time": "2022-06-12T08:08:12.329Z"
   },
   {
    "duration": 0,
    "start_time": "2022-06-12T08:08:12.329Z"
   },
   {
    "duration": 1,
    "start_time": "2022-06-12T08:08:12.330Z"
   },
   {
    "duration": 0,
    "start_time": "2022-06-12T08:08:12.332Z"
   },
   {
    "duration": 0,
    "start_time": "2022-06-12T08:08:12.333Z"
   },
   {
    "duration": 0,
    "start_time": "2022-06-12T08:08:12.334Z"
   },
   {
    "duration": 0,
    "start_time": "2022-06-12T08:08:12.335Z"
   },
   {
    "duration": 0,
    "start_time": "2022-06-12T08:08:12.336Z"
   },
   {
    "duration": 0,
    "start_time": "2022-06-12T08:08:12.337Z"
   },
   {
    "duration": 0,
    "start_time": "2022-06-12T08:08:12.338Z"
   },
   {
    "duration": 0,
    "start_time": "2022-06-12T08:08:12.339Z"
   },
   {
    "duration": 0,
    "start_time": "2022-06-12T08:08:12.340Z"
   },
   {
    "duration": 0,
    "start_time": "2022-06-12T08:08:12.397Z"
   },
   {
    "duration": 0,
    "start_time": "2022-06-12T08:08:12.398Z"
   },
   {
    "duration": 0,
    "start_time": "2022-06-12T08:08:12.400Z"
   },
   {
    "duration": 0,
    "start_time": "2022-06-12T08:08:12.400Z"
   },
   {
    "duration": 0,
    "start_time": "2022-06-12T08:08:12.401Z"
   },
   {
    "duration": 0,
    "start_time": "2022-06-12T08:08:12.403Z"
   },
   {
    "duration": 0,
    "start_time": "2022-06-12T08:08:12.404Z"
   },
   {
    "duration": 0,
    "start_time": "2022-06-12T08:08:12.404Z"
   },
   {
    "duration": 0,
    "start_time": "2022-06-12T08:08:12.407Z"
   },
   {
    "duration": 0,
    "start_time": "2022-06-12T08:08:12.411Z"
   },
   {
    "duration": 0,
    "start_time": "2022-06-12T08:08:12.413Z"
   },
   {
    "duration": 0,
    "start_time": "2022-06-12T08:08:12.414Z"
   },
   {
    "duration": 0,
    "start_time": "2022-06-12T08:08:12.416Z"
   },
   {
    "duration": 0,
    "start_time": "2022-06-12T08:08:12.417Z"
   },
   {
    "duration": 0,
    "start_time": "2022-06-12T08:08:12.418Z"
   },
   {
    "duration": 0,
    "start_time": "2022-06-12T08:08:12.419Z"
   },
   {
    "duration": 0,
    "start_time": "2022-06-12T08:08:12.420Z"
   },
   {
    "duration": 0,
    "start_time": "2022-06-12T08:08:12.420Z"
   },
   {
    "duration": 0,
    "start_time": "2022-06-12T08:08:12.422Z"
   },
   {
    "duration": 0,
    "start_time": "2022-06-12T08:08:12.422Z"
   },
   {
    "duration": 0,
    "start_time": "2022-06-12T08:08:12.423Z"
   },
   {
    "duration": 0,
    "start_time": "2022-06-12T08:08:12.424Z"
   },
   {
    "duration": 0,
    "start_time": "2022-06-12T08:08:12.425Z"
   },
   {
    "duration": 0,
    "start_time": "2022-06-12T08:08:12.426Z"
   },
   {
    "duration": 0,
    "start_time": "2022-06-12T08:08:12.429Z"
   },
   {
    "duration": 0,
    "start_time": "2022-06-12T08:08:12.430Z"
   },
   {
    "duration": 0,
    "start_time": "2022-06-12T08:08:12.431Z"
   },
   {
    "duration": 0,
    "start_time": "2022-06-12T08:08:12.432Z"
   },
   {
    "duration": 0,
    "start_time": "2022-06-12T08:08:12.434Z"
   },
   {
    "duration": 0,
    "start_time": "2022-06-12T08:08:12.494Z"
   },
   {
    "duration": 0,
    "start_time": "2022-06-12T08:08:12.494Z"
   },
   {
    "duration": 0,
    "start_time": "2022-06-12T08:08:12.495Z"
   },
   {
    "duration": 0,
    "start_time": "2022-06-12T08:08:12.496Z"
   },
   {
    "duration": 0,
    "start_time": "2022-06-12T08:08:12.496Z"
   },
   {
    "duration": 0,
    "start_time": "2022-06-12T08:08:12.497Z"
   },
   {
    "duration": 0,
    "start_time": "2022-06-12T08:08:12.497Z"
   },
   {
    "duration": 0,
    "start_time": "2022-06-12T08:08:12.499Z"
   },
   {
    "duration": 0,
    "start_time": "2022-06-12T08:08:12.500Z"
   },
   {
    "duration": 0,
    "start_time": "2022-06-12T08:08:12.501Z"
   },
   {
    "duration": 0,
    "start_time": "2022-06-12T08:08:12.502Z"
   },
   {
    "duration": 0,
    "start_time": "2022-06-12T08:08:12.502Z"
   },
   {
    "duration": 0,
    "start_time": "2022-06-12T08:08:12.503Z"
   },
   {
    "duration": 0,
    "start_time": "2022-06-12T08:08:12.504Z"
   },
   {
    "duration": 1,
    "start_time": "2022-06-12T08:08:12.506Z"
   },
   {
    "duration": 0,
    "start_time": "2022-06-12T08:08:12.507Z"
   },
   {
    "duration": 0,
    "start_time": "2022-06-12T08:08:12.508Z"
   },
   {
    "duration": 0,
    "start_time": "2022-06-12T08:08:12.508Z"
   },
   {
    "duration": 0,
    "start_time": "2022-06-12T08:08:12.509Z"
   },
   {
    "duration": 0,
    "start_time": "2022-06-12T08:08:12.509Z"
   },
   {
    "duration": 0,
    "start_time": "2022-06-12T08:08:12.511Z"
   }
  ],
  "colab": {
   "collapsed_sections": [],
   "name": "Диплом_итог.ipynb",
   "provenance": []
  },
  "kernelspec": {
   "display_name": "Python 3 (ipykernel)",
   "language": "python",
   "name": "python3"
  },
  "language_info": {
   "codemirror_mode": {
    "name": "ipython",
    "version": 3
   },
   "file_extension": ".py",
   "mimetype": "text/x-python",
   "name": "python",
   "nbconvert_exporter": "python",
   "pygments_lexer": "ipython3",
   "version": "3.9.7"
  },
  "toc": {
   "base_numbering": 1,
   "nav_menu": {},
   "number_sections": true,
   "sideBar": true,
   "skip_h1_title": true,
   "title_cell": "Table of Contents",
   "title_sidebar": "Contents",
   "toc_cell": false,
   "toc_position": {},
   "toc_section_display": true,
   "toc_window_display": false
  },
  "varInspector": {
   "cols": {
    "lenName": 16,
    "lenType": 16,
    "lenVar": 40
   },
   "kernels_config": {
    "python": {
     "delete_cmd_postfix": "",
     "delete_cmd_prefix": "del ",
     "library": "var_list.py",
     "varRefreshCmd": "print(var_dic_list())"
    },
    "r": {
     "delete_cmd_postfix": ") ",
     "delete_cmd_prefix": "rm(",
     "library": "var_list.r",
     "varRefreshCmd": "cat(var_dic_list()) "
    }
   },
   "types_to_exclude": [
    "module",
    "function",
    "builtin_function_or_method",
    "instance",
    "_Feature"
   ],
   "window_display": false
  }
 },
 "nbformat": 4,
 "nbformat_minor": 1
}
