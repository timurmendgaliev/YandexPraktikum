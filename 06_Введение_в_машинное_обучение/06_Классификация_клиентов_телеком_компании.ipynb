{
 "cells": [
  {
   "cell_type": "markdown",
   "metadata": {},
   "source": [
    "# Рекомендация тарифов"
   ]
  },
  {
   "cell_type": "markdown",
   "metadata": {},
   "source": [
    "В нашем распоряжении данные о пользователях оператора мобильной связи Мегалайн, перешедшие на тарифы Смарт или Ультра. Необходимо построить модель для задачи классификации, которая выберет подходящий тариф."
   ]
  },
  {
   "cell_type": "markdown",
   "metadata": {
    "toc": true
   },
   "source": [
    "<h1>Оглавление<span class=\"tocSkip\"></span></h1>\n",
    "<div class=\"toc\"><ul class=\"toc-item\"><li><span><a href=\"#Обзор-данных\" data-toc-modified-id=\"Обзор-данных-1\"><span class=\"toc-item-num\">1&nbsp;&nbsp;</span>Обзор данных</a></span><ul class=\"toc-item\"><li><span><a href=\"#Вывод\" data-toc-modified-id=\"Вывод-1.1\"><span class=\"toc-item-num\">1.1&nbsp;&nbsp;</span>Вывод</a></span></li></ul></li><li><span><a href=\"#Разделение-данных-на-выборки\" data-toc-modified-id=\"Разделение-данных-на-выборки-2\"><span class=\"toc-item-num\">2&nbsp;&nbsp;</span>Разделение данных на выборки</a></span><ul class=\"toc-item\"><li><span><a href=\"#Вывод\" data-toc-modified-id=\"Вывод-2.1\"><span class=\"toc-item-num\">2.1&nbsp;&nbsp;</span>Вывод</a></span></li></ul></li><li><span><a href=\"#Исследование-моделей\" data-toc-modified-id=\"Исследование-моделей-3\"><span class=\"toc-item-num\">3&nbsp;&nbsp;</span>Исследование моделей</a></span><ul class=\"toc-item\"><li><span><a href=\"#Исследование-модели-DecisionTreeClassifier\" data-toc-modified-id=\"Исследование-модели-DecisionTreeClassifier-3.1\"><span class=\"toc-item-num\">3.1&nbsp;&nbsp;</span>Исследование модели <em>DecisionTreeClassifier</em></a></span></li><li><span><a href=\"#Исследование-модели-RandomForestClassifier\" data-toc-modified-id=\"Исследование-модели-RandomForestClassifier-3.2\"><span class=\"toc-item-num\">3.2&nbsp;&nbsp;</span>Исследование модели <em>RandomForestClassifier</em></a></span></li><li><span><a href=\"#Исследование-модели-LogisticRegression\" data-toc-modified-id=\"Исследование-модели-LogisticRegression-3.3\"><span class=\"toc-item-num\">3.3&nbsp;&nbsp;</span>Исследование модели <em>LogisticRegression</em></a></span></li><li><span><a href=\"#Вывод\" data-toc-modified-id=\"Вывод-3.4\"><span class=\"toc-item-num\">3.4&nbsp;&nbsp;</span>Вывод</a></span></li></ul></li><li><span><a href=\"#Тестирование-моделей\" data-toc-modified-id=\"Тестирование-моделей-4\"><span class=\"toc-item-num\">4&nbsp;&nbsp;</span>Тестирование моделей</a></span><ul class=\"toc-item\"><li><span><a href=\"#Проверка-модели-DecisionTreeClassifier\" data-toc-modified-id=\"Проверка-модели-DecisionTreeClassifier-4.1\"><span class=\"toc-item-num\">4.1&nbsp;&nbsp;</span>Проверка модели <em>DecisionTreeClassifier</em></a></span></li><li><span><a href=\"#Проверка-модели-RandomForestClassifier\" data-toc-modified-id=\"Проверка-модели-RandomForestClassifier-4.2\"><span class=\"toc-item-num\">4.2&nbsp;&nbsp;</span>Проверка модели <em>RandomForestClassifier</em></a></span></li><li><span><a href=\"#Проверка-модели-LogisticRegression\" data-toc-modified-id=\"Проверка-модели-LogisticRegression-4.3\"><span class=\"toc-item-num\">4.3&nbsp;&nbsp;</span>Проверка модели <em>LogisticRegression</em></a></span></li><li><span><a href=\"#Вывод\" data-toc-modified-id=\"Вывод-4.4\"><span class=\"toc-item-num\">4.4&nbsp;&nbsp;</span>Вывод</a></span></li></ul></li><li><span><a href=\"#Проверка-модели-на-адекватность\" data-toc-modified-id=\"Проверка-модели-на-адекватность-5\"><span class=\"toc-item-num\">5&nbsp;&nbsp;</span>Проверка модели на адекватность</a></span></li><li><span><a href=\"#Общий-вывод\" data-toc-modified-id=\"Общий-вывод-6\"><span class=\"toc-item-num\">6&nbsp;&nbsp;</span>Общий вывод</a></span></li><li><span><a href=\"#Чек-лист-готовности-проекта\" data-toc-modified-id=\"Чек-лист-готовности-проекта-7\"><span class=\"toc-item-num\">7&nbsp;&nbsp;</span>Чек-лист готовности проекта</a></span></li></ul></div>"
   ]
  },
  {
   "cell_type": "markdown",
   "metadata": {},
   "source": [
    "## Обзор данных"
   ]
  },
  {
   "cell_type": "code",
   "execution_count": 1,
   "metadata": {},
   "outputs": [],
   "source": [
    "import pandas as pd\n",
    "import numpy as np\n",
    "import warnings\n",
    "from sklearn.model_selection import train_test_split\n",
    "from sklearn.metrics import accuracy_score\n",
    "from sklearn.metrics import mean_squared_error\n",
    "from sklearn.ensemble import RandomForestClassifier\n",
    "from sklearn.tree import DecisionTreeClassifier\n",
    "from sklearn.linear_model import LogisticRegression\n",
    "from sklearn.dummy import DummyClassifier\n",
    "warnings.filterwarnings('ignore')\n",
    "\n",
    "RS=111"
   ]
  },
  {
   "cell_type": "code",
   "execution_count": 2,
   "metadata": {},
   "outputs": [],
   "source": [
    "df = pd.read_csv('/datasets/users_behavior.csv')"
   ]
  },
  {
   "cell_type": "markdown",
   "metadata": {},
   "source": [
    "Рассмотрим первые 5 строк исходных данных:"
   ]
  },
  {
   "cell_type": "code",
   "execution_count": 3,
   "metadata": {},
   "outputs": [
    {
     "data": {
      "text/html": [
       "<div>\n",
       "<style scoped>\n",
       "    .dataframe tbody tr th:only-of-type {\n",
       "        vertical-align: middle;\n",
       "    }\n",
       "\n",
       "    .dataframe tbody tr th {\n",
       "        vertical-align: top;\n",
       "    }\n",
       "\n",
       "    .dataframe thead th {\n",
       "        text-align: right;\n",
       "    }\n",
       "</style>\n",
       "<table border=\"1\" class=\"dataframe\">\n",
       "  <thead>\n",
       "    <tr style=\"text-align: right;\">\n",
       "      <th></th>\n",
       "      <th>calls</th>\n",
       "      <th>minutes</th>\n",
       "      <th>messages</th>\n",
       "      <th>mb_used</th>\n",
       "      <th>is_ultra</th>\n",
       "    </tr>\n",
       "  </thead>\n",
       "  <tbody>\n",
       "    <tr>\n",
       "      <td>0</td>\n",
       "      <td>40.0</td>\n",
       "      <td>311.90</td>\n",
       "      <td>83.0</td>\n",
       "      <td>19915.42</td>\n",
       "      <td>0</td>\n",
       "    </tr>\n",
       "    <tr>\n",
       "      <td>1</td>\n",
       "      <td>85.0</td>\n",
       "      <td>516.75</td>\n",
       "      <td>56.0</td>\n",
       "      <td>22696.96</td>\n",
       "      <td>0</td>\n",
       "    </tr>\n",
       "    <tr>\n",
       "      <td>2</td>\n",
       "      <td>77.0</td>\n",
       "      <td>467.66</td>\n",
       "      <td>86.0</td>\n",
       "      <td>21060.45</td>\n",
       "      <td>0</td>\n",
       "    </tr>\n",
       "    <tr>\n",
       "      <td>3</td>\n",
       "      <td>106.0</td>\n",
       "      <td>745.53</td>\n",
       "      <td>81.0</td>\n",
       "      <td>8437.39</td>\n",
       "      <td>1</td>\n",
       "    </tr>\n",
       "    <tr>\n",
       "      <td>4</td>\n",
       "      <td>66.0</td>\n",
       "      <td>418.74</td>\n",
       "      <td>1.0</td>\n",
       "      <td>14502.75</td>\n",
       "      <td>0</td>\n",
       "    </tr>\n",
       "  </tbody>\n",
       "</table>\n",
       "</div>"
      ],
      "text/plain": [
       "   calls  minutes  messages   mb_used  is_ultra\n",
       "0   40.0   311.90      83.0  19915.42         0\n",
       "1   85.0   516.75      56.0  22696.96         0\n",
       "2   77.0   467.66      86.0  21060.45         0\n",
       "3  106.0   745.53      81.0   8437.39         1\n",
       "4   66.0   418.74       1.0  14502.75         0"
      ]
     },
     "execution_count": 3,
     "metadata": {},
     "output_type": "execute_result"
    }
   ],
   "source": [
    "df.head()"
   ]
  },
  {
   "cell_type": "markdown",
   "metadata": {},
   "source": [
    "Из документации к данным:\n",
    "* **сalls** — количество звонков,\n",
    "* **minutes** — суммарная длительность звонков в минутах,\n",
    "* **messages** — количество sms-сообщений,\n",
    "* **mb_used** — израсходованный интернет-трафик в Мб,\n",
    "* **is_ultra** — каким тарифом пользовался в течение месяца («Ультра» — 1, «Смарт» — 0)."
   ]
  },
  {
   "cell_type": "markdown",
   "metadata": {},
   "source": [
    "Рассмотрим последние 5 строк исходных данных:"
   ]
  },
  {
   "cell_type": "code",
   "execution_count": 4,
   "metadata": {},
   "outputs": [
    {
     "data": {
      "text/html": [
       "<div>\n",
       "<style scoped>\n",
       "    .dataframe tbody tr th:only-of-type {\n",
       "        vertical-align: middle;\n",
       "    }\n",
       "\n",
       "    .dataframe tbody tr th {\n",
       "        vertical-align: top;\n",
       "    }\n",
       "\n",
       "    .dataframe thead th {\n",
       "        text-align: right;\n",
       "    }\n",
       "</style>\n",
       "<table border=\"1\" class=\"dataframe\">\n",
       "  <thead>\n",
       "    <tr style=\"text-align: right;\">\n",
       "      <th></th>\n",
       "      <th>calls</th>\n",
       "      <th>minutes</th>\n",
       "      <th>messages</th>\n",
       "      <th>mb_used</th>\n",
       "      <th>is_ultra</th>\n",
       "    </tr>\n",
       "  </thead>\n",
       "  <tbody>\n",
       "    <tr>\n",
       "      <td>3209</td>\n",
       "      <td>122.0</td>\n",
       "      <td>910.98</td>\n",
       "      <td>20.0</td>\n",
       "      <td>35124.90</td>\n",
       "      <td>1</td>\n",
       "    </tr>\n",
       "    <tr>\n",
       "      <td>3210</td>\n",
       "      <td>25.0</td>\n",
       "      <td>190.36</td>\n",
       "      <td>0.0</td>\n",
       "      <td>3275.61</td>\n",
       "      <td>0</td>\n",
       "    </tr>\n",
       "    <tr>\n",
       "      <td>3211</td>\n",
       "      <td>97.0</td>\n",
       "      <td>634.44</td>\n",
       "      <td>70.0</td>\n",
       "      <td>13974.06</td>\n",
       "      <td>0</td>\n",
       "    </tr>\n",
       "    <tr>\n",
       "      <td>3212</td>\n",
       "      <td>64.0</td>\n",
       "      <td>462.32</td>\n",
       "      <td>90.0</td>\n",
       "      <td>31239.78</td>\n",
       "      <td>0</td>\n",
       "    </tr>\n",
       "    <tr>\n",
       "      <td>3213</td>\n",
       "      <td>80.0</td>\n",
       "      <td>566.09</td>\n",
       "      <td>6.0</td>\n",
       "      <td>29480.52</td>\n",
       "      <td>1</td>\n",
       "    </tr>\n",
       "  </tbody>\n",
       "</table>\n",
       "</div>"
      ],
      "text/plain": [
       "      calls  minutes  messages   mb_used  is_ultra\n",
       "3209  122.0   910.98      20.0  35124.90         1\n",
       "3210   25.0   190.36       0.0   3275.61         0\n",
       "3211   97.0   634.44      70.0  13974.06         0\n",
       "3212   64.0   462.32      90.0  31239.78         0\n",
       "3213   80.0   566.09       6.0  29480.52         1"
      ]
     },
     "execution_count": 4,
     "metadata": {},
     "output_type": "execute_result"
    }
   ],
   "source": [
    "df.tail()"
   ]
  },
  {
   "cell_type": "markdown",
   "metadata": {},
   "source": [
    "Рассмотрим случайные 5 строк исходных данных:"
   ]
  },
  {
   "cell_type": "code",
   "execution_count": 5,
   "metadata": {},
   "outputs": [
    {
     "data": {
      "text/html": [
       "<div>\n",
       "<style scoped>\n",
       "    .dataframe tbody tr th:only-of-type {\n",
       "        vertical-align: middle;\n",
       "    }\n",
       "\n",
       "    .dataframe tbody tr th {\n",
       "        vertical-align: top;\n",
       "    }\n",
       "\n",
       "    .dataframe thead th {\n",
       "        text-align: right;\n",
       "    }\n",
       "</style>\n",
       "<table border=\"1\" class=\"dataframe\">\n",
       "  <thead>\n",
       "    <tr style=\"text-align: right;\">\n",
       "      <th></th>\n",
       "      <th>calls</th>\n",
       "      <th>minutes</th>\n",
       "      <th>messages</th>\n",
       "      <th>mb_used</th>\n",
       "      <th>is_ultra</th>\n",
       "    </tr>\n",
       "  </thead>\n",
       "  <tbody>\n",
       "    <tr>\n",
       "      <td>1145</td>\n",
       "      <td>43.0</td>\n",
       "      <td>223.90</td>\n",
       "      <td>12.0</td>\n",
       "      <td>23090.88</td>\n",
       "      <td>0</td>\n",
       "    </tr>\n",
       "    <tr>\n",
       "      <td>1329</td>\n",
       "      <td>111.0</td>\n",
       "      <td>818.91</td>\n",
       "      <td>3.0</td>\n",
       "      <td>15530.91</td>\n",
       "      <td>1</td>\n",
       "    </tr>\n",
       "    <tr>\n",
       "      <td>1137</td>\n",
       "      <td>52.0</td>\n",
       "      <td>378.93</td>\n",
       "      <td>117.0</td>\n",
       "      <td>23449.04</td>\n",
       "      <td>1</td>\n",
       "    </tr>\n",
       "    <tr>\n",
       "      <td>1283</td>\n",
       "      <td>60.0</td>\n",
       "      <td>427.29</td>\n",
       "      <td>6.0</td>\n",
       "      <td>7023.77</td>\n",
       "      <td>0</td>\n",
       "    </tr>\n",
       "    <tr>\n",
       "      <td>1960</td>\n",
       "      <td>123.0</td>\n",
       "      <td>854.24</td>\n",
       "      <td>47.0</td>\n",
       "      <td>19055.86</td>\n",
       "      <td>1</td>\n",
       "    </tr>\n",
       "  </tbody>\n",
       "</table>\n",
       "</div>"
      ],
      "text/plain": [
       "      calls  minutes  messages   mb_used  is_ultra\n",
       "1145   43.0   223.90      12.0  23090.88         0\n",
       "1329  111.0   818.91       3.0  15530.91         1\n",
       "1137   52.0   378.93     117.0  23449.04         1\n",
       "1283   60.0   427.29       6.0   7023.77         0\n",
       "1960  123.0   854.24      47.0  19055.86         1"
      ]
     },
     "execution_count": 5,
     "metadata": {},
     "output_type": "execute_result"
    }
   ],
   "source": [
    "df.sample(5, random_state=RS)"
   ]
  },
  {
   "cell_type": "markdown",
   "metadata": {},
   "source": [
    "Выведем основную информацию о таблице:"
   ]
  },
  {
   "cell_type": "code",
   "execution_count": 6,
   "metadata": {},
   "outputs": [
    {
     "name": "stdout",
     "output_type": "stream",
     "text": [
      "<class 'pandas.core.frame.DataFrame'>\n",
      "RangeIndex: 3214 entries, 0 to 3213\n",
      "Data columns (total 5 columns):\n",
      "calls       3214 non-null float64\n",
      "minutes     3214 non-null float64\n",
      "messages    3214 non-null float64\n",
      "mb_used     3214 non-null float64\n",
      "is_ultra    3214 non-null int64\n",
      "dtypes: float64(4), int64(1)\n",
      "memory usage: 125.7 KB\n"
     ]
    }
   ],
   "source": [
    "df.info()"
   ]
  },
  {
   "cell_type": "markdown",
   "metadata": {},
   "source": [
    "Выведем описательные статистики:"
   ]
  },
  {
   "cell_type": "code",
   "execution_count": 7,
   "metadata": {},
   "outputs": [
    {
     "data": {
      "text/html": [
       "<div>\n",
       "<style scoped>\n",
       "    .dataframe tbody tr th:only-of-type {\n",
       "        vertical-align: middle;\n",
       "    }\n",
       "\n",
       "    .dataframe tbody tr th {\n",
       "        vertical-align: top;\n",
       "    }\n",
       "\n",
       "    .dataframe thead th {\n",
       "        text-align: right;\n",
       "    }\n",
       "</style>\n",
       "<table border=\"1\" class=\"dataframe\">\n",
       "  <thead>\n",
       "    <tr style=\"text-align: right;\">\n",
       "      <th></th>\n",
       "      <th>count</th>\n",
       "      <th>mean</th>\n",
       "      <th>std</th>\n",
       "      <th>min</th>\n",
       "      <th>25%</th>\n",
       "      <th>50%</th>\n",
       "      <th>75%</th>\n",
       "      <th>max</th>\n",
       "    </tr>\n",
       "  </thead>\n",
       "  <tbody>\n",
       "    <tr>\n",
       "      <td>calls</td>\n",
       "      <td>3214.0</td>\n",
       "      <td>63.038892</td>\n",
       "      <td>33.236368</td>\n",
       "      <td>0.0</td>\n",
       "      <td>40.0000</td>\n",
       "      <td>62.000</td>\n",
       "      <td>82.0000</td>\n",
       "      <td>244.00</td>\n",
       "    </tr>\n",
       "    <tr>\n",
       "      <td>minutes</td>\n",
       "      <td>3214.0</td>\n",
       "      <td>438.208787</td>\n",
       "      <td>234.569872</td>\n",
       "      <td>0.0</td>\n",
       "      <td>274.5750</td>\n",
       "      <td>430.600</td>\n",
       "      <td>571.9275</td>\n",
       "      <td>1632.06</td>\n",
       "    </tr>\n",
       "    <tr>\n",
       "      <td>messages</td>\n",
       "      <td>3214.0</td>\n",
       "      <td>38.281269</td>\n",
       "      <td>36.148326</td>\n",
       "      <td>0.0</td>\n",
       "      <td>9.0000</td>\n",
       "      <td>30.000</td>\n",
       "      <td>57.0000</td>\n",
       "      <td>224.00</td>\n",
       "    </tr>\n",
       "    <tr>\n",
       "      <td>mb_used</td>\n",
       "      <td>3214.0</td>\n",
       "      <td>17207.673836</td>\n",
       "      <td>7570.968246</td>\n",
       "      <td>0.0</td>\n",
       "      <td>12491.9025</td>\n",
       "      <td>16943.235</td>\n",
       "      <td>21424.7000</td>\n",
       "      <td>49745.73</td>\n",
       "    </tr>\n",
       "    <tr>\n",
       "      <td>is_ultra</td>\n",
       "      <td>3214.0</td>\n",
       "      <td>0.306472</td>\n",
       "      <td>0.461100</td>\n",
       "      <td>0.0</td>\n",
       "      <td>0.0000</td>\n",
       "      <td>0.000</td>\n",
       "      <td>1.0000</td>\n",
       "      <td>1.00</td>\n",
       "    </tr>\n",
       "  </tbody>\n",
       "</table>\n",
       "</div>"
      ],
      "text/plain": [
       "           count          mean          std  min         25%        50%  \\\n",
       "calls     3214.0     63.038892    33.236368  0.0     40.0000     62.000   \n",
       "minutes   3214.0    438.208787   234.569872  0.0    274.5750    430.600   \n",
       "messages  3214.0     38.281269    36.148326  0.0      9.0000     30.000   \n",
       "mb_used   3214.0  17207.673836  7570.968246  0.0  12491.9025  16943.235   \n",
       "is_ultra  3214.0      0.306472     0.461100  0.0      0.0000      0.000   \n",
       "\n",
       "                 75%       max  \n",
       "calls        82.0000    244.00  \n",
       "minutes     571.9275   1632.06  \n",
       "messages     57.0000    224.00  \n",
       "mb_used   21424.7000  49745.73  \n",
       "is_ultra      1.0000      1.00  "
      ]
     },
     "execution_count": 7,
     "metadata": {},
     "output_type": "execute_result"
    }
   ],
   "source": [
    "df.describe().T"
   ]
  },
  {
   "cell_type": "markdown",
   "metadata": {},
   "source": [
    "### Вывод"
   ]
  },
  {
   "cell_type": "markdown",
   "metadata": {},
   "source": [
    "Предварительно можно утверждать, что имеющихся данных достаточно для построение моделей."
   ]
  },
  {
   "cell_type": "markdown",
   "metadata": {},
   "source": [
    "## Разделение данных на выборки"
   ]
  },
  {
   "cell_type": "code",
   "execution_count": 8,
   "metadata": {},
   "outputs": [],
   "source": [
    "df_train, df_test = train_test_split(df, test_size=0.4, random_state=RS)"
   ]
  },
  {
   "cell_type": "code",
   "execution_count": 9,
   "metadata": {},
   "outputs": [],
   "source": [
    "df_test, df_valid = train_test_split(df_test, test_size = 0.5, random_state=RS)"
   ]
  },
  {
   "cell_type": "code",
   "execution_count": 10,
   "metadata": {},
   "outputs": [
    {
     "data": {
      "text/plain": [
       "(1928, 5)"
      ]
     },
     "execution_count": 10,
     "metadata": {},
     "output_type": "execute_result"
    }
   ],
   "source": [
    "df_train.shape"
   ]
  },
  {
   "cell_type": "code",
   "execution_count": 11,
   "metadata": {},
   "outputs": [
    {
     "data": {
      "text/plain": [
       "(643, 5)"
      ]
     },
     "execution_count": 11,
     "metadata": {},
     "output_type": "execute_result"
    }
   ],
   "source": [
    "df_test.shape"
   ]
  },
  {
   "cell_type": "code",
   "execution_count": 12,
   "metadata": {},
   "outputs": [
    {
     "data": {
      "text/plain": [
       "(643, 5)"
      ]
     },
     "execution_count": 12,
     "metadata": {},
     "output_type": "execute_result"
    }
   ],
   "source": [
    "df_valid.shape"
   ]
  },
  {
   "cell_type": "code",
   "execution_count": 13,
   "metadata": {},
   "outputs": [],
   "source": [
    "train_features = df_train.drop(['is_ultra'], axis=1)\n",
    "train_target = df_train['is_ultra']\n",
    "\n",
    "test_features = df_test.drop(['is_ultra'], axis=1)\n",
    "test_target = df_test['is_ultra']\n",
    "\n",
    "valid_features = df_valid.drop(['is_ultra'], axis=1)\n",
    "valid_target = df_valid['is_ultra']"
   ]
  },
  {
   "cell_type": "markdown",
   "metadata": {},
   "source": [
    "### Вывод"
   ]
  },
  {
   "cell_type": "markdown",
   "metadata": {},
   "source": [
    "Были разделены исходные данные на обучающую, тестовую и валидационную выборки в соотношении 3:1:1."
   ]
  },
  {
   "cell_type": "markdown",
   "metadata": {},
   "source": [
    "## Исследование моделей"
   ]
  },
  {
   "cell_type": "markdown",
   "metadata": {},
   "source": [
    "Построим функции для каждой модели, возвращающую сообщение о значениях гиперпараметров, при которых достигается наиболее оптимальное значение **accuracy**:"
   ]
  },
  {
   "cell_type": "code",
   "execution_count": 14,
   "metadata": {},
   "outputs": [],
   "source": [
    "def DTC_model_analysis():\n",
    "    best_depth = 0\n",
    "    best_acc = 0\n",
    "    \n",
    "    for depth in range(1, 25):\n",
    "        model = DecisionTreeClassifier(max_depth=depth, random_state=RS)\n",
    "        model.fit(train_features, train_target)\n",
    "        predictions = model.predict(valid_features)\n",
    "        accuracy = accuracy_score(valid_target, predictions)\n",
    "            \n",
    "        if accuracy > best_acc:\n",
    "            best_acc = accuracy\n",
    "            best_depth = depth\n",
    "    \n",
    "    return f'Для данного типа модели наилучшее значение accuracy равное {best_acc:.2f} достигается при глубине {best_depth}'"
   ]
  },
  {
   "cell_type": "code",
   "execution_count": 15,
   "metadata": {},
   "outputs": [],
   "source": [
    "def RFC_model_analysis():\n",
    "    best_depth = 0\n",
    "    best_acc = 0\n",
    "    best_est = 0\n",
    "    \n",
    "    for depth in range(1, 25):\n",
    "        for est in range(1, 25):\n",
    "            model = RandomForestClassifier(max_depth=depth, n_estimators=est, random_state=RS)\n",
    "            model.fit(train_features, train_target)\n",
    "            predictions = model.predict(valid_features)\n",
    "            accuracy = accuracy_score(valid_target, predictions)\n",
    "                \n",
    "            if accuracy > best_acc:\n",
    "                best_acc = accuracy\n",
    "                best_depth = depth\n",
    "                best_est = est\n",
    "    \n",
    "    return f'Для данного типа модели наилучшее значение accuracy равное {best_acc:.2f} достигается при глубине {best_depth} и количестве деревьев {best_est}'"
   ]
  },
  {
   "cell_type": "code",
   "execution_count": 16,
   "metadata": {},
   "outputs": [],
   "source": [
    "def LR_model_analysis():\n",
    "    model = LogisticRegression(random_state=RS)\n",
    "    model.fit(train_features, train_target)\n",
    "    predictions = model.predict(valid_features)\n",
    "    accuracy = model.score(valid_features, valid_target)\n",
    "        \n",
    "    return f'Для данного типа модели значение accuracy равно {accuracy:.2f}' "
   ]
  },
  {
   "cell_type": "markdown",
   "metadata": {},
   "source": [
    "### Исследование модели *DecisionTreeClassifier*"
   ]
  },
  {
   "cell_type": "code",
   "execution_count": 17,
   "metadata": {},
   "outputs": [
    {
     "data": {
      "text/plain": [
       "'Для данного типа модели наилучшее значение accuracy равное 0.78 достигается при глубине 10'"
      ]
     },
     "execution_count": 17,
     "metadata": {},
     "output_type": "execute_result"
    }
   ],
   "source": [
    "DTC_model_analysis()"
   ]
  },
  {
   "cell_type": "markdown",
   "metadata": {},
   "source": [
    "### Исследование модели *RandomForestClassifier*"
   ]
  },
  {
   "cell_type": "code",
   "execution_count": 18,
   "metadata": {},
   "outputs": [
    {
     "data": {
      "text/plain": [
       "'Для данного типа модели наилучшее значение accuracy равное 0.80 достигается при глубине 11 и количестве деревьев 21'"
      ]
     },
     "execution_count": 18,
     "metadata": {},
     "output_type": "execute_result"
    }
   ],
   "source": [
    "RFC_model_analysis()"
   ]
  },
  {
   "cell_type": "markdown",
   "metadata": {},
   "source": [
    "### Исследование модели *LogisticRegression*"
   ]
  },
  {
   "cell_type": "code",
   "execution_count": 19,
   "metadata": {},
   "outputs": [
    {
     "data": {
      "text/plain": [
       "'Для данного типа модели значение accuracy равно 0.74'"
      ]
     },
     "execution_count": 19,
     "metadata": {},
     "output_type": "execute_result"
    }
   ],
   "source": [
    "LR_model_analysis()"
   ]
  },
  {
   "cell_type": "markdown",
   "metadata": {},
   "source": [
    "### Вывод"
   ]
  },
  {
   "cell_type": "markdown",
   "metadata": {},
   "source": [
    "Был проведен анализ следующих моделей:\n",
    "* Decision Tree Classifier\n",
    "* Random Forest Classifier\n",
    "* Logistic Regression\n",
    "\n",
    "Установлено, что наиболее оптимальное значение **accuracy = 0.8** достигается при использовании модели `Random Forest Classifier` при следующих гиперпараметрах: *max_depth = 11* и *n_estimators = 21*.\n",
    "\n",
    "Для модели `Decision Tree Classifier` оптимальное значение **accuracy = 0.78** достигается при *max_depth = 10*.\n",
    "\n",
    "Наименьшее значение **accuracy = 0.74** Было получено при использовании модели `Logistic Regression`."
   ]
  },
  {
   "cell_type": "markdown",
   "metadata": {},
   "source": [
    "## Тестирование моделей"
   ]
  },
  {
   "cell_type": "markdown",
   "metadata": {},
   "source": [
    "### Проверка модели *DecisionTreeClassifier*"
   ]
  },
  {
   "cell_type": "code",
   "execution_count": 20,
   "metadata": {},
   "outputs": [],
   "source": [
    "model = DecisionTreeClassifier(max_depth=10, random_state=RS)\n",
    "model.fit(train_features, train_target)\n",
    "predictions = model.predict(test_features)\n",
    "accuracy = accuracy_score(test_target, predictions)"
   ]
  },
  {
   "cell_type": "code",
   "execution_count": 21,
   "metadata": {},
   "outputs": [
    {
     "name": "stdout",
     "output_type": "stream",
     "text": [
      "0.77\n"
     ]
    }
   ],
   "source": [
    "print(f'{accuracy:.2f}')"
   ]
  },
  {
   "cell_type": "markdown",
   "metadata": {},
   "source": [
    "### Проверка модели *RandomForestClassifier*"
   ]
  },
  {
   "cell_type": "code",
   "execution_count": 22,
   "metadata": {},
   "outputs": [],
   "source": [
    "model = RandomForestClassifier(max_depth=11, n_estimators=21, random_state=RS)\n",
    "model.fit(train_features, train_target)\n",
    "predictions = model.predict(test_features)\n",
    "accuracy = accuracy_score(test_target, predictions)"
   ]
  },
  {
   "cell_type": "code",
   "execution_count": 23,
   "metadata": {},
   "outputs": [
    {
     "name": "stdout",
     "output_type": "stream",
     "text": [
      "0.80\n"
     ]
    }
   ],
   "source": [
    "print(f'{accuracy:.2f}')"
   ]
  },
  {
   "cell_type": "markdown",
   "metadata": {},
   "source": [
    "### Проверка модели *LogisticRegression*"
   ]
  },
  {
   "cell_type": "code",
   "execution_count": 24,
   "metadata": {},
   "outputs": [],
   "source": [
    "model = LogisticRegression(random_state=RS)\n",
    "model.fit(train_features, train_target)\n",
    "predictions = model.predict(test_features)\n",
    "accuracy = model.score(test_features, test_target)"
   ]
  },
  {
   "cell_type": "code",
   "execution_count": 25,
   "metadata": {},
   "outputs": [
    {
     "name": "stdout",
     "output_type": "stream",
     "text": [
      "0.75\n"
     ]
    }
   ],
   "source": [
    "print(f'{accuracy:.2f}')"
   ]
  },
  {
   "cell_type": "markdown",
   "metadata": {},
   "source": [
    "### Вывод"
   ]
  },
  {
   "cell_type": "markdown",
   "metadata": {},
   "source": [
    "Проверка моделей на тестовой выборке показала, что значение **accuracy** совпадает со значениями для валидационной выборки."
   ]
  },
  {
   "cell_type": "markdown",
   "metadata": {},
   "source": [
    "## Проверка модели на адекватность"
   ]
  },
  {
   "cell_type": "code",
   "execution_count": 26,
   "metadata": {},
   "outputs": [
    {
     "data": {
      "text/plain": [
       "0    0.696577\n",
       "1    0.303423\n",
       "Name: is_ultra, dtype: float64"
      ]
     },
     "execution_count": 26,
     "metadata": {},
     "output_type": "execute_result"
    }
   ],
   "source": [
    "train_target.value_counts(normalize=True)"
   ]
  },
  {
   "cell_type": "markdown",
   "metadata": {},
   "source": [
    "Для проверки модели на адекватность создадим константную модель:"
   ]
  },
  {
   "cell_type": "code",
   "execution_count": 27,
   "metadata": {},
   "outputs": [],
   "source": [
    "dummy_model = DummyClassifier(strategy='constant', random_state=RS, constant=0)\n",
    "dummy_model.fit(train_features, train_target)\n",
    "predictions = dummy_model.predict(test_features)\n",
    "accuracy = dummy_model.score(test_features, test_target)"
   ]
  },
  {
   "cell_type": "code",
   "execution_count": 28,
   "metadata": {},
   "outputs": [
    {
     "data": {
      "text/plain": [
       "0.6951788491446346"
      ]
     },
     "execution_count": 28,
     "metadata": {},
     "output_type": "execute_result"
    }
   ],
   "source": [
    "accuracy"
   ]
  },
  {
   "cell_type": "markdown",
   "metadata": {},
   "source": [
    "Значение метрики выбранной модели больше чем у константной - следовательно, модель прошла проверку на адекватность."
   ]
  },
  {
   "cell_type": "markdown",
   "metadata": {},
   "source": [
    "## Общий вывод"
   ]
  },
  {
   "cell_type": "markdown",
   "metadata": {},
   "source": [
    "Таким образом был проведен анализ моделей классификации. Наилучший результат показала модель `RandomForestClassifier` при гиперпараметрах *max_depth = 11* и *n_estimators = 21*. Ее **accuracy = 0.8**."
   ]
  }
 ],
 "metadata": {
  "ExecuteTimeLog": [
   {
    "duration": 1188,
    "start_time": "2021-12-26T16:40:11.200Z"
   },
   {
    "duration": 20,
    "start_time": "2021-12-26T16:40:53.437Z"
   },
   {
    "duration": 12,
    "start_time": "2021-12-26T16:40:59.333Z"
   },
   {
    "duration": 4,
    "start_time": "2021-12-26T16:41:15.013Z"
   },
   {
    "duration": 9,
    "start_time": "2021-12-26T16:41:24.772Z"
   },
   {
    "duration": 5,
    "start_time": "2021-12-26T16:41:46.815Z"
   },
   {
    "duration": 10,
    "start_time": "2021-12-26T16:41:50.861Z"
   },
   {
    "duration": 10,
    "start_time": "2021-12-26T16:41:54.533Z"
   },
   {
    "duration": 7,
    "start_time": "2021-12-26T16:41:59.470Z"
   },
   {
    "duration": 32,
    "start_time": "2021-12-26T16:42:04.888Z"
   },
   {
    "duration": 24,
    "start_time": "2021-12-26T16:42:08.968Z"
   },
   {
    "duration": 5,
    "start_time": "2021-12-26T16:43:23.074Z"
   },
   {
    "duration": 4,
    "start_time": "2021-12-26T16:44:02.535Z"
   },
   {
    "duration": 245,
    "start_time": "2021-12-26T16:52:14.471Z"
   },
   {
    "duration": 6,
    "start_time": "2021-12-26T16:52:42.001Z"
   },
   {
    "duration": 5,
    "start_time": "2021-12-26T16:53:09.192Z"
   },
   {
    "duration": 4,
    "start_time": "2021-12-26T16:53:20.311Z"
   },
   {
    "duration": 135,
    "start_time": "2021-12-26T16:53:28.727Z"
   },
   {
    "duration": 129,
    "start_time": "2021-12-26T16:53:47.785Z"
   },
   {
    "duration": 6,
    "start_time": "2021-12-26T16:54:00.399Z"
   },
   {
    "duration": 4,
    "start_time": "2021-12-26T16:54:00.943Z"
   },
   {
    "duration": 4,
    "start_time": "2021-12-26T16:54:01.167Z"
   },
   {
    "duration": 1148,
    "start_time": "2021-12-26T16:54:05.698Z"
   },
   {
    "duration": 19,
    "start_time": "2021-12-26T16:54:06.848Z"
   },
   {
    "duration": 13,
    "start_time": "2021-12-26T16:54:06.869Z"
   },
   {
    "duration": 11,
    "start_time": "2021-12-26T16:54:06.884Z"
   },
   {
    "duration": 11,
    "start_time": "2021-12-26T16:54:06.896Z"
   },
   {
    "duration": 7,
    "start_time": "2021-12-26T16:54:06.908Z"
   },
   {
    "duration": 26,
    "start_time": "2021-12-26T16:54:06.917Z"
   },
   {
    "duration": 4,
    "start_time": "2021-12-26T16:54:06.945Z"
   },
   {
    "duration": 41,
    "start_time": "2021-12-26T16:54:06.952Z"
   },
   {
    "duration": 4,
    "start_time": "2021-12-26T16:54:06.995Z"
   },
   {
    "duration": 6,
    "start_time": "2021-12-26T16:54:07.000Z"
   },
   {
    "duration": 13,
    "start_time": "2021-12-26T16:54:12.059Z"
   },
   {
    "duration": 6,
    "start_time": "2021-12-26T16:54:24.426Z"
   },
   {
    "duration": 4,
    "start_time": "2021-12-26T16:54:24.930Z"
   },
   {
    "duration": 12,
    "start_time": "2021-12-26T16:54:25.444Z"
   },
   {
    "duration": 1115,
    "start_time": "2021-12-26T16:54:37.694Z"
   },
   {
    "duration": 20,
    "start_time": "2021-12-26T16:54:38.811Z"
   },
   {
    "duration": 11,
    "start_time": "2021-12-26T16:54:38.833Z"
   },
   {
    "duration": 9,
    "start_time": "2021-12-26T16:54:38.846Z"
   },
   {
    "duration": 9,
    "start_time": "2021-12-26T16:54:38.857Z"
   },
   {
    "duration": 7,
    "start_time": "2021-12-26T16:54:38.867Z"
   },
   {
    "duration": 24,
    "start_time": "2021-12-26T16:54:38.892Z"
   },
   {
    "duration": 4,
    "start_time": "2021-12-26T16:54:38.918Z"
   },
   {
    "duration": 5,
    "start_time": "2021-12-26T16:54:38.924Z"
   },
   {
    "duration": 6,
    "start_time": "2021-12-26T16:54:38.931Z"
   },
   {
    "duration": 4,
    "start_time": "2021-12-26T16:54:38.939Z"
   },
   {
    "duration": 4,
    "start_time": "2021-12-26T16:54:47.813Z"
   },
   {
    "duration": 3,
    "start_time": "2021-12-26T16:58:27.671Z"
   },
   {
    "duration": 4,
    "start_time": "2021-12-26T16:58:52.942Z"
   },
   {
    "duration": 4,
    "start_time": "2021-12-26T16:59:06.167Z"
   },
   {
    "duration": 6,
    "start_time": "2021-12-26T16:59:28.127Z"
   },
   {
    "duration": 6,
    "start_time": "2021-12-26T17:05:05.659Z"
   },
   {
    "duration": 222,
    "start_time": "2021-12-26T17:05:12.007Z"
   },
   {
    "duration": 130,
    "start_time": "2021-12-26T17:05:22.806Z"
   },
   {
    "duration": 148,
    "start_time": "2021-12-26T17:07:44.152Z"
   },
   {
    "duration": 1176,
    "start_time": "2021-12-26T17:08:07.628Z"
   },
   {
    "duration": 20,
    "start_time": "2021-12-26T17:08:08.806Z"
   },
   {
    "duration": 12,
    "start_time": "2021-12-26T17:08:08.830Z"
   },
   {
    "duration": 8,
    "start_time": "2021-12-26T17:08:08.844Z"
   },
   {
    "duration": 12,
    "start_time": "2021-12-26T17:08:08.854Z"
   },
   {
    "duration": 5,
    "start_time": "2021-12-26T17:08:08.868Z"
   },
   {
    "duration": 39,
    "start_time": "2021-12-26T17:08:08.876Z"
   },
   {
    "duration": 5,
    "start_time": "2021-12-26T17:08:08.917Z"
   },
   {
    "duration": 5,
    "start_time": "2021-12-26T17:08:08.924Z"
   },
   {
    "duration": 4,
    "start_time": "2021-12-26T17:08:08.930Z"
   },
   {
    "duration": 5,
    "start_time": "2021-12-26T17:08:08.935Z"
   },
   {
    "duration": 7,
    "start_time": "2021-12-26T17:08:08.941Z"
   },
   {
    "duration": 43,
    "start_time": "2021-12-26T17:08:08.950Z"
   },
   {
    "duration": 280,
    "start_time": "2021-12-26T17:08:08.994Z"
   },
   {
    "duration": 153,
    "start_time": "2021-12-26T17:08:25.080Z"
   },
   {
    "duration": 150,
    "start_time": "2021-12-26T17:08:52.665Z"
   },
   {
    "duration": 145,
    "start_time": "2021-12-26T17:08:57.895Z"
   },
   {
    "duration": 3,
    "start_time": "2021-12-26T17:09:04.488Z"
   },
   {
    "duration": 4,
    "start_time": "2021-12-26T17:09:10.352Z"
   },
   {
    "duration": 1143,
    "start_time": "2021-12-26T17:09:18.960Z"
   },
   {
    "duration": 20,
    "start_time": "2021-12-26T17:09:20.105Z"
   },
   {
    "duration": 12,
    "start_time": "2021-12-26T17:09:20.127Z"
   },
   {
    "duration": 15,
    "start_time": "2021-12-26T17:09:20.141Z"
   },
   {
    "duration": 12,
    "start_time": "2021-12-26T17:09:20.158Z"
   },
   {
    "duration": 7,
    "start_time": "2021-12-26T17:09:20.171Z"
   },
   {
    "duration": 37,
    "start_time": "2021-12-26T17:09:20.180Z"
   },
   {
    "duration": 4,
    "start_time": "2021-12-26T17:09:20.220Z"
   },
   {
    "duration": 11,
    "start_time": "2021-12-26T17:09:20.226Z"
   },
   {
    "duration": 11,
    "start_time": "2021-12-26T17:09:20.239Z"
   },
   {
    "duration": 7,
    "start_time": "2021-12-26T17:09:20.251Z"
   },
   {
    "duration": 6,
    "start_time": "2021-12-26T17:09:20.259Z"
   },
   {
    "duration": 25,
    "start_time": "2021-12-26T17:09:20.266Z"
   },
   {
    "duration": 136,
    "start_time": "2021-12-26T17:09:20.293Z"
   },
   {
    "duration": 3,
    "start_time": "2021-12-26T17:09:20.431Z"
   },
   {
    "duration": 5,
    "start_time": "2021-12-26T17:09:20.436Z"
   },
   {
    "duration": 47,
    "start_time": "2021-12-26T17:09:41.903Z"
   },
   {
    "duration": 4,
    "start_time": "2021-12-26T17:09:42.223Z"
   },
   {
    "duration": 3,
    "start_time": "2021-12-26T17:09:42.792Z"
   },
   {
    "duration": 20,
    "start_time": "2021-12-26T17:09:46.935Z"
   },
   {
    "duration": 3,
    "start_time": "2021-12-26T17:09:47.223Z"
   },
   {
    "duration": 4,
    "start_time": "2021-12-26T17:09:47.575Z"
   },
   {
    "duration": 12,
    "start_time": "2021-12-26T17:09:51.464Z"
   },
   {
    "duration": 4,
    "start_time": "2021-12-26T17:09:51.655Z"
   },
   {
    "duration": 4,
    "start_time": "2021-12-26T17:09:52.039Z"
   },
   {
    "duration": 4,
    "start_time": "2021-12-26T17:09:54.391Z"
   },
   {
    "duration": 4,
    "start_time": "2021-12-26T17:09:54.712Z"
   },
   {
    "duration": 4,
    "start_time": "2021-12-26T17:09:54.967Z"
   },
   {
    "duration": 8,
    "start_time": "2021-12-26T17:09:57.103Z"
   },
   {
    "duration": 4,
    "start_time": "2021-12-26T17:09:57.391Z"
   },
   {
    "duration": 3,
    "start_time": "2021-12-26T17:09:57.744Z"
   },
   {
    "duration": 11,
    "start_time": "2021-12-26T17:10:00.192Z"
   },
   {
    "duration": 3,
    "start_time": "2021-12-26T17:10:00.448Z"
   },
   {
    "duration": 4,
    "start_time": "2021-12-26T17:10:00.639Z"
   },
   {
    "duration": 890,
    "start_time": "2021-12-26T17:10:02.967Z"
   },
   {
    "duration": 4,
    "start_time": "2021-12-26T17:10:03.860Z"
   },
   {
    "duration": 5,
    "start_time": "2021-12-26T17:10:03.865Z"
   },
   {
    "duration": 183,
    "start_time": "2021-12-26T17:10:07.679Z"
   },
   {
    "duration": 4,
    "start_time": "2021-12-26T17:10:07.966Z"
   },
   {
    "duration": 4,
    "start_time": "2021-12-26T17:10:08.318Z"
   },
   {
    "duration": 81,
    "start_time": "2021-12-26T17:10:13.895Z"
   },
   {
    "duration": 4,
    "start_time": "2021-12-26T17:10:14.088Z"
   },
   {
    "duration": 3,
    "start_time": "2021-12-26T17:10:14.439Z"
   },
   {
    "duration": 70,
    "start_time": "2021-12-26T17:10:53.287Z"
   },
   {
    "duration": 5,
    "start_time": "2021-12-26T17:10:58.734Z"
   },
   {
    "duration": 5,
    "start_time": "2021-12-26T17:11:03.424Z"
   },
   {
    "duration": 73,
    "start_time": "2021-12-26T17:11:05.143Z"
   },
   {
    "duration": 5,
    "start_time": "2021-12-26T17:11:05.622Z"
   },
   {
    "duration": 4,
    "start_time": "2021-12-26T17:11:05.999Z"
   },
   {
    "duration": 5,
    "start_time": "2021-12-26T17:11:06.255Z"
   },
   {
    "duration": 5,
    "start_time": "2021-12-26T17:11:06.640Z"
   },
   {
    "duration": 4,
    "start_time": "2021-12-26T17:11:14.140Z"
   },
   {
    "duration": 4,
    "start_time": "2021-12-26T17:11:15.109Z"
   },
   {
    "duration": 72,
    "start_time": "2021-12-26T17:11:26.270Z"
   },
   {
    "duration": 4,
    "start_time": "2021-12-26T17:11:26.494Z"
   },
   {
    "duration": 4,
    "start_time": "2021-12-26T17:11:26.694Z"
   },
   {
    "duration": 177,
    "start_time": "2021-12-26T17:11:30.887Z"
   },
   {
    "duration": 5,
    "start_time": "2021-12-26T17:11:31.111Z"
   },
   {
    "duration": 4,
    "start_time": "2021-12-26T17:11:31.624Z"
   },
   {
    "duration": 4,
    "start_time": "2021-12-26T17:11:32.295Z"
   },
   {
    "duration": 5,
    "start_time": "2021-12-26T17:11:32.542Z"
   },
   {
    "duration": 166,
    "start_time": "2021-12-26T17:13:14.454Z"
   },
   {
    "duration": 1023,
    "start_time": "2021-12-26T17:13:19.741Z"
   },
   {
    "duration": 1022,
    "start_time": "2021-12-26T17:13:26.974Z"
   },
   {
    "duration": 51,
    "start_time": "2021-12-26T17:13:30.926Z"
   },
   {
    "duration": 159,
    "start_time": "2021-12-26T17:13:43.126Z"
   },
   {
    "duration": 4,
    "start_time": "2021-12-26T17:14:04.350Z"
   },
   {
    "duration": 1324,
    "start_time": "2021-12-26T17:14:51.189Z"
   },
   {
    "duration": 27,
    "start_time": "2021-12-26T17:14:52.516Z"
   },
   {
    "duration": 17,
    "start_time": "2021-12-26T17:14:52.546Z"
   },
   {
    "duration": 34,
    "start_time": "2021-12-26T17:14:52.565Z"
   },
   {
    "duration": 28,
    "start_time": "2021-12-26T17:14:52.601Z"
   },
   {
    "duration": 10,
    "start_time": "2021-12-26T17:14:52.632Z"
   },
   {
    "duration": 48,
    "start_time": "2021-12-26T17:14:52.645Z"
   },
   {
    "duration": 6,
    "start_time": "2021-12-26T17:14:52.695Z"
   },
   {
    "duration": 7,
    "start_time": "2021-12-26T17:14:52.703Z"
   },
   {
    "duration": 11,
    "start_time": "2021-12-26T17:14:52.711Z"
   },
   {
    "duration": 6,
    "start_time": "2021-12-26T17:14:52.724Z"
   },
   {
    "duration": 8,
    "start_time": "2021-12-26T17:14:52.732Z"
   },
   {
    "duration": 8,
    "start_time": "2021-12-26T17:14:52.742Z"
   },
   {
    "duration": 82,
    "start_time": "2021-12-26T17:14:52.751Z"
   },
   {
    "duration": 5,
    "start_time": "2021-12-26T17:14:52.835Z"
   },
   {
    "duration": 179,
    "start_time": "2021-12-26T17:14:52.842Z"
   },
   {
    "duration": 856,
    "start_time": "2021-12-26T17:14:57.425Z"
   },
   {
    "duration": 5,
    "start_time": "2021-12-26T17:14:58.825Z"
   },
   {
    "duration": 4,
    "start_time": "2021-12-26T17:15:03.965Z"
   },
   {
    "duration": 4,
    "start_time": "2021-12-26T17:15:09.350Z"
   },
   {
    "duration": 174,
    "start_time": "2021-12-26T17:15:15.630Z"
   },
   {
    "duration": 3,
    "start_time": "2021-12-26T17:15:15.877Z"
   },
   {
    "duration": 4,
    "start_time": "2021-12-26T17:15:16.261Z"
   },
   {
    "duration": 52,
    "start_time": "2021-12-26T17:18:12.451Z"
   },
   {
    "duration": 225,
    "start_time": "2021-12-26T17:18:18.508Z"
   },
   {
    "duration": 11483,
    "start_time": "2021-12-26T17:18:26.174Z"
   },
   {
    "duration": 22287,
    "start_time": "2021-12-26T17:18:44.816Z"
   },
   {
    "duration": 3,
    "start_time": "2021-12-26T17:19:18.781Z"
   },
   {
    "duration": 4,
    "start_time": "2021-12-26T17:19:24.933Z"
   },
   {
    "duration": 4,
    "start_time": "2021-12-26T17:19:29.005Z"
   },
   {
    "duration": 2,
    "start_time": "2021-12-26T17:21:53.805Z"
   },
   {
    "duration": 10,
    "start_time": "2021-12-26T17:22:40.460Z"
   },
   {
    "duration": 14,
    "start_time": "2021-12-26T17:23:20.173Z"
   },
   {
    "duration": 148,
    "start_time": "2021-12-26T17:23:37.221Z"
   },
   {
    "duration": 6,
    "start_time": "2021-12-26T17:23:42.004Z"
   },
   {
    "duration": 6,
    "start_time": "2021-12-26T17:24:23.172Z"
   },
   {
    "duration": 4,
    "start_time": "2021-12-26T17:24:55.588Z"
   },
   {
    "duration": 140,
    "start_time": "2021-12-26T17:25:13.436Z"
   },
   {
    "duration": 274,
    "start_time": "2021-12-26T17:25:34.236Z"
   },
   {
    "duration": 1113,
    "start_time": "2021-12-26T17:26:44.327Z"
   },
   {
    "duration": 19,
    "start_time": "2021-12-26T17:26:46.192Z"
   },
   {
    "duration": 12,
    "start_time": "2021-12-26T17:26:47.256Z"
   },
   {
    "duration": 9,
    "start_time": "2021-12-26T17:26:49.816Z"
   },
   {
    "duration": 11,
    "start_time": "2021-12-26T17:26:50.529Z"
   },
   {
    "duration": 7,
    "start_time": "2021-12-26T17:26:50.984Z"
   },
   {
    "duration": 26,
    "start_time": "2021-12-26T17:26:51.647Z"
   },
   {
    "duration": 48,
    "start_time": "2021-12-26T17:38:00.972Z"
   },
   {
    "duration": 6,
    "start_time": "2021-12-26T17:38:10.364Z"
   },
   {
    "duration": 7,
    "start_time": "2021-12-26T17:42:16.740Z"
   },
   {
    "duration": 383,
    "start_time": "2021-12-26T17:42:40.803Z"
   },
   {
    "duration": 6,
    "start_time": "2021-12-26T17:42:47.705Z"
   },
   {
    "duration": 6,
    "start_time": "2021-12-26T17:42:47.906Z"
   },
   {
    "duration": 5,
    "start_time": "2021-12-26T17:42:48.066Z"
   },
   {
    "duration": 4,
    "start_time": "2021-12-26T17:42:48.209Z"
   },
   {
    "duration": 4,
    "start_time": "2021-12-26T17:42:48.361Z"
   },
   {
    "duration": 6,
    "start_time": "2021-12-26T17:42:49.154Z"
   },
   {
    "duration": 14,
    "start_time": "2021-12-26T17:42:51.989Z"
   },
   {
    "duration": 192,
    "start_time": "2021-12-26T17:42:52.307Z"
   },
   {
    "duration": 51,
    "start_time": "2021-12-26T17:43:11.613Z"
   },
   {
    "duration": 179,
    "start_time": "2021-12-26T17:43:11.900Z"
   },
   {
    "duration": 47,
    "start_time": "2021-12-26T17:43:15.500Z"
   },
   {
    "duration": 8,
    "start_time": "2021-12-26T17:43:19.811Z"
   },
   {
    "duration": 207,
    "start_time": "2021-12-26T17:43:20.155Z"
   },
   {
    "duration": 6,
    "start_time": "2021-12-26T17:44:23.636Z"
   },
   {
    "duration": 182,
    "start_time": "2021-12-26T17:44:24.075Z"
   },
   {
    "duration": 6,
    "start_time": "2021-12-26T17:44:28.480Z"
   },
   {
    "duration": 203,
    "start_time": "2021-12-26T17:44:28.796Z"
   },
   {
    "duration": 7,
    "start_time": "2021-12-26T17:45:05.445Z"
   },
   {
    "duration": 187,
    "start_time": "2021-12-26T17:45:05.732Z"
   },
   {
    "duration": 23651,
    "start_time": "2021-12-26T17:45:19.652Z"
   },
   {
    "duration": 8,
    "start_time": "2021-12-26T17:46:08.502Z"
   },
   {
    "duration": 23748,
    "start_time": "2021-12-26T17:46:10.188Z"
   },
   {
    "duration": 4,
    "start_time": "2021-12-26T17:47:39.742Z"
   },
   {
    "duration": 23702,
    "start_time": "2021-12-26T17:47:45.787Z"
   },
   {
    "duration": 7,
    "start_time": "2021-12-26T17:48:54.437Z"
   },
   {
    "duration": 23788,
    "start_time": "2021-12-26T17:48:55.164Z"
   },
   {
    "duration": 7,
    "start_time": "2021-12-26T17:49:29.709Z"
   },
   {
    "duration": 23253,
    "start_time": "2021-12-26T17:49:30.532Z"
   },
   {
    "duration": 7,
    "start_time": "2021-12-26T17:52:25.701Z"
   },
   {
    "duration": 172,
    "start_time": "2021-12-26T17:53:01.485Z"
   },
   {
    "duration": 181,
    "start_time": "2021-12-26T17:55:21.630Z"
   },
   {
    "duration": 23169,
    "start_time": "2021-12-26T17:55:34.950Z"
   },
   {
    "duration": 273,
    "start_time": "2021-12-26T17:56:28.221Z"
   },
   {
    "duration": 6,
    "start_time": "2021-12-26T17:56:47.942Z"
   },
   {
    "duration": 181,
    "start_time": "2021-12-26T17:56:50.022Z"
   },
   {
    "duration": 977,
    "start_time": "2021-12-26T17:56:52.429Z"
   },
   {
    "duration": 8,
    "start_time": "2021-12-26T17:57:06.294Z"
   },
   {
    "duration": 276,
    "start_time": "2021-12-26T17:57:08.589Z"
   },
   {
    "duration": 6,
    "start_time": "2021-12-26T17:57:16.837Z"
   },
   {
    "duration": 14,
    "start_time": "2021-12-26T17:57:18.621Z"
   },
   {
    "duration": 5,
    "start_time": "2021-12-26T18:12:58.639Z"
   },
   {
    "duration": 13,
    "start_time": "2021-12-26T18:32:15.722Z"
   },
   {
    "duration": 4,
    "start_time": "2021-12-26T18:32:21.393Z"
   },
   {
    "duration": 70,
    "start_time": "2021-12-26T18:33:05.970Z"
   },
   {
    "duration": 8,
    "start_time": "2021-12-26T18:33:10.306Z"
   },
   {
    "duration": 14,
    "start_time": "2021-12-26T18:33:43.186Z"
   },
   {
    "duration": 4,
    "start_time": "2021-12-26T18:33:48.034Z"
   },
   {
    "duration": 135,
    "start_time": "2021-12-26T18:34:48.865Z"
   },
   {
    "duration": 133,
    "start_time": "2021-12-26T18:34:52.113Z"
   },
   {
    "duration": 3,
    "start_time": "2021-12-26T18:35:04.826Z"
   },
   {
    "duration": 4,
    "start_time": "2021-12-26T18:35:45.834Z"
   },
   {
    "duration": 1222,
    "start_time": "2021-12-26T18:35:59.701Z"
   },
   {
    "duration": 22,
    "start_time": "2021-12-26T18:36:00.926Z"
   },
   {
    "duration": 13,
    "start_time": "2021-12-26T18:36:00.951Z"
   },
   {
    "duration": 23,
    "start_time": "2021-12-26T18:36:00.966Z"
   },
   {
    "duration": 12,
    "start_time": "2021-12-26T18:36:00.991Z"
   },
   {
    "duration": 20,
    "start_time": "2021-12-26T18:36:01.005Z"
   },
   {
    "duration": 30,
    "start_time": "2021-12-26T18:36:01.027Z"
   },
   {
    "duration": 4,
    "start_time": "2021-12-26T18:36:01.060Z"
   },
   {
    "duration": 25,
    "start_time": "2021-12-26T18:36:01.066Z"
   },
   {
    "duration": 10,
    "start_time": "2021-12-26T18:36:01.093Z"
   },
   {
    "duration": 7,
    "start_time": "2021-12-26T18:36:01.105Z"
   },
   {
    "duration": 8,
    "start_time": "2021-12-26T18:36:01.114Z"
   },
   {
    "duration": 7,
    "start_time": "2021-12-26T18:36:01.124Z"
   },
   {
    "duration": 9,
    "start_time": "2021-12-26T18:36:01.133Z"
   },
   {
    "duration": 197,
    "start_time": "2021-12-26T18:36:01.144Z"
   },
   {
    "duration": 22356,
    "start_time": "2021-12-26T18:36:01.343Z"
   },
   {
    "duration": 14,
    "start_time": "2021-12-26T18:36:23.702Z"
   },
   {
    "duration": 11,
    "start_time": "2021-12-26T18:36:23.719Z"
   },
   {
    "duration": 4,
    "start_time": "2021-12-26T18:36:23.732Z"
   },
   {
    "duration": 99,
    "start_time": "2021-12-26T18:36:23.738Z"
   },
   {
    "duration": 4,
    "start_time": "2021-12-26T18:36:23.839Z"
   },
   {
    "duration": 13,
    "start_time": "2021-12-26T18:36:23.845Z"
   },
   {
    "duration": 3,
    "start_time": "2021-12-26T18:36:23.860Z"
   },
   {
    "duration": 1132,
    "start_time": "2021-12-26T18:41:34.820Z"
   },
   {
    "duration": 19,
    "start_time": "2021-12-26T18:41:35.954Z"
   },
   {
    "duration": 10,
    "start_time": "2021-12-26T18:41:35.977Z"
   },
   {
    "duration": 7,
    "start_time": "2021-12-26T18:41:35.991Z"
   },
   {
    "duration": 9,
    "start_time": "2021-12-26T18:41:35.999Z"
   },
   {
    "duration": 10,
    "start_time": "2021-12-26T18:41:36.010Z"
   },
   {
    "duration": 23,
    "start_time": "2021-12-26T18:41:36.022Z"
   },
   {
    "duration": 5,
    "start_time": "2021-12-26T18:41:36.047Z"
   },
   {
    "duration": 41,
    "start_time": "2021-12-26T18:41:36.053Z"
   },
   {
    "duration": 5,
    "start_time": "2021-12-26T18:41:36.097Z"
   },
   {
    "duration": 5,
    "start_time": "2021-12-26T18:41:36.104Z"
   },
   {
    "duration": 5,
    "start_time": "2021-12-26T18:41:36.111Z"
   },
   {
    "duration": 10,
    "start_time": "2021-12-26T18:41:36.117Z"
   },
   {
    "duration": 11,
    "start_time": "2021-12-26T18:41:36.129Z"
   },
   {
    "duration": 213,
    "start_time": "2021-12-26T18:41:36.142Z"
   },
   {
    "duration": 22073,
    "start_time": "2021-12-26T18:41:36.357Z"
   },
   {
    "duration": 12,
    "start_time": "2021-12-26T18:41:58.432Z"
   },
   {
    "duration": 10,
    "start_time": "2021-12-26T18:41:58.446Z"
   },
   {
    "duration": 2,
    "start_time": "2021-12-26T18:41:58.458Z"
   },
   {
    "duration": 108,
    "start_time": "2021-12-26T18:41:58.462Z"
   },
   {
    "duration": 2,
    "start_time": "2021-12-26T18:41:58.572Z"
   },
   {
    "duration": 23,
    "start_time": "2021-12-26T18:41:58.577Z"
   },
   {
    "duration": 3,
    "start_time": "2021-12-26T18:41:58.602Z"
   },
   {
    "duration": 1068,
    "start_time": "2021-12-26T18:44:05.588Z"
   },
   {
    "duration": 21,
    "start_time": "2021-12-26T18:44:06.659Z"
   },
   {
    "duration": 17,
    "start_time": "2021-12-26T18:44:06.683Z"
   },
   {
    "duration": 9,
    "start_time": "2021-12-26T18:44:06.702Z"
   },
   {
    "duration": 11,
    "start_time": "2021-12-26T18:44:06.713Z"
   },
   {
    "duration": 6,
    "start_time": "2021-12-26T18:44:06.726Z"
   },
   {
    "duration": 58,
    "start_time": "2021-12-26T18:44:06.734Z"
   },
   {
    "duration": 5,
    "start_time": "2021-12-26T18:44:06.794Z"
   },
   {
    "duration": 6,
    "start_time": "2021-12-26T18:44:06.802Z"
   },
   {
    "duration": 5,
    "start_time": "2021-12-26T18:44:06.810Z"
   },
   {
    "duration": 5,
    "start_time": "2021-12-26T18:44:06.816Z"
   },
   {
    "duration": 4,
    "start_time": "2021-12-26T18:44:06.823Z"
   },
   {
    "duration": 8,
    "start_time": "2021-12-26T18:44:06.829Z"
   },
   {
    "duration": 7,
    "start_time": "2021-12-26T18:44:06.839Z"
   },
   {
    "duration": 209,
    "start_time": "2021-12-26T18:44:06.847Z"
   },
   {
    "duration": 22074,
    "start_time": "2021-12-26T18:44:07.058Z"
   },
   {
    "duration": 13,
    "start_time": "2021-12-26T18:44:29.134Z"
   },
   {
    "duration": 10,
    "start_time": "2021-12-26T18:44:29.149Z"
   },
   {
    "duration": 3,
    "start_time": "2021-12-26T18:44:29.161Z"
   },
   {
    "duration": 71,
    "start_time": "2021-12-26T18:44:29.191Z"
   },
   {
    "duration": 3,
    "start_time": "2021-12-26T18:44:29.264Z"
   },
   {
    "duration": 27,
    "start_time": "2021-12-26T18:44:29.268Z"
   },
   {
    "duration": 3,
    "start_time": "2021-12-26T18:44:29.296Z"
   },
   {
    "duration": 4,
    "start_time": "2021-12-26T19:00:53.627Z"
   },
   {
    "duration": 3,
    "start_time": "2021-12-26T20:27:03.425Z"
   },
   {
    "duration": 2,
    "start_time": "2021-12-26T20:27:33.972Z"
   },
   {
    "duration": 222,
    "start_time": "2021-12-26T20:31:11.301Z"
   },
   {
    "duration": 160,
    "start_time": "2021-12-26T20:31:17.419Z"
   },
   {
    "duration": 134,
    "start_time": "2021-12-26T20:31:57.525Z"
   },
   {
    "duration": 139,
    "start_time": "2021-12-26T20:32:07.374Z"
   },
   {
    "duration": 1017,
    "start_time": "2021-12-26T20:32:22.853Z"
   },
   {
    "duration": 20,
    "start_time": "2021-12-26T20:32:23.873Z"
   },
   {
    "duration": 37,
    "start_time": "2021-12-26T20:32:23.898Z"
   },
   {
    "duration": 27,
    "start_time": "2021-12-26T20:32:23.936Z"
   },
   {
    "duration": 40,
    "start_time": "2021-12-26T20:32:23.965Z"
   },
   {
    "duration": 20,
    "start_time": "2021-12-26T20:32:24.007Z"
   },
   {
    "duration": 45,
    "start_time": "2021-12-26T20:32:24.029Z"
   },
   {
    "duration": 9,
    "start_time": "2021-12-26T20:32:24.076Z"
   },
   {
    "duration": 26,
    "start_time": "2021-12-26T20:32:24.086Z"
   },
   {
    "duration": 31,
    "start_time": "2021-12-26T20:32:24.114Z"
   },
   {
    "duration": 19,
    "start_time": "2021-12-26T20:32:24.146Z"
   },
   {
    "duration": 24,
    "start_time": "2021-12-26T20:32:24.166Z"
   },
   {
    "duration": 12,
    "start_time": "2021-12-26T20:32:24.192Z"
   },
   {
    "duration": 28,
    "start_time": "2021-12-26T20:32:24.205Z"
   },
   {
    "duration": 31,
    "start_time": "2021-12-26T20:32:24.234Z"
   },
   {
    "duration": 15,
    "start_time": "2021-12-26T20:32:24.267Z"
   },
   {
    "duration": 190,
    "start_time": "2021-12-26T20:32:24.284Z"
   },
   {
    "duration": 21766,
    "start_time": "2021-12-26T20:32:24.476Z"
   },
   {
    "duration": 13,
    "start_time": "2021-12-26T20:32:46.244Z"
   },
   {
    "duration": 11,
    "start_time": "2021-12-26T20:32:46.258Z"
   },
   {
    "duration": 3,
    "start_time": "2021-12-26T20:32:46.270Z"
   },
   {
    "duration": 68,
    "start_time": "2021-12-26T20:32:46.292Z"
   },
   {
    "duration": 2,
    "start_time": "2021-12-26T20:32:46.362Z"
   },
   {
    "duration": 29,
    "start_time": "2021-12-26T20:32:46.366Z"
   },
   {
    "duration": 3,
    "start_time": "2021-12-26T20:32:46.397Z"
   },
   {
    "duration": 308,
    "start_time": "2021-12-26T20:32:46.401Z"
   },
   {
    "duration": 219,
    "start_time": "2021-12-26T20:33:13.100Z"
   },
   {
    "duration": 142,
    "start_time": "2021-12-26T20:33:21.546Z"
   },
   {
    "duration": 137,
    "start_time": "2021-12-26T20:33:27.090Z"
   },
   {
    "duration": 142,
    "start_time": "2021-12-26T20:33:30.371Z"
   },
   {
    "duration": 43,
    "start_time": "2021-12-26T20:34:29.508Z"
   },
   {
    "duration": 6,
    "start_time": "2021-12-26T20:34:33.019Z"
   },
   {
    "duration": 4,
    "start_time": "2021-12-26T20:34:37.442Z"
   },
   {
    "duration": 5,
    "start_time": "2021-12-26T20:34:43.050Z"
   },
   {
    "duration": 4,
    "start_time": "2021-12-26T20:34:43.338Z"
   },
   {
    "duration": 6,
    "start_time": "2021-12-26T20:35:24.571Z"
   },
   {
    "duration": 9,
    "start_time": "2021-12-26T20:35:31.138Z"
   },
   {
    "duration": 4,
    "start_time": "2021-12-26T20:36:33.171Z"
   },
   {
    "duration": 1043,
    "start_time": "2021-12-26T20:36:46.780Z"
   },
   {
    "duration": 19,
    "start_time": "2021-12-26T20:36:47.825Z"
   },
   {
    "duration": 15,
    "start_time": "2021-12-26T20:36:47.845Z"
   },
   {
    "duration": 13,
    "start_time": "2021-12-26T20:36:48.577Z"
   },
   {
    "duration": 10,
    "start_time": "2021-12-26T20:36:48.857Z"
   },
   {
    "duration": 7,
    "start_time": "2021-12-26T20:36:49.153Z"
   },
   {
    "duration": 28,
    "start_time": "2021-12-26T20:36:49.746Z"
   },
   {
    "duration": 6,
    "start_time": "2021-12-26T20:36:50.618Z"
   },
   {
    "duration": 6,
    "start_time": "2021-12-26T20:36:50.762Z"
   },
   {
    "duration": 4,
    "start_time": "2021-12-26T20:36:50.921Z"
   },
   {
    "duration": 4,
    "start_time": "2021-12-26T20:36:51.082Z"
   },
   {
    "duration": 4,
    "start_time": "2021-12-26T20:36:51.449Z"
   },
   {
    "duration": 7,
    "start_time": "2021-12-26T20:36:51.825Z"
   },
   {
    "duration": 5,
    "start_time": "2021-12-26T20:36:58.448Z"
   },
   {
    "duration": 4,
    "start_time": "2021-12-26T20:37:08.360Z"
   },
   {
    "duration": 184,
    "start_time": "2021-12-26T20:37:11.224Z"
   },
   {
    "duration": 219,
    "start_time": "2021-12-26T20:37:19.128Z"
   },
   {
    "duration": 4,
    "start_time": "2021-12-26T20:37:21.958Z"
   },
   {
    "duration": 22191,
    "start_time": "2021-12-26T20:37:22.406Z"
   },
   {
    "duration": 139,
    "start_time": "2021-12-26T20:37:48.921Z"
   },
   {
    "duration": 3,
    "start_time": "2021-12-26T20:37:51.898Z"
   },
   {
    "duration": 15,
    "start_time": "2021-12-26T20:37:53.065Z"
   },
   {
    "duration": 4,
    "start_time": "2021-12-26T20:39:26.520Z"
   },
   {
    "duration": 4,
    "start_time": "2021-12-26T20:39:26.711Z"
   },
   {
    "duration": 3,
    "start_time": "2021-12-26T20:39:26.936Z"
   },
   {
    "duration": 171,
    "start_time": "2021-12-26T20:40:10.261Z"
   },
   {
    "duration": 22256,
    "start_time": "2021-12-26T20:40:11.711Z"
   },
   {
    "duration": 22,
    "start_time": "2021-12-26T20:40:33.969Z"
   },
   {
    "duration": 12,
    "start_time": "2021-12-26T20:40:39.992Z"
   },
   {
    "duration": 3,
    "start_time": "2021-12-26T20:40:40.545Z"
   },
   {
    "duration": 69,
    "start_time": "2021-12-26T20:40:41.176Z"
   },
   {
    "duration": 4,
    "start_time": "2021-12-26T20:40:41.770Z"
   },
   {
    "duration": 14,
    "start_time": "2021-12-26T20:40:42.681Z"
   },
   {
    "duration": 3,
    "start_time": "2021-12-26T20:40:43.025Z"
   },
   {
    "duration": 5,
    "start_time": "2021-12-26T20:40:44.961Z"
   },
   {
    "duration": 5,
    "start_time": "2021-12-26T20:40:46.954Z"
   },
   {
    "duration": 7,
    "start_time": "2021-12-26T20:40:47.930Z"
   },
   {
    "duration": 976,
    "start_time": "2021-12-26T20:43:34.144Z"
   },
   {
    "duration": 19,
    "start_time": "2021-12-26T20:43:35.122Z"
   },
   {
    "duration": 15,
    "start_time": "2021-12-26T20:43:35.143Z"
   },
   {
    "duration": 9,
    "start_time": "2021-12-26T20:43:35.160Z"
   },
   {
    "duration": 28,
    "start_time": "2021-12-26T20:43:35.170Z"
   },
   {
    "duration": 6,
    "start_time": "2021-12-26T20:43:35.199Z"
   },
   {
    "duration": 26,
    "start_time": "2021-12-26T20:43:35.206Z"
   },
   {
    "duration": 4,
    "start_time": "2021-12-26T20:43:35.234Z"
   },
   {
    "duration": 8,
    "start_time": "2021-12-26T20:43:35.240Z"
   },
   {
    "duration": 7,
    "start_time": "2021-12-26T20:43:35.250Z"
   },
   {
    "duration": 38,
    "start_time": "2021-12-26T20:43:35.258Z"
   },
   {
    "duration": 4,
    "start_time": "2021-12-26T20:43:35.298Z"
   },
   {
    "duration": 6,
    "start_time": "2021-12-26T20:43:35.304Z"
   },
   {
    "duration": 7,
    "start_time": "2021-12-26T20:43:35.312Z"
   },
   {
    "duration": 6,
    "start_time": "2021-12-26T20:43:35.321Z"
   },
   {
    "duration": 5,
    "start_time": "2021-12-26T20:43:35.329Z"
   },
   {
    "duration": 203,
    "start_time": "2021-12-26T20:43:35.336Z"
   },
   {
    "duration": 22101,
    "start_time": "2021-12-26T20:43:35.540Z"
   },
   {
    "duration": 13,
    "start_time": "2021-12-26T20:43:57.643Z"
   },
   {
    "duration": 17,
    "start_time": "2021-12-26T20:43:57.658Z"
   },
   {
    "duration": 14,
    "start_time": "2021-12-26T20:43:57.677Z"
   },
   {
    "duration": 72,
    "start_time": "2021-12-26T20:43:57.693Z"
   },
   {
    "duration": 3,
    "start_time": "2021-12-26T20:43:57.768Z"
   },
   {
    "duration": 29,
    "start_time": "2021-12-26T20:43:57.773Z"
   },
   {
    "duration": 3,
    "start_time": "2021-12-26T20:43:57.804Z"
   },
   {
    "duration": 9,
    "start_time": "2021-12-26T20:43:57.808Z"
   },
   {
    "duration": 5,
    "start_time": "2021-12-26T20:43:57.818Z"
   },
   {
    "duration": 4,
    "start_time": "2021-12-26T20:43:57.825Z"
   },
   {
    "duration": 968,
    "start_time": "2022-01-13T17:07:37.774Z"
   },
   {
    "duration": 19,
    "start_time": "2022-01-13T17:07:38.744Z"
   },
   {
    "duration": 24,
    "start_time": "2022-01-13T17:07:38.764Z"
   },
   {
    "duration": 7,
    "start_time": "2022-01-13T17:07:38.790Z"
   },
   {
    "duration": 10,
    "start_time": "2022-01-13T17:07:38.799Z"
   },
   {
    "duration": 9,
    "start_time": "2022-01-13T17:07:38.810Z"
   },
   {
    "duration": 21,
    "start_time": "2022-01-13T17:07:38.820Z"
   },
   {
    "duration": 4,
    "start_time": "2022-01-13T17:07:38.844Z"
   },
   {
    "duration": 8,
    "start_time": "2022-01-13T17:07:38.849Z"
   },
   {
    "duration": 8,
    "start_time": "2022-01-13T17:07:38.858Z"
   },
   {
    "duration": 6,
    "start_time": "2022-01-13T17:07:38.867Z"
   },
   {
    "duration": 8,
    "start_time": "2022-01-13T17:07:38.875Z"
   },
   {
    "duration": 5,
    "start_time": "2022-01-13T17:07:38.885Z"
   },
   {
    "duration": 7,
    "start_time": "2022-01-13T17:07:38.891Z"
   },
   {
    "duration": 10,
    "start_time": "2022-01-13T17:07:38.899Z"
   },
   {
    "duration": 8,
    "start_time": "2022-01-13T17:07:38.911Z"
   },
   {
    "duration": 166,
    "start_time": "2022-01-13T17:07:38.926Z"
   },
   {
    "duration": 20474,
    "start_time": "2022-01-13T17:07:39.094Z"
   },
   {
    "duration": 12,
    "start_time": "2022-01-13T17:07:59.570Z"
   },
   {
    "duration": 10,
    "start_time": "2022-01-13T17:07:59.584Z"
   },
   {
    "duration": 3,
    "start_time": "2022-01-13T17:07:59.595Z"
   },
   {
    "duration": 85,
    "start_time": "2022-01-13T17:07:59.599Z"
   },
   {
    "duration": 3,
    "start_time": "2022-01-13T17:07:59.687Z"
   },
   {
    "duration": 25,
    "start_time": "2022-01-13T17:07:59.691Z"
   },
   {
    "duration": 6,
    "start_time": "2022-01-13T17:07:59.718Z"
   },
   {
    "duration": 12,
    "start_time": "2022-01-13T17:07:59.726Z"
   },
   {
    "duration": 14,
    "start_time": "2022-01-13T17:07:59.739Z"
   },
   {
    "duration": 15,
    "start_time": "2022-01-13T17:07:59.754Z"
   },
   {
    "duration": 1024,
    "start_time": "2022-01-14T12:23:54.515Z"
   },
   {
    "duration": 22,
    "start_time": "2022-01-14T12:23:55.541Z"
   },
   {
    "duration": 14,
    "start_time": "2022-01-14T12:23:55.565Z"
   },
   {
    "duration": 7,
    "start_time": "2022-01-14T12:23:55.581Z"
   },
   {
    "duration": 9,
    "start_time": "2022-01-14T12:23:55.590Z"
   },
   {
    "duration": 8,
    "start_time": "2022-01-14T12:23:55.601Z"
   },
   {
    "duration": 34,
    "start_time": "2022-01-14T12:23:55.611Z"
   },
   {
    "duration": 4,
    "start_time": "2022-01-14T12:23:55.648Z"
   },
   {
    "duration": 5,
    "start_time": "2022-01-14T12:23:55.654Z"
   },
   {
    "duration": 5,
    "start_time": "2022-01-14T12:23:55.661Z"
   },
   {
    "duration": 5,
    "start_time": "2022-01-14T12:23:55.667Z"
   },
   {
    "duration": 5,
    "start_time": "2022-01-14T12:23:55.673Z"
   },
   {
    "duration": 8,
    "start_time": "2022-01-14T12:23:55.679Z"
   },
   {
    "duration": 6,
    "start_time": "2022-01-14T12:23:55.688Z"
   },
   {
    "duration": 32,
    "start_time": "2022-01-14T12:23:55.695Z"
   },
   {
    "duration": 5,
    "start_time": "2022-01-14T12:23:55.729Z"
   },
   {
    "duration": 163,
    "start_time": "2022-01-14T12:23:55.736Z"
   },
   {
    "duration": 20537,
    "start_time": "2022-01-14T12:23:55.901Z"
   },
   {
    "duration": 12,
    "start_time": "2022-01-14T12:24:16.440Z"
   },
   {
    "duration": 10,
    "start_time": "2022-01-14T12:24:16.453Z"
   },
   {
    "duration": 3,
    "start_time": "2022-01-14T12:24:16.464Z"
   },
   {
    "duration": 86,
    "start_time": "2022-01-14T12:24:16.468Z"
   },
   {
    "duration": 3,
    "start_time": "2022-01-14T12:24:16.556Z"
   },
   {
    "duration": 15,
    "start_time": "2022-01-14T12:24:16.560Z"
   },
   {
    "duration": 3,
    "start_time": "2022-01-14T12:24:16.576Z"
   },
   {
    "duration": 14,
    "start_time": "2022-01-14T12:24:16.580Z"
   },
   {
    "duration": 4,
    "start_time": "2022-01-14T12:24:16.595Z"
   },
   {
    "duration": 8,
    "start_time": "2022-01-14T12:24:16.601Z"
   }
  ],
  "kernelspec": {
   "display_name": "Python 3 (ipykernel)",
   "language": "python",
   "name": "python3"
  },
  "language_info": {
   "codemirror_mode": {
    "name": "ipython",
    "version": 3
   },
   "file_extension": ".py",
   "mimetype": "text/x-python",
   "name": "python",
   "nbconvert_exporter": "python",
   "pygments_lexer": "ipython3",
   "version": "3.9.7"
  },
  "toc": {
   "base_numbering": 1,
   "nav_menu": {},
   "number_sections": true,
   "sideBar": true,
   "skip_h1_title": true,
   "title_cell": "Оглавление",
   "title_sidebar": "Contents",
   "toc_cell": true,
   "toc_position": {},
   "toc_section_display": true,
   "toc_window_display": false
  },
  "varInspector": {
   "cols": {
    "lenName": 16,
    "lenType": 16,
    "lenVar": 40
   },
   "kernels_config": {
    "python": {
     "delete_cmd_postfix": "",
     "delete_cmd_prefix": "del ",
     "library": "var_list.py",
     "varRefreshCmd": "print(var_dic_list())"
    },
    "r": {
     "delete_cmd_postfix": ") ",
     "delete_cmd_prefix": "rm(",
     "library": "var_list.r",
     "varRefreshCmd": "cat(var_dic_list()) "
    }
   },
   "types_to_exclude": [
    "module",
    "function",
    "builtin_function_or_method",
    "instance",
    "_Feature"
   ],
   "window_display": false
  }
 },
 "nbformat": 4,
 "nbformat_minor": 2
}
