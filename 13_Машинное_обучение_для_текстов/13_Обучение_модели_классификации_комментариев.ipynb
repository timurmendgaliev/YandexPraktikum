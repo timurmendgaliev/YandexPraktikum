{
 "cells": [
  {
   "cell_type": "markdown",
   "metadata": {},
   "source": [
    "# Проект для «Викишоп»"
   ]
  },
  {
   "cell_type": "markdown",
   "metadata": {},
   "source": [
    "Интернет-магазин «Викишоп» запускает новый сервис. Теперь пользователи могут редактировать и дополнять описания товаров, как в вики-сообществах. То есть клиенты предлагают свои правки и комментируют изменения других. Магазину нужен инструмент, который будет искать токсичные комментарии и отправлять их на модерацию. \n",
    "\n",
    "Обучим модель классифицировать комментарии на позитивные и негативные. В распоряжении набор данных с разметкой о токсичности правок.\n",
    "\n",
    "Алгоритм действий:\n",
    "\n",
    "1. Загрузим и подготовим данные.\n",
    "2. Обучим разные модели. \n",
    "3. Выводы.\n",
    "\n",
    "\n",
    "**Описание данных**\n",
    "\n",
    "Данные находятся в файле `toxic_comments.csv`. Столбец *text* в нём содержит текст комментария, а *toxic* — целевой признак."
   ]
  },
  {
   "cell_type": "markdown",
   "metadata": {
    "toc": true
   },
   "source": [
    "<h1>Содержание<span class=\"tocSkip\"></span></h1>\n",
    "<div class=\"toc\"><ul class=\"toc-item\"><li><span><a href=\"#Подготовка\" data-toc-modified-id=\"Подготовка-1\"><span class=\"toc-item-num\">1&nbsp;&nbsp;</span>Подготовка</a></span><ul class=\"toc-item\"><li><span><a href=\"#Вывод\" data-toc-modified-id=\"Вывод-1.1\"><span class=\"toc-item-num\">1.1&nbsp;&nbsp;</span>Вывод</a></span></li></ul></li><li><span><a href=\"#Обучение\" data-toc-modified-id=\"Обучение-2\"><span class=\"toc-item-num\">2&nbsp;&nbsp;</span>Обучение</a></span><ul class=\"toc-item\"><li><span><a href=\"#Логистическая-регрессия\" data-toc-modified-id=\"Логистическая-регрессия-2.1\"><span class=\"toc-item-num\">2.1&nbsp;&nbsp;</span>Логистическая регрессия</a></span></li><li><span><a href=\"#CatBoost\" data-toc-modified-id=\"CatBoost-2.2\"><span class=\"toc-item-num\">2.2&nbsp;&nbsp;</span>CatBoost</a></span></li><li><span><a href=\"#KNN\" data-toc-modified-id=\"KNN-2.3\"><span class=\"toc-item-num\">2.3&nbsp;&nbsp;</span>KNN</a></span></li><li><span><a href=\"#BERT\" data-toc-modified-id=\"BERT-2.4\"><span class=\"toc-item-num\">2.4&nbsp;&nbsp;</span>BERT</a></span></li><li><span><a href=\"#Вывод\" data-toc-modified-id=\"Вывод-2.5\"><span class=\"toc-item-num\">2.5&nbsp;&nbsp;</span>Вывод</a></span></li></ul></li><li><span><a href=\"#Тестирование\" data-toc-modified-id=\"Тестирование-3\"><span class=\"toc-item-num\">3&nbsp;&nbsp;</span>Тестирование</a></span><ul class=\"toc-item\"><li><span><a href=\"#Вывод\" data-toc-modified-id=\"Вывод-3.1\"><span class=\"toc-item-num\">3.1&nbsp;&nbsp;</span>Вывод</a></span></li></ul></li><li><span><a href=\"#Выводы\" data-toc-modified-id=\"Выводы-4\"><span class=\"toc-item-num\">4&nbsp;&nbsp;</span>Выводы</a></span></li></ul></div>"
   ]
  },
  {
   "cell_type": "markdown",
   "metadata": {},
   "source": [
    "## Подготовка"
   ]
  },
  {
   "cell_type": "code",
   "execution_count": 1,
   "metadata": {},
   "outputs": [],
   "source": [
    "import pandas as pd\n",
    "import numpy as np\n",
    "import seaborn as sns\n",
    "import matplotlib.pyplot as plt\n",
    "\n",
    "from sklearn.model_selection import train_test_split\n",
    "from sklearn.metrics import f1_score\n",
    "from sklearn.feature_extraction.text import CountVectorizer\n",
    "from sklearn.feature_extraction.text import TfidfTransformer\n",
    "from sklearn.linear_model import LogisticRegression\n",
    "from sklearn.model_selection import cross_val_score\n",
    "from sklearn.utils import shuffle\n",
    "from sklearn.feature_extraction.text import TfidfVectorizer\n",
    "from sklearn.neighbors import KNeighborsClassifier\n",
    "from sklearn.pipeline import Pipeline\n",
    "from catboost import CatBoostClassifier\n",
    "from pymystem3 import Mystem\n",
    "import nltk\n",
    "from nltk.stem import WordNetLemmatizer\n",
    "from nltk.corpus import wordnet \n",
    "\n",
    "import nltk\n",
    "from nltk.corpus import stopwords\n",
    "\n",
    "import re\n",
    "import warnings\n",
    "\n",
    "RS=1234\n",
    "warnings.filterwarnings('ignore')\n",
    "sns.set_style()"
   ]
  },
  {
   "cell_type": "code",
   "execution_count": 2,
   "metadata": {},
   "outputs": [],
   "source": [
    "df = pd.read_csv('/datasets/toxic_comments.csv')"
   ]
  },
  {
   "cell_type": "markdown",
   "metadata": {},
   "source": [
    "Рассмотрим первые пять строк в таблице:"
   ]
  },
  {
   "cell_type": "code",
   "execution_count": 3,
   "metadata": {},
   "outputs": [
    {
     "data": {
      "text/html": [
       "<div>\n",
       "<style scoped>\n",
       "    .dataframe tbody tr th:only-of-type {\n",
       "        vertical-align: middle;\n",
       "    }\n",
       "\n",
       "    .dataframe tbody tr th {\n",
       "        vertical-align: top;\n",
       "    }\n",
       "\n",
       "    .dataframe thead th {\n",
       "        text-align: right;\n",
       "    }\n",
       "</style>\n",
       "<table border=\"1\" class=\"dataframe\">\n",
       "  <thead>\n",
       "    <tr style=\"text-align: right;\">\n",
       "      <th></th>\n",
       "      <th>text</th>\n",
       "      <th>toxic</th>\n",
       "    </tr>\n",
       "  </thead>\n",
       "  <tbody>\n",
       "    <tr>\n",
       "      <th>0</th>\n",
       "      <td>Explanation\\nWhy the edits made under my usern...</td>\n",
       "      <td>0</td>\n",
       "    </tr>\n",
       "    <tr>\n",
       "      <th>1</th>\n",
       "      <td>D'aww! He matches this background colour I'm s...</td>\n",
       "      <td>0</td>\n",
       "    </tr>\n",
       "    <tr>\n",
       "      <th>2</th>\n",
       "      <td>Hey man, I'm really not trying to edit war. It...</td>\n",
       "      <td>0</td>\n",
       "    </tr>\n",
       "    <tr>\n",
       "      <th>3</th>\n",
       "      <td>\"\\nMore\\nI can't make any real suggestions on ...</td>\n",
       "      <td>0</td>\n",
       "    </tr>\n",
       "    <tr>\n",
       "      <th>4</th>\n",
       "      <td>You, sir, are my hero. Any chance you remember...</td>\n",
       "      <td>0</td>\n",
       "    </tr>\n",
       "  </tbody>\n",
       "</table>\n",
       "</div>"
      ],
      "text/plain": [
       "                                                text  toxic\n",
       "0  Explanation\\nWhy the edits made under my usern...      0\n",
       "1  D'aww! He matches this background colour I'm s...      0\n",
       "2  Hey man, I'm really not trying to edit war. It...      0\n",
       "3  \"\\nMore\\nI can't make any real suggestions on ...      0\n",
       "4  You, sir, are my hero. Any chance you remember...      0"
      ]
     },
     "execution_count": 3,
     "metadata": {},
     "output_type": "execute_result"
    }
   ],
   "source": [
    "df.head()"
   ]
  },
  {
   "cell_type": "markdown",
   "metadata": {},
   "source": [
    "Изучим основную информацию:"
   ]
  },
  {
   "cell_type": "code",
   "execution_count": 4,
   "metadata": {},
   "outputs": [
    {
     "name": "stdout",
     "output_type": "stream",
     "text": [
      "<class 'pandas.core.frame.DataFrame'>\n",
      "RangeIndex: 159571 entries, 0 to 159570\n",
      "Data columns (total 2 columns):\n",
      " #   Column  Non-Null Count   Dtype \n",
      "---  ------  --------------   ----- \n",
      " 0   text    159571 non-null  object\n",
      " 1   toxic   159571 non-null  int64 \n",
      "dtypes: int64(1), object(1)\n",
      "memory usage: 80.1 MB\n"
     ]
    }
   ],
   "source": [
    "df.info(memory_usage='deep')"
   ]
  },
  {
   "cell_type": "markdown",
   "metadata": {},
   "source": [
    "Проверим данные на пропуски:"
   ]
  },
  {
   "cell_type": "code",
   "execution_count": 5,
   "metadata": {},
   "outputs": [
    {
     "data": {
      "text/plain": [
       "text     0\n",
       "toxic    0\n",
       "dtype: int64"
      ]
     },
     "execution_count": 5,
     "metadata": {},
     "output_type": "execute_result"
    }
   ],
   "source": [
    "df.isna().sum()"
   ]
  },
  {
   "cell_type": "markdown",
   "metadata": {},
   "source": [
    "Проверим данные на дубликаты:"
   ]
  },
  {
   "cell_type": "code",
   "execution_count": 6,
   "metadata": {},
   "outputs": [
    {
     "data": {
      "text/plain": [
       "0"
      ]
     },
     "execution_count": 6,
     "metadata": {},
     "output_type": "execute_result"
    }
   ],
   "source": [
    "df.duplicated().sum()"
   ]
  },
  {
   "cell_type": "markdown",
   "metadata": {},
   "source": [
    "Оптимизируем тип данных:"
   ]
  },
  {
   "cell_type": "code",
   "execution_count": 7,
   "metadata": {},
   "outputs": [],
   "source": [
    "df.toxic = df.toxic.astype('uint8')"
   ]
  },
  {
   "cell_type": "markdown",
   "metadata": {},
   "source": [
    "Изучим баланс классов:"
   ]
  },
  {
   "cell_type": "code",
   "execution_count": 8,
   "metadata": {},
   "outputs": [
    {
     "data": {
      "text/plain": [
       "<AxesSubplot:>"
      ]
     },
     "execution_count": 8,
     "metadata": {},
     "output_type": "execute_result"
    },
    {
     "data": {
      "image/png": "[encoded data removed]",
      "text/plain": [
       "<Figure size 432x288 with 1 Axes>"
      ]
     },
     "metadata": {
      "needs_background": "light"
     },
     "output_type": "display_data"
    }
   ],
   "source": [
    "df.toxic.value_counts(normalize=True).plot(kind='bar')"
   ]
  },
  {
   "cell_type": "code",
   "execution_count": 9,
   "metadata": {},
   "outputs": [
    {
     "data": {
      "text/plain": [
       "8.834884437596301"
      ]
     },
     "execution_count": 9,
     "metadata": {},
     "output_type": "execute_result"
    }
   ],
   "source": [
    "len(df.toxic[df.toxic==0]) / len(df.toxic[df.toxic==1])"
   ]
  },
  {
   "cell_type": "markdown",
   "metadata": {},
   "source": [
    "Создадим функцию, которая проводит операцию лемматизации и фильтрации текста:"
   ]
  },
  {
   "cell_type": "code",
   "execution_count": 10,
   "metadata": {},
   "outputs": [],
   "source": [
    "m = WordNetLemmatizer()"
   ]
  },
  {
   "cell_type": "code",
   "execution_count": 11,
   "metadata": {},
   "outputs": [],
   "source": [
    "def text_transform(text):\n",
    "    lemma = re.sub(r'[^a-zA-Z]', ' ', m.lemmatize(text, wordnet.VERB))\n",
    "    return ' '.join(lemma.split())"
   ]
  },
  {
   "cell_type": "markdown",
   "metadata": {},
   "source": [
    "Создадим новый столбец `lem_text`, содержащий обработанный текст"
   ]
  },
  {
   "cell_type": "code",
   "execution_count": 12,
   "metadata": {},
   "outputs": [],
   "source": [
    "df['lem_text'] = df['text'].apply(text_transform)"
   ]
  },
  {
   "cell_type": "markdown",
   "metadata": {},
   "source": [
    "Выделим целевую переменную и признак:"
   ]
  },
  {
   "cell_type": "code",
   "execution_count": 13,
   "metadata": {},
   "outputs": [],
   "source": [
    "X, y = df['lem_text'], df['toxic']"
   ]
  },
  {
   "cell_type": "markdown",
   "metadata": {},
   "source": [
    "Разделим данные на набор для обучения и тестирования:"
   ]
  },
  {
   "cell_type": "code",
   "execution_count": 15,
   "metadata": {},
   "outputs": [],
   "source": [
    "X_train, X_test, y_train, y_test = train_test_split(X, y, test_size=0.2, random_state=RS)"
   ]
  },
  {
   "cell_type": "code",
   "execution_count": 16,
   "metadata": {},
   "outputs": [],
   "source": [
    "stopwords = set(stopwords.words('english'))\n",
    "tf_idf = TfidfVectorizer(stop_words=stopwords, )"
   ]
  },
  {
   "cell_type": "code",
   "execution_count": 23,
   "metadata": {},
   "outputs": [],
   "source": [
    "X_train_tf = tf_idf.fit_transform(X_train)\n",
    "X_test_tf = tf_idf.transform(X_test)"
   ]
  },
  {
   "cell_type": "markdown",
   "metadata": {},
   "source": [
    "### Вывод"
   ]
  },
  {
   "cell_type": "markdown",
   "metadata": {},
   "source": [
    "Данные загружены и изучены. Проведена проверка на дубликаты и пропуски. В данных наблюдается сильный дисбаланс классов в целевой переменной. Подготовлены данны для обучения и тестирования моделей."
   ]
  },
  {
   "cell_type": "markdown",
   "metadata": {},
   "source": [
    "## Обучение"
   ]
  },
  {
   "cell_type": "markdown",
   "metadata": {},
   "source": [
    "### Логистическая регрессия"
   ]
  },
  {
   "cell_type": "markdown",
   "metadata": {},
   "source": [
    "Создадим модель логистической регрессии с балансировкой классов:"
   ]
  },
  {
   "cell_type": "code",
   "execution_count": 18,
   "metadata": {},
   "outputs": [],
   "source": [
    "pipe = Pipeline([('tf_idf', TfidfVectorizer()), ('clf', LogisticRegression(class_weight='balanced'))])"
   ]
  },
  {
   "cell_type": "markdown",
   "metadata": {},
   "source": [
    "Проверка на кросс-валидации:"
   ]
  },
  {
   "cell_type": "code",
   "execution_count": 19,
   "metadata": {},
   "outputs": [
    {
     "data": {
      "text/plain": [
       "0.940190832078371"
      ]
     },
     "execution_count": 19,
     "metadata": {},
     "output_type": "execute_result"
    }
   ],
   "source": [
    "cross_val_score(pipe, X_train, y_train).mean()"
   ]
  },
  {
   "cell_type": "markdown",
   "metadata": {},
   "source": [
    "Обучим модель для дальнейшего тестирования:"
   ]
  },
  {
   "cell_type": "code",
   "execution_count": 20,
   "metadata": {},
   "outputs": [],
   "source": [
    "LR = LogisticRegression(class_weight='balanced')"
   ]
  },
  {
   "cell_type": "code",
   "execution_count": 25,
   "metadata": {},
   "outputs": [
    {
     "data": {
      "text/plain": [
       "LogisticRegression(class_weight='balanced')"
      ]
     },
     "execution_count": 25,
     "metadata": {},
     "output_type": "execute_result"
    }
   ],
   "source": [
    "LR.fit(X_train_tf, y_train)"
   ]
  },
  {
   "cell_type": "markdown",
   "metadata": {},
   "source": [
    "### CatBoost"
   ]
  },
  {
   "cell_type": "markdown",
   "metadata": {},
   "source": [
    "Создадим модель градиентного бустинга:"
   ]
  },
  {
   "cell_type": "code",
   "execution_count": 26,
   "metadata": {},
   "outputs": [],
   "source": [
    "cat = CatBoostClassifier(auto_class_weights='Balanced', eval_metric='F1')"
   ]
  },
  {
   "cell_type": "markdown",
   "metadata": {},
   "source": [
    "Определим диапазон гиперпараметров, значения для которых будут подобраны с использованием поиска по сетке:"
   ]
  },
  {
   "cell_type": "code",
   "execution_count": 27,
   "metadata": {},
   "outputs": [],
   "source": [
    "params = {'iterations': range(100, 501 , 100),\n",
    "          'depth': range(5, 8),\n",
    "          'learning_rate': np.arange(0.1, 0.31, 0.1),\n",
    "          'l2_leaf_reg': np.arange(3, 8, 2),\n",
    "          'verbose': [10],\n",
    "          'early_stopping_rounds' : [20]\n",
    "         }"
   ]
  },
  {
   "cell_type": "markdown",
   "metadata": {},
   "source": [
    "Для ускорения вычислений ограничим количество признаков:"
   ]
  },
  {
   "cell_type": "code",
   "execution_count": 29,
   "metadata": {},
   "outputs": [],
   "source": [
    "X_train_cb = X_train_tf[:10000]\n",
    "y_train_cb = y_train[:10000]\n",
    "\n",
    "X_test_cb = X_test_tf[:5000]\n",
    "y_test_cb = y_test[:5000]"
   ]
  },
  {
   "cell_type": "code",
   "execution_count": 30,
   "metadata": {},
   "outputs": [],
   "source": [
    "#grid = cat.grid_search(params, X_train_cb, y_train_cb, cv=3)\n",
    "#best_params = grid['params']"
   ]
  },
  {
   "cell_type": "code",
   "execution_count": 31,
   "metadata": {},
   "outputs": [],
   "source": [
    "best_params = {'depth': 5,\n",
    "               'od_wait': 20,\n",
    "               'verbose': 10,\n",
    "               'l2_leaf_reg': 7,\n",
    "               'iterations': 200,\n",
    "               'learning_rate': 0.1}"
   ]
  },
  {
   "cell_type": "markdown",
   "metadata": {},
   "source": [
    "Обучим модель на наилучших параметрах:"
   ]
  },
  {
   "cell_type": "code",
   "execution_count": 32,
   "metadata": {},
   "outputs": [],
   "source": [
    "cat = CatBoostClassifier(**best_params)"
   ]
  },
  {
   "cell_type": "code",
   "execution_count": 33,
   "metadata": {},
   "outputs": [
    {
     "name": "stdout",
     "output_type": "stream",
     "text": [
      "0:\tlearn: 0.6002340\ttotal: 354ms\tremaining: 1m 10s\n",
      "10:\tlearn: 0.2857314\ttotal: 3.45s\tremaining: 59.4s\n",
      "20:\tlearn: 0.2372061\ttotal: 6.58s\tremaining: 56.1s\n",
      "30:\tlearn: 0.2184250\ttotal: 9.75s\tremaining: 53.2s\n",
      "40:\tlearn: 0.2085832\ttotal: 12.9s\tremaining: 50.2s\n",
      "50:\tlearn: 0.2001617\ttotal: 16.1s\tremaining: 47.1s\n",
      "60:\tlearn: 0.1945158\ttotal: 19.3s\tremaining: 43.9s\n",
      "70:\tlearn: 0.1896907\ttotal: 22.4s\tremaining: 40.8s\n",
      "80:\tlearn: 0.1849357\ttotal: 25.5s\tremaining: 37.5s\n",
      "90:\tlearn: 0.1812287\ttotal: 28.7s\tremaining: 34.3s\n",
      "100:\tlearn: 0.1770683\ttotal: 31.7s\tremaining: 31s\n",
      "110:\tlearn: 0.1733286\ttotal: 34.7s\tremaining: 27.8s\n",
      "120:\tlearn: 0.1685252\ttotal: 37.8s\tremaining: 24.7s\n",
      "130:\tlearn: 0.1662809\ttotal: 41s\tremaining: 21.6s\n",
      "140:\tlearn: 0.1632551\ttotal: 44.3s\tremaining: 18.5s\n",
      "150:\tlearn: 0.1600732\ttotal: 47.4s\tremaining: 15.4s\n",
      "160:\tlearn: 0.1575982\ttotal: 50.3s\tremaining: 12.2s\n",
      "170:\tlearn: 0.1559889\ttotal: 53.2s\tremaining: 9.02s\n",
      "180:\tlearn: 0.1542113\ttotal: 56.1s\tremaining: 5.88s\n",
      "190:\tlearn: 0.1511387\ttotal: 59.1s\tremaining: 2.78s\n",
      "199:\tlearn: 0.1490000\ttotal: 1m 1s\tremaining: 0us\n"
     ]
    },
    {
     "data": {
      "text/plain": [
       "<catboost.core.CatBoostClassifier at 0x7f130bc78f10>"
      ]
     },
     "execution_count": 33,
     "metadata": {},
     "output_type": "execute_result"
    }
   ],
   "source": [
    "cat.fit(X_train_cb, y_train_cb)"
   ]
  },
  {
   "cell_type": "markdown",
   "metadata": {},
   "source": [
    "### KNN"
   ]
  },
  {
   "cell_type": "markdown",
   "metadata": {},
   "source": [
    "Создадим модель, основанная на методе ближайших соседей:"
   ]
  },
  {
   "cell_type": "code",
   "execution_count": 35,
   "metadata": {},
   "outputs": [],
   "source": [
    "pipe = Pipeline([('tf_idf', TfidfVectorizer()), ('clf', KNeighborsClassifier(n_neighbors=10))])"
   ]
  },
  {
   "cell_type": "markdown",
   "metadata": {},
   "source": [
    "Проверим модель на кросс - валидации:"
   ]
  },
  {
   "cell_type": "code",
   "execution_count": 36,
   "metadata": {},
   "outputs": [
    {
     "data": {
      "text/plain": [
       "0.4126660450832678"
      ]
     },
     "execution_count": 36,
     "metadata": {},
     "output_type": "execute_result"
    }
   ],
   "source": [
    "cross_val_score(pipe, X_train, y_train, scoring='f1', cv=5).mean()"
   ]
  },
  {
   "cell_type": "code",
   "execution_count": 38,
   "metadata": {},
   "outputs": [],
   "source": [
    "kNN = KNeighborsClassifier(n_neighbors=10)"
   ]
  },
  {
   "cell_type": "markdown",
   "metadata": {},
   "source": [
    "Обучим модель для дальнейшего тестирования:"
   ]
  },
  {
   "cell_type": "code",
   "execution_count": 40,
   "metadata": {},
   "outputs": [
    {
     "data": {
      "text/plain": [
       "KNeighborsClassifier(n_neighbors=10)"
      ]
     },
     "execution_count": 40,
     "metadata": {},
     "output_type": "execute_result"
    }
   ],
   "source": [
    "kNN.fit(X_train_tf, y_train)"
   ]
  },
  {
   "cell_type": "markdown",
   "metadata": {},
   "source": [
    "### Вывод"
   ]
  },
  {
   "cell_type": "markdown",
   "metadata": {},
   "source": [
    "Построены следующие модели машинного обучения:\n",
    "* LogisticRegression\n",
    "* CatBoost\n",
    "* kNNClassifier\n",
    "\n",
    "Для модели градиентного бустинга выполнен подбор гиперпараметров. Наиболее точная модель по результатам кросс - валидации - **Логистическая регрессия**"
   ]
  },
  {
   "cell_type": "markdown",
   "metadata": {},
   "source": [
    "## Тестирование"
   ]
  },
  {
   "cell_type": "markdown",
   "metadata": {},
   "source": [
    "Предсказание для модели Логистической регрессии:"
   ]
  },
  {
   "cell_type": "code",
   "execution_count": 42,
   "metadata": {},
   "outputs": [
    {
     "data": {
      "text/plain": [
       "0.7548315847598012"
      ]
     },
     "execution_count": 42,
     "metadata": {},
     "output_type": "execute_result"
    }
   ],
   "source": [
    "predictions = LR.predict(X_test_tf)\n",
    "f1_score(y_test, predictions)"
   ]
  },
  {
   "cell_type": "markdown",
   "metadata": {},
   "source": [
    "Предсказание для модели Градиентного бустинга:"
   ]
  },
  {
   "cell_type": "code",
   "execution_count": 43,
   "metadata": {},
   "outputs": [
    {
     "data": {
      "text/plain": [
       "0.6093251011283799"
      ]
     },
     "execution_count": 43,
     "metadata": {},
     "output_type": "execute_result"
    }
   ],
   "source": [
    "predictions = cat.predict(X_test_tf)\n",
    "f1_score(y_test, predictions)"
   ]
  },
  {
   "cell_type": "markdown",
   "metadata": {},
   "source": [
    "Предсказание для модели метода ближайших соседей:"
   ]
  },
  {
   "cell_type": "code",
   "execution_count": 44,
   "metadata": {},
   "outputs": [
    {
     "data": {
      "text/plain": [
       "0.18434486670448097"
      ]
     },
     "execution_count": 44,
     "metadata": {},
     "output_type": "execute_result"
    }
   ],
   "source": [
    "predictions = kNN.predict(X_test_tf)\n",
    "f1_score(y_test, predictions)"
   ]
  },
  {
   "cell_type": "markdown",
   "metadata": {},
   "source": [
    "### Вывод"
   ]
  },
  {
   "cell_type": "markdown",
   "metadata": {},
   "source": [
    "Проведено тестирование на отложенной выборке: результаты показывают, что также, как и при валидации, модель Логистической регрессии показала себя наилучшим образом"
   ]
  },
  {
   "cell_type": "markdown",
   "metadata": {},
   "source": [
    "## Выводы"
   ]
  },
  {
   "cell_type": "markdown",
   "metadata": {},
   "source": [
    "Таким образом, были подготовленны несколько моделей машинного обучения для предсказания тональности текста. Для подготовки признаков была использована мера **TF-IDF**. По результатам тестирования наиболее точной показала себя модель **Логистической регрессии**"
   ]
  }
 ],
 "metadata": {
  "ExecuteTimeLog": [
   {
    "duration": 3229,
    "start_time": "2022-04-11T15:19:58.022Z"
   },
   {
    "duration": 61,
    "start_time": "2022-04-11T15:20:05.390Z"
   },
   {
    "duration": 142,
    "start_time": "2022-04-11T15:20:30.207Z"
   },
   {
    "duration": 31,
    "start_time": "2022-04-11T15:20:45.654Z"
   },
   {
    "duration": 87,
    "start_time": "2022-04-11T15:20:51.614Z"
   },
   {
    "duration": 1660,
    "start_time": "2022-04-11T15:20:54.902Z"
   },
   {
    "duration": 14,
    "start_time": "2022-04-11T15:21:00.453Z"
   },
   {
    "duration": 42,
    "start_time": "2022-04-11T15:21:06.644Z"
   },
   {
    "duration": 79,
    "start_time": "2022-04-11T15:21:33.574Z"
   },
   {
    "duration": 5,
    "start_time": "2022-04-11T15:21:52.077Z"
   },
   {
    "duration": 8,
    "start_time": "2022-04-11T15:27:27.942Z"
   },
   {
    "duration": 5,
    "start_time": "2022-04-11T15:27:51.997Z"
   },
   {
    "duration": 80,
    "start_time": "2022-04-11T15:27:58.725Z"
   },
   {
    "duration": 23,
    "start_time": "2022-04-11T15:28:22.688Z"
   },
   {
    "duration": 166,
    "start_time": "2022-04-11T15:28:34.717Z"
   },
   {
    "duration": 5,
    "start_time": "2022-04-11T15:38:16.263Z"
   },
   {
    "duration": 5,
    "start_time": "2022-04-11T15:38:30.064Z"
   },
   {
    "duration": 16,
    "start_time": "2022-04-11T15:38:52.143Z"
   },
   {
    "duration": 539,
    "start_time": "2022-04-11T15:38:57.154Z"
   },
   {
    "duration": 1109,
    "start_time": "2022-04-11T15:39:08.255Z"
   },
   {
    "duration": 585,
    "start_time": "2022-04-11T15:39:12.464Z"
   },
   {
    "duration": 5,
    "start_time": "2022-04-11T15:39:24.975Z"
   },
   {
    "duration": 514,
    "start_time": "2022-04-11T15:39:27.495Z"
   },
   {
    "duration": 5,
    "start_time": "2022-04-11T15:39:42.550Z"
   },
   {
    "duration": 5,
    "start_time": "2022-04-11T15:39:59.785Z"
   },
   {
    "duration": 45740,
    "start_time": "2022-04-11T15:40:00.135Z"
   },
   {
    "duration": 6,
    "start_time": "2022-04-11T15:40:57.016Z"
   },
   {
    "duration": 180009,
    "start_time": "2022-04-11T15:40:57.463Z"
   },
   {
    "duration": 20,
    "start_time": "2022-04-11T15:44:56.817Z"
   },
   {
    "duration": 106,
    "start_time": "2022-04-11T15:48:44.455Z"
   },
   {
    "duration": 3351,
    "start_time": "2022-04-11T15:48:58.321Z"
   },
   {
    "duration": 1842,
    "start_time": "2022-04-11T15:49:01.675Z"
   },
   {
    "duration": 17,
    "start_time": "2022-04-11T15:49:03.520Z"
   },
   {
    "duration": 105,
    "start_time": "2022-04-11T15:49:03.540Z"
   },
   {
    "duration": 6,
    "start_time": "2022-04-11T15:49:03.647Z"
   },
   {
    "duration": 296,
    "start_time": "2022-04-11T15:49:03.655Z"
   },
   {
    "duration": 5,
    "start_time": "2022-04-11T15:49:03.953Z"
   },
   {
    "duration": 793,
    "start_time": "2022-04-11T15:49:03.973Z"
   },
   {
    "duration": 1993,
    "start_time": "2022-04-11T15:49:16.058Z"
   },
   {
    "duration": 6,
    "start_time": "2022-04-11T15:49:23.423Z"
   },
   {
    "duration": 181399,
    "start_time": "2022-04-11T15:49:24.248Z"
   },
   {
    "duration": 2452,
    "start_time": "2022-04-11T15:52:25.650Z"
   },
   {
    "duration": 5,
    "start_time": "2022-04-11T15:54:16.065Z"
   },
   {
    "duration": 5,
    "start_time": "2022-04-11T15:54:19.449Z"
   },
   {
    "duration": 218,
    "start_time": "2022-04-11T15:57:45.338Z"
   },
   {
    "duration": 8,
    "start_time": "2022-04-11T15:57:53.698Z"
   },
   {
    "duration": 16,
    "start_time": "2022-04-11T16:05:09.378Z"
   },
   {
    "duration": 10,
    "start_time": "2022-04-11T16:05:27.040Z"
   },
   {
    "duration": 18886,
    "start_time": "2022-04-11T16:06:03.304Z"
   },
   {
    "duration": 18518,
    "start_time": "2022-04-11T16:06:45.378Z"
   },
   {
    "duration": 6,
    "start_time": "2022-04-11T16:07:07.696Z"
   },
   {
    "duration": 127,
    "start_time": "2022-04-11T16:07:10.194Z"
   },
   {
    "duration": 6,
    "start_time": "2022-04-11T16:07:13.605Z"
   },
   {
    "duration": 13,
    "start_time": "2022-04-11T16:07:17.520Z"
   },
   {
    "duration": 6,
    "start_time": "2022-04-11T16:07:21.095Z"
   },
   {
    "duration": 77,
    "start_time": "2022-04-11T16:09:02.445Z"
   },
   {
    "duration": 9,
    "start_time": "2022-04-11T16:09:13.585Z"
   },
   {
    "duration": 3020,
    "start_time": "2022-04-11T16:09:20.721Z"
   },
   {
    "duration": 1864,
    "start_time": "2022-04-11T16:09:26.265Z"
   },
   {
    "duration": 16,
    "start_time": "2022-04-11T16:09:28.131Z"
   },
   {
    "duration": 102,
    "start_time": "2022-04-11T16:09:28.149Z"
   },
   {
    "duration": 21,
    "start_time": "2022-04-11T16:09:28.255Z"
   },
   {
    "duration": 260,
    "start_time": "2022-04-11T16:09:28.434Z"
   },
   {
    "duration": 5,
    "start_time": "2022-04-11T16:09:28.961Z"
   },
   {
    "duration": 10715,
    "start_time": "2022-04-11T16:09:29.858Z"
   },
   {
    "duration": 0,
    "start_time": "2022-04-11T16:09:40.576Z"
   },
   {
    "duration": 0,
    "start_time": "2022-04-11T16:09:40.581Z"
   },
   {
    "duration": 0,
    "start_time": "2022-04-11T16:09:40.583Z"
   },
   {
    "duration": 2480,
    "start_time": "2022-04-11T16:10:01.812Z"
   },
   {
    "duration": 1010,
    "start_time": "2022-04-11T16:10:04.295Z"
   },
   {
    "duration": 16,
    "start_time": "2022-04-11T16:10:05.307Z"
   },
   {
    "duration": 120,
    "start_time": "2022-04-11T16:10:05.326Z"
   },
   {
    "duration": 5,
    "start_time": "2022-04-11T16:10:05.448Z"
   },
   {
    "duration": 321,
    "start_time": "2022-04-11T16:10:05.455Z"
   },
   {
    "duration": 5,
    "start_time": "2022-04-11T16:10:05.779Z"
   },
   {
    "duration": 175295,
    "start_time": "2022-04-11T16:10:08.700Z"
   },
   {
    "duration": 2505,
    "start_time": "2022-04-11T16:13:03.998Z"
   },
   {
    "duration": 11,
    "start_time": "2022-04-11T16:13:06.505Z"
   },
   {
    "duration": 3217,
    "start_time": "2022-04-11T16:15:45.776Z"
   },
   {
    "duration": 1872,
    "start_time": "2022-04-11T16:15:48.996Z"
   },
   {
    "duration": 22,
    "start_time": "2022-04-11T16:15:50.873Z"
   },
   {
    "duration": 103,
    "start_time": "2022-04-11T16:15:50.898Z"
   },
   {
    "duration": 16,
    "start_time": "2022-04-11T16:15:51.004Z"
   },
   {
    "duration": 340,
    "start_time": "2022-04-11T16:15:51.023Z"
   },
   {
    "duration": 7,
    "start_time": "2022-04-11T16:15:51.375Z"
   },
   {
    "duration": 181163,
    "start_time": "2022-04-11T16:15:51.385Z"
   },
   {
    "duration": 2522,
    "start_time": "2022-04-11T16:18:52.551Z"
   },
   {
    "duration": 26,
    "start_time": "2022-04-11T16:18:55.076Z"
   },
   {
    "duration": 77,
    "start_time": "2022-04-11T16:20:11.769Z"
   },
   {
    "duration": 3360,
    "start_time": "2022-04-11T16:21:08.262Z"
   },
   {
    "duration": 1755,
    "start_time": "2022-04-11T16:21:11.625Z"
   },
   {
    "duration": 16,
    "start_time": "2022-04-11T16:21:13.386Z"
   },
   {
    "duration": 104,
    "start_time": "2022-04-11T16:21:13.406Z"
   },
   {
    "duration": 5,
    "start_time": "2022-04-11T16:21:13.513Z"
   },
   {
    "duration": 275,
    "start_time": "2022-04-11T16:21:13.521Z"
   },
   {
    "duration": 6,
    "start_time": "2022-04-11T16:21:13.799Z"
   },
   {
    "duration": 177776,
    "start_time": "2022-04-11T16:21:13.808Z"
   },
   {
    "duration": 7,
    "start_time": "2022-04-11T16:24:11.589Z"
   },
   {
    "duration": 74,
    "start_time": "2022-04-11T16:24:11.600Z"
   },
   {
    "duration": 18,
    "start_time": "2022-04-11T16:26:24.435Z"
   },
   {
    "duration": 8,
    "start_time": "2022-04-11T16:27:26.714Z"
   },
   {
    "duration": 14111,
    "start_time": "2022-04-11T16:28:31.979Z"
   },
   {
    "duration": 5,
    "start_time": "2022-04-11T16:29:18.335Z"
   },
   {
    "duration": 6,
    "start_time": "2022-04-11T16:29:24.304Z"
   },
   {
    "duration": 6,
    "start_time": "2022-04-11T16:29:29.285Z"
   },
   {
    "duration": 5,
    "start_time": "2022-04-11T16:29:35.787Z"
   },
   {
    "duration": 8,
    "start_time": "2022-04-11T16:29:40.727Z"
   },
   {
    "duration": 195,
    "start_time": "2022-04-11T16:30:07.256Z"
   },
   {
    "duration": 3,
    "start_time": "2022-04-11T16:30:12.360Z"
   },
   {
    "duration": 13,
    "start_time": "2022-04-11T16:30:32.832Z"
   },
   {
    "duration": 3,
    "start_time": "2022-04-11T16:30:36.152Z"
   },
   {
    "duration": 3,
    "start_time": "2022-04-11T16:31:00.832Z"
   },
   {
    "duration": 3,
    "start_time": "2022-04-11T16:31:30.240Z"
   },
   {
    "duration": 4,
    "start_time": "2022-04-11T16:31:32.352Z"
   },
   {
    "duration": 15,
    "start_time": "2022-04-11T16:31:51.196Z"
   },
   {
    "duration": 52626,
    "start_time": "2022-04-11T16:32:49.808Z"
   },
   {
    "duration": 296053,
    "start_time": "2022-04-11T16:33:45.442Z"
   },
   {
    "duration": 2970,
    "start_time": "2022-04-12T11:24:11.852Z"
   },
   {
    "duration": 10409,
    "start_time": "2022-04-12T11:24:14.826Z"
   },
   {
    "duration": 15,
    "start_time": "2022-04-12T11:24:25.237Z"
   },
   {
    "duration": 100,
    "start_time": "2022-04-12T11:24:25.257Z"
   },
   {
    "duration": 6,
    "start_time": "2022-04-12T11:24:25.359Z"
   },
   {
    "duration": 279,
    "start_time": "2022-04-12T11:24:25.368Z"
   },
   {
    "duration": 5,
    "start_time": "2022-04-12T11:24:25.649Z"
   },
   {
    "duration": 173164,
    "start_time": "2022-04-12T11:24:25.656Z"
   },
   {
    "duration": 4,
    "start_time": "2022-04-12T11:27:18.823Z"
   },
   {
    "duration": 77,
    "start_time": "2022-04-12T11:27:18.830Z"
   },
   {
    "duration": 8,
    "start_time": "2022-04-12T11:27:18.910Z"
   },
   {
    "duration": 11717,
    "start_time": "2022-04-12T11:27:18.921Z"
   },
   {
    "duration": 3,
    "start_time": "2022-04-12T11:27:30.640Z"
   },
   {
    "duration": 35,
    "start_time": "2022-04-12T11:27:30.645Z"
   },
   {
    "duration": 2612,
    "start_time": "2022-04-12T11:31:55.743Z"
   },
   {
    "duration": 1234,
    "start_time": "2022-04-12T11:31:58.358Z"
   },
   {
    "duration": 21,
    "start_time": "2022-04-12T11:31:59.595Z"
   },
   {
    "duration": 134,
    "start_time": "2022-04-12T11:31:59.619Z"
   },
   {
    "duration": 7,
    "start_time": "2022-04-12T11:31:59.757Z"
   },
   {
    "duration": 443,
    "start_time": "2022-04-12T11:31:59.768Z"
   },
   {
    "duration": 7,
    "start_time": "2022-04-12T11:32:00.214Z"
   },
   {
    "duration": 175445,
    "start_time": "2022-04-12T11:32:00.223Z"
   },
   {
    "duration": 67,
    "start_time": "2022-04-12T11:34:55.672Z"
   },
   {
    "duration": 7,
    "start_time": "2022-04-12T11:34:55.741Z"
   },
   {
    "duration": 12934,
    "start_time": "2022-04-12T11:34:55.750Z"
   },
   {
    "duration": 7,
    "start_time": "2022-04-12T11:35:08.687Z"
   },
   {
    "duration": 269511,
    "start_time": "2022-04-12T11:35:08.696Z"
   },
   {
    "duration": 6,
    "start_time": "2022-04-12T11:40:20.175Z"
   },
   {
    "duration": 234,
    "start_time": "2022-04-12T11:42:02.892Z"
   },
   {
    "duration": 6,
    "start_time": "2022-04-12T11:42:28.820Z"
   },
   {
    "duration": 15,
    "start_time": "2022-04-12T11:42:41.996Z"
   },
   {
    "duration": 13,
    "start_time": "2022-04-12T11:42:43.684Z"
   },
   {
    "duration": 15,
    "start_time": "2022-04-12T11:42:47.924Z"
   },
   {
    "duration": 15,
    "start_time": "2022-04-12T11:43:06.014Z"
   },
   {
    "duration": 6,
    "start_time": "2022-04-12T11:43:11.884Z"
   },
   {
    "duration": 7,
    "start_time": "2022-04-12T11:43:14.812Z"
   },
   {
    "duration": 6,
    "start_time": "2022-04-12T11:43:17.749Z"
   },
   {
    "duration": 2895,
    "start_time": "2022-04-12T11:44:50.732Z"
   },
   {
    "duration": 16,
    "start_time": "2022-04-12T11:45:01.357Z"
   },
   {
    "duration": 3,
    "start_time": "2022-04-12T11:45:06.781Z"
   },
   {
    "duration": 7,
    "start_time": "2022-04-12T11:45:10.508Z"
   },
   {
    "duration": 43,
    "start_time": "2022-04-12T11:45:31.895Z"
   },
   {
    "duration": 4,
    "start_time": "2022-04-12T11:46:07.019Z"
   },
   {
    "duration": 6,
    "start_time": "2022-04-12T11:46:08.341Z"
   },
   {
    "duration": 67,
    "start_time": "2022-04-12T11:46:09.333Z"
   },
   {
    "duration": 12,
    "start_time": "2022-04-12T11:46:18.231Z"
   },
   {
    "duration": 12,
    "start_time": "2022-04-12T11:46:21.231Z"
   },
   {
    "duration": 7,
    "start_time": "2022-04-12T11:46:46.581Z"
   },
   {
    "duration": 12554,
    "start_time": "2022-04-12T11:47:04.765Z"
   },
   {
    "duration": 7,
    "start_time": "2022-04-12T11:47:35.797Z"
   },
   {
    "duration": 4,
    "start_time": "2022-04-12T11:47:40.817Z"
   },
   {
    "duration": 252528,
    "start_time": "2022-04-12T11:47:53.725Z"
   },
   {
    "duration": 6,
    "start_time": "2022-04-12T11:52:42.728Z"
   },
   {
    "duration": 13,
    "start_time": "2022-04-12T11:52:57.023Z"
   },
   {
    "duration": 34,
    "start_time": "2022-04-12T11:53:02.800Z"
   },
   {
    "duration": 7,
    "start_time": "2022-04-12T11:53:31.887Z"
   },
   {
    "duration": 32,
    "start_time": "2022-04-12T11:53:32.048Z"
   },
   {
    "duration": 159,
    "start_time": "2022-04-12T11:53:37.632Z"
   },
   {
    "duration": 30,
    "start_time": "2022-04-12T11:53:40.887Z"
   },
   {
    "duration": 6,
    "start_time": "2022-04-12T11:54:22.735Z"
   },
   {
    "duration": 31,
    "start_time": "2022-04-12T11:54:23.183Z"
   },
   {
    "duration": 7,
    "start_time": "2022-04-12T11:54:57.351Z"
   },
   {
    "duration": 125,
    "start_time": "2022-04-12T11:54:57.735Z"
   },
   {
    "duration": 8,
    "start_time": "2022-04-12T11:55:03.886Z"
   },
   {
    "duration": 8,
    "start_time": "2022-04-12T11:55:10.079Z"
   },
   {
    "duration": 10,
    "start_time": "2022-04-12T11:55:15.751Z"
   },
   {
    "duration": 489,
    "start_time": "2022-04-12T11:55:21.975Z"
   },
   {
    "duration": 34,
    "start_time": "2022-04-12T11:55:22.467Z"
   },
   {
    "duration": 56,
    "start_time": "2022-04-12T11:56:12.663Z"
   },
   {
    "duration": 8,
    "start_time": "2022-04-12T11:56:13.207Z"
   },
   {
    "duration": 68,
    "start_time": "2022-04-12T11:56:17.287Z"
   },
   {
    "duration": 8,
    "start_time": "2022-04-12T11:56:17.447Z"
   },
   {
    "duration": 78,
    "start_time": "2022-04-12T11:56:20.864Z"
   },
   {
    "duration": 8,
    "start_time": "2022-04-12T11:56:21.022Z"
   },
   {
    "duration": 36,
    "start_time": "2022-04-12T11:56:25.039Z"
   },
   {
    "duration": 9,
    "start_time": "2022-04-12T11:56:25.359Z"
   },
   {
    "duration": 30,
    "start_time": "2022-04-12T11:56:28.647Z"
   },
   {
    "duration": 9,
    "start_time": "2022-04-12T11:56:29.215Z"
   },
   {
    "duration": 28,
    "start_time": "2022-04-12T11:56:33.143Z"
   },
   {
    "duration": 7,
    "start_time": "2022-04-12T11:56:33.303Z"
   },
   {
    "duration": 29,
    "start_time": "2022-04-12T11:56:36.334Z"
   },
   {
    "duration": 7,
    "start_time": "2022-04-12T11:56:36.678Z"
   },
   {
    "duration": 30,
    "start_time": "2022-04-12T11:56:49.129Z"
   },
   {
    "duration": 4,
    "start_time": "2022-04-12T11:56:52.791Z"
   },
   {
    "duration": 30,
    "start_time": "2022-04-12T11:56:53.718Z"
   },
   {
    "duration": 8,
    "start_time": "2022-04-12T11:57:00.383Z"
   },
   {
    "duration": 25,
    "start_time": "2022-04-12T11:57:08.583Z"
   },
   {
    "duration": 14,
    "start_time": "2022-04-12T11:57:40.480Z"
   },
   {
    "duration": 20,
    "start_time": "2022-04-12T11:57:45.712Z"
   },
   {
    "duration": 11,
    "start_time": "2022-04-12T11:57:53.238Z"
   },
   {
    "duration": 37,
    "start_time": "2022-04-12T11:57:53.485Z"
   },
   {
    "duration": 8,
    "start_time": "2022-04-12T11:57:56.783Z"
   },
   {
    "duration": 10917,
    "start_time": "2022-04-12T11:58:05.463Z"
   },
   {
    "duration": 1700,
    "start_time": "2022-04-12T11:58:20.993Z"
   },
   {
    "duration": 99013,
    "start_time": "2022-04-12T11:58:25.486Z"
   },
   {
    "duration": 2364,
    "start_time": "2022-04-12T12:01:33.773Z"
   },
   {
    "duration": 878,
    "start_time": "2022-04-12T12:01:41.678Z"
   },
   {
    "duration": 15,
    "start_time": "2022-04-12T12:01:42.959Z"
   },
   {
    "duration": 81,
    "start_time": "2022-04-12T12:01:43.846Z"
   },
   {
    "duration": 5,
    "start_time": "2022-04-12T12:01:44.854Z"
   },
   {
    "duration": 237,
    "start_time": "2022-04-12T12:01:47.014Z"
   },
   {
    "duration": 5,
    "start_time": "2022-04-12T12:01:51.343Z"
   },
   {
    "duration": 20214,
    "start_time": "2022-04-12T12:01:56.391Z"
   },
   {
    "duration": 2377,
    "start_time": "2022-04-12T12:03:54.149Z"
   },
   {
    "duration": 900,
    "start_time": "2022-04-12T12:03:56.529Z"
   },
   {
    "duration": 15,
    "start_time": "2022-04-12T12:03:58.301Z"
   },
   {
    "duration": 78,
    "start_time": "2022-04-12T12:03:58.845Z"
   },
   {
    "duration": 7,
    "start_time": "2022-04-12T12:03:59.669Z"
   },
   {
    "duration": 339,
    "start_time": "2022-04-12T12:04:00.309Z"
   },
   {
    "duration": 6,
    "start_time": "2022-04-12T12:04:00.982Z"
   },
   {
    "duration": 163836,
    "start_time": "2022-04-12T12:04:03.117Z"
   },
   {
    "duration": 7,
    "start_time": "2022-04-12T12:06:46.957Z"
   },
   {
    "duration": 37,
    "start_time": "2022-04-12T12:06:53.926Z"
   },
   {
    "duration": 37,
    "start_time": "2022-04-12T12:07:11.054Z"
   },
   {
    "duration": 6,
    "start_time": "2022-04-12T12:07:17.951Z"
   },
   {
    "duration": 181,
    "start_time": "2022-04-12T12:07:25.702Z"
   },
   {
    "duration": 13647,
    "start_time": "2022-04-12T12:08:19.542Z"
   },
   {
    "duration": 4,
    "start_time": "2022-04-12T12:10:56.143Z"
   },
   {
    "duration": 7,
    "start_time": "2022-04-12T12:12:45.648Z"
   },
   {
    "duration": 66799,
    "start_time": "2022-04-12T12:13:02.615Z"
   },
   {
    "duration": 25,
    "start_time": "2022-04-12T12:14:27.806Z"
   },
   {
    "duration": 21572,
    "start_time": "2022-04-12T12:14:50.134Z"
   },
   {
    "duration": 7,
    "start_time": "2022-04-12T12:15:28.982Z"
   },
   {
    "duration": 19702,
    "start_time": "2022-04-12T12:15:41.998Z"
   },
   {
    "duration": 15,
    "start_time": "2022-04-12T12:16:19.824Z"
   },
   {
    "duration": 5,
    "start_time": "2022-04-12T12:16:30.575Z"
   },
   {
    "duration": 19,
    "start_time": "2022-04-12T12:16:49.968Z"
   },
   {
    "duration": 5,
    "start_time": "2022-04-12T12:16:57.143Z"
   },
   {
    "duration": 2489,
    "start_time": "2022-04-12T12:21:00.193Z"
   },
   {
    "duration": 925,
    "start_time": "2022-04-12T12:21:02.685Z"
   },
   {
    "duration": 15,
    "start_time": "2022-04-12T12:21:03.612Z"
   },
   {
    "duration": 98,
    "start_time": "2022-04-12T12:21:03.629Z"
   },
   {
    "duration": 4,
    "start_time": "2022-04-12T12:21:03.731Z"
   },
   {
    "duration": 269,
    "start_time": "2022-04-12T12:21:03.738Z"
   },
   {
    "duration": 6,
    "start_time": "2022-04-12T12:21:04.010Z"
   },
   {
    "duration": 199746,
    "start_time": "2022-04-12T12:21:04.018Z"
   },
   {
    "duration": 9,
    "start_time": "2022-04-12T12:24:23.769Z"
   },
   {
    "duration": 22,
    "start_time": "2022-04-12T12:24:23.781Z"
   },
   {
    "duration": 70,
    "start_time": "2022-04-12T12:24:23.806Z"
   },
   {
    "duration": 237,
    "start_time": "2022-04-12T12:24:23.879Z"
   },
   {
    "duration": 0,
    "start_time": "2022-04-12T12:24:24.119Z"
   },
   {
    "duration": 0,
    "start_time": "2022-04-12T12:24:24.121Z"
   },
   {
    "duration": 0,
    "start_time": "2022-04-12T12:24:24.122Z"
   },
   {
    "duration": 0,
    "start_time": "2022-04-12T12:24:24.124Z"
   },
   {
    "duration": 0,
    "start_time": "2022-04-12T12:24:24.126Z"
   },
   {
    "duration": 0,
    "start_time": "2022-04-12T12:24:24.127Z"
   },
   {
    "duration": 0,
    "start_time": "2022-04-12T12:24:24.128Z"
   },
   {
    "duration": 0,
    "start_time": "2022-04-12T12:24:24.130Z"
   },
   {
    "duration": 0,
    "start_time": "2022-04-12T12:24:24.131Z"
   },
   {
    "duration": 0,
    "start_time": "2022-04-12T12:24:24.133Z"
   },
   {
    "duration": 0,
    "start_time": "2022-04-12T12:24:24.134Z"
   },
   {
    "duration": 0,
    "start_time": "2022-04-12T12:24:24.135Z"
   },
   {
    "duration": 86,
    "start_time": "2022-04-12T12:26:05.628Z"
   },
   {
    "duration": 6,
    "start_time": "2022-04-12T12:26:08.660Z"
   },
   {
    "duration": 14177,
    "start_time": "2022-04-12T12:26:09.171Z"
   },
   {
    "duration": 4,
    "start_time": "2022-04-12T12:26:23.351Z"
   },
   {
    "duration": 96373,
    "start_time": "2022-04-12T12:26:23.357Z"
   },
   {
    "duration": 0,
    "start_time": "2022-04-12T12:27:59.735Z"
   },
   {
    "duration": 0,
    "start_time": "2022-04-12T12:27:59.738Z"
   },
   {
    "duration": 0,
    "start_time": "2022-04-12T12:27:59.740Z"
   },
   {
    "duration": 0,
    "start_time": "2022-04-12T12:27:59.742Z"
   },
   {
    "duration": 0,
    "start_time": "2022-04-12T12:27:59.745Z"
   },
   {
    "duration": 0,
    "start_time": "2022-04-12T12:27:59.746Z"
   },
   {
    "duration": 4,
    "start_time": "2022-04-12T12:28:04.328Z"
   },
   {
    "duration": 74899,
    "start_time": "2022-04-12T12:28:05.496Z"
   },
   {
    "duration": 18808,
    "start_time": "2022-04-12T12:29:20.399Z"
   },
   {
    "duration": 97,
    "start_time": "2022-04-12T12:29:39.218Z"
   },
   {
    "duration": 0,
    "start_time": "2022-04-12T12:29:39.318Z"
   },
   {
    "duration": 752,
    "start_time": "2022-04-12T12:30:20.150Z"
   },
   {
    "duration": 5,
    "start_time": "2022-04-12T12:30:28.717Z"
   },
   {
    "duration": 12,
    "start_time": "2022-04-12T12:30:43.172Z"
   },
   {
    "duration": 26,
    "start_time": "2022-04-12T12:31:01.517Z"
   },
   {
    "duration": 7,
    "start_time": "2022-04-12T12:31:12.005Z"
   },
   {
    "duration": 49499,
    "start_time": "2022-04-12T12:37:44.082Z"
   },
   {
    "duration": 0,
    "start_time": "2022-04-12T12:38:33.664Z"
   },
   {
    "duration": 5,
    "start_time": "2022-04-12T12:39:25.471Z"
   },
   {
    "duration": 5,
    "start_time": "2022-04-12T12:40:18.263Z"
   },
   {
    "duration": 13,
    "start_time": "2022-04-12T12:43:16.935Z"
   },
   {
    "duration": 4,
    "start_time": "2022-04-12T12:44:14.221Z"
   },
   {
    "duration": 5,
    "start_time": "2022-04-12T12:44:15.917Z"
   },
   {
    "duration": 17,
    "start_time": "2022-04-12T12:44:22.996Z"
   },
   {
    "duration": 2538,
    "start_time": "2022-04-12T12:44:28.894Z"
   },
   {
    "duration": 5,
    "start_time": "2022-04-12T12:47:19.165Z"
   },
   {
    "duration": 4,
    "start_time": "2022-04-12T12:47:20.414Z"
   },
   {
    "duration": 3063,
    "start_time": "2022-04-12T12:48:51.553Z"
   },
   {
    "duration": 1053,
    "start_time": "2022-04-12T12:48:54.619Z"
   },
   {
    "duration": 24,
    "start_time": "2022-04-12T12:48:55.675Z"
   },
   {
    "duration": 97,
    "start_time": "2022-04-12T12:48:55.702Z"
   },
   {
    "duration": 5,
    "start_time": "2022-04-12T12:48:55.801Z"
   },
   {
    "duration": 273,
    "start_time": "2022-04-12T12:48:55.809Z"
   },
   {
    "duration": 15,
    "start_time": "2022-04-12T12:48:56.085Z"
   },
   {
    "duration": 9,
    "start_time": "2022-04-12T12:48:56.103Z"
   },
   {
    "duration": 200013,
    "start_time": "2022-04-12T12:48:56.115Z"
   },
   {
    "duration": 6,
    "start_time": "2022-04-12T12:52:16.132Z"
   },
   {
    "duration": 23,
    "start_time": "2022-04-12T12:52:16.141Z"
   },
   {
    "duration": 55,
    "start_time": "2022-04-12T12:52:16.168Z"
   },
   {
    "duration": 86,
    "start_time": "2022-04-12T12:52:16.226Z"
   },
   {
    "duration": 3,
    "start_time": "2022-04-12T12:52:16.315Z"
   },
   {
    "duration": 9,
    "start_time": "2022-04-12T12:52:16.321Z"
   },
   {
    "duration": 13,
    "start_time": "2022-04-12T12:52:16.333Z"
   },
   {
    "duration": 14594,
    "start_time": "2022-04-12T12:52:16.349Z"
   },
   {
    "duration": 441,
    "start_time": "2022-04-12T12:52:30.945Z"
   },
   {
    "duration": 5,
    "start_time": "2022-04-12T12:52:31.389Z"
   },
   {
    "duration": 85534,
    "start_time": "2022-04-12T12:52:31.396Z"
   },
   {
    "duration": 5,
    "start_time": "2022-04-12T12:54:07.750Z"
   },
   {
    "duration": 4,
    "start_time": "2022-04-12T12:54:32.206Z"
   },
   {
    "duration": 19,
    "start_time": "2022-04-12T12:54:32.878Z"
   },
   {
    "duration": 5,
    "start_time": "2022-04-12T12:55:07.223Z"
   },
   {
    "duration": 2621,
    "start_time": "2022-04-12T12:55:07.415Z"
   },
   {
    "duration": 4,
    "start_time": "2022-04-12T12:55:23.142Z"
   },
   {
    "duration": 2971,
    "start_time": "2022-04-12T12:55:23.550Z"
   },
   {
    "duration": 10,
    "start_time": "2022-04-12T12:57:21.910Z"
   },
   {
    "duration": 9,
    "start_time": "2022-04-12T12:57:25.295Z"
   },
   {
    "duration": 7,
    "start_time": "2022-04-12T12:57:30.903Z"
   },
   {
    "duration": 11,
    "start_time": "2022-04-12T12:57:36.583Z"
   },
   {
    "duration": 10,
    "start_time": "2022-04-12T12:57:39.807Z"
   },
   {
    "duration": 4,
    "start_time": "2022-04-12T12:58:33.390Z"
   },
   {
    "duration": 2943,
    "start_time": "2022-04-12T12:58:33.959Z"
   },
   {
    "duration": 4,
    "start_time": "2022-04-12T12:58:44.965Z"
   },
   {
    "duration": 0,
    "start_time": "2022-04-12T13:00:07.856Z"
   },
   {
    "duration": 0,
    "start_time": "2022-04-12T13:00:07.859Z"
   },
   {
    "duration": 5,
    "start_time": "2022-04-12T13:00:34.386Z"
   },
   {
    "duration": 940930,
    "start_time": "2022-04-12T13:00:37.218Z"
   },
   {
    "duration": 554,
    "start_time": "2022-04-12T13:42:21.086Z"
   },
   {
    "duration": 508,
    "start_time": "2022-04-12T13:42:27.306Z"
   },
   {
    "duration": 17,
    "start_time": "2022-04-12T13:42:41.555Z"
   },
   {
    "duration": 5,
    "start_time": "2022-04-12T13:43:09.650Z"
   },
   {
    "duration": 16,
    "start_time": "2022-04-12T13:43:17.081Z"
   },
   {
    "duration": 4,
    "start_time": "2022-04-12T13:43:46.993Z"
   },
   {
    "duration": 5,
    "start_time": "2022-04-12T13:43:50.600Z"
   },
   {
    "duration": 5,
    "start_time": "2022-04-12T13:43:53.688Z"
   },
   {
    "duration": 5,
    "start_time": "2022-04-12T13:43:54.040Z"
   },
   {
    "duration": 435519,
    "start_time": "2022-04-12T13:43:55.353Z"
   },
   {
    "duration": 5,
    "start_time": "2022-04-12T13:51:53.434Z"
   },
   {
    "duration": 16973817,
    "start_time": "2022-04-12T13:51:54.257Z"
   },
   {
    "duration": 0,
    "start_time": "2022-04-12T18:34:48.077Z"
   },
   {
    "duration": 0,
    "start_time": "2022-04-12T18:34:48.082Z"
   },
   {
    "duration": 12,
    "start_time": "2022-04-12T18:34:53.221Z"
   },
   {
    "duration": 5,
    "start_time": "2022-04-12T18:35:52.294Z"
   },
   {
    "duration": 30,
    "start_time": "2022-04-12T18:35:59.654Z"
   },
   {
    "duration": 8,
    "start_time": "2022-04-12T18:36:22.536Z"
   },
   {
    "duration": 3,
    "start_time": "2022-04-12T18:36:23.527Z"
   },
   {
    "duration": 5,
    "start_time": "2022-04-12T18:36:24.255Z"
   },
   {
    "duration": 25,
    "start_time": "2022-04-12T18:36:24.894Z"
   },
   {
    "duration": 6,
    "start_time": "2022-04-12T18:36:39.869Z"
   },
   {
    "duration": 4,
    "start_time": "2022-04-12T18:36:40.190Z"
   },
   {
    "duration": 5,
    "start_time": "2022-04-12T18:36:40.445Z"
   },
   {
    "duration": 24,
    "start_time": "2022-04-12T18:36:40.830Z"
   },
   {
    "duration": 6,
    "start_time": "2022-04-12T18:36:56.142Z"
   },
   {
    "duration": 23,
    "start_time": "2022-04-12T18:36:56.670Z"
   },
   {
    "duration": 5,
    "start_time": "2022-04-12T18:37:09.927Z"
   },
   {
    "duration": 25432,
    "start_time": "2022-04-12T18:37:10.119Z"
   },
   {
    "duration": 10,
    "start_time": "2022-04-12T18:37:50.311Z"
   },
   {
    "duration": 24,
    "start_time": "2022-04-12T18:37:50.846Z"
   },
   {
    "duration": 9,
    "start_time": "2022-04-12T18:37:59.550Z"
   },
   {
    "duration": 3041290,
    "start_time": "2022-04-12T18:37:59.902Z"
   },
   {
    "duration": 4,
    "start_time": "2022-04-12T19:28:45.395Z"
   },
   {
    "duration": 5,
    "start_time": "2022-04-12T19:28:45.875Z"
   },
   {
    "duration": 10,
    "start_time": "2022-04-12T19:28:47.402Z"
   },
   {
    "duration": 2215,
    "start_time": "2022-04-12T19:28:48.650Z"
   },
   {
    "duration": 5,
    "start_time": "2022-04-12T19:29:04.043Z"
   },
   {
    "duration": 11,
    "start_time": "2022-04-12T19:29:04.362Z"
   },
   {
    "duration": 2040,
    "start_time": "2022-04-12T19:29:04.547Z"
   },
   {
    "duration": 6,
    "start_time": "2022-04-12T19:29:10.195Z"
   },
   {
    "duration": 11,
    "start_time": "2022-04-12T19:29:10.410Z"
   },
   {
    "duration": 5162420,
    "start_time": "2022-04-12T19:29:10.634Z"
   },
   {
    "duration": 4,
    "start_time": "2022-04-12T20:55:13.057Z"
   },
   {
    "duration": 9,
    "start_time": "2022-04-12T20:55:13.063Z"
   },
   {
    "duration": 5,
    "start_time": "2022-04-12T21:38:25.688Z"
   },
   {
    "duration": 67468,
    "start_time": "2022-04-12T21:38:58.488Z"
   },
   {
    "duration": 459,
    "start_time": "2022-04-12T21:40:10.751Z"
   },
   {
    "duration": 6,
    "start_time": "2022-04-12T21:40:17.896Z"
   },
   {
    "duration": 16,
    "start_time": "2022-04-12T21:40:41.926Z"
   },
   {
    "duration": 63612,
    "start_time": "2022-04-13T14:34:31.332Z"
   },
   {
    "duration": 16029,
    "start_time": "2022-04-13T14:35:38.343Z"
   },
   {
    "duration": 0,
    "start_time": "2022-04-13T14:37:36.663Z"
   },
   {
    "duration": 0,
    "start_time": "2022-04-13T14:40:18.299Z"
   },
   {
    "duration": 3,
    "start_time": "2022-04-13T14:40:24.220Z"
   },
   {
    "duration": 4,
    "start_time": "2022-04-13T14:40:30.533Z"
   },
   {
    "duration": 3,
    "start_time": "2022-04-13T14:40:35.837Z"
   },
   {
    "duration": 7,
    "start_time": "2022-04-13T14:40:43.013Z"
   },
   {
    "duration": 5,
    "start_time": "2022-04-13T14:40:46.964Z"
   },
   {
    "duration": 82714,
    "start_time": "2022-04-13T14:40:55.357Z"
   },
   {
    "duration": 4,
    "start_time": "2022-04-13T14:42:28.242Z"
   },
   {
    "duration": 80222,
    "start_time": "2022-04-13T14:42:29.172Z"
   },
   {
    "duration": 2,
    "start_time": "2022-04-13T14:43:52.159Z"
   },
   {
    "duration": 2313,
    "start_time": "2022-04-13T14:43:58.372Z"
   },
   {
    "duration": 116,
    "start_time": "2022-04-13T14:44:35.596Z"
   },
   {
    "duration": 156,
    "start_time": "2022-04-13T14:44:40.924Z"
   },
   {
    "duration": 4,
    "start_time": "2022-04-13T14:44:45.068Z"
   },
   {
    "duration": 753,
    "start_time": "2022-04-13T14:44:46.027Z"
   },
   {
    "duration": 10,
    "start_time": "2022-04-13T14:44:49.308Z"
   },
   {
    "duration": 59,
    "start_time": "2022-04-13T14:44:49.884Z"
   },
   {
    "duration": 3,
    "start_time": "2022-04-13T14:44:50.684Z"
   },
   {
    "duration": 166,
    "start_time": "2022-04-13T14:44:52.084Z"
   },
   {
    "duration": 8,
    "start_time": "2022-04-13T14:44:53.683Z"
   },
   {
    "duration": 7,
    "start_time": "2022-04-13T14:44:54.348Z"
   },
   {
    "duration": 4,
    "start_time": "2022-04-13T14:44:55.564Z"
   },
   {
    "duration": 99011,
    "start_time": "2022-04-13T14:44:56.427Z"
   },
   {
    "duration": 5,
    "start_time": "2022-04-13T14:47:00.116Z"
   },
   {
    "duration": 3,
    "start_time": "2022-04-13T14:47:01.172Z"
   },
   {
    "duration": 31,
    "start_time": "2022-04-13T14:47:01.647Z"
   },
   {
    "duration": 32,
    "start_time": "2022-04-13T14:47:02.380Z"
   },
   {
    "duration": 2,
    "start_time": "2022-04-13T14:47:05.284Z"
   },
   {
    "duration": 2,
    "start_time": "2022-04-13T14:47:05.507Z"
   },
   {
    "duration": 5,
    "start_time": "2022-04-13T14:47:05.828Z"
   },
   {
    "duration": 8746,
    "start_time": "2022-04-13T14:47:06.588Z"
   },
   {
    "duration": 262,
    "start_time": "2022-04-13T14:47:16.315Z"
   },
   {
    "duration": 3,
    "start_time": "2022-04-13T14:47:18.579Z"
   },
   {
    "duration": 184426,
    "start_time": "2022-04-13T14:47:21.643Z"
   },
   {
    "duration": 0,
    "start_time": "2022-04-13T14:50:26.071Z"
   },
   {
    "duration": 3,
    "start_time": "2022-04-13T14:50:31.747Z"
   },
   {
    "duration": 4757,
    "start_time": "2022-04-13T14:50:33.379Z"
   },
   {
    "duration": 3,
    "start_time": "2022-04-13T14:50:43.172Z"
   },
   {
    "duration": 41412,
    "start_time": "2022-04-13T14:50:48.045Z"
   },
   {
    "duration": 9,
    "start_time": "2022-04-13T14:51:36.420Z"
   },
   {
    "duration": 89,
    "start_time": "2022-04-13T14:52:06.436Z"
   },
   {
    "duration": 4,
    "start_time": "2022-04-13T14:52:12.077Z"
   },
   {
    "duration": 24,
    "start_time": "2022-04-13T14:52:16.380Z"
   },
   {
    "duration": 3,
    "start_time": "2022-04-13T14:52:25.373Z"
   },
   {
    "duration": 31,
    "start_time": "2022-04-13T14:52:42.436Z"
   },
   {
    "duration": 15290,
    "start_time": "2022-04-13T14:52:54.419Z"
   },
   {
    "duration": 10,
    "start_time": "2022-04-13T14:53:41.485Z"
   },
   {
    "duration": 14,
    "start_time": "2022-04-13T14:53:46.876Z"
   },
   {
    "duration": 49,
    "start_time": "2022-04-13T14:54:02.719Z"
   },
   {
    "duration": 1737,
    "start_time": "2022-04-13T14:54:08.004Z"
   },
   {
    "duration": 1546,
    "start_time": "2022-04-13T14:54:17.148Z"
   },
   {
    "duration": 820,
    "start_time": "2022-04-13T14:54:20.244Z"
   },
   {
    "duration": 11,
    "start_time": "2022-04-13T14:54:21.395Z"
   },
   {
    "duration": 63,
    "start_time": "2022-04-13T14:54:21.731Z"
   },
   {
    "duration": 4,
    "start_time": "2022-04-13T14:54:22.537Z"
   },
   {
    "duration": 183,
    "start_time": "2022-04-13T14:54:24.190Z"
   },
   {
    "duration": 8,
    "start_time": "2022-04-13T14:54:24.375Z"
   },
   {
    "duration": 29,
    "start_time": "2022-04-13T14:54:24.384Z"
   },
   {
    "duration": 4,
    "start_time": "2022-04-13T14:54:24.414Z"
   },
   {
    "duration": 96799,
    "start_time": "2022-04-13T14:54:27.538Z"
   },
   {
    "duration": 1568,
    "start_time": "2022-04-13T14:56:33.377Z"
   },
   {
    "duration": 778,
    "start_time": "2022-04-13T14:56:38.913Z"
   },
   {
    "duration": 10,
    "start_time": "2022-04-13T14:56:41.316Z"
   },
   {
    "duration": 60,
    "start_time": "2022-04-13T14:56:41.619Z"
   },
   {
    "duration": 4,
    "start_time": "2022-04-13T14:56:41.930Z"
   },
   {
    "duration": 175,
    "start_time": "2022-04-13T14:56:42.338Z"
   },
   {
    "duration": 7,
    "start_time": "2022-04-13T14:56:42.515Z"
   },
   {
    "duration": 6,
    "start_time": "2022-04-13T14:56:42.666Z"
   },
   {
    "duration": 3,
    "start_time": "2022-04-13T14:56:43.330Z"
   },
   {
    "duration": 96951,
    "start_time": "2022-04-13T14:56:44.146Z"
   },
   {
    "duration": 5,
    "start_time": "2022-04-13T14:59:02.007Z"
   },
   {
    "duration": 3,
    "start_time": "2022-04-13T14:59:02.583Z"
   },
   {
    "duration": 35,
    "start_time": "2022-04-13T14:59:02.974Z"
   },
   {
    "duration": 33,
    "start_time": "2022-04-13T14:59:03.709Z"
   },
   {
    "duration": 2,
    "start_time": "2022-04-13T14:59:04.125Z"
   },
   {
    "duration": 2,
    "start_time": "2022-04-13T14:59:04.478Z"
   },
   {
    "duration": 126,
    "start_time": "2022-04-13T14:59:04.799Z"
   },
   {
    "duration": 5,
    "start_time": "2022-04-13T14:59:12.507Z"
   },
   {
    "duration": 5,
    "start_time": "2022-04-13T14:59:18.282Z"
   },
   {
    "duration": 8846,
    "start_time": "2022-04-13T14:59:19.169Z"
   },
   {
    "duration": 274,
    "start_time": "2022-04-13T14:59:28.017Z"
   },
   {
    "duration": 2,
    "start_time": "2022-04-13T14:59:28.293Z"
   },
   {
    "duration": 2,
    "start_time": "2022-04-13T14:59:35.978Z"
   },
   {
    "duration": 212690,
    "start_time": "2022-04-13T14:59:37.185Z"
   },
   {
    "duration": 21783,
    "start_time": "2022-04-13T15:03:17.943Z"
   },
   {
    "duration": 1733,
    "start_time": "2022-04-13T15:06:31.930Z"
   },
   {
    "duration": 807,
    "start_time": "2022-04-13T15:06:33.665Z"
   },
   {
    "duration": 10,
    "start_time": "2022-04-13T15:06:34.523Z"
   },
   {
    "duration": 59,
    "start_time": "2022-04-13T15:06:35.282Z"
   },
   {
    "duration": 4,
    "start_time": "2022-04-13T15:06:37.122Z"
   },
   {
    "duration": 171,
    "start_time": "2022-04-13T15:06:37.731Z"
   },
   {
    "duration": 7,
    "start_time": "2022-04-13T15:06:38.050Z"
   },
   {
    "duration": 7,
    "start_time": "2022-04-13T15:06:38.242Z"
   },
   {
    "duration": 3,
    "start_time": "2022-04-13T15:06:39.179Z"
   },
   {
    "duration": 96613,
    "start_time": "2022-04-13T15:06:42.234Z"
   },
   {
    "duration": 4,
    "start_time": "2022-04-13T15:09:26.115Z"
   },
   {
    "duration": 4,
    "start_time": "2022-04-13T15:09:27.209Z"
   },
   {
    "duration": 41,
    "start_time": "2022-04-13T15:09:27.930Z"
   },
   {
    "duration": 37,
    "start_time": "2022-04-13T15:09:28.769Z"
   },
   {
    "duration": 3,
    "start_time": "2022-04-13T15:09:29.507Z"
   },
   {
    "duration": 2,
    "start_time": "2022-04-13T15:09:29.641Z"
   },
   {
    "duration": 5,
    "start_time": "2022-04-13T15:09:29.777Z"
   },
   {
    "duration": 8700,
    "start_time": "2022-04-13T15:09:29.913Z"
   },
   {
    "duration": 255,
    "start_time": "2022-04-13T15:09:38.615Z"
   },
   {
    "duration": 3,
    "start_time": "2022-04-13T15:09:38.872Z"
   },
   {
    "duration": 3,
    "start_time": "2022-04-13T15:09:44.440Z"
   },
   {
    "duration": 49271,
    "start_time": "2022-04-13T15:09:50.249Z"
   },
   {
    "duration": 3,
    "start_time": "2022-04-13T15:12:26.794Z"
   },
   {
    "duration": 25477,
    "start_time": "2022-04-13T15:12:33.673Z"
   },
   {
    "duration": 2,
    "start_time": "2022-04-13T15:28:09.999Z"
   },
   {
    "duration": 9661,
    "start_time": "2022-04-13T15:28:24.147Z"
   },
   {
    "duration": 3,
    "start_time": "2022-04-13T15:29:10.171Z"
   },
   {
    "duration": 3,
    "start_time": "2022-04-13T15:29:33.794Z"
   },
   {
    "duration": 4,
    "start_time": "2022-04-13T15:29:34.242Z"
   },
   {
    "duration": 7,
    "start_time": "2022-04-13T15:29:35.481Z"
   },
   {
    "duration": 3,
    "start_time": "2022-04-13T15:29:38.826Z"
   },
   {
    "duration": 2,
    "start_time": "2022-04-13T15:29:42.147Z"
   },
   {
    "duration": 46975,
    "start_time": "2022-04-13T15:29:49.219Z"
   },
   {
    "duration": 3,
    "start_time": "2022-04-13T15:31:26.066Z"
   },
   {
    "duration": 3960,
    "start_time": "2022-04-13T15:31:28.513Z"
   },
   {
    "duration": 8,
    "start_time": "2022-04-13T15:31:44.107Z"
   },
   {
    "duration": 3,
    "start_time": "2022-04-13T15:32:36.259Z"
   },
   {
    "duration": 2,
    "start_time": "2022-04-13T15:32:52.867Z"
   },
   {
    "duration": 48512,
    "start_time": "2022-04-13T15:32:53.217Z"
   },
   {
    "duration": 9,
    "start_time": "2022-04-13T15:33:41.731Z"
   },
   {
    "duration": 9,
    "start_time": "2022-04-13T15:33:47.641Z"
   },
   {
    "duration": 2,
    "start_time": "2022-04-13T15:33:49.674Z"
   },
   {
    "duration": 11,
    "start_time": "2022-04-13T15:33:51.169Z"
   },
   {
    "duration": 3,
    "start_time": "2022-04-13T15:35:37.212Z"
   },
   {
    "duration": 17,
    "start_time": "2022-04-13T15:35:56.083Z"
   },
   {
    "duration": 9,
    "start_time": "2022-04-13T15:36:10.747Z"
   },
   {
    "duration": 57452,
    "start_time": "2022-04-13T15:41:21.764Z"
   },
   {
    "duration": 429,
    "start_time": "2022-04-13T15:52:39.556Z"
   },
   {
    "duration": 3,
    "start_time": "2022-04-13T15:52:55.653Z"
   },
   {
    "duration": 10,
    "start_time": "2022-04-13T15:53:01.036Z"
   },
   {
    "duration": 4,
    "start_time": "2022-04-13T15:53:05.501Z"
   },
   {
    "duration": 12,
    "start_time": "2022-04-13T15:53:09.613Z"
   },
   {
    "duration": 7,
    "start_time": "2022-04-13T15:53:12.356Z"
   },
   {
    "duration": 57340,
    "start_time": "2022-04-13T15:53:34.069Z"
   },
   {
    "duration": 406,
    "start_time": "2022-04-13T15:54:38.447Z"
   },
   {
    "duration": 5,
    "start_time": "2022-04-13T15:55:08.941Z"
   },
   {
    "duration": 9,
    "start_time": "2022-04-13T15:55:13.532Z"
   },
   {
    "duration": 14,
    "start_time": "2022-04-13T15:55:26.924Z"
   },
   {
    "duration": 17,
    "start_time": "2022-04-13T15:55:33.900Z"
   },
   {
    "duration": 17,
    "start_time": "2022-04-13T15:55:37.350Z"
   },
   {
    "duration": 370,
    "start_time": "2022-04-13T15:55:54.876Z"
   },
   {
    "duration": 31,
    "start_time": "2022-04-13T15:55:59.020Z"
   },
   {
    "duration": 37,
    "start_time": "2022-04-13T15:56:11.261Z"
   },
   {
    "duration": 112795,
    "start_time": "2022-04-13T15:56:14.165Z"
   },
   {
    "duration": 1675,
    "start_time": "2022-04-13T15:59:03.905Z"
   },
   {
    "duration": 801,
    "start_time": "2022-04-13T15:59:06.640Z"
   },
   {
    "duration": 11,
    "start_time": "2022-04-13T15:59:08.271Z"
   },
   {
    "duration": 60,
    "start_time": "2022-04-13T15:59:08.712Z"
   },
   {
    "duration": 4,
    "start_time": "2022-04-13T15:59:09.351Z"
   },
   {
    "duration": 183,
    "start_time": "2022-04-13T15:59:09.928Z"
   },
   {
    "duration": 7,
    "start_time": "2022-04-13T15:59:17.609Z"
   },
   {
    "duration": 3,
    "start_time": "2022-04-13T15:59:19.808Z"
   },
   {
    "duration": 97959,
    "start_time": "2022-04-13T15:59:20.984Z"
   },
   {
    "duration": 52,
    "start_time": "2022-04-13T16:01:11.618Z"
   },
   {
    "duration": 48,
    "start_time": "2022-04-13T16:01:14.617Z"
   },
   {
    "duration": 404,
    "start_time": "2022-04-13T16:01:26.345Z"
   },
   {
    "duration": 4,
    "start_time": "2022-04-13T16:01:32.177Z"
   },
   {
    "duration": 2,
    "start_time": "2022-04-13T16:01:34.976Z"
   },
   {
    "duration": 29,
    "start_time": "2022-04-13T16:02:19.240Z"
   },
   {
    "duration": 32,
    "start_time": "2022-04-13T16:02:20.992Z"
   },
   {
    "duration": 5,
    "start_time": "2022-04-13T16:02:22.112Z"
   },
   {
    "duration": 9103,
    "start_time": "2022-04-13T16:02:23.224Z"
   },
   {
    "duration": 2,
    "start_time": "2022-04-13T16:02:34.385Z"
   },
   {
    "duration": 133,
    "start_time": "2022-04-13T16:03:00.736Z"
   },
   {
    "duration": 53184,
    "start_time": "2022-04-13T16:03:06.825Z"
   },
   {
    "duration": 10143,
    "start_time": "2022-04-13T16:04:14.664Z"
   },
   {
    "duration": 2,
    "start_time": "2022-04-13T16:04:45.233Z"
   },
   {
    "duration": 3,
    "start_time": "2022-04-13T16:05:35.385Z"
   },
   {
    "duration": 7,
    "start_time": "2022-04-13T16:05:58.681Z"
   },
   {
    "duration": 3,
    "start_time": "2022-04-13T16:06:00.113Z"
   },
   {
    "duration": 3,
    "start_time": "2022-04-13T16:06:02.376Z"
   },
   {
    "duration": 3,
    "start_time": "2022-04-13T16:06:17.355Z"
   },
   {
    "duration": 56389,
    "start_time": "2022-04-13T16:06:18.570Z"
   },
   {
    "duration": 2,
    "start_time": "2022-04-13T16:07:41.200Z"
   },
   {
    "duration": 26577,
    "start_time": "2022-04-13T16:07:53.058Z"
   },
   {
    "duration": 2,
    "start_time": "2022-04-13T16:08:57.202Z"
   },
   {
    "duration": 3,
    "start_time": "2022-04-13T16:10:19.577Z"
   },
   {
    "duration": 3,
    "start_time": "2022-04-13T16:10:57.689Z"
   },
   {
    "duration": 24,
    "start_time": "2022-04-13T16:11:09.736Z"
   },
   {
    "duration": 4,
    "start_time": "2022-04-13T16:11:29.306Z"
   },
   {
    "duration": 3,
    "start_time": "2022-04-13T16:11:40.457Z"
   },
   {
    "duration": 2,
    "start_time": "2022-04-13T16:11:40.873Z"
   },
   {
    "duration": 155972,
    "start_time": "2022-04-13T16:11:41.195Z"
   },
   {
    "duration": 14,
    "start_time": "2022-04-13T16:14:26.562Z"
   },
   {
    "duration": 4,
    "start_time": "2022-04-13T16:14:28.691Z"
   },
   {
    "duration": 3,
    "start_time": "2022-04-13T16:14:43.418Z"
   },
   {
    "duration": 25689,
    "start_time": "2022-04-13T16:14:44.313Z"
   },
   {
    "duration": 8,
    "start_time": "2022-04-13T16:15:16.114Z"
   },
   {
    "duration": 10,
    "start_time": "2022-04-13T16:16:15.233Z"
   },
   {
    "duration": 13,
    "start_time": "2022-04-13T16:16:29.512Z"
   },
   {
    "duration": 4,
    "start_time": "2022-04-13T16:16:32.985Z"
   },
   {
    "duration": 17,
    "start_time": "2022-04-13T16:16:56.217Z"
   },
   {
    "duration": 8,
    "start_time": "2022-04-13T16:17:07.402Z"
   },
   {
    "duration": 84,
    "start_time": "2022-04-13T16:17:19.930Z"
   },
   {
    "duration": 331,
    "start_time": "2022-04-13T16:17:28.762Z"
   },
   {
    "duration": 75,
    "start_time": "2022-04-13T16:17:48.609Z"
   },
   {
    "duration": 316,
    "start_time": "2022-04-13T16:18:04.866Z"
   },
   {
    "duration": 22,
    "start_time": "2022-04-13T16:18:08.690Z"
   },
   {
    "duration": 7633,
    "start_time": "2022-04-13T16:18:21.613Z"
   },
   {
    "duration": 1968,
    "start_time": "2022-04-15T21:18:58.914Z"
   },
   {
    "duration": 1254,
    "start_time": "2022-04-15T21:19:00.884Z"
   },
   {
    "duration": 13,
    "start_time": "2022-04-15T21:19:02.140Z"
   },
   {
    "duration": 80,
    "start_time": "2022-04-15T21:19:02.155Z"
   },
   {
    "duration": 26,
    "start_time": "2022-04-15T21:19:03.086Z"
   },
   {
    "duration": 230,
    "start_time": "2022-04-15T21:19:04.038Z"
   },
   {
    "duration": 4,
    "start_time": "2022-04-15T21:19:05.102Z"
   },
   {
    "duration": 188,
    "start_time": "2022-04-15T21:19:06.239Z"
   },
   {
    "duration": 8,
    "start_time": "2022-04-15T21:19:06.918Z"
   },
   {
    "duration": 4,
    "start_time": "2022-04-15T21:19:08.895Z"
   },
   {
    "duration": 137,
    "start_time": "2022-04-15T21:22:51.601Z"
   },
   {
    "duration": 3,
    "start_time": "2022-04-15T21:22:56.960Z"
   },
   {
    "duration": 3,
    "start_time": "2022-04-15T21:23:05.944Z"
   },
   {
    "duration": 17064,
    "start_time": "2022-04-15T21:23:08.048Z"
   },
   {
    "duration": 12,
    "start_time": "2022-04-15T21:23:33.945Z"
   },
   {
    "duration": 4,
    "start_time": "2022-04-15T21:23:48.905Z"
   },
   {
    "duration": 4,
    "start_time": "2022-04-15T21:23:51.961Z"
   },
   {
    "duration": 4,
    "start_time": "2022-04-15T21:24:32.881Z"
   },
   {
    "duration": 4802,
    "start_time": "2022-04-15T21:24:33.681Z"
   },
   {
    "duration": 5,
    "start_time": "2022-04-15T21:24:40.280Z"
   },
   {
    "duration": 5,
    "start_time": "2022-04-15T21:24:46.921Z"
   },
   {
    "duration": 5,
    "start_time": "2022-04-15T21:24:51.386Z"
   },
   {
    "duration": 4,
    "start_time": "2022-04-15T21:24:59.482Z"
   },
   {
    "duration": 4,
    "start_time": "2022-04-15T21:25:03.634Z"
   },
   {
    "duration": 5,
    "start_time": "2022-04-15T21:25:10.298Z"
   },
   {
    "duration": 3,
    "start_time": "2022-04-15T21:26:18.748Z"
   },
   {
    "duration": 36,
    "start_time": "2022-04-15T21:26:38.491Z"
   },
   {
    "duration": 53,
    "start_time": "2022-04-15T21:26:54.819Z"
   },
   {
    "duration": 4,
    "start_time": "2022-04-15T21:26:56.538Z"
   },
   {
    "duration": 13320,
    "start_time": "2022-04-15T21:27:00.426Z"
   },
   {
    "duration": 4,
    "start_time": "2022-04-15T21:27:35.603Z"
   },
   {
    "duration": 4,
    "start_time": "2022-04-15T21:31:03.932Z"
   },
   {
    "duration": 3,
    "start_time": "2022-04-15T21:32:13.006Z"
   },
   {
    "duration": 95,
    "start_time": "2022-04-15T21:32:44.172Z"
   },
   {
    "duration": 178,
    "start_time": "2022-04-15T21:34:30.006Z"
   },
   {
    "duration": 3,
    "start_time": "2022-04-15T21:34:33.741Z"
   },
   {
    "duration": 10,
    "start_time": "2022-04-15T21:34:59.126Z"
   },
   {
    "duration": 11,
    "start_time": "2022-04-15T21:35:30.951Z"
   },
   {
    "duration": 5,
    "start_time": "2022-04-15T21:35:54.197Z"
   },
   {
    "duration": 11,
    "start_time": "2022-04-15T21:36:02.486Z"
   },
   {
    "duration": 3,
    "start_time": "2022-04-15T21:36:06.598Z"
   },
   {
    "duration": 80,
    "start_time": "2022-04-15T21:36:30.133Z"
   },
   {
    "duration": 18,
    "start_time": "2022-04-15T21:36:41.741Z"
   },
   {
    "duration": 72,
    "start_time": "2022-04-15T21:36:45.022Z"
   },
   {
    "duration": 4,
    "start_time": "2022-04-15T21:36:48.662Z"
   },
   {
    "duration": 5,
    "start_time": "2022-04-15T21:36:52.133Z"
   },
   {
    "duration": 3,
    "start_time": "2022-04-15T21:37:42.014Z"
   },
   {
    "duration": 65,
    "start_time": "2022-04-15T21:37:42.358Z"
   },
   {
    "duration": 69,
    "start_time": "2022-04-15T21:37:48.518Z"
   },
   {
    "duration": 12,
    "start_time": "2022-04-15T21:42:01.287Z"
   },
   {
    "duration": 53,
    "start_time": "2022-04-15T21:42:35.997Z"
   },
   {
    "duration": 144,
    "start_time": "2022-04-15T21:43:44.383Z"
   },
   {
    "duration": 6,
    "start_time": "2022-04-15T21:48:09.352Z"
   },
   {
    "duration": 36,
    "start_time": "2022-04-15T21:48:40.783Z"
   },
   {
    "duration": 5,
    "start_time": "2022-04-15T21:49:09.082Z"
   },
   {
    "duration": 2229,
    "start_time": "2022-04-15T21:49:09.335Z"
   },
   {
    "duration": 6,
    "start_time": "2022-04-15T21:50:16.841Z"
   },
   {
    "duration": 2189,
    "start_time": "2022-04-15T21:50:17.033Z"
   },
   {
    "duration": 5,
    "start_time": "2022-04-15T21:50:54.801Z"
   },
   {
    "duration": 2300,
    "start_time": "2022-04-15T21:50:55.248Z"
   },
   {
    "duration": 6,
    "start_time": "2022-04-15T21:51:15.031Z"
   },
   {
    "duration": 2303,
    "start_time": "2022-04-15T21:51:15.472Z"
   },
   {
    "duration": 35,
    "start_time": "2022-04-15T21:51:24.025Z"
   },
   {
    "duration": 5,
    "start_time": "2022-04-15T21:51:51.712Z"
   },
   {
    "duration": 2201,
    "start_time": "2022-04-15T21:51:52.224Z"
   },
   {
    "duration": 19,
    "start_time": "2022-04-15T21:52:26.896Z"
   },
   {
    "duration": 3,
    "start_time": "2022-04-15T21:52:54.873Z"
   },
   {
    "duration": 153045,
    "start_time": "2022-04-15T21:53:02.496Z"
   },
   {
    "duration": 59848,
    "start_time": "2022-04-15T21:55:44.792Z"
   },
   {
    "duration": 17,
    "start_time": "2022-04-15T21:57:43.248Z"
   },
   {
    "duration": 3,
    "start_time": "2022-04-15T22:01:14.687Z"
   },
   {
    "duration": 139,
    "start_time": "2022-04-15T22:05:08.847Z"
   },
   {
    "duration": 149,
    "start_time": "2022-04-15T22:05:30.887Z"
   },
   {
    "duration": 152,
    "start_time": "2022-04-15T22:05:43.671Z"
   },
   {
    "duration": 61,
    "start_time": "2022-04-15T22:06:46.758Z"
   },
   {
    "duration": 5,
    "start_time": "2022-04-15T22:15:42.614Z"
   },
   {
    "duration": 3,
    "start_time": "2022-04-15T22:15:55.058Z"
   },
   {
    "duration": 19,
    "start_time": "2022-04-15T22:16:06.310Z"
   },
   {
    "duration": 4,
    "start_time": "2022-04-15T22:16:25.061Z"
   },
   {
    "duration": 2464,
    "start_time": "2022-04-15T22:16:43.622Z"
   },
   {
    "duration": 26,
    "start_time": "2022-04-15T22:17:04.031Z"
   },
   {
    "duration": 23,
    "start_time": "2022-04-15T22:17:11.998Z"
   },
   {
    "duration": 2398,
    "start_time": "2022-04-15T22:17:24.662Z"
   },
   {
    "duration": 2,
    "start_time": "2022-04-15T22:17:39.257Z"
   },
   {
    "duration": 5,
    "start_time": "2022-04-15T22:17:46.918Z"
   },
   {
    "duration": 4,
    "start_time": "2022-04-15T22:18:02.051Z"
   },
   {
    "duration": 3,
    "start_time": "2022-04-15T22:18:02.484Z"
   },
   {
    "duration": 5566,
    "start_time": "2022-04-15T22:18:09.405Z"
   },
   {
    "duration": 3,
    "start_time": "2022-04-15T22:18:19.117Z"
   },
   {
    "duration": 52988,
    "start_time": "2022-04-15T22:18:36.246Z"
   },
   {
    "duration": 14,
    "start_time": "2022-04-15T22:20:02.230Z"
   },
   {
    "duration": 5,
    "start_time": "2022-04-15T22:20:30.326Z"
   },
   {
    "duration": 18,
    "start_time": "2022-04-15T22:20:49.174Z"
   },
   {
    "duration": 15,
    "start_time": "2022-04-15T22:21:07.326Z"
   },
   {
    "duration": 4,
    "start_time": "2022-04-15T22:21:13.318Z"
   },
   {
    "duration": 6,
    "start_time": "2022-04-15T22:21:22.407Z"
   },
   {
    "duration": 6,
    "start_time": "2022-04-15T22:21:25.887Z"
   },
   {
    "duration": 9,
    "start_time": "2022-04-15T22:21:39.342Z"
   },
   {
    "duration": 9,
    "start_time": "2022-04-15T22:21:42.085Z"
   },
   {
    "duration": 6,
    "start_time": "2022-04-15T22:21:50.407Z"
   },
   {
    "duration": 7,
    "start_time": "2022-04-15T22:21:54.526Z"
   },
   {
    "duration": 7,
    "start_time": "2022-04-15T22:21:57.070Z"
   },
   {
    "duration": 6,
    "start_time": "2022-04-15T22:21:59.430Z"
   },
   {
    "duration": 11,
    "start_time": "2022-04-15T22:22:06.605Z"
   },
   {
    "duration": 12,
    "start_time": "2022-04-15T22:22:11.134Z"
   },
   {
    "duration": 15,
    "start_time": "2022-04-15T22:22:19.686Z"
   },
   {
    "duration": 23,
    "start_time": "2022-04-15T22:22:33.366Z"
   },
   {
    "duration": 4,
    "start_time": "2022-04-15T22:23:39.614Z"
   },
   {
    "duration": 5,
    "start_time": "2022-04-15T22:23:47.686Z"
   },
   {
    "duration": 15,
    "start_time": "2022-04-15T22:24:39.926Z"
   },
   {
    "duration": 23,
    "start_time": "2022-04-15T22:24:40.085Z"
   },
   {
    "duration": 15,
    "start_time": "2022-04-15T22:24:56.254Z"
   },
   {
    "duration": 34,
    "start_time": "2022-04-15T22:25:01.165Z"
   },
   {
    "duration": 27,
    "start_time": "2022-04-15T22:25:08.951Z"
   },
   {
    "duration": 22,
    "start_time": "2022-04-15T22:25:12.686Z"
   },
   {
    "duration": 16,
    "start_time": "2022-04-15T22:25:14.726Z"
   },
   {
    "duration": 14,
    "start_time": "2022-04-15T22:25:21.263Z"
   },
   {
    "duration": 13,
    "start_time": "2022-04-15T22:25:28.444Z"
   },
   {
    "duration": 58901,
    "start_time": "2022-04-15T22:25:35.743Z"
   },
   {
    "duration": 97,
    "start_time": "2022-04-15T22:26:34.647Z"
   },
   {
    "duration": 4,
    "start_time": "2022-04-15T22:30:01.992Z"
   },
   {
    "duration": 28076,
    "start_time": "2022-04-15T22:32:38.658Z"
   },
   {
    "duration": 0,
    "start_time": "2022-04-15T22:33:06.736Z"
   },
   {
    "duration": 60008,
    "start_time": "2022-04-15T22:33:13.528Z"
   },
   {
    "duration": 3,
    "start_time": "2022-04-15T22:34:13.539Z"
   },
   {
    "duration": 91,
    "start_time": "2022-04-15T22:34:13.543Z"
   },
   {
    "duration": 7,
    "start_time": "2022-04-15T22:34:13.636Z"
   },
   {
    "duration": 3,
    "start_time": "2022-04-15T22:34:13.645Z"
   },
   {
    "duration": 5,
    "start_time": "2022-04-15T22:34:13.649Z"
   },
   {
    "duration": 62087,
    "start_time": "2022-04-15T22:34:13.656Z"
   },
   {
    "duration": 3,
    "start_time": "2022-04-15T22:35:15.745Z"
   },
   {
    "duration": 25,
    "start_time": "2022-04-15T22:35:15.749Z"
   },
   {
    "duration": 17,
    "start_time": "2022-04-15T22:35:15.777Z"
   },
   {
    "duration": 393,
    "start_time": "2022-04-15T22:35:15.795Z"
   },
   {
    "duration": 26,
    "start_time": "2022-04-15T22:35:16.189Z"
   },
   {
    "duration": 23,
    "start_time": "2022-04-15T23:00:40.818Z"
   },
   {
    "duration": 6,
    "start_time": "2022-04-15T23:00:57.537Z"
   },
   {
    "duration": 2350,
    "start_time": "2022-04-15T23:01:00.601Z"
   },
   {
    "duration": 4,
    "start_time": "2022-04-15T23:01:07.594Z"
   },
   {
    "duration": 4,
    "start_time": "2022-04-15T23:01:11.898Z"
   },
   {
    "duration": 29,
    "start_time": "2022-04-15T23:01:42.169Z"
   },
   {
    "duration": 168903,
    "start_time": "2022-04-15T23:01:45.874Z"
   },
   {
    "duration": 30,
    "start_time": "2022-04-15T23:05:42.091Z"
   },
   {
    "duration": 3,
    "start_time": "2022-04-15T23:05:48.331Z"
   },
   {
    "duration": 304120,
    "start_time": "2022-04-15T23:06:00.313Z"
   },
   {
    "duration": 1801,
    "start_time": "2022-04-15T23:13:02.367Z"
   },
   {
    "duration": 921,
    "start_time": "2022-04-15T23:13:04.394Z"
   },
   {
    "duration": 12,
    "start_time": "2022-04-15T23:13:05.318Z"
   },
   {
    "duration": 70,
    "start_time": "2022-04-15T23:13:07.002Z"
   },
   {
    "duration": 28,
    "start_time": "2022-04-15T23:13:07.882Z"
   },
   {
    "duration": 259,
    "start_time": "2022-04-15T23:13:08.234Z"
   },
   {
    "duration": 4,
    "start_time": "2022-04-15T23:13:08.586Z"
   },
   {
    "duration": 203,
    "start_time": "2022-04-15T23:13:09.146Z"
   },
   {
    "duration": 9,
    "start_time": "2022-04-15T23:13:09.404Z"
   },
   {
    "duration": 3,
    "start_time": "2022-04-15T23:13:11.699Z"
   },
   {
    "duration": 4,
    "start_time": "2022-04-15T23:13:12.035Z"
   },
   {
    "duration": 6653,
    "start_time": "2022-04-15T23:13:14.923Z"
   },
   {
    "duration": 4,
    "start_time": "2022-04-15T23:13:29.653Z"
   },
   {
    "duration": 145,
    "start_time": "2022-04-15T23:14:49.460Z"
   },
   {
    "duration": 33,
    "start_time": "2022-04-15T23:14:58.685Z"
   },
   {
    "duration": 4,
    "start_time": "2022-04-15T23:14:59.284Z"
   },
   {
    "duration": 7499,
    "start_time": "2022-04-15T23:15:00.246Z"
   },
   {
    "duration": 4,
    "start_time": "2022-04-15T23:15:23.346Z"
   },
   {
    "duration": 303252,
    "start_time": "2022-04-15T23:15:38.524Z"
   },
   {
    "duration": 3,
    "start_time": "2022-04-15T23:20:41.778Z"
   },
   {
    "duration": 154,
    "start_time": "2022-04-15T23:20:41.783Z"
   },
   {
    "duration": 11,
    "start_time": "2022-04-15T23:20:52.317Z"
   },
   {
    "duration": 7807,
    "start_time": "2022-04-15T23:20:59.462Z"
   },
   {
    "duration": 13,
    "start_time": "2022-04-15T23:21:11.965Z"
   },
   {
    "duration": 55998,
    "start_time": "2022-04-15T23:21:18.636Z"
   },
   {
    "duration": 3,
    "start_time": "2022-04-15T23:23:16.526Z"
   },
   {
    "duration": 4,
    "start_time": "2022-04-15T23:23:18.788Z"
   },
   {
    "duration": 13,
    "start_time": "2022-04-15T23:23:19.462Z"
   },
   {
    "duration": 9,
    "start_time": "2022-04-15T23:23:26.832Z"
   },
   {
    "duration": 3,
    "start_time": "2022-04-15T23:23:28.071Z"
   },
   {
    "duration": 3,
    "start_time": "2022-04-15T23:23:28.454Z"
   },
   {
    "duration": 3,
    "start_time": "2022-04-15T23:23:30.118Z"
   },
   {
    "duration": 65129,
    "start_time": "2022-04-15T23:23:32.472Z"
   },
   {
    "duration": 4,
    "start_time": "2022-04-15T23:36:32.180Z"
   },
   {
    "duration": 4,
    "start_time": "2022-04-15T23:36:36.396Z"
   },
   {
    "duration": 848171,
    "start_time": "2022-04-15T23:36:45.901Z"
   },
   {
    "duration": 10,
    "start_time": "2022-04-15T23:50:54.074Z"
   },
   {
    "duration": 4,
    "start_time": "2022-04-15T23:54:47.981Z"
   },
   {
    "duration": 10,
    "start_time": "2022-04-15T23:54:48.844Z"
   },
   {
    "duration": 22,
    "start_time": "2022-04-15T23:54:51.908Z"
   },
   {
    "duration": 17,
    "start_time": "2022-04-15T23:54:56.948Z"
   },
   {
    "duration": 18,
    "start_time": "2022-04-15T23:55:06.163Z"
   },
   {
    "duration": 377,
    "start_time": "2022-04-15T23:55:10.496Z"
   },
   {
    "duration": 164231,
    "start_time": "2022-04-15T23:55:13.978Z"
   }
  ],
  "kernelspec": {
   "display_name": "Python 3 (ipykernel)",
   "language": "python",
   "name": "python3"
  },
  "language_info": {
   "codemirror_mode": {
    "name": "ipython",
    "version": 3
   },
   "file_extension": ".py",
   "mimetype": "text/x-python",
   "name": "python",
   "nbconvert_exporter": "python",
   "pygments_lexer": "ipython3",
   "version": "3.9.7"
  },
  "toc": {
   "base_numbering": 1,
   "nav_menu": {},
   "number_sections": true,
   "sideBar": true,
   "skip_h1_title": true,
   "title_cell": "Содержание",
   "title_sidebar": "Contents",
   "toc_cell": true,
   "toc_position": {
    "height": "calc(100% - 180px)",
    "left": "10px",
    "top": "150px",
    "width": "302.391px"
   },
   "toc_section_display": true,
   "toc_window_display": false
  },
  "varInspector": {
   "cols": {
    "lenName": 16,
    "lenType": 16,
    "lenVar": 40
   },
   "kernels_config": {
    "python": {
     "delete_cmd_postfix": "",
     "delete_cmd_prefix": "del ",
     "library": "var_list.py",
     "varRefreshCmd": "print(var_dic_list())"
    },
    "r": {
     "delete_cmd_postfix": ") ",
     "delete_cmd_prefix": "rm(",
     "library": "var_list.r",
     "varRefreshCmd": "cat(var_dic_list()) "
    }
   },
   "types_to_exclude": [
    "module",
    "function",
    "builtin_function_or_method",
    "instance",
    "_Feature"
   ],
   "window_display": false
  }
 },
 "nbformat": 4,
 "nbformat_minor": 2
}
